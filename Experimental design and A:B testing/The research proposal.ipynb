{
 "cells": [
  {
   "cell_type": "markdown",
   "metadata": {},
   "source": [
    "# Assignment \n",
    "\n",
    "Look back to the potential experiments in the previous assignment. For one of those experiments, write up the essential points of a research proposal for an improved version of that experiment."
   ]
  },
  {
   "attachments": {},
   "cell_type": "markdown",
   "metadata": {},
   "source": [
    "### The Problem \n",
    "\n",
    "The Sith Lords are concerned that their recruiting slogan, \"Give In to Your Anger,\" isn't very effective. \n",
    "\n",
    "### The Potential Solution \n",
    "Darth Vader develops an alternative slogan, \"Together We Can Rule the Galaxy.\" \n",
    "\n",
    "### The Method of Testing the Solution\n",
    "Have Darth Vader deliver the new slogan to one group of the 50 captured droids and the old slogan to the other group. Droid conversion should be monitor for the next two months. Since the variable of interest is their recruiting slogan, this is an A/B manipulation where a new or old slogan is presented. \n",
    "\n",
    "We will record the conversion rate for two months before the study and compare it to the conversion rate of the new and old slogan during the study. \n",
    "\n",
    "If the conversion rate in the next two months increases by 10% within the new slogan test group, we will conclude that the new slogan is effective and recommend the Sith Lords to use it as their recruiting slogan. If the conversion rate decreases among droid that were exposed to the new slogan, by more than one standard deviation, we will not continue to use the new slogan. However, if it only decreases within one standard deviation, we should continue to monitor the conversion rate for another two months. \n"
   ]
  }
 ],
 "metadata": {
  "kernelspec": {
   "display_name": "Python 3",
   "language": "python",
   "name": "python3"
  },
  "language_info": {
   "codemirror_mode": {
    "name": "ipython",
    "version": 3
   },
   "file_extension": ".py",
   "mimetype": "text/x-python",
   "name": "python",
   "nbconvert_exporter": "python",
   "pygments_lexer": "ipython3",
   "version": "3.7.0"
  }
 },
 "nbformat": 4,
 "nbformat_minor": 2
}
