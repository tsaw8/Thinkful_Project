{
 "cells": [
  {
   "cell_type": "markdown",
   "metadata": {},
   "source": [
    "# Assignments\n",
    "\n",
    "To help you find your bearings with regard to t-tests, calculate the t-values for the following numbers:\n"
   ]
  },
  {
   "cell_type": "code",
   "execution_count": 1,
   "metadata": {},
   "outputs": [],
   "source": [
    "import pandas as pd\n",
    "import numpy as np"
   ]
  },
  {
   "cell_type": "markdown",
   "metadata": {},
   "source": [
    "1. 𝑦1¯=5 ,  𝑦2¯=8 ,  𝑠1=1 ,  𝑠2=3 ,  𝑁1=200 ,  𝑁2=500 <br>\n",
    "t = (5-8)/((1/200) + (9/500))1/2 <br>\n",
    "t = -3/(0.005 + 0.018)1/2<br>\n",
    "t = -3/(0.023)1/2<br>\n",
    "t = - 19.78<br>"
   ]
  },
  {
   "cell_type": "markdown",
   "metadata": {},
   "source": [
    "2. 𝑦1¯=1090 ,  𝑦2¯=999 ,  𝑠1=400 ,  𝑠2=30 ,  𝑁1=900 ,  𝑁2=100 <br>\n",
    "t = (1090-999)/((160,000/900) + (900/100))1/2<br>\n",
    "t = 91/(177.7 + 9)1/2<br>\n",
    "t = 91/(186.7)1/2  <br>\n",
    "t = 6.66<br>\n"
   ]
  },
  {
   "cell_type": "markdown",
   "metadata": {},
   "source": [
    "3. 𝑦1¯=45 ,  𝑦2¯=40 ,  𝑠1=45 ,  𝑠2=40 ,  𝑁1=2000 ,  𝑁2=2000 <br>\n",
    "t = (45-40)/((2,025/2,000) + (1,600/2,000))1/2<br>\n",
    "t = 5/(1.012 + 0.8)1/2<br>\n",
    "t = 5/(1.812)1/2  <br>\n",
    "t = 3.73<br>"
   ]
  },
  {
   "cell_type": "code",
   "execution_count": 2,
   "metadata": {},
   "outputs": [
    {
     "data": {
      "text/html": [
       "<div>\n",
       "<style scoped>\n",
       "    .dataframe tbody tr th:only-of-type {\n",
       "        vertical-align: middle;\n",
       "    }\n",
       "\n",
       "    .dataframe tbody tr th {\n",
       "        vertical-align: top;\n",
       "    }\n",
       "\n",
       "    .dataframe thead th {\n",
       "        text-align: right;\n",
       "    }\n",
       "</style>\n",
       "<table border=\"1\" class=\"dataframe\">\n",
       "  <thead>\n",
       "    <tr style=\"text-align: right;\">\n",
       "      <th></th>\n",
       "      <th>y1</th>\n",
       "      <th>y2</th>\n",
       "      <th>s1</th>\n",
       "      <th>s2</th>\n",
       "      <th>N1</th>\n",
       "      <th>N2</th>\n",
       "    </tr>\n",
       "  </thead>\n",
       "  <tbody>\n",
       "    <tr>\n",
       "      <th>0</th>\n",
       "      <td>5</td>\n",
       "      <td>8</td>\n",
       "      <td>1</td>\n",
       "      <td>3</td>\n",
       "      <td>200</td>\n",
       "      <td>500</td>\n",
       "    </tr>\n",
       "    <tr>\n",
       "      <th>1</th>\n",
       "      <td>1090</td>\n",
       "      <td>999</td>\n",
       "      <td>400</td>\n",
       "      <td>30</td>\n",
       "      <td>900</td>\n",
       "      <td>100</td>\n",
       "    </tr>\n",
       "    <tr>\n",
       "      <th>2</th>\n",
       "      <td>45</td>\n",
       "      <td>40</td>\n",
       "      <td>45</td>\n",
       "      <td>40</td>\n",
       "      <td>2000</td>\n",
       "      <td>2000</td>\n",
       "    </tr>\n",
       "  </tbody>\n",
       "</table>\n",
       "</div>"
      ],
      "text/plain": [
       "     y1   y2   s1  s2    N1    N2\n",
       "0     5    8    1   3   200   500\n",
       "1  1090  999  400  30   900   100\n",
       "2    45   40   45  40  2000  2000"
      ]
     },
     "execution_count": 2,
     "metadata": {},
     "output_type": "execute_result"
    }
   ],
   "source": [
    "# Create dataframe for t-values\n",
    "\n",
    "df = pd.DataFrame({'y1':[5,1090,45],\n",
    "                  'y2':[8,999,40],\n",
    "                  's1':[1,400,45],\n",
    "                  's2':[3,30,40],\n",
    "                  'N1':[200,900,2000],\n",
    "                  'N2':[500,100,2000]})\n",
    "df.head()"
   ]
  },
  {
   "cell_type": "code",
   "execution_count": 3,
   "metadata": {},
   "outputs": [
    {
     "name": "stdout",
     "output_type": "stream",
     "text": [
      "[-19.78141420187361, 6.658536585365854, 3.7139067635410377]\n"
     ]
    }
   ],
   "source": [
    "# Create function to calculate t-values\n",
    "\n",
    "t_values = []\n",
    "for index, row in df.iterrows():\n",
    "    t = (row['y1'] - row['y2']) / ((row['s1']**2 /row['N1'] + row['s2']**2 / row['N2'])**0.5)\n",
    "    t_values.append(t)\n",
    "    \n",
    "print(t_values)"
   ]
  }
 ],
 "metadata": {
  "kernelspec": {
   "display_name": "Python 3",
   "language": "python",
   "name": "python3"
  },
  "language_info": {
   "codemirror_mode": {
    "name": "ipython",
    "version": 3
   },
   "file_extension": ".py",
   "mimetype": "text/x-python",
   "name": "python",
   "nbconvert_exporter": "python",
   "pygments_lexer": "ipython3",
   "version": "3.7.0"
  }
 },
 "nbformat": 4,
 "nbformat_minor": 2
}
