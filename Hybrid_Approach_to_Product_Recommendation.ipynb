{
  "nbformat": 4,
  "nbformat_minor": 0,
  "metadata": {
    "colab": {
      "name": "Hybrid Approach to Product Recommendation.ipynb",
      "provenance": [],
      "collapsed_sections": [],
      "machine_shape": "hm",
      "include_colab_link": true
    },
    "kernelspec": {
      "name": "python3",
      "display_name": "Python 3"
    }
  },
  "cells": [
    {
      "cell_type": "markdown",
      "metadata": {
        "id": "view-in-github",
        "colab_type": "text"
      },
      "source": [
        "<a href=\"https://colab.research.google.com/github/tsaw8/Thinkful_Project/blob/master/Hybrid_Approach_to_Product_Recommendation.ipynb\" target=\"_parent\"><img src=\"https://colab.research.google.com/assets/colab-badge.svg\" alt=\"Open In Colab\"/></a>"
      ]
    },
    {
      "cell_type": "markdown",
      "metadata": {
        "id": "GqReLFaSzDIe",
        "colab_type": "text"
      },
      "source": [
        "# Product Recommendation for Ecommerce Website\n",
        "\n",
        "## Problem Description \n",
        "According to Statista, over 4.33 billion people access the internet globally. Many service providers and retailers have moved online and the popularity of ecommerce platforms continue to rise . Unlike physical stores, online retailers are not restricted to limited shelf space. Retailers are able to sell a wide variety of products online because the costs of logistics is lower. However, the huge amount of goods available makes it difficult for customers to navigate through their product of interest. To influence the user’s buying decision and increase the company’s revenue, we will create a product recommender system to provide a suggested list of items with the current item being viewed.\n",
        "\n",
        "## Dataset Overview\n",
        "Retailrocket, a service provider that creates product recommendation engine for eCommerce platform, has released data from a real-world ecommerces website on Kaggle. \n",
        "\n",
        "The dataset contains three tables: \n",
        "\n",
        "1. Events: captures visitors’ behavioral data that was collected over 4.5 months in 2015 \n",
        " - Visitor can perform three types of events: view, add-to-cart, or transaction\n",
        " - There are 2,756,101 events and 1,407, 580 unique visitors\n",
        "\n",
        "2. Item Properties: provides a concatenated snapshots of  417,053 unique items for every week during the collection period\n",
        " - Consists of four columns (timestamp, itemid, property, and value)\n",
        " - There is a total of 20,275,902 rows of item properties\n",
        " - All values of properties were hashed, except ‘categoryid’ and ‘available’\n",
        "\n",
        "3. Category Tree: consists of 1,669 rows and two columns with a categoryid and its corresponding parentid\n",
        " - Not all categoryid have a parentid\n",
        "\n",
        "## Methodology\n",
        "#### Data Preprocessing \n",
        "As mentioned above, item properties are hashed due to privacy issues, which makes it difficult to interpret results if a content-based approach was taken. Instead, we can recommend item pairs that were purchased by previous customers from the events table. With the assumption that the data is sparse, we could clean the data by removing users with no activity and items with only a single view or activity. \n",
        "\n",
        "#### Model\n",
        "LightFM is a python recommendation algorithm that can work with the implicit feedback in our dataset. It also incorporates item and user properties of collaborative filtering into a matrix factorization to reduce dimensionality. We would also need to construct an user-item or item-property matrix that would be used for train and test split. \n",
        "\n",
        "#### Evaluation \n",
        "We will use classification accuracy metrics, like ROC AUC, to assess the recommendation algorithm ability classifying relevant and irrelevant items. Recall will be weighted more than precision since we are most interested in the probability that a relevant item is recommended.\n"
      ]
    },
    {
      "cell_type": "markdown",
      "metadata": {
        "id": "Sr3kg2ZA3Kqj",
        "colab_type": "text"
      },
      "source": [
        "## Import the Dependencies"
      ]
    },
    {
      "cell_type": "code",
      "metadata": {
        "id": "opBq0E2m91nu",
        "colab_type": "code",
        "colab": {}
      },
      "source": [
        "!pip install -q lightfm"
      ],
      "execution_count": 0,
      "outputs": []
    },
    {
      "cell_type": "code",
      "metadata": {
        "id": "L9MN6u5G84Fd",
        "colab_type": "code",
        "colab": {}
      },
      "source": [
        "# Data processing  \n",
        "import numpy as np\n",
        "import pandas as pd \n",
        "\n",
        "# Visualization \n",
        "import matplotlib.pyplot as plt\n",
        "import seaborn as sns\n",
        "\n",
        "# Pre-processing\n",
        "from scipy.sparse import csr_matrix\n",
        "import scipy.sparse as sp\n",
        "from scipy.sparse import vstack\n",
        "from scipy import sparse\n",
        "from scipy.sparse.linalg import spsolve\n",
        "\n",
        "# Model\n",
        "from subprocess import check_output\n",
        "from sklearn.model_selection import train_test_split\n",
        "\n",
        "from lightfm import LightFM\n",
        "import scipy.sparse as sp\n",
        "from scipy.sparse import vstack\n",
        "\n",
        "# Other tools \n",
        "import os \n",
        "import operator\n",
        "from datetime import *"
      ],
      "execution_count": 0,
      "outputs": []
    },
    {
      "cell_type": "code",
      "metadata": {
        "id": "PiFeG_d7L28R",
        "colab_type": "code",
        "colab": {}
      },
      "source": [
        "# Python tools\n",
        "#import surprise \n",
        "#import implicit\n",
        "#import LightFM\n",
        "#import pyspark.ml.recommendation"
      ],
      "execution_count": 0,
      "outputs": []
    },
    {
      "cell_type": "markdown",
      "metadata": {
        "id": "8gHv9kqu3A5V",
        "colab_type": "text"
      },
      "source": [
        "## Load the Data"
      ]
    },
    {
      "cell_type": "code",
      "metadata": {
        "id": "JE1n2O4R9E9T",
        "colab_type": "code",
        "outputId": "9add6986-d3c7-44ab-c854-63ce361f70cb",
        "colab": {
          "base_uri": "https://localhost:8080/",
          "height": 54
        }
      },
      "source": [
        "# Connect to Google Drive\n",
        "from google.colab import drive\n",
        "drive.mount('/content/gdrive')"
      ],
      "execution_count": 0,
      "outputs": [
        {
          "output_type": "stream",
          "text": [
            "Drive already mounted at /content/gdrive; to attempt to forcibly remount, call drive.mount(\"/content/gdrive\", force_remount=True).\n"
          ],
          "name": "stdout"
        }
      ]
    },
    {
      "cell_type": "code",
      "metadata": {
        "id": "t6TePzMN9FEm",
        "colab_type": "code",
        "outputId": "e032ad75-b21d-42f0-fd16-afd72f50d8dd",
        "colab": {
          "base_uri": "https://localhost:8080/",
          "height": 119
        }
      },
      "source": [
        "# Check for data \n",
        "!ls '/content/gdrive/My Drive/Colab Datasets/ecommerce_data'"
      ],
      "execution_count": 0,
      "outputs": [
        {
          "output_type": "stream",
          "text": [
            " category_tree.csv\n",
            "'E-Commerce Recommender System.ipynb'\n",
            " events.csv\n",
            "'Hybrid Approach to Product Recommendation.ipynb'\n",
            " item_properties_part1.csv\n",
            " item_properties_part2.csv\n"
          ],
          "name": "stdout"
        }
      ]
    },
    {
      "cell_type": "code",
      "metadata": {
        "id": "OcG0UMaa9FIk",
        "colab_type": "code",
        "colab": {}
      },
      "source": [
        "# Create path for files \n",
        "events = pd.read_csv('/content/gdrive/My Drive/Colab Datasets/ecommerce_data/events.csv')\n",
        "category_tree = pd.read_csv('/content/gdrive/My Drive/Colab Datasets/ecommerce_data/category_tree.csv')\n",
        "item_prop_1 = pd.read_csv('/content/gdrive/My Drive/Colab Datasets/ecommerce_data/item_properties_part1.csv')\n",
        "item_prop_2 = pd.read_csv('/content/gdrive/My Drive/Colab Datasets/ecommerce_data/item_properties_part2.csv')"
      ],
      "execution_count": 0,
      "outputs": []
    },
    {
      "cell_type": "markdown",
      "metadata": {
        "id": "LEE0A7SI5CpS",
        "colab_type": "text"
      },
      "source": [
        "First, let's take a look at the events table. "
      ]
    },
    {
      "cell_type": "code",
      "metadata": {
        "id": "uwnJymbI5Be-",
        "colab_type": "code",
        "outputId": "e3330581-b6e4-45c5-cc42-68dfa7428c2a",
        "colab": {
          "base_uri": "https://localhost:8080/",
          "height": 204
        }
      },
      "source": [
        "# Format timestamp\n",
        "events['timestamp'] = events['timestamp'].apply(lambda x: datetime.fromtimestamp(x/1000))\n",
        "events.head()"
      ],
      "execution_count": 0,
      "outputs": [
        {
          "output_type": "execute_result",
          "data": {
            "text/html": [
              "<div>\n",
              "<style scoped>\n",
              "    .dataframe tbody tr th:only-of-type {\n",
              "        vertical-align: middle;\n",
              "    }\n",
              "\n",
              "    .dataframe tbody tr th {\n",
              "        vertical-align: top;\n",
              "    }\n",
              "\n",
              "    .dataframe thead th {\n",
              "        text-align: right;\n",
              "    }\n",
              "</style>\n",
              "<table border=\"1\" class=\"dataframe\">\n",
              "  <thead>\n",
              "    <tr style=\"text-align: right;\">\n",
              "      <th></th>\n",
              "      <th>timestamp</th>\n",
              "      <th>visitorid</th>\n",
              "      <th>event</th>\n",
              "      <th>itemid</th>\n",
              "      <th>transactionid</th>\n",
              "    </tr>\n",
              "  </thead>\n",
              "  <tbody>\n",
              "    <tr>\n",
              "      <th>0</th>\n",
              "      <td>2015-06-02 05:02:12.117</td>\n",
              "      <td>257597</td>\n",
              "      <td>view</td>\n",
              "      <td>355908</td>\n",
              "      <td>NaN</td>\n",
              "    </tr>\n",
              "    <tr>\n",
              "      <th>1</th>\n",
              "      <td>2015-06-02 05:50:14.164</td>\n",
              "      <td>992329</td>\n",
              "      <td>view</td>\n",
              "      <td>248676</td>\n",
              "      <td>NaN</td>\n",
              "    </tr>\n",
              "    <tr>\n",
              "      <th>2</th>\n",
              "      <td>2015-06-02 05:13:19.827</td>\n",
              "      <td>111016</td>\n",
              "      <td>view</td>\n",
              "      <td>318965</td>\n",
              "      <td>NaN</td>\n",
              "    </tr>\n",
              "    <tr>\n",
              "      <th>3</th>\n",
              "      <td>2015-06-02 05:12:35.914</td>\n",
              "      <td>483717</td>\n",
              "      <td>view</td>\n",
              "      <td>253185</td>\n",
              "      <td>NaN</td>\n",
              "    </tr>\n",
              "    <tr>\n",
              "      <th>4</th>\n",
              "      <td>2015-06-02 05:02:17.106</td>\n",
              "      <td>951259</td>\n",
              "      <td>view</td>\n",
              "      <td>367447</td>\n",
              "      <td>NaN</td>\n",
              "    </tr>\n",
              "  </tbody>\n",
              "</table>\n",
              "</div>"
            ],
            "text/plain": [
              "                timestamp  visitorid event  itemid  transactionid\n",
              "0 2015-06-02 05:02:12.117     257597  view  355908            NaN\n",
              "1 2015-06-02 05:50:14.164     992329  view  248676            NaN\n",
              "2 2015-06-02 05:13:19.827     111016  view  318965            NaN\n",
              "3 2015-06-02 05:12:35.914     483717  view  253185            NaN\n",
              "4 2015-06-02 05:02:17.106     951259  view  367447            NaN"
            ]
          },
          "metadata": {
            "tags": []
          },
          "execution_count": 7
        }
      ]
    },
    {
      "cell_type": "code",
      "metadata": {
        "id": "Gt9kGKMD5BnU",
        "colab_type": "code",
        "outputId": "25ed2e92-0a01-4638-9fcf-eb35c7b739dd",
        "colab": {
          "base_uri": "https://localhost:8080/",
          "height": 34
        }
      },
      "source": [
        "# Shape\n",
        "events.shape"
      ],
      "execution_count": 0,
      "outputs": [
        {
          "output_type": "execute_result",
          "data": {
            "text/plain": [
              "(2756101, 5)"
            ]
          },
          "metadata": {
            "tags": []
          },
          "execution_count": 8
        }
      ]
    },
    {
      "cell_type": "code",
      "metadata": {
        "id": "yvZp1uKB5Buc",
        "colab_type": "code",
        "outputId": "41db202c-f551-4de1-cd26-5c688c0402f8",
        "colab": {
          "base_uri": "https://localhost:8080/",
          "height": 452
        }
      },
      "source": [
        "# Statistics\n",
        "events.describe(include='all')"
      ],
      "execution_count": 0,
      "outputs": [
        {
          "output_type": "execute_result",
          "data": {
            "text/html": [
              "<div>\n",
              "<style scoped>\n",
              "    .dataframe tbody tr th:only-of-type {\n",
              "        vertical-align: middle;\n",
              "    }\n",
              "\n",
              "    .dataframe tbody tr th {\n",
              "        vertical-align: top;\n",
              "    }\n",
              "\n",
              "    .dataframe thead th {\n",
              "        text-align: right;\n",
              "    }\n",
              "</style>\n",
              "<table border=\"1\" class=\"dataframe\">\n",
              "  <thead>\n",
              "    <tr style=\"text-align: right;\">\n",
              "      <th></th>\n",
              "      <th>timestamp</th>\n",
              "      <th>visitorid</th>\n",
              "      <th>event</th>\n",
              "      <th>itemid</th>\n",
              "      <th>transactionid</th>\n",
              "    </tr>\n",
              "  </thead>\n",
              "  <tbody>\n",
              "    <tr>\n",
              "      <th>count</th>\n",
              "      <td>2756101</td>\n",
              "      <td>2.756101e+06</td>\n",
              "      <td>2756101</td>\n",
              "      <td>2.756101e+06</td>\n",
              "      <td>22457.000000</td>\n",
              "    </tr>\n",
              "    <tr>\n",
              "      <th>unique</th>\n",
              "      <td>2750455</td>\n",
              "      <td>NaN</td>\n",
              "      <td>3</td>\n",
              "      <td>NaN</td>\n",
              "      <td>NaN</td>\n",
              "    </tr>\n",
              "    <tr>\n",
              "      <th>top</th>\n",
              "      <td>2015-06-17 19:13:47.120000</td>\n",
              "      <td>NaN</td>\n",
              "      <td>view</td>\n",
              "      <td>NaN</td>\n",
              "      <td>NaN</td>\n",
              "    </tr>\n",
              "    <tr>\n",
              "      <th>freq</th>\n",
              "      <td>6</td>\n",
              "      <td>NaN</td>\n",
              "      <td>2664312</td>\n",
              "      <td>NaN</td>\n",
              "      <td>NaN</td>\n",
              "    </tr>\n",
              "    <tr>\n",
              "      <th>first</th>\n",
              "      <td>2015-05-03 03:00:04.384000</td>\n",
              "      <td>NaN</td>\n",
              "      <td>NaN</td>\n",
              "      <td>NaN</td>\n",
              "      <td>NaN</td>\n",
              "    </tr>\n",
              "    <tr>\n",
              "      <th>last</th>\n",
              "      <td>2015-09-18 02:59:47.788000</td>\n",
              "      <td>NaN</td>\n",
              "      <td>NaN</td>\n",
              "      <td>NaN</td>\n",
              "      <td>NaN</td>\n",
              "    </tr>\n",
              "    <tr>\n",
              "      <th>mean</th>\n",
              "      <td>NaN</td>\n",
              "      <td>7.019229e+05</td>\n",
              "      <td>NaN</td>\n",
              "      <td>2.349225e+05</td>\n",
              "      <td>8826.497796</td>\n",
              "    </tr>\n",
              "    <tr>\n",
              "      <th>std</th>\n",
              "      <td>NaN</td>\n",
              "      <td>4.056875e+05</td>\n",
              "      <td>NaN</td>\n",
              "      <td>1.341954e+05</td>\n",
              "      <td>5098.996290</td>\n",
              "    </tr>\n",
              "    <tr>\n",
              "      <th>min</th>\n",
              "      <td>NaN</td>\n",
              "      <td>0.000000e+00</td>\n",
              "      <td>NaN</td>\n",
              "      <td>3.000000e+00</td>\n",
              "      <td>0.000000</td>\n",
              "    </tr>\n",
              "    <tr>\n",
              "      <th>25%</th>\n",
              "      <td>NaN</td>\n",
              "      <td>3.505660e+05</td>\n",
              "      <td>NaN</td>\n",
              "      <td>1.181200e+05</td>\n",
              "      <td>4411.000000</td>\n",
              "    </tr>\n",
              "    <tr>\n",
              "      <th>50%</th>\n",
              "      <td>NaN</td>\n",
              "      <td>7.020600e+05</td>\n",
              "      <td>NaN</td>\n",
              "      <td>2.360670e+05</td>\n",
              "      <td>8813.000000</td>\n",
              "    </tr>\n",
              "    <tr>\n",
              "      <th>75%</th>\n",
              "      <td>NaN</td>\n",
              "      <td>1.053437e+06</td>\n",
              "      <td>NaN</td>\n",
              "      <td>3.507150e+05</td>\n",
              "      <td>13224.000000</td>\n",
              "    </tr>\n",
              "    <tr>\n",
              "      <th>max</th>\n",
              "      <td>NaN</td>\n",
              "      <td>1.407579e+06</td>\n",
              "      <td>NaN</td>\n",
              "      <td>4.668670e+05</td>\n",
              "      <td>17671.000000</td>\n",
              "    </tr>\n",
              "  </tbody>\n",
              "</table>\n",
              "</div>"
            ],
            "text/plain": [
              "                         timestamp     visitorid  ...        itemid  transactionid\n",
              "count                      2756101  2.756101e+06  ...  2.756101e+06   22457.000000\n",
              "unique                     2750455           NaN  ...           NaN            NaN\n",
              "top     2015-06-17 19:13:47.120000           NaN  ...           NaN            NaN\n",
              "freq                             6           NaN  ...           NaN            NaN\n",
              "first   2015-05-03 03:00:04.384000           NaN  ...           NaN            NaN\n",
              "last    2015-09-18 02:59:47.788000           NaN  ...           NaN            NaN\n",
              "mean                           NaN  7.019229e+05  ...  2.349225e+05    8826.497796\n",
              "std                            NaN  4.056875e+05  ...  1.341954e+05    5098.996290\n",
              "min                            NaN  0.000000e+00  ...  3.000000e+00       0.000000\n",
              "25%                            NaN  3.505660e+05  ...  1.181200e+05    4411.000000\n",
              "50%                            NaN  7.020600e+05  ...  2.360670e+05    8813.000000\n",
              "75%                            NaN  1.053437e+06  ...  3.507150e+05   13224.000000\n",
              "max                            NaN  1.407579e+06  ...  4.668670e+05   17671.000000\n",
              "\n",
              "[13 rows x 5 columns]"
            ]
          },
          "metadata": {
            "tags": []
          },
          "execution_count": 9
        }
      ]
    },
    {
      "cell_type": "code",
      "metadata": {
        "id": "nCCLKNCz6Hfw",
        "colab_type": "code",
        "outputId": "083d9892-f7ee-4878-d384-4d28a862e81e",
        "colab": {
          "base_uri": "https://localhost:8080/",
          "height": 51
        }
      },
      "source": [
        "# All visitors\n",
        "print('Total visitors:', events['visitorid'].size)\n",
        "\n",
        "# Unique visitors\n",
        "print('Unique visitor_ids:', events['visitorid'].nunique())"
      ],
      "execution_count": 0,
      "outputs": [
        {
          "output_type": "stream",
          "text": [
            "Total visitors: 2756101\n",
            "Unique visitor_ids: 1407580\n"
          ],
          "name": "stdout"
        }
      ]
    },
    {
      "cell_type": "markdown",
      "metadata": {
        "id": "xzZFcSCw5pwy",
        "colab_type": "text"
      },
      "source": [
        "__Observation__: The data was collected from June to September in 2015. The events table contains over 2.7 million rows and more than 1.4 million unique visitors. Most visitors view products. "
      ]
    },
    {
      "cell_type": "markdown",
      "metadata": {
        "id": "p6z317zE3pDs",
        "colab_type": "text"
      },
      "source": [
        "Next, we'll merge the item property tables and convert timestamp to datetime format. "
      ]
    },
    {
      "cell_type": "code",
      "metadata": {
        "id": "7mmCpReR9FLW",
        "colab_type": "code",
        "colab": {}
      },
      "source": [
        "# Merge items tables \n",
        "items = pd.concat([item_prop_1,item_prop_2])"
      ],
      "execution_count": 0,
      "outputs": []
    },
    {
      "cell_type": "code",
      "metadata": {
        "id": "-_CwZ03R9FOj",
        "colab_type": "code",
        "outputId": "9308c445-06e2-4a52-a2ed-10a69275bb06",
        "colab": {
          "base_uri": "https://localhost:8080/",
          "height": 204
        }
      },
      "source": [
        "# Format timestamp\n",
        "items['timestamp'] = items['timestamp'].apply(lambda x: datetime.fromtimestamp(x/1000))\n",
        "items.head()"
      ],
      "execution_count": 0,
      "outputs": [
        {
          "output_type": "execute_result",
          "data": {
            "text/html": [
              "<div>\n",
              "<style scoped>\n",
              "    .dataframe tbody tr th:only-of-type {\n",
              "        vertical-align: middle;\n",
              "    }\n",
              "\n",
              "    .dataframe tbody tr th {\n",
              "        vertical-align: top;\n",
              "    }\n",
              "\n",
              "    .dataframe thead th {\n",
              "        text-align: right;\n",
              "    }\n",
              "</style>\n",
              "<table border=\"1\" class=\"dataframe\">\n",
              "  <thead>\n",
              "    <tr style=\"text-align: right;\">\n",
              "      <th></th>\n",
              "      <th>timestamp</th>\n",
              "      <th>itemid</th>\n",
              "      <th>property</th>\n",
              "      <th>value</th>\n",
              "    </tr>\n",
              "  </thead>\n",
              "  <tbody>\n",
              "    <tr>\n",
              "      <th>0</th>\n",
              "      <td>2015-06-28 03:00:00</td>\n",
              "      <td>460429</td>\n",
              "      <td>categoryid</td>\n",
              "      <td>1338</td>\n",
              "    </tr>\n",
              "    <tr>\n",
              "      <th>1</th>\n",
              "      <td>2015-09-06 03:00:00</td>\n",
              "      <td>206783</td>\n",
              "      <td>888</td>\n",
              "      <td>1116713 960601 n277.200</td>\n",
              "    </tr>\n",
              "    <tr>\n",
              "      <th>2</th>\n",
              "      <td>2015-08-09 03:00:00</td>\n",
              "      <td>395014</td>\n",
              "      <td>400</td>\n",
              "      <td>n552.000 639502 n720.000 424566</td>\n",
              "    </tr>\n",
              "    <tr>\n",
              "      <th>3</th>\n",
              "      <td>2015-05-10 03:00:00</td>\n",
              "      <td>59481</td>\n",
              "      <td>790</td>\n",
              "      <td>n15360.000</td>\n",
              "    </tr>\n",
              "    <tr>\n",
              "      <th>4</th>\n",
              "      <td>2015-05-17 03:00:00</td>\n",
              "      <td>156781</td>\n",
              "      <td>917</td>\n",
              "      <td>828513</td>\n",
              "    </tr>\n",
              "  </tbody>\n",
              "</table>\n",
              "</div>"
            ],
            "text/plain": [
              "            timestamp  itemid    property                            value\n",
              "0 2015-06-28 03:00:00  460429  categoryid                             1338\n",
              "1 2015-09-06 03:00:00  206783         888          1116713 960601 n277.200\n",
              "2 2015-08-09 03:00:00  395014         400  n552.000 639502 n720.000 424566\n",
              "3 2015-05-10 03:00:00   59481         790                       n15360.000\n",
              "4 2015-05-17 03:00:00  156781         917                           828513"
            ]
          },
          "metadata": {
            "tags": []
          },
          "execution_count": 12
        }
      ]
    },
    {
      "cell_type": "code",
      "metadata": {
        "id": "TelbH8th9FV-",
        "colab_type": "code",
        "outputId": "7fe30fbf-1dc9-47e2-9b6e-9f0b54d68842",
        "colab": {
          "base_uri": "https://localhost:8080/",
          "height": 34
        }
      },
      "source": [
        "# Shape\n",
        "items.shape"
      ],
      "execution_count": 0,
      "outputs": [
        {
          "output_type": "execute_result",
          "data": {
            "text/plain": [
              "(20275902, 4)"
            ]
          },
          "metadata": {
            "tags": []
          },
          "execution_count": 13
        }
      ]
    },
    {
      "cell_type": "code",
      "metadata": {
        "id": "jyuaBfNR9FcA",
        "colab_type": "code",
        "outputId": "09798123-67f8-4866-cadd-2c08377d7d33",
        "colab": {
          "base_uri": "https://localhost:8080/",
          "height": 452
        }
      },
      "source": [
        "# Statistics\n",
        "items.describe(include='all')"
      ],
      "execution_count": 0,
      "outputs": [
        {
          "output_type": "execute_result",
          "data": {
            "text/html": [
              "<div>\n",
              "<style scoped>\n",
              "    .dataframe tbody tr th:only-of-type {\n",
              "        vertical-align: middle;\n",
              "    }\n",
              "\n",
              "    .dataframe tbody tr th {\n",
              "        vertical-align: top;\n",
              "    }\n",
              "\n",
              "    .dataframe thead th {\n",
              "        text-align: right;\n",
              "    }\n",
              "</style>\n",
              "<table border=\"1\" class=\"dataframe\">\n",
              "  <thead>\n",
              "    <tr style=\"text-align: right;\">\n",
              "      <th></th>\n",
              "      <th>timestamp</th>\n",
              "      <th>itemid</th>\n",
              "      <th>property</th>\n",
              "      <th>value</th>\n",
              "    </tr>\n",
              "  </thead>\n",
              "  <tbody>\n",
              "    <tr>\n",
              "      <th>count</th>\n",
              "      <td>20275902</td>\n",
              "      <td>2.027590e+07</td>\n",
              "      <td>20275902</td>\n",
              "      <td>20275902</td>\n",
              "    </tr>\n",
              "    <tr>\n",
              "      <th>unique</th>\n",
              "      <td>18</td>\n",
              "      <td>NaN</td>\n",
              "      <td>1104</td>\n",
              "      <td>1966868</td>\n",
              "    </tr>\n",
              "    <tr>\n",
              "      <th>top</th>\n",
              "      <td>2015-05-10 03:00:00</td>\n",
              "      <td>NaN</td>\n",
              "      <td>888</td>\n",
              "      <td>769062</td>\n",
              "    </tr>\n",
              "    <tr>\n",
              "      <th>freq</th>\n",
              "      <td>3012756</td>\n",
              "      <td>NaN</td>\n",
              "      <td>3000398</td>\n",
              "      <td>1537247</td>\n",
              "    </tr>\n",
              "    <tr>\n",
              "      <th>first</th>\n",
              "      <td>2015-05-10 03:00:00</td>\n",
              "      <td>NaN</td>\n",
              "      <td>NaN</td>\n",
              "      <td>NaN</td>\n",
              "    </tr>\n",
              "    <tr>\n",
              "      <th>last</th>\n",
              "      <td>2015-09-13 03:00:00</td>\n",
              "      <td>NaN</td>\n",
              "      <td>NaN</td>\n",
              "      <td>NaN</td>\n",
              "    </tr>\n",
              "    <tr>\n",
              "      <th>mean</th>\n",
              "      <td>NaN</td>\n",
              "      <td>2.333904e+05</td>\n",
              "      <td>NaN</td>\n",
              "      <td>NaN</td>\n",
              "    </tr>\n",
              "    <tr>\n",
              "      <th>std</th>\n",
              "      <td>NaN</td>\n",
              "      <td>1.348452e+05</td>\n",
              "      <td>NaN</td>\n",
              "      <td>NaN</td>\n",
              "    </tr>\n",
              "    <tr>\n",
              "      <th>min</th>\n",
              "      <td>NaN</td>\n",
              "      <td>0.000000e+00</td>\n",
              "      <td>NaN</td>\n",
              "      <td>NaN</td>\n",
              "    </tr>\n",
              "    <tr>\n",
              "      <th>25%</th>\n",
              "      <td>NaN</td>\n",
              "      <td>1.165160e+05</td>\n",
              "      <td>NaN</td>\n",
              "      <td>NaN</td>\n",
              "    </tr>\n",
              "    <tr>\n",
              "      <th>50%</th>\n",
              "      <td>NaN</td>\n",
              "      <td>2.334830e+05</td>\n",
              "      <td>NaN</td>\n",
              "      <td>NaN</td>\n",
              "    </tr>\n",
              "    <tr>\n",
              "      <th>75%</th>\n",
              "      <td>NaN</td>\n",
              "      <td>3.503040e+05</td>\n",
              "      <td>NaN</td>\n",
              "      <td>NaN</td>\n",
              "    </tr>\n",
              "    <tr>\n",
              "      <th>max</th>\n",
              "      <td>NaN</td>\n",
              "      <td>4.668660e+05</td>\n",
              "      <td>NaN</td>\n",
              "      <td>NaN</td>\n",
              "    </tr>\n",
              "  </tbody>\n",
              "</table>\n",
              "</div>"
            ],
            "text/plain": [
              "                  timestamp        itemid  property     value\n",
              "count              20275902  2.027590e+07  20275902  20275902\n",
              "unique                   18           NaN      1104   1966868\n",
              "top     2015-05-10 03:00:00           NaN       888    769062\n",
              "freq                3012756           NaN   3000398   1537247\n",
              "first   2015-05-10 03:00:00           NaN       NaN       NaN\n",
              "last    2015-09-13 03:00:00           NaN       NaN       NaN\n",
              "mean                    NaN  2.333904e+05       NaN       NaN\n",
              "std                     NaN  1.348452e+05       NaN       NaN\n",
              "min                     NaN  0.000000e+00       NaN       NaN\n",
              "25%                     NaN  1.165160e+05       NaN       NaN\n",
              "50%                     NaN  2.334830e+05       NaN       NaN\n",
              "75%                     NaN  3.503040e+05       NaN       NaN\n",
              "max                     NaN  4.668660e+05       NaN       NaN"
            ]
          },
          "metadata": {
            "tags": []
          },
          "execution_count": 14
        }
      ]
    },
    {
      "cell_type": "code",
      "metadata": {
        "id": "E_AVLuxI7pt_",
        "colab_type": "code",
        "outputId": "a5c1016c-6020-4ebb-bcce-b32476ab1dac",
        "colab": {
          "base_uri": "https://localhost:8080/",
          "height": 51
        }
      },
      "source": [
        "# All items\n",
        "print('Total items:', items['itemid'].size)\n",
        "\n",
        "# Unique items\n",
        "print('Unique item_ids:', items['itemid'].nunique())"
      ],
      "execution_count": 0,
      "outputs": [
        {
          "output_type": "stream",
          "text": [
            "Total items: 20275902\n",
            "Unique item_ids: 417053\n"
          ],
          "name": "stdout"
        }
      ]
    },
    {
      "cell_type": "markdown",
      "metadata": {
        "id": "QEGMXbzy37Ug",
        "colab_type": "text"
      },
      "source": [
        "__Observation__: The collection time of the items property data corresponds to the previous table. There are over 20 million entries of 417,053 unique items. The specific property and value description were possibily hashed due to privacy issues. "
      ]
    },
    {
      "cell_type": "markdown",
      "metadata": {
        "id": "_WbZKXnU8JSG",
        "colab_type": "text"
      },
      "source": [
        "Now, we'll take a look at the category tree table. "
      ]
    },
    {
      "cell_type": "code",
      "metadata": {
        "id": "uPRDf9wc9Ffa",
        "colab_type": "code",
        "outputId": "f8955b3d-6d0f-4cca-c6f7-4d1003837a5b",
        "colab": {
          "base_uri": "https://localhost:8080/",
          "height": 204
        }
      },
      "source": [
        "category_tree.head()"
      ],
      "execution_count": 0,
      "outputs": [
        {
          "output_type": "execute_result",
          "data": {
            "text/html": [
              "<div>\n",
              "<style scoped>\n",
              "    .dataframe tbody tr th:only-of-type {\n",
              "        vertical-align: middle;\n",
              "    }\n",
              "\n",
              "    .dataframe tbody tr th {\n",
              "        vertical-align: top;\n",
              "    }\n",
              "\n",
              "    .dataframe thead th {\n",
              "        text-align: right;\n",
              "    }\n",
              "</style>\n",
              "<table border=\"1\" class=\"dataframe\">\n",
              "  <thead>\n",
              "    <tr style=\"text-align: right;\">\n",
              "      <th></th>\n",
              "      <th>categoryid</th>\n",
              "      <th>parentid</th>\n",
              "    </tr>\n",
              "  </thead>\n",
              "  <tbody>\n",
              "    <tr>\n",
              "      <th>0</th>\n",
              "      <td>1016</td>\n",
              "      <td>213.0</td>\n",
              "    </tr>\n",
              "    <tr>\n",
              "      <th>1</th>\n",
              "      <td>809</td>\n",
              "      <td>169.0</td>\n",
              "    </tr>\n",
              "    <tr>\n",
              "      <th>2</th>\n",
              "      <td>570</td>\n",
              "      <td>9.0</td>\n",
              "    </tr>\n",
              "    <tr>\n",
              "      <th>3</th>\n",
              "      <td>1691</td>\n",
              "      <td>885.0</td>\n",
              "    </tr>\n",
              "    <tr>\n",
              "      <th>4</th>\n",
              "      <td>536</td>\n",
              "      <td>1691.0</td>\n",
              "    </tr>\n",
              "  </tbody>\n",
              "</table>\n",
              "</div>"
            ],
            "text/plain": [
              "   categoryid  parentid\n",
              "0        1016     213.0\n",
              "1         809     169.0\n",
              "2         570       9.0\n",
              "3        1691     885.0\n",
              "4         536    1691.0"
            ]
          },
          "metadata": {
            "tags": []
          },
          "execution_count": 16
        }
      ]
    },
    {
      "cell_type": "code",
      "metadata": {
        "id": "3gLxGu9N9Ftg",
        "colab_type": "code",
        "outputId": "3de6ef2f-2bef-4b9c-d5ed-eee778aad77a",
        "colab": {
          "base_uri": "https://localhost:8080/",
          "height": 34
        }
      },
      "source": [
        "# Shape\n",
        "category_tree.shape"
      ],
      "execution_count": 0,
      "outputs": [
        {
          "output_type": "execute_result",
          "data": {
            "text/plain": [
              "(1669, 2)"
            ]
          },
          "metadata": {
            "tags": []
          },
          "execution_count": 17
        }
      ]
    },
    {
      "cell_type": "code",
      "metadata": {
        "id": "2Qf-wmZ49Fnj",
        "colab_type": "code",
        "outputId": "0d2ea13d-621b-430f-911d-c8bf485cd803",
        "colab": {
          "base_uri": "https://localhost:8080/",
          "height": 297
        }
      },
      "source": [
        "# Statistics\n",
        "category_tree.describe(include='all')"
      ],
      "execution_count": 0,
      "outputs": [
        {
          "output_type": "execute_result",
          "data": {
            "text/html": [
              "<div>\n",
              "<style scoped>\n",
              "    .dataframe tbody tr th:only-of-type {\n",
              "        vertical-align: middle;\n",
              "    }\n",
              "\n",
              "    .dataframe tbody tr th {\n",
              "        vertical-align: top;\n",
              "    }\n",
              "\n",
              "    .dataframe thead th {\n",
              "        text-align: right;\n",
              "    }\n",
              "</style>\n",
              "<table border=\"1\" class=\"dataframe\">\n",
              "  <thead>\n",
              "    <tr style=\"text-align: right;\">\n",
              "      <th></th>\n",
              "      <th>categoryid</th>\n",
              "      <th>parentid</th>\n",
              "    </tr>\n",
              "  </thead>\n",
              "  <tbody>\n",
              "    <tr>\n",
              "      <th>count</th>\n",
              "      <td>1669.000000</td>\n",
              "      <td>1644.000000</td>\n",
              "    </tr>\n",
              "    <tr>\n",
              "      <th>mean</th>\n",
              "      <td>849.285201</td>\n",
              "      <td>847.571168</td>\n",
              "    </tr>\n",
              "    <tr>\n",
              "      <th>std</th>\n",
              "      <td>490.195116</td>\n",
              "      <td>505.058485</td>\n",
              "    </tr>\n",
              "    <tr>\n",
              "      <th>min</th>\n",
              "      <td>0.000000</td>\n",
              "      <td>8.000000</td>\n",
              "    </tr>\n",
              "    <tr>\n",
              "      <th>25%</th>\n",
              "      <td>427.000000</td>\n",
              "      <td>381.000000</td>\n",
              "    </tr>\n",
              "    <tr>\n",
              "      <th>50%</th>\n",
              "      <td>848.000000</td>\n",
              "      <td>866.000000</td>\n",
              "    </tr>\n",
              "    <tr>\n",
              "      <th>75%</th>\n",
              "      <td>1273.000000</td>\n",
              "      <td>1291.000000</td>\n",
              "    </tr>\n",
              "    <tr>\n",
              "      <th>max</th>\n",
              "      <td>1698.000000</td>\n",
              "      <td>1698.000000</td>\n",
              "    </tr>\n",
              "  </tbody>\n",
              "</table>\n",
              "</div>"
            ],
            "text/plain": [
              "        categoryid     parentid\n",
              "count  1669.000000  1644.000000\n",
              "mean    849.285201   847.571168\n",
              "std     490.195116   505.058485\n",
              "min       0.000000     8.000000\n",
              "25%     427.000000   381.000000\n",
              "50%     848.000000   866.000000\n",
              "75%    1273.000000  1291.000000\n",
              "max    1698.000000  1698.000000"
            ]
          },
          "metadata": {
            "tags": []
          },
          "execution_count": 18
        }
      ]
    },
    {
      "cell_type": "code",
      "metadata": {
        "id": "6TBmyQez9FzL",
        "colab_type": "code",
        "outputId": "d3244a16-9f92-4688-ef50-9b579f9bfd87",
        "colab": {
          "base_uri": "https://localhost:8080/",
          "height": 51
        }
      },
      "source": [
        "# Unique ids\n",
        "print('Unique category_ids:', category_tree['categoryid'].nunique())\n",
        "print('Unique parent_ids:', category_tree['parentid'].nunique())"
      ],
      "execution_count": 0,
      "outputs": [
        {
          "output_type": "stream",
          "text": [
            "Unique category_ids: 1669\n",
            "Unique parent_ids: 362\n"
          ],
          "name": "stdout"
        }
      ]
    },
    {
      "cell_type": "markdown",
      "metadata": {
        "id": "zqFUMpWy9Y-X",
        "colab_type": "text"
      },
      "source": [
        "## Exploratory Data Analysis \n",
        "In this section, we'll explore user preference and focus on item ratings.\n"
      ]
    },
    {
      "cell_type": "code",
      "metadata": {
        "id": "eY_Zc08HG1tf",
        "colab_type": "code",
        "outputId": "1abbaac9-626c-45ed-9f2e-7efbf5c569b1",
        "colab": {
          "base_uri": "https://localhost:8080/",
          "height": 482
        }
      },
      "source": [
        "# Pie chart of events \n",
        "data = events.event.value_counts()\n",
        "labels = data.index\n",
        "sizes = data.values\n",
        "explode = (0, 0.15, 0.15)  # explode 1st slice\n",
        "plt.subplots(figsize=(8,8))\n",
        "\n",
        "# Plot\n",
        "plt.pie(sizes, explode=explode, labels=labels,autopct='%1.1f%%', shadow=False, startangle=0)\n",
        "plt.title('Total Visitor Activity')\n",
        "plt.axis('equal')\n",
        "plt.show()"
      ],
      "execution_count": 0,
      "outputs": [
        {
          "output_type": "display_data",
          "data": {
            "image/png": "[encoded data removed]",
            "text/plain": [
              "<Figure size 576x576 with 1 Axes>"
            ]
          },
          "metadata": {
            "tags": []
          }
        }
      ]
    },
    {
      "cell_type": "markdown",
      "metadata": {
        "id": "9Q-whkzn_2UQ",
        "colab_type": "text"
      },
      "source": [
        "__How many unique customers made a purchased ?__"
      ]
    },
    {
      "cell_type": "code",
      "metadata": {
        "id": "PEYV_TMh9XWV",
        "colab_type": "code",
        "outputId": "00796d34-67b9-4c12-9048-9de04b0735a4",
        "colab": {
          "base_uri": "https://localhost:8080/",
          "height": 34
        }
      },
      "source": [
        "made_purchase = events[events.transactionid.notnull()].visitorid.unique()\n",
        "print('There were {} unique customers that made a purchase.'.format(made_purchase.size))"
      ],
      "execution_count": 0,
      "outputs": [
        {
          "output_type": "stream",
          "text": [
            "There were 11719 unique customers that made a purchase.\n"
          ],
          "name": "stdout"
        }
      ]
    },
    {
      "cell_type": "markdown",
      "metadata": {
        "id": "_LkSFnGJAXDN",
        "colab_type": "text"
      },
      "source": [
        "__In the items table, how many items are available?__"
      ]
    },
    {
      "cell_type": "code",
      "metadata": {
        "id": "8lS2SN6b9Xpu",
        "colab_type": "code",
        "outputId": "33e3f19b-966f-4de3-b40f-0e7e49af00c7",
        "colab": {
          "base_uri": "https://localhost:8080/",
          "height": 34
        }
      },
      "source": [
        "available_items = items.loc[items.property.isin(['categoryid','available']),:]\n",
        "print('Items with a categoryID and listed as an available property:', available_items.size)"
      ],
      "execution_count": 0,
      "outputs": [
        {
          "output_type": "stream",
          "text": [
            "Items with a categoryID and listed as an available property: 9167412\n"
          ],
          "name": "stdout"
        }
      ]
    },
    {
      "cell_type": "markdown",
      "metadata": {
        "id": "HIq8fEO_Az9Y",
        "colab_type": "text"
      },
      "source": [
        "Next, let's take a look at the events and items table together."
      ]
    },
    {
      "cell_type": "code",
      "metadata": {
        "id": "uXJGtH0z9XxB",
        "colab_type": "code",
        "outputId": "696e23a1-85c6-4799-d058-48a2bd214a76",
        "colab": {
          "base_uri": "https://localhost:8080/",
          "height": 102
        }
      },
      "source": [
        "# Group itemID by event type and create a list of each type\n",
        "item_event_group = events.groupby('event')['itemid'].apply(list)\n",
        "item_event_group"
      ],
      "execution_count": 0,
      "outputs": [
        {
          "output_type": "execute_result",
          "data": {
            "text/plain": [
              "event\n",
              "addtocart      [5206, 10572, 255275, 356475, 312728, 63312, 1...\n",
              "transaction    [356475, 15335, 81345, 150318, 310791, 54058, ...\n",
              "view           [355908, 248676, 318965, 253185, 367447, 22556...\n",
              "Name: itemid, dtype: object"
            ]
          },
          "metadata": {
            "tags": []
          },
          "execution_count": 23
        }
      ]
    },
    {
      "cell_type": "code",
      "metadata": {
        "id": "34J93DYMDKCg",
        "colab_type": "code",
        "colab": {}
      },
      "source": [
        "# Function to plot top k items \n",
        "def item_event_plot(event, k, title, xlabel, ylabel):\n",
        "  # Create dictionary for key value pair\n",
        "  count_event = {}\n",
        "\n",
        "  # Convert event list to numpy array \n",
        "  event = np.array(event[:])\n",
        "\n",
        "  # Count unique values of event \n",
        "  unique, counts = np.unique(event, return_counts=True)\n",
        "\n",
        "  # Convert unique and counts to a dictionary(key: unique, values: counts)\n",
        "  count_event = dict(zip(unique, counts))\n",
        "\n",
        "  # Sort dictionary\n",
        "  sort_count_event = sorted(count_event.items(), key = operator.itemgetter(1), reverse=True)\n",
        "\n",
        "  # Variables for bargraph \n",
        "  x = [i[0] for i in sort_count_event[:int(k)]]\n",
        "  y = [i[1] for i in sort_count_event[:int(k)]]\n",
        "  ax = sns.barplot(x,y, order=x).set_title(title)\n",
        "  plt.xlabel(xlabel)\n",
        "  plt.ylabel(ylabel)\n",
        "  plt.show()"
      ],
      "execution_count": 0,
      "outputs": []
    },
    {
      "cell_type": "markdown",
      "metadata": {
        "id": "oHNNyhAXBJAa",
        "colab_type": "text"
      },
      "source": [
        "__What were the most viewed items?__"
      ]
    },
    {
      "cell_type": "code",
      "metadata": {
        "id": "Tfuw2wBOEoxP",
        "colab_type": "code",
        "outputId": "7d8ce4cc-30c3-4d13-fdad-48cdfdcac7ee",
        "colab": {
          "base_uri": "https://localhost:8080/",
          "height": 295
        }
      },
      "source": [
        "# Plot most viewed item\n",
        "views = item_event_group['view']\n",
        "item_event_plot(views, 7, 'Top 7 Most Viewed Items', 'ItemID', '# Views')"
      ],
      "execution_count": 0,
      "outputs": [
        {
          "output_type": "display_data",
          "data": {
            "image/png": "[encoded data removed]",
            "text/plain": [
              "<Figure size 432x288 with 1 Axes>"
            ]
          },
          "metadata": {
            "tags": []
          }
        }
      ]
    },
    {
      "cell_type": "markdown",
      "metadata": {
        "id": "0_HXCs8uBric",
        "colab_type": "text"
      },
      "source": [
        "__Which were the most added to cart items?__"
      ]
    },
    {
      "cell_type": "code",
      "metadata": {
        "id": "_u4-6va39X8F",
        "colab_type": "code",
        "outputId": "20e182f8-d5f4-490d-cefd-474e8e04174c",
        "colab": {
          "base_uri": "https://localhost:8080/",
          "height": 295
        }
      },
      "source": [
        "# Plot most add to cart item\n",
        "addtocart = item_event_group['addtocart']\n",
        "item_event_plot(addtocart, 7, 'Top 7 Most Added-to-Cart Items', 'ItemID', '# Add-to-Cart')\n"
      ],
      "execution_count": 0,
      "outputs": [
        {
          "output_type": "display_data",
          "data": {
            "image/png": "[encoded data removed]",
            "text/plain": [
              "<Figure size 432x288 with 1 Axes>"
            ]
          },
          "metadata": {
            "tags": []
          }
        }
      ]
    },
    {
      "cell_type": "markdown",
      "metadata": {
        "id": "oW0oFbI5B1uA",
        "colab_type": "text"
      },
      "source": [
        "__Which items were best sellers?__"
      ]
    },
    {
      "cell_type": "code",
      "metadata": {
        "id": "khz2M5rW9YEw",
        "colab_type": "code",
        "outputId": "ad18e045-1f39-40de-b170-2e91105a18be",
        "colab": {
          "base_uri": "https://localhost:8080/",
          "height": 295
        }
      },
      "source": [
        "# Plot most purchased item\n",
        "transaction = item_event_group['transaction']\n",
        "item_event_plot(transaction, 7, 'Top 7 Best Sellers', 'ItemID', '# Purchase')\n"
      ],
      "execution_count": 0,
      "outputs": [
        {
          "output_type": "display_data",
          "data": {
            "image/png": "[encoded data removed]",
            "text/plain": [
              "<Figure size 432x288 with 1 Axes>"
            ]
          },
          "metadata": {
            "tags": []
          }
        }
      ]
    },
    {
      "cell_type": "markdown",
      "metadata": {
        "id": "_xSEaLjOG2H8",
        "colab_type": "text"
      },
      "source": [
        "### Transforming the Data\n",
        "In this section, we will guide new customers on their buying journey by recommending a list of items of what previous customers purchased with the current item the new customer is viewing. \n",
        "\n",
        "We will transform the data and create a user-item and item-property matrix for modeling. \n",
        "\n",
        "Let's begin cleaning the data with the following steps:\n",
        "1. Create item rating by counting each activity per item\n",
        "2. Remove items with single activity (i.g. only view)\n",
        "3. Remove users without activity \n",
        "4. Assign new item ids and user ids"
      ]
    },
    {
      "cell_type": "code",
      "metadata": {
        "id": "UXPsRsHN9F3m",
        "colab_type": "code",
        "outputId": "5a2e2fe3-c428-4429-94ce-2de4635a25f5",
        "colab": {
          "base_uri": "https://localhost:8080/",
          "height": 204
        }
      },
      "source": [
        "# Create User-Activity table \n",
        "user_activity_count = dict()\n",
        "for row in events.itertuples():\n",
        "    if row.visitorid not in user_activity_count:\n",
        "        user_activity_count[row.visitorid] = {'view':0 , 'addtocart':0, 'transaction':0};\n",
        "    if row.event == 'addtocart':\n",
        "        user_activity_count[row.visitorid]['addtocart'] += 1 \n",
        "    elif row.event == 'transaction':\n",
        "        user_activity_count[row.visitorid]['transaction'] += 1\n",
        "    elif row.event == 'view':\n",
        "        user_activity_count[row.visitorid]['view'] += 1 \n",
        "\n",
        "user_activity = pd.DataFrame(user_activity_count)\n",
        "user_activity = user_activity.transpose() # change columns to activities and rows to visitorid\n",
        "\n",
        "# Total activity feature \n",
        "user_activity['activity'] = user_activity['view'] + user_activity['addtocart'] + user_activity['transaction']\n",
        "user_activity.head()"
      ],
      "execution_count": 0,
      "outputs": [
        {
          "output_type": "execute_result",
          "data": {
            "text/html": [
              "<div>\n",
              "<style scoped>\n",
              "    .dataframe tbody tr th:only-of-type {\n",
              "        vertical-align: middle;\n",
              "    }\n",
              "\n",
              "    .dataframe tbody tr th {\n",
              "        vertical-align: top;\n",
              "    }\n",
              "\n",
              "    .dataframe thead th {\n",
              "        text-align: right;\n",
              "    }\n",
              "</style>\n",
              "<table border=\"1\" class=\"dataframe\">\n",
              "  <thead>\n",
              "    <tr style=\"text-align: right;\">\n",
              "      <th></th>\n",
              "      <th>view</th>\n",
              "      <th>addtocart</th>\n",
              "      <th>transaction</th>\n",
              "      <th>activity</th>\n",
              "    </tr>\n",
              "  </thead>\n",
              "  <tbody>\n",
              "    <tr>\n",
              "      <th>257597</th>\n",
              "      <td>2</td>\n",
              "      <td>0</td>\n",
              "      <td>0</td>\n",
              "      <td>2</td>\n",
              "    </tr>\n",
              "    <tr>\n",
              "      <th>992329</th>\n",
              "      <td>30</td>\n",
              "      <td>0</td>\n",
              "      <td>0</td>\n",
              "      <td>30</td>\n",
              "    </tr>\n",
              "    <tr>\n",
              "      <th>111016</th>\n",
              "      <td>2</td>\n",
              "      <td>0</td>\n",
              "      <td>0</td>\n",
              "      <td>2</td>\n",
              "    </tr>\n",
              "    <tr>\n",
              "      <th>483717</th>\n",
              "      <td>3</td>\n",
              "      <td>0</td>\n",
              "      <td>0</td>\n",
              "      <td>3</td>\n",
              "    </tr>\n",
              "    <tr>\n",
              "      <th>951259</th>\n",
              "      <td>1</td>\n",
              "      <td>0</td>\n",
              "      <td>0</td>\n",
              "      <td>1</td>\n",
              "    </tr>\n",
              "  </tbody>\n",
              "</table>\n",
              "</div>"
            ],
            "text/plain": [
              "        view  addtocart  transaction  activity\n",
              "257597     2          0            0         2\n",
              "992329    30          0            0        30\n",
              "111016     2          0            0         2\n",
              "483717     3          0            0         3\n",
              "951259     1          0            0         1"
            ]
          },
          "metadata": {
            "tags": []
          },
          "execution_count": 28
        }
      ]
    },
    {
      "cell_type": "code",
      "metadata": {
        "id": "97VJ-3YWjDC4",
        "colab_type": "code",
        "outputId": "25f2ad9c-56dd-4436-f8f2-f6f8780bca7a",
        "colab": {
          "base_uri": "https://localhost:8080/",
          "height": 34
        }
      },
      "source": [
        "user_activity.shape"
      ],
      "execution_count": 0,
      "outputs": [
        {
          "output_type": "execute_result",
          "data": {
            "text/plain": [
              "(1407580, 4)"
            ]
          },
          "metadata": {
            "tags": []
          },
          "execution_count": 29
        }
      ]
    },
    {
      "cell_type": "code",
      "metadata": {
        "id": "QmebTV6E9F66",
        "colab_type": "code",
        "colab": {}
      },
      "source": [
        "# Remove users with less than 1 activity \n",
        "clean_user_activity = user_activity[user_activity['activity']>1]"
      ],
      "execution_count": 0,
      "outputs": []
    },
    {
      "cell_type": "code",
      "metadata": {
        "id": "zytyGIMoj6dI",
        "colab_type": "code",
        "outputId": "f2c7c39a-fd08-4d03-b114-2a84d76a9fd9",
        "colab": {
          "base_uri": "https://localhost:8080/",
          "height": 34
        }
      },
      "source": [
        "clean_user_activity.shape"
      ],
      "execution_count": 0,
      "outputs": [
        {
          "output_type": "execute_result",
          "data": {
            "text/plain": [
              "(406020, 4)"
            ]
          },
          "metadata": {
            "tags": []
          },
          "execution_count": 31
        }
      ]
    },
    {
      "cell_type": "code",
      "metadata": {
        "id": "-MyBXhpfkQhD",
        "colab_type": "code",
        "outputId": "053a6855-ee27-45d6-eccf-ca3894dcd050",
        "colab": {
          "base_uri": "https://localhost:8080/",
          "height": 34
        }
      },
      "source": [
        "users_lost = round(((user_activity.shape[0]-clean_user_activity.shape[0])/user_activity.shape[0])*100)\n",
        "print('Lost {}% of users after dropping users with less than 1 activity'.format(users_lost))"
      ],
      "execution_count": 0,
      "outputs": [
        {
          "output_type": "stream",
          "text": [
            "Lost 71% of users after dropping users with less than 1 activity\n"
          ],
          "name": "stdout"
        }
      ]
    },
    {
      "cell_type": "markdown",
      "metadata": {
        "id": "wRvjM_oEjnYX",
        "colab_type": "text"
      },
      "source": [
        "Now, we will map item ids to the users in the user activity table."
      ]
    },
    {
      "cell_type": "code",
      "metadata": {
        "id": "M5OlYaT1jWbd",
        "colab_type": "code",
        "colab": {}
      },
      "source": [
        "# Create all users and all items set\n",
        "all_users = set(clean_user_activity.index.values)\n",
        "all_items = set(events['itemid'])\n",
        "\n",
        "# Map itemid to visitorid \n",
        "visitorid_to_index_mapping  = {}\n",
        "itemid_to_index_mapping  = {}\n",
        "vid = 0\n",
        "iid = 0\n",
        "for row in events.itertuples():\n",
        "    if row.visitorid in all_users and row.visitorid not in visitorid_to_index_mapping:\n",
        "        visitorid_to_index_mapping[row.visitorid] = vid\n",
        "        vid = vid + 1\n",
        "\n",
        "    if row.itemid in all_items and row.itemid not in itemid_to_index_mapping:\n",
        "        itemid_to_index_mapping[row.itemid] = iid\n",
        "        iid = iid + 1"
      ],
      "execution_count": 0,
      "outputs": []
    },
    {
      "cell_type": "markdown",
      "metadata": {
        "id": "LIujMXlnoAdC",
        "colab_type": "text"
      },
      "source": [
        "### Construct User-Item Matrix"
      ]
    },
    {
      "cell_type": "code",
      "metadata": {
        "id": "lVhQkcuTkl0p",
        "colab_type": "code",
        "colab": {}
      },
      "source": [
        "# Create user-item matrix\n",
        "n_users = len(all_users)\n",
        "n_items = len(all_items)\n",
        "user_to_item_matrix = sp.dok_matrix((n_users, n_items), dtype=np.int8) # Dictionary Of Keys based sparse matrix"
      ],
      "execution_count": 0,
      "outputs": []
    },
    {
      "cell_type": "code",
      "metadata": {
        "id": "aXcI3icXjWgt",
        "colab_type": "code",
        "colab": {}
      },
      "source": [
        "# Add weights to action \n",
        "action_weights = [1,2,3]\n",
        "\n",
        "for row in events.itertuples():\n",
        "    if row.visitorid not in all_users:\n",
        "        continue\n",
        "    \n",
        "    mapped_visitor_id = visitorid_to_index_mapping[row.visitorid]\n",
        "    mapped_item_id    = itemid_to_index_mapping[row.itemid]\n",
        "    \n",
        "    value = 0\n",
        "    if row.event == 'view':\n",
        "        value = action_weights[0]\n",
        "    elif row.event == 'addtocart':\n",
        "        value = action_weights[1]        \n",
        "    elif row.event == 'transaction':\n",
        "        value = action_weights[2]\n",
        "        \n",
        "    current_value = user_to_item_matrix[mapped_visitor_id, mapped_item_id]\n",
        "    if value > current_value:\n",
        "        user_to_item_matrix[mapped_visitor_id, mapped_item_id] = value\n",
        "        \n",
        "user_to_item_matrix = user_to_item_matrix.tocsr() # Return a copy of this matrix in Compressed Sparse Row format"
      ],
      "execution_count": 0,
      "outputs": []
    },
    {
      "cell_type": "code",
      "metadata": {
        "id": "IK-ohZXTjW3i",
        "colab_type": "code",
        "outputId": "77653699-bfd9-4554-f6df-453d87c15841",
        "colab": {
          "base_uri": "https://localhost:8080/",
          "height": 34
        }
      },
      "source": [
        "user_to_item_matrix.shape"
      ],
      "execution_count": 0,
      "outputs": [
        {
          "output_type": "execute_result",
          "data": {
            "text/plain": [
              "(406020, 235061)"
            ]
          },
          "metadata": {
            "tags": []
          },
          "execution_count": 36
        }
      ]
    },
    {
      "cell_type": "code",
      "metadata": {
        "id": "F2at0jrGwTDR",
        "colab_type": "code",
        "colab": {}
      },
      "source": [
        "sparsity = float(len(user_to_item_matrix.nonzero()[0]))\n",
        "sparsity /= (user_to_item_matrix.shape[0] * user_to_item_matrix.shape[1])\n",
        "sparsity *= 100\n",
        "print (sparsity)"
      ],
      "execution_count": 0,
      "outputs": []
    },
    {
      "cell_type": "markdown",
      "metadata": {
        "id": "ThGPFjf8rG_h",
        "colab_type": "text"
      },
      "source": [
        "### Construct Item-Property Matrix"
      ]
    },
    {
      "cell_type": "code",
      "metadata": {
        "id": "jrjvLpkAjW0b",
        "colab_type": "code",
        "colab": {}
      },
      "source": [
        "# Remove items that are not assoicated with events\n",
        "filtered_items = items[items.itemid.isin(all_items)]"
      ],
      "execution_count": 0,
      "outputs": []
    },
    {
      "cell_type": "markdown",
      "metadata": {
        "id": "-92cs48RAYTz",
        "colab_type": "text"
      },
      "source": [
        "Since only 90% of item properties are associated with items in the event tables, we will create fake properties for ones that do not have an associated profile. "
      ]
    },
    {
      "cell_type": "code",
      "metadata": {
        "id": "wAy65vEejWxw",
        "colab_type": "code",
        "colab": {}
      },
      "source": [
        "# Create fake property for filtered items that do not have properties\n",
        "fake_itemid = []\n",
        "fake_timestamp = []\n",
        "fake_property = []\n",
        "fake_value = []\n",
        "all_items_with_property = set(items.itemid)\n",
        "for itx in list(all_items):\n",
        "    if itx not in all_items_with_property:\n",
        "        fake_itemid.insert(0, itx)\n",
        "        fake_timestamp.insert(0, 0)\n",
        "        fake_property.insert(0, 888)\n",
        "        fake_value.insert(0, 0)\n",
        "    \n",
        "fake_property_dict = {'itemid':fake_itemid, 'timestamp':fake_timestamp, 'property':fake_property,\n",
        "                     'value':fake_value}\n",
        "\n",
        "fake_df = pd.DataFrame(fake_property_dict, columns=filtered_items.columns.values)\n",
        "filtered_items = pd.concat([filtered_items, fake_df])"
      ],
      "execution_count": 0,
      "outputs": []
    },
    {
      "cell_type": "code",
      "metadata": {
        "id": "J7MhiVuNjWu_",
        "colab_type": "code",
        "colab": {}
      },
      "source": [
        "# Map itemid to index \n",
        "filtered_items['itemid'] = filtered_items['itemid'].apply(lambda x: itemid_to_index_mapping[x])"
      ],
      "execution_count": 0,
      "outputs": []
    },
    {
      "cell_type": "code",
      "metadata": {
        "id": "j6u5lva8uJ2u",
        "colab_type": "code",
        "colab": {}
      },
      "source": [
        "filtered_items = filtered_items.drop_duplicates(['itemid','property'])"
      ],
      "execution_count": 0,
      "outputs": []
    },
    {
      "cell_type": "code",
      "metadata": {
        "id": "fxMWrmEasGFh",
        "colab_type": "code",
        "outputId": "9139395b-25d2-41e3-8d04-5e145d47c773",
        "colab": {
          "base_uri": "https://localhost:8080/",
          "height": 204
        }
      },
      "source": [
        "filtered_items.head()"
      ],
      "execution_count": 0,
      "outputs": [
        {
          "output_type": "execute_result",
          "data": {
            "text/html": [
              "<div>\n",
              "<style scoped>\n",
              "    .dataframe tbody tr th:only-of-type {\n",
              "        vertical-align: middle;\n",
              "    }\n",
              "\n",
              "    .dataframe tbody tr th {\n",
              "        vertical-align: top;\n",
              "    }\n",
              "\n",
              "    .dataframe thead th {\n",
              "        text-align: right;\n",
              "    }\n",
              "</style>\n",
              "<table border=\"1\" class=\"dataframe\">\n",
              "  <thead>\n",
              "    <tr style=\"text-align: right;\">\n",
              "      <th></th>\n",
              "      <th>timestamp</th>\n",
              "      <th>itemid</th>\n",
              "      <th>property</th>\n",
              "      <th>value</th>\n",
              "    </tr>\n",
              "  </thead>\n",
              "  <tbody>\n",
              "    <tr>\n",
              "      <th>0</th>\n",
              "      <td>2015-06-28 03:00:00</td>\n",
              "      <td>60726</td>\n",
              "      <td>categoryid</td>\n",
              "      <td>1338</td>\n",
              "    </tr>\n",
              "    <tr>\n",
              "      <th>1</th>\n",
              "      <td>2015-09-06 03:00:00</td>\n",
              "      <td>135140</td>\n",
              "      <td>888</td>\n",
              "      <td>1116713 960601 n277.200</td>\n",
              "    </tr>\n",
              "    <tr>\n",
              "      <th>2</th>\n",
              "      <td>2015-08-09 03:00:00</td>\n",
              "      <td>128565</td>\n",
              "      <td>400</td>\n",
              "      <td>n552.000 639502 n720.000 424566</td>\n",
              "    </tr>\n",
              "    <tr>\n",
              "      <th>3</th>\n",
              "      <td>2015-05-10 03:00:00</td>\n",
              "      <td>41456</td>\n",
              "      <td>790</td>\n",
              "      <td>n15360.000</td>\n",
              "    </tr>\n",
              "    <tr>\n",
              "      <th>4</th>\n",
              "      <td>2015-05-17 03:00:00</td>\n",
              "      <td>42419</td>\n",
              "      <td>917</td>\n",
              "      <td>828513</td>\n",
              "    </tr>\n",
              "  </tbody>\n",
              "</table>\n",
              "</div>"
            ],
            "text/plain": [
              "             timestamp  itemid    property                            value\n",
              "0  2015-06-28 03:00:00   60726  categoryid                             1338\n",
              "1  2015-09-06 03:00:00  135140         888          1116713 960601 n277.200\n",
              "2  2015-08-09 03:00:00  128565         400  n552.000 639502 n720.000 424566\n",
              "3  2015-05-10 03:00:00   41456         790                       n15360.000\n",
              "4  2015-05-17 03:00:00   42419         917                           828513"
            ]
          },
          "metadata": {
            "tags": []
          },
          "execution_count": 41
        }
      ]
    },
    {
      "cell_type": "code",
      "metadata": {
        "id": "gp-fSk6GG5iU",
        "colab_type": "code",
        "outputId": "77ee856d-f972-484a-95d5-23fb27918a9f",
        "colab": {
          "base_uri": "https://localhost:8080/",
          "height": 34
        }
      },
      "source": [
        "# Unique value properties \n",
        "filtered_items['value'].nunique()"
      ],
      "execution_count": 0,
      "outputs": [
        {
          "output_type": "execute_result",
          "data": {
            "text/plain": [
              "910481"
            ]
          },
          "metadata": {
            "tags": []
          },
          "execution_count": 43
        }
      ]
    },
    {
      "cell_type": "code",
      "metadata": {
        "id": "9wyrXG94G5sL",
        "colab_type": "code",
        "outputId": "26315b0c-e14f-47b0-b6bd-fbea074a0b73",
        "colab": {
          "base_uri": "https://localhost:8080/",
          "height": 204
        }
      },
      "source": [
        "# Top unique value properites\n",
        "filtered_items['value'].value_counts().nlargest(10)"
      ],
      "execution_count": 0,
      "outputs": [
        {
          "output_type": "execute_result",
          "data": {
            "text/plain": [
              "769062                 753348\n",
              "1285872                185246\n",
              "679677                 185246\n",
              "519769                 185246\n",
              "0                      135245\n",
              "1116693                 80994\n",
              "1                       50733\n",
              "0                       49815\n",
              "150169 610517           27113\n",
              "150169 274770 79212     26653\n",
              "Name: value, dtype: int64"
            ]
          },
          "metadata": {
            "tags": []
          },
          "execution_count": 44
        }
      ]
    },
    {
      "cell_type": "code",
      "metadata": {
        "id": "BfJtEpSruQGA",
        "colab_type": "code",
        "colab": {}
      },
      "source": [
        "#filtered_items.sort_values('timestamp', ascending=False)\n",
        "#filtered_items.sort_values(by='itemid', inplace=True)"
      ],
      "execution_count": 0,
      "outputs": []
    },
    {
      "cell_type": "code",
      "metadata": {
        "id": "2-MBzukAjWsi",
        "colab_type": "code",
        "colab": {}
      },
      "source": [
        "item_to_property_matrix = filtered_items.pivot(index='itemid', columns='property', values='value')"
      ],
      "execution_count": 0,
      "outputs": []
    },
    {
      "cell_type": "code",
      "metadata": {
        "id": "uj0DPJEEjWpw",
        "colab_type": "code",
        "outputId": "f70fda3e-2a16-4701-d27d-3843305d6cf8",
        "colab": {
          "base_uri": "https://localhost:8080/",
          "height": 34
        }
      },
      "source": [
        "item_to_property_matrix.shape"
      ],
      "execution_count": 0,
      "outputs": [
        {
          "output_type": "execute_result",
          "data": {
            "text/plain": [
              "(235061, 1099)"
            ]
          },
          "metadata": {
            "tags": []
          },
          "execution_count": 46
        }
      ]
    },
    {
      "cell_type": "markdown",
      "metadata": {
        "id": "vqV-qLl4EXCX",
        "colab_type": "text"
      },
      "source": [
        "__Filter Properties__ <br>\n",
        "Due to the large number of unique values and limited information regarding them, we will filter out items with value counts less than 100 occurances. Then, we will use One Hot Encoding to prepare value property for modeling. "
      ]
    },
    {
      "cell_type": "code",
      "metadata": {
        "id": "RaTFhVv5EWVa",
        "colab_type": "code",
        "colab": {}
      },
      "source": [
        "# Filter for value count greater than 100\n",
        "useful_cols = list()\n",
        "cols = item_to_property_matrix.columns\n",
        "for col in cols:\n",
        "    value = len(item_to_property_matrix[col].value_counts())\n",
        "    if value < 100:\n",
        "        useful_cols.insert(0, col)"
      ],
      "execution_count": 0,
      "outputs": []
    },
    {
      "cell_type": "code",
      "metadata": {
        "id": "qFrjRXo6EUBn",
        "colab_type": "code",
        "colab": {}
      },
      "source": [
        "item_to_property_matrix = item_to_property_matrix[useful_cols]"
      ],
      "execution_count": 0,
      "outputs": []
    },
    {
      "cell_type": "code",
      "metadata": {
        "id": "iJcRlD0mEGd6",
        "colab_type": "code",
        "colab": {}
      },
      "source": [
        "# Hot one-encoded property values\n",
        "item_to_property_matrix_one_hot_sparse = pd.get_dummies(item_to_property_matrix)"
      ],
      "execution_count": 0,
      "outputs": []
    },
    {
      "cell_type": "code",
      "metadata": {
        "id": "bJaAKv0OFFww",
        "colab_type": "code",
        "outputId": "c135dfdd-f7a9-4f4f-d8ad-8d5bcbff0edb",
        "colab": {
          "base_uri": "https://localhost:8080/",
          "height": 34
        }
      },
      "source": [
        "item_to_property_matrix_one_hot_sparse.shape"
      ],
      "execution_count": 0,
      "outputs": [
        {
          "output_type": "execute_result",
          "data": {
            "text/plain": [
              "(235061, 14596)"
            ]
          },
          "metadata": {
            "tags": []
          },
          "execution_count": 50
        }
      ]
    },
    {
      "cell_type": "code",
      "metadata": {
        "id": "iqWXxT-fFF3I",
        "colab_type": "code",
        "colab": {}
      },
      "source": [
        "# Return a copy item-property matrix in Compressed Sparse Row format\n",
        "item_to_property_matrix_sparse = csr_matrix(item_to_property_matrix_one_hot_sparse.values)"
      ],
      "execution_count": 0,
      "outputs": []
    },
    {
      "cell_type": "markdown",
      "metadata": {
        "id": "Tp5HogXbF_x_",
        "colab_type": "text"
      },
      "source": [
        "__Calculate Matrix Sparsity__\n",
        "\n",
        "sparity = # ratings / total # elements"
      ]
    },
    {
      "cell_type": "code",
      "metadata": {
        "id": "6yLfuVbpJBxu",
        "colab_type": "code",
        "outputId": "83ec13a9-d039-4fdf-8b78-6dd333c88c31",
        "colab": {
          "base_uri": "https://localhost:8080/",
          "height": 34
        }
      },
      "source": [
        "print(user_to_item_matrix.count_nonzero())"
      ],
      "execution_count": 0,
      "outputs": [
        {
          "output_type": "stream",
          "text": [
            "1143619\n"
          ],
          "name": "stdout"
        }
      ]
    },
    {
      "cell_type": "code",
      "metadata": {
        "id": "kPsaiNQbjWnp",
        "colab_type": "code",
        "outputId": "2b8f79ab-da23-40cc-e59c-22277dbcd709",
        "colab": {
          "base_uri": "https://localhost:8080/",
          "height": 34
        }
      },
      "source": [
        "# Calculate sparity of user-item matrix\n",
        "user_item_sparse = user_to_item_matrix.count_nonzero()/(user_to_item_matrix.shape[0]*user_to_item_matrix.shape[1])\n",
        "\n",
        "print(f\"User-Item Matrix Sparsity: {round(user_item_sparse*100,2)}%\")"
      ],
      "execution_count": 0,
      "outputs": [
        {
          "output_type": "stream",
          "text": [
            "User-Item Matrix Sparsity: 0.0%\n"
          ],
          "name": "stdout"
        }
      ]
    },
    {
      "cell_type": "code",
      "metadata": {
        "id": "kOAf3dKtjWmJ",
        "colab_type": "code",
        "outputId": "b532764e-9479-4e1e-8769-901696435a4f",
        "colab": {
          "base_uri": "https://localhost:8080/",
          "height": 34
        }
      },
      "source": [
        "# Calculate sparity of item-properties matrix\n",
        "item_property_sparse = item_to_property_matrix_sparse.count_nonzero()/(item_to_property_matrix_sparse.shape[0]*item_to_property_matrix_sparse.shape[1])\n",
        "\n",
        "print(f\"Item-Property Matrix Sparsity: {round(item_property_sparse*100,2)}%\")"
      ],
      "execution_count": 0,
      "outputs": [
        {
          "output_type": "stream",
          "text": [
            "Item-Property Matrix Sparsity: 0.06%\n"
          ],
          "name": "stdout"
        }
      ]
    },
    {
      "cell_type": "markdown",
      "metadata": {
        "id": "-_y0DrflILGK",
        "colab_type": "text"
      },
      "source": [
        "__Observation__: These matrix are both very sparse. Modeling them might not be recommended."
      ]
    },
    {
      "cell_type": "code",
      "metadata": {
        "id": "5avGX2JT9F-m",
        "colab_type": "code",
        "colab": {}
      },
      "source": [
        ""
      ],
      "execution_count": 0,
      "outputs": []
    },
    {
      "cell_type": "code",
      "metadata": {
        "id": "OKgafDw-9FqZ",
        "colab_type": "code",
        "colab": {}
      },
      "source": [
        ""
      ],
      "execution_count": 0,
      "outputs": []
    },
    {
      "cell_type": "markdown",
      "metadata": {
        "id": "3rB09PsQG_2f",
        "colab_type": "text"
      },
      "source": [
        "#### Normalize by mean "
      ]
    },
    {
      "cell_type": "code",
      "metadata": {
        "id": "ANBCYZL2G-06",
        "colab_type": "code",
        "colab": {}
      },
      "source": [
        ""
      ],
      "execution_count": 0,
      "outputs": []
    },
    {
      "cell_type": "code",
      "metadata": {
        "id": "-JdmX_G_9FkX",
        "colab_type": "code",
        "colab": {}
      },
      "source": [
        ""
      ],
      "execution_count": 0,
      "outputs": []
    },
    {
      "cell_type": "markdown",
      "metadata": {
        "id": "3N-vTtJ3HiIv",
        "colab_type": "text"
      },
      "source": [
        "## Select a Model \n",
        "\n",
        "### Matrix Factorization \n",
        "- Alternating Least Squares\n",
        "- Schocastic Gradient Descent \n",
        "- Singular Value Decomposition \n",
        "Latent Factors \n",
        "\n",
        "### Important Considerations\n",
        "- Interpetability\n",
        "- Efficenty and Scalability \n",
        "- Diveristy \n",
        "- Serenditpty "
      ]
    },
    {
      "cell_type": "code",
      "metadata": {
        "id": "qI6SjhaV9FiA",
        "colab_type": "code",
        "colab": {}
      },
      "source": [
        "import random\n",
        "def make_train(ratings, pct_test = 0.2):\n",
        "    '''\n",
        "    This function will take in the original user-item matrix and \"mask\" a percentage of the original ratings where a\n",
        "    user-item interaction has taken place for use as a test set. The test set will contain all of the original ratings, \n",
        "    while the training set replaces the specified percentage of them with a zero in the original ratings matrix. \n",
        "    \n",
        "    parameters: \n",
        "    \n",
        "    ratings - the original ratings matrix from which you want to generate a train/test set. Test is just a complete\n",
        "    copy of the original set. This is in the form of a sparse csr_matrix. \n",
        "    \n",
        "    pct_test - The percentage of user-item interactions where an interaction took place that you want to mask in the \n",
        "    training set for later comparison to the test set, which contains all of the original ratings. \n",
        "    \n",
        "    returns:\n",
        "    \n",
        "    training_set - The altered version of the original data with a certain percentage of the user-item pairs \n",
        "    that originally had interaction set back to zero.\n",
        "    \n",
        "    test_set - A copy of the original ratings matrix, unaltered, so it can be used to see how the rank order \n",
        "    compares with the actual interactions.\n",
        "    \n",
        "    user_inds - From the randomly selected user-item indices, which user rows were altered in the training data.\n",
        "    This will be necessary later when evaluating the performance via AUC.\n",
        "    '''\n",
        "    test_set = ratings.copy() # Make a copy of the original set to be the test set. \n",
        "    test_set[test_set != 0] = 1 # Store the test set as a binary preference matrix\n",
        "    training_set = ratings.copy() # Make a copy of the original data we can alter as our training set. \n",
        "    nonzero_inds = training_set.nonzero() # Find the indices in the ratings data where an interaction exists\n",
        "    nonzero_pairs = list(zip(nonzero_inds[0], nonzero_inds[1])) # Zip these pairs together of user,item index into list\n",
        "    random.seed(0) # Set the random seed to zero for reproducibility\n",
        "    num_samples = int(np.ceil(pct_test*len(nonzero_pairs))) # Round the number of samples needed to the nearest integer\n",
        "    samples = random.sample(nonzero_pairs, num_samples) # Sample a random number of user-item pairs without replacement\n",
        "    user_inds = [index[0] for index in samples] # Get the user row indices\n",
        "    item_inds = [index[1] for index in samples] # Get the item column indices\n",
        "    training_set[user_inds, item_inds] = 0 # Assign all of the randomly chosen user-item pairs to zero\n",
        "    training_set.eliminate_zeros() # Get rid of zeros in sparse array storage after update to save space\n",
        "    return training_set, test_set, list(set(user_inds)) # Output the unique list of user rows that were altered"
      ],
      "execution_count": 0,
      "outputs": []
    },
    {
      "cell_type": "code",
      "metadata": {
        "id": "z0d2PK0lHggv",
        "colab_type": "code",
        "colab": {}
      },
      "source": [
        "X_train, X_test, item_users_altered = make_train(user_to_item_matrix, pct_test = 0.1)"
      ],
      "execution_count": 0,
      "outputs": []
    },
    {
      "cell_type": "code",
      "metadata": {
        "id": "7tsUuBqE9FZO",
        "colab_type": "code",
        "outputId": "cc30754f-d198-43f9-c039-8de5ee6564f2",
        "colab": {
          "base_uri": "https://localhost:8080/",
          "height": 204
        }
      },
      "source": [
        "# This is a new library. All the parameters should be grid searched for optimality, but due to time constraints \n",
        "# did not perfom grid search.\n",
        "no_comp, lr, ep = 30, 0.01, 10 \n",
        "model = LightFM(no_components=no_comp, learning_rate=lr, loss='warp')\n",
        "model.fit_partial(\n",
        "        X_train,\n",
        "        item_features=item_to_property_matrix_sparse,\n",
        "        epochs=ep,\n",
        "        num_threads=4,\n",
        "        verbose=True)"
      ],
      "execution_count": 0,
      "outputs": [
        {
          "output_type": "stream",
          "text": [
            "Epoch 0\n",
            "Epoch 1\n",
            "Epoch 2\n",
            "Epoch 3\n",
            "Epoch 4\n",
            "Epoch 5\n",
            "Epoch 6\n",
            "Epoch 7\n",
            "Epoch 8\n",
            "Epoch 9\n"
          ],
          "name": "stdout"
        },
        {
          "output_type": "execute_result",
          "data": {
            "text/plain": [
              "<lightfm.lightfm.LightFM at 0x7f7607ac3048>"
            ]
          },
          "metadata": {
            "tags": []
          },
          "execution_count": 58
        }
      ]
    },
    {
      "cell_type": "markdown",
      "metadata": {
        "id": "ID8Mtl6kIAYx",
        "colab_type": "text"
      },
      "source": [
        "## Evaulation Metric \n",
        "\n",
        "- Precision at K: of the top k recommendations, what propotion are relevant to the user?\n",
        "- Recall at K: proportion of items that were found in the top K recommendation"
      ]
    },
    {
      "cell_type": "code",
      "metadata": {
        "id": "6pFPLxuY9FTy",
        "colab_type": "code",
        "colab": {}
      },
      "source": [
        "from sklearn import metrics\n",
        "def auc_score(predictions, target):\n",
        "    '''\n",
        "    This simple function will output the area under the curve using sklearn's metrics. \n",
        "    \n",
        "    parameters:\n",
        "    - predictions: your prediction output\n",
        "    - test: the actual target result you are comparing to\n",
        "    returns:\n",
        "    - AUC (area under the Receiver Operating Characterisic curve)\n",
        "    '''\n",
        "    fpr, tpr, thresholds = metrics.roc_curve(target, predictions)\n",
        "    return metrics.auc(fpr, tpr)\n",
        "\n",
        "def normalise_for_predictions(arr):\n",
        "    arr[arr <= 1.5] = 0\n",
        "    arr[arr > 1.5] = 1\n",
        "    return arr\n",
        "\n",
        "def get_predictions(user_id, model):\n",
        "    pid_array = np.arange(n_items, dtype=np.int32)\n",
        "    uid_array = np.empty(n_items, dtype=np.int32)\n",
        "    uid_array.fill(user_id)\n",
        "    predictions = model.predict(\n",
        "            uid_array,\n",
        "            pid_array,\n",
        "            item_features=item_to_property_matrix_sparse,\n",
        "            num_threads=4)\n",
        "    \n",
        "    return predictions\n",
        "def calc_mean_auc(training_set, altered_users, model, test_set):\n",
        "    '''\n",
        "    This function will calculate the mean AUC by user for any user that had their user-item matrix altered. \n",
        "    \n",
        "    parameters:\n",
        "    \n",
        "    training_set - The training set resulting from make_train, where a certain percentage of the original\n",
        "    user/item interactions are reset to zero to hide them from the model \n",
        "    \n",
        "    predictions - The matrix of your predicted ratings for each user/item pair as output from the implicit MF.\n",
        "    These should be stored in a list, with user vectors as item zero and item vectors as item one. \n",
        "    \n",
        "    altered_users - The indices of the users where at least one user/item pair was altered from make_train function\n",
        "    \n",
        "    test_set - The test set constucted earlier from make_train function\n",
        "    \n",
        "    \n",
        "    \n",
        "    returns:\n",
        "    \n",
        "    The mean AUC (area under the Receiver Operator Characteristic curve) of the test set only on user-item interactions\n",
        "    there were originally zero to test ranking ability in addition to the most popular items as a benchmark.\n",
        "    '''\n",
        "    \n",
        "    store_auc = [] # An empty list to store the AUC for each user that had an item removed from the training set\n",
        "    popularity_auc = [] # To store popular AUC scores\n",
        "    pop_items = np.array(test_set.sum(axis = 0)).reshape(-1) # Get sum of item iteractions to find most popular\n",
        "    print (len(altered_users))\n",
        "    index = 0;\n",
        "    for user in altered_users: # Iterate through each user that had an item altered\n",
        "        print (index)\n",
        "        index = index + 1\n",
        "        training_row = training_set[user,:].toarray().reshape(-1) # Get the training set row\n",
        "        zero_inds = np.where(training_row == 0) # Find where the interaction had not yet occurred\n",
        "        # Get the predicted values based on our user/item vectors\n",
        "        pred = get_predictions(user, model)[zero_inds].reshape(-1)\n",
        "        pred = normalise_for_predictions(pred)\n",
        "        # Get only the items that were originally zero\n",
        "        # Select all ratings from the MF prediction for this user that originally had no iteraction\n",
        "        actual = test_set[user,:].toarray()[0,zero_inds].reshape(-1) \n",
        "        actual = normalise_for_predictions(actual)\n",
        "        # Select the binarized yes/no interaction pairs from the original full data\n",
        "        # that align with the same pairs in training \n",
        "        pop = pop_items[zero_inds] # Get the item popularity for our chosen items\n",
        "        store_auc.append(auc_score(pred, actual)) # Calculate AUC for the given user and store\n",
        "        popularity_auc.append(auc_score(pop, actual)) # Calculate AUC using most popular and score\n",
        "    # End users iteration\n",
        "    return float('%.3f'%np.mean(store_auc)), float('%.3f'%np.mean(popularity_auc))  \n",
        "   # Return the mean AUC rounded to three decimal places for both test and popularity benchmark"
      ],
      "execution_count": 0,
      "outputs": []
    },
    {
      "cell_type": "code",
      "metadata": {
        "id": "9ym5CI4d9FR1",
        "colab_type": "code",
        "colab": {}
      },
      "source": [
        "calc_mean_auc(X_train, item_users_altered,  model, X_test)"
      ],
      "execution_count": 0,
      "outputs": []
    },
    {
      "cell_type": "markdown",
      "metadata": {
        "id": "P5p5cOtsIr7F",
        "colab_type": "text"
      },
      "source": [
        "## Hyperparameter Tuning \n",
        "\n",
        "ALS \n",
        "- k # factors \n",
        "- regularization "
      ]
    },
    {
      "cell_type": "code",
      "metadata": {
        "id": "Di0fZaawJv9G",
        "colab_type": "code",
        "colab": {}
      },
      "source": [
        ""
      ],
      "execution_count": 0,
      "outputs": []
    },
    {
      "cell_type": "code",
      "metadata": {
        "id": "R9FIV6cFJwFp",
        "colab_type": "code",
        "colab": {}
      },
      "source": [
        ""
      ],
      "execution_count": 0,
      "outputs": []
    },
    {
      "cell_type": "code",
      "metadata": {
        "id": "2NAy4DHeJwJg",
        "colab_type": "code",
        "colab": {}
      },
      "source": [
        ""
      ],
      "execution_count": 0,
      "outputs": []
    },
    {
      "cell_type": "markdown",
      "metadata": {
        "id": "lxvtraldJwnZ",
        "colab_type": "text"
      },
      "source": [
        "## Post-Processing \n",
        "* Sort predicted rating and get top N \n",
        "use cosine similarity metric for item to item recommendation \n",
        "\n",
        "\"Because you viewed this...\""
      ]
    },
    {
      "cell_type": "code",
      "metadata": {
        "id": "HTFycUYHJwDN",
        "colab_type": "code",
        "colab": {}
      },
      "source": [
        ""
      ],
      "execution_count": 0,
      "outputs": []
    },
    {
      "cell_type": "code",
      "metadata": {
        "id": "6G_eOIs7JwA5",
        "colab_type": "code",
        "colab": {}
      },
      "source": [
        ""
      ],
      "execution_count": 0,
      "outputs": []
    },
    {
      "cell_type": "markdown",
      "metadata": {
        "id": "5gzDQEavKRpX",
        "colab_type": "text"
      },
      "source": [
        "## Exvaluation \n",
        "* Test in wild with A/B testing or userabilty feedback \n",
        "* ML train and split, hide ratings"
      ]
    }
  ]
}