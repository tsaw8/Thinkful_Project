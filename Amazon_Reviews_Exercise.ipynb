{
  "nbformat": 4,
  "nbformat_minor": 0,
  "metadata": {
    "kernelspec": {
      "display_name": "Python 3",
      "language": "python",
      "name": "python3"
    },
    "language_info": {
      "codemirror_mode": {
        "name": "ipython",
        "version": 3
      },
      "file_extension": ".py",
      "mimetype": "text/x-python",
      "name": "python",
      "nbconvert_exporter": "python",
      "pygments_lexer": "ipython3",
      "version": "3.6.2"
    },
    "colab": {
      "name": "Amazon Reviews Exercise.ipynb",
      "provenance": [],
      "toc_visible": true,
      "include_colab_link": true
    }
  },
  "cells": [
    {
      "cell_type": "markdown",
      "metadata": {
        "id": "view-in-github",
        "colab_type": "text"
      },
      "source": [
        "<a href=\"https://colab.research.google.com/github/tsaw8/Thinkful_Project/blob/master/Amazon_Reviews_Exercise.ipynb\" target=\"_parent\"><img src=\"https://colab.research.google.com/assets/colab-badge.svg\" alt=\"Open In Colab\"/></a>"
      ]
    },
    {
      "cell_type": "markdown",
      "metadata": {
        "id": "FgSrAmgDNDV_",
        "colab_type": "text"
      },
      "source": [
        "### Analyzing/Predicting Sentiment From Amazon Reviews\n",
        "\n",
        "For this exercise, let's go back to the sentiment analysis we did earlier in the course - specifically, the Amazon reviews dataset.\n",
        "\n",
        "It's important to start with a clear goal in mind. In this case, we'd like to determine if we can __predict whether a review is positive or negative based on the language in the review.__\n",
        "\n",
        "We're going to tackle this problem with Spark - so you'll need to apply the principles you've learned thus far in the context of Spark.\n",
        "\n",
        "Some tips to help you get started:\n",
        "1. Pyspark always needs to point at a running Spark instance. You can do that using a `SparkContext`.\n",
        "2. We're still working in batch mode, so you'll need to load an entire file into memory in order to run any models you build.\n",
        "3. Spark likes to execute models in a pipeline, so remember that when the time comes to set up your model.\n",
        "4. Spark's machine learning algorithms expect numeric variables."
      ]
    },
    {
      "cell_type": "code",
      "metadata": {
        "id": "4GPonnlhNMux",
        "colab_type": "code",
        "colab": {}
      },
      "source": [
        "# Import Spark \n",
        "!apt-get install openjdk-8-jdk-headless -qq > /dev/null\n",
        "!wget -q http://apache.osuosl.org/spark/spark-2.4.4/spark-2.4.4-bin-hadoop2.7.tgz\n",
        "!tar xf spark-2.4.4-bin-hadoop2.7.tgz"
      ],
      "execution_count": 0,
      "outputs": []
    },
    {
      "cell_type": "code",
      "metadata": {
        "id": "il586laANXSu",
        "colab_type": "code",
        "colab": {
          "base_uri": "https://localhost:8080/",
          "height": 68
        },
        "outputId": "b7439783-0886-467f-f52d-992716a2e5e6"
      },
      "source": [
        "# Install spark-related depdencies for Python\n",
        "!pip install -Uq findspark\n",
        "!pip install -Uq pyspark"
      ],
      "execution_count": 3,
      "outputs": [
        {
          "output_type": "stream",
          "text": [
            "\u001b[K     |████████████████████████████████| 215.7MB 52kB/s \n",
            "\u001b[K     |████████████████████████████████| 204kB 47.2MB/s \n",
            "\u001b[?25h  Building wheel for pyspark (setup.py) ... \u001b[?25l\u001b[?25hdone\n"
          ],
          "name": "stdout"
        }
      ]
    },
    {
      "cell_type": "code",
      "metadata": {
        "id": "5FTWLVl4NbRf",
        "colab_type": "code",
        "colab": {}
      },
      "source": [
        "# Set up required environment variables\n",
        "\n",
        "import os\n",
        "os.environ[\"JAVA_HOME\"] = \"/usr/lib/jvm/java-8-openjdk-amd64\"\n",
        "os.environ[\"SPARK_HOME\"] = \"/content/spark-2.4.4-bin-hadoop2.7\"\n",
        "\n",
        "import findspark\n",
        "findspark.init()"
      ],
      "execution_count": 0,
      "outputs": []
    },
    {
      "cell_type": "code",
      "metadata": {
        "id": "tyoTTqloNbWq",
        "colab_type": "code",
        "colab": {
          "base_uri": "https://localhost:8080/",
          "height": 122
        },
        "outputId": "cfb8779b-d41f-425b-8da0-e1a6309733d1"
      },
      "source": [
        "# Point Colaboratory to Google Drive\n",
        "\n",
        "from google.colab import drive\n",
        "drive.mount('/content/gdrive')"
      ],
      "execution_count": 5,
      "outputs": [
        {
          "output_type": "stream",
          "text": [
            "Go to this URL in a browser: https://accounts.google.com/o/oauth2/auth?client_id=947318989803-6bn6qk8qdgf4n4g3pfee6491hc0brc4i.apps.googleusercontent.com&redirect_uri=urn%3Aietf%3Awg%3Aoauth%3A2.0%3Aoob&scope=email%20https%3A%2F%2Fwww.googleapis.com%2Fauth%2Fdocs.test%20https%3A%2F%2Fwww.googleapis.com%2Fauth%2Fdrive%20https%3A%2F%2Fwww.googleapis.com%2Fauth%2Fdrive.photos.readonly%20https%3A%2F%2Fwww.googleapis.com%2Fauth%2Fpeopleapi.readonly&response_type=code\n",
            "\n",
            "Enter your authorization code:\n",
            "··········\n",
            "Mounted at /content/gdrive\n"
          ],
          "name": "stdout"
        }
      ]
    },
    {
      "cell_type": "code",
      "metadata": {
        "id": "B9K1tTAENDWI",
        "colab_type": "code",
        "colab": {}
      },
      "source": [
        "from pyspark import SparkContext\n",
        "from pyspark.sql import SparkSession, SQLContext\n",
        "\n",
        "from pyspark.sql.functions import UserDefinedFunction\n",
        "from pyspark.sql.types import IntegerType\n",
        "\n",
        "from pyspark.ml.feature import Tokenizer, Word2Vec\n",
        "\n",
        "# these imports are how we build and manager our data science processes: cleaning data, preparing a model,\n",
        "# executing the model, and evaluating the model.\n",
        "from pyspark.ml import Pipeline\n",
        "from pyspark.ml.classification import RandomForestClassifier\n",
        "from pyspark.ml.feature import IndexToString, StringIndexer, VectorIndexer, VectorAssembler\n",
        "from pyspark.ml.evaluation import MulticlassClassificationEvaluator\n",
        "from pyspark.mllib.evaluation import BinaryClassificationMetrics\n",
        "\n",
        "from matplotlib import pyplot as plt\n",
        "import numpy as np\n",
        "import functools\n",
        "%matplotlib inline"
      ],
      "execution_count": 0,
      "outputs": []
    },
    {
      "cell_type": "code",
      "metadata": {
        "id": "daGpDCBDNDWN",
        "colab_type": "code",
        "colab": {}
      },
      "source": [
        "# we use a set of constants for clarity and simplicity in managing the notebook.\n",
        "# this allows you to refer back to this cell at any time if you need to either confirm or modify any of these values.\n",
        "\n",
        "DATA_NAME = \"/content/gdrive/My Drive/Colab Datasets/reviews_Beauty_5.json\"\n",
        "APP_NAME = \"Sentiment Analysis with Amazon Reviews Exercise\"\n",
        "SPARK_URL = \"local[*]\"\n",
        "RANDOM_SEED = 141107\n",
        "TRAINING_DATA_RATIO = 0.8\n",
        "RF_NUM_TREES = 10\n",
        "RF_MAX_DEPTH = 4\n",
        "RF_NUM_BINS = 32"
      ],
      "execution_count": 0,
      "outputs": []
    },
    {
      "cell_type": "markdown",
      "metadata": {
        "id": "uC_crPhPNDWQ",
        "colab_type": "text"
      },
      "source": [
        "The first thing we always do is create a `SparkContext`, and then immediately afterward create a `sqlContext` to be able to load and manipulate an RDD/dataframe."
      ]
    },
    {
      "cell_type": "code",
      "metadata": {
        "id": "LkOr5LE4NDWR",
        "colab_type": "code",
        "colab": {}
      },
      "source": [
        "sc = SparkSession.builder.appName(APP_NAME).master(SPARK_URL).getOrCreate()\n",
        "sqlContext = SQLContext(sc)"
      ],
      "execution_count": 0,
      "outputs": []
    },
    {
      "cell_type": "markdown",
      "metadata": {
        "id": "aWl87XUONDWZ",
        "colab_type": "text"
      },
      "source": [
        "Now that we've connected to Spark and have a sqlContext ready, it's time to load our data. \n",
        "\n",
        "We assume that you've already checked over some of the data, understand its type, and expected values/lengths before you get here.\n",
        "\n",
        "Luckily this is a simple exercise - this is a JSON file and all we need to do is load it into a dataframe."
      ]
    },
    {
      "cell_type": "code",
      "metadata": {
        "id": "l3QDHyuhNDWc",
        "colab_type": "code",
        "colab": {}
      },
      "source": [
        "beauty = sqlContext.read.json(DATA_NAME)"
      ],
      "execution_count": 0,
      "outputs": []
    },
    {
      "cell_type": "markdown",
      "metadata": {
        "id": "0_us7H_7NDWf",
        "colab_type": "text"
      },
      "source": [
        "Let's check the shape of the dataset, and review the schema so we see what we're dealing with."
      ]
    },
    {
      "cell_type": "code",
      "metadata": {
        "id": "R_jDiTiJNDWg",
        "colab_type": "code",
        "colab": {
          "base_uri": "https://localhost:8080/",
          "height": 34
        },
        "outputId": "dee1ce2b-ae35-4d2f-87ca-e4cab907bbd4"
      },
      "source": [
        "print(f\"Dataset shape is {beauty.count():d} rows by {len(beauty.columns):d} columns.\")"
      ],
      "execution_count": 10,
      "outputs": [
        {
          "output_type": "stream",
          "text": [
            "Dataset shape is 198502 rows by 9 columns.\n"
          ],
          "name": "stdout"
        }
      ]
    },
    {
      "cell_type": "code",
      "metadata": {
        "id": "HEmz4313NDWl",
        "colab_type": "code",
        "colab": {
          "base_uri": "https://localhost:8080/",
          "height": 221
        },
        "outputId": "40074be9-852e-4004-eac3-15561be97154"
      },
      "source": [
        "beauty.printSchema()"
      ],
      "execution_count": 11,
      "outputs": [
        {
          "output_type": "stream",
          "text": [
            "root\n",
            " |-- asin: string (nullable = true)\n",
            " |-- helpful: array (nullable = true)\n",
            " |    |-- element: long (containsNull = true)\n",
            " |-- overall: double (nullable = true)\n",
            " |-- reviewText: string (nullable = true)\n",
            " |-- reviewTime: string (nullable = true)\n",
            " |-- reviewerID: string (nullable = true)\n",
            " |-- reviewerName: string (nullable = true)\n",
            " |-- summary: string (nullable = true)\n",
            " |-- unixReviewTime: long (nullable = true)\n",
            "\n"
          ],
          "name": "stdout"
        }
      ]
    },
    {
      "cell_type": "markdown",
      "metadata": {
        "id": "wD84FD6eNDWp",
        "colab_type": "text"
      },
      "source": [
        "Our schema shows that there is hope for our problem. Specifically, there are two columns that look interesting, and potentially a third:\n",
        "\n",
        "* __overall__: this looks like where we're keeping the starred review - on a scale of 1 to 5. We can make a decision on how we want to handle this in our model.\n",
        "* __reviewText__: This looks like it's the actual text of the review - we need to figure out from this whether or not it is positive or negative.\n",
        "* __summary__: This could also be helpful, but we need to understand what it is.\n",
        "\n",
        "Based on this cursory review of the dataset, we can see that we should be able to prepare this data such that we can use a classifier to model the sentiment (positive/negative) of the dataset.\n",
        "\n",
        "There are two data preparation steps we'll need to do before we run our model:\n",
        "1. Decide whether to recode our __overall__ column into a more limited variable - either simply __positive/negative__ or __positive/neutral/negative__\n",
        "2. Convert the text of each review into a numerical vector. Pyspark offers a number of methods to do this - we'll use __Word2Vec__"
      ]
    },
    {
      "cell_type": "markdown",
      "metadata": {
        "id": "baGkbSujNDWr",
        "colab_type": "text"
      },
      "source": [
        "__------------------------__"
      ]
    },
    {
      "cell_type": "markdown",
      "metadata": {
        "id": "KLm4iPQGNDWs",
        "colab_type": "text"
      },
      "source": [
        "Before we get going on our data preparation, let's take a look at the columns we mentioned above.\n",
        "\n",
        "To perform a SQL query on a dataframe, we need to create a `tempTable`."
      ]
    },
    {
      "cell_type": "code",
      "metadata": {
        "id": "HUi7nQvONDWt",
        "colab_type": "code",
        "colab": {}
      },
      "source": [
        "beauty.registerTempTable('reviews')"
      ],
      "execution_count": 0,
      "outputs": []
    },
    {
      "cell_type": "code",
      "metadata": {
        "id": "HtnLMjacNDWw",
        "colab_type": "code",
        "colab": {
          "base_uri": "https://localhost:8080/",
          "height": 187
        },
        "outputId": "029f9da5-d644-4907-9ed1-dc937c631e59"
      },
      "source": [
        "sqlContext.sql(\"select overall, count(overall) as reviewCount from reviews group by overall order by overall desc\").show()"
      ],
      "execution_count": 13,
      "outputs": [
        {
          "output_type": "stream",
          "text": [
            "+-------+-----------+\n",
            "|overall|reviewCount|\n",
            "+-------+-----------+\n",
            "|    5.0|     114531|\n",
            "|    4.0|      39741|\n",
            "|    3.0|      22248|\n",
            "|    2.0|      11456|\n",
            "|    1.0|      10526|\n",
            "+-------+-----------+\n",
            "\n"
          ],
          "name": "stdout"
        }
      ]
    },
    {
      "cell_type": "markdown",
      "metadata": {
        "id": "rbbX4hKpNDW3",
        "colab_type": "text"
      },
      "source": [
        "We see that most of the reviews are 5-star - so we certainly should recode. For our purposes, we can get closer to a balanced dataset if we recode to >3 is positive, <= 3 is negative. \n",
        "\n",
        "It's a bit of a stretch but a decent first pass.\n",
        "\n",
        "(Later, if you want to improve your classifier's performance, you could apply a resampling method to help balance the dataset)."
      ]
    },
    {
      "cell_type": "markdown",
      "metadata": {
        "id": "3tl1kLg0NDW5",
        "colab_type": "text"
      },
      "source": [
        "Let's recode the overall score to __positive__ or __negative__\n",
        "* __Positive__: overall > 3\n",
        "* __Negative__: overall <= 3\n",
        "\n",
        "The easiest path to recoding the data in this fashion is to create a new column, from a User Defined Function."
      ]
    },
    {
      "cell_type": "code",
      "metadata": {
        "id": "9Bvp-c4GNDW6",
        "colab_type": "code",
        "colab": {}
      },
      "source": [
        "udf = UserDefinedFunction(lambda x: 1 if x > 3.0 else -1, IntegerType())\n",
        "\n",
        "beauty_reviews = beauty.withColumn(\"overall_recode\",udf(beauty.overall))"
      ],
      "execution_count": 0,
      "outputs": []
    },
    {
      "cell_type": "markdown",
      "metadata": {
        "id": "RWNiDHKFNDW9",
        "colab_type": "text"
      },
      "source": [
        "This time let's just make a plot of the two labels - so we can see the imbalance."
      ]
    },
    {
      "cell_type": "code",
      "metadata": {
        "id": "CzGrhfxQNDW_",
        "colab_type": "code",
        "colab": {
          "base_uri": "https://localhost:8080/",
          "height": 461
        },
        "outputId": "a3d2515d-7835-4cb5-cbf0-5511364aad51"
      },
      "source": [
        "plt.rcParams['figure.figsize'] = (15, 6)\n",
        " \n",
        "statuses = beauty_reviews.groupBy('overall_recode').count().collect()\n",
        "\n",
        "categories = [i[0] for i in statuses]\n",
        "counts = [i[1] for i in statuses]\n",
        " \n",
        "ind = np.array(range(len(categories)))\n",
        "width = 0.35\n",
        "plt.bar(ind, counts, width=width, color='r')\n",
        " \n",
        "plt.ylabel('counts')\n",
        "plt.title('distribution')\n",
        "plt.xticks(ind + width/2., categories)"
      ],
      "execution_count": 15,
      "outputs": [
        {
          "output_type": "execute_result",
          "data": {
            "text/plain": [
              "([<matplotlib.axis.XTick at 0x7fe266e71a58>,\n",
              "  <matplotlib.axis.XTick at 0x7fe266e71390>],\n",
              " <a list of 2 Text xticklabel objects>)"
            ]
          },
          "metadata": {
            "tags": []
          },
          "execution_count": 15
        },
        {
          "output_type": "display_data",
          "data": {
            "image/png": "[encoded data removed]",
            "text/plain": [
              "<Figure size 1080x432 with 1 Axes>"
            ]
          },
          "metadata": {
            "tags": []
          }
        }
      ]
    },
    {
      "cell_type": "markdown",
      "metadata": {
        "id": "bqngD8JCNDXD",
        "colab_type": "text"
      },
      "source": [
        "Now it's time to look at the text and encode it into vectors.\n",
        "\n",
        "First, let's take a look at the relevant columns."
      ]
    },
    {
      "cell_type": "code",
      "metadata": {
        "id": "9eFLeKuvNDXG",
        "colab_type": "code",
        "colab": {
          "base_uri": "https://localhost:8080/",
          "height": 289
        },
        "outputId": "00126927-b157-49ac-a73a-813fec00dbd6"
      },
      "source": [
        "beauty_reviews.select(\"overall\", \"overall_recode\", \"summary\", \"reviewText\").show(10)"
      ],
      "execution_count": 16,
      "outputs": [
        {
          "output_type": "stream",
          "text": [
            "+-------+--------------+--------------------+--------------------+\n",
            "|overall|overall_recode|             summary|          reviewText|\n",
            "+-------+--------------+--------------------+--------------------+\n",
            "|    1.0|            -1|Don't waste your ...|Very oily and cre...|\n",
            "|    3.0|            -1|         OK Palette!|This palette was ...|\n",
            "|    4.0|             1|       great quality|The texture of th...|\n",
            "|    2.0|            -1|Do not work on my...|I really can't te...|\n",
            "|    3.0|            -1|          It's okay.|It was a little s...|\n",
            "|    5.0|             1|  Very nice palette!|I was very happy ...|\n",
            "|    1.0|            -1|              smh!!!|PLEASE DONT DO IT...|\n",
            "|    2.0|            -1|Chalky, Not Pigme...|Chalky,Not Pigmen...|\n",
            "|    2.0|            -1|no Lightening, no...|Did nothing for m...|\n",
            "|    3.0|            -1|         Its alright|I bought this pro...|\n",
            "+-------+--------------+--------------------+--------------------+\n",
            "only showing top 10 rows\n",
            "\n"
          ],
          "name": "stdout"
        }
      ]
    },
    {
      "cell_type": "markdown",
      "metadata": {
        "id": "wojU_bzANDXL",
        "colab_type": "text"
      },
      "source": [
        "For the start of this exercise we'll use only the `reviewText` column; later we could even merge the `summary` and `reviewText` to see if it improves the performance of the classifier."
      ]
    },
    {
      "cell_type": "code",
      "metadata": {
        "id": "or6avPI0NDXM",
        "colab_type": "code",
        "colab": {}
      },
      "source": [
        "tokenizer = Tokenizer(inputCol=\"reviewText\", outputCol=\"tokenized_text\").transform(beauty_reviews)\n",
        "\n",
        "word2Vec = Word2Vec(vectorSize=300, seed=42, inputCol=\"tokenized_text\", outputCol=\"w2v_vector\").fit(tokenizer)\n",
        "\n",
        "w2vdf=word2Vec.transform(tokenizer)"
      ],
      "execution_count": 0,
      "outputs": []
    },
    {
      "cell_type": "code",
      "metadata": {
        "id": "WBWE8JVuNDXP",
        "colab_type": "code",
        "colab": {
          "base_uri": "https://localhost:8080/",
          "height": 289
        },
        "outputId": "b4138844-4273-4594-f022-89be7286f938"
      },
      "source": [
        "w2vdf.printSchema()"
      ],
      "execution_count": 18,
      "outputs": [
        {
          "output_type": "stream",
          "text": [
            "root\n",
            " |-- asin: string (nullable = true)\n",
            " |-- helpful: array (nullable = true)\n",
            " |    |-- element: long (containsNull = true)\n",
            " |-- overall: double (nullable = true)\n",
            " |-- reviewText: string (nullable = true)\n",
            " |-- reviewTime: string (nullable = true)\n",
            " |-- reviewerID: string (nullable = true)\n",
            " |-- reviewerName: string (nullable = true)\n",
            " |-- summary: string (nullable = true)\n",
            " |-- unixReviewTime: long (nullable = true)\n",
            " |-- overall_recode: integer (nullable = true)\n",
            " |-- tokenized_text: array (nullable = true)\n",
            " |    |-- element: string (containsNull = true)\n",
            " |-- w2v_vector: vector (nullable = true)\n",
            "\n"
          ],
          "name": "stdout"
        }
      ]
    },
    {
      "cell_type": "code",
      "metadata": {
        "id": "ahQxaHn_NDXS",
        "colab_type": "code",
        "colab": {
          "base_uri": "https://localhost:8080/",
          "height": 309
        },
        "outputId": "1379d85c-4805-4cf7-ef6d-6143e1a6f07c"
      },
      "source": [
        "w2vdf.select(\"overall_recode\", \"reviewText\", \"tokenized_text\", \"w2v_vector\").show(10)"
      ],
      "execution_count": 19,
      "outputs": [
        {
          "output_type": "stream",
          "text": [
            "+--------------+--------------------+--------------------+--------------------+\n",
            "|overall_recode|          reviewText|      tokenized_text|          w2v_vector|\n",
            "+--------------+--------------------+--------------------+--------------------+\n",
            "|            -1|Very oily and cre...|[very, oily, and,...|[-0.0226022373660...|\n",
            "|            -1|This palette was ...|[this, palette, w...|[-0.0772195086573...|\n",
            "|             1|The texture of th...|[the, texture, of...|[-0.0365141680733...|\n",
            "|            -1|I really can't te...|[i, really, can't...|[-0.0428914880010...|\n",
            "|            -1|It was a little s...|[it, was, a, litt...|[-0.0120184136841...|\n",
            "|             1|I was very happy ...|[i, was, very, ha...|[-0.0313682227704...|\n",
            "|            -1|PLEASE DONT DO IT...|[please, dont, do...|[0.00460213304965...|\n",
            "|            -1|Chalky,Not Pigmen...|[chalky,not, pigm...|[-0.0265410064470...|\n",
            "|            -1|Did nothing for m...|[did, nothing, fo...|[-0.0292037462760...|\n",
            "|            -1|I bought this pro...|[i, bought, this,...|[-0.0125437814853...|\n",
            "+--------------+--------------------+--------------------+--------------------+\n",
            "only showing top 10 rows\n",
            "\n"
          ],
          "name": "stdout"
        }
      ]
    },
    {
      "cell_type": "markdown",
      "metadata": {
        "id": "6cVbEirBNDXY",
        "colab_type": "text"
      },
      "source": [
        "Since we have everything in numeric format, let's start with our old standby, the __random forest__. You can choose other classifiers to see how they perform, and even chain them together and use their collective predictions in an ensemble to improve model performance.\n",
        "\n",
        "Important - note that your data is now in the `w2vdf` object - not the `amznInstantVideo` object."
      ]
    },
    {
      "cell_type": "code",
      "metadata": {
        "id": "NXGd31m1NDXa",
        "colab_type": "code",
        "colab": {}
      },
      "source": [
        "# Build the training indexers/split data/classifier\n",
        "# first we'll generate a labelIndexer\n",
        "labelIndexer = StringIndexer(inputCol=\"overall_recode\", outputCol=\"indexedLabel\").fit(w2vdf)\n",
        "\n",
        "# now generate the indexed feature vector.\n",
        "featureIndexer = VectorIndexer(inputCol=\"w2v_vector\", outputCol=\"indexedFeatures\", maxCategories=4).fit(w2vdf)\n",
        "    \n",
        "# Split the data into training and validation sets (30% held out for testing)\n",
        "(trainingData, testData) = w2vdf.randomSplit([TRAINING_DATA_RATIO, 1 - TRAINING_DATA_RATIO])\n",
        "\n",
        "# Train a RandomForest model.\n",
        "rf = RandomForestClassifier(labelCol=\"indexedLabel\", featuresCol=\"indexedFeatures\", numTrees=RF_NUM_TREES)\n",
        "\n",
        "# Chain indexers and forest in a Pipeline\n",
        "pipeline = Pipeline(stages=[labelIndexer, featureIndexer, rf])"
      ],
      "execution_count": 0,
      "outputs": []
    },
    {
      "cell_type": "code",
      "metadata": {
        "id": "YMdln7y-NDXe",
        "colab_type": "code",
        "colab": {}
      },
      "source": [
        "# Train model.  This also runs the indexers.\n",
        "model = pipeline.fit(trainingData)\n",
        "\n",
        "# Make predictions.\n",
        "predictions = model.transform(testData)"
      ],
      "execution_count": 0,
      "outputs": []
    },
    {
      "cell_type": "code",
      "metadata": {
        "id": "LHlLW_9xNDXh",
        "colab_type": "code",
        "colab": {},
        "outputId": "e0731cea-ea77-4e9f-e042-4880413dd1db"
      },
      "source": [
        "# Select (prediction, true label) and compute test error\n",
        "evaluator = MulticlassClassificationEvaluator(\n",
        "    labelCol=\"indexedLabel\", predictionCol=\"prediction\", metricName=\"accuracy\")\n",
        "accuracy = evaluator.evaluate(predictions)\n",
        "\n",
        "print(f\"Test Error = {(1.0 - accuracy):g}\")\n",
        "print(f\"Accuracy = {accuracy:g}\")"
      ],
      "execution_count": 0,
      "outputs": [
        {
          "output_type": "stream",
          "text": [
            "Test Error = 0.209119\n",
            "Accuracy = 0.790881\n"
          ],
          "name": "stdout"
        }
      ]
    },
    {
      "cell_type": "markdown",
      "metadata": {
        "id": "7wHRIMWnNDXw",
        "colab_type": "text"
      },
      "source": [
        "We didn't do so well... but that's typical in data science work.\n",
        "\n",
        "Here's where you can go from here:\n",
        "1. Think about resampling the overall dataset to better balance positive and negative reviews.\n",
        "2. Use a different method to tokenize and convert the text to numeric (TF/IDF, etc).\n",
        "3. Adjust the parameters of your classifier.\n"
      ]
    }
  ]
}