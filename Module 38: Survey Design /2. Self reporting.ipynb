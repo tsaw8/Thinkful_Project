{
 "cells": [
  {
   "attachments": {},
   "cell_type": "markdown",
   "metadata": {},
   "source": [
    "# DRILL: When to use surveys\n",
    "\n",
    "State whether a survey would be the best option for answering each of the following questions.\n",
    "\n",
    "__1. Popularity of various Uber drivers.__\n",
    "If this question were applied nation wide, there would be too much variance in the sample size to compare with bias. This might be possible for a smaller scope, such as a city limit. If the survey consisted of a series of short questions, such rating the driver and experience, after driven with the Uber driver, this type of survey could work. However, there are many limitations with this method since most riders will leave a review if they an extreme experience. Uber drivers would also have to be weighted because not all drivers would have the same number of riders in a given time period. \n",
    "\n",
    "__2. A grocery store wants to know how much people like strawberry, chocolate, and vanilla ice cream.__\n",
    "Providing a short survey at the grocery store could generate some insight on the customer's preference for each type of ice cream flavor. However, I imagine the data being skewed by younger children who favor ice cream over adults.\n",
    "\n",
    "__3. Trojan wants to know whether their condoms are more popular among straight people or gay people.__\n",
    "There might be some issues with gay men responding to the survey since Trojan ads are geared towards straight men. \n",
    "\n",
    "__4. Recently, rental rates for HappyCars have increased by 30%, which is quite unusual. You want to find out why this is happening and how to keep the increase going.__\n",
    "I would recommend performing analystics on any new measures the company has introduced or consider current economic situation.\n",
    "\n",
    "__5. Assessing the success rate of a new advertising campaign.__\n",
    "A/B experimental testing with a set of metrics would be a better way to access the new campaign.\n",
    "\n",
    "__6. Measuring the effect of nurse/patient ratio on patient recovery rates in hospital wards.__\n",
    "A proper experimental design would be able to give concert results than a survey."
   ]
  },
  {
   "cell_type": "code",
   "execution_count": null,
   "metadata": {},
   "outputs": [],
   "source": []
  }
 ],
 "metadata": {
  "kernelspec": {
   "display_name": "Python 3",
   "language": "python",
   "name": "python3"
  },
  "language_info": {
   "codemirror_mode": {
    "name": "ipython",
    "version": 3
   },
   "file_extension": ".py",
   "mimetype": "text/x-python",
   "name": "python",
   "nbconvert_exporter": "python",
   "pygments_lexer": "ipython3",
   "version": "3.6.8"
  }
 },
 "nbformat": 4,
 "nbformat_minor": 2
}
