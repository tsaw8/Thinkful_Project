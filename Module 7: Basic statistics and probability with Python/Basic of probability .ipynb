{
 "cells": [
  {
   "cell_type": "markdown",
   "metadata": {},
   "source": [
    "# Drill set 1 \n",
    "\n",
    "## Question 1 \n",
    "The probability of HTHH, HHHH, and TTHH would be (1/2 * 1/2 * 1/2 *1/2) = 1/16 \n",
    "\n",
    "## Question 2\n",
    "The probability of not choosing a man is 24/45\n",
    "\n",
    "## Question 3 \n",
    "(10% * 0.005%) = 0.0005% \n",
    "\n",
    "## Question 4 \n",
    "There is a low chance of the user being asked to complete the survey if they are not surfing the website for long. "
   ]
  },
  {
   "cell_type": "markdown",
   "metadata": {},
   "source": [
    "# Drill set 2 \n",
    "\n",
    "## Question 1 postive \n",
    "(positve w/ disease * pop w/ disease)/ (false positive * pop w/o disease)\n",
    "\n",
    "(0.98 * 0.005)/ (0.1 * 0.995) = 0.1044\n",
    "\n",
    "## Question 2 correct diagnose \n",
    "98% \n",
    "\n",
    "## Question 3 correct identify of non-suffer \n",
    "90% \n",
    "\n",
    "## Question 4 misclassify the person \n",
    "(positive w/ disease * pop w/ diseaes)/(neg w/ disease * pop w/o disease)\n",
    "\n",
    "(0.98 * 0.005)/(0.9 * 0.995) = 0.0049/0.8955 = 0.0054\n",
    "\n",
    "correct answer \n",
    "1-(.98*.005 + .9*.995)=.0996"
   ]
  },
  {
   "cell_type": "code",
   "execution_count": null,
   "metadata": {},
   "outputs": [],
   "source": []
  }
 ],
 "metadata": {
  "kernelspec": {
   "display_name": "Python 3",
   "language": "python",
   "name": "python3"
  },
  "language_info": {
   "codemirror_mode": {
    "name": "ipython",
    "version": 3
   },
   "file_extension": ".py",
   "mimetype": "text/x-python",
   "name": "python",
   "nbconvert_exporter": "python",
   "pygments_lexer": "ipython3",
   "version": "3.7.0"
  }
 },
 "nbformat": 4,
 "nbformat_minor": 2
}
