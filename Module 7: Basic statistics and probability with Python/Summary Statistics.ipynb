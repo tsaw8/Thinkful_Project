{
 "cells": [
  {
   "cell_type": "markdown",
   "metadata": {},
   "source": [
    "## Question 1 \n",
    "\n",
    "age = [6, 8, 8, 10, 11, 12, 14]\n",
    "\n",
    "mean = 9.85\n",
    "\n",
    "median = 10\n",
    "\n",
    "mode = 8\n",
    "\n",
    "variance = (14.822, 3.42, 3.42, 0.02, 1.32, 4.62, 17.22)/(7-1) = 44.84/(7-1) = 7.47\n",
    "\n",
    "standard deviation = 2.73\n",
    "\n",
    "standard error = 2.73/2.645 = 1.03"
   ]
  },
  {
   "cell_type": "code",
   "execution_count": 1,
   "metadata": {},
   "outputs": [
    {
     "name": "stdout",
     "output_type": "stream",
     "text": [
      "mean:  9.857142857142858\n",
      "median:  10.0\n",
      "variance:  6.408163265306122\n",
      "std. deviation : 2.531435020952764\n",
      "standard error : 1.0334540197243194\n",
      "None\n"
     ]
    }
   ],
   "source": [
    "import numpy as np\n",
    "age = [6, 8, 8, 10, 11, 12, 14]\n",
    "\n",
    "def summarystats(age):\n",
    "    print(\"mean: \",np.mean(age))\n",
    "    print(\"median: \",np.median(age))\n",
    "    print(\"variance: \",np.var(age))\n",
    "    print(\"std. deviation :\",np.std(age))\n",
    "    print(\"standard error :\",np.std(age)/np.sqrt(len(age)-1))\n",
    "    \n",
    "print(summarystats(age))"
   ]
  },
  {
   "cell_type": "markdown",
   "metadata": {},
   "source": [
    "## Question 2\n",
    "\n",
    "I would use the meidan and standard deviation to describe the data because I would depict the data as a histogram. The median would represent the middle of the bell while the standard devidation would shape the rest of the bell. "
   ]
  },
  {
   "cell_type": "markdown",
   "metadata": {},
   "source": [
    "## Question 3 \n",
    "\n",
    "age2 = [7, 8, 8, 10, 11, 12, 14]\n",
    "\n",
    "mean = 10\n",
    "\n",
    "median = 10\n",
    "\n",
    "mode = 8\n",
    "\n",
    "variance = (9, 4, 4, 0, 1, 4, 16)/(7-1) = 38/(7-1) = 6.33\n",
    "\n",
    "standard deviation = 2.52\n",
    "\n",
    "standard error = 2.52/sqrt(7) = 0.95\n",
    "\n",
    "Changing one data point didn't have much effect on the central tendency indicators. However, there was change in all three estimate of variance."
   ]
  },
  {
   "cell_type": "code",
   "execution_count": 2,
   "metadata": {},
   "outputs": [
    {
     "name": "stdout",
     "output_type": "stream",
     "text": [
      "mean:  10.0\n",
      "median:  10.0\n",
      "variance:  5.428571428571429\n",
      "std. deviation : 2.32992949004287\n",
      "standard error : 0.951189731211342\n",
      "mean:  10.0\n",
      "median:  10.0\n",
      "variance:  5.428571428571429\n",
      "std. deviation : 2.32992949004287\n",
      "standard error : 0.951189731211342\n",
      "None\n"
     ]
    }
   ],
   "source": [
    "age2 = [7, 8, 8, 10, 11, 12, 14]\n",
    "summarystats(age2)\n",
    "print(summarystats(age2))"
   ]
  },
  {
   "cell_type": "markdown",
   "metadata": {},
   "source": [
    "## Question 4\n",
    "\n",
    "age3 = [1, 7, 8, 10, 11, 12, 14]\n",
    "\n",
    "mean = 9\n",
    "\n",
    "median = 10\n",
    "\n",
    "mode = none\n",
    "\n",
    "variance = (64, 4, 1, 1, 4, 9, 25)/(7-1) = 108/(7-1) = 18\n",
    "\n",
    "standard deviation = 4.24\n",
    "\n",
    "standard error = 4.24/sqrt(7) = 1.6\n",
    "\n",
    "The median was not effected by the new data point, however, all other central tendency and variance estimation did change. "
   ]
  },
  {
   "cell_type": "code",
   "execution_count": 5,
   "metadata": {},
   "outputs": [
    {
     "name": "stdout",
     "output_type": "stream",
     "text": [
      "mean:  9.0\n",
      "median:  10.0\n",
      "variance:  15.428571428571429\n",
      "std. deviation : 3.927922024247863\n",
      "standard error : 1.6035674514745466\n",
      "mean:  9.0\n",
      "median:  10.0\n",
      "variance:  15.428571428571429\n",
      "std. deviation : 3.927922024247863\n",
      "standard error : 1.6035674514745466\n",
      "None\n"
     ]
    }
   ],
   "source": [
    "age3 = [1, 7, 8, 10, 11, 12, 14]\n",
    "summarystats(age3)\n",
    "print(summarystats(age3))"
   ]
  },
  {
   "cell_type": "markdown",
   "metadata": {},
   "source": [
    "## Question 5\n",
    "\n",
    "magizine = [5%, 17%, 20%, 23%]\n",
    "\n",
    "65%/400 = 0.16\n",
    "\n",
    "16% of adult Americans were Brady Bunch fans"
   ]
  },
  {
   "cell_type": "code",
   "execution_count": null,
   "metadata": {},
   "outputs": [],
   "source": []
  }
 ],
 "metadata": {
  "kernelspec": {
   "display_name": "Python 3",
   "language": "python",
   "name": "python3"
  },
  "language_info": {
   "codemirror_mode": {
    "name": "ipython",
    "version": 3
   },
   "file_extension": ".py",
   "mimetype": "text/x-python",
   "name": "python",
   "nbconvert_exporter": "python",
   "pygments_lexer": "ipython3",
   "version": "3.7.0"
  }
 },
 "nbformat": 4,
 "nbformat_minor": 2
}
