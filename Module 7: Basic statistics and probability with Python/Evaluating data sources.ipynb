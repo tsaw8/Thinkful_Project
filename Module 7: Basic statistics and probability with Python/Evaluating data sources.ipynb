{
 "cells": [
  {
   "cell_type": "markdown",
   "metadata": {},
   "source": [
    "## 1 Data source \n",
    "The data might be biased because it is during an exceptional circumstance. People may have rented locations closer to Christmas vacation spots than on the norm. \n",
    "\n",
    "Sample data that wouldn't be effected by a major holiday or focusing on popular neighborhoods during holidays would be more appropriate. "
   ]
  },
  {
   "cell_type": "markdown",
   "metadata": {},
   "source": [
    "## 2 Data source \n",
    "The data might be biased due to terrorist attack on the day pior drastically increasing mental health services in area of aftermath.\n",
    "\n",
    "Sample data where there hadn't been terrorist attacks in a certain time span. The question would be reframed to compare cities directly effected by aftermath and cities not effected. "
   ]
  },
  {
   "cell_type": "markdown",
   "metadata": {},
   "source": [
    "## 3 Data source \n",
    "\n",
    "The survey was targeted towards university students. This sample may not represent the majority of the population of pub goers. "
   ]
  },
  {
   "cell_type": "code",
   "execution_count": null,
   "metadata": {},
   "outputs": [],
   "source": []
  }
 ],
 "metadata": {
  "kernelspec": {
   "display_name": "Python 3",
   "language": "python",
   "name": "python3"
  },
  "language_info": {
   "codemirror_mode": {
    "name": "ipython",
    "version": 3
   },
   "file_extension": ".py",
   "mimetype": "text/x-python",
   "name": "python",
   "nbconvert_exporter": "python",
   "pygments_lexer": "ipython3",
   "version": "3.7.0"
  }
 },
 "nbformat": 4,
 "nbformat_minor": 2
}
