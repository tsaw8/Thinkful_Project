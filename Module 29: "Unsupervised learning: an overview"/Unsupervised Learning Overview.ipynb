{
 "cells": [
  {
   "cell_type": "markdown",
   "metadata": {},
   "source": [
    "## For each of these scenarios decide if you could use supervised or unsupervised techniques, or both!"
   ]
  },
  {
   "cell_type": "markdown",
   "metadata": {},
   "source": [
    "### 1. Define the likelihood that an individual will contract a specific disease\n",
    "\n",
    "We can use both supervised learning (Naive Bayes) and clustering to generate a probabilistic classifier to produce maximum likelihood estimation contracting a specific disease."
   ]
  },
  {
   "cell_type": "markdown",
   "metadata": {},
   "source": [
    "### 2. Translate a set of images into variables for modeling\n",
    "\n",
    "Clustering could be used to group images into major groups for modeling."
   ]
  },
  {
   "cell_type": "markdown",
   "metadata": {},
   "source": [
    "### 3. An ecommerce company wants to identify power users\n",
    "If power user is defined as a computer user who uses advanced features of computer hardware than the average user, we could employ models with interpretability such as decision trees or random forest to return power users. Clustering could be useful in grouping different levels of user."
   ]
  },
  {
   "cell_type": "markdown",
   "metadata": {},
   "source": [
    "### 4. That same company wants to see shopping patterns in users\n",
    "Supervised learning models could be employed to test out hypothesises regarding shopping patterns. "
   ]
  },
  {
   "cell_type": "markdown",
   "metadata": {},
   "source": [
    "### 5. You want to reduce the number of variables inputting into your random forest model\n",
    "Feature selection can be completed by looking at the feature importance of the model. "
   ]
  }
 ],
 "metadata": {
  "kernelspec": {
   "display_name": "Python 3",
   "language": "python",
   "name": "python3"
  },
  "language_info": {
   "codemirror_mode": {
    "name": "ipython",
    "version": 3
   },
   "file_extension": ".py",
   "mimetype": "text/x-python",
   "name": "python",
   "nbconvert_exporter": "python",
   "pygments_lexer": "ipython3",
   "version": "3.6.8"
  }
 },
 "nbformat": 4,
 "nbformat_minor": 2
}
