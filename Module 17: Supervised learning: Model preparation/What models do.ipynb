{
 "cells": [
  {
   "cell_type": "markdown",
   "metadata": {},
   "source": [
    "# Assignment\n",
    "To complete this assignment, submit a link to a Jupyter notebook containing your solutions to the following tasks:"
   ]
  },
  {
   "cell_type": "markdown",
   "metadata": {},
   "source": [
    "#### 1.Try to model the result of a coin toss. In your model, include any features that you think important in explaining the result. Discuss with your mentor about the pros and cons of adding too many features into your model."
   ]
  },
  {
   "cell_type": "markdown",
   "metadata": {},
   "source": [
    "Assuming that the proability for both outcomes are equal, we may include the following featutres in a coin toss model:<br>\n",
    "\n",
    ">The position of the coin being held before the toss. <br>\n",
    ">The force applied to the coin.<br>\n",
    ">The weight of the coin.<br>\n",
    ">The horizontal distance between the place the coin is tossed and the place it should fall into.<br>\n",
    ">The frictions of the hand skin and the air.<br>\n",
    "\n",
    "Adding a numerous amount of features would require more experimentation to collect all the data. On the other hand, reducing the amount of features means lossing a piece of information. "
   ]
  },
  {
   "cell_type": "markdown",
   "metadata": {},
   "source": [
    "#### 2. If you ever used Netflix, you should already have realized that it provides some recommendations for you to watch. In data science, this is an example of the so-called recommendations systems. Read this nontechnical blog post of Netflix about how they model their recommendations systems. Then, derive the features they use in their recommendations engines and discuss what else can be incorporated into this model."
   ]
  },
  {
   "cell_type": "markdown",
   "metadata": {},
   "source": [
    "\n",
    "According to the article, Netflix feed the following information to its recommendation systems:<br>\n",
    "\n",
    ">viewing history <br>\n",
    ">past rated titles by user<br>\n",
    ">other members with similar tastes and preferences on Netflix service<br>\n",
    ">information about the titles<br>\n",
    ">the time of streaming<br>\n",
    ">the devices being watched on<br>\n",
    ">lengthen of stream session<br>\n",
    "\n",
    "Additional features may include:<br>\n",
    "\n",
    ">localization information to share similar taste<br>\n",
    ">actors/actresses who are featuring in the movie"
   ]
  },
  {
   "cell_type": "code",
   "execution_count": null,
   "metadata": {},
   "outputs": [],
   "source": []
  }
 ],
 "metadata": {
  "kernelspec": {
   "display_name": "Python 3",
   "language": "python",
   "name": "python3"
  },
  "language_info": {
   "codemirror_mode": {
    "name": "ipython",
    "version": 3
   },
   "file_extension": ".py",
   "mimetype": "text/x-python",
   "name": "python",
   "nbconvert_exporter": "python",
   "pygments_lexer": "ipython3",
   "version": "3.6.8"
  }
 },
 "nbformat": 4,
 "nbformat_minor": 2
}
