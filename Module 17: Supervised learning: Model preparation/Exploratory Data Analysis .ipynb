{
 "cells": [
  {
   "cell_type": "markdown",
   "metadata": {},
   "source": [
    "# Assignment\n",
    "\n",
    "To complete this assignment, submit a link to a gist file or enter text directly below with your answers to the following:"
   ]
  },
  {
   "cell_type": "markdown",
   "metadata": {},
   "source": [
    "#### 1. What is the goal of EDA (exploratory data analysis)?\n",
    "\n",
    "The goal of EDA is to explore data to comprehend and identify tends that may help answer our target question. This involves cleaning the data, treating outliers, selecting useful features, and continuously reexamining the data. \n"
   ]
  },
  {
   "cell_type": "markdown",
   "metadata": {},
   "source": [
    "#### 2. Suppose that you are given a dataset of customer product reviews for an e-commerce company. Each review is scored as a Likert-style survey item where 1 indicates a negative sentiment about the product and a 5 is positive. These reviews are collected on the company's website.\n",
    "\n",
    "_a. What problems do you expect to find in the raw data?_ \n",
    "\n",
    "Numerous challenges may appear in an Likert-style survey. For example, a format for entering data may not have been established, leading to various forms of responses. If the data was not entered as numeric values from 1 to 5, we may have to identify key words that correlate to each sentiment score. In addition, there could also be symbols, spacing issues, and missing values. \n",
    "\n",
    "_b. If your task is to build features that give information about customer sentiments, how would you approach this task and what kind of methods would you apply to accomplish it?_ \n",
    "\n",
    "First, I would open the dataset in Excel and skim through a 100 rows to identity common trends of sentiment scores.  Next, I would attempt to establish a common format by converting all inputs as strings. If there are numeric values, I would convert those to the corresponding sentiment word. With the trends that were identified, I would also implement it in this step. To check my progress, I would group the data by sentiment scores and check for scores that occurred only once. If the number of scores that occurred only once decreases after each format conversion, I would deem this as a success. \n",
    "\n",
    "_c. Try to identify some potentially useful features that you might derive from the raw data. How would you derive them and how would you assess the usefulness of those features?_\n",
    "\n",
    "In order to identify potentially useful features from raw data, it would need to be processed. I might consider running the describe function to see how many unique outcomes there are. As previously mentioned, I would also group by sentiment score to see what are the most frequently occurring data points. Then, I would compare to see if there are any similarities between sentiment scores with high and low occurrence. \n"
   ]
  }
 ],
 "metadata": {
  "kernelspec": {
   "display_name": "Python 3",
   "language": "python",
   "name": "python3"
  },
  "language_info": {
   "codemirror_mode": {
    "name": "ipython",
    "version": 3
   },
   "file_extension": ".py",
   "mimetype": "text/x-python",
   "name": "python",
   "nbconvert_exporter": "python",
   "pygments_lexer": "ipython3",
   "version": "3.6.8"
  }
 },
 "nbformat": 4,
 "nbformat_minor": 2
}
