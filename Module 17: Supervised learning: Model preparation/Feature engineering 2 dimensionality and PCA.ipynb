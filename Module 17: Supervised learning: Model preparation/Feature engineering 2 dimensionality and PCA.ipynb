{
 "cells": [
  {
   "cell_type": "markdown",
   "metadata": {},
   "source": [
    "# Assignment\n",
    "In this assignment, you'll continue working with the U.S. Education Dataset from Kaggle. The data gives detailed state level information on the several facets of the state of education on annual basis. \n",
    "\n",
    "Don't forget to apply the most suitable missing value filling techniques you applied in the previous checkpoints to the data. You should provide your answers to the following questions after you handled the missing values.\n",
    "\n",
    "Say, we want to understand the relationship between the expenditures of the governments and the students' overall success in the math and reading.\n"
   ]
  },
  {
   "cell_type": "code",
   "execution_count": 1,
   "metadata": {},
   "outputs": [],
   "source": [
    "# Libraries \n",
    "\n",
    "import pandas as pd\n",
    "import matplotlib.pyplot as plt\n",
    "import seaborn as sns\n",
    "from sqlalchemy import create_engine\n",
    "import warnings\n",
    "\n",
    "warnings.filterwarnings('ignore')\n",
    "sns.set(style=\"whitegrid\")\n",
    "\n",
    "\n",
    "postgres_user = 'dsbc_student'\n",
    "postgres_pw = '7*.8G9QH21'\n",
    "postgres_host = '142.93.121.174'\n",
    "postgres_port = '5432'\n",
    "postgres_db = 'useducation'\n",
    "\n",
    "engine = create_engine('postgresql://{}:{}@{}:{}/{}'.format(\n",
    "    postgres_user, postgres_pw, postgres_host, postgres_port, postgres_db))\n",
    "\n",
    "education_df = pd.read_sql_query('select * from useducation',con=engine)\n",
    "\n",
    "# no need for an open connection, \n",
    "# as we're only doing a single query\n",
    "engine.dispose()"
   ]
  },
  {
   "cell_type": "code",
   "execution_count": 2,
   "metadata": {},
   "outputs": [],
   "source": [
    "# Replace missing values with interpolation since data is time series\n",
    "\n",
    "education2_df = education_df.copy()\n",
    "\n",
    "null_val = ['ENROLL','TOTAL_REVENUE','FEDERAL_REVENUE','STATE_REVENUE','LOCAL_REVENUE',\n",
    "           'TOTAL_EXPENDITURE','INSTRUCTION_EXPENDITURE','SUPPORT_SERVICES_EXPENDITURE',\n",
    "           'OTHER_EXPENDITURE','CAPITAL_OUTLAY_EXPENDITURE','GRADES_PK_G','GRADES_KG_G',\n",
    "           'GRADES_4_G','GRADES_8_G','GRADES_12_G','GRADES_1_8_G','GRADES_9_12_G','GRADES_ALL_G',\n",
    "           'AVG_MATH_4_SCORE','AVG_MATH_8_SCORE','AVG_READING_4_SCORE','AVG_READING_8_SCORE']\n",
    "\n",
    "for col in null_val:\n",
    "    education2_df.loc[:, col].interpolate(inplace=True)\n",
    "    \n",
    "# we drop the null values after interpolation\n",
    "education2_df.dropna(inplace=True)"
   ]
  },
  {
   "cell_type": "markdown",
   "metadata": {},
   "source": [
    "#### 1. Create a new score variable from the weighted averages of all score variables in the datasets. Notice that the number of students in the 4th grade isn't the same as the number of students in the 8th grade. So, you should appropriately weigh the scores!"
   ]
  },
  {
   "cell_type": "code",
   "execution_count": 3,
   "metadata": {},
   "outputs": [],
   "source": [
    "# Create overall score\n",
    "\n",
    "education2_df[\"overall_score\"] = (education2_df[\"GRADES_4_G\"]*((education2_df[\"AVG_MATH_4_SCORE\"] + \n",
    "                                                                education2_df[\"AVG_READING_4_SCORE\"])*0.5) + \n",
    "                                  education2_df[\"GRADES_8_G\"]\n",
    "                                 * ((education2_df[\"AVG_MATH_8_SCORE\"] + \n",
    "                                     education2_df[\"AVG_READING_8_SCORE\"])*0.5))/(education2_df[\"GRADES_4_G\"] + \n",
    "                                                                                  education2_df[\"GRADES_8_G\"])"
   ]
  },
  {
   "cell_type": "markdown",
   "metadata": {},
   "source": [
    "\n",
    "We weighted the score variables using the number of students in the respective grades."
   ]
  },
  {
   "cell_type": "markdown",
   "metadata": {},
   "source": [
    "#### 2. What are the correlations between this newly created score variable and the expenditure types? Which 1 of the expenditure types is more correlated than the others?"
   ]
  },
  {
   "cell_type": "code",
   "execution_count": 4,
   "metadata": {},
   "outputs": [
    {
     "data": {
      "text/html": [
       "<div>\n",
       "<style scoped>\n",
       "    .dataframe tbody tr th:only-of-type {\n",
       "        vertical-align: middle;\n",
       "    }\n",
       "\n",
       "    .dataframe tbody tr th {\n",
       "        vertical-align: top;\n",
       "    }\n",
       "\n",
       "    .dataframe thead th {\n",
       "        text-align: right;\n",
       "    }\n",
       "</style>\n",
       "<table border=\"1\" class=\"dataframe\">\n",
       "  <thead>\n",
       "    <tr style=\"text-align: right;\">\n",
       "      <th></th>\n",
       "      <th>overall_score</th>\n",
       "      <th>TOTAL_EXPENDITURE</th>\n",
       "      <th>INSTRUCTION_EXPENDITURE</th>\n",
       "      <th>SUPPORT_SERVICES_EXPENDITURE</th>\n",
       "      <th>OTHER_EXPENDITURE</th>\n",
       "      <th>CAPITAL_OUTLAY_EXPENDITURE</th>\n",
       "    </tr>\n",
       "  </thead>\n",
       "  <tbody>\n",
       "    <tr>\n",
       "      <th>overall_score</th>\n",
       "      <td>1.000000</td>\n",
       "      <td>0.204239</td>\n",
       "      <td>0.207131</td>\n",
       "      <td>0.221824</td>\n",
       "      <td>0.169775</td>\n",
       "      <td>0.128087</td>\n",
       "    </tr>\n",
       "    <tr>\n",
       "      <th>TOTAL_EXPENDITURE</th>\n",
       "      <td>0.204239</td>\n",
       "      <td>1.000000</td>\n",
       "      <td>0.992698</td>\n",
       "      <td>0.992435</td>\n",
       "      <td>0.951726</td>\n",
       "      <td>0.928129</td>\n",
       "    </tr>\n",
       "    <tr>\n",
       "      <th>INSTRUCTION_EXPENDITURE</th>\n",
       "      <td>0.207131</td>\n",
       "      <td>0.992698</td>\n",
       "      <td>1.000000</td>\n",
       "      <td>0.979165</td>\n",
       "      <td>0.920297</td>\n",
       "      <td>0.895527</td>\n",
       "    </tr>\n",
       "    <tr>\n",
       "      <th>SUPPORT_SERVICES_EXPENDITURE</th>\n",
       "      <td>0.221824</td>\n",
       "      <td>0.992435</td>\n",
       "      <td>0.979165</td>\n",
       "      <td>1.000000</td>\n",
       "      <td>0.953411</td>\n",
       "      <td>0.905265</td>\n",
       "    </tr>\n",
       "    <tr>\n",
       "      <th>OTHER_EXPENDITURE</th>\n",
       "      <td>0.169775</td>\n",
       "      <td>0.951726</td>\n",
       "      <td>0.920297</td>\n",
       "      <td>0.953411</td>\n",
       "      <td>1.000000</td>\n",
       "      <td>0.923468</td>\n",
       "    </tr>\n",
       "    <tr>\n",
       "      <th>CAPITAL_OUTLAY_EXPENDITURE</th>\n",
       "      <td>0.128087</td>\n",
       "      <td>0.928129</td>\n",
       "      <td>0.895527</td>\n",
       "      <td>0.905265</td>\n",
       "      <td>0.923468</td>\n",
       "      <td>1.000000</td>\n",
       "    </tr>\n",
       "  </tbody>\n",
       "</table>\n",
       "</div>"
      ],
      "text/plain": [
       "                              overall_score  TOTAL_EXPENDITURE  \\\n",
       "overall_score                      1.000000           0.204239   \n",
       "TOTAL_EXPENDITURE                  0.204239           1.000000   \n",
       "INSTRUCTION_EXPENDITURE            0.207131           0.992698   \n",
       "SUPPORT_SERVICES_EXPENDITURE       0.221824           0.992435   \n",
       "OTHER_EXPENDITURE                  0.169775           0.951726   \n",
       "CAPITAL_OUTLAY_EXPENDITURE         0.128087           0.928129   \n",
       "\n",
       "                              INSTRUCTION_EXPENDITURE  \\\n",
       "overall_score                                0.207131   \n",
       "TOTAL_EXPENDITURE                            0.992698   \n",
       "INSTRUCTION_EXPENDITURE                      1.000000   \n",
       "SUPPORT_SERVICES_EXPENDITURE                 0.979165   \n",
       "OTHER_EXPENDITURE                            0.920297   \n",
       "CAPITAL_OUTLAY_EXPENDITURE                   0.895527   \n",
       "\n",
       "                              SUPPORT_SERVICES_EXPENDITURE  OTHER_EXPENDITURE  \\\n",
       "overall_score                                     0.221824           0.169775   \n",
       "TOTAL_EXPENDITURE                                 0.992435           0.951726   \n",
       "INSTRUCTION_EXPENDITURE                           0.979165           0.920297   \n",
       "SUPPORT_SERVICES_EXPENDITURE                      1.000000           0.953411   \n",
       "OTHER_EXPENDITURE                                 0.953411           1.000000   \n",
       "CAPITAL_OUTLAY_EXPENDITURE                        0.905265           0.923468   \n",
       "\n",
       "                              CAPITAL_OUTLAY_EXPENDITURE  \n",
       "overall_score                                   0.128087  \n",
       "TOTAL_EXPENDITURE                               0.928129  \n",
       "INSTRUCTION_EXPENDITURE                         0.895527  \n",
       "SUPPORT_SERVICES_EXPENDITURE                    0.905265  \n",
       "OTHER_EXPENDITURE                               0.923468  \n",
       "CAPITAL_OUTLAY_EXPENDITURE                      1.000000  "
      ]
     },
     "execution_count": 4,
     "metadata": {},
     "output_type": "execute_result"
    }
   ],
   "source": [
    "# Examine coorelation between variables \n",
    "\n",
    "education2_df[[\"overall_score\", \"TOTAL_EXPENDITURE\", \"INSTRUCTION_EXPENDITURE\",\n",
    "              \"SUPPORT_SERVICES_EXPENDITURE\", \"OTHER_EXPENDITURE\", \"CAPITAL_OUTLAY_EXPENDITURE\"]].corr()"
   ]
  },
  {
   "cell_type": "markdown",
   "metadata": {},
   "source": [
    "Overall score is most correlated to support service expenditure (0.22)."
   ]
  },
  {
   "cell_type": "markdown",
   "metadata": {},
   "source": [
    "#### 3. Now, apply PCA to the 4 expenditure types. How much of the total variance is explained by the 1st component?"
   ]
  },
  {
   "cell_type": "code",
   "execution_count": 5,
   "metadata": {},
   "outputs": [
    {
     "name": "stdout",
     "output_type": "stream",
     "text": [
      "The percentage of total variance in the dataset explained by each component from Sklearn PCA.\n",
      " [0.94725496]\n"
     ]
    }
   ],
   "source": [
    "# Apply PCA to expenditure types \n",
    "\n",
    "from sklearn.decomposition import PCA\n",
    "from sklearn.preprocessing import StandardScaler\n",
    "\n",
    "X = education2_df[[\"INSTRUCTION_EXPENDITURE\", \"SUPPORT_SERVICES_EXPENDITURE\",\n",
    "                  \"OTHER_EXPENDITURE\", \"CAPITAL_OUTLAY_EXPENDITURE\"]]\n",
    "\n",
    "X = StandardScaler().fit_transform(X)\n",
    "\n",
    "sklearn_pca = PCA(n_components=1)\n",
    "education2_df[\"pca_1\"] = sklearn_pca.fit_transform(X)\n",
    "\n",
    "print(\n",
    "    'The percentage of total variance in the dataset explained by each',\n",
    "    'component from Sklearn PCA.\\n',\n",
    "    sklearn_pca.explained_variance_ratio_\n",
    ")"
   ]
  },
  {
   "cell_type": "markdown",
   "metadata": {},
   "source": [
    "\n",
    "More than 94% of the total variance is explained by the first principal component."
   ]
  },
  {
   "cell_type": "markdown",
   "metadata": {},
   "source": [
    "#### 4. What is the correlation between the overall score variable and the 1st principal component?"
   ]
  },
  {
   "cell_type": "code",
   "execution_count": 6,
   "metadata": {},
   "outputs": [
    {
     "data": {
      "text/html": [
       "<div>\n",
       "<style scoped>\n",
       "    .dataframe tbody tr th:only-of-type {\n",
       "        vertical-align: middle;\n",
       "    }\n",
       "\n",
       "    .dataframe tbody tr th {\n",
       "        vertical-align: top;\n",
       "    }\n",
       "\n",
       "    .dataframe thead th {\n",
       "        text-align: right;\n",
       "    }\n",
       "</style>\n",
       "<table border=\"1\" class=\"dataframe\">\n",
       "  <thead>\n",
       "    <tr style=\"text-align: right;\">\n",
       "      <th></th>\n",
       "      <th>overall_score</th>\n",
       "      <th>pca_1</th>\n",
       "      <th>TOTAL_EXPENDITURE</th>\n",
       "      <th>INSTRUCTION_EXPENDITURE</th>\n",
       "      <th>SUPPORT_SERVICES_EXPENDITURE</th>\n",
       "      <th>OTHER_EXPENDITURE</th>\n",
       "      <th>CAPITAL_OUTLAY_EXPENDITURE</th>\n",
       "    </tr>\n",
       "  </thead>\n",
       "  <tbody>\n",
       "    <tr>\n",
       "      <th>overall_score</th>\n",
       "      <td>1.000000</td>\n",
       "      <td>0.187067</td>\n",
       "      <td>0.204239</td>\n",
       "      <td>0.207131</td>\n",
       "      <td>0.221824</td>\n",
       "      <td>0.169775</td>\n",
       "      <td>0.128087</td>\n",
       "    </tr>\n",
       "    <tr>\n",
       "      <th>pca_1</th>\n",
       "      <td>0.187067</td>\n",
       "      <td>1.000000</td>\n",
       "      <td>0.992988</td>\n",
       "      <td>0.975096</td>\n",
       "      <td>0.986139</td>\n",
       "      <td>0.975451</td>\n",
       "      <td>0.956156</td>\n",
       "    </tr>\n",
       "    <tr>\n",
       "      <th>TOTAL_EXPENDITURE</th>\n",
       "      <td>0.204239</td>\n",
       "      <td>0.992988</td>\n",
       "      <td>1.000000</td>\n",
       "      <td>0.992698</td>\n",
       "      <td>0.992435</td>\n",
       "      <td>0.951726</td>\n",
       "      <td>0.928129</td>\n",
       "    </tr>\n",
       "    <tr>\n",
       "      <th>INSTRUCTION_EXPENDITURE</th>\n",
       "      <td>0.207131</td>\n",
       "      <td>0.975096</td>\n",
       "      <td>0.992698</td>\n",
       "      <td>1.000000</td>\n",
       "      <td>0.979165</td>\n",
       "      <td>0.920297</td>\n",
       "      <td>0.895527</td>\n",
       "    </tr>\n",
       "    <tr>\n",
       "      <th>SUPPORT_SERVICES_EXPENDITURE</th>\n",
       "      <td>0.221824</td>\n",
       "      <td>0.986139</td>\n",
       "      <td>0.992435</td>\n",
       "      <td>0.979165</td>\n",
       "      <td>1.000000</td>\n",
       "      <td>0.953411</td>\n",
       "      <td>0.905265</td>\n",
       "    </tr>\n",
       "    <tr>\n",
       "      <th>OTHER_EXPENDITURE</th>\n",
       "      <td>0.169775</td>\n",
       "      <td>0.975451</td>\n",
       "      <td>0.951726</td>\n",
       "      <td>0.920297</td>\n",
       "      <td>0.953411</td>\n",
       "      <td>1.000000</td>\n",
       "      <td>0.923468</td>\n",
       "    </tr>\n",
       "    <tr>\n",
       "      <th>CAPITAL_OUTLAY_EXPENDITURE</th>\n",
       "      <td>0.128087</td>\n",
       "      <td>0.956156</td>\n",
       "      <td>0.928129</td>\n",
       "      <td>0.895527</td>\n",
       "      <td>0.905265</td>\n",
       "      <td>0.923468</td>\n",
       "      <td>1.000000</td>\n",
       "    </tr>\n",
       "  </tbody>\n",
       "</table>\n",
       "</div>"
      ],
      "text/plain": [
       "                              overall_score     pca_1  TOTAL_EXPENDITURE  \\\n",
       "overall_score                      1.000000  0.187067           0.204239   \n",
       "pca_1                              0.187067  1.000000           0.992988   \n",
       "TOTAL_EXPENDITURE                  0.204239  0.992988           1.000000   \n",
       "INSTRUCTION_EXPENDITURE            0.207131  0.975096           0.992698   \n",
       "SUPPORT_SERVICES_EXPENDITURE       0.221824  0.986139           0.992435   \n",
       "OTHER_EXPENDITURE                  0.169775  0.975451           0.951726   \n",
       "CAPITAL_OUTLAY_EXPENDITURE         0.128087  0.956156           0.928129   \n",
       "\n",
       "                              INSTRUCTION_EXPENDITURE  \\\n",
       "overall_score                                0.207131   \n",
       "pca_1                                        0.975096   \n",
       "TOTAL_EXPENDITURE                            0.992698   \n",
       "INSTRUCTION_EXPENDITURE                      1.000000   \n",
       "SUPPORT_SERVICES_EXPENDITURE                 0.979165   \n",
       "OTHER_EXPENDITURE                            0.920297   \n",
       "CAPITAL_OUTLAY_EXPENDITURE                   0.895527   \n",
       "\n",
       "                              SUPPORT_SERVICES_EXPENDITURE  OTHER_EXPENDITURE  \\\n",
       "overall_score                                     0.221824           0.169775   \n",
       "pca_1                                             0.986139           0.975451   \n",
       "TOTAL_EXPENDITURE                                 0.992435           0.951726   \n",
       "INSTRUCTION_EXPENDITURE                           0.979165           0.920297   \n",
       "SUPPORT_SERVICES_EXPENDITURE                      1.000000           0.953411   \n",
       "OTHER_EXPENDITURE                                 0.953411           1.000000   \n",
       "CAPITAL_OUTLAY_EXPENDITURE                        0.905265           0.923468   \n",
       "\n",
       "                              CAPITAL_OUTLAY_EXPENDITURE  \n",
       "overall_score                                   0.128087  \n",
       "pca_1                                           0.956156  \n",
       "TOTAL_EXPENDITURE                               0.928129  \n",
       "INSTRUCTION_EXPENDITURE                         0.895527  \n",
       "SUPPORT_SERVICES_EXPENDITURE                    0.905265  \n",
       "OTHER_EXPENDITURE                               0.923468  \n",
       "CAPITAL_OUTLAY_EXPENDITURE                      1.000000  "
      ]
     },
     "execution_count": 6,
     "metadata": {},
     "output_type": "execute_result"
    }
   ],
   "source": [
    "# Examine coorelation between variables \n",
    "\n",
    "education2_df[[\"overall_score\", \"pca_1\", \"TOTAL_EXPENDITURE\", \"INSTRUCTION_EXPENDITURE\",\n",
    "              \"SUPPORT_SERVICES_EXPENDITURE\", \"OTHER_EXPENDITURE\", \"CAPITAL_OUTLAY_EXPENDITURE\"]].corr()"
   ]
  },
  {
   "cell_type": "markdown",
   "metadata": {},
   "source": [
    "The correlation between overall score and the first principal component (0.187) remains relatively low compared to the correlation between overall score and support service expenditure. "
   ]
  },
  {
   "cell_type": "markdown",
   "metadata": {},
   "source": [
    "#### 5. If you were to choose the best variables for your model, would you prefer using the 1st principal component instead of the expenditure variables? Why?"
   ]
  },
  {
   "cell_type": "markdown",
   "metadata": {},
   "source": [
    "\n",
    "Since support service expenditure variable is more correlated with the overall score than the first principal component, I would prefer using expenditure variables instead. \n",
    "\n",
    "Also, PCA works best when the variables involved range from weak to moderately strong correlations. Most expenditure variables have a higher correlation level greater than 0.8 which may result in stability. "
   ]
  }
 ],
 "metadata": {
  "kernelspec": {
   "display_name": "Python 3",
   "language": "python",
   "name": "python3"
  },
  "language_info": {
   "codemirror_mode": {
    "name": "ipython",
    "version": 3
   },
   "file_extension": ".py",
   "mimetype": "text/x-python",
   "name": "python",
   "nbconvert_exporter": "python",
   "pygments_lexer": "ipython3",
   "version": "3.7.0"
  }
 },
 "nbformat": 4,
 "nbformat_minor": 2
}
