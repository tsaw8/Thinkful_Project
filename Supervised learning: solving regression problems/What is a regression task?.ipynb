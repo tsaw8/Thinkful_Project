{
 "cells": [
  {
   "cell_type": "markdown",
   "metadata": {},
   "source": [
    "# Assignment "
   ]
  },
  {
   "cell_type": "markdown",
   "metadata": {},
   "source": [
    "_1. Let's assume that you have World Bank data on financial, economic and social indicators for several countries. You want to measure the factors that affect the level of development in these countries. To this end, you decide to use per capita income as a proxy for the development level, which is defined as the national income divided by the population. You want to use some features in your dataset to predict per capita income. Is this task a classification or a regression task? Why?_\n",
    "\n",
    "Since per capita income is a continous variable with infinite values, a regression model would be suitable for this situation. "
   ]
  },
  {
   "cell_type": "markdown",
   "metadata": {},
   "source": [
    "_2.Which of the following arguments are false and why?<br>_\n",
    " - OLS is a special type of linear regression models\n",
    "  - Linear regression uses the Ordinary Least Squares (OLS) algorithm to optimize the best fit line. OLS tries to minimize the sum of the squared distances between each point and the line, and it chooses the line that minimizes this sum. This minimization is the optimization that the linear regression method does.<br>\n",
    "  \n",
    "  \n",
    " - Regression models become useless if they don’t meet the assumptions of linear regression.\n",
    "  \n",
    "  - Linear regression assumes six conditions:\n",
    "\n",
    "    -  The relationship between feature(s) and target(s) is linear.\n",
    "    -  The errors of the model should be equal to zero on average.\n",
    "    -  The model’s errors are consistently distributed, which is known as heteroscedasticity.\n",
    "    -  Features are at most only weakly correlated. Put differently there is not strong multicollinearity.\n",
    "    -  The model’s errors should be uncorrelated with each other.\n",
    "    -  The features and model errors are independent of one another.\n",
    "   \n",
    "  - There are other approaches one can take to use linear regression even when the model doesn’t meet these conditions. \n",
    "  \n",
    "  \n",
    "  - Estimation and prediction are the same thing in the context of linear regression models.\n",
    "   - Estimation is finding the best fit line for the data during the model training phase while prediction is coming up with outcome values for the observations that have not been previously observed.\n",
    "  \n",
    "  \n",
    " - Linear regression is only one kind of regression model. Regression problems can also be solved with other kind of models like Support Vector Machines or Random Forests.\n",
    "  - This statement is true.\n"
   ]
  },
  {
   "cell_type": "markdown",
   "metadata": {},
   "source": [
    "_3. Assume that your project manager wants you to discover which free services your company offers make your customers buy more of your paid services. Formulate this task as a regression problem and write down the potential outcome and features that you’d like to work on._\n",
    "\n",
    "$$ total \\enspace sales \\enspace revenue = \\alpha + \\beta_1 \\enspace X  \\enspace free \\enspace service \\enspace 1 + \\beta_2 \\enspace X \\enspace free \\enspace service \\enspace 2 $$"
   ]
  }
 ],
 "metadata": {
  "kernelspec": {
   "display_name": "Python 3",
   "language": "python",
   "name": "python3"
  },
  "language_info": {
   "codemirror_mode": {
    "name": "ipython",
    "version": 3
   },
   "file_extension": ".py",
   "mimetype": "text/x-python",
   "name": "python",
   "nbconvert_exporter": "python",
   "pygments_lexer": "ipython3",
   "version": "3.6.8"
  }
 },
 "nbformat": 4,
 "nbformat_minor": 2
}
