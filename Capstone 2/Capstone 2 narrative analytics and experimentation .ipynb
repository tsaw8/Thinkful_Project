{
 "cells": [
  {
   "cell_type": "markdown",
   "metadata": {},
   "source": [
    "# Narrative Analytics and Experimentation \n",
    "\n",
    "\n",
    "### Direct marketing campaign to increase term deposit"
   ]
  },
  {
   "cell_type": "markdown",
   "metadata": {},
   "source": [
    "Banco de ABC (pseudonym) is a Portuguese multinational investment bank and financial services company based in Lisbon. Currently, the bank is experiencing revenue decline. After close examination, analysts at Banco de ABC have discovered that the lack of deposits from clients has strong correlations to revenue decline. In general, deposits enable banks to influence the money supply by investing in a higher financial gain. Also, frequent interaction with clients would increase the opportunity to advertise financial products, which in turn would boost revenue. \n",
    "\n",
    "In hopes of increasing term deposits, Banco de ABC has launched a direct marketing campaign based on phone calls. Sales representatives were given a script template to follow when delivering the calls.  \n",
    "\n",
    "We will analyze the outcomes of this campaign. Then, a proposal for an A/B test plan will be crafted. \n"
   ]
  },
  {
   "cell_type": "markdown",
   "metadata": {},
   "source": [
    "### Exploring the Data"
   ]
  },
  {
   "cell_type": "markdown",
   "metadata": {},
   "source": [
    "In this proposal, we will be examining a [bank marketing](https://www.kaggle.com/henriqueyamahata/bank-marketing) report released by Banco de ABC's marketing team. Below, we will explore the dataset by preforming decriptive analysis. "
   ]
  },
  {
   "cell_type": "code",
   "execution_count": 1,
   "metadata": {},
   "outputs": [],
   "source": [
    "# Libraries \n",
    "\n",
    "import pandas as pd\n",
    "import numpy as np\n",
    "import seaborn as sns\n",
    "from scipy import stats\n",
    "from scipy.stats import ttest_ind\n",
    "from matplotlib import pyplot as plt\n",
    "%matplotlib inline"
   ]
  },
  {
   "cell_type": "code",
   "execution_count": 2,
   "metadata": {},
   "outputs": [
    {
     "data": {
      "text/html": [
       "<div>\n",
       "<style scoped>\n",
       "    .dataframe tbody tr th:only-of-type {\n",
       "        vertical-align: middle;\n",
       "    }\n",
       "\n",
       "    .dataframe tbody tr th {\n",
       "        vertical-align: top;\n",
       "    }\n",
       "\n",
       "    .dataframe thead th {\n",
       "        text-align: right;\n",
       "    }\n",
       "</style>\n",
       "<table border=\"1\" class=\"dataframe\">\n",
       "  <thead>\n",
       "    <tr style=\"text-align: right;\">\n",
       "      <th></th>\n",
       "      <th>age</th>\n",
       "      <th>job</th>\n",
       "      <th>marital</th>\n",
       "      <th>education</th>\n",
       "      <th>credit_default</th>\n",
       "      <th>housing_loan</th>\n",
       "      <th>personal_loan</th>\n",
       "      <th>contact_type</th>\n",
       "      <th>month</th>\n",
       "      <th>day_of_week</th>\n",
       "      <th>...</th>\n",
       "      <th>num_contacted</th>\n",
       "      <th>last_contacted (days)</th>\n",
       "      <th>previous</th>\n",
       "      <th>poutcome</th>\n",
       "      <th>emp.var.rate</th>\n",
       "      <th>cons.price.idx</th>\n",
       "      <th>cons.conf.idx</th>\n",
       "      <th>euribor3m</th>\n",
       "      <th>nr.employed</th>\n",
       "      <th>outcome</th>\n",
       "    </tr>\n",
       "  </thead>\n",
       "  <tbody>\n",
       "    <tr>\n",
       "      <th>0</th>\n",
       "      <td>56</td>\n",
       "      <td>housemaid</td>\n",
       "      <td>married</td>\n",
       "      <td>basic.4y</td>\n",
       "      <td>no</td>\n",
       "      <td>no</td>\n",
       "      <td>no</td>\n",
       "      <td>telephone</td>\n",
       "      <td>may</td>\n",
       "      <td>mon</td>\n",
       "      <td>...</td>\n",
       "      <td>1</td>\n",
       "      <td>999</td>\n",
       "      <td>0</td>\n",
       "      <td>nonexistent</td>\n",
       "      <td>1.1</td>\n",
       "      <td>93.994</td>\n",
       "      <td>-36.4</td>\n",
       "      <td>4.857</td>\n",
       "      <td>5191.0</td>\n",
       "      <td>no</td>\n",
       "    </tr>\n",
       "    <tr>\n",
       "      <th>1</th>\n",
       "      <td>57</td>\n",
       "      <td>services</td>\n",
       "      <td>married</td>\n",
       "      <td>high.school</td>\n",
       "      <td>unknown</td>\n",
       "      <td>no</td>\n",
       "      <td>no</td>\n",
       "      <td>telephone</td>\n",
       "      <td>may</td>\n",
       "      <td>mon</td>\n",
       "      <td>...</td>\n",
       "      <td>1</td>\n",
       "      <td>999</td>\n",
       "      <td>0</td>\n",
       "      <td>nonexistent</td>\n",
       "      <td>1.1</td>\n",
       "      <td>93.994</td>\n",
       "      <td>-36.4</td>\n",
       "      <td>4.857</td>\n",
       "      <td>5191.0</td>\n",
       "      <td>no</td>\n",
       "    </tr>\n",
       "    <tr>\n",
       "      <th>2</th>\n",
       "      <td>37</td>\n",
       "      <td>services</td>\n",
       "      <td>married</td>\n",
       "      <td>high.school</td>\n",
       "      <td>no</td>\n",
       "      <td>yes</td>\n",
       "      <td>no</td>\n",
       "      <td>telephone</td>\n",
       "      <td>may</td>\n",
       "      <td>mon</td>\n",
       "      <td>...</td>\n",
       "      <td>1</td>\n",
       "      <td>999</td>\n",
       "      <td>0</td>\n",
       "      <td>nonexistent</td>\n",
       "      <td>1.1</td>\n",
       "      <td>93.994</td>\n",
       "      <td>-36.4</td>\n",
       "      <td>4.857</td>\n",
       "      <td>5191.0</td>\n",
       "      <td>no</td>\n",
       "    </tr>\n",
       "    <tr>\n",
       "      <th>3</th>\n",
       "      <td>40</td>\n",
       "      <td>admin.</td>\n",
       "      <td>married</td>\n",
       "      <td>basic.6y</td>\n",
       "      <td>no</td>\n",
       "      <td>no</td>\n",
       "      <td>no</td>\n",
       "      <td>telephone</td>\n",
       "      <td>may</td>\n",
       "      <td>mon</td>\n",
       "      <td>...</td>\n",
       "      <td>1</td>\n",
       "      <td>999</td>\n",
       "      <td>0</td>\n",
       "      <td>nonexistent</td>\n",
       "      <td>1.1</td>\n",
       "      <td>93.994</td>\n",
       "      <td>-36.4</td>\n",
       "      <td>4.857</td>\n",
       "      <td>5191.0</td>\n",
       "      <td>no</td>\n",
       "    </tr>\n",
       "    <tr>\n",
       "      <th>4</th>\n",
       "      <td>56</td>\n",
       "      <td>services</td>\n",
       "      <td>married</td>\n",
       "      <td>high.school</td>\n",
       "      <td>no</td>\n",
       "      <td>no</td>\n",
       "      <td>yes</td>\n",
       "      <td>telephone</td>\n",
       "      <td>may</td>\n",
       "      <td>mon</td>\n",
       "      <td>...</td>\n",
       "      <td>1</td>\n",
       "      <td>999</td>\n",
       "      <td>0</td>\n",
       "      <td>nonexistent</td>\n",
       "      <td>1.1</td>\n",
       "      <td>93.994</td>\n",
       "      <td>-36.4</td>\n",
       "      <td>4.857</td>\n",
       "      <td>5191.0</td>\n",
       "      <td>no</td>\n",
       "    </tr>\n",
       "  </tbody>\n",
       "</table>\n",
       "<p>5 rows × 21 columns</p>\n",
       "</div>"
      ],
      "text/plain": [
       "   age        job  marital    education credit_default housing_loan  \\\n",
       "0   56  housemaid  married     basic.4y             no           no   \n",
       "1   57   services  married  high.school        unknown           no   \n",
       "2   37   services  married  high.school             no          yes   \n",
       "3   40     admin.  married     basic.6y             no           no   \n",
       "4   56   services  married  high.school             no           no   \n",
       "\n",
       "  personal_loan contact_type month day_of_week   ...     num_contacted  \\\n",
       "0            no    telephone   may         mon   ...                 1   \n",
       "1            no    telephone   may         mon   ...                 1   \n",
       "2            no    telephone   may         mon   ...                 1   \n",
       "3            no    telephone   may         mon   ...                 1   \n",
       "4           yes    telephone   may         mon   ...                 1   \n",
       "\n",
       "   last_contacted (days)  previous     poutcome emp.var.rate  cons.price.idx  \\\n",
       "0                    999         0  nonexistent          1.1          93.994   \n",
       "1                    999         0  nonexistent          1.1          93.994   \n",
       "2                    999         0  nonexistent          1.1          93.994   \n",
       "3                    999         0  nonexistent          1.1          93.994   \n",
       "4                    999         0  nonexistent          1.1          93.994   \n",
       "\n",
       "   cons.conf.idx  euribor3m  nr.employed  outcome  \n",
       "0          -36.4      4.857       5191.0       no  \n",
       "1          -36.4      4.857       5191.0       no  \n",
       "2          -36.4      4.857       5191.0       no  \n",
       "3          -36.4      4.857       5191.0       no  \n",
       "4          -36.4      4.857       5191.0       no  \n",
       "\n",
       "[5 rows x 21 columns]"
      ]
     },
     "execution_count": 2,
     "metadata": {},
     "output_type": "execute_result"
    }
   ],
   "source": [
    "# Import data\n",
    "\n",
    "data = pd.read_csv('bank-additional-full.csv',sep=';')\n",
    "\n",
    "# Rename columns \n",
    "data.rename(columns={'default':'credit_default',\n",
    "                    'housing':'housing_loan',\n",
    "                    'loan':'personal_loan',\n",
    "                    'contact':'contact_type',\n",
    "                    'durataion':'contact_duration (sec)',\n",
    "                    'campaign':'num_contacted',\n",
    "                    'pdays':'last_contacted (days)',\n",
    "                    'y':'outcome'},inplace=True)\n",
    "\n",
    "# Convert selected features to categorical type\n",
    "columns_category = ['job','marital','education','credit_default',\n",
    "                   'housing_loan','personal_loan','contact_type',\n",
    "                   'month','day_of_week','poutcome','outcome']\n",
    "data[columns_category] = data[columns_category].astype('str')\n",
    "data[columns_category] = data[columns_category].astype('category')\n",
    "\n",
    "data.head()"
   ]
  },
  {
   "cell_type": "markdown",
   "metadata": {},
   "source": [
    "There are 21 attributes in this dataset. The first 7 columns consists of clients social, economical, and loan information. Then, the rest of the columns contains related data to the marketing campaign. <br>\n",
    "\n",
    "__Client__: age, job, marital, education, default status, housing, and loan <br>\n",
    "\n",
    "__Campaign__: last contact type, last contact month of year, last contact day of the week, and last contact duration <br>\n",
    "\n",
    "__Others__: number of contacts performed in current campaign, number of days that passed by after the client was last contacted, number of contacts performed before this campaign, outcome of previous campaign, and whether a client has subscribed a term deposit"
   ]
  },
  {
   "cell_type": "code",
   "execution_count": 3,
   "metadata": {},
   "outputs": [
    {
     "data": {
      "text/html": [
       "<div>\n",
       "<style scoped>\n",
       "    .dataframe tbody tr th:only-of-type {\n",
       "        vertical-align: middle;\n",
       "    }\n",
       "\n",
       "    .dataframe tbody tr th {\n",
       "        vertical-align: top;\n",
       "    }\n",
       "\n",
       "    .dataframe thead th {\n",
       "        text-align: right;\n",
       "    }\n",
       "</style>\n",
       "<table border=\"1\" class=\"dataframe\">\n",
       "  <thead>\n",
       "    <tr style=\"text-align: right;\">\n",
       "      <th></th>\n",
       "      <th>job</th>\n",
       "      <th>marital</th>\n",
       "      <th>education</th>\n",
       "      <th>credit_default</th>\n",
       "      <th>housing_loan</th>\n",
       "      <th>personal_loan</th>\n",
       "      <th>contact_type</th>\n",
       "      <th>month</th>\n",
       "      <th>day_of_week</th>\n",
       "      <th>poutcome</th>\n",
       "      <th>outcome</th>\n",
       "    </tr>\n",
       "  </thead>\n",
       "  <tbody>\n",
       "    <tr>\n",
       "      <th>count</th>\n",
       "      <td>41188</td>\n",
       "      <td>41188</td>\n",
       "      <td>41188</td>\n",
       "      <td>41188</td>\n",
       "      <td>41188</td>\n",
       "      <td>41188</td>\n",
       "      <td>41188</td>\n",
       "      <td>41188</td>\n",
       "      <td>41188</td>\n",
       "      <td>41188</td>\n",
       "      <td>41188</td>\n",
       "    </tr>\n",
       "    <tr>\n",
       "      <th>unique</th>\n",
       "      <td>12</td>\n",
       "      <td>4</td>\n",
       "      <td>8</td>\n",
       "      <td>3</td>\n",
       "      <td>3</td>\n",
       "      <td>3</td>\n",
       "      <td>2</td>\n",
       "      <td>10</td>\n",
       "      <td>5</td>\n",
       "      <td>3</td>\n",
       "      <td>2</td>\n",
       "    </tr>\n",
       "    <tr>\n",
       "      <th>top</th>\n",
       "      <td>admin.</td>\n",
       "      <td>married</td>\n",
       "      <td>university.degree</td>\n",
       "      <td>no</td>\n",
       "      <td>yes</td>\n",
       "      <td>no</td>\n",
       "      <td>cellular</td>\n",
       "      <td>may</td>\n",
       "      <td>thu</td>\n",
       "      <td>nonexistent</td>\n",
       "      <td>no</td>\n",
       "    </tr>\n",
       "    <tr>\n",
       "      <th>freq</th>\n",
       "      <td>10422</td>\n",
       "      <td>24928</td>\n",
       "      <td>12168</td>\n",
       "      <td>32588</td>\n",
       "      <td>21576</td>\n",
       "      <td>33950</td>\n",
       "      <td>26144</td>\n",
       "      <td>13769</td>\n",
       "      <td>8623</td>\n",
       "      <td>35563</td>\n",
       "      <td>36548</td>\n",
       "    </tr>\n",
       "  </tbody>\n",
       "</table>\n",
       "</div>"
      ],
      "text/plain": [
       "           job  marital          education credit_default housing_loan  \\\n",
       "count    41188    41188              41188          41188        41188   \n",
       "unique      12        4                  8              3            3   \n",
       "top     admin.  married  university.degree             no          yes   \n",
       "freq     10422    24928              12168          32588        21576   \n",
       "\n",
       "       personal_loan contact_type  month day_of_week     poutcome outcome  \n",
       "count          41188        41188  41188       41188        41188   41188  \n",
       "unique             3            2     10           5            3       2  \n",
       "top               no     cellular    may         thu  nonexistent      no  \n",
       "freq           33950        26144  13769        8623        35563   36548  "
      ]
     },
     "execution_count": 3,
     "metadata": {},
     "output_type": "execute_result"
    }
   ],
   "source": [
    "# Data statistics\n",
    "\n",
    "data.describe(include='category')"
   ]
  },
  {
   "cell_type": "markdown",
   "metadata": {},
   "source": [
    "In this marketing campaign, sales representative contacted 41,188 clients. Among those clients, many worked as administrators, married, and had a university degree.  Majority of clients did not possess credit in default or personal loans. Meanwhile, approximately have of the clients has records of a housing loan. \n",
    "\n",
    "Next, let's explore the campaign data."
   ]
  },
  {
   "cell_type": "code",
   "execution_count": 5,
   "metadata": {},
   "outputs": [
    {
     "data": {
      "text/plain": [
       "Text(0.5,1,'Day of the Week Contacted')"
      ]
     },
     "execution_count": 5,
     "metadata": {},
     "output_type": "execute_result"
    },
    {
     "data": {
      "image/png": "[encoded data removed]",
      "text/plain": [
       "<Figure size 360x360 with 1 Axes>"
      ]
     },
     "metadata": {
      "needs_background": "light"
     },
     "output_type": "display_data"
    },
    {
     "data": {
      "image/png": "[encoded data removed]",
      "text/plain": [
       "<Figure size 360x360 with 1 Axes>"
      ]
     },
     "metadata": {
      "needs_background": "light"
     },
     "output_type": "display_data"
    },
    {
     "data": {
      "image/png": "[encoded data removed]",
      "text/plain": [
       "<Figure size 360x360 with 1 Axes>"
      ]
     },
     "metadata": {
      "needs_background": "light"
     },
     "output_type": "display_data"
    }
   ],
   "source": [
    "# Plot campaign variables \n",
    "\n",
    "sns.catplot(x='contact_type',kind='count',data=data)\n",
    "plt.xlabel('contact method')\n",
    "plt.title('Method Used to Contact Clients')\n",
    "\n",
    "\n",
    "order = ['mar','apr','may','jun','jul','aug','sep','nov','dec']\n",
    "sns.catplot(x='month',kind='count',data=data,order=order)\n",
    "plt.xlabel('months')\n",
    "plt.title('Month of Contacted')\n",
    "\n",
    "\n",
    "order = ['mon','tue','wed','thu','fri']\n",
    "sns.catplot(x='day_of_week',kind='count',data=data,order=order)\n",
    "plt.xlabel('day of week')\n",
    "plt.title('Day of the Week Contacted')\n"
   ]
  },
  {
   "cell_type": "markdown",
   "metadata": {},
   "source": [
    "Clients were mainly contacted through their cellular phone number. Majority of the calls were made during summer months, especially in May from Monday to Friday. "
   ]
  },
  {
   "cell_type": "code",
   "execution_count": 4,
   "metadata": {},
   "outputs": [
    {
     "name": "stderr",
     "output_type": "stream",
     "text": [
      "/Users/tsawaengsri/anaconda3/lib/python3.7/site-packages/scipy/stats/stats.py:1713: FutureWarning: Using a non-tuple sequence for multidimensional indexing is deprecated; use `arr[tuple(seq)]` instead of `arr[seq]`. In the future this will be interpreted as an array index, `arr[np.array(seq)]`, which will result either in an error or a different result.\n",
      "  return np.add.reduce(sorted[indexer] * weights, axis=axis) / sumval\n"
     ]
    },
    {
     "data": {
      "text/plain": [
       "Text(0.5,1,'Duration of Call (seconds)')"
      ]
     },
     "execution_count": 4,
     "metadata": {},
     "output_type": "execute_result"
    },
    {
     "data": {
      "image/png": "[encoded data removed]",
      "text/plain": [
       "<Figure size 432x288 with 1 Axes>"
      ]
     },
     "metadata": {
      "needs_background": "light"
     },
     "output_type": "display_data"
    }
   ],
   "source": [
    "# Plot duration\n",
    "\n",
    "sns.distplot(data.duration)\n",
    "plt.xlabel('seconds')\n",
    "plt.title('Duration of Call (seconds)')"
   ]
  },
  {
   "cell_type": "markdown",
   "metadata": {},
   "source": [
    "Majority of calls lasted under 15 minutes. However, there appears to be multiple outliers on the right side of the tail, skewing the distribution to the right. Those outliers could have been clients who were interested in making a deposit. \n",
    "\n",
    "Let's explore the relationship between duration and outcomes. "
   ]
  },
  {
   "cell_type": "code",
   "execution_count": 5,
   "metadata": {},
   "outputs": [
    {
     "data": {
      "image/png": "[encoded data removed]",
      "text/plain": [
       "<Figure size 576x576 with 1 Axes>"
      ]
     },
     "metadata": {},
     "output_type": "display_data"
    },
    {
     "name": "stderr",
     "output_type": "stream",
     "text": [
      "/Users/tsawaengsri/anaconda3/lib/python3.7/site-packages/scipy/stats/stats.py:1713: FutureWarning: Using a non-tuple sequence for multidimensional indexing is deprecated; use `arr[tuple(seq)]` instead of `arr[seq]`. In the future this will be interpreted as an array index, `arr[np.array(seq)]`, which will result either in an error or a different result.\n",
      "  return np.add.reduce(sorted[indexer] * weights, axis=axis) / sumval\n"
     ]
    },
    {
     "data": {
      "text/plain": [
       "Text(0.5,1,'Numbers of Time Contacted during the Campaign and Outcome')"
      ]
     },
     "execution_count": 5,
     "metadata": {},
     "output_type": "execute_result"
    },
    {
     "data": {
      "image/png": "[encoded data removed]",
      "text/plain": [
       "<Figure size 360x360 with 1 Axes>"
      ]
     },
     "metadata": {
      "needs_background": "light"
     },
     "output_type": "display_data"
    },
    {
     "data": {
      "image/png": "[encoded data removed]",
      "text/plain": [
       "<Figure size 360x360 with 1 Axes>"
      ]
     },
     "metadata": {
      "needs_background": "light"
     },
     "output_type": "display_data"
    }
   ],
   "source": [
    "# Plot outcomes \n",
    "\n",
    "outcome = data['outcome'].value_counts()\n",
    "outcome.index = ['no','yes']\n",
    "labels =(np.array(outcome.index))\n",
    "sizes = (np.array((outcome/outcome.sum())*100))\n",
    "colors = ['lemonchiffon','powderblue']\n",
    "\n",
    "plt.figure(figsize=(8,8))\n",
    "\n",
    "plt.pie(sizes,labels=labels, colors=colors,autopct='%1.1f%%', \n",
    "        startangle=90)\n",
    "plt.title(\"Outcome\")\n",
    "plt.show()\n",
    "\n",
    "sns.catplot(x='outcome',y='duration',\n",
    "            kind='box',dodge=False,data=data)\n",
    "plt.title('Durations of Calls and Outcome')\n",
    "\n",
    "sns.catplot(x='outcome',y='num_contacted',\n",
    "            kind='violin',dodge=False,data=data)\n",
    "plt.title('Numbers of Time Contacted during the Campaign and Outcome')"
   ]
  },
  {
   "cell_type": "markdown",
   "metadata": {},
   "source": [
    "We can observe that this marketing campaign has not been successful. The data is highly skewed since only 11.3% of all clients have subscribed to a term deposit. According to the boxplot, clients who subscribed have a higher mean of call duration than those who responded no. The third graph shows that the numbers of times contacted during the campaign does not increase the probability of a successful client deposit subscription. \n"
   ]
  },
  {
   "cell_type": "markdown",
   "metadata": {},
   "source": [
    "### Motivation for the test \n",
    "\n",
    "Since call duration was a significant variable in a successful outcome, more information about these successful calls needed to be examined. \n",
    "\n",
    "The company gathered the top sales representatives performers to identify common traits that lead to favorable outcomes. At the meeting, the majority of sales representatives agreed that __personalization__ was a key to connecting with the client. Although following the fundamentals of the script, these representatives followed up with additional conversation openers given the client's data on hand. \n",
    "\n",
    "With the ultimate goal of increasing term deposit subscriptions, I propose cultivating a new script that features personalization in the conversation. \n",
    "\n",
    "We will test the hypothesis that scripts with personalized key notes, rather than the original script, will significantily increase  the amount of client subscribers.\n"
   ]
  },
  {
   "cell_type": "markdown",
   "metadata": {},
   "source": [
    "### Rollout Plan \n",
    "\n",
    "The A/B test will be implemented over the course of 9 months. The sample will consist of current clients who have not been contacted by previous campaigns in the last 3 months. \n",
    "\n",
    "Since the baseline conversion rate is currently 11.3%, we will have the minimum detectable effect set at 10% with a 95% confidence interval. Thus, we will need a sample size of 12,000 per variation.\n",
    "\n",
    "To counterbalance demographic variance, clients will be assigned pseudorandomly to the test or control group. In addition, half of sales representatives will follow the new script while the remaining representatives will carry out the original script. After every Friday, will switch to the alternative script. If the representative started with the new script this week, he or she will switch to the original script the following week and vise versa until the end of the study. \n",
    "\n",
    "If a client does not give a definitive response to a term subscription at the end of the call, sales representatives will conduct a follow up after 5 days. \n",
    "\n",
    "After 9 months of implementing the test, a benchmark will be set to measure the difference between the test and control group. If there is no difference, rollout will continue to carry out for the remaining 18 weeks. If there is a significant difference, we will conclude that the new script is effective and create a plan to implement our new practice for future marketing campaigns. \n"
   ]
  },
  {
   "cell_type": "markdown",
   "metadata": {},
   "source": [
    "### Evaluation Plan \n",
    "\n",
    "In order for the new script to be considered more effective than the original script, we will compare the rate of deposit subscriptions, using a threshold of a p-value of 0.05. Rate of deposit subscriptions is defined as the proportion of clients who has said yes to a term deposit. An additional metric that we will use is the sales rate of other financial products. If the client did not subscribe to a term deposit, but purchases another package, we will also deem that as a success. \n",
    "\n",
    "A downfall of this evaluation plan is not considering the variation of each sales respesentative's call delivery. Unlike an online A/B test to examine a web page layout, a campaign based on phone calls will have additional factors that are not controllable. Although sales representatives have scripts to follow, their tone or pitch of delivery may impact the mood of the conversation. The company can generate a pre-recorded messages. However, that lacks interaction and opportunity to personally connect with clients. \n"
   ]
  }
 ],
 "metadata": {
  "kernelspec": {
   "display_name": "Python 3",
   "language": "python",
   "name": "python3"
  },
  "language_info": {
   "codemirror_mode": {
    "name": "ipython",
    "version": 3
   },
   "file_extension": ".py",
   "mimetype": "text/x-python",
   "name": "python",
   "nbconvert_exporter": "python",
   "pygments_lexer": "ipython3",
   "version": "3.7.0"
  }
 },
 "nbformat": 4,
 "nbformat_minor": 2
}
