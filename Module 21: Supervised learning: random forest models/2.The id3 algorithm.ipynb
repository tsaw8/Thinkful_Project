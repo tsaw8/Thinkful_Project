{
 "cells": [
  {
   "cell_type": "markdown",
   "metadata": {},
   "source": [
    "# The ID3 Algorithm\n",
    "\n",
    "The Iterative Dichotomizer 3 algorithm is used to generate a decision tree from a dataset. \n",
    "\n",
    "### Overview of algorithm\n",
    "\n",
    "The ID3 algorithm begins with the original set _S_ as the root node. \n",
    " * Calculate the entropy of every attribute _a_ of the data set _S_.\n",
    " * Partition (\"split\") the set S into subsets using the attribute for which the resulting entropy after splitting is minimized; or, equivalently, information gain is maximum\n",
    " * Make a decision tree node containing that attribute.\n",
    " * Recurse on subsets using the remaining attributes.\n",
    "\n",
    "Continue looping:\n",
    " * Consider A as the best attribute\n",
    " * Assign A as decision attribute for __node__\n",
    " * For each value of A\n",
    "  * Create a descendent of node\n",
    " * Sort training example to _leaves_\n",
    " * If example perfectly classified \n",
    "  * STOP\n",
    " * Else iterate over leaves "
   ]
  },
  {
   "cell_type": "markdown",
   "metadata": {},
   "source": [
    "## Pseudocode\n",
    "\n",
    "### Draft 1\n",
    "\n",
    "Algorithm(Observations, Outcome, Attributes)<br>\n",
    "    Create a root node. <br>\n",
    " - If all observations are 'A', label root node 'A' and return. <br>\n",
    " - If all observations are 'B', label root node 'B' and return. <br>\n",
    " - If no attributes return the root note labeled with the most common Outcome. <br>\n",
    "   - Otherwise, start: <br>\n",
    "       - For each value vi of each attribute ai, calculate the entropy. <br>\n",
    "       - The attribute ai and value vi with the lowest entropy is the best rule. <br>\n",
    "       - The attribute for this node is then ai  <br>\n",
    "           - Split the tree to below based on the rule ai = vi <br>\n",
    "           - Observationsvi is the subset of observations with value vi <br>\n",
    "           - If Observations vi is empty cap with node labeled with most common Outcome <br>\n",
    "           - Else at the new node start a subtree (Observationsvi, Target Outcome, Attributes - {ai}) and repeat the algorithm <br>"
   ]
  },
  {
   "cell_type": "markdown",
   "metadata": {},
   "source": [
    "### Draft 2 \n",
    "\n",
    "Inputs: (D, A, C), where:\n",
    " - D is a dataset with only nominal instance attributes of A\n",
    " - C is the class attribute/target \n",
    " \n",
    "Output: a decision tree T representing a sequential decision process for classifying instances (predicting the values of the class attribute C); each node of T is labeled with a non-class attribute of A \n",
    "\n",
    "Informal Inductive Bias: minimize the average height of the tree\n",
    "\n",
    "Procedure: \n",
    "\n",
    "if the set of remaining non-class attributes is empty of if all of the instances in D are in the same class\n",
    "    \n",
    "        return an empty tree \n",
    "    \n",
    "else {<br>\n",
    "        \n",
    "        compute the class entropy of each attribute over the dataset D \n",
    "            let a* be an attribute with minimum class entropy \n",
    "            \n",
    "        create a root node for a tree T; label it with a*\n",
    "        \n",
    "        for each value b of attribute a* {\n",
    "        \n",
    "            let T(a*=b) be the tree computed recursively by ID3 on input (D|a*=b, A-a*, C), where:\n",
    "                D|a*=b contains all instances of D for which a* has the value b\n",
    "                A-a* consists of all attributes of A except a*\n",
    "            attach T(a*=b) to the root of T as a subtree\n",
    "            \n",
    "     }\n",
    "     \n",
    "     return the resulting decision tree T\n",
    "     \n",
    "}"
   ]
  },
  {
   "cell_type": "code",
   "execution_count": null,
   "metadata": {},
   "outputs": [],
   "source": []
  },
  {
   "cell_type": "code",
   "execution_count": null,
   "metadata": {},
   "outputs": [],
   "source": []
  },
  {
   "cell_type": "code",
   "execution_count": null,
   "metadata": {},
   "outputs": [],
   "source": []
  },
  {
   "cell_type": "code",
   "execution_count": null,
   "metadata": {},
   "outputs": [],
   "source": []
  }
 ],
 "metadata": {
  "kernelspec": {
   "display_name": "Python 3",
   "language": "python",
   "name": "python3"
  },
  "language_info": {
   "codemirror_mode": {
    "name": "ipython",
    "version": 3
   },
   "file_extension": ".py",
   "mimetype": "text/x-python",
   "name": "python",
   "nbconvert_exporter": "python",
   "pygments_lexer": "ipython3",
   "version": "3.6.8"
  }
 },
 "nbformat": 4,
 "nbformat_minor": 2
}
