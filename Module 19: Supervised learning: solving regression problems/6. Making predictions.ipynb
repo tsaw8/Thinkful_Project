{
 "cells": [
  {
   "cell_type": "markdown",
   "metadata": {},
   "source": [
    "# Assignment\n",
    "\n",
    "In this exercise, we'll predict house prices using our model. We will complete the following tasks:\n",
    "\n",
    "* Load the **houseprices** data from Thinkful's database.\n",
    "* Split your data into train and test sets.\n",
    "* Estimate your model from the previous checkpoint in the train set. Assess the goodness of fit of your model.\n",
    "* Predict the house prices in the test set, and evaluate the performance of your model using the metrics we mentioned in this checkpoint.\n",
    "* Is the performance of your model satisfactory? Why?\n",
    "* Try to improve your model in terms of predictive performance by adding or removing some variables."
   ]
  },
  {
   "cell_type": "markdown",
   "metadata": {},
   "source": [
    "## House price model \n",
    "\n",
    "In this assignment, we will revisit our house price model and explore how to make __predictions__, which is using an estaimated model to predict unknown observations. After we have loaded our data, we will split our data intio training and test sets. Then, we'll estimate our models using only the training set. Hence, our models will not see the observations in the test set, and the information in the test observations will not be used in the estimation of the models. By doing this, we can read the evaluation results of our models in the test set as if it were performance on unseen real-world observations."
   ]
  },
  {
   "cell_type": "markdown",
   "metadata": {},
   "source": [
    "### Iteration 1 \n",
    "We'll start by loading our data and features from the best fit model from the previous assignment. We have selected the following features: \n",
    " - dummy variables (classification zone and house style)\n",
    " - new variables (total square feet and interaction between total square feet and overall quality)\n",
    " - log transformation of sale price to treat outliers"
   ]
  },
  {
   "cell_type": "code",
   "execution_count": 1,
   "metadata": {},
   "outputs": [],
   "source": [
    "# Libraries \n",
    "\n",
    "import matplotlib.pyplot as plt\n",
    "import numpy as np\n",
    "import pandas as pd\n",
    "from sklearn.linear_model import LinearRegression\n",
    "from sklearn.model_selection import train_test_split\n",
    "from sklearn.metrics import mean_absolute_error\n",
    "import statsmodels.api as sm\n",
    "from statsmodels.tools.eval_measures import mse, rmse\n",
    "from sqlalchemy import create_engine\n",
    "import warnings\n",
    "\n",
    "# Import data\n",
    "\n",
    "warnings.filterwarnings('ignore')\n",
    "\n",
    "postgres_user = 'dsbc_student'\n",
    "postgres_pw = '7*.8G9QH21'\n",
    "postgres_host = '142.93.121.174'\n",
    "postgres_port = '5432'\n",
    "postgres_db = 'houseprices'\n",
    "\n",
    "engine = create_engine('postgresql://{}:{}@{}:{}/{}'.format(\n",
    "    postgres_user, postgres_pw, postgres_host, postgres_port, postgres_db))\n",
    "\n",
    "houseprices_df = pd.read_sql_query('select * from houseprices',con=engine)\n",
    "\n",
    "# no need for an open connection, \n",
    "# as we're only doing a single query\n",
    "engine.dispose()"
   ]
  },
  {
   "cell_type": "code",
   "execution_count": 2,
   "metadata": {},
   "outputs": [],
   "source": [
    "# Create dummy variables \n",
    "houseprices_df = pd.concat([houseprices_df,pd.get_dummies(houseprices_df.mszoning, prefix=\"mszoning\", drop_first=True)], axis=1)\n",
    "houseprices_df = pd.concat([houseprices_df,pd.get_dummies(houseprices_df.housestyle, prefix=\"style\", drop_first=True)], axis=1)\n",
    "\n",
    "dummy_column_names = list(pd.get_dummies(houseprices_df.mszoning, prefix=\"mszoning\", drop_first=True).columns)\n",
    "dummy_column_names = dummy_column_names + list(pd.get_dummies(houseprices_df.housestyle, prefix=\"style\", drop_first=True).columns)"
   ]
  },
  {
   "cell_type": "code",
   "execution_count": 3,
   "metadata": {},
   "outputs": [],
   "source": [
    "# Create new variables \n",
    "houseprices_df['totalsf'] = houseprices_df['totalbsmtsf'] + houseprices_df['firstflrsf'] + houseprices_df['secondflrsf']\n",
    "\n",
    "houseprices_df['int_over_sf'] = houseprices_df['totalsf'] * houseprices_df['overallqual']"
   ]
  },
  {
   "cell_type": "code",
   "execution_count": 4,
   "metadata": {},
   "outputs": [],
   "source": [
    "# Y is the target variable\n",
    "Y = np.log1p(houseprices_df['saleprice'])\n",
    "# X is the feature set\n",
    "X = houseprices_df[['overallqual','grlivarea','garagearea','totalbsmtsf','firstflrsf', 'int_over_sf'] + dummy_column_names]"
   ]
  },
  {
   "cell_type": "markdown",
   "metadata": {},
   "source": [
    "Now, we will split our data into train and test sets by using scikit-learn's train_test_split() method. his method takes the features and the target as well as the test size and random state parameters as inputs. Below, we set this parameter to 0.2, which means we'll use 20% of the data as the test set."
   ]
  },
  {
   "cell_type": "code",
   "execution_count": 5,
   "metadata": {},
   "outputs": [
    {
     "name": "stdout",
     "output_type": "stream",
     "text": [
      "The number of observations in training set is 1168\n",
      "The number of observations in test set is 292\n"
     ]
    }
   ],
   "source": [
    "# Split data\n",
    "X_train, X_test, y_train, y_test = train_test_split(X, Y, test_size = 0.2, random_state = 465)\n",
    "\n",
    "print(\"The number of observations in training set is {}\".format(X_train.shape[0]))\n",
    "print(\"The number of observations in test set is {}\".format(X_test.shape[0]))"
   ]
  },
  {
   "cell_type": "markdown",
   "metadata": {},
   "source": [
    "Now, our features in the training and test sets are assigned to X_train and X_test respectively. Next, we use one of our previous models, but this time we train it using only the training set:"
   ]
  },
  {
   "cell_type": "code",
   "execution_count": 6,
   "metadata": {},
   "outputs": [
    {
     "name": "stdout",
     "output_type": "stream",
     "text": [
      "                            OLS Regression Results                            \n",
      "==============================================================================\n",
      "Dep. Variable:              saleprice   R-squared:                       0.829\n",
      "Model:                            OLS   Adj. R-squared:                  0.827\n",
      "Method:                 Least Squares   F-statistic:                     328.4\n",
      "Date:                Mon, 12 Aug 2019   Prob (F-statistic):               0.00\n",
      "Time:                        13:54:06   Log-Likelihood:                 453.88\n",
      "No. Observations:                1168   AIC:                            -871.8\n",
      "Df Residuals:                    1150   BIC:                            -780.6\n",
      "Df Model:                          17                                         \n",
      "Covariance Type:            nonrobust                                         \n",
      "================================================================================\n",
      "                   coef    std err          t      P>|t|      [0.025      0.975]\n",
      "--------------------------------------------------------------------------------\n",
      "const            9.7435      0.080    122.439      0.000       9.587       9.900\n",
      "overallqual      0.2062      0.009     22.490      0.000       0.188       0.224\n",
      "grlivarea        0.0005   3.81e-05     12.815      0.000       0.000       0.001\n",
      "garagearea       0.0003   2.94e-05     10.806      0.000       0.000       0.000\n",
      "totalbsmtsf      0.0003   2.88e-05      9.697      0.000       0.000       0.000\n",
      "firstflrsf   -7.513e-05   4.09e-05     -1.837      0.067      -0.000    5.13e-06\n",
      "int_over_sf   -2.85e-05      3e-06     -9.516      0.000   -3.44e-05   -2.26e-05\n",
      "mszoning_FV      0.3862      0.066      5.871      0.000       0.257       0.515\n",
      "mszoning_RH      0.2435      0.075      3.227      0.001       0.095       0.392\n",
      "mszoning_RL      0.3782      0.061      6.186      0.000       0.258       0.498\n",
      "mszoning_RM      0.2177      0.061      3.547      0.000       0.097       0.338\n",
      "style_1.5Unf     0.0243      0.053      0.455      0.649      -0.080       0.129\n",
      "style_1Story     0.0806      0.026      3.108      0.002       0.030       0.132\n",
      "style_2.5Fin    -0.2622      0.072     -3.661      0.000      -0.403      -0.122\n",
      "style_2.5Unf    -0.0766      0.066     -1.162      0.245      -0.206       0.053\n",
      "style_2Story    -0.0120      0.020     -0.585      0.559      -0.052       0.028\n",
      "style_SFoyer     0.1128      0.039      2.923      0.004       0.037       0.188\n",
      "style_SLvl       0.0699      0.032      2.214      0.027       0.008       0.132\n",
      "==============================================================================\n",
      "Omnibus:                      358.360   Durbin-Watson:                   1.843\n",
      "Prob(Omnibus):                  0.000   Jarque-Bera (JB):             2942.304\n",
      "Skew:                          -1.179   Prob(JB):                         0.00\n",
      "Kurtosis:                      10.409   Cond. No.                     5.28e+05\n",
      "==============================================================================\n",
      "\n",
      "Warnings:\n",
      "[1] Standard Errors assume that the covariance matrix of the errors is correctly specified.\n",
      "[2] The condition number is large, 5.28e+05. This might indicate that there are\n",
      "strong multicollinearity or other numerical problems.\n"
     ]
    }
   ],
   "source": [
    "# We add constant to the model as it's a best practice\n",
    "# to do so ever ytime!\n",
    "X_train = sm.add_constant(X_train)\n",
    "\n",
    "# We fit an OLS model using statsmodels\n",
    "results = sm.OLS(y_train, X_train).fit()\n",
    "\n",
    "# We print the summary results\n",
    "print(results.summary())"
   ]
  },
  {
   "cell_type": "markdown",
   "metadata": {},
   "source": [
    "Now it's time to make predictions by calling the predict() function. "
   ]
  },
  {
   "cell_type": "code",
   "execution_count": 7,
   "metadata": {},
   "outputs": [
    {
     "data": {
      "image/png": "[encoded data removed]",
      "text/plain": [
       "<Figure size 432x288 with 1 Axes>"
      ]
     },
     "metadata": {
      "needs_background": "light"
     },
     "output_type": "display_data"
    },
    {
     "name": "stdout",
     "output_type": "stream",
     "text": [
      "Mean absolute error of the prediction is: 0.12885874941200418\n",
      "Mean squared error of the prediction is: 0.02988341865051028\n",
      "Root mean squared error of the prediction is: 0.172868211798787\n",
      "Mean absolute percentage error of the prediction is: 1.0765115436157937\n"
     ]
    }
   ],
   "source": [
    "# We add constant to the model as it's a best practice\n",
    "# to do so every time!\n",
    "X_test = sm.add_constant(X_test)\n",
    "\n",
    "# We are making predictions here\n",
    "y_preds = results.predict(X_test)\n",
    "\n",
    "plt.scatter(y_test, y_preds)\n",
    "plt.plot(y_test, y_test, color=\"red\")\n",
    "plt.xlabel(\"true values\")\n",
    "plt.ylabel(\"predicted values\")\n",
    "plt.title(\"Charges: true and predicted values\")\n",
    "plt.show()\n",
    "\n",
    "print(\"Mean absolute error of the prediction is: {}\".format(mean_absolute_error(y_test, y_preds)))\n",
    "print(\"Mean squared error of the prediction is: {}\".format(mse(y_test, y_preds)))\n",
    "print(\"Root mean squared error of the prediction is: {}\".format(rmse(y_test, y_preds)))\n",
    "print(\"Mean absolute percentage error of the prediction is: {}\".format(np.mean(np.abs((y_test - y_preds) / y_test)) * 100))\n",
    "\n"
   ]
  },
  {
   "cell_type": "markdown",
   "metadata": {},
   "source": [
    "In the graph, we see that our model is better at predicting values in the middle, than values on the lower right and upper left corner. Looking at some evaluation metrics, this model preforms fairly well. Assuming that MAE, MSE, and RMSE ranges from 0 to 1, the scores for this model are low, thus indicating that the line is a good fit for the model. "
   ]
  },
  {
   "cell_type": "markdown",
   "metadata": {},
   "source": [
    "### Iteration 2 \n",
    "\n",
    "Let's try to improve the fit of the model by dropping some variables that are not statistically significant. The p-values for first floor square feet and house style coeffiecents are not below 0.05 so we will remove them from the explanatory variables. "
   ]
  },
  {
   "cell_type": "code",
   "execution_count": 8,
   "metadata": {},
   "outputs": [],
   "source": [
    "# Dummy column with only mszoning \n",
    "houseprices_df = pd.concat([houseprices_df,pd.get_dummies(houseprices_df.mszoning, prefix=\"mszoning\", drop_first=True)], axis=1)\n",
    "\n",
    "new_dummy_column_name = list(pd.get_dummies(houseprices_df.mszoning, prefix=\"mszoning\", drop_first=True).columns)"
   ]
  },
  {
   "cell_type": "code",
   "execution_count": 9,
   "metadata": {},
   "outputs": [],
   "source": [
    "# Y is the target variable\n",
    "Y = np.log1p(houseprices_df['saleprice'])\n",
    "# X is the feature set\n",
    "X = houseprices_df[['overallqual','grlivarea','garagearea','totalbsmtsf', 'int_over_sf'] + new_dummy_column_name]"
   ]
  },
  {
   "cell_type": "code",
   "execution_count": 10,
   "metadata": {},
   "outputs": [
    {
     "name": "stdout",
     "output_type": "stream",
     "text": [
      "The number of observations in training set is 1168\n",
      "The number of observations in test set is 292\n"
     ]
    }
   ],
   "source": [
    "# Split data\n",
    "X_train, X_test, y_train, y_test = train_test_split(X, Y, test_size = 0.2, random_state = 465)\n",
    "\n",
    "print(\"The number of observations in training set is {}\".format(X_train.shape[0]))\n",
    "print(\"The number of observations in test set is {}\".format(X_test.shape[0]))"
   ]
  },
  {
   "cell_type": "code",
   "execution_count": 11,
   "metadata": {},
   "outputs": [
    {
     "name": "stdout",
     "output_type": "stream",
     "text": [
      "                            OLS Regression Results                            \n",
      "==============================================================================\n",
      "Dep. Variable:              saleprice   R-squared:                       0.826\n",
      "Model:                            OLS   Adj. R-squared:                  0.824\n",
      "Method:                 Least Squares   F-statistic:                     609.2\n",
      "Date:                Mon, 12 Aug 2019   Prob (F-statistic):               0.00\n",
      "Time:                        13:54:06   Log-Likelihood:                 441.77\n",
      "No. Observations:                1168   AIC:                            -863.5\n",
      "Df Residuals:                    1158   BIC:                            -812.9\n",
      "Df Model:                           9                                         \n",
      "Covariance Type:            nonrobust                                         \n",
      "===============================================================================\n",
      "                  coef    std err          t      P>|t|      [0.025      0.975]\n",
      "-------------------------------------------------------------------------------\n",
      "const           9.8303      0.077    127.551      0.000       9.679       9.982\n",
      "overallqual     0.1989      0.009     22.084      0.000       0.181       0.217\n",
      "grlivarea       0.0004   2.33e-05     16.147      0.000       0.000       0.000\n",
      "garagearea      0.0003    2.9e-05     11.480      0.000       0.000       0.000\n",
      "totalbsmtsf     0.0003   2.58e-05     10.787      0.000       0.000       0.000\n",
      "int_over_sf -2.585e-05   2.94e-06     -8.782      0.000   -3.16e-05   -2.01e-05\n",
      "mszoning_FV     0.2042      0.033      6.273      0.000       0.140       0.268\n",
      "mszoning_FV     0.2042      0.033      6.273      0.000       0.140       0.268\n",
      "mszoning_RH     0.1335      0.037      3.582      0.000       0.060       0.207\n",
      "mszoning_RH     0.1335      0.037      3.582      0.000       0.060       0.207\n",
      "mszoning_RL     0.2063      0.030      6.856      0.000       0.147       0.265\n",
      "mszoning_RL     0.2063      0.030      6.856      0.000       0.147       0.265\n",
      "mszoning_RM     0.1168      0.031      3.822      0.000       0.057       0.177\n",
      "mszoning_RM     0.1168      0.031      3.822      0.000       0.057       0.177\n",
      "==============================================================================\n",
      "Omnibus:                      393.687   Durbin-Watson:                   1.847\n",
      "Prob(Omnibus):                  0.000   Jarque-Bera (JB):             3806.136\n",
      "Skew:                          -1.269   Prob(JB):                         0.00\n",
      "Kurtosis:                      11.471   Cond. No.                     1.92e+21\n",
      "==============================================================================\n",
      "\n",
      "Warnings:\n",
      "[1] Standard Errors assume that the covariance matrix of the errors is correctly specified.\n",
      "[2] The smallest eigenvalue is 1.11e-31. This might indicate that there are\n",
      "strong multicollinearity problems or that the design matrix is singular.\n"
     ]
    }
   ],
   "source": [
    "# We add constant to the model as it's a best practice\n",
    "# to do so ever ytime!\n",
    "X_train = sm.add_constant(X_train)\n",
    "\n",
    "# We fit an OLS model using statsmodels\n",
    "results = sm.OLS(y_train, X_train).fit()\n",
    "\n",
    "# We print the summary results\n",
    "print(results.summary())"
   ]
  },
  {
   "cell_type": "markdown",
   "metadata": {},
   "source": [
    "From the summary, we can see that all of our coefficents are now statistically signifcant. The R-squared and adjusted R-squared is 0.826 to 0.824 respectively. This is slightly less than the previous model that was able to explain 0.2% more variation in the target variable. However, the F statistics did increase from 328.4 to 609.2 in this model. \n",
    "\n",
    "Let's continue by looking at some evaluation mertics. "
   ]
  },
  {
   "cell_type": "code",
   "execution_count": 12,
   "metadata": {},
   "outputs": [
    {
     "data": {
      "image/png": "[encoded data removed]",
      "text/plain": [
       "<Figure size 432x288 with 1 Axes>"
      ]
     },
     "metadata": {
      "needs_background": "light"
     },
     "output_type": "display_data"
    },
    {
     "name": "stdout",
     "output_type": "stream",
     "text": [
      "Mean absolute error of the prediction is: 0.12865334418676325\n",
      "Mean squared error of the prediction is: 0.030055188691633386\n",
      "Root mean squared error of the prediction is: 0.1733643235836987\n",
      "Mean absolute percentage error of the prediction is: 1.0751108313234523\n"
     ]
    }
   ],
   "source": [
    "# We add constant to the model as it's a best practice\n",
    "# to do so every time!\n",
    "X_test = sm.add_constant(X_test)\n",
    "\n",
    "# We are making predictions here\n",
    "y_preds = results.predict(X_test)\n",
    "\n",
    "plt.scatter(y_test, y_preds)\n",
    "plt.plot(y_test, y_test, color=\"red\")\n",
    "plt.xlabel(\"true values\")\n",
    "plt.ylabel(\"predicted values\")\n",
    "plt.title(\"Charges: true and predicted values\")\n",
    "plt.show()\n",
    "\n",
    "print(\"Mean absolute error of the prediction is: {}\".format(mean_absolute_error(y_test, y_preds)))\n",
    "print(\"Mean squared error of the prediction is: {}\".format(mse(y_test, y_preds)))\n",
    "print(\"Root mean squared error of the prediction is: {}\".format(rmse(y_test, y_preds)))\n",
    "print(\"Mean absolute percentage error of the prediction is: {}\".format(np.mean(np.abs((y_test - y_preds) / y_test)) * 100))\n",
    "\n"
   ]
  },
  {
   "cell_type": "markdown",
   "metadata": {},
   "source": [
    "All of the evaluation mterics remained basically the same expect for MSE increasing by 0.002. "
   ]
  },
  {
   "cell_type": "markdown",
   "metadata": {},
   "source": [
    "I would choose to continue working with the first model since every metric in the first model preforms better predictions in the test set.  "
   ]
  }
 ],
 "metadata": {
  "kernelspec": {
   "display_name": "Python 3",
   "language": "python",
   "name": "python3"
  },
  "language_info": {
   "codemirror_mode": {
    "name": "ipython",
    "version": 3
   },
   "file_extension": ".py",
   "mimetype": "text/x-python",
   "name": "python",
   "nbconvert_exporter": "python",
   "pygments_lexer": "ipython3",
   "version": "3.6.8"
  }
 },
 "nbformat": 4,
 "nbformat_minor": 2
}
