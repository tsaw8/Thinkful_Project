{
 "cells": [
  {
   "cell_type": "markdown",
   "metadata": {},
   "source": [
    "# Assignment \n",
    "\n",
    "In this assignment, we will design a regression model by using the [House Prices](https://www.kaggle.com/c/house-prices-advanced-regression-techniques/data) dataset from Kaggle. This dataset consists of 79 variables describing many aspects of residential homes in Ames, Iowa. \n",
    "\n",
    "We will familiarize ourselves with the data by performing EDA to identify trends, spot anaomiles, select features, and more. Once this stage is complete, we will split our data into train and test sets where 20% of the data resides in the test set. Then, we will build several linear regression models including Lasso, Ridge, or ElasticNet and train them in the training set. We will also use k-fold cross-validation to select the best hyperparameters for our models. Once we evaluate our best model on the test set, we will introduce addition factors that may affect house prices. \n"
   ]
  },
  {
   "cell_type": "code",
   "execution_count": 56,
   "metadata": {},
   "outputs": [],
   "source": [
    "# Numpy and pandas\n",
    "import pandas as pd\n",
    "import numpy as np\n",
    "\n",
    "#Visualization\n",
    "import matplotlib.pyplot as plt\n",
    "import seaborn as sns\n",
    "import missingno as msno\n",
    "\n",
    "# Statistics tools\n",
    "import scipy.stats as stats\n",
    "\n",
    "# Model prep and Modeling \n",
    "from sklearn.decomposition import PCA \n",
    "from sklearn.model_selection import train_test_split\n",
    "from sklearn.linear_model import LinearRegression, LassoCV, RidgeCV, ElasticNetCV\n",
    "\n",
    "# Evaluate\n",
    "from sklearn.metrics import mean_absolute_error\n",
    "import statsmodels.api as sm\n",
    "from statsmodels.tools.eval_measures import mse, rmse\n",
    "\n",
    "# Import data\n",
    "from sqlalchemy import create_engine\n",
    "import warnings\n",
    "\n",
    "warnings.filterwarnings('ignore')\n",
    "\n",
    "postgres_user = 'dsbc_student'\n",
    "postgres_pw = '7*.8G9QH21'\n",
    "postgres_host = '142.93.121.174'\n",
    "postgres_port = '5432'\n",
    "postgres_db = 'houseprices'\n",
    "\n",
    "engine = create_engine('postgresql://{}:{}@{}:{}/{}'.format(\n",
    "    postgres_user, postgres_pw, postgres_host, postgres_port, postgres_db))\n",
    "\n",
    "houseprices_df = pd.read_sql_query('select * from houseprices',con=engine)\n",
    "\n",
    "# no need for an open connection, \n",
    "# as we're only doing a single query\n",
    "engine.dispose()"
   ]
  },
  {
   "cell_type": "markdown",
   "metadata": {},
   "source": [
    "## Data Cleaning and Formatting \n",
    "\n",
    "### Load in the Data  and Examine\n",
    "\n",
    "First, we will create a copy of the original house price dataframe so that we can manipulate and clean the data without disturbing the original dataset. We will begin by loading the data and format the column names by stripping spaces and convert to lowercase. "
   ]
  },
  {
   "cell_type": "code",
   "execution_count": 2,
   "metadata": {},
   "outputs": [
    {
     "name": "stdout",
     "output_type": "stream",
     "text": [
      "(1460, 81)\n"
     ]
    },
    {
     "data": {
      "text/html": [
       "<div>\n",
       "<style scoped>\n",
       "    .dataframe tbody tr th:only-of-type {\n",
       "        vertical-align: middle;\n",
       "    }\n",
       "\n",
       "    .dataframe tbody tr th {\n",
       "        vertical-align: top;\n",
       "    }\n",
       "\n",
       "    .dataframe thead th {\n",
       "        text-align: right;\n",
       "    }\n",
       "</style>\n",
       "<table border=\"1\" class=\"dataframe\">\n",
       "  <thead>\n",
       "    <tr style=\"text-align: right;\">\n",
       "      <th></th>\n",
       "      <th>id</th>\n",
       "      <th>mssubclass</th>\n",
       "      <th>mszoning</th>\n",
       "      <th>lotfrontage</th>\n",
       "      <th>lotarea</th>\n",
       "      <th>street</th>\n",
       "      <th>alley</th>\n",
       "      <th>lotshape</th>\n",
       "      <th>landcontour</th>\n",
       "      <th>utilities</th>\n",
       "      <th>...</th>\n",
       "      <th>poolarea</th>\n",
       "      <th>poolqc</th>\n",
       "      <th>fence</th>\n",
       "      <th>miscfeature</th>\n",
       "      <th>miscval</th>\n",
       "      <th>mosold</th>\n",
       "      <th>yrsold</th>\n",
       "      <th>saletype</th>\n",
       "      <th>salecondition</th>\n",
       "      <th>saleprice</th>\n",
       "    </tr>\n",
       "  </thead>\n",
       "  <tbody>\n",
       "    <tr>\n",
       "      <th>0</th>\n",
       "      <td>1</td>\n",
       "      <td>60</td>\n",
       "      <td>RL</td>\n",
       "      <td>65.0</td>\n",
       "      <td>8450</td>\n",
       "      <td>Pave</td>\n",
       "      <td>None</td>\n",
       "      <td>Reg</td>\n",
       "      <td>Lvl</td>\n",
       "      <td>AllPub</td>\n",
       "      <td>...</td>\n",
       "      <td>0</td>\n",
       "      <td>None</td>\n",
       "      <td>None</td>\n",
       "      <td>None</td>\n",
       "      <td>0</td>\n",
       "      <td>2</td>\n",
       "      <td>2008</td>\n",
       "      <td>WD</td>\n",
       "      <td>Normal</td>\n",
       "      <td>208500</td>\n",
       "    </tr>\n",
       "    <tr>\n",
       "      <th>1</th>\n",
       "      <td>2</td>\n",
       "      <td>20</td>\n",
       "      <td>RL</td>\n",
       "      <td>80.0</td>\n",
       "      <td>9600</td>\n",
       "      <td>Pave</td>\n",
       "      <td>None</td>\n",
       "      <td>Reg</td>\n",
       "      <td>Lvl</td>\n",
       "      <td>AllPub</td>\n",
       "      <td>...</td>\n",
       "      <td>0</td>\n",
       "      <td>None</td>\n",
       "      <td>None</td>\n",
       "      <td>None</td>\n",
       "      <td>0</td>\n",
       "      <td>5</td>\n",
       "      <td>2007</td>\n",
       "      <td>WD</td>\n",
       "      <td>Normal</td>\n",
       "      <td>181500</td>\n",
       "    </tr>\n",
       "    <tr>\n",
       "      <th>2</th>\n",
       "      <td>3</td>\n",
       "      <td>60</td>\n",
       "      <td>RL</td>\n",
       "      <td>68.0</td>\n",
       "      <td>11250</td>\n",
       "      <td>Pave</td>\n",
       "      <td>None</td>\n",
       "      <td>IR1</td>\n",
       "      <td>Lvl</td>\n",
       "      <td>AllPub</td>\n",
       "      <td>...</td>\n",
       "      <td>0</td>\n",
       "      <td>None</td>\n",
       "      <td>None</td>\n",
       "      <td>None</td>\n",
       "      <td>0</td>\n",
       "      <td>9</td>\n",
       "      <td>2008</td>\n",
       "      <td>WD</td>\n",
       "      <td>Normal</td>\n",
       "      <td>223500</td>\n",
       "    </tr>\n",
       "    <tr>\n",
       "      <th>3</th>\n",
       "      <td>4</td>\n",
       "      <td>70</td>\n",
       "      <td>RL</td>\n",
       "      <td>60.0</td>\n",
       "      <td>9550</td>\n",
       "      <td>Pave</td>\n",
       "      <td>None</td>\n",
       "      <td>IR1</td>\n",
       "      <td>Lvl</td>\n",
       "      <td>AllPub</td>\n",
       "      <td>...</td>\n",
       "      <td>0</td>\n",
       "      <td>None</td>\n",
       "      <td>None</td>\n",
       "      <td>None</td>\n",
       "      <td>0</td>\n",
       "      <td>2</td>\n",
       "      <td>2006</td>\n",
       "      <td>WD</td>\n",
       "      <td>Abnorml</td>\n",
       "      <td>140000</td>\n",
       "    </tr>\n",
       "    <tr>\n",
       "      <th>4</th>\n",
       "      <td>5</td>\n",
       "      <td>60</td>\n",
       "      <td>RL</td>\n",
       "      <td>84.0</td>\n",
       "      <td>14260</td>\n",
       "      <td>Pave</td>\n",
       "      <td>None</td>\n",
       "      <td>IR1</td>\n",
       "      <td>Lvl</td>\n",
       "      <td>AllPub</td>\n",
       "      <td>...</td>\n",
       "      <td>0</td>\n",
       "      <td>None</td>\n",
       "      <td>None</td>\n",
       "      <td>None</td>\n",
       "      <td>0</td>\n",
       "      <td>12</td>\n",
       "      <td>2008</td>\n",
       "      <td>WD</td>\n",
       "      <td>Normal</td>\n",
       "      <td>250000</td>\n",
       "    </tr>\n",
       "  </tbody>\n",
       "</table>\n",
       "<p>5 rows × 81 columns</p>\n",
       "</div>"
      ],
      "text/plain": [
       "   id  mssubclass mszoning  lotfrontage  lotarea street alley lotshape  \\\n",
       "0   1          60       RL         65.0     8450   Pave  None      Reg   \n",
       "1   2          20       RL         80.0     9600   Pave  None      Reg   \n",
       "2   3          60       RL         68.0    11250   Pave  None      IR1   \n",
       "3   4          70       RL         60.0     9550   Pave  None      IR1   \n",
       "4   5          60       RL         84.0    14260   Pave  None      IR1   \n",
       "\n",
       "  landcontour utilities  ... poolarea poolqc fence miscfeature miscval mosold  \\\n",
       "0         Lvl    AllPub  ...        0   None  None        None       0      2   \n",
       "1         Lvl    AllPub  ...        0   None  None        None       0      5   \n",
       "2         Lvl    AllPub  ...        0   None  None        None       0      9   \n",
       "3         Lvl    AllPub  ...        0   None  None        None       0      2   \n",
       "4         Lvl    AllPub  ...        0   None  None        None       0     12   \n",
       "\n",
       "  yrsold  saletype  salecondition  saleprice  \n",
       "0   2008        WD         Normal     208500  \n",
       "1   2007        WD         Normal     181500  \n",
       "2   2008        WD         Normal     223500  \n",
       "3   2006        WD        Abnorml     140000  \n",
       "4   2008        WD         Normal     250000  \n",
       "\n",
       "[5 rows x 81 columns]"
      ]
     },
     "execution_count": 2,
     "metadata": {},
     "output_type": "execute_result"
    }
   ],
   "source": [
    "# Rename columns that contain trailing spaces\n",
    "\n",
    "df = houseprices_df.copy()\n",
    "\n",
    "df.columns = df.columns.str.strip().str.lower().str.replace(' ', '_').str.replace('__', '_').str.replace('(', '').str.replace(')', '')\n",
    "\n",
    "print(df.shape)\n",
    "\n",
    "df.head()"
   ]
  },
  {
   "cell_type": "code",
   "execution_count": 3,
   "metadata": {},
   "outputs": [
    {
     "name": "stdout",
     "output_type": "stream",
     "text": [
      "<class 'pandas.core.frame.DataFrame'>\n",
      "RangeIndex: 1460 entries, 0 to 1459\n",
      "Data columns (total 81 columns):\n",
      "id               1460 non-null int64\n",
      "mssubclass       1460 non-null int64\n",
      "mszoning         1460 non-null object\n",
      "lotfrontage      1201 non-null float64\n",
      "lotarea          1460 non-null int64\n",
      "street           1460 non-null object\n",
      "alley            91 non-null object\n",
      "lotshape         1460 non-null object\n",
      "landcontour      1460 non-null object\n",
      "utilities        1460 non-null object\n",
      "lotconfig        1460 non-null object\n",
      "landslope        1460 non-null object\n",
      "neighborhood     1460 non-null object\n",
      "condition1       1460 non-null object\n",
      "condition2       1460 non-null object\n",
      "bldgtype         1460 non-null object\n",
      "housestyle       1460 non-null object\n",
      "overallqual      1460 non-null int64\n",
      "overallcond      1460 non-null int64\n",
      "yearbuilt        1460 non-null int64\n",
      "yearremodadd     1460 non-null int64\n",
      "roofstyle        1460 non-null object\n",
      "roofmatl         1460 non-null object\n",
      "exterior1st      1460 non-null object\n",
      "exterior2nd      1460 non-null object\n",
      "masvnrtype       1452 non-null object\n",
      "masvnrarea       1452 non-null float64\n",
      "exterqual        1460 non-null object\n",
      "extercond        1460 non-null object\n",
      "foundation       1460 non-null object\n",
      "bsmtqual         1423 non-null object\n",
      "bsmtcond         1423 non-null object\n",
      "bsmtexposure     1422 non-null object\n",
      "bsmtfintype1     1423 non-null object\n",
      "bsmtfinsf1       1460 non-null int64\n",
      "bsmtfintype2     1422 non-null object\n",
      "bsmtfinsf2       1460 non-null int64\n",
      "bsmtunfsf        1460 non-null int64\n",
      "totalbsmtsf      1460 non-null int64\n",
      "heating          1460 non-null object\n",
      "heatingqc        1460 non-null object\n",
      "centralair       1460 non-null object\n",
      "electrical       1459 non-null object\n",
      "firstflrsf       1460 non-null int64\n",
      "secondflrsf      1460 non-null int64\n",
      "lowqualfinsf     1460 non-null int64\n",
      "grlivarea        1460 non-null int64\n",
      "bsmtfullbath     1460 non-null int64\n",
      "bsmthalfbath     1460 non-null int64\n",
      "fullbath         1460 non-null int64\n",
      "halfbath         1460 non-null int64\n",
      "bedroomabvgr     1460 non-null int64\n",
      "kitchenabvgr     1460 non-null int64\n",
      "kitchenqual      1460 non-null object\n",
      "totrmsabvgrd     1460 non-null int64\n",
      "functional       1460 non-null object\n",
      "fireplaces       1460 non-null int64\n",
      "fireplacequ      770 non-null object\n",
      "garagetype       1379 non-null object\n",
      "garageyrblt      1379 non-null float64\n",
      "garagefinish     1379 non-null object\n",
      "garagecars       1460 non-null int64\n",
      "garagearea       1460 non-null int64\n",
      "garagequal       1379 non-null object\n",
      "garagecond       1379 non-null object\n",
      "paveddrive       1460 non-null object\n",
      "wooddecksf       1460 non-null int64\n",
      "openporchsf      1460 non-null int64\n",
      "enclosedporch    1460 non-null int64\n",
      "threessnporch    1460 non-null int64\n",
      "screenporch      1460 non-null int64\n",
      "poolarea         1460 non-null int64\n",
      "poolqc           7 non-null object\n",
      "fence            281 non-null object\n",
      "miscfeature      54 non-null object\n",
      "miscval          1460 non-null int64\n",
      "mosold           1460 non-null int64\n",
      "yrsold           1460 non-null int64\n",
      "saletype         1460 non-null object\n",
      "salecondition    1460 non-null object\n",
      "saleprice        1460 non-null int64\n",
      "dtypes: float64(3), int64(35), object(43)\n",
      "memory usage: 924.0+ KB\n"
     ]
    }
   ],
   "source": [
    "# Datatypes \n",
    "\n",
    "df.info()\n"
   ]
  },
  {
   "cell_type": "markdown",
   "metadata": {},
   "source": [
    "There are 81 attributes and 1,460 rows in this dataset. Currently, there are 43 categorical and 38 continous varibles describing aspects of houses sold in Ames, Iowa. There are a couple of date columns and an id column that were entered as integers. Since the focus of this assignment is predicting sale price and not working with a time series dataset, we will convert the columns to strings. "
   ]
  },
  {
   "cell_type": "code",
   "execution_count": 4,
   "metadata": {},
   "outputs": [],
   "source": [
    "# Convert to string \n",
    "\n",
    "convert_type = ['id','yearbuilt','yearremodadd','garageyrblt','mosold','yrsold']\n",
    "\n",
    "df[convert_type] = df[convert_type].astype(str)"
   ]
  },
  {
   "cell_type": "code",
   "execution_count": 5,
   "metadata": {},
   "outputs": [
    {
     "name": "stdout",
     "output_type": "stream",
     "text": [
      "There are 32 numeric varibles\n",
      "There are 49 categorical varibles\n"
     ]
    }
   ],
   "source": [
    "num_var = df.select_dtypes(['int64', 'float64']).columns\n",
    "print('There are {} numeric varibles'.format(len(num_var)))\n",
    "\n",
    "cat_var = df.select_dtypes(['object']).columns\n",
    "print('There are {} categorical varibles'.format(len(cat_var)))"
   ]
  },
  {
   "cell_type": "markdown",
   "metadata": {},
   "source": [
    "After converting columns to the correct types, we now have 33 numeric and 48 categorical variables. \n",
    "\n",
    "Let's get a basic description of the dataset by viewing summary statistics."
   ]
  },
  {
   "cell_type": "code",
   "execution_count": 6,
   "metadata": {},
   "outputs": [
    {
     "data": {
      "text/html": [
       "<div>\n",
       "<style scoped>\n",
       "    .dataframe tbody tr th:only-of-type {\n",
       "        vertical-align: middle;\n",
       "    }\n",
       "\n",
       "    .dataframe tbody tr th {\n",
       "        vertical-align: top;\n",
       "    }\n",
       "\n",
       "    .dataframe thead th {\n",
       "        text-align: right;\n",
       "    }\n",
       "</style>\n",
       "<table border=\"1\" class=\"dataframe\">\n",
       "  <thead>\n",
       "    <tr style=\"text-align: right;\">\n",
       "      <th></th>\n",
       "      <th>mssubclass</th>\n",
       "      <th>lotfrontage</th>\n",
       "      <th>lotarea</th>\n",
       "      <th>overallqual</th>\n",
       "      <th>overallcond</th>\n",
       "      <th>masvnrarea</th>\n",
       "      <th>bsmtfinsf1</th>\n",
       "      <th>bsmtfinsf2</th>\n",
       "      <th>bsmtunfsf</th>\n",
       "      <th>totalbsmtsf</th>\n",
       "      <th>...</th>\n",
       "      <th>garagecars</th>\n",
       "      <th>garagearea</th>\n",
       "      <th>wooddecksf</th>\n",
       "      <th>openporchsf</th>\n",
       "      <th>enclosedporch</th>\n",
       "      <th>threessnporch</th>\n",
       "      <th>screenporch</th>\n",
       "      <th>poolarea</th>\n",
       "      <th>miscval</th>\n",
       "      <th>saleprice</th>\n",
       "    </tr>\n",
       "  </thead>\n",
       "  <tbody>\n",
       "    <tr>\n",
       "      <th>count</th>\n",
       "      <td>1460.000000</td>\n",
       "      <td>1201.000000</td>\n",
       "      <td>1460.000000</td>\n",
       "      <td>1460.000000</td>\n",
       "      <td>1460.000000</td>\n",
       "      <td>1452.000000</td>\n",
       "      <td>1460.000000</td>\n",
       "      <td>1460.000000</td>\n",
       "      <td>1460.000000</td>\n",
       "      <td>1460.000000</td>\n",
       "      <td>...</td>\n",
       "      <td>1460.000000</td>\n",
       "      <td>1460.000000</td>\n",
       "      <td>1460.000000</td>\n",
       "      <td>1460.000000</td>\n",
       "      <td>1460.000000</td>\n",
       "      <td>1460.000000</td>\n",
       "      <td>1460.000000</td>\n",
       "      <td>1460.000000</td>\n",
       "      <td>1460.000000</td>\n",
       "      <td>1460.000000</td>\n",
       "    </tr>\n",
       "    <tr>\n",
       "      <th>mean</th>\n",
       "      <td>56.897260</td>\n",
       "      <td>70.049958</td>\n",
       "      <td>10516.828082</td>\n",
       "      <td>6.099315</td>\n",
       "      <td>5.575342</td>\n",
       "      <td>103.685262</td>\n",
       "      <td>443.639726</td>\n",
       "      <td>46.549315</td>\n",
       "      <td>567.240411</td>\n",
       "      <td>1057.429452</td>\n",
       "      <td>...</td>\n",
       "      <td>1.767123</td>\n",
       "      <td>472.980137</td>\n",
       "      <td>94.244521</td>\n",
       "      <td>46.660274</td>\n",
       "      <td>21.954110</td>\n",
       "      <td>3.409589</td>\n",
       "      <td>15.060959</td>\n",
       "      <td>2.758904</td>\n",
       "      <td>43.489041</td>\n",
       "      <td>180921.195890</td>\n",
       "    </tr>\n",
       "    <tr>\n",
       "      <th>std</th>\n",
       "      <td>42.300571</td>\n",
       "      <td>24.284752</td>\n",
       "      <td>9981.264932</td>\n",
       "      <td>1.382997</td>\n",
       "      <td>1.112799</td>\n",
       "      <td>181.066207</td>\n",
       "      <td>456.098091</td>\n",
       "      <td>161.319273</td>\n",
       "      <td>441.866955</td>\n",
       "      <td>438.705324</td>\n",
       "      <td>...</td>\n",
       "      <td>0.747315</td>\n",
       "      <td>213.804841</td>\n",
       "      <td>125.338794</td>\n",
       "      <td>66.256028</td>\n",
       "      <td>61.119149</td>\n",
       "      <td>29.317331</td>\n",
       "      <td>55.757415</td>\n",
       "      <td>40.177307</td>\n",
       "      <td>496.123024</td>\n",
       "      <td>79442.502883</td>\n",
       "    </tr>\n",
       "    <tr>\n",
       "      <th>min</th>\n",
       "      <td>20.000000</td>\n",
       "      <td>21.000000</td>\n",
       "      <td>1300.000000</td>\n",
       "      <td>1.000000</td>\n",
       "      <td>1.000000</td>\n",
       "      <td>0.000000</td>\n",
       "      <td>0.000000</td>\n",
       "      <td>0.000000</td>\n",
       "      <td>0.000000</td>\n",
       "      <td>0.000000</td>\n",
       "      <td>...</td>\n",
       "      <td>0.000000</td>\n",
       "      <td>0.000000</td>\n",
       "      <td>0.000000</td>\n",
       "      <td>0.000000</td>\n",
       "      <td>0.000000</td>\n",
       "      <td>0.000000</td>\n",
       "      <td>0.000000</td>\n",
       "      <td>0.000000</td>\n",
       "      <td>0.000000</td>\n",
       "      <td>34900.000000</td>\n",
       "    </tr>\n",
       "    <tr>\n",
       "      <th>25%</th>\n",
       "      <td>20.000000</td>\n",
       "      <td>59.000000</td>\n",
       "      <td>7553.500000</td>\n",
       "      <td>5.000000</td>\n",
       "      <td>5.000000</td>\n",
       "      <td>0.000000</td>\n",
       "      <td>0.000000</td>\n",
       "      <td>0.000000</td>\n",
       "      <td>223.000000</td>\n",
       "      <td>795.750000</td>\n",
       "      <td>...</td>\n",
       "      <td>1.000000</td>\n",
       "      <td>334.500000</td>\n",
       "      <td>0.000000</td>\n",
       "      <td>0.000000</td>\n",
       "      <td>0.000000</td>\n",
       "      <td>0.000000</td>\n",
       "      <td>0.000000</td>\n",
       "      <td>0.000000</td>\n",
       "      <td>0.000000</td>\n",
       "      <td>129975.000000</td>\n",
       "    </tr>\n",
       "    <tr>\n",
       "      <th>50%</th>\n",
       "      <td>50.000000</td>\n",
       "      <td>69.000000</td>\n",
       "      <td>9478.500000</td>\n",
       "      <td>6.000000</td>\n",
       "      <td>5.000000</td>\n",
       "      <td>0.000000</td>\n",
       "      <td>383.500000</td>\n",
       "      <td>0.000000</td>\n",
       "      <td>477.500000</td>\n",
       "      <td>991.500000</td>\n",
       "      <td>...</td>\n",
       "      <td>2.000000</td>\n",
       "      <td>480.000000</td>\n",
       "      <td>0.000000</td>\n",
       "      <td>25.000000</td>\n",
       "      <td>0.000000</td>\n",
       "      <td>0.000000</td>\n",
       "      <td>0.000000</td>\n",
       "      <td>0.000000</td>\n",
       "      <td>0.000000</td>\n",
       "      <td>163000.000000</td>\n",
       "    </tr>\n",
       "    <tr>\n",
       "      <th>75%</th>\n",
       "      <td>70.000000</td>\n",
       "      <td>80.000000</td>\n",
       "      <td>11601.500000</td>\n",
       "      <td>7.000000</td>\n",
       "      <td>6.000000</td>\n",
       "      <td>166.000000</td>\n",
       "      <td>712.250000</td>\n",
       "      <td>0.000000</td>\n",
       "      <td>808.000000</td>\n",
       "      <td>1298.250000</td>\n",
       "      <td>...</td>\n",
       "      <td>2.000000</td>\n",
       "      <td>576.000000</td>\n",
       "      <td>168.000000</td>\n",
       "      <td>68.000000</td>\n",
       "      <td>0.000000</td>\n",
       "      <td>0.000000</td>\n",
       "      <td>0.000000</td>\n",
       "      <td>0.000000</td>\n",
       "      <td>0.000000</td>\n",
       "      <td>214000.000000</td>\n",
       "    </tr>\n",
       "    <tr>\n",
       "      <th>max</th>\n",
       "      <td>190.000000</td>\n",
       "      <td>313.000000</td>\n",
       "      <td>215245.000000</td>\n",
       "      <td>10.000000</td>\n",
       "      <td>9.000000</td>\n",
       "      <td>1600.000000</td>\n",
       "      <td>5644.000000</td>\n",
       "      <td>1474.000000</td>\n",
       "      <td>2336.000000</td>\n",
       "      <td>6110.000000</td>\n",
       "      <td>...</td>\n",
       "      <td>4.000000</td>\n",
       "      <td>1418.000000</td>\n",
       "      <td>857.000000</td>\n",
       "      <td>547.000000</td>\n",
       "      <td>552.000000</td>\n",
       "      <td>508.000000</td>\n",
       "      <td>480.000000</td>\n",
       "      <td>738.000000</td>\n",
       "      <td>15500.000000</td>\n",
       "      <td>755000.000000</td>\n",
       "    </tr>\n",
       "  </tbody>\n",
       "</table>\n",
       "<p>8 rows × 32 columns</p>\n",
       "</div>"
      ],
      "text/plain": [
       "        mssubclass  lotfrontage        lotarea  overallqual  overallcond  \\\n",
       "count  1460.000000  1201.000000    1460.000000  1460.000000  1460.000000   \n",
       "mean     56.897260    70.049958   10516.828082     6.099315     5.575342   \n",
       "std      42.300571    24.284752    9981.264932     1.382997     1.112799   \n",
       "min      20.000000    21.000000    1300.000000     1.000000     1.000000   \n",
       "25%      20.000000    59.000000    7553.500000     5.000000     5.000000   \n",
       "50%      50.000000    69.000000    9478.500000     6.000000     5.000000   \n",
       "75%      70.000000    80.000000   11601.500000     7.000000     6.000000   \n",
       "max     190.000000   313.000000  215245.000000    10.000000     9.000000   \n",
       "\n",
       "        masvnrarea   bsmtfinsf1   bsmtfinsf2    bsmtunfsf  totalbsmtsf  ...  \\\n",
       "count  1452.000000  1460.000000  1460.000000  1460.000000  1460.000000  ...   \n",
       "mean    103.685262   443.639726    46.549315   567.240411  1057.429452  ...   \n",
       "std     181.066207   456.098091   161.319273   441.866955   438.705324  ...   \n",
       "min       0.000000     0.000000     0.000000     0.000000     0.000000  ...   \n",
       "25%       0.000000     0.000000     0.000000   223.000000   795.750000  ...   \n",
       "50%       0.000000   383.500000     0.000000   477.500000   991.500000  ...   \n",
       "75%     166.000000   712.250000     0.000000   808.000000  1298.250000  ...   \n",
       "max    1600.000000  5644.000000  1474.000000  2336.000000  6110.000000  ...   \n",
       "\n",
       "        garagecars   garagearea   wooddecksf  openporchsf  enclosedporch  \\\n",
       "count  1460.000000  1460.000000  1460.000000  1460.000000    1460.000000   \n",
       "mean      1.767123   472.980137    94.244521    46.660274      21.954110   \n",
       "std       0.747315   213.804841   125.338794    66.256028      61.119149   \n",
       "min       0.000000     0.000000     0.000000     0.000000       0.000000   \n",
       "25%       1.000000   334.500000     0.000000     0.000000       0.000000   \n",
       "50%       2.000000   480.000000     0.000000    25.000000       0.000000   \n",
       "75%       2.000000   576.000000   168.000000    68.000000       0.000000   \n",
       "max       4.000000  1418.000000   857.000000   547.000000     552.000000   \n",
       "\n",
       "       threessnporch  screenporch     poolarea       miscval      saleprice  \n",
       "count    1460.000000  1460.000000  1460.000000   1460.000000    1460.000000  \n",
       "mean        3.409589    15.060959     2.758904     43.489041  180921.195890  \n",
       "std        29.317331    55.757415    40.177307    496.123024   79442.502883  \n",
       "min         0.000000     0.000000     0.000000      0.000000   34900.000000  \n",
       "25%         0.000000     0.000000     0.000000      0.000000  129975.000000  \n",
       "50%         0.000000     0.000000     0.000000      0.000000  163000.000000  \n",
       "75%         0.000000     0.000000     0.000000      0.000000  214000.000000  \n",
       "max       508.000000   480.000000   738.000000  15500.000000  755000.000000  \n",
       "\n",
       "[8 rows x 32 columns]"
      ]
     },
     "execution_count": 6,
     "metadata": {},
     "output_type": "execute_result"
    }
   ],
   "source": [
    "# Dataframe statistics \n",
    "\n",
    "df.describe()"
   ]
  },
  {
   "cell_type": "code",
   "execution_count": 7,
   "metadata": {},
   "outputs": [
    {
     "data": {
      "text/html": [
       "<div>\n",
       "<style scoped>\n",
       "    .dataframe tbody tr th:only-of-type {\n",
       "        vertical-align: middle;\n",
       "    }\n",
       "\n",
       "    .dataframe tbody tr th {\n",
       "        vertical-align: top;\n",
       "    }\n",
       "\n",
       "    .dataframe thead th {\n",
       "        text-align: right;\n",
       "    }\n",
       "</style>\n",
       "<table border=\"1\" class=\"dataframe\">\n",
       "  <thead>\n",
       "    <tr style=\"text-align: right;\">\n",
       "      <th></th>\n",
       "      <th>id</th>\n",
       "      <th>mszoning</th>\n",
       "      <th>street</th>\n",
       "      <th>alley</th>\n",
       "      <th>lotshape</th>\n",
       "      <th>landcontour</th>\n",
       "      <th>utilities</th>\n",
       "      <th>lotconfig</th>\n",
       "      <th>landslope</th>\n",
       "      <th>neighborhood</th>\n",
       "      <th>...</th>\n",
       "      <th>garagequal</th>\n",
       "      <th>garagecond</th>\n",
       "      <th>paveddrive</th>\n",
       "      <th>poolqc</th>\n",
       "      <th>fence</th>\n",
       "      <th>miscfeature</th>\n",
       "      <th>mosold</th>\n",
       "      <th>yrsold</th>\n",
       "      <th>saletype</th>\n",
       "      <th>salecondition</th>\n",
       "    </tr>\n",
       "  </thead>\n",
       "  <tbody>\n",
       "    <tr>\n",
       "      <th>count</th>\n",
       "      <td>1460</td>\n",
       "      <td>1460</td>\n",
       "      <td>1460</td>\n",
       "      <td>91</td>\n",
       "      <td>1460</td>\n",
       "      <td>1460</td>\n",
       "      <td>1460</td>\n",
       "      <td>1460</td>\n",
       "      <td>1460</td>\n",
       "      <td>1460</td>\n",
       "      <td>...</td>\n",
       "      <td>1379</td>\n",
       "      <td>1379</td>\n",
       "      <td>1460</td>\n",
       "      <td>7</td>\n",
       "      <td>281</td>\n",
       "      <td>54</td>\n",
       "      <td>1460</td>\n",
       "      <td>1460</td>\n",
       "      <td>1460</td>\n",
       "      <td>1460</td>\n",
       "    </tr>\n",
       "    <tr>\n",
       "      <th>unique</th>\n",
       "      <td>1460</td>\n",
       "      <td>5</td>\n",
       "      <td>2</td>\n",
       "      <td>2</td>\n",
       "      <td>4</td>\n",
       "      <td>4</td>\n",
       "      <td>2</td>\n",
       "      <td>5</td>\n",
       "      <td>3</td>\n",
       "      <td>25</td>\n",
       "      <td>...</td>\n",
       "      <td>5</td>\n",
       "      <td>5</td>\n",
       "      <td>3</td>\n",
       "      <td>3</td>\n",
       "      <td>4</td>\n",
       "      <td>4</td>\n",
       "      <td>12</td>\n",
       "      <td>5</td>\n",
       "      <td>9</td>\n",
       "      <td>6</td>\n",
       "    </tr>\n",
       "    <tr>\n",
       "      <th>top</th>\n",
       "      <td>785</td>\n",
       "      <td>RL</td>\n",
       "      <td>Pave</td>\n",
       "      <td>Grvl</td>\n",
       "      <td>Reg</td>\n",
       "      <td>Lvl</td>\n",
       "      <td>AllPub</td>\n",
       "      <td>Inside</td>\n",
       "      <td>Gtl</td>\n",
       "      <td>NAmes</td>\n",
       "      <td>...</td>\n",
       "      <td>TA</td>\n",
       "      <td>TA</td>\n",
       "      <td>Y</td>\n",
       "      <td>Gd</td>\n",
       "      <td>MnPrv</td>\n",
       "      <td>Shed</td>\n",
       "      <td>6</td>\n",
       "      <td>2009</td>\n",
       "      <td>WD</td>\n",
       "      <td>Normal</td>\n",
       "    </tr>\n",
       "    <tr>\n",
       "      <th>freq</th>\n",
       "      <td>1</td>\n",
       "      <td>1151</td>\n",
       "      <td>1454</td>\n",
       "      <td>50</td>\n",
       "      <td>925</td>\n",
       "      <td>1311</td>\n",
       "      <td>1459</td>\n",
       "      <td>1052</td>\n",
       "      <td>1382</td>\n",
       "      <td>225</td>\n",
       "      <td>...</td>\n",
       "      <td>1311</td>\n",
       "      <td>1326</td>\n",
       "      <td>1340</td>\n",
       "      <td>3</td>\n",
       "      <td>157</td>\n",
       "      <td>49</td>\n",
       "      <td>253</td>\n",
       "      <td>338</td>\n",
       "      <td>1267</td>\n",
       "      <td>1198</td>\n",
       "    </tr>\n",
       "  </tbody>\n",
       "</table>\n",
       "<p>4 rows × 49 columns</p>\n",
       "</div>"
      ],
      "text/plain": [
       "          id mszoning street alley lotshape landcontour utilities lotconfig  \\\n",
       "count   1460     1460   1460    91     1460        1460      1460      1460   \n",
       "unique  1460        5      2     2        4           4         2         5   \n",
       "top      785       RL   Pave  Grvl      Reg         Lvl    AllPub    Inside   \n",
       "freq       1     1151   1454    50      925        1311      1459      1052   \n",
       "\n",
       "       landslope neighborhood  ... garagequal garagecond paveddrive poolqc  \\\n",
       "count       1460         1460  ...       1379       1379       1460      7   \n",
       "unique         3           25  ...          5          5          3      3   \n",
       "top          Gtl        NAmes  ...         TA         TA          Y     Gd   \n",
       "freq        1382          225  ...       1311       1326       1340      3   \n",
       "\n",
       "        fence miscfeature mosold yrsold saletype salecondition  \n",
       "count     281          54   1460   1460     1460          1460  \n",
       "unique      4           4     12      5        9             6  \n",
       "top     MnPrv        Shed      6   2009       WD        Normal  \n",
       "freq      157          49    253    338     1267          1198  \n",
       "\n",
       "[4 rows x 49 columns]"
      ]
     },
     "execution_count": 7,
     "metadata": {},
     "output_type": "execute_result"
    }
   ],
   "source": [
    "df.describe(include=['object'])"
   ]
  },
  {
   "cell_type": "markdown",
   "metadata": {},
   "source": [
    "Here are some initial observations:\n",
    " - Lot area varies drastically from 1,300 square feet (2 bedroom) to 215,245 square feet (mega-mansion).\n",
    " - The average house has a basement of 1,057 square feet. \n",
    " - Majority of garages can store up to 2 cars.\n",
    " - The average pool area is around 2 square feet, which indicates that these houses probably do not have a pool. This may be typical of a house in Iowa. \n",
    " - The sale prices ranges from \\\\$34,900 to \\\\$755,000. The average price for a house was around \\$180,921. \n",
    "  \n",
    " - These houses were built from 1872 to 2010. The average house in this dataset was built around 1971.\n",
    " - Houses in Northern Ames neighborhood were sold the most. \n",
    " - The data captures houses sold from 2006 to 2010. Summer months, particularly June 2009 was the most popular buying season.\n"
   ]
  },
  {
   "cell_type": "markdown",
   "metadata": {},
   "source": [
    "### Missing Values \n",
    "After correcting column data types, let's take a look at missing data. Questions that we should keep in mind include how prevalent is missing data and if these values are missing at random. Answering these questions will help us detect potential bias in data collection and uncover truths. "
   ]
  },
  {
   "cell_type": "code",
   "execution_count": 8,
   "metadata": {},
   "outputs": [],
   "source": [
    "# Function to calculate missing values by column\n",
    "def missing_values_table(df):\n",
    "        # Total missing values\n",
    "        mis_val = df.isnull().sum()\n",
    "        \n",
    "        # Percentage of missing values\n",
    "        mis_val_percent = 100 * df.isnull().sum() / len(df)\n",
    "        \n",
    "        # Make a table with the results\n",
    "        mis_val_table = pd.concat([mis_val, mis_val_percent], axis=1)\n",
    "        \n",
    "        # Rename the columns\n",
    "        mis_val_table_ren_columns = mis_val_table.rename(\n",
    "        columns = {0 : 'Missing Values', 1 : '% of Total Values'})\n",
    "        \n",
    "        # Sort the table by percentage of missing descending\n",
    "        mis_val_table_ren_columns = mis_val_table_ren_columns[\n",
    "            mis_val_table_ren_columns.iloc[:,1] != 0].sort_values(\n",
    "        '% of Total Values', ascending=False).round(1)\n",
    "        \n",
    "        # Print some summary information\n",
    "        print (\"Your selected dataframe has \" + str(df.shape[1]) + \" columns.\\n\"      \n",
    "            \"There are \" + str(mis_val_table_ren_columns.shape[0]) +\n",
    "              \" columns that have missing values.\")\n",
    "        \n",
    "        # Return the dataframe with missing information\n",
    "        return mis_val_table_ren_columns"
   ]
  },
  {
   "cell_type": "code",
   "execution_count": 9,
   "metadata": {},
   "outputs": [
    {
     "name": "stdout",
     "output_type": "stream",
     "text": [
      "Your selected dataframe has 81 columns.\n",
      "There are 18 columns that have missing values.\n"
     ]
    },
    {
     "data": {
      "text/html": [
       "<div>\n",
       "<style scoped>\n",
       "    .dataframe tbody tr th:only-of-type {\n",
       "        vertical-align: middle;\n",
       "    }\n",
       "\n",
       "    .dataframe tbody tr th {\n",
       "        vertical-align: top;\n",
       "    }\n",
       "\n",
       "    .dataframe thead th {\n",
       "        text-align: right;\n",
       "    }\n",
       "</style>\n",
       "<table border=\"1\" class=\"dataframe\">\n",
       "  <thead>\n",
       "    <tr style=\"text-align: right;\">\n",
       "      <th></th>\n",
       "      <th>Missing Values</th>\n",
       "      <th>% of Total Values</th>\n",
       "    </tr>\n",
       "  </thead>\n",
       "  <tbody>\n",
       "    <tr>\n",
       "      <th>poolqc</th>\n",
       "      <td>1453</td>\n",
       "      <td>99.5</td>\n",
       "    </tr>\n",
       "    <tr>\n",
       "      <th>miscfeature</th>\n",
       "      <td>1406</td>\n",
       "      <td>96.3</td>\n",
       "    </tr>\n",
       "    <tr>\n",
       "      <th>alley</th>\n",
       "      <td>1369</td>\n",
       "      <td>93.8</td>\n",
       "    </tr>\n",
       "    <tr>\n",
       "      <th>fence</th>\n",
       "      <td>1179</td>\n",
       "      <td>80.8</td>\n",
       "    </tr>\n",
       "    <tr>\n",
       "      <th>fireplacequ</th>\n",
       "      <td>690</td>\n",
       "      <td>47.3</td>\n",
       "    </tr>\n",
       "    <tr>\n",
       "      <th>lotfrontage</th>\n",
       "      <td>259</td>\n",
       "      <td>17.7</td>\n",
       "    </tr>\n",
       "    <tr>\n",
       "      <th>garagetype</th>\n",
       "      <td>81</td>\n",
       "      <td>5.5</td>\n",
       "    </tr>\n",
       "    <tr>\n",
       "      <th>garagefinish</th>\n",
       "      <td>81</td>\n",
       "      <td>5.5</td>\n",
       "    </tr>\n",
       "    <tr>\n",
       "      <th>garagequal</th>\n",
       "      <td>81</td>\n",
       "      <td>5.5</td>\n",
       "    </tr>\n",
       "    <tr>\n",
       "      <th>garagecond</th>\n",
       "      <td>81</td>\n",
       "      <td>5.5</td>\n",
       "    </tr>\n",
       "    <tr>\n",
       "      <th>bsmtexposure</th>\n",
       "      <td>38</td>\n",
       "      <td>2.6</td>\n",
       "    </tr>\n",
       "    <tr>\n",
       "      <th>bsmtfintype2</th>\n",
       "      <td>38</td>\n",
       "      <td>2.6</td>\n",
       "    </tr>\n",
       "    <tr>\n",
       "      <th>bsmtfintype1</th>\n",
       "      <td>37</td>\n",
       "      <td>2.5</td>\n",
       "    </tr>\n",
       "    <tr>\n",
       "      <th>bsmtcond</th>\n",
       "      <td>37</td>\n",
       "      <td>2.5</td>\n",
       "    </tr>\n",
       "    <tr>\n",
       "      <th>bsmtqual</th>\n",
       "      <td>37</td>\n",
       "      <td>2.5</td>\n",
       "    </tr>\n",
       "    <tr>\n",
       "      <th>masvnrarea</th>\n",
       "      <td>8</td>\n",
       "      <td>0.5</td>\n",
       "    </tr>\n",
       "    <tr>\n",
       "      <th>masvnrtype</th>\n",
       "      <td>8</td>\n",
       "      <td>0.5</td>\n",
       "    </tr>\n",
       "    <tr>\n",
       "      <th>electrical</th>\n",
       "      <td>1</td>\n",
       "      <td>0.1</td>\n",
       "    </tr>\n",
       "  </tbody>\n",
       "</table>\n",
       "</div>"
      ],
      "text/plain": [
       "              Missing Values  % of Total Values\n",
       "poolqc                  1453               99.5\n",
       "miscfeature             1406               96.3\n",
       "alley                   1369               93.8\n",
       "fence                   1179               80.8\n",
       "fireplacequ              690               47.3\n",
       "lotfrontage              259               17.7\n",
       "garagetype                81                5.5\n",
       "garagefinish              81                5.5\n",
       "garagequal                81                5.5\n",
       "garagecond                81                5.5\n",
       "bsmtexposure              38                2.6\n",
       "bsmtfintype2              38                2.6\n",
       "bsmtfintype1              37                2.5\n",
       "bsmtcond                  37                2.5\n",
       "bsmtqual                  37                2.5\n",
       "masvnrarea                 8                0.5\n",
       "masvnrtype                 8                0.5\n",
       "electrical                 1                0.1"
      ]
     },
     "execution_count": 9,
     "metadata": {},
     "output_type": "execute_result"
    }
   ],
   "source": [
    "missing_values_table(df)"
   ]
  },
  {
   "cell_type": "code",
   "execution_count": 10,
   "metadata": {},
   "outputs": [
    {
     "data": {
      "text/plain": [
       "<matplotlib.axes._subplots.AxesSubplot at 0x11de31908>"
      ]
     },
     "execution_count": 10,
     "metadata": {},
     "output_type": "execute_result"
    },
    {
     "data": {
      "image/png": "[encoded data removed]",
      "text/plain": [
       "<Figure size 1800x720 with 2 Axes>"
      ]
     },
     "metadata": {
      "needs_background": "light"
     },
     "output_type": "display_data"
    }
   ],
   "source": [
    "# Create nullity matrix for missing values \n",
    "\n",
    "msno.matrix(df)"
   ]
  },
  {
   "cell_type": "markdown",
   "metadata": {},
   "source": [
    "We can observe that the top 5 variables in the table are missing more than 40% of datapoints. Since these are categorical data, we'll replace NA values with none.  With the remaining variables, we can impute missing values with their respective mode. \n"
   ]
  },
  {
   "cell_type": "code",
   "execution_count": 11,
   "metadata": {},
   "outputs": [
    {
     "name": "stdout",
     "output_type": "stream",
     "text": [
      "Your selected dataframe has 81 columns.\n",
      "There are 18 columns that have missing values.\n",
      "We will impute 5 columns.\n"
     ]
    }
   ],
   "source": [
    "# Get columns with >= 40% missing\n",
    "\n",
    "missing_df = missing_values_table(df)\n",
    "missing_columns = list(missing_df[missing_df['% of Total Values'] >= 40].index)\n",
    "print('We will impute %d columns.' % len(missing_columns))"
   ]
  },
  {
   "cell_type": "code",
   "execution_count": 12,
   "metadata": {},
   "outputs": [],
   "source": [
    "# Repalce NA with None\n",
    "\n",
    "df[missing_columns] = df[missing_columns].fillna('None')"
   ]
  },
  {
   "cell_type": "markdown",
   "metadata": {},
   "source": [
    "Now, we will fill remaining missing values with the mode. "
   ]
  },
  {
   "cell_type": "code",
   "execution_count": 13,
   "metadata": {},
   "outputs": [],
   "source": [
    "# Imputation by mode\n",
    "\n",
    "df = df.fillna(df.mode().iloc[0])"
   ]
  },
  {
   "cell_type": "markdown",
   "metadata": {},
   "source": [
    "Let's check to see whether the null values were missing at random by comparing descriptive statistics before and after dropping the values. "
   ]
  },
  {
   "cell_type": "code",
   "execution_count": 14,
   "metadata": {},
   "outputs": [
    {
     "name": "stdout",
     "output_type": "stream",
     "text": [
      "Your selected dataframe has 81 columns.\n",
      "There are 0 columns that have missing values.\n"
     ]
    },
    {
     "data": {
      "text/html": [
       "<div>\n",
       "<style scoped>\n",
       "    .dataframe tbody tr th:only-of-type {\n",
       "        vertical-align: middle;\n",
       "    }\n",
       "\n",
       "    .dataframe tbody tr th {\n",
       "        vertical-align: top;\n",
       "    }\n",
       "\n",
       "    .dataframe thead th {\n",
       "        text-align: right;\n",
       "    }\n",
       "</style>\n",
       "<table border=\"1\" class=\"dataframe\">\n",
       "  <thead>\n",
       "    <tr style=\"text-align: right;\">\n",
       "      <th></th>\n",
       "      <th>Missing Values</th>\n",
       "      <th>% of Total Values</th>\n",
       "    </tr>\n",
       "  </thead>\n",
       "  <tbody>\n",
       "  </tbody>\n",
       "</table>\n",
       "</div>"
      ],
      "text/plain": [
       "Empty DataFrame\n",
       "Columns: [Missing Values, % of Total Values]\n",
       "Index: []"
      ]
     },
     "execution_count": 14,
     "metadata": {},
     "output_type": "execute_result"
    }
   ],
   "source": [
    "# Check to see remaining null values \n",
    "\n",
    "missing_values_table(df)"
   ]
  },
  {
   "cell_type": "code",
   "execution_count": 15,
   "metadata": {},
   "outputs": [
    {
     "data": {
      "text/html": [
       "<div>\n",
       "<style scoped>\n",
       "    .dataframe tbody tr th:only-of-type {\n",
       "        vertical-align: middle;\n",
       "    }\n",
       "\n",
       "    .dataframe tbody tr th {\n",
       "        vertical-align: top;\n",
       "    }\n",
       "\n",
       "    .dataframe thead th {\n",
       "        text-align: right;\n",
       "    }\n",
       "</style>\n",
       "<table border=\"1\" class=\"dataframe\">\n",
       "  <thead>\n",
       "    <tr style=\"text-align: right;\">\n",
       "      <th></th>\n",
       "      <th>id</th>\n",
       "      <th>mssubclass</th>\n",
       "      <th>lotfrontage</th>\n",
       "      <th>lotarea</th>\n",
       "      <th>overallqual</th>\n",
       "      <th>overallcond</th>\n",
       "      <th>yearbuilt</th>\n",
       "      <th>yearremodadd</th>\n",
       "      <th>masvnrarea</th>\n",
       "      <th>bsmtfinsf1</th>\n",
       "      <th>...</th>\n",
       "      <th>wooddecksf</th>\n",
       "      <th>openporchsf</th>\n",
       "      <th>enclosedporch</th>\n",
       "      <th>threessnporch</th>\n",
       "      <th>screenporch</th>\n",
       "      <th>poolarea</th>\n",
       "      <th>miscval</th>\n",
       "      <th>mosold</th>\n",
       "      <th>yrsold</th>\n",
       "      <th>saleprice</th>\n",
       "    </tr>\n",
       "  </thead>\n",
       "  <tbody>\n",
       "    <tr>\n",
       "      <th>count</th>\n",
       "      <td>1460.000000</td>\n",
       "      <td>1460.000000</td>\n",
       "      <td>1201.000000</td>\n",
       "      <td>1460.000000</td>\n",
       "      <td>1460.000000</td>\n",
       "      <td>1460.000000</td>\n",
       "      <td>1460.000000</td>\n",
       "      <td>1460.000000</td>\n",
       "      <td>1452.000000</td>\n",
       "      <td>1460.000000</td>\n",
       "      <td>...</td>\n",
       "      <td>1460.000000</td>\n",
       "      <td>1460.000000</td>\n",
       "      <td>1460.000000</td>\n",
       "      <td>1460.000000</td>\n",
       "      <td>1460.000000</td>\n",
       "      <td>1460.000000</td>\n",
       "      <td>1460.000000</td>\n",
       "      <td>1460.000000</td>\n",
       "      <td>1460.000000</td>\n",
       "      <td>1460.000000</td>\n",
       "    </tr>\n",
       "    <tr>\n",
       "      <th>mean</th>\n",
       "      <td>730.500000</td>\n",
       "      <td>56.897260</td>\n",
       "      <td>70.049958</td>\n",
       "      <td>10516.828082</td>\n",
       "      <td>6.099315</td>\n",
       "      <td>5.575342</td>\n",
       "      <td>1971.267808</td>\n",
       "      <td>1984.865753</td>\n",
       "      <td>103.685262</td>\n",
       "      <td>443.639726</td>\n",
       "      <td>...</td>\n",
       "      <td>94.244521</td>\n",
       "      <td>46.660274</td>\n",
       "      <td>21.954110</td>\n",
       "      <td>3.409589</td>\n",
       "      <td>15.060959</td>\n",
       "      <td>2.758904</td>\n",
       "      <td>43.489041</td>\n",
       "      <td>6.321918</td>\n",
       "      <td>2007.815753</td>\n",
       "      <td>180921.195890</td>\n",
       "    </tr>\n",
       "    <tr>\n",
       "      <th>std</th>\n",
       "      <td>421.610009</td>\n",
       "      <td>42.300571</td>\n",
       "      <td>24.284752</td>\n",
       "      <td>9981.264932</td>\n",
       "      <td>1.382997</td>\n",
       "      <td>1.112799</td>\n",
       "      <td>30.202904</td>\n",
       "      <td>20.645407</td>\n",
       "      <td>181.066207</td>\n",
       "      <td>456.098091</td>\n",
       "      <td>...</td>\n",
       "      <td>125.338794</td>\n",
       "      <td>66.256028</td>\n",
       "      <td>61.119149</td>\n",
       "      <td>29.317331</td>\n",
       "      <td>55.757415</td>\n",
       "      <td>40.177307</td>\n",
       "      <td>496.123024</td>\n",
       "      <td>2.703626</td>\n",
       "      <td>1.328095</td>\n",
       "      <td>79442.502883</td>\n",
       "    </tr>\n",
       "    <tr>\n",
       "      <th>min</th>\n",
       "      <td>1.000000</td>\n",
       "      <td>20.000000</td>\n",
       "      <td>21.000000</td>\n",
       "      <td>1300.000000</td>\n",
       "      <td>1.000000</td>\n",
       "      <td>1.000000</td>\n",
       "      <td>1872.000000</td>\n",
       "      <td>1950.000000</td>\n",
       "      <td>0.000000</td>\n",
       "      <td>0.000000</td>\n",
       "      <td>...</td>\n",
       "      <td>0.000000</td>\n",
       "      <td>0.000000</td>\n",
       "      <td>0.000000</td>\n",
       "      <td>0.000000</td>\n",
       "      <td>0.000000</td>\n",
       "      <td>0.000000</td>\n",
       "      <td>0.000000</td>\n",
       "      <td>1.000000</td>\n",
       "      <td>2006.000000</td>\n",
       "      <td>34900.000000</td>\n",
       "    </tr>\n",
       "    <tr>\n",
       "      <th>25%</th>\n",
       "      <td>365.750000</td>\n",
       "      <td>20.000000</td>\n",
       "      <td>59.000000</td>\n",
       "      <td>7553.500000</td>\n",
       "      <td>5.000000</td>\n",
       "      <td>5.000000</td>\n",
       "      <td>1954.000000</td>\n",
       "      <td>1967.000000</td>\n",
       "      <td>0.000000</td>\n",
       "      <td>0.000000</td>\n",
       "      <td>...</td>\n",
       "      <td>0.000000</td>\n",
       "      <td>0.000000</td>\n",
       "      <td>0.000000</td>\n",
       "      <td>0.000000</td>\n",
       "      <td>0.000000</td>\n",
       "      <td>0.000000</td>\n",
       "      <td>0.000000</td>\n",
       "      <td>5.000000</td>\n",
       "      <td>2007.000000</td>\n",
       "      <td>129975.000000</td>\n",
       "    </tr>\n",
       "    <tr>\n",
       "      <th>50%</th>\n",
       "      <td>730.500000</td>\n",
       "      <td>50.000000</td>\n",
       "      <td>69.000000</td>\n",
       "      <td>9478.500000</td>\n",
       "      <td>6.000000</td>\n",
       "      <td>5.000000</td>\n",
       "      <td>1973.000000</td>\n",
       "      <td>1994.000000</td>\n",
       "      <td>0.000000</td>\n",
       "      <td>383.500000</td>\n",
       "      <td>...</td>\n",
       "      <td>0.000000</td>\n",
       "      <td>25.000000</td>\n",
       "      <td>0.000000</td>\n",
       "      <td>0.000000</td>\n",
       "      <td>0.000000</td>\n",
       "      <td>0.000000</td>\n",
       "      <td>0.000000</td>\n",
       "      <td>6.000000</td>\n",
       "      <td>2008.000000</td>\n",
       "      <td>163000.000000</td>\n",
       "    </tr>\n",
       "    <tr>\n",
       "      <th>75%</th>\n",
       "      <td>1095.250000</td>\n",
       "      <td>70.000000</td>\n",
       "      <td>80.000000</td>\n",
       "      <td>11601.500000</td>\n",
       "      <td>7.000000</td>\n",
       "      <td>6.000000</td>\n",
       "      <td>2000.000000</td>\n",
       "      <td>2004.000000</td>\n",
       "      <td>166.000000</td>\n",
       "      <td>712.250000</td>\n",
       "      <td>...</td>\n",
       "      <td>168.000000</td>\n",
       "      <td>68.000000</td>\n",
       "      <td>0.000000</td>\n",
       "      <td>0.000000</td>\n",
       "      <td>0.000000</td>\n",
       "      <td>0.000000</td>\n",
       "      <td>0.000000</td>\n",
       "      <td>8.000000</td>\n",
       "      <td>2009.000000</td>\n",
       "      <td>214000.000000</td>\n",
       "    </tr>\n",
       "    <tr>\n",
       "      <th>max</th>\n",
       "      <td>1460.000000</td>\n",
       "      <td>190.000000</td>\n",
       "      <td>313.000000</td>\n",
       "      <td>215245.000000</td>\n",
       "      <td>10.000000</td>\n",
       "      <td>9.000000</td>\n",
       "      <td>2010.000000</td>\n",
       "      <td>2010.000000</td>\n",
       "      <td>1600.000000</td>\n",
       "      <td>5644.000000</td>\n",
       "      <td>...</td>\n",
       "      <td>857.000000</td>\n",
       "      <td>547.000000</td>\n",
       "      <td>552.000000</td>\n",
       "      <td>508.000000</td>\n",
       "      <td>480.000000</td>\n",
       "      <td>738.000000</td>\n",
       "      <td>15500.000000</td>\n",
       "      <td>12.000000</td>\n",
       "      <td>2010.000000</td>\n",
       "      <td>755000.000000</td>\n",
       "    </tr>\n",
       "  </tbody>\n",
       "</table>\n",
       "<p>8 rows × 38 columns</p>\n",
       "</div>"
      ],
      "text/plain": [
       "                id   mssubclass  lotfrontage        lotarea  overallqual  \\\n",
       "count  1460.000000  1460.000000  1201.000000    1460.000000  1460.000000   \n",
       "mean    730.500000    56.897260    70.049958   10516.828082     6.099315   \n",
       "std     421.610009    42.300571    24.284752    9981.264932     1.382997   \n",
       "min       1.000000    20.000000    21.000000    1300.000000     1.000000   \n",
       "25%     365.750000    20.000000    59.000000    7553.500000     5.000000   \n",
       "50%     730.500000    50.000000    69.000000    9478.500000     6.000000   \n",
       "75%    1095.250000    70.000000    80.000000   11601.500000     7.000000   \n",
       "max    1460.000000   190.000000   313.000000  215245.000000    10.000000   \n",
       "\n",
       "       overallcond    yearbuilt  yearremodadd   masvnrarea   bsmtfinsf1  ...  \\\n",
       "count  1460.000000  1460.000000   1460.000000  1452.000000  1460.000000  ...   \n",
       "mean      5.575342  1971.267808   1984.865753   103.685262   443.639726  ...   \n",
       "std       1.112799    30.202904     20.645407   181.066207   456.098091  ...   \n",
       "min       1.000000  1872.000000   1950.000000     0.000000     0.000000  ...   \n",
       "25%       5.000000  1954.000000   1967.000000     0.000000     0.000000  ...   \n",
       "50%       5.000000  1973.000000   1994.000000     0.000000   383.500000  ...   \n",
       "75%       6.000000  2000.000000   2004.000000   166.000000   712.250000  ...   \n",
       "max       9.000000  2010.000000   2010.000000  1600.000000  5644.000000  ...   \n",
       "\n",
       "        wooddecksf  openporchsf  enclosedporch  threessnporch  screenporch  \\\n",
       "count  1460.000000  1460.000000    1460.000000    1460.000000  1460.000000   \n",
       "mean     94.244521    46.660274      21.954110       3.409589    15.060959   \n",
       "std     125.338794    66.256028      61.119149      29.317331    55.757415   \n",
       "min       0.000000     0.000000       0.000000       0.000000     0.000000   \n",
       "25%       0.000000     0.000000       0.000000       0.000000     0.000000   \n",
       "50%       0.000000    25.000000       0.000000       0.000000     0.000000   \n",
       "75%     168.000000    68.000000       0.000000       0.000000     0.000000   \n",
       "max     857.000000   547.000000     552.000000     508.000000   480.000000   \n",
       "\n",
       "          poolarea       miscval       mosold       yrsold      saleprice  \n",
       "count  1460.000000   1460.000000  1460.000000  1460.000000    1460.000000  \n",
       "mean      2.758904     43.489041     6.321918  2007.815753  180921.195890  \n",
       "std      40.177307    496.123024     2.703626     1.328095   79442.502883  \n",
       "min       0.000000      0.000000     1.000000  2006.000000   34900.000000  \n",
       "25%       0.000000      0.000000     5.000000  2007.000000  129975.000000  \n",
       "50%       0.000000      0.000000     6.000000  2008.000000  163000.000000  \n",
       "75%       0.000000      0.000000     8.000000  2009.000000  214000.000000  \n",
       "max     738.000000  15500.000000    12.000000  2010.000000  755000.000000  \n",
       "\n",
       "[8 rows x 38 columns]"
      ]
     },
     "execution_count": 15,
     "metadata": {},
     "output_type": "execute_result"
    }
   ],
   "source": [
    "# Dataset before drop values \n",
    "\n",
    "houseprices_df.describe()"
   ]
  },
  {
   "cell_type": "code",
   "execution_count": 16,
   "metadata": {},
   "outputs": [
    {
     "data": {
      "text/html": [
       "<div>\n",
       "<style scoped>\n",
       "    .dataframe tbody tr th:only-of-type {\n",
       "        vertical-align: middle;\n",
       "    }\n",
       "\n",
       "    .dataframe tbody tr th {\n",
       "        vertical-align: top;\n",
       "    }\n",
       "\n",
       "    .dataframe thead th {\n",
       "        text-align: right;\n",
       "    }\n",
       "</style>\n",
       "<table border=\"1\" class=\"dataframe\">\n",
       "  <thead>\n",
       "    <tr style=\"text-align: right;\">\n",
       "      <th></th>\n",
       "      <th>mssubclass</th>\n",
       "      <th>lotfrontage</th>\n",
       "      <th>lotarea</th>\n",
       "      <th>overallqual</th>\n",
       "      <th>overallcond</th>\n",
       "      <th>masvnrarea</th>\n",
       "      <th>bsmtfinsf1</th>\n",
       "      <th>bsmtfinsf2</th>\n",
       "      <th>bsmtunfsf</th>\n",
       "      <th>totalbsmtsf</th>\n",
       "      <th>...</th>\n",
       "      <th>garagecars</th>\n",
       "      <th>garagearea</th>\n",
       "      <th>wooddecksf</th>\n",
       "      <th>openporchsf</th>\n",
       "      <th>enclosedporch</th>\n",
       "      <th>threessnporch</th>\n",
       "      <th>screenporch</th>\n",
       "      <th>poolarea</th>\n",
       "      <th>miscval</th>\n",
       "      <th>saleprice</th>\n",
       "    </tr>\n",
       "  </thead>\n",
       "  <tbody>\n",
       "    <tr>\n",
       "      <th>count</th>\n",
       "      <td>1460.000000</td>\n",
       "      <td>1460.000000</td>\n",
       "      <td>1460.000000</td>\n",
       "      <td>1460.000000</td>\n",
       "      <td>1460.000000</td>\n",
       "      <td>1460.000000</td>\n",
       "      <td>1460.000000</td>\n",
       "      <td>1460.000000</td>\n",
       "      <td>1460.000000</td>\n",
       "      <td>1460.000000</td>\n",
       "      <td>...</td>\n",
       "      <td>1460.000000</td>\n",
       "      <td>1460.000000</td>\n",
       "      <td>1460.000000</td>\n",
       "      <td>1460.000000</td>\n",
       "      <td>1460.000000</td>\n",
       "      <td>1460.000000</td>\n",
       "      <td>1460.000000</td>\n",
       "      <td>1460.000000</td>\n",
       "      <td>1460.000000</td>\n",
       "      <td>1460.000000</td>\n",
       "    </tr>\n",
       "    <tr>\n",
       "      <th>mean</th>\n",
       "      <td>56.897260</td>\n",
       "      <td>68.267123</td>\n",
       "      <td>10516.828082</td>\n",
       "      <td>6.099315</td>\n",
       "      <td>5.575342</td>\n",
       "      <td>103.117123</td>\n",
       "      <td>443.639726</td>\n",
       "      <td>46.549315</td>\n",
       "      <td>567.240411</td>\n",
       "      <td>1057.429452</td>\n",
       "      <td>...</td>\n",
       "      <td>1.767123</td>\n",
       "      <td>472.980137</td>\n",
       "      <td>94.244521</td>\n",
       "      <td>46.660274</td>\n",
       "      <td>21.954110</td>\n",
       "      <td>3.409589</td>\n",
       "      <td>15.060959</td>\n",
       "      <td>2.758904</td>\n",
       "      <td>43.489041</td>\n",
       "      <td>180921.195890</td>\n",
       "    </tr>\n",
       "    <tr>\n",
       "      <th>std</th>\n",
       "      <td>42.300571</td>\n",
       "      <td>22.356355</td>\n",
       "      <td>9981.264932</td>\n",
       "      <td>1.382997</td>\n",
       "      <td>1.112799</td>\n",
       "      <td>180.731373</td>\n",
       "      <td>456.098091</td>\n",
       "      <td>161.319273</td>\n",
       "      <td>441.866955</td>\n",
       "      <td>438.705324</td>\n",
       "      <td>...</td>\n",
       "      <td>0.747315</td>\n",
       "      <td>213.804841</td>\n",
       "      <td>125.338794</td>\n",
       "      <td>66.256028</td>\n",
       "      <td>61.119149</td>\n",
       "      <td>29.317331</td>\n",
       "      <td>55.757415</td>\n",
       "      <td>40.177307</td>\n",
       "      <td>496.123024</td>\n",
       "      <td>79442.502883</td>\n",
       "    </tr>\n",
       "    <tr>\n",
       "      <th>min</th>\n",
       "      <td>20.000000</td>\n",
       "      <td>21.000000</td>\n",
       "      <td>1300.000000</td>\n",
       "      <td>1.000000</td>\n",
       "      <td>1.000000</td>\n",
       "      <td>0.000000</td>\n",
       "      <td>0.000000</td>\n",
       "      <td>0.000000</td>\n",
       "      <td>0.000000</td>\n",
       "      <td>0.000000</td>\n",
       "      <td>...</td>\n",
       "      <td>0.000000</td>\n",
       "      <td>0.000000</td>\n",
       "      <td>0.000000</td>\n",
       "      <td>0.000000</td>\n",
       "      <td>0.000000</td>\n",
       "      <td>0.000000</td>\n",
       "      <td>0.000000</td>\n",
       "      <td>0.000000</td>\n",
       "      <td>0.000000</td>\n",
       "      <td>34900.000000</td>\n",
       "    </tr>\n",
       "    <tr>\n",
       "      <th>25%</th>\n",
       "      <td>20.000000</td>\n",
       "      <td>60.000000</td>\n",
       "      <td>7553.500000</td>\n",
       "      <td>5.000000</td>\n",
       "      <td>5.000000</td>\n",
       "      <td>0.000000</td>\n",
       "      <td>0.000000</td>\n",
       "      <td>0.000000</td>\n",
       "      <td>223.000000</td>\n",
       "      <td>795.750000</td>\n",
       "      <td>...</td>\n",
       "      <td>1.000000</td>\n",
       "      <td>334.500000</td>\n",
       "      <td>0.000000</td>\n",
       "      <td>0.000000</td>\n",
       "      <td>0.000000</td>\n",
       "      <td>0.000000</td>\n",
       "      <td>0.000000</td>\n",
       "      <td>0.000000</td>\n",
       "      <td>0.000000</td>\n",
       "      <td>129975.000000</td>\n",
       "    </tr>\n",
       "    <tr>\n",
       "      <th>50%</th>\n",
       "      <td>50.000000</td>\n",
       "      <td>63.000000</td>\n",
       "      <td>9478.500000</td>\n",
       "      <td>6.000000</td>\n",
       "      <td>5.000000</td>\n",
       "      <td>0.000000</td>\n",
       "      <td>383.500000</td>\n",
       "      <td>0.000000</td>\n",
       "      <td>477.500000</td>\n",
       "      <td>991.500000</td>\n",
       "      <td>...</td>\n",
       "      <td>2.000000</td>\n",
       "      <td>480.000000</td>\n",
       "      <td>0.000000</td>\n",
       "      <td>25.000000</td>\n",
       "      <td>0.000000</td>\n",
       "      <td>0.000000</td>\n",
       "      <td>0.000000</td>\n",
       "      <td>0.000000</td>\n",
       "      <td>0.000000</td>\n",
       "      <td>163000.000000</td>\n",
       "    </tr>\n",
       "    <tr>\n",
       "      <th>75%</th>\n",
       "      <td>70.000000</td>\n",
       "      <td>79.000000</td>\n",
       "      <td>11601.500000</td>\n",
       "      <td>7.000000</td>\n",
       "      <td>6.000000</td>\n",
       "      <td>164.250000</td>\n",
       "      <td>712.250000</td>\n",
       "      <td>0.000000</td>\n",
       "      <td>808.000000</td>\n",
       "      <td>1298.250000</td>\n",
       "      <td>...</td>\n",
       "      <td>2.000000</td>\n",
       "      <td>576.000000</td>\n",
       "      <td>168.000000</td>\n",
       "      <td>68.000000</td>\n",
       "      <td>0.000000</td>\n",
       "      <td>0.000000</td>\n",
       "      <td>0.000000</td>\n",
       "      <td>0.000000</td>\n",
       "      <td>0.000000</td>\n",
       "      <td>214000.000000</td>\n",
       "    </tr>\n",
       "    <tr>\n",
       "      <th>max</th>\n",
       "      <td>190.000000</td>\n",
       "      <td>313.000000</td>\n",
       "      <td>215245.000000</td>\n",
       "      <td>10.000000</td>\n",
       "      <td>9.000000</td>\n",
       "      <td>1600.000000</td>\n",
       "      <td>5644.000000</td>\n",
       "      <td>1474.000000</td>\n",
       "      <td>2336.000000</td>\n",
       "      <td>6110.000000</td>\n",
       "      <td>...</td>\n",
       "      <td>4.000000</td>\n",
       "      <td>1418.000000</td>\n",
       "      <td>857.000000</td>\n",
       "      <td>547.000000</td>\n",
       "      <td>552.000000</td>\n",
       "      <td>508.000000</td>\n",
       "      <td>480.000000</td>\n",
       "      <td>738.000000</td>\n",
       "      <td>15500.000000</td>\n",
       "      <td>755000.000000</td>\n",
       "    </tr>\n",
       "  </tbody>\n",
       "</table>\n",
       "<p>8 rows × 32 columns</p>\n",
       "</div>"
      ],
      "text/plain": [
       "        mssubclass  lotfrontage        lotarea  overallqual  overallcond  \\\n",
       "count  1460.000000  1460.000000    1460.000000  1460.000000  1460.000000   \n",
       "mean     56.897260    68.267123   10516.828082     6.099315     5.575342   \n",
       "std      42.300571    22.356355    9981.264932     1.382997     1.112799   \n",
       "min      20.000000    21.000000    1300.000000     1.000000     1.000000   \n",
       "25%      20.000000    60.000000    7553.500000     5.000000     5.000000   \n",
       "50%      50.000000    63.000000    9478.500000     6.000000     5.000000   \n",
       "75%      70.000000    79.000000   11601.500000     7.000000     6.000000   \n",
       "max     190.000000   313.000000  215245.000000    10.000000     9.000000   \n",
       "\n",
       "        masvnrarea   bsmtfinsf1   bsmtfinsf2    bsmtunfsf  totalbsmtsf  ...  \\\n",
       "count  1460.000000  1460.000000  1460.000000  1460.000000  1460.000000  ...   \n",
       "mean    103.117123   443.639726    46.549315   567.240411  1057.429452  ...   \n",
       "std     180.731373   456.098091   161.319273   441.866955   438.705324  ...   \n",
       "min       0.000000     0.000000     0.000000     0.000000     0.000000  ...   \n",
       "25%       0.000000     0.000000     0.000000   223.000000   795.750000  ...   \n",
       "50%       0.000000   383.500000     0.000000   477.500000   991.500000  ...   \n",
       "75%     164.250000   712.250000     0.000000   808.000000  1298.250000  ...   \n",
       "max    1600.000000  5644.000000  1474.000000  2336.000000  6110.000000  ...   \n",
       "\n",
       "        garagecars   garagearea   wooddecksf  openporchsf  enclosedporch  \\\n",
       "count  1460.000000  1460.000000  1460.000000  1460.000000    1460.000000   \n",
       "mean      1.767123   472.980137    94.244521    46.660274      21.954110   \n",
       "std       0.747315   213.804841   125.338794    66.256028      61.119149   \n",
       "min       0.000000     0.000000     0.000000     0.000000       0.000000   \n",
       "25%       1.000000   334.500000     0.000000     0.000000       0.000000   \n",
       "50%       2.000000   480.000000     0.000000    25.000000       0.000000   \n",
       "75%       2.000000   576.000000   168.000000    68.000000       0.000000   \n",
       "max       4.000000  1418.000000   857.000000   547.000000     552.000000   \n",
       "\n",
       "       threessnporch  screenporch     poolarea       miscval      saleprice  \n",
       "count    1460.000000  1460.000000  1460.000000   1460.000000    1460.000000  \n",
       "mean        3.409589    15.060959     2.758904     43.489041  180921.195890  \n",
       "std        29.317331    55.757415    40.177307    496.123024   79442.502883  \n",
       "min         0.000000     0.000000     0.000000      0.000000   34900.000000  \n",
       "25%         0.000000     0.000000     0.000000      0.000000  129975.000000  \n",
       "50%         0.000000     0.000000     0.000000      0.000000  163000.000000  \n",
       "75%         0.000000     0.000000     0.000000      0.000000  214000.000000  \n",
       "max       508.000000   480.000000   738.000000  15500.000000  755000.000000  \n",
       "\n",
       "[8 rows x 32 columns]"
      ]
     },
     "execution_count": 16,
     "metadata": {},
     "output_type": "execute_result"
    }
   ],
   "source": [
    "# Dataset after drop values \n",
    "df.describe()"
   ]
  },
  {
   "cell_type": "markdown",
   "metadata": {},
   "source": [
    "There doesn't appear to be a drastic change in the means after dropping the null values so we will assume that the data was completely missing at random. \n",
    "  "
   ]
  },
  {
   "cell_type": "markdown",
   "metadata": {},
   "source": [
    "## Exploring Data \n",
    "\n",
    "Now that we have \"cleaned\" the data, we can begin exploratory data analysis. EDA is an iterative process to explore the data and summarize characteristics by calculating statistics or visualize methods.  The purpose of EDA is gain an understanding of the data by identifying trends, anomalies, or relationships that might be helpful when making decisions in the modeling process. We can starts out with a high-level overview. If we find an interesting trend, then we can narrow in our focus.\n",
    "\n"
   ]
  },
  {
   "cell_type": "markdown",
   "metadata": {},
   "source": [
    "### Univariate Analysis \n",
    "\n",
    "We will begin EDA by exploring individual variables, particularly sale price since it is our target variable. "
   ]
  },
  {
   "cell_type": "code",
   "execution_count": 17,
   "metadata": {},
   "outputs": [
    {
     "data": {
      "text/plain": [
       "Text(0.5, 1.0, 'Sale Price')"
      ]
     },
     "execution_count": 17,
     "metadata": {},
     "output_type": "execute_result"
    },
    {
     "data": {
      "image/png": "[encoded data removed]",
      "text/plain": [
       "<Figure size 432x288 with 1 Axes>"
      ]
     },
     "metadata": {
      "needs_background": "light"
     },
     "output_type": "display_data"
    }
   ],
   "source": [
    "# Plot sale price \n",
    "\n",
    "sns.distplot(df.saleprice)\n",
    "plt.title('Sale Price')"
   ]
  },
  {
   "cell_type": "markdown",
   "metadata": {},
   "source": [
    "We can observe that the distribution of sale price is heavely skewed to the right. Let's look at some statistics for this feature. "
   ]
  },
  {
   "cell_type": "code",
   "execution_count": 18,
   "metadata": {},
   "outputs": [
    {
     "data": {
      "text/plain": [
       "count      1460.000000\n",
       "mean     180921.195890\n",
       "std       79442.502883\n",
       "min       34900.000000\n",
       "25%      129975.000000\n",
       "50%      163000.000000\n",
       "75%      214000.000000\n",
       "max      755000.000000\n",
       "Name: saleprice, dtype: float64"
      ]
     },
     "execution_count": 18,
     "metadata": {},
     "output_type": "execute_result"
    }
   ],
   "source": [
    "df['saleprice'].describe()\n"
   ]
  },
  {
   "cell_type": "code",
   "execution_count": 19,
   "metadata": {},
   "outputs": [
    {
     "name": "stdout",
     "output_type": "stream",
     "text": [
      "Skewness: 1.882876\n",
      "Kurtosis: 6.536282\n"
     ]
    }
   ],
   "source": [
    "print(\"Skewness: %f\" % df['saleprice'].skew())\n",
    "print(\"Kurtosis: %f\" % df['saleprice'].kurt())"
   ]
  },
  {
   "attachments": {},
   "cell_type": "markdown",
   "metadata": {},
   "source": [
    "The statistics offers insight on the central tendencies of the distribution. The average house in Ames, Iowa sold for \\\\$180,921 while the median of the distribution is around \\\\$163,300. That there is also a large price gap between 75% of house prices being listed under \\\\$214,000 and the maximum value of \\\\$755,000. A __skewness__ of 1.88 confirms that sale price not normally distributed and is right skewed. A __kurtosis__ of 6.54 indicates a heavy tail distribution that is not symmetrical. We will transform the data to treat skewness later. \n",
    "\n",
    "Below are the returned rows for house prices that were more than \\\\$700,000. These data points will probably be extreme outliers in our dataset. For now, we will keep them aside, but may consider dropping them to increase our accuracy percentage when trying to improve our model's performance.\n",
    "\n"
   ]
  },
  {
   "cell_type": "code",
   "execution_count": 20,
   "metadata": {},
   "outputs": [
    {
     "data": {
      "text/html": [
       "<div>\n",
       "<style scoped>\n",
       "    .dataframe tbody tr th:only-of-type {\n",
       "        vertical-align: middle;\n",
       "    }\n",
       "\n",
       "    .dataframe tbody tr th {\n",
       "        vertical-align: top;\n",
       "    }\n",
       "\n",
       "    .dataframe thead th {\n",
       "        text-align: right;\n",
       "    }\n",
       "</style>\n",
       "<table border=\"1\" class=\"dataframe\">\n",
       "  <thead>\n",
       "    <tr style=\"text-align: right;\">\n",
       "      <th></th>\n",
       "      <th>id</th>\n",
       "      <th>mssubclass</th>\n",
       "      <th>mszoning</th>\n",
       "      <th>lotfrontage</th>\n",
       "      <th>lotarea</th>\n",
       "      <th>street</th>\n",
       "      <th>alley</th>\n",
       "      <th>lotshape</th>\n",
       "      <th>landcontour</th>\n",
       "      <th>utilities</th>\n",
       "      <th>...</th>\n",
       "      <th>poolarea</th>\n",
       "      <th>poolqc</th>\n",
       "      <th>fence</th>\n",
       "      <th>miscfeature</th>\n",
       "      <th>miscval</th>\n",
       "      <th>mosold</th>\n",
       "      <th>yrsold</th>\n",
       "      <th>saletype</th>\n",
       "      <th>salecondition</th>\n",
       "      <th>saleprice</th>\n",
       "    </tr>\n",
       "  </thead>\n",
       "  <tbody>\n",
       "    <tr>\n",
       "      <th>691</th>\n",
       "      <td>692</td>\n",
       "      <td>60</td>\n",
       "      <td>RL</td>\n",
       "      <td>104.0</td>\n",
       "      <td>21535</td>\n",
       "      <td>Pave</td>\n",
       "      <td>None</td>\n",
       "      <td>IR1</td>\n",
       "      <td>Lvl</td>\n",
       "      <td>AllPub</td>\n",
       "      <td>...</td>\n",
       "      <td>0</td>\n",
       "      <td>None</td>\n",
       "      <td>None</td>\n",
       "      <td>None</td>\n",
       "      <td>0</td>\n",
       "      <td>1</td>\n",
       "      <td>2007</td>\n",
       "      <td>WD</td>\n",
       "      <td>Normal</td>\n",
       "      <td>755000</td>\n",
       "    </tr>\n",
       "    <tr>\n",
       "      <th>1182</th>\n",
       "      <td>1183</td>\n",
       "      <td>60</td>\n",
       "      <td>RL</td>\n",
       "      <td>160.0</td>\n",
       "      <td>15623</td>\n",
       "      <td>Pave</td>\n",
       "      <td>None</td>\n",
       "      <td>IR1</td>\n",
       "      <td>Lvl</td>\n",
       "      <td>AllPub</td>\n",
       "      <td>...</td>\n",
       "      <td>555</td>\n",
       "      <td>Ex</td>\n",
       "      <td>MnPrv</td>\n",
       "      <td>None</td>\n",
       "      <td>0</td>\n",
       "      <td>7</td>\n",
       "      <td>2007</td>\n",
       "      <td>WD</td>\n",
       "      <td>Abnorml</td>\n",
       "      <td>745000</td>\n",
       "    </tr>\n",
       "  </tbody>\n",
       "</table>\n",
       "<p>2 rows × 81 columns</p>\n",
       "</div>"
      ],
      "text/plain": [
       "        id  mssubclass mszoning  lotfrontage  lotarea street alley lotshape  \\\n",
       "691    692          60       RL        104.0    21535   Pave  None      IR1   \n",
       "1182  1183          60       RL        160.0    15623   Pave  None      IR1   \n",
       "\n",
       "     landcontour utilities  ... poolarea poolqc  fence miscfeature miscval  \\\n",
       "691          Lvl    AllPub  ...        0   None   None        None       0   \n",
       "1182         Lvl    AllPub  ...      555     Ex  MnPrv        None       0   \n",
       "\n",
       "     mosold yrsold  saletype  salecondition saleprice  \n",
       "691       1   2007        WD         Normal    755000  \n",
       "1182      7   2007        WD        Abnorml    745000  \n",
       "\n",
       "[2 rows x 81 columns]"
      ]
     },
     "execution_count": 20,
     "metadata": {},
     "output_type": "execute_result"
    }
   ],
   "source": [
    "df.loc[df['saleprice']>=700000]"
   ]
  },
  {
   "cell_type": "markdown",
   "metadata": {},
   "source": [
    "### Removing Outliers\n",
    "\n",
    "Although outliers contain meaningful information, linear regression machine learning models are sensitive to extreme values so we will exclude some extreme values. We will set the threshold at 3 standard deviations as it will allow us to retain 99% of the dataset. Then, we will replace the them with the threshold value. "
   ]
  },
  {
   "cell_type": "code",
   "execution_count": 21,
   "metadata": {},
   "outputs": [
    {
     "name": "stdout",
     "output_type": "stream",
     "text": [
      "lotfrontage\n",
      "99th Percentile 174.0\n",
      "Max 313.0\n",
      "Outliers Present in Column lotfrontage\n",
      "\n",
      "lotarea\n",
      "99th Percentile 73455.35159998978\n",
      "Max 215245\n",
      "Outliers Present in Column lotarea\n",
      "\n",
      "masvnrarea\n",
      "99th Percentile 1115.8497999999968\n",
      "Max 1600.0\n",
      "Outliers Present in Column masvnrarea\n",
      "\n",
      "bsmtfinsf1\n",
      "99th Percentile 1915.6543999999558\n",
      "Max 5644\n",
      "Outliers Present in Column bsmtfinsf1\n",
      "\n",
      "bsmtfinsf2\n",
      "99th Percentile 1080.3034999999988\n",
      "Max 1474\n",
      "Outliers Present in Column bsmtfinsf2\n",
      "\n",
      "bsmtunfsf\n",
      "99th Percentile 2042.242799999999\n",
      "Max 2336\n",
      "Outliers Present in Column bsmtunfsf\n",
      "\n",
      "totalbsmtsf\n",
      "99th Percentile 3096.67079999999\n",
      "Max 6110\n",
      "Outliers Present in Column totalbsmtsf\n",
      "\n",
      "firstflrsf\n",
      "99th Percentile 2649.0854999999387\n",
      "Max 4692\n",
      "Outliers Present in Column firstflrsf\n",
      "\n",
      "secondflrsf\n",
      "99th Percentile 1622.2294999999574\n",
      "Max 2065\n",
      "Outliers Present in Column secondflrsf\n",
      "\n",
      "lowqualfinsf\n",
      "99th Percentile 513.0606999999998\n",
      "Max 572\n",
      "Outliers Present in Column lowqualfinsf\n",
      "\n",
      "grlivarea\n",
      "99th Percentile 3668.8222999998416\n",
      "Max 5642\n",
      "Outliers Present in Column grlivarea\n",
      "\n",
      "bsmtfullbath\n",
      "99th Percentile 2.0\n",
      "Max 3\n",
      "Outliers Present in Column bsmtfullbath\n",
      "\n",
      "bsmthalfbath\n",
      "99th Percentile 1.0\n",
      "Max 2\n",
      "Outliers Present in Column bsmthalfbath\n",
      "\n",
      "bedroomabvgr\n",
      "99th Percentile 6.0\n",
      "Max 8\n",
      "Outliers Present in Column bedroomabvgr\n",
      "\n",
      "kitchenabvgr\n",
      "99th Percentile 2.0\n",
      "Max 3\n",
      "Outliers Present in Column kitchenabvgr\n",
      "\n",
      "totrmsabvgrd\n",
      "99th Percentile 12.0\n",
      "Max 14\n",
      "Outliers Present in Column totrmsabvgrd\n",
      "\n",
      "garagearea\n",
      "99th Percentile 1221.6995999999936\n",
      "Max 1418\n",
      "Outliers Present in Column garagearea\n",
      "\n",
      "wooddecksf\n",
      "99th Percentile 668.1213999999995\n",
      "Max 857\n",
      "Outliers Present in Column wooddecksf\n",
      "\n",
      "openporchsf\n",
      "99th Percentile 406.72839999999724\n",
      "Max 547\n",
      "Outliers Present in Column openporchsf\n",
      "\n",
      "enclosedporch\n",
      "99th Percentile 302.0318999999961\n",
      "Max 552\n",
      "Outliers Present in Column enclosedporch\n",
      "\n",
      "threessnporch\n",
      "99th Percentile 290.8497999999968\n",
      "Max 508\n",
      "Outliers Present in Column threessnporch\n",
      "\n",
      "screenporch\n",
      "99th Percentile 385.66769999999747\n",
      "Max 480\n",
      "Outliers Present in Column screenporch\n",
      "\n",
      "poolarea\n",
      "99th Percentile 521.1851999999917\n",
      "Max 738\n",
      "Outliers Present in Column poolarea\n",
      "\n",
      "miscval\n",
      "99th Percentile 2030.3499999998849\n",
      "Max 15500\n",
      "Outliers Present in Column miscval\n",
      "\n",
      "saleprice\n",
      "99th Percentile 584676.5467999934\n",
      "Max 755000\n",
      "Outliers Present in Column saleprice\n",
      "\n"
     ]
    }
   ],
   "source": [
    "#Features with Outliers \n",
    "\n",
    "for column in num_var:\n",
    "    if df[column].quantile(.9973)<df[column].max():\n",
    "        print(column)\n",
    "        print('99th Percentile',df[column].quantile(.9973))\n",
    "        print('Max',df[column].max())\n",
    "        print('Outliers Present in Column {}'.format(column))\n",
    "        print('')\n",
    "    elif df[column].quantile(0)>df[column].min():\n",
    "        print(column)\n",
    "        print('99th Percentile',df[column].quantile(.9973))\n",
    "        print('Min',df[column].min())\n",
    "        print('Outliers Present in Column {}'.format(column))\n",
    "        print('')\n",
    "    else:\n",
    "        pass"
   ]
  },
  {
   "cell_type": "code",
   "execution_count": 22,
   "metadata": {},
   "outputs": [],
   "source": [
    "def outlier_table(df):\n",
    "    for column in df.select_dtypes(['int64', 'float64']).columns:\n",
    "        if df[column].quantile(.9973)<df[column].max():\n",
    "            threshold = df[column].quantile(.9973)\n",
    "            df[column] = np.where(df[column] > threshold, int(round(threshold)),df[column])\n",
    "            if df[column].quantile(0)>df[column].min():\n",
    "                threshold = df[column].min()\n",
    "                df[column] = np.where(df[column] < threshold, int(round(threshold)),df[column])\n",
    "        \n",
    "        elif df[column].quantile(0)>df[column].min():\n",
    "            threshold = df[column].min()\n",
    "            df[column] = np.where(df[column] < threshold, int(round(threshold)),df[column])\n",
    "        else:\n",
    "            pass\n",
    "    return df\n",
    "            "
   ]
  },
  {
   "cell_type": "code",
   "execution_count": 23,
   "metadata": {},
   "outputs": [
    {
     "data": {
      "text/html": [
       "<div>\n",
       "<style scoped>\n",
       "    .dataframe tbody tr th:only-of-type {\n",
       "        vertical-align: middle;\n",
       "    }\n",
       "\n",
       "    .dataframe tbody tr th {\n",
       "        vertical-align: top;\n",
       "    }\n",
       "\n",
       "    .dataframe thead th {\n",
       "        text-align: right;\n",
       "    }\n",
       "</style>\n",
       "<table border=\"1\" class=\"dataframe\">\n",
       "  <thead>\n",
       "    <tr style=\"text-align: right;\">\n",
       "      <th></th>\n",
       "      <th>id</th>\n",
       "      <th>mssubclass</th>\n",
       "      <th>mszoning</th>\n",
       "      <th>lotfrontage</th>\n",
       "      <th>lotarea</th>\n",
       "      <th>street</th>\n",
       "      <th>alley</th>\n",
       "      <th>lotshape</th>\n",
       "      <th>landcontour</th>\n",
       "      <th>utilities</th>\n",
       "      <th>...</th>\n",
       "      <th>poolarea</th>\n",
       "      <th>poolqc</th>\n",
       "      <th>fence</th>\n",
       "      <th>miscfeature</th>\n",
       "      <th>miscval</th>\n",
       "      <th>mosold</th>\n",
       "      <th>yrsold</th>\n",
       "      <th>saletype</th>\n",
       "      <th>salecondition</th>\n",
       "      <th>saleprice</th>\n",
       "    </tr>\n",
       "  </thead>\n",
       "  <tbody>\n",
       "    <tr>\n",
       "      <th>691</th>\n",
       "      <td>692</td>\n",
       "      <td>60</td>\n",
       "      <td>RL</td>\n",
       "      <td>104.0</td>\n",
       "      <td>21535</td>\n",
       "      <td>Pave</td>\n",
       "      <td>None</td>\n",
       "      <td>IR1</td>\n",
       "      <td>Lvl</td>\n",
       "      <td>AllPub</td>\n",
       "      <td>...</td>\n",
       "      <td>0</td>\n",
       "      <td>None</td>\n",
       "      <td>None</td>\n",
       "      <td>None</td>\n",
       "      <td>0</td>\n",
       "      <td>1</td>\n",
       "      <td>2007</td>\n",
       "      <td>WD</td>\n",
       "      <td>Normal</td>\n",
       "      <td>584677</td>\n",
       "    </tr>\n",
       "    <tr>\n",
       "      <th>898</th>\n",
       "      <td>899</td>\n",
       "      <td>20</td>\n",
       "      <td>RL</td>\n",
       "      <td>100.0</td>\n",
       "      <td>12919</td>\n",
       "      <td>Pave</td>\n",
       "      <td>None</td>\n",
       "      <td>IR1</td>\n",
       "      <td>Lvl</td>\n",
       "      <td>AllPub</td>\n",
       "      <td>...</td>\n",
       "      <td>0</td>\n",
       "      <td>None</td>\n",
       "      <td>None</td>\n",
       "      <td>None</td>\n",
       "      <td>0</td>\n",
       "      <td>3</td>\n",
       "      <td>2010</td>\n",
       "      <td>New</td>\n",
       "      <td>Partial</td>\n",
       "      <td>584677</td>\n",
       "    </tr>\n",
       "    <tr>\n",
       "      <th>1169</th>\n",
       "      <td>1170</td>\n",
       "      <td>60</td>\n",
       "      <td>RL</td>\n",
       "      <td>118.0</td>\n",
       "      <td>35760</td>\n",
       "      <td>Pave</td>\n",
       "      <td>None</td>\n",
       "      <td>IR1</td>\n",
       "      <td>Lvl</td>\n",
       "      <td>AllPub</td>\n",
       "      <td>...</td>\n",
       "      <td>0</td>\n",
       "      <td>None</td>\n",
       "      <td>None</td>\n",
       "      <td>None</td>\n",
       "      <td>0</td>\n",
       "      <td>7</td>\n",
       "      <td>2006</td>\n",
       "      <td>WD</td>\n",
       "      <td>Normal</td>\n",
       "      <td>584677</td>\n",
       "    </tr>\n",
       "    <tr>\n",
       "      <th>1182</th>\n",
       "      <td>1183</td>\n",
       "      <td>60</td>\n",
       "      <td>RL</td>\n",
       "      <td>160.0</td>\n",
       "      <td>15623</td>\n",
       "      <td>Pave</td>\n",
       "      <td>None</td>\n",
       "      <td>IR1</td>\n",
       "      <td>Lvl</td>\n",
       "      <td>AllPub</td>\n",
       "      <td>...</td>\n",
       "      <td>521</td>\n",
       "      <td>Ex</td>\n",
       "      <td>MnPrv</td>\n",
       "      <td>None</td>\n",
       "      <td>0</td>\n",
       "      <td>7</td>\n",
       "      <td>2007</td>\n",
       "      <td>WD</td>\n",
       "      <td>Abnorml</td>\n",
       "      <td>584677</td>\n",
       "    </tr>\n",
       "  </tbody>\n",
       "</table>\n",
       "<p>4 rows × 81 columns</p>\n",
       "</div>"
      ],
      "text/plain": [
       "        id  mssubclass mszoning  lotfrontage  lotarea street alley lotshape  \\\n",
       "691    692          60       RL        104.0    21535   Pave  None      IR1   \n",
       "898    899          20       RL        100.0    12919   Pave  None      IR1   \n",
       "1169  1170          60       RL        118.0    35760   Pave  None      IR1   \n",
       "1182  1183          60       RL        160.0    15623   Pave  None      IR1   \n",
       "\n",
       "     landcontour utilities  ... poolarea poolqc  fence miscfeature miscval  \\\n",
       "691          Lvl    AllPub  ...        0   None   None        None       0   \n",
       "898          Lvl    AllPub  ...        0   None   None        None       0   \n",
       "1169         Lvl    AllPub  ...        0   None   None        None       0   \n",
       "1182         Lvl    AllPub  ...      521     Ex  MnPrv        None       0   \n",
       "\n",
       "     mosold yrsold  saletype  salecondition saleprice  \n",
       "691       1   2007        WD         Normal    584677  \n",
       "898       3   2010       New        Partial    584677  \n",
       "1169      7   2006        WD         Normal    584677  \n",
       "1182      7   2007        WD        Abnorml    584677  \n",
       "\n",
       "[4 rows x 81 columns]"
      ]
     },
     "execution_count": 23,
     "metadata": {},
     "output_type": "execute_result"
    }
   ],
   "source": [
    "df2 = df.copy()\n",
    "\n",
    "df2 = outlier_table(df2)\n",
    "\n",
    "df2.loc[df2['saleprice']>=584676]"
   ]
  },
  {
   "cell_type": "code",
   "execution_count": 24,
   "metadata": {},
   "outputs": [
    {
     "data": {
      "text/html": [
       "<div>\n",
       "<style scoped>\n",
       "    .dataframe tbody tr th:only-of-type {\n",
       "        vertical-align: middle;\n",
       "    }\n",
       "\n",
       "    .dataframe tbody tr th {\n",
       "        vertical-align: top;\n",
       "    }\n",
       "\n",
       "    .dataframe thead th {\n",
       "        text-align: right;\n",
       "    }\n",
       "</style>\n",
       "<table border=\"1\" class=\"dataframe\">\n",
       "  <thead>\n",
       "    <tr style=\"text-align: right;\">\n",
       "      <th></th>\n",
       "      <th>id</th>\n",
       "      <th>mssubclass</th>\n",
       "      <th>mszoning</th>\n",
       "      <th>lotfrontage</th>\n",
       "      <th>lotarea</th>\n",
       "      <th>street</th>\n",
       "      <th>alley</th>\n",
       "      <th>lotshape</th>\n",
       "      <th>landcontour</th>\n",
       "      <th>utilities</th>\n",
       "      <th>...</th>\n",
       "      <th>poolarea</th>\n",
       "      <th>poolqc</th>\n",
       "      <th>fence</th>\n",
       "      <th>miscfeature</th>\n",
       "      <th>miscval</th>\n",
       "      <th>mosold</th>\n",
       "      <th>yrsold</th>\n",
       "      <th>saletype</th>\n",
       "      <th>salecondition</th>\n",
       "      <th>saleprice</th>\n",
       "    </tr>\n",
       "  </thead>\n",
       "  <tbody>\n",
       "    <tr>\n",
       "      <th>691</th>\n",
       "      <td>692</td>\n",
       "      <td>60</td>\n",
       "      <td>RL</td>\n",
       "      <td>104.0</td>\n",
       "      <td>21535</td>\n",
       "      <td>Pave</td>\n",
       "      <td>None</td>\n",
       "      <td>IR1</td>\n",
       "      <td>Lvl</td>\n",
       "      <td>AllPub</td>\n",
       "      <td>...</td>\n",
       "      <td>0</td>\n",
       "      <td>None</td>\n",
       "      <td>None</td>\n",
       "      <td>None</td>\n",
       "      <td>0</td>\n",
       "      <td>1</td>\n",
       "      <td>2007</td>\n",
       "      <td>WD</td>\n",
       "      <td>Normal</td>\n",
       "      <td>755000</td>\n",
       "    </tr>\n",
       "    <tr>\n",
       "      <th>898</th>\n",
       "      <td>899</td>\n",
       "      <td>20</td>\n",
       "      <td>RL</td>\n",
       "      <td>100.0</td>\n",
       "      <td>12919</td>\n",
       "      <td>Pave</td>\n",
       "      <td>None</td>\n",
       "      <td>IR1</td>\n",
       "      <td>Lvl</td>\n",
       "      <td>AllPub</td>\n",
       "      <td>...</td>\n",
       "      <td>0</td>\n",
       "      <td>None</td>\n",
       "      <td>None</td>\n",
       "      <td>None</td>\n",
       "      <td>0</td>\n",
       "      <td>3</td>\n",
       "      <td>2010</td>\n",
       "      <td>New</td>\n",
       "      <td>Partial</td>\n",
       "      <td>611657</td>\n",
       "    </tr>\n",
       "    <tr>\n",
       "      <th>1169</th>\n",
       "      <td>1170</td>\n",
       "      <td>60</td>\n",
       "      <td>RL</td>\n",
       "      <td>118.0</td>\n",
       "      <td>35760</td>\n",
       "      <td>Pave</td>\n",
       "      <td>None</td>\n",
       "      <td>IR1</td>\n",
       "      <td>Lvl</td>\n",
       "      <td>AllPub</td>\n",
       "      <td>...</td>\n",
       "      <td>0</td>\n",
       "      <td>None</td>\n",
       "      <td>None</td>\n",
       "      <td>None</td>\n",
       "      <td>0</td>\n",
       "      <td>7</td>\n",
       "      <td>2006</td>\n",
       "      <td>WD</td>\n",
       "      <td>Normal</td>\n",
       "      <td>625000</td>\n",
       "    </tr>\n",
       "    <tr>\n",
       "      <th>1182</th>\n",
       "      <td>1183</td>\n",
       "      <td>60</td>\n",
       "      <td>RL</td>\n",
       "      <td>160.0</td>\n",
       "      <td>15623</td>\n",
       "      <td>Pave</td>\n",
       "      <td>None</td>\n",
       "      <td>IR1</td>\n",
       "      <td>Lvl</td>\n",
       "      <td>AllPub</td>\n",
       "      <td>...</td>\n",
       "      <td>555</td>\n",
       "      <td>Ex</td>\n",
       "      <td>MnPrv</td>\n",
       "      <td>None</td>\n",
       "      <td>0</td>\n",
       "      <td>7</td>\n",
       "      <td>2007</td>\n",
       "      <td>WD</td>\n",
       "      <td>Abnorml</td>\n",
       "      <td>745000</td>\n",
       "    </tr>\n",
       "  </tbody>\n",
       "</table>\n",
       "<p>4 rows × 81 columns</p>\n",
       "</div>"
      ],
      "text/plain": [
       "        id  mssubclass mszoning  lotfrontage  lotarea street alley lotshape  \\\n",
       "691    692          60       RL        104.0    21535   Pave  None      IR1   \n",
       "898    899          20       RL        100.0    12919   Pave  None      IR1   \n",
       "1169  1170          60       RL        118.0    35760   Pave  None      IR1   \n",
       "1182  1183          60       RL        160.0    15623   Pave  None      IR1   \n",
       "\n",
       "     landcontour utilities  ... poolarea poolqc  fence miscfeature miscval  \\\n",
       "691          Lvl    AllPub  ...        0   None   None        None       0   \n",
       "898          Lvl    AllPub  ...        0   None   None        None       0   \n",
       "1169         Lvl    AllPub  ...        0   None   None        None       0   \n",
       "1182         Lvl    AllPub  ...      555     Ex  MnPrv        None       0   \n",
       "\n",
       "     mosold yrsold  saletype  salecondition saleprice  \n",
       "691       1   2007        WD         Normal    755000  \n",
       "898       3   2010       New        Partial    611657  \n",
       "1169      7   2006        WD         Normal    625000  \n",
       "1182      7   2007        WD        Abnorml    745000  \n",
       "\n",
       "[4 rows x 81 columns]"
      ]
     },
     "execution_count": 24,
     "metadata": {},
     "output_type": "execute_result"
    }
   ],
   "source": [
    "df.loc[df['saleprice']>=584676]"
   ]
  },
  {
   "cell_type": "markdown",
   "metadata": {},
   "source": [
    "### Multivariable Analysis\n",
    "\n",
    "Next, we'll explore the remaining variables. As previously mentioned in the primary stage of loading the data, this dataset contains two types of features, numeric and categorical. \n",
    "\n",
    "__Numerical variables__ are data in numeric form such as integers and floats. Numeric values can be classified into discrete and continuous variables. Discrete numerical variables are whole number values such as the number of rooms in a house. Meanwhile continuous numerical variables may contain any value within some range like sale prices of houses. \n",
    "\n",
    "__Categorical variables__ are essentially small groups of categories. Categorical variables can be further categorized into ordinal and nominal variables. Ordinal categorical variables have meaningful order such as a scale of overall quality finish of a house. In contrast, nominal categorical variables purely assign data to groups without intrinsic ordering. We have variables of this type in our dataset such as sale condition, land contour, and zoning classification. \n",
    " "
   ]
  },
  {
   "cell_type": "code",
   "execution_count": 25,
   "metadata": {},
   "outputs": [
    {
     "data": {
      "text/plain": [
       "Index(['mssubclass', 'lotfrontage', 'lotarea', 'overallqual', 'overallcond',\n",
       "       'masvnrarea', 'bsmtfinsf1', 'bsmtfinsf2', 'bsmtunfsf', 'totalbsmtsf',\n",
       "       'firstflrsf', 'secondflrsf', 'lowqualfinsf', 'grlivarea',\n",
       "       'bsmtfullbath', 'bsmthalfbath', 'fullbath', 'halfbath', 'bedroomabvgr',\n",
       "       'kitchenabvgr', 'totrmsabvgrd', 'fireplaces', 'garagecars',\n",
       "       'garagearea', 'wooddecksf', 'openporchsf', 'enclosedporch',\n",
       "       'threessnporch', 'screenporch', 'poolarea', 'miscval', 'saleprice'],\n",
       "      dtype='object')"
      ]
     },
     "execution_count": 25,
     "metadata": {},
     "output_type": "execute_result"
    }
   ],
   "source": [
    "# Numeric variables \n",
    "\n",
    "df2.select_dtypes(['int64', 'float64']).columns"
   ]
  },
  {
   "cell_type": "code",
   "execution_count": 26,
   "metadata": {},
   "outputs": [
    {
     "data": {
      "text/plain": [
       "Index(['id', 'mszoning', 'street', 'alley', 'lotshape', 'landcontour',\n",
       "       'utilities', 'lotconfig', 'landslope', 'neighborhood', 'condition1',\n",
       "       'condition2', 'bldgtype', 'housestyle', 'yearbuilt', 'yearremodadd',\n",
       "       'roofstyle', 'roofmatl', 'exterior1st', 'exterior2nd', 'masvnrtype',\n",
       "       'exterqual', 'extercond', 'foundation', 'bsmtqual', 'bsmtcond',\n",
       "       'bsmtexposure', 'bsmtfintype1', 'bsmtfintype2', 'heating', 'heatingqc',\n",
       "       'centralair', 'electrical', 'kitchenqual', 'functional', 'fireplacequ',\n",
       "       'garagetype', 'garageyrblt', 'garagefinish', 'garagequal', 'garagecond',\n",
       "       'paveddrive', 'poolqc', 'fence', 'miscfeature', 'mosold', 'yrsold',\n",
       "       'saletype', 'salecondition'],\n",
       "      dtype='object')"
      ]
     },
     "execution_count": 26,
     "metadata": {},
     "output_type": "execute_result"
    }
   ],
   "source": [
    "# Categorical variables \n",
    "\n",
    "df2.select_dtypes(['object']).columns"
   ]
  },
  {
   "cell_type": "markdown",
   "metadata": {},
   "source": [
    "### Looking for Relationships\n",
    "\n",
    "To determine which explanatory variables we might select for our prediction model, we will explore the correlation between sale price and other variables. __Correlation__ refers to a mutal association between variables. Variables that have a strong correlation, whether it being positive or negative, will affect the target variable. \n",
    "\n"
   ]
  },
  {
   "cell_type": "code",
   "execution_count": 27,
   "metadata": {},
   "outputs": [
    {
     "name": "stdout",
     "output_type": "stream",
     "text": [
      "saleprice        1.000000\n",
      "overallqual      0.798042\n",
      "grlivarea        0.719411\n",
      "garagecars       0.648208\n",
      "totalbsmtsf      0.642862\n",
      "garagearea       0.634945\n",
      "firstflrsf       0.626480\n",
      "fullbath         0.563855\n",
      "totrmsabvgrd     0.538992\n",
      "masvnrarea       0.473422\n",
      "fireplaces       0.469840\n",
      "bsmtfinsf1       0.401030\n",
      "lotfrontage      0.349022\n",
      "lotarea          0.345043\n",
      "openporchsf      0.328488\n",
      "wooddecksf       0.326904\n",
      "secondflrsf      0.308483\n",
      "halfbath         0.285831\n",
      "bsmtfullbath     0.232206\n",
      "bsmtunfsf        0.217257\n",
      "bedroomabvgr     0.168515\n",
      "screenporch      0.113644\n",
      "poolarea         0.076614\n",
      "threessnporch    0.051494\n",
      "bsmtfinsf2      -0.013556\n",
      "bsmthalfbath    -0.021956\n",
      "lowqualfinsf    -0.029073\n",
      "miscval         -0.034567\n",
      "overallcond     -0.079043\n",
      "mssubclass      -0.086104\n",
      "enclosedporch   -0.136624\n",
      "kitchenabvgr    -0.138153\n",
      "Name: saleprice, dtype: float64 \n",
      "\n"
     ]
    }
   ],
   "source": [
    "# Correlation between sale price and numeric variables \n",
    "\n",
    "corrmat = df2.corr()\n",
    "print(corrmat['saleprice'].sort_values(ascending = False),'\\n')"
   ]
  },
  {
   "cell_type": "code",
   "execution_count": 50,
   "metadata": {},
   "outputs": [],
   "source": [
    "most_corr = df2.loc[:,['overallqual','grlivarea','garagecars','garagearea','totalbsmtsf',\n",
    "                    'firstflrsf','fullbath','totrmsabvgrd','saleprice']]\n"
   ]
  },
  {
   "cell_type": "markdown",
   "metadata": {},
   "source": [
    "The most correlated variables to sale price:\n",
    " - overallqual: overall material and finish quality\n",
    " - grlivarea: above grade (ground) living area square feet\n",
    " - garagecars: size of garage in car capacity\n",
    " - garagearea: size of garage in square feet\n",
    " - totalbsmtsf: total square feet of basement area\n",
    " - firstflrsf: first floor square feet\n",
    " - fullbath: full bathrooms above grade \n",
    " - totrmsabvgrd: total rooms above grade (does not include bathrooms)\n",
    "\n",
    "These results make sense since buyers would be interested in knowing the general living space, quality of the house, and garage capacity.  \n",
    "\n",
    "Let's see how each variable relates to sale price."
   ]
  },
  {
   "cell_type": "code",
   "execution_count": 29,
   "metadata": {},
   "outputs": [
    {
     "data": {
      "text/plain": [
       "Text(0.5, 1.0, 'Sale Price vs. Overall Quality without outliers')"
      ]
     },
     "execution_count": 29,
     "metadata": {},
     "output_type": "execute_result"
    },
    {
     "data": {
      "image/png": "[encoded data removed]",
      "text/plain": [
       "<Figure size 1296x432 with 2 Axes>"
      ]
     },
     "metadata": {
      "needs_background": "light"
     },
     "output_type": "display_data"
    }
   ],
   "source": [
    "plt.figure(figsize=(18,6))\n",
    "\n",
    "plt.subplot(1,2,1)\n",
    "sns.boxplot(x='overallqual', y=\"saleprice\", data=df)\n",
    "plt.title('Sale Price vs. Overall Quality')\n",
    "\n",
    "plt.subplot(1,2,2)\n",
    "sns.boxplot(x='overallqual', y=\"saleprice\", data=df2)\n",
    "plt.title('Sale Price vs. Overall Quality without outliers')"
   ]
  },
  {
   "cell_type": "markdown",
   "metadata": {},
   "source": [
    "As one would expect, there is a linear relationship relationship between overall quality and sale price. Generally, as the quality of an item increases, the price will follow in the same direction. "
   ]
  },
  {
   "cell_type": "code",
   "execution_count": 30,
   "metadata": {},
   "outputs": [
    {
     "data": {
      "text/plain": [
       "Text(0.5, 1.0, 'Sale Price vs. Above Grade Living Area (SF) without outliers')"
      ]
     },
     "execution_count": 30,
     "metadata": {},
     "output_type": "execute_result"
    },
    {
     "data": {
      "image/png": "[encoded data removed]",
      "text/plain": [
       "<Figure size 1296x432 with 2 Axes>"
      ]
     },
     "metadata": {
      "needs_background": "light"
     },
     "output_type": "display_data"
    }
   ],
   "source": [
    "plt.figure(figsize=(18,6))\n",
    "\n",
    "plt.subplot(1,2,1)\n",
    "sns.regplot(x=\"grlivarea\", y=\"saleprice\", data=df)\n",
    "plt.title('Sale Price vs. Above Grade Living Area (SF)')\n",
    "\n",
    "plt.subplot(1,2,2)\n",
    "sns.regplot(x=\"grlivarea\", y=\"saleprice\", data=df2)\n",
    "plt.title('Sale Price vs. Above Grade Living Area (SF) without outliers')"
   ]
  },
  {
   "cell_type": "markdown",
   "metadata": {},
   "source": [
    "This plot implies that is a positive correlation between the increase of above grade living area and sale price. This is plausible since larger houses will cost more. However, there are two data points in the lower right corner that appears to be outliers. Houses with living areas more than 4,000 square feet should cost more than houses with smaller living areas. We will manually remove them."
   ]
  },
  {
   "cell_type": "code",
   "execution_count": 31,
   "metadata": {},
   "outputs": [
    {
     "data": {
      "text/plain": [
       "Text(0.5, 1.0, 'Sale Price vs. Garage Cars without outliers')"
      ]
     },
     "execution_count": 31,
     "metadata": {},
     "output_type": "execute_result"
    },
    {
     "data": {
      "image/png": "[encoded data removed]",
      "text/plain": [
       "<Figure size 1296x432 with 2 Axes>"
      ]
     },
     "metadata": {
      "needs_background": "light"
     },
     "output_type": "display_data"
    }
   ],
   "source": [
    "plt.figure(figsize=(18,6))\n",
    "\n",
    "plt.subplot(1,2,1)\n",
    "sns.boxplot(x='garagecars', y=\"saleprice\", data=df)\n",
    "plt.title('Sale Price vs. Garage Cars')\n",
    "\n",
    "plt.subplot(1,2,2)\n",
    "sns.boxplot(x='garagecars', y=\"saleprice\", data=df2)\n",
    "plt.title('Sale Price vs. Garage Cars without outliers')"
   ]
  },
  {
   "cell_type": "markdown",
   "metadata": {},
   "source": [
    "There appears to be a price increase from zero to three garage cars and then the price suddenly drops at four garage cars. This seems suspicious so we'll drop these outliers. "
   ]
  },
  {
   "cell_type": "code",
   "execution_count": 32,
   "metadata": {},
   "outputs": [
    {
     "data": {
      "text/plain": [
       "Text(0.5, 1.0, 'Sale Price vs. Garage Area without outliers')"
      ]
     },
     "execution_count": 32,
     "metadata": {},
     "output_type": "execute_result"
    },
    {
     "data": {
      "image/png": "[encoded data removed]",
      "text/plain": [
       "<Figure size 1296x432 with 2 Axes>"
      ]
     },
     "metadata": {
      "needs_background": "light"
     },
     "output_type": "display_data"
    }
   ],
   "source": [
    "plt.figure(figsize=(18,6))\n",
    "\n",
    "plt.subplot(1,2,1)\n",
    "sns.regplot(x=\"totalbsmtsf\", y=\"saleprice\", data=df)\n",
    "plt.title('Sale Price vs. Garage Area')\n",
    "\n",
    "plt.subplot(1,2,2)\n",
    "sns.regplot(x=\"totalbsmtsf\", y=\"saleprice\", data=df2)\n",
    "plt.title('Sale Price vs. Garage Area without outliers')"
   ]
  },
  {
   "cell_type": "markdown",
   "metadata": {},
   "source": [
    "Similar to above grade living area, we also see two data points at the lower right corner of this plot. As garage area increase, the price should also increase. We will also drop these outliers."
   ]
  },
  {
   "cell_type": "code",
   "execution_count": 33,
   "metadata": {},
   "outputs": [
    {
     "data": {
      "text/plain": [
       "Text(0.5, 1.0, 'Sale Price vs. Total square feet of Basement area without outliers')"
      ]
     },
     "execution_count": 33,
     "metadata": {},
     "output_type": "execute_result"
    },
    {
     "data": {
      "image/png": "[encoded data removed]",
      "text/plain": [
       "<Figure size 1296x432 with 2 Axes>"
      ]
     },
     "metadata": {
      "needs_background": "light"
     },
     "output_type": "display_data"
    }
   ],
   "source": [
    "plt.figure(figsize=(18,6))\n",
    "\n",
    "plt.subplot(1,2,1)\n",
    "sns.regplot(x=\"garagearea\", y=\"saleprice\", data=df)\n",
    "plt.title('Sale Price vs. Total square feet of Basement area')\n",
    "\n",
    "plt.subplot(1,2,2)\n",
    "sns.regplot(x=\"garagearea\", y=\"saleprice\", data=df2)\n",
    "plt.title('Sale Price vs. Total square feet of Basement area without outliers')"
   ]
  },
  {
   "cell_type": "code",
   "execution_count": null,
   "metadata": {},
   "outputs": [],
   "source": []
  },
  {
   "cell_type": "code",
   "execution_count": 34,
   "metadata": {},
   "outputs": [
    {
     "data": {
      "text/plain": [
       "Text(0.5, 1.0, 'Sale Price vs. First Floor Area (SF) without outliers')"
      ]
     },
     "execution_count": 34,
     "metadata": {},
     "output_type": "execute_result"
    },
    {
     "data": {
      "image/png": "[encoded data removed]",
      "text/plain": [
       "<Figure size 1296x432 with 2 Axes>"
      ]
     },
     "metadata": {
      "needs_background": "light"
     },
     "output_type": "display_data"
    }
   ],
   "source": [
    "plt.figure(figsize=(18,6))\n",
    "\n",
    "plt.subplot(1,2,1)\n",
    "sns.regplot(x=\"firstflrsf\", y=\"saleprice\", data=df)\n",
    "plt.title('Sale Price vs. First Floor Area (SF)')\n",
    "\n",
    "plt.subplot(1,2,2)\n",
    "sns.regplot(x=\"firstflrsf\", y=\"saleprice\", data=df2)\n",
    "plt.title('Sale Price vs. First Floor Area (SF) without outliers')"
   ]
  },
  {
   "cell_type": "code",
   "execution_count": null,
   "metadata": {},
   "outputs": [],
   "source": []
  },
  {
   "cell_type": "code",
   "execution_count": 35,
   "metadata": {},
   "outputs": [
    {
     "data": {
      "text/plain": [
       "Text(0.5, 1.0, 'Sale Price vs. Full Bathrooms without outliers')"
      ]
     },
     "execution_count": 35,
     "metadata": {},
     "output_type": "execute_result"
    },
    {
     "data": {
      "image/png": "[encoded data removed]",
      "text/plain": [
       "<Figure size 1296x432 with 2 Axes>"
      ]
     },
     "metadata": {
      "needs_background": "light"
     },
     "output_type": "display_data"
    }
   ],
   "source": [
    "plt.figure(figsize=(18,6))\n",
    "\n",
    "plt.subplot(1,2,1)\n",
    "sns.boxplot(x='fullbath', y=\"saleprice\", data=df)\n",
    "plt.title('Sale Price vs. Full Bathrooms')\n",
    "\n",
    "plt.subplot(1,2,2)\n",
    "sns.boxplot(x='fullbath', y=\"saleprice\", data=df2)\n",
    "plt.title('Sale Price vs. Full Bathrooms without outliers')"
   ]
  },
  {
   "cell_type": "markdown",
   "metadata": {},
   "source": [
    "The average price of a house with zero full bathrooms is higher than a house with one full bathroom. This maybe due to missing data for full baths. "
   ]
  },
  {
   "cell_type": "code",
   "execution_count": 36,
   "metadata": {},
   "outputs": [
    {
     "data": {
      "text/plain": [
       "Text(0.5, 1.0, 'Sale Price vs. Total Rooms above grade without outliers')"
      ]
     },
     "execution_count": 36,
     "metadata": {},
     "output_type": "execute_result"
    },
    {
     "data": {
      "image/png": "[encoded data removed]",
      "text/plain": [
       "<Figure size 1296x432 with 2 Axes>"
      ]
     },
     "metadata": {
      "needs_background": "light"
     },
     "output_type": "display_data"
    }
   ],
   "source": [
    "plt.figure(figsize=(18,6))\n",
    "\n",
    "plt.subplot(1,2,1)\n",
    "sns.boxplot(x='totrmsabvgrd', y=\"saleprice\", data=df)\n",
    "plt.title('Sale Price vs.  Total Rooms above grade')\n",
    "\n",
    "plt.subplot(1,2,2)\n",
    "sns.boxplot(x='totrmsabvgrd', y=\"saleprice\", data=df2)\n",
    "plt.title('Sale Price vs. Total Rooms above grade without outliers')"
   ]
  },
  {
   "cell_type": "code",
   "execution_count": null,
   "metadata": {},
   "outputs": [],
   "source": []
  },
  {
   "cell_type": "code",
   "execution_count": null,
   "metadata": {},
   "outputs": [],
   "source": []
  },
  {
   "cell_type": "code",
   "execution_count": null,
   "metadata": {},
   "outputs": [],
   "source": []
  },
  {
   "cell_type": "markdown",
   "metadata": {},
   "source": [
    "## Feature Engineering and Selection\n",
    "In this step, we will select features for our linear regression model. First, let's start with the numeric values. Previously, we identified 6 numeric variables that are highly correlated to sale price. We will use a heat map to check if the variables on highly correlated to each other before continuing. "
   ]
  },
  {
   "cell_type": "markdown",
   "metadata": {},
   "source": [
    "#### Feature 1: Numeric values "
   ]
  },
  {
   "cell_type": "code",
   "execution_count": 48,
   "metadata": {},
   "outputs": [
    {
     "data": {
      "text/plain": [
       "<matplotlib.axes._subplots.AxesSubplot at 0x120351b00>"
      ]
     },
     "execution_count": 48,
     "metadata": {},
     "output_type": "execute_result"
    },
    {
     "data": {
      "image/png": "[encoded data removed]",
      "text/plain": [
       "<Figure size 432x288 with 2 Axes>"
      ]
     },
     "metadata": {
      "needs_background": "light"
     },
     "output_type": "display_data"
    }
   ],
   "source": [
    "# Heatmap of most correlated variables \n",
    "\n",
    "corrmat = most_corr.corr()\n",
    "sns.heatmap(corrmat)"
   ]
  },
  {
   "cell_type": "markdown",
   "metadata": {},
   "source": [
    "The variables look relatively independent of each other. Let's try running our first linear regression model with only numeric variables. "
   ]
  },
  {
   "cell_type": "markdown",
   "metadata": {},
   "source": [
    "#### Feature 2: Dummy Variables \n",
    "We will be introducing the following categorical variables to the model: general zoning classification (mszoning) and house style."
   ]
  },
  {
   "cell_type": "code",
   "execution_count": 53,
   "metadata": {},
   "outputs": [],
   "source": [
    "df2 = pd.concat([df2,pd.get_dummies(df2.mszoning, prefix=\"mszoning\", drop_first=True)], axis=1)\n",
    "df2 = pd.concat([df2,pd.get_dummies(df2.housestyle, prefix=\"style\", drop_first=True)], axis=1)\n",
    "\n",
    "\n",
    "dummy_column_names = list(pd.get_dummies(df2.mszoning, prefix=\"mszoning\", drop_first=True).columns)\n",
    "dummy_column_names = dummy_column_names + list(pd.get_dummies(df2.housestyle, prefix=\"style\", drop_first=True).columns)"
   ]
  },
  {
   "cell_type": "markdown",
   "metadata": {},
   "source": [
    "#### Feature 3: Log transformation \n",
    "\n",
    "To increase the fit of our model, we will perform log transformation on sale price since it is highly skewed to the right. "
   ]
  },
  {
   "cell_type": "code",
   "execution_count": null,
   "metadata": {},
   "outputs": [],
   "source": []
  },
  {
   "cell_type": "markdown",
   "metadata": {},
   "source": [
    "#### Feature 4: New variables \n",
    "\n",
    "We'll also introduce a new variable by combining total basement area, first, and second floor area as total square feet. Lastly, we will add the interaction between total square feet and overall quality of the house."
   ]
  },
  {
   "cell_type": "code",
   "execution_count": 49,
   "metadata": {},
   "outputs": [],
   "source": [
    "# Create new variables \n",
    "df2['totalsf'] = df2['totalbsmtsf'] + df2['firstflrsf'] + df2['secondflrsf']\n",
    "\n",
    "df2['int_over_sf'] = df2['totalsf'] * df2['overallqual']"
   ]
  },
  {
   "cell_type": "code",
   "execution_count": null,
   "metadata": {},
   "outputs": [],
   "source": []
  },
  {
   "cell_type": "code",
   "execution_count": null,
   "metadata": {},
   "outputs": [],
   "source": []
  },
  {
   "cell_type": "markdown",
   "metadata": {},
   "source": [
    "### Iteration 1 OLS"
   ]
  },
  {
   "cell_type": "code",
   "execution_count": 54,
   "metadata": {},
   "outputs": [],
   "source": [
    "# Y is the target variable\n",
    "Y = np.log1p(df['saleprice'])\n",
    "# X is the feature set\n",
    "X = df2[['overallqual','grlivarea','garagecars','garagearea','totalbsmtsf','firstflrsf','fullbath','totrmsabvgrd'] + dummy_column_names]\n"
   ]
  },
  {
   "cell_type": "code",
   "execution_count": 57,
   "metadata": {},
   "outputs": [
    {
     "name": "stdout",
     "output_type": "stream",
     "text": [
      "The number of observations in training set is 1168\n",
      "The number of observations in test set is 292\n"
     ]
    }
   ],
   "source": [
    "# Split data\n",
    "X_train, X_test, y_train, y_test = train_test_split(X, Y, test_size = 0.2, random_state = 465)\n",
    "\n",
    "print(\"The number of observations in training set is {}\".format(X_train.shape[0]))\n",
    "print(\"The number of observations in test set is {}\".format(X_test.shape[0]))\n",
    "\n",
    "alphas = [np.power(10.0,p) for p in np.arange(-10,40,1)]"
   ]
  },
  {
   "cell_type": "code",
   "execution_count": 58,
   "metadata": {},
   "outputs": [
    {
     "name": "stdout",
     "output_type": "stream",
     "text": [
      "R-squared of the model in the training set is: 0.8408113885298915\n",
      "-----Test set statistics-----\n",
      "R-squared of the model in the test set is: 0.8450512069250631\n",
      "Mean absolute error of the prediction is: 0.11825545677214809\n",
      "Mean squared error of the prediction is: 0.025837037034675565\n",
      "Root mean squared error of the prediction is: 0.16073903394843322\n",
      "Mean absolute percentage error of the prediction is: 0.9889612054473544\n"
     ]
    }
   ],
   "source": [
    "# We fit an OLS model using sklearn\n",
    "lrm = LinearRegression()\n",
    "lrm.fit(X_train, y_train)\n",
    "\n",
    "\n",
    "# We are making predictions here\n",
    "y_preds_train = lrm.predict(X_train)\n",
    "y_preds_test = lrm.predict(X_test)\n",
    "\n",
    "print(\"R-squared of the model in the training set is: {}\".format(lrm.score(X_train, y_train)))\n",
    "print(\"-----Test set statistics-----\")\n",
    "print(\"R-squared of the model in the test set is: {}\".format(lrm.score(X_test, y_test)))\n",
    "print(\"Mean absolute error of the prediction is: {}\".format(mean_absolute_error(y_test, y_preds_test)))\n",
    "print(\"Mean squared error of the prediction is: {}\".format(mse(y_test, y_preds_test)))\n",
    "print(\"Root mean squared error of the prediction is: {}\".format(rmse(y_test, y_preds_test)))\n",
    "print(\"Mean absolute percentage error of the prediction is: {}\".format(np.mean(np.abs((y_test - y_preds_test) / y_test)) * 100))"
   ]
  },
  {
   "cell_type": "markdown",
   "metadata": {},
   "source": [
    "As we see, the R-squared of the model in the training set is 0.84 and is 0.84 in the test set. The difference between these values is very small so our model is a good fit in the training set.\n",
    "\n",
    "We also printed out some prediction statistics on the test set to compare with the following models."
   ]
  },
  {
   "cell_type": "markdown",
   "metadata": {},
   "source": [
    "### Iteration 2 Lasso \n",
    "\n",
    "Least Absolute Shrinkage and Selection Operator regression works to prevent overfitting by trying to penaltize non-zero coefficients and the sum of their absolute values, forcing small parameter estimates to be equal to zero, effectively dropping them from the model. "
   ]
  },
  {
   "cell_type": "code",
   "execution_count": 59,
   "metadata": {},
   "outputs": [
    {
     "name": "stdout",
     "output_type": "stream",
     "text": [
      "R-squared of the model on the training set is: 0.8406046108233362\n",
      "-----Test set statistics-----\n",
      "R-squared of the model on the test set is: 0.8430604128893451\n",
      "Mean absolute error of the prediction is: 0.1185247335445169\n",
      "Mean squared error of the prediction is: 0.02616899327782216\n",
      "Root mean squared error of the prediction is: 0.1617683321228916\n",
      "Mean absolute percentage error of the prediction is: 0.9916758990689549\n"
     ]
    }
   ],
   "source": [
    "lassoregr = LassoCV(alphas=alphas, cv=5)\n",
    "lassoregr.fit(X_train, y_train)\n",
    "\n",
    "# We are making predictions here\n",
    "y_preds_train = lassoregr.predict(X_train)\n",
    "y_preds_test = lassoregr.predict(X_test)\n",
    "\n",
    "print(\"R-squared of the model on the training set is: {}\".format(lassoregr.score(X_train, y_train)))\n",
    "print(\"-----Test set statistics-----\")\n",
    "print(\"R-squared of the model on the test set is: {}\".format(lassoregr.score(X_test, y_test)))\n",
    "print(\"Mean absolute error of the prediction is: {}\".format(mean_absolute_error(y_test, y_preds_test)))\n",
    "print(\"Mean squared error of the prediction is: {}\".format(mse(y_test, y_preds_test)))\n",
    "print(\"Root mean squared error of the prediction is: {}\".format(rmse(y_test, y_preds_test)))\n",
    "print(\"Mean absolute percentage error of the prediction is: {}\".format(np.mean(np.abs((y_test - y_preds_test) / y_test)) * 100))\n"
   ]
  },
  {
   "cell_type": "markdown",
   "metadata": {},
   "source": [
    "As we see, the R-squared of the model in the training set is 0.84 and is 0.84 in the test set. The difference between these values is very similar to the OLS model. However, all of the evaluation metrics increased from the previous model indicating slightly more errors in this model."
   ]
  },
  {
   "cell_type": "markdown",
   "metadata": {},
   "source": [
    "### Iteration 3 Ridge\n",
    "\n",
    "Ridge regression minimizes this cost function by imposing a pentality for large coefficients. As the complexity of a model increases and features correlate with one another more and more, the model is incorporating too much variance in the training set. Removing features from the model can be seen as settings their coefficients to zero. Instead of forcing them to be exactly zero, let's penalize them if they are too far from zero, thus enforcing them to be small in a continuous way. This way, we decrease model complexity while keeping all variables in the model."
   ]
  },
  {
   "cell_type": "code",
   "execution_count": 60,
   "metadata": {},
   "outputs": [
    {
     "name": "stdout",
     "output_type": "stream",
     "text": [
      "R-squared of the model on the training set is: 0.8401560128034433\n",
      "-----Test set statistics-----\n",
      "R-squared of the model on the test set is: 0.8405931621543543\n",
      "Mean absolute error of the prediction is: 0.11901071284823127\n",
      "Mean squared error of the prediction is: 0.026580396602422163\n",
      "Root mean squared error of the prediction is: 0.16303495515508987\n",
      "Mean absolute percentage error of the prediction is: 0.9961036261656451\n"
     ]
    }
   ],
   "source": [
    "# Fitting a ridge regression model. Alpha is the regularization\n",
    "# parameter (usually called lambda). As alpha gets larger, parameter\n",
    "# shrinkage grows more pronounced.\n",
    "ridgeregr = RidgeCV(alphas=alphas, cv=5) \n",
    "ridgeregr.fit(X_train, y_train)\n",
    "\n",
    "# We are making predictions here\n",
    "y_preds_train = ridgeregr.predict(X_train)\n",
    "y_preds_test = ridgeregr.predict(X_test)\n",
    "\n",
    "print(\"R-squared of the model on the training set is: {}\".format(ridgeregr.score(X_train, y_train)))\n",
    "print(\"-----Test set statistics-----\")\n",
    "print(\"R-squared of the model on the test set is: {}\".format(ridgeregr.score(X_test, y_test)))\n",
    "print(\"Mean absolute error of the prediction is: {}\".format(mean_absolute_error(y_test, y_preds_test)))\n",
    "print(\"Mean squared error of the prediction is: {}\".format(mse(y_test, y_preds_test)))\n",
    "print(\"Root mean squared error of the prediction is: {}\".format(rmse(y_test, y_preds_test)))\n",
    "print(\"Mean absolute percentage error of the prediction is: {}\".format(np.mean(np.abs((y_test - y_preds_test) / y_test)) * 100))"
   ]
  },
  {
   "cell_type": "markdown",
   "metadata": {},
   "source": [
    "These results are very similar to the Lasso model. The R-squared changes slight from 0.8401 in the training model to 0.8405 in the testing set. The evaluation metrics are still higher than the OLS model. "
   ]
  },
  {
   "cell_type": "markdown",
   "metadata": {},
   "source": [
    "### Iteration 4 Elastic Net \n",
    "\n",
    "Elastic net is a regularized regression method that linearly combines the L1 and L2 penalties of the lasso and ridge methods."
   ]
  },
  {
   "cell_type": "code",
   "execution_count": 61,
   "metadata": {},
   "outputs": [
    {
     "name": "stdout",
     "output_type": "stream",
     "text": [
      "R-squared of the model on the training set is: 0.8407278273543206\n",
      "-----Test set statistics-----\n",
      "R-squared of the model on the test set is: 0.8437793128355175\n",
      "Mean absolute error of the prediction is: 0.11843600826851902\n",
      "Mean squared error of the prediction is: 0.02604911983986321\n",
      "Root mean squared error of the prediction is: 0.16139739725244398\n",
      "Mean absolute percentage error of the prediction is: 0.9907681317359416\n"
     ]
    }
   ],
   "source": [
    "elasticregr = ElasticNetCV(alphas=alphas, cv=5)\n",
    "\n",
    "elasticregr.fit(X_train, y_train)\n",
    "# We are making predictions here\n",
    "y_preds_train = elasticregr.predict(X_train)\n",
    "y_preds_test = elasticregr.predict(X_test)\n",
    "\n",
    "print(\"R-squared of the model on the training set is: {}\".format(elasticregr.score(X_train, y_train)))\n",
    "print(\"-----Test set statistics-----\")\n",
    "print(\"R-squared of the model on the test set is: {}\".format(elasticregr.score(X_test, y_test)))\n",
    "print(\"Mean absolute error of the prediction is: {}\".format(mean_absolute_error(y_test, y_preds_test)))\n",
    "print(\"Mean squared error of the prediction is: {}\".format(mse(y_test, y_preds_test)))\n",
    "print(\"Root mean squared error of the prediction is: {}\".format(rmse(y_test, y_preds_test)))\n",
    "print(\"Mean absolute percentage error of the prediction is: {}\".format(np.mean(np.abs((y_test - y_preds_test) / y_test)) * 100))\n"
   ]
  },
  {
   "cell_type": "markdown",
   "metadata": {},
   "source": [
    "The elastic net model also yield very similar results to the ridge and lasso regression models. The R-squared and evaulation metrics of this model is somewhere between the ridge and lasso regression since it is a combination of both models."
   ]
  },
  {
   "cell_type": "markdown",
   "metadata": {},
   "source": [
    "## Which model is the best?\n",
    "I would continue with the OLS regression since its R-squared is higher than the other models meaning that the OLS is able to explain more variation in the target variable. The evaluation metrics of the OLS is slightly lower than the others, signifying a better fit line."
   ]
  },
  {
   "cell_type": "markdown",
   "metadata": {},
   "source": [
    "## Assumption of linear regression\n",
    "\n",
    "Now that we have calculated coefficients for linear regression, we must see if the data and model meets Gauss Markov Assumptions before we can consider the estimated coeffiecents to be valid and reliable."
   ]
  },
  {
   "cell_type": "markdown",
   "metadata": {},
   "source": [
    "### Assumption one: linearity of the model in its coefficients\n",
    "The first assumption that must be met is that the target variable should be a linear function of the model's coefficients."
   ]
  },
  {
   "cell_type": "code",
   "execution_count": null,
   "metadata": {},
   "outputs": [],
   "source": [
    "# Y is the target variable\n",
    "Y = df['saleprice']\n",
    "# X is the feature set which includes\n",
    "\n",
    "X = df[['overallqual']]\n",
    "\n",
    "# create df for checking linearity of coefficients\n",
    "df_1 = df.copy()\n",
    "\n",
    "df_1['X'] = X\n",
    "\n",
    "df_1['X_sq'] = df_1['X']**2\n",
    "\n",
    "# this is our equation: Y = 1 + 2*X + 3*X^2\n",
    "df_1[\"Y\"] = 1 + 2*df_1[\"X\"] + 3*df_1[\"X_sq\"]\n",
    "\n",
    "# we fit a linear regression where target is Y\n",
    "# and features are X and X^2\n",
    "lrm_example = linear_model.LinearRegression()\n",
    "lrm_example.fit(df_1[[\"X\",\"X_sq\"]],df_1[\"Y\"])\n",
    "\n",
    "# predictions of the linear regression\n",
    "predictions = lrm_example.predict(df_1[[\"X\",\"X_sq\"]])\n",
    "\n",
    "# we print the estimated coefficients\n",
    "print('\\nCoefficients: \\n', lrm_example.coef_)\n",
    "print('\\nIntercept: \\n', lrm_example.intercept_)\n",
    "\n",
    "# we plot the estimated Y and X\n",
    "# the relationship should be quadratic\n",
    "plt.scatter(df_1[\"X\"], predictions)\n",
    "plt.xlabel(\"feature\")\n",
    "plt.ylabel(\"target\")\n",
    "plt.title('Linear regression can capture quadratic relationship')\n",
    "plt.show()"
   ]
  },
  {
   "cell_type": "code",
   "execution_count": null,
   "metadata": {},
   "outputs": [],
   "source": [
    "# Y is the target variable\n",
    "Y = df['saleprice']\n",
    "# X is the feature set which includes\n",
    "\n",
    "X = df[['grlivarea']]\n",
    "\n",
    "# create df for checking linearity of coefficients\n",
    "df_1 = df.copy()\n",
    "\n",
    "df_1['X'] = X\n",
    "\n",
    "df_1['X_sq'] = df_1['X']**2\n",
    "\n",
    "# this is our equation: Y = 1 + 2*X + 3*X^2\n",
    "df_1[\"Y\"] = 1 + 2*df_1[\"X\"] + 3*df_1[\"X_sq\"]\n",
    "\n",
    "# we fit a linear regression where target is Y\n",
    "# and features are X and X^2\n",
    "lrm_example = linear_model.LinearRegression()\n",
    "lrm_example.fit(df_1[[\"X\",\"X_sq\"]],df_1[\"Y\"])\n",
    "\n",
    "# predictions of the linear regression\n",
    "predictions = lrm_example.predict(df_1[[\"X\",\"X_sq\"]])\n",
    "\n",
    "# we print the estimated coefficients\n",
    "print('\\nCoefficients: \\n', lrm_example.coef_)\n",
    "print('\\nIntercept: \\n', lrm_example.intercept_)\n",
    "\n",
    "# we plot the estimated Y and X\n",
    "# the relationship should be quadratic\n",
    "plt.scatter(df_1[\"X\"], predictions)\n",
    "plt.xlabel(\"feature\")\n",
    "plt.ylabel(\"target\")\n",
    "plt.title('Linear regression can capture quadratic relationship')\n",
    "plt.show()"
   ]
  },
  {
   "cell_type": "code",
   "execution_count": null,
   "metadata": {},
   "outputs": [],
   "source": [
    "# Y is the target variable\n",
    "Y = df['saleprice']\n",
    "# X is the feature set which includes\n",
    "\n",
    "X = df[['totalbsmtsf']]\n",
    "\n",
    "\n",
    "# create df for checking linearity of coefficients\n",
    "df_1 = df.copy()\n",
    "\n",
    "df_1['X'] = X\n",
    "\n",
    "df_1['X_sq'] = df_1['X']**2\n",
    "\n",
    "# this is our equation: Y = 1 + 2*X + 3*X^2\n",
    "df_1[\"Y\"] = 1 + 2*df_1[\"X\"] + 3*df_1[\"X_sq\"]\n",
    "\n",
    "# we fit a linear regression where target is Y\n",
    "# and features are X and X^2\n",
    "lrm_example = linear_model.LinearRegression()\n",
    "lrm_example.fit(df_1[[\"X\",\"X_sq\"]],df_1[\"Y\"])\n",
    "\n",
    "# predictions of the linear regression\n",
    "predictions = lrm_example.predict(df_1[[\"X\",\"X_sq\"]])\n",
    "\n",
    "# we print the estimated coefficients\n",
    "print('\\nCoefficients: \\n', lrm_example.coef_)\n",
    "print('\\nIntercept: \\n', lrm_example.intercept_)\n",
    "\n",
    "# we plot the estimated Y and X\n",
    "# the relationship should be quadratic\n",
    "plt.scatter(df_1[\"X\"], predictions)\n",
    "plt.xlabel(\"feature\")\n",
    "plt.ylabel(\"target\")\n",
    "plt.title('Linear regression can capture quadratic relationship')\n",
    "plt.show()"
   ]
  },
  {
   "cell_type": "code",
   "execution_count": null,
   "metadata": {},
   "outputs": [],
   "source": [
    "# Y is the target variable\n",
    "Y = df['saleprice']\n",
    "# X is the feature set which includes\n",
    "\n",
    "X = df[['firstflrsf']]\n",
    "\n",
    "# create df for checking linearity of coefficients\n",
    "df_1 = df.copy()\n",
    "\n",
    "df_1['X'] = X\n",
    "\n",
    "df_1['X_sq'] = df_1['X']**2\n",
    "\n",
    "# this is our equation: Y = 1 + 2*X + 3*X^2\n",
    "df_1[\"Y\"] = 1 + 2*df_1[\"X\"] + 3*df_1[\"X_sq\"]\n",
    "\n",
    "# we fit a linear regression where target is Y\n",
    "# and features are X and X^2\n",
    "lrm_example = linear_model.LinearRegression()\n",
    "lrm_example.fit(df_1[[\"X\",\"X_sq\"]],df_1[\"Y\"])\n",
    "\n",
    "# predictions of the linear regression\n",
    "predictions = lrm_example.predict(df_1[[\"X\",\"X_sq\"]])\n",
    "\n",
    "# we print the estimated coefficients\n",
    "print('\\nCoefficients: \\n', lrm_example.coef_)\n",
    "print('\\nIntercept: \\n', lrm_example.intercept_)\n",
    "\n",
    "# we plot the estimated Y and X\n",
    "# the relationship should be quadratic\n",
    "plt.scatter(df_1[\"X\"], predictions)\n",
    "plt.xlabel(\"feature\")\n",
    "plt.ylabel(\"target\")\n",
    "plt.title('Linear regression can capture quadratic relationship')\n",
    "plt.show()"
   ]
  },
  {
   "cell_type": "code",
   "execution_count": null,
   "metadata": {},
   "outputs": [],
   "source": [
    "# Y is the target variable\n",
    "Y = df['saleprice']\n",
    "# X is the feature set which includes\n",
    "\n",
    "X = df[['garagearea']]\n",
    "\n",
    "# create df for checking linearity of coefficients\n",
    "df_1 = df.copy()\n",
    "\n",
    "df_1['X'] = X\n",
    "\n",
    "df_1['X_sq'] = df_1['X']**2\n",
    "\n",
    "# this is our equation: Y = 1 + 2*X + 3*X^2\n",
    "df_1[\"Y\"] = 1 + 2*df_1[\"X\"] + 3*df_1[\"X_sq\"]\n",
    "\n",
    "# we fit a linear regression where target is Y\n",
    "# and features are X and X^2\n",
    "lrm_example = linear_model.LinearRegression()\n",
    "lrm_example.fit(df_1[[\"X\",\"X_sq\"]],df_1[\"Y\"])\n",
    "\n",
    "# predictions of the linear regression\n",
    "predictions = lrm_example.predict(df_1[[\"X\",\"X_sq\"]])\n",
    "\n",
    "# we print the estimated coefficients\n",
    "print('\\nCoefficients: \\n', lrm_example.coef_)\n",
    "print('\\nIntercept: \\n', lrm_example.intercept_)\n",
    "\n",
    "# we plot the estimated Y and X\n",
    "# the relationship should be quadratic\n",
    "plt.scatter(df_1[\"X\"], predictions)\n",
    "plt.xlabel(\"feature\")\n",
    "plt.ylabel(\"target\")\n",
    "plt.title('Linear regression can capture quadratic relationship')\n",
    "plt.show()"
   ]
  },
  {
   "cell_type": "markdown",
   "metadata": {},
   "source": [
    "We can see that most of the coeefficents are able to capture a quadratic relationship between the target and the feautres."
   ]
  },
  {
   "cell_type": "markdown",
   "metadata": {},
   "source": [
    "### Assumption two: the error term should be zero on average\n",
    "The second assumption states that the expectation of our error term in our population, given our x term, has to be equal to zero. The error term should not help to predict variation of the target variable."
   ]
  },
  {
   "cell_type": "code",
   "execution_count": null,
   "metadata": {},
   "outputs": [],
   "source": [
    "# Y is the target variable\n",
    "Y = df['saleprice']\n",
    "# X is the feature set which includes\n",
    "\n",
    "X = df[['overallqual','grlivarea','garagearea','totalbsmtsf','firstflrsf']]\n",
    "\n",
    "# We create a LinearRegression model object\n",
    "# from scikit-learn's linear_model module.\n",
    "lrm = linear_model.LinearRegression()\n",
    "\n",
    "# fit method estimates the coefficients using OLS\n",
    "lrm.fit(X, Y)\n",
    "\n",
    "# Inspect the results.\n",
    "print('\\nCoefficients: \\n', lrm.coef_)\n",
    "print('\\nIntercept: \\n', lrm.intercept_)\n",
    "\n",
    "predictions = lrm.predict(X)\n",
    "errors = Y - predictions\n",
    "\n",
    "print(\"Mean of the errors in the sale price model is: {}\".format(np.mean(errors)))"
   ]
  },
  {
   "cell_type": "markdown",
   "metadata": {},
   "source": [
    "Since, we include the constant term in the model, the average of the model's error is effectively zero."
   ]
  },
  {
   "cell_type": "markdown",
   "metadata": {},
   "source": [
    "### Assumption three: homoscedasticity\n",
    "The third assumption describes the distribution of errors along the OSL line. A model is homoscedastic."
   ]
  },
  {
   "cell_type": "code",
   "execution_count": null,
   "metadata": {},
   "outputs": [],
   "source": [
    "plt.scatter(predictions, errors)\n",
    "plt.xlabel('Predicted')\n",
    "plt.ylabel('Residual')\n",
    "plt.axhline(y=0)\n",
    "plt.title('Residual vs. Predicted')\n",
    "plt.show()"
   ]
  },
  {
   "cell_type": "markdown",
   "metadata": {},
   "source": [
    "There appears to be higher variance among predicted values than our target variable. This would imply that our errors are not homoscedastic.\n",
    "\n",
    "We will also use Bartlett and Levene test for homoscedastic.  The null hypothesis for both tests is that the errors are homoscedastic."
   ]
  },
  {
   "cell_type": "code",
   "execution_count": null,
   "metadata": {},
   "outputs": [],
   "source": [
    "from scipy.stats import bartlett\n",
    "from scipy.stats import levene\n",
    "\n",
    "bart_stats = bartlett(predictions, errors)\n",
    "lev_stats = levene(predictions, errors)\n",
    "\n",
    "print(\"Bartlett test statistic value is {0:3g} and p value is {1:.3g}\".format(bart_stats[0], bart_stats[1]))\n",
    "print(\"Levene test statistic value is {0:3g} and p value is {1:.3g}\".format(lev_stats[0], lev_stats[1]))"
   ]
  },
  {
   "cell_type": "markdown",
   "metadata": {},
   "source": [
    "The p-values of both tests are lower than 0.05. So, the test results reject the null hypothesis which means our errors are heteroscedastic."
   ]
  },
  {
   "cell_type": "markdown",
   "metadata": {},
   "source": [
    "### Assumption four: low multicollinearity\n",
    "Individual features should be weakly correlated to one another or non-existent. "
   ]
  },
  {
   "cell_type": "code",
   "execution_count": null,
   "metadata": {},
   "outputs": [],
   "source": [
    "X.corr()"
   ]
  },
  {
   "cell_type": "markdown",
   "metadata": {},
   "source": [
    "We can see that all the variables are weakly correlated to one another."
   ]
  },
  {
   "cell_type": "markdown",
   "metadata": {},
   "source": [
    "### Assumption five: error terms should be uncorrelated with one another\n",
    "Error terms should be uncorrelated with one another."
   ]
  },
  {
   "cell_type": "code",
   "execution_count": null,
   "metadata": {},
   "outputs": [],
   "source": [
    "plt.plot(errors)\n",
    "plt.show()"
   ]
  },
  {
   "cell_type": "markdown",
   "metadata": {},
   "source": [
    "It seems that the error terms of our model are uncorrelated with each other."
   ]
  },
  {
   "cell_type": "markdown",
   "metadata": {},
   "source": [
    "### Assumption six: features shouldn't be correlated with the errors\n",
    "The last assumption is satisfying exogeneity which states that the regressors being calculated should not be perfectly correlated with the error term. If this assumption is not met, the coefficients would be biased."
   ]
  },
  {
   "cell_type": "markdown",
   "metadata": {},
   "source": [
    "### Multivariate normality\n",
    "Although normality of erros is not required to apply OLS, the error terms must be normally distributed to measure the statistical significance of our regression model."
   ]
  },
  {
   "cell_type": "code",
   "execution_count": null,
   "metadata": {},
   "outputs": [],
   "source": [
    "rand_nums = np.random.normal(np.mean(errors), np.std(errors), len(errors))\n",
    "\n",
    "plt.figure(figsize=(12,5))\n",
    "\n",
    "plt.subplot(1,2,1)\n",
    "plt.scatter(np.sort(rand_nums), np.sort(errors)) # we sort the arrays\n",
    "plt.xlabel(\"the normally distributed random variable\")\n",
    "plt.ylabel(\"errors of the model\")\n",
    "plt.title(\"QQ plot\")\n",
    "\n",
    "plt.subplot(1,2,2)\n",
    "plt.hist(errors)\n",
    "plt.xlabel(\"errors\")\n",
    "plt.title(\"Histogram of the errors\")\n",
    "\n",
    "plt.tight_layout()\n",
    "plt.show()"
   ]
  },
  {
   "cell_type": "markdown",
   "metadata": {},
   "source": [
    "As can be seen in the charts above, our errors are not normally distributed exactly. But the QQ plot and the histogram imply that the distribution is not very far away from normal."
   ]
  },
  {
   "cell_type": "code",
   "execution_count": null,
   "metadata": {},
   "outputs": [],
   "source": [
    "from scipy.stats import jarque_bera\n",
    "from scipy.stats import normaltest\n",
    "\n",
    "jb_stats = jarque_bera(errors)\n",
    "norm_stats = normaltest(errors)\n",
    "\n",
    "print(\"Jarque-Bera test statistics is {0} and p value is {1}\".format(jb_stats[0], jb_stats[1]))\n",
    "print(\"Normality test statistics is {0} and p value is {1}\".format(norm_stats[0], norm_stats[1]))"
   ]
  },
  {
   "cell_type": "markdown",
   "metadata": {},
   "source": [
    "The p-values of both tests indicate that our errors are not normally distributed."
   ]
  }
 ],
 "metadata": {
  "kernelspec": {
   "display_name": "Python 3",
   "language": "python",
   "name": "python3"
  },
  "language_info": {
   "codemirror_mode": {
    "name": "ipython",
    "version": 3
   },
   "file_extension": ".py",
   "mimetype": "text/x-python",
   "name": "python",
   "nbconvert_exporter": "python",
   "pygments_lexer": "ipython3",
   "version": "3.6.8"
  }
 },
 "nbformat": 4,
 "nbformat_minor": 2
}
