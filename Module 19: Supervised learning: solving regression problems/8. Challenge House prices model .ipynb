{
 "cells": [
  {
   "cell_type": "markdown",
   "metadata": {},
   "source": [
    "# Assignment \n",
    "\n",
    "In this assignment, we will design a regression model by using the [House Prices](https://www.kaggle.com/c/house-prices-advanced-regression-techniques/data) dataset from Kaggle. This dataset consists of 79 variables describing many aspects of residential homes in Ames, Iowa. \n",
    "\n",
    "We will familiarize ourselves with the data by performing EDA to identify trends, spot anaomiles, select features, and more. Once this stage is complete, we will split our data into train and test sets where 20% of the data resides in the test set. Then, we will build several linear regression models including Lasso, Ridge, or ElasticNet and train them in the training set. We will also use k-fold cross-validation to select the best hyperparameters for our models. Once we evaluate our best model on the test set, we will introduce addition factors that may affect house prices. \n"
   ]
  },
  {
   "cell_type": "code",
   "execution_count": 1,
   "metadata": {},
   "outputs": [],
   "source": [
    "# Numpy and pandas\n",
    "import pandas as pd\n",
    "import numpy as np\n",
    "\n",
    "#Visualization\n",
    "import matplotlib.pyplot as plt\n",
    "import seaborn as sns\n",
    "import missingno as msno\n",
    "\n",
    "# Statistics tools\n",
    "import scipy.stats as stats\n",
    "\n",
    "# Model prep and Modeling \n",
    "from sklearn.decomposition import PCA \n",
    "from sklearn.model_selection import train_test_split\n",
    "from sklearn.linear_model import LinearRegression, LassoCV, RidgeCV, ElasticNetCV\n",
    "\n",
    "# Evaluate\n",
    "from sklearn.metrics import mean_absolute_error\n",
    "import statsmodels.api as sm\n",
    "from statsmodels.tools.eval_measures import mse, rmse\n",
    "\n",
    "# Import data\n",
    "from sqlalchemy import create_engine\n",
    "import warnings\n",
    "\n",
    "warnings.filterwarnings('ignore')\n",
    "\n",
    "postgres_user = 'dsbc_student'\n",
    "postgres_pw = '7*.8G9QH21'\n",
    "postgres_host = '142.93.121.174'\n",
    "postgres_port = '5432'\n",
    "postgres_db = 'houseprices'\n",
    "\n",
    "engine = create_engine('postgresql://{}:{}@{}:{}/{}'.format(\n",
    "    postgres_user, postgres_pw, postgres_host, postgres_port, postgres_db))\n",
    "\n",
    "houseprices_df = pd.read_sql_query('select * from houseprices',con=engine)\n",
    "\n",
    "# no need for an open connection, \n",
    "# as we're only doing a single query\n",
    "engine.dispose()"
   ]
  },
  {
   "cell_type": "markdown",
   "metadata": {},
   "source": [
    "## Data Cleaning and Formatting \n",
    "\n",
    "### Load in the Data  and Examine\n",
    "\n",
    "First, we will create a copy of the original house price dataframe so that we can manipulate and clean the data without disturbing the original dataset. We will begin by loading the data and format the column names by stripping spaces and convert to lowercase. "
   ]
  },
  {
   "cell_type": "code",
   "execution_count": 2,
   "metadata": {},
   "outputs": [
    {
     "name": "stdout",
     "output_type": "stream",
     "text": [
      "(1460, 81)\n"
     ]
    },
    {
     "data": {
      "text/html": [
       "<div>\n",
       "<style scoped>\n",
       "    .dataframe tbody tr th:only-of-type {\n",
       "        vertical-align: middle;\n",
       "    }\n",
       "\n",
       "    .dataframe tbody tr th {\n",
       "        vertical-align: top;\n",
       "    }\n",
       "\n",
       "    .dataframe thead th {\n",
       "        text-align: right;\n",
       "    }\n",
       "</style>\n",
       "<table border=\"1\" class=\"dataframe\">\n",
       "  <thead>\n",
       "    <tr style=\"text-align: right;\">\n",
       "      <th></th>\n",
       "      <th>id</th>\n",
       "      <th>mssubclass</th>\n",
       "      <th>mszoning</th>\n",
       "      <th>lotfrontage</th>\n",
       "      <th>lotarea</th>\n",
       "      <th>street</th>\n",
       "      <th>alley</th>\n",
       "      <th>lotshape</th>\n",
       "      <th>landcontour</th>\n",
       "      <th>utilities</th>\n",
       "      <th>...</th>\n",
       "      <th>poolarea</th>\n",
       "      <th>poolqc</th>\n",
       "      <th>fence</th>\n",
       "      <th>miscfeature</th>\n",
       "      <th>miscval</th>\n",
       "      <th>mosold</th>\n",
       "      <th>yrsold</th>\n",
       "      <th>saletype</th>\n",
       "      <th>salecondition</th>\n",
       "      <th>saleprice</th>\n",
       "    </tr>\n",
       "  </thead>\n",
       "  <tbody>\n",
       "    <tr>\n",
       "      <th>0</th>\n",
       "      <td>1</td>\n",
       "      <td>60</td>\n",
       "      <td>RL</td>\n",
       "      <td>65.0</td>\n",
       "      <td>8450</td>\n",
       "      <td>Pave</td>\n",
       "      <td>None</td>\n",
       "      <td>Reg</td>\n",
       "      <td>Lvl</td>\n",
       "      <td>AllPub</td>\n",
       "      <td>...</td>\n",
       "      <td>0</td>\n",
       "      <td>None</td>\n",
       "      <td>None</td>\n",
       "      <td>None</td>\n",
       "      <td>0</td>\n",
       "      <td>2</td>\n",
       "      <td>2008</td>\n",
       "      <td>WD</td>\n",
       "      <td>Normal</td>\n",
       "      <td>208500</td>\n",
       "    </tr>\n",
       "    <tr>\n",
       "      <th>1</th>\n",
       "      <td>2</td>\n",
       "      <td>20</td>\n",
       "      <td>RL</td>\n",
       "      <td>80.0</td>\n",
       "      <td>9600</td>\n",
       "      <td>Pave</td>\n",
       "      <td>None</td>\n",
       "      <td>Reg</td>\n",
       "      <td>Lvl</td>\n",
       "      <td>AllPub</td>\n",
       "      <td>...</td>\n",
       "      <td>0</td>\n",
       "      <td>None</td>\n",
       "      <td>None</td>\n",
       "      <td>None</td>\n",
       "      <td>0</td>\n",
       "      <td>5</td>\n",
       "      <td>2007</td>\n",
       "      <td>WD</td>\n",
       "      <td>Normal</td>\n",
       "      <td>181500</td>\n",
       "    </tr>\n",
       "    <tr>\n",
       "      <th>2</th>\n",
       "      <td>3</td>\n",
       "      <td>60</td>\n",
       "      <td>RL</td>\n",
       "      <td>68.0</td>\n",
       "      <td>11250</td>\n",
       "      <td>Pave</td>\n",
       "      <td>None</td>\n",
       "      <td>IR1</td>\n",
       "      <td>Lvl</td>\n",
       "      <td>AllPub</td>\n",
       "      <td>...</td>\n",
       "      <td>0</td>\n",
       "      <td>None</td>\n",
       "      <td>None</td>\n",
       "      <td>None</td>\n",
       "      <td>0</td>\n",
       "      <td>9</td>\n",
       "      <td>2008</td>\n",
       "      <td>WD</td>\n",
       "      <td>Normal</td>\n",
       "      <td>223500</td>\n",
       "    </tr>\n",
       "    <tr>\n",
       "      <th>3</th>\n",
       "      <td>4</td>\n",
       "      <td>70</td>\n",
       "      <td>RL</td>\n",
       "      <td>60.0</td>\n",
       "      <td>9550</td>\n",
       "      <td>Pave</td>\n",
       "      <td>None</td>\n",
       "      <td>IR1</td>\n",
       "      <td>Lvl</td>\n",
       "      <td>AllPub</td>\n",
       "      <td>...</td>\n",
       "      <td>0</td>\n",
       "      <td>None</td>\n",
       "      <td>None</td>\n",
       "      <td>None</td>\n",
       "      <td>0</td>\n",
       "      <td>2</td>\n",
       "      <td>2006</td>\n",
       "      <td>WD</td>\n",
       "      <td>Abnorml</td>\n",
       "      <td>140000</td>\n",
       "    </tr>\n",
       "    <tr>\n",
       "      <th>4</th>\n",
       "      <td>5</td>\n",
       "      <td>60</td>\n",
       "      <td>RL</td>\n",
       "      <td>84.0</td>\n",
       "      <td>14260</td>\n",
       "      <td>Pave</td>\n",
       "      <td>None</td>\n",
       "      <td>IR1</td>\n",
       "      <td>Lvl</td>\n",
       "      <td>AllPub</td>\n",
       "      <td>...</td>\n",
       "      <td>0</td>\n",
       "      <td>None</td>\n",
       "      <td>None</td>\n",
       "      <td>None</td>\n",
       "      <td>0</td>\n",
       "      <td>12</td>\n",
       "      <td>2008</td>\n",
       "      <td>WD</td>\n",
       "      <td>Normal</td>\n",
       "      <td>250000</td>\n",
       "    </tr>\n",
       "  </tbody>\n",
       "</table>\n",
       "<p>5 rows × 81 columns</p>\n",
       "</div>"
      ],
      "text/plain": [
       "   id  mssubclass mszoning  lotfrontage  lotarea street alley lotshape  \\\n",
       "0   1          60       RL         65.0     8450   Pave  None      Reg   \n",
       "1   2          20       RL         80.0     9600   Pave  None      Reg   \n",
       "2   3          60       RL         68.0    11250   Pave  None      IR1   \n",
       "3   4          70       RL         60.0     9550   Pave  None      IR1   \n",
       "4   5          60       RL         84.0    14260   Pave  None      IR1   \n",
       "\n",
       "  landcontour utilities  ... poolarea poolqc fence miscfeature miscval mosold  \\\n",
       "0         Lvl    AllPub  ...        0   None  None        None       0      2   \n",
       "1         Lvl    AllPub  ...        0   None  None        None       0      5   \n",
       "2         Lvl    AllPub  ...        0   None  None        None       0      9   \n",
       "3         Lvl    AllPub  ...        0   None  None        None       0      2   \n",
       "4         Lvl    AllPub  ...        0   None  None        None       0     12   \n",
       "\n",
       "  yrsold  saletype  salecondition  saleprice  \n",
       "0   2008        WD         Normal     208500  \n",
       "1   2007        WD         Normal     181500  \n",
       "2   2008        WD         Normal     223500  \n",
       "3   2006        WD        Abnorml     140000  \n",
       "4   2008        WD         Normal     250000  \n",
       "\n",
       "[5 rows x 81 columns]"
      ]
     },
     "execution_count": 2,
     "metadata": {},
     "output_type": "execute_result"
    }
   ],
   "source": [
    "# Rename columns that contain trailing spaces\n",
    "\n",
    "df = houseprices_df.copy()\n",
    "\n",
    "df.columns = df.columns.str.strip().str.lower().str.replace(' ', '_').str.replace('__', '_').str.replace('(', '').str.replace(')', '')\n",
    "\n",
    "print(df.shape)\n",
    "\n",
    "df.head()"
   ]
  },
  {
   "cell_type": "code",
   "execution_count": 3,
   "metadata": {},
   "outputs": [
    {
     "name": "stdout",
     "output_type": "stream",
     "text": [
      "<class 'pandas.core.frame.DataFrame'>\n",
      "RangeIndex: 1460 entries, 0 to 1459\n",
      "Data columns (total 81 columns):\n",
      "id               1460 non-null int64\n",
      "mssubclass       1460 non-null int64\n",
      "mszoning         1460 non-null object\n",
      "lotfrontage      1201 non-null float64\n",
      "lotarea          1460 non-null int64\n",
      "street           1460 non-null object\n",
      "alley            91 non-null object\n",
      "lotshape         1460 non-null object\n",
      "landcontour      1460 non-null object\n",
      "utilities        1460 non-null object\n",
      "lotconfig        1460 non-null object\n",
      "landslope        1460 non-null object\n",
      "neighborhood     1460 non-null object\n",
      "condition1       1460 non-null object\n",
      "condition2       1460 non-null object\n",
      "bldgtype         1460 non-null object\n",
      "housestyle       1460 non-null object\n",
      "overallqual      1460 non-null int64\n",
      "overallcond      1460 non-null int64\n",
      "yearbuilt        1460 non-null int64\n",
      "yearremodadd     1460 non-null int64\n",
      "roofstyle        1460 non-null object\n",
      "roofmatl         1460 non-null object\n",
      "exterior1st      1460 non-null object\n",
      "exterior2nd      1460 non-null object\n",
      "masvnrtype       1452 non-null object\n",
      "masvnrarea       1452 non-null float64\n",
      "exterqual        1460 non-null object\n",
      "extercond        1460 non-null object\n",
      "foundation       1460 non-null object\n",
      "bsmtqual         1423 non-null object\n",
      "bsmtcond         1423 non-null object\n",
      "bsmtexposure     1422 non-null object\n",
      "bsmtfintype1     1423 non-null object\n",
      "bsmtfinsf1       1460 non-null int64\n",
      "bsmtfintype2     1422 non-null object\n",
      "bsmtfinsf2       1460 non-null int64\n",
      "bsmtunfsf        1460 non-null int64\n",
      "totalbsmtsf      1460 non-null int64\n",
      "heating          1460 non-null object\n",
      "heatingqc        1460 non-null object\n",
      "centralair       1460 non-null object\n",
      "electrical       1459 non-null object\n",
      "firstflrsf       1460 non-null int64\n",
      "secondflrsf      1460 non-null int64\n",
      "lowqualfinsf     1460 non-null int64\n",
      "grlivarea        1460 non-null int64\n",
      "bsmtfullbath     1460 non-null int64\n",
      "bsmthalfbath     1460 non-null int64\n",
      "fullbath         1460 non-null int64\n",
      "halfbath         1460 non-null int64\n",
      "bedroomabvgr     1460 non-null int64\n",
      "kitchenabvgr     1460 non-null int64\n",
      "kitchenqual      1460 non-null object\n",
      "totrmsabvgrd     1460 non-null int64\n",
      "functional       1460 non-null object\n",
      "fireplaces       1460 non-null int64\n",
      "fireplacequ      770 non-null object\n",
      "garagetype       1379 non-null object\n",
      "garageyrblt      1379 non-null float64\n",
      "garagefinish     1379 non-null object\n",
      "garagecars       1460 non-null int64\n",
      "garagearea       1460 non-null int64\n",
      "garagequal       1379 non-null object\n",
      "garagecond       1379 non-null object\n",
      "paveddrive       1460 non-null object\n",
      "wooddecksf       1460 non-null int64\n",
      "openporchsf      1460 non-null int64\n",
      "enclosedporch    1460 non-null int64\n",
      "threessnporch    1460 non-null int64\n",
      "screenporch      1460 non-null int64\n",
      "poolarea         1460 non-null int64\n",
      "poolqc           7 non-null object\n",
      "fence            281 non-null object\n",
      "miscfeature      54 non-null object\n",
      "miscval          1460 non-null int64\n",
      "mosold           1460 non-null int64\n",
      "yrsold           1460 non-null int64\n",
      "saletype         1460 non-null object\n",
      "salecondition    1460 non-null object\n",
      "saleprice        1460 non-null int64\n",
      "dtypes: float64(3), int64(35), object(43)\n",
      "memory usage: 924.0+ KB\n"
     ]
    }
   ],
   "source": [
    "# Datatypes \n",
    "\n",
    "df.info()\n"
   ]
  },
  {
   "cell_type": "markdown",
   "metadata": {},
   "source": [
    "There are 81 attributes and 1,460 rows in this dataset. Currently, there are 43 categorical and 38 continous varibles describing aspects of houses sold in Ames, Iowa. There are a couple of date columns and an id column that were entered as integers. Since the focus of this assignment is predicting sale price and not working with a time series dataset, we will convert the columns to strings. "
   ]
  },
  {
   "cell_type": "code",
   "execution_count": 4,
   "metadata": {},
   "outputs": [],
   "source": [
    "# Convert to string \n",
    "\n",
    "convert_type = ['id','yearbuilt','yearremodadd','garageyrblt','mosold','yrsold']\n",
    "\n",
    "df[convert_type] = df[convert_type].astype(str)"
   ]
  },
  {
   "cell_type": "code",
   "execution_count": 5,
   "metadata": {},
   "outputs": [
    {
     "name": "stdout",
     "output_type": "stream",
     "text": [
      "There are 32 numeric varibles\n",
      "There are 49 categorical varibles\n"
     ]
    }
   ],
   "source": [
    "num_var = df.select_dtypes(['int64', 'float64']).columns\n",
    "print('There are {} numeric varibles'.format(len(num_var)))\n",
    "\n",
    "cat_var = df.select_dtypes(['object']).columns\n",
    "print('There are {} categorical varibles'.format(len(cat_var)))"
   ]
  },
  {
   "cell_type": "markdown",
   "metadata": {},
   "source": [
    "After converting columns to the correct types, we now have 33 numeric and 48 categorical variables. \n",
    "\n",
    "Let's get a basic description of the dataset by viewing summary statistics."
   ]
  },
  {
   "cell_type": "code",
   "execution_count": 6,
   "metadata": {},
   "outputs": [
    {
     "data": {
      "text/html": [
       "<div>\n",
       "<style scoped>\n",
       "    .dataframe tbody tr th:only-of-type {\n",
       "        vertical-align: middle;\n",
       "    }\n",
       "\n",
       "    .dataframe tbody tr th {\n",
       "        vertical-align: top;\n",
       "    }\n",
       "\n",
       "    .dataframe thead th {\n",
       "        text-align: right;\n",
       "    }\n",
       "</style>\n",
       "<table border=\"1\" class=\"dataframe\">\n",
       "  <thead>\n",
       "    <tr style=\"text-align: right;\">\n",
       "      <th></th>\n",
       "      <th>mssubclass</th>\n",
       "      <th>lotfrontage</th>\n",
       "      <th>lotarea</th>\n",
       "      <th>overallqual</th>\n",
       "      <th>overallcond</th>\n",
       "      <th>masvnrarea</th>\n",
       "      <th>bsmtfinsf1</th>\n",
       "      <th>bsmtfinsf2</th>\n",
       "      <th>bsmtunfsf</th>\n",
       "      <th>totalbsmtsf</th>\n",
       "      <th>...</th>\n",
       "      <th>garagecars</th>\n",
       "      <th>garagearea</th>\n",
       "      <th>wooddecksf</th>\n",
       "      <th>openporchsf</th>\n",
       "      <th>enclosedporch</th>\n",
       "      <th>threessnporch</th>\n",
       "      <th>screenporch</th>\n",
       "      <th>poolarea</th>\n",
       "      <th>miscval</th>\n",
       "      <th>saleprice</th>\n",
       "    </tr>\n",
       "  </thead>\n",
       "  <tbody>\n",
       "    <tr>\n",
       "      <th>count</th>\n",
       "      <td>1460.000000</td>\n",
       "      <td>1201.000000</td>\n",
       "      <td>1460.000000</td>\n",
       "      <td>1460.000000</td>\n",
       "      <td>1460.000000</td>\n",
       "      <td>1452.000000</td>\n",
       "      <td>1460.000000</td>\n",
       "      <td>1460.000000</td>\n",
       "      <td>1460.000000</td>\n",
       "      <td>1460.000000</td>\n",
       "      <td>...</td>\n",
       "      <td>1460.000000</td>\n",
       "      <td>1460.000000</td>\n",
       "      <td>1460.000000</td>\n",
       "      <td>1460.000000</td>\n",
       "      <td>1460.000000</td>\n",
       "      <td>1460.000000</td>\n",
       "      <td>1460.000000</td>\n",
       "      <td>1460.000000</td>\n",
       "      <td>1460.000000</td>\n",
       "      <td>1460.000000</td>\n",
       "    </tr>\n",
       "    <tr>\n",
       "      <th>mean</th>\n",
       "      <td>56.897260</td>\n",
       "      <td>70.049958</td>\n",
       "      <td>10516.828082</td>\n",
       "      <td>6.099315</td>\n",
       "      <td>5.575342</td>\n",
       "      <td>103.685262</td>\n",
       "      <td>443.639726</td>\n",
       "      <td>46.549315</td>\n",
       "      <td>567.240411</td>\n",
       "      <td>1057.429452</td>\n",
       "      <td>...</td>\n",
       "      <td>1.767123</td>\n",
       "      <td>472.980137</td>\n",
       "      <td>94.244521</td>\n",
       "      <td>46.660274</td>\n",
       "      <td>21.954110</td>\n",
       "      <td>3.409589</td>\n",
       "      <td>15.060959</td>\n",
       "      <td>2.758904</td>\n",
       "      <td>43.489041</td>\n",
       "      <td>180921.195890</td>\n",
       "    </tr>\n",
       "    <tr>\n",
       "      <th>std</th>\n",
       "      <td>42.300571</td>\n",
       "      <td>24.284752</td>\n",
       "      <td>9981.264932</td>\n",
       "      <td>1.382997</td>\n",
       "      <td>1.112799</td>\n",
       "      <td>181.066207</td>\n",
       "      <td>456.098091</td>\n",
       "      <td>161.319273</td>\n",
       "      <td>441.866955</td>\n",
       "      <td>438.705324</td>\n",
       "      <td>...</td>\n",
       "      <td>0.747315</td>\n",
       "      <td>213.804841</td>\n",
       "      <td>125.338794</td>\n",
       "      <td>66.256028</td>\n",
       "      <td>61.119149</td>\n",
       "      <td>29.317331</td>\n",
       "      <td>55.757415</td>\n",
       "      <td>40.177307</td>\n",
       "      <td>496.123024</td>\n",
       "      <td>79442.502883</td>\n",
       "    </tr>\n",
       "    <tr>\n",
       "      <th>min</th>\n",
       "      <td>20.000000</td>\n",
       "      <td>21.000000</td>\n",
       "      <td>1300.000000</td>\n",
       "      <td>1.000000</td>\n",
       "      <td>1.000000</td>\n",
       "      <td>0.000000</td>\n",
       "      <td>0.000000</td>\n",
       "      <td>0.000000</td>\n",
       "      <td>0.000000</td>\n",
       "      <td>0.000000</td>\n",
       "      <td>...</td>\n",
       "      <td>0.000000</td>\n",
       "      <td>0.000000</td>\n",
       "      <td>0.000000</td>\n",
       "      <td>0.000000</td>\n",
       "      <td>0.000000</td>\n",
       "      <td>0.000000</td>\n",
       "      <td>0.000000</td>\n",
       "      <td>0.000000</td>\n",
       "      <td>0.000000</td>\n",
       "      <td>34900.000000</td>\n",
       "    </tr>\n",
       "    <tr>\n",
       "      <th>25%</th>\n",
       "      <td>20.000000</td>\n",
       "      <td>59.000000</td>\n",
       "      <td>7553.500000</td>\n",
       "      <td>5.000000</td>\n",
       "      <td>5.000000</td>\n",
       "      <td>0.000000</td>\n",
       "      <td>0.000000</td>\n",
       "      <td>0.000000</td>\n",
       "      <td>223.000000</td>\n",
       "      <td>795.750000</td>\n",
       "      <td>...</td>\n",
       "      <td>1.000000</td>\n",
       "      <td>334.500000</td>\n",
       "      <td>0.000000</td>\n",
       "      <td>0.000000</td>\n",
       "      <td>0.000000</td>\n",
       "      <td>0.000000</td>\n",
       "      <td>0.000000</td>\n",
       "      <td>0.000000</td>\n",
       "      <td>0.000000</td>\n",
       "      <td>129975.000000</td>\n",
       "    </tr>\n",
       "    <tr>\n",
       "      <th>50%</th>\n",
       "      <td>50.000000</td>\n",
       "      <td>69.000000</td>\n",
       "      <td>9478.500000</td>\n",
       "      <td>6.000000</td>\n",
       "      <td>5.000000</td>\n",
       "      <td>0.000000</td>\n",
       "      <td>383.500000</td>\n",
       "      <td>0.000000</td>\n",
       "      <td>477.500000</td>\n",
       "      <td>991.500000</td>\n",
       "      <td>...</td>\n",
       "      <td>2.000000</td>\n",
       "      <td>480.000000</td>\n",
       "      <td>0.000000</td>\n",
       "      <td>25.000000</td>\n",
       "      <td>0.000000</td>\n",
       "      <td>0.000000</td>\n",
       "      <td>0.000000</td>\n",
       "      <td>0.000000</td>\n",
       "      <td>0.000000</td>\n",
       "      <td>163000.000000</td>\n",
       "    </tr>\n",
       "    <tr>\n",
       "      <th>75%</th>\n",
       "      <td>70.000000</td>\n",
       "      <td>80.000000</td>\n",
       "      <td>11601.500000</td>\n",
       "      <td>7.000000</td>\n",
       "      <td>6.000000</td>\n",
       "      <td>166.000000</td>\n",
       "      <td>712.250000</td>\n",
       "      <td>0.000000</td>\n",
       "      <td>808.000000</td>\n",
       "      <td>1298.250000</td>\n",
       "      <td>...</td>\n",
       "      <td>2.000000</td>\n",
       "      <td>576.000000</td>\n",
       "      <td>168.000000</td>\n",
       "      <td>68.000000</td>\n",
       "      <td>0.000000</td>\n",
       "      <td>0.000000</td>\n",
       "      <td>0.000000</td>\n",
       "      <td>0.000000</td>\n",
       "      <td>0.000000</td>\n",
       "      <td>214000.000000</td>\n",
       "    </tr>\n",
       "    <tr>\n",
       "      <th>max</th>\n",
       "      <td>190.000000</td>\n",
       "      <td>313.000000</td>\n",
       "      <td>215245.000000</td>\n",
       "      <td>10.000000</td>\n",
       "      <td>9.000000</td>\n",
       "      <td>1600.000000</td>\n",
       "      <td>5644.000000</td>\n",
       "      <td>1474.000000</td>\n",
       "      <td>2336.000000</td>\n",
       "      <td>6110.000000</td>\n",
       "      <td>...</td>\n",
       "      <td>4.000000</td>\n",
       "      <td>1418.000000</td>\n",
       "      <td>857.000000</td>\n",
       "      <td>547.000000</td>\n",
       "      <td>552.000000</td>\n",
       "      <td>508.000000</td>\n",
       "      <td>480.000000</td>\n",
       "      <td>738.000000</td>\n",
       "      <td>15500.000000</td>\n",
       "      <td>755000.000000</td>\n",
       "    </tr>\n",
       "  </tbody>\n",
       "</table>\n",
       "<p>8 rows × 32 columns</p>\n",
       "</div>"
      ],
      "text/plain": [
       "        mssubclass  lotfrontage        lotarea  overallqual  overallcond  \\\n",
       "count  1460.000000  1201.000000    1460.000000  1460.000000  1460.000000   \n",
       "mean     56.897260    70.049958   10516.828082     6.099315     5.575342   \n",
       "std      42.300571    24.284752    9981.264932     1.382997     1.112799   \n",
       "min      20.000000    21.000000    1300.000000     1.000000     1.000000   \n",
       "25%      20.000000    59.000000    7553.500000     5.000000     5.000000   \n",
       "50%      50.000000    69.000000    9478.500000     6.000000     5.000000   \n",
       "75%      70.000000    80.000000   11601.500000     7.000000     6.000000   \n",
       "max     190.000000   313.000000  215245.000000    10.000000     9.000000   \n",
       "\n",
       "        masvnrarea   bsmtfinsf1   bsmtfinsf2    bsmtunfsf  totalbsmtsf  ...  \\\n",
       "count  1452.000000  1460.000000  1460.000000  1460.000000  1460.000000  ...   \n",
       "mean    103.685262   443.639726    46.549315   567.240411  1057.429452  ...   \n",
       "std     181.066207   456.098091   161.319273   441.866955   438.705324  ...   \n",
       "min       0.000000     0.000000     0.000000     0.000000     0.000000  ...   \n",
       "25%       0.000000     0.000000     0.000000   223.000000   795.750000  ...   \n",
       "50%       0.000000   383.500000     0.000000   477.500000   991.500000  ...   \n",
       "75%     166.000000   712.250000     0.000000   808.000000  1298.250000  ...   \n",
       "max    1600.000000  5644.000000  1474.000000  2336.000000  6110.000000  ...   \n",
       "\n",
       "        garagecars   garagearea   wooddecksf  openporchsf  enclosedporch  \\\n",
       "count  1460.000000  1460.000000  1460.000000  1460.000000    1460.000000   \n",
       "mean      1.767123   472.980137    94.244521    46.660274      21.954110   \n",
       "std       0.747315   213.804841   125.338794    66.256028      61.119149   \n",
       "min       0.000000     0.000000     0.000000     0.000000       0.000000   \n",
       "25%       1.000000   334.500000     0.000000     0.000000       0.000000   \n",
       "50%       2.000000   480.000000     0.000000    25.000000       0.000000   \n",
       "75%       2.000000   576.000000   168.000000    68.000000       0.000000   \n",
       "max       4.000000  1418.000000   857.000000   547.000000     552.000000   \n",
       "\n",
       "       threessnporch  screenporch     poolarea       miscval      saleprice  \n",
       "count    1460.000000  1460.000000  1460.000000   1460.000000    1460.000000  \n",
       "mean        3.409589    15.060959     2.758904     43.489041  180921.195890  \n",
       "std        29.317331    55.757415    40.177307    496.123024   79442.502883  \n",
       "min         0.000000     0.000000     0.000000      0.000000   34900.000000  \n",
       "25%         0.000000     0.000000     0.000000      0.000000  129975.000000  \n",
       "50%         0.000000     0.000000     0.000000      0.000000  163000.000000  \n",
       "75%         0.000000     0.000000     0.000000      0.000000  214000.000000  \n",
       "max       508.000000   480.000000   738.000000  15500.000000  755000.000000  \n",
       "\n",
       "[8 rows x 32 columns]"
      ]
     },
     "execution_count": 6,
     "metadata": {},
     "output_type": "execute_result"
    }
   ],
   "source": [
    "# Dataframe statistics \n",
    "\n",
    "df.describe()"
   ]
  },
  {
   "cell_type": "code",
   "execution_count": 7,
   "metadata": {},
   "outputs": [
    {
     "data": {
      "text/html": [
       "<div>\n",
       "<style scoped>\n",
       "    .dataframe tbody tr th:only-of-type {\n",
       "        vertical-align: middle;\n",
       "    }\n",
       "\n",
       "    .dataframe tbody tr th {\n",
       "        vertical-align: top;\n",
       "    }\n",
       "\n",
       "    .dataframe thead th {\n",
       "        text-align: right;\n",
       "    }\n",
       "</style>\n",
       "<table border=\"1\" class=\"dataframe\">\n",
       "  <thead>\n",
       "    <tr style=\"text-align: right;\">\n",
       "      <th></th>\n",
       "      <th>id</th>\n",
       "      <th>mszoning</th>\n",
       "      <th>street</th>\n",
       "      <th>alley</th>\n",
       "      <th>lotshape</th>\n",
       "      <th>landcontour</th>\n",
       "      <th>utilities</th>\n",
       "      <th>lotconfig</th>\n",
       "      <th>landslope</th>\n",
       "      <th>neighborhood</th>\n",
       "      <th>...</th>\n",
       "      <th>garagequal</th>\n",
       "      <th>garagecond</th>\n",
       "      <th>paveddrive</th>\n",
       "      <th>poolqc</th>\n",
       "      <th>fence</th>\n",
       "      <th>miscfeature</th>\n",
       "      <th>mosold</th>\n",
       "      <th>yrsold</th>\n",
       "      <th>saletype</th>\n",
       "      <th>salecondition</th>\n",
       "    </tr>\n",
       "  </thead>\n",
       "  <tbody>\n",
       "    <tr>\n",
       "      <th>count</th>\n",
       "      <td>1460</td>\n",
       "      <td>1460</td>\n",
       "      <td>1460</td>\n",
       "      <td>91</td>\n",
       "      <td>1460</td>\n",
       "      <td>1460</td>\n",
       "      <td>1460</td>\n",
       "      <td>1460</td>\n",
       "      <td>1460</td>\n",
       "      <td>1460</td>\n",
       "      <td>...</td>\n",
       "      <td>1379</td>\n",
       "      <td>1379</td>\n",
       "      <td>1460</td>\n",
       "      <td>7</td>\n",
       "      <td>281</td>\n",
       "      <td>54</td>\n",
       "      <td>1460</td>\n",
       "      <td>1460</td>\n",
       "      <td>1460</td>\n",
       "      <td>1460</td>\n",
       "    </tr>\n",
       "    <tr>\n",
       "      <th>unique</th>\n",
       "      <td>1460</td>\n",
       "      <td>5</td>\n",
       "      <td>2</td>\n",
       "      <td>2</td>\n",
       "      <td>4</td>\n",
       "      <td>4</td>\n",
       "      <td>2</td>\n",
       "      <td>5</td>\n",
       "      <td>3</td>\n",
       "      <td>25</td>\n",
       "      <td>...</td>\n",
       "      <td>5</td>\n",
       "      <td>5</td>\n",
       "      <td>3</td>\n",
       "      <td>3</td>\n",
       "      <td>4</td>\n",
       "      <td>4</td>\n",
       "      <td>12</td>\n",
       "      <td>5</td>\n",
       "      <td>9</td>\n",
       "      <td>6</td>\n",
       "    </tr>\n",
       "    <tr>\n",
       "      <th>top</th>\n",
       "      <td>773</td>\n",
       "      <td>RL</td>\n",
       "      <td>Pave</td>\n",
       "      <td>Grvl</td>\n",
       "      <td>Reg</td>\n",
       "      <td>Lvl</td>\n",
       "      <td>AllPub</td>\n",
       "      <td>Inside</td>\n",
       "      <td>Gtl</td>\n",
       "      <td>NAmes</td>\n",
       "      <td>...</td>\n",
       "      <td>TA</td>\n",
       "      <td>TA</td>\n",
       "      <td>Y</td>\n",
       "      <td>Gd</td>\n",
       "      <td>MnPrv</td>\n",
       "      <td>Shed</td>\n",
       "      <td>6</td>\n",
       "      <td>2009</td>\n",
       "      <td>WD</td>\n",
       "      <td>Normal</td>\n",
       "    </tr>\n",
       "    <tr>\n",
       "      <th>freq</th>\n",
       "      <td>1</td>\n",
       "      <td>1151</td>\n",
       "      <td>1454</td>\n",
       "      <td>50</td>\n",
       "      <td>925</td>\n",
       "      <td>1311</td>\n",
       "      <td>1459</td>\n",
       "      <td>1052</td>\n",
       "      <td>1382</td>\n",
       "      <td>225</td>\n",
       "      <td>...</td>\n",
       "      <td>1311</td>\n",
       "      <td>1326</td>\n",
       "      <td>1340</td>\n",
       "      <td>3</td>\n",
       "      <td>157</td>\n",
       "      <td>49</td>\n",
       "      <td>253</td>\n",
       "      <td>338</td>\n",
       "      <td>1267</td>\n",
       "      <td>1198</td>\n",
       "    </tr>\n",
       "  </tbody>\n",
       "</table>\n",
       "<p>4 rows × 49 columns</p>\n",
       "</div>"
      ],
      "text/plain": [
       "          id mszoning street alley lotshape landcontour utilities lotconfig  \\\n",
       "count   1460     1460   1460    91     1460        1460      1460      1460   \n",
       "unique  1460        5      2     2        4           4         2         5   \n",
       "top      773       RL   Pave  Grvl      Reg         Lvl    AllPub    Inside   \n",
       "freq       1     1151   1454    50      925        1311      1459      1052   \n",
       "\n",
       "       landslope neighborhood  ... garagequal garagecond paveddrive poolqc  \\\n",
       "count       1460         1460  ...       1379       1379       1460      7   \n",
       "unique         3           25  ...          5          5          3      3   \n",
       "top          Gtl        NAmes  ...         TA         TA          Y     Gd   \n",
       "freq        1382          225  ...       1311       1326       1340      3   \n",
       "\n",
       "        fence miscfeature mosold yrsold saletype salecondition  \n",
       "count     281          54   1460   1460     1460          1460  \n",
       "unique      4           4     12      5        9             6  \n",
       "top     MnPrv        Shed      6   2009       WD        Normal  \n",
       "freq      157          49    253    338     1267          1198  \n",
       "\n",
       "[4 rows x 49 columns]"
      ]
     },
     "execution_count": 7,
     "metadata": {},
     "output_type": "execute_result"
    }
   ],
   "source": [
    "df.describe(include=['object'])"
   ]
  },
  {
   "cell_type": "markdown",
   "metadata": {},
   "source": [
    "Here are some initial observations:\n",
    " - Lot area varies drastically from 1,300 square feet (2 bedroom) to 215,245 square feet (mega-mansion).\n",
    " - The average house has a basement of 1,057 square feet. \n",
    " - Majority of garages can store up to 2 cars.\n",
    " - The average pool area is around 2 square feet, which indicates that these houses probably do not have a pool. This may be typical of a house in Iowa. \n",
    " - The sale prices ranges from \\\\$34,900 to \\\\$755,000. The average price for a house was around \\$180,921. \n",
    "  \n",
    " - These houses were built from 1872 to 2010. The average house in this dataset was built around 1971.\n",
    " - Houses in Northern Ames neighborhood were sold the most. \n",
    " - The data captures houses sold from 2006 to 2010. Summer months, particularly June 2009 was the most popular buying season.\n"
   ]
  },
  {
   "cell_type": "markdown",
   "metadata": {},
   "source": [
    "### Missing Values \n",
    "After correcting column data types, let's take a look at missing data. Questions that we should keep in mind include how prevalent is missing data and if these values are missing at random. Answering these questions will help us detect potential bias in data collection and uncover truths. "
   ]
  },
  {
   "cell_type": "code",
   "execution_count": 8,
   "metadata": {},
   "outputs": [],
   "source": [
    "# Function to calculate missing values by column\n",
    "def missing_values_table(df):\n",
    "        # Total missing values\n",
    "        mis_val = df.isnull().sum()\n",
    "        \n",
    "        # Percentage of missing values\n",
    "        mis_val_percent = 100 * df.isnull().sum() / len(df)\n",
    "        \n",
    "        # Make a table with the results\n",
    "        mis_val_table = pd.concat([mis_val, mis_val_percent], axis=1)\n",
    "        \n",
    "        # Rename the columns\n",
    "        mis_val_table_ren_columns = mis_val_table.rename(\n",
    "        columns = {0 : 'Missing Values', 1 : '% of Total Values'})\n",
    "        \n",
    "        # Sort the table by percentage of missing descending\n",
    "        mis_val_table_ren_columns = mis_val_table_ren_columns[\n",
    "            mis_val_table_ren_columns.iloc[:,1] != 0].sort_values(\n",
    "        '% of Total Values', ascending=False).round(1)\n",
    "        \n",
    "        # Print some summary information\n",
    "        print (\"Your selected dataframe has \" + str(df.shape[1]) + \" columns.\\n\"      \n",
    "            \"There are \" + str(mis_val_table_ren_columns.shape[0]) +\n",
    "              \" columns that have missing values.\")\n",
    "        \n",
    "        # Return the dataframe with missing information\n",
    "        return mis_val_table_ren_columns"
   ]
  },
  {
   "cell_type": "code",
   "execution_count": 9,
   "metadata": {},
   "outputs": [
    {
     "name": "stdout",
     "output_type": "stream",
     "text": [
      "Your selected dataframe has 81 columns.\n",
      "There are 18 columns that have missing values.\n"
     ]
    },
    {
     "data": {
      "text/html": [
       "<div>\n",
       "<style scoped>\n",
       "    .dataframe tbody tr th:only-of-type {\n",
       "        vertical-align: middle;\n",
       "    }\n",
       "\n",
       "    .dataframe tbody tr th {\n",
       "        vertical-align: top;\n",
       "    }\n",
       "\n",
       "    .dataframe thead th {\n",
       "        text-align: right;\n",
       "    }\n",
       "</style>\n",
       "<table border=\"1\" class=\"dataframe\">\n",
       "  <thead>\n",
       "    <tr style=\"text-align: right;\">\n",
       "      <th></th>\n",
       "      <th>Missing Values</th>\n",
       "      <th>% of Total Values</th>\n",
       "    </tr>\n",
       "  </thead>\n",
       "  <tbody>\n",
       "    <tr>\n",
       "      <th>poolqc</th>\n",
       "      <td>1453</td>\n",
       "      <td>99.5</td>\n",
       "    </tr>\n",
       "    <tr>\n",
       "      <th>miscfeature</th>\n",
       "      <td>1406</td>\n",
       "      <td>96.3</td>\n",
       "    </tr>\n",
       "    <tr>\n",
       "      <th>alley</th>\n",
       "      <td>1369</td>\n",
       "      <td>93.8</td>\n",
       "    </tr>\n",
       "    <tr>\n",
       "      <th>fence</th>\n",
       "      <td>1179</td>\n",
       "      <td>80.8</td>\n",
       "    </tr>\n",
       "    <tr>\n",
       "      <th>fireplacequ</th>\n",
       "      <td>690</td>\n",
       "      <td>47.3</td>\n",
       "    </tr>\n",
       "    <tr>\n",
       "      <th>lotfrontage</th>\n",
       "      <td>259</td>\n",
       "      <td>17.7</td>\n",
       "    </tr>\n",
       "    <tr>\n",
       "      <th>garagetype</th>\n",
       "      <td>81</td>\n",
       "      <td>5.5</td>\n",
       "    </tr>\n",
       "    <tr>\n",
       "      <th>garagefinish</th>\n",
       "      <td>81</td>\n",
       "      <td>5.5</td>\n",
       "    </tr>\n",
       "    <tr>\n",
       "      <th>garagequal</th>\n",
       "      <td>81</td>\n",
       "      <td>5.5</td>\n",
       "    </tr>\n",
       "    <tr>\n",
       "      <th>garagecond</th>\n",
       "      <td>81</td>\n",
       "      <td>5.5</td>\n",
       "    </tr>\n",
       "    <tr>\n",
       "      <th>bsmtexposure</th>\n",
       "      <td>38</td>\n",
       "      <td>2.6</td>\n",
       "    </tr>\n",
       "    <tr>\n",
       "      <th>bsmtfintype2</th>\n",
       "      <td>38</td>\n",
       "      <td>2.6</td>\n",
       "    </tr>\n",
       "    <tr>\n",
       "      <th>bsmtfintype1</th>\n",
       "      <td>37</td>\n",
       "      <td>2.5</td>\n",
       "    </tr>\n",
       "    <tr>\n",
       "      <th>bsmtcond</th>\n",
       "      <td>37</td>\n",
       "      <td>2.5</td>\n",
       "    </tr>\n",
       "    <tr>\n",
       "      <th>bsmtqual</th>\n",
       "      <td>37</td>\n",
       "      <td>2.5</td>\n",
       "    </tr>\n",
       "    <tr>\n",
       "      <th>masvnrarea</th>\n",
       "      <td>8</td>\n",
       "      <td>0.5</td>\n",
       "    </tr>\n",
       "    <tr>\n",
       "      <th>masvnrtype</th>\n",
       "      <td>8</td>\n",
       "      <td>0.5</td>\n",
       "    </tr>\n",
       "    <tr>\n",
       "      <th>electrical</th>\n",
       "      <td>1</td>\n",
       "      <td>0.1</td>\n",
       "    </tr>\n",
       "  </tbody>\n",
       "</table>\n",
       "</div>"
      ],
      "text/plain": [
       "              Missing Values  % of Total Values\n",
       "poolqc                  1453               99.5\n",
       "miscfeature             1406               96.3\n",
       "alley                   1369               93.8\n",
       "fence                   1179               80.8\n",
       "fireplacequ              690               47.3\n",
       "lotfrontage              259               17.7\n",
       "garagetype                81                5.5\n",
       "garagefinish              81                5.5\n",
       "garagequal                81                5.5\n",
       "garagecond                81                5.5\n",
       "bsmtexposure              38                2.6\n",
       "bsmtfintype2              38                2.6\n",
       "bsmtfintype1              37                2.5\n",
       "bsmtcond                  37                2.5\n",
       "bsmtqual                  37                2.5\n",
       "masvnrarea                 8                0.5\n",
       "masvnrtype                 8                0.5\n",
       "electrical                 1                0.1"
      ]
     },
     "execution_count": 9,
     "metadata": {},
     "output_type": "execute_result"
    }
   ],
   "source": [
    "missing_values_table(df)"
   ]
  },
  {
   "cell_type": "code",
   "execution_count": 10,
   "metadata": {},
   "outputs": [
    {
     "data": {
      "text/plain": [
       "<matplotlib.axes._subplots.AxesSubplot at 0x12a874438>"
      ]
     },
     "execution_count": 10,
     "metadata": {},
     "output_type": "execute_result"
    },
    {
     "data": {
      "image/png": "[encoded data removed]",
      "text/plain": [
       "<Figure size 1800x720 with 2 Axes>"
      ]
     },
     "metadata": {
      "needs_background": "light"
     },
     "output_type": "display_data"
    }
   ],
   "source": [
    "# Create nullity matrix for missing values \n",
    "\n",
    "msno.matrix(df)"
   ]
  },
  {
   "cell_type": "markdown",
   "metadata": {},
   "source": [
    "We can observe that the top 5 variables in the table are missing more than 40% of datapoints. Since these are categorical data, we'll replace NA values with none.  With the remaining variables, we can impute missing values with their respective mode. \n",
    "\n",
    "Based on the nullity matrix, it doesn't seem like the data is missing at random. There appears to be a pattern of missing data between pool quality, miscellaneous features, and alley. If the house did not contain those features, they were likely left blank. \n"
   ]
  },
  {
   "cell_type": "code",
   "execution_count": 11,
   "metadata": {},
   "outputs": [
    {
     "name": "stdout",
     "output_type": "stream",
     "text": [
      "Your selected dataframe has 81 columns.\n",
      "There are 18 columns that have missing values.\n",
      "We will impute 5 columns.\n"
     ]
    }
   ],
   "source": [
    "# Get columns with >= 40% missing\n",
    "\n",
    "missing_df = missing_values_table(df)\n",
    "missing_columns = list(missing_df[missing_df['% of Total Values'] >= 40].index)\n",
    "print('We will impute %d columns.' % len(missing_columns))"
   ]
  },
  {
   "cell_type": "code",
   "execution_count": 12,
   "metadata": {},
   "outputs": [],
   "source": [
    "# Repalce NA with None\n",
    "\n",
    "df[missing_columns] = df[missing_columns].fillna('None')"
   ]
  },
  {
   "cell_type": "markdown",
   "metadata": {},
   "source": [
    "Now, we will fill remaining missing values with the mode. "
   ]
  },
  {
   "cell_type": "code",
   "execution_count": 13,
   "metadata": {},
   "outputs": [],
   "source": [
    "# Imputation by mode\n",
    "\n",
    "df = df.fillna(df.mode().iloc[0])"
   ]
  },
  {
   "cell_type": "markdown",
   "metadata": {},
   "source": [
    "Let's check to see whether the null values were missing at random by comparing descriptive statistics before and after dropping the values. "
   ]
  },
  {
   "cell_type": "code",
   "execution_count": 14,
   "metadata": {},
   "outputs": [
    {
     "name": "stdout",
     "output_type": "stream",
     "text": [
      "Your selected dataframe has 81 columns.\n",
      "There are 0 columns that have missing values.\n"
     ]
    },
    {
     "data": {
      "text/html": [
       "<div>\n",
       "<style scoped>\n",
       "    .dataframe tbody tr th:only-of-type {\n",
       "        vertical-align: middle;\n",
       "    }\n",
       "\n",
       "    .dataframe tbody tr th {\n",
       "        vertical-align: top;\n",
       "    }\n",
       "\n",
       "    .dataframe thead th {\n",
       "        text-align: right;\n",
       "    }\n",
       "</style>\n",
       "<table border=\"1\" class=\"dataframe\">\n",
       "  <thead>\n",
       "    <tr style=\"text-align: right;\">\n",
       "      <th></th>\n",
       "      <th>Missing Values</th>\n",
       "      <th>% of Total Values</th>\n",
       "    </tr>\n",
       "  </thead>\n",
       "  <tbody>\n",
       "  </tbody>\n",
       "</table>\n",
       "</div>"
      ],
      "text/plain": [
       "Empty DataFrame\n",
       "Columns: [Missing Values, % of Total Values]\n",
       "Index: []"
      ]
     },
     "execution_count": 14,
     "metadata": {},
     "output_type": "execute_result"
    }
   ],
   "source": [
    "# Check to see remaining null values \n",
    "\n",
    "missing_values_table(df)"
   ]
  },
  {
   "cell_type": "markdown",
   "metadata": {},
   "source": [
    "## Exploring Data \n",
    "\n",
    "Now that we have \"cleaned\" the data, we can begin exploratory data analysis. EDA is an iterative process to explore the data and summarize characteristics by calculating statistics or visualize methods.  The purpose of EDA is gain an understanding of the data by identifying trends, anomalies, or relationships that might be helpful when making decisions in the modeling process. We can starts out with a high-level overview. If we find an interesting trend, then we can narrow in our focus.\n",
    "\n"
   ]
  },
  {
   "cell_type": "markdown",
   "metadata": {},
   "source": [
    "### Univariate Analysis \n",
    "\n",
    "We will begin EDA by exploring individual variables, particularly sale price since it is our target variable. "
   ]
  },
  {
   "cell_type": "code",
   "execution_count": 15,
   "metadata": {},
   "outputs": [
    {
     "data": {
      "text/plain": [
       "Text(0.5, 1.0, 'Sale Price')"
      ]
     },
     "execution_count": 15,
     "metadata": {},
     "output_type": "execute_result"
    },
    {
     "data": {
      "image/png": "[encoded data removed]",
      "text/plain": [
       "<Figure size 432x288 with 1 Axes>"
      ]
     },
     "metadata": {
      "needs_background": "light"
     },
     "output_type": "display_data"
    }
   ],
   "source": [
    "# Plot sale price \n",
    "\n",
    "sns.distplot(df.saleprice)\n",
    "plt.title('Sale Price')"
   ]
  },
  {
   "cell_type": "markdown",
   "metadata": {},
   "source": [
    "We can observe that the distribution of sale price is heavely skewed to the right. Let's look at some statistics for this feature. "
   ]
  },
  {
   "cell_type": "code",
   "execution_count": 16,
   "metadata": {},
   "outputs": [
    {
     "data": {
      "text/plain": [
       "count      1460.000000\n",
       "mean     180921.195890\n",
       "std       79442.502883\n",
       "min       34900.000000\n",
       "25%      129975.000000\n",
       "50%      163000.000000\n",
       "75%      214000.000000\n",
       "max      755000.000000\n",
       "Name: saleprice, dtype: float64"
      ]
     },
     "execution_count": 16,
     "metadata": {},
     "output_type": "execute_result"
    }
   ],
   "source": [
    "df['saleprice'].describe()\n"
   ]
  },
  {
   "cell_type": "code",
   "execution_count": 17,
   "metadata": {},
   "outputs": [
    {
     "name": "stdout",
     "output_type": "stream",
     "text": [
      "Skewness: 1.882876\n",
      "Kurtosis: 6.536282\n"
     ]
    }
   ],
   "source": [
    "print(\"Skewness: %f\" % df['saleprice'].skew())\n",
    "print(\"Kurtosis: %f\" % df['saleprice'].kurt())"
   ]
  },
  {
   "cell_type": "markdown",
   "metadata": {},
   "source": [
    "The statistics offers insight on the central tendencies of the distribution. The average house in Ames, Iowa sold for \\\\$180,921 while the median of the distribution is around \\\\$163,300. That there is also a large price gap between 75% of house prices being listed under \\\\$214,000 and the maximum value of \\\\$755,000. A __skewness__ of 1.88 confirms that sale price not normally distributed and is right skewed. A __kurtosis__ of 6.54 indicates a heavy tail distribution that is not symmetrical. We will transform the data to treat skewness later. \n",
    "\n",
    "Below are the returned rows for house prices that were more than \\\\$700,000. These data points will probably be extreme outliers in our dataset. For now, we will keep them aside, but may consider dropping them to increase our accuracy percentage when trying to improve our model's performance.\n",
    "\n"
   ]
  },
  {
   "cell_type": "code",
   "execution_count": 18,
   "metadata": {},
   "outputs": [
    {
     "data": {
      "text/html": [
       "<div>\n",
       "<style scoped>\n",
       "    .dataframe tbody tr th:only-of-type {\n",
       "        vertical-align: middle;\n",
       "    }\n",
       "\n",
       "    .dataframe tbody tr th {\n",
       "        vertical-align: top;\n",
       "    }\n",
       "\n",
       "    .dataframe thead th {\n",
       "        text-align: right;\n",
       "    }\n",
       "</style>\n",
       "<table border=\"1\" class=\"dataframe\">\n",
       "  <thead>\n",
       "    <tr style=\"text-align: right;\">\n",
       "      <th></th>\n",
       "      <th>id</th>\n",
       "      <th>mssubclass</th>\n",
       "      <th>mszoning</th>\n",
       "      <th>lotfrontage</th>\n",
       "      <th>lotarea</th>\n",
       "      <th>street</th>\n",
       "      <th>alley</th>\n",
       "      <th>lotshape</th>\n",
       "      <th>landcontour</th>\n",
       "      <th>utilities</th>\n",
       "      <th>...</th>\n",
       "      <th>poolarea</th>\n",
       "      <th>poolqc</th>\n",
       "      <th>fence</th>\n",
       "      <th>miscfeature</th>\n",
       "      <th>miscval</th>\n",
       "      <th>mosold</th>\n",
       "      <th>yrsold</th>\n",
       "      <th>saletype</th>\n",
       "      <th>salecondition</th>\n",
       "      <th>saleprice</th>\n",
       "    </tr>\n",
       "  </thead>\n",
       "  <tbody>\n",
       "    <tr>\n",
       "      <th>691</th>\n",
       "      <td>692</td>\n",
       "      <td>60</td>\n",
       "      <td>RL</td>\n",
       "      <td>104.0</td>\n",
       "      <td>21535</td>\n",
       "      <td>Pave</td>\n",
       "      <td>None</td>\n",
       "      <td>IR1</td>\n",
       "      <td>Lvl</td>\n",
       "      <td>AllPub</td>\n",
       "      <td>...</td>\n",
       "      <td>0</td>\n",
       "      <td>None</td>\n",
       "      <td>None</td>\n",
       "      <td>None</td>\n",
       "      <td>0</td>\n",
       "      <td>1</td>\n",
       "      <td>2007</td>\n",
       "      <td>WD</td>\n",
       "      <td>Normal</td>\n",
       "      <td>755000</td>\n",
       "    </tr>\n",
       "    <tr>\n",
       "      <th>1182</th>\n",
       "      <td>1183</td>\n",
       "      <td>60</td>\n",
       "      <td>RL</td>\n",
       "      <td>160.0</td>\n",
       "      <td>15623</td>\n",
       "      <td>Pave</td>\n",
       "      <td>None</td>\n",
       "      <td>IR1</td>\n",
       "      <td>Lvl</td>\n",
       "      <td>AllPub</td>\n",
       "      <td>...</td>\n",
       "      <td>555</td>\n",
       "      <td>Ex</td>\n",
       "      <td>MnPrv</td>\n",
       "      <td>None</td>\n",
       "      <td>0</td>\n",
       "      <td>7</td>\n",
       "      <td>2007</td>\n",
       "      <td>WD</td>\n",
       "      <td>Abnorml</td>\n",
       "      <td>745000</td>\n",
       "    </tr>\n",
       "  </tbody>\n",
       "</table>\n",
       "<p>2 rows × 81 columns</p>\n",
       "</div>"
      ],
      "text/plain": [
       "        id  mssubclass mszoning  lotfrontage  lotarea street alley lotshape  \\\n",
       "691    692          60       RL        104.0    21535   Pave  None      IR1   \n",
       "1182  1183          60       RL        160.0    15623   Pave  None      IR1   \n",
       "\n",
       "     landcontour utilities  ... poolarea poolqc  fence miscfeature miscval  \\\n",
       "691          Lvl    AllPub  ...        0   None   None        None       0   \n",
       "1182         Lvl    AllPub  ...      555     Ex  MnPrv        None       0   \n",
       "\n",
       "     mosold yrsold  saletype  salecondition saleprice  \n",
       "691       1   2007        WD         Normal    755000  \n",
       "1182      7   2007        WD        Abnorml    745000  \n",
       "\n",
       "[2 rows x 81 columns]"
      ]
     },
     "execution_count": 18,
     "metadata": {},
     "output_type": "execute_result"
    }
   ],
   "source": [
    "df.loc[df['saleprice']>=700000]"
   ]
  },
  {
   "cell_type": "markdown",
   "metadata": {},
   "source": [
    "### Removing Outliers\n",
    "\n",
    "Although outliers contain meaningful information, linear regression machine learning models are sensitive to extreme values so we will exclude extreme values. However, if we were to remove all outliers from the training set, our model will not perform well when handling outliers in the testing set. To reach a compromise, we will set the threshold at 3 standard deviations as it will allow us to retain 99% of the dataset. Then, we will replace the extreme values with the threshold since they are close in value."
   ]
  },
  {
   "cell_type": "code",
   "execution_count": 19,
   "metadata": {},
   "outputs": [],
   "source": [
    "# Function to detect extreme values and replace with threshold value\n",
    "\n",
    "def outlier_table(df):\n",
    "    for column in df.select_dtypes(['int64', 'float64']).columns:\n",
    "        if df[column].quantile(.9973)<df[column].max():\n",
    "            threshold = df[column].quantile(.9973)\n",
    "            df[column] = np.where(df[column] > threshold, int(round(threshold)),df[column])\n",
    "            if df[column].quantile(0)>df[column].min():\n",
    "                threshold = df[column].min()\n",
    "                df[column] = np.where(df[column] < threshold, int(round(threshold)),df[column])\n",
    "        \n",
    "        elif df[column].quantile(0)>df[column].min():\n",
    "            threshold = df[column].min()\n",
    "            df[column] = np.where(df[column] < threshold, int(round(threshold)),df[column])\n",
    "        else:\n",
    "            pass\n",
    "    return df\n",
    "            "
   ]
  },
  {
   "cell_type": "code",
   "execution_count": 20,
   "metadata": {},
   "outputs": [],
   "source": [
    "# Create df2 with extreme values removed \n",
    "df2 = df.copy()\n",
    "\n",
    "# remove sale price column \n",
    "df2 = df2.drop(['saleprice'],axis=1) \n",
    "df2 = outlier_table(df2)\n",
    "\n",
    "# adding sale price after removing outliers form other columns \n",
    "# we'll take the natural log of sale price later \n",
    "df2['saleprice'] = df['saleprice'] "
   ]
  },
  {
   "cell_type": "markdown",
   "metadata": {},
   "source": [
    "We'll the impact of removing extreme outliers when graphing the relationship between sale price and explanatory variables. "
   ]
  },
  {
   "cell_type": "markdown",
   "metadata": {},
   "source": [
    "### Multivariable Analysis\n",
    "\n",
    "As previously mentioned in the primary stage of loading the data, this dataset contains two types of features, numeric and categorical. \n",
    "\n",
    "__Numerical variables__ are data in numeric form such as integers and floats. Numeric values can be classified into discrete and continuous variables. Discrete numerical variables are whole number values such as the number of rooms in a house. Meanwhile continuous numerical variables may contain any value within some range like sale prices of houses. \n",
    "\n",
    "__Categorical variables__ are essentially small groups of categories. Categorical variables can be further categorized into ordinal and nominal variables. Ordinal categorical variables have meaningful order such as a scale of overall quality finish of a house. In contrast, nominal categorical variables purely assign data to groups without intrinsic ordering. We have variables of this type in our dataset such as sale condition, land contour, and zoning classification. \n",
    " "
   ]
  },
  {
   "cell_type": "code",
   "execution_count": 21,
   "metadata": {},
   "outputs": [
    {
     "data": {
      "text/plain": [
       "Index(['mssubclass', 'lotfrontage', 'lotarea', 'overallqual', 'overallcond',\n",
       "       'masvnrarea', 'bsmtfinsf1', 'bsmtfinsf2', 'bsmtunfsf', 'totalbsmtsf',\n",
       "       'firstflrsf', 'secondflrsf', 'lowqualfinsf', 'grlivarea',\n",
       "       'bsmtfullbath', 'bsmthalfbath', 'fullbath', 'halfbath', 'bedroomabvgr',\n",
       "       'kitchenabvgr', 'totrmsabvgrd', 'fireplaces', 'garagecars',\n",
       "       'garagearea', 'wooddecksf', 'openporchsf', 'enclosedporch',\n",
       "       'threessnporch', 'screenporch', 'poolarea', 'miscval', 'saleprice'],\n",
       "      dtype='object')"
      ]
     },
     "execution_count": 21,
     "metadata": {},
     "output_type": "execute_result"
    }
   ],
   "source": [
    "# Numeric variables \n",
    "\n",
    "df2.select_dtypes(['int64', 'float64']).columns"
   ]
  },
  {
   "cell_type": "code",
   "execution_count": 22,
   "metadata": {},
   "outputs": [
    {
     "data": {
      "text/plain": [
       "Index(['id', 'mszoning', 'street', 'alley', 'lotshape', 'landcontour',\n",
       "       'utilities', 'lotconfig', 'landslope', 'neighborhood', 'condition1',\n",
       "       'condition2', 'bldgtype', 'housestyle', 'yearbuilt', 'yearremodadd',\n",
       "       'roofstyle', 'roofmatl', 'exterior1st', 'exterior2nd', 'masvnrtype',\n",
       "       'exterqual', 'extercond', 'foundation', 'bsmtqual', 'bsmtcond',\n",
       "       'bsmtexposure', 'bsmtfintype1', 'bsmtfintype2', 'heating', 'heatingqc',\n",
       "       'centralair', 'electrical', 'kitchenqual', 'functional', 'fireplacequ',\n",
       "       'garagetype', 'garageyrblt', 'garagefinish', 'garagequal', 'garagecond',\n",
       "       'paveddrive', 'poolqc', 'fence', 'miscfeature', 'mosold', 'yrsold',\n",
       "       'saletype', 'salecondition'],\n",
       "      dtype='object')"
      ]
     },
     "execution_count": 22,
     "metadata": {},
     "output_type": "execute_result"
    }
   ],
   "source": [
    "# Categorical variables \n",
    "\n",
    "df2.select_dtypes(['object']).columns"
   ]
  },
  {
   "cell_type": "markdown",
   "metadata": {},
   "source": [
    "### Looking for Relationships\n",
    "\n",
    "To determine which explanatory variables we might select for our prediction model, we will explore the correlation between sale price and other variables. __Correlation__ refers to a mutal association between variables. Variables that have a strong correlation, whether it being positive or negative, will affect the target variable. \n",
    "\n"
   ]
  },
  {
   "cell_type": "markdown",
   "metadata": {},
   "source": [
    "#### Numeric Variables\n",
    "\n",
    "First, we'll take a look at the correlation between sale price and numeric variables."
   ]
  },
  {
   "cell_type": "code",
   "execution_count": 23,
   "metadata": {},
   "outputs": [
    {
     "name": "stdout",
     "output_type": "stream",
     "text": [
      "saleprice        1.000000\n",
      "overallqual      0.790982\n",
      "grlivarea        0.718394\n",
      "garagecars       0.640409\n",
      "totalbsmtsf      0.640195\n",
      "garagearea       0.627388\n",
      "firstflrsf       0.624533\n",
      "fullbath         0.560664\n",
      "totrmsabvgrd     0.535324\n",
      "masvnrarea       0.474059\n",
      "fireplaces       0.466929\n",
      "bsmtfinsf1       0.402366\n",
      "lotfrontage      0.351627\n",
      "lotarea          0.342989\n",
      "wooddecksf       0.324950\n",
      "openporchsf      0.322656\n",
      "secondflrsf      0.311295\n",
      "halfbath         0.284108\n",
      "bsmtfullbath     0.228364\n",
      "bsmtunfsf        0.213071\n",
      "bedroomabvgr     0.169257\n",
      "screenporch      0.110348\n",
      "poolarea         0.095084\n",
      "threessnporch    0.050006\n",
      "bsmtfinsf2      -0.014274\n",
      "bsmthalfbath    -0.015957\n",
      "lowqualfinsf    -0.028883\n",
      "miscval         -0.034383\n",
      "overallcond     -0.077856\n",
      "mssubclass      -0.084284\n",
      "enclosedporch   -0.135038\n",
      "kitchenabvgr    -0.136018\n",
      "Name: saleprice, dtype: float64 \n",
      "\n"
     ]
    }
   ],
   "source": [
    "# Correlation between sale price and numeric variables \n",
    "\n",
    "corrmat = df2.corr()\n",
    "print(corrmat['saleprice'].sort_values(ascending = False),'\\n')"
   ]
  },
  {
   "cell_type": "markdown",
   "metadata": {},
   "source": [
    "The most correlated variables to sale price:\n",
    " - overallqual: overall material and finish quality\n",
    " - grlivarea: above grade (ground) living area square feet\n",
    " - garagecars: size of garage in car capacity\n",
    " - garagearea: size of garage in square feet\n",
    " - totalbsmtsf: total square feet of basement area\n",
    " - firstflrsf: first floor square feet\n",
    " - fullbath: full bathrooms above grade \n",
    " - totrmsabvgrd: total rooms above grade (does not include bathrooms)\n",
    "\n",
    "These results make sense since buyers would be interested in knowing the general living space, quality of the house, and garage capacity.  \n",
    "\n",
    "Let's see how each variable relates to sale price."
   ]
  },
  {
   "cell_type": "code",
   "execution_count": 24,
   "metadata": {},
   "outputs": [
    {
     "data": {
      "text/plain": [
       "Text(0.5, 1.0, 'Sale Price vs. Overall Quality without outliers')"
      ]
     },
     "execution_count": 24,
     "metadata": {},
     "output_type": "execute_result"
    },
    {
     "data": {
      "image/png": "[encoded data removed]",
      "text/plain": [
       "<Figure size 1296x432 with 2 Axes>"
      ]
     },
     "metadata": {
      "needs_background": "light"
     },
     "output_type": "display_data"
    }
   ],
   "source": [
    "plt.figure(figsize=(18,6))\n",
    "\n",
    "plt.subplot(1,2,1)\n",
    "sns.boxplot(x='overallqual', y=\"saleprice\", data=df)\n",
    "plt.title('Sale Price vs. Overall Quality')\n",
    "\n",
    "plt.subplot(1,2,2)\n",
    "sns.boxplot(x='overallqual', y=\"saleprice\", data=df2)\n",
    "plt.title('Sale Price vs. Overall Quality without outliers')"
   ]
  },
  {
   "cell_type": "markdown",
   "metadata": {},
   "source": [
    "As one would expect, there is a positive association between overall quality and sale price. As the quality of an item increases, the price will follow in the same direction. We can also see that some extreme values beyond the upper quartile in overall quality score of 10 were removed. "
   ]
  },
  {
   "cell_type": "code",
   "execution_count": 25,
   "metadata": {},
   "outputs": [
    {
     "data": {
      "text/plain": [
       "Text(0.5, 1.0, 'Sale Price vs. Above Grade Living Area (SF) without outliers')"
      ]
     },
     "execution_count": 25,
     "metadata": {},
     "output_type": "execute_result"
    },
    {
     "data": {
      "image/png": "[encoded data removed]",
      "text/plain": [
       "<Figure size 1296x432 with 2 Axes>"
      ]
     },
     "metadata": {
      "needs_background": "light"
     },
     "output_type": "display_data"
    }
   ],
   "source": [
    "plt.figure(figsize=(18,6))\n",
    "\n",
    "plt.subplot(1,2,1)\n",
    "sns.regplot(x=\"grlivarea\", y=\"saleprice\", data=df)\n",
    "plt.title('Sale Price vs. Above Grade Living Area (SF)')\n",
    "\n",
    "plt.subplot(1,2,2)\n",
    "sns.regplot(x=\"grlivarea\", y=\"saleprice\", data=df2)\n",
    "plt.title('Sale Price vs. Above Grade Living Area (SF) without outliers')"
   ]
  },
  {
   "cell_type": "markdown",
   "metadata": {},
   "source": [
    "This plot implies that is a positive correlation between the increase of above grade living area and sale price. This is plausible since larger houses will cost more. In the original dataset on the left, there two data points in the lower right corner that appears to be outliers. Houses with living areas more than 4,000 square feet should cost more than houses with smaller living areas. These datapoints were imputed in the right plot. "
   ]
  },
  {
   "cell_type": "code",
   "execution_count": 26,
   "metadata": {},
   "outputs": [
    {
     "data": {
      "text/plain": [
       "Text(0.5, 1.0, 'Sale Price vs. Garage Cars without outliers')"
      ]
     },
     "execution_count": 26,
     "metadata": {},
     "output_type": "execute_result"
    },
    {
     "data": {
      "image/png": "[encoded data removed]",
      "text/plain": [
       "<Figure size 1296x432 with 2 Axes>"
      ]
     },
     "metadata": {
      "needs_background": "light"
     },
     "output_type": "display_data"
    }
   ],
   "source": [
    "plt.figure(figsize=(18,6))\n",
    "\n",
    "plt.subplot(1,2,1)\n",
    "sns.boxplot(x='garagecars', y=\"saleprice\", data=df)\n",
    "plt.title('Sale Price vs. Garage Cars')\n",
    "\n",
    "plt.subplot(1,2,2)\n",
    "sns.boxplot(x='garagecars', y=\"saleprice\", data=df2)\n",
    "plt.title('Sale Price vs. Garage Cars without outliers')"
   ]
  },
  {
   "cell_type": "markdown",
   "metadata": {},
   "source": [
    "There appears to be a price increase from zero to three garage cars and then the price suddenly drops at four garage cars. This seems a bit suspicious, but our outlier function didn't dectect those data points as extreme values so we'll leave it at that. "
   ]
  },
  {
   "cell_type": "code",
   "execution_count": 27,
   "metadata": {},
   "outputs": [
    {
     "data": {
      "text/plain": [
       "Text(0.5, 1.0, 'Sale Price vs. Garage Area without outliers')"
      ]
     },
     "execution_count": 27,
     "metadata": {},
     "output_type": "execute_result"
    },
    {
     "data": {
      "image/png": "[encoded data removed]",
      "text/plain": [
       "<Figure size 1296x432 with 2 Axes>"
      ]
     },
     "metadata": {
      "needs_background": "light"
     },
     "output_type": "display_data"
    }
   ],
   "source": [
    "plt.figure(figsize=(18,6))\n",
    "\n",
    "plt.subplot(1,2,1)\n",
    "sns.regplot(x=\"totalbsmtsf\", y=\"saleprice\", data=df)\n",
    "plt.title('Sale Price vs. Garage Area')\n",
    "\n",
    "plt.subplot(1,2,2)\n",
    "sns.regplot(x=\"totalbsmtsf\", y=\"saleprice\", data=df2)\n",
    "plt.title('Sale Price vs. Garage Area without outliers')"
   ]
  },
  {
   "cell_type": "markdown",
   "metadata": {},
   "source": [
    "Similar to above grade living area, we also see a data points at the lower right corner of this plot. As garage area increase, the price should also increase. The second plot did treat that datapoint. The confidence level on the right plot also greatly reduced from the left plot noting that the extreme value did have a large effect on the data."
   ]
  },
  {
   "cell_type": "code",
   "execution_count": 28,
   "metadata": {},
   "outputs": [
    {
     "data": {
      "text/plain": [
       "Text(0.5, 1.0, 'Sale Price vs. Total square feet of Basement area without outliers')"
      ]
     },
     "execution_count": 28,
     "metadata": {},
     "output_type": "execute_result"
    },
    {
     "data": {
      "image/png": "[encoded data removed]",
      "text/plain": [
       "<Figure size 1296x432 with 2 Axes>"
      ]
     },
     "metadata": {
      "needs_background": "light"
     },
     "output_type": "display_data"
    }
   ],
   "source": [
    "plt.figure(figsize=(18,6))\n",
    "\n",
    "plt.subplot(1,2,1)\n",
    "sns.regplot(x=\"garagearea\", y=\"saleprice\", data=df)\n",
    "plt.title('Sale Price vs. Total square feet of Basement area')\n",
    "\n",
    "plt.subplot(1,2,2)\n",
    "sns.regplot(x=\"garagearea\", y=\"saleprice\", data=df2)\n",
    "plt.title('Sale Price vs. Total square feet of Basement area without outliers')"
   ]
  },
  {
   "cell_type": "markdown",
   "metadata": {},
   "source": [
    "Again, there a couple of datapoints on the lower right corner that appear to be extreme values. A house with a garage areas more than 1,200 square feet should cost more than \\\\$100,000."
   ]
  },
  {
   "cell_type": "code",
   "execution_count": 29,
   "metadata": {},
   "outputs": [
    {
     "data": {
      "text/plain": [
       "Text(0.5, 1.0, 'Sale Price vs. First Floor Area (SF) without outliers')"
      ]
     },
     "execution_count": 29,
     "metadata": {},
     "output_type": "execute_result"
    },
    {
     "data": {
      "image/png": "[encoded data removed]",
      "text/plain": [
       "<Figure size 1296x432 with 2 Axes>"
      ]
     },
     "metadata": {
      "needs_background": "light"
     },
     "output_type": "display_data"
    }
   ],
   "source": [
    "plt.figure(figsize=(18,6))\n",
    "\n",
    "plt.subplot(1,2,1)\n",
    "sns.regplot(x=\"firstflrsf\", y=\"saleprice\", data=df)\n",
    "plt.title('Sale Price vs. First Floor Area (SF)')\n",
    "\n",
    "plt.subplot(1,2,2)\n",
    "sns.regplot(x=\"firstflrsf\", y=\"saleprice\", data=df2)\n",
    "plt.title('Sale Price vs. First Floor Area (SF) without outliers')"
   ]
  },
  {
   "cell_type": "markdown",
   "metadata": {},
   "source": [
    "Here, we can see two extreme values on the lower right corner and middle top area of the left plot. These values caused the confidence interval to increase as we across the x-axis. Redistributing these values in the right plot lowered the confidence interval. "
   ]
  },
  {
   "cell_type": "code",
   "execution_count": 30,
   "metadata": {},
   "outputs": [
    {
     "data": {
      "text/plain": [
       "Text(0.5, 1.0, 'Sale Price vs. Full Bathrooms without outliers')"
      ]
     },
     "execution_count": 30,
     "metadata": {},
     "output_type": "execute_result"
    },
    {
     "data": {
      "image/png": "[encoded data removed]",
      "text/plain": [
       "<Figure size 1296x432 with 2 Axes>"
      ]
     },
     "metadata": {
      "needs_background": "light"
     },
     "output_type": "display_data"
    }
   ],
   "source": [
    "plt.figure(figsize=(18,6))\n",
    "\n",
    "plt.subplot(1,2,1)\n",
    "sns.boxplot(x='fullbath', y=\"saleprice\", data=df)\n",
    "plt.title('Sale Price vs. Full Bathrooms')\n",
    "\n",
    "plt.subplot(1,2,2)\n",
    "sns.boxplot(x='fullbath', y=\"saleprice\", data=df2)\n",
    "plt.title('Sale Price vs. Full Bathrooms without outliers')"
   ]
  },
  {
   "cell_type": "markdown",
   "metadata": {},
   "source": [
    "The average price of a house with zero full bathrooms is higher than a house with one full bathroom. This maybe due to missing data for full baths. "
   ]
  },
  {
   "cell_type": "code",
   "execution_count": 31,
   "metadata": {},
   "outputs": [
    {
     "data": {
      "text/plain": [
       "Text(0.5, 1.0, 'Sale Price vs. Total Rooms above grade without outliers')"
      ]
     },
     "execution_count": 31,
     "metadata": {},
     "output_type": "execute_result"
    },
    {
     "data": {
      "image/png": "[encoded data removed]",
      "text/plain": [
       "<Figure size 1296x432 with 2 Axes>"
      ]
     },
     "metadata": {
      "needs_background": "light"
     },
     "output_type": "display_data"
    }
   ],
   "source": [
    "plt.figure(figsize=(18,6))\n",
    "\n",
    "plt.subplot(1,2,1)\n",
    "sns.boxplot(x='totrmsabvgrd', y=\"saleprice\", data=df)\n",
    "plt.title('Sale Price vs.  Total Rooms above grade')\n",
    "\n",
    "plt.subplot(1,2,2)\n",
    "sns.boxplot(x='totrmsabvgrd', y=\"saleprice\", data=df2)\n",
    "plt.title('Sale Price vs. Total Rooms above grade without outliers')"
   ]
  },
  {
   "cell_type": "markdown",
   "metadata": {},
   "source": [
    "As one would assume, the plots describe a positive association between sale price and the total numbers of rooms above ground. Due to the size, houses with more rooms will probably cost more."
   ]
  },
  {
   "cell_type": "markdown",
   "metadata": {},
   "source": [
    "#### Categorical Variables \n",
    "\n",
    "Finally, we'll be looking at the effects of categorical variables on sale price. We can visualize this interaction by making bar plots. \n",
    "\n",
    "Neighborhoods and age of the homes are important factors that house buyers look for. "
   ]
  },
  {
   "cell_type": "code",
   "execution_count": 32,
   "metadata": {},
   "outputs": [
    {
     "data": {
      "text/plain": [
       "<matplotlib.axes._subplots.AxesSubplot at 0x12d0abd30>"
      ]
     },
     "execution_count": 32,
     "metadata": {},
     "output_type": "execute_result"
    },
    {
     "data": {
      "image/png": "[encoded data removed]",
      "text/plain": [
       "<Figure size 432x288 with 1 Axes>"
      ]
     },
     "metadata": {
      "needs_background": "light"
     },
     "output_type": "display_data"
    }
   ],
   "source": [
    "# Failed at trying to sort by sale price\n",
    "neighborhood = df2.copy()\n",
    "#neighborhood = neighborhood.groupby('neighborhood')\n",
    "#neighborhood.apply(lambda x: x.sort_values(by=['saleprice']))\n",
    "sns.barplot(data=neighborhood, x='saleprice', y='neighborhood')"
   ]
  },
  {
   "cell_type": "markdown",
   "metadata": {},
   "source": [
    "One would expect houses in ares that are highly rated for in safety, near good schools or close to employment opportunties to be in the higher price range. Homes in Northridge, Northpark Villa, and Stone Brook neighborhoods tend to have three or more bedrooms for a family environment, which would probably cause them to be priced high. "
   ]
  },
  {
   "cell_type": "markdown",
   "metadata": {},
   "source": [
    "Before plotting year built, we will create house age groups. "
   ]
  },
  {
   "cell_type": "code",
   "execution_count": 33,
   "metadata": {},
   "outputs": [],
   "source": [
    "# Create new house age groups \n",
    "\n",
    "df2['yearremodadd'] = pd.to_numeric(df['yearremodadd'])\n",
    "df2['saleprice'] = pd.to_numeric(df['saleprice'])\n",
    "\n",
    "df2['houseage'] = pd.cut(df2['yearremodadd'],6,labels=['50+','40-50', '30-40','20-30',\n",
    "                                                      '10-20','<10'])"
   ]
  },
  {
   "cell_type": "code",
   "execution_count": 34,
   "metadata": {},
   "outputs": [
    {
     "data": {
      "text/plain": [
       "Text(0.5, 1.0, 'Sale Price vs. House Remodel/Age')"
      ]
     },
     "execution_count": 34,
     "metadata": {},
     "output_type": "execute_result"
    },
    {
     "data": {
      "image/png": "[encoded data removed]",
      "text/plain": [
       "<Figure size 432x288 with 1 Axes>"
      ]
     },
     "metadata": {
      "needs_background": "light"
     },
     "output_type": "display_data"
    }
   ],
   "source": [
    "sns.barplot(data = df2, y='houseage',x='saleprice')\n",
    "plt.title('Sale Price vs. House Remodel/Age')"
   ]
  },
  {
   "cell_type": "markdown",
   "metadata": {},
   "source": [
    "As one would assume, newer houses that have been renovated will be higher priced. "
   ]
  },
  {
   "cell_type": "markdown",
   "metadata": {},
   "source": [
    "## Feature Engineering and Selection\n",
    "\n",
    "Since we have identified trends and relationship within the dataset, we will out findings to select a set of features for our model. We have learned which numeric values are correlated to sale price. We also have seen the distribution relationship between the sale price and two categorical variables, neighborhoods and year remodeled. \n",
    "\n",
    "Before continuing, let's define what feature engineering and selection is. __Feature engineering__ is the process of taking raw data and creating a new feature for the model to map between features and the target. This may involve transforming variables, such as taking the log or one-hot encoding categorical variables. Meanwhile __feature selection__ can be viewed as choosing the most relevant features to the target variable. This could be selecting the highest correlated to target or features with the most variance. Often, these two processes will overlap. \n",
    "\n",
    "For this assignment, we will take the following steps for feature engineering:\n",
    " * select a few numerical variables and two categorical variables\n",
    " * log transformation of sale price\n",
    " * one-hot encode for categorical variables\n",
    " * creating new variables \n",
    " \n",
    "We wil do the following for feature selection:\n",
    " * remove collinear features "
   ]
  },
  {
   "cell_type": "markdown",
   "metadata": {},
   "source": [
    "#### Feature 1: Numeric values \n",
    "\n",
    "These are the features that are most correlated to sale price. We will use a heatmap to check for highly __collinear__ features. Collinerity occurs when two or more explanatory variables are highly correlated. This becomes problematic for modeling to estimate the relationship between each explanatory variable and the target variable. "
   ]
  },
  {
   "cell_type": "code",
   "execution_count": 35,
   "metadata": {},
   "outputs": [],
   "source": [
    "# Most correlated features \n",
    "\n",
    "most_corr = df2.loc[:,['overallqual','grlivarea','garagecars','garagearea','totalbsmtsf',\n",
    "                    'firstflrsf','fullbath','totrmsabvgrd','saleprice']]\n"
   ]
  },
  {
   "cell_type": "code",
   "execution_count": 36,
   "metadata": {},
   "outputs": [
    {
     "data": {
      "text/plain": [
       "<matplotlib.axes._subplots.AxesSubplot at 0x12d50fb70>"
      ]
     },
     "execution_count": 36,
     "metadata": {},
     "output_type": "execute_result"
    },
    {
     "data": {
      "image/png": "[encoded data removed]",
      "text/plain": [
       "<Figure size 432x288 with 2 Axes>"
      ]
     },
     "metadata": {
      "needs_background": "light"
     },
     "output_type": "display_data"
    }
   ],
   "source": [
    "# Heatmap of most correlated variables \n",
    "\n",
    "corrmat = most_corr.corr()\n",
    "sns.heatmap(corrmat)"
   ]
  },
  {
   "cell_type": "markdown",
   "metadata": {},
   "source": [
    "The variables look relatively independent to each other. We can look at these variables after discovering their coefficent significance when running OLS model."
   ]
  },
  {
   "cell_type": "markdown",
   "metadata": {},
   "source": [
    "#### Feature 2: Dummy Variables \n",
    "We will be introducing the following categorical variables to the model: neighborhood and year remodel added."
   ]
  },
  {
   "cell_type": "code",
   "execution_count": 37,
   "metadata": {},
   "outputs": [],
   "source": [
    "df2 = pd.concat([df2,pd.get_dummies(df2.neighborhood, prefix=\"neighborhood\", drop_first=True)], axis=1)\n",
    "df2 = pd.concat([df2,pd.get_dummies(df2.houseage, prefix=\"houseage\", drop_first=True)], axis=1)\n",
    "\n",
    "\n",
    "dummy_column_names = list(pd.get_dummies(df2.neighborhood, prefix=\"neighborhood\", drop_first=True).columns)\n",
    "dummy_column_names = dummy_column_names + list(pd.get_dummies(df2.houseage, prefix=\"houseage\", drop_first=True).columns)"
   ]
  },
  {
   "cell_type": "markdown",
   "metadata": {},
   "source": [
    "#### Feature 3: Log transformation \n",
    "\n",
    "To increase the fit of our model, we will perform log transformation on sale price since it is highly skewed to the right. "
   ]
  },
  {
   "cell_type": "code",
   "execution_count": 38,
   "metadata": {},
   "outputs": [],
   "source": [
    "df2['saleprice_log'] = np.log1p(df2['saleprice'])"
   ]
  },
  {
   "cell_type": "markdown",
   "metadata": {},
   "source": [
    "#### Feature 4: New variables \n",
    "\n",
    "We'll also introduce a new variable by combining total basement area, first, and second floor area as total square feet. Lastly, we will add the interaction between total square feet and overall quality of the house."
   ]
  },
  {
   "cell_type": "code",
   "execution_count": 39,
   "metadata": {},
   "outputs": [],
   "source": [
    "# Create new variables \n",
    "df2['totalsf'] = df2['totalbsmtsf'] + df2['firstflrsf'] + df2['secondflrsf']\n",
    "\n",
    "df2['int_over_sf'] = df2['totalsf'] * df2['overallqual']"
   ]
  },
  {
   "cell_type": "markdown",
   "metadata": {},
   "source": [
    "## Evaluating coefficents \n",
    "\n",
    "We will determine whether the features we selected are good for the model by testing it on a linear regression model. If the  p-value for a coefficent is less than 0.05, this indicates that the coefficent is not statistically significant and we should consider removing it. \n",
    "\n",
    "Then, we will exmaine the __R-squared__ and __adjusted R-squared__ to see how explantory variables perform in each model. R-squared is a statistical measure of how close the data are to the fitted regression line. It is the percentage of the target variation that is explained by a linear model. A zero percentage indicates that the model explains none of the variability of the response data around its mean. In general, the higher the R-squared, the better the model fits the data.\n",
    "\n",
    "We will also look at the __Akaike Information Criterion (AIC)__ and __Bayesian Information Criterion (BIC)__ when deciding which model performs the best. AIC estimates the relative amount of information lost by a given model: the less information a model loses, the higher the quality of that model. Both BIC and AIC attempt to resolve the problem of overfitting by introducing a penalty term for the number of parameters in the model; the penalty term is larger in BIC than in AIC. For both AIC and BIC, the lower the value the better. Hence, we choose the model with the lowest AIC or BIC value."
   ]
  },
  {
   "cell_type": "code",
   "execution_count": 40,
   "metadata": {},
   "outputs": [
    {
     "data": {
      "text/html": [
       "<table class=\"simpletable\">\n",
       "<caption>OLS Regression Results</caption>\n",
       "<tr>\n",
       "  <th>Dep. Variable:</th>      <td>saleprice_log</td>  <th>  R-squared:         </th> <td>   0.866</td>\n",
       "</tr>\n",
       "<tr>\n",
       "  <th>Model:</th>                   <td>OLS</td>       <th>  Adj. R-squared:    </th> <td>   0.863</td>\n",
       "</tr>\n",
       "<tr>\n",
       "  <th>Method:</th>             <td>Least Squares</td>  <th>  F-statistic:       </th> <td>   236.0</td>\n",
       "</tr>\n",
       "<tr>\n",
       "  <th>Date:</th>             <td>Thu, 15 Aug 2019</td> <th>  Prob (F-statistic):</th>  <td>  0.00</td> \n",
       "</tr>\n",
       "<tr>\n",
       "  <th>Time:</th>                 <td>20:55:50</td>     <th>  Log-Likelihood:    </th> <td>  737.62</td>\n",
       "</tr>\n",
       "<tr>\n",
       "  <th>No. Observations:</th>      <td>  1460</td>      <th>  AIC:               </th> <td>  -1395.</td>\n",
       "</tr>\n",
       "<tr>\n",
       "  <th>Df Residuals:</th>          <td>  1420</td>      <th>  BIC:               </th> <td>  -1184.</td>\n",
       "</tr>\n",
       "<tr>\n",
       "  <th>Df Model:</th>              <td>    39</td>      <th>                     </th>     <td> </td>   \n",
       "</tr>\n",
       "<tr>\n",
       "  <th>Covariance Type:</th>      <td>nonrobust</td>    <th>                     </th>     <td> </td>   \n",
       "</tr>\n",
       "</table>\n",
       "<table class=\"simpletable\">\n",
       "<tr>\n",
       "            <td></td>              <th>coef</th>     <th>std err</th>      <th>t</th>      <th>P>|t|</th>  <th>[0.025</th>    <th>0.975]</th>  \n",
       "</tr>\n",
       "<tr>\n",
       "  <th>const</th>                <td>   10.6276</td> <td>    0.071</td> <td>  149.096</td> <td> 0.000</td> <td>   10.488</td> <td>   10.767</td>\n",
       "</tr>\n",
       "<tr>\n",
       "  <th>overallqual</th>          <td>    0.1058</td> <td>    0.009</td> <td>   11.488</td> <td> 0.000</td> <td>    0.088</td> <td>    0.124</td>\n",
       "</tr>\n",
       "<tr>\n",
       "  <th>grlivarea</th>            <td>    0.0001</td> <td> 7.51e-05</td> <td>    1.971</td> <td> 0.049</td> <td> 6.83e-07</td> <td>    0.000</td>\n",
       "</tr>\n",
       "<tr>\n",
       "  <th>garagecars</th>           <td>    0.0398</td> <td>    0.013</td> <td>    3.173</td> <td> 0.002</td> <td>    0.015</td> <td>    0.064</td>\n",
       "</tr>\n",
       "<tr>\n",
       "  <th>garagearea</th>           <td>    0.0001</td> <td> 4.29e-05</td> <td>    3.154</td> <td> 0.002</td> <td> 5.11e-05</td> <td>    0.000</td>\n",
       "</tr>\n",
       "<tr>\n",
       "  <th>totalbsmtsf</th>          <td> 2.444e-05</td> <td> 7.68e-05</td> <td>    0.318</td> <td> 0.750</td> <td>   -0.000</td> <td>    0.000</td>\n",
       "</tr>\n",
       "<tr>\n",
       "  <th>firstflrsf</th>           <td> 1.666e-05</td> <td> 2.08e-05</td> <td>    0.801</td> <td> 0.423</td> <td>-2.41e-05</td> <td> 5.75e-05</td>\n",
       "</tr>\n",
       "<tr>\n",
       "  <th>fullbath</th>             <td>   -0.0161</td> <td>    0.011</td> <td>   -1.471</td> <td> 0.142</td> <td>   -0.038</td> <td>    0.005</td>\n",
       "</tr>\n",
       "<tr>\n",
       "  <th>totrmsabvgrd</th>         <td>   -0.0051</td> <td>    0.005</td> <td>   -1.100</td> <td> 0.272</td> <td>   -0.014</td> <td>    0.004</td>\n",
       "</tr>\n",
       "<tr>\n",
       "  <th>totalsf</th>              <td>    0.0002</td> <td> 7.92e-05</td> <td>    2.191</td> <td> 0.029</td> <td> 1.82e-05</td> <td>    0.000</td>\n",
       "</tr>\n",
       "<tr>\n",
       "  <th>int_over_sf</th>          <td> -9.75e-06</td> <td>    3e-06</td> <td>   -3.252</td> <td> 0.001</td> <td>-1.56e-05</td> <td>-3.87e-06</td>\n",
       "</tr>\n",
       "<tr>\n",
       "  <th>neighborhood_Blueste</th> <td>   -0.0459</td> <td>    0.113</td> <td>   -0.408</td> <td> 0.683</td> <td>   -0.267</td> <td>    0.175</td>\n",
       "</tr>\n",
       "<tr>\n",
       "  <th>neighborhood_BrDale</th>  <td>   -0.1727</td> <td>    0.055</td> <td>   -3.137</td> <td> 0.002</td> <td>   -0.281</td> <td>   -0.065</td>\n",
       "</tr>\n",
       "<tr>\n",
       "  <th>neighborhood_BrkSide</th> <td>   -0.0204</td> <td>    0.044</td> <td>   -0.466</td> <td> 0.641</td> <td>   -0.106</td> <td>    0.065</td>\n",
       "</tr>\n",
       "<tr>\n",
       "  <th>neighborhood_ClearCr</th> <td>    0.1737</td> <td>    0.047</td> <td>    3.658</td> <td> 0.000</td> <td>    0.081</td> <td>    0.267</td>\n",
       "</tr>\n",
       "<tr>\n",
       "  <th>neighborhood_CollgCr</th> <td>    0.0722</td> <td>    0.039</td> <td>    1.856</td> <td> 0.064</td> <td>   -0.004</td> <td>    0.148</td>\n",
       "</tr>\n",
       "<tr>\n",
       "  <th>neighborhood_Crawfor</th> <td>    0.1615</td> <td>    0.043</td> <td>    3.727</td> <td> 0.000</td> <td>    0.077</td> <td>    0.247</td>\n",
       "</tr>\n",
       "<tr>\n",
       "  <th>neighborhood_Edwards</th> <td>   -0.0440</td> <td>    0.041</td> <td>   -1.061</td> <td> 0.289</td> <td>   -0.125</td> <td>    0.037</td>\n",
       "</tr>\n",
       "<tr>\n",
       "  <th>neighborhood_Gilbert</th> <td>    0.0874</td> <td>    0.041</td> <td>    2.137</td> <td> 0.033</td> <td>    0.007</td> <td>    0.168</td>\n",
       "</tr>\n",
       "<tr>\n",
       "  <th>neighborhood_IDOTRR</th>  <td>   -0.1909</td> <td>    0.047</td> <td>   -4.063</td> <td> 0.000</td> <td>   -0.283</td> <td>   -0.099</td>\n",
       "</tr>\n",
       "<tr>\n",
       "  <th>neighborhood_MeadowV</th> <td>   -0.1202</td> <td>    0.055</td> <td>   -2.193</td> <td> 0.029</td> <td>   -0.228</td> <td>   -0.013</td>\n",
       "</tr>\n",
       "<tr>\n",
       "  <th>neighborhood_Mitchel</th> <td>    0.0282</td> <td>    0.043</td> <td>    0.649</td> <td> 0.516</td> <td>   -0.057</td> <td>    0.113</td>\n",
       "</tr>\n",
       "<tr>\n",
       "  <th>neighborhood_NAmes</th>   <td>    0.0368</td> <td>    0.040</td> <td>    0.922</td> <td> 0.357</td> <td>   -0.041</td> <td>    0.115</td>\n",
       "</tr>\n",
       "<tr>\n",
       "  <th>neighborhood_NPkVill</th> <td>   -0.0033</td> <td>    0.064</td> <td>   -0.051</td> <td> 0.959</td> <td>   -0.128</td> <td>    0.122</td>\n",
       "</tr>\n",
       "<tr>\n",
       "  <th>neighborhood_NWAmes</th>  <td>    0.0475</td> <td>    0.042</td> <td>    1.132</td> <td> 0.258</td> <td>   -0.035</td> <td>    0.130</td>\n",
       "</tr>\n",
       "<tr>\n",
       "  <th>neighborhood_NoRidge</th> <td>    0.1656</td> <td>    0.046</td> <td>    3.566</td> <td> 0.000</td> <td>    0.075</td> <td>    0.257</td>\n",
       "</tr>\n",
       "<tr>\n",
       "  <th>neighborhood_NridgHt</th> <td>    0.1804</td> <td>    0.041</td> <td>    4.406</td> <td> 0.000</td> <td>    0.100</td> <td>    0.261</td>\n",
       "</tr>\n",
       "<tr>\n",
       "  <th>neighborhood_OldTown</th> <td>   -0.1340</td> <td>    0.041</td> <td>   -3.253</td> <td> 0.001</td> <td>   -0.215</td> <td>   -0.053</td>\n",
       "</tr>\n",
       "<tr>\n",
       "  <th>neighborhood_SWISU</th>   <td>   -0.0327</td> <td>    0.050</td> <td>   -0.653</td> <td> 0.514</td> <td>   -0.131</td> <td>    0.066</td>\n",
       "</tr>\n",
       "<tr>\n",
       "  <th>neighborhood_Sawyer</th>  <td>    0.0234</td> <td>    0.043</td> <td>    0.551</td> <td> 0.581</td> <td>   -0.060</td> <td>    0.107</td>\n",
       "</tr>\n",
       "<tr>\n",
       "  <th>neighborhood_SawyerW</th> <td>    0.0439</td> <td>    0.042</td> <td>    1.041</td> <td> 0.298</td> <td>   -0.039</td> <td>    0.127</td>\n",
       "</tr>\n",
       "<tr>\n",
       "  <th>neighborhood_Somerst</th> <td>    0.0947</td> <td>    0.040</td> <td>    2.347</td> <td> 0.019</td> <td>    0.016</td> <td>    0.174</td>\n",
       "</tr>\n",
       "<tr>\n",
       "  <th>neighborhood_StoneBr</th> <td>    0.2071</td> <td>    0.048</td> <td>    4.341</td> <td> 0.000</td> <td>    0.114</td> <td>    0.301</td>\n",
       "</tr>\n",
       "<tr>\n",
       "  <th>neighborhood_Timber</th>  <td>    0.1312</td> <td>    0.044</td> <td>    2.988</td> <td> 0.003</td> <td>    0.045</td> <td>    0.217</td>\n",
       "</tr>\n",
       "<tr>\n",
       "  <th>neighborhood_Veenker</th> <td>    0.2158</td> <td>    0.059</td> <td>    3.688</td> <td> 0.000</td> <td>    0.101</td> <td>    0.331</td>\n",
       "</tr>\n",
       "<tr>\n",
       "  <th>houseage_40-50</th>       <td>    0.0487</td> <td>    0.017</td> <td>    2.926</td> <td> 0.003</td> <td>    0.016</td> <td>    0.081</td>\n",
       "</tr>\n",
       "<tr>\n",
       "  <th>houseage_30-40</th>       <td>    0.0547</td> <td>    0.018</td> <td>    3.069</td> <td> 0.002</td> <td>    0.020</td> <td>    0.090</td>\n",
       "</tr>\n",
       "<tr>\n",
       "  <th>houseage_20-30</th>       <td>    0.0792</td> <td>    0.020</td> <td>    3.978</td> <td> 0.000</td> <td>    0.040</td> <td>    0.118</td>\n",
       "</tr>\n",
       "<tr>\n",
       "  <th>houseage_10-20</th>       <td>    0.1153</td> <td>    0.015</td> <td>    7.830</td> <td> 0.000</td> <td>    0.086</td> <td>    0.144</td>\n",
       "</tr>\n",
       "<tr>\n",
       "  <th>houseage_<10</th>         <td>    0.1312</td> <td>    0.014</td> <td>    9.151</td> <td> 0.000</td> <td>    0.103</td> <td>    0.159</td>\n",
       "</tr>\n",
       "</table>\n",
       "<table class=\"simpletable\">\n",
       "<tr>\n",
       "  <th>Omnibus:</th>       <td>441.964</td> <th>  Durbin-Watson:     </th> <td>   1.967</td>\n",
       "</tr>\n",
       "<tr>\n",
       "  <th>Prob(Omnibus):</th> <td> 0.000</td>  <th>  Jarque-Bera (JB):  </th> <td>2796.958</td>\n",
       "</tr>\n",
       "<tr>\n",
       "  <th>Skew:</th>          <td>-1.255</td>  <th>  Prob(JB):          </th> <td>    0.00</td>\n",
       "</tr>\n",
       "<tr>\n",
       "  <th>Kurtosis:</th>      <td> 9.299</td>  <th>  Cond. No.          </th> <td>9.33e+05</td>\n",
       "</tr>\n",
       "</table><br/><br/>Warnings:<br/>[1] Standard Errors assume that the covariance matrix of the errors is correctly specified.<br/>[2] The condition number is large, 9.33e+05. This might indicate that there are<br/>strong multicollinearity or other numerical problems."
      ],
      "text/plain": [
       "<class 'statsmodels.iolib.summary.Summary'>\n",
       "\"\"\"\n",
       "                            OLS Regression Results                            \n",
       "==============================================================================\n",
       "Dep. Variable:          saleprice_log   R-squared:                       0.866\n",
       "Model:                            OLS   Adj. R-squared:                  0.863\n",
       "Method:                 Least Squares   F-statistic:                     236.0\n",
       "Date:                Thu, 15 Aug 2019   Prob (F-statistic):               0.00\n",
       "Time:                        20:55:50   Log-Likelihood:                 737.62\n",
       "No. Observations:                1460   AIC:                            -1395.\n",
       "Df Residuals:                    1420   BIC:                            -1184.\n",
       "Df Model:                          39                                         \n",
       "Covariance Type:            nonrobust                                         \n",
       "========================================================================================\n",
       "                           coef    std err          t      P>|t|      [0.025      0.975]\n",
       "----------------------------------------------------------------------------------------\n",
       "const                   10.6276      0.071    149.096      0.000      10.488      10.767\n",
       "overallqual              0.1058      0.009     11.488      0.000       0.088       0.124\n",
       "grlivarea                0.0001   7.51e-05      1.971      0.049    6.83e-07       0.000\n",
       "garagecars               0.0398      0.013      3.173      0.002       0.015       0.064\n",
       "garagearea               0.0001   4.29e-05      3.154      0.002    5.11e-05       0.000\n",
       "totalbsmtsf           2.444e-05   7.68e-05      0.318      0.750      -0.000       0.000\n",
       "firstflrsf            1.666e-05   2.08e-05      0.801      0.423   -2.41e-05    5.75e-05\n",
       "fullbath                -0.0161      0.011     -1.471      0.142      -0.038       0.005\n",
       "totrmsabvgrd            -0.0051      0.005     -1.100      0.272      -0.014       0.004\n",
       "totalsf                  0.0002   7.92e-05      2.191      0.029    1.82e-05       0.000\n",
       "int_over_sf           -9.75e-06      3e-06     -3.252      0.001   -1.56e-05   -3.87e-06\n",
       "neighborhood_Blueste    -0.0459      0.113     -0.408      0.683      -0.267       0.175\n",
       "neighborhood_BrDale     -0.1727      0.055     -3.137      0.002      -0.281      -0.065\n",
       "neighborhood_BrkSide    -0.0204      0.044     -0.466      0.641      -0.106       0.065\n",
       "neighborhood_ClearCr     0.1737      0.047      3.658      0.000       0.081       0.267\n",
       "neighborhood_CollgCr     0.0722      0.039      1.856      0.064      -0.004       0.148\n",
       "neighborhood_Crawfor     0.1615      0.043      3.727      0.000       0.077       0.247\n",
       "neighborhood_Edwards    -0.0440      0.041     -1.061      0.289      -0.125       0.037\n",
       "neighborhood_Gilbert     0.0874      0.041      2.137      0.033       0.007       0.168\n",
       "neighborhood_IDOTRR     -0.1909      0.047     -4.063      0.000      -0.283      -0.099\n",
       "neighborhood_MeadowV    -0.1202      0.055     -2.193      0.029      -0.228      -0.013\n",
       "neighborhood_Mitchel     0.0282      0.043      0.649      0.516      -0.057       0.113\n",
       "neighborhood_NAmes       0.0368      0.040      0.922      0.357      -0.041       0.115\n",
       "neighborhood_NPkVill    -0.0033      0.064     -0.051      0.959      -0.128       0.122\n",
       "neighborhood_NWAmes      0.0475      0.042      1.132      0.258      -0.035       0.130\n",
       "neighborhood_NoRidge     0.1656      0.046      3.566      0.000       0.075       0.257\n",
       "neighborhood_NridgHt     0.1804      0.041      4.406      0.000       0.100       0.261\n",
       "neighborhood_OldTown    -0.1340      0.041     -3.253      0.001      -0.215      -0.053\n",
       "neighborhood_SWISU      -0.0327      0.050     -0.653      0.514      -0.131       0.066\n",
       "neighborhood_Sawyer      0.0234      0.043      0.551      0.581      -0.060       0.107\n",
       "neighborhood_SawyerW     0.0439      0.042      1.041      0.298      -0.039       0.127\n",
       "neighborhood_Somerst     0.0947      0.040      2.347      0.019       0.016       0.174\n",
       "neighborhood_StoneBr     0.2071      0.048      4.341      0.000       0.114       0.301\n",
       "neighborhood_Timber      0.1312      0.044      2.988      0.003       0.045       0.217\n",
       "neighborhood_Veenker     0.2158      0.059      3.688      0.000       0.101       0.331\n",
       "houseage_40-50           0.0487      0.017      2.926      0.003       0.016       0.081\n",
       "houseage_30-40           0.0547      0.018      3.069      0.002       0.020       0.090\n",
       "houseage_20-30           0.0792      0.020      3.978      0.000       0.040       0.118\n",
       "houseage_10-20           0.1153      0.015      7.830      0.000       0.086       0.144\n",
       "houseage_<10             0.1312      0.014      9.151      0.000       0.103       0.159\n",
       "==============================================================================\n",
       "Omnibus:                      441.964   Durbin-Watson:                   1.967\n",
       "Prob(Omnibus):                  0.000   Jarque-Bera (JB):             2796.958\n",
       "Skew:                          -1.255   Prob(JB):                         0.00\n",
       "Kurtosis:                       9.299   Cond. No.                     9.33e+05\n",
       "==============================================================================\n",
       "\n",
       "Warnings:\n",
       "[1] Standard Errors assume that the covariance matrix of the errors is correctly specified.\n",
       "[2] The condition number is large, 9.33e+05. This might indicate that there are\n",
       "strong multicollinearity or other numerical problems.\n",
       "\"\"\""
      ]
     },
     "execution_count": 40,
     "metadata": {},
     "output_type": "execute_result"
    }
   ],
   "source": [
    "# Y is the target variable\n",
    "Y = df2['saleprice_log']\n",
    "# X is the feature set\n",
    "X = df2[['overallqual','grlivarea','garagecars','garagearea','totalbsmtsf','firstflrsf','fullbath','totrmsabvgrd','totalsf','int_over_sf'] + dummy_column_names]\n",
    "\n",
    "X = sm.add_constant(X)\n",
    "\n",
    "results = sm.OLS(Y, X).fit()\n",
    "\n",
    "results.summary()"
   ]
  },
  {
   "cell_type": "markdown",
   "metadata": {},
   "source": [
    "In the table above, we can see that the coefficents for first floor square feet, total basement area, first floor area, and full bath are insignifcant. Let's try removing those and see how the model performs. "
   ]
  },
  {
   "cell_type": "code",
   "execution_count": 41,
   "metadata": {},
   "outputs": [
    {
     "data": {
      "text/html": [
       "<table class=\"simpletable\">\n",
       "<caption>OLS Regression Results</caption>\n",
       "<tr>\n",
       "  <th>Dep. Variable:</th>      <td>saleprice_log</td>  <th>  R-squared:         </th> <td>   0.866</td>\n",
       "</tr>\n",
       "<tr>\n",
       "  <th>Model:</th>                   <td>OLS</td>       <th>  Adj. R-squared:    </th> <td>   0.863</td>\n",
       "</tr>\n",
       "<tr>\n",
       "  <th>Method:</th>             <td>Least Squares</td>  <th>  F-statistic:       </th> <td>   262.7</td>\n",
       "</tr>\n",
       "<tr>\n",
       "  <th>Date:</th>             <td>Thu, 15 Aug 2019</td> <th>  Prob (F-statistic):</th>  <td>  0.00</td> \n",
       "</tr>\n",
       "<tr>\n",
       "  <th>Time:</th>                 <td>20:59:05</td>     <th>  Log-Likelihood:    </th> <td>  735.32</td>\n",
       "</tr>\n",
       "<tr>\n",
       "  <th>No. Observations:</th>      <td>  1460</td>      <th>  AIC:               </th> <td>  -1399.</td>\n",
       "</tr>\n",
       "<tr>\n",
       "  <th>Df Residuals:</th>          <td>  1424</td>      <th>  BIC:               </th> <td>  -1208.</td>\n",
       "</tr>\n",
       "<tr>\n",
       "  <th>Df Model:</th>              <td>    35</td>      <th>                     </th>     <td> </td>   \n",
       "</tr>\n",
       "<tr>\n",
       "  <th>Covariance Type:</th>      <td>nonrobust</td>    <th>                     </th>     <td> </td>   \n",
       "</tr>\n",
       "</table>\n",
       "<table class=\"simpletable\">\n",
       "<tr>\n",
       "            <td></td>              <th>coef</th>     <th>std err</th>      <th>t</th>      <th>P>|t|</th>  <th>[0.025</th>    <th>0.975]</th>  \n",
       "</tr>\n",
       "<tr>\n",
       "  <th>const</th>                <td>   10.6151</td> <td>    0.069</td> <td>  154.624</td> <td> 0.000</td> <td>   10.480</td> <td>   10.750</td>\n",
       "</tr>\n",
       "<tr>\n",
       "  <th>overallqual</th>          <td>    0.1045</td> <td>    0.009</td> <td>   11.526</td> <td> 0.000</td> <td>    0.087</td> <td>    0.122</td>\n",
       "</tr>\n",
       "<tr>\n",
       "  <th>grlivarea</th>            <td> 9.288e-05</td> <td> 1.69e-05</td> <td>    5.480</td> <td> 0.000</td> <td> 5.96e-05</td> <td>    0.000</td>\n",
       "</tr>\n",
       "<tr>\n",
       "  <th>garagecars</th>           <td>    0.0376</td> <td>    0.012</td> <td>    3.012</td> <td> 0.003</td> <td>    0.013</td> <td>    0.062</td>\n",
       "</tr>\n",
       "<tr>\n",
       "  <th>garagearea</th>           <td>    0.0001</td> <td> 4.26e-05</td> <td>    3.412</td> <td> 0.001</td> <td> 6.18e-05</td> <td>    0.000</td>\n",
       "</tr>\n",
       "<tr>\n",
       "  <th>totalsf</th>              <td>    0.0002</td> <td> 2.32e-05</td> <td>    8.801</td> <td> 0.000</td> <td>    0.000</td> <td>    0.000</td>\n",
       "</tr>\n",
       "<tr>\n",
       "  <th>int_over_sf</th>          <td> -9.18e-06</td> <td> 2.95e-06</td> <td>   -3.113</td> <td> 0.002</td> <td> -1.5e-05</td> <td> -3.4e-06</td>\n",
       "</tr>\n",
       "<tr>\n",
       "  <th>neighborhood_Blueste</th> <td>   -0.0440</td> <td>    0.112</td> <td>   -0.392</td> <td> 0.695</td> <td>   -0.264</td> <td>    0.176</td>\n",
       "</tr>\n",
       "<tr>\n",
       "  <th>neighborhood_BrDale</th>  <td>   -0.1725</td> <td>    0.054</td> <td>   -3.171</td> <td> 0.002</td> <td>   -0.279</td> <td>   -0.066</td>\n",
       "</tr>\n",
       "<tr>\n",
       "  <th>neighborhood_BrkSide</th> <td>   -0.0136</td> <td>    0.043</td> <td>   -0.313</td> <td> 0.754</td> <td>   -0.099</td> <td>    0.071</td>\n",
       "</tr>\n",
       "<tr>\n",
       "  <th>neighborhood_ClearCr</th> <td>    0.1805</td> <td>    0.047</td> <td>    3.827</td> <td> 0.000</td> <td>    0.088</td> <td>    0.273</td>\n",
       "</tr>\n",
       "<tr>\n",
       "  <th>neighborhood_CollgCr</th> <td>    0.0709</td> <td>    0.039</td> <td>    1.834</td> <td> 0.067</td> <td>   -0.005</td> <td>    0.147</td>\n",
       "</tr>\n",
       "<tr>\n",
       "  <th>neighborhood_Crawfor</th> <td>    0.1695</td> <td>    0.043</td> <td>    3.944</td> <td> 0.000</td> <td>    0.085</td> <td>    0.254</td>\n",
       "</tr>\n",
       "<tr>\n",
       "  <th>neighborhood_Edwards</th> <td>   -0.0407</td> <td>    0.041</td> <td>   -0.986</td> <td> 0.324</td> <td>   -0.122</td> <td>    0.040</td>\n",
       "</tr>\n",
       "<tr>\n",
       "  <th>neighborhood_Gilbert</th> <td>    0.0823</td> <td>    0.041</td> <td>    2.030</td> <td> 0.043</td> <td>    0.003</td> <td>    0.162</td>\n",
       "</tr>\n",
       "<tr>\n",
       "  <th>neighborhood_IDOTRR</th>  <td>   -0.1867</td> <td>    0.046</td> <td>   -4.016</td> <td> 0.000</td> <td>   -0.278</td> <td>   -0.095</td>\n",
       "</tr>\n",
       "<tr>\n",
       "  <th>neighborhood_MeadowV</th> <td>   -0.1152</td> <td>    0.054</td> <td>   -2.123</td> <td> 0.034</td> <td>   -0.222</td> <td>   -0.009</td>\n",
       "</tr>\n",
       "<tr>\n",
       "  <th>neighborhood_Mitchel</th> <td>    0.0307</td> <td>    0.043</td> <td>    0.710</td> <td> 0.478</td> <td>   -0.054</td> <td>    0.116</td>\n",
       "</tr>\n",
       "<tr>\n",
       "  <th>neighborhood_NAmes</th>   <td>    0.0431</td> <td>    0.040</td> <td>    1.090</td> <td> 0.276</td> <td>   -0.034</td> <td>    0.121</td>\n",
       "</tr>\n",
       "<tr>\n",
       "  <th>neighborhood_NPkVill</th> <td>   -0.0118</td> <td>    0.063</td> <td>   -0.186</td> <td> 0.853</td> <td>   -0.136</td> <td>    0.112</td>\n",
       "</tr>\n",
       "<tr>\n",
       "  <th>neighborhood_NWAmes</th>  <td>    0.0469</td> <td>    0.042</td> <td>    1.119</td> <td> 0.264</td> <td>   -0.035</td> <td>    0.129</td>\n",
       "</tr>\n",
       "<tr>\n",
       "  <th>neighborhood_NoRidge</th> <td>    0.1694</td> <td>    0.046</td> <td>    3.693</td> <td> 0.000</td> <td>    0.079</td> <td>    0.259</td>\n",
       "</tr>\n",
       "<tr>\n",
       "  <th>neighborhood_NridgHt</th> <td>    0.1782</td> <td>    0.041</td> <td>    4.365</td> <td> 0.000</td> <td>    0.098</td> <td>    0.258</td>\n",
       "</tr>\n",
       "<tr>\n",
       "  <th>neighborhood_OldTown</th> <td>   -0.1289</td> <td>    0.041</td> <td>   -3.163</td> <td> 0.002</td> <td>   -0.209</td> <td>   -0.049</td>\n",
       "</tr>\n",
       "<tr>\n",
       "  <th>neighborhood_SWISU</th>   <td>   -0.0263</td> <td>    0.050</td> <td>   -0.529</td> <td> 0.597</td> <td>   -0.124</td> <td>    0.071</td>\n",
       "</tr>\n",
       "<tr>\n",
       "  <th>neighborhood_Sawyer</th>  <td>    0.0288</td> <td>    0.042</td> <td>    0.683</td> <td> 0.495</td> <td>   -0.054</td> <td>    0.112</td>\n",
       "</tr>\n",
       "<tr>\n",
       "  <th>neighborhood_SawyerW</th> <td>    0.0448</td> <td>    0.042</td> <td>    1.065</td> <td> 0.287</td> <td>   -0.038</td> <td>    0.127</td>\n",
       "</tr>\n",
       "<tr>\n",
       "  <th>neighborhood_Somerst</th> <td>    0.0916</td> <td>    0.040</td> <td>    2.290</td> <td> 0.022</td> <td>    0.013</td> <td>    0.170</td>\n",
       "</tr>\n",
       "<tr>\n",
       "  <th>neighborhood_StoneBr</th> <td>    0.2097</td> <td>    0.048</td> <td>    4.404</td> <td> 0.000</td> <td>    0.116</td> <td>    0.303</td>\n",
       "</tr>\n",
       "<tr>\n",
       "  <th>neighborhood_Timber</th>  <td>    0.1318</td> <td>    0.044</td> <td>    3.003</td> <td> 0.003</td> <td>    0.046</td> <td>    0.218</td>\n",
       "</tr>\n",
       "<tr>\n",
       "  <th>neighborhood_Veenker</th> <td>    0.2254</td> <td>    0.058</td> <td>    3.871</td> <td> 0.000</td> <td>    0.111</td> <td>    0.340</td>\n",
       "</tr>\n",
       "<tr>\n",
       "  <th>houseage_40-50</th>       <td>    0.0469</td> <td>    0.017</td> <td>    2.827</td> <td> 0.005</td> <td>    0.014</td> <td>    0.079</td>\n",
       "</tr>\n",
       "<tr>\n",
       "  <th>houseage_30-40</th>       <td>    0.0543</td> <td>    0.018</td> <td>    3.048</td> <td> 0.002</td> <td>    0.019</td> <td>    0.089</td>\n",
       "</tr>\n",
       "<tr>\n",
       "  <th>houseage_20-30</th>       <td>    0.0812</td> <td>    0.020</td> <td>    4.100</td> <td> 0.000</td> <td>    0.042</td> <td>    0.120</td>\n",
       "</tr>\n",
       "<tr>\n",
       "  <th>houseage_10-20</th>       <td>    0.1148</td> <td>    0.015</td> <td>    7.828</td> <td> 0.000</td> <td>    0.086</td> <td>    0.144</td>\n",
       "</tr>\n",
       "<tr>\n",
       "  <th>houseage_<10</th>         <td>    0.1291</td> <td>    0.014</td> <td>    9.051</td> <td> 0.000</td> <td>    0.101</td> <td>    0.157</td>\n",
       "</tr>\n",
       "</table>\n",
       "<table class=\"simpletable\">\n",
       "<tr>\n",
       "  <th>Omnibus:</th>       <td>448.330</td> <th>  Durbin-Watson:     </th> <td>   1.967</td>\n",
       "</tr>\n",
       "<tr>\n",
       "  <th>Prob(Omnibus):</th> <td> 0.000</td>  <th>  Jarque-Bera (JB):  </th> <td>2891.175</td>\n",
       "</tr>\n",
       "<tr>\n",
       "  <th>Skew:</th>          <td>-1.270</td>  <th>  Prob(JB):          </th> <td>    0.00</td>\n",
       "</tr>\n",
       "<tr>\n",
       "  <th>Kurtosis:</th>      <td> 9.409</td>  <th>  Cond. No.          </th> <td>9.21e+05</td>\n",
       "</tr>\n",
       "</table><br/><br/>Warnings:<br/>[1] Standard Errors assume that the covariance matrix of the errors is correctly specified.<br/>[2] The condition number is large, 9.21e+05. This might indicate that there are<br/>strong multicollinearity or other numerical problems."
      ],
      "text/plain": [
       "<class 'statsmodels.iolib.summary.Summary'>\n",
       "\"\"\"\n",
       "                            OLS Regression Results                            \n",
       "==============================================================================\n",
       "Dep. Variable:          saleprice_log   R-squared:                       0.866\n",
       "Model:                            OLS   Adj. R-squared:                  0.863\n",
       "Method:                 Least Squares   F-statistic:                     262.7\n",
       "Date:                Thu, 15 Aug 2019   Prob (F-statistic):               0.00\n",
       "Time:                        20:59:05   Log-Likelihood:                 735.32\n",
       "No. Observations:                1460   AIC:                            -1399.\n",
       "Df Residuals:                    1424   BIC:                            -1208.\n",
       "Df Model:                          35                                         \n",
       "Covariance Type:            nonrobust                                         \n",
       "========================================================================================\n",
       "                           coef    std err          t      P>|t|      [0.025      0.975]\n",
       "----------------------------------------------------------------------------------------\n",
       "const                   10.6151      0.069    154.624      0.000      10.480      10.750\n",
       "overallqual              0.1045      0.009     11.526      0.000       0.087       0.122\n",
       "grlivarea             9.288e-05   1.69e-05      5.480      0.000    5.96e-05       0.000\n",
       "garagecars               0.0376      0.012      3.012      0.003       0.013       0.062\n",
       "garagearea               0.0001   4.26e-05      3.412      0.001    6.18e-05       0.000\n",
       "totalsf                  0.0002   2.32e-05      8.801      0.000       0.000       0.000\n",
       "int_over_sf           -9.18e-06   2.95e-06     -3.113      0.002    -1.5e-05    -3.4e-06\n",
       "neighborhood_Blueste    -0.0440      0.112     -0.392      0.695      -0.264       0.176\n",
       "neighborhood_BrDale     -0.1725      0.054     -3.171      0.002      -0.279      -0.066\n",
       "neighborhood_BrkSide    -0.0136      0.043     -0.313      0.754      -0.099       0.071\n",
       "neighborhood_ClearCr     0.1805      0.047      3.827      0.000       0.088       0.273\n",
       "neighborhood_CollgCr     0.0709      0.039      1.834      0.067      -0.005       0.147\n",
       "neighborhood_Crawfor     0.1695      0.043      3.944      0.000       0.085       0.254\n",
       "neighborhood_Edwards    -0.0407      0.041     -0.986      0.324      -0.122       0.040\n",
       "neighborhood_Gilbert     0.0823      0.041      2.030      0.043       0.003       0.162\n",
       "neighborhood_IDOTRR     -0.1867      0.046     -4.016      0.000      -0.278      -0.095\n",
       "neighborhood_MeadowV    -0.1152      0.054     -2.123      0.034      -0.222      -0.009\n",
       "neighborhood_Mitchel     0.0307      0.043      0.710      0.478      -0.054       0.116\n",
       "neighborhood_NAmes       0.0431      0.040      1.090      0.276      -0.034       0.121\n",
       "neighborhood_NPkVill    -0.0118      0.063     -0.186      0.853      -0.136       0.112\n",
       "neighborhood_NWAmes      0.0469      0.042      1.119      0.264      -0.035       0.129\n",
       "neighborhood_NoRidge     0.1694      0.046      3.693      0.000       0.079       0.259\n",
       "neighborhood_NridgHt     0.1782      0.041      4.365      0.000       0.098       0.258\n",
       "neighborhood_OldTown    -0.1289      0.041     -3.163      0.002      -0.209      -0.049\n",
       "neighborhood_SWISU      -0.0263      0.050     -0.529      0.597      -0.124       0.071\n",
       "neighborhood_Sawyer      0.0288      0.042      0.683      0.495      -0.054       0.112\n",
       "neighborhood_SawyerW     0.0448      0.042      1.065      0.287      -0.038       0.127\n",
       "neighborhood_Somerst     0.0916      0.040      2.290      0.022       0.013       0.170\n",
       "neighborhood_StoneBr     0.2097      0.048      4.404      0.000       0.116       0.303\n",
       "neighborhood_Timber      0.1318      0.044      3.003      0.003       0.046       0.218\n",
       "neighborhood_Veenker     0.2254      0.058      3.871      0.000       0.111       0.340\n",
       "houseage_40-50           0.0469      0.017      2.827      0.005       0.014       0.079\n",
       "houseage_30-40           0.0543      0.018      3.048      0.002       0.019       0.089\n",
       "houseage_20-30           0.0812      0.020      4.100      0.000       0.042       0.120\n",
       "houseage_10-20           0.1148      0.015      7.828      0.000       0.086       0.144\n",
       "houseage_<10             0.1291      0.014      9.051      0.000       0.101       0.157\n",
       "==============================================================================\n",
       "Omnibus:                      448.330   Durbin-Watson:                   1.967\n",
       "Prob(Omnibus):                  0.000   Jarque-Bera (JB):             2891.175\n",
       "Skew:                          -1.270   Prob(JB):                         0.00\n",
       "Kurtosis:                       9.409   Cond. No.                     9.21e+05\n",
       "==============================================================================\n",
       "\n",
       "Warnings:\n",
       "[1] Standard Errors assume that the covariance matrix of the errors is correctly specified.\n",
       "[2] The condition number is large, 9.21e+05. This might indicate that there are\n",
       "strong multicollinearity or other numerical problems.\n",
       "\"\"\""
      ]
     },
     "execution_count": 41,
     "metadata": {},
     "output_type": "execute_result"
    }
   ],
   "source": [
    "# Y is the target variable\n",
    "Y = df2['saleprice_log']\n",
    "# X is the feature set\n",
    "X = df2[['overallqual','grlivarea','garagecars','garagearea','totalsf','int_over_sf'] + dummy_column_names]\n",
    "\n",
    "X = sm.add_constant(X)\n",
    "\n",
    "results = sm.OLS(Y, X).fit()\n",
    "\n",
    "results.summary()"
   ]
  },
  {
   "cell_type": "markdown",
   "metadata": {},
   "source": [
    "We can see that the R-squared and adjacent r-squared remained the same. However, F-statistics, AIC, and BIC dropped in the second model indicating less information loss. Based on these results, we will continue with the explanatory variables in the second model. "
   ]
  },
  {
   "cell_type": "markdown",
   "metadata": {},
   "source": [
    "### Split into Training and Testing Sets\n",
    "In machine learning, we will need to separate our features into two sets, training and testing. __Training set__ is used to train our model along with answers so it can learn to map between features and target variable. The __testing set__ will be used to evaluate the mapping learned by the model since the model is exposed to unseen data. "
   ]
  },
  {
   "cell_type": "code",
   "execution_count": 44,
   "metadata": {},
   "outputs": [],
   "source": [
    "# Y is the target variable\n",
    "Y = df2['saleprice_log']\n",
    "# X is the feature set\n",
    "X = df2[['overallqual','grlivarea','garagecars','garagearea','totalsf','int_over_sf'] + dummy_column_names]"
   ]
  },
  {
   "cell_type": "code",
   "execution_count": 45,
   "metadata": {},
   "outputs": [
    {
     "name": "stdout",
     "output_type": "stream",
     "text": [
      "The number of observations in training set is 1168\n",
      "The number of observations in test set is 292\n"
     ]
    }
   ],
   "source": [
    "# Split data\n",
    "X_train, X_test, y_train, y_test = train_test_split(X, Y, test_size = 0.2, random_state = 465)\n",
    "\n",
    "print(\"The number of observations in training set is {}\".format(X_train.shape[0]))\n",
    "print(\"The number of observations in test set is {}\".format(X_test.shape[0]))\n",
    "\n",
    "alphas = [np.power(10.0,p) for p in np.arange(-10,40,1)]"
   ]
  },
  {
   "cell_type": "markdown",
   "metadata": {},
   "source": [
    "Now, our features in the training and test sets are assigned to X_train and X_test respectively. "
   ]
  },
  {
   "cell_type": "markdown",
   "metadata": {},
   "source": [
    "## Evaluating and Comparing Machine Learning Models\n",
    "\n",
    "In this section, we will build, train, and evaluate several models for predicting house sale price. We will be comparing models by using the mean absolute error as a baseline. \n"
   ]
  },
  {
   "cell_type": "markdown",
   "metadata": {},
   "source": [
    "### Metric: Mean Absolute Error\n",
    "\n",
    "There are many metrics that can be used to evaluate the performance of a model. However, to simplify the evaluation process, we will be using the __mean absolute error__(MAE) to determine which model performs the best. MAE is the absolute value of the difference between the predicted value and target value. In short, it determines the accuracy of a prediction. "
   ]
  },
  {
   "cell_type": "markdown",
   "metadata": {},
   "source": [
    "### Hyperparameter with Cross Validation\n",
    "\n",
    "We will choose the best hyperparameters for a model with __cross validation__. Instead of splitting the data into training and testing sets,we will be using K-fold cross validation. The general procedure involves shuffling the dataset randomly and dividing the dataset into K number of folds. For each unique group, we first train on K-1 of folds and then test the performance on the remaining untrained fold. This would repeat K times so that we essentially train on every datapoint. After each test set, the evaluation score is retained and averaged as the model evaluation score."
   ]
  },
  {
   "cell_type": "markdown",
   "metadata": {},
   "source": [
    "### Models to Evaluate\n",
    "\n",
    "We will be comparing four different learning models:\n",
    " 1. OLS Regression: minimizing the sum of the squares of the differences between the predicted and actual value\n",
    " 2. Ridge Regression: penalizes sum of squared coefficents (L2 pentalty)\n",
    " 3. Lasso Regression: penalizes the sum of absolute values of the coefficients (L1 penalty)\n",
    " 4. Elastic Net Regression: combination of Ridge and Lasso\n",
    " \n",
    "The default hyperparameters from Scikit-Learn will be used for modeling. After elvaulating the performance of each model based on MAE, we will select the better model for further optimization. "
   ]
  },
  {
   "cell_type": "code",
   "execution_count": 46,
   "metadata": {},
   "outputs": [],
   "source": [
    "# Function to calculate mean absolute error\n",
    "\n",
    "def mae(y_test, y_preds_test):\n",
    "    return np.mean(abs(y_test - y_preds_test))\n",
    "\n",
    "# Takes in a model, trains the model, and evaluates the model on the test set\n",
    "def fit_and_evaluate(model):\n",
    "    \n",
    "    # Train the model\n",
    "    model.fit(X, Y)\n",
    "    \n",
    "    # Make predictions and evalute\n",
    "    model_pred = model.predict(X_test)\n",
    "    model_mae = mae(y_test, model_pred)\n",
    "    \n",
    "    # Return the performance metric\n",
    "    return model_mae"
   ]
  },
  {
   "cell_type": "code",
   "execution_count": 47,
   "metadata": {},
   "outputs": [
    {
     "name": "stdout",
     "output_type": "stream",
     "text": [
      "Linear Regression Performance on the test set: MAE = 0.1072\n"
     ]
    }
   ],
   "source": [
    "# Linear Regression\n",
    "\n",
    "lr = LinearRegression()\n",
    "lr_mae = fit_and_evaluate(lr)\n",
    "\n",
    "print('Linear Regression Performance on the test set: MAE = %0.4f' % lr_mae)"
   ]
  },
  {
   "cell_type": "code",
   "execution_count": 48,
   "metadata": {},
   "outputs": [
    {
     "name": "stdout",
     "output_type": "stream",
     "text": [
      "Ridge Regression Performance on the test set: MAE = 0.1071\n"
     ]
    }
   ],
   "source": [
    "# Ridge Regression \n",
    "\n",
    "rr = RidgeCV(alphas=alphas, cv=5) \n",
    "rr_mae = fit_and_evaluate(rr)\n",
    "\n",
    "print('Ridge Regression Performance on the test set: MAE = %0.4f' % rr_mae)"
   ]
  },
  {
   "cell_type": "code",
   "execution_count": 49,
   "metadata": {},
   "outputs": [
    {
     "name": "stdout",
     "output_type": "stream",
     "text": [
      "Lasso Regression Performance on the test set: MAE = 0.1072\n"
     ]
    }
   ],
   "source": [
    "# Lasso Regression \n",
    "\n",
    "lar = LassoCV(alphas=alphas, cv=5)\n",
    "lar_mae = fit_and_evaluate(lar)\n",
    "\n",
    "print('Lasso Regression Performance on the test set: MAE = %0.4f' % lar_mae)"
   ]
  },
  {
   "cell_type": "code",
   "execution_count": 50,
   "metadata": {},
   "outputs": [
    {
     "name": "stdout",
     "output_type": "stream",
     "text": [
      "Elastic Net Regression Performance on the test set: MAE = 0.1071\n"
     ]
    }
   ],
   "source": [
    "# Elastic Net Regression \n",
    "\n",
    "er = ElasticNetCV(alphas=alphas, cv=5)\n",
    "er_mae = fit_and_evaluate(er)\n",
    "\n",
    "print('Elastic Net Regression Performance on the test set: MAE = %0.4f' % er_mae)"
   ]
  },
  {
   "cell_type": "code",
   "execution_count": 51,
   "metadata": {},
   "outputs": [
    {
     "data": {
      "text/html": [
       "<div>\n",
       "<style scoped>\n",
       "    .dataframe tbody tr th:only-of-type {\n",
       "        vertical-align: middle;\n",
       "    }\n",
       "\n",
       "    .dataframe tbody tr th {\n",
       "        vertical-align: top;\n",
       "    }\n",
       "\n",
       "    .dataframe thead th {\n",
       "        text-align: right;\n",
       "    }\n",
       "</style>\n",
       "<table border=\"1\" class=\"dataframe\">\n",
       "  <thead>\n",
       "    <tr style=\"text-align: right;\">\n",
       "      <th></th>\n",
       "      <th>model</th>\n",
       "      <th>mae</th>\n",
       "    </tr>\n",
       "  </thead>\n",
       "  <tbody>\n",
       "    <tr>\n",
       "      <th>1</th>\n",
       "      <td>Ridge Regression</td>\n",
       "      <td>0.107103</td>\n",
       "    </tr>\n",
       "    <tr>\n",
       "      <th>3</th>\n",
       "      <td>Elastic Net Regression</td>\n",
       "      <td>0.107143</td>\n",
       "    </tr>\n",
       "    <tr>\n",
       "      <th>2</th>\n",
       "      <td>Lasso Regression</td>\n",
       "      <td>0.107160</td>\n",
       "    </tr>\n",
       "    <tr>\n",
       "      <th>0</th>\n",
       "      <td>Linear Regression</td>\n",
       "      <td>0.107164</td>\n",
       "    </tr>\n",
       "  </tbody>\n",
       "</table>\n",
       "</div>"
      ],
      "text/plain": [
       "                    model       mae\n",
       "1        Ridge Regression  0.107103\n",
       "3  Elastic Net Regression  0.107143\n",
       "2        Lasso Regression  0.107160\n",
       "0       Linear Regression  0.107164"
      ]
     },
     "execution_count": 51,
     "metadata": {},
     "output_type": "execute_result"
    }
   ],
   "source": [
    "# Dataframe to hold the results\n",
    "model_comparison = pd.DataFrame({'model': ['Linear Regression', 'Ridge Regression',\n",
    "                                           'Lasso Regression', 'Elastic Net Regression'],\n",
    "                                 'mae': [lr_mae, rr_mae, lar_mae,er_mae]})\n",
    "\n",
    "# Horizontal bar chart of test mae\n",
    "model_comparison.sort_values('mae', ascending = True)"
   ]
  },
  {
   "cell_type": "markdown",
   "metadata": {},
   "source": [
    "#### Which model performed best?\n",
    "As we can see, all the models performed fairly simiular in terms of accuracy. The average accuracy of the models ranges from 88% to 89%. Based on the MAE, ridge regression had the least amount of error prediction so we will continue with using this model. "
   ]
  },
  {
   "cell_type": "markdown",
   "metadata": {},
   "source": [
    "## Introducing other factors \n",
    "Since house prices can be affected by many factors, we will introduce additional economic indicators from a different dataset. The economic conditions often impacts an individual's abillity to buy or sell a house. The first indicator we'll introduce is the national __unemployment rate__. If there is high unemployment fewer people would be able to afford to purchase homes, thus the prices around that year are probably lower than when unemployment is low. Another factor we will include is __interest rate__. Depending on time the house was sold, interest rates can affect the cost of finaning and mortage rates which can influnces the sale price of a house. Lower interest rates will encourage people to apply mortages and purchase a new house. \n",
    "\n",
    "We will be merging the house price dataset with Kaggle's [federal reserve interest rates](https://www.kaggle.com/federalreserve/interest-rates)."
   ]
  },
  {
   "cell_type": "code",
   "execution_count": 52,
   "metadata": {},
   "outputs": [],
   "source": [
    "# Import federal reserve dataset\n",
    "interest = pd.read_csv('index.csv', parse_dates=True)\n",
    "idf = interest.copy()\n",
    "idf.columns = idf.columns.str.strip().str.lower().str.replace(' ', '_').str.replace('__', '_').str.replace('(', '').str.replace(')', '')\n",
    "\n",
    "# Convert date variable to datetime type\n",
    "idf['date'] = pd.to_datetime(idf.year*10000+idf.month*100+idf.day,format='%Y%m%d')\n",
    "idf2 =idf.copy()\n",
    "idf2.set_index('date',inplace=True)\n",
    "\n",
    "# Fill in null values by interpolate since the dataset is a timeseries\n",
    "idf2 = idf2.interpolate(method='time')\n"
   ]
  },
  {
   "cell_type": "code",
   "execution_count": 53,
   "metadata": {},
   "outputs": [],
   "source": [
    "# Group by year to generate mean values \n",
    "features = idf2.loc[:,['year','effective_federal_funds_rate','unemployment_rate']]\n",
    "by_year = features.groupby('year')\n",
    "\n",
    "eco_feat= by_year.mean()"
   ]
  },
  {
   "cell_type": "markdown",
   "metadata": {},
   "source": [
    "Now, that we have the dataset for economic features cleaned, we will merge it with the house price dataset on year sold. Before we can do that, we will rename the year column in the interest rate dataset to match year sold. To make merging easier, we will also convert both data types to integer."
   ]
  },
  {
   "cell_type": "code",
   "execution_count": 54,
   "metadata": {},
   "outputs": [
    {
     "data": {
      "text/html": [
       "<div>\n",
       "<style scoped>\n",
       "    .dataframe tbody tr th:only-of-type {\n",
       "        vertical-align: middle;\n",
       "    }\n",
       "\n",
       "    .dataframe tbody tr th {\n",
       "        vertical-align: top;\n",
       "    }\n",
       "\n",
       "    .dataframe thead th {\n",
       "        text-align: right;\n",
       "    }\n",
       "</style>\n",
       "<table border=\"1\" class=\"dataframe\">\n",
       "  <thead>\n",
       "    <tr style=\"text-align: right;\">\n",
       "      <th></th>\n",
       "      <th>id</th>\n",
       "      <th>mssubclass</th>\n",
       "      <th>mszoning</th>\n",
       "      <th>lotfrontage</th>\n",
       "      <th>lotarea</th>\n",
       "      <th>street</th>\n",
       "      <th>alley</th>\n",
       "      <th>lotshape</th>\n",
       "      <th>landcontour</th>\n",
       "      <th>utilities</th>\n",
       "      <th>...</th>\n",
       "      <th>houseage_40-50</th>\n",
       "      <th>houseage_30-40</th>\n",
       "      <th>houseage_20-30</th>\n",
       "      <th>houseage_10-20</th>\n",
       "      <th>houseage_&lt;10</th>\n",
       "      <th>saleprice_log</th>\n",
       "      <th>totalsf</th>\n",
       "      <th>int_over_sf</th>\n",
       "      <th>effective_federal_funds_rate</th>\n",
       "      <th>unemployment_rate</th>\n",
       "    </tr>\n",
       "  </thead>\n",
       "  <tbody>\n",
       "    <tr>\n",
       "      <th>0</th>\n",
       "      <td>1</td>\n",
       "      <td>60</td>\n",
       "      <td>RL</td>\n",
       "      <td>65.0</td>\n",
       "      <td>8450</td>\n",
       "      <td>Pave</td>\n",
       "      <td>None</td>\n",
       "      <td>Reg</td>\n",
       "      <td>Lvl</td>\n",
       "      <td>AllPub</td>\n",
       "      <td>...</td>\n",
       "      <td>0</td>\n",
       "      <td>0</td>\n",
       "      <td>0</td>\n",
       "      <td>0</td>\n",
       "      <td>1</td>\n",
       "      <td>12.247699</td>\n",
       "      <td>2566</td>\n",
       "      <td>17962</td>\n",
       "      <td>1.858998</td>\n",
       "      <td>5.82901</td>\n",
       "    </tr>\n",
       "    <tr>\n",
       "      <th>1</th>\n",
       "      <td>3</td>\n",
       "      <td>60</td>\n",
       "      <td>RL</td>\n",
       "      <td>68.0</td>\n",
       "      <td>11250</td>\n",
       "      <td>Pave</td>\n",
       "      <td>None</td>\n",
       "      <td>IR1</td>\n",
       "      <td>Lvl</td>\n",
       "      <td>AllPub</td>\n",
       "      <td>...</td>\n",
       "      <td>0</td>\n",
       "      <td>0</td>\n",
       "      <td>0</td>\n",
       "      <td>0</td>\n",
       "      <td>1</td>\n",
       "      <td>12.317171</td>\n",
       "      <td>2706</td>\n",
       "      <td>18942</td>\n",
       "      <td>1.858998</td>\n",
       "      <td>5.82901</td>\n",
       "    </tr>\n",
       "    <tr>\n",
       "      <th>2</th>\n",
       "      <td>5</td>\n",
       "      <td>60</td>\n",
       "      <td>RL</td>\n",
       "      <td>84.0</td>\n",
       "      <td>14260</td>\n",
       "      <td>Pave</td>\n",
       "      <td>None</td>\n",
       "      <td>IR1</td>\n",
       "      <td>Lvl</td>\n",
       "      <td>AllPub</td>\n",
       "      <td>...</td>\n",
       "      <td>0</td>\n",
       "      <td>0</td>\n",
       "      <td>0</td>\n",
       "      <td>1</td>\n",
       "      <td>0</td>\n",
       "      <td>12.429220</td>\n",
       "      <td>3343</td>\n",
       "      <td>26744</td>\n",
       "      <td>1.858998</td>\n",
       "      <td>5.82901</td>\n",
       "    </tr>\n",
       "    <tr>\n",
       "      <th>3</th>\n",
       "      <td>9</td>\n",
       "      <td>50</td>\n",
       "      <td>RM</td>\n",
       "      <td>51.0</td>\n",
       "      <td>6120</td>\n",
       "      <td>Pave</td>\n",
       "      <td>None</td>\n",
       "      <td>Reg</td>\n",
       "      <td>Lvl</td>\n",
       "      <td>AllPub</td>\n",
       "      <td>...</td>\n",
       "      <td>0</td>\n",
       "      <td>0</td>\n",
       "      <td>0</td>\n",
       "      <td>0</td>\n",
       "      <td>0</td>\n",
       "      <td>11.774528</td>\n",
       "      <td>2726</td>\n",
       "      <td>19082</td>\n",
       "      <td>1.858998</td>\n",
       "      <td>5.82901</td>\n",
       "    </tr>\n",
       "    <tr>\n",
       "      <th>4</th>\n",
       "      <td>10</td>\n",
       "      <td>190</td>\n",
       "      <td>RL</td>\n",
       "      <td>50.0</td>\n",
       "      <td>7420</td>\n",
       "      <td>Pave</td>\n",
       "      <td>None</td>\n",
       "      <td>Reg</td>\n",
       "      <td>Lvl</td>\n",
       "      <td>AllPub</td>\n",
       "      <td>...</td>\n",
       "      <td>0</td>\n",
       "      <td>0</td>\n",
       "      <td>0</td>\n",
       "      <td>0</td>\n",
       "      <td>0</td>\n",
       "      <td>11.678448</td>\n",
       "      <td>2068</td>\n",
       "      <td>10340</td>\n",
       "      <td>1.858998</td>\n",
       "      <td>5.82901</td>\n",
       "    </tr>\n",
       "  </tbody>\n",
       "</table>\n",
       "<p>5 rows × 116 columns</p>\n",
       "</div>"
      ],
      "text/plain": [
       "   id  mssubclass mszoning  lotfrontage  lotarea street alley lotshape  \\\n",
       "0   1          60       RL         65.0     8450   Pave  None      Reg   \n",
       "1   3          60       RL         68.0    11250   Pave  None      IR1   \n",
       "2   5          60       RL         84.0    14260   Pave  None      IR1   \n",
       "3   9          50       RM         51.0     6120   Pave  None      Reg   \n",
       "4  10         190       RL         50.0     7420   Pave  None      Reg   \n",
       "\n",
       "  landcontour utilities  ... houseage_40-50 houseage_30-40 houseage_20-30  \\\n",
       "0         Lvl    AllPub  ...              0              0              0   \n",
       "1         Lvl    AllPub  ...              0              0              0   \n",
       "2         Lvl    AllPub  ...              0              0              0   \n",
       "3         Lvl    AllPub  ...              0              0              0   \n",
       "4         Lvl    AllPub  ...              0              0              0   \n",
       "\n",
       "  houseage_10-20 houseage_<10 saleprice_log totalsf  int_over_sf  \\\n",
       "0              0            1     12.247699    2566        17962   \n",
       "1              0            1     12.317171    2706        18942   \n",
       "2              1            0     12.429220    3343        26744   \n",
       "3              0            0     11.774528    2726        19082   \n",
       "4              0            0     11.678448    2068        10340   \n",
       "\n",
       "   effective_federal_funds_rate unemployment_rate  \n",
       "0                      1.858998           5.82901  \n",
       "1                      1.858998           5.82901  \n",
       "2                      1.858998           5.82901  \n",
       "3                      1.858998           5.82901  \n",
       "4                      1.858998           5.82901  \n",
       "\n",
       "[5 rows x 116 columns]"
      ]
     },
     "execution_count": 54,
     "metadata": {},
     "output_type": "execute_result"
    }
   ],
   "source": [
    "# Create yrsold column\n",
    "eco_feat['yrsold'] = eco_feat.index\n",
    "\n",
    "# Match dtype for yrsold in both datasets\n",
    "df2['yrsold'] = df['yrsold'].astype('int')\n",
    "df2 = pd.merge(df2, eco_feat)\n",
    "\n",
    "df2.head()"
   ]
  },
  {
   "cell_type": "markdown",
   "metadata": {},
   "source": [
    "Alright. This looks good. Let's begin recreating the final model. \n",
    "\n",
    "## Recreate Final Model\n",
    "\n",
    "To recap, our feature variables include:\n",
    "* most correlated numeric variables (overall qualality, grade living area, garage cars, garage area)\n",
    "* log of sale price \n",
    "* dummy variables (neighborhoods, house age)\n",
    "* new variables (total basement area, total rooms abvove ground)\n",
    "* economic indicators (federal interest rates, unemployment rate)\n",
    "\n",
    "We selected ridge regression as the best model to predict sale house prices since it had the smalled mean absolute error. Again, we will be using MAE to evaluate the models. "
   ]
  },
  {
   "cell_type": "code",
   "execution_count": 56,
   "metadata": {},
   "outputs": [],
   "source": [
    "# Y is the target variable\n",
    "Y = df2['saleprice_log']\n",
    "# X is the feature set\n",
    "X = df2[['overallqual','grlivarea','garagecars','garagearea','totalsf','int_over_sf','effective_federal_funds_rate','unemployment_rate'] + dummy_column_names]"
   ]
  },
  {
   "cell_type": "code",
   "execution_count": 57,
   "metadata": {},
   "outputs": [
    {
     "name": "stdout",
     "output_type": "stream",
     "text": [
      "The number of observations in training set is 1168\n",
      "The number of observations in test set is 292\n"
     ]
    }
   ],
   "source": [
    "# Split data\n",
    "X_train, X_test, y_train, y_test = train_test_split(X, Y, test_size = 0.2, random_state = 465)\n",
    "\n",
    "print(\"The number of observations in training set is {}\".format(X_train.shape[0]))\n",
    "print(\"The number of observations in test set is {}\".format(X_test.shape[0]))\n",
    "\n",
    "alphas = [np.power(10.0,p) for p in np.arange(-10,40,1)]"
   ]
  },
  {
   "cell_type": "code",
   "execution_count": 58,
   "metadata": {},
   "outputs": [
    {
     "name": "stdout",
     "output_type": "stream",
     "text": [
      "Ridge Regression Performance on the test set: MAE = 0.1032\n"
     ]
    }
   ],
   "source": [
    "# Ridge Regression \n",
    "\n",
    "rr = RidgeCV(alphas=alphas, cv=5) \n",
    "rr_mae2 = fit_and_evaluate(rr)\n",
    "\n",
    "print('Ridge Regression Performance on the test set: MAE = %0.4f' % rr_mae2)"
   ]
  },
  {
   "cell_type": "code",
   "execution_count": 59,
   "metadata": {},
   "outputs": [
    {
     "data": {
      "text/html": [
       "<div>\n",
       "<style scoped>\n",
       "    .dataframe tbody tr th:only-of-type {\n",
       "        vertical-align: middle;\n",
       "    }\n",
       "\n",
       "    .dataframe tbody tr th {\n",
       "        vertical-align: top;\n",
       "    }\n",
       "\n",
       "    .dataframe thead th {\n",
       "        text-align: right;\n",
       "    }\n",
       "</style>\n",
       "<table border=\"1\" class=\"dataframe\">\n",
       "  <thead>\n",
       "    <tr style=\"text-align: right;\">\n",
       "      <th></th>\n",
       "      <th>model</th>\n",
       "      <th>mae</th>\n",
       "    </tr>\n",
       "  </thead>\n",
       "  <tbody>\n",
       "    <tr>\n",
       "      <th>1</th>\n",
       "      <td>Ridge Regression with Eco</td>\n",
       "      <td>0.103231</td>\n",
       "    </tr>\n",
       "    <tr>\n",
       "      <th>0</th>\n",
       "      <td>Ridge Regression</td>\n",
       "      <td>0.107103</td>\n",
       "    </tr>\n",
       "  </tbody>\n",
       "</table>\n",
       "</div>"
      ],
      "text/plain": [
       "                       model       mae\n",
       "1  Ridge Regression with Eco  0.103231\n",
       "0           Ridge Regression  0.107103"
      ]
     },
     "execution_count": 59,
     "metadata": {},
     "output_type": "execute_result"
    }
   ],
   "source": [
    "# Dataframe to hold the results\n",
    "model_comparison = pd.DataFrame({'model': ['Ridge Regression', 'Ridge Regression with Eco'],\n",
    "                                 'mae': [rr_mae, rr_mae2 ]})\n",
    "\n",
    "# Horizontal bar chart of test mae\n",
    "model_comparison.sort_values('mae', ascending = True)"
   ]
  },
  {
   "cell_type": "markdown",
   "metadata": {},
   "source": [
    "Based on the results, the MAE of the original features and features with economic indicators were 10.71% and 10.32% respectively. The ridge regression model with economic indicators had a lower MAE, thus is a better fit model for predicting house prices. "
   ]
  },
  {
   "cell_type": "markdown",
   "metadata": {},
   "source": [
    "## Conclusion \n",
    "\n",
    "In this challenge, we were tasked with developing a model to predict house prices in Ames, Iowa. While conducting EDA, we detected several columns with missing data and imputed those cells with the mode. In univariate analysis, we discovered our target variable was right skewed.  Then, we treated extreme values with a threshold value set at three standard deviations and looked for relationships between sale price and explanatory variables by using correlation matrix. In feature selection and engineering, we choose the most correlated numeric features, two popular categorical variables when purchasing a home, and some new engineered variables. \n",
    "\n",
    "Once model preparation was completed, we split our data into training and test sets where 20% of the data resides in the test set. Then, we built several linear regression models to see which one performed the best. We also used k-fold cross-validation to select the best hyperparameters for our models and set mean absolute error as the evaluation metric. Ridge regression model had the lowest MAE, thus we used this as our final model. \n",
    "\n",
    "Since there are multiple factors that affect the price of a house, we introduced economic indicators from another dataset. Generally, interest rates and unemployment rate can affect the sale price by  influencing a person's ability to purchase a house. After merging the datasets and adding these economic indicators to our modeling features, we ran it through our final model, ridge regression. The results were very similar. However, the model with economic indicators did have a lower MAE than our original model. We can conclude that introducing the economic indicators had a positive impact to our model features. \n"
   ]
  }
 ],
 "metadata": {
  "kernelspec": {
   "display_name": "Python 3",
   "language": "python",
   "name": "python3"
  },
  "language_info": {
   "codemirror_mode": {
    "name": "ipython",
    "version": 3
   },
   "file_extension": ".py",
   "mimetype": "text/x-python",
   "name": "python",
   "nbconvert_exporter": "python",
   "pygments_lexer": "ipython3",
   "version": "3.6.8"
  }
 },
 "nbformat": 4,
 "nbformat_minor": 2
}
