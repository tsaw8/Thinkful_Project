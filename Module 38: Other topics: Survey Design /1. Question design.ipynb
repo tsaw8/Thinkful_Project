{
 "cells": [
  {
   "cell_type": "markdown",
   "metadata": {},
   "source": [
    "### DRILL: Question Design\n",
    "For each of the following, indicate the best question type to use and why.\n",
    "\n",
    "1. __Age__ :Write-in\n",
    "2. __Gender__: Multiple choice/choose one\n",
    "3. __Income__: Write-in or Multiple choice for income brackets\n",
    "4. __Opinions about dish soap__: Rating scale\n",
    "5. __Brand of dish soap used__: Multiple choice of popular dish soap brands or Write-in \n",
    "6. __Preference for dish soap brand (Cleany, Sudsy, DeGreaser, Pinesoft)__: Multiple choice \n",
    "7. __Positive vs negative feelings about dish soap__: Rating scale "
   ]
  },
  {
   "cell_type": "markdown",
   "metadata": {},
   "source": [
    "## DRILL: Fix the flaw\n",
    "Here is a [link](https://action.donaldjtrump.com/mainstream-media-accountability-survey/) to a Mainstream Media Accountability Survey sent to the public by the Trump Administration in February 2017. Read over the survey and select five questions you believe can be improved. Describe the flaw you see and write an improved version of the question. "
   ]
  },
  {
   "cell_type": "markdown",
   "metadata": {},
   "source": [
    "### 1. Do you trust the mainstream media to put the interests of Americans first?\n",
    " * Yes\n",
    " * No\n",
    " * No opinion\n",
    " * Other, please specify:\n",
    " \n",
    "__Problem__: This question assumes that the mainstream media does not put the interests of Americans first. \n",
    "\n",
    "__Revision__: Split into two questions\n",
    "\n",
    "#### Select the option that describes your opinion of how the mainstream media puts the interests of Americans: \n",
    " A. Puts interests of Americans first\n",
    " B. Doesn't put interests of Americans first \n",
    " C. No Opinion \n",
    " \n",
    "#### If B was selected, describe your trust in the the mainstream media to put the interests of Americans first. \n",
    " 0. Doesn't trust  \n",
    " 1. Low trust\n",
    " 2. Moderate trust\n",
    " 3. High trust\n",
    "\n"
   ]
  },
  {
   "cell_type": "markdown",
   "metadata": {},
   "source": [
    "### 2. Do you trust the mainstream media to report fairly on our presidency?\n",
    " * Yes\n",
    " * No\n",
    " * No opinion\n",
    " * Other, please specify:\n",
    " \n",
    "__Problem__: This question assumes that the mainstream media does not fairly report on our presidency. \n",
    "\n",
    "__Revision__: Split into two questions\n",
    "\n",
    "#### Select the option that describes your opinion of how the mainstream media reports on our presidency: \n",
    " A. Fairly\n",
    " B. Not Fair\n",
    " C. No Opinion \n",
    " \n",
    "#### If B was selected, describe your trust in the mainstream media to fairly report on our presidency. \n",
    " 0. Doesn't trust  \n",
    " 1. Low trust\n",
    " 2. Moderate trust\n",
    " 3. High trust\n",
    "\n"
   ]
  },
  {
   "cell_type": "markdown",
   "metadata": {},
   "source": [
    "### 3. Do you trust NBC to fairly report on our presidency?\n",
    " * Yes\n",
    " * No\n",
    " * No opinion\n",
    " * Other, please specify:\n",
    " \n",
    "__Problem__: This question assumes that the NBC does not fairly report on our presidency. \n",
    "\n",
    "__Revision__: Split into two questions\n",
    "\n",
    "#### Select the option that describes your opinion of how NBC to report on our presidency: \n",
    " A. Fairly\n",
    " B. Not Fair\n",
    " C. No Opinion \n",
    " \n",
    "#### If B was selected, describe your trust in NBC to fairly report on our presidency. \n",
    " 0. Doesn't trust  \n",
    " 1. Low trust\n",
    " 2. Moderate trust\n",
    " 3. High trust\n"
   ]
  },
  {
   "cell_type": "markdown",
   "metadata": {},
   "source": [
    "### 4. Do you trust CNN to fairly report on our presidency?\n",
    " * Yes\n",
    " * No\n",
    " * No opinion\n",
    " * Other, please specify:\n",
    " \n",
    "__Problem__: This question assumes that the CNN does not fairly report on our presidency. \n",
    "\n",
    "__Revision__: Split into two questions\n",
    "\n",
    "#### Select the option that describes your opinion of how CNN to report on our presidency: \n",
    " A. Fairly\n",
    " B. Not Fair\n",
    " C. No Opinion \n",
    " \n",
    "#### If B was selected, describe your trust in CNN to fairly report on our presidency. \n",
    " 0. Doesn't trust  \n",
    " 1. Low trust\n",
    " 2. Moderate trust\n",
    " 3. High trust"
   ]
  },
  {
   "cell_type": "markdown",
   "metadata": {},
   "source": [
    "### 5. Do you trust MSNBC to fairly report on our presidency?\n",
    " * Yes\n",
    " * No\n",
    " * No opinion\n",
    " * Other, please specify:\n",
    " \n",
    "__Problem__: This question assumes that the MSNBC does not fairly report on our presidency. \n",
    "\n",
    "__Revision__: Split into two questions\n",
    "\n",
    "#### Select the option that describes your opinion of how  MSNBC to report on our presidency: \n",
    " A. Fairly\n",
    " B. Not Fair\n",
    " C. No Opinion \n",
    " \n",
    "#### If B was selected, describe your trust in MSNBC to fairly report on our presidency. \n",
    " 0. Doesn't trust  \n",
    " 1. Low trust\n",
    " 2. Moderate trust\n",
    " 3. High trust"
   ]
  }
 ],
 "metadata": {
  "kernelspec": {
   "display_name": "Python 3",
   "language": "python",
   "name": "python3"
  },
  "language_info": {
   "codemirror_mode": {
    "name": "ipython",
    "version": 3
   },
   "file_extension": ".py",
   "mimetype": "text/x-python",
   "name": "python",
   "nbconvert_exporter": "python",
   "pygments_lexer": "ipython3",
   "version": "3.6.8"
  }
 },
 "nbformat": 4,
 "nbformat_minor": 2
}
