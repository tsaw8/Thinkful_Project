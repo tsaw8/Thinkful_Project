{
 "cells": [
  {
   "cell_type": "markdown",
   "metadata": {},
   "source": [
    "# Assignment \n",
    "\n",
    "For each of the following questions, outline how you could use an A/B test to find an answer. Be sure to identify all five key components of an A/B test."
   ]
  },
  {
   "cell_type": "markdown",
   "metadata": {},
   "source": [
    "### Does a new supplement help people sleep better?\n",
    "\n",
    "1. Two verisons<br>\n",
    "    Control: people sleep without any new supplement<br>\n",
    "    Treatment: give new supplement to people \n",
    "    \n",
    "2. Sample <br>\n",
    "    Everyone would recieve a set of supplements. Some will be the current ones people have been using while others will recieve the new pill. \n",
    "    \n",
    "3. Hypothesis <br>\n",
    "    I expect people who used the new supplement to respond with a better quality of sleep.\n",
    "    \n",
    "4. Outcome<br>\n",
    "    We would follow up with people about how their sleep quality is in regards to the supplement pill. If number of people who recieved the new supplement pill claim to have better quality of sleep over the people with the old supplement pill, then we will recommend the new supplement to people. \n",
    "    \n",
    "5. Other measured variables<br>\n",
    "    The sample groups should be similar to each other in terms of gender, age, and other recorded health risks."
   ]
  },
  {
   "cell_type": "markdown",
   "metadata": {},
   "source": [
    "### Will new uniforms help a gym's business?\n",
    "\n",
    "1. Two verisons<br>\n",
    "    Control: employees wear current attire <br>\n",
    "    Treatment: employees wear new uniform\n",
    "2. Sample <br>\n",
    "    If there are two gym locations that have similar revenue patterns, assign one location to wear new employees to wear new uniforms for the quarter.\n",
    "3. Hypothesis <br>\n",
    "    I expect that the gym location with new uniforms will have increase revenue. \n",
    "4. Outcome <br>\n",
    "    If the gym with new uniforms has an increase rate of new memeber registratons, all employees should wear the new uniform.\n",
    "5. Other measured variables <br>\n",
    "    Both of the gyms should be similar in the demographics and ages of the regular memembers. "
   ]
  },
  {
   "cell_type": "markdown",
   "metadata": {},
   "source": [
    "### Will a new homepage improve my online exotic pet rental business?\n",
    "\n",
    "1. Two verisons<br>\n",
    "    Control: current homepage <br>\n",
    "    Treatment: new homepage with improvements \n",
    "2. Sample<br> \n",
    "    Users will be randomly selected to view the control or treatment page. The sample should be equal over the day and time of user interaction.\n",
    "3. Hypothesis <br>\n",
    "    I expect the new homepage to increase of number of sales. \n",
    "4. Outcome <br>\n",
    "    The new homepage will increase the numbers of clicks on the page.\n",
    "5. Other measured variables <br>\n",
    "    Location would also be taken into consideration when creating the sample groups."
   ]
  },
  {
   "cell_type": "markdown",
   "metadata": {},
   "source": [
    "### If I put 'please read' in the email subject will more people read my emails?\n",
    "\n",
    "1. Two verisons<br>\n",
    "    Control: email subject without 'please read' <br>\n",
    "    Treatment: email subject with 'please read' \n",
    "2. Sample<br>\n",
    "    Send out emails to all people on the email list during the same time of day. Half would recieve the control verison of the email while the other will recieve the treatment verison.\n",
    "3. Hypothesis <br>\n",
    "    I except emails with 'please read' in the subject line to have a higher response rate. \n",
    "4. Outcome<br>\n",
    "    A link to verify that the person has read the email should be included in the email. We can measure success by the number of clicks on the link. \n",
    "5. Other measured variables<br>\n",
    "    The position level and gender ratio should be similar in the sample groups. "
   ]
  },
  {
   "cell_type": "code",
   "execution_count": null,
   "metadata": {},
   "outputs": [],
   "source": []
  }
 ],
 "metadata": {
  "kernelspec": {
   "display_name": "Python 3",
   "language": "python",
   "name": "python3"
  },
  "language_info": {
   "codemirror_mode": {
    "name": "ipython",
    "version": 3
   },
   "file_extension": ".py",
   "mimetype": "text/x-python",
   "name": "python",
   "nbconvert_exporter": "python",
   "pygments_lexer": "ipython3",
   "version": "3.7.0"
  }
 },
 "nbformat": 4,
 "nbformat_minor": 2
}
