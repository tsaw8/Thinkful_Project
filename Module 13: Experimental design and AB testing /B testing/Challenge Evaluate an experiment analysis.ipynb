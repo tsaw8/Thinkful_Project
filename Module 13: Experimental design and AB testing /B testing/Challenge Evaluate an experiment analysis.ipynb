{
 "cells": [
  {
   "cell_type": "markdown",
   "metadata": {},
   "source": [
    "# Assignment \n",
    "Read the following descriptions of an experiment and its analysis, identify the flaws in each, and describe what you would do to correct them."
   ]
  },
  {
   "attachments": {},
   "cell_type": "markdown",
   "metadata": {},
   "source": [
    "_1. The Sith Lords are concerned that their recruiting slogan, \"Give In to Your Anger,\" isn't very effective. Darth Vader develops an alternative slogan, \"Together We Can Rule the Galaxy.\" They compare the slogans on two groups of 50 captured droids each. In one group, Emperor Palpatine delivers the \"Anger\" slogan. In the other, Darth Vader presents the \"Together\" slogan. 20 droids convert to the Dark Side after hearing Palpatine's slogan, while only 5 droids convert after hearing Vader's. The Sith's data scientist concludes that \"Anger\" is a more effective slogan and should continue to be used._\n",
    "\n",
    "The conclusion for this experiment in measuring the effects of the new slogan is biased by the difference of the speaker. Although both test groups contain 50 captured droids, the individual who delivered the slogan would add another variable to the experiment. Choosing one person to present the old and new slogans to the controlled and experimental groups would reduce the differences between the groups and enable more control on measuring the effects of the slogans."
   ]
  },
  {
   "attachments": {},
   "cell_type": "markdown",
   "metadata": {},
   "source": [
    "_2. In the past, the Jedi have had difficulty with public relations. They send two envoys, Jar Jar Binks and Mace Windu, to four friendly and four unfriendly planets respectively, with the goal of promoting favorable feelings toward the Jedi. Upon their return, the envoys learn that Jar Jar was much more effective than Windu: Over 75% of the people surveyed said their attitudes had become more favorable after speaking with Jar Jar, while only 65% said their attitudes had become more favorable after speaking with Windu. This makes Windu angry, because he is sure that he had a better success rate than Jar Jar on every planet. The Jedi choose Jar Jar to be their representative in the future._\n",
    "\n",
    "If we interpret “friendly” as being open to establishing relations with the Jedi forces, and Jar Jar Binks was sent to all four friendly planets, Jar Jar Binks would have an easier time of positively influence those who he encountered than Mace Windu. Deploying both Jar Jar Binks and Mace Windu to two friendly and two unfriendly planets would create more balance between the sample groups. \n",
    "\n",
    " I would also look into the demographics of each planet and see how similar they are to each other.  Another thing to consider would be the sample size of each test group. If Jar Jar Binks only made contact with half the number of people Mace Windu spoke with, the sample sizes wouldn’t be balance and outliers may skew the data. "
   ]
  },
  {
   "attachments": {},
   "cell_type": "markdown",
   "metadata": {},
   "source": [
    "_3. A company with work sites in five different countries has sent you data on employee satisfaction rates for workers in Human Resources and workers in Information Technology. Most HR workers are concentrated in three of the countries, while IT workers are equally distributed across worksites. The company requests a report on satisfaction for each job type. You calculate average job satisfaction for HR and for IT and present the report._\n",
    "\n",
    "Since HR workers are not equally distributed across all work sites like IT workers, the job satisfaction for both roles is biased by the difference of  roles in the groups. "
   ]
  },
  {
   "attachments": {},
   "cell_type": "markdown",
   "metadata": {},
   "source": [
    "_4. When people install the Happy Days Fitness Tracker app, they are asked to \"opt in\" to a data collection scheme where their level of physical activity data is automatically sent to the company for product research purposes. During your interview with the company, they tell you that the app is very effective because after installing the app, the data show that people's activity levels rise steadily._\n",
    "\n",
    "It may appear that people’s activity levels rise steadily after installing the app because their current activities are being captured. However, this conclusion might be biased by the lack of data on the individual user. For example, if the user exercises regularly before installing the app, the user will most likely continue to stay active. "
   ]
  },
  {
   "attachments": {},
   "cell_type": "markdown",
   "metadata": {},
   "source": [
    "_5. To prevent cheating, a teacher writes three versions of a test. She stacks the three versions together, first all copies of Version A, then all copies of Version B, then all copies of Version C. As students arrive for the exam, each student takes a test. When grading the test, the teacher finds that students who took Version B scored higher than students who took either Version A or Version C. She concludes from this that Version B is easier, and discards it._\n",
    "\n",
    "The teacher could prevent coming to a conclusion that one version of the test is easier than another verison by having all versions contains the same questions arranged in different orders.  To increase randomization, the teacher could have one pile of tests ordered by version A, B,C  mixed evenly and have students take from top of stack. "
   ]
  },
  {
   "cell_type": "code",
   "execution_count": null,
   "metadata": {},
   "outputs": [],
   "source": []
  }
 ],
 "metadata": {
  "kernelspec": {
   "display_name": "Python 3",
   "language": "python",
   "name": "python3"
  },
  "language_info": {
   "codemirror_mode": {
    "name": "ipython",
    "version": 3
   },
   "file_extension": ".py",
   "mimetype": "text/x-python",
   "name": "python",
   "nbconvert_exporter": "python",
   "pygments_lexer": "ipython3",
   "version": "3.7.0"
  }
 },
 "nbformat": 4,
 "nbformat_minor": 2
}
