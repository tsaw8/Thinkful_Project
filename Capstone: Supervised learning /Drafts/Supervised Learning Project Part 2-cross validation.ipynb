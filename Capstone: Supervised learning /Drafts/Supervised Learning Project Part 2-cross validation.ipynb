{
 "cells": [
  {
   "cell_type": "markdown",
   "metadata": {},
   "source": [
    "# IEEE-CIS Fraud Detection Part 2\n",
    "\n",
    "In this series of notebooks, we are working on a supervised, regression machine learning problem. Using Kaggle's competition [IEEE-CIS Fraud Detection](https://www.kaggle.com/c/ieee-fraud-detection) dataset, we want to predict whether a transaction is fraud or not. \n",
    "\n",
    " ### Workflow \n",
    " 1. Understand the problem (we're almost there already)\n",
    " 2. Exploratory Data Analysis\n",
    " 3. Feature engineering to create a dataset for machine learning\n",
    " 4. Create a baseline machine learning model\n",
    " 5. Try more complex machine learning models\n",
    " 6. Optimize the selected model\n",
    " 7. Investigate model predictions in context of problem\n",
    " 8. Draw conclusions and lay out next steps\n",
    " \n",
    "The first notebook covered steps 1-3, and in this notebook, we will cover 4-8."
   ]
  },
  {
   "cell_type": "code",
   "execution_count": 1,
   "metadata": {},
   "outputs": [],
   "source": [
    "# Numpy and pandas\n",
    "import pandas as pd\n",
    "import numpy as np\n",
    "\n",
    "#Visualization\n",
    "import matplotlib.pyplot as plt\n",
    "import seaborn as sns\n",
    "import missingno as msno\n",
    "\n",
    "# Statistics tools\n",
    "import scipy.stats as stats\n",
    "\n",
    "# Sklearn data clean\n",
    "from sklearn.preprocessing import LabelEncoder\n",
    "from sklearn.impute import SimpleImputer\n",
    "from sklearn.preprocessing import MinMaxScaler\n",
    "\n",
    "# Model selection\n",
    "from sklearn.model_selection import train_test_split\n",
    "from sklearn.feature_selection import SelectFromModel\n",
    "from sklearn.preprocessing import StandardScaler\n",
    "from sklearn.model_selection import cross_val_score\n",
    "from sklearn.model_selection import KFold\n",
    "\n",
    "# Logistic Regression\n",
    "from sklearn.linear_model import Lasso, LogisticRegression\n",
    "\n",
    "# KNN Classifer \n",
    "from sklearn.neighbors import KNeighborsClassifier\n",
    "\n",
    "# Decision Trees\n",
    "from sklearn import tree\n",
    "from sklearn.tree import DecisionTreeRegressor\n",
    "from IPython.display import Image\n",
    "import pydotplus\n",
    "import graphviz\n",
    "\n",
    "# Random Forests \n",
    "from sklearn.ensemble import RandomForestClassifier\n",
    "from imblearn.ensemble import BalancedRandomForestClassifier\n",
    "\n",
    "# SVM\n",
    "from sklearn.svm import SVC\n",
    "\n",
    "# Gradient Boost\n",
    "from sklearn.ensemble import GradientBoostingClassifier\n",
    "\n",
    "# Evaluate\n",
    "from sklearn import metrics\n",
    "from sklearn.metrics import log_loss, f1_score,roc_auc_score, confusion_matrix, classification_report\n",
    "\n",
    "# Hyperparameter tuning\n",
    "from sklearn.model_selection import GridSearchCV\n",
    "\n",
    "# Datetime\n",
    "from datetime import datetime\n",
    "\n",
    "# Import data\n",
    "import warnings"
   ]
  },
  {
   "cell_type": "markdown",
   "metadata": {},
   "source": [
    "Here, we will import two dataframes:\n",
    " - __df_le__: categorical variables were Label Encoded, designed for tree-based models\n",
    " - __df_db__: categorical variables were OneHotEncoded, designed for linear and distance dependent models"
   ]
  },
  {
   "cell_type": "code",
   "execution_count": 2,
   "metadata": {},
   "outputs": [],
   "source": [
    "# List files available\n",
    "df_le = pd.read_csv('/Users/tsawaengsri/Desktop/Data Science Courses/Datasets/ieee-fraud-detection/clean_df_le.csv')\n",
    "df_db = pd.read_csv('/Users/tsawaengsri/Desktop/Data Science Courses/Datasets/ieee-fraud-detection/clean_df_db.csv')"
   ]
  },
  {
   "cell_type": "code",
   "execution_count": 3,
   "metadata": {},
   "outputs": [
    {
     "name": "stdout",
     "output_type": "stream",
     "text": [
      "Df_le Training Feature Size:  (32902, 422)\n",
      "Df_db Training Feature Size:  (32902, 509)\n"
     ]
    }
   ],
   "source": [
    "# Display sizes of data\n",
    "print('Df_le Training Feature Size: ', df_le.shape)\n",
    "print('Df_db Training Feature Size: ', df_db.shape)"
   ]
  },
  {
   "cell_type": "code",
   "execution_count": 4,
   "metadata": {},
   "outputs": [
    {
     "data": {
      "text/html": [
       "<div>\n",
       "<style scoped>\n",
       "    .dataframe tbody tr th:only-of-type {\n",
       "        vertical-align: middle;\n",
       "    }\n",
       "\n",
       "    .dataframe tbody tr th {\n",
       "        vertical-align: top;\n",
       "    }\n",
       "\n",
       "    .dataframe thead th {\n",
       "        text-align: right;\n",
       "    }\n",
       "</style>\n",
       "<table border=\"1\" class=\"dataframe\">\n",
       "  <thead>\n",
       "    <tr style=\"text-align: right;\">\n",
       "      <th></th>\n",
       "      <th>isFraud</th>\n",
       "      <th>TransactionAmt</th>\n",
       "      <th>ProductCD</th>\n",
       "      <th>card1</th>\n",
       "      <th>card2</th>\n",
       "      <th>card3</th>\n",
       "      <th>card4</th>\n",
       "      <th>card5</th>\n",
       "      <th>card6</th>\n",
       "      <th>addr1</th>\n",
       "      <th>...</th>\n",
       "      <th>id_38</th>\n",
       "      <th>DeviceType</th>\n",
       "      <th>transaction_day_of_week</th>\n",
       "      <th>transaction_hour</th>\n",
       "      <th>average_trans_amt_for_card1</th>\n",
       "      <th>average_trans_amt_for_card4</th>\n",
       "      <th>average_id_02_for_card1</th>\n",
       "      <th>average_id_02_for_card4</th>\n",
       "      <th>P_major_email</th>\n",
       "      <th>R_major_email</th>\n",
       "    </tr>\n",
       "  </thead>\n",
       "  <tbody>\n",
       "    <tr>\n",
       "      <th>0</th>\n",
       "      <td>0</td>\n",
       "      <td>107.950</td>\n",
       "      <td>4</td>\n",
       "      <td>12695</td>\n",
       "      <td>490.0</td>\n",
       "      <td>150.0</td>\n",
       "      <td>3</td>\n",
       "      <td>226.0</td>\n",
       "      <td>1</td>\n",
       "      <td>325.000000</td>\n",
       "      <td>...</td>\n",
       "      <td>0</td>\n",
       "      <td>0</td>\n",
       "      <td>6.0</td>\n",
       "      <td>23.0</td>\n",
       "      <td>NaN</td>\n",
       "      <td>NaN</td>\n",
       "      <td>1.033636</td>\n",
       "      <td>0.970722</td>\n",
       "      <td>15</td>\n",
       "      <td>15</td>\n",
       "    </tr>\n",
       "    <tr>\n",
       "      <th>1</th>\n",
       "      <td>0</td>\n",
       "      <td>25.000</td>\n",
       "      <td>1</td>\n",
       "      <td>12929</td>\n",
       "      <td>285.0</td>\n",
       "      <td>150.0</td>\n",
       "      <td>3</td>\n",
       "      <td>226.0</td>\n",
       "      <td>1</td>\n",
       "      <td>184.000000</td>\n",
       "      <td>...</td>\n",
       "      <td>1</td>\n",
       "      <td>1</td>\n",
       "      <td>1.0</td>\n",
       "      <td>17.0</td>\n",
       "      <td>1.160000</td>\n",
       "      <td>0.210830</td>\n",
       "      <td>1.000000</td>\n",
       "      <td>0.207972</td>\n",
       "      <td>1</td>\n",
       "      <td>1</td>\n",
       "    </tr>\n",
       "    <tr>\n",
       "      <th>2</th>\n",
       "      <td>0</td>\n",
       "      <td>57.950</td>\n",
       "      <td>4</td>\n",
       "      <td>9500</td>\n",
       "      <td>321.0</td>\n",
       "      <td>150.0</td>\n",
       "      <td>3</td>\n",
       "      <td>226.0</td>\n",
       "      <td>1</td>\n",
       "      <td>204.000000</td>\n",
       "      <td>...</td>\n",
       "      <td>0</td>\n",
       "      <td>0</td>\n",
       "      <td>4.0</td>\n",
       "      <td>22.0</td>\n",
       "      <td>0.396588</td>\n",
       "      <td>0.428929</td>\n",
       "      <td>1.006090</td>\n",
       "      <td>0.970722</td>\n",
       "      <td>15</td>\n",
       "      <td>15</td>\n",
       "    </tr>\n",
       "    <tr>\n",
       "      <th>3</th>\n",
       "      <td>0</td>\n",
       "      <td>100.000</td>\n",
       "      <td>1</td>\n",
       "      <td>12769</td>\n",
       "      <td>555.0</td>\n",
       "      <td>150.0</td>\n",
       "      <td>2</td>\n",
       "      <td>224.0</td>\n",
       "      <td>1</td>\n",
       "      <td>204.000000</td>\n",
       "      <td>...</td>\n",
       "      <td>0</td>\n",
       "      <td>0</td>\n",
       "      <td>5.0</td>\n",
       "      <td>17.0</td>\n",
       "      <td>NaN</td>\n",
       "      <td>NaN</td>\n",
       "      <td>1.000000</td>\n",
       "      <td>0.936085</td>\n",
       "      <td>15</td>\n",
       "      <td>15</td>\n",
       "    </tr>\n",
       "    <tr>\n",
       "      <th>4</th>\n",
       "      <td>1</td>\n",
       "      <td>32.356</td>\n",
       "      <td>0</td>\n",
       "      <td>12778</td>\n",
       "      <td>500.0</td>\n",
       "      <td>185.0</td>\n",
       "      <td>2</td>\n",
       "      <td>224.0</td>\n",
       "      <td>0</td>\n",
       "      <td>290.733794</td>\n",
       "      <td>...</td>\n",
       "      <td>0</td>\n",
       "      <td>0</td>\n",
       "      <td>5.0</td>\n",
       "      <td>23.0</td>\n",
       "      <td>1.090654</td>\n",
       "      <td>0.379163</td>\n",
       "      <td>3.187676</td>\n",
       "      <td>3.957320</td>\n",
       "      <td>15</td>\n",
       "      <td>15</td>\n",
       "    </tr>\n",
       "  </tbody>\n",
       "</table>\n",
       "<p>5 rows × 422 columns</p>\n",
       "</div>"
      ],
      "text/plain": [
       "   isFraud  TransactionAmt  ProductCD  card1  card2  card3  card4  card5  \\\n",
       "0        0         107.950          4  12695  490.0  150.0      3  226.0   \n",
       "1        0          25.000          1  12929  285.0  150.0      3  226.0   \n",
       "2        0          57.950          4   9500  321.0  150.0      3  226.0   \n",
       "3        0         100.000          1  12769  555.0  150.0      2  224.0   \n",
       "4        1          32.356          0  12778  500.0  185.0      2  224.0   \n",
       "\n",
       "   card6       addr1  ...  id_38  DeviceType  transaction_day_of_week  \\\n",
       "0      1  325.000000  ...      0           0                      6.0   \n",
       "1      1  184.000000  ...      1           1                      1.0   \n",
       "2      1  204.000000  ...      0           0                      4.0   \n",
       "3      1  204.000000  ...      0           0                      5.0   \n",
       "4      0  290.733794  ...      0           0                      5.0   \n",
       "\n",
       "   transaction_hour  average_trans_amt_for_card1  average_trans_amt_for_card4  \\\n",
       "0              23.0                          NaN                          NaN   \n",
       "1              17.0                     1.160000                     0.210830   \n",
       "2              22.0                     0.396588                     0.428929   \n",
       "3              17.0                          NaN                          NaN   \n",
       "4              23.0                     1.090654                     0.379163   \n",
       "\n",
       "   average_id_02_for_card1  average_id_02_for_card4  P_major_email  \\\n",
       "0                 1.033636                 0.970722             15   \n",
       "1                 1.000000                 0.207972              1   \n",
       "2                 1.006090                 0.970722             15   \n",
       "3                 1.000000                 0.936085             15   \n",
       "4                 3.187676                 3.957320             15   \n",
       "\n",
       "   R_major_email  \n",
       "0             15  \n",
       "1              1  \n",
       "2             15  \n",
       "3             15  \n",
       "4             15  \n",
       "\n",
       "[5 rows x 422 columns]"
      ]
     },
     "execution_count": 4,
     "metadata": {},
     "output_type": "execute_result"
    }
   ],
   "source": [
    "df_le.head()"
   ]
  },
  {
   "cell_type": "code",
   "execution_count": 5,
   "metadata": {},
   "outputs": [
    {
     "data": {
      "text/html": [
       "<div>\n",
       "<style scoped>\n",
       "    .dataframe tbody tr th:only-of-type {\n",
       "        vertical-align: middle;\n",
       "    }\n",
       "\n",
       "    .dataframe tbody tr th {\n",
       "        vertical-align: top;\n",
       "    }\n",
       "\n",
       "    .dataframe thead th {\n",
       "        text-align: right;\n",
       "    }\n",
       "</style>\n",
       "<table border=\"1\" class=\"dataframe\">\n",
       "  <thead>\n",
       "    <tr style=\"text-align: right;\">\n",
       "      <th></th>\n",
       "      <th>isFraud</th>\n",
       "      <th>TransactionAmt</th>\n",
       "      <th>card1</th>\n",
       "      <th>card2</th>\n",
       "      <th>card3</th>\n",
       "      <th>card5</th>\n",
       "      <th>addr1</th>\n",
       "      <th>addr2</th>\n",
       "      <th>dist1</th>\n",
       "      <th>C1</th>\n",
       "      <th>...</th>\n",
       "      <th>R_major_email_q</th>\n",
       "      <th>R_major_email_rocketmail</th>\n",
       "      <th>R_major_email_sbcglobal</th>\n",
       "      <th>R_major_email_scranton</th>\n",
       "      <th>R_major_email_suddenlink</th>\n",
       "      <th>R_major_email_twc</th>\n",
       "      <th>R_major_email_verizon</th>\n",
       "      <th>R_major_email_web</th>\n",
       "      <th>R_major_email_yahoo</th>\n",
       "      <th>R_major_email_ymail</th>\n",
       "    </tr>\n",
       "  </thead>\n",
       "  <tbody>\n",
       "    <tr>\n",
       "      <th>0</th>\n",
       "      <td>0</td>\n",
       "      <td>107.950</td>\n",
       "      <td>12695</td>\n",
       "      <td>490.0</td>\n",
       "      <td>150.0</td>\n",
       "      <td>226.0</td>\n",
       "      <td>325.000000</td>\n",
       "      <td>87.00000</td>\n",
       "      <td>11.00000</td>\n",
       "      <td>2.0</td>\n",
       "      <td>...</td>\n",
       "      <td>0</td>\n",
       "      <td>0</td>\n",
       "      <td>0</td>\n",
       "      <td>0</td>\n",
       "      <td>0</td>\n",
       "      <td>0</td>\n",
       "      <td>0</td>\n",
       "      <td>0</td>\n",
       "      <td>0</td>\n",
       "      <td>0</td>\n",
       "    </tr>\n",
       "    <tr>\n",
       "      <th>1</th>\n",
       "      <td>0</td>\n",
       "      <td>25.000</td>\n",
       "      <td>12929</td>\n",
       "      <td>285.0</td>\n",
       "      <td>150.0</td>\n",
       "      <td>226.0</td>\n",
       "      <td>184.000000</td>\n",
       "      <td>87.00000</td>\n",
       "      <td>118.50218</td>\n",
       "      <td>2.0</td>\n",
       "      <td>...</td>\n",
       "      <td>0</td>\n",
       "      <td>0</td>\n",
       "      <td>0</td>\n",
       "      <td>0</td>\n",
       "      <td>0</td>\n",
       "      <td>0</td>\n",
       "      <td>0</td>\n",
       "      <td>0</td>\n",
       "      <td>0</td>\n",
       "      <td>0</td>\n",
       "    </tr>\n",
       "    <tr>\n",
       "      <th>2</th>\n",
       "      <td>0</td>\n",
       "      <td>57.950</td>\n",
       "      <td>9500</td>\n",
       "      <td>321.0</td>\n",
       "      <td>150.0</td>\n",
       "      <td>226.0</td>\n",
       "      <td>204.000000</td>\n",
       "      <td>87.00000</td>\n",
       "      <td>6.00000</td>\n",
       "      <td>3.0</td>\n",
       "      <td>...</td>\n",
       "      <td>0</td>\n",
       "      <td>0</td>\n",
       "      <td>0</td>\n",
       "      <td>0</td>\n",
       "      <td>0</td>\n",
       "      <td>0</td>\n",
       "      <td>0</td>\n",
       "      <td>0</td>\n",
       "      <td>0</td>\n",
       "      <td>0</td>\n",
       "    </tr>\n",
       "    <tr>\n",
       "      <th>3</th>\n",
       "      <td>0</td>\n",
       "      <td>100.000</td>\n",
       "      <td>12769</td>\n",
       "      <td>555.0</td>\n",
       "      <td>150.0</td>\n",
       "      <td>224.0</td>\n",
       "      <td>204.000000</td>\n",
       "      <td>87.00000</td>\n",
       "      <td>118.50218</td>\n",
       "      <td>1.0</td>\n",
       "      <td>...</td>\n",
       "      <td>0</td>\n",
       "      <td>0</td>\n",
       "      <td>0</td>\n",
       "      <td>0</td>\n",
       "      <td>0</td>\n",
       "      <td>0</td>\n",
       "      <td>0</td>\n",
       "      <td>0</td>\n",
       "      <td>0</td>\n",
       "      <td>0</td>\n",
       "    </tr>\n",
       "    <tr>\n",
       "      <th>4</th>\n",
       "      <td>1</td>\n",
       "      <td>32.356</td>\n",
       "      <td>12778</td>\n",
       "      <td>500.0</td>\n",
       "      <td>185.0</td>\n",
       "      <td>224.0</td>\n",
       "      <td>290.733794</td>\n",
       "      <td>86.80063</td>\n",
       "      <td>118.50218</td>\n",
       "      <td>13.0</td>\n",
       "      <td>...</td>\n",
       "      <td>0</td>\n",
       "      <td>0</td>\n",
       "      <td>0</td>\n",
       "      <td>0</td>\n",
       "      <td>0</td>\n",
       "      <td>0</td>\n",
       "      <td>0</td>\n",
       "      <td>0</td>\n",
       "      <td>0</td>\n",
       "      <td>0</td>\n",
       "    </tr>\n",
       "  </tbody>\n",
       "</table>\n",
       "<p>5 rows × 509 columns</p>\n",
       "</div>"
      ],
      "text/plain": [
       "   isFraud  TransactionAmt  card1  card2  card3  card5       addr1     addr2  \\\n",
       "0        0         107.950  12695  490.0  150.0  226.0  325.000000  87.00000   \n",
       "1        0          25.000  12929  285.0  150.0  226.0  184.000000  87.00000   \n",
       "2        0          57.950   9500  321.0  150.0  226.0  204.000000  87.00000   \n",
       "3        0         100.000  12769  555.0  150.0  224.0  204.000000  87.00000   \n",
       "4        1          32.356  12778  500.0  185.0  224.0  290.733794  86.80063   \n",
       "\n",
       "       dist1    C1  ...  R_major_email_q  R_major_email_rocketmail  \\\n",
       "0   11.00000   2.0  ...                0                         0   \n",
       "1  118.50218   2.0  ...                0                         0   \n",
       "2    6.00000   3.0  ...                0                         0   \n",
       "3  118.50218   1.0  ...                0                         0   \n",
       "4  118.50218  13.0  ...                0                         0   \n",
       "\n",
       "   R_major_email_sbcglobal  R_major_email_scranton  R_major_email_suddenlink  \\\n",
       "0                        0                       0                         0   \n",
       "1                        0                       0                         0   \n",
       "2                        0                       0                         0   \n",
       "3                        0                       0                         0   \n",
       "4                        0                       0                         0   \n",
       "\n",
       "   R_major_email_twc  R_major_email_verizon  R_major_email_web  \\\n",
       "0                  0                      0                  0   \n",
       "1                  0                      0                  0   \n",
       "2                  0                      0                  0   \n",
       "3                  0                      0                  0   \n",
       "4                  0                      0                  0   \n",
       "\n",
       "   R_major_email_yahoo  R_major_email_ymail  \n",
       "0                    0                    0  \n",
       "1                    0                    0  \n",
       "2                    0                    0  \n",
       "3                    0                    0  \n",
       "4                    0                    0  \n",
       "\n",
       "[5 rows x 509 columns]"
      ]
     },
     "execution_count": 5,
     "metadata": {},
     "output_type": "execute_result"
    }
   ],
   "source": [
    "df_db.head()"
   ]
  },
  {
   "cell_type": "code",
   "execution_count": 6,
   "metadata": {},
   "outputs": [
    {
     "name": "stdout",
     "output_type": "stream",
     "text": [
      "<class 'pandas.core.frame.DataFrame'>\n",
      "RangeIndex: 32902 entries, 0 to 32901\n",
      "Columns: 422 entries, isFraud to R_major_email\n",
      "dtypes: float64(395), int64(27)\n",
      "memory usage: 105.9 MB\n"
     ]
    }
   ],
   "source": [
    "df_le.info()"
   ]
  },
  {
   "cell_type": "code",
   "execution_count": 7,
   "metadata": {},
   "outputs": [
    {
     "name": "stdout",
     "output_type": "stream",
     "text": [
      "<class 'pandas.core.frame.DataFrame'>\n",
      "RangeIndex: 32902 entries, 0 to 32901\n",
      "Columns: 509 entries, isFraud to R_major_email_ymail\n",
      "dtypes: float64(395), int64(114)\n",
      "memory usage: 127.8 MB\n"
     ]
    }
   ],
   "source": [
    "df_db.info()"
   ]
  },
  {
   "cell_type": "markdown",
   "metadata": {},
   "source": [
    "# Evaluating and Comparing Machine Learning Models\n",
    "In this section we will build, train, and evalute several machine learning methods for our supervised regression task. The objective is to determine which model holds the most promise for further development (such as hyperparameter tuning)."
   ]
  },
  {
   "cell_type": "markdown",
   "metadata": {},
   "source": [
    "## Split Train and Test set¶\n",
    "Let's split dataset by using function train_test_split(). Here, the Dataset is broken into two parts in a ratio of 80:20. It means 80% data will be used for model training and 20% for model testing.\n",
    "\n",
    "To continue feature selection, we will start by using the original attributes in the raw training set."
   ]
  },
  {
   "cell_type": "code",
   "execution_count": 8,
   "metadata": {},
   "outputs": [],
   "source": [
    "# X is the feature set\n",
    "X_le = df_le.drop(labels=['isFraud'], axis=1)\n",
    "\n",
    "# Y is the target variable\n",
    "y_le = df_le['isFraud']"
   ]
  },
  {
   "cell_type": "code",
   "execution_count": 9,
   "metadata": {},
   "outputs": [],
   "source": [
    "# df_le\n",
    "X_train, X_test, y_train, y_test = train_test_split(X_le, y_le, test_size=0.2, random_state=42)"
   ]
  },
  {
   "cell_type": "code",
   "execution_count": 10,
   "metadata": {},
   "outputs": [],
   "source": [
    "X_le_train = X_train.values\n",
    "X_le_test = X_test.values\n",
    "y_le_train = y_train.values\n",
    "y_le_test = y_test.values"
   ]
  },
  {
   "cell_type": "code",
   "execution_count": 11,
   "metadata": {},
   "outputs": [
    {
     "name": "stdout",
     "output_type": "stream",
     "text": [
      "X_shapes:\n",
      " X_train: X_test:\n",
      " (26321, 421) (6581, 421) \n",
      "\n",
      "Y_shapes:\n",
      " Y_train: Y_test:\n",
      " (26321,) (6581,)\n"
     ]
    }
   ],
   "source": [
    "print('X_shapes:\\n', 'X_train:', 'X_test:\\n', X_le_train.shape, X_le_test.shape, '\\n')\n",
    "print('Y_shapes:\\n', 'Y_train:', 'Y_test:\\n', y_le_train.shape, y_le_test.shape)"
   ]
  },
  {
   "cell_type": "code",
   "execution_count": 12,
   "metadata": {},
   "outputs": [],
   "source": [
    "# X is the feature set\n",
    "X_db = df_db.drop(labels=['isFraud'], axis=1)\n",
    "# Y is the target variable\n",
    "y_db = df_db['isFraud']"
   ]
  },
  {
   "cell_type": "code",
   "execution_count": 13,
   "metadata": {},
   "outputs": [],
   "source": [
    "# df_db\n",
    "X_train, X_test, y_train, y_test = train_test_split(X_db, y_db, test_size=0.2, random_state=42)"
   ]
  },
  {
   "cell_type": "code",
   "execution_count": 14,
   "metadata": {},
   "outputs": [],
   "source": [
    "X_db_train = X_train.values\n",
    "X_db_test = X_test.values\n",
    "y_db_train = y_train.values\n",
    "y_db_test = y_test.values"
   ]
  },
  {
   "cell_type": "code",
   "execution_count": 15,
   "metadata": {},
   "outputs": [
    {
     "name": "stdout",
     "output_type": "stream",
     "text": [
      "X_shapes:\n",
      " X_train: X_test:\n",
      " (26321, 508) (6581, 508) \n",
      "\n",
      "Y_shapes:\n",
      " Y_train: Y_test:\n",
      " (26321,) (6581,)\n"
     ]
    }
   ],
   "source": [
    "print('X_shapes:\\n', 'X_train:', 'X_test:\\n', X_db_train.shape, X_db_test.shape, '\\n')\n",
    "print('Y_shapes:\\n', 'Y_train:', 'Y_test:\\n', y_db_train.shape, y_db_test.shape)"
   ]
  },
  {
   "cell_type": "markdown",
   "metadata": {},
   "source": [
    "### Imputing Missing Values Again\n",
    "Standard machine learning models cannot deal with missing values, and which means we have to find a way to fill these in or disard any features with missing values. Imputing also helps to reduce bias due to missingness: ‘rather than deleting cases that are subject to item-nonresponse, the sample size is maintained resulting in a potentially higher efficiency than for case deletion'[Durrant](https://www.tandfonline.com/doi/full/10.1080/1743727X.2014.979146#).\n",
    "\n",
    "Here, we will fill in missing values with the mean of the column."
   ]
  },
  {
   "cell_type": "code",
   "execution_count": 16,
   "metadata": {},
   "outputs": [],
   "source": [
    "# Create an imputer object with a mean filling strategy\n",
    "imputer = SimpleImputer(missing_values=np.NaN, strategy='mean')\n",
    "\n",
    "# Train on the training features\n",
    "imputer.fit(X_le_train)\n",
    "\n",
    "# Transform both training data and testing data\n",
    "X_le_train = imputer.transform(X_le_train)\n",
    "X_le_test = imputer.transform(X_le_test)"
   ]
  },
  {
   "cell_type": "code",
   "execution_count": 17,
   "metadata": {},
   "outputs": [
    {
     "name": "stdout",
     "output_type": "stream",
     "text": [
      "Missing values in training features:  0\n",
      "Missing values in testing features:   0\n"
     ]
    }
   ],
   "source": [
    "print('Missing values in training features: ', np.sum(np.isnan(X_le_train)))\n",
    "print('Missing values in testing features:  ', np.sum(np.isnan(X_le_test)))"
   ]
  },
  {
   "cell_type": "code",
   "execution_count": 18,
   "metadata": {},
   "outputs": [
    {
     "name": "stdout",
     "output_type": "stream",
     "text": [
      "(array([], dtype=int64), array([], dtype=int64))\n",
      "(array([], dtype=int64), array([], dtype=int64))\n"
     ]
    }
   ],
   "source": [
    "# Make sure all values are finite\n",
    "print(np.where(~np.isfinite(X_le_train)))\n",
    "print(np.where(~np.isfinite(X_le_test)))"
   ]
  },
  {
   "cell_type": "code",
   "execution_count": 19,
   "metadata": {},
   "outputs": [],
   "source": [
    "# Create an imputer object with a mean filling strategy\n",
    "imputer = SimpleImputer(missing_values=np.NaN, strategy='mean')\n",
    "\n",
    "# Train on the training features\n",
    "imputer.fit(X_db_train)\n",
    "\n",
    "# Transform both training data and testing data\n",
    "X_db_train = imputer.transform(X_db_train)\n",
    "X_db_test = imputer.transform(X_db_test)"
   ]
  },
  {
   "cell_type": "code",
   "execution_count": 20,
   "metadata": {},
   "outputs": [
    {
     "name": "stdout",
     "output_type": "stream",
     "text": [
      "Missing values in training features:  0\n",
      "Missing values in testing features:   0\n"
     ]
    }
   ],
   "source": [
    "print('Missing values in training features: ', np.sum(np.isnan(X_db_train)))\n",
    "print('Missing values in testing features:  ', np.sum(np.isnan(X_db_test)))"
   ]
  },
  {
   "cell_type": "code",
   "execution_count": 21,
   "metadata": {},
   "outputs": [
    {
     "name": "stdout",
     "output_type": "stream",
     "text": [
      "(array([], dtype=int64), array([], dtype=int64))\n",
      "(array([], dtype=int64), array([], dtype=int64))\n"
     ]
    }
   ],
   "source": [
    "# Make sure all values are finite\n",
    "print(np.where(~np.isfinite(X_db_train)))\n",
    "print(np.where(~np.isfinite(X_db_test)))"
   ]
  },
  {
   "cell_type": "markdown",
   "metadata": {},
   "source": [
    "### Scaling Features¶\n",
    "The final step to take before we can build our models is to scale the features. This is necessary because features are in different units, and we want to normalize the features so the units do not affect the algorithm. Linear models and Tree based models do not require feature scaling. Other methods, such as support vector machines and k nearest neighbors, do require it because they take into account the Euclidean distance between observations. So we will only scale df_db since we will regularized logistic regression. "
   ]
  },
  {
   "cell_type": "code",
   "execution_count": 22,
   "metadata": {},
   "outputs": [],
   "source": [
    "# Create the scaler object with a range of 0-1\n",
    "scaler = MinMaxScaler(feature_range=(0, 1))\n",
    "\n",
    "# Fit on the training data\n",
    "scaler.fit(X_db_train)\n",
    "\n",
    "# Transform both the training and testing data\n",
    "X_db_train = scaler.transform(X_db_train)\n",
    "X_db_test = scaler.transform(X_db_test)"
   ]
  },
  {
   "cell_type": "code",
   "execution_count": 23,
   "metadata": {},
   "outputs": [],
   "source": [
    "# Convert y to one-dimensional array (vector)\n",
    "y_db_train = np.array(y_db_train).reshape((-1, ))\n",
    "y_db_test = np.array(y_db_test).reshape((-1, ))"
   ]
  },
  {
   "cell_type": "markdown",
   "metadata": {},
   "source": [
    "# Metric \n",
    "We will evaluate our models based on their predicted probability __ROC AUC score__. ROC AUC \"summarize the trade-off between the true positive rate and false positive rate for a predictive model using different probability thresholds\"[Brownlee](https://machinelearningmastery.com/roc-curves-and-precision-recall-curves-for-classification-in-python/). This is appropriate for our dataset since we are interested in detecting fraudulent transactions which are the minority class in our raw dataset. \n",
    "\n",
    "We’ll also focus on the __false negative rate__, failure to label true fraudulent transactions as fraud, as this has higher consequences than false positives, which are incorrectly labeled normal transactions. Failure to flag true fraudulent transactions will result in revenue loss for the business. \n",
    "\n",
    "Other metrics to keep in mind: \n",
    "\n",
    " * __Precision__: ratio of correctly predicted positive observations to the total predicted positive observations. The question that this metric answer is of all transaction that are labeled as fraud, how many are actually fraud? High precision relates to the low false positive rate. \n",
    "\n",
    "\n",
    " * __Recall (Sensitivity)__: ratio of correctly predicted positive observations to the all observations in actual class - yes. The question recall answers is: Of all the transaction that are truly fraud, how many did we label? \n",
    "\n",
    "\n",
    " * __F1 score__: F1 Score is the weighted average of Precision and Recall. \n",
    " \n",
    "# Inital Model  Selection\n",
    "\n",
    "We will compare three different machine learning models:\n",
    "\n",
    "1. Logistic Regression\n",
    "2. Random Forest Classifer\n",
    "3. Gradient Boosting Classifer \n",
    "\n",
    "We will fit these models the appropiate training set.\n",
    "\n",
    "## Baseline \n",
    "For a naive baseline, we will use logistic regression to predict the probability of fraud occurrence. Unlike linear regression which gives continuous output, logistic regression provides a constant output in predicting binary classes. If the probability 'p' is greater than 0.5, the data is labeled '1'. Probability less than 0.5 is labeled as '0'.\n",
    "\n",
    "## Logistic Regression \n",
    "First, we'll create the model and train the model and make predictions on the testing data.\n"
   ]
  },
  {
   "cell_type": "markdown",
   "metadata": {},
   "source": [
    "### Selecting features using Lasso regularisation\n",
    "\n",
    "Here, we will fit the model and feature selection together in one line of code. First, we specify the Logistic Regression model, and select Lasso (L1) as the penalty. Then, we will use the selectFromModel object from sklearn to select the features with non-zero coefficients."
   ]
  },
  {
   "cell_type": "code",
   "execution_count": 24,
   "metadata": {},
   "outputs": [
    {
     "name": "stderr",
     "output_type": "stream",
     "text": [
      "/Users/tsawaengsri/anaconda3/lib/python3.6/site-packages/sklearn/linear_model/logistic.py:433: FutureWarning: Default solver will be changed to 'lbfgs' in 0.22. Specify a solver to silence this warning.\n",
      "  FutureWarning)\n"
     ]
    },
    {
     "data": {
      "text/plain": [
       "SelectFromModel(estimator=LogisticRegression(C=1, class_weight=None, dual=False, fit_intercept=True,\n",
       "          intercept_scaling=1, max_iter=100, multi_class='warn',\n",
       "          n_jobs=None, penalty='l1', random_state=None, solver='warn',\n",
       "          tol=0.0001, verbose=0, warm_start=False),\n",
       "        max_features=None, norm_order=1, prefit=False, threshold=None)"
      ]
     },
     "execution_count": 24,
     "metadata": {},
     "output_type": "execute_result"
    }
   ],
   "source": [
    "sel_ = SelectFromModel(LogisticRegression(C=1, penalty='l1'))\n",
    "sel_.fit(scaler.transform(X_db_train), y_db_train)"
   ]
  },
  {
   "cell_type": "code",
   "execution_count": 25,
   "metadata": {},
   "outputs": [
    {
     "name": "stdout",
     "output_type": "stream",
     "text": [
      "total features: 508\n",
      "selected features: 226\n",
      "features with coefficients shrank to zero: 282\n"
     ]
    }
   ],
   "source": [
    "# List of selected features\n",
    "selected_feat = X_db.columns[(sel_.get_support())]\n",
    "\n",
    "print('total features: {}'.format((X_db.shape[1])))\n",
    "print('selected features: {}'.format(len(selected_feat)))\n",
    "print('features with coefficients shrank to zero: {}'.format(\n",
    "      np.sum(sel_.estimator_.coef_ == 0)))"
   ]
  },
  {
   "cell_type": "code",
   "execution_count": 26,
   "metadata": {},
   "outputs": [
    {
     "data": {
      "text/plain": [
       "Index(['TransactionAmt', 'card1', 'card2', 'card3', 'card5', 'addr1', 'addr2',\n",
       "       'dist1', 'C1', 'C2',\n",
       "       ...\n",
       "       'R_major_email_optonline', 'R_major_email_prodigy', 'R_major_email_q',\n",
       "       'R_major_email_rocketmail', 'R_major_email_sbcglobal',\n",
       "       'R_major_email_scranton', 'R_major_email_suddenlink',\n",
       "       'R_major_email_twc', 'R_major_email_web', 'R_major_email_ymail'],\n",
       "      dtype='object', length=282)"
      ]
     },
     "execution_count": 26,
     "metadata": {},
     "output_type": "execute_result"
    }
   ],
   "source": [
    "# Identifying removed features\n",
    "removed_feats = X_db.columns[(sel_.estimator_.coef_ == 0).ravel().tolist()]\n",
    "removed_feats"
   ]
  },
  {
   "cell_type": "code",
   "execution_count": 27,
   "metadata": {},
   "outputs": [
    {
     "data": {
      "text/plain": [
       "((26321, 226), (6581, 226))"
      ]
     },
     "execution_count": 27,
     "metadata": {},
     "output_type": "execute_result"
    }
   ],
   "source": [
    "# Removing features from train and test set\n",
    "X_train_selected = sel_.transform(X_db_train)\n",
    "X_test_selected = sel_.transform(X_db_test)\n",
    "X_train_selected.shape, X_test_selected.shape"
   ]
  },
  {
   "cell_type": "code",
   "execution_count": 33,
   "metadata": {},
   "outputs": [],
   "source": [
    "# Function for confusion matrix\n",
    "def per_measure(model, y_test, y_pred):\n",
    "    \n",
    "    \n",
    "    cm = confusion_matrix(model.predict(X_train), y_train)\n",
    "    \n",
    "    FP = cm.sum(axis=0) - np.diag(cm)  \n",
    "    FN = cm.sum(axis=1) - np.diag(cm)\n",
    "    TP = np.diag(cm)\n",
    "    TN = cm.values.sum() - (FP + FN + TP)\n",
    "    \n",
    "    # Sensitivity, hit rate, recall, or true positive rate\n",
    "    TPR = TP/(TP+FN)\n",
    "    # Specificity or true negative rate\n",
    "    TNR = TN/(TN+FP) \n",
    "    # Precision or positive predictive value\n",
    "    PPV = TP/(TP+FP)\n",
    "    # Negative predictive value\n",
    "    NPV = TN/(TN+FN)\n",
    "    # Fall out or false positive rate\n",
    "    FPR = FP/(FP+TN)\n",
    "    # False negative rate\n",
    "    FNR = FN/(TP+FN)\n",
    "    # False discovery rate\n",
    "    FDR = FP/(TP+FP)\n",
    "\n",
    "    # Overall accuracy\n",
    "    ACC = (TP+TN)/(TP+FP+FN+TN)\n",
    "    \n",
    "    print('----------------------------------------------------')\n",
    "    print('Predicted fraudulent transactions correctly (TPR): ', TPR)\n",
    "    print('Predicted normal transactions correctly (TNR): ', TNR)\n",
    "    print('Incorrectly predicted normal transactions (RPR): ', FPR)\n",
    "    print('Incorrectly predicted fraudulent transactions (FNR): ', FNR)"
   ]
  },
  {
   "cell_type": "code",
   "execution_count": 34,
   "metadata": {},
   "outputs": [],
   "source": [
    "# Function to fit and evaluate model performance by cross validation\n",
    "def fit_and_evaluate(model, X_train, y_train):\n",
    "    \n",
    "    kfold = KFold(n_splits=10, random_state=42)\n",
    "    \n",
    "    roc = cross_val_score(model, X_train, y_train, cv=kfold, scoring='roc_auc')\n",
    "    accuracy = cross_val_score(model, X_train, y_train, cv=kfold, scoring='accuracy').mean() * 100\n",
    "    roc_result = '%f (%f)' % (roc.mean(), roc.std())\n",
    "    \n",
    "    print(cross_val_score(model, X_train, y_train, cv=kfold, scoring='roc_auc'))\n",
    "    print(\"This model's ROC AUC score is : \", roc_result)\n",
    "    print('This model has an accuracy of {0:.2f}% in predicting fraudulent transactions.'.format(accuracy))\n",
    "    print(classification_report(y_train, y_pred))\n",
    "     "
   ]
  },
  {
   "cell_type": "code",
   "execution_count": 48,
   "metadata": {},
   "outputs": [],
   "source": [
    "# Function to calculate roc auc score\n",
    "def roc_auc(y_test, y_pred_proba):\n",
    "    auc = metrics.roc_auc_score(y_test, y_pred_proba)\n",
    "    return auc\n",
    "\n",
    "# Takes in a model, trains the model, and evaluates the model on the test set\n",
    "def pred_test(model, X_train, y_train, X_test, y_test):\n",
    "    \n",
    "    # Fit the model with data\n",
    "    model.fit(X_train, y_train)\n",
    "    \n",
    "    # Predict on test set\n",
    "    y_pred = model.predict(X_test)\n",
    "    roc = roc_auc(y_test, y_pred)\n",
    "    \n",
    "    # ROC \n",
    "    roc_result = '%f (%f)' % (roc.mean(), roc.std())\n",
    "    print(\"This model's ROC AUC score is : \", roc_result)\n",
    "    \n",
    "    # Accuracy \n",
    "    acc = accuracy_score(y_test, y_pred)\n",
    "    print(\"This model's Accuracy score is : \", acc)\n",
    "\n",
    "    # Compute confusion matrix, and classification report\n",
    "    cm = confusion_matrix(y_test, y_pred)\n",
    "    FP = cm.sum(axis=0) - np.diag(cm)  \n",
    "    FN = cm.sum(axis=1) - np.diag(cm)\n",
    "    TP = np.diag(cm)\n",
    "    TN = cm.sum() - (FP + FN + TP)\n",
    "    \n",
    "    # Sensitivity, hit rate, recall, or true positive rate\n",
    "    TPR = TP/(TP+FN)\n",
    "    # Specificity or true negative rate\n",
    "    TNR = TN/(TN+FP) \n",
    "    # Precision or positive predictive value\n",
    "    PPV = TP/(TP+FP)\n",
    "    # Negative predictive value\n",
    "    NPV = TN/(TN+FN)\n",
    "    # Fall out or false positive rate\n",
    "    FPR = FP/(FP+TN)\n",
    "    # False negative rate\n",
    "    FNR = FN/(TP+FN)\n",
    "    # False discovery rate\n",
    "    FDR = FP/(TP+FP)\n",
    "\n",
    "    # Overall accuracy\n",
    "    ACC = (TP+TN)/(TP+FP+FN+TN)\n",
    "    \n",
    "    print('----------------------------------------------------')\n",
    "    print('Predicted fraudulent transactions correctly (TPR): ', TPR)\n",
    "    print('Predicted normal transactions correctly (TNR): ', TNR)\n",
    "    print('Incorrectly predicted normal transactions (FPR): ', FPR)\n",
    "    print('Incorrectly predicted fraudulent transactions (FNR): ', FNR)\n",
    "    \n",
    "    print(classification_report(y_test, y_pred)) \n",
    "    "
   ]
  },
  {
   "cell_type": "code",
   "execution_count": 36,
   "metadata": {},
   "outputs": [],
   "source": [
    "# Function to plot ROC curve \n",
    "def roc_curve(model, X_train, y_train, X_test, y_test):\n",
    "    y_pred_proba = model.predict_proba(X_train)[:, 1]\n",
    "    y_pred_proba2 = model.predict_proba(X_test)[:, 1]\n",
    "    fpr, tpr, thresholds = metrics.roc_curve(y_train, y_pred_proba)\n",
    "    fpr2, tpr2, thresholds = metrics.roc_curve(y_test, y_pred_proba2)\n",
    "\n",
    "    model_auc = metrics.roc_auc_score(y_train, y_pred_proba)\n",
    "    model_auc2 = metrics.roc_auc_score(y_test, y_pred_proba2)\n",
    "\n",
    "    fig, ax = plt.subplots()\n",
    "    ax.plot(fpr, tpr, label=\"Train, auc=\"+str(model_auc))\n",
    "    ax.plot(fpr2, tpr2, label=\"Test, auc=\"+str(model_auc2))\n",
    "\n",
    "    plt.title('ROC curve')\n",
    "    ax.legend(loc=4)\n",
    "    plt.xlabel('False Positive Rate')\n",
    "    plt.ylabel('True Positive Rate')\n",
    "\n",
    "    plt.show()"
   ]
  },
  {
   "cell_type": "code",
   "execution_count": 37,
   "metadata": {},
   "outputs": [
    {
     "name": "stdout",
     "output_type": "stream",
     "text": [
      "Logistic Regression\n"
     ]
    },
    {
     "name": "stderr",
     "output_type": "stream",
     "text": [
      "/Users/tsawaengsri/anaconda3/lib/python3.6/site-packages/sklearn/linear_model/logistic.py:433: FutureWarning: Default solver will be changed to 'lbfgs' in 0.22. Specify a solver to silence this warning.\n",
      "  FutureWarning)\n",
      "/Users/tsawaengsri/anaconda3/lib/python3.6/site-packages/sklearn/linear_model/logistic.py:433: FutureWarning: Default solver will be changed to 'lbfgs' in 0.22. Specify a solver to silence this warning.\n",
      "  FutureWarning)\n",
      "/Users/tsawaengsri/anaconda3/lib/python3.6/site-packages/sklearn/linear_model/logistic.py:433: FutureWarning: Default solver will be changed to 'lbfgs' in 0.22. Specify a solver to silence this warning.\n",
      "  FutureWarning)\n",
      "/Users/tsawaengsri/anaconda3/lib/python3.6/site-packages/sklearn/linear_model/logistic.py:433: FutureWarning: Default solver will be changed to 'lbfgs' in 0.22. Specify a solver to silence this warning.\n",
      "  FutureWarning)\n",
      "/Users/tsawaengsri/anaconda3/lib/python3.6/site-packages/sklearn/linear_model/logistic.py:433: FutureWarning: Default solver will be changed to 'lbfgs' in 0.22. Specify a solver to silence this warning.\n",
      "  FutureWarning)\n",
      "/Users/tsawaengsri/anaconda3/lib/python3.6/site-packages/sklearn/linear_model/logistic.py:433: FutureWarning: Default solver will be changed to 'lbfgs' in 0.22. Specify a solver to silence this warning.\n",
      "  FutureWarning)\n",
      "/Users/tsawaengsri/anaconda3/lib/python3.6/site-packages/sklearn/linear_model/logistic.py:433: FutureWarning: Default solver will be changed to 'lbfgs' in 0.22. Specify a solver to silence this warning.\n",
      "  FutureWarning)\n",
      "/Users/tsawaengsri/anaconda3/lib/python3.6/site-packages/sklearn/linear_model/logistic.py:433: FutureWarning: Default solver will be changed to 'lbfgs' in 0.22. Specify a solver to silence this warning.\n",
      "  FutureWarning)\n",
      "/Users/tsawaengsri/anaconda3/lib/python3.6/site-packages/sklearn/linear_model/logistic.py:433: FutureWarning: Default solver will be changed to 'lbfgs' in 0.22. Specify a solver to silence this warning.\n",
      "  FutureWarning)\n",
      "/Users/tsawaengsri/anaconda3/lib/python3.6/site-packages/sklearn/linear_model/logistic.py:433: FutureWarning: Default solver will be changed to 'lbfgs' in 0.22. Specify a solver to silence this warning.\n",
      "  FutureWarning)\n",
      "/Users/tsawaengsri/anaconda3/lib/python3.6/site-packages/sklearn/linear_model/logistic.py:433: FutureWarning: Default solver will be changed to 'lbfgs' in 0.22. Specify a solver to silence this warning.\n",
      "  FutureWarning)\n",
      "/Users/tsawaengsri/anaconda3/lib/python3.6/site-packages/sklearn/linear_model/logistic.py:433: FutureWarning: Default solver will be changed to 'lbfgs' in 0.22. Specify a solver to silence this warning.\n",
      "  FutureWarning)\n",
      "/Users/tsawaengsri/anaconda3/lib/python3.6/site-packages/sklearn/linear_model/logistic.py:433: FutureWarning: Default solver will be changed to 'lbfgs' in 0.22. Specify a solver to silence this warning.\n",
      "  FutureWarning)\n",
      "/Users/tsawaengsri/anaconda3/lib/python3.6/site-packages/sklearn/linear_model/logistic.py:433: FutureWarning: Default solver will be changed to 'lbfgs' in 0.22. Specify a solver to silence this warning.\n",
      "  FutureWarning)\n",
      "/Users/tsawaengsri/anaconda3/lib/python3.6/site-packages/sklearn/linear_model/logistic.py:433: FutureWarning: Default solver will be changed to 'lbfgs' in 0.22. Specify a solver to silence this warning.\n",
      "  FutureWarning)\n",
      "/Users/tsawaengsri/anaconda3/lib/python3.6/site-packages/sklearn/linear_model/logistic.py:433: FutureWarning: Default solver will be changed to 'lbfgs' in 0.22. Specify a solver to silence this warning.\n",
      "  FutureWarning)\n",
      "/Users/tsawaengsri/anaconda3/lib/python3.6/site-packages/sklearn/linear_model/logistic.py:433: FutureWarning: Default solver will be changed to 'lbfgs' in 0.22. Specify a solver to silence this warning.\n",
      "  FutureWarning)\n",
      "/Users/tsawaengsri/anaconda3/lib/python3.6/site-packages/sklearn/linear_model/logistic.py:433: FutureWarning: Default solver will be changed to 'lbfgs' in 0.22. Specify a solver to silence this warning.\n",
      "  FutureWarning)\n",
      "/Users/tsawaengsri/anaconda3/lib/python3.6/site-packages/sklearn/linear_model/logistic.py:433: FutureWarning: Default solver will be changed to 'lbfgs' in 0.22. Specify a solver to silence this warning.\n",
      "  FutureWarning)\n",
      "/Users/tsawaengsri/anaconda3/lib/python3.6/site-packages/sklearn/linear_model/logistic.py:433: FutureWarning: Default solver will be changed to 'lbfgs' in 0.22. Specify a solver to silence this warning.\n",
      "  FutureWarning)\n",
      "/Users/tsawaengsri/anaconda3/lib/python3.6/site-packages/sklearn/linear_model/logistic.py:433: FutureWarning: Default solver will be changed to 'lbfgs' in 0.22. Specify a solver to silence this warning.\n",
      "  FutureWarning)\n",
      "/Users/tsawaengsri/anaconda3/lib/python3.6/site-packages/sklearn/linear_model/logistic.py:433: FutureWarning: Default solver will be changed to 'lbfgs' in 0.22. Specify a solver to silence this warning.\n",
      "  FutureWarning)\n",
      "/Users/tsawaengsri/anaconda3/lib/python3.6/site-packages/sklearn/linear_model/logistic.py:433: FutureWarning: Default solver will be changed to 'lbfgs' in 0.22. Specify a solver to silence this warning.\n",
      "  FutureWarning)\n",
      "/Users/tsawaengsri/anaconda3/lib/python3.6/site-packages/sklearn/linear_model/logistic.py:433: FutureWarning: Default solver will be changed to 'lbfgs' in 0.22. Specify a solver to silence this warning.\n",
      "  FutureWarning)\n",
      "/Users/tsawaengsri/anaconda3/lib/python3.6/site-packages/sklearn/linear_model/logistic.py:433: FutureWarning: Default solver will be changed to 'lbfgs' in 0.22. Specify a solver to silence this warning.\n",
      "  FutureWarning)\n",
      "/Users/tsawaengsri/anaconda3/lib/python3.6/site-packages/sklearn/linear_model/logistic.py:433: FutureWarning: Default solver will be changed to 'lbfgs' in 0.22. Specify a solver to silence this warning.\n",
      "  FutureWarning)\n",
      "/Users/tsawaengsri/anaconda3/lib/python3.6/site-packages/sklearn/linear_model/logistic.py:433: FutureWarning: Default solver will be changed to 'lbfgs' in 0.22. Specify a solver to silence this warning.\n",
      "  FutureWarning)\n",
      "/Users/tsawaengsri/anaconda3/lib/python3.6/site-packages/sklearn/linear_model/logistic.py:433: FutureWarning: Default solver will be changed to 'lbfgs' in 0.22. Specify a solver to silence this warning.\n",
      "  FutureWarning)\n",
      "/Users/tsawaengsri/anaconda3/lib/python3.6/site-packages/sklearn/linear_model/logistic.py:433: FutureWarning: Default solver will be changed to 'lbfgs' in 0.22. Specify a solver to silence this warning.\n",
      "  FutureWarning)\n",
      "/Users/tsawaengsri/anaconda3/lib/python3.6/site-packages/sklearn/linear_model/logistic.py:433: FutureWarning: Default solver will be changed to 'lbfgs' in 0.22. Specify a solver to silence this warning.\n",
      "  FutureWarning)\n"
     ]
    },
    {
     "name": "stdout",
     "output_type": "stream",
     "text": [
      "[0.83947802 0.85708524 0.85305574 0.84588323 0.86200515 0.8575627\n",
      " 0.86371026 0.85145256 0.84917188 0.8524726 ]\n",
      "This model's ROC AUC score is :  0.853188 (0.006955)\n",
      "This model has an accuracy of 77.55% in predicting fraudulent transactions.\n",
      "\n",
      "Duration: 0:01:15.446237\n"
     ]
    }
   ],
   "source": [
    "# Logisitic Regression \n",
    "start_time = datetime.now()\n",
    "\n",
    "print('Logistic Regression')\n",
    "\n",
    "# Instantiate the model (using the default parameters)\n",
    "logreg = LogisticRegression()\n",
    "\n",
    "fit_and_evaluate(logreg, X_train_selected, y_db_train)\n",
    "\n",
    "end_time = datetime.now()\n",
    "print('\\nDuration: {}'.format(end_time - start_time))"
   ]
  },
  {
   "cell_type": "markdown",
   "metadata": {},
   "source": [
    "__Evaluation__: Here, our baseline model has an AUC score of 0.853 on the training set. From the cross validation score, this model doesn't seem to be overfitting since the scores are relatively close within range to each other. The accuracy is 77.55%, which is rather low. Let's see if we can improve the accuracy by tuning some parameters."
   ]
  },
  {
   "cell_type": "markdown",
   "metadata": {},
   "source": [
    "### Optimization\n",
    "Next, we'll optimize our baseline model by tuning its parameters. "
   ]
  },
  {
   "cell_type": "code",
   "execution_count": 38,
   "metadata": {},
   "outputs": [
    {
     "name": "stderr",
     "output_type": "stream",
     "text": [
      "/Users/tsawaengsri/anaconda3/lib/python3.6/site-packages/sklearn/linear_model/logistic.py:433: FutureWarning: Default solver will be changed to 'lbfgs' in 0.22. Specify a solver to silence this warning.\n",
      "  FutureWarning)\n",
      "/Users/tsawaengsri/anaconda3/lib/python3.6/site-packages/sklearn/linear_model/logistic.py:433: FutureWarning: Default solver will be changed to 'lbfgs' in 0.22. Specify a solver to silence this warning.\n",
      "  FutureWarning)\n",
      "/Users/tsawaengsri/anaconda3/lib/python3.6/site-packages/sklearn/linear_model/logistic.py:433: FutureWarning: Default solver will be changed to 'lbfgs' in 0.22. Specify a solver to silence this warning.\n",
      "  FutureWarning)\n",
      "/Users/tsawaengsri/anaconda3/lib/python3.6/site-packages/sklearn/linear_model/logistic.py:433: FutureWarning: Default solver will be changed to 'lbfgs' in 0.22. Specify a solver to silence this warning.\n",
      "  FutureWarning)\n",
      "/Users/tsawaengsri/anaconda3/lib/python3.6/site-packages/sklearn/linear_model/logistic.py:433: FutureWarning: Default solver will be changed to 'lbfgs' in 0.22. Specify a solver to silence this warning.\n",
      "  FutureWarning)\n",
      "/Users/tsawaengsri/anaconda3/lib/python3.6/site-packages/sklearn/linear_model/logistic.py:433: FutureWarning: Default solver will be changed to 'lbfgs' in 0.22. Specify a solver to silence this warning.\n",
      "  FutureWarning)\n",
      "/Users/tsawaengsri/anaconda3/lib/python3.6/site-packages/sklearn/linear_model/logistic.py:433: FutureWarning: Default solver will be changed to 'lbfgs' in 0.22. Specify a solver to silence this warning.\n",
      "  FutureWarning)\n",
      "/Users/tsawaengsri/anaconda3/lib/python3.6/site-packages/sklearn/linear_model/logistic.py:433: FutureWarning: Default solver will be changed to 'lbfgs' in 0.22. Specify a solver to silence this warning.\n",
      "  FutureWarning)\n",
      "/Users/tsawaengsri/anaconda3/lib/python3.6/site-packages/sklearn/linear_model/logistic.py:433: FutureWarning: Default solver will be changed to 'lbfgs' in 0.22. Specify a solver to silence this warning.\n",
      "  FutureWarning)\n",
      "/Users/tsawaengsri/anaconda3/lib/python3.6/site-packages/sklearn/linear_model/logistic.py:433: FutureWarning: Default solver will be changed to 'lbfgs' in 0.22. Specify a solver to silence this warning.\n",
      "  FutureWarning)\n",
      "/Users/tsawaengsri/anaconda3/lib/python3.6/site-packages/sklearn/linear_model/logistic.py:433: FutureWarning: Default solver will be changed to 'lbfgs' in 0.22. Specify a solver to silence this warning.\n",
      "  FutureWarning)\n",
      "/Users/tsawaengsri/anaconda3/lib/python3.6/site-packages/sklearn/linear_model/logistic.py:433: FutureWarning: Default solver will be changed to 'lbfgs' in 0.22. Specify a solver to silence this warning.\n",
      "  FutureWarning)\n",
      "/Users/tsawaengsri/anaconda3/lib/python3.6/site-packages/sklearn/linear_model/logistic.py:433: FutureWarning: Default solver will be changed to 'lbfgs' in 0.22. Specify a solver to silence this warning.\n",
      "  FutureWarning)\n",
      "/Users/tsawaengsri/anaconda3/lib/python3.6/site-packages/sklearn/linear_model/logistic.py:433: FutureWarning: Default solver will be changed to 'lbfgs' in 0.22. Specify a solver to silence this warning.\n",
      "  FutureWarning)\n",
      "/Users/tsawaengsri/anaconda3/lib/python3.6/site-packages/sklearn/linear_model/logistic.py:433: FutureWarning: Default solver will be changed to 'lbfgs' in 0.22. Specify a solver to silence this warning.\n",
      "  FutureWarning)\n",
      "/Users/tsawaengsri/anaconda3/lib/python3.6/site-packages/sklearn/linear_model/logistic.py:433: FutureWarning: Default solver will be changed to 'lbfgs' in 0.22. Specify a solver to silence this warning.\n",
      "  FutureWarning)\n",
      "/Users/tsawaengsri/anaconda3/lib/python3.6/site-packages/sklearn/linear_model/logistic.py:433: FutureWarning: Default solver will be changed to 'lbfgs' in 0.22. Specify a solver to silence this warning.\n",
      "  FutureWarning)\n",
      "/Users/tsawaengsri/anaconda3/lib/python3.6/site-packages/sklearn/linear_model/logistic.py:433: FutureWarning: Default solver will be changed to 'lbfgs' in 0.22. Specify a solver to silence this warning.\n",
      "  FutureWarning)\n",
      "/Users/tsawaengsri/anaconda3/lib/python3.6/site-packages/sklearn/linear_model/logistic.py:433: FutureWarning: Default solver will be changed to 'lbfgs' in 0.22. Specify a solver to silence this warning.\n",
      "  FutureWarning)\n",
      "/Users/tsawaengsri/anaconda3/lib/python3.6/site-packages/sklearn/linear_model/logistic.py:433: FutureWarning: Default solver will be changed to 'lbfgs' in 0.22. Specify a solver to silence this warning.\n",
      "  FutureWarning)\n",
      "/Users/tsawaengsri/anaconda3/lib/python3.6/site-packages/sklearn/linear_model/logistic.py:433: FutureWarning: Default solver will be changed to 'lbfgs' in 0.22. Specify a solver to silence this warning.\n",
      "  FutureWarning)\n",
      "/Users/tsawaengsri/anaconda3/lib/python3.6/site-packages/sklearn/linear_model/logistic.py:433: FutureWarning: Default solver will be changed to 'lbfgs' in 0.22. Specify a solver to silence this warning.\n",
      "  FutureWarning)\n",
      "/Users/tsawaengsri/anaconda3/lib/python3.6/site-packages/sklearn/linear_model/logistic.py:433: FutureWarning: Default solver will be changed to 'lbfgs' in 0.22. Specify a solver to silence this warning.\n",
      "  FutureWarning)\n",
      "/Users/tsawaengsri/anaconda3/lib/python3.6/site-packages/sklearn/linear_model/logistic.py:433: FutureWarning: Default solver will be changed to 'lbfgs' in 0.22. Specify a solver to silence this warning.\n",
      "  FutureWarning)\n",
      "/Users/tsawaengsri/anaconda3/lib/python3.6/site-packages/sklearn/linear_model/logistic.py:433: FutureWarning: Default solver will be changed to 'lbfgs' in 0.22. Specify a solver to silence this warning.\n",
      "  FutureWarning)\n",
      "/Users/tsawaengsri/anaconda3/lib/python3.6/site-packages/sklearn/linear_model/logistic.py:433: FutureWarning: Default solver will be changed to 'lbfgs' in 0.22. Specify a solver to silence this warning.\n",
      "  FutureWarning)\n",
      "/Users/tsawaengsri/anaconda3/lib/python3.6/site-packages/sklearn/linear_model/logistic.py:433: FutureWarning: Default solver will be changed to 'lbfgs' in 0.22. Specify a solver to silence this warning.\n",
      "  FutureWarning)\n",
      "/Users/tsawaengsri/anaconda3/lib/python3.6/site-packages/sklearn/linear_model/logistic.py:433: FutureWarning: Default solver will be changed to 'lbfgs' in 0.22. Specify a solver to silence this warning.\n",
      "  FutureWarning)\n",
      "/Users/tsawaengsri/anaconda3/lib/python3.6/site-packages/sklearn/linear_model/logistic.py:433: FutureWarning: Default solver will be changed to 'lbfgs' in 0.22. Specify a solver to silence this warning.\n",
      "  FutureWarning)\n",
      "/Users/tsawaengsri/anaconda3/lib/python3.6/site-packages/sklearn/linear_model/logistic.py:433: FutureWarning: Default solver will be changed to 'lbfgs' in 0.22. Specify a solver to silence this warning.\n",
      "  FutureWarning)\n",
      "/Users/tsawaengsri/anaconda3/lib/python3.6/site-packages/sklearn/linear_model/logistic.py:433: FutureWarning: Default solver will be changed to 'lbfgs' in 0.22. Specify a solver to silence this warning.\n",
      "  FutureWarning)\n",
      "/Users/tsawaengsri/anaconda3/lib/python3.6/site-packages/sklearn/linear_model/logistic.py:433: FutureWarning: Default solver will be changed to 'lbfgs' in 0.22. Specify a solver to silence this warning.\n",
      "  FutureWarning)\n",
      "/Users/tsawaengsri/anaconda3/lib/python3.6/site-packages/sklearn/linear_model/logistic.py:433: FutureWarning: Default solver will be changed to 'lbfgs' in 0.22. Specify a solver to silence this warning.\n",
      "  FutureWarning)\n",
      "/Users/tsawaengsri/anaconda3/lib/python3.6/site-packages/sklearn/linear_model/logistic.py:433: FutureWarning: Default solver will be changed to 'lbfgs' in 0.22. Specify a solver to silence this warning.\n",
      "  FutureWarning)\n",
      "/Users/tsawaengsri/anaconda3/lib/python3.6/site-packages/sklearn/linear_model/logistic.py:433: FutureWarning: Default solver will be changed to 'lbfgs' in 0.22. Specify a solver to silence this warning.\n",
      "  FutureWarning)\n",
      "/Users/tsawaengsri/anaconda3/lib/python3.6/site-packages/sklearn/linear_model/logistic.py:433: FutureWarning: Default solver will be changed to 'lbfgs' in 0.22. Specify a solver to silence this warning.\n",
      "  FutureWarning)\n",
      "/Users/tsawaengsri/anaconda3/lib/python3.6/site-packages/sklearn/linear_model/logistic.py:433: FutureWarning: Default solver will be changed to 'lbfgs' in 0.22. Specify a solver to silence this warning.\n",
      "  FutureWarning)\n",
      "/Users/tsawaengsri/anaconda3/lib/python3.6/site-packages/sklearn/linear_model/logistic.py:433: FutureWarning: Default solver will be changed to 'lbfgs' in 0.22. Specify a solver to silence this warning.\n",
      "  FutureWarning)\n"
     ]
    },
    {
     "name": "stderr",
     "output_type": "stream",
     "text": [
      "/Users/tsawaengsri/anaconda3/lib/python3.6/site-packages/sklearn/linear_model/logistic.py:433: FutureWarning: Default solver will be changed to 'lbfgs' in 0.22. Specify a solver to silence this warning.\n",
      "  FutureWarning)\n",
      "/Users/tsawaengsri/anaconda3/lib/python3.6/site-packages/sklearn/linear_model/logistic.py:433: FutureWarning: Default solver will be changed to 'lbfgs' in 0.22. Specify a solver to silence this warning.\n",
      "  FutureWarning)\n",
      "/Users/tsawaengsri/anaconda3/lib/python3.6/site-packages/sklearn/linear_model/logistic.py:433: FutureWarning: Default solver will be changed to 'lbfgs' in 0.22. Specify a solver to silence this warning.\n",
      "  FutureWarning)\n",
      "/Users/tsawaengsri/anaconda3/lib/python3.6/site-packages/sklearn/linear_model/logistic.py:433: FutureWarning: Default solver will be changed to 'lbfgs' in 0.22. Specify a solver to silence this warning.\n",
      "  FutureWarning)\n",
      "/Users/tsawaengsri/anaconda3/lib/python3.6/site-packages/sklearn/linear_model/logistic.py:433: FutureWarning: Default solver will be changed to 'lbfgs' in 0.22. Specify a solver to silence this warning.\n",
      "  FutureWarning)\n",
      "/Users/tsawaengsri/anaconda3/lib/python3.6/site-packages/sklearn/linear_model/logistic.py:433: FutureWarning: Default solver will be changed to 'lbfgs' in 0.22. Specify a solver to silence this warning.\n",
      "  FutureWarning)\n",
      "/Users/tsawaengsri/anaconda3/lib/python3.6/site-packages/sklearn/linear_model/logistic.py:433: FutureWarning: Default solver will be changed to 'lbfgs' in 0.22. Specify a solver to silence this warning.\n",
      "  FutureWarning)\n",
      "/Users/tsawaengsri/anaconda3/lib/python3.6/site-packages/sklearn/linear_model/logistic.py:433: FutureWarning: Default solver will be changed to 'lbfgs' in 0.22. Specify a solver to silence this warning.\n",
      "  FutureWarning)\n",
      "/Users/tsawaengsri/anaconda3/lib/python3.6/site-packages/sklearn/linear_model/logistic.py:433: FutureWarning: Default solver will be changed to 'lbfgs' in 0.22. Specify a solver to silence this warning.\n",
      "  FutureWarning)\n",
      "/Users/tsawaengsri/anaconda3/lib/python3.6/site-packages/sklearn/linear_model/logistic.py:433: FutureWarning: Default solver will be changed to 'lbfgs' in 0.22. Specify a solver to silence this warning.\n",
      "  FutureWarning)\n",
      "/Users/tsawaengsri/anaconda3/lib/python3.6/site-packages/sklearn/linear_model/logistic.py:433: FutureWarning: Default solver will be changed to 'lbfgs' in 0.22. Specify a solver to silence this warning.\n",
      "  FutureWarning)\n",
      "/Users/tsawaengsri/anaconda3/lib/python3.6/site-packages/sklearn/linear_model/logistic.py:433: FutureWarning: Default solver will be changed to 'lbfgs' in 0.22. Specify a solver to silence this warning.\n",
      "  FutureWarning)\n",
      "/Users/tsawaengsri/anaconda3/lib/python3.6/site-packages/sklearn/linear_model/logistic.py:433: FutureWarning: Default solver will be changed to 'lbfgs' in 0.22. Specify a solver to silence this warning.\n",
      "  FutureWarning)\n",
      "/Users/tsawaengsri/anaconda3/lib/python3.6/site-packages/sklearn/linear_model/logistic.py:433: FutureWarning: Default solver will be changed to 'lbfgs' in 0.22. Specify a solver to silence this warning.\n",
      "  FutureWarning)\n",
      "/Users/tsawaengsri/anaconda3/lib/python3.6/site-packages/sklearn/linear_model/logistic.py:433: FutureWarning: Default solver will be changed to 'lbfgs' in 0.22. Specify a solver to silence this warning.\n",
      "  FutureWarning)\n",
      "/Users/tsawaengsri/anaconda3/lib/python3.6/site-packages/sklearn/linear_model/logistic.py:433: FutureWarning: Default solver will be changed to 'lbfgs' in 0.22. Specify a solver to silence this warning.\n",
      "  FutureWarning)\n",
      "/Users/tsawaengsri/anaconda3/lib/python3.6/site-packages/sklearn/linear_model/logistic.py:433: FutureWarning: Default solver will be changed to 'lbfgs' in 0.22. Specify a solver to silence this warning.\n",
      "  FutureWarning)\n",
      "/Users/tsawaengsri/anaconda3/lib/python3.6/site-packages/sklearn/linear_model/logistic.py:433: FutureWarning: Default solver will be changed to 'lbfgs' in 0.22. Specify a solver to silence this warning.\n",
      "  FutureWarning)\n",
      "/Users/tsawaengsri/anaconda3/lib/python3.6/site-packages/sklearn/linear_model/logistic.py:433: FutureWarning: Default solver will be changed to 'lbfgs' in 0.22. Specify a solver to silence this warning.\n",
      "  FutureWarning)\n",
      "/Users/tsawaengsri/anaconda3/lib/python3.6/site-packages/sklearn/linear_model/logistic.py:433: FutureWarning: Default solver will be changed to 'lbfgs' in 0.22. Specify a solver to silence this warning.\n",
      "  FutureWarning)\n",
      "/Users/tsawaengsri/anaconda3/lib/python3.6/site-packages/sklearn/linear_model/logistic.py:433: FutureWarning: Default solver will be changed to 'lbfgs' in 0.22. Specify a solver to silence this warning.\n",
      "  FutureWarning)\n",
      "/Users/tsawaengsri/anaconda3/lib/python3.6/site-packages/sklearn/linear_model/logistic.py:433: FutureWarning: Default solver will be changed to 'lbfgs' in 0.22. Specify a solver to silence this warning.\n",
      "  FutureWarning)\n",
      "/Users/tsawaengsri/anaconda3/lib/python3.6/site-packages/sklearn/linear_model/logistic.py:433: FutureWarning: Default solver will be changed to 'lbfgs' in 0.22. Specify a solver to silence this warning.\n",
      "  FutureWarning)\n",
      "/Users/tsawaengsri/anaconda3/lib/python3.6/site-packages/sklearn/linear_model/logistic.py:433: FutureWarning: Default solver will be changed to 'lbfgs' in 0.22. Specify a solver to silence this warning.\n",
      "  FutureWarning)\n",
      "/Users/tsawaengsri/anaconda3/lib/python3.6/site-packages/sklearn/linear_model/logistic.py:433: FutureWarning: Default solver will be changed to 'lbfgs' in 0.22. Specify a solver to silence this warning.\n",
      "  FutureWarning)\n",
      "/Users/tsawaengsri/anaconda3/lib/python3.6/site-packages/sklearn/linear_model/logistic.py:433: FutureWarning: Default solver will be changed to 'lbfgs' in 0.22. Specify a solver to silence this warning.\n",
      "  FutureWarning)\n",
      "/Users/tsawaengsri/anaconda3/lib/python3.6/site-packages/sklearn/linear_model/logistic.py:433: FutureWarning: Default solver will be changed to 'lbfgs' in 0.22. Specify a solver to silence this warning.\n",
      "  FutureWarning)\n",
      "/Users/tsawaengsri/anaconda3/lib/python3.6/site-packages/sklearn/linear_model/logistic.py:433: FutureWarning: Default solver will be changed to 'lbfgs' in 0.22. Specify a solver to silence this warning.\n",
      "  FutureWarning)\n",
      "/Users/tsawaengsri/anaconda3/lib/python3.6/site-packages/sklearn/linear_model/logistic.py:433: FutureWarning: Default solver will be changed to 'lbfgs' in 0.22. Specify a solver to silence this warning.\n",
      "  FutureWarning)\n",
      "/Users/tsawaengsri/anaconda3/lib/python3.6/site-packages/sklearn/linear_model/logistic.py:433: FutureWarning: Default solver will be changed to 'lbfgs' in 0.22. Specify a solver to silence this warning.\n",
      "  FutureWarning)\n",
      "/Users/tsawaengsri/anaconda3/lib/python3.6/site-packages/sklearn/linear_model/logistic.py:433: FutureWarning: Default solver will be changed to 'lbfgs' in 0.22. Specify a solver to silence this warning.\n",
      "  FutureWarning)\n",
      "/Users/tsawaengsri/anaconda3/lib/python3.6/site-packages/sklearn/linear_model/logistic.py:433: FutureWarning: Default solver will be changed to 'lbfgs' in 0.22. Specify a solver to silence this warning.\n",
      "  FutureWarning)\n",
      "/Users/tsawaengsri/anaconda3/lib/python3.6/site-packages/sklearn/linear_model/logistic.py:433: FutureWarning: Default solver will be changed to 'lbfgs' in 0.22. Specify a solver to silence this warning.\n",
      "  FutureWarning)\n",
      "/Users/tsawaengsri/anaconda3/lib/python3.6/site-packages/sklearn/linear_model/logistic.py:433: FutureWarning: Default solver will be changed to 'lbfgs' in 0.22. Specify a solver to silence this warning.\n",
      "  FutureWarning)\n",
      "/Users/tsawaengsri/anaconda3/lib/python3.6/site-packages/sklearn/linear_model/logistic.py:433: FutureWarning: Default solver will be changed to 'lbfgs' in 0.22. Specify a solver to silence this warning.\n",
      "  FutureWarning)\n",
      "/Users/tsawaengsri/anaconda3/lib/python3.6/site-packages/sklearn/linear_model/logistic.py:433: FutureWarning: Default solver will be changed to 'lbfgs' in 0.22. Specify a solver to silence this warning.\n",
      "  FutureWarning)\n",
      "/Users/tsawaengsri/anaconda3/lib/python3.6/site-packages/sklearn/linear_model/logistic.py:433: FutureWarning: Default solver will be changed to 'lbfgs' in 0.22. Specify a solver to silence this warning.\n",
      "  FutureWarning)\n",
      "/Users/tsawaengsri/anaconda3/lib/python3.6/site-packages/sklearn/linear_model/logistic.py:433: FutureWarning: Default solver will be changed to 'lbfgs' in 0.22. Specify a solver to silence this warning.\n",
      "  FutureWarning)\n"
     ]
    },
    {
     "name": "stderr",
     "output_type": "stream",
     "text": [
      "/Users/tsawaengsri/anaconda3/lib/python3.6/site-packages/sklearn/linear_model/logistic.py:433: FutureWarning: Default solver will be changed to 'lbfgs' in 0.22. Specify a solver to silence this warning.\n",
      "  FutureWarning)\n",
      "/Users/tsawaengsri/anaconda3/lib/python3.6/site-packages/sklearn/linear_model/logistic.py:433: FutureWarning: Default solver will be changed to 'lbfgs' in 0.22. Specify a solver to silence this warning.\n",
      "  FutureWarning)\n",
      "/Users/tsawaengsri/anaconda3/lib/python3.6/site-packages/sklearn/linear_model/logistic.py:433: FutureWarning: Default solver will be changed to 'lbfgs' in 0.22. Specify a solver to silence this warning.\n",
      "  FutureWarning)\n",
      "/Users/tsawaengsri/anaconda3/lib/python3.6/site-packages/sklearn/linear_model/logistic.py:433: FutureWarning: Default solver will be changed to 'lbfgs' in 0.22. Specify a solver to silence this warning.\n",
      "  FutureWarning)\n",
      "/Users/tsawaengsri/anaconda3/lib/python3.6/site-packages/sklearn/linear_model/logistic.py:433: FutureWarning: Default solver will be changed to 'lbfgs' in 0.22. Specify a solver to silence this warning.\n",
      "  FutureWarning)\n",
      "/Users/tsawaengsri/anaconda3/lib/python3.6/site-packages/sklearn/linear_model/logistic.py:433: FutureWarning: Default solver will be changed to 'lbfgs' in 0.22. Specify a solver to silence this warning.\n",
      "  FutureWarning)\n",
      "/Users/tsawaengsri/anaconda3/lib/python3.6/site-packages/sklearn/linear_model/logistic.py:433: FutureWarning: Default solver will be changed to 'lbfgs' in 0.22. Specify a solver to silence this warning.\n",
      "  FutureWarning)\n",
      "/Users/tsawaengsri/anaconda3/lib/python3.6/site-packages/sklearn/linear_model/logistic.py:433: FutureWarning: Default solver will be changed to 'lbfgs' in 0.22. Specify a solver to silence this warning.\n",
      "  FutureWarning)\n",
      "/Users/tsawaengsri/anaconda3/lib/python3.6/site-packages/sklearn/linear_model/logistic.py:433: FutureWarning: Default solver will be changed to 'lbfgs' in 0.22. Specify a solver to silence this warning.\n",
      "  FutureWarning)\n",
      "/Users/tsawaengsri/anaconda3/lib/python3.6/site-packages/sklearn/linear_model/logistic.py:433: FutureWarning: Default solver will be changed to 'lbfgs' in 0.22. Specify a solver to silence this warning.\n",
      "  FutureWarning)\n",
      "/Users/tsawaengsri/anaconda3/lib/python3.6/site-packages/sklearn/linear_model/logistic.py:433: FutureWarning: Default solver will be changed to 'lbfgs' in 0.22. Specify a solver to silence this warning.\n",
      "  FutureWarning)\n",
      "/Users/tsawaengsri/anaconda3/lib/python3.6/site-packages/sklearn/linear_model/logistic.py:433: FutureWarning: Default solver will be changed to 'lbfgs' in 0.22. Specify a solver to silence this warning.\n",
      "  FutureWarning)\n",
      "/Users/tsawaengsri/anaconda3/lib/python3.6/site-packages/sklearn/linear_model/logistic.py:433: FutureWarning: Default solver will be changed to 'lbfgs' in 0.22. Specify a solver to silence this warning.\n",
      "  FutureWarning)\n",
      "/Users/tsawaengsri/anaconda3/lib/python3.6/site-packages/sklearn/linear_model/logistic.py:433: FutureWarning: Default solver will be changed to 'lbfgs' in 0.22. Specify a solver to silence this warning.\n",
      "  FutureWarning)\n",
      "/Users/tsawaengsri/anaconda3/lib/python3.6/site-packages/sklearn/linear_model/logistic.py:433: FutureWarning: Default solver will be changed to 'lbfgs' in 0.22. Specify a solver to silence this warning.\n",
      "  FutureWarning)\n"
     ]
    },
    {
     "name": "stdout",
     "output_type": "stream",
     "text": [
      "{'C': 1, 'penalty': 'l2', 'tol': 1e-05} 0.8528796494139855\n"
     ]
    }
   ],
   "source": [
    "#Optimizing Logistic Regression\n",
    "#parameters = {}\n",
    "#parameters['penalty'] = ['l1', 'l2']\n",
    "#parameters['tol'] = [1e-3, 1e-4, 1e-5]\n",
    "#parameters['C'] = [1, 1e-2, 1e-4]\n",
    "\n",
    "#gsc_lr = GridSearchCV(logreg, parameters, cv=5, scoring='roc_auc')\n",
    "#gsc_lr.fit(X_train_selected, y_db_train)\n",
    "#print(gsc_lr.best_params_, gsc_lr.best_score_)\n",
    "\n",
    "# Result: {'C': 1, 'penalty': 'l2', 'tol': 1e-05} 0.8530127574410966"
   ]
  },
  {
   "cell_type": "code",
   "execution_count": 39,
   "metadata": {},
   "outputs": [
    {
     "name": "stdout",
     "output_type": "stream",
     "text": [
      "Optimized Logistic Regression\n"
     ]
    },
    {
     "name": "stderr",
     "output_type": "stream",
     "text": [
      "/Users/tsawaengsri/anaconda3/lib/python3.6/site-packages/sklearn/linear_model/logistic.py:433: FutureWarning: Default solver will be changed to 'lbfgs' in 0.22. Specify a solver to silence this warning.\n",
      "  FutureWarning)\n",
      "/Users/tsawaengsri/anaconda3/lib/python3.6/site-packages/sklearn/linear_model/logistic.py:433: FutureWarning: Default solver will be changed to 'lbfgs' in 0.22. Specify a solver to silence this warning.\n",
      "  FutureWarning)\n",
      "/Users/tsawaengsri/anaconda3/lib/python3.6/site-packages/sklearn/linear_model/logistic.py:433: FutureWarning: Default solver will be changed to 'lbfgs' in 0.22. Specify a solver to silence this warning.\n",
      "  FutureWarning)\n",
      "/Users/tsawaengsri/anaconda3/lib/python3.6/site-packages/sklearn/linear_model/logistic.py:433: FutureWarning: Default solver will be changed to 'lbfgs' in 0.22. Specify a solver to silence this warning.\n",
      "  FutureWarning)\n",
      "/Users/tsawaengsri/anaconda3/lib/python3.6/site-packages/sklearn/linear_model/logistic.py:433: FutureWarning: Default solver will be changed to 'lbfgs' in 0.22. Specify a solver to silence this warning.\n",
      "  FutureWarning)\n",
      "/Users/tsawaengsri/anaconda3/lib/python3.6/site-packages/sklearn/linear_model/logistic.py:433: FutureWarning: Default solver will be changed to 'lbfgs' in 0.22. Specify a solver to silence this warning.\n",
      "  FutureWarning)\n",
      "/Users/tsawaengsri/anaconda3/lib/python3.6/site-packages/sklearn/linear_model/logistic.py:433: FutureWarning: Default solver will be changed to 'lbfgs' in 0.22. Specify a solver to silence this warning.\n",
      "  FutureWarning)\n",
      "/Users/tsawaengsri/anaconda3/lib/python3.6/site-packages/sklearn/linear_model/logistic.py:433: FutureWarning: Default solver will be changed to 'lbfgs' in 0.22. Specify a solver to silence this warning.\n",
      "  FutureWarning)\n",
      "/Users/tsawaengsri/anaconda3/lib/python3.6/site-packages/sklearn/linear_model/logistic.py:433: FutureWarning: Default solver will be changed to 'lbfgs' in 0.22. Specify a solver to silence this warning.\n",
      "  FutureWarning)\n",
      "/Users/tsawaengsri/anaconda3/lib/python3.6/site-packages/sklearn/linear_model/logistic.py:433: FutureWarning: Default solver will be changed to 'lbfgs' in 0.22. Specify a solver to silence this warning.\n",
      "  FutureWarning)\n",
      "/Users/tsawaengsri/anaconda3/lib/python3.6/site-packages/sklearn/linear_model/logistic.py:433: FutureWarning: Default solver will be changed to 'lbfgs' in 0.22. Specify a solver to silence this warning.\n",
      "  FutureWarning)\n",
      "/Users/tsawaengsri/anaconda3/lib/python3.6/site-packages/sklearn/linear_model/logistic.py:433: FutureWarning: Default solver will be changed to 'lbfgs' in 0.22. Specify a solver to silence this warning.\n",
      "  FutureWarning)\n",
      "/Users/tsawaengsri/anaconda3/lib/python3.6/site-packages/sklearn/linear_model/logistic.py:433: FutureWarning: Default solver will be changed to 'lbfgs' in 0.22. Specify a solver to silence this warning.\n",
      "  FutureWarning)\n",
      "/Users/tsawaengsri/anaconda3/lib/python3.6/site-packages/sklearn/linear_model/logistic.py:433: FutureWarning: Default solver will be changed to 'lbfgs' in 0.22. Specify a solver to silence this warning.\n",
      "  FutureWarning)\n",
      "/Users/tsawaengsri/anaconda3/lib/python3.6/site-packages/sklearn/linear_model/logistic.py:433: FutureWarning: Default solver will be changed to 'lbfgs' in 0.22. Specify a solver to silence this warning.\n",
      "  FutureWarning)\n",
      "/Users/tsawaengsri/anaconda3/lib/python3.6/site-packages/sklearn/linear_model/logistic.py:433: FutureWarning: Default solver will be changed to 'lbfgs' in 0.22. Specify a solver to silence this warning.\n",
      "  FutureWarning)\n",
      "/Users/tsawaengsri/anaconda3/lib/python3.6/site-packages/sklearn/linear_model/logistic.py:433: FutureWarning: Default solver will be changed to 'lbfgs' in 0.22. Specify a solver to silence this warning.\n",
      "  FutureWarning)\n",
      "/Users/tsawaengsri/anaconda3/lib/python3.6/site-packages/sklearn/linear_model/logistic.py:433: FutureWarning: Default solver will be changed to 'lbfgs' in 0.22. Specify a solver to silence this warning.\n",
      "  FutureWarning)\n",
      "/Users/tsawaengsri/anaconda3/lib/python3.6/site-packages/sklearn/linear_model/logistic.py:433: FutureWarning: Default solver will be changed to 'lbfgs' in 0.22. Specify a solver to silence this warning.\n",
      "  FutureWarning)\n",
      "/Users/tsawaengsri/anaconda3/lib/python3.6/site-packages/sklearn/linear_model/logistic.py:433: FutureWarning: Default solver will be changed to 'lbfgs' in 0.22. Specify a solver to silence this warning.\n",
      "  FutureWarning)\n",
      "/Users/tsawaengsri/anaconda3/lib/python3.6/site-packages/sklearn/linear_model/logistic.py:433: FutureWarning: Default solver will be changed to 'lbfgs' in 0.22. Specify a solver to silence this warning.\n",
      "  FutureWarning)\n",
      "/Users/tsawaengsri/anaconda3/lib/python3.6/site-packages/sklearn/linear_model/logistic.py:433: FutureWarning: Default solver will be changed to 'lbfgs' in 0.22. Specify a solver to silence this warning.\n",
      "  FutureWarning)\n",
      "/Users/tsawaengsri/anaconda3/lib/python3.6/site-packages/sklearn/linear_model/logistic.py:433: FutureWarning: Default solver will be changed to 'lbfgs' in 0.22. Specify a solver to silence this warning.\n",
      "  FutureWarning)\n",
      "/Users/tsawaengsri/anaconda3/lib/python3.6/site-packages/sklearn/linear_model/logistic.py:433: FutureWarning: Default solver will be changed to 'lbfgs' in 0.22. Specify a solver to silence this warning.\n",
      "  FutureWarning)\n",
      "/Users/tsawaengsri/anaconda3/lib/python3.6/site-packages/sklearn/linear_model/logistic.py:433: FutureWarning: Default solver will be changed to 'lbfgs' in 0.22. Specify a solver to silence this warning.\n",
      "  FutureWarning)\n",
      "/Users/tsawaengsri/anaconda3/lib/python3.6/site-packages/sklearn/linear_model/logistic.py:433: FutureWarning: Default solver will be changed to 'lbfgs' in 0.22. Specify a solver to silence this warning.\n",
      "  FutureWarning)\n",
      "/Users/tsawaengsri/anaconda3/lib/python3.6/site-packages/sklearn/linear_model/logistic.py:433: FutureWarning: Default solver will be changed to 'lbfgs' in 0.22. Specify a solver to silence this warning.\n",
      "  FutureWarning)\n",
      "/Users/tsawaengsri/anaconda3/lib/python3.6/site-packages/sklearn/linear_model/logistic.py:433: FutureWarning: Default solver will be changed to 'lbfgs' in 0.22. Specify a solver to silence this warning.\n",
      "  FutureWarning)\n",
      "/Users/tsawaengsri/anaconda3/lib/python3.6/site-packages/sklearn/linear_model/logistic.py:433: FutureWarning: Default solver will be changed to 'lbfgs' in 0.22. Specify a solver to silence this warning.\n",
      "  FutureWarning)\n",
      "/Users/tsawaengsri/anaconda3/lib/python3.6/site-packages/sklearn/linear_model/logistic.py:433: FutureWarning: Default solver will be changed to 'lbfgs' in 0.22. Specify a solver to silence this warning.\n",
      "  FutureWarning)\n"
     ]
    },
    {
     "name": "stdout",
     "output_type": "stream",
     "text": [
      "[0.83947628 0.85708697 0.85305459 0.84588381 0.86200284 0.85755923\n",
      " 0.86371373 0.85144736 0.84917476 0.85246972]\n",
      "This model's ROC AUC score is :  0.853187 (0.006956)\n",
      "This model has an accuracy of 77.56% in predicting fraudulent transactions.\n",
      "\n",
      "Duration: 0:01:34.972469\n"
     ]
    }
   ],
   "source": [
    "#Optimized model with Logistic Regression\n",
    "start_time = datetime.now()\n",
    "\n",
    "print('Optimized Logistic Regression')\n",
    "\n",
    "lr_opt = LogisticRegression(C=1, penalty='l2', tol=1e-05)\n",
    "\n",
    "fit_and_evaluate(lr_opt, X_train_selected, y_db_train)\n",
    "\n",
    "end_time = datetime.now()\n",
    "print('\\nDuration: {}'.format(end_time - start_time))\n",
    "    "
   ]
  },
  {
   "cell_type": "markdown",
   "metadata": {},
   "source": [
    "__Evaluation__: The optimized logisitc regression model has essentially the same AUC score of 0.853 on the training set. From the cross validation score, this model doesn't seem to be overfitting since the scores relatively constant. The accuracy is 77.56%, which is an improvement of 0.01%. Since our primary metric is ROC AUC, we will continue with the initial logistic regression model since it has a slightly higher AUC score. "
   ]
  },
  {
   "cell_type": "code",
   "execution_count": 49,
   "metadata": {},
   "outputs": [
    {
     "name": "stdout",
     "output_type": "stream",
     "text": [
      "Logistic Regression\n"
     ]
    },
    {
     "name": "stderr",
     "output_type": "stream",
     "text": [
      "/Users/tsawaengsri/anaconda3/lib/python3.6/site-packages/sklearn/linear_model/logistic.py:433: FutureWarning: Default solver will be changed to 'lbfgs' in 0.22. Specify a solver to silence this warning.\n",
      "  FutureWarning)\n"
     ]
    },
    {
     "name": "stdout",
     "output_type": "stream",
     "text": [
      "This model's ROC AUC score is :  0.772910 (0.000000)\n",
      "----------------------------------------------------\n",
      "Predicted fraudulent transactions correctly (TPR):  [0.82390318 0.72191697]\n",
      "Predicted normal transactions correctly (TNR):  [0.72191697 0.82390318]\n",
      "Incorrectly predicted normal transactions (RPR):  [0.27808303 0.17609682]\n",
      "Incorrectly predicted fraudulent transactions (FNR):  [0.17609682 0.27808303]\n",
      "              precision    recall  f1-score   support\n",
      "\n",
      "           0       0.75      0.82      0.78      3305\n",
      "           1       0.80      0.72      0.76      3276\n",
      "\n",
      "   micro avg       0.77      0.77      0.77      6581\n",
      "   macro avg       0.78      0.77      0.77      6581\n",
      "weighted avg       0.78      0.77      0.77      6581\n",
      "\n",
      "\n",
      "Duration: 0:00:03.796913\n"
     ]
    }
   ],
   "source": [
    "# Logisitic Regression \n",
    "start_time = datetime.now()\n",
    "\n",
    "print('Logistic Regression')\n",
    "\n",
    "# Instantiate the model (using the default parameters)\n",
    "logreg = LogisticRegression()\n",
    "\n",
    "pred_test(logreg, X_train_selected, y_db_train, X_test_selected, y_db_test)\n",
    "\n",
    "end_time = datetime.now()\n",
    "print('\\nDuration: {}'.format(end_time - start_time))"
   ]
  },
  {
   "cell_type": "code",
   "execution_count": 50,
   "metadata": {},
   "outputs": [
    {
     "data": {
      "image/png": "[encoded data removed]",
      "text/plain": [
       "<Figure size 432x288 with 1 Axes>"
      ]
     },
     "metadata": {
      "needs_background": "light"
     },
     "output_type": "display_data"
    }
   ],
   "source": [
    "roc_curve(logreg, X_train_selected, y_db_train, X_test_selected, y_db_test)"
   ]
  },
  {
   "cell_type": "markdown",
   "metadata": {},
   "source": [
    "__Evaluation__: This model's score on the testing set is 0.848 which is approximately close to the baseline model. It properly predicted 72.19% fraudulent transactions of the time. Looking at the false negative rate, this model has improved from misclassifying 27.8% normal transaction in the training set to 17.6% in the testing set. "
   ]
  },
  {
   "cell_type": "markdown",
   "metadata": {},
   "source": [
    "## Random Forest\n",
    "Let's try using a Random Forest on the same training data to see if it will beat the performance of our baseline. The Random Forest is a much more powerful model especially when we use hundreds of trees."
   ]
  },
  {
   "cell_type": "code",
   "execution_count": 51,
   "metadata": {},
   "outputs": [
    {
     "name": "stdout",
     "output_type": "stream",
     "text": [
      "Random Forest Classifer\n",
      "[0.90265828 0.91761941 0.91804951 0.91291582 0.92435646 0.91262767\n",
      " 0.9286832  0.91203292 0.91508818 0.92273301]\n",
      "This model's ROC AUC score is :  0.916138 (0.007052)\n",
      "This model has an accuracy of 83.88% in predicting fraudulent transactions.\n",
      "\n",
      "Duration: 0:06:55.160094\n"
     ]
    }
   ],
   "source": [
    "# Random Forest Classifer\n",
    "start_time = datetime.now()\n",
    "\n",
    "print('Random Forest Classifer')\n",
    "\n",
    "#Create a Gaussian Classifier\n",
    "clf = RandomForestClassifier(n_estimators=100, n_jobs=-1)\n",
    "\n",
    "# Train the classifier\n",
    "fit_and_evaluate(clf, X_le_train, y_le_train)\n",
    "\n",
    "end_time = datetime.now()\n",
    "print('\\nDuration: {}'.format(end_time - start_time))"
   ]
  },
  {
   "cell_type": "markdown",
   "metadata": {},
   "source": [
    "__Evaluation__: It appears that our initial random forest model doesn't appear to overfitt on the training set. It still preformed with a ROC score of 0.916 and has an accuracy of 83.88%."
   ]
  },
  {
   "cell_type": "markdown",
   "metadata": {},
   "source": [
    "### Model Interpretation: Feature Importances\n",
    "For model interpretability, we will take a look at the feature importances of our initial random forest. We may use these feature importances as a method of dimensionality reduction in future work.\n"
   ]
  },
  {
   "cell_type": "code",
   "execution_count": 53,
   "metadata": {},
   "outputs": [
    {
     "data": {
      "text/html": [
       "<div>\n",
       "<style scoped>\n",
       "    .dataframe tbody tr th:only-of-type {\n",
       "        vertical-align: middle;\n",
       "    }\n",
       "\n",
       "    .dataframe tbody tr th {\n",
       "        vertical-align: top;\n",
       "    }\n",
       "\n",
       "    .dataframe thead th {\n",
       "        text-align: right;\n",
       "    }\n",
       "</style>\n",
       "<table border=\"1\" class=\"dataframe\">\n",
       "  <thead>\n",
       "    <tr style=\"text-align: right;\">\n",
       "      <th></th>\n",
       "      <th>Variable</th>\n",
       "      <th>Importance</th>\n",
       "    </tr>\n",
       "  </thead>\n",
       "  <tbody>\n",
       "    <tr>\n",
       "      <th>0</th>\n",
       "      <td>TransactionAmt</td>\n",
       "      <td>0.024820</td>\n",
       "    </tr>\n",
       "    <tr>\n",
       "      <th>23</th>\n",
       "      <td>C13</td>\n",
       "      <td>0.023785</td>\n",
       "    </tr>\n",
       "    <tr>\n",
       "      <th>2</th>\n",
       "      <td>card1</td>\n",
       "      <td>0.019236</td>\n",
       "    </tr>\n",
       "    <tr>\n",
       "      <th>24</th>\n",
       "      <td>C14</td>\n",
       "      <td>0.019068</td>\n",
       "    </tr>\n",
       "    <tr>\n",
       "      <th>417</th>\n",
       "      <td>average_id_02_for_card1</td>\n",
       "      <td>0.017624</td>\n",
       "    </tr>\n",
       "    <tr>\n",
       "      <th>3</th>\n",
       "      <td>card2</td>\n",
       "      <td>0.017529</td>\n",
       "    </tr>\n",
       "    <tr>\n",
       "      <th>415</th>\n",
       "      <td>average_trans_amt_for_card1</td>\n",
       "      <td>0.016325</td>\n",
       "    </tr>\n",
       "    <tr>\n",
       "      <th>416</th>\n",
       "      <td>average_trans_amt_for_card4</td>\n",
       "      <td>0.015562</td>\n",
       "    </tr>\n",
       "    <tr>\n",
       "      <th>8</th>\n",
       "      <td>addr1</td>\n",
       "      <td>0.014455</td>\n",
       "    </tr>\n",
       "    <tr>\n",
       "      <th>414</th>\n",
       "      <td>transaction_hour</td>\n",
       "      <td>0.014248</td>\n",
       "    </tr>\n",
       "  </tbody>\n",
       "</table>\n",
       "</div>"
      ],
      "text/plain": [
       "                        Variable  Importance\n",
       "0                 TransactionAmt    0.024820\n",
       "23                           C13    0.023785\n",
       "2                          card1    0.019236\n",
       "24                           C14    0.019068\n",
       "417      average_id_02_for_card1    0.017624\n",
       "3                          card2    0.017529\n",
       "415  average_trans_amt_for_card1    0.016325\n",
       "416  average_trans_amt_for_card4    0.015562\n",
       "8                          addr1    0.014455\n",
       "414             transaction_hour    0.014248"
      ]
     },
     "execution_count": 53,
     "metadata": {},
     "output_type": "execute_result"
    }
   ],
   "source": [
    "# Top N importances\n",
    "\n",
    "clf.fit(X_le_train, y_le_train)\n",
    "\n",
    "N = 10\n",
    "importances = clf.feature_importances_\n",
    "std = np.std([tree.feature_importances_ for tree in clf.estimators_],\n",
    "             axis=0)\n",
    "\n",
    "# Create a dataframe\n",
    "importances_df = pd.DataFrame({'Variable':X_le.columns, 'Importance': importances})\n",
    "\n",
    "top_N = importances_df.sort_values(by=['Importance'], ascending=False).head(10)\n",
    "\n",
    "top_N"
   ]
  },
  {
   "cell_type": "code",
   "execution_count": 54,
   "metadata": {},
   "outputs": [
    {
     "data": {
      "image/png": "[encoded data removed]",
      "text/plain": [
       "<Figure size 432x288 with 1 Axes>"
      ]
     },
     "metadata": {
      "needs_background": "light"
     },
     "output_type": "display_data"
    }
   ],
   "source": [
    "# Creating a bar plot\n",
    "sns.barplot(y='Variable', x='Importance', data=top_N)\n",
    "# Add labels to your graph\n",
    "plt.xlabel('Feature Importance Score')\n",
    "plt.ylabel('Features')\n",
    "plt.title(\"Visualizing Random Forest Important Features\")\n",
    "plt.show()"
   ]
  },
  {
   "cell_type": "markdown",
   "metadata": {},
   "source": [
    "__Observation__: Transaction amount and counting matches appears to be the most important features in detecting fraud. Our feature engineered variables also made it in the top ten with interactions between transaction amount and card information. \n",
    "\n",
    "Let's try to reduce the noise in the data by placing a threshold of 0.005 for feature importance. "
   ]
  },
  {
   "cell_type": "code",
   "execution_count": 55,
   "metadata": {},
   "outputs": [
    {
     "data": {
      "text/plain": [
       "SelectFromModel(estimator=RandomForestClassifier(bootstrap=True, class_weight=None, criterion='gini',\n",
       "            max_depth=None, max_features='auto', max_leaf_nodes=None,\n",
       "            min_impurity_decrease=0.0, min_impurity_split=None,\n",
       "            min_samples_leaf=1, min_samples_split=2,\n",
       "            min_weight_fraction_leaf=0.0, n_estimators=100, n_jobs=-1,\n",
       "            oob_score=False, random_state=None, verbose=0,\n",
       "            warm_start=False),\n",
       "        max_features=None, norm_order=1, prefit=False, threshold=0.005)"
      ]
     },
     "execution_count": 55,
     "metadata": {},
     "output_type": "execute_result"
    }
   ],
   "source": [
    "# Create a selector object that will use the random forest classifier to identify\n",
    "# features that have an importance of more than 0.005\n",
    "sfm = SelectFromModel(clf, threshold=0.005)\n",
    "\n",
    "# Train the classifier\n",
    "sfm.fit(X_le_train, y_le_train)"
   ]
  },
  {
   "cell_type": "code",
   "execution_count": 56,
   "metadata": {},
   "outputs": [
    {
     "data": {
      "text/plain": [
       "((26321, 58), (6581, 58))"
      ]
     },
     "execution_count": 56,
     "metadata": {},
     "output_type": "execute_result"
    }
   ],
   "source": [
    "# Transform the data to create a new dataset containing only the most important features\n",
    "# Note: We have to apply the transform to both the training X and test X data.\n",
    "X_important_train = sfm.transform(X_le_train)\n",
    "X_important_test = sfm.transform(X_le_test)\n",
    "X_important_train.shape, X_important_test.shape"
   ]
  },
  {
   "cell_type": "code",
   "execution_count": 57,
   "metadata": {},
   "outputs": [
    {
     "name": "stdout",
     "output_type": "stream",
     "text": [
      "[0.89929208 0.91846966 0.91712245 0.91605011 0.92558897 0.91400897\n",
      " 0.92918376 0.90891046 0.91526432 0.92118267]\n",
      "This model's ROC AUC score is :  0.916637 (0.007754)\n",
      "This model has an accuracy of 84.19% in predicting fraudulent transactions.\n",
      "\n",
      "Duration: 0:14:10.650843\n"
     ]
    }
   ],
   "source": [
    "# Create a new random forest classifier for the most important features\n",
    "clf_important = RandomForestClassifier(n_estimators=100, n_jobs=-1)\n",
    "\n",
    "# Train the new classifier on the new dataset containing the most important features\n",
    "fit_and_evaluate(clf_important, X_important_train, y_le_train)\n",
    "\n",
    "end_time = datetime.now()\n",
    "print('\\nDuration: {}'.format(end_time - start_time))"
   ]
  },
  {
   "cell_type": "markdown",
   "metadata": {},
   "source": [
    "__Evaluation__: It looks like our selected importance features didn't have much positive effect on the performance of the model. The AUC score for this model is 0.916, which is lower than the inital random forest model. The accuracy did increase a bit from the previous model. "
   ]
  },
  {
   "cell_type": "markdown",
   "metadata": {},
   "source": [
    "\n",
    "\n",
    "### Optimization \n",
    "We'll continue with all features from the inital random forest for further tuning. "
   ]
  },
  {
   "cell_type": "code",
   "execution_count": null,
   "metadata": {},
   "outputs": [],
   "source": [
    "#Optimizing Random Forest\n",
    "parameters = {}\n",
    "parameters['criterion'] = ['entropy','gini']\n",
    "parameters['max_depth'] = [10, 100, 250, 500]\n",
    "parameters['n_estimators'] = [5,10,20,30]\n",
    "\n",
    "gsc_clf = GridSearchCV(clf, parameters, cv=5, verbose=1, scoring='roc_auc')\n",
    "gsc_clf.fit(X_le_train, y_le_train)\n",
    "print(gsc_clf.best_params_, gsc_clf.best_score_)\n",
    "\n",
    "# Result: {'criterion': 'entropy', 'max_depth': 250, 'n_estimators': 30} 0.909397244318672"
   ]
  },
  {
   "cell_type": "code",
   "execution_count": 58,
   "metadata": {},
   "outputs": [
    {
     "name": "stdout",
     "output_type": "stream",
     "text": [
      "[0.89711719 0.91728162 0.91473132 0.91071089 0.91915824 0.9095709\n",
      " 0.92678497 0.90720069 0.91082066 0.92099841]\n",
      "This model's ROC AUC score is :  0.911672 (0.006898)\n",
      "This model has an accuracy of 83.33% in predicting fraudulent transactions.\n",
      "\n",
      "Duration: 0:02:54.513817\n"
     ]
    }
   ],
   "source": [
    "#Optimized model with Random Forest Classifier\n",
    "start_time = datetime.now()\n",
    "\n",
    "clf_opt = RandomForestClassifier(n_estimators=30,criterion='entropy',max_depth=250)\n",
    "\n",
    "# Train the classifier\n",
    "fit_and_evaluate(clf_opt, X_le_train, y_le_train)\n",
    "\n",
    "end_time = datetime.now()\n",
    "print('\\nDuration: {}'.format(end_time - start_time))"
   ]
  },
  {
   "cell_type": "markdown",
   "metadata": {},
   "source": [
    "__Evaluation__: This model has a AUC score is 0.91 on the testing set and a false negative rate of 19%, which is worse than the inital random forest model. \n",
    "\n",
    "Let's continue tuning to see if we can improve the preformance of the model. "
   ]
  },
  {
   "cell_type": "code",
   "execution_count": 59,
   "metadata": {},
   "outputs": [
    {
     "name": "stdout",
     "output_type": "stream",
     "text": [
      "Fitting 5 folds for each of 27 candidates, totalling 135 fits\n"
     ]
    },
    {
     "name": "stderr",
     "output_type": "stream",
     "text": [
      "[Parallel(n_jobs=1)]: Using backend SequentialBackend with 1 concurrent workers.\n",
      "[Parallel(n_jobs=1)]: Done 135 out of 135 | elapsed:  5.4min finished\n"
     ]
    },
    {
     "name": "stdout",
     "output_type": "stream",
     "text": [
      "{'max_leaf_nodes': 50, 'min_samples_leaf': 50, 'min_samples_split': 50} 0.8672281193704677\n"
     ]
    }
   ],
   "source": [
    "#Optimizing Random Forest\n",
    "parameters = {}\n",
    "parameters['min_samples_leaf'] = [50, 100, 200]\n",
    "parameters['min_samples_split'] = [10, 30, 50]\n",
    "parameters['max_leaf_nodes'] = [2, 10, 50]\n",
    "\n",
    "gsc_clf = GridSearchCV(clf_opt, parameters, cv=5, verbose=1, scoring='roc_auc')\n",
    "gsc_clf.fit(X_le_train, y_le_train)\n",
    "print(gsc_clf.best_params_, gsc_clf.best_score_)"
   ]
  },
  {
   "cell_type": "code",
   "execution_count": 60,
   "metadata": {},
   "outputs": [
    {
     "name": "stdout",
     "output_type": "stream",
     "text": [
      "[0.85060376 0.87263979 0.87082578 0.86816545 0.86888771 0.86543032\n",
      " 0.8820634  0.86368573 0.86250633 0.87261319]\n",
      "This model's ROC AUC score is :  0.868015 (0.008093)\n",
      "This model has an accuracy of 79.09% in predicting fraudulent transactions.\n",
      "\n",
      "Duration: 0:01:56.783948\n"
     ]
    }
   ],
   "source": [
    "#Optimized model with Random Forest Classifier\n",
    "start_time = datetime.now()\n",
    "\n",
    "clf_opt2 = RandomForestClassifier(n_estimators=30,criterion='entropy',max_depth=250, \n",
    "                                  max_leaf_nodes=50, min_samples_leaf=50, min_samples_split=30 )\n",
    "# Train the classifier\n",
    "fit_and_evaluate(clf_opt2, X_le_train, y_le_train)\n",
    "\n",
    "\n",
    "end_time = datetime.now()\n",
    "print('\\nDuration: {}'.format(end_time - start_time))"
   ]
  },
  {
   "cell_type": "markdown",
   "metadata": {},
   "source": [
    "__Evaluation__: Further tuning of random forest has decreased ROC score and has a lower accuracy rate than the previous random forest models. "
   ]
  },
  {
   "cell_type": "markdown",
   "metadata": {},
   "source": [
    "### Best performing Random Forest model"
   ]
  },
  {
   "cell_type": "code",
   "execution_count": 61,
   "metadata": {},
   "outputs": [
    {
     "name": "stdout",
     "output_type": "stream",
     "text": [
      "Random Forest Classifer\n",
      "This model's ROC AUC score is :  0.836982 (0.000000)\n",
      "----------------------------------------------------\n",
      "Predicted fraudulent transactions correctly (TPR):  [0.86535552 0.80860806]\n",
      "Predicted normal transactions correctly (TNR):  [0.80860806 0.86535552]\n",
      "Incorrectly predicted normal transactions (RPR):  [0.19139194 0.13464448]\n",
      "Incorrectly predicted fraudulent transactions (FNR):  [0.13464448 0.19139194]\n",
      "              precision    recall  f1-score   support\n",
      "\n",
      "           0       0.82      0.87      0.84      3305\n",
      "           1       0.86      0.81      0.83      3276\n",
      "\n",
      "   micro avg       0.84      0.84      0.84      6581\n",
      "   macro avg       0.84      0.84      0.84      6581\n",
      "weighted avg       0.84      0.84      0.84      6581\n",
      "\n",
      "\n",
      "Duration: 0:00:08.259765\n"
     ]
    }
   ],
   "source": [
    "# Random Forest Classifer\n",
    "start_time = datetime.now()\n",
    "\n",
    "print('Random Forest Classifer')\n",
    "\n",
    "#Create a Gaussian Classifier\n",
    "clf = RandomForestClassifier(n_estimators=100, n_jobs=-1)\n",
    "\n",
    "pred_test(clf_opt, X_le_train, y_le_train, X_le_test, y_le_test)\n",
    "\n",
    "end_time = datetime.now()\n",
    "print('\\nDuration: {}'.format(end_time - start_time))"
   ]
  },
  {
   "cell_type": "code",
   "execution_count": 63,
   "metadata": {},
   "outputs": [
    {
     "data": {
      "image/png": "[encoded data removed]",
      "text/plain": [
       "<Figure size 432x288 with 1 Axes>"
      ]
     },
     "metadata": {
      "needs_background": "light"
     },
     "output_type": "display_data"
    }
   ],
   "source": [
    "clf.fit(X_le_train, y_le_train)\n",
    "roc_curve(clf, X_le_train, y_le_train, X_le_test, y_le_test)"
   ]
  },
  {
   "cell_type": "markdown",
   "metadata": {},
   "source": [
    "__Evaluation__:  This model has the highest ROC AUC score on the test set 0.916. "
   ]
  },
  {
   "cell_type": "markdown",
   "metadata": {},
   "source": [
    "## Gradient Boost\n",
    "Since tree based algorithm appears to work well with this dataset, we will continue with another ensemble model, gradient boosting. \n"
   ]
  },
  {
   "cell_type": "code",
   "execution_count": null,
   "metadata": {},
   "outputs": [],
   "source": [
    "# Gradient Boosting Classifer \n",
    "start_time = datetime.now()\n",
    "\n",
    "gb = GradientBoostingClassifier(random_state=42)\n",
    "\n",
    "# Train the classifier\n",
    "fit_and_evaluate(gb, X_le_train, y_le_train)\n",
    "\n",
    "end_time = datetime.now()\n",
    "print('\\nDuration: {}'.format(end_time - start_time))"
   ]
  },
  {
   "cell_type": "markdown",
   "metadata": {},
   "source": [
    "__Evaluation__: The inital gradient boosting model has a score of 0.89 on the testing set and false negative rate of 20%. These results are relatively lower than the random forest models.\n",
    "\n",
    "### Feature Importance\n",
    "Let's take a look at the feature importances of this model."
   ]
  },
  {
   "cell_type": "code",
   "execution_count": null,
   "metadata": {},
   "outputs": [],
   "source": [
    "# Top N importances\n",
    "\n",
    "gb.fit(X_le_train, y_le_train)\n",
    "\n",
    "N = 10\n",
    "importances = gb.feature_importances_\n",
    "\n",
    "# Create a dataframe\n",
    "importances_df = pd.DataFrame({'Variable':X_le.columns, 'Importance': importances})\n",
    "\n",
    "top_N_gb = importances_df.sort_values(by=['Importance'], ascending=False).head(10)\n",
    "\n",
    "top_N_gb"
   ]
  },
  {
   "cell_type": "code",
   "execution_count": null,
   "metadata": {},
   "outputs": [],
   "source": [
    "# Creating a bar plot\n",
    "sns.barplot(y='Variable', x='Importance', data=top_N_gb)\n",
    "# Add labels to your graph\n",
    "plt.xlabel('Feature Importance Score')\n",
    "plt.ylabel('Features')\n",
    "plt.title(\"Visualizing Gradient Boosting Important Features\")\n",
    "plt.show()"
   ]
  },
  {
   "cell_type": "markdown",
   "metadata": {},
   "source": [
    "__Observation__: Count of card information matches and Vesta feature engineered variables appear to the top contributing factors in detecting fraud for this model. \n",
    "\n",
    "### Optimization \n",
    "We'll start tuning the number of trees added to the model. [Resource](https://www.datacareer.de/blog/parameter-tuning-in-gradient-boosting-gbm/)"
   ]
  },
  {
   "cell_type": "code",
   "execution_count": null,
   "metadata": {},
   "outputs": [],
   "source": [
    "#Optimizing Boosting Classifer\n",
    "parameters = {}\n",
    "parameters['n_estimators'] = [100,500,1000]\n",
    "parameters['learning_rate'] =[0.15,0.1,0.05,0.01]\n",
    "\n",
    "gsc_gb = GridSearchCV(gb, parameters, cv=5, scoring='roc_auc')\n",
    "gsc_gb.fit(X_le_train, y_le_train)\n",
    "print(gsc_gb.best_params_, gsc_gb.best_score_)\n",
    "\n",
    "# {'n_estimators': 100} 0.8938210139826015"
   ]
  },
  {
   "cell_type": "code",
   "execution_count": null,
   "metadata": {},
   "outputs": [],
   "source": [
    "# Gradient Boosting Classifer \n",
    "start_time = datetime.now()\n",
    "\n",
    "gb_opt = GradientBoostingClassifier(n_estimators=100, random_state=42)\n",
    "\n",
    "# Train the classifier\n",
    "fit_and_evaluate(gb_opt, X_le_train, y_le_train)\n",
    "\n",
    "end_time = datetime.now()\n",
    "print('\\nDuration: {}'.format(end_time - start_time))"
   ]
  },
  {
   "cell_type": "markdown",
   "metadata": {},
   "source": [
    "__Evaluation__: The both the AUC score on the testing model and false negative rate remains around 0.89 and 20%. We'll stop here with tuning Gradient Boosting since it doesn't seem to be beating the Random Forest baseline model. "
   ]
  },
  {
   "cell_type": "markdown",
   "metadata": {},
   "source": [
    "### Best performing Gradient Boosting model"
   ]
  },
  {
   "cell_type": "code",
   "execution_count": null,
   "metadata": {},
   "outputs": [],
   "source": [
    "# Gradient Boosting Classifer \n",
    "start_time = datetime.now()\n",
    "\n",
    "gb = GradientBoostingClassifier(random_state=42)\n",
    "\n",
    "# Train the classifier\n",
    "pred_test(gb, X_le_train, y_le_train)\n",
    "\n",
    "end_time = datetime.now()\n",
    "print('\\nDuration: {}'.format(end_time - start_time))"
   ]
  },
  {
   "cell_type": "code",
   "execution_count": null,
   "metadata": {},
   "outputs": [],
   "source": [
    "gb.fit(X_le_train, y_le_train)\n",
    "roc_curve(gb, X_le_train, y_le_train, X_le_test, y_le_test)"
   ]
  },
  {
   "cell_type": "code",
   "execution_count": null,
   "metadata": {},
   "outputs": [],
   "source": [
    "#Optimizing Boosting Classifer\n",
    "#parameters = {}\n",
    "#parameters['max_depth'] = [2, 3, 4]\n",
    "#parameters['min_samples_leaf'] = [10, 30, 60]\n",
    "#parameters['max_features'] = [5,10,20]\n",
    "\n",
    "\n",
    "#gsc_gb2 = GridSearchCV(gb_opt, parameters, cv=5, verbose=1, scoring='roc_auc')\n",
    "#gsc_gb2.fit(X_le_train, y_le_train)\n",
    "#print(gsc_gb2.best_params_, gsc_gb2.best_score_)"
   ]
  },
  {
   "cell_type": "code",
   "execution_count": null,
   "metadata": {},
   "outputs": [],
   "source": [
    "# Gradient Boosting Classifer \n",
    "#start_time = datetime.now()\n",
    "\n",
    "#gb_opt2 = GradientBoostingClassifier(random_state=42)\n",
    "\n",
    "# Train and fit\n",
    "#gb_opt2.fit(X_le_train, y_le_train)\n",
    "\n",
    "#y_pred = gb_opt2.predict(X_le_test)\n",
    "\n",
    "# Compute confusion matrix, and classification report\n",
    "#print(confusion_matrix(y_le_test, y_pred))\n",
    "#print(classification_report(y_le_test, y_pred))\n",
    "\n",
    "#end_time = datetime.now()\n",
    "#print('\\nDuration: {}'.format(end_time - start_time))"
   ]
  },
  {
   "cell_type": "code",
   "execution_count": null,
   "metadata": {},
   "outputs": [],
   "source": [
    "#Optimizing Boosting Classifer\n",
    "#parameters = {}\n",
    "#parameters['subsample'] = [0.4, 0.6, 0.8]\n",
    "\n",
    "#gsc_gb3 = GridSearchCV(gb_opt2, parameters, cv=5, scoring='roc_auc')\n",
    "#gsc_gb3.fit(X_le_train, y_le_train)\n",
    "#print(gsc_gb3.best_params_, gsc_gb3.best_score_)"
   ]
  },
  {
   "cell_type": "code",
   "execution_count": null,
   "metadata": {},
   "outputs": [],
   "source": [
    "# Gradient Boosting Classifer \n",
    "#start_time = datetime.now()\n",
    "\n",
    "#gb_opt3 = GradientBoostingClassifier(random_state=42)\n",
    "\n",
    "# Train and fit\n",
    "#gb_opt3.fit(X_le_train, y_le_train)\n",
    "\n",
    "#y_pred = gb_opt3.predict(X_le_test)\n",
    "\n",
    "# Compute confusion matrix, and classification report\n",
    "#print(confusion_matrix(y_le_test, y_pred))\n",
    "#print(classification_report(y_le_test, y_pred))\n",
    "\n",
    "#end_time = datetime.now()\n",
    "#print('\\nDuration: {}'.format(end_time - start_time))"
   ]
  },
  {
   "cell_type": "code",
   "execution_count": null,
   "metadata": {},
   "outputs": [],
   "source": [
    "# ROC Curve\n",
    "#y_pred_prob = gb_opt3.predict_proba(X_le_train)[:, 1]\n",
    "#y_pred_proba2 = gb_opt3.predict_proba(X_le_test)[:, 1]\n",
    "#fpr, tpr, _ = metrics.roc_curve(y_le_train, y_pred_proba)\n",
    "#fpr2, tpr2, _ = metrics.roc_curve(y_le_test, y_pred_proba2)\n",
    "\n",
    "#auc = metrics.roc_auc_score(y_le_train, y_pred_proba)\n",
    "#auc2 = metrics.roc_auc_score(y_le_test, y_pred_proba2)\n",
    "\n",
    "#fig, ax = plt.subplots()\n",
    "#ax.plot(fpr, tpr, label=\"Train, auc=\"+str(auc))\n",
    "#ax.plot(fpr2, tpr2, label=\"Test, auc=\"+str(auc2))\n",
    "\n",
    "#plt.title('Optimized Random Forest ROC curve')\n",
    "#ax.legend(['Train set', 'Test set'], loc=4)\n",
    "#plt.xlabel('False Positive Rate')\n",
    "#plt.ylabel('True Positive Rate')\n",
    "\n",
    "#plt.show()"
   ]
  },
  {
   "cell_type": "markdown",
   "metadata": {},
   "source": [
    "## Inital Model Results\n",
    "\n",
    "After feature selection, the logistic regression model performly better than random guess with a ROC score of 0.84 on the test set. Random forest with all features performed that best with a ROC score of 0.91 on the test set. Gradient boosting was a close match to random forest with a ROC score of 0.89 on the test set. However, its false negative rate remained 2% higher than random forset. With these results, we will move forward with only random forest. "
   ]
  },
  {
   "cell_type": "markdown",
   "metadata": {},
   "source": [
    "## Using Random Forest to Learn Imbalanced Data\n",
    "\n",
    "In this section, we will continue to explore different random forest models for our dataset. [Resource](https://statistics.berkeley.edu/sites/default/files/tech-reports/666.pdf)\n",
    "\n",
    "We will compare two different machine learning models:\n",
    "\n",
    "1. Balanced Random Forest Classifer\n",
    "2. Weighted Random Forest Classifer\n"
   ]
  },
  {
   "cell_type": "code",
   "execution_count": null,
   "metadata": {},
   "outputs": [],
   "source": [
    "# Balanced Random Forest Classifer\n",
    "start_time = datetime.now()\n",
    "\n",
    "#Create a Gaussian Classifier\n",
    "bclf = BalancedRandomForestClassifier(random_state=42)\n",
    "\n",
    "# Train the classifier\n",
    "bclf.fit(X_le_train, y_le_train)\n",
    "\n",
    "fit_and_evaluate(bclf, X_le_train, y_le_train)\n",
    "\n",
    "end_time = datetime.now()\n",
    "print('\\nDuration: {}'.format(end_time - start_time))"
   ]
  },
  {
   "cell_type": "markdown",
   "metadata": {},
   "source": [
    "__Evaluation__: This model has a score of 0.911 on the testing set and false negative rate of 18%. These results are comparable to our inital random forest model, the best performing model so far. "
   ]
  },
  {
   "cell_type": "code",
   "execution_count": null,
   "metadata": {},
   "outputs": [],
   "source": [
    "# Top N importances\n",
    "N = 10\n",
    "importances = bclf.feature_importances_\n",
    "std = np.std([tree.feature_importances_ for tree in bclf.estimators_],\n",
    "             axis=0)\n",
    "\n",
    "# Create a dataframe\n",
    "importances_df = pd.DataFrame({'Variable':X_le.columns, 'Importance': importances})\n",
    "\n",
    "top_N_bclf = importances_df.sort_values(by=['Importance'], ascending=False).head(10)\n",
    "\n",
    "top_N_bclf"
   ]
  },
  {
   "cell_type": "code",
   "execution_count": null,
   "metadata": {},
   "outputs": [],
   "source": [
    "# Creating a bar plot\n",
    "sns.barplot(y='Variable', x='Importance', data=top_N_bclf)\n",
    "# Add labels to your graph\n",
    "plt.xlabel('Feature Importance Score')\n",
    "plt.ylabel('Features')\n",
    "plt.title(\"Visualizing Balanced Important Features\")\n",
    "plt.show()"
   ]
  },
  {
   "cell_type": "markdown",
   "metadata": {},
   "source": [
    "__Observation__: Similar to the previous random forest and gradient boosting models, count of matching card information and transaction amount are the most important features in detecting fraud.\n",
    "\n",
    "### Optimization \n",
    "Now, we'll try to tune the model. "
   ]
  },
  {
   "cell_type": "code",
   "execution_count": null,
   "metadata": {},
   "outputs": [],
   "source": [
    "#Optimizing Balanced Random Forest\n",
    "parameters = {}\n",
    "parameters['n_estimators'] = [30, 60, 100]\n",
    "\n",
    "gsc_bclf = GridSearchCV(bclf, parameters, cv=5, verbose=1, scoring='roc_auc')\n",
    "gsc_bclf.fit(X_le_train, y_le_train)\n",
    "print(gsc_bclf.best_params_, gsc_bclf.best_score_)\n",
    "\n",
    "# {'criterion': 'entropy', 'max_depth': 100, 'n_estimators': 30} 0.9081553906428432"
   ]
  },
  {
   "cell_type": "code",
   "execution_count": null,
   "metadata": {},
   "outputs": [],
   "source": [
    "#Optimized model with Balanced Random Forest Classifier\n",
    "start_time = datetime.now()\n",
    "\n",
    "bclf_opt = BalancedRandomForestClassifier(n_estimators=30,criterion='entropy',max_depth=100)\n",
    "bclf_opt.fit(X_le_train, y_le_train)\n",
    "fit_and_evaluate(bclf_opt, X_le_train, y_le_train)\n",
    "\n",
    "end_time = datetime.now()\n",
    "print('\\nDuration: {}'.format(end_time - start_time))"
   ]
  },
  {
   "cell_type": "markdown",
   "metadata": {},
   "source": [
    "__Evaluation__: This model has a score fo 0.91 on the testing set and false negative rate of 19%. Tuning the balanced random forest model has resulted in a lower ROC score and higher false negative rate than previous model. "
   ]
  },
  {
   "cell_type": "markdown",
   "metadata": {},
   "source": [
    "### Best performing Balanced Random Forest model"
   ]
  },
  {
   "cell_type": "code",
   "execution_count": null,
   "metadata": {},
   "outputs": [],
   "source": [
    "# Random Forest Classifer\n",
    "start_time = datetime.now()\n",
    "\n",
    "print('Random Forest Classifer')\n",
    "\n",
    "#Create a Gaussian Classifier\n",
    "bclf = BalancedRandomForestClassifier(n_estimators=100, n_jobs=-1)\n",
    "bclf.fit(X_le_train, y_le_train)\n",
    "pred_test(bclf, X_le_train, y_le_train, X_le_test, y_le_test)\n",
    "\n",
    "end_time = datetime.now()\n",
    "print('\\nDuration: {}'.format(end_time - start_time))"
   ]
  },
  {
   "cell_type": "code",
   "execution_count": null,
   "metadata": {},
   "outputs": [],
   "source": [
    "roc_curve(bclf, X_le_train, y_le_train, X_le_test, y_le_test)"
   ]
  },
  {
   "cell_type": "markdown",
   "metadata": {},
   "source": [
    "## Weighted Random Forest\n",
    "Next, we'll try penalizing incorrectly labeling the classes. "
   ]
  },
  {
   "cell_type": "code",
   "execution_count": null,
   "metadata": {},
   "outputs": [],
   "source": [
    "# Balanced Random Forest Classifer\n",
    "start_time = datetime.now()\n",
    "\n",
    "#Create a Gaussian Classifier\n",
    "bclf_w = BalancedRandomForestClassifier(class_weight=\"balanced\",n_jobs=-1,random_state=42)\n",
    "\n",
    "# Train the classifier\n",
    "bclf_w.fit(X_le_train, y_le_train)\n",
    "fit_and_evaluate(bclf_w, X_le_train, y_le_train)\n",
    "\n",
    "end_time = datetime.now()\n",
    "print('\\nDuration: {}'.format(end_time - start_time))"
   ]
  },
  {
   "cell_type": "markdown",
   "metadata": {},
   "source": [
    "__Evaluation__: This model's score on the test set is 0.912 and false negative rate is 18%. This is an improvement from the inital balanced random forest model. "
   ]
  },
  {
   "cell_type": "code",
   "execution_count": null,
   "metadata": {},
   "outputs": [],
   "source": [
    "# Top N importances\n",
    "N = 10\n",
    "importances = bclf_w.feature_importances_\n",
    "std = np.std([tree.feature_importances_ for tree in bclf_w.estimators_],\n",
    "             axis=0)\n",
    "\n",
    "# Create a dataframe\n",
    "importances_df = pd.DataFrame({'Variable':X_le.columns, 'Importance': importances})\n",
    "\n",
    "top_N_bclf_w = importances_df.sort_values(by=['Importance'], ascending=False).head(10)\n",
    "\n",
    "top_N_bclf_w"
   ]
  },
  {
   "cell_type": "code",
   "execution_count": null,
   "metadata": {},
   "outputs": [],
   "source": [
    "# Creating a bar plot\n",
    "sns.barplot(y='Variable', x='Importance', data=top_N_bclf_w)\n",
    "# Add labels to your graph\n",
    "plt.xlabel('Feature Importance Score')\n",
    "plt.ylabel('Features')\n",
    "plt.title(\"Visualizing Weighted Balanced Important Features\")\n",
    "plt.show()"
   ]
  },
  {
   "cell_type": "markdown",
   "metadata": {},
   "source": [
    "__Observation__: As previously mentioned, count match rate of card information and transaction amount continues to be the best indicators of fraud detection for these models. "
   ]
  },
  {
   "cell_type": "code",
   "execution_count": null,
   "metadata": {},
   "outputs": [],
   "source": [
    "#Optimizing Weighted Balanced Random Forest\n",
    "parameters = {}\n",
    "parameters['max_depth'] = [500, 600, 800]\n",
    "parameters['n_estimators'] = [30, 60, 100]\n",
    "\n",
    "gsc_bclf = GridSearchCV(bclf_w, parameters, cv=5, verbose=1, scoring='roc_auc')\n",
    "gsc_bclf.fit(X_le_train, y_le_train)\n",
    "print(gsc_bclf.best_params_, gsc_bclf.best_score_)\n",
    "\n",
    "#Results: {'criterion': 'entropy', 'max_depth': 500, 'n_estimators': 30} 0.9081101038814143"
   ]
  },
  {
   "cell_type": "code",
   "execution_count": null,
   "metadata": {},
   "outputs": [],
   "source": [
    "#Optimized model with Balanced Random Forest Classifier\n",
    "start_time = datetime.now()\n",
    "\n",
    "bclf_w_opt = BalancedRandomForestClassifier(n_estimators=30,criterion='entropy',max_depth=500)\n",
    "bclf_w_opt.fit(X_le_train, y_le_train)\n",
    "fit_and_evaluate(bclf_w_opt,X_le_train, y_le_train)\n",
    "\n",
    "end_time = datetime.now()\n",
    "print('\\nDuration: {}'.format(end_time - start_time))"
   ]
  },
  {
   "cell_type": "markdown",
   "metadata": {},
   "source": [
    "### Best Weighted Random Forest Model "
   ]
  },
  {
   "cell_type": "code",
   "execution_count": null,
   "metadata": {},
   "outputs": [],
   "source": [
    "# Balanced Random Forest Classifer\n",
    "start_time = datetime.now()\n",
    "\n",
    "#Create a Gaussian Classifier\n",
    "bclf_w = BalancedRandomForestClassifier(class_weight=\"balanced\",n_jobs=-1,random_state=42)\n",
    "\n",
    "# Train the classifier\n",
    "bclf_w.fit(X_le_train, y_le_train)\n",
    "fit_and_evaluate(bclf_w, X_le_train, y_le_train)\n",
    "\n",
    "end_time = datetime.now()\n",
    "print('\\nDuration: {}'.format(end_time - start_time))"
   ]
  },
  {
   "cell_type": "code",
   "execution_count": null,
   "metadata": {},
   "outputs": [],
   "source": [
    "bclf_w.fit(X_le_train, y_le_train)\n",
    "roc_curve(bclf_w, X_le_train, y_le_train, X_le_test, y_le_test"
   ]
  },
  {
   "cell_type": "markdown",
   "metadata": {},
   "source": [
    "__Evaluation__: This model scored 0.91 on the testing set and has a false negative rate of 19%. "
   ]
  },
  {
   "cell_type": "markdown",
   "metadata": {},
   "source": [
    "## Comparing Results\n",
    "Let's aggregate our results and compare model preformance. "
   ]
  },
  {
   "cell_type": "code",
   "execution_count": null,
   "metadata": {},
   "outputs": [],
   "source": [
    "# Dataframe to hold the results\n",
    "model_comparison = pd.DataFrame({'Model': ['Logistic Regression Inital','Logistic Regression Optimized',\n",
    "                                           'Random Forest Classifier Inital','RandomForest Classifier Important Features',\n",
    "                                           'Random Forest Classifier Optimized Iteration 1', 'Random Forest Classifier Optimized Iteration 2',\n",
    "                                           'Gradient Boosting Classifer Inital','Gradient Boosting Classifer Optimized',\n",
    "                                           'Balanced Random Forest Classifer Inital','Balanced Random Forest Classifer Optimized',\n",
    "                                           'Weighted Balanced Random Forest Classifer Inital','Weighted Balanced Random Forest Classifer'],\n",
    "                                 'ROC_AUC Train': [lr_auc, lr_opt_auc, clf_auc, clf_imp_auc, clf_opt_auc, clf_opt2_auc, gb_auc, gb_opt_auc, \n",
    "                                                   bclf_auc, bclf_opt_auc, bclf_w_auc, bclf_w_opt_auc],\n",
    "                                           'ROC_AUC Test': [ lr_auc2, lr_opt_auc2, clf_auc2, clf_imp_auc2, clf_opt_auc2, clf_opt2_auc2, gb_auc2, gb_opt_auc2, \n",
    "                                                            bclf_auc2, bclf_opt_auc2, bclf_w_auc2, bclf_w_opt_auc2]})\n",
    "\n",
    "# Horizontal bar chart of test ROC\n",
    "model_comparison.sort_values('ROC_AUC Test', ascending = False)"
   ]
  },
  {
   "cell_type": "code",
   "execution_count": null,
   "metadata": {},
   "outputs": [],
   "source": [
    "# Sort model comparison\n",
    "sort_model_comp = model_comparison.sort_values('ROC_AUC Test', ascending = False)\n",
    "\n",
    "# Plot model comparison\n",
    "ax = sns.barplot(y = 'Model', x = 'ROC_AUC Test', data=sort_model_comp)\n",
    "ax.set_xlabel('ROC AUC')\n",
    "ax.set_ylabel('')\n",
    "plt.title('Model Comparison Test ROC_AUC')"
   ]
  },
  {
   "cell_type": "markdown",
   "metadata": {},
   "source": [
    "### Result: \n",
    "As shown in the bar chart, the initial random forest class had the best ROC score of 0.916. It also incorrectly misclassified normal transactions 17% of the time, which was the lowest score out of all the models. "
   ]
  },
  {
   "cell_type": "markdown",
   "metadata": {},
   "source": [
    "# Conclusion: \n",
    "\n",
    "In this project, we used several supervised machine learning models to predict fraudulent transactions. While using ROC AUC score as our main metric for model evaluation, we also looked into the model's failure to properly classify normal transactions. Incorrectly labeling fraud as normal transaction would result in more loss than improperly labeling a normal transaction as fraud. \n",
    "\n",
    "### Future Work\n",
    "\n",
    "If given more memory capacity, I would consider exploring oversampling methods and utilize different utilize different imbalanced class techniques. More observations may improve the random forest model's performance. With the information from all the feature importance graphs, I would also engineer more features with transaction amount, card columns, count columns and time features. \n",
    "\n"
   ]
  }
 ],
 "metadata": {
  "kernelspec": {
   "display_name": "Python 3",
   "language": "python",
   "name": "python3"
  },
  "language_info": {
   "codemirror_mode": {
    "name": "ipython",
    "version": 3
   },
   "file_extension": ".py",
   "mimetype": "text/x-python",
   "name": "python",
   "nbconvert_exporter": "python",
   "pygments_lexer": "ipython3",
   "version": "3.6.8"
  }
 },
 "nbformat": 4,
 "nbformat_minor": 2
}
