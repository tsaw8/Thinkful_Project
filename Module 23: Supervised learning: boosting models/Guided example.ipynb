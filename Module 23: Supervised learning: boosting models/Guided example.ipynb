{
 "cells": [
  {
   "cell_type": "markdown",
   "metadata": {},
   "source": [
    "# Gradient Boost\n",
    "\n",
    "Boosting is a technique based on ensemble that delivers improved prediction accuracy by using gradient descent and boosting. In __gradient boosting__, an additive model fit is choosen. __Boosting__ is the idea that a weak learner cna be modified to become better. __AdaBoost__, the first boosting algorithm uses decision trees with a single split as weak learners. \n",
    "\n",
    "In each stage, a weak learner compensates the short comings of exisitng weak learners. Shortcomings are identified as gradients which will tell us how to improve our model. \n",
    "This process involves three elements:\n",
    " * __Loss function__: optimize loss function, different functions can be used based on the type of problem being addressed\n",
    " \n",
    " * __Weak learner__: decision trees are used for splits and then output can be added together, allowing subsequent models outputs to be added and \"correct\" the residuals in the prediction. Best splits points are based on purity scores\n",
    " \n",
    " * __Additive Model__: trees are added one at a time and exisiting trees in the model are not changed. A gradient descent procedure is used to minimize the loss when adding trees.After calculating the loss, to perform the gradient descent procedure, we must add a tree to the model that reduces the loss (i.e. follow the gradient). \n",
    " \n",
    "### Improving Basic Gradient Boosting\n",
    "Gradient boosting is a greedy algorithm and can overfit a training dataset quickly. \n",
    "\n",
    "The overall parameters can be divided in 3 categories:\n",
    "\n",
    " * __Tree-Specific Parameters__: these affect each individual tree\n",
    "     1. __min_sample_split__: \n",
    "         - Defines the minimum number of samples (or observations) which are required in a node to be considered for splitting.\n",
    "         - Used to control overfitting, higher values prevent a model form learning relations which might be highly specific to the particular sample selected for a tree\n",
    "         - Too high values can lead to under-fitting so CV should be used \n",
    "     2. __min_samples_leaf__:\n",
    "         - defines the minimum samples (or observations) required in a terminal node or leaf.\n",
    "         - Used to control over-fitting similar to min_samples_split.\n",
    "         - Generally lower values should be chosen for imbalanced class problems because the regions in which the minority class will be in majority will be very small.\n",
    "     3. __min_weight_fraction_leaf__:\n",
    "         - Defined as a fraction of the total number of observations instead of an integer.\n",
    "         - Only one of #2 and #3 should be defined.\n",
    "     4. __max_depth__:\n",
    "         - The maximum depth of a tree.\n",
    "         - Used to control over-fitting as higher depth will allow model to learn relations very specific to a particular sample.\n",
    "         - Should be tuned using CV.\n",
    "     5. __max_leaf_nodes__:\n",
    "         - The maximum number of terminal nodes or leaves in a tree.\n",
    "         - Can be defined in place of max_depth. Since binary trees are created, a depth of ‘n’ would produce a maximum of 2^n leaves.\n",
    "     6. __max_features__:\n",
    "         - The number of features to consider while searching for a best split. These will be randomly selected.\n",
    "         - As a thumb-rule, square root of the total number of features works great but we should check upto 30-40% of the total number of features.\n",
    "         - Higher values can lead to over-fitting but depends on case to case.\n",
    " * __Boosting Parameters__: these affet boositng opertions\n",
    "     1. __learning_rate__:\n",
    "         - an initial estimate which is updated using the output of each tree. The learning parameter controls the magnitude of this change in the estimates.\n",
    "         - Lower values are generally preferred as they make the model robust to the specific characteristics of tree and thus allowing it to generalize well.\n",
    "         - Lower values would require higher number of trees to model all the relations and will be computationally expensive.\n",
    "\n",
    "     2. __n_estimators__:\n",
    "         - The number of sequential trees to be modeled\n",
    "         - Though GBM is fairly robust at higher number of trees but it can still overfit at a point. Hence, this should be tuned using CV for a particular learning rate.\n",
    "     3. __subsample__:\n",
    "         - The fraction of observations to be selected for each tree. Selection is done by random sampling.\n",
    "         - Values slightly less than 1 make the model robust by reducing the variance.\n",
    " * __Miscellaneous Parameters__: other parameters for overall funcitoning \n",
    "     1. __loss__:\n",
    "         - refers to the loss function to be minimized in each split.\n",
    "         - Generally the default values work fine. \n",
    "     2. __init__:\n",
    "         - This affects initialization of the output.\n",
    "         - This can be used if we have made another model whose outcome is to be used as the initial estimates for GBM.\n",
    "     3. __random_state__:\n",
    "         - The random number seed so that same random numbers are generated every time.\n",
    "         - This is important for parameter tuning. If we don’t fix the random number, then we’ll have different outcomes for subsequent runs on the same parameters and it becomes difficult to compare models.\n",
    "     4. __verbose__:\n",
    "         - The type of output to be printed when the model fits. The different values can be:\n",
    "             - 0: no output generated (default)\n",
    "             - 1: output generated for trees in certain intervals\n",
    "             - />1: output generated for all trees\n",
    "     5. __warm_state__:\n",
    "         - Using this, we can fit additional trees on previous fits of a model. It can save a lot of time and you should explore this option for advanced applications\n",
    "     6. __presort__:\n",
    "         - Select whether to presort data for faster splits.\n",
    "         - It makes the selection automatically by default but it can be changed if needed.\n"
   ]
  },
  {
   "cell_type": "markdown",
   "metadata": {},
   "source": [
    "## Model Example  \n",
    "In this challenge, we will be using the European Social Survey Data to predict a categorical outcome: whether or not someone lives with a partner."
   ]
  },
  {
   "cell_type": "code",
   "execution_count": 1,
   "metadata": {},
   "outputs": [],
   "source": [
    "# Libraries \n",
    "import pandas as pd\n",
    "import numpy as np\n",
    "import scipy\n",
    "import matplotlib.pyplot as plt\n",
    "%matplotlib inline\n",
    "\n",
    "from sklearn import ensemble\n",
    "from sklearn import datasets\n",
    "from sklearn.utils import shuffle\n",
    "from sklearn.metrics import mean_squared_error\n",
    "from sklearn.model_selection import GridSearchCV\n",
    "from sklearn.model_selection import cross_val_score\n",
    "from sklearn.metrics import classification_report\n",
    "from sklearn.metrics import confusion_matrix"
   ]
  },
  {
   "cell_type": "code",
   "execution_count": 2,
   "metadata": {},
   "outputs": [
    {
     "data": {
      "text/plain": [
       "7332"
      ]
     },
     "execution_count": 2,
     "metadata": {},
     "output_type": "execute_result"
    }
   ],
   "source": [
    "# Import data\n",
    "df = pd.read_csv((\n",
    "    \"https://raw.githubusercontent.com/Thinkful-Ed/data-201-resources/\"\n",
    "    \"master/ESS_practice_data/ESSdata_Thinkful.csv\")).dropna()\n",
    "\n",
    "# Definine outcome and predictors.\n",
    "# Set our outcome to 0 and 1.\n",
    "y = df['partner'] - 1\n",
    "X = df.loc[:, ~df.columns.isin(['partner', 'cntry', 'idno'])]\n",
    "\n",
    "# Make the categorical variable 'country' into dummies.\n",
    "X = pd.concat([X, pd.get_dummies(df['cntry'])], axis=1)\n",
    "\n",
    "# Create training and test sets.\n",
    "offset = int(X.shape[0] * 0.9)\n",
    "\n",
    "# Put 90% of the data in the training set.\n",
    "X_train, y_train = X[:offset], y[:offset]\n",
    "\n",
    "# And put 10% in the test set.\n",
    "X_test, y_test = X[offset:], y[offset:]\n",
    "\n",
    "len(X_train)"
   ]
  },
  {
   "cell_type": "markdown",
   "metadata": {},
   "source": [
    "Since we're now working with a binary outcome, we've switched to a classifier. Now our loss function can't be the residuals. Our options are \"deviance\", or \"exponential\". Deviance is used for logistic regression, and we'll try that here."
   ]
  },
  {
   "cell_type": "code",
   "execution_count": 3,
   "metadata": {},
   "outputs": [
    {
     "name": "stdout",
     "output_type": "stream",
     "text": [
      "Training set accuracy:\n",
      "Percent Type I errors: 0.04650845608292417\n",
      "Percent Type II errors: 0.17607746863066012\n",
      "\n",
      "Test set accuracy:\n",
      "Percent Type I errors: 0.06257668711656442\n",
      "Percent Type II errors: 0.18527607361963191\n"
     ]
    }
   ],
   "source": [
    "# We'll make 500 iterations, use 2-deep trees, and set our loss function.\n",
    "params = {'n_estimators': 500,\n",
    "          'max_depth': 2,\n",
    "          'loss': 'deviance'}\n",
    "\n",
    "# Initialize and fit the model.\n",
    "clf = ensemble.GradientBoostingClassifier(**params)\n",
    "clf.fit(X_train, y_train)\n",
    "\n",
    "predict_train = clf.predict(X_train)\n",
    "predict_test = clf.predict(X_test)\n",
    "\n",
    "# Accuracy tables.\n",
    "table_train = pd.crosstab(y_train, predict_train, margins=True)\n",
    "table_test = pd.crosstab(y_test, predict_test, margins=True)\n",
    "\n",
    "train_tI_errors = table_train.loc[0.0,1.0] / table_train.loc['All','All']\n",
    "train_tII_errors = table_train.loc[1.0,0.0] / table_train.loc['All','All']\n",
    "\n",
    "test_tI_errors = table_test.loc[0.0,1.0]/table_test.loc['All','All']\n",
    "test_tII_errors = table_test.loc[1.0,0.0]/table_test.loc['All','All']\n",
    "\n",
    "print((\n",
    "    'Training set accuracy:\\n'\n",
    "    'Percent Type I errors: {}\\n'\n",
    "    'Percent Type II errors: {}\\n\\n'\n",
    "    'Test set accuracy:\\n'\n",
    "    'Percent Type I errors: {}\\n'\n",
    "    'Percent Type II errors: {}'\n",
    ").format(train_tI_errors, train_tII_errors, test_tI_errors, test_tII_errors))"
   ]
  },
  {
   "cell_type": "markdown",
   "metadata": {},
   "source": [
    "Unlike decision trees, gradient boost solutions are not terribly easy to interpret on the surface. But they aren't quite a black box. We can get a measure of how important various features are by counting how many times a feature is used over the course of many decision trees."
   ]
  },
  {
   "cell_type": "code",
   "execution_count": 4,
   "metadata": {},
   "outputs": [
    {
     "data": {
      "image/png": "[encoded data removed]",
      "text/plain": [
       "<Figure size 432x288 with 1 Axes>"
      ]
     },
     "metadata": {
      "needs_background": "light"
     },
     "output_type": "display_data"
    }
   ],
   "source": [
    "feature_importance = clf.feature_importances_\n",
    "\n",
    "# Make importances relative to max importance.\n",
    "feature_importance = 100.0 * (feature_importance / feature_importance.max())\n",
    "sorted_idx = np.argsort(feature_importance)\n",
    "pos = np.arange(sorted_idx.shape[0]) + .5\n",
    "plt.subplot(1, 2, 2)\n",
    "plt.barh(pos, feature_importance[sorted_idx], align='center')\n",
    "plt.yticks(pos, X.columns[sorted_idx])\n",
    "plt.xlabel('Relative Importance')\n",
    "plt.title('Variable Importance')\n",
    "plt.show()"
   ]
  },
  {
   "cell_type": "markdown",
   "metadata": {},
   "source": [
    "It appears that age and happiness are the most important features in predicting whether or not someone lives with a partner."
   ]
  },
  {
   "cell_type": "markdown",
   "metadata": {},
   "source": [
    "## Tuning parameters \n",
    "We'll use a grid search to tune the hyperparameters of the classifier. First, we'll tune the number of trees, shrinkage (learning rate), and the max depth of each tree.\n",
    "\n",
    "### Iteration 1"
   ]
  },
  {
   "cell_type": "code",
   "execution_count": 5,
   "metadata": {},
   "outputs": [
    {
     "data": {
      "text/plain": [
       "GridSearchCV(cv=5, error_score='raise-deprecating',\n",
       "       estimator=GradientBoostingClassifier(criterion='friedman_mse', init=None,\n",
       "              learning_rate=0.1, loss='deviance', max_depth=3,\n",
       "              max_features='sqrt', max_leaf_nodes=None,\n",
       "              min_impurity_decrease=0.0, min_impurity_split=None,\n",
       "              min_samples_leaf=50, min_sa...      subsample=0.8, tol=0.0001, validation_fraction=0.1,\n",
       "              verbose=0, warm_start=False),\n",
       "       fit_params=None, iid=False, n_jobs=4,\n",
       "       param_grid=[{'n_estimators': [40, 60, 80, 100], 'learning_rate': [0.001, 0.05, 0.1, 0.2], 'max_depth': [2, 3, 4, 6, 8]}],\n",
       "       pre_dispatch='2*n_jobs', refit=True, return_train_score='warn',\n",
       "       scoring='roc_auc', verbose=0)"
      ]
     },
     "execution_count": 5,
     "metadata": {},
     "output_type": "execute_result"
    }
   ],
   "source": [
    "# Trying different parameters all at once\n",
    "param_test1 = [{'n_estimators':[40, 60, 80, 100], \n",
    "                'learning_rate':[0.001, 0.05, 0.1, 0.2],\n",
    "               'max_depth':[2, 3, 4, 6, 8],\n",
    "               }]\n",
    "clf = ensemble.GradientBoostingClassifier(**params)\n",
    "gsearch1 = GridSearchCV(estimator = ensemble.GradientBoostingClassifier(min_samples_split=10,\n",
    "                                                               min_samples_leaf=50,\n",
    "                                                               max_features='sqrt',\n",
    "                                                               subsample=0.8,\n",
    "                                                               random_state=10, \n",
    "                                                               loss='deviance'), \n",
    "                        param_grid = param_test1, \n",
    "                        scoring='roc_auc',\n",
    "                        n_jobs=4,\n",
    "                        iid=False, \n",
    "                        cv=5)\n",
    "gsearch1.fit(X_train,y_train)"
   ]
  },
  {
   "cell_type": "code",
   "execution_count": 6,
   "metadata": {},
   "outputs": [
    {
     "data": {
      "text/plain": [
       "{'learning_rate': 0.05, 'max_depth': 6, 'n_estimators': 80}"
      ]
     },
     "execution_count": 6,
     "metadata": {},
     "output_type": "execute_result"
    }
   ],
   "source": [
    "gsearch1.best_params_"
   ]
  },
  {
   "cell_type": "code",
   "execution_count": 7,
   "metadata": {},
   "outputs": [
    {
     "data": {
      "text/plain": [
       "0.7873429280570626"
      ]
     },
     "execution_count": 7,
     "metadata": {},
     "output_type": "execute_result"
    }
   ],
   "source": [
    "gsearch1.best_score_"
   ]
  },
  {
   "cell_type": "markdown",
   "metadata": {},
   "source": [
    "A grid search explores the trade-off between different parameters to determine the best score of 78% accuracy by setting learning rate as 0.05, max depth as 6, and n estimators as 80. \n",
    "\n",
    "Let's fit a model with those parameters and see how it fares in cross-validation on the tuning dataset."
   ]
  },
  {
   "cell_type": "code",
   "execution_count": 8,
   "metadata": {},
   "outputs": [
    {
     "name": "stdout",
     "output_type": "stream",
     "text": [
      "[0.77096115 0.72528971 0.76687117 0.7366985  0.75836177]\n",
      "0.7516364583570287\n",
      "              precision    recall  f1-score   support\n",
      "\n",
      "         0.0       0.75      0.94      0.84      4508\n",
      "         1.0       0.84      0.51      0.64      2824\n",
      "\n",
      "   micro avg       0.77      0.77      0.77      7332\n",
      "   macro avg       0.80      0.73      0.74      7332\n",
      "weighted avg       0.79      0.77      0.76      7332\n",
      "\n",
      "Training set accuracy:\n",
      "Percent Type I errors: 0.03696126568466994\n",
      "Percent Type II errors: 0.1880796508456083\n",
      "\n",
      "\n"
     ]
    }
   ],
   "source": [
    "clf1 = ensemble.GradientBoostingClassifier(learning_rate=0.05, \n",
    "                                           min_samples_split=10,\n",
    "                                           min_samples_leaf=50,\n",
    "                                           n_estimators=80,\n",
    "                                           max_depth=6,\n",
    "                                           max_features='sqrt',\n",
    "                                           subsample=0.8,\n",
    "                                           random_state=10,\n",
    "                                           loss='deviance')\n",
    "\n",
    "clf1.fit(X_train,y_train)\n",
    "predict_train = clf1.predict(X_train)\n",
    "\n",
    "print(cross_val_score(clf1, X_train, y_train, cv=5))\n",
    "print(cross_val_score(clf1, X_train, y_train, cv=5).mean())\n",
    "\n",
    "# Accuracy tables.\n",
    "print(classification_report(y_train, predict_train))\n",
    "table_train = pd.crosstab(y_train, predict_train, margins=True)\n",
    "train_tI_errors = table_train.loc[0.0,1.0] / table_train.loc['All','All']\n",
    "train_tII_errors = table_train.loc[1.0,0.0] / table_train.loc['All','All']\n",
    "\n",
    "print((\n",
    "    'Training set accuracy:\\n'\n",
    "    'Percent Type I errors: {}\\n'\n",
    "    'Percent Type II errors: {}\\n\\n'\n",
    ").format(train_tI_errors, train_tII_errors))"
   ]
  },
  {
   "cell_type": "code",
   "execution_count": 9,
   "metadata": {},
   "outputs": [
    {
     "data": {
      "image/png": "[encoded data removed]",
      "text/plain": [
       "<Figure size 432x288 with 1 Axes>"
      ]
     },
     "metadata": {
      "needs_background": "light"
     },
     "output_type": "display_data"
    }
   ],
   "source": [
    "feature_importance = clf1.feature_importances_\n",
    "\n",
    "# Make importances relative to max importance.\n",
    "feature_importance = 100.0 * (feature_importance / feature_importance.max())\n",
    "sorted_idx = np.argsort(feature_importance)\n",
    "pos = np.arange(sorted_idx.shape[0]) + .5\n",
    "plt.subplot(1, 2, 2)\n",
    "plt.barh(pos, feature_importance[sorted_idx], align='center')\n",
    "plt.yticks(pos, X.columns[sorted_idx])\n",
    "plt.xlabel('Relative Importance')\n",
    "plt.title('Variable Importance')\n",
    "plt.show()"
   ]
  },
  {
   "cell_type": "markdown",
   "metadata": {},
   "source": [
    "With 5 cross folds, we have an accuracy rating of around 75% in the training data. Type I error rates for the training data has dropped by 3% from the untuned model. Age remains disproportionately important in the model.\n",
    "\n",
    "### Iteration 2\n",
    "\n",
    "Let's try some of the parameters related to the estimators and see if we can improve the model."
   ]
  },
  {
   "cell_type": "code",
   "execution_count": 10,
   "metadata": {},
   "outputs": [
    {
     "data": {
      "text/plain": [
       "GridSearchCV(cv=5, error_score='raise-deprecating',\n",
       "       estimator=GradientBoostingClassifier(criterion='friedman_mse', init=None,\n",
       "              learning_rate=0.05, loss='deviance', max_depth=6,\n",
       "              max_features=None, max_leaf_nodes=None,\n",
       "              min_impurity_decrease=0.0, min_impurity_split=None,\n",
       "              min_samples_leaf=1, min_samp...      subsample=1.0, tol=0.0001, validation_fraction=0.1,\n",
       "              verbose=0, warm_start=False),\n",
       "       fit_params=None, iid=False, n_jobs=4,\n",
       "       param_grid=[{'min_samples_split': [10, 50, 100, 200, 400], 'min_samples_leaf': [10, 20, 50, 100, 200], 'subsample': [0.7, 0.8, 0.9], 'max_features': ['sqrt', 'log2']}],\n",
       "       pre_dispatch='2*n_jobs', refit=True, return_train_score='warn',\n",
       "       scoring='roc_auc', verbose=0)"
      ]
     },
     "execution_count": 10,
     "metadata": {},
     "output_type": "execute_result"
    }
   ],
   "source": [
    "#Start with smaller number \n",
    "param_test2 = [{'min_samples_split':[10, 50, 100, 200, 400], \n",
    "                'min_samples_leaf':[10,20,50,100,200],\n",
    "               'subsample':[0.7, 0.8, 0.9], \n",
    "                'max_features':['sqrt','log2']}]\n",
    "clf = ensemble.GradientBoostingClassifier(**params)\n",
    "gsearch2 = GridSearchCV(estimator = ensemble.GradientBoostingClassifier(learning_rate=0.05,\n",
    "                                                                        n_estimators=80,\n",
    "                                                                        max_depth=6,\n",
    "                                                                        random_state=10), \n",
    "                        param_grid = param_test2, \n",
    "                        scoring='roc_auc',\n",
    "                        n_jobs=4,\n",
    "                        iid=False, \n",
    "                        cv=5)\n",
    "gsearch2.fit(X_train,y_train)\n"
   ]
  },
  {
   "cell_type": "code",
   "execution_count": 11,
   "metadata": {},
   "outputs": [
    {
     "data": {
      "text/plain": [
       "{'max_features': 'sqrt',\n",
       " 'min_samples_leaf': 20,\n",
       " 'min_samples_split': 200,\n",
       " 'subsample': 0.7}"
      ]
     },
     "execution_count": 11,
     "metadata": {},
     "output_type": "execute_result"
    }
   ],
   "source": [
    "gsearch2.best_params_"
   ]
  },
  {
   "cell_type": "code",
   "execution_count": 12,
   "metadata": {},
   "outputs": [
    {
     "data": {
      "text/plain": [
       "0.7878858101444545"
      ]
     },
     "execution_count": 12,
     "metadata": {},
     "output_type": "execute_result"
    }
   ],
   "source": [
    "gsearch2.best_score_"
   ]
  },
  {
   "cell_type": "markdown",
   "metadata": {},
   "source": [
    "We'll adjust the next model according to the best parameters recommended and see if we can reach around 78% accuracy. \n",
    "\n",
    "For a final tuning procedure, we'll run the model with the exponential loss function in place of deviance."
   ]
  },
  {
   "cell_type": "code",
   "execution_count": 13,
   "metadata": {},
   "outputs": [
    {
     "name": "stdout",
     "output_type": "stream",
     "text": [
      "[0.73892297 0.66189502 0.76209952 0.73942701 0.75426621]\n",
      "0.7313221485256287\n",
      "              precision    recall  f1-score   support\n",
      "\n",
      "         0.0       0.76      0.94      0.84      4508\n",
      "         1.0       0.84      0.52      0.64      2824\n",
      "\n",
      "   micro avg       0.78      0.78      0.78      7332\n",
      "   macro avg       0.80      0.73      0.74      7332\n",
      "weighted avg       0.79      0.78      0.76      7332\n",
      "\n",
      "Training set accuracy:\n",
      "Percent Type I errors: 0.03696126568466994\n",
      "Percent Type II errors: 0.18630660120021822\n",
      "\n",
      "\n"
     ]
    }
   ],
   "source": [
    "clf2 = ensemble.GradientBoostingClassifier(learning_rate=0.05, \n",
    "                                           min_samples_split=200,\n",
    "                                           min_samples_leaf=20,\n",
    "                                           n_estimators=80,\n",
    "                                           max_depth=6,\n",
    "                                           max_features='sqrt',\n",
    "                                           subsample=0.7,\n",
    "                                           random_state=10,\n",
    "                                           loss='deviance')\n",
    "\n",
    "clf2.fit(X_train,y_train)\n",
    "predict_train = clf2.predict(X_train)\n",
    "\n",
    "print(cross_val_score(clf2, X_train, y_train, cv=5))\n",
    "print(cross_val_score(clf2, X_train, y_train, cv=5).mean())\n",
    "\n",
    "# Accuracy tables.\n",
    "print(classification_report(y_train, predict_train))\n",
    "table_train = pd.crosstab(y_train, predict_train, margins=True)\n",
    "train_tI_errors = table_train.loc[0.0,1.0] / table_train.loc['All','All']\n",
    "train_tII_errors = table_train.loc[1.0,0.0] / table_train.loc['All','All']\n",
    "\n",
    "print((\n",
    "    'Training set accuracy:\\n'\n",
    "    'Percent Type I errors: {}\\n'\n",
    "    'Percent Type II errors: {}\\n\\n'\n",
    ").format(train_tI_errors, train_tII_errors))"
   ]
  },
  {
   "cell_type": "code",
   "execution_count": 14,
   "metadata": {},
   "outputs": [
    {
     "data": {
      "image/png": "[encoded data removed]",
      "text/plain": [
       "<Figure size 432x288 with 1 Axes>"
      ]
     },
     "metadata": {
      "needs_background": "light"
     },
     "output_type": "display_data"
    }
   ],
   "source": [
    "feature_importance = clf2.feature_importances_\n",
    "\n",
    "# Make importances relative to max importance.\n",
    "feature_importance = 100.0 * (feature_importance / feature_importance.max())\n",
    "sorted_idx = np.argsort(feature_importance)\n",
    "pos = np.arange(sorted_idx.shape[0]) + .5\n",
    "plt.subplot(1, 2, 2)\n",
    "plt.barh(pos, feature_importance[sorted_idx], align='center')\n",
    "plt.yticks(pos, X.columns[sorted_idx])\n",
    "plt.xlabel('Relative Importance')\n",
    "plt.title('Variable Importance')\n",
    "plt.show()"
   ]
  },
  {
   "cell_type": "markdown",
   "metadata": {},
   "source": [
    "Here, Type I error rate remains the same, while the Type II error rate improves a bit. \n",
    "\n",
    "Let's run the model on our test data, to see how well it performs."
   ]
  },
  {
   "cell_type": "code",
   "execution_count": 15,
   "metadata": {},
   "outputs": [
    {
     "name": "stdout",
     "output_type": "stream",
     "text": [
      "              precision    recall  f1-score   support\n",
      "\n",
      "         0.0       0.74      0.90      0.82       505\n",
      "         1.0       0.76      0.49      0.59       310\n",
      "\n",
      "   micro avg       0.75      0.75      0.75       815\n",
      "   macro avg       0.75      0.70      0.70       815\n",
      "weighted avg       0.75      0.75      0.73       815\n",
      "\n",
      "Test set accuracy:\n",
      "Percent Type I errors: 0.06012269938650307\n",
      "Percent Type II errors: 0.19386503067484662\n",
      "\n",
      "\n"
     ]
    }
   ],
   "source": [
    "predict_test = clf2.predict(X_test)\n",
    "\n",
    "#Accuracy tables.\n",
    "print(classification_report(y_test, predict_test))\n",
    "table_test = pd.crosstab(y_test, predict_test, margins=True)\n",
    "test_tI_errors = table_test.loc[0.0,1.0] / table_test.loc['All','All']\n",
    "test_tII_errors = table_test.loc[1.0,0.0] / table_test.loc['All','All']\n",
    "\n",
    "print((\n",
    "    'Test set accuracy:\\n'\n",
    "    'Percent Type I errors: {}\\n'\n",
    "    'Percent Type II errors: {}\\n\\n'\n",
    ").format(test_tI_errors, test_tII_errors))"
   ]
  },
  {
   "cell_type": "markdown",
   "metadata": {},
   "source": [
    "The tuned model performs a little better than the default model with respect to Type I errors, but it is a little worse with respect to Type II errors. Nevertheless, it is better protected from overfitting, so if we were to test it on additional unseen data, it might be more reliable."
   ]
  },
  {
   "cell_type": "code",
   "execution_count": null,
   "metadata": {},
   "outputs": [],
   "source": []
  }
 ],
 "metadata": {
  "kernelspec": {
   "display_name": "Python 3",
   "language": "python",
   "name": "python3"
  },
  "language_info": {
   "codemirror_mode": {
    "name": "ipython",
    "version": 3
   },
   "file_extension": ".py",
   "mimetype": "text/x-python",
   "name": "python",
   "nbconvert_exporter": "python",
   "pygments_lexer": "ipython3",
   "version": "3.6.8"
  }
 },
 "nbformat": 4,
 "nbformat_minor": 2
}
