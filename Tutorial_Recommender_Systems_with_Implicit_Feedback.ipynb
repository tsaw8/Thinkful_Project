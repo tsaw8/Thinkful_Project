{
  "nbformat": 4,
  "nbformat_minor": 0,
  "metadata": {
    "colab": {
      "name": "Tutorial: Recommender Systems with Implicit Feedback.ipynb",
      "provenance": [],
      "collapsed_sections": [],
      "include_colab_link": true
    },
    "kernelspec": {
      "name": "python3",
      "display_name": "Python 3"
    }
  },
  "cells": [
    {
      "cell_type": "markdown",
      "metadata": {
        "id": "view-in-github",
        "colab_type": "text"
      },
      "source": [
        "<a href=\"https://colab.research.google.com/github/tsaw8/Thinkful_Project/blob/master/Tutorial_Recommender_Systems_with_Implicit_Feedback.ipynb\" target=\"_parent\"><img src=\"https://colab.research.google.com/assets/colab-badge.svg\" alt=\"Open In Colab\"/></a>"
      ]
    },
    {
      "cell_type": "code",
      "metadata": {
        "id": "VX1x9izLdbjp",
        "colab_type": "code",
        "colab": {}
      },
      "source": [
        "#import libraries\n",
        "import sys\n",
        "import pandas as pd\n",
        "import numpy as np\n",
        "import scipy.sparse as sparse\n",
        "from scipy.sparse.linalg import spsolve\n",
        "import random\n"
      ],
      "execution_count": 0,
      "outputs": []
    },
    {
      "cell_type": "code",
      "metadata": {
        "id": "O19npkcBexxb",
        "colab_type": "code",
        "colab": {}
      },
      "source": [
        "website_url = 'http://archive.ics.uci.edu/ml/machine-learning-databases/00352/Online%20Retail.xlsx'\n",
        "retail_data = pd.read_excel(website_url) # This may take a couple minutes"
      ],
      "execution_count": 0,
      "outputs": []
    },
    {
      "cell_type": "code",
      "metadata": {
        "id": "UiYqAL0Oex3X",
        "colab_type": "code",
        "outputId": "c6ff84c4-5a7f-490e-de6b-84c0a21675fe",
        "colab": {
          "base_uri": "https://localhost:8080/",
          "height": 204
        }
      },
      "source": [
        "retail_data.head()"
      ],
      "execution_count": 0,
      "outputs": [
        {
          "output_type": "execute_result",
          "data": {
            "text/html": [
              "<div>\n",
              "<style scoped>\n",
              "    .dataframe tbody tr th:only-of-type {\n",
              "        vertical-align: middle;\n",
              "    }\n",
              "\n",
              "    .dataframe tbody tr th {\n",
              "        vertical-align: top;\n",
              "    }\n",
              "\n",
              "    .dataframe thead th {\n",
              "        text-align: right;\n",
              "    }\n",
              "</style>\n",
              "<table border=\"1\" class=\"dataframe\">\n",
              "  <thead>\n",
              "    <tr style=\"text-align: right;\">\n",
              "      <th></th>\n",
              "      <th>InvoiceNo</th>\n",
              "      <th>StockCode</th>\n",
              "      <th>Description</th>\n",
              "      <th>Quantity</th>\n",
              "      <th>InvoiceDate</th>\n",
              "      <th>UnitPrice</th>\n",
              "      <th>CustomerID</th>\n",
              "      <th>Country</th>\n",
              "    </tr>\n",
              "  </thead>\n",
              "  <tbody>\n",
              "    <tr>\n",
              "      <th>0</th>\n",
              "      <td>536365</td>\n",
              "      <td>85123A</td>\n",
              "      <td>WHITE HANGING HEART T-LIGHT HOLDER</td>\n",
              "      <td>6</td>\n",
              "      <td>2010-12-01 08:26:00</td>\n",
              "      <td>2.55</td>\n",
              "      <td>17850.0</td>\n",
              "      <td>United Kingdom</td>\n",
              "    </tr>\n",
              "    <tr>\n",
              "      <th>1</th>\n",
              "      <td>536365</td>\n",
              "      <td>71053</td>\n",
              "      <td>WHITE METAL LANTERN</td>\n",
              "      <td>6</td>\n",
              "      <td>2010-12-01 08:26:00</td>\n",
              "      <td>3.39</td>\n",
              "      <td>17850.0</td>\n",
              "      <td>United Kingdom</td>\n",
              "    </tr>\n",
              "    <tr>\n",
              "      <th>2</th>\n",
              "      <td>536365</td>\n",
              "      <td>84406B</td>\n",
              "      <td>CREAM CUPID HEARTS COAT HANGER</td>\n",
              "      <td>8</td>\n",
              "      <td>2010-12-01 08:26:00</td>\n",
              "      <td>2.75</td>\n",
              "      <td>17850.0</td>\n",
              "      <td>United Kingdom</td>\n",
              "    </tr>\n",
              "    <tr>\n",
              "      <th>3</th>\n",
              "      <td>536365</td>\n",
              "      <td>84029G</td>\n",
              "      <td>KNITTED UNION FLAG HOT WATER BOTTLE</td>\n",
              "      <td>6</td>\n",
              "      <td>2010-12-01 08:26:00</td>\n",
              "      <td>3.39</td>\n",
              "      <td>17850.0</td>\n",
              "      <td>United Kingdom</td>\n",
              "    </tr>\n",
              "    <tr>\n",
              "      <th>4</th>\n",
              "      <td>536365</td>\n",
              "      <td>84029E</td>\n",
              "      <td>RED WOOLLY HOTTIE WHITE HEART.</td>\n",
              "      <td>6</td>\n",
              "      <td>2010-12-01 08:26:00</td>\n",
              "      <td>3.39</td>\n",
              "      <td>17850.0</td>\n",
              "      <td>United Kingdom</td>\n",
              "    </tr>\n",
              "  </tbody>\n",
              "</table>\n",
              "</div>"
            ],
            "text/plain": [
              "  InvoiceNo StockCode  ... CustomerID         Country\n",
              "0    536365    85123A  ...    17850.0  United Kingdom\n",
              "1    536365     71053  ...    17850.0  United Kingdom\n",
              "2    536365    84406B  ...    17850.0  United Kingdom\n",
              "3    536365    84029G  ...    17850.0  United Kingdom\n",
              "4    536365    84029E  ...    17850.0  United Kingdom\n",
              "\n",
              "[5 rows x 8 columns]"
            ]
          },
          "metadata": {
            "tags": []
          },
          "execution_count": 3
        }
      ]
    },
    {
      "cell_type": "code",
      "metadata": {
        "id": "UseTIfzJex7D",
        "colab_type": "code",
        "outputId": "8a683ddd-db1d-4d8c-a11b-20c9864917de",
        "colab": {
          "base_uri": "https://localhost:8080/",
          "height": 238
        }
      },
      "source": [
        "retail_data.info()\n"
      ],
      "execution_count": 0,
      "outputs": [
        {
          "output_type": "stream",
          "text": [
            "<class 'pandas.core.frame.DataFrame'>\n",
            "RangeIndex: 541909 entries, 0 to 541908\n",
            "Data columns (total 8 columns):\n",
            "InvoiceNo      541909 non-null object\n",
            "StockCode      541909 non-null object\n",
            "Description    540455 non-null object\n",
            "Quantity       541909 non-null int64\n",
            "InvoiceDate    541909 non-null datetime64[ns]\n",
            "UnitPrice      541909 non-null float64\n",
            "CustomerID     406829 non-null float64\n",
            "Country        541909 non-null object\n",
            "dtypes: datetime64[ns](1), float64(2), int64(1), object(4)\n",
            "memory usage: 33.1+ MB\n"
          ],
          "name": "stdout"
        }
      ]
    },
    {
      "cell_type": "code",
      "metadata": {
        "id": "TheM1waSeyDQ",
        "colab_type": "code",
        "colab": {}
      },
      "source": [
        "cleaned_retail = retail_data.loc[pd.isnull(retail_data.CustomerID) == False]"
      ],
      "execution_count": 0,
      "outputs": []
    },
    {
      "cell_type": "code",
      "metadata": {
        "id": "4pXxXb_-eyJP",
        "colab_type": "code",
        "outputId": "b130c84c-6f43-4f2d-8c33-4a65fbb1f8a0",
        "colab": {
          "base_uri": "https://localhost:8080/",
          "height": 238
        }
      },
      "source": [
        "cleaned_retail.info()"
      ],
      "execution_count": 0,
      "outputs": [
        {
          "output_type": "stream",
          "text": [
            "<class 'pandas.core.frame.DataFrame'>\n",
            "Int64Index: 406829 entries, 0 to 541908\n",
            "Data columns (total 8 columns):\n",
            "InvoiceNo      406829 non-null object\n",
            "StockCode      406829 non-null object\n",
            "Description    406829 non-null object\n",
            "Quantity       406829 non-null int64\n",
            "InvoiceDate    406829 non-null datetime64[ns]\n",
            "UnitPrice      406829 non-null float64\n",
            "CustomerID     406829 non-null float64\n",
            "Country        406829 non-null object\n",
            "dtypes: datetime64[ns](1), float64(2), int64(1), object(4)\n",
            "memory usage: 27.9+ MB\n"
          ],
          "name": "stdout"
        }
      ]
    },
    {
      "cell_type": "markdown",
      "metadata": {
        "id": "KuWcABCFfbyv",
        "colab_type": "text"
      },
      "source": [
        "# Create Sparse Matrix"
      ]
    },
    {
      "cell_type": "code",
      "metadata": {
        "id": "esIMT_RVeyMD",
        "colab_type": "code",
        "colab": {}
      },
      "source": [
        "item_lookup = cleaned_retail[['StockCode', 'Description']].drop_duplicates() # Only get unique item/description pairs\n",
        "item_lookup['StockCode'] = item_lookup.StockCode.astype(str) # Encode as strings for future lookup ease"
      ],
      "execution_count": 0,
      "outputs": []
    },
    {
      "cell_type": "code",
      "metadata": {
        "id": "1EoCCshmeyGu",
        "colab_type": "code",
        "outputId": "9f6142f3-2f8d-47c8-93da-de1d0fe842ca",
        "colab": {
          "base_uri": "https://localhost:8080/",
          "height": 204
        }
      },
      "source": [
        "item_lookup.head()"
      ],
      "execution_count": 0,
      "outputs": [
        {
          "output_type": "execute_result",
          "data": {
            "text/html": [
              "<div>\n",
              "<style scoped>\n",
              "    .dataframe tbody tr th:only-of-type {\n",
              "        vertical-align: middle;\n",
              "    }\n",
              "\n",
              "    .dataframe tbody tr th {\n",
              "        vertical-align: top;\n",
              "    }\n",
              "\n",
              "    .dataframe thead th {\n",
              "        text-align: right;\n",
              "    }\n",
              "</style>\n",
              "<table border=\"1\" class=\"dataframe\">\n",
              "  <thead>\n",
              "    <tr style=\"text-align: right;\">\n",
              "      <th></th>\n",
              "      <th>StockCode</th>\n",
              "      <th>Description</th>\n",
              "    </tr>\n",
              "  </thead>\n",
              "  <tbody>\n",
              "    <tr>\n",
              "      <th>0</th>\n",
              "      <td>85123A</td>\n",
              "      <td>WHITE HANGING HEART T-LIGHT HOLDER</td>\n",
              "    </tr>\n",
              "    <tr>\n",
              "      <th>1</th>\n",
              "      <td>71053</td>\n",
              "      <td>WHITE METAL LANTERN</td>\n",
              "    </tr>\n",
              "    <tr>\n",
              "      <th>2</th>\n",
              "      <td>84406B</td>\n",
              "      <td>CREAM CUPID HEARTS COAT HANGER</td>\n",
              "    </tr>\n",
              "    <tr>\n",
              "      <th>3</th>\n",
              "      <td>84029G</td>\n",
              "      <td>KNITTED UNION FLAG HOT WATER BOTTLE</td>\n",
              "    </tr>\n",
              "    <tr>\n",
              "      <th>4</th>\n",
              "      <td>84029E</td>\n",
              "      <td>RED WOOLLY HOTTIE WHITE HEART.</td>\n",
              "    </tr>\n",
              "  </tbody>\n",
              "</table>\n",
              "</div>"
            ],
            "text/plain": [
              "  StockCode                          Description\n",
              "0    85123A   WHITE HANGING HEART T-LIGHT HOLDER\n",
              "1     71053                  WHITE METAL LANTERN\n",
              "2    84406B       CREAM CUPID HEARTS COAT HANGER\n",
              "3    84029G  KNITTED UNION FLAG HOT WATER BOTTLE\n",
              "4    84029E       RED WOOLLY HOTTIE WHITE HEART."
            ]
          },
          "metadata": {
            "tags": []
          },
          "execution_count": 8
        }
      ]
    },
    {
      "cell_type": "code",
      "metadata": {
        "id": "HnSOTN_QeyAV",
        "colab_type": "code",
        "outputId": "8db2819e-a3f0-440e-e139-84aa94743e09",
        "colab": {
          "base_uri": "https://localhost:8080/",
          "height": 204
        }
      },
      "source": [
        "cleaned_retail['CustomerID'] = cleaned_retail.CustomerID.astype(int) # Convert to int for customer ID\n",
        "cleaned_retail = cleaned_retail[['StockCode', 'Quantity', 'CustomerID']] # Get rid of unnecessary info\n",
        "grouped_cleaned = cleaned_retail.groupby(['CustomerID', 'StockCode']).sum().reset_index() # Group together\n",
        "grouped_cleaned.Quantity.loc[grouped_cleaned.Quantity == 0] = 1 # Replace a sum of zero purchases with a one to\n",
        "# indicate purchased\n",
        "grouped_purchased = grouped_cleaned.query('Quantity > 0') # Only get customers where purchase totals were positive"
      ],
      "execution_count": 0,
      "outputs": [
        {
          "output_type": "stream",
          "text": [
            "/usr/local/lib/python3.6/dist-packages/ipykernel_launcher.py:1: SettingWithCopyWarning: \n",
            "A value is trying to be set on a copy of a slice from a DataFrame.\n",
            "Try using .loc[row_indexer,col_indexer] = value instead\n",
            "\n",
            "See the caveats in the documentation: http://pandas.pydata.org/pandas-docs/stable/user_guide/indexing.html#returning-a-view-versus-a-copy\n",
            "  \"\"\"Entry point for launching an IPython kernel.\n",
            "/usr/local/lib/python3.6/dist-packages/pandas/core/indexing.py:205: SettingWithCopyWarning: \n",
            "A value is trying to be set on a copy of a slice from a DataFrame\n",
            "\n",
            "See the caveats in the documentation: http://pandas.pydata.org/pandas-docs/stable/user_guide/indexing.html#returning-a-view-versus-a-copy\n",
            "  self._setitem_with_indexer(indexer, value)\n"
          ],
          "name": "stderr"
        }
      ]
    },
    {
      "cell_type": "code",
      "metadata": {
        "id": "DW-cCo2Cex9n",
        "colab_type": "code",
        "outputId": "b2510a00-2935-4f60-e6da-96839d48ae6e",
        "colab": {
          "base_uri": "https://localhost:8080/",
          "height": 204
        }
      },
      "source": [
        "grouped_purchased.head()"
      ],
      "execution_count": 0,
      "outputs": [
        {
          "output_type": "execute_result",
          "data": {
            "text/html": [
              "<div>\n",
              "<style scoped>\n",
              "    .dataframe tbody tr th:only-of-type {\n",
              "        vertical-align: middle;\n",
              "    }\n",
              "\n",
              "    .dataframe tbody tr th {\n",
              "        vertical-align: top;\n",
              "    }\n",
              "\n",
              "    .dataframe thead th {\n",
              "        text-align: right;\n",
              "    }\n",
              "</style>\n",
              "<table border=\"1\" class=\"dataframe\">\n",
              "  <thead>\n",
              "    <tr style=\"text-align: right;\">\n",
              "      <th></th>\n",
              "      <th>CustomerID</th>\n",
              "      <th>StockCode</th>\n",
              "      <th>Quantity</th>\n",
              "    </tr>\n",
              "  </thead>\n",
              "  <tbody>\n",
              "    <tr>\n",
              "      <th>0</th>\n",
              "      <td>12346</td>\n",
              "      <td>23166</td>\n",
              "      <td>1</td>\n",
              "    </tr>\n",
              "    <tr>\n",
              "      <th>1</th>\n",
              "      <td>12347</td>\n",
              "      <td>16008</td>\n",
              "      <td>24</td>\n",
              "    </tr>\n",
              "    <tr>\n",
              "      <th>2</th>\n",
              "      <td>12347</td>\n",
              "      <td>17021</td>\n",
              "      <td>36</td>\n",
              "    </tr>\n",
              "    <tr>\n",
              "      <th>3</th>\n",
              "      <td>12347</td>\n",
              "      <td>20665</td>\n",
              "      <td>6</td>\n",
              "    </tr>\n",
              "    <tr>\n",
              "      <th>4</th>\n",
              "      <td>12347</td>\n",
              "      <td>20719</td>\n",
              "      <td>40</td>\n",
              "    </tr>\n",
              "  </tbody>\n",
              "</table>\n",
              "</div>"
            ],
            "text/plain": [
              "   CustomerID StockCode  Quantity\n",
              "0       12346     23166         1\n",
              "1       12347     16008        24\n",
              "2       12347     17021        36\n",
              "3       12347     20665         6\n",
              "4       12347     20719        40"
            ]
          },
          "metadata": {
            "tags": []
          },
          "execution_count": 10
        }
      ]
    },
    {
      "cell_type": "code",
      "metadata": {
        "id": "BfsBmNxbfgWV",
        "colab_type": "code",
        "colab": {}
      },
      "source": [
        "customers = list(np.sort(grouped_purchased.CustomerID.unique())) # Get our unique customers\n",
        "products = list(grouped_purchased.StockCode.unique()) # Get our unique products that were purchased\n",
        "quantity = list(grouped_purchased.Quantity) # All of our purchases\n",
        "\n",
        "rows = grouped_purchased.CustomerID.astype('category').cat.codes \n",
        "# Get the associated row indices\n",
        "cols = grouped_purchased.StockCode.astype('category').cat.codes \n",
        "# Get the associated column indices\n",
        "purchases_sparse = sparse.csr_matrix((quantity, (rows, cols)), shape=(len(customers), len(products)))"
      ],
      "execution_count": 0,
      "outputs": []
    },
    {
      "cell_type": "code",
      "metadata": {
        "id": "zAy7bFypfgqj",
        "colab_type": "code",
        "outputId": "d61d800a-8146-424b-c17d-61ee9eaf00a6",
        "colab": {
          "base_uri": "https://localhost:8080/",
          "height": 51
        }
      },
      "source": [
        "purchases_sparse\n"
      ],
      "execution_count": 0,
      "outputs": [
        {
          "output_type": "execute_result",
          "data": {
            "text/plain": [
              "<4338x3664 sparse matrix of type '<class 'numpy.int64'>'\n",
              "\twith 266723 stored elements in Compressed Sparse Row format>"
            ]
          },
          "metadata": {
            "tags": []
          },
          "execution_count": 14
        }
      ]
    },
    {
      "cell_type": "code",
      "metadata": {
        "id": "DmQNsxo-fgw-",
        "colab_type": "code",
        "outputId": "eb1a1174-eccd-4b9d-8814-1baed3e52773",
        "colab": {
          "base_uri": "https://localhost:8080/",
          "height": 34
        }
      },
      "source": [
        "matrix_size = purchases_sparse.shape[0]*purchases_sparse.shape[1] # Number of possible interactions in the matrix\n",
        "num_purchases = len(purchases_sparse.nonzero()[0]) # Number of items interacted with\n",
        "sparsity = 100*(1 - (num_purchases/matrix_size))\n",
        "sparsity"
      ],
      "execution_count": 0,
      "outputs": [
        {
          "output_type": "execute_result",
          "data": {
            "text/plain": [
              "98.32190920694744"
            ]
          },
          "metadata": {
            "tags": []
          },
          "execution_count": 15
        }
      ]
    },
    {
      "cell_type": "markdown",
      "metadata": {
        "id": "0YpKUOpIp7Gb",
        "colab_type": "text"
      },
      "source": [
        "# Create Train and Test"
      ]
    },
    {
      "cell_type": "code",
      "metadata": {
        "id": "fVX19oh5fg4r",
        "colab_type": "code",
        "colab": {}
      },
      "source": [
        "import random"
      ],
      "execution_count": 0,
      "outputs": []
    },
    {
      "cell_type": "code",
      "metadata": {
        "id": "u15uFdsufhBn",
        "colab_type": "code",
        "colab": {}
      },
      "source": [
        "def make_train(ratings, pct_test = 0.2):\n",
        "    '''\n",
        "    This function will take in the original user-item matrix and \"mask\" a percentage of the original ratings where a\n",
        "    user-item interaction has taken place for use as a test set. The test set will contain all of the original ratings, \n",
        "    while the training set replaces the specified percentage of them with a zero in the original ratings matrix. \n",
        "    \n",
        "    parameters: \n",
        "    \n",
        "    ratings - the original ratings matrix from which you want to generate a train/test set. Test is just a complete\n",
        "    copy of the original set. This is in the form of a sparse csr_matrix. \n",
        "    \n",
        "    pct_test - The percentage of user-item interactions where an interaction took place that you want to mask in the \n",
        "    training set for later comparison to the test set, which contains all of the original ratings. \n",
        "    \n",
        "    returns:\n",
        "    \n",
        "    training_set - The altered version of the original data with a certain percentage of the user-item pairs \n",
        "    that originally had interaction set back to zero.\n",
        "    \n",
        "    test_set - A copy of the original ratings matrix, unaltered, so it can be used to see how the rank order \n",
        "    compares with the actual interactions.\n",
        "    \n",
        "    user_inds - From the randomly selected user-item indices, which user rows were altered in the training data.\n",
        "    This will be necessary later when evaluating the performance via AUC.\n",
        "    '''\n",
        "    test_set = ratings.copy() # Make a copy of the original set to be the test set. \n",
        "    test_set[test_set != 0] = 1 # Store the test set as a binary preference matrix\n",
        "    training_set = ratings.copy() # Make a copy of the original data we can alter as our training set. \n",
        "    nonzero_inds = training_set.nonzero() # Find the indices in the ratings data where an interaction exists\n",
        "    nonzero_pairs = list(zip(nonzero_inds[0], nonzero_inds[1])) # Zip these pairs together of user,item index into list\n",
        "    random.seed(0) # Set the random seed to zero for reproducibility\n",
        "    num_samples = int(np.ceil(pct_test*len(nonzero_pairs))) # Round the number of samples needed to the nearest integer\n",
        "    samples = random.sample(nonzero_pairs, num_samples) # Sample a random number of user-item pairs without replacement\n",
        "    user_inds = [index[0] for index in samples] # Get the user row indices\n",
        "    item_inds = [index[1] for index in samples] # Get the item column indices\n",
        "    training_set[user_inds, item_inds] = 0 # Assign all of the randomly chosen user-item pairs to zero\n",
        "    training_set.eliminate_zeros() # Get rid of zeros in sparse array storage after update to save space\n",
        "    return training_set, test_set, list(set(user_inds)) # Output the unique list of user rows that were altered  "
      ],
      "execution_count": 0,
      "outputs": []
    },
    {
      "cell_type": "code",
      "metadata": {
        "id": "AkdRiXzxYVMe",
        "colab_type": "code",
        "colab": {}
      },
      "source": [
        "purchases_sparse = purchases_sparse.T.tocsr()"
      ],
      "execution_count": 0,
      "outputs": []
    },
    {
      "cell_type": "code",
      "metadata": {
        "id": "jrfibRdoqTTR",
        "colab_type": "code",
        "colab": {}
      },
      "source": [
        "product_train, product_test, product_users_altered = make_train(purchases_sparse, pct_test = 0.2)"
      ],
      "execution_count": 0,
      "outputs": []
    },
    {
      "cell_type": "code",
      "metadata": {
        "id": "LhGyIiU0qUAU",
        "colab_type": "code",
        "colab": {}
      },
      "source": [
        "def implicit_weighted_ALS(training_set, lambda_val = 0.1, alpha = 40, iterations = 10, rank_size = 20, seed = 0):\n",
        "    '''\n",
        "    Implicit weighted ALS taken from Hu, Koren, and Volinsky 2008. Designed for alternating least squares and implicit\n",
        "    feedback based collaborative filtering. \n",
        "    \n",
        "    parameters:\n",
        "    \n",
        "    training_set - Our matrix of ratings with shape m x n, where m is the number of users and n is the number of items.\n",
        "    Should be a sparse csr matrix to save space. \n",
        "    \n",
        "    lambda_val - Used for regularization during alternating least squares. Increasing this value may increase bias\n",
        "    but decrease variance. Default is 0.1. \n",
        "    \n",
        "    alpha - The parameter associated with the confidence matrix discussed in the paper, where Cui = 1 + alpha*Rui. \n",
        "    The paper found a default of 40 most effective. Decreasing this will decrease the variability in confidence between\n",
        "    various ratings.\n",
        "    \n",
        "    iterations - The number of times to alternate between both user feature vector and item feature vector in\n",
        "    alternating least squares. More iterations will allow better convergence at the cost of increased computation. \n",
        "    The authors found 10 iterations was sufficient, but more may be required to converge. \n",
        "    \n",
        "    rank_size - The number of latent features in the user/item feature vectors. The paper recommends varying this \n",
        "    between 20-200. Increasing the number of features may overfit but could reduce bias. \n",
        "    \n",
        "    seed - Set the seed for reproducible results\n",
        "    \n",
        "    returns:\n",
        "    \n",
        "    The feature vectors for users and items. The dot product of these feature vectors should give you the expected \n",
        "    \"rating\" at each point in your original matrix. \n",
        "    '''\n",
        "    \n",
        "    # first set up our confidence matrix\n",
        "    \n",
        "    conf = (alpha*training_set) # To allow the matrix to stay sparse, I will add one later when each row is taken \n",
        "                                # and converted to dense. \n",
        "    num_user = conf.shape[0]\n",
        "    num_item = conf.shape[1] # Get the size of our original ratings matrix, m x n\n",
        "    \n",
        "    # initialize our X/Y feature vectors randomly with a set seed\n",
        "    rstate = np.random.RandomState(seed)\n",
        "    \n",
        "    X = sparse.csr_matrix(rstate.normal(size = (num_user, rank_size))) # Random numbers in a m x rank shape\n",
        "    Y = sparse.csr_matrix(rstate.normal(size = (num_item, rank_size))) # Normally this would be rank x n but we can \n",
        "                                                                 # transpose at the end. Makes calculation more simple.\n",
        "    X_eye = sparse.eye(num_user)\n",
        "    Y_eye = sparse.eye(num_item)\n",
        "    lambda_eye = lambda_val * sparse.eye(rank_size) # Our regularization term lambda*I. \n",
        "    \n",
        "    # We can compute this before iteration starts. \n",
        "    \n",
        "    # Begin iterations\n",
        "   \n",
        "    for iter_step in range(iterations): # Iterate back and forth between solving X given fixed Y and vice versa\n",
        "        # Compute yTy and xTx at beginning of each iteration to save computing time\n",
        "        yTy = Y.T.dot(Y)\n",
        "        xTx = X.T.dot(X)\n",
        "        # Being iteration to solve for X based on fixed Y\n",
        "        for u in range(num_user):\n",
        "            conf_samp = conf[u,:].toarray() # Grab user row from confidence matrix and convert to dense\n",
        "            pref = conf_samp.copy() \n",
        "            pref[pref != 0] = 1 # Create binarized preference vector \n",
        "            CuI = sparse.diags(conf_samp, [0]) # Get Cu - I term, don't need to subtract 1 since we never added it \n",
        "            yTCuIY = Y.T.dot(CuI).dot(Y) # This is the yT(Cu-I)Y term \n",
        "            yTCupu = Y.T.dot(CuI + Y_eye).dot(pref.T) # This is the yTCuPu term, where we add the eye back in\n",
        "                                                      # Cu - I + I = Cu\n",
        "            X[u] = spsolve(yTy + yTCuIY + lambda_eye, yTCupu) \n",
        "            # Solve for Xu = ((yTy + yT(Cu-I)Y + lambda*I)^-1)yTCuPu, equation 4 from the paper  \n",
        "        # Begin iteration to solve for Y based on fixed X \n",
        "        for i in range(num_item):\n",
        "            conf_samp = conf[:,i].T.toarray() # transpose to get it in row format and convert to dense\n",
        "            pref = conf_samp.copy()\n",
        "            pref[pref != 0] = 1 # Create binarized preference vector\n",
        "            CiI = sparse.diags(conf_samp, [0]) # Get Ci - I term, don't need to subtract 1 since we never added it\n",
        "            xTCiIX = X.T.dot(CiI).dot(X) # This is the xT(Cu-I)X term\n",
        "            xTCiPi = X.T.dot(CiI + X_eye).dot(pref.T) # This is the xTCiPi term\n",
        "            Y[i] = spsolve(xTx + xTCiIX + lambda_eye, xTCiPi)\n",
        "            # Solve for Yi = ((xTx + xT(Cu-I)X) + lambda*I)^-1)xTCiPi, equation 5 from the paper\n",
        "    # End iterations\n",
        "    return X, Y.T # Transpose at the end to make up for not being transposed at the beginning. \n",
        "                         # Y needs to be rank x n. Keep these as separate matrices for scale reasons. "
      ],
      "execution_count": 0,
      "outputs": []
    },
    {
      "cell_type": "code",
      "metadata": {
        "id": "PtygcO7oqUJG",
        "colab_type": "code",
        "colab": {}
      },
      "source": [
        "user_vecs, item_vecs = implicit_weighted_ALS(product_train, lambda_val = 0.1, alpha = 15, iterations = 1,\n",
        "                                            rank_size = 20)"
      ],
      "execution_count": 0,
      "outputs": []
    },
    {
      "cell_type": "code",
      "metadata": {
        "id": "B6aEXDSwqUNl",
        "colab_type": "code",
        "outputId": "0cccadc1-c9dd-439a-bb3f-504fa248a4ce",
        "colab": {
          "base_uri": "https://localhost:8080/",
          "height": 34
        }
      },
      "source": [
        "user_vecs[0,:].dot(item_vecs).toarray()[0,:5]\n"
      ],
      "execution_count": 0,
      "outputs": [
        {
          "output_type": "execute_result",
          "data": {
            "text/plain": [
              "array([0.0010823 , 0.00026692, 0.00044238, 0.00233056, 0.00228681])"
            ]
          },
          "metadata": {
            "tags": []
          },
          "execution_count": 21
        }
      ]
    },
    {
      "cell_type": "markdown",
      "metadata": {
        "id": "10XOH35bqkMu",
        "colab_type": "text"
      },
      "source": [
        "# Speeding Up ALS"
      ]
    },
    {
      "cell_type": "code",
      "metadata": {
        "id": "BCTT_sMfqUQ5",
        "colab_type": "code",
        "outputId": "02f0a55f-796c-46db-af1f-8eac81725be8",
        "colab": {
          "base_uri": "https://localhost:8080/",
          "height": 51
        }
      },
      "source": [
        "!pip install -q implicit"
      ],
      "execution_count": 0,
      "outputs": [
        {
          "output_type": "stream",
          "text": [
            "\u001b[?25l\r\u001b[K     |▎                               | 10kB 21.5MB/s eta 0:00:01\r\u001b[K     |▋                               | 20kB 1.8MB/s eta 0:00:01\r\u001b[K     |▉                               | 30kB 2.6MB/s eta 0:00:01\r\u001b[K     |█▏                              | 40kB 3.4MB/s eta 0:00:01\r\u001b[K     |█▌                              | 51kB 2.1MB/s eta 0:00:01\r\u001b[K     |█▊                              | 61kB 2.5MB/s eta 0:00:01\r\u001b[K     |██                              | 71kB 2.9MB/s eta 0:00:01\r\u001b[K     |██▍                             | 81kB 3.3MB/s eta 0:00:01\r\u001b[K     |██▋                             | 92kB 3.7MB/s eta 0:00:01\r\u001b[K     |███                             | 102kB 2.8MB/s eta 0:00:01\r\u001b[K     |███▎                            | 112kB 2.8MB/s eta 0:00:01\r\u001b[K     |███▌                            | 122kB 2.8MB/s eta 0:00:01\r\u001b[K     |███▉                            | 133kB 2.8MB/s eta 0:00:01\r\u001b[K     |████▏                           | 143kB 2.8MB/s eta 0:00:01\r\u001b[K     |████▍                           | 153kB 2.8MB/s eta 0:00:01\r\u001b[K     |████▊                           | 163kB 2.8MB/s eta 0:00:01\r\u001b[K     |█████                           | 174kB 2.8MB/s eta 0:00:01\r\u001b[K     |█████▎                          | 184kB 2.8MB/s eta 0:00:01\r\u001b[K     |█████▋                          | 194kB 2.8MB/s eta 0:00:01\r\u001b[K     |█████▉                          | 204kB 2.8MB/s eta 0:00:01\r\u001b[K     |██████▏                         | 215kB 2.8MB/s eta 0:00:01\r\u001b[K     |██████▌                         | 225kB 2.8MB/s eta 0:00:01\r\u001b[K     |██████▊                         | 235kB 2.8MB/s eta 0:00:01\r\u001b[K     |███████                         | 245kB 2.8MB/s eta 0:00:01\r\u001b[K     |███████▍                        | 256kB 2.8MB/s eta 0:00:01\r\u001b[K     |███████▋                        | 266kB 2.8MB/s eta 0:00:01\r\u001b[K     |████████                        | 276kB 2.8MB/s eta 0:00:01\r\u001b[K     |████████▎                       | 286kB 2.8MB/s eta 0:00:01\r\u001b[K     |████████▌                       | 296kB 2.8MB/s eta 0:00:01\r\u001b[K     |████████▉                       | 307kB 2.8MB/s eta 0:00:01\r\u001b[K     |█████████                       | 317kB 2.8MB/s eta 0:00:01\r\u001b[K     |█████████▍                      | 327kB 2.8MB/s eta 0:00:01\r\u001b[K     |█████████▊                      | 337kB 2.8MB/s eta 0:00:01\r\u001b[K     |██████████                      | 348kB 2.8MB/s eta 0:00:01\r\u001b[K     |██████████▎                     | 358kB 2.8MB/s eta 0:00:01\r\u001b[K     |██████████▋                     | 368kB 2.8MB/s eta 0:00:01\r\u001b[K     |██████████▉                     | 378kB 2.8MB/s eta 0:00:01\r\u001b[K     |███████████▏                    | 389kB 2.8MB/s eta 0:00:01\r\u001b[K     |███████████▌                    | 399kB 2.8MB/s eta 0:00:01\r\u001b[K     |███████████▊                    | 409kB 2.8MB/s eta 0:00:01\r\u001b[K     |████████████                    | 419kB 2.8MB/s eta 0:00:01\r\u001b[K     |████████████▍                   | 430kB 2.8MB/s eta 0:00:01\r\u001b[K     |████████████▋                   | 440kB 2.8MB/s eta 0:00:01\r\u001b[K     |█████████████                   | 450kB 2.8MB/s eta 0:00:01\r\u001b[K     |█████████████▏                  | 460kB 2.8MB/s eta 0:00:01\r\u001b[K     |█████████████▌                  | 471kB 2.8MB/s eta 0:00:01\r\u001b[K     |█████████████▉                  | 481kB 2.8MB/s eta 0:00:01\r\u001b[K     |██████████████                  | 491kB 2.8MB/s eta 0:00:01\r\u001b[K     |██████████████▍                 | 501kB 2.8MB/s eta 0:00:01\r\u001b[K     |██████████████▊                 | 512kB 2.8MB/s eta 0:00:01\r\u001b[K     |███████████████                 | 522kB 2.8MB/s eta 0:00:01\r\u001b[K     |███████████████▎                | 532kB 2.8MB/s eta 0:00:01\r\u001b[K     |███████████████▋                | 542kB 2.8MB/s eta 0:00:01\r\u001b[K     |███████████████▉                | 552kB 2.8MB/s eta 0:00:01\r\u001b[K     |████████████████▏               | 563kB 2.8MB/s eta 0:00:01\r\u001b[K     |████████████████▌               | 573kB 2.8MB/s eta 0:00:01\r\u001b[K     |████████████████▊               | 583kB 2.8MB/s eta 0:00:01\r\u001b[K     |█████████████████               | 593kB 2.8MB/s eta 0:00:01\r\u001b[K     |█████████████████▍              | 604kB 2.8MB/s eta 0:00:01\r\u001b[K     |█████████████████▋              | 614kB 2.8MB/s eta 0:00:01\r\u001b[K     |██████████████████              | 624kB 2.8MB/s eta 0:00:01\r\u001b[K     |██████████████████▏             | 634kB 2.8MB/s eta 0:00:01\r\u001b[K     |██████████████████▌             | 645kB 2.8MB/s eta 0:00:01\r\u001b[K     |██████████████████▉             | 655kB 2.8MB/s eta 0:00:01\r\u001b[K     |███████████████████             | 665kB 2.8MB/s eta 0:00:01\r\u001b[K     |███████████████████▍            | 675kB 2.8MB/s eta 0:00:01\r\u001b[K     |███████████████████▊            | 686kB 2.8MB/s eta 0:00:01\r\u001b[K     |████████████████████            | 696kB 2.8MB/s eta 0:00:01\r\u001b[K     |████████████████████▎           | 706kB 2.8MB/s eta 0:00:01\r\u001b[K     |████████████████████▋           | 716kB 2.8MB/s eta 0:00:01\r\u001b[K     |████████████████████▉           | 727kB 2.8MB/s eta 0:00:01\r\u001b[K     |█████████████████████▏          | 737kB 2.8MB/s eta 0:00:01\r\u001b[K     |█████████████████████▌          | 747kB 2.8MB/s eta 0:00:01\r\u001b[K     |█████████████████████▊          | 757kB 2.8MB/s eta 0:00:01\r\u001b[K     |██████████████████████          | 768kB 2.8MB/s eta 0:00:01\r\u001b[K     |██████████████████████▎         | 778kB 2.8MB/s eta 0:00:01\r\u001b[K     |██████████████████████▋         | 788kB 2.8MB/s eta 0:00:01\r\u001b[K     |███████████████████████         | 798kB 2.8MB/s eta 0:00:01\r\u001b[K     |███████████████████████▏        | 808kB 2.8MB/s eta 0:00:01\r\u001b[K     |███████████████████████▌        | 819kB 2.8MB/s eta 0:00:01\r\u001b[K     |███████████████████████▉        | 829kB 2.8MB/s eta 0:00:01\r\u001b[K     |████████████████████████        | 839kB 2.8MB/s eta 0:00:01\r\u001b[K     |████████████████████████▍       | 849kB 2.8MB/s eta 0:00:01\r\u001b[K     |████████████████████████▊       | 860kB 2.8MB/s eta 0:00:01\r\u001b[K     |█████████████████████████       | 870kB 2.8MB/s eta 0:00:01\r\u001b[K     |█████████████████████████▎      | 880kB 2.8MB/s eta 0:00:01\r\u001b[K     |█████████████████████████▋      | 890kB 2.8MB/s eta 0:00:01\r\u001b[K     |█████████████████████████▉      | 901kB 2.8MB/s eta 0:00:01\r\u001b[K     |██████████████████████████▏     | 911kB 2.8MB/s eta 0:00:01\r\u001b[K     |██████████████████████████▍     | 921kB 2.8MB/s eta 0:00:01\r\u001b[K     |██████████████████████████▊     | 931kB 2.8MB/s eta 0:00:01\r\u001b[K     |███████████████████████████     | 942kB 2.8MB/s eta 0:00:01\r\u001b[K     |███████████████████████████▎    | 952kB 2.8MB/s eta 0:00:01\r\u001b[K     |███████████████████████████▋    | 962kB 2.8MB/s eta 0:00:01\r\u001b[K     |████████████████████████████    | 972kB 2.8MB/s eta 0:00:01\r\u001b[K     |████████████████████████████▏   | 983kB 2.8MB/s eta 0:00:01\r\u001b[K     |████████████████████████████▌   | 993kB 2.8MB/s eta 0:00:01\r\u001b[K     |████████████████████████████▉   | 1.0MB 2.8MB/s eta 0:00:01\r\u001b[K     |█████████████████████████████   | 1.0MB 2.8MB/s eta 0:00:01\r\u001b[K     |█████████████████████████████▍  | 1.0MB 2.8MB/s eta 0:00:01\r\u001b[K     |█████████████████████████████▊  | 1.0MB 2.8MB/s eta 0:00:01\r\u001b[K     |██████████████████████████████  | 1.0MB 2.8MB/s eta 0:00:01\r\u001b[K     |██████████████████████████████▎ | 1.1MB 2.8MB/s eta 0:00:01\r\u001b[K     |██████████████████████████████▌ | 1.1MB 2.8MB/s eta 0:00:01\r\u001b[K     |██████████████████████████████▉ | 1.1MB 2.8MB/s eta 0:00:01\r\u001b[K     |███████████████████████████████▏| 1.1MB 2.8MB/s eta 0:00:01\r\u001b[K     |███████████████████████████████▍| 1.1MB 2.8MB/s eta 0:00:01\r\u001b[K     |███████████████████████████████▊| 1.1MB 2.8MB/s eta 0:00:01\r\u001b[K     |████████████████████████████████| 1.1MB 2.8MB/s \n",
            "\u001b[?25h  Building wheel for implicit (setup.py) ... \u001b[?25l\u001b[?25hdone\n"
          ],
          "name": "stdout"
        }
      ]
    },
    {
      "cell_type": "code",
      "metadata": {
        "id": "4GxPS16-qUV4",
        "colab_type": "code",
        "colab": {}
      },
      "source": [
        "import implicit "
      ],
      "execution_count": 0,
      "outputs": []
    },
    {
      "cell_type": "code",
      "metadata": {
        "id": "RgrWByAiXrZX",
        "colab_type": "code",
        "colab": {}
      },
      "source": [
        "alpha = 15\n",
        "user_vecs, item_vecs = implicit.alternating_least_squares((product_train*alpha).astype('double'), \n",
        "                                                          factors=20, \n",
        "                                                          regularization = 0.1, \n",
        "                                                         iterations = 50)"
      ],
      "execution_count": 0,
      "outputs": []
    },
    {
      "cell_type": "code",
      "metadata": {
        "id": "ExYjxoFoKTDm",
        "colab_type": "code",
        "outputId": "b93baefe-e5aa-48a6-f2c5-abfc768f623e",
        "colab": {
          "base_uri": "https://localhost:8080/",
          "height": 375
        }
      },
      "source": [
        "#Building the model\n",
        "model = implicit.als.AlternatingLeastSquares(factors=32, regularization = 0.1, iterations = 50)\n",
        "data = (product_train.T * alpha).astype('double')\n",
        "model.fit(data)"
      ],
      "execution_count": 0,
      "outputs": [
        {
          "output_type": "error",
          "ename": "RuntimeError",
          "evalue": "ignored",
          "traceback": [
            "\u001b[0;31m---------------------------------------------------------------------------\u001b[0m",
            "\u001b[0;31mRuntimeError\u001b[0m                              Traceback (most recent call last)",
            "\u001b[0;32m<ipython-input-49-a8fedcddbcf5>\u001b[0m in \u001b[0;36m<module>\u001b[0;34m()\u001b[0m\n\u001b[1;32m      1\u001b[0m \u001b[0mmodel\u001b[0m \u001b[0;34m=\u001b[0m \u001b[0mimplicit\u001b[0m\u001b[0;34m.\u001b[0m\u001b[0mals\u001b[0m\u001b[0;34m.\u001b[0m\u001b[0mAlternatingLeastSquares\u001b[0m\u001b[0;34m(\u001b[0m\u001b[0mfactors\u001b[0m\u001b[0;34m=\u001b[0m\u001b[0;36m32\u001b[0m\u001b[0;34m,\u001b[0m \u001b[0mregularization\u001b[0m \u001b[0;34m=\u001b[0m \u001b[0;36m0.1\u001b[0m\u001b[0;34m,\u001b[0m \u001b[0miterations\u001b[0m \u001b[0;34m=\u001b[0m \u001b[0;36m50\u001b[0m\u001b[0;34m)\u001b[0m\u001b[0;34m\u001b[0m\u001b[0;34m\u001b[0m\u001b[0m\n\u001b[1;32m      2\u001b[0m \u001b[0mdata\u001b[0m \u001b[0;34m=\u001b[0m \u001b[0;34m(\u001b[0m\u001b[0mproduct_train\u001b[0m\u001b[0;34m.\u001b[0m\u001b[0mT\u001b[0m \u001b[0;34m*\u001b[0m \u001b[0malpha\u001b[0m\u001b[0;34m)\u001b[0m\u001b[0;34m.\u001b[0m\u001b[0mastype\u001b[0m\u001b[0;34m(\u001b[0m\u001b[0;34m'double'\u001b[0m\u001b[0;34m)\u001b[0m\u001b[0;34m\u001b[0m\u001b[0;34m\u001b[0m\u001b[0m\n\u001b[0;32m----> 3\u001b[0;31m \u001b[0mmodel\u001b[0m\u001b[0;34m.\u001b[0m\u001b[0mfit\u001b[0m\u001b[0;34m(\u001b[0m\u001b[0mdata\u001b[0m\u001b[0;34m)\u001b[0m\u001b[0;34m\u001b[0m\u001b[0;34m\u001b[0m\u001b[0m\n\u001b[0m",
            "\u001b[0;32m/usr/local/lib/python3.6/dist-packages/implicit/als.py\u001b[0m in \u001b[0;36mfit\u001b[0;34m(self, item_users, show_progress)\u001b[0m\n\u001b[1;32m    177\u001b[0m \u001b[0;34m\u001b[0m\u001b[0m\n\u001b[1;32m    178\u001b[0m         \u001b[0;32mif\u001b[0m \u001b[0mself\u001b[0m\u001b[0;34m.\u001b[0m\u001b[0muse_gpu\u001b[0m\u001b[0;34m:\u001b[0m\u001b[0;34m\u001b[0m\u001b[0;34m\u001b[0m\u001b[0m\n\u001b[0;32m--> 179\u001b[0;31m             \u001b[0;32mreturn\u001b[0m \u001b[0mself\u001b[0m\u001b[0;34m.\u001b[0m\u001b[0m_fit_gpu\u001b[0m\u001b[0;34m(\u001b[0m\u001b[0mCiu\u001b[0m\u001b[0;34m,\u001b[0m \u001b[0mCui\u001b[0m\u001b[0;34m,\u001b[0m \u001b[0mvali_user_items\u001b[0m\u001b[0;34m,\u001b[0m \u001b[0mshow_progress\u001b[0m\u001b[0;34m)\u001b[0m\u001b[0;34m\u001b[0m\u001b[0;34m\u001b[0m\u001b[0m\n\u001b[0m\u001b[1;32m    180\u001b[0m \u001b[0;34m\u001b[0m\u001b[0m\n\u001b[1;32m    181\u001b[0m         \u001b[0msolver\u001b[0m \u001b[0;34m=\u001b[0m \u001b[0mself\u001b[0m\u001b[0;34m.\u001b[0m\u001b[0msolver\u001b[0m\u001b[0;34m\u001b[0m\u001b[0;34m\u001b[0m\u001b[0m\n",
            "\u001b[0;32m/usr/local/lib/python3.6/dist-packages/implicit/als.py\u001b[0m in \u001b[0;36m_fit_gpu\u001b[0;34m(self, Ciu_host, Cui_host, vali_user_items, show_progress)\u001b[0m\n\u001b[1;32m    224\u001b[0m             \u001b[0mself\u001b[0m\u001b[0;34m.\u001b[0m\u001b[0muser_factors\u001b[0m \u001b[0;34m=\u001b[0m \u001b[0mself\u001b[0m\u001b[0;34m.\u001b[0m\u001b[0muser_factors\u001b[0m\u001b[0;34m.\u001b[0m\u001b[0mastype\u001b[0m\u001b[0;34m(\u001b[0m\u001b[0mnp\u001b[0m\u001b[0;34m.\u001b[0m\u001b[0mfloat32\u001b[0m\u001b[0;34m)\u001b[0m\u001b[0;34m\u001b[0m\u001b[0;34m\u001b[0m\u001b[0m\n\u001b[1;32m    225\u001b[0m \u001b[0;34m\u001b[0m\u001b[0m\n\u001b[0;32m--> 226\u001b[0;31m         \u001b[0mCiu\u001b[0m \u001b[0;34m=\u001b[0m \u001b[0mimplicit\u001b[0m\u001b[0;34m.\u001b[0m\u001b[0mcuda\u001b[0m\u001b[0;34m.\u001b[0m\u001b[0mCuCSRMatrix\u001b[0m\u001b[0;34m(\u001b[0m\u001b[0mCiu_host\u001b[0m\u001b[0;34m)\u001b[0m\u001b[0;34m\u001b[0m\u001b[0;34m\u001b[0m\u001b[0m\n\u001b[0m\u001b[1;32m    227\u001b[0m         \u001b[0mCui\u001b[0m \u001b[0;34m=\u001b[0m \u001b[0mimplicit\u001b[0m\u001b[0;34m.\u001b[0m\u001b[0mcuda\u001b[0m\u001b[0;34m.\u001b[0m\u001b[0mCuCSRMatrix\u001b[0m\u001b[0;34m(\u001b[0m\u001b[0mCui_host\u001b[0m\u001b[0;34m)\u001b[0m\u001b[0;34m\u001b[0m\u001b[0;34m\u001b[0m\u001b[0m\n\u001b[1;32m    228\u001b[0m         \u001b[0mX\u001b[0m \u001b[0;34m=\u001b[0m \u001b[0mimplicit\u001b[0m\u001b[0;34m.\u001b[0m\u001b[0mcuda\u001b[0m\u001b[0;34m.\u001b[0m\u001b[0mCuDenseMatrix\u001b[0m\u001b[0;34m(\u001b[0m\u001b[0mself\u001b[0m\u001b[0;34m.\u001b[0m\u001b[0muser_factors\u001b[0m\u001b[0;34m.\u001b[0m\u001b[0mastype\u001b[0m\u001b[0;34m(\u001b[0m\u001b[0mnp\u001b[0m\u001b[0;34m.\u001b[0m\u001b[0mfloat32\u001b[0m\u001b[0;34m)\u001b[0m\u001b[0;34m)\u001b[0m\u001b[0;34m\u001b[0m\u001b[0;34m\u001b[0m\u001b[0m\n",
            "\u001b[0;32mimplicit/cuda/_cuda.pyx\u001b[0m in \u001b[0;36mimplicit.cuda._cuda.CuCSRMatrix.__cinit__\u001b[0;34m()\u001b[0m\n",
            "\u001b[0;31mRuntimeError\u001b[0m: Cuda Error: no CUDA-capable device is detected (implicit/cuda/matrix.cu:47)"
          ]
        }
      ]
    },
    {
      "cell_type": "code",
      "metadata": {
        "id": "OihZZiQ7YAkK",
        "colab_type": "code",
        "colab": {}
      },
      "source": [
        "user_vecs = model.user_factors\n",
        "item_vecs = model.item_factors"
      ],
      "execution_count": 0,
      "outputs": []
    },
    {
      "cell_type": "markdown",
      "metadata": {
        "id": "qUgUkSxnrA_b",
        "colab_type": "text"
      },
      "source": [
        "# Evaluating the Recommender System"
      ]
    },
    {
      "cell_type": "code",
      "metadata": {
        "id": "pFJf3GfcqUeG",
        "colab_type": "code",
        "colab": {}
      },
      "source": [
        "from sklearn import metrics"
      ],
      "execution_count": 0,
      "outputs": []
    },
    {
      "cell_type": "code",
      "metadata": {
        "id": "CwVlRYvjqUh7",
        "colab_type": "code",
        "colab": {}
      },
      "source": [
        "def auc_score(predictions, test):\n",
        "    '''\n",
        "    This simple function will output the area under the curve using sklearn's metrics. \n",
        "    \n",
        "    parameters:\n",
        "    \n",
        "    - predictions: your prediction output\n",
        "    \n",
        "    - test: the actual target result you are comparing to\n",
        "    \n",
        "    returns:\n",
        "    \n",
        "    - AUC (area under the Receiver Operating Characterisic curve)\n",
        "    '''\n",
        "    fpr, tpr, thresholds = metrics.roc_curve(test, predictions)\n",
        "    return metrics.auc(fpr, tpr)   "
      ],
      "execution_count": 0,
      "outputs": []
    },
    {
      "cell_type": "code",
      "metadata": {
        "id": "6fhIGrv1qUZO",
        "colab_type": "code",
        "colab": {}
      },
      "source": [
        "def calc_mean_auc(training_set, altered_users, predictions, test_set):\n",
        "    '''\n",
        "    This function will calculate the mean AUC by user for any user that had their user-item matrix altered. \n",
        "    \n",
        "    parameters:\n",
        "    \n",
        "    training_set - The training set resulting from make_train, where a certain percentage of the original\n",
        "    user/item interactions are reset to zero to hide them from the model \n",
        "    \n",
        "    predictions - The matrix of your predicted ratings for each user/item pair as output from the implicit MF.\n",
        "    These should be stored in a list, with user vectors as item zero and item vectors as item one. \n",
        "    \n",
        "    altered_users - The indices of the users where at least one user/item pair was altered from make_train function\n",
        "    \n",
        "    test_set - The test set constucted earlier from make_train function\n",
        "    \n",
        "    \n",
        "    \n",
        "    returns:\n",
        "    \n",
        "    The mean AUC (area under the Receiver Operator Characteristic curve) of the test set only on user-item interactions\n",
        "    there were originally zero to test ranking ability in addition to the most popular items as a benchmark.\n",
        "    '''\n",
        "    \n",
        "    \n",
        "    store_auc = [] # An empty list to store the AUC for each user that had an item removed from the training set\n",
        "    popularity_auc = [] # To store popular AUC scores\n",
        "    pop_items = np.array(test_set.sum(axis = 0)).reshape(-1) # Get sum of item iteractions to find most popular\n",
        "    item_vecs = predictions[1]\n",
        "    for user in altered_users: # Iterate through each user that had an item altered\n",
        "        training_row = training_set[user,:].toarray().reshape(-1) # Get the training set row\n",
        "        zero_inds = np.where(training_row == 0) # Find where the interaction had not yet occurred\n",
        "        # Get the predicted values based on our user/item vectors\n",
        "        user_vec = predictions[0][user,:]\n",
        "        pred = user_vec.dot(item_vecs).toarray()[0,zero_inds].reshape(-1)\n",
        "        # Get only the items that were originally zero\n",
        "        # Select all ratings from the MF prediction for this user that originally had no iteraction\n",
        "        actual = test_set[user,:].toarray()[0,zero_inds].reshape(-1) \n",
        "        # Select the binarized yes/no interaction pairs from the original full data\n",
        "        # that align with the same pairs in training \n",
        "        pop = pop_items[zero_inds] # Get the item popularity for our chosen items\n",
        "        store_auc.append(auc_score(pred, actual)) # Calculate AUC for the given user and store\n",
        "        popularity_auc.append(auc_score(pop, actual)) # Calculate AUC using most popular and score\n",
        "    # End users iteration\n",
        "    \n",
        "    return float('%.3f'%np.mean(store_auc)), float('%.3f'%np.mean(popularity_auc))  \n",
        "   # Return the mean AUC rounded to three decimal places for both test and popularity benchmark"
      ],
      "execution_count": 0,
      "outputs": []
    },
    {
      "cell_type": "code",
      "metadata": {
        "id": "a_gSGiFDqUUP",
        "colab_type": "code",
        "outputId": "ec699165-a8ab-41be-cf49-1e1eaa173902",
        "colab": {
          "base_uri": "https://localhost:8080/",
          "height": 34
        }
      },
      "source": [
        "calc_mean_auc(product_train, product_users_altered, \n",
        "              [sparse.csr_matrix(user_vecs), sparse.csr_matrix(item_vecs.T)], product_test)\n",
        "# AUC for our recommender system"
      ],
      "execution_count": 0,
      "outputs": [
        {
          "output_type": "execute_result",
          "data": {
            "text/plain": [
              "(0.511, 0.793)"
            ]
          },
          "metadata": {
            "tags": []
          },
          "execution_count": 54
        }
      ]
    },
    {
      "cell_type": "markdown",
      "metadata": {
        "id": "m94csG9SqObI",
        "colab_type": "text"
      },
      "source": [
        "# A Recommendation Example"
      ]
    },
    {
      "cell_type": "code",
      "metadata": {
        "id": "YEbJI0UcrVnC",
        "colab_type": "code",
        "colab": {}
      },
      "source": [
        "customers_arr = np.array(customers) # Array of customer IDs from the ratings matrix\n",
        "products_arr = np.array(products) # Array of product IDs from the ratings matrix"
      ],
      "execution_count": 0,
      "outputs": []
    },
    {
      "cell_type": "code",
      "metadata": {
        "id": "I0TT0cLfrVxe",
        "colab_type": "code",
        "colab": {}
      },
      "source": [
        "def get_items_purchased(customer_id, mf_train, customers_list, products_list, item_lookup):\n",
        "    '''\n",
        "    This just tells me which items have been already purchased by a specific user in the training set. \n",
        "    \n",
        "    parameters: \n",
        "    \n",
        "    customer_id - Input the customer's id number that you want to see prior purchases of at least once\n",
        "    \n",
        "    mf_train - The initial ratings training set used (without weights applied)\n",
        "    \n",
        "    customers_list - The array of customers used in the ratings matrix\n",
        "    \n",
        "    products_list - The array of products used in the ratings matrix\n",
        "    \n",
        "    item_lookup - A simple pandas dataframe of the unique product ID/product descriptions available\n",
        "    \n",
        "    returns:\n",
        "    \n",
        "    A list of item IDs and item descriptions for a particular customer that were already purchased in the training set\n",
        "    '''\n",
        "    cust_ind = np.where(customers_list == customer_id)[0][0] # Returns the index row of our customer id\n",
        "    purchased_ind = mf_train[cust_ind,:].nonzero()[1] # Get column indices of purchased items\n",
        "    prod_codes = products_list[purchased_ind] # Get the stock codes for our purchased items\n",
        "    return item_lookup.loc[item_lookup.StockCode.isin(prod_codes)]"
      ],
      "execution_count": 0,
      "outputs": []
    },
    {
      "cell_type": "code",
      "metadata": {
        "id": "lmSjjz4IrV-G",
        "colab_type": "code",
        "outputId": "6cfa3a21-7b6f-468d-c08e-48bd35d81039",
        "colab": {
          "base_uri": "https://localhost:8080/",
          "height": 34
        }
      },
      "source": [
        "customers_arr[:5]\n"
      ],
      "execution_count": 0,
      "outputs": [
        {
          "output_type": "execute_result",
          "data": {
            "text/plain": [
              "array([12346, 12347, 12348, 12349, 12350])"
            ]
          },
          "metadata": {
            "tags": []
          },
          "execution_count": 57
        }
      ]
    },
    {
      "cell_type": "code",
      "metadata": {
        "id": "NMsG8Lk6rV4B",
        "colab_type": "code",
        "outputId": "ab461517-8e81-430c-9bec-7b975c933ed7",
        "colab": {
          "base_uri": "https://localhost:8080/",
          "height": 320
        }
      },
      "source": [
        "get_items_purchased('12346', product_train, customers_arr, products_arr, item_lookup)"
      ],
      "execution_count": 0,
      "outputs": [
        {
          "output_type": "stream",
          "text": [
            "/usr/local/lib/python3.6/dist-packages/ipykernel_launcher.py:21: FutureWarning: elementwise comparison failed; returning scalar instead, but in the future will perform elementwise comparison\n"
          ],
          "name": "stderr"
        },
        {
          "output_type": "error",
          "ename": "IndexError",
          "evalue": "ignored",
          "traceback": [
            "\u001b[0;31m---------------------------------------------------------------------------\u001b[0m",
            "\u001b[0;31mIndexError\u001b[0m                                Traceback (most recent call last)",
            "\u001b[0;32m<ipython-input-60-0041fd10d519>\u001b[0m in \u001b[0;36m<module>\u001b[0;34m()\u001b[0m\n\u001b[0;32m----> 1\u001b[0;31m \u001b[0mget_items_purchased\u001b[0m\u001b[0;34m(\u001b[0m\u001b[0;34m'12346'\u001b[0m\u001b[0;34m,\u001b[0m \u001b[0mproduct_train\u001b[0m\u001b[0;34m,\u001b[0m \u001b[0mcustomers_arr\u001b[0m\u001b[0;34m,\u001b[0m \u001b[0mproducts_arr\u001b[0m\u001b[0;34m,\u001b[0m \u001b[0mitem_lookup\u001b[0m\u001b[0;34m)\u001b[0m\u001b[0;34m\u001b[0m\u001b[0;34m\u001b[0m\u001b[0m\n\u001b[0m",
            "\u001b[0;32m<ipython-input-56-0f5d1ab992bb>\u001b[0m in \u001b[0;36mget_items_purchased\u001b[0;34m(customer_id, mf_train, customers_list, products_list, item_lookup)\u001b[0m\n\u001b[1;32m     19\u001b[0m     \u001b[0mA\u001b[0m \u001b[0mlist\u001b[0m \u001b[0mof\u001b[0m \u001b[0mitem\u001b[0m \u001b[0mIDs\u001b[0m \u001b[0;32mand\u001b[0m \u001b[0mitem\u001b[0m \u001b[0mdescriptions\u001b[0m \u001b[0;32mfor\u001b[0m \u001b[0ma\u001b[0m \u001b[0mparticular\u001b[0m \u001b[0mcustomer\u001b[0m \u001b[0mthat\u001b[0m \u001b[0mwere\u001b[0m \u001b[0malready\u001b[0m \u001b[0mpurchased\u001b[0m \u001b[0;32min\u001b[0m \u001b[0mthe\u001b[0m \u001b[0mtraining\u001b[0m \u001b[0mset\u001b[0m\u001b[0;34m\u001b[0m\u001b[0;34m\u001b[0m\u001b[0m\n\u001b[1;32m     20\u001b[0m     '''\n\u001b[0;32m---> 21\u001b[0;31m     \u001b[0mcust_ind\u001b[0m \u001b[0;34m=\u001b[0m \u001b[0mnp\u001b[0m\u001b[0;34m.\u001b[0m\u001b[0mwhere\u001b[0m\u001b[0;34m(\u001b[0m\u001b[0mcustomers_list\u001b[0m \u001b[0;34m==\u001b[0m \u001b[0mcustomer_id\u001b[0m\u001b[0;34m)\u001b[0m\u001b[0;34m[\u001b[0m\u001b[0;36m0\u001b[0m\u001b[0;34m]\u001b[0m\u001b[0;34m[\u001b[0m\u001b[0;36m0\u001b[0m\u001b[0;34m]\u001b[0m \u001b[0;31m# Returns the index row of our customer id\u001b[0m\u001b[0;34m\u001b[0m\u001b[0;34m\u001b[0m\u001b[0m\n\u001b[0m\u001b[1;32m     22\u001b[0m     \u001b[0mpurchased_ind\u001b[0m \u001b[0;34m=\u001b[0m \u001b[0mmf_train\u001b[0m\u001b[0;34m[\u001b[0m\u001b[0mcust_ind\u001b[0m\u001b[0;34m,\u001b[0m\u001b[0;34m:\u001b[0m\u001b[0;34m]\u001b[0m\u001b[0;34m.\u001b[0m\u001b[0mnonzero\u001b[0m\u001b[0;34m(\u001b[0m\u001b[0;34m)\u001b[0m\u001b[0;34m[\u001b[0m\u001b[0;36m1\u001b[0m\u001b[0;34m]\u001b[0m \u001b[0;31m# Get column indices of purchased items\u001b[0m\u001b[0;34m\u001b[0m\u001b[0;34m\u001b[0m\u001b[0m\n\u001b[1;32m     23\u001b[0m     \u001b[0mprod_codes\u001b[0m \u001b[0;34m=\u001b[0m \u001b[0mproducts_list\u001b[0m\u001b[0;34m[\u001b[0m\u001b[0mpurchased_ind\u001b[0m\u001b[0;34m]\u001b[0m \u001b[0;31m# Get the stock codes for our purchased items\u001b[0m\u001b[0;34m\u001b[0m\u001b[0;34m\u001b[0m\u001b[0m\n",
            "\u001b[0;31mIndexError\u001b[0m: index 0 is out of bounds for axis 0 with size 0"
          ]
        }
      ]
    },
    {
      "cell_type": "code",
      "metadata": {
        "id": "NjIx9ZeurV2g",
        "colab_type": "code",
        "colab": {}
      },
      "source": [
        "from sklearn.preprocessing import MinMaxScaler\n"
      ],
      "execution_count": 0,
      "outputs": []
    },
    {
      "cell_type": "code",
      "metadata": {
        "id": "XiPQEA2KrVuj",
        "colab_type": "code",
        "colab": {}
      },
      "source": [
        "def rec_items(customer_id, mf_train, user_vecs, item_vecs, customer_list, item_list, item_lookup, num_items = 10):\n",
        "    '''\n",
        "    This function will return the top recommended items to our users \n",
        "    \n",
        "    parameters:\n",
        "    \n",
        "    customer_id - Input the customer's id number that you want to get recommendations for\n",
        "    \n",
        "    mf_train - The training matrix you used for matrix factorization fitting\n",
        "    \n",
        "    user_vecs - the user vectors from your fitted matrix factorization\n",
        "    \n",
        "    item_vecs - the item vectors from your fitted matrix factorization\n",
        "    \n",
        "    customer_list - an array of the customer's ID numbers that make up the rows of your ratings matrix \n",
        "                    (in order of matrix)\n",
        "    \n",
        "    item_list - an array of the products that make up the columns of your ratings matrix\n",
        "                    (in order of matrix)\n",
        "    \n",
        "    item_lookup - A simple pandas dataframe of the unique product ID/product descriptions available\n",
        "    \n",
        "    num_items - The number of items you want to recommend in order of best recommendations. Default is 10. \n",
        "    \n",
        "    returns:\n",
        "    \n",
        "    - The top n recommendations chosen based on the user/item vectors for items never interacted with/purchased\n",
        "    '''\n",
        "    \n",
        "    cust_ind = np.where(customer_list == customer_id)[0][0] # Returns the index row of our customer id\n",
        "    pref_vec = mf_train[cust_ind,:].toarray() # Get the ratings from the training set ratings matrix\n",
        "    pref_vec = pref_vec.reshape(-1) + 1 # Add 1 to everything, so that items not purchased yet become equal to 1\n",
        "    pref_vec[pref_vec > 1] = 0 # Make everything already purchased zero\n",
        "    rec_vector = user_vecs[cust_ind,:].dot(item_vecs.T) # Get dot product of user vector and all item vectors\n",
        "    # Scale this recommendation vector between 0 and 1\n",
        "    min_max = MinMaxScaler()\n",
        "    rec_vector_scaled = min_max.fit_transform(rec_vector.reshape(-1,1))[:,0] \n",
        "    recommend_vector = pref_vec*rec_vector_scaled \n",
        "    # Items already purchased have their recommendation multiplied by zero\n",
        "    product_idx = np.argsort(recommend_vector)[::-1][:num_items] # Sort the indices of the items into order \n",
        "    # of best recommendations\n",
        "    rec_list = [] # start empty list to store items\n",
        "    for index in product_idx:\n",
        "        code = item_list[index]\n",
        "        rec_list.append([code, item_lookup.Description.loc[item_lookup.StockCode == code].iloc[0]]) \n",
        "        # Append our descriptions to the list\n",
        "    codes = [item[0] for item in rec_list]\n",
        "    descriptions = [item[1] for item in rec_list]\n",
        "    final_frame = pd.DataFrame({'StockCode': codes, 'Description': descriptions}) # Create a dataframe \n",
        "    return final_frame[['StockCode', 'Description']] # Switch order of columns around"
      ],
      "execution_count": 0,
      "outputs": []
    },
    {
      "cell_type": "code",
      "metadata": {
        "id": "4WDOeFTPrm-9",
        "colab_type": "code",
        "colab": {}
      },
      "source": [
        "rec_items(12346, product_train, user_vecs, item_vecs, customers_arr, products_arr, item_lookup,\n",
        "                       num_items = 10)\n"
      ],
      "execution_count": 0,
      "outputs": []
    },
    {
      "cell_type": "code",
      "metadata": {
        "id": "yBcwy8IKrraY",
        "colab_type": "code",
        "colab": {}
      },
      "source": [
        "get_items_purchased(12353, product_train, customers_arr, products_arr, item_lookup)"
      ],
      "execution_count": 0,
      "outputs": []
    },
    {
      "cell_type": "markdown",
      "metadata": {
        "id": "Wx49oD6arUWQ",
        "colab_type": "text"
      },
      "source": [
        ""
      ]
    },
    {
      "cell_type": "markdown",
      "metadata": {
        "id": "DEyJ1JWvrUho",
        "colab_type": "text"
      },
      "source": [
        ""
      ]
    },
    {
      "cell_type": "markdown",
      "metadata": {
        "id": "TMDFW5CSrUm7",
        "colab_type": "text"
      },
      "source": [
        ""
      ]
    },
    {
      "cell_type": "markdown",
      "metadata": {
        "id": "eaMmle4orUej",
        "colab_type": "text"
      },
      "source": [
        ""
      ]
    },
    {
      "cell_type": "markdown",
      "metadata": {
        "id": "eYdtWlpbrUbr",
        "colab_type": "text"
      },
      "source": [
        ""
      ]
    },
    {
      "cell_type": "markdown",
      "metadata": {
        "id": "AKtbTraKqOf7",
        "colab_type": "text"
      },
      "source": [
        ""
      ]
    },
    {
      "cell_type": "markdown",
      "metadata": {
        "id": "-D9WEX_cqOky",
        "colab_type": "text"
      },
      "source": [
        ""
      ]
    },
    {
      "cell_type": "markdown",
      "metadata": {
        "id": "-GUcF2GffexH",
        "colab_type": "text"
      },
      "source": [
        ""
      ]
    }
  ]
}