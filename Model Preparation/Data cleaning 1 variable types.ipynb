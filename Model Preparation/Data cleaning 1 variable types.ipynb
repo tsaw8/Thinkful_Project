{
 "cells": [
  {
   "cell_type": "markdown",
   "metadata": {},
   "source": [
    "# Assignment\n",
    "\n",
    "To complete this assignment, submit a Gist file or enter your answers directly below to the following questions:"
   ]
  },
  {
   "cell_type": "markdown",
   "metadata": {},
   "source": [
    "#### 1. Consider the advantages and disadvantages of treating the Rank variable as categorical. \n",
    "\n",
    "Treating rank variables as categorical enables us to reduce the number of datapoints for the viewer to digest. For example, if the rank ranges from 1 to 1,000, it may be overwhelming to describe each rank. By grouping the ranks into categories, such as Tier 1 ranging from No. 1 to No. 499 and Teir 2 as the remaining ranks, we would be able to provide characteristics of each group with less \"data noise\". On the other hand, we would lose information about each datapoint in the process. As a categorical variable, we would not be able to measure rank in terms of its distance quality. \n"
   ]
  },
  {
   "cell_type": "markdown",
   "metadata": {},
   "source": [
    "#### 2.  What are the types of the following variables?\n",
    "\n",
    "_Age_: It is a continuous ratio variable, however, it can be grouped as ordinal categorical variable. \n",
    "\n",
    "_Salary_: It is a continuous ratio variable. Like age, it can also be grouped as ordinal categorical variable.\n",
    "\n",
    "_Revenue_: Continuous ratio variable\n",
    "\n",
    "_Customer type_: Nominal categorical variable \n",
    "\n",
    "_Stock price_: Continuous ratio variable \n"
   ]
  }
 ],
 "metadata": {
  "kernelspec": {
   "display_name": "Python 3",
   "language": "python",
   "name": "python3"
  },
  "language_info": {
   "codemirror_mode": {
    "name": "ipython",
    "version": 3
   },
   "file_extension": ".py",
   "mimetype": "text/x-python",
   "name": "python",
   "nbconvert_exporter": "python",
   "pygments_lexer": "ipython3",
   "version": "3.7.0"
  }
 },
 "nbformat": 4,
 "nbformat_minor": 2
}
