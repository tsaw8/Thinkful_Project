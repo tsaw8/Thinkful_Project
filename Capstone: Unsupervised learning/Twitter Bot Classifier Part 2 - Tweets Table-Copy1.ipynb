{
 "cells": [
  {
   "cell_type": "markdown",
   "metadata": {},
   "source": [
    "# Twitter Bot Classifier Part 2\n",
    "\n",
    "In this series of notebooks, we are using the [Fake Project](https://botometer.iuni.iu.edu/bot-repository/datasets.html) dataset to examine users habits and build a Twitter bot classifier. \n",
    " \n",
    "Previously, we looked into the potential threats that Twitter bot accounts pose. While some are harmless, others aim to manipulate and deceive viewers. We gathered several Twitter files from the Fake Project to assemble a Tweets and Users datasets. Null values have been dropped and tables have been formatted. Now, we will take a closer look into the features by conducting exploratory data analysis. \n",
    "\n",
    "## Tweets Table\n",
    "\n",
    "In this notebook, we will focus on exploring the tweets table. "
   ]
  },
  {
   "cell_type": "code",
   "execution_count": 89,
   "metadata": {},
   "outputs": [],
   "source": [
    "# Numpy and pandas\n",
    "import pandas as pd\n",
    "import numpy as np\n",
    "\n",
    "#Visualization\n",
    "import matplotlib.pyplot as plt\n",
    "import seaborn as sns\n",
    "\n",
    "#NLP tools\n",
    "import string\n",
    "import re\n",
    "import nltk\n",
    "from nltk.corpus import stopwords\n",
    "from googletrans import Translator\n",
    "\n",
    "# NLP feature selection \n",
    "from sklearn.feature_extraction.text import CountVectorizer\n",
    "from sklearn.feature_extraction.text import TfidfTransformer\n",
    "from sklearn.decomposition import TruncatedSVD\n",
    "\n",
    "# Sklearn data clean\n",
    "from sklearn.preprocessing import LabelEncoder\n",
    "from sklearn.impute import SimpleImputer\n",
    "from sklearn.preprocessing import MinMaxScaler\n",
    "\n",
    "# Model selection\n",
    "from sklearn.pipeline import Pipeline\n",
    "from sklearn.model_selection import train_test_split\n",
    "from sklearn.feature_selection import SelectFromModel\n",
    "from sklearn.preprocessing import StandardScaler\n",
    "from sklearn.model_selection import cross_val_score\n",
    "from sklearn.model_selection import KFold\n",
    "\n",
    "# Logistic Regression\n",
    "from sklearn.linear_model import Lasso, LogisticRegression\n",
    "\n",
    "# Decision Trees\n",
    "from sklearn import tree\n",
    "from sklearn.tree import DecisionTreeRegressor\n",
    "from IPython.display import Image\n",
    "import pydotplus\n",
    "import graphviz\n",
    "\n",
    "# Random Forests \n",
    "from sklearn.ensemble import RandomForestClassifier\n",
    "\n",
    "# SVM\n",
    "from sklearn.svm import SVC\n",
    "\n",
    "# Gradient Boost\n",
    "from xgboost import XGBClassifier\n",
    "\n",
    "# Evaluate\n",
    "from sklearn import metrics\n",
    "from sklearn.metrics import precision_score, recall_score, confusion_matrix, roc_auc_score,accuracy_score\n",
    "\n",
    "\n",
    "# Hyperparameter tuning\n",
    "from sklearn.model_selection import RandomizedSearchCV, GridSearchCV\n",
    "\n",
    "# Neural Network\n",
    "from sklearn.neural_network import MLPClassifier\n",
    "\n",
    "# Clustering \n",
    "from sklearn.cluster import KMeans\n",
    "from sklearn.cluster import MeanShift, estimate_bandwidth\n",
    "from sklearn.preprocessing import normalize\n",
    "from sklearn.decomposition import TruncatedSVD\n",
    "\n",
    "from sklearn.pipeline import make_pipeline\n",
    "from sklearn.preprocessing import Normalizer\n",
    "\n",
    "# Math \n",
    "import math\n",
    "\n",
    "# Datetime\n",
    "from datetime import datetime\n",
    "from dateutil import parser\n",
    "\n",
    "# Import data\n",
    "import warnings"
   ]
  },
  {
   "cell_type": "code",
   "execution_count": 2,
   "metadata": {},
   "outputs": [],
   "source": [
    "tweets = pd.read_csv('/Users/tsawaengsri/Desktop/Data Science Courses/Datasets/cresci-2017.csv/datasets_full.csv/clean_tweets2')\n",
    "users = pd.read_csv('/Users/tsawaengsri/Desktop/Data Science Courses/Datasets/cresci-2017.csv/datasets_full.csv/clean_users2')"
   ]
  },
  {
   "cell_type": "code",
   "execution_count": 3,
   "metadata": {},
   "outputs": [
    {
     "name": "stdout",
     "output_type": "stream",
     "text": [
      "<class 'pandas.core.frame.DataFrame'>\n",
      "RangeIndex: 6283436 entries, 0 to 6283435\n",
      "Data columns (total 18 columns):\n",
      "id                       int64\n",
      "text                     object\n",
      "source                   object\n",
      "user_id                  int64\n",
      "in_reply_to_status_id    int64\n",
      "in_reply_to_user_id      int64\n",
      "retweeted_status_id      int64\n",
      "retweet_count            int64\n",
      "reply_count              int64\n",
      "favorite_count           int64\n",
      "num_hashtags             int64\n",
      "num_urls                 int64\n",
      "num_mentions             int64\n",
      "created_at               object\n",
      "timestamp                object\n",
      "crawled_at               object\n",
      "updated                  object\n",
      "class                    int64\n",
      "dtypes: int64(12), object(6)\n",
      "memory usage: 862.9+ MB\n"
     ]
    }
   ],
   "source": [
    "tweets.info()"
   ]
  },
  {
   "cell_type": "code",
   "execution_count": 4,
   "metadata": {},
   "outputs": [
    {
     "name": "stdout",
     "output_type": "stream",
     "text": [
      "<class 'pandas.core.frame.DataFrame'>\n",
      "RangeIndex: 7989 entries, 0 to 7988\n",
      "Data columns (total 24 columns):\n",
      "id                                    7989 non-null int64\n",
      "name                                  7989 non-null object\n",
      "screen_name                           7989 non-null object\n",
      "statuses_count                        7989 non-null int64\n",
      "followers_count                       7989 non-null int64\n",
      "friends_count                         7989 non-null int64\n",
      "favourites_count                      7989 non-null int64\n",
      "listed_count                          7989 non-null int64\n",
      "lang                                  7989 non-null object\n",
      "profile_image_url                     7989 non-null object\n",
      "profile_use_background_image          7989 non-null int64\n",
      "profile_background_image_url_https    7989 non-null object\n",
      "profile_text_color                    7989 non-null object\n",
      "profile_image_url_https               7989 non-null object\n",
      "profile_sidebar_border_color          7989 non-null object\n",
      "profile_sidebar_fill_color            7989 non-null object\n",
      "profile_background_image_url          7989 non-null object\n",
      "profile_background_color              7989 non-null object\n",
      "profile_link_color                    7989 non-null object\n",
      "created_at                            7989 non-null object\n",
      "timestamp                             7989 non-null object\n",
      "crawled_at                            7989 non-null object\n",
      "updated                               7989 non-null object\n",
      "class                                 7989 non-null int64\n",
      "dtypes: int64(8), object(16)\n",
      "memory usage: 1.5+ MB\n"
     ]
    }
   ],
   "source": [
    "users.info()"
   ]
  },
  {
   "cell_type": "markdown",
   "metadata": {},
   "source": [
    "### Convert time variables to datetime \n",
    "It doesn't appear that time variables such as timestamp or created_at were saved as datetime. We will convert them to their respective data type. "
   ]
  },
  {
   "cell_type": "code",
   "execution_count": 5,
   "metadata": {},
   "outputs": [],
   "source": [
    "# Convert the time columns to np.datetime object\n",
    "tweets['timestamp'] = pd.to_datetime(tweets['timestamp'])"
   ]
  },
  {
   "cell_type": "code",
   "execution_count": 6,
   "metadata": {},
   "outputs": [],
   "source": [
    "tweets['created_at'] = pd.to_datetime(tweets['created_at'])"
   ]
  },
  {
   "cell_type": "code",
   "execution_count": 7,
   "metadata": {},
   "outputs": [],
   "source": [
    "tweets['crawled_at'] = pd.to_datetime(tweets['crawled_at'])"
   ]
  },
  {
   "cell_type": "code",
   "execution_count": 8,
   "metadata": {},
   "outputs": [],
   "source": [
    "tweets['updated'] = pd.to_datetime(tweets['updated'])"
   ]
  },
  {
   "cell_type": "code",
   "execution_count": 9,
   "metadata": {},
   "outputs": [],
   "source": [
    "# Convert the created_at column to np.datetime object\n",
    "users['timestamp'] = pd.to_datetime(users['timestamp'])"
   ]
  },
  {
   "cell_type": "code",
   "execution_count": 10,
   "metadata": {},
   "outputs": [],
   "source": [
    "users['created_at'] = pd.to_datetime(users['created_at'])"
   ]
  },
  {
   "cell_type": "code",
   "execution_count": 11,
   "metadata": {},
   "outputs": [],
   "source": [
    "users['crawled_at'] = pd.to_datetime(users['crawled_at'])"
   ]
  },
  {
   "cell_type": "code",
   "execution_count": 12,
   "metadata": {},
   "outputs": [],
   "source": [
    "users['updated'] = pd.to_datetime(users['updated'])"
   ]
  },
  {
   "cell_type": "code",
   "execution_count": 13,
   "metadata": {},
   "outputs": [
    {
     "name": "stdout",
     "output_type": "stream",
     "text": [
      "<class 'pandas.core.frame.DataFrame'>\n",
      "RangeIndex: 6283436 entries, 0 to 6283435\n",
      "Data columns (total 18 columns):\n",
      "id                       int64\n",
      "text                     object\n",
      "source                   object\n",
      "user_id                  int64\n",
      "in_reply_to_status_id    int64\n",
      "in_reply_to_user_id      int64\n",
      "retweeted_status_id      int64\n",
      "retweet_count            int64\n",
      "reply_count              int64\n",
      "favorite_count           int64\n",
      "num_hashtags             int64\n",
      "num_urls                 int64\n",
      "num_mentions             int64\n",
      "created_at               datetime64[ns, UTC]\n",
      "timestamp                datetime64[ns]\n",
      "crawled_at               datetime64[ns]\n",
      "updated                  datetime64[ns]\n",
      "class                    int64\n",
      "dtypes: datetime64[ns, UTC](1), datetime64[ns](3), int64(12), object(2)\n",
      "memory usage: 862.9+ MB\n"
     ]
    }
   ],
   "source": [
    "tweets.info()"
   ]
  },
  {
   "cell_type": "code",
   "execution_count": 14,
   "metadata": {},
   "outputs": [
    {
     "name": "stdout",
     "output_type": "stream",
     "text": [
      "<class 'pandas.core.frame.DataFrame'>\n",
      "RangeIndex: 7989 entries, 0 to 7988\n",
      "Data columns (total 24 columns):\n",
      "id                                    7989 non-null int64\n",
      "name                                  7989 non-null object\n",
      "screen_name                           7989 non-null object\n",
      "statuses_count                        7989 non-null int64\n",
      "followers_count                       7989 non-null int64\n",
      "friends_count                         7989 non-null int64\n",
      "favourites_count                      7989 non-null int64\n",
      "listed_count                          7989 non-null int64\n",
      "lang                                  7989 non-null object\n",
      "profile_image_url                     7989 non-null object\n",
      "profile_use_background_image          7989 non-null int64\n",
      "profile_background_image_url_https    7989 non-null object\n",
      "profile_text_color                    7989 non-null object\n",
      "profile_image_url_https               7989 non-null object\n",
      "profile_sidebar_border_color          7989 non-null object\n",
      "profile_sidebar_fill_color            7989 non-null object\n",
      "profile_background_image_url          7989 non-null object\n",
      "profile_background_color              7989 non-null object\n",
      "profile_link_color                    7989 non-null object\n",
      "created_at                            7989 non-null datetime64[ns, UTC]\n",
      "timestamp                             7989 non-null datetime64[ns]\n",
      "crawled_at                            7989 non-null datetime64[ns]\n",
      "updated                               7989 non-null datetime64[ns]\n",
      "class                                 7989 non-null int64\n",
      "dtypes: datetime64[ns, UTC](1), datetime64[ns](3), int64(8), object(12)\n",
      "memory usage: 1.5+ MB\n"
     ]
    }
   ],
   "source": [
    "users.info()"
   ]
  },
  {
   "cell_type": "code",
   "execution_count": 15,
   "metadata": {},
   "outputs": [
    {
     "data": {
      "text/html": [
       "<div>\n",
       "<style scoped>\n",
       "    .dataframe tbody tr th:only-of-type {\n",
       "        vertical-align: middle;\n",
       "    }\n",
       "\n",
       "    .dataframe tbody tr th {\n",
       "        vertical-align: top;\n",
       "    }\n",
       "\n",
       "    .dataframe thead th {\n",
       "        text-align: right;\n",
       "    }\n",
       "</style>\n",
       "<table border=\"1\" class=\"dataframe\">\n",
       "  <thead>\n",
       "    <tr style=\"text-align: right;\">\n",
       "      <th></th>\n",
       "      <th>id</th>\n",
       "      <th>text</th>\n",
       "      <th>source</th>\n",
       "      <th>user_id</th>\n",
       "      <th>in_reply_to_status_id</th>\n",
       "      <th>in_reply_to_user_id</th>\n",
       "      <th>retweeted_status_id</th>\n",
       "      <th>retweet_count</th>\n",
       "      <th>reply_count</th>\n",
       "      <th>favorite_count</th>\n",
       "      <th>num_hashtags</th>\n",
       "      <th>num_urls</th>\n",
       "      <th>num_mentions</th>\n",
       "      <th>created_at</th>\n",
       "      <th>timestamp</th>\n",
       "      <th>crawled_at</th>\n",
       "      <th>updated</th>\n",
       "      <th>class</th>\n",
       "    </tr>\n",
       "  </thead>\n",
       "  <tbody>\n",
       "    <tr>\n",
       "      <th>0</th>\n",
       "      <td>515447020405137408</td>\n",
       "      <td>\"Il mare d'inverno è un concetto che il pensie...</td>\n",
       "      <td>&lt;a href=\"http://www.Matildadr89.com\" rel=\"nofo...</td>\n",
       "      <td>237359828</td>\n",
       "      <td>0</td>\n",
       "      <td>0</td>\n",
       "      <td>0</td>\n",
       "      <td>0</td>\n",
       "      <td>0</td>\n",
       "      <td>0</td>\n",
       "      <td>0</td>\n",
       "      <td>0</td>\n",
       "      <td>0</td>\n",
       "      <td>2014-09-26 10:25:20+00:00</td>\n",
       "      <td>2014-09-26 12:25:20</td>\n",
       "      <td>2014-11-13 01:35:24</td>\n",
       "      <td>2014-11-13 01:35:24</td>\n",
       "      <td>1</td>\n",
       "    </tr>\n",
       "    <tr>\n",
       "      <th>1</th>\n",
       "      <td>513551196226093057</td>\n",
       "      <td>Read the History of Corona Beer  http://t.co/Z...</td>\n",
       "      <td>&lt;a href=\"http://tweetadder.com\" rel=\"nofollow\"...</td>\n",
       "      <td>215693377</td>\n",
       "      <td>0</td>\n",
       "      <td>0</td>\n",
       "      <td>0</td>\n",
       "      <td>0</td>\n",
       "      <td>0</td>\n",
       "      <td>0</td>\n",
       "      <td>0</td>\n",
       "      <td>1</td>\n",
       "      <td>0</td>\n",
       "      <td>2014-09-21 04:52:01+00:00</td>\n",
       "      <td>2014-09-21 06:52:01</td>\n",
       "      <td>2014-11-12 23:35:05</td>\n",
       "      <td>2014-11-12 23:35:05</td>\n",
       "      <td>1</td>\n",
       "    </tr>\n",
       "    <tr>\n",
       "      <th>2</th>\n",
       "      <td>579534763872149504</td>\n",
       "      <td>After that it would of been up to the person i...</td>\n",
       "      <td>&lt;a href=\"http://twitter.com/download/iphone\" r...</td>\n",
       "      <td>164284493</td>\n",
       "      <td>0</td>\n",
       "      <td>0</td>\n",
       "      <td>0</td>\n",
       "      <td>0</td>\n",
       "      <td>0</td>\n",
       "      <td>0</td>\n",
       "      <td>0</td>\n",
       "      <td>0</td>\n",
       "      <td>0</td>\n",
       "      <td>2015-03-22 06:47:09+00:00</td>\n",
       "      <td>2015-03-22 07:47:09</td>\n",
       "      <td>2015-05-01 13:21:46</td>\n",
       "      <td>2015-05-01 13:21:46</td>\n",
       "      <td>0</td>\n",
       "    </tr>\n",
       "    <tr>\n",
       "      <th>3</th>\n",
       "      <td>449751137970028544</td>\n",
       "      <td>RT @kcivey: @marionbarryjr I'm for public fina...</td>\n",
       "      <td>&lt;a href=\"http://twitter.com/download/iphone\" r...</td>\n",
       "      <td>225683965</td>\n",
       "      <td>0</td>\n",
       "      <td>0</td>\n",
       "      <td>449735142085779456</td>\n",
       "      <td>1</td>\n",
       "      <td>0</td>\n",
       "      <td>0</td>\n",
       "      <td>0</td>\n",
       "      <td>0</td>\n",
       "      <td>2</td>\n",
       "      <td>2014-03-29 03:33:21+00:00</td>\n",
       "      <td>2014-03-29 04:33:21</td>\n",
       "      <td>2015-05-01 15:58:20</td>\n",
       "      <td>2015-05-01 15:58:20</td>\n",
       "      <td>0</td>\n",
       "    </tr>\n",
       "    <tr>\n",
       "      <th>4</th>\n",
       "      <td>589197488269045760</td>\n",
       "      <td>RT @specuIar: This hit me hard. http://t.co/rY...</td>\n",
       "      <td>&lt;a href=\"http://twitter.com\" rel=\"nofollow\"&gt;Tw...</td>\n",
       "      <td>505440359</td>\n",
       "      <td>0</td>\n",
       "      <td>0</td>\n",
       "      <td>589196377353097216</td>\n",
       "      <td>1300</td>\n",
       "      <td>0</td>\n",
       "      <td>0</td>\n",
       "      <td>0</td>\n",
       "      <td>0</td>\n",
       "      <td>1</td>\n",
       "      <td>2015-04-17 22:43:22+00:00</td>\n",
       "      <td>2015-04-18 00:43:22</td>\n",
       "      <td>2015-05-01 13:21:33</td>\n",
       "      <td>2015-05-01 13:21:33</td>\n",
       "      <td>0</td>\n",
       "    </tr>\n",
       "  </tbody>\n",
       "</table>\n",
       "</div>"
      ],
      "text/plain": [
       "                   id                                               text  \\\n",
       "0  515447020405137408  \"Il mare d'inverno è un concetto che il pensie...   \n",
       "1  513551196226093057  Read the History of Corona Beer  http://t.co/Z...   \n",
       "2  579534763872149504  After that it would of been up to the person i...   \n",
       "3  449751137970028544  RT @kcivey: @marionbarryjr I'm for public fina...   \n",
       "4  589197488269045760  RT @specuIar: This hit me hard. http://t.co/rY...   \n",
       "\n",
       "                                              source    user_id  \\\n",
       "0  <a href=\"http://www.Matildadr89.com\" rel=\"nofo...  237359828   \n",
       "1  <a href=\"http://tweetadder.com\" rel=\"nofollow\"...  215693377   \n",
       "2  <a href=\"http://twitter.com/download/iphone\" r...  164284493   \n",
       "3  <a href=\"http://twitter.com/download/iphone\" r...  225683965   \n",
       "4  <a href=\"http://twitter.com\" rel=\"nofollow\">Tw...  505440359   \n",
       "\n",
       "   in_reply_to_status_id  in_reply_to_user_id  retweeted_status_id  \\\n",
       "0                      0                    0                    0   \n",
       "1                      0                    0                    0   \n",
       "2                      0                    0                    0   \n",
       "3                      0                    0   449735142085779456   \n",
       "4                      0                    0   589196377353097216   \n",
       "\n",
       "   retweet_count  reply_count  favorite_count  num_hashtags  num_urls  \\\n",
       "0              0            0               0             0         0   \n",
       "1              0            0               0             0         1   \n",
       "2              0            0               0             0         0   \n",
       "3              1            0               0             0         0   \n",
       "4           1300            0               0             0         0   \n",
       "\n",
       "   num_mentions                created_at           timestamp  \\\n",
       "0             0 2014-09-26 10:25:20+00:00 2014-09-26 12:25:20   \n",
       "1             0 2014-09-21 04:52:01+00:00 2014-09-21 06:52:01   \n",
       "2             0 2015-03-22 06:47:09+00:00 2015-03-22 07:47:09   \n",
       "3             2 2014-03-29 03:33:21+00:00 2014-03-29 04:33:21   \n",
       "4             1 2015-04-17 22:43:22+00:00 2015-04-18 00:43:22   \n",
       "\n",
       "           crawled_at             updated  class  \n",
       "0 2014-11-13 01:35:24 2014-11-13 01:35:24      1  \n",
       "1 2014-11-12 23:35:05 2014-11-12 23:35:05      1  \n",
       "2 2015-05-01 13:21:46 2015-05-01 13:21:46      0  \n",
       "3 2015-05-01 15:58:20 2015-05-01 15:58:20      0  \n",
       "4 2015-05-01 13:21:33 2015-05-01 13:21:33      0  "
      ]
     },
     "execution_count": 15,
     "metadata": {},
     "output_type": "execute_result"
    }
   ],
   "source": [
    "tweets.head()"
   ]
  },
  {
   "cell_type": "code",
   "execution_count": 16,
   "metadata": {},
   "outputs": [
    {
     "data": {
      "text/html": [
       "<div>\n",
       "<style scoped>\n",
       "    .dataframe tbody tr th:only-of-type {\n",
       "        vertical-align: middle;\n",
       "    }\n",
       "\n",
       "    .dataframe tbody tr th {\n",
       "        vertical-align: top;\n",
       "    }\n",
       "\n",
       "    .dataframe thead th {\n",
       "        text-align: right;\n",
       "    }\n",
       "</style>\n",
       "<table border=\"1\" class=\"dataframe\">\n",
       "  <thead>\n",
       "    <tr style=\"text-align: right;\">\n",
       "      <th></th>\n",
       "      <th>id</th>\n",
       "      <th>name</th>\n",
       "      <th>screen_name</th>\n",
       "      <th>statuses_count</th>\n",
       "      <th>followers_count</th>\n",
       "      <th>friends_count</th>\n",
       "      <th>favourites_count</th>\n",
       "      <th>listed_count</th>\n",
       "      <th>lang</th>\n",
       "      <th>profile_image_url</th>\n",
       "      <th>...</th>\n",
       "      <th>profile_sidebar_border_color</th>\n",
       "      <th>profile_sidebar_fill_color</th>\n",
       "      <th>profile_background_image_url</th>\n",
       "      <th>profile_background_color</th>\n",
       "      <th>profile_link_color</th>\n",
       "      <th>created_at</th>\n",
       "      <th>timestamp</th>\n",
       "      <th>crawled_at</th>\n",
       "      <th>updated</th>\n",
       "      <th>class</th>\n",
       "    </tr>\n",
       "  </thead>\n",
       "  <tbody>\n",
       "    <tr>\n",
       "      <th>0</th>\n",
       "      <td>2349966440</td>\n",
       "      <td>Joie Ficher</td>\n",
       "      <td>JoieFicher</td>\n",
       "      <td>80</td>\n",
       "      <td>2</td>\n",
       "      <td>42</td>\n",
       "      <td>0</td>\n",
       "      <td>0</td>\n",
       "      <td>en</td>\n",
       "      <td>http://pbs.twimg.com/profile_images/4365494921...</td>\n",
       "      <td>...</td>\n",
       "      <td>FFFFFF</td>\n",
       "      <td>DDEEF6</td>\n",
       "      <td>http://pbs.twimg.com/profile_background_images...</td>\n",
       "      <td>0000FF</td>\n",
       "      <td>0000FF</td>\n",
       "      <td>2014-02-18 11:22:38+00:00</td>\n",
       "      <td>2014-02-18 12:22:38</td>\n",
       "      <td>2014-05-03 00:22:39</td>\n",
       "      <td>2016-03-15 15:20:24</td>\n",
       "      <td>1</td>\n",
       "    </tr>\n",
       "    <tr>\n",
       "      <th>1</th>\n",
       "      <td>343263643</td>\n",
       "      <td>RIP Teveon </td>\n",
       "      <td>youpettihoe_</td>\n",
       "      <td>36513</td>\n",
       "      <td>2166</td>\n",
       "      <td>1627</td>\n",
       "      <td>2977</td>\n",
       "      <td>0</td>\n",
       "      <td>en</td>\n",
       "      <td>http://pbs.twimg.com/profile_images/5594447898...</td>\n",
       "      <td>...</td>\n",
       "      <td>FFFFFF</td>\n",
       "      <td>FFFFFF</td>\n",
       "      <td>http://pbs.twimg.com/profile_background_images...</td>\n",
       "      <td>FFFAFF</td>\n",
       "      <td>0A7A00</td>\n",
       "      <td>2011-07-27 09:01:04+00:00</td>\n",
       "      <td>2011-07-27 11:01:04</td>\n",
       "      <td>2015-05-01 23:18:23</td>\n",
       "      <td>2016-03-15 16:11:13</td>\n",
       "      <td>0</td>\n",
       "    </tr>\n",
       "    <tr>\n",
       "      <th>2</th>\n",
       "      <td>531154412</td>\n",
       "      <td>Bulah Lynne</td>\n",
       "      <td>Lynnevibe</td>\n",
       "      <td>10657</td>\n",
       "      <td>1194</td>\n",
       "      <td>996</td>\n",
       "      <td>1</td>\n",
       "      <td>8</td>\n",
       "      <td>en</td>\n",
       "      <td>http://pbs.twimg.com/profile_images/1914097815...</td>\n",
       "      <td>...</td>\n",
       "      <td>C0DEED</td>\n",
       "      <td>DDEEF6</td>\n",
       "      <td>http://abs.twimg.com/images/themes/theme1/bg.png</td>\n",
       "      <td>C0DEED</td>\n",
       "      <td>0084B4</td>\n",
       "      <td>2012-03-20 11:48:05+00:00</td>\n",
       "      <td>2012-03-20 12:48:05</td>\n",
       "      <td>2014-05-05 23:24:32</td>\n",
       "      <td>2016-03-15 15:40:08</td>\n",
       "      <td>1</td>\n",
       "    </tr>\n",
       "    <tr>\n",
       "      <th>3</th>\n",
       "      <td>2377665366</td>\n",
       "      <td>Katherina Kistle</td>\n",
       "      <td>KatherinaKistle</td>\n",
       "      <td>37</td>\n",
       "      <td>0</td>\n",
       "      <td>38</td>\n",
       "      <td>0</td>\n",
       "      <td>0</td>\n",
       "      <td>en</td>\n",
       "      <td>http://pbs.twimg.com/profile_images/4430041788...</td>\n",
       "      <td>...</td>\n",
       "      <td>FFFFFF</td>\n",
       "      <td>DDEEF6</td>\n",
       "      <td>http://pbs.twimg.com/profile_background_images...</td>\n",
       "      <td>0000FF</td>\n",
       "      <td>0000FF</td>\n",
       "      <td>2014-03-07 21:23:35+00:00</td>\n",
       "      <td>2014-03-07 22:23:35</td>\n",
       "      <td>2014-05-05 00:21:50</td>\n",
       "      <td>2016-03-15 15:16:15</td>\n",
       "      <td>1</td>\n",
       "    </tr>\n",
       "    <tr>\n",
       "      <th>4</th>\n",
       "      <td>3015346510</td>\n",
       "      <td>Lindsay Blessing Fan</td>\n",
       "      <td>lindsayspainfan</td>\n",
       "      <td>96</td>\n",
       "      <td>43</td>\n",
       "      <td>113</td>\n",
       "      <td>425</td>\n",
       "      <td>0</td>\n",
       "      <td>es</td>\n",
       "      <td>http://pbs.twimg.com/profile_images/5631073115...</td>\n",
       "      <td>...</td>\n",
       "      <td>000000</td>\n",
       "      <td>000000</td>\n",
       "      <td>http://pbs.twimg.com/profile_background_images...</td>\n",
       "      <td>000000</td>\n",
       "      <td>9266CC</td>\n",
       "      <td>2015-02-03 20:49:38+00:00</td>\n",
       "      <td>2015-02-03 21:49:38</td>\n",
       "      <td>2015-05-02 01:09:46</td>\n",
       "      <td>2016-03-15 16:07:16</td>\n",
       "      <td>0</td>\n",
       "    </tr>\n",
       "  </tbody>\n",
       "</table>\n",
       "<p>5 rows × 24 columns</p>\n",
       "</div>"
      ],
      "text/plain": [
       "           id                  name      screen_name  statuses_count  \\\n",
       "0  2349966440           Joie Ficher       JoieFicher              80   \n",
       "1   343263643         RIP Teveon      youpettihoe_           36513   \n",
       "2   531154412           Bulah Lynne        Lynnevibe           10657   \n",
       "3  2377665366      Katherina Kistle  KatherinaKistle              37   \n",
       "4  3015346510  Lindsay Blessing Fan  lindsayspainfan              96   \n",
       "\n",
       "   followers_count  friends_count  favourites_count  listed_count lang  \\\n",
       "0                2             42                 0             0   en   \n",
       "1             2166           1627              2977             0   en   \n",
       "2             1194            996                 1             8   en   \n",
       "3                0             38                 0             0   en   \n",
       "4               43            113               425             0   es   \n",
       "\n",
       "                                   profile_image_url  ...  \\\n",
       "0  http://pbs.twimg.com/profile_images/4365494921...  ...   \n",
       "1  http://pbs.twimg.com/profile_images/5594447898...  ...   \n",
       "2  http://pbs.twimg.com/profile_images/1914097815...  ...   \n",
       "3  http://pbs.twimg.com/profile_images/4430041788...  ...   \n",
       "4  http://pbs.twimg.com/profile_images/5631073115...  ...   \n",
       "\n",
       "   profile_sidebar_border_color profile_sidebar_fill_color  \\\n",
       "0                        FFFFFF                     DDEEF6   \n",
       "1                        FFFFFF                     FFFFFF   \n",
       "2                        C0DEED                     DDEEF6   \n",
       "3                        FFFFFF                     DDEEF6   \n",
       "4                        000000                     000000   \n",
       "\n",
       "                        profile_background_image_url profile_background_color  \\\n",
       "0  http://pbs.twimg.com/profile_background_images...                   0000FF   \n",
       "1  http://pbs.twimg.com/profile_background_images...                   FFFAFF   \n",
       "2   http://abs.twimg.com/images/themes/theme1/bg.png                   C0DEED   \n",
       "3  http://pbs.twimg.com/profile_background_images...                   0000FF   \n",
       "4  http://pbs.twimg.com/profile_background_images...                   000000   \n",
       "\n",
       "  profile_link_color                created_at           timestamp  \\\n",
       "0             0000FF 2014-02-18 11:22:38+00:00 2014-02-18 12:22:38   \n",
       "1             0A7A00 2011-07-27 09:01:04+00:00 2011-07-27 11:01:04   \n",
       "2             0084B4 2012-03-20 11:48:05+00:00 2012-03-20 12:48:05   \n",
       "3             0000FF 2014-03-07 21:23:35+00:00 2014-03-07 22:23:35   \n",
       "4             9266CC 2015-02-03 20:49:38+00:00 2015-02-03 21:49:38   \n",
       "\n",
       "           crawled_at             updated class  \n",
       "0 2014-05-03 00:22:39 2016-03-15 15:20:24     1  \n",
       "1 2015-05-01 23:18:23 2016-03-15 16:11:13     0  \n",
       "2 2014-05-05 23:24:32 2016-03-15 15:40:08     1  \n",
       "3 2014-05-05 00:21:50 2016-03-15 15:16:15     1  \n",
       "4 2015-05-02 01:09:46 2016-03-15 16:07:16     0  \n",
       "\n",
       "[5 rows x 24 columns]"
      ]
     },
     "execution_count": 16,
     "metadata": {},
     "output_type": "execute_result"
    }
   ],
   "source": [
    "users.head()"
   ]
  },
  {
   "cell_type": "markdown",
   "metadata": {},
   "source": [
    "# Exploratory Data Analysis\n",
    "We'll start by exploring the Tweets table by keeping a few questions in mind.<br> \n",
    "__How many tweets were made by humans and robots?__ <br>\n",
    "__Which accounts posted the most tweets?__ <br>"
   ]
  },
  {
   "cell_type": "code",
   "execution_count": 17,
   "metadata": {},
   "outputs": [
    {
     "name": "stdout",
     "output_type": "stream",
     "text": [
      "There are 2826718 tweets made by humans(44.987%) and 3456718 tweets made by bots (55.013%) in the tweets table.\n"
     ]
    }
   ],
   "source": [
    "# Bot vs human tweets \n",
    "counts = tweets['class'].value_counts()\n",
    "human = counts[0]\n",
    "bot = counts[1]\n",
    "human_per = (human/(human + bot))*100\n",
    "bot_per = (bot/(human + bot))*100\n",
    "print('There are {} tweets made by humans({:.3f}%) and {} tweets made by bots ({:.3f}%) in the tweets table.'.format(human, human_per, bot, bot_per))"
   ]
  },
  {
   "cell_type": "code",
   "execution_count": 18,
   "metadata": {},
   "outputs": [
    {
     "data": {
      "image/png": "[encoded data removed]",
      "text/plain": [
       "<Figure size 864x432 with 1 Axes>"
      ]
     },
     "metadata": {
      "needs_background": "light"
     },
     "output_type": "display_data"
    }
   ],
   "source": [
    "# Plot target variable\n",
    "plt.figure(figsize=(12,6))\n",
    "g = sns.countplot(x = 'class', data = tweets)\n",
    "g.set_title('Count of Tweets made by Humans vs Bots', fontsize = 17)\n",
    "g.set_xlabel('User Type', fontsize = 15)\n",
    "g.set_ylabel('# Tweets', fontsize = 15)\n",
    "\n",
    "for p in g.patches:\n",
    "    height = p.get_height()\n",
    "    g.text(p.get_x()+p.get_width()/2.,\n",
    "            height + 3,\n",
    "            '{:1.2f}%'.format(height/len(tweets) * 100),\n",
    "            ha=\"center\", fontsize=15) "
   ]
  },
  {
   "cell_type": "markdown",
   "metadata": {},
   "source": [
    "As shown in the bar graph, the data consists of 45% tweets by humans and 55% tweets by robots. The ratio between human to robot tweets are close so we do not have an imbalance problem. \n",
    "\n",
    "#### Let's look at which accounts tweeted the most. "
   ]
  },
  {
   "cell_type": "code",
   "execution_count": 19,
   "metadata": {},
   "outputs": [
    {
     "data": {
      "text/plain": [
       "5995"
      ]
     },
     "execution_count": 19,
     "metadata": {},
     "output_type": "execute_result"
    }
   ],
   "source": [
    "# Number of unique user accounts\n",
    "len(tweets['user_id'].unique().tolist())"
   ]
  },
  {
   "cell_type": "markdown",
   "metadata": {},
   "source": [
    "There are 5,996 unique user accounts in the Tweets table. "
   ]
  },
  {
   "cell_type": "code",
   "execution_count": 20,
   "metadata": {},
   "outputs": [],
   "source": [
    "# Create df for user class\n",
    "bots = tweets.loc[tweets['class']==1]\n",
    "gen = tweets.loc[tweets['class']==0]"
   ]
  },
  {
   "cell_type": "code",
   "execution_count": 21,
   "metadata": {},
   "outputs": [
    {
     "data": {
      "text/plain": [
       "521370115     3258\n",
       "334826952     3250\n",
       "221141363     3250\n",
       "239910996     3250\n",
       "982414274     3250\n",
       "              ... \n",
       "2382422750      66\n",
       "2375328500      64\n",
       "2382743514      63\n",
       "2391867347      43\n",
       "2384976224      38\n",
       "Name: user_id, Length: 4912, dtype: int64"
      ]
     },
     "execution_count": 21,
     "metadata": {},
     "output_type": "execute_result"
    }
   ],
   "source": [
    "# Counts of unique user accounts \n",
    "bots['user_id'].value_counts()"
   ]
  },
  {
   "cell_type": "code",
   "execution_count": 22,
   "metadata": {},
   "outputs": [
    {
     "data": {
      "text/plain": [
       "15044720      3250\n",
       "497404180     3249\n",
       "182211050     3247\n",
       "195076965     3247\n",
       "14626600      3247\n",
       "              ... \n",
       "492728332       24\n",
       "2236789484      15\n",
       "2200425967      14\n",
       "24386710        13\n",
       "514061230        3\n",
       "Name: user_id, Length: 1083, dtype: int64"
      ]
     },
     "execution_count": 22,
     "metadata": {},
     "output_type": "execute_result"
    }
   ],
   "source": [
    "# Counts of unique user accounts \n",
    "gen['user_id'].value_counts()"
   ]
  },
  {
   "cell_type": "markdown",
   "metadata": {},
   "source": [
    "__Observation__: Based on the total count of tweets, the most frequent tweets from both genuine users and robot accounts share similar traits. The top five tweeters in each class has posted over three thousand tweets. "
   ]
  },
  {
   "cell_type": "markdown",
   "metadata": {},
   "source": [
    "## Correlation\n",
    "We'll start by exmaining the correlation between features and target varaible. "
   ]
  },
  {
   "cell_type": "code",
   "execution_count": 23,
   "metadata": {},
   "outputs": [
    {
     "name": "stdout",
     "output_type": "stream",
     "text": [
      "Most Positive Correlations:\n",
      " num_mentions            -0.473250\n",
      "retweeted_status_id     -0.365936\n",
      "in_reply_to_status_id   -0.309953\n",
      "in_reply_to_user_id     -0.185500\n",
      "num_hashtags            -0.143896\n",
      "id                      -0.058521\n",
      "retweet_count           -0.036961\n",
      "favorite_count           0.016651\n",
      "user_id                  0.061362\n",
      "num_urls                 0.088025\n",
      "class                    1.000000\n",
      "reply_count                   NaN\n",
      "Name: class, dtype: float64\n",
      "\n",
      "Most Negative Correlations:\n",
      " num_mentions            -0.473250\n",
      "retweeted_status_id     -0.365936\n",
      "in_reply_to_status_id   -0.309953\n",
      "in_reply_to_user_id     -0.185500\n",
      "num_hashtags            -0.143896\n",
      "id                      -0.058521\n",
      "retweet_count           -0.036961\n",
      "favorite_count           0.016651\n",
      "user_id                  0.061362\n",
      "num_urls                 0.088025\n",
      "class                    1.000000\n",
      "reply_count                   NaN\n",
      "Name: class, dtype: float64\n"
     ]
    }
   ],
   "source": [
    "# Find correlations with the target and sort\n",
    "corr = tweets.corr()['class'].sort_values()\n",
    "\n",
    "# Display correlations\n",
    "print('Most Positive Correlations:\\n', corr.tail(15))\n",
    "print('\\nMost Negative Correlations:\\n', corr.head(15))"
   ]
  },
  {
   "cell_type": "code",
   "execution_count": 24,
   "metadata": {},
   "outputs": [
    {
     "data": {
      "text/plain": [
       "class                    1.000000\n",
       "num_mentions             0.473250\n",
       "retweeted_status_id      0.365936\n",
       "in_reply_to_status_id    0.309953\n",
       "in_reply_to_user_id      0.185500\n",
       "num_hashtags             0.143896\n",
       "num_urls                 0.088025\n",
       "user_id                  0.061362\n",
       "id                       0.058521\n",
       "retweet_count            0.036961\n",
       "favorite_count           0.016651\n",
       "Name: class, dtype: float64"
      ]
     },
     "execution_count": 24,
     "metadata": {},
     "output_type": "execute_result"
    }
   ],
   "source": [
    "# Correlation \n",
    "top_feat = np.absolute(tweets.corr()['class']).sort_values(ascending=False)[:11]\n",
    "top_feat"
   ]
  },
  {
   "cell_type": "markdown",
   "metadata": {},
   "source": [
    "__Observation__: The correlation between our target variable and the top features are rather week. The strongest correlation to class is the num_mentions(-47%). This could possibly hint towards retweets and replying to other accounts to be a good indicator of whether a tweet was generated by a human or robot. "
   ]
  },
  {
   "cell_type": "code",
   "execution_count": 25,
   "metadata": {},
   "outputs": [
    {
     "name": "stdout",
     "output_type": "stream",
     "text": [
      "Index(['class', 'num_mentions', 'retweeted_status_id', 'in_reply_to_status_id',\n",
      "       'in_reply_to_user_id', 'num_hashtags', 'num_urls', 'user_id', 'id',\n",
      "       'retweet_count', 'favorite_count'],\n",
      "      dtype='object')\n"
     ]
    }
   ],
   "source": [
    "# Top 10 features\n",
    "print(top_feat.index)"
   ]
  },
  {
   "cell_type": "code",
   "execution_count": null,
   "metadata": {},
   "outputs": [],
   "source": [
    "# Plot Pairplot\n",
    "pp = tweets[top_feat.index]\n",
    "\n",
    "sns.set(font_scale=1.7)\n",
    "sns.pairplot(pp)\n",
    "plt.show()"
   ]
  },
  {
   "cell_type": "code",
   "execution_count": 29,
   "metadata": {},
   "outputs": [
    {
     "data": {
      "image/png": "[encoded data removed]",
      "text/plain": [
       "<Figure size 720x648 with 2 Axes>"
      ]
     },
     "metadata": {},
     "output_type": "display_data"
    }
   ],
   "source": [
    "pp = tweets[top_feat.index]\n",
    "plt.figure(figsize=(10,9))\n",
    "corr = pp.corr()\n",
    "sns.heatmap(corr)\n",
    "plt.savefig('heatmat.png')"
   ]
  },
  {
   "cell_type": "markdown",
   "metadata": {},
   "source": [
    "__Observation__: There doesn't appear to be high collinearity among the features. The correlation between in_reply_to_user_id and in_reply_to_status_id seems to be higher than 0.5. We'll probably drop these features during feature selection since they are not the main focus of tweet info.  "
   ]
  },
  {
   "cell_type": "markdown",
   "metadata": {},
   "source": [
    "## Subsampling \n",
    "\n",
    "Due to hardware and memory limitations, we will reduce the size of the dataset and subsample 0.05% of tweets"
   ]
  },
  {
   "cell_type": "code",
   "execution_count": 30,
   "metadata": {},
   "outputs": [],
   "source": [
    "sub_tweets = tweets.groupby('class').apply(pd.DataFrame.sample, frac=0.005).reset_index(drop=True)"
   ]
  },
  {
   "cell_type": "code",
   "execution_count": 31,
   "metadata": {},
   "outputs": [
    {
     "data": {
      "text/plain": [
       "(31418, 18)"
      ]
     },
     "execution_count": 31,
     "metadata": {},
     "output_type": "execute_result"
    }
   ],
   "source": [
    "sub_tweets.shape"
   ]
  },
  {
   "cell_type": "markdown",
   "metadata": {},
   "source": [
    "# Feature Engineering and Selection\n",
    "\n",
    "Since we have identified trends and relationship within the dataset, we will use our findings to select a set of features for our model. \n",
    "\n",
    "For this assignment, we will take the following steps for feature selection:\n",
    " * creating new variables by aggregation\n",
    " * dropping unwanted varaibles\n",
    " * encode for tweets"
   ]
  },
  {
   "cell_type": "code",
   "execution_count": 32,
   "metadata": {},
   "outputs": [],
   "source": [
    "# Create new features \n",
    "tweets['hour'] = tweets['created_at'].apply(lambda x: x.hour)\n",
    "tweets['month'] = tweets['created_at'].apply(lambda x: x.month)\n",
    "tweets['day'] = tweets['created_at'].apply(lambda x: x.day)\n",
    "tweets['year'] = tweets['created_at'].apply(lambda x: x.year)\n",
    "tweets['length'] = tweets['text'].apply(len)\n",
    "tweets['num_of_words'] = tweets['text'].str.split().apply(len)"
   ]
  },
  {
   "cell_type": "code",
   "execution_count": 33,
   "metadata": {},
   "outputs": [
    {
     "data": {
      "text/html": [
       "<div>\n",
       "<style scoped>\n",
       "    .dataframe tbody tr th:only-of-type {\n",
       "        vertical-align: middle;\n",
       "    }\n",
       "\n",
       "    .dataframe tbody tr th {\n",
       "        vertical-align: top;\n",
       "    }\n",
       "\n",
       "    .dataframe thead th {\n",
       "        text-align: right;\n",
       "    }\n",
       "</style>\n",
       "<table border=\"1\" class=\"dataframe\">\n",
       "  <thead>\n",
       "    <tr style=\"text-align: right;\">\n",
       "      <th></th>\n",
       "      <th>id</th>\n",
       "      <th>text</th>\n",
       "      <th>source</th>\n",
       "      <th>user_id</th>\n",
       "      <th>in_reply_to_status_id</th>\n",
       "      <th>in_reply_to_user_id</th>\n",
       "      <th>retweeted_status_id</th>\n",
       "      <th>retweet_count</th>\n",
       "      <th>reply_count</th>\n",
       "      <th>favorite_count</th>\n",
       "      <th>...</th>\n",
       "      <th>timestamp</th>\n",
       "      <th>crawled_at</th>\n",
       "      <th>updated</th>\n",
       "      <th>class</th>\n",
       "      <th>hour</th>\n",
       "      <th>month</th>\n",
       "      <th>day</th>\n",
       "      <th>year</th>\n",
       "      <th>length</th>\n",
       "      <th>num_of_words</th>\n",
       "    </tr>\n",
       "  </thead>\n",
       "  <tbody>\n",
       "    <tr>\n",
       "      <th>0</th>\n",
       "      <td>515447020405137408</td>\n",
       "      <td>\"Il mare d'inverno è un concetto che il pensie...</td>\n",
       "      <td>&lt;a href=\"http://www.Matildadr89.com\" rel=\"nofo...</td>\n",
       "      <td>237359828</td>\n",
       "      <td>0</td>\n",
       "      <td>0</td>\n",
       "      <td>0</td>\n",
       "      <td>0</td>\n",
       "      <td>0</td>\n",
       "      <td>0</td>\n",
       "      <td>...</td>\n",
       "      <td>2014-09-26 12:25:20</td>\n",
       "      <td>2014-11-13 01:35:24</td>\n",
       "      <td>2014-11-13 01:35:24</td>\n",
       "      <td>1</td>\n",
       "      <td>10</td>\n",
       "      <td>9</td>\n",
       "      <td>26</td>\n",
       "      <td>2014</td>\n",
       "      <td>133</td>\n",
       "      <td>23</td>\n",
       "    </tr>\n",
       "    <tr>\n",
       "      <th>1</th>\n",
       "      <td>513551196226093057</td>\n",
       "      <td>Read the History of Corona Beer  http://t.co/Z...</td>\n",
       "      <td>&lt;a href=\"http://tweetadder.com\" rel=\"nofollow\"...</td>\n",
       "      <td>215693377</td>\n",
       "      <td>0</td>\n",
       "      <td>0</td>\n",
       "      <td>0</td>\n",
       "      <td>0</td>\n",
       "      <td>0</td>\n",
       "      <td>0</td>\n",
       "      <td>...</td>\n",
       "      <td>2014-09-21 06:52:01</td>\n",
       "      <td>2014-11-12 23:35:05</td>\n",
       "      <td>2014-11-12 23:35:05</td>\n",
       "      <td>1</td>\n",
       "      <td>4</td>\n",
       "      <td>9</td>\n",
       "      <td>21</td>\n",
       "      <td>2014</td>\n",
       "      <td>55</td>\n",
       "      <td>7</td>\n",
       "    </tr>\n",
       "    <tr>\n",
       "      <th>2</th>\n",
       "      <td>579534763872149504</td>\n",
       "      <td>After that it would of been up to the person i...</td>\n",
       "      <td>&lt;a href=\"http://twitter.com/download/iphone\" r...</td>\n",
       "      <td>164284493</td>\n",
       "      <td>0</td>\n",
       "      <td>0</td>\n",
       "      <td>0</td>\n",
       "      <td>0</td>\n",
       "      <td>0</td>\n",
       "      <td>0</td>\n",
       "      <td>...</td>\n",
       "      <td>2015-03-22 07:47:09</td>\n",
       "      <td>2015-05-01 13:21:46</td>\n",
       "      <td>2015-05-01 13:21:46</td>\n",
       "      <td>0</td>\n",
       "      <td>6</td>\n",
       "      <td>3</td>\n",
       "      <td>22</td>\n",
       "      <td>2015</td>\n",
       "      <td>113</td>\n",
       "      <td>23</td>\n",
       "    </tr>\n",
       "    <tr>\n",
       "      <th>3</th>\n",
       "      <td>449751137970028544</td>\n",
       "      <td>RT @kcivey: @marionbarryjr I'm for public fina...</td>\n",
       "      <td>&lt;a href=\"http://twitter.com/download/iphone\" r...</td>\n",
       "      <td>225683965</td>\n",
       "      <td>0</td>\n",
       "      <td>0</td>\n",
       "      <td>449735142085779456</td>\n",
       "      <td>1</td>\n",
       "      <td>0</td>\n",
       "      <td>0</td>\n",
       "      <td>...</td>\n",
       "      <td>2014-03-29 04:33:21</td>\n",
       "      <td>2015-05-01 15:58:20</td>\n",
       "      <td>2015-05-01 15:58:20</td>\n",
       "      <td>0</td>\n",
       "      <td>3</td>\n",
       "      <td>3</td>\n",
       "      <td>29</td>\n",
       "      <td>2014</td>\n",
       "      <td>140</td>\n",
       "      <td>26</td>\n",
       "    </tr>\n",
       "    <tr>\n",
       "      <th>4</th>\n",
       "      <td>589197488269045760</td>\n",
       "      <td>RT @specuIar: This hit me hard. http://t.co/rY...</td>\n",
       "      <td>&lt;a href=\"http://twitter.com\" rel=\"nofollow\"&gt;Tw...</td>\n",
       "      <td>505440359</td>\n",
       "      <td>0</td>\n",
       "      <td>0</td>\n",
       "      <td>589196377353097216</td>\n",
       "      <td>1300</td>\n",
       "      <td>0</td>\n",
       "      <td>0</td>\n",
       "      <td>...</td>\n",
       "      <td>2015-04-18 00:43:22</td>\n",
       "      <td>2015-05-01 13:21:33</td>\n",
       "      <td>2015-05-01 13:21:33</td>\n",
       "      <td>0</td>\n",
       "      <td>22</td>\n",
       "      <td>4</td>\n",
       "      <td>17</td>\n",
       "      <td>2015</td>\n",
       "      <td>54</td>\n",
       "      <td>7</td>\n",
       "    </tr>\n",
       "  </tbody>\n",
       "</table>\n",
       "<p>5 rows × 24 columns</p>\n",
       "</div>"
      ],
      "text/plain": [
       "                   id                                               text  \\\n",
       "0  515447020405137408  \"Il mare d'inverno è un concetto che il pensie...   \n",
       "1  513551196226093057  Read the History of Corona Beer  http://t.co/Z...   \n",
       "2  579534763872149504  After that it would of been up to the person i...   \n",
       "3  449751137970028544  RT @kcivey: @marionbarryjr I'm for public fina...   \n",
       "4  589197488269045760  RT @specuIar: This hit me hard. http://t.co/rY...   \n",
       "\n",
       "                                              source    user_id  \\\n",
       "0  <a href=\"http://www.Matildadr89.com\" rel=\"nofo...  237359828   \n",
       "1  <a href=\"http://tweetadder.com\" rel=\"nofollow\"...  215693377   \n",
       "2  <a href=\"http://twitter.com/download/iphone\" r...  164284493   \n",
       "3  <a href=\"http://twitter.com/download/iphone\" r...  225683965   \n",
       "4  <a href=\"http://twitter.com\" rel=\"nofollow\">Tw...  505440359   \n",
       "\n",
       "   in_reply_to_status_id  in_reply_to_user_id  retweeted_status_id  \\\n",
       "0                      0                    0                    0   \n",
       "1                      0                    0                    0   \n",
       "2                      0                    0                    0   \n",
       "3                      0                    0   449735142085779456   \n",
       "4                      0                    0   589196377353097216   \n",
       "\n",
       "   retweet_count  reply_count  favorite_count  ...           timestamp  \\\n",
       "0              0            0               0  ... 2014-09-26 12:25:20   \n",
       "1              0            0               0  ... 2014-09-21 06:52:01   \n",
       "2              0            0               0  ... 2015-03-22 07:47:09   \n",
       "3              1            0               0  ... 2014-03-29 04:33:21   \n",
       "4           1300            0               0  ... 2015-04-18 00:43:22   \n",
       "\n",
       "           crawled_at             updated class hour month day  year  length  \\\n",
       "0 2014-11-13 01:35:24 2014-11-13 01:35:24     1   10     9  26  2014     133   \n",
       "1 2014-11-12 23:35:05 2014-11-12 23:35:05     1    4     9  21  2014      55   \n",
       "2 2015-05-01 13:21:46 2015-05-01 13:21:46     0    6     3  22  2015     113   \n",
       "3 2015-05-01 15:58:20 2015-05-01 15:58:20     0    3     3  29  2014     140   \n",
       "4 2015-05-01 13:21:33 2015-05-01 13:21:33     0   22     4  17  2015      54   \n",
       "\n",
       "   num_of_words  \n",
       "0            23  \n",
       "1             7  \n",
       "2            23  \n",
       "3            26  \n",
       "4             7  \n",
       "\n",
       "[5 rows x 24 columns]"
      ]
     },
     "execution_count": 33,
     "metadata": {},
     "output_type": "execute_result"
    }
   ],
   "source": [
    "tweets.head()"
   ]
  },
  {
   "cell_type": "code",
   "execution_count": 36,
   "metadata": {},
   "outputs": [
    {
     "data": {
      "image/png": "[encoded data removed]",
      "text/plain": [
       "<Figure size 720x360 with 1 Axes>"
      ]
     },
     "metadata": {},
     "output_type": "display_data"
    }
   ],
   "source": [
    "# Number of tweets by months - creating a plot\n",
    "\n",
    "tweets['month_year'] = tweets['created_at'].apply(lambda x: str(x.year)+'-'+str(x.month)+'-1')\n",
    "tweets['month_year'].unique()[0]\n",
    "tweets['month_year'] = pd.to_datetime(tweets['month_year'])\n",
    "\n",
    "tweets[['created_at', 'month_year']].head()\n",
    "\n",
    "yr_monthly_tweets2 = tweets.groupby(['month','year']).size().unstack()\n",
    "\n",
    "\n",
    "plt.figure(figsize=(10,5))\n",
    "\n",
    "plt.title('Number of tweets by months', fontsize=12, fontweight='bold')\n",
    "plt.bar(yr_monthly_tweets2.index, yr_monthly_tweets2.values[:,0])\n",
    "plt.bar(yr_monthly_tweets2.index+12, yr_monthly_tweets2.values[:,1], color='g')\n",
    "plt.xticks(list(yr_monthly_tweets2.index)+list(yr_monthly_tweets2.index+12))\n",
    "plt.show() "
   ]
  },
  {
   "cell_type": "code",
   "execution_count": 37,
   "metadata": {},
   "outputs": [
    {
     "data": {
      "text/plain": [
       "count                 6283436\n",
       "unique                     94\n",
       "top       2014-10-01 00:00:00\n",
       "freq                  1319401\n",
       "first     2007-03-01 00:00:00\n",
       "last      2015-05-01 00:00:00\n",
       "Name: month_year, dtype: object"
      ]
     },
     "execution_count": 37,
     "metadata": {},
     "output_type": "execute_result"
    }
   ],
   "source": [
    "tweets['month_year'].describe()"
   ]
  },
  {
   "cell_type": "code",
   "execution_count": 38,
   "metadata": {},
   "outputs": [
    {
     "data": {
      "text/plain": [
       "count    6.283436e+06\n",
       "mean     2.014087e+03\n",
       "std      7.075126e-01\n",
       "min      2.007000e+03\n",
       "25%      2.014000e+03\n",
       "50%      2.014000e+03\n",
       "75%      2.014000e+03\n",
       "max      2.015000e+03\n",
       "Name: year, dtype: float64"
      ]
     },
     "execution_count": 38,
     "metadata": {},
     "output_type": "execute_result"
    }
   ],
   "source": [
    "tweets['year'].describe()"
   ]
  },
  {
   "cell_type": "markdown",
   "metadata": {},
   "source": [
    "__Observation__: This dataset contains tweets posted from 2007 to 2015. Majority of the tweets were collected during 2014 and 2015. "
   ]
  },
  {
   "cell_type": "markdown",
   "metadata": {},
   "source": [
    "## Clean and Transform Tweets\n",
    "\n",
    "Before we can have a model process information from the tweets, we must convert text to numeric values that machines can understand. \n",
    "\n",
    "We will clean the tweets with the following steps:\n",
    "1. Remove hyperlinks, mentions, and 'RT' from retweets\n",
    "2. Word Counts with __CountVectorizer__: Convert a collection of text documents to a matrix of token counts\n",
    "     - Tokenization: Converting a sentence into a list of words\n",
    "     - Remove stopwords: Terms that were ignored because they either\n",
    "         - occurred in too many documents (max_df)\n",
    "         - occurred in too few documents (min_df)\n",
    "         - were cut off by feature selection (max_features).\n",
    "     - Lammentization/stemming: Converting any form of a word to its root word\n",
    "     - Returns vectors of the counts of each word\n",
    "3. Word Frequencies with __TfidfTransform__: Transform a count matrix to a normalized tf representation\n",
    "     - Term Frequency: This summarizes how often a given word appears within a document\n",
    "     - Inverse Document Frequency: This downscales words that appear a lot across documents <br>\n",
    "      idf(d, t) = log [ (1 + n) / (1 + df(d, t)) ] + 1.\n",
    "\n",
    "Reference:\n",
    "[clean tweet](https://machinelearningmastery.com/prepare-text-data-machine-learning-scikit-learn/)\n",
    " \n",
    "First, we will paritation the clean_tweets into separate classes for building bag of words and cut down on processing time for CountVectorizer and TfidTransformer. \n",
    " \n",
    "Let's start by cleaning the bot tweets. \n",
    "\n",
    "NOTE: Unable to Translate Italian tweets to English [Source](https://pypi.org/project/googletrans/)"
   ]
  },
  {
   "cell_type": "code",
   "execution_count": 41,
   "metadata": {},
   "outputs": [],
   "source": [
    "sub_tweets['text'] = sub_tweets['text'].astype('str')"
   ]
  },
  {
   "cell_type": "code",
   "execution_count": 42,
   "metadata": {},
   "outputs": [],
   "source": [
    "# Create df for user class\n",
    "bots = sub_tweets.loc[sub_tweets['class']==1]\n",
    "gen = sub_tweets.loc[sub_tweets['class']==0]"
   ]
  },
  {
   "cell_type": "code",
   "execution_count": 43,
   "metadata": {},
   "outputs": [
    {
     "data": {
      "text/html": [
       "<div>\n",
       "<style scoped>\n",
       "    .dataframe tbody tr th:only-of-type {\n",
       "        vertical-align: middle;\n",
       "    }\n",
       "\n",
       "    .dataframe tbody tr th {\n",
       "        vertical-align: top;\n",
       "    }\n",
       "\n",
       "    .dataframe thead th {\n",
       "        text-align: right;\n",
       "    }\n",
       "</style>\n",
       "<table border=\"1\" class=\"dataframe\">\n",
       "  <thead>\n",
       "    <tr style=\"text-align: right;\">\n",
       "      <th></th>\n",
       "      <th>text</th>\n",
       "    </tr>\n",
       "  </thead>\n",
       "  <tbody>\n",
       "    <tr>\n",
       "      <th>14134</th>\n",
       "      <td>Read the History of the Grateful Dead  http://...</td>\n",
       "    </tr>\n",
       "    <tr>\n",
       "      <th>14135</th>\n",
       "      <td>The Beautiful Canadian Rockies Tour  http://t....</td>\n",
       "    </tr>\n",
       "    <tr>\n",
       "      <th>14136</th>\n",
       "      <td>Perd�n, es que volv� a ver 'Pulp Fiction' por ...</td>\n",
       "    </tr>\n",
       "    <tr>\n",
       "      <th>14137</th>\n",
       "      <td>*In farmacia*  -Scusate, avete qualcosa contro...</td>\n",
       "    </tr>\n",
       "    <tr>\n",
       "      <th>14138</th>\n",
       "      <td>\"Ed è brutto quando trattieni le lacrime e ing...</td>\n",
       "    </tr>\n",
       "  </tbody>\n",
       "</table>\n",
       "</div>"
      ],
      "text/plain": [
       "                                                    text\n",
       "14134  Read the History of the Grateful Dead  http://...\n",
       "14135  The Beautiful Canadian Rockies Tour  http://t....\n",
       "14136  Perd�n, es que volv� a ver 'Pulp Fiction' por ...\n",
       "14137  *In farmacia*  -Scusate, avete qualcosa contro...\n",
       "14138  \"Ed è brutto quando trattieni le lacrime e ing..."
      ]
     },
     "execution_count": 43,
     "metadata": {},
     "output_type": "execute_result"
    }
   ],
   "source": [
    "# Create new df \n",
    "b_tweets = pd.DataFrame(bots['text'])\n",
    "b_tweets.head()"
   ]
  },
  {
   "cell_type": "code",
   "execution_count": 44,
   "metadata": {},
   "outputs": [
    {
     "data": {
      "text/html": [
       "<div>\n",
       "<style scoped>\n",
       "    .dataframe tbody tr th:only-of-type {\n",
       "        vertical-align: middle;\n",
       "    }\n",
       "\n",
       "    .dataframe tbody tr th {\n",
       "        vertical-align: top;\n",
       "    }\n",
       "\n",
       "    .dataframe thead th {\n",
       "        text-align: right;\n",
       "    }\n",
       "</style>\n",
       "<table border=\"1\" class=\"dataframe\">\n",
       "  <thead>\n",
       "    <tr style=\"text-align: right;\">\n",
       "      <th></th>\n",
       "      <th>text</th>\n",
       "    </tr>\n",
       "  </thead>\n",
       "  <tbody>\n",
       "    <tr>\n",
       "      <th>0</th>\n",
       "      <td>FOUNDER OF GREENPEACE: Why I am a Climate Chan...</td>\n",
       "    </tr>\n",
       "    <tr>\n",
       "      <th>1</th>\n",
       "      <td>RT @AoifeAssumpta: I'm suggesting we let kids ...</td>\n",
       "    </tr>\n",
       "    <tr>\n",
       "      <th>2</th>\n",
       "      <td>RT @IanBoothby: Mark Hammil was such a perfect...</td>\n",
       "    </tr>\n",
       "    <tr>\n",
       "      <th>3</th>\n",
       "      <td>RT @IndpndtLiv: Hello new followers :) head ov...</td>\n",
       "    </tr>\n",
       "    <tr>\n",
       "      <th>4</th>\n",
       "      <td>@SMARTCares Please check my reply. Thanks!</td>\n",
       "    </tr>\n",
       "  </tbody>\n",
       "</table>\n",
       "</div>"
      ],
      "text/plain": [
       "                                                text\n",
       "0  FOUNDER OF GREENPEACE: Why I am a Climate Chan...\n",
       "1  RT @AoifeAssumpta: I'm suggesting we let kids ...\n",
       "2  RT @IanBoothby: Mark Hammil was such a perfect...\n",
       "3  RT @IndpndtLiv: Hello new followers :) head ov...\n",
       "4         @SMARTCares Please check my reply. Thanks!"
      ]
     },
     "execution_count": 44,
     "metadata": {},
     "output_type": "execute_result"
    }
   ],
   "source": [
    "# Create new df  \n",
    "g_tweets = pd.DataFrame(gen['text'])\n",
    "g_tweets.head()"
   ]
  },
  {
   "cell_type": "markdown",
   "metadata": {},
   "source": [
    "Let's clean the tweets to remove links, @, and RT."
   ]
  },
  {
   "cell_type": "code",
   "execution_count": 45,
   "metadata": {},
   "outputs": [
    {
     "data": {
      "text/html": [
       "<div>\n",
       "<style scoped>\n",
       "    .dataframe tbody tr th:only-of-type {\n",
       "        vertical-align: middle;\n",
       "    }\n",
       "\n",
       "    .dataframe tbody tr th {\n",
       "        vertical-align: top;\n",
       "    }\n",
       "\n",
       "    .dataframe thead th {\n",
       "        text-align: right;\n",
       "    }\n",
       "</style>\n",
       "<table border=\"1\" class=\"dataframe\">\n",
       "  <thead>\n",
       "    <tr style=\"text-align: right;\">\n",
       "      <th></th>\n",
       "      <th>text</th>\n",
       "      <th>clean_tweets</th>\n",
       "    </tr>\n",
       "  </thead>\n",
       "  <tbody>\n",
       "    <tr>\n",
       "      <th>14134</th>\n",
       "      <td>Read the History of the Grateful Dead  http://...</td>\n",
       "      <td>Read the History of the Grateful Dead</td>\n",
       "    </tr>\n",
       "    <tr>\n",
       "      <th>14135</th>\n",
       "      <td>The Beautiful Canadian Rockies Tour  http://t....</td>\n",
       "      <td>The Beautiful Canadian Rockies Tour</td>\n",
       "    </tr>\n",
       "    <tr>\n",
       "      <th>14136</th>\n",
       "      <td>Perd�n, es que volv� a ver 'Pulp Fiction' por ...</td>\n",
       "      <td>Perd�n, es que volv� a ver 'Pulp Fiction' por ...</td>\n",
       "    </tr>\n",
       "    <tr>\n",
       "      <th>14137</th>\n",
       "      <td>*In farmacia*  -Scusate, avete qualcosa contro...</td>\n",
       "      <td>*In farmacia*  -Scusate, avete qualcosa contro...</td>\n",
       "    </tr>\n",
       "    <tr>\n",
       "      <th>14138</th>\n",
       "      <td>\"Ed è brutto quando trattieni le lacrime e ing...</td>\n",
       "      <td>\"Ed è brutto quando trattieni le lacrime e ing...</td>\n",
       "    </tr>\n",
       "  </tbody>\n",
       "</table>\n",
       "</div>"
      ],
      "text/plain": [
       "                                                    text  \\\n",
       "14134  Read the History of the Grateful Dead  http://...   \n",
       "14135  The Beautiful Canadian Rockies Tour  http://t....   \n",
       "14136  Perd�n, es que volv� a ver 'Pulp Fiction' por ...   \n",
       "14137  *In farmacia*  -Scusate, avete qualcosa contro...   \n",
       "14138  \"Ed è brutto quando trattieni le lacrime e ing...   \n",
       "\n",
       "                                            clean_tweets  \n",
       "14134            Read the History of the Grateful Dead    \n",
       "14135              The Beautiful Canadian Rockies Tour    \n",
       "14136  Perd�n, es que volv� a ver 'Pulp Fiction' por ...  \n",
       "14137  *In farmacia*  -Scusate, avete qualcosa contro...  \n",
       "14138  \"Ed è brutto quando trattieni le lacrime e ing...  "
      ]
     },
     "execution_count": 45,
     "metadata": {},
     "output_type": "execute_result"
    }
   ],
   "source": [
    "def text_cleaner(text):\n",
    "    text = re.sub(r'http.*','',text)\n",
    "    text = re.sub(\"@[A-Za-z0-9]+\",'',text)\n",
    "    text = re.sub(r'bit/ly.*', '', text)\n",
    "    text = re.sub(r'b\\'', '', text)\n",
    "    text = re.sub(r'b\"', '', text)\n",
    "    text = text.replace('RT', '')\n",
    "    return text\n",
    "\n",
    "b_tweets['clean_tweets'] = b_tweets['text'].apply(lambda x: text_cleaner(x))\n",
    "\n",
    "b_tweets.head()"
   ]
  },
  {
   "cell_type": "code",
   "execution_count": 46,
   "metadata": {},
   "outputs": [
    {
     "data": {
      "text/html": [
       "<div>\n",
       "<style scoped>\n",
       "    .dataframe tbody tr th:only-of-type {\n",
       "        vertical-align: middle;\n",
       "    }\n",
       "\n",
       "    .dataframe tbody tr th {\n",
       "        vertical-align: top;\n",
       "    }\n",
       "\n",
       "    .dataframe thead th {\n",
       "        text-align: right;\n",
       "    }\n",
       "</style>\n",
       "<table border=\"1\" class=\"dataframe\">\n",
       "  <thead>\n",
       "    <tr style=\"text-align: right;\">\n",
       "      <th></th>\n",
       "      <th>text</th>\n",
       "      <th>clean_tweets</th>\n",
       "    </tr>\n",
       "  </thead>\n",
       "  <tbody>\n",
       "    <tr>\n",
       "      <th>0</th>\n",
       "      <td>FOUNDER OF GREENPEACE: Why I am a Climate Chan...</td>\n",
       "      <td>FOUNDER OF GREENPEACE: Why I am a Climate Chan...</td>\n",
       "    </tr>\n",
       "    <tr>\n",
       "      <th>1</th>\n",
       "      <td>RT @AoifeAssumpta: I'm suggesting we let kids ...</td>\n",
       "      <td>: I'm suggesting we let kids be gender non co...</td>\n",
       "    </tr>\n",
       "    <tr>\n",
       "      <th>2</th>\n",
       "      <td>RT @IanBoothby: Mark Hammil was such a perfect...</td>\n",
       "      <td>: Mark Hammil was such a perfect Joker he eve...</td>\n",
       "    </tr>\n",
       "    <tr>\n",
       "      <th>3</th>\n",
       "      <td>RT @IndpndtLiv: Hello new followers :) head ov...</td>\n",
       "      <td>: Hello new followers :) head over to</td>\n",
       "    </tr>\n",
       "    <tr>\n",
       "      <th>4</th>\n",
       "      <td>@SMARTCares Please check my reply. Thanks!</td>\n",
       "      <td>Please check my reply. Thanks!</td>\n",
       "    </tr>\n",
       "  </tbody>\n",
       "</table>\n",
       "</div>"
      ],
      "text/plain": [
       "                                                text  \\\n",
       "0  FOUNDER OF GREENPEACE: Why I am a Climate Chan...   \n",
       "1  RT @AoifeAssumpta: I'm suggesting we let kids ...   \n",
       "2  RT @IanBoothby: Mark Hammil was such a perfect...   \n",
       "3  RT @IndpndtLiv: Hello new followers :) head ov...   \n",
       "4         @SMARTCares Please check my reply. Thanks!   \n",
       "\n",
       "                                        clean_tweets  \n",
       "0  FOUNDER OF GREENPEACE: Why I am a Climate Chan...  \n",
       "1   : I'm suggesting we let kids be gender non co...  \n",
       "2   : Mark Hammil was such a perfect Joker he eve...  \n",
       "3             : Hello new followers :) head over to   \n",
       "4                     Please check my reply. Thanks!  "
      ]
     },
     "execution_count": 46,
     "metadata": {},
     "output_type": "execute_result"
    }
   ],
   "source": [
    "g_tweets['clean_tweets'] = g_tweets['text'].apply(lambda x: text_cleaner(x))\n",
    "\n",
    "g_tweets.head()"
   ]
  },
  {
   "cell_type": "code",
   "execution_count": 47,
   "metadata": {},
   "outputs": [
    {
     "name": "stderr",
     "output_type": "stream",
     "text": [
      "/Users/tsawaengsri/anaconda3/lib/python3.6/re.py:212: FutureWarning: split() requires a non-empty pattern match.\n",
      "  return _compile(pattern, flags).split(string, maxsplit)\n"
     ]
    },
    {
     "data": {
      "text/html": [
       "<div>\n",
       "<style scoped>\n",
       "    .dataframe tbody tr th:only-of-type {\n",
       "        vertical-align: middle;\n",
       "    }\n",
       "\n",
       "    .dataframe tbody tr th {\n",
       "        vertical-align: top;\n",
       "    }\n",
       "\n",
       "    .dataframe thead th {\n",
       "        text-align: right;\n",
       "    }\n",
       "</style>\n",
       "<table border=\"1\" class=\"dataframe\">\n",
       "  <thead>\n",
       "    <tr style=\"text-align: right;\">\n",
       "      <th></th>\n",
       "      <th>text</th>\n",
       "      <th>clean_tweets</th>\n",
       "    </tr>\n",
       "  </thead>\n",
       "  <tbody>\n",
       "    <tr>\n",
       "      <th>14134</th>\n",
       "      <td>Read the History of the Grateful Dead  http://...</td>\n",
       "      <td>read the history of the grateful dead</td>\n",
       "    </tr>\n",
       "    <tr>\n",
       "      <th>14135</th>\n",
       "      <td>The Beautiful Canadian Rockies Tour  http://t....</td>\n",
       "      <td>the beautiful canadian rockies tour</td>\n",
       "    </tr>\n",
       "    <tr>\n",
       "      <th>14136</th>\n",
       "      <td>Perd�n, es que volv� a ver 'Pulp Fiction' por ...</td>\n",
       "      <td>perd n es que volv a ver pulp fiction por vez</td>\n",
       "    </tr>\n",
       "    <tr>\n",
       "      <th>14137</th>\n",
       "      <td>*In farmacia*  -Scusate, avete qualcosa contro...</td>\n",
       "      <td>in farmacia scusate avete qualcosa contro la ...</td>\n",
       "    </tr>\n",
       "    <tr>\n",
       "      <th>14138</th>\n",
       "      <td>\"Ed è brutto quando trattieni le lacrime e ing...</td>\n",
       "      <td>ed brutto quando trattieni le lacrime e ingoi...</td>\n",
       "    </tr>\n",
       "  </tbody>\n",
       "</table>\n",
       "</div>"
      ],
      "text/plain": [
       "                                                    text  \\\n",
       "14134  Read the History of the Grateful Dead  http://...   \n",
       "14135  The Beautiful Canadian Rockies Tour  http://t....   \n",
       "14136  Perd�n, es que volv� a ver 'Pulp Fiction' por ...   \n",
       "14137  *In farmacia*  -Scusate, avete qualcosa contro...   \n",
       "14138  \"Ed è brutto quando trattieni le lacrime e ing...   \n",
       "\n",
       "                                            clean_tweets  \n",
       "14134             read the history of the grateful dead   \n",
       "14135               the beautiful canadian rockies tour   \n",
       "14136     perd n es que volv a ver pulp fiction por vez   \n",
       "14137   in farmacia scusate avete qualcosa contro la ...  \n",
       "14138   ed brutto quando trattieni le lacrime e ingoi...  "
      ]
     },
     "execution_count": 47,
     "metadata": {},
     "output_type": "execute_result"
    }
   ],
   "source": [
    "# Return only characters \n",
    "def clean_alpha(text):\n",
    "    text = \" \".join(re.split(\"[^a-zA-Z]*\", text))\n",
    "    return text\n",
    "\n",
    "b_tweets['clean_tweets'] = b_tweets['clean_tweets'].apply(lambda x: clean_alpha(x.lower()))\n",
    "\n",
    "b_tweets.head()"
   ]
  },
  {
   "cell_type": "code",
   "execution_count": 48,
   "metadata": {},
   "outputs": [
    {
     "data": {
      "text/html": [
       "<div>\n",
       "<style scoped>\n",
       "    .dataframe tbody tr th:only-of-type {\n",
       "        vertical-align: middle;\n",
       "    }\n",
       "\n",
       "    .dataframe tbody tr th {\n",
       "        vertical-align: top;\n",
       "    }\n",
       "\n",
       "    .dataframe thead th {\n",
       "        text-align: right;\n",
       "    }\n",
       "</style>\n",
       "<table border=\"1\" class=\"dataframe\">\n",
       "  <thead>\n",
       "    <tr style=\"text-align: right;\">\n",
       "      <th></th>\n",
       "      <th>text</th>\n",
       "      <th>clean_tweets</th>\n",
       "    </tr>\n",
       "  </thead>\n",
       "  <tbody>\n",
       "    <tr>\n",
       "      <th>0</th>\n",
       "      <td>FOUNDER OF GREENPEACE: Why I am a Climate Chan...</td>\n",
       "      <td>founder of greenpeace why i am a climate chang...</td>\n",
       "    </tr>\n",
       "    <tr>\n",
       "      <th>1</th>\n",
       "      <td>RT @AoifeAssumpta: I'm suggesting we let kids ...</td>\n",
       "      <td>i m suggesting we let kids be gender non conf...</td>\n",
       "    </tr>\n",
       "    <tr>\n",
       "      <th>2</th>\n",
       "      <td>RT @IanBoothby: Mark Hammil was such a perfect...</td>\n",
       "      <td>mark hammil was such a perfect joker he even ...</td>\n",
       "    </tr>\n",
       "    <tr>\n",
       "      <th>3</th>\n",
       "      <td>RT @IndpndtLiv: Hello new followers :) head ov...</td>\n",
       "      <td>hello new followers head over to</td>\n",
       "    </tr>\n",
       "    <tr>\n",
       "      <th>4</th>\n",
       "      <td>@SMARTCares Please check my reply. Thanks!</td>\n",
       "      <td>please check my reply thanks</td>\n",
       "    </tr>\n",
       "  </tbody>\n",
       "</table>\n",
       "</div>"
      ],
      "text/plain": [
       "                                                text  \\\n",
       "0  FOUNDER OF GREENPEACE: Why I am a Climate Chan...   \n",
       "1  RT @AoifeAssumpta: I'm suggesting we let kids ...   \n",
       "2  RT @IanBoothby: Mark Hammil was such a perfect...   \n",
       "3  RT @IndpndtLiv: Hello new followers :) head ov...   \n",
       "4         @SMARTCares Please check my reply. Thanks!   \n",
       "\n",
       "                                        clean_tweets  \n",
       "0  founder of greenpeace why i am a climate chang...  \n",
       "1   i m suggesting we let kids be gender non conf...  \n",
       "2   mark hammil was such a perfect joker he even ...  \n",
       "3                  hello new followers head over to   \n",
       "4                      please check my reply thanks   "
      ]
     },
     "execution_count": 48,
     "metadata": {},
     "output_type": "execute_result"
    }
   ],
   "source": [
    "g_tweets['clean_tweets'] = g_tweets['clean_tweets'].apply(lambda x: clean_alpha(x.lower()))\n",
    "\n",
    "g_tweets.head()"
   ]
  },
  {
   "cell_type": "markdown",
   "metadata": {},
   "source": [
    "Since we were unable to translate non English tweets, those cells are empty and will be dropped."
   ]
  },
  {
   "cell_type": "code",
   "execution_count": 49,
   "metadata": {},
   "outputs": [
    {
     "name": "stderr",
     "output_type": "stream",
     "text": [
      "/Users/tsawaengsri/anaconda3/lib/python3.6/site-packages/ipykernel_launcher.py:2: SettingWithCopyWarning: \n",
      "A value is trying to be set on a copy of a slice from a DataFrame.\n",
      "Try using .loc[row_indexer,col_indexer] = value instead\n",
      "\n",
      "See the caveats in the documentation: http://pandas.pydata.org/pandas-docs/stable/user_guide/indexing.html#returning-a-view-versus-a-copy\n",
      "  \n",
      "/Users/tsawaengsri/anaconda3/lib/python3.6/site-packages/ipykernel_launcher.py:3: SettingWithCopyWarning: \n",
      "A value is trying to be set on a copy of a slice from a DataFrame.\n",
      "Try using .loc[row_indexer,col_indexer] = value instead\n",
      "\n",
      "See the caveats in the documentation: http://pandas.pydata.org/pandas-docs/stable/user_guide/indexing.html#returning-a-view-versus-a-copy\n",
      "  This is separate from the ipykernel package so we can avoid doing imports until\n"
     ]
    }
   ],
   "source": [
    "# Add clean_tweets back to bots and gen df to drop empty tweets\n",
    "bots['clean_tweets'] = b_tweets['clean_tweets']\n",
    "gen['clean_tweets'] = g_tweets['clean_tweets']"
   ]
  },
  {
   "cell_type": "code",
   "execution_count": 50,
   "metadata": {},
   "outputs": [
    {
     "name": "stdout",
     "output_type": "stream",
     "text": [
      "(17284, 19)\n",
      "(14134, 19)\n"
     ]
    }
   ],
   "source": [
    "# Shape before dropping empty tweets\n",
    "print(bots.shape)\n",
    "print(gen.shape)"
   ]
  },
  {
   "cell_type": "code",
   "execution_count": 51,
   "metadata": {},
   "outputs": [],
   "source": [
    "# Replace field that's entirely space (or empty) with NaN\n",
    "bots = bots.replace(r'^\\s*$', np.nan, regex=True)\n",
    "gen = gen.replace(r'^\\s*$', np.nan, regex=True)"
   ]
  },
  {
   "cell_type": "code",
   "execution_count": 52,
   "metadata": {},
   "outputs": [],
   "source": [
    "# Drop nan\n",
    "bots = bots.dropna() \n",
    "gen = gen.dropna()"
   ]
  },
  {
   "cell_type": "code",
   "execution_count": 53,
   "metadata": {},
   "outputs": [],
   "source": [
    "# Reset index to start at 0\n",
    "bots = bots.reset_index()\n",
    "gen = gen.reset_index()"
   ]
  },
  {
   "cell_type": "code",
   "execution_count": 54,
   "metadata": {},
   "outputs": [
    {
     "name": "stdout",
     "output_type": "stream",
     "text": [
      "(16984, 20)\n",
      "(13528, 20)\n"
     ]
    }
   ],
   "source": [
    "# Shape after dropping empty tweets\n",
    "print(bots.shape)\n",
    "print(gen.shape)"
   ]
  },
  {
   "cell_type": "markdown",
   "metadata": {},
   "source": [
    "We lost a few hundreds of tweets for bots and genuine accounts. "
   ]
  },
  {
   "cell_type": "code",
   "execution_count": 55,
   "metadata": {},
   "outputs": [],
   "source": [
    "# Convert df to np arrary \n",
    "b_clean = bots['clean_tweets'].values\n",
    "g_clean = gen['clean_tweets'].values"
   ]
  },
  {
   "cell_type": "code",
   "execution_count": 56,
   "metadata": {},
   "outputs": [],
   "source": [
    "# Convert np arrary to one deminsional array \n",
    "b_clean = b_clean.ravel()"
   ]
  },
  {
   "cell_type": "code",
   "execution_count": 57,
   "metadata": {},
   "outputs": [
    {
     "data": {
      "text/plain": [
       "numpy.ndarray"
      ]
     },
     "execution_count": 57,
     "metadata": {},
     "output_type": "execute_result"
    }
   ],
   "source": [
    "type(b_clean)"
   ]
  },
  {
   "cell_type": "code",
   "execution_count": 58,
   "metadata": {},
   "outputs": [],
   "source": [
    "# Convert np arrary to one deminsional array \n",
    "g_clean = g_clean.ravel()"
   ]
  },
  {
   "cell_type": "code",
   "execution_count": 59,
   "metadata": {},
   "outputs": [
    {
     "data": {
      "text/plain": [
       "numpy.ndarray"
      ]
     },
     "execution_count": 59,
     "metadata": {},
     "output_type": "execute_result"
    }
   ],
   "source": [
    "type(g_clean)"
   ]
  },
  {
   "cell_type": "markdown",
   "metadata": {},
   "source": [
    "### Text Processing - Count Vectorizer\n",
    "Converting a collection of stemmed tweets to a matrix of token counts"
   ]
  },
  {
   "cell_type": "code",
   "execution_count": 60,
   "metadata": {},
   "outputs": [
    {
     "name": "stdout",
     "output_type": "stream",
     "text": [
      "(16984, 21671)\n",
      "<class 'scipy.sparse.csr.csr_matrix'>\n"
     ]
    }
   ],
   "source": [
    "# Initialize a CountVectorizer object for bot tweets\n",
    "b_count_vectorizer = CountVectorizer(stop_words='english')\n",
    "\n",
    "# Learn the vocabulary dictionary and return term-document matrix for bot tweets\n",
    "b_clean = b_count_vectorizer.fit_transform(b_clean) \n",
    "\n",
    "# Summarize encoded vector\n",
    "print(b_clean.shape)\n",
    "print(type(b_clean))"
   ]
  },
  {
   "cell_type": "code",
   "execution_count": 61,
   "metadata": {},
   "outputs": [
    {
     "data": {
      "text/plain": [
       "array(['aaa', 'aaaa', 'aaaah', 'aaaahhhhhindovina', 'aaall', 'aaron',\n",
       "       'ab', 'abate', 'abba', 'abbaia', 'abbamo', 'abbandona',\n",
       "       'abbandonano', 'abbandonare', 'abbandonata', 'abbandonato',\n",
       "       'abbandoneranno', 'abbandono', 'abbassano', 'abbassare',\n",
       "       'abbassata', 'abbassate', 'abbasser', 'abbassi', 'abbastanza',\n",
       "       'abbatte', 'abbatterli', 'abbattuto', 'abbi', 'abbia'],\n",
       "      dtype='<U17')"
      ]
     },
     "execution_count": 61,
     "metadata": {},
     "output_type": "execute_result"
    }
   ],
   "source": [
    "# Bot Tweets Vocabulary \n",
    "b_vocab = b_count_vectorizer.get_feature_names()\n",
    "np.array(b_vocab[:30])"
   ]
  },
  {
   "cell_type": "code",
   "execution_count": 62,
   "metadata": {},
   "outputs": [
    {
     "name": "stdout",
     "output_type": "stream",
     "text": [
      "(13528, 21539)\n",
      "<class 'scipy.sparse.csr.csr_matrix'>\n"
     ]
    }
   ],
   "source": [
    "# Initialize a CountVectorizer object for bot tweets\n",
    "g_count_vectorizer = CountVectorizer(stop_words='english')\n",
    "\n",
    "# Learn the vocabulary dictionary and return term-document matrix for genuine tweets\n",
    "g_clean = g_count_vectorizer.fit_transform(g_clean)\n",
    "\n",
    "# Summarize encoded vector\n",
    "print(g_clean.shape)\n",
    "print(type(g_clean))"
   ]
  },
  {
   "cell_type": "code",
   "execution_count": 63,
   "metadata": {},
   "outputs": [
    {
     "data": {
      "text/plain": [
       "array(['aa', 'aaa', 'aaaaa', 'aaaaaaaaaaaaa', 'aaaaaaaaaaaaaaah',\n",
       "       'aaaaaaaarrrrggggghhhhhhgg', 'aaaaah', 'aaahh', 'aaarrgghh',\n",
       "       'aaaw', 'aah', 'aajtak', 'aaliyahmovie', 'aaliyahprincessofrnb',\n",
       "       'aalways', 'aamidor', 'aamx', 'aan', 'aana', 'aap', 'aapbreakup',\n",
       "       'aapsweep', 'aaptards', 'aapwaveinharyana', 'aaral', 'aarhus',\n",
       "       'aaron', 'aarons', 'aarontaylorjohnson', 'aarp'], dtype='<U25')"
      ]
     },
     "execution_count": 63,
     "metadata": {},
     "output_type": "execute_result"
    }
   ],
   "source": [
    "# Genuine Tweets Vocabulary \n",
    "g_vocab = g_count_vectorizer.get_feature_names()\n",
    "np.array(g_vocab[:30])"
   ]
  },
  {
   "cell_type": "markdown",
   "metadata": {},
   "source": [
    "### Text Processing - Count Vectorizer\n",
    "Tf-idf stands for term frequencey-inverse document frequency. It's a numerical statistic intended to reflect\n",
    "\n",
    "How important a word is to a document or a corpus (i.e a collection of documents)\n",
    "\n",
    " * number of rows is the total number of documents (list of stemmed tweets)\n",
    " * number of columns is the total number of unique terms (tokens) across the documents"
   ]
  },
  {
   "cell_type": "code",
   "execution_count": 64,
   "metadata": {},
   "outputs": [
    {
     "name": "stdout",
     "output_type": "stream",
     "text": [
      "(16984, 21671)\n",
      "<class 'scipy.sparse.csr.csr_matrix'>\n"
     ]
    }
   ],
   "source": [
    "# Learn the idf vector (global term weights) for bot tweets\n",
    "b_tf_transformer = TfidfTransformer(use_idf=False).fit(b_clean) # Don't enable inverse-document-frequency reweighting\n",
    "\n",
    "# Transform a count matrix to a tf-idf representation\n",
    "b_tfidf_train = b_tf_transformer.transform(b_clean)\n",
    "\n",
    "# Summarize encoded vector\n",
    "print(b_tfidf_train.shape)\n",
    "print(type(b_tfidf_train))"
   ]
  },
  {
   "cell_type": "code",
   "execution_count": 66,
   "metadata": {},
   "outputs": [
    {
     "name": "stdout",
     "output_type": "stream",
     "text": [
      "(13528, 21539)\n",
      "<class 'scipy.sparse.csr.csr_matrix'>\n"
     ]
    }
   ],
   "source": [
    "# Learn the idf vector (global term weights) for genuine tweets\n",
    "g_tf_transformer = TfidfTransformer(use_idf=False).fit(g_clean)\n",
    "\n",
    "# Transform a count matrix to a tf-idf representation\n",
    "g_tfidf_train = g_tf_transformer.transform(g_clean)\n",
    "\n",
    "# Summarize encoded vector\n",
    "print(g_tfidf_train.shape)\n",
    "print(type(g_tfidf_train))"
   ]
  },
  {
   "cell_type": "markdown",
   "metadata": {},
   "source": [
    "As shown above, there are over 20,000 tokens for both bots and genuine tweets. We'll need to reduce the number of features to prevent overfitting. \n",
    "\n",
    "__TruncatedSVD__: performs linear dimensionality reduction by means of truncated singular value decomposition (SVD). Contrary to PCA, this estimator does not center the data before computing the singular value decomposition. This means it can work with scipy.sparse matrices efficiently."
   ]
  },
  {
   "cell_type": "code",
   "execution_count": 67,
   "metadata": {
    "scrolled": true
   },
   "outputs": [
    {
     "name": "stdout",
     "output_type": "stream",
     "text": [
      "(16984, 100)\n",
      "[0.02040028 0.0142412  0.01165332 0.01160139 0.01072895 0.0098706\n",
      " 0.00934407 0.00686314 0.00620361 0.00521936 0.0049949  0.00486477\n",
      " 0.00446575 0.00378333 0.00427008 0.00419162 0.00398234 0.0034497\n",
      " 0.00364174 0.00353455 0.00351685 0.00339071 0.00324804 0.00299064\n",
      " 0.00276114 0.00276602 0.00273297 0.00267171 0.00260114 0.00256045\n",
      " 0.00255934 0.00250793 0.00248267 0.00245147 0.00239846 0.002381\n",
      " 0.00230764 0.00230554 0.00223899 0.00220629 0.00216316 0.00215187\n",
      " 0.00206043 0.00203191 0.00200961 0.00196279 0.00194509 0.00191754\n",
      " 0.00191105 0.00188806 0.00185091 0.00182061 0.00181084 0.0017952\n",
      " 0.00174436 0.00173746 0.0017258  0.00171417 0.00171998 0.00166496\n",
      " 0.00160299 0.00159545 0.00157518 0.00156661 0.00156365 0.00155168\n",
      " 0.00152315 0.00152062 0.00151893 0.00149782 0.00148038 0.00145565\n",
      " 0.00143727 0.00143099 0.00140366 0.0013817  0.00136812 0.00135592\n",
      " 0.00133653 0.00132996 0.00132215 0.00131243 0.00129391 0.00128499\n",
      " 0.00126938 0.00126199 0.00124694 0.00124349 0.00122773 0.00121568\n",
      " 0.00120214 0.00118583 0.00117899 0.00116898 0.00115399 0.00114122\n",
      " 0.00113057 0.00112088 0.00111233 0.00110148]\n",
      "0.2961916624449948\n"
     ]
    }
   ],
   "source": [
    "# TruncatedSVD to reduce dimensions \n",
    "svd = TruncatedSVD(n_components=100, n_iter=7, random_state=42).fit(b_tfidf_train)\n",
    "b_svdTFit = svd.fit_transform(b_tfidf_train)\n",
    "\n",
    "# Summary of transformation \n",
    "print(b_svdTFit.shape)\n",
    "print(svd.explained_variance_)\n",
    "print(svd.explained_variance_ratio_.sum())"
   ]
  },
  {
   "cell_type": "code",
   "execution_count": 68,
   "metadata": {},
   "outputs": [
    {
     "name": "stdout",
     "output_type": "stream",
     "text": [
      "(13528, 100)\n",
      "[0.00684255 0.00657664 0.00654711 0.0048162  0.0047718  0.00452977\n",
      " 0.00446184 0.00384323 0.00383053 0.00360923 0.00350039 0.00332277\n",
      " 0.00332728 0.00329741 0.00313938 0.00312349 0.00298444 0.00284689\n",
      " 0.00274684 0.00266633 0.00257327 0.00252809 0.00251427 0.00247414\n",
      " 0.00236383 0.00230705 0.00229177 0.00216841 0.00222465 0.00217651\n",
      " 0.00212583 0.00209962 0.00208895 0.00207953 0.00199647 0.00200356\n",
      " 0.0019945  0.00197131 0.00193405 0.00191486 0.00190336 0.00186163\n",
      " 0.00177818 0.00175932 0.00170666 0.0016733  0.00164973 0.0016513\n",
      " 0.0016239  0.00162005 0.00160114 0.00159238 0.0015779  0.00156127\n",
      " 0.00154652 0.00151255 0.00150639 0.00149244 0.00148574 0.00147275\n",
      " 0.00143982 0.00142757 0.00142473 0.00141449 0.00141076 0.00140502\n",
      " 0.00138348 0.00138274 0.00135878 0.00134658 0.00133094 0.00132371\n",
      " 0.00131672 0.00130058 0.00128223 0.00127724 0.00126355 0.00124642\n",
      " 0.00124245 0.00123619 0.00122077 0.0012161  0.00120944 0.00120426\n",
      " 0.00119002 0.00118755 0.00117707 0.00115798 0.00115808 0.00114999\n",
      " 0.0011403  0.00111536 0.00111302 0.00109876 0.00108445 0.00107043\n",
      " 0.00106012 0.00104862 0.00103704 0.00102945]\n",
      "0.2096954275806601\n"
     ]
    }
   ],
   "source": [
    "# TruncatedSVD to reduce dimensions \n",
    "svd2 = TruncatedSVD(n_components=100, n_iter=7, random_state=42).fit(g_tfidf_train)\n",
    "g_svdTFit = svd2.fit_transform(g_tfidf_train)\n",
    "\n",
    "# Summary of transformation \n",
    "print(g_svdTFit.shape)\n",
    "print(svd2.explained_variance_)\n",
    "print(svd2.explained_variance_ratio_.sum())"
   ]
  },
  {
   "cell_type": "code",
   "execution_count": 69,
   "metadata": {},
   "outputs": [
    {
     "data": {
      "text/html": [
       "<div>\n",
       "<style scoped>\n",
       "    .dataframe tbody tr th:only-of-type {\n",
       "        vertical-align: middle;\n",
       "    }\n",
       "\n",
       "    .dataframe tbody tr th {\n",
       "        vertical-align: top;\n",
       "    }\n",
       "\n",
       "    .dataframe thead th {\n",
       "        text-align: right;\n",
       "    }\n",
       "</style>\n",
       "<table border=\"1\" class=\"dataframe\">\n",
       "  <thead>\n",
       "    <tr style=\"text-align: right;\">\n",
       "      <th></th>\n",
       "      <th>0</th>\n",
       "      <th>1</th>\n",
       "      <th>2</th>\n",
       "      <th>3</th>\n",
       "      <th>4</th>\n",
       "      <th>5</th>\n",
       "      <th>6</th>\n",
       "      <th>7</th>\n",
       "      <th>8</th>\n",
       "      <th>9</th>\n",
       "      <th>...</th>\n",
       "      <th>90</th>\n",
       "      <th>91</th>\n",
       "      <th>92</th>\n",
       "      <th>93</th>\n",
       "      <th>94</th>\n",
       "      <th>95</th>\n",
       "      <th>96</th>\n",
       "      <th>97</th>\n",
       "      <th>98</th>\n",
       "      <th>99</th>\n",
       "    </tr>\n",
       "  </thead>\n",
       "  <tbody>\n",
       "    <tr>\n",
       "      <th>0</th>\n",
       "      <td>0.001363</td>\n",
       "      <td>0.688667</td>\n",
       "      <td>-0.106836</td>\n",
       "      <td>0.000904</td>\n",
       "      <td>-0.008504</td>\n",
       "      <td>-0.000453</td>\n",
       "      <td>0.001552</td>\n",
       "      <td>-0.048662</td>\n",
       "      <td>0.000670</td>\n",
       "      <td>-0.000388</td>\n",
       "      <td>...</td>\n",
       "      <td>0.003377</td>\n",
       "      <td>-0.001839</td>\n",
       "      <td>-0.006964</td>\n",
       "      <td>-0.011957</td>\n",
       "      <td>0.015086</td>\n",
       "      <td>0.010792</td>\n",
       "      <td>0.002605</td>\n",
       "      <td>-0.007524</td>\n",
       "      <td>-0.006270</td>\n",
       "      <td>0.013281</td>\n",
       "    </tr>\n",
       "    <tr>\n",
       "      <th>1</th>\n",
       "      <td>0.000021</td>\n",
       "      <td>0.000530</td>\n",
       "      <td>0.002002</td>\n",
       "      <td>-0.000009</td>\n",
       "      <td>-0.000025</td>\n",
       "      <td>-0.000014</td>\n",
       "      <td>0.000017</td>\n",
       "      <td>0.004824</td>\n",
       "      <td>0.000130</td>\n",
       "      <td>0.000145</td>\n",
       "      <td>...</td>\n",
       "      <td>-0.000470</td>\n",
       "      <td>-0.011162</td>\n",
       "      <td>0.006198</td>\n",
       "      <td>-0.006974</td>\n",
       "      <td>0.007134</td>\n",
       "      <td>0.000839</td>\n",
       "      <td>-0.000323</td>\n",
       "      <td>-0.019351</td>\n",
       "      <td>0.017661</td>\n",
       "      <td>0.000584</td>\n",
       "    </tr>\n",
       "    <tr>\n",
       "      <th>2</th>\n",
       "      <td>0.000539</td>\n",
       "      <td>0.002338</td>\n",
       "      <td>0.000587</td>\n",
       "      <td>-0.000200</td>\n",
       "      <td>0.001742</td>\n",
       "      <td>0.000285</td>\n",
       "      <td>-0.000498</td>\n",
       "      <td>0.014874</td>\n",
       "      <td>0.001444</td>\n",
       "      <td>0.001474</td>\n",
       "      <td>...</td>\n",
       "      <td>-0.002106</td>\n",
       "      <td>-0.006429</td>\n",
       "      <td>0.011533</td>\n",
       "      <td>-0.002894</td>\n",
       "      <td>0.003305</td>\n",
       "      <td>-0.001891</td>\n",
       "      <td>0.004013</td>\n",
       "      <td>0.001608</td>\n",
       "      <td>0.004493</td>\n",
       "      <td>-0.012774</td>\n",
       "    </tr>\n",
       "    <tr>\n",
       "      <th>3</th>\n",
       "      <td>0.264711</td>\n",
       "      <td>0.002008</td>\n",
       "      <td>0.000054</td>\n",
       "      <td>-0.090371</td>\n",
       "      <td>0.175856</td>\n",
       "      <td>0.253964</td>\n",
       "      <td>-0.022879</td>\n",
       "      <td>0.000123</td>\n",
       "      <td>-0.035397</td>\n",
       "      <td>-0.034507</td>\n",
       "      <td>...</td>\n",
       "      <td>-0.012418</td>\n",
       "      <td>0.004621</td>\n",
       "      <td>0.003917</td>\n",
       "      <td>-0.003597</td>\n",
       "      <td>0.009108</td>\n",
       "      <td>0.001498</td>\n",
       "      <td>-0.010051</td>\n",
       "      <td>-0.000648</td>\n",
       "      <td>0.000602</td>\n",
       "      <td>-0.003168</td>\n",
       "    </tr>\n",
       "    <tr>\n",
       "      <th>4</th>\n",
       "      <td>0.338437</td>\n",
       "      <td>-0.002246</td>\n",
       "      <td>-0.000563</td>\n",
       "      <td>-0.108007</td>\n",
       "      <td>-0.035243</td>\n",
       "      <td>-0.237808</td>\n",
       "      <td>0.310905</td>\n",
       "      <td>0.000171</td>\n",
       "      <td>0.150630</td>\n",
       "      <td>0.004934</td>\n",
       "      <td>...</td>\n",
       "      <td>-0.003134</td>\n",
       "      <td>0.001655</td>\n",
       "      <td>0.024093</td>\n",
       "      <td>0.123340</td>\n",
       "      <td>0.057648</td>\n",
       "      <td>-0.013041</td>\n",
       "      <td>0.088994</td>\n",
       "      <td>-0.017661</td>\n",
       "      <td>-0.075975</td>\n",
       "      <td>0.050357</td>\n",
       "    </tr>\n",
       "  </tbody>\n",
       "</table>\n",
       "<p>5 rows × 100 columns</p>\n",
       "</div>"
      ],
      "text/plain": [
       "         0         1         2         3         4         5         6   \\\n",
       "0  0.001363  0.688667 -0.106836  0.000904 -0.008504 -0.000453  0.001552   \n",
       "1  0.000021  0.000530  0.002002 -0.000009 -0.000025 -0.000014  0.000017   \n",
       "2  0.000539  0.002338  0.000587 -0.000200  0.001742  0.000285 -0.000498   \n",
       "3  0.264711  0.002008  0.000054 -0.090371  0.175856  0.253964 -0.022879   \n",
       "4  0.338437 -0.002246 -0.000563 -0.108007 -0.035243 -0.237808  0.310905   \n",
       "\n",
       "         7         8         9   ...        90        91        92        93  \\\n",
       "0 -0.048662  0.000670 -0.000388  ...  0.003377 -0.001839 -0.006964 -0.011957   \n",
       "1  0.004824  0.000130  0.000145  ... -0.000470 -0.011162  0.006198 -0.006974   \n",
       "2  0.014874  0.001444  0.001474  ... -0.002106 -0.006429  0.011533 -0.002894   \n",
       "3  0.000123 -0.035397 -0.034507  ... -0.012418  0.004621  0.003917 -0.003597   \n",
       "4  0.000171  0.150630  0.004934  ... -0.003134  0.001655  0.024093  0.123340   \n",
       "\n",
       "         94        95        96        97        98        99  \n",
       "0  0.015086  0.010792  0.002605 -0.007524 -0.006270  0.013281  \n",
       "1  0.007134  0.000839 -0.000323 -0.019351  0.017661  0.000584  \n",
       "2  0.003305 -0.001891  0.004013  0.001608  0.004493 -0.012774  \n",
       "3  0.009108  0.001498 -0.010051 -0.000648  0.000602 -0.003168  \n",
       "4  0.057648 -0.013041  0.088994 -0.017661 -0.075975  0.050357  \n",
       "\n",
       "[5 rows x 100 columns]"
      ]
     },
     "execution_count": 69,
     "metadata": {},
     "output_type": "execute_result"
    }
   ],
   "source": [
    "# Convert svdTFit array to df \n",
    "b_svdTFit = pd.DataFrame(b_svdTFit)\n",
    "b_svdTFit.head()"
   ]
  },
  {
   "cell_type": "code",
   "execution_count": 70,
   "metadata": {},
   "outputs": [
    {
     "name": "stdout",
     "output_type": "stream",
     "text": [
      "(16984, 100)\n"
     ]
    }
   ],
   "source": [
    "print(b_svdTFit.shape)"
   ]
  },
  {
   "cell_type": "code",
   "execution_count": 71,
   "metadata": {},
   "outputs": [
    {
     "data": {
      "text/plain": [
       "(16984, 20)"
      ]
     },
     "execution_count": 71,
     "metadata": {},
     "output_type": "execute_result"
    }
   ],
   "source": [
    "bots.shape"
   ]
  },
  {
   "cell_type": "code",
   "execution_count": 72,
   "metadata": {},
   "outputs": [
    {
     "data": {
      "text/html": [
       "<div>\n",
       "<style scoped>\n",
       "    .dataframe tbody tr th:only-of-type {\n",
       "        vertical-align: middle;\n",
       "    }\n",
       "\n",
       "    .dataframe tbody tr th {\n",
       "        vertical-align: top;\n",
       "    }\n",
       "\n",
       "    .dataframe thead th {\n",
       "        text-align: right;\n",
       "    }\n",
       "</style>\n",
       "<table border=\"1\" class=\"dataframe\">\n",
       "  <thead>\n",
       "    <tr style=\"text-align: right;\">\n",
       "      <th></th>\n",
       "      <th>0</th>\n",
       "      <th>1</th>\n",
       "      <th>2</th>\n",
       "      <th>3</th>\n",
       "      <th>4</th>\n",
       "      <th>5</th>\n",
       "      <th>6</th>\n",
       "      <th>7</th>\n",
       "      <th>8</th>\n",
       "      <th>9</th>\n",
       "      <th>...</th>\n",
       "      <th>90</th>\n",
       "      <th>91</th>\n",
       "      <th>92</th>\n",
       "      <th>93</th>\n",
       "      <th>94</th>\n",
       "      <th>95</th>\n",
       "      <th>96</th>\n",
       "      <th>97</th>\n",
       "      <th>98</th>\n",
       "      <th>99</th>\n",
       "    </tr>\n",
       "  </thead>\n",
       "  <tbody>\n",
       "    <tr>\n",
       "      <th>0</th>\n",
       "      <td>0.003605</td>\n",
       "      <td>0.000973</td>\n",
       "      <td>-0.000389</td>\n",
       "      <td>0.004634</td>\n",
       "      <td>0.000142</td>\n",
       "      <td>-0.000683</td>\n",
       "      <td>0.002752</td>\n",
       "      <td>0.002042</td>\n",
       "      <td>-0.001996</td>\n",
       "      <td>-0.000102</td>\n",
       "      <td>...</td>\n",
       "      <td>0.006245</td>\n",
       "      <td>-0.002045</td>\n",
       "      <td>-0.001633</td>\n",
       "      <td>0.002762</td>\n",
       "      <td>-0.003999</td>\n",
       "      <td>-0.010669</td>\n",
       "      <td>-0.014653</td>\n",
       "      <td>0.004595</td>\n",
       "      <td>-0.010447</td>\n",
       "      <td>0.003188</td>\n",
       "    </tr>\n",
       "    <tr>\n",
       "      <th>1</th>\n",
       "      <td>0.021459</td>\n",
       "      <td>0.006643</td>\n",
       "      <td>0.002160</td>\n",
       "      <td>0.020741</td>\n",
       "      <td>0.003011</td>\n",
       "      <td>-0.001295</td>\n",
       "      <td>0.000808</td>\n",
       "      <td>0.010286</td>\n",
       "      <td>-0.005963</td>\n",
       "      <td>0.002217</td>\n",
       "      <td>...</td>\n",
       "      <td>0.013992</td>\n",
       "      <td>-0.017772</td>\n",
       "      <td>-0.004762</td>\n",
       "      <td>-0.003577</td>\n",
       "      <td>-0.009730</td>\n",
       "      <td>-0.053410</td>\n",
       "      <td>-0.049526</td>\n",
       "      <td>0.048174</td>\n",
       "      <td>0.007276</td>\n",
       "      <td>-0.002327</td>\n",
       "    </tr>\n",
       "    <tr>\n",
       "      <th>2</th>\n",
       "      <td>0.015582</td>\n",
       "      <td>0.002947</td>\n",
       "      <td>0.002915</td>\n",
       "      <td>0.015762</td>\n",
       "      <td>-0.007923</td>\n",
       "      <td>-0.003226</td>\n",
       "      <td>0.003166</td>\n",
       "      <td>0.013545</td>\n",
       "      <td>-0.011569</td>\n",
       "      <td>0.003354</td>\n",
       "      <td>...</td>\n",
       "      <td>-0.003958</td>\n",
       "      <td>-0.001476</td>\n",
       "      <td>0.008048</td>\n",
       "      <td>0.003580</td>\n",
       "      <td>-0.002689</td>\n",
       "      <td>0.000271</td>\n",
       "      <td>-0.005497</td>\n",
       "      <td>-0.003891</td>\n",
       "      <td>-0.001359</td>\n",
       "      <td>0.018065</td>\n",
       "    </tr>\n",
       "    <tr>\n",
       "      <th>3</th>\n",
       "      <td>0.031096</td>\n",
       "      <td>0.017736</td>\n",
       "      <td>0.001949</td>\n",
       "      <td>0.056130</td>\n",
       "      <td>-0.048824</td>\n",
       "      <td>-0.024200</td>\n",
       "      <td>0.007376</td>\n",
       "      <td>0.070650</td>\n",
       "      <td>-0.075369</td>\n",
       "      <td>-0.310837</td>\n",
       "      <td>...</td>\n",
       "      <td>0.006553</td>\n",
       "      <td>-0.013940</td>\n",
       "      <td>-0.011231</td>\n",
       "      <td>-0.022997</td>\n",
       "      <td>-0.005559</td>\n",
       "      <td>0.026463</td>\n",
       "      <td>0.004866</td>\n",
       "      <td>-0.007484</td>\n",
       "      <td>0.011045</td>\n",
       "      <td>-0.006396</td>\n",
       "    </tr>\n",
       "    <tr>\n",
       "      <th>4</th>\n",
       "      <td>0.025442</td>\n",
       "      <td>0.027406</td>\n",
       "      <td>0.005710</td>\n",
       "      <td>0.018547</td>\n",
       "      <td>-0.029354</td>\n",
       "      <td>0.001985</td>\n",
       "      <td>-0.003487</td>\n",
       "      <td>0.417971</td>\n",
       "      <td>0.390137</td>\n",
       "      <td>0.004043</td>\n",
       "      <td>...</td>\n",
       "      <td>0.000841</td>\n",
       "      <td>-0.033147</td>\n",
       "      <td>0.003461</td>\n",
       "      <td>0.014964</td>\n",
       "      <td>-0.005773</td>\n",
       "      <td>0.002218</td>\n",
       "      <td>0.021047</td>\n",
       "      <td>-0.004825</td>\n",
       "      <td>-0.001003</td>\n",
       "      <td>-0.018822</td>\n",
       "    </tr>\n",
       "  </tbody>\n",
       "</table>\n",
       "<p>5 rows × 100 columns</p>\n",
       "</div>"
      ],
      "text/plain": [
       "         0         1         2         3         4         5         6   \\\n",
       "0  0.003605  0.000973 -0.000389  0.004634  0.000142 -0.000683  0.002752   \n",
       "1  0.021459  0.006643  0.002160  0.020741  0.003011 -0.001295  0.000808   \n",
       "2  0.015582  0.002947  0.002915  0.015762 -0.007923 -0.003226  0.003166   \n",
       "3  0.031096  0.017736  0.001949  0.056130 -0.048824 -0.024200  0.007376   \n",
       "4  0.025442  0.027406  0.005710  0.018547 -0.029354  0.001985 -0.003487   \n",
       "\n",
       "         7         8         9   ...        90        91        92        93  \\\n",
       "0  0.002042 -0.001996 -0.000102  ...  0.006245 -0.002045 -0.001633  0.002762   \n",
       "1  0.010286 -0.005963  0.002217  ...  0.013992 -0.017772 -0.004762 -0.003577   \n",
       "2  0.013545 -0.011569  0.003354  ... -0.003958 -0.001476  0.008048  0.003580   \n",
       "3  0.070650 -0.075369 -0.310837  ...  0.006553 -0.013940 -0.011231 -0.022997   \n",
       "4  0.417971  0.390137  0.004043  ...  0.000841 -0.033147  0.003461  0.014964   \n",
       "\n",
       "         94        95        96        97        98        99  \n",
       "0 -0.003999 -0.010669 -0.014653  0.004595 -0.010447  0.003188  \n",
       "1 -0.009730 -0.053410 -0.049526  0.048174  0.007276 -0.002327  \n",
       "2 -0.002689  0.000271 -0.005497 -0.003891 -0.001359  0.018065  \n",
       "3 -0.005559  0.026463  0.004866 -0.007484  0.011045 -0.006396  \n",
       "4 -0.005773  0.002218  0.021047 -0.004825 -0.001003 -0.018822  \n",
       "\n",
       "[5 rows x 100 columns]"
      ]
     },
     "execution_count": 72,
     "metadata": {},
     "output_type": "execute_result"
    }
   ],
   "source": [
    "# Convert svdTFit array to df \n",
    "g_svdTFit = pd.DataFrame(g_svdTFit)\n",
    "g_svdTFit.head()"
   ]
  },
  {
   "cell_type": "code",
   "execution_count": 73,
   "metadata": {},
   "outputs": [
    {
     "data": {
      "text/plain": [
       "(13528, 100)"
      ]
     },
     "execution_count": 73,
     "metadata": {},
     "output_type": "execute_result"
    }
   ],
   "source": [
    "g_svdTFit.shape"
   ]
  },
  {
   "cell_type": "code",
   "execution_count": 74,
   "metadata": {},
   "outputs": [
    {
     "data": {
      "text/plain": [
       "(13528, 20)"
      ]
     },
     "execution_count": 74,
     "metadata": {},
     "output_type": "execute_result"
    }
   ],
   "source": [
    "gen.shape"
   ]
  },
  {
   "cell_type": "code",
   "execution_count": 75,
   "metadata": {},
   "outputs": [
    {
     "data": {
      "text/html": [
       "<div>\n",
       "<style scoped>\n",
       "    .dataframe tbody tr th:only-of-type {\n",
       "        vertical-align: middle;\n",
       "    }\n",
       "\n",
       "    .dataframe tbody tr th {\n",
       "        vertical-align: top;\n",
       "    }\n",
       "\n",
       "    .dataframe thead th {\n",
       "        text-align: right;\n",
       "    }\n",
       "</style>\n",
       "<table border=\"1\" class=\"dataframe\">\n",
       "  <thead>\n",
       "    <tr style=\"text-align: right;\">\n",
       "      <th></th>\n",
       "      <th>index</th>\n",
       "      <th>id</th>\n",
       "      <th>text</th>\n",
       "      <th>source</th>\n",
       "      <th>user_id</th>\n",
       "      <th>in_reply_to_status_id</th>\n",
       "      <th>in_reply_to_user_id</th>\n",
       "      <th>retweeted_status_id</th>\n",
       "      <th>retweet_count</th>\n",
       "      <th>reply_count</th>\n",
       "      <th>...</th>\n",
       "      <th>90</th>\n",
       "      <th>91</th>\n",
       "      <th>92</th>\n",
       "      <th>93</th>\n",
       "      <th>94</th>\n",
       "      <th>95</th>\n",
       "      <th>96</th>\n",
       "      <th>97</th>\n",
       "      <th>98</th>\n",
       "      <th>99</th>\n",
       "    </tr>\n",
       "  </thead>\n",
       "  <tbody>\n",
       "    <tr>\n",
       "      <th>0</th>\n",
       "      <td>14134</td>\n",
       "      <td>526486908629942273</td>\n",
       "      <td>Read the History of the Grateful Dead  http://...</td>\n",
       "      <td>&lt;a href=\"http://tweetadder.com\" rel=\"nofollow\"...</td>\n",
       "      <td>520806944</td>\n",
       "      <td>0</td>\n",
       "      <td>0</td>\n",
       "      <td>0</td>\n",
       "      <td>0</td>\n",
       "      <td>0</td>\n",
       "      <td>...</td>\n",
       "      <td>0.003377</td>\n",
       "      <td>-0.001839</td>\n",
       "      <td>-0.006964</td>\n",
       "      <td>-0.011957</td>\n",
       "      <td>0.015086</td>\n",
       "      <td>0.010792</td>\n",
       "      <td>0.002605</td>\n",
       "      <td>-0.007524</td>\n",
       "      <td>-0.006270</td>\n",
       "      <td>0.013281</td>\n",
       "    </tr>\n",
       "    <tr>\n",
       "      <th>1</th>\n",
       "      <td>14135</td>\n",
       "      <td>528698964171034624</td>\n",
       "      <td>The Beautiful Canadian Rockies Tour  http://t....</td>\n",
       "      <td>&lt;a href=\"http://tweetadder.com\" rel=\"nofollow\"...</td>\n",
       "      <td>327747371</td>\n",
       "      <td>0</td>\n",
       "      <td>0</td>\n",
       "      <td>0</td>\n",
       "      <td>0</td>\n",
       "      <td>0</td>\n",
       "      <td>...</td>\n",
       "      <td>-0.000470</td>\n",
       "      <td>-0.011162</td>\n",
       "      <td>0.006198</td>\n",
       "      <td>-0.006974</td>\n",
       "      <td>0.007134</td>\n",
       "      <td>0.000839</td>\n",
       "      <td>-0.000323</td>\n",
       "      <td>-0.019351</td>\n",
       "      <td>0.017661</td>\n",
       "      <td>0.000584</td>\n",
       "    </tr>\n",
       "    <tr>\n",
       "      <th>2</th>\n",
       "      <td>14136</td>\n",
       "      <td>461334106509295617</td>\n",
       "      <td>Perd�n, es que volv� a ver 'Pulp Fiction' por ...</td>\n",
       "      <td>&lt;a href=\"http://twitter.com\" rel=\"nofollow\"&gt;Tw...</td>\n",
       "      <td>2357267365</td>\n",
       "      <td>0</td>\n",
       "      <td>0</td>\n",
       "      <td>0</td>\n",
       "      <td>0</td>\n",
       "      <td>0</td>\n",
       "      <td>...</td>\n",
       "      <td>-0.002106</td>\n",
       "      <td>-0.006429</td>\n",
       "      <td>0.011533</td>\n",
       "      <td>-0.002894</td>\n",
       "      <td>0.003305</td>\n",
       "      <td>-0.001891</td>\n",
       "      <td>0.004013</td>\n",
       "      <td>0.001608</td>\n",
       "      <td>0.004493</td>\n",
       "      <td>-0.012774</td>\n",
       "    </tr>\n",
       "    <tr>\n",
       "      <th>3</th>\n",
       "      <td>14137</td>\n",
       "      <td>483962281353805825</td>\n",
       "      <td>*In farmacia*  -Scusate, avete qualcosa contro...</td>\n",
       "      <td>&lt;a href=\"http://www.giselecaldoro.it\" rel=\"nof...</td>\n",
       "      <td>466257207</td>\n",
       "      <td>0</td>\n",
       "      <td>0</td>\n",
       "      <td>0</td>\n",
       "      <td>0</td>\n",
       "      <td>0</td>\n",
       "      <td>...</td>\n",
       "      <td>-0.012418</td>\n",
       "      <td>0.004621</td>\n",
       "      <td>0.003917</td>\n",
       "      <td>-0.003597</td>\n",
       "      <td>0.009108</td>\n",
       "      <td>0.001498</td>\n",
       "      <td>-0.010051</td>\n",
       "      <td>-0.000648</td>\n",
       "      <td>0.000602</td>\n",
       "      <td>-0.003168</td>\n",
       "    </tr>\n",
       "    <tr>\n",
       "      <th>4</th>\n",
       "      <td>14138</td>\n",
       "      <td>468005231759224832</td>\n",
       "      <td>\"Ed è brutto quando trattieni le lacrime e ing...</td>\n",
       "      <td>&lt;a href=\"http://www.politicoverde.com\" rel=\"no...</td>\n",
       "      <td>467100704</td>\n",
       "      <td>0</td>\n",
       "      <td>0</td>\n",
       "      <td>0</td>\n",
       "      <td>0</td>\n",
       "      <td>0</td>\n",
       "      <td>...</td>\n",
       "      <td>-0.003134</td>\n",
       "      <td>0.001655</td>\n",
       "      <td>0.024093</td>\n",
       "      <td>0.123340</td>\n",
       "      <td>0.057648</td>\n",
       "      <td>-0.013041</td>\n",
       "      <td>0.088994</td>\n",
       "      <td>-0.017661</td>\n",
       "      <td>-0.075975</td>\n",
       "      <td>0.050357</td>\n",
       "    </tr>\n",
       "  </tbody>\n",
       "</table>\n",
       "<p>5 rows × 120 columns</p>\n",
       "</div>"
      ],
      "text/plain": [
       "   index                  id  \\\n",
       "0  14134  526486908629942273   \n",
       "1  14135  528698964171034624   \n",
       "2  14136  461334106509295617   \n",
       "3  14137  483962281353805825   \n",
       "4  14138  468005231759224832   \n",
       "\n",
       "                                                text  \\\n",
       "0  Read the History of the Grateful Dead  http://...   \n",
       "1  The Beautiful Canadian Rockies Tour  http://t....   \n",
       "2  Perd�n, es que volv� a ver 'Pulp Fiction' por ...   \n",
       "3  *In farmacia*  -Scusate, avete qualcosa contro...   \n",
       "4  \"Ed è brutto quando trattieni le lacrime e ing...   \n",
       "\n",
       "                                              source     user_id  \\\n",
       "0  <a href=\"http://tweetadder.com\" rel=\"nofollow\"...   520806944   \n",
       "1  <a href=\"http://tweetadder.com\" rel=\"nofollow\"...   327747371   \n",
       "2  <a href=\"http://twitter.com\" rel=\"nofollow\">Tw...  2357267365   \n",
       "3  <a href=\"http://www.giselecaldoro.it\" rel=\"nof...   466257207   \n",
       "4  <a href=\"http://www.politicoverde.com\" rel=\"no...   467100704   \n",
       "\n",
       "   in_reply_to_status_id  in_reply_to_user_id  retweeted_status_id  \\\n",
       "0                      0                    0                    0   \n",
       "1                      0                    0                    0   \n",
       "2                      0                    0                    0   \n",
       "3                      0                    0                    0   \n",
       "4                      0                    0                    0   \n",
       "\n",
       "   retweet_count  reply_count  ...        90        91        92        93  \\\n",
       "0              0            0  ...  0.003377 -0.001839 -0.006964 -0.011957   \n",
       "1              0            0  ... -0.000470 -0.011162  0.006198 -0.006974   \n",
       "2              0            0  ... -0.002106 -0.006429  0.011533 -0.002894   \n",
       "3              0            0  ... -0.012418  0.004621  0.003917 -0.003597   \n",
       "4              0            0  ... -0.003134  0.001655  0.024093  0.123340   \n",
       "\n",
       "         94        95        96        97        98        99  \n",
       "0  0.015086  0.010792  0.002605 -0.007524 -0.006270  0.013281  \n",
       "1  0.007134  0.000839 -0.000323 -0.019351  0.017661  0.000584  \n",
       "2  0.003305 -0.001891  0.004013  0.001608  0.004493 -0.012774  \n",
       "3  0.009108  0.001498 -0.010051 -0.000648  0.000602 -0.003168  \n",
       "4  0.057648 -0.013041  0.088994 -0.017661 -0.075975  0.050357  \n",
       "\n",
       "[5 rows x 120 columns]"
      ]
     },
     "execution_count": 75,
     "metadata": {},
     "output_type": "execute_result"
    }
   ],
   "source": [
    "# Place the DataFrames side by side\n",
    "bots_tfid = pd.concat([bots, b_svdTFit], axis=1)\n",
    "bots_tfid.head()"
   ]
  },
  {
   "cell_type": "code",
   "execution_count": 76,
   "metadata": {},
   "outputs": [
    {
     "data": {
      "text/plain": [
       "(16984, 120)"
      ]
     },
     "execution_count": 76,
     "metadata": {},
     "output_type": "execute_result"
    }
   ],
   "source": [
    "bots_tfid.shape"
   ]
  },
  {
   "cell_type": "code",
   "execution_count": 77,
   "metadata": {},
   "outputs": [
    {
     "data": {
      "text/html": [
       "<div>\n",
       "<style scoped>\n",
       "    .dataframe tbody tr th:only-of-type {\n",
       "        vertical-align: middle;\n",
       "    }\n",
       "\n",
       "    .dataframe tbody tr th {\n",
       "        vertical-align: top;\n",
       "    }\n",
       "\n",
       "    .dataframe thead th {\n",
       "        text-align: right;\n",
       "    }\n",
       "</style>\n",
       "<table border=\"1\" class=\"dataframe\">\n",
       "  <thead>\n",
       "    <tr style=\"text-align: right;\">\n",
       "      <th></th>\n",
       "      <th>index</th>\n",
       "      <th>id</th>\n",
       "      <th>text</th>\n",
       "      <th>source</th>\n",
       "      <th>user_id</th>\n",
       "      <th>in_reply_to_status_id</th>\n",
       "      <th>in_reply_to_user_id</th>\n",
       "      <th>retweeted_status_id</th>\n",
       "      <th>retweet_count</th>\n",
       "      <th>reply_count</th>\n",
       "      <th>...</th>\n",
       "      <th>90</th>\n",
       "      <th>91</th>\n",
       "      <th>92</th>\n",
       "      <th>93</th>\n",
       "      <th>94</th>\n",
       "      <th>95</th>\n",
       "      <th>96</th>\n",
       "      <th>97</th>\n",
       "      <th>98</th>\n",
       "      <th>99</th>\n",
       "    </tr>\n",
       "  </thead>\n",
       "  <tbody>\n",
       "    <tr>\n",
       "      <th>0</th>\n",
       "      <td>0</td>\n",
       "      <td>579482970861375489</td>\n",
       "      <td>FOUNDER OF GREENPEACE: Why I am a Climate Chan...</td>\n",
       "      <td>&lt;a href=\"http://www.apple.com\" rel=\"nofollow\"&gt;...</td>\n",
       "      <td>24255637</td>\n",
       "      <td>0</td>\n",
       "      <td>0</td>\n",
       "      <td>0</td>\n",
       "      <td>0</td>\n",
       "      <td>0</td>\n",
       "      <td>...</td>\n",
       "      <td>0.006245</td>\n",
       "      <td>-0.002045</td>\n",
       "      <td>-0.001633</td>\n",
       "      <td>0.002762</td>\n",
       "      <td>-0.003999</td>\n",
       "      <td>-0.010669</td>\n",
       "      <td>-0.014653</td>\n",
       "      <td>0.004595</td>\n",
       "      <td>-0.010447</td>\n",
       "      <td>0.003188</td>\n",
       "    </tr>\n",
       "    <tr>\n",
       "      <th>1</th>\n",
       "      <td>1</td>\n",
       "      <td>593140847589240833</td>\n",
       "      <td>RT @AoifeAssumpta: I'm suggesting we let kids ...</td>\n",
       "      <td>&lt;a href=\"http://twitter.com/download/iphone\" r...</td>\n",
       "      <td>1969254588</td>\n",
       "      <td>0</td>\n",
       "      <td>0</td>\n",
       "      <td>593115571387924480</td>\n",
       "      <td>5</td>\n",
       "      <td>0</td>\n",
       "      <td>...</td>\n",
       "      <td>0.013992</td>\n",
       "      <td>-0.017772</td>\n",
       "      <td>-0.004762</td>\n",
       "      <td>-0.003577</td>\n",
       "      <td>-0.009730</td>\n",
       "      <td>-0.053410</td>\n",
       "      <td>-0.049526</td>\n",
       "      <td>0.048174</td>\n",
       "      <td>0.007276</td>\n",
       "      <td>-0.002327</td>\n",
       "    </tr>\n",
       "    <tr>\n",
       "      <th>2</th>\n",
       "      <td>2</td>\n",
       "      <td>592058443525136384</td>\n",
       "      <td>RT @IanBoothby: Mark Hammil was such a perfect...</td>\n",
       "      <td>&lt;a href=\"https://about.twitter.com/products/tw...</td>\n",
       "      <td>16484437</td>\n",
       "      <td>0</td>\n",
       "      <td>0</td>\n",
       "      <td>592057825876029440</td>\n",
       "      <td>1454</td>\n",
       "      <td>0</td>\n",
       "      <td>...</td>\n",
       "      <td>-0.003958</td>\n",
       "      <td>-0.001476</td>\n",
       "      <td>0.008048</td>\n",
       "      <td>0.003580</td>\n",
       "      <td>-0.002689</td>\n",
       "      <td>0.000271</td>\n",
       "      <td>-0.005497</td>\n",
       "      <td>-0.003891</td>\n",
       "      <td>-0.001359</td>\n",
       "      <td>0.018065</td>\n",
       "    </tr>\n",
       "    <tr>\n",
       "      <th>3</th>\n",
       "      <td>3</td>\n",
       "      <td>319531218272133121</td>\n",
       "      <td>RT @IndpndtLiv: Hello new followers :) head ov...</td>\n",
       "      <td>&lt;a href=\"http://twitter.com/download/iphone\" r...</td>\n",
       "      <td>27679500</td>\n",
       "      <td>0</td>\n",
       "      <td>0</td>\n",
       "      <td>319530096669118464</td>\n",
       "      <td>1</td>\n",
       "      <td>0</td>\n",
       "      <td>...</td>\n",
       "      <td>0.006553</td>\n",
       "      <td>-0.013940</td>\n",
       "      <td>-0.011231</td>\n",
       "      <td>-0.022997</td>\n",
       "      <td>-0.005559</td>\n",
       "      <td>0.026463</td>\n",
       "      <td>0.004866</td>\n",
       "      <td>-0.007484</td>\n",
       "      <td>0.011045</td>\n",
       "      <td>-0.006396</td>\n",
       "    </tr>\n",
       "    <tr>\n",
       "      <th>4</th>\n",
       "      <td>4</td>\n",
       "      <td>433506706954276864</td>\n",
       "      <td>@SMARTCares Please check my reply. Thanks!</td>\n",
       "      <td>&lt;a href=\"http://ubersocial.com\" rel=\"nofollow\"...</td>\n",
       "      <td>26970502</td>\n",
       "      <td>433494227704504320</td>\n",
       "      <td>74409069</td>\n",
       "      <td>0</td>\n",
       "      <td>0</td>\n",
       "      <td>0</td>\n",
       "      <td>...</td>\n",
       "      <td>0.000841</td>\n",
       "      <td>-0.033147</td>\n",
       "      <td>0.003461</td>\n",
       "      <td>0.014964</td>\n",
       "      <td>-0.005773</td>\n",
       "      <td>0.002218</td>\n",
       "      <td>0.021047</td>\n",
       "      <td>-0.004825</td>\n",
       "      <td>-0.001003</td>\n",
       "      <td>-0.018822</td>\n",
       "    </tr>\n",
       "  </tbody>\n",
       "</table>\n",
       "<p>5 rows × 120 columns</p>\n",
       "</div>"
      ],
      "text/plain": [
       "   index                  id  \\\n",
       "0      0  579482970861375489   \n",
       "1      1  593140847589240833   \n",
       "2      2  592058443525136384   \n",
       "3      3  319531218272133121   \n",
       "4      4  433506706954276864   \n",
       "\n",
       "                                                text  \\\n",
       "0  FOUNDER OF GREENPEACE: Why I am a Climate Chan...   \n",
       "1  RT @AoifeAssumpta: I'm suggesting we let kids ...   \n",
       "2  RT @IanBoothby: Mark Hammil was such a perfect...   \n",
       "3  RT @IndpndtLiv: Hello new followers :) head ov...   \n",
       "4         @SMARTCares Please check my reply. Thanks!   \n",
       "\n",
       "                                              source     user_id  \\\n",
       "0  <a href=\"http://www.apple.com\" rel=\"nofollow\">...    24255637   \n",
       "1  <a href=\"http://twitter.com/download/iphone\" r...  1969254588   \n",
       "2  <a href=\"https://about.twitter.com/products/tw...    16484437   \n",
       "3  <a href=\"http://twitter.com/download/iphone\" r...    27679500   \n",
       "4  <a href=\"http://ubersocial.com\" rel=\"nofollow\"...    26970502   \n",
       "\n",
       "   in_reply_to_status_id  in_reply_to_user_id  retweeted_status_id  \\\n",
       "0                      0                    0                    0   \n",
       "1                      0                    0   593115571387924480   \n",
       "2                      0                    0   592057825876029440   \n",
       "3                      0                    0   319530096669118464   \n",
       "4     433494227704504320             74409069                    0   \n",
       "\n",
       "   retweet_count  reply_count  ...        90        91        92        93  \\\n",
       "0              0            0  ...  0.006245 -0.002045 -0.001633  0.002762   \n",
       "1              5            0  ...  0.013992 -0.017772 -0.004762 -0.003577   \n",
       "2           1454            0  ... -0.003958 -0.001476  0.008048  0.003580   \n",
       "3              1            0  ...  0.006553 -0.013940 -0.011231 -0.022997   \n",
       "4              0            0  ...  0.000841 -0.033147  0.003461  0.014964   \n",
       "\n",
       "         94        95        96        97        98        99  \n",
       "0 -0.003999 -0.010669 -0.014653  0.004595 -0.010447  0.003188  \n",
       "1 -0.009730 -0.053410 -0.049526  0.048174  0.007276 -0.002327  \n",
       "2 -0.002689  0.000271 -0.005497 -0.003891 -0.001359  0.018065  \n",
       "3 -0.005559  0.026463  0.004866 -0.007484  0.011045 -0.006396  \n",
       "4 -0.005773  0.002218  0.021047 -0.004825 -0.001003 -0.018822  \n",
       "\n",
       "[5 rows x 120 columns]"
      ]
     },
     "execution_count": 77,
     "metadata": {},
     "output_type": "execute_result"
    }
   ],
   "source": [
    "# Join Tfid with class df \n",
    "gen_tfid = pd.concat([gen, g_svdTFit], axis =1)\n",
    "gen_tfid.head()"
   ]
  },
  {
   "cell_type": "code",
   "execution_count": 78,
   "metadata": {},
   "outputs": [
    {
     "data": {
      "text/plain": [
       "(13528, 120)"
      ]
     },
     "execution_count": 78,
     "metadata": {},
     "output_type": "execute_result"
    }
   ],
   "source": [
    "gen_tfid.shape"
   ]
  },
  {
   "cell_type": "code",
   "execution_count": 79,
   "metadata": {},
   "outputs": [
    {
     "data": {
      "text/html": [
       "<div>\n",
       "<style scoped>\n",
       "    .dataframe tbody tr th:only-of-type {\n",
       "        vertical-align: middle;\n",
       "    }\n",
       "\n",
       "    .dataframe tbody tr th {\n",
       "        vertical-align: top;\n",
       "    }\n",
       "\n",
       "    .dataframe thead th {\n",
       "        text-align: right;\n",
       "    }\n",
       "</style>\n",
       "<table border=\"1\" class=\"dataframe\">\n",
       "  <thead>\n",
       "    <tr style=\"text-align: right;\">\n",
       "      <th></th>\n",
       "      <th>index</th>\n",
       "      <th>id</th>\n",
       "      <th>text</th>\n",
       "      <th>source</th>\n",
       "      <th>user_id</th>\n",
       "      <th>in_reply_to_status_id</th>\n",
       "      <th>in_reply_to_user_id</th>\n",
       "      <th>retweeted_status_id</th>\n",
       "      <th>retweet_count</th>\n",
       "      <th>reply_count</th>\n",
       "      <th>...</th>\n",
       "      <th>90</th>\n",
       "      <th>91</th>\n",
       "      <th>92</th>\n",
       "      <th>93</th>\n",
       "      <th>94</th>\n",
       "      <th>95</th>\n",
       "      <th>96</th>\n",
       "      <th>97</th>\n",
       "      <th>98</th>\n",
       "      <th>99</th>\n",
       "    </tr>\n",
       "  </thead>\n",
       "  <tbody>\n",
       "    <tr>\n",
       "      <th>0</th>\n",
       "      <td>14134</td>\n",
       "      <td>526486908629942273</td>\n",
       "      <td>Read the History of the Grateful Dead  http://...</td>\n",
       "      <td>&lt;a href=\"http://tweetadder.com\" rel=\"nofollow\"...</td>\n",
       "      <td>520806944</td>\n",
       "      <td>0</td>\n",
       "      <td>0</td>\n",
       "      <td>0</td>\n",
       "      <td>0</td>\n",
       "      <td>0</td>\n",
       "      <td>...</td>\n",
       "      <td>0.003377</td>\n",
       "      <td>-0.001839</td>\n",
       "      <td>-0.006964</td>\n",
       "      <td>-0.011957</td>\n",
       "      <td>0.015086</td>\n",
       "      <td>0.010792</td>\n",
       "      <td>0.002605</td>\n",
       "      <td>-0.007524</td>\n",
       "      <td>-0.006270</td>\n",
       "      <td>0.013281</td>\n",
       "    </tr>\n",
       "    <tr>\n",
       "      <th>1</th>\n",
       "      <td>14135</td>\n",
       "      <td>528698964171034624</td>\n",
       "      <td>The Beautiful Canadian Rockies Tour  http://t....</td>\n",
       "      <td>&lt;a href=\"http://tweetadder.com\" rel=\"nofollow\"...</td>\n",
       "      <td>327747371</td>\n",
       "      <td>0</td>\n",
       "      <td>0</td>\n",
       "      <td>0</td>\n",
       "      <td>0</td>\n",
       "      <td>0</td>\n",
       "      <td>...</td>\n",
       "      <td>-0.000470</td>\n",
       "      <td>-0.011162</td>\n",
       "      <td>0.006198</td>\n",
       "      <td>-0.006974</td>\n",
       "      <td>0.007134</td>\n",
       "      <td>0.000839</td>\n",
       "      <td>-0.000323</td>\n",
       "      <td>-0.019351</td>\n",
       "      <td>0.017661</td>\n",
       "      <td>0.000584</td>\n",
       "    </tr>\n",
       "    <tr>\n",
       "      <th>2</th>\n",
       "      <td>14136</td>\n",
       "      <td>461334106509295617</td>\n",
       "      <td>Perd�n, es que volv� a ver 'Pulp Fiction' por ...</td>\n",
       "      <td>&lt;a href=\"http://twitter.com\" rel=\"nofollow\"&gt;Tw...</td>\n",
       "      <td>2357267365</td>\n",
       "      <td>0</td>\n",
       "      <td>0</td>\n",
       "      <td>0</td>\n",
       "      <td>0</td>\n",
       "      <td>0</td>\n",
       "      <td>...</td>\n",
       "      <td>-0.002106</td>\n",
       "      <td>-0.006429</td>\n",
       "      <td>0.011533</td>\n",
       "      <td>-0.002894</td>\n",
       "      <td>0.003305</td>\n",
       "      <td>-0.001891</td>\n",
       "      <td>0.004013</td>\n",
       "      <td>0.001608</td>\n",
       "      <td>0.004493</td>\n",
       "      <td>-0.012774</td>\n",
       "    </tr>\n",
       "    <tr>\n",
       "      <th>3</th>\n",
       "      <td>14137</td>\n",
       "      <td>483962281353805825</td>\n",
       "      <td>*In farmacia*  -Scusate, avete qualcosa contro...</td>\n",
       "      <td>&lt;a href=\"http://www.giselecaldoro.it\" rel=\"nof...</td>\n",
       "      <td>466257207</td>\n",
       "      <td>0</td>\n",
       "      <td>0</td>\n",
       "      <td>0</td>\n",
       "      <td>0</td>\n",
       "      <td>0</td>\n",
       "      <td>...</td>\n",
       "      <td>-0.012418</td>\n",
       "      <td>0.004621</td>\n",
       "      <td>0.003917</td>\n",
       "      <td>-0.003597</td>\n",
       "      <td>0.009108</td>\n",
       "      <td>0.001498</td>\n",
       "      <td>-0.010051</td>\n",
       "      <td>-0.000648</td>\n",
       "      <td>0.000602</td>\n",
       "      <td>-0.003168</td>\n",
       "    </tr>\n",
       "    <tr>\n",
       "      <th>4</th>\n",
       "      <td>14138</td>\n",
       "      <td>468005231759224832</td>\n",
       "      <td>\"Ed è brutto quando trattieni le lacrime e ing...</td>\n",
       "      <td>&lt;a href=\"http://www.politicoverde.com\" rel=\"no...</td>\n",
       "      <td>467100704</td>\n",
       "      <td>0</td>\n",
       "      <td>0</td>\n",
       "      <td>0</td>\n",
       "      <td>0</td>\n",
       "      <td>0</td>\n",
       "      <td>...</td>\n",
       "      <td>-0.003134</td>\n",
       "      <td>0.001655</td>\n",
       "      <td>0.024093</td>\n",
       "      <td>0.123340</td>\n",
       "      <td>0.057648</td>\n",
       "      <td>-0.013041</td>\n",
       "      <td>0.088994</td>\n",
       "      <td>-0.017661</td>\n",
       "      <td>-0.075975</td>\n",
       "      <td>0.050357</td>\n",
       "    </tr>\n",
       "  </tbody>\n",
       "</table>\n",
       "<p>5 rows × 120 columns</p>\n",
       "</div>"
      ],
      "text/plain": [
       "   index                  id  \\\n",
       "0  14134  526486908629942273   \n",
       "1  14135  528698964171034624   \n",
       "2  14136  461334106509295617   \n",
       "3  14137  483962281353805825   \n",
       "4  14138  468005231759224832   \n",
       "\n",
       "                                                text  \\\n",
       "0  Read the History of the Grateful Dead  http://...   \n",
       "1  The Beautiful Canadian Rockies Tour  http://t....   \n",
       "2  Perd�n, es que volv� a ver 'Pulp Fiction' por ...   \n",
       "3  *In farmacia*  -Scusate, avete qualcosa contro...   \n",
       "4  \"Ed è brutto quando trattieni le lacrime e ing...   \n",
       "\n",
       "                                              source     user_id  \\\n",
       "0  <a href=\"http://tweetadder.com\" rel=\"nofollow\"...   520806944   \n",
       "1  <a href=\"http://tweetadder.com\" rel=\"nofollow\"...   327747371   \n",
       "2  <a href=\"http://twitter.com\" rel=\"nofollow\">Tw...  2357267365   \n",
       "3  <a href=\"http://www.giselecaldoro.it\" rel=\"nof...   466257207   \n",
       "4  <a href=\"http://www.politicoverde.com\" rel=\"no...   467100704   \n",
       "\n",
       "   in_reply_to_status_id  in_reply_to_user_id  retweeted_status_id  \\\n",
       "0                      0                    0                    0   \n",
       "1                      0                    0                    0   \n",
       "2                      0                    0                    0   \n",
       "3                      0                    0                    0   \n",
       "4                      0                    0                    0   \n",
       "\n",
       "   retweet_count  reply_count  ...        90        91        92        93  \\\n",
       "0              0            0  ...  0.003377 -0.001839 -0.006964 -0.011957   \n",
       "1              0            0  ... -0.000470 -0.011162  0.006198 -0.006974   \n",
       "2              0            0  ... -0.002106 -0.006429  0.011533 -0.002894   \n",
       "3              0            0  ... -0.012418  0.004621  0.003917 -0.003597   \n",
       "4              0            0  ... -0.003134  0.001655  0.024093  0.123340   \n",
       "\n",
       "         94        95        96        97        98        99  \n",
       "0  0.015086  0.010792  0.002605 -0.007524 -0.006270  0.013281  \n",
       "1  0.007134  0.000839 -0.000323 -0.019351  0.017661  0.000584  \n",
       "2  0.003305 -0.001891  0.004013  0.001608  0.004493 -0.012774  \n",
       "3  0.009108  0.001498 -0.010051 -0.000648  0.000602 -0.003168  \n",
       "4  0.057648 -0.013041  0.088994 -0.017661 -0.075975  0.050357  \n",
       "\n",
       "[5 rows x 120 columns]"
      ]
     },
     "execution_count": 79,
     "metadata": {},
     "output_type": "execute_result"
    }
   ],
   "source": [
    "# Concatenate bots_tfid and gen_tfid to create df for modeling \n",
    "df_tweets = pd.concat([bots_tfid, gen_tfid], ignore_index=True)\n",
    "\n",
    "df_tweets.head()"
   ]
  },
  {
   "cell_type": "code",
   "execution_count": 80,
   "metadata": {},
   "outputs": [],
   "source": [
    "# Drop unwanted columns \n",
    "df_tweets = df_tweets.drop(columns=['index','id','text','source','user_id','created_at', 'timestamp', 'crawled_at', 'updated','clean_tweets'])"
   ]
  },
  {
   "cell_type": "code",
   "execution_count": 81,
   "metadata": {},
   "outputs": [
    {
     "data": {
      "text/plain": [
       "Index(['in_reply_to_status_id',   'in_reply_to_user_id',\n",
       "         'retweeted_status_id',         'retweet_count',\n",
       "                 'reply_count',        'favorite_count',\n",
       "                'num_hashtags',              'num_urls',\n",
       "                'num_mentions',                 'class',\n",
       "       ...\n",
       "                            90,                      91,\n",
       "                            92,                      93,\n",
       "                            94,                      95,\n",
       "                            96,                      97,\n",
       "                            98,                      99],\n",
       "      dtype='object', length=110)"
      ]
     },
     "execution_count": 81,
     "metadata": {},
     "output_type": "execute_result"
    }
   ],
   "source": [
    "df_tweets.columns"
   ]
  },
  {
   "cell_type": "code",
   "execution_count": 82,
   "metadata": {},
   "outputs": [
    {
     "data": {
      "text/plain": [
       "(30512, 110)"
      ]
     },
     "execution_count": 82,
     "metadata": {},
     "output_type": "execute_result"
    }
   ],
   "source": [
    "df_tweets.shape"
   ]
  },
  {
   "cell_type": "code",
   "execution_count": 83,
   "metadata": {},
   "outputs": [
    {
     "data": {
      "text/plain": [
       "0"
      ]
     },
     "execution_count": 83,
     "metadata": {},
     "output_type": "execute_result"
    }
   ],
   "source": [
    "# Check for null values \n",
    "df_tweets.isnull().sum().sum()"
   ]
  },
  {
   "cell_type": "markdown",
   "metadata": {},
   "source": [
    "# Evaluating and Comparing Machine Learning Models\n",
    "In this section we will build, train, and evalute several machine learning methods for our supervised regression task."
   ]
  },
  {
   "cell_type": "markdown",
   "metadata": {},
   "source": [
    "## Split Train and Test set¶\n",
    "Let's split dataset by using function train_test_split(). Here, the Dataset is broken into two parts in a ratio of 70:30. It means 70% data will be used for model training and 30% for model testing.\n",
    "\n",
    "To continue feature selection, we will start by using the original attributes in the raw training set."
   ]
  },
  {
   "cell_type": "code",
   "execution_count": 84,
   "metadata": {},
   "outputs": [],
   "source": [
    "# Set variables \n",
    "y = df_tweets['class']\n",
    "X = df_tweets.drop(columns=['class'])"
   ]
  },
  {
   "cell_type": "code",
   "execution_count": 85,
   "metadata": {},
   "outputs": [],
   "source": [
    "X_train, X_test, y_train, y_test = train_test_split(X, y, test_size=0.3, random_state=42, stratify=y)"
   ]
  },
  {
   "cell_type": "markdown",
   "metadata": {},
   "source": [
    "# Metric \n",
    "We will evaluate our models based on their predicted probability __ROC AUC score__. ROC AUC \"summarize the trade-off between the true positive rate and false positive rate for a predictive model using different probability thresholds\"[Brownlee](https://machinelearningmastery.com/roc-curves-and-precision-recall-curves-for-classification-in-python/).\n",
    "\n",
    "We’ll also focus on the __false positive rate__(FPR) and __false negative rate__(FNR). False positive rate is identifying genuine tweets as robot tweets. This could lead to disregarding value customer behavior information which can provide misleading data for future marketing campaigns and lower customer satisfaction. False negative rate is failure to label true robot tweets as bots tweets, which results in obtaining false customer information. \n",
    "\n",
    "FPR and FNR are reflected in the following metrics: \n",
    "\n",
    " * __Accuracy__: ratio of properly labeled accounts \n",
    "\n",
    " * __Precision__: ratio of correctly predicted positive observations to the total predicted positive observations. The question that this metric answer is of all tweets that are labeled as bots, how many are actually bots? High precision relates to the low false positive rate. \n",
    "\n",
    " * __Recall (Sensitivity)__: ratio of correctly predicted positive observations to the all observations in actual class - yes. The question recall answers is: Of all the tweets that were genereated by bots, how many did we label? \n",
    "\n",
    " \n",
    "# Model  Selection\n",
    "\n",
    "We will compare three different machine learning models:\n",
    "\n",
    "1. Logistic Regression\n",
    "2. Random Forest Classifer\n",
    "3. Neural Network Classifer \n",
    "\n",
    "We will fit these models the appropiate training set.\n",
    "\n",
    "## Baseline \n",
    "For a naive baseline, we will use logistic regression to predict the probability of an user account being a robot. Unlike linear regression which gives continuous output, logistic regression provides a constant output in predicting binary classes. If the probability 'p' is greater than 0.5, the data is labeled '1'. Probability less than 0.5 is labeled as '0'.\n",
    "\n",
    "## Logistic Regression \n",
    "First, we'll create the model and train the model and make predictions on the testing data."
   ]
  },
  {
   "cell_type": "markdown",
   "metadata": {},
   "source": [
    "# Modeling"
   ]
  },
  {
   "cell_type": "code",
   "execution_count": 86,
   "metadata": {},
   "outputs": [],
   "source": [
    "# Function to plot ROC curve \n",
    "def roc_curve(model, X_train, y_train, X_test, y_test):\n",
    "    y_pred_proba = model.predict_proba(X_train)[:, 1]\n",
    "    y_pred_proba2 = model.predict_proba(X_test)[:, 1]\n",
    "    fpr, tpr, thresholds = metrics.roc_curve(y_train, y_pred_proba)\n",
    "    fpr2, tpr2, thresholds = metrics.roc_curve(y_test, y_pred_proba2)\n",
    "\n",
    "    model_auc = metrics.roc_auc_score(y_train, y_pred_proba)\n",
    "    model_auc2 = metrics.roc_auc_score(y_test, y_pred_proba2)\n",
    "\n",
    "    fig, ax = plt.subplots()\n",
    "    ax.plot(fpr, tpr, label=\"Train, auc=\"+str(model_auc))\n",
    "    ax.plot(fpr2, tpr2, label=\"Test, auc=\"+str(model_auc2))\n",
    "\n",
    "    plt.title('ROC curve')\n",
    "    ax.legend(loc=4)\n",
    "    plt.xlabel('False Positive Rate')\n",
    "    plt.ylabel('True Positive Rate')\n",
    "\n",
    "    plt.show()"
   ]
  },
  {
   "cell_type": "code",
   "execution_count": 87,
   "metadata": {},
   "outputs": [
    {
     "name": "stderr",
     "output_type": "stream",
     "text": [
      "/Users/tsawaengsri/anaconda3/lib/python3.6/site-packages/sklearn/linear_model/logistic.py:433: FutureWarning: Default solver will be changed to 'lbfgs' in 0.22. Specify a solver to silence this warning.\n",
      "  FutureWarning)\n",
      "/Users/tsawaengsri/anaconda3/lib/python3.6/site-packages/sklearn/linear_model/logistic.py:433: FutureWarning: Default solver will be changed to 'lbfgs' in 0.22. Specify a solver to silence this warning.\n",
      "  FutureWarning)\n",
      "/Users/tsawaengsri/anaconda3/lib/python3.6/site-packages/sklearn/linear_model/logistic.py:433: FutureWarning: Default solver will be changed to 'lbfgs' in 0.22. Specify a solver to silence this warning.\n",
      "  FutureWarning)\n",
      "/Users/tsawaengsri/anaconda3/lib/python3.6/site-packages/sklearn/linear_model/logistic.py:433: FutureWarning: Default solver will be changed to 'lbfgs' in 0.22. Specify a solver to silence this warning.\n",
      "  FutureWarning)\n",
      "/Users/tsawaengsri/anaconda3/lib/python3.6/site-packages/sklearn/linear_model/logistic.py:433: FutureWarning: Default solver will be changed to 'lbfgs' in 0.22. Specify a solver to silence this warning.\n",
      "  FutureWarning)\n"
     ]
    },
    {
     "name": "stdout",
     "output_type": "stream",
     "text": [
      "[0.71652622 0.73244382 0.72823034 0.71301498 0.70819672]\n"
     ]
    },
    {
     "name": "stderr",
     "output_type": "stream",
     "text": [
      "/Users/tsawaengsri/anaconda3/lib/python3.6/site-packages/sklearn/linear_model/logistic.py:433: FutureWarning: Default solver will be changed to 'lbfgs' in 0.22. Specify a solver to silence this warning.\n",
      "  FutureWarning)\n"
     ]
    }
   ],
   "source": [
    "# Logistic Regression Model \n",
    "lr = LogisticRegression()\n",
    "\n",
    "# Fit and predict \n",
    "lr.fit(X_train, y_train)\n",
    "lr_y_pred = lr.predict(X_test)\n",
    "\n",
    "# CV to check if overfitting \n",
    "print(cross_val_score(lr, X_train, y_train, cv=5))"
   ]
  },
  {
   "cell_type": "code",
   "execution_count": 90,
   "metadata": {},
   "outputs": [
    {
     "name": "stdout",
     "output_type": "stream",
     "text": [
      "ROC_AUC: 69.96%\n",
      "Accuracy: 71.15%\n",
      "Recall: 80.45%\n",
      "Precision: 71.36%\n",
      "[[2414 1645]\n",
      " [ 996 4099]]\n"
     ]
    }
   ],
   "source": [
    "# Calculate metrics\n",
    "lr_roc_auc = roc_auc_score(y_test, lr_y_pred)\n",
    "lr_accuracy = accuracy_score(y_test, lr_y_pred)\n",
    "lr_recall = recall_score(y_test, lr_y_pred)\n",
    "lr_precision = precision_score(y_test, lr_y_pred)\n",
    "\n",
    "# Print metrics\n",
    "print(\"ROC_AUC: %.2f%%\" % (lr_roc_auc * 100.0))\n",
    "print(\"Accuracy: %.2f%%\" % (lr_accuracy * 100.0))\n",
    "print('Recall: %.2f%%' % (lr_recall * 100.0))\n",
    "print('Precision: %.2f%%' % (lr_precision * 100.0))\n",
    "print(confusion_matrix(y_test, lr_y_pred))"
   ]
  },
  {
   "cell_type": "code",
   "execution_count": null,
   "metadata": {},
   "outputs": [],
   "source": [
    "# Logistic Model\n",
    "#parameters = {'C':np.logspace(-5,5)}\n",
    "#lr = LogisticRegression()\n",
    "#gsc_lr = GridSearchCV(lr, parameters, cv=5, scoring='roc_auc')\n",
    "#gsc_lr.fit(X_train, y_train)\n",
    "#print(gsc_lr.best_params_, gsc_lr.best_score_)\n",
    "\n",
    "# {'C': 1e-05} 0.771215887401393"
   ]
  },
  {
   "cell_type": "code",
   "execution_count": null,
   "metadata": {},
   "outputs": [],
   "source": [
    "# Optmizied Logistic Model\n",
    "#parameters = {}\n",
    "#parameters['penalty'] = ['l1', 'l2']\n",
    "#gsc_lr2 = LogisticRegression(C=1e-05)\n",
    "#gsc_lr2 = GridSearchCV(gsc_lr2, parameters, cv=5, scoring='roc_auc')\n",
    "#gsc_lr2.fit(X_train, y_train)\n",
    "#print(gsc_lr2.best_params_, gsc_lr2.best_score_)\n",
    "\n",
    "# NOTE: Took too long to process "
   ]
  },
  {
   "cell_type": "markdown",
   "metadata": {},
   "source": [
    "### Optimized Logistic Regression Model "
   ]
  },
  {
   "cell_type": "code",
   "execution_count": 91,
   "metadata": {},
   "outputs": [
    {
     "name": "stderr",
     "output_type": "stream",
     "text": [
      "/Users/tsawaengsri/anaconda3/lib/python3.6/site-packages/sklearn/linear_model/logistic.py:433: FutureWarning: Default solver will be changed to 'lbfgs' in 0.22. Specify a solver to silence this warning.\n",
      "  FutureWarning)\n"
     ]
    }
   ],
   "source": [
    "# Optimized Logistic Regression Model \n",
    "gsc_lr = LogisticRegression(C=1e-05)\n",
    "gsc_lr.fit(X_train, y_train)\n",
    "gsc_lr_y_pred = gsc_lr.predict(X_test)"
   ]
  },
  {
   "cell_type": "code",
   "execution_count": 92,
   "metadata": {},
   "outputs": [
    {
     "name": "stdout",
     "output_type": "stream",
     "text": [
      "ROC_AUC: 69.96%\n",
      "Accuracy: 71.15%\n",
      "Recall: 80.45%\n",
      "Precision: 71.36%\n",
      "[[2414 1645]\n",
      " [ 996 4099]]\n"
     ]
    }
   ],
   "source": [
    "# Calculate metrics\n",
    "gsc_lr_roc_auc = roc_auc_score(y_test, gsc_lr_y_pred)\n",
    "gsc_lr_accuracy = accuracy_score(y_test, gsc_lr_y_pred)\n",
    "gsc_lr_recall = recall_score(y_test, gsc_lr_y_pred)\n",
    "gsc_lr_precision = precision_score(y_test, gsc_lr_y_pred)\n",
    "\n",
    "# Print metrics\n",
    "print(\"ROC_AUC: %.2f%%\" % (gsc_lr_roc_auc * 100.0))\n",
    "print(\"Accuracy: %.2f%%\" % (gsc_lr_accuracy * 100.0))\n",
    "print('Recall: %.2f%%' % (gsc_lr_recall * 100.0))\n",
    "print('Precision: %.2f%%' % (gsc_lr_precision * 100.0))\n",
    "print(confusion_matrix(y_test, gsc_lr_y_pred))"
   ]
  },
  {
   "cell_type": "code",
   "execution_count": 93,
   "metadata": {},
   "outputs": [
    {
     "data": {
      "image/png": "[encoded data removed]",
      "text/plain": [
       "<Figure size 432x288 with 1 Axes>"
      ]
     },
     "metadata": {},
     "output_type": "display_data"
    }
   ],
   "source": [
    "# Function to plot ROC curve \n",
    "roc_curve(gsc_lr, X_train, y_train, X_test, y_test)"
   ]
  },
  {
   "cell_type": "markdown",
   "metadata": {},
   "source": [
    "__Evaluation__: From cross validation, this model doesn't seem to be overfitting by much since the accuracry scores range between 0.70 to 0.73. With a recall of 80.45% and precision of 71.36%, this model was better at classifying robot tweets than geninue ones from human users. "
   ]
  },
  {
   "cell_type": "markdown",
   "metadata": {},
   "source": [
    "### Random Forest "
   ]
  },
  {
   "cell_type": "code",
   "execution_count": 94,
   "metadata": {},
   "outputs": [
    {
     "name": "stdout",
     "output_type": "stream",
     "text": [
      "[0.99438202 0.99297753 0.99227528 0.99391386 0.99391101]\n"
     ]
    }
   ],
   "source": [
    "# Random Forest Model \n",
    "rf = RandomForestClassifier(n_estimators=100, random_state=42)\n",
    "\n",
    "# Fit and predict\n",
    "rf.fit(X_train, y_train) \n",
    "rf_y_pred = rf.predict(X_test)\n",
    "\n",
    "# Check if model is overfitting \n",
    "print(cross_val_score(rf, X_train, y_train, cv=5))\n",
    "\n",
    "# Results: [0.98972443 0.98949089 0.9901915  0.9927587  0.99299065]"
   ]
  },
  {
   "cell_type": "code",
   "execution_count": 95,
   "metadata": {},
   "outputs": [
    {
     "name": "stdout",
     "output_type": "stream",
     "text": [
      "ROC_AUC: 99.60%\n",
      "Accuracy: 99.55%\n",
      "Recall: 99.21%\n",
      "Precision: 99.98%\n",
      "[[4058    1]\n",
      " [  40 5055]]\n"
     ]
    }
   ],
   "source": [
    "# Calculate metrics\n",
    "rf_roc_auc = roc_auc_score(y_test, rf_y_pred)\n",
    "rf_accuracy = accuracy_score(y_test, rf_y_pred)\n",
    "rf_recall = recall_score(y_test, rf_y_pred)\n",
    "rf_precision = precision_score(y_test, rf_y_pred)\n",
    "\n",
    "# Print metrics\n",
    "print(\"ROC_AUC: %.2f%%\" % (rf_roc_auc * 100.0))\n",
    "print(\"Accuracy: %.2f%%\" % (rf_accuracy * 100.0))\n",
    "print('Recall: %.2f%%' % (rf_recall * 100.0))\n",
    "print('Precision: %.2f%%' % (rf_precision * 100.0))\n",
    "print(confusion_matrix(y_test, rf_y_pred))\n",
    "\n",
    "#ROC_AUC: 99.20%\n",
    "#Accuracy: 99.12%\n",
    "#Recall: 98.43044928389249 %\n",
    "#Precision: 99.98007174172977 %\n",
    "#[[4077    1]\n",
    " #[  80 5017]]\n"
   ]
  },
  {
   "cell_type": "code",
   "execution_count": null,
   "metadata": {},
   "outputs": [],
   "source": [
    "#Optimizing Random Forest\n",
    "#parameters = {}\n",
    "#parameters['criterion'] = ['entropy','gini']\n",
    "#parameters['n_estimators'] = [100,200,300]\n",
    "\n",
    "#gsc_rf = GridSearchCV(rf, parameters, cv=5, verbose=1, scoring='roc_auc')\n",
    "#gsc_rf.fit(X_train, y_train)\n",
    "#print(gsc_rf.best_params_, gsc_rf.best_score_)\n",
    "\n",
    "# {'criterion': 'entropy', 'n_estimators': 300} 0.9993297513905806"
   ]
  },
  {
   "cell_type": "markdown",
   "metadata": {},
   "source": [
    "### Optmized Random Forest"
   ]
  },
  {
   "cell_type": "code",
   "execution_count": 96,
   "metadata": {},
   "outputs": [],
   "source": [
    "# Optimized Random Forest\n",
    "gsc_rf = RandomForestClassifier(n_estimators=300, criterion='entropy', random_state=42)\n",
    "gsc_rf.fit(X_train, y_train) \n",
    "gsc_rf_y_pred = gsc_rf.predict(X_test)"
   ]
  },
  {
   "cell_type": "code",
   "execution_count": 97,
   "metadata": {},
   "outputs": [
    {
     "name": "stdout",
     "output_type": "stream",
     "text": [
      "ROC_AUC: 99.61%\n",
      "Accuracy: 99.57%\n",
      "Recall: 99.25%\n",
      "Precision: 99.98%\n",
      "[[4058    1]\n",
      " [  38 5057]]\n"
     ]
    }
   ],
   "source": [
    "# Calculate metrics\n",
    "gsc_rf_roc_auc = roc_auc_score(y_test, gsc_rf_y_pred)\n",
    "gsc_rf_accuracy = accuracy_score(y_test, gsc_rf_y_pred)\n",
    "gsc_rf_recall = recall_score(y_test, gsc_rf_y_pred)\n",
    "gsc_rf_precision = precision_score(y_test, gsc_rf_y_pred)\n",
    "\n",
    "# Print metrics\n",
    "print(\"ROC_AUC: %.2f%%\" % (gsc_rf_roc_auc * 100.0))\n",
    "print(\"Accuracy: %.2f%%\" % (gsc_rf_accuracy * 100.0))\n",
    "print('Recall: %.2f%%' % (gsc_rf_recall * 100.0))\n",
    "print('Precision: %.2f%%' % (gsc_rf_precision * 100.0))\n",
    "print(confusion_matrix(y_test, gsc_rf_y_pred))\n",
    "\n",
    "#ROC_AUC: 99.23%\n",
    "#Accuracy: 99.15%\n",
    "#Recall: 98.50892681969786 %\n",
    "#Precision: 99.96018315747561 %\n",
    "#[[4076    2]\n",
    " #[  76 5021]]"
   ]
  },
  {
   "cell_type": "code",
   "execution_count": 98,
   "metadata": {},
   "outputs": [
    {
     "data": {
      "image/png": "[encoded data removed]",
      "text/plain": [
       "<Figure size 432x288 with 1 Axes>"
      ]
     },
     "metadata": {},
     "output_type": "display_data"
    }
   ],
   "source": [
    "# Function to plot ROC curve \n",
    "roc_curve(gsc_rf, X_train, y_train, X_test, y_test)"
   ]
  },
  {
   "cell_type": "markdown",
   "metadata": {},
   "source": [
    "__Evaluation__: The optimized random forest model drastically outperforms the logistic regression model. Based on the training data's cross validation score, the model is relatively stable by yielding accuracy score of 99%. On the test data, this model yield 99% for both recall and precision.  "
   ]
  },
  {
   "cell_type": "markdown",
   "metadata": {},
   "source": [
    "### Model Interpretation: Feature Importances\n",
    "For model interpretability, we will take a look at the feature importances of our optimized random forest. We may use these feature importances as a method of dimensionality reduction in future work."
   ]
  },
  {
   "cell_type": "code",
   "execution_count": 99,
   "metadata": {},
   "outputs": [
    {
     "data": {
      "text/html": [
       "<div>\n",
       "<style scoped>\n",
       "    .dataframe tbody tr th:only-of-type {\n",
       "        vertical-align: middle;\n",
       "    }\n",
       "\n",
       "    .dataframe tbody tr th {\n",
       "        vertical-align: top;\n",
       "    }\n",
       "\n",
       "    .dataframe thead th {\n",
       "        text-align: right;\n",
       "    }\n",
       "</style>\n",
       "<table border=\"1\" class=\"dataframe\">\n",
       "  <thead>\n",
       "    <tr style=\"text-align: right;\">\n",
       "      <th></th>\n",
       "      <th>Variable</th>\n",
       "      <th>Importance</th>\n",
       "    </tr>\n",
       "  </thead>\n",
       "  <tbody>\n",
       "    <tr>\n",
       "      <th>12</th>\n",
       "      <td>3</td>\n",
       "      <td>0.094558</td>\n",
       "    </tr>\n",
       "    <tr>\n",
       "      <th>9</th>\n",
       "      <td>0</td>\n",
       "      <td>0.080692</td>\n",
       "    </tr>\n",
       "    <tr>\n",
       "      <th>8</th>\n",
       "      <td>num_mentions</td>\n",
       "      <td>0.064746</td>\n",
       "    </tr>\n",
       "    <tr>\n",
       "      <th>28</th>\n",
       "      <td>19</td>\n",
       "      <td>0.063557</td>\n",
       "    </tr>\n",
       "    <tr>\n",
       "      <th>10</th>\n",
       "      <td>1</td>\n",
       "      <td>0.046394</td>\n",
       "    </tr>\n",
       "    <tr>\n",
       "      <th>11</th>\n",
       "      <td>2</td>\n",
       "      <td>0.044406</td>\n",
       "    </tr>\n",
       "    <tr>\n",
       "      <th>22</th>\n",
       "      <td>13</td>\n",
       "      <td>0.043821</td>\n",
       "    </tr>\n",
       "    <tr>\n",
       "      <th>16</th>\n",
       "      <td>7</td>\n",
       "      <td>0.041626</td>\n",
       "    </tr>\n",
       "    <tr>\n",
       "      <th>17</th>\n",
       "      <td>8</td>\n",
       "      <td>0.037597</td>\n",
       "    </tr>\n",
       "    <tr>\n",
       "      <th>23</th>\n",
       "      <td>14</td>\n",
       "      <td>0.028264</td>\n",
       "    </tr>\n",
       "  </tbody>\n",
       "</table>\n",
       "</div>"
      ],
      "text/plain": [
       "        Variable  Importance\n",
       "12             3    0.094558\n",
       "9              0    0.080692\n",
       "8   num_mentions    0.064746\n",
       "28            19    0.063557\n",
       "10             1    0.046394\n",
       "11             2    0.044406\n",
       "22            13    0.043821\n",
       "16             7    0.041626\n",
       "17             8    0.037597\n",
       "23            14    0.028264"
      ]
     },
     "execution_count": 99,
     "metadata": {},
     "output_type": "execute_result"
    }
   ],
   "source": [
    "# Top N importances\n",
    "N = 10\n",
    "importances = gsc_rf.feature_importances_\n",
    "std = np.std([tree.feature_importances_ for tree in gsc_rf.estimators_],\n",
    "             axis=0)\n",
    "\n",
    "# Create a dataframe\n",
    "importances_df = pd.DataFrame({'Variable':X.columns, 'Importance': importances})\n",
    "\n",
    "top_N = importances_df.sort_values(by=['Importance'], ascending=False).head(10)\n",
    "\n",
    "top_N"
   ]
  },
  {
   "cell_type": "code",
   "execution_count": 100,
   "metadata": {},
   "outputs": [
    {
     "data": {
      "image/png": "[encoded data removed]",
      "text/plain": [
       "<Figure size 432x288 with 1 Axes>"
      ]
     },
     "metadata": {},
     "output_type": "display_data"
    }
   ],
   "source": [
    "# Creating a bar plot\n",
    "sns.barplot(y='Variable', x='Importance', data=top_N)\n",
    "# Add labels to your graph\n",
    "plt.xlabel('Feature Importance Score')\n",
    "plt.ylabel('Features')\n",
    "plt.title(\"Visualizing Random Forest Important Features\")\n",
    "plt.show()"
   ]
  },
  {
   "cell_type": "markdown",
   "metadata": {},
   "source": [
    "__Observation__: The components devrived from tweets and num_mentions were the most important features in classififying tweets. "
   ]
  },
  {
   "cell_type": "markdown",
   "metadata": {},
   "source": [
    "### Multi-Layer Preceptron Neural Network"
   ]
  },
  {
   "cell_type": "code",
   "execution_count": 101,
   "metadata": {},
   "outputs": [
    {
     "name": "stdout",
     "output_type": "stream",
     "text": [
      "[0.88927903 0.87687266 0.89349251 0.87195693 0.87775176]\n"
     ]
    }
   ],
   "source": [
    "# Establish and fit the model\n",
    "mlp = MLPClassifier(max_iter=100) \n",
    "\n",
    "# Fit and predict\n",
    "mlp.fit(X_train, y_train)\n",
    "mlp_y_pred = mlp.predict(X_test)\n",
    "\n",
    "# Check for overfitting\n",
    "print(cross_val_score(mlp, X_train, y_train, cv=5))\n",
    "# Default param(hidden_layer_sizes: 100, activation: ‘relu’, solver: adam’, alpha: 0.0001, learning_rate: ‘constant’)"
   ]
  },
  {
   "cell_type": "code",
   "execution_count": 102,
   "metadata": {},
   "outputs": [
    {
     "name": "stdout",
     "output_type": "stream",
     "text": [
      "ROC_AUC: 87.39%\n",
      "Accuracy: 87.64%\n",
      "Recall: 89.64%\n",
      "Precision: 88.34%\n",
      "[[3456  603]\n",
      " [ 528 4567]]\n"
     ]
    }
   ],
   "source": [
    "# Calculate metrics\n",
    "mlp_roc_auc = roc_auc_score(y_test, mlp_y_pred)\n",
    "mlp_accuracy = accuracy_score(y_test, mlp_y_pred)\n",
    "mlp_recall = recall_score(y_test, mlp_y_pred)\n",
    "mlp_precision = precision_score(y_test, mlp_y_pred)\n",
    "\n",
    "# Print metrics\n",
    "print(\"ROC_AUC: %.2f%%\" % (mlp_roc_auc * 100.0))\n",
    "print(\"Accuracy: %.2f%%\" % (mlp_accuracy * 100.0))\n",
    "print('Recall: %.2f%%' % (mlp_recall * 100.0))\n",
    "print('Precision: %.2f%%' % (mlp_precision * 100.0))\n",
    "print(confusion_matrix(y_test, mlp_y_pred))"
   ]
  },
  {
   "cell_type": "code",
   "execution_count": 104,
   "metadata": {},
   "outputs": [
    {
     "name": "stdout",
     "output_type": "stream",
     "text": [
      "{'activation': 'tanh', 'hidden_layer_sizes': (50, 50, 50)} 0.9759338021335352\n"
     ]
    },
    {
     "name": "stderr",
     "output_type": "stream",
     "text": [
      "/Users/tsawaengsri/anaconda3/lib/python3.6/site-packages/sklearn/neural_network/multilayer_perceptron.py:562: ConvergenceWarning: Stochastic Optimizer: Maximum iterations (100) reached and the optimization hasn't converged yet.\n",
      "  % self.max_iter, ConvergenceWarning)\n"
     ]
    }
   ],
   "source": [
    "parameters = {\n",
    "    'hidden_layer_sizes': [(50,50,50), (50,100,50), (100,)],\n",
    "    'activation': ['tanh', 'relu'],\n",
    "}\n",
    "\n",
    "gsc_mlp = GridSearchCV(mlp, parameters, cv=5, n_jobs=-1, scoring='roc_auc')\n",
    "gsc_mlp.fit(X_train, y_train)\n",
    "print(gsc_mlp.best_params_, gsc_mlp.best_score_)\n",
    "\n",
    "# {'activation': 'tanh', 'hidden_layer_sizes': (50, 50, 50)} 0.9759338021335352"
   ]
  },
  {
   "cell_type": "markdown",
   "metadata": {},
   "source": [
    "### Optimized MLP"
   ]
  },
  {
   "cell_type": "code",
   "execution_count": 105,
   "metadata": {},
   "outputs": [
    {
     "name": "stderr",
     "output_type": "stream",
     "text": [
      "/Users/tsawaengsri/anaconda3/lib/python3.6/site-packages/sklearn/neural_network/multilayer_perceptron.py:562: ConvergenceWarning: Stochastic Optimizer: Maximum iterations (100) reached and the optimization hasn't converged yet.\n",
      "  % self.max_iter, ConvergenceWarning)\n"
     ]
    }
   ],
   "source": [
    "# Establish and fit the model\n",
    "gsc_mlp = MLPClassifier(max_iter=100, activation='tanh', hidden_layer_sizes=(50, 50, 50)) \n",
    "gsc_mlp.fit(X_train, y_train)\n",
    "gsc_mlp_y_pred = gsc_mlp.predict(X_test)"
   ]
  },
  {
   "cell_type": "code",
   "execution_count": 107,
   "metadata": {},
   "outputs": [
    {
     "name": "stdout",
     "output_type": "stream",
     "text": [
      "ROC_AUC: 95.07%\n",
      "Accuracy: 94.77%\n",
      "Recall: 92.38%\n",
      "Precision: 98.10%\n",
      "[[3968   91]\n",
      " [ 388 4707]]\n"
     ]
    }
   ],
   "source": [
    "# Calculate metrics\n",
    "gsc_mlp_roc_auc = roc_auc_score(y_test, gsc_mlp_y_pred)\n",
    "gsc_mlp_accuracy = accuracy_score(y_test, gsc_mlp_y_pred)\n",
    "gsc_mlp_recall = recall_score(y_test, gsc_mlp_y_pred)\n",
    "gsc_mlp_precision = precision_score(y_test, gsc_mlp_y_pred)\n",
    "\n",
    "# Print metrics\n",
    "print(\"ROC_AUC: %.2f%%\" % (gsc_mlp_roc_auc * 100.0))\n",
    "print(\"Accuracy: %.2f%%\" % (gsc_mlp_accuracy * 100.0))\n",
    "print('Recall: %.2f%%' % (gsc_mlp_recall * 100.0))\n",
    "print('Precision: %.2f%%' % (gsc_mlp_precision * 100.0))\n",
    "print(confusion_matrix(y_test, gsc_mlp_y_pred))"
   ]
  },
  {
   "cell_type": "code",
   "execution_count": 108,
   "metadata": {},
   "outputs": [
    {
     "data": {
      "image/png": "[encoded data removed]",
      "text/plain": [
       "<Figure size 432x288 with 1 Axes>"
      ]
     },
     "metadata": {},
     "output_type": "display_data"
    }
   ],
   "source": [
    "# Function to plot ROC curve \n",
    "roc_curve(gsc_mlp, X_train, y_train, X_test, y_test)"
   ]
  },
  {
   "cell_type": "markdown",
   "metadata": {},
   "source": [
    "__Evaluation__: The optimized MLP is comparable to the random forest model. This model was better at identifying genuine tweets than bot tweets with a precision score of 98.10% and recall of 92.38%. With further hyperparamater tuning, the MLP might be able to reach accuracy of 99%. "
   ]
  },
  {
   "cell_type": "markdown",
   "metadata": {},
   "source": [
    "## Supervised Learning Conclusion "
   ]
  },
  {
   "cell_type": "code",
   "execution_count": 110,
   "metadata": {},
   "outputs": [
    {
     "data": {
      "text/html": [
       "<div>\n",
       "<style scoped>\n",
       "    .dataframe tbody tr th:only-of-type {\n",
       "        vertical-align: middle;\n",
       "    }\n",
       "\n",
       "    .dataframe tbody tr th {\n",
       "        vertical-align: top;\n",
       "    }\n",
       "\n",
       "    .dataframe thead th {\n",
       "        text-align: right;\n",
       "    }\n",
       "</style>\n",
       "<table border=\"1\" class=\"dataframe\">\n",
       "  <thead>\n",
       "    <tr style=\"text-align: right;\">\n",
       "      <th></th>\n",
       "      <th>Model</th>\n",
       "      <th>ROC_AUC</th>\n",
       "      <th>Accuracy</th>\n",
       "      <th>Recall</th>\n",
       "      <th>Precision</th>\n",
       "    </tr>\n",
       "  </thead>\n",
       "  <tbody>\n",
       "    <tr>\n",
       "      <th>1</th>\n",
       "      <td>Random Forest</td>\n",
       "      <td>0.996148</td>\n",
       "      <td>0.995740</td>\n",
       "      <td>0.992542</td>\n",
       "      <td>0.999802</td>\n",
       "    </tr>\n",
       "    <tr>\n",
       "      <th>2</th>\n",
       "      <td>Multi-Layer Preceptron Neural Network</td>\n",
       "      <td>0.950714</td>\n",
       "      <td>0.947673</td>\n",
       "      <td>0.923847</td>\n",
       "      <td>0.981034</td>\n",
       "    </tr>\n",
       "    <tr>\n",
       "      <th>0</th>\n",
       "      <td>Logistic Regression</td>\n",
       "      <td>0.699621</td>\n",
       "      <td>0.711492</td>\n",
       "      <td>0.804514</td>\n",
       "      <td>0.713614</td>\n",
       "    </tr>\n",
       "  </tbody>\n",
       "</table>\n",
       "</div>"
      ],
      "text/plain": [
       "                                   Model   ROC_AUC  Accuracy    Recall  \\\n",
       "1                          Random Forest  0.996148  0.995740  0.992542   \n",
       "2  Multi-Layer Preceptron Neural Network  0.950714  0.947673  0.923847   \n",
       "0                    Logistic Regression  0.699621  0.711492  0.804514   \n",
       "\n",
       "   Precision  \n",
       "1   0.999802  \n",
       "2   0.981034  \n",
       "0   0.713614  "
      ]
     },
     "execution_count": 110,
     "metadata": {},
     "output_type": "execute_result"
    }
   ],
   "source": [
    "# Dataframe to hold the results\n",
    "model_comparison = pd.DataFrame({'Model': ['Logistic Regression', 'Random Forest',\n",
    "                                           'Multi-Layer Preceptron Neural Network'],\n",
    "                                 'ROC_AUC': [gsc_lr_roc_auc, gsc_rf_roc_auc, gsc_mlp_roc_auc],\n",
    "                                'Accuracy': [gsc_lr_accuracy, gsc_rf_accuracy, gsc_mlp_accuracy],\n",
    "                                'Recall': [gsc_lr_recall, gsc_rf_recall, gsc_mlp_recall],\n",
    "                                'Precision': [gsc_lr_precision, gsc_rf_precision, gsc_mlp_precision]})\n",
    "\n",
    "# Horizontal bar chart of \n",
    "model_comparison.sort_values('ROC_AUC', ascending = False)"
   ]
  },
  {
   "cell_type": "markdown",
   "metadata": {},
   "source": [
    "#### Which model performed best?\n",
    "As we can see, random forest and mlp were the top models across all metrics. However, the average scores of the random forest model remained within 99% for all metrics while mlp scores ranged from 92% to 98%."
   ]
  },
  {
   "cell_type": "markdown",
   "metadata": {},
   "source": [
    "# Unsupervised Learning "
   ]
  },
  {
   "cell_type": "markdown",
   "metadata": {},
   "source": [
    "## Reduce dimensions for clustering\n",
    "\n",
    "### TSNE"
   ]
  },
  {
   "cell_type": "code",
   "execution_count": null,
   "metadata": {},
   "outputs": [],
   "source": []
  },
  {
   "cell_type": "markdown",
   "metadata": {},
   "source": [
    "### K-means clustering"
   ]
  },
  {
   "cell_type": "code",
   "execution_count": null,
   "metadata": {},
   "outputs": [],
   "source": [
    "from sklearn.preprocessing import normalize\n",
    "# We are limiting our feature space to 2 components here. \n",
    "#  This makes it easier to graph and see the clusters.\n",
    "svd= TruncatedSVD(2)\n",
    "\n",
    "# Normalize the data.\n",
    "X_norm = normalize(X)\n",
    "\n",
    "# Reduce it to two components.\n",
    "X_svd = svd.fit_transform(X_norm)\n",
    "\n",
    "# Calculate predicted values.\n",
    "y_pred = KMeans(n_clusters=2, random_state=42).fit_predict(X_svd)\n",
    "\n",
    "# Plot the solution.\n",
    "plt.scatter(X_svd[:, 0], X_svd[:, 1], c=y_pred)\n",
    "plt.show()\n",
    "\n",
    "# Check the solution against the data.\n",
    "print('Comparing k-means clusters against the data:')\n",
    "print(pd.crosstab(y_pred, y))"
   ]
  },
  {
   "cell_type": "markdown",
   "metadata": {},
   "source": [
    "## Mean-shift Clustering"
   ]
  },
  {
   "cell_type": "code",
   "execution_count": null,
   "metadata": {},
   "outputs": [],
   "source": [
    "# Here we set the bandwidth. This function automatically derives a bandwidth\n",
    "# number based on an inspection of the distances among points in the data.\n",
    "bandwidth = estimate_bandwidth(X_svd, quantile=0.2, n_samples=500)\n",
    "\n",
    "# Declare and fit the model.\n",
    "ms = MeanShift(bandwidth=bandwidth, bin_seeding=True)\n",
    "ms.fit(X_svd)\n",
    "\n",
    "# Extract cluster assignments for each data point.\n",
    "labels = ms.labels_\n",
    "\n",
    "# Coordinates of the cluster centers.\n",
    "cluster_centers = ms.cluster_centers_\n",
    "\n",
    "# Count our clusters.\n",
    "n_clusters_ = len(np.unique(labels))\n",
    "\n",
    "print(\"Number of estimated clusters: {}\".format(n_clusters_))"
   ]
  },
  {
   "cell_type": "code",
   "execution_count": null,
   "metadata": {},
   "outputs": [],
   "source": [
    "plt.scatter(X_norm[:, 0], X_norm[:, 1], c=labels)\n",
    "plt.show()\n",
    "\n",
    "print('Comparing the assigned categories to the ones in the data:')\n",
    "print(pd.crosstab(y,labels))"
   ]
  },
  {
   "cell_type": "code",
   "execution_count": null,
   "metadata": {},
   "outputs": [],
   "source": []
  }
 ],
 "metadata": {
  "kernelspec": {
   "display_name": "Python 3",
   "language": "python",
   "name": "python3"
  }
 },
 "nbformat": 4,
 "nbformat_minor": 2
}
