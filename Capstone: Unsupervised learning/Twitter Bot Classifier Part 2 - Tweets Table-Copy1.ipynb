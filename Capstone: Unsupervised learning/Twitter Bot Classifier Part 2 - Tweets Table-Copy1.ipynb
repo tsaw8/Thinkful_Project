{
 "cells": [
  {
   "cell_type": "markdown",
   "metadata": {},
   "source": [
    "# Twitter Bot Classifier Part 2\n",
    "\n",
    "In this series of notebooks, we are using the [Fake Project](https://botometer.iuni.iu.edu/bot-repository/datasets.html) dataset to examine users habits and build a Twitter bot classifier. \n",
    " \n",
    "Previously, we looked into the potential threats that Twitter bot accounts pose. While some are harmless, others aim to manipulate and deceive viewers. We gathered several Twitter files from the Fake Project to assemble a Tweets and Users datasets. Null values have been dropped and tables have been formatted. Now, we will take a closer look into the features by conducting exploratory data analysis. \n",
    "\n",
    "## Tweets Table\n",
    "\n",
    "In this notebook, we will focus on exploring the tweets table. "
   ]
  },
  {
   "cell_type": "code",
   "execution_count": 1,
   "metadata": {},
   "outputs": [],
   "source": [
    "# Numpy and pandas\n",
    "import pandas as pd\n",
    "import numpy as np\n",
    "\n",
    "#Visualization\n",
    "import matplotlib.pyplot as plt\n",
    "import seaborn as sns\n",
    "import matplotlib.patheffects as PathEffects\n",
    "\n",
    "#NLP tools\n",
    "import string\n",
    "import re\n",
    "import nltk\n",
    "from nltk.corpus import stopwords\n",
    "from nltk.stem.wordnet import WordNetLemmatizer\n",
    "\n",
    "# NLP feature selection \n",
    "from sklearn.feature_extraction.text import CountVectorizer\n",
    "from sklearn.feature_extraction.text import TfidfTransformer\n",
    "\n",
    "# Reduce Dimensions\n",
    "from sklearn.decomposition import TruncatedSVD\n",
    "from sklearn.decomposition import PCA\n",
    "\n",
    "# Sklearn data clean\n",
    "from sklearn.preprocessing import MinMaxScaler\n",
    "from sklearn.preprocessing import StandardScaler\n",
    "\n",
    "# Model selection\n",
    "from sklearn.model_selection import train_test_split\n",
    "from sklearn.model_selection import cross_val_score\n",
    "\n",
    "# Logistic Regression\n",
    "from sklearn.linear_model import LogisticRegression\n",
    "\n",
    "# Random Forests \n",
    "from sklearn.ensemble import RandomForestClassifier\n",
    "\n",
    "# Neural Network\n",
    "from sklearn.neural_network import MLPClassifier\n",
    "\n",
    "# Evaluate\n",
    "from sklearn import metrics\n",
    "from sklearn.metrics import precision_score, recall_score, confusion_matrix, roc_auc_score,accuracy_score\n",
    "\n",
    "# Hyperparameter tuning\n",
    "from sklearn.model_selection import GridSearchCV\n",
    "\n",
    "# Reduce Dimension \n",
    "from sklearn.decomposition import TruncatedSVD\n",
    "from sklearn.manifold import TSNE\n",
    "\n",
    "# Clustering \n",
    "from sklearn.cluster import KMeans, MeanShift, estimate_bandwidth, MiniBatchKMeans, DBSCAN\n",
    "from sklearn.preprocessing import normalize\n",
    "from scipy.spatial.distance import cdist\n",
    "from sklearn.metrics import homogeneity_score\n",
    "from sklearn.metrics import silhouette_score\n",
    "\n",
    "# Hierarchy clustering\n",
    "from scipy.cluster.hierarchy import linkage, dendrogram\n",
    "import matplotlib.pyplot as plt\n",
    "\n",
    "# Math \n",
    "import math\n",
    "from scipy.stats import kurtosis, skew\n",
    "\n",
    "# Datetime\n",
    "from datetime import datetime\n",
    "from dateutil import parser\n",
    "import time\n",
    "\n",
    "# Import data\n",
    "import warnings"
   ]
  },
  {
   "cell_type": "code",
   "execution_count": 2,
   "metadata": {},
   "outputs": [],
   "source": [
    "tweets = pd.read_csv('/Users/tsawaengsri/Desktop/Data Science Courses/Datasets/cresci-2017.csv/datasets_full.csv/clean_tweets2')\n",
    "users = pd.read_csv('/Users/tsawaengsri/Desktop/Data Science Courses/Datasets/cresci-2017.csv/datasets_full.csv/clean_users2')"
   ]
  },
  {
   "cell_type": "code",
   "execution_count": 3,
   "metadata": {},
   "outputs": [
    {
     "name": "stdout",
     "output_type": "stream",
     "text": [
      "<class 'pandas.core.frame.DataFrame'>\n",
      "RangeIndex: 6283436 entries, 0 to 6283435\n",
      "Data columns (total 18 columns):\n",
      "id                       int64\n",
      "text                     object\n",
      "source                   object\n",
      "user_id                  int64\n",
      "in_reply_to_status_id    int64\n",
      "in_reply_to_user_id      int64\n",
      "retweeted_status_id      int64\n",
      "retweet_count            int64\n",
      "reply_count              int64\n",
      "favorite_count           int64\n",
      "num_hashtags             int64\n",
      "num_urls                 int64\n",
      "num_mentions             int64\n",
      "created_at               object\n",
      "timestamp                object\n",
      "crawled_at               object\n",
      "updated                  object\n",
      "class                    int64\n",
      "dtypes: int64(12), object(6)\n",
      "memory usage: 862.9+ MB\n"
     ]
    }
   ],
   "source": [
    "tweets.info()"
   ]
  },
  {
   "cell_type": "code",
   "execution_count": 4,
   "metadata": {},
   "outputs": [
    {
     "name": "stdout",
     "output_type": "stream",
     "text": [
      "<class 'pandas.core.frame.DataFrame'>\n",
      "RangeIndex: 7989 entries, 0 to 7988\n",
      "Data columns (total 24 columns):\n",
      "id                                    7989 non-null int64\n",
      "name                                  7989 non-null object\n",
      "screen_name                           7989 non-null object\n",
      "statuses_count                        7989 non-null int64\n",
      "followers_count                       7989 non-null int64\n",
      "friends_count                         7989 non-null int64\n",
      "favourites_count                      7989 non-null int64\n",
      "listed_count                          7989 non-null int64\n",
      "lang                                  7989 non-null object\n",
      "profile_image_url                     7989 non-null object\n",
      "profile_use_background_image          7989 non-null int64\n",
      "profile_background_image_url_https    7989 non-null object\n",
      "profile_text_color                    7989 non-null object\n",
      "profile_image_url_https               7989 non-null object\n",
      "profile_sidebar_border_color          7989 non-null object\n",
      "profile_sidebar_fill_color            7989 non-null object\n",
      "profile_background_image_url          7989 non-null object\n",
      "profile_background_color              7989 non-null object\n",
      "profile_link_color                    7989 non-null object\n",
      "created_at                            7989 non-null object\n",
      "timestamp                             7989 non-null object\n",
      "crawled_at                            7989 non-null object\n",
      "updated                               7989 non-null object\n",
      "class                                 7989 non-null int64\n",
      "dtypes: int64(8), object(16)\n",
      "memory usage: 1.5+ MB\n"
     ]
    }
   ],
   "source": [
    "users.info()"
   ]
  },
  {
   "cell_type": "markdown",
   "metadata": {},
   "source": [
    "### Convert time variables to datetime \n",
    "It doesn't appear that time variables such as timestamp or created_at were saved as datetime. We will convert them to their respective data type. "
   ]
  },
  {
   "cell_type": "code",
   "execution_count": 5,
   "metadata": {},
   "outputs": [],
   "source": [
    "# Convert the time columns to np.datetime object\n",
    "tweets['timestamp'] = pd.to_datetime(tweets['timestamp'])"
   ]
  },
  {
   "cell_type": "code",
   "execution_count": 6,
   "metadata": {},
   "outputs": [],
   "source": [
    "tweets['created_at'] = pd.to_datetime(tweets['created_at'])"
   ]
  },
  {
   "cell_type": "code",
   "execution_count": 7,
   "metadata": {},
   "outputs": [],
   "source": [
    "tweets['crawled_at'] = pd.to_datetime(tweets['crawled_at'])"
   ]
  },
  {
   "cell_type": "code",
   "execution_count": 8,
   "metadata": {},
   "outputs": [],
   "source": [
    "tweets['updated'] = pd.to_datetime(tweets['updated'])"
   ]
  },
  {
   "cell_type": "code",
   "execution_count": 9,
   "metadata": {},
   "outputs": [],
   "source": [
    "# Convert the created_at column to np.datetime object\n",
    "users['timestamp'] = pd.to_datetime(users['timestamp'])"
   ]
  },
  {
   "cell_type": "code",
   "execution_count": 10,
   "metadata": {},
   "outputs": [],
   "source": [
    "users['created_at'] = pd.to_datetime(users['created_at'])"
   ]
  },
  {
   "cell_type": "code",
   "execution_count": 11,
   "metadata": {},
   "outputs": [],
   "source": [
    "users['crawled_at'] = pd.to_datetime(users['crawled_at'])"
   ]
  },
  {
   "cell_type": "code",
   "execution_count": 12,
   "metadata": {},
   "outputs": [],
   "source": [
    "users['updated'] = pd.to_datetime(users['updated'])"
   ]
  },
  {
   "cell_type": "code",
   "execution_count": 13,
   "metadata": {},
   "outputs": [
    {
     "name": "stdout",
     "output_type": "stream",
     "text": [
      "<class 'pandas.core.frame.DataFrame'>\n",
      "RangeIndex: 6283436 entries, 0 to 6283435\n",
      "Data columns (total 18 columns):\n",
      "id                       int64\n",
      "text                     object\n",
      "source                   object\n",
      "user_id                  int64\n",
      "in_reply_to_status_id    int64\n",
      "in_reply_to_user_id      int64\n",
      "retweeted_status_id      int64\n",
      "retweet_count            int64\n",
      "reply_count              int64\n",
      "favorite_count           int64\n",
      "num_hashtags             int64\n",
      "num_urls                 int64\n",
      "num_mentions             int64\n",
      "created_at               datetime64[ns, UTC]\n",
      "timestamp                datetime64[ns]\n",
      "crawled_at               datetime64[ns]\n",
      "updated                  datetime64[ns]\n",
      "class                    int64\n",
      "dtypes: datetime64[ns, UTC](1), datetime64[ns](3), int64(12), object(2)\n",
      "memory usage: 862.9+ MB\n"
     ]
    }
   ],
   "source": [
    "tweets.info()"
   ]
  },
  {
   "cell_type": "code",
   "execution_count": 14,
   "metadata": {},
   "outputs": [
    {
     "name": "stdout",
     "output_type": "stream",
     "text": [
      "<class 'pandas.core.frame.DataFrame'>\n",
      "RangeIndex: 7989 entries, 0 to 7988\n",
      "Data columns (total 24 columns):\n",
      "id                                    7989 non-null int64\n",
      "name                                  7989 non-null object\n",
      "screen_name                           7989 non-null object\n",
      "statuses_count                        7989 non-null int64\n",
      "followers_count                       7989 non-null int64\n",
      "friends_count                         7989 non-null int64\n",
      "favourites_count                      7989 non-null int64\n",
      "listed_count                          7989 non-null int64\n",
      "lang                                  7989 non-null object\n",
      "profile_image_url                     7989 non-null object\n",
      "profile_use_background_image          7989 non-null int64\n",
      "profile_background_image_url_https    7989 non-null object\n",
      "profile_text_color                    7989 non-null object\n",
      "profile_image_url_https               7989 non-null object\n",
      "profile_sidebar_border_color          7989 non-null object\n",
      "profile_sidebar_fill_color            7989 non-null object\n",
      "profile_background_image_url          7989 non-null object\n",
      "profile_background_color              7989 non-null object\n",
      "profile_link_color                    7989 non-null object\n",
      "created_at                            7989 non-null datetime64[ns, UTC]\n",
      "timestamp                             7989 non-null datetime64[ns]\n",
      "crawled_at                            7989 non-null datetime64[ns]\n",
      "updated                               7989 non-null datetime64[ns]\n",
      "class                                 7989 non-null int64\n",
      "dtypes: datetime64[ns, UTC](1), datetime64[ns](3), int64(8), object(12)\n",
      "memory usage: 1.5+ MB\n"
     ]
    }
   ],
   "source": [
    "users.info()"
   ]
  },
  {
   "cell_type": "code",
   "execution_count": 15,
   "metadata": {},
   "outputs": [
    {
     "data": {
      "text/html": [
       "<div>\n",
       "<style scoped>\n",
       "    .dataframe tbody tr th:only-of-type {\n",
       "        vertical-align: middle;\n",
       "    }\n",
       "\n",
       "    .dataframe tbody tr th {\n",
       "        vertical-align: top;\n",
       "    }\n",
       "\n",
       "    .dataframe thead th {\n",
       "        text-align: right;\n",
       "    }\n",
       "</style>\n",
       "<table border=\"1\" class=\"dataframe\">\n",
       "  <thead>\n",
       "    <tr style=\"text-align: right;\">\n",
       "      <th></th>\n",
       "      <th>id</th>\n",
       "      <th>text</th>\n",
       "      <th>source</th>\n",
       "      <th>user_id</th>\n",
       "      <th>in_reply_to_status_id</th>\n",
       "      <th>in_reply_to_user_id</th>\n",
       "      <th>retweeted_status_id</th>\n",
       "      <th>retweet_count</th>\n",
       "      <th>reply_count</th>\n",
       "      <th>favorite_count</th>\n",
       "      <th>num_hashtags</th>\n",
       "      <th>num_urls</th>\n",
       "      <th>num_mentions</th>\n",
       "      <th>created_at</th>\n",
       "      <th>timestamp</th>\n",
       "      <th>crawled_at</th>\n",
       "      <th>updated</th>\n",
       "      <th>class</th>\n",
       "    </tr>\n",
       "  </thead>\n",
       "  <tbody>\n",
       "    <tr>\n",
       "      <th>0</th>\n",
       "      <td>515447020405137408</td>\n",
       "      <td>\"Il mare d'inverno è un concetto che il pensie...</td>\n",
       "      <td>&lt;a href=\"http://www.Matildadr89.com\" rel=\"nofo...</td>\n",
       "      <td>237359828</td>\n",
       "      <td>0</td>\n",
       "      <td>0</td>\n",
       "      <td>0</td>\n",
       "      <td>0</td>\n",
       "      <td>0</td>\n",
       "      <td>0</td>\n",
       "      <td>0</td>\n",
       "      <td>0</td>\n",
       "      <td>0</td>\n",
       "      <td>2014-09-26 10:25:20+00:00</td>\n",
       "      <td>2014-09-26 12:25:20</td>\n",
       "      <td>2014-11-13 01:35:24</td>\n",
       "      <td>2014-11-13 01:35:24</td>\n",
       "      <td>1</td>\n",
       "    </tr>\n",
       "    <tr>\n",
       "      <th>1</th>\n",
       "      <td>513551196226093057</td>\n",
       "      <td>Read the History of Corona Beer  http://t.co/Z...</td>\n",
       "      <td>&lt;a href=\"http://tweetadder.com\" rel=\"nofollow\"...</td>\n",
       "      <td>215693377</td>\n",
       "      <td>0</td>\n",
       "      <td>0</td>\n",
       "      <td>0</td>\n",
       "      <td>0</td>\n",
       "      <td>0</td>\n",
       "      <td>0</td>\n",
       "      <td>0</td>\n",
       "      <td>1</td>\n",
       "      <td>0</td>\n",
       "      <td>2014-09-21 04:52:01+00:00</td>\n",
       "      <td>2014-09-21 06:52:01</td>\n",
       "      <td>2014-11-12 23:35:05</td>\n",
       "      <td>2014-11-12 23:35:05</td>\n",
       "      <td>1</td>\n",
       "    </tr>\n",
       "    <tr>\n",
       "      <th>2</th>\n",
       "      <td>579534763872149504</td>\n",
       "      <td>After that it would of been up to the person i...</td>\n",
       "      <td>&lt;a href=\"http://twitter.com/download/iphone\" r...</td>\n",
       "      <td>164284493</td>\n",
       "      <td>0</td>\n",
       "      <td>0</td>\n",
       "      <td>0</td>\n",
       "      <td>0</td>\n",
       "      <td>0</td>\n",
       "      <td>0</td>\n",
       "      <td>0</td>\n",
       "      <td>0</td>\n",
       "      <td>0</td>\n",
       "      <td>2015-03-22 06:47:09+00:00</td>\n",
       "      <td>2015-03-22 07:47:09</td>\n",
       "      <td>2015-05-01 13:21:46</td>\n",
       "      <td>2015-05-01 13:21:46</td>\n",
       "      <td>0</td>\n",
       "    </tr>\n",
       "    <tr>\n",
       "      <th>3</th>\n",
       "      <td>449751137970028544</td>\n",
       "      <td>RT @kcivey: @marionbarryjr I'm for public fina...</td>\n",
       "      <td>&lt;a href=\"http://twitter.com/download/iphone\" r...</td>\n",
       "      <td>225683965</td>\n",
       "      <td>0</td>\n",
       "      <td>0</td>\n",
       "      <td>449735142085779456</td>\n",
       "      <td>1</td>\n",
       "      <td>0</td>\n",
       "      <td>0</td>\n",
       "      <td>0</td>\n",
       "      <td>0</td>\n",
       "      <td>2</td>\n",
       "      <td>2014-03-29 03:33:21+00:00</td>\n",
       "      <td>2014-03-29 04:33:21</td>\n",
       "      <td>2015-05-01 15:58:20</td>\n",
       "      <td>2015-05-01 15:58:20</td>\n",
       "      <td>0</td>\n",
       "    </tr>\n",
       "    <tr>\n",
       "      <th>4</th>\n",
       "      <td>589197488269045760</td>\n",
       "      <td>RT @specuIar: This hit me hard. http://t.co/rY...</td>\n",
       "      <td>&lt;a href=\"http://twitter.com\" rel=\"nofollow\"&gt;Tw...</td>\n",
       "      <td>505440359</td>\n",
       "      <td>0</td>\n",
       "      <td>0</td>\n",
       "      <td>589196377353097216</td>\n",
       "      <td>1300</td>\n",
       "      <td>0</td>\n",
       "      <td>0</td>\n",
       "      <td>0</td>\n",
       "      <td>0</td>\n",
       "      <td>1</td>\n",
       "      <td>2015-04-17 22:43:22+00:00</td>\n",
       "      <td>2015-04-18 00:43:22</td>\n",
       "      <td>2015-05-01 13:21:33</td>\n",
       "      <td>2015-05-01 13:21:33</td>\n",
       "      <td>0</td>\n",
       "    </tr>\n",
       "  </tbody>\n",
       "</table>\n",
       "</div>"
      ],
      "text/plain": [
       "                   id                                               text  \\\n",
       "0  515447020405137408  \"Il mare d'inverno è un concetto che il pensie...   \n",
       "1  513551196226093057  Read the History of Corona Beer  http://t.co/Z...   \n",
       "2  579534763872149504  After that it would of been up to the person i...   \n",
       "3  449751137970028544  RT @kcivey: @marionbarryjr I'm for public fina...   \n",
       "4  589197488269045760  RT @specuIar: This hit me hard. http://t.co/rY...   \n",
       "\n",
       "                                              source    user_id  \\\n",
       "0  <a href=\"http://www.Matildadr89.com\" rel=\"nofo...  237359828   \n",
       "1  <a href=\"http://tweetadder.com\" rel=\"nofollow\"...  215693377   \n",
       "2  <a href=\"http://twitter.com/download/iphone\" r...  164284493   \n",
       "3  <a href=\"http://twitter.com/download/iphone\" r...  225683965   \n",
       "4  <a href=\"http://twitter.com\" rel=\"nofollow\">Tw...  505440359   \n",
       "\n",
       "   in_reply_to_status_id  in_reply_to_user_id  retweeted_status_id  \\\n",
       "0                      0                    0                    0   \n",
       "1                      0                    0                    0   \n",
       "2                      0                    0                    0   \n",
       "3                      0                    0   449735142085779456   \n",
       "4                      0                    0   589196377353097216   \n",
       "\n",
       "   retweet_count  reply_count  favorite_count  num_hashtags  num_urls  \\\n",
       "0              0            0               0             0         0   \n",
       "1              0            0               0             0         1   \n",
       "2              0            0               0             0         0   \n",
       "3              1            0               0             0         0   \n",
       "4           1300            0               0             0         0   \n",
       "\n",
       "   num_mentions                created_at           timestamp  \\\n",
       "0             0 2014-09-26 10:25:20+00:00 2014-09-26 12:25:20   \n",
       "1             0 2014-09-21 04:52:01+00:00 2014-09-21 06:52:01   \n",
       "2             0 2015-03-22 06:47:09+00:00 2015-03-22 07:47:09   \n",
       "3             2 2014-03-29 03:33:21+00:00 2014-03-29 04:33:21   \n",
       "4             1 2015-04-17 22:43:22+00:00 2015-04-18 00:43:22   \n",
       "\n",
       "           crawled_at             updated  class  \n",
       "0 2014-11-13 01:35:24 2014-11-13 01:35:24      1  \n",
       "1 2014-11-12 23:35:05 2014-11-12 23:35:05      1  \n",
       "2 2015-05-01 13:21:46 2015-05-01 13:21:46      0  \n",
       "3 2015-05-01 15:58:20 2015-05-01 15:58:20      0  \n",
       "4 2015-05-01 13:21:33 2015-05-01 13:21:33      0  "
      ]
     },
     "execution_count": 15,
     "metadata": {},
     "output_type": "execute_result"
    }
   ],
   "source": [
    "tweets.head()"
   ]
  },
  {
   "cell_type": "code",
   "execution_count": 16,
   "metadata": {},
   "outputs": [
    {
     "data": {
      "text/html": [
       "<div>\n",
       "<style scoped>\n",
       "    .dataframe tbody tr th:only-of-type {\n",
       "        vertical-align: middle;\n",
       "    }\n",
       "\n",
       "    .dataframe tbody tr th {\n",
       "        vertical-align: top;\n",
       "    }\n",
       "\n",
       "    .dataframe thead th {\n",
       "        text-align: right;\n",
       "    }\n",
       "</style>\n",
       "<table border=\"1\" class=\"dataframe\">\n",
       "  <thead>\n",
       "    <tr style=\"text-align: right;\">\n",
       "      <th></th>\n",
       "      <th>id</th>\n",
       "      <th>name</th>\n",
       "      <th>screen_name</th>\n",
       "      <th>statuses_count</th>\n",
       "      <th>followers_count</th>\n",
       "      <th>friends_count</th>\n",
       "      <th>favourites_count</th>\n",
       "      <th>listed_count</th>\n",
       "      <th>lang</th>\n",
       "      <th>profile_image_url</th>\n",
       "      <th>...</th>\n",
       "      <th>profile_sidebar_border_color</th>\n",
       "      <th>profile_sidebar_fill_color</th>\n",
       "      <th>profile_background_image_url</th>\n",
       "      <th>profile_background_color</th>\n",
       "      <th>profile_link_color</th>\n",
       "      <th>created_at</th>\n",
       "      <th>timestamp</th>\n",
       "      <th>crawled_at</th>\n",
       "      <th>updated</th>\n",
       "      <th>class</th>\n",
       "    </tr>\n",
       "  </thead>\n",
       "  <tbody>\n",
       "    <tr>\n",
       "      <th>0</th>\n",
       "      <td>2349966440</td>\n",
       "      <td>Joie Ficher</td>\n",
       "      <td>JoieFicher</td>\n",
       "      <td>80</td>\n",
       "      <td>2</td>\n",
       "      <td>42</td>\n",
       "      <td>0</td>\n",
       "      <td>0</td>\n",
       "      <td>en</td>\n",
       "      <td>http://pbs.twimg.com/profile_images/4365494921...</td>\n",
       "      <td>...</td>\n",
       "      <td>FFFFFF</td>\n",
       "      <td>DDEEF6</td>\n",
       "      <td>http://pbs.twimg.com/profile_background_images...</td>\n",
       "      <td>0000FF</td>\n",
       "      <td>0000FF</td>\n",
       "      <td>2014-02-18 11:22:38+00:00</td>\n",
       "      <td>2014-02-18 12:22:38</td>\n",
       "      <td>2014-05-03 00:22:39</td>\n",
       "      <td>2016-03-15 15:20:24</td>\n",
       "      <td>1</td>\n",
       "    </tr>\n",
       "    <tr>\n",
       "      <th>1</th>\n",
       "      <td>343263643</td>\n",
       "      <td>RIP Teveon </td>\n",
       "      <td>youpettihoe_</td>\n",
       "      <td>36513</td>\n",
       "      <td>2166</td>\n",
       "      <td>1627</td>\n",
       "      <td>2977</td>\n",
       "      <td>0</td>\n",
       "      <td>en</td>\n",
       "      <td>http://pbs.twimg.com/profile_images/5594447898...</td>\n",
       "      <td>...</td>\n",
       "      <td>FFFFFF</td>\n",
       "      <td>FFFFFF</td>\n",
       "      <td>http://pbs.twimg.com/profile_background_images...</td>\n",
       "      <td>FFFAFF</td>\n",
       "      <td>0A7A00</td>\n",
       "      <td>2011-07-27 09:01:04+00:00</td>\n",
       "      <td>2011-07-27 11:01:04</td>\n",
       "      <td>2015-05-01 23:18:23</td>\n",
       "      <td>2016-03-15 16:11:13</td>\n",
       "      <td>0</td>\n",
       "    </tr>\n",
       "    <tr>\n",
       "      <th>2</th>\n",
       "      <td>531154412</td>\n",
       "      <td>Bulah Lynne</td>\n",
       "      <td>Lynnevibe</td>\n",
       "      <td>10657</td>\n",
       "      <td>1194</td>\n",
       "      <td>996</td>\n",
       "      <td>1</td>\n",
       "      <td>8</td>\n",
       "      <td>en</td>\n",
       "      <td>http://pbs.twimg.com/profile_images/1914097815...</td>\n",
       "      <td>...</td>\n",
       "      <td>C0DEED</td>\n",
       "      <td>DDEEF6</td>\n",
       "      <td>http://abs.twimg.com/images/themes/theme1/bg.png</td>\n",
       "      <td>C0DEED</td>\n",
       "      <td>0084B4</td>\n",
       "      <td>2012-03-20 11:48:05+00:00</td>\n",
       "      <td>2012-03-20 12:48:05</td>\n",
       "      <td>2014-05-05 23:24:32</td>\n",
       "      <td>2016-03-15 15:40:08</td>\n",
       "      <td>1</td>\n",
       "    </tr>\n",
       "    <tr>\n",
       "      <th>3</th>\n",
       "      <td>2377665366</td>\n",
       "      <td>Katherina Kistle</td>\n",
       "      <td>KatherinaKistle</td>\n",
       "      <td>37</td>\n",
       "      <td>0</td>\n",
       "      <td>38</td>\n",
       "      <td>0</td>\n",
       "      <td>0</td>\n",
       "      <td>en</td>\n",
       "      <td>http://pbs.twimg.com/profile_images/4430041788...</td>\n",
       "      <td>...</td>\n",
       "      <td>FFFFFF</td>\n",
       "      <td>DDEEF6</td>\n",
       "      <td>http://pbs.twimg.com/profile_background_images...</td>\n",
       "      <td>0000FF</td>\n",
       "      <td>0000FF</td>\n",
       "      <td>2014-03-07 21:23:35+00:00</td>\n",
       "      <td>2014-03-07 22:23:35</td>\n",
       "      <td>2014-05-05 00:21:50</td>\n",
       "      <td>2016-03-15 15:16:15</td>\n",
       "      <td>1</td>\n",
       "    </tr>\n",
       "    <tr>\n",
       "      <th>4</th>\n",
       "      <td>3015346510</td>\n",
       "      <td>Lindsay Blessing Fan</td>\n",
       "      <td>lindsayspainfan</td>\n",
       "      <td>96</td>\n",
       "      <td>43</td>\n",
       "      <td>113</td>\n",
       "      <td>425</td>\n",
       "      <td>0</td>\n",
       "      <td>es</td>\n",
       "      <td>http://pbs.twimg.com/profile_images/5631073115...</td>\n",
       "      <td>...</td>\n",
       "      <td>000000</td>\n",
       "      <td>000000</td>\n",
       "      <td>http://pbs.twimg.com/profile_background_images...</td>\n",
       "      <td>000000</td>\n",
       "      <td>9266CC</td>\n",
       "      <td>2015-02-03 20:49:38+00:00</td>\n",
       "      <td>2015-02-03 21:49:38</td>\n",
       "      <td>2015-05-02 01:09:46</td>\n",
       "      <td>2016-03-15 16:07:16</td>\n",
       "      <td>0</td>\n",
       "    </tr>\n",
       "  </tbody>\n",
       "</table>\n",
       "<p>5 rows × 24 columns</p>\n",
       "</div>"
      ],
      "text/plain": [
       "           id                  name      screen_name  statuses_count  \\\n",
       "0  2349966440           Joie Ficher       JoieFicher              80   \n",
       "1   343263643         RIP Teveon      youpettihoe_           36513   \n",
       "2   531154412           Bulah Lynne        Lynnevibe           10657   \n",
       "3  2377665366      Katherina Kistle  KatherinaKistle              37   \n",
       "4  3015346510  Lindsay Blessing Fan  lindsayspainfan              96   \n",
       "\n",
       "   followers_count  friends_count  favourites_count  listed_count lang  \\\n",
       "0                2             42                 0             0   en   \n",
       "1             2166           1627              2977             0   en   \n",
       "2             1194            996                 1             8   en   \n",
       "3                0             38                 0             0   en   \n",
       "4               43            113               425             0   es   \n",
       "\n",
       "                                   profile_image_url  ...  \\\n",
       "0  http://pbs.twimg.com/profile_images/4365494921...  ...   \n",
       "1  http://pbs.twimg.com/profile_images/5594447898...  ...   \n",
       "2  http://pbs.twimg.com/profile_images/1914097815...  ...   \n",
       "3  http://pbs.twimg.com/profile_images/4430041788...  ...   \n",
       "4  http://pbs.twimg.com/profile_images/5631073115...  ...   \n",
       "\n",
       "   profile_sidebar_border_color profile_sidebar_fill_color  \\\n",
       "0                        FFFFFF                     DDEEF6   \n",
       "1                        FFFFFF                     FFFFFF   \n",
       "2                        C0DEED                     DDEEF6   \n",
       "3                        FFFFFF                     DDEEF6   \n",
       "4                        000000                     000000   \n",
       "\n",
       "                        profile_background_image_url profile_background_color  \\\n",
       "0  http://pbs.twimg.com/profile_background_images...                   0000FF   \n",
       "1  http://pbs.twimg.com/profile_background_images...                   FFFAFF   \n",
       "2   http://abs.twimg.com/images/themes/theme1/bg.png                   C0DEED   \n",
       "3  http://pbs.twimg.com/profile_background_images...                   0000FF   \n",
       "4  http://pbs.twimg.com/profile_background_images...                   000000   \n",
       "\n",
       "  profile_link_color                created_at           timestamp  \\\n",
       "0             0000FF 2014-02-18 11:22:38+00:00 2014-02-18 12:22:38   \n",
       "1             0A7A00 2011-07-27 09:01:04+00:00 2011-07-27 11:01:04   \n",
       "2             0084B4 2012-03-20 11:48:05+00:00 2012-03-20 12:48:05   \n",
       "3             0000FF 2014-03-07 21:23:35+00:00 2014-03-07 22:23:35   \n",
       "4             9266CC 2015-02-03 20:49:38+00:00 2015-02-03 21:49:38   \n",
       "\n",
       "           crawled_at             updated class  \n",
       "0 2014-05-03 00:22:39 2016-03-15 15:20:24     1  \n",
       "1 2015-05-01 23:18:23 2016-03-15 16:11:13     0  \n",
       "2 2014-05-05 23:24:32 2016-03-15 15:40:08     1  \n",
       "3 2014-05-05 00:21:50 2016-03-15 15:16:15     1  \n",
       "4 2015-05-02 01:09:46 2016-03-15 16:07:16     0  \n",
       "\n",
       "[5 rows x 24 columns]"
      ]
     },
     "execution_count": 16,
     "metadata": {},
     "output_type": "execute_result"
    }
   ],
   "source": [
    "users.head()"
   ]
  },
  {
   "cell_type": "markdown",
   "metadata": {},
   "source": [
    "# Exploratory Data Analysis\n",
    "We'll start by exploring the Tweets table by keeping a few questions in mind.<br> \n",
    "__How many tweets were made by humans and robots?__ <br>\n",
    "__Which accounts posted the most tweets?__ <br>"
   ]
  },
  {
   "cell_type": "code",
   "execution_count": 17,
   "metadata": {},
   "outputs": [
    {
     "name": "stdout",
     "output_type": "stream",
     "text": [
      "There are 2826718 tweets made by humans(44.987%) and 3456718 tweets made by bots (55.013%) in the tweets table.\n"
     ]
    }
   ],
   "source": [
    "# Bot vs human tweets \n",
    "counts = tweets['class'].value_counts()\n",
    "human = counts[0]\n",
    "bot = counts[1]\n",
    "human_per = (human/(human + bot))*100\n",
    "bot_per = (bot/(human + bot))*100\n",
    "print('There are {} tweets made by humans({:.3f}%) and {} tweets made by bots ({:.3f}%) in the tweets table.'.format(human, human_per, bot, bot_per))"
   ]
  },
  {
   "cell_type": "code",
   "execution_count": 18,
   "metadata": {},
   "outputs": [
    {
     "data": {
      "image/png": "[encoded data removed]",
      "text/plain": [
       "<Figure size 864x432 with 1 Axes>"
      ]
     },
     "metadata": {
      "needs_background": "light"
     },
     "output_type": "display_data"
    }
   ],
   "source": [
    "# Plot target variable\n",
    "plt.figure(figsize=(12,6))\n",
    "g = sns.countplot(x = 'class', data = tweets)\n",
    "g.set_title('Count of Tweets made by Humans vs Bots', fontsize = 17)\n",
    "g.set_xlabel('User Type', fontsize = 15)\n",
    "g.set_ylabel('# Tweets', fontsize = 15)\n",
    "\n",
    "for p in g.patches:\n",
    "    height = p.get_height()\n",
    "    g.text(p.get_x()+p.get_width()/2.,\n",
    "            height + 3,\n",
    "            '{:1.2f}%'.format(height/len(tweets) * 100),\n",
    "            ha=\"center\", fontsize=15) "
   ]
  },
  {
   "cell_type": "markdown",
   "metadata": {},
   "source": [
    "As shown in the bar graph, the data consists of 45% tweets by humans and 55% tweets by robots. The ratio between human to robot tweets are close so we do not have an imbalance problem. \n",
    "\n",
    "#### Let's look at which accounts tweeted the most. "
   ]
  },
  {
   "cell_type": "code",
   "execution_count": 19,
   "metadata": {},
   "outputs": [
    {
     "data": {
      "text/plain": [
       "5995"
      ]
     },
     "execution_count": 19,
     "metadata": {},
     "output_type": "execute_result"
    }
   ],
   "source": [
    "# Number of unique user accounts\n",
    "len(tweets['user_id'].unique().tolist())"
   ]
  },
  {
   "cell_type": "markdown",
   "metadata": {},
   "source": [
    "There are 5,996 unique user accounts in the Tweets table. "
   ]
  },
  {
   "cell_type": "code",
   "execution_count": 20,
   "metadata": {},
   "outputs": [],
   "source": [
    "# Create df for user class\n",
    "bots = tweets.loc[tweets['class']==1]\n",
    "gen = tweets.loc[tweets['class']==0]"
   ]
  },
  {
   "cell_type": "code",
   "execution_count": 21,
   "metadata": {},
   "outputs": [
    {
     "data": {
      "text/plain": [
       "521370115     3258\n",
       "334826952     3250\n",
       "221141363     3250\n",
       "239910996     3250\n",
       "982414274     3250\n",
       "              ... \n",
       "2382422750      66\n",
       "2375328500      64\n",
       "2382743514      63\n",
       "2391867347      43\n",
       "2384976224      38\n",
       "Name: user_id, Length: 4912, dtype: int64"
      ]
     },
     "execution_count": 21,
     "metadata": {},
     "output_type": "execute_result"
    }
   ],
   "source": [
    "# Counts of unique user accounts \n",
    "bots['user_id'].value_counts()"
   ]
  },
  {
   "cell_type": "code",
   "execution_count": 22,
   "metadata": {},
   "outputs": [
    {
     "data": {
      "text/plain": [
       "15044720      3250\n",
       "497404180     3249\n",
       "182211050     3247\n",
       "195076965     3247\n",
       "14626600      3247\n",
       "              ... \n",
       "492728332       24\n",
       "2236789484      15\n",
       "2200425967      14\n",
       "24386710        13\n",
       "514061230        3\n",
       "Name: user_id, Length: 1083, dtype: int64"
      ]
     },
     "execution_count": 22,
     "metadata": {},
     "output_type": "execute_result"
    }
   ],
   "source": [
    "# Counts of unique user accounts \n",
    "gen['user_id'].value_counts()"
   ]
  },
  {
   "cell_type": "markdown",
   "metadata": {},
   "source": [
    "__Observation__: Based on the total count of tweets, the most frequent tweets from both genuine users and robot accounts share similar traits. The top five tweeters in each class has posted over three thousand tweets. "
   ]
  },
  {
   "cell_type": "code",
   "execution_count": 23,
   "metadata": {},
   "outputs": [
    {
     "name": "stdout",
     "output_type": "stream",
     "text": [
      "There are 3083 genuine accounts(38.591%) and 4906 spambot accounts (61.409%) in the users table.\n"
     ]
    }
   ],
   "source": [
    "# Bot vs human tweets \n",
    "counts = users['class'].value_counts()\n",
    "human = counts[0]\n",
    "bot = counts[1]\n",
    "human_per = (human/(human + bot))*100\n",
    "bot_per = (bot/(human + bot))*100\n",
    "print('There are {} genuine accounts({:.3f}%) and {} spambot accounts ({:.3f}%) in the users table.'.format(human, human_per, bot, bot_per))"
   ]
  },
  {
   "cell_type": "code",
   "execution_count": 24,
   "metadata": {},
   "outputs": [
    {
     "data": {
      "image/png": "[encoded data removed]",
      "text/plain": [
       "<Figure size 864x432 with 1 Axes>"
      ]
     },
     "metadata": {
      "needs_background": "light"
     },
     "output_type": "display_data"
    }
   ],
   "source": [
    "# Plot target variable\n",
    "plt.figure(figsize=(12,6))\n",
    "g = sns.countplot(x = 'class', data = users)\n",
    "g.set_title('Number of Accounts', fontsize = 17)\n",
    "g.set_xlabel('User Type', fontsize = 15)\n",
    "g.set_ylabel('# Users', fontsize = 15)\n",
    "\n",
    "for p in g.patches:\n",
    "    height = p.get_height()\n",
    "    g.text(p.get_x()+p.get_width()/2.,\n",
    "            height + 3,\n",
    "            '{:1.2f}%'.format(height/len(users) * 100),\n",
    "            ha=\"center\", fontsize=15) "
   ]
  },
  {
   "cell_type": "code",
   "execution_count": 25,
   "metadata": {},
   "outputs": [
    {
     "data": {
      "text/plain": [
       "7989"
      ]
     },
     "execution_count": 25,
     "metadata": {},
     "output_type": "execute_result"
    }
   ],
   "source": [
    "# Unique User\n",
    "len(users['id'].value_counts())"
   ]
  },
  {
   "cell_type": "code",
   "execution_count": 26,
   "metadata": {},
   "outputs": [
    {
     "data": {
      "text/plain": [
       "5995"
      ]
     },
     "execution_count": 26,
     "metadata": {},
     "output_type": "execute_result"
    }
   ],
   "source": [
    "# Unique User\n",
    "len(tweets['user_id'].value_counts())"
   ]
  },
  {
   "cell_type": "markdown",
   "metadata": {},
   "source": [
    "## Merging Users and Tweets Table"
   ]
  },
  {
   "cell_type": "code",
   "execution_count": 27,
   "metadata": {},
   "outputs": [],
   "source": [
    "users.rename(columns ={'id': 'user_id'}, inplace =True)\n",
    "df_full = pd.merge(users, tweets,  how='inner', on=['user_id'] )"
   ]
  },
  {
   "cell_type": "code",
   "execution_count": 28,
   "metadata": {},
   "outputs": [
    {
     "data": {
      "text/html": [
       "<div>\n",
       "<style scoped>\n",
       "    .dataframe tbody tr th:only-of-type {\n",
       "        vertical-align: middle;\n",
       "    }\n",
       "\n",
       "    .dataframe tbody tr th {\n",
       "        vertical-align: top;\n",
       "    }\n",
       "\n",
       "    .dataframe thead th {\n",
       "        text-align: right;\n",
       "    }\n",
       "</style>\n",
       "<table border=\"1\" class=\"dataframe\">\n",
       "  <thead>\n",
       "    <tr style=\"text-align: right;\">\n",
       "      <th></th>\n",
       "      <th>user_id</th>\n",
       "      <th>name</th>\n",
       "      <th>screen_name</th>\n",
       "      <th>statuses_count</th>\n",
       "      <th>followers_count</th>\n",
       "      <th>friends_count</th>\n",
       "      <th>favourites_count</th>\n",
       "      <th>listed_count</th>\n",
       "      <th>lang</th>\n",
       "      <th>profile_image_url</th>\n",
       "      <th>...</th>\n",
       "      <th>reply_count</th>\n",
       "      <th>favorite_count</th>\n",
       "      <th>num_hashtags</th>\n",
       "      <th>num_urls</th>\n",
       "      <th>num_mentions</th>\n",
       "      <th>created_at_y</th>\n",
       "      <th>timestamp_y</th>\n",
       "      <th>crawled_at_y</th>\n",
       "      <th>updated_y</th>\n",
       "      <th>class_y</th>\n",
       "    </tr>\n",
       "  </thead>\n",
       "  <tbody>\n",
       "    <tr>\n",
       "      <th>0</th>\n",
       "      <td>2349966440</td>\n",
       "      <td>Joie Ficher</td>\n",
       "      <td>JoieFicher</td>\n",
       "      <td>80</td>\n",
       "      <td>2</td>\n",
       "      <td>42</td>\n",
       "      <td>0</td>\n",
       "      <td>0</td>\n",
       "      <td>en</td>\n",
       "      <td>http://pbs.twimg.com/profile_images/4365494921...</td>\n",
       "      <td>...</td>\n",
       "      <td>0</td>\n",
       "      <td>0</td>\n",
       "      <td>0</td>\n",
       "      <td>0</td>\n",
       "      <td>0</td>\n",
       "      <td>2014-04-26 18:56:00+00:00</td>\n",
       "      <td>2014-04-26 20:56:00</td>\n",
       "      <td>2014-11-13 01:44:20</td>\n",
       "      <td>2014-11-13 01:44:20</td>\n",
       "      <td>1</td>\n",
       "    </tr>\n",
       "    <tr>\n",
       "      <th>1</th>\n",
       "      <td>2349966440</td>\n",
       "      <td>Joie Ficher</td>\n",
       "      <td>JoieFicher</td>\n",
       "      <td>80</td>\n",
       "      <td>2</td>\n",
       "      <td>42</td>\n",
       "      <td>0</td>\n",
       "      <td>0</td>\n",
       "      <td>en</td>\n",
       "      <td>http://pbs.twimg.com/profile_images/4365494921...</td>\n",
       "      <td>...</td>\n",
       "      <td>0</td>\n",
       "      <td>0</td>\n",
       "      <td>0</td>\n",
       "      <td>0</td>\n",
       "      <td>0</td>\n",
       "      <td>2014-04-29 02:19:20+00:00</td>\n",
       "      <td>2014-04-29 04:19:20</td>\n",
       "      <td>2014-11-13 01:44:20</td>\n",
       "      <td>2014-11-13 01:44:20</td>\n",
       "      <td>1</td>\n",
       "    </tr>\n",
       "    <tr>\n",
       "      <th>2</th>\n",
       "      <td>2349966440</td>\n",
       "      <td>Joie Ficher</td>\n",
       "      <td>JoieFicher</td>\n",
       "      <td>80</td>\n",
       "      <td>2</td>\n",
       "      <td>42</td>\n",
       "      <td>0</td>\n",
       "      <td>0</td>\n",
       "      <td>en</td>\n",
       "      <td>http://pbs.twimg.com/profile_images/4365494921...</td>\n",
       "      <td>...</td>\n",
       "      <td>0</td>\n",
       "      <td>0</td>\n",
       "      <td>0</td>\n",
       "      <td>0</td>\n",
       "      <td>1</td>\n",
       "      <td>2014-06-20 21:48:08+00:00</td>\n",
       "      <td>2014-06-20 23:48:08</td>\n",
       "      <td>2014-11-13 01:44:20</td>\n",
       "      <td>2014-11-13 01:44:20</td>\n",
       "      <td>1</td>\n",
       "    </tr>\n",
       "    <tr>\n",
       "      <th>3</th>\n",
       "      <td>2349966440</td>\n",
       "      <td>Joie Ficher</td>\n",
       "      <td>JoieFicher</td>\n",
       "      <td>80</td>\n",
       "      <td>2</td>\n",
       "      <td>42</td>\n",
       "      <td>0</td>\n",
       "      <td>0</td>\n",
       "      <td>en</td>\n",
       "      <td>http://pbs.twimg.com/profile_images/4365494921...</td>\n",
       "      <td>...</td>\n",
       "      <td>0</td>\n",
       "      <td>0</td>\n",
       "      <td>0</td>\n",
       "      <td>0</td>\n",
       "      <td>0</td>\n",
       "      <td>2014-04-29 02:18:48+00:00</td>\n",
       "      <td>2014-04-29 04:18:48</td>\n",
       "      <td>2014-11-13 01:44:20</td>\n",
       "      <td>2014-11-13 01:44:20</td>\n",
       "      <td>1</td>\n",
       "    </tr>\n",
       "    <tr>\n",
       "      <th>4</th>\n",
       "      <td>2349966440</td>\n",
       "      <td>Joie Ficher</td>\n",
       "      <td>JoieFicher</td>\n",
       "      <td>80</td>\n",
       "      <td>2</td>\n",
       "      <td>42</td>\n",
       "      <td>0</td>\n",
       "      <td>0</td>\n",
       "      <td>en</td>\n",
       "      <td>http://pbs.twimg.com/profile_images/4365494921...</td>\n",
       "      <td>...</td>\n",
       "      <td>0</td>\n",
       "      <td>0</td>\n",
       "      <td>0</td>\n",
       "      <td>0</td>\n",
       "      <td>0</td>\n",
       "      <td>2014-04-28 18:37:26+00:00</td>\n",
       "      <td>2014-04-28 20:37:26</td>\n",
       "      <td>2014-11-13 01:44:20</td>\n",
       "      <td>2014-11-13 01:44:20</td>\n",
       "      <td>1</td>\n",
       "    </tr>\n",
       "  </tbody>\n",
       "</table>\n",
       "<p>5 rows × 41 columns</p>\n",
       "</div>"
      ],
      "text/plain": [
       "      user_id         name screen_name  statuses_count  followers_count  \\\n",
       "0  2349966440  Joie Ficher  JoieFicher              80                2   \n",
       "1  2349966440  Joie Ficher  JoieFicher              80                2   \n",
       "2  2349966440  Joie Ficher  JoieFicher              80                2   \n",
       "3  2349966440  Joie Ficher  JoieFicher              80                2   \n",
       "4  2349966440  Joie Ficher  JoieFicher              80                2   \n",
       "\n",
       "   friends_count  favourites_count  listed_count lang  \\\n",
       "0             42                 0             0   en   \n",
       "1             42                 0             0   en   \n",
       "2             42                 0             0   en   \n",
       "3             42                 0             0   en   \n",
       "4             42                 0             0   en   \n",
       "\n",
       "                                   profile_image_url  ...  reply_count  \\\n",
       "0  http://pbs.twimg.com/profile_images/4365494921...  ...            0   \n",
       "1  http://pbs.twimg.com/profile_images/4365494921...  ...            0   \n",
       "2  http://pbs.twimg.com/profile_images/4365494921...  ...            0   \n",
       "3  http://pbs.twimg.com/profile_images/4365494921...  ...            0   \n",
       "4  http://pbs.twimg.com/profile_images/4365494921...  ...            0   \n",
       "\n",
       "  favorite_count num_hashtags num_urls num_mentions              created_at_y  \\\n",
       "0              0            0        0            0 2014-04-26 18:56:00+00:00   \n",
       "1              0            0        0            0 2014-04-29 02:19:20+00:00   \n",
       "2              0            0        0            1 2014-06-20 21:48:08+00:00   \n",
       "3              0            0        0            0 2014-04-29 02:18:48+00:00   \n",
       "4              0            0        0            0 2014-04-28 18:37:26+00:00   \n",
       "\n",
       "          timestamp_y        crawled_at_y           updated_y class_y  \n",
       "0 2014-04-26 20:56:00 2014-11-13 01:44:20 2014-11-13 01:44:20       1  \n",
       "1 2014-04-29 04:19:20 2014-11-13 01:44:20 2014-11-13 01:44:20       1  \n",
       "2 2014-06-20 23:48:08 2014-11-13 01:44:20 2014-11-13 01:44:20       1  \n",
       "3 2014-04-29 04:18:48 2014-11-13 01:44:20 2014-11-13 01:44:20       1  \n",
       "4 2014-04-28 20:37:26 2014-11-13 01:44:20 2014-11-13 01:44:20       1  \n",
       "\n",
       "[5 rows x 41 columns]"
      ]
     },
     "execution_count": 28,
     "metadata": {},
     "output_type": "execute_result"
    }
   ],
   "source": [
    "df_full.head()"
   ]
  },
  {
   "cell_type": "code",
   "execution_count": 29,
   "metadata": {},
   "outputs": [
    {
     "name": "stdout",
     "output_type": "stream",
     "text": [
      "<class 'pandas.core.frame.DataFrame'>\n",
      "Int64Index: 5968328 entries, 0 to 5968327\n",
      "Data columns (total 41 columns):\n",
      "user_id                               int64\n",
      "name                                  object\n",
      "screen_name                           object\n",
      "statuses_count                        int64\n",
      "followers_count                       int64\n",
      "friends_count                         int64\n",
      "favourites_count                      int64\n",
      "listed_count                          int64\n",
      "lang                                  object\n",
      "profile_image_url                     object\n",
      "profile_use_background_image          int64\n",
      "profile_background_image_url_https    object\n",
      "profile_text_color                    object\n",
      "profile_image_url_https               object\n",
      "profile_sidebar_border_color          object\n",
      "profile_sidebar_fill_color            object\n",
      "profile_background_image_url          object\n",
      "profile_background_color              object\n",
      "profile_link_color                    object\n",
      "created_at_x                          datetime64[ns, UTC]\n",
      "timestamp_x                           datetime64[ns]\n",
      "crawled_at_x                          datetime64[ns]\n",
      "updated_x                             datetime64[ns]\n",
      "class_x                               int64\n",
      "id                                    int64\n",
      "text                                  object\n",
      "source                                object\n",
      "in_reply_to_status_id                 int64\n",
      "in_reply_to_user_id                   int64\n",
      "retweeted_status_id                   int64\n",
      "retweet_count                         int64\n",
      "reply_count                           int64\n",
      "favorite_count                        int64\n",
      "num_hashtags                          int64\n",
      "num_urls                              int64\n",
      "num_mentions                          int64\n",
      "created_at_y                          datetime64[ns, UTC]\n",
      "timestamp_y                           datetime64[ns]\n",
      "crawled_at_y                          datetime64[ns]\n",
      "updated_y                             datetime64[ns]\n",
      "class_y                               int64\n",
      "dtypes: datetime64[ns, UTC](2), datetime64[ns](6), int64(19), object(14)\n",
      "memory usage: 1.9+ GB\n"
     ]
    }
   ],
   "source": [
    "df_full.info()"
   ]
  },
  {
   "cell_type": "code",
   "execution_count": 30,
   "metadata": {},
   "outputs": [],
   "source": [
    "# Drop unwanted columns \n",
    "df_full = df_full.drop(columns=['id','crawled_at_y','updated_x', 'updated_y','class_y', 'crawled_at_x','profile_image_url',\n",
    "                     'profile_use_background_image','profile_background_image_url_https','profile_text_color',\n",
    "                     'profile_image_url_https','profile_sidebar_border_color','profile_sidebar_fill_color','profile_background_image_url',\n",
    "                      'profile_background_color','profile_link_color','source','in_reply_to_status_id',\n",
    "                     'in_reply_to_user_id','retweeted_status_id'])"
   ]
  },
  {
   "cell_type": "code",
   "execution_count": 31,
   "metadata": {},
   "outputs": [],
   "source": [
    "df_full.rename(columns ={'created_at_x': 'u_created_at','created_at_y':'t_created_at','timestamp_x':'u_timestamp',\n",
    "                    'timestamp_y':'t_timestamp','class_x':'class'}, inplace =True)"
   ]
  },
  {
   "cell_type": "code",
   "execution_count": 32,
   "metadata": {},
   "outputs": [
    {
     "data": {
      "text/plain": [
       "False"
      ]
     },
     "execution_count": 32,
     "metadata": {},
     "output_type": "execute_result"
    }
   ],
   "source": [
    "df_full.isnull().values.any()"
   ]
  },
  {
   "cell_type": "code",
   "execution_count": 33,
   "metadata": {},
   "outputs": [
    {
     "data": {
      "text/plain": [
       "5874"
      ]
     },
     "execution_count": 33,
     "metadata": {},
     "output_type": "execute_result"
    }
   ],
   "source": [
    "len(df_full['user_id'].value_counts())"
   ]
  },
  {
   "cell_type": "code",
   "execution_count": 34,
   "metadata": {},
   "outputs": [
    {
     "data": {
      "text/plain": [
       "(5968328, 21)"
      ]
     },
     "execution_count": 34,
     "metadata": {},
     "output_type": "execute_result"
    }
   ],
   "source": [
    "df_full.shape"
   ]
  },
  {
   "cell_type": "code",
   "execution_count": 35,
   "metadata": {},
   "outputs": [],
   "source": [
    "# Collect only English tweets\n",
    "df = df_full.loc[df_full['lang'] == 'en']"
   ]
  },
  {
   "cell_type": "code",
   "execution_count": 36,
   "metadata": {},
   "outputs": [
    {
     "data": {
      "text/plain": [
       "(4338180, 21)"
      ]
     },
     "execution_count": 36,
     "metadata": {},
     "output_type": "execute_result"
    }
   ],
   "source": [
    "df.shape"
   ]
  },
  {
   "cell_type": "markdown",
   "metadata": {},
   "source": [
    "## Subsampling \n",
    "\n",
    "Due to hardware and memory limitations, we will reduce the size of the dataset and subsample 0.05% of tweets"
   ]
  },
  {
   "cell_type": "code",
   "execution_count": 37,
   "metadata": {},
   "outputs": [],
   "source": [
    "sub_tweets = df.groupby('class').apply(pd.DataFrame.sample, frac=0.005).reset_index(drop=True)"
   ]
  },
  {
   "cell_type": "code",
   "execution_count": 38,
   "metadata": {},
   "outputs": [
    {
     "data": {
      "text/plain": [
       "(21691, 21)"
      ]
     },
     "execution_count": 38,
     "metadata": {},
     "output_type": "execute_result"
    }
   ],
   "source": [
    "sub_tweets.shape"
   ]
  },
  {
   "cell_type": "code",
   "execution_count": 39,
   "metadata": {},
   "outputs": [
    {
     "data": {
      "image/png": "[encoded data removed]",
      "text/plain": [
       "<Figure size 864x432 with 1 Axes>"
      ]
     },
     "metadata": {
      "needs_background": "light"
     },
     "output_type": "display_data"
    }
   ],
   "source": [
    "# Plot target variable\n",
    "plt.figure(figsize=(12,6))\n",
    "g = sns.countplot(x = 'class', data = sub_tweets)\n",
    "g.set_title('Number of Tweets', fontsize = 17)\n",
    "g.set_xlabel('User Type', fontsize = 15)\n",
    "g.set_ylabel('# Tweets', fontsize = 15)\n",
    "\n",
    "for p in g.patches:\n",
    "    height = p.get_height()\n",
    "    g.text(p.get_x()+p.get_width()/2.,\n",
    "            height + 3,\n",
    "            '{:1.2f}%'.format(height/len(sub_tweets) * 100),\n",
    "            ha=\"center\", fontsize=15) "
   ]
  },
  {
   "cell_type": "markdown",
   "metadata": {},
   "source": [
    "__Observation__: "
   ]
  },
  {
   "cell_type": "markdown",
   "metadata": {},
   "source": [
    "## Correlation\n",
    "We'll start by exmaining the correlation between features and target varaible. "
   ]
  },
  {
   "cell_type": "code",
   "execution_count": 40,
   "metadata": {},
   "outputs": [
    {
     "name": "stdout",
     "output_type": "stream",
     "text": [
      "Most Positive Correlations:\n",
      " num_mentions       -0.435674\n",
      "favourites_count   -0.348957\n",
      "statuses_count     -0.251539\n",
      "num_hashtags       -0.159283\n",
      "favorite_count     -0.088187\n",
      "listed_count       -0.079511\n",
      "retweet_count      -0.055146\n",
      "followers_count    -0.016905\n",
      "user_id             0.121728\n",
      "friends_count       0.133122\n",
      "num_urls            0.210698\n",
      "class               1.000000\n",
      "reply_count              NaN\n",
      "Name: class, dtype: float64\n",
      "\n",
      "Most Negative Correlations:\n",
      " num_mentions       -0.435674\n",
      "favourites_count   -0.348957\n",
      "statuses_count     -0.251539\n",
      "num_hashtags       -0.159283\n",
      "favorite_count     -0.088187\n",
      "listed_count       -0.079511\n",
      "retweet_count      -0.055146\n",
      "followers_count    -0.016905\n",
      "user_id             0.121728\n",
      "friends_count       0.133122\n",
      "num_urls            0.210698\n",
      "class               1.000000\n",
      "reply_count              NaN\n",
      "Name: class, dtype: float64\n"
     ]
    }
   ],
   "source": [
    "# Find correlations with the target and sort\n",
    "corr = sub_tweets.corr()['class'].sort_values()\n",
    "\n",
    "# Display correlations\n",
    "print('Most Positive Correlations:\\n', corr.tail(15))\n",
    "print('\\nMost Negative Correlations:\\n', corr.head(15))"
   ]
  },
  {
   "cell_type": "code",
   "execution_count": 41,
   "metadata": {},
   "outputs": [
    {
     "data": {
      "text/plain": [
       "class               1.000000\n",
       "num_mentions        0.435674\n",
       "favourites_count    0.348957\n",
       "statuses_count      0.251539\n",
       "num_urls            0.210698\n",
       "num_hashtags        0.159283\n",
       "friends_count       0.133122\n",
       "user_id             0.121728\n",
       "favorite_count      0.088187\n",
       "listed_count        0.079511\n",
       "retweet_count       0.055146\n",
       "Name: class, dtype: float64"
      ]
     },
     "execution_count": 41,
     "metadata": {},
     "output_type": "execute_result"
    }
   ],
   "source": [
    "# Correlation \n",
    "top_feat = np.absolute(sub_tweets.corr()['class']).sort_values(ascending=False)[:11]\n",
    "top_feat"
   ]
  },
  {
   "cell_type": "markdown",
   "metadata": {},
   "source": [
    "__Observation__: The correlation between our target variable and the top features are rather week. The strongest correlation to class is the num_mentions(-47%). This could possibly hint towards retweets and replying to other accounts to be a good indicator of whether a tweet was generated by a human or robot. "
   ]
  },
  {
   "cell_type": "code",
   "execution_count": 42,
   "metadata": {},
   "outputs": [
    {
     "name": "stdout",
     "output_type": "stream",
     "text": [
      "Index(['class', 'num_mentions', 'favourites_count', 'statuses_count',\n",
      "       'num_urls', 'num_hashtags', 'friends_count', 'user_id',\n",
      "       'favorite_count', 'listed_count', 'retweet_count'],\n",
      "      dtype='object')\n"
     ]
    }
   ],
   "source": [
    "# Top 10 features\n",
    "print(top_feat.index)"
   ]
  },
  {
   "cell_type": "code",
   "execution_count": 43,
   "metadata": {},
   "outputs": [
    {
     "data": {
      "image/png": "[encoded data removed]",
      "text/plain": [
       "<Figure size 720x648 with 2 Axes>"
      ]
     },
     "metadata": {
      "needs_background": "light"
     },
     "output_type": "display_data"
    }
   ],
   "source": [
    "pp = sub_tweets[top_feat.index]\n",
    "plt.figure(figsize=(10,9))\n",
    "corr = pp.corr()\n",
    "sns.heatmap(corr)\n",
    "plt.savefig('heatmat.png')"
   ]
  },
  {
   "cell_type": "markdown",
   "metadata": {},
   "source": [
    "__Observation__: There doesn't appear to be high collinearity among the features. The correlation between in_reply_to_user_id and in_reply_to_status_id seems to be higher than 0.5. We'll probably drop these features during feature selection since they are not the main focus of tweet info.  "
   ]
  },
  {
   "cell_type": "markdown",
   "metadata": {},
   "source": [
    "# Feature Engineering and Selection\n",
    "\n",
    "Since we have identified trends and relationship within the dataset, we will use our findings to select a set of features for our model. \n",
    "\n",
    "For this assignment, we will take the following steps for feature selection:\n",
    " * creating new variables by aggregation\n",
    " * dropping unwanted varaibles\n",
    " * encode for tweets\n",
    " \n",
    "### Users based features"
   ]
  },
  {
   "cell_type": "code",
   "execution_count": 44,
   "metadata": {},
   "outputs": [],
   "source": [
    "# Function to calculate the age of the account given creation time\n",
    "def calculate_age(created_at):\n",
    "    today = datetime.now()\n",
    "    return today.year - created_at.year "
   ]
  },
  {
   "cell_type": "code",
   "execution_count": 45,
   "metadata": {},
   "outputs": [],
   "source": [
    "# Create new features \n",
    "sub_tweets['account_age_yr'] = sub_tweets['u_created_at'].apply(lambda x: calculate_age(x))\n",
    "sub_tweets['digit_in_name'] = sub_tweets['screen_name'].apply(lambda x: sum(c.isdigit() for c in x))\n",
    "sub_tweets['user_name_len'] = sub_tweets['screen_name'].apply(len)\n"
   ]
  },
  {
   "cell_type": "code",
   "execution_count": 46,
   "metadata": {},
   "outputs": [
    {
     "data": {
      "text/plain": [
       "<matplotlib.legend.Legend at 0x1aa118e3c8>"
      ]
     },
     "execution_count": 46,
     "metadata": {},
     "output_type": "execute_result"
    },
    {
     "data": {
      "image/png": "[encoded data removed]",
      "text/plain": [
       "<Figure size 432x288 with 1 Axes>"
      ]
     },
     "metadata": {
      "needs_background": "light"
     },
     "output_type": "display_data"
    }
   ],
   "source": [
    "# Plot age of accounts \n",
    "g = sns.countplot(x='account_age_yr', hue= 'class',data=sub_tweets)\n",
    "g.set_title('Count of Account Age', fontsize = 17)\n",
    "g.set_xlabel('Account Age (YR)', fontsize = 15)\n",
    "g.set_ylabel('Count of Users', fontsize = 15)\n",
    "plt.legend(loc='upper right')"
   ]
  },
  {
   "cell_type": "markdown",
   "metadata": {},
   "source": [
    "__Observations__: "
   ]
  },
  {
   "cell_type": "markdown",
   "metadata": {},
   "source": [
    "### Tweets based features "
   ]
  },
  {
   "cell_type": "code",
   "execution_count": 47,
   "metadata": {},
   "outputs": [],
   "source": [
    "# Create new features \n",
    "sub_tweets['tweet_hour'] = sub_tweets['t_created_at'].apply(lambda x: x.hour)\n",
    "sub_tweets['tweet_month'] = sub_tweets['t_created_at'].apply(lambda x: x.month)\n",
    "sub_tweets['tweet_day'] = sub_tweets['t_created_at'].apply(lambda x: x.day)\n",
    "sub_tweets['tweet_year'] = sub_tweets['t_created_at'].apply(lambda x: x.year)\n",
    "sub_tweets['tweet_length'] = sub_tweets['text'].apply(len)\n",
    "sub_tweets['num_of_words'] = sub_tweets['text'].str.split().apply(len)"
   ]
  },
  {
   "cell_type": "code",
   "execution_count": 48,
   "metadata": {},
   "outputs": [
    {
     "data": {
      "text/html": [
       "<div>\n",
       "<style scoped>\n",
       "    .dataframe tbody tr th:only-of-type {\n",
       "        vertical-align: middle;\n",
       "    }\n",
       "\n",
       "    .dataframe tbody tr th {\n",
       "        vertical-align: top;\n",
       "    }\n",
       "\n",
       "    .dataframe thead th {\n",
       "        text-align: right;\n",
       "    }\n",
       "</style>\n",
       "<table border=\"1\" class=\"dataframe\">\n",
       "  <thead>\n",
       "    <tr style=\"text-align: right;\">\n",
       "      <th></th>\n",
       "      <th>user_id</th>\n",
       "      <th>name</th>\n",
       "      <th>screen_name</th>\n",
       "      <th>statuses_count</th>\n",
       "      <th>followers_count</th>\n",
       "      <th>friends_count</th>\n",
       "      <th>favourites_count</th>\n",
       "      <th>listed_count</th>\n",
       "      <th>lang</th>\n",
       "      <th>u_created_at</th>\n",
       "      <th>...</th>\n",
       "      <th>t_timestamp</th>\n",
       "      <th>account_age_yr</th>\n",
       "      <th>digit_in_name</th>\n",
       "      <th>user_name_len</th>\n",
       "      <th>tweet_hour</th>\n",
       "      <th>tweet_month</th>\n",
       "      <th>tweet_day</th>\n",
       "      <th>tweet_year</th>\n",
       "      <th>tweet_length</th>\n",
       "      <th>num_of_words</th>\n",
       "    </tr>\n",
       "  </thead>\n",
       "  <tbody>\n",
       "    <tr>\n",
       "      <th>0</th>\n",
       "      <td>228978063</td>\n",
       "      <td>✨Corbin Thomas✨</td>\n",
       "      <td>Corbin_Thomas35</td>\n",
       "      <td>7727</td>\n",
       "      <td>1118</td>\n",
       "      <td>755</td>\n",
       "      <td>254</td>\n",
       "      <td>3</td>\n",
       "      <td>en</td>\n",
       "      <td>2010-12-21 05:49:07+00:00</td>\n",
       "      <td>...</td>\n",
       "      <td>2015-04-23 19:11:31</td>\n",
       "      <td>9</td>\n",
       "      <td>2</td>\n",
       "      <td>15</td>\n",
       "      <td>17</td>\n",
       "      <td>4</td>\n",
       "      <td>23</td>\n",
       "      <td>2015</td>\n",
       "      <td>93</td>\n",
       "      <td>14</td>\n",
       "    </tr>\n",
       "    <tr>\n",
       "      <th>1</th>\n",
       "      <td>15044720</td>\n",
       "      <td>Ange</td>\n",
       "      <td>blue_raven</td>\n",
       "      <td>59052</td>\n",
       "      <td>332</td>\n",
       "      <td>833</td>\n",
       "      <td>1862</td>\n",
       "      <td>45</td>\n",
       "      <td>en</td>\n",
       "      <td>2008-06-08 05:49:17+00:00</td>\n",
       "      <td>...</td>\n",
       "      <td>2015-04-29 08:59:44</td>\n",
       "      <td>11</td>\n",
       "      <td>0</td>\n",
       "      <td>10</td>\n",
       "      <td>6</td>\n",
       "      <td>4</td>\n",
       "      <td>29</td>\n",
       "      <td>2015</td>\n",
       "      <td>111</td>\n",
       "      <td>20</td>\n",
       "    </tr>\n",
       "    <tr>\n",
       "      <th>2</th>\n",
       "      <td>27582887</td>\n",
       "      <td>Paul</td>\n",
       "      <td>knoxynz</td>\n",
       "      <td>36913</td>\n",
       "      <td>807</td>\n",
       "      <td>907</td>\n",
       "      <td>3262</td>\n",
       "      <td>9</td>\n",
       "      <td>en</td>\n",
       "      <td>2009-03-30 04:20:30+00:00</td>\n",
       "      <td>...</td>\n",
       "      <td>2014-07-18 14:00:18</td>\n",
       "      <td>10</td>\n",
       "      <td>0</td>\n",
       "      <td>7</td>\n",
       "      <td>12</td>\n",
       "      <td>7</td>\n",
       "      <td>18</td>\n",
       "      <td>2014</td>\n",
       "      <td>70</td>\n",
       "      <td>12</td>\n",
       "    </tr>\n",
       "    <tr>\n",
       "      <th>3</th>\n",
       "      <td>2248762537</td>\n",
       "      <td>AJ</td>\n",
       "      <td>AlZahraaokay</td>\n",
       "      <td>7588</td>\n",
       "      <td>235</td>\n",
       "      <td>112</td>\n",
       "      <td>10979</td>\n",
       "      <td>0</td>\n",
       "      <td>en</td>\n",
       "      <td>2013-12-16 13:27:47+00:00</td>\n",
       "      <td>...</td>\n",
       "      <td>2015-02-11 09:22:30</td>\n",
       "      <td>6</td>\n",
       "      <td>0</td>\n",
       "      <td>12</td>\n",
       "      <td>8</td>\n",
       "      <td>2</td>\n",
       "      <td>11</td>\n",
       "      <td>2015</td>\n",
       "      <td>140</td>\n",
       "      <td>27</td>\n",
       "    </tr>\n",
       "    <tr>\n",
       "      <th>4</th>\n",
       "      <td>2177075531</td>\n",
       "      <td>OptimusProductionsTT</td>\n",
       "      <td>Optimusprott</td>\n",
       "      <td>2053</td>\n",
       "      <td>409</td>\n",
       "      <td>1116</td>\n",
       "      <td>381</td>\n",
       "      <td>4</td>\n",
       "      <td>en</td>\n",
       "      <td>2013-11-11 16:18:00+00:00</td>\n",
       "      <td>...</td>\n",
       "      <td>2014-11-22 14:18:27</td>\n",
       "      <td>6</td>\n",
       "      <td>0</td>\n",
       "      <td>12</td>\n",
       "      <td>13</td>\n",
       "      <td>11</td>\n",
       "      <td>22</td>\n",
       "      <td>2014</td>\n",
       "      <td>125</td>\n",
       "      <td>17</td>\n",
       "    </tr>\n",
       "  </tbody>\n",
       "</table>\n",
       "<p>5 rows × 30 columns</p>\n",
       "</div>"
      ],
      "text/plain": [
       "      user_id                  name      screen_name  statuses_count  \\\n",
       "0   228978063       ✨Corbin Thomas✨  Corbin_Thomas35            7727   \n",
       "1    15044720                  Ange       blue_raven           59052   \n",
       "2    27582887                  Paul          knoxynz           36913   \n",
       "3  2248762537                    AJ     AlZahraaokay            7588   \n",
       "4  2177075531  OptimusProductionsTT     Optimusprott            2053   \n",
       "\n",
       "   followers_count  friends_count  favourites_count  listed_count lang  \\\n",
       "0             1118            755               254             3   en   \n",
       "1              332            833              1862            45   en   \n",
       "2              807            907              3262             9   en   \n",
       "3              235            112             10979             0   en   \n",
       "4              409           1116               381             4   en   \n",
       "\n",
       "               u_created_at  ...         t_timestamp  account_age_yr  \\\n",
       "0 2010-12-21 05:49:07+00:00  ... 2015-04-23 19:11:31               9   \n",
       "1 2008-06-08 05:49:17+00:00  ... 2015-04-29 08:59:44              11   \n",
       "2 2009-03-30 04:20:30+00:00  ... 2014-07-18 14:00:18              10   \n",
       "3 2013-12-16 13:27:47+00:00  ... 2015-02-11 09:22:30               6   \n",
       "4 2013-11-11 16:18:00+00:00  ... 2014-11-22 14:18:27               6   \n",
       "\n",
       "  digit_in_name  user_name_len  tweet_hour  tweet_month  tweet_day  \\\n",
       "0             2             15          17            4         23   \n",
       "1             0             10           6            4         29   \n",
       "2             0              7          12            7         18   \n",
       "3             0             12           8            2         11   \n",
       "4             0             12          13           11         22   \n",
       "\n",
       "   tweet_year  tweet_length num_of_words  \n",
       "0        2015            93           14  \n",
       "1        2015           111           20  \n",
       "2        2014            70           12  \n",
       "3        2015           140           27  \n",
       "4        2014           125           17  \n",
       "\n",
       "[5 rows x 30 columns]"
      ]
     },
     "execution_count": 48,
     "metadata": {},
     "output_type": "execute_result"
    }
   ],
   "source": [
    "sub_tweets.head()"
   ]
  },
  {
   "cell_type": "code",
   "execution_count": 49,
   "metadata": {},
   "outputs": [
    {
     "data": {
      "image/png": "[encoded data removed]",
      "text/plain": [
       "<Figure size 720x360 with 1 Axes>"
      ]
     },
     "metadata": {
      "needs_background": "light"
     },
     "output_type": "display_data"
    }
   ],
   "source": [
    "# Number of tweets by months\n",
    "\n",
    "sub_tweets['t_month_year'] = sub_tweets['t_created_at'].apply(lambda x: str(x.year)+'-'+str(x.month)+'-1')\n",
    "sub_tweets['t_month_year'].unique()[0]\n",
    "sub_tweets['t_month_year'] = pd.to_datetime(sub_tweets['t_month_year'])\n",
    "\n",
    "sub_tweets[['t_created_at', 't_month_year']].head()\n",
    "\n",
    "yr_monthly_tweets2 = sub_tweets.groupby(['tweet_month','tweet_year']).size().unstack()\n",
    "\n",
    "\n",
    "plt.figure(figsize=(10,5))\n",
    "\n",
    "plt.title('Number of tweets by months', fontsize=12, fontweight='bold')\n",
    "plt.bar(yr_monthly_tweets2.index, yr_monthly_tweets2.values[:,0])\n",
    "plt.bar(yr_monthly_tweets2.index+12, yr_monthly_tweets2.values[:,1], color='g')\n",
    "plt.xticks(list(yr_monthly_tweets2.index)+list(yr_monthly_tweets2.index+12))\n",
    "plt.xlabel('Month')\n",
    "plt.ylabel('# Tweets')\n",
    "plt.show() "
   ]
  },
  {
   "cell_type": "code",
   "execution_count": 50,
   "metadata": {},
   "outputs": [
    {
     "data": {
      "text/plain": [
       "count                   21691\n",
       "unique                     82\n",
       "top       2014-10-01 00:00:00\n",
       "freq                     4618\n",
       "first     2008-05-01 00:00:00\n",
       "last      2015-05-01 00:00:00\n",
       "Name: t_month_year, dtype: object"
      ]
     },
     "execution_count": 50,
     "metadata": {},
     "output_type": "execute_result"
    }
   ],
   "source": [
    "sub_tweets['t_month_year'].describe()"
   ]
  },
  {
   "cell_type": "code",
   "execution_count": 51,
   "metadata": {},
   "outputs": [
    {
     "data": {
      "text/plain": [
       "count    21691.000000\n",
       "mean      2014.111982\n",
       "std          0.761965\n",
       "min       2008.000000\n",
       "25%       2014.000000\n",
       "50%       2014.000000\n",
       "75%       2015.000000\n",
       "max       2015.000000\n",
       "Name: tweet_year, dtype: float64"
      ]
     },
     "execution_count": 51,
     "metadata": {},
     "output_type": "execute_result"
    }
   ],
   "source": [
    "sub_tweets['tweet_year'].describe()"
   ]
  },
  {
   "cell_type": "code",
   "execution_count": 52,
   "metadata": {},
   "outputs": [
    {
     "data": {
      "text/plain": [
       "(21691, 31)"
      ]
     },
     "execution_count": 52,
     "metadata": {},
     "output_type": "execute_result"
    }
   ],
   "source": [
    "sub_tweets.shape"
   ]
  },
  {
   "cell_type": "markdown",
   "metadata": {},
   "source": [
    "__Observation__: This dataset contains tweets posted from 2007 to 2015. Majority of the tweets were collected during 2014 and 2015. "
   ]
  },
  {
   "cell_type": "code",
   "execution_count": 53,
   "metadata": {},
   "outputs": [
    {
     "data": {
      "text/plain": [
       "Index(['user_id', 'name', 'screen_name', 'statuses_count', 'followers_count',\n",
       "       'friends_count', 'favourites_count', 'listed_count', 'lang',\n",
       "       'u_created_at', 'u_timestamp', 'class', 'text', 'retweet_count',\n",
       "       'reply_count', 'favorite_count', 'num_hashtags', 'num_urls',\n",
       "       'num_mentions', 't_created_at', 't_timestamp', 'account_age_yr',\n",
       "       'digit_in_name', 'user_name_len', 'tweet_hour', 'tweet_month',\n",
       "       'tweet_day', 'tweet_year', 'tweet_length', 'num_of_words',\n",
       "       't_month_year'],\n",
       "      dtype='object')"
      ]
     },
     "execution_count": 53,
     "metadata": {},
     "output_type": "execute_result"
    }
   ],
   "source": [
    "sub_tweets.columns"
   ]
  },
  {
   "cell_type": "markdown",
   "metadata": {},
   "source": [
    "## Text Processing: Clean and Transform Tweets\n",
    "\n",
    "Before we can have a model process information from the tweets, we must convert text to numeric values that machines can understand. \n",
    "\n",
    "We will clean the tweets with the following steps:\n",
    "1. Remove hyperlinks, mentions, and 'RT' from retweets\n",
    "2. Word Counts with __CountVectorizer__: Convert a collection of text documents to a matrix of token counts\n",
    "     - Tokenization: Converting a sentence into a list of words\n",
    "     - Remove stopwords: Terms that will be ignored because they either\n",
    "         - occurred in too many documents (max_df)\n",
    "         - occurred in too few documents (min_df)\n",
    "         - were cut off by feature selection (max_features).\n",
    "     - Lemmatization/stemming: Converting any form of a word to its root word\n",
    "     - Returns vectors of the counts of each word\n",
    "     \n",
    "3. Word Frequencies with __TfidfTransform__: Transform a count matrix to a normalized tf representation\n",
    "     - Term Frequency: This summarizes how often a given word appears within a document\n",
    "     - Inverse Document Frequency: This downscales words that appear a lot across documents <br>\n",
    "     - Returns a spare matrix with rows of terms and columns of documents\n",
    "      idf(d, t) = log [ (1 + n) / (1 + df(d, t)) ] + 1.\n",
    "\n",
    "Reference:\n",
    "[clean tweet](https://machinelearningmastery.com/prepare-text-data-machine-learning-scikit-learn/)\n",
    " \n",
    "First, we will paritation the  tweets into separate classes for building bag of words and cut down on processing time for CountVectorizer and TfidTransformer. \n",
    " \n",
    "Let's start by cleaning the bot tweets. \n",
    "\n",
    "NOTE: Unable to Translate Italian tweets to English [Source](https://pypi.org/project/googletrans/)\n"
   ]
  },
  {
   "cell_type": "code",
   "execution_count": 54,
   "metadata": {},
   "outputs": [],
   "source": [
    "sub_tweets['text'] = sub_tweets['text'].astype('str')"
   ]
  },
  {
   "cell_type": "code",
   "execution_count": 55,
   "metadata": {},
   "outputs": [],
   "source": [
    "# Create df for user class\n",
    "bots = sub_tweets.loc[sub_tweets['class']==1]\n",
    "gen = sub_tweets.loc[sub_tweets['class']==0]"
   ]
  },
  {
   "cell_type": "code",
   "execution_count": 56,
   "metadata": {},
   "outputs": [
    {
     "data": {
      "text/html": [
       "<div>\n",
       "<style scoped>\n",
       "    .dataframe tbody tr th:only-of-type {\n",
       "        vertical-align: middle;\n",
       "    }\n",
       "\n",
       "    .dataframe tbody tr th {\n",
       "        vertical-align: top;\n",
       "    }\n",
       "\n",
       "    .dataframe thead th {\n",
       "        text-align: right;\n",
       "    }\n",
       "</style>\n",
       "<table border=\"1\" class=\"dataframe\">\n",
       "  <thead>\n",
       "    <tr style=\"text-align: right;\">\n",
       "      <th></th>\n",
       "      <th>text</th>\n",
       "    </tr>\n",
       "  </thead>\n",
       "  <tbody>\n",
       "    <tr>\n",
       "      <th>11636</th>\n",
       "      <td>@xkass7birdsx \"We can't take any credit for ou...</td>\n",
       "    </tr>\n",
       "    <tr>\n",
       "      <th>11637</th>\n",
       "      <td>Read the Biography of Shelley Fabares  http://...</td>\n",
       "    </tr>\n",
       "    <tr>\n",
       "      <th>11638</th>\n",
       "      <td>Read the Biography of Bob Marley  http://t.co/...</td>\n",
       "    </tr>\n",
       "    <tr>\n",
       "      <th>11639</th>\n",
       "      <td>RT @LakersReporter: Expected starters tonight:...</td>\n",
       "    </tr>\n",
       "    <tr>\n",
       "      <th>11640</th>\n",
       "      <td>Flattery, like perfume, should be smelled, not...</td>\n",
       "    </tr>\n",
       "  </tbody>\n",
       "</table>\n",
       "</div>"
      ],
      "text/plain": [
       "                                                    text\n",
       "11636  @xkass7birdsx \"We can't take any credit for ou...\n",
       "11637  Read the Biography of Shelley Fabares  http://...\n",
       "11638  Read the Biography of Bob Marley  http://t.co/...\n",
       "11639  RT @LakersReporter: Expected starters tonight:...\n",
       "11640  Flattery, like perfume, should be smelled, not..."
      ]
     },
     "execution_count": 56,
     "metadata": {},
     "output_type": "execute_result"
    }
   ],
   "source": [
    "# Create new df \n",
    "b_tweets = pd.DataFrame(bots['text'])\n",
    "b_tweets.head()"
   ]
  },
  {
   "cell_type": "code",
   "execution_count": 57,
   "metadata": {},
   "outputs": [
    {
     "data": {
      "text/html": [
       "<div>\n",
       "<style scoped>\n",
       "    .dataframe tbody tr th:only-of-type {\n",
       "        vertical-align: middle;\n",
       "    }\n",
       "\n",
       "    .dataframe tbody tr th {\n",
       "        vertical-align: top;\n",
       "    }\n",
       "\n",
       "    .dataframe thead th {\n",
       "        text-align: right;\n",
       "    }\n",
       "</style>\n",
       "<table border=\"1\" class=\"dataframe\">\n",
       "  <thead>\n",
       "    <tr style=\"text-align: right;\">\n",
       "      <th></th>\n",
       "      <th>text</th>\n",
       "    </tr>\n",
       "  </thead>\n",
       "  <tbody>\n",
       "    <tr>\n",
       "      <th>0</th>\n",
       "      <td>RT @JFarm2: European nights with the homies __...</td>\n",
       "    </tr>\n",
       "    <tr>\n",
       "      <th>1</th>\n",
       "      <td>@ohhellsyeah if you go into AoU with the inten...</td>\n",
       "    </tr>\n",
       "    <tr>\n",
       "      <th>2</th>\n",
       "      <td>@SwiftieJessie we are used to that in the vall...</td>\n",
       "    </tr>\n",
       "    <tr>\n",
       "      <th>3</th>\n",
       "      <td>@johnpaulwild islam is a big religion, youve s...</td>\n",
       "    </tr>\n",
       "    <tr>\n",
       "      <th>4</th>\n",
       "      <td>Listen to Crazy - Merry Cherry  Parang Fiesta ...</td>\n",
       "    </tr>\n",
       "  </tbody>\n",
       "</table>\n",
       "</div>"
      ],
      "text/plain": [
       "                                                text\n",
       "0  RT @JFarm2: European nights with the homies __...\n",
       "1  @ohhellsyeah if you go into AoU with the inten...\n",
       "2  @SwiftieJessie we are used to that in the vall...\n",
       "3  @johnpaulwild islam is a big religion, youve s...\n",
       "4  Listen to Crazy - Merry Cherry  Parang Fiesta ..."
      ]
     },
     "execution_count": 57,
     "metadata": {},
     "output_type": "execute_result"
    }
   ],
   "source": [
    "# Create new df  \n",
    "g_tweets = pd.DataFrame(gen['text'])\n",
    "g_tweets.head()"
   ]
  },
  {
   "cell_type": "markdown",
   "metadata": {},
   "source": [
    "Let's clean the tweets to remove links, @, and RT."
   ]
  },
  {
   "cell_type": "code",
   "execution_count": 58,
   "metadata": {},
   "outputs": [
    {
     "data": {
      "text/html": [
       "<div>\n",
       "<style scoped>\n",
       "    .dataframe tbody tr th:only-of-type {\n",
       "        vertical-align: middle;\n",
       "    }\n",
       "\n",
       "    .dataframe tbody tr th {\n",
       "        vertical-align: top;\n",
       "    }\n",
       "\n",
       "    .dataframe thead th {\n",
       "        text-align: right;\n",
       "    }\n",
       "</style>\n",
       "<table border=\"1\" class=\"dataframe\">\n",
       "  <thead>\n",
       "    <tr style=\"text-align: right;\">\n",
       "      <th></th>\n",
       "      <th>text</th>\n",
       "      <th>clean_tweets</th>\n",
       "    </tr>\n",
       "  </thead>\n",
       "  <tbody>\n",
       "    <tr>\n",
       "      <th>11636</th>\n",
       "      <td>@xkass7birdsx \"We can't take any credit for ou...</td>\n",
       "      <td>\"We can't take any credit for our talents. It...</td>\n",
       "    </tr>\n",
       "    <tr>\n",
       "      <th>11637</th>\n",
       "      <td>Read the Biography of Shelley Fabares  http://...</td>\n",
       "      <td>Read the Biography of Shelley Fabares</td>\n",
       "    </tr>\n",
       "    <tr>\n",
       "      <th>11638</th>\n",
       "      <td>Read the Biography of Bob Marley  http://t.co/...</td>\n",
       "      <td>Read the Biography of Bob Marley</td>\n",
       "    </tr>\n",
       "    <tr>\n",
       "      <th>11639</th>\n",
       "      <td>RT @LakersReporter: Expected starters tonight:...</td>\n",
       "      <td>: Expected starters tonight: Jeremy Lin, Kobe...</td>\n",
       "    </tr>\n",
       "    <tr>\n",
       "      <th>11640</th>\n",
       "      <td>Flattery, like perfume, should be smelled, not...</td>\n",
       "      <td>Flattery, like perfume, should be smelled, not...</td>\n",
       "    </tr>\n",
       "  </tbody>\n",
       "</table>\n",
       "</div>"
      ],
      "text/plain": [
       "                                                    text  \\\n",
       "11636  @xkass7birdsx \"We can't take any credit for ou...   \n",
       "11637  Read the Biography of Shelley Fabares  http://...   \n",
       "11638  Read the Biography of Bob Marley  http://t.co/...   \n",
       "11639  RT @LakersReporter: Expected starters tonight:...   \n",
       "11640  Flattery, like perfume, should be smelled, not...   \n",
       "\n",
       "                                            clean_tweets  \n",
       "11636   \"We can't take any credit for our talents. It...  \n",
       "11637            Read the Biography of Shelley Fabares    \n",
       "11638                 Read the Biography of Bob Marley    \n",
       "11639   : Expected starters tonight: Jeremy Lin, Kobe...  \n",
       "11640  Flattery, like perfume, should be smelled, not...  "
      ]
     },
     "execution_count": 58,
     "metadata": {},
     "output_type": "execute_result"
    }
   ],
   "source": [
    "def link_cleaner(text):\n",
    "    text = re.sub(r'http.*','',text)\n",
    "    text = re.sub(\"@[A-Za-z0-9]+\",'',text)\n",
    "    text = re.sub(r'bit/ly.*', '', text)\n",
    "    text = re.sub(r'b\\'', '', text)\n",
    "    text = re.sub(r'b\"', '', text)\n",
    "    text = text.replace('RT', '')\n",
    "    return text\n",
    "\n",
    "b_tweets['clean_tweets'] = b_tweets['text'].apply(lambda x: link_cleaner(x))\n",
    "\n",
    "b_tweets.head()"
   ]
  },
  {
   "cell_type": "code",
   "execution_count": 59,
   "metadata": {},
   "outputs": [
    {
     "data": {
      "text/html": [
       "<div>\n",
       "<style scoped>\n",
       "    .dataframe tbody tr th:only-of-type {\n",
       "        vertical-align: middle;\n",
       "    }\n",
       "\n",
       "    .dataframe tbody tr th {\n",
       "        vertical-align: top;\n",
       "    }\n",
       "\n",
       "    .dataframe thead th {\n",
       "        text-align: right;\n",
       "    }\n",
       "</style>\n",
       "<table border=\"1\" class=\"dataframe\">\n",
       "  <thead>\n",
       "    <tr style=\"text-align: right;\">\n",
       "      <th></th>\n",
       "      <th>text</th>\n",
       "      <th>clean_tweets</th>\n",
       "    </tr>\n",
       "  </thead>\n",
       "  <tbody>\n",
       "    <tr>\n",
       "      <th>0</th>\n",
       "      <td>RT @JFarm2: European nights with the homies __...</td>\n",
       "      <td>: European nights with the homies __ee3 _thom...</td>\n",
       "    </tr>\n",
       "    <tr>\n",
       "      <th>1</th>\n",
       "      <td>@ohhellsyeah if you go into AoU with the inten...</td>\n",
       "      <td>if you go into AoU with the intention of bein...</td>\n",
       "    </tr>\n",
       "    <tr>\n",
       "      <th>2</th>\n",
       "      <td>@SwiftieJessie we are used to that in the vall...</td>\n",
       "      <td>we are used to that in the valleys around Wel...</td>\n",
       "    </tr>\n",
       "    <tr>\n",
       "      <th>3</th>\n",
       "      <td>@johnpaulwild islam is a big religion, youve s...</td>\n",
       "      <td>islam is a big religion, youve seen the bad, ...</td>\n",
       "    </tr>\n",
       "    <tr>\n",
       "      <th>4</th>\n",
       "      <td>Listen to Crazy - Merry Cherry  Parang Fiesta ...</td>\n",
       "      <td>Listen to Crazy - Merry Cherry  Parang Fiesta ...</td>\n",
       "    </tr>\n",
       "  </tbody>\n",
       "</table>\n",
       "</div>"
      ],
      "text/plain": [
       "                                                text  \\\n",
       "0  RT @JFarm2: European nights with the homies __...   \n",
       "1  @ohhellsyeah if you go into AoU with the inten...   \n",
       "2  @SwiftieJessie we are used to that in the vall...   \n",
       "3  @johnpaulwild islam is a big religion, youve s...   \n",
       "4  Listen to Crazy - Merry Cherry  Parang Fiesta ...   \n",
       "\n",
       "                                        clean_tweets  \n",
       "0   : European nights with the homies __ee3 _thom...  \n",
       "1   if you go into AoU with the intention of bein...  \n",
       "2   we are used to that in the valleys around Wel...  \n",
       "3   islam is a big religion, youve seen the bad, ...  \n",
       "4  Listen to Crazy - Merry Cherry  Parang Fiesta ...  "
      ]
     },
     "execution_count": 59,
     "metadata": {},
     "output_type": "execute_result"
    }
   ],
   "source": [
    "g_tweets['clean_tweets'] = g_tweets['text'].apply(lambda x: link_cleaner(x))\n",
    "\n",
    "g_tweets.head()"
   ]
  },
  {
   "cell_type": "code",
   "execution_count": 60,
   "metadata": {},
   "outputs": [
    {
     "name": "stderr",
     "output_type": "stream",
     "text": [
      "/Users/tsawaengsri/anaconda3/lib/python3.6/re.py:212: FutureWarning: split() requires a non-empty pattern match.\n",
      "  return _compile(pattern, flags).split(string, maxsplit)\n"
     ]
    },
    {
     "data": {
      "text/html": [
       "<div>\n",
       "<style scoped>\n",
       "    .dataframe tbody tr th:only-of-type {\n",
       "        vertical-align: middle;\n",
       "    }\n",
       "\n",
       "    .dataframe tbody tr th {\n",
       "        vertical-align: top;\n",
       "    }\n",
       "\n",
       "    .dataframe thead th {\n",
       "        text-align: right;\n",
       "    }\n",
       "</style>\n",
       "<table border=\"1\" class=\"dataframe\">\n",
       "  <thead>\n",
       "    <tr style=\"text-align: right;\">\n",
       "      <th></th>\n",
       "      <th>text</th>\n",
       "      <th>clean_tweets</th>\n",
       "    </tr>\n",
       "  </thead>\n",
       "  <tbody>\n",
       "    <tr>\n",
       "      <th>11636</th>\n",
       "      <td>@xkass7birdsx \"We can't take any credit for ou...</td>\n",
       "      <td>we can t take any credit for our talents it s...</td>\n",
       "    </tr>\n",
       "    <tr>\n",
       "      <th>11637</th>\n",
       "      <td>Read the Biography of Shelley Fabares  http://...</td>\n",
       "      <td>read the biography of shelley fabares</td>\n",
       "    </tr>\n",
       "    <tr>\n",
       "      <th>11638</th>\n",
       "      <td>Read the Biography of Bob Marley  http://t.co/...</td>\n",
       "      <td>read the biography of bob marley</td>\n",
       "    </tr>\n",
       "    <tr>\n",
       "      <th>11639</th>\n",
       "      <td>RT @LakersReporter: Expected starters tonight:...</td>\n",
       "      <td>expected starters tonight jeremy lin kobe bry...</td>\n",
       "    </tr>\n",
       "    <tr>\n",
       "      <th>11640</th>\n",
       "      <td>Flattery, like perfume, should be smelled, not...</td>\n",
       "      <td>flattery like perfume should be smelled not sw...</td>\n",
       "    </tr>\n",
       "  </tbody>\n",
       "</table>\n",
       "</div>"
      ],
      "text/plain": [
       "                                                    text  \\\n",
       "11636  @xkass7birdsx \"We can't take any credit for ou...   \n",
       "11637  Read the Biography of Shelley Fabares  http://...   \n",
       "11638  Read the Biography of Bob Marley  http://t.co/...   \n",
       "11639  RT @LakersReporter: Expected starters tonight:...   \n",
       "11640  Flattery, like perfume, should be smelled, not...   \n",
       "\n",
       "                                            clean_tweets  \n",
       "11636   we can t take any credit for our talents it s...  \n",
       "11637             read the biography of shelley fabares   \n",
       "11638                  read the biography of bob marley   \n",
       "11639   expected starters tonight jeremy lin kobe bry...  \n",
       "11640  flattery like perfume should be smelled not sw...  "
      ]
     },
     "execution_count": 60,
     "metadata": {},
     "output_type": "execute_result"
    }
   ],
   "source": [
    "# Return only characters \n",
    "def clean_alpha(text):\n",
    "    text = \" \".join(re.split(\"[^a-zA-Z]*\", text))\n",
    "    return text\n",
    "\n",
    "b_tweets['clean_tweets'] = b_tweets['clean_tweets'].apply(lambda x: clean_alpha(x.lower()))\n",
    "\n",
    "b_tweets.head()"
   ]
  },
  {
   "cell_type": "code",
   "execution_count": 61,
   "metadata": {},
   "outputs": [
    {
     "data": {
      "text/html": [
       "<div>\n",
       "<style scoped>\n",
       "    .dataframe tbody tr th:only-of-type {\n",
       "        vertical-align: middle;\n",
       "    }\n",
       "\n",
       "    .dataframe tbody tr th {\n",
       "        vertical-align: top;\n",
       "    }\n",
       "\n",
       "    .dataframe thead th {\n",
       "        text-align: right;\n",
       "    }\n",
       "</style>\n",
       "<table border=\"1\" class=\"dataframe\">\n",
       "  <thead>\n",
       "    <tr style=\"text-align: right;\">\n",
       "      <th></th>\n",
       "      <th>text</th>\n",
       "      <th>clean_tweets</th>\n",
       "    </tr>\n",
       "  </thead>\n",
       "  <tbody>\n",
       "    <tr>\n",
       "      <th>0</th>\n",
       "      <td>RT @JFarm2: European nights with the homies __...</td>\n",
       "      <td>european nights with the homies ee thomas jar...</td>\n",
       "    </tr>\n",
       "    <tr>\n",
       "      <th>1</th>\n",
       "      <td>@ohhellsyeah if you go into AoU with the inten...</td>\n",
       "      <td>if you go into aou with the intention of bein...</td>\n",
       "    </tr>\n",
       "    <tr>\n",
       "      <th>2</th>\n",
       "      <td>@SwiftieJessie we are used to that in the vall...</td>\n",
       "      <td>we are used to that in the valleys around wel...</td>\n",
       "    </tr>\n",
       "    <tr>\n",
       "      <th>3</th>\n",
       "      <td>@johnpaulwild islam is a big religion, youve s...</td>\n",
       "      <td>islam is a big religion youve seen the bad an...</td>\n",
       "    </tr>\n",
       "    <tr>\n",
       "      <th>4</th>\n",
       "      <td>Listen to Crazy - Merry Cherry  Parang Fiesta ...</td>\n",
       "      <td>listen to crazy merry cherry parang fiesta rid...</td>\n",
       "    </tr>\n",
       "  </tbody>\n",
       "</table>\n",
       "</div>"
      ],
      "text/plain": [
       "                                                text  \\\n",
       "0  RT @JFarm2: European nights with the homies __...   \n",
       "1  @ohhellsyeah if you go into AoU with the inten...   \n",
       "2  @SwiftieJessie we are used to that in the vall...   \n",
       "3  @johnpaulwild islam is a big religion, youve s...   \n",
       "4  Listen to Crazy - Merry Cherry  Parang Fiesta ...   \n",
       "\n",
       "                                        clean_tweets  \n",
       "0   european nights with the homies ee thomas jar...  \n",
       "1   if you go into aou with the intention of bein...  \n",
       "2   we are used to that in the valleys around wel...  \n",
       "3   islam is a big religion youve seen the bad an...  \n",
       "4  listen to crazy merry cherry parang fiesta rid...  "
      ]
     },
     "execution_count": 61,
     "metadata": {},
     "output_type": "execute_result"
    }
   ],
   "source": [
    "g_tweets['clean_tweets'] = g_tweets['clean_tweets'].apply(lambda x: clean_alpha(x.lower()))\n",
    "\n",
    "g_tweets.head()"
   ]
  },
  {
   "cell_type": "code",
   "execution_count": 62,
   "metadata": {},
   "outputs": [],
   "source": [
    "# Define stopwords to exclude\n",
    "stop = set(stopwords.words('english'))\n",
    "\n",
    "# Define punctuations to exclude and lemmatizer\n",
    "exclude = set(string.punctuation)"
   ]
  },
  {
   "cell_type": "code",
   "execution_count": 63,
   "metadata": {},
   "outputs": [
    {
     "name": "stderr",
     "output_type": "stream",
     "text": [
      "[nltk_data] Downloading package wordnet to\n",
      "[nltk_data]     /Users/tsawaengsri/nltk_data...\n",
      "[nltk_data]   Package wordnet is already up-to-date!\n"
     ]
    },
    {
     "data": {
      "text/plain": [
       "True"
      ]
     },
     "execution_count": 63,
     "metadata": {},
     "output_type": "execute_result"
    }
   ],
   "source": [
    "import nltk\n",
    "nltk.download('wordnet')"
   ]
  },
  {
   "cell_type": "code",
   "execution_count": 64,
   "metadata": {},
   "outputs": [
    {
     "data": {
      "text/html": [
       "<div>\n",
       "<style scoped>\n",
       "    .dataframe tbody tr th:only-of-type {\n",
       "        vertical-align: middle;\n",
       "    }\n",
       "\n",
       "    .dataframe tbody tr th {\n",
       "        vertical-align: top;\n",
       "    }\n",
       "\n",
       "    .dataframe thead th {\n",
       "        text-align: right;\n",
       "    }\n",
       "</style>\n",
       "<table border=\"1\" class=\"dataframe\">\n",
       "  <thead>\n",
       "    <tr style=\"text-align: right;\">\n",
       "      <th></th>\n",
       "      <th>text</th>\n",
       "      <th>clean_tweets</th>\n",
       "    </tr>\n",
       "  </thead>\n",
       "  <tbody>\n",
       "    <tr>\n",
       "      <th>11636</th>\n",
       "      <td>@xkass7birdsx \"We can't take any credit for ou...</td>\n",
       "      <td>take credit talent use count madeleine l engle</td>\n",
       "    </tr>\n",
       "    <tr>\n",
       "      <th>11637</th>\n",
       "      <td>Read the Biography of Shelley Fabares  http://...</td>\n",
       "      <td>read biography shelley fabares</td>\n",
       "    </tr>\n",
       "    <tr>\n",
       "      <th>11638</th>\n",
       "      <td>Read the Biography of Bob Marley  http://t.co/...</td>\n",
       "      <td>read biography bob marley</td>\n",
       "    </tr>\n",
       "    <tr>\n",
       "      <th>11639</th>\n",
       "      <td>RT @LakersReporter: Expected starters tonight:...</td>\n",
       "      <td>expected starter tonight jeremy lin kobe bryan...</td>\n",
       "    </tr>\n",
       "    <tr>\n",
       "      <th>11640</th>\n",
       "      <td>Flattery, like perfume, should be smelled, not...</td>\n",
       "      <td>flattery like perfume smelled swallowed</td>\n",
       "    </tr>\n",
       "  </tbody>\n",
       "</table>\n",
       "</div>"
      ],
      "text/plain": [
       "                                                    text  \\\n",
       "11636  @xkass7birdsx \"We can't take any credit for ou...   \n",
       "11637  Read the Biography of Shelley Fabares  http://...   \n",
       "11638  Read the Biography of Bob Marley  http://t.co/...   \n",
       "11639  RT @LakersReporter: Expected starters tonight:...   \n",
       "11640  Flattery, like perfume, should be smelled, not...   \n",
       "\n",
       "                                            clean_tweets  \n",
       "11636     take credit talent use count madeleine l engle  \n",
       "11637                     read biography shelley fabares  \n",
       "11638                          read biography bob marley  \n",
       "11639  expected starter tonight jeremy lin kobe bryan...  \n",
       "11640            flattery like perfume smelled swallowed  "
      ]
     },
     "execution_count": 64,
     "metadata": {},
     "output_type": "execute_result"
    }
   ],
   "source": [
    "# Import the lemmatizer from nltk\n",
    "lemma = WordNetLemmatizer()\n",
    "\n",
    "# Define word cleaning function\n",
    "def final_clean(text, stop=stop):\n",
    "    text = text.rstrip()\n",
    "    stop_free = \" \".join([i for i in text.lower().split() if((i not in stop) and (not i.isdigit()))])\n",
    "    punc_free = ''.join(i for i in stop_free if i not in exclude)\n",
    "    normalized = \" \".join(lemma.lemmatize(i) for i in punc_free.split())      \n",
    "    return normalized\n",
    "\n",
    "b_tweets['clean_tweets'] = b_tweets['clean_tweets'].apply(lambda x: final_clean(x))\n",
    "\n",
    "b_tweets.head()"
   ]
  },
  {
   "cell_type": "code",
   "execution_count": 65,
   "metadata": {},
   "outputs": [
    {
     "data": {
      "text/html": [
       "<div>\n",
       "<style scoped>\n",
       "    .dataframe tbody tr th:only-of-type {\n",
       "        vertical-align: middle;\n",
       "    }\n",
       "\n",
       "    .dataframe tbody tr th {\n",
       "        vertical-align: top;\n",
       "    }\n",
       "\n",
       "    .dataframe thead th {\n",
       "        text-align: right;\n",
       "    }\n",
       "</style>\n",
       "<table border=\"1\" class=\"dataframe\">\n",
       "  <thead>\n",
       "    <tr style=\"text-align: right;\">\n",
       "      <th></th>\n",
       "      <th>text</th>\n",
       "      <th>clean_tweets</th>\n",
       "    </tr>\n",
       "  </thead>\n",
       "  <tbody>\n",
       "    <tr>\n",
       "      <th>0</th>\n",
       "      <td>RT @JFarm2: European nights with the homies __...</td>\n",
       "      <td>european night homies ee thomas jari kim tbt</td>\n",
       "    </tr>\n",
       "    <tr>\n",
       "      <th>1</th>\n",
       "      <td>@ohhellsyeah if you go into AoU with the inten...</td>\n",
       "      <td>go aou intention hawkeye satisfied</td>\n",
       "    </tr>\n",
       "    <tr>\n",
       "      <th>2</th>\n",
       "      <td>@SwiftieJessie we are used to that in the vall...</td>\n",
       "      <td>used valley around wellington</td>\n",
       "    </tr>\n",
       "    <tr>\n",
       "      <th>3</th>\n",
       "      <td>@johnpaulwild islam is a big religion, youve s...</td>\n",
       "      <td>islam big religion youve seen bad dont think y...</td>\n",
       "    </tr>\n",
       "    <tr>\n",
       "      <th>4</th>\n",
       "      <td>Listen to Crazy - Merry Cherry  Parang Fiesta ...</td>\n",
       "      <td>listen crazy merry cherry parang fiesta riddim...</td>\n",
       "    </tr>\n",
       "  </tbody>\n",
       "</table>\n",
       "</div>"
      ],
      "text/plain": [
       "                                                text  \\\n",
       "0  RT @JFarm2: European nights with the homies __...   \n",
       "1  @ohhellsyeah if you go into AoU with the inten...   \n",
       "2  @SwiftieJessie we are used to that in the vall...   \n",
       "3  @johnpaulwild islam is a big religion, youve s...   \n",
       "4  Listen to Crazy - Merry Cherry  Parang Fiesta ...   \n",
       "\n",
       "                                        clean_tweets  \n",
       "0       european night homies ee thomas jari kim tbt  \n",
       "1                 go aou intention hawkeye satisfied  \n",
       "2                      used valley around wellington  \n",
       "3  islam big religion youve seen bad dont think y...  \n",
       "4  listen crazy merry cherry parang fiesta riddim...  "
      ]
     },
     "execution_count": 65,
     "metadata": {},
     "output_type": "execute_result"
    }
   ],
   "source": [
    "g_tweets['clean_tweets'] = g_tweets['clean_tweets'].apply(lambda x: final_clean(x))\n",
    "\n",
    "g_tweets.head()"
   ]
  },
  {
   "cell_type": "markdown",
   "metadata": {},
   "source": [
    "Since we were unable to translate non English tweets, those cells are empty and will be dropped."
   ]
  },
  {
   "cell_type": "code",
   "execution_count": 66,
   "metadata": {},
   "outputs": [
    {
     "name": "stderr",
     "output_type": "stream",
     "text": [
      "/Users/tsawaengsri/anaconda3/lib/python3.6/site-packages/ipykernel_launcher.py:2: SettingWithCopyWarning: \n",
      "A value is trying to be set on a copy of a slice from a DataFrame.\n",
      "Try using .loc[row_indexer,col_indexer] = value instead\n",
      "\n",
      "See the caveats in the documentation: http://pandas.pydata.org/pandas-docs/stable/user_guide/indexing.html#returning-a-view-versus-a-copy\n",
      "  \n",
      "/Users/tsawaengsri/anaconda3/lib/python3.6/site-packages/ipykernel_launcher.py:3: SettingWithCopyWarning: \n",
      "A value is trying to be set on a copy of a slice from a DataFrame.\n",
      "Try using .loc[row_indexer,col_indexer] = value instead\n",
      "\n",
      "See the caveats in the documentation: http://pandas.pydata.org/pandas-docs/stable/user_guide/indexing.html#returning-a-view-versus-a-copy\n",
      "  This is separate from the ipykernel package so we can avoid doing imports until\n"
     ]
    }
   ],
   "source": [
    "# Add clean_tweets back to bots and gen df to drop empty tweets\n",
    "bots['clean_tweets'] = b_tweets['clean_tweets']\n",
    "gen['clean_tweets'] = g_tweets['clean_tweets']"
   ]
  },
  {
   "cell_type": "code",
   "execution_count": 67,
   "metadata": {},
   "outputs": [
    {
     "name": "stdout",
     "output_type": "stream",
     "text": [
      "(10055, 32)\n",
      "(11636, 32)\n"
     ]
    }
   ],
   "source": [
    "# Shape before dropping empty tweets\n",
    "print(bots.shape)\n",
    "print(gen.shape)"
   ]
  },
  {
   "cell_type": "code",
   "execution_count": 68,
   "metadata": {},
   "outputs": [],
   "source": [
    "# Replace field that's entirely space (or empty) with NaN\n",
    "bots = bots.replace(r'^\\s*$', np.nan, regex=True)\n",
    "gen = gen.replace(r'^\\s*$', np.nan, regex=True)"
   ]
  },
  {
   "cell_type": "code",
   "execution_count": 69,
   "metadata": {},
   "outputs": [],
   "source": [
    "# Drop nan\n",
    "bots = bots.dropna() \n",
    "gen = gen.dropna()"
   ]
  },
  {
   "cell_type": "code",
   "execution_count": 70,
   "metadata": {},
   "outputs": [],
   "source": [
    "# Reset index to start at 0\n",
    "bots = bots.reset_index()\n",
    "gen = gen.reset_index() "
   ]
  },
  {
   "cell_type": "code",
   "execution_count": 71,
   "metadata": {},
   "outputs": [
    {
     "name": "stdout",
     "output_type": "stream",
     "text": [
      "(9972, 33)\n",
      "(11141, 33)\n"
     ]
    }
   ],
   "source": [
    "# Shape after dropping empty tweets\n",
    "print(bots.shape)\n",
    "print(gen.shape)"
   ]
  },
  {
   "cell_type": "markdown",
   "metadata": {},
   "source": [
    "We lost a few hundreds of tweets for bots and genuine accounts. "
   ]
  },
  {
   "cell_type": "code",
   "execution_count": 72,
   "metadata": {},
   "outputs": [],
   "source": [
    "# Convert df to np arrary \n",
    "b_clean = bots['clean_tweets'].values\n",
    "g_clean = gen['clean_tweets'].values"
   ]
  },
  {
   "cell_type": "code",
   "execution_count": 73,
   "metadata": {},
   "outputs": [],
   "source": [
    "# Convert np arrary to one deminsional array \n",
    "b_clean = b_clean.ravel()"
   ]
  },
  {
   "cell_type": "code",
   "execution_count": 74,
   "metadata": {},
   "outputs": [
    {
     "data": {
      "text/plain": [
       "numpy.ndarray"
      ]
     },
     "execution_count": 74,
     "metadata": {},
     "output_type": "execute_result"
    }
   ],
   "source": [
    "type(b_clean)"
   ]
  },
  {
   "cell_type": "code",
   "execution_count": 75,
   "metadata": {},
   "outputs": [],
   "source": [
    "# Convert np arrary to one deminsional array \n",
    "g_clean = g_clean.ravel()"
   ]
  },
  {
   "cell_type": "code",
   "execution_count": 76,
   "metadata": {},
   "outputs": [
    {
     "data": {
      "text/plain": [
       "numpy.ndarray"
      ]
     },
     "execution_count": 76,
     "metadata": {},
     "output_type": "execute_result"
    }
   ],
   "source": [
    "type(g_clean)"
   ]
  },
  {
   "cell_type": "markdown",
   "metadata": {},
   "source": [
    "### Count Vectorizer\n",
    "Converting a collection of stemmed tweets to a matrix of token counts"
   ]
  },
  {
   "cell_type": "code",
   "execution_count": 77,
   "metadata": {},
   "outputs": [
    {
     "name": "stdout",
     "output_type": "stream",
     "text": [
      "(9972, 11274)\n",
      "<class 'scipy.sparse.csr.csr_matrix'>\n"
     ]
    }
   ],
   "source": [
    "# Initialize a CountVectorizer object for bot tweets\n",
    "b_count_vectorizer = CountVectorizer(stop_words='english')\n",
    "\n",
    "# Learn the vocabulary dictionary and return term-document matrix for bot tweets\n",
    "b_clean = b_count_vectorizer.fit_transform(b_clean) \n",
    "\n",
    "# Summarize encoded vector\n",
    "print(b_clean.shape)\n",
    "print(type(b_clean))"
   ]
  },
  {
   "cell_type": "code",
   "execution_count": 78,
   "metadata": {},
   "outputs": [
    {
     "data": {
      "text/plain": [
       "array(['aa', 'aaron', 'ab', 'abate', 'abba', 'abbaia', 'abbaiare',\n",
       "       'abbandonare', 'abbandoni', 'abbassata', 'abbastanza', 'abbia',\n",
       "       'abbiamo', 'abbiate', 'abbinarsi', 'abbondanza', 'abbracciata',\n",
       "       'abbracciavi', 'abbracciinfallibili', 'abbraccio', 'abdjsjsb',\n",
       "       'abdul', 'abel', 'abert', 'abides', 'abile', 'ability', 'abingdon',\n",
       "       'abisso', 'abit'], dtype='<U19')"
      ]
     },
     "execution_count": 78,
     "metadata": {},
     "output_type": "execute_result"
    }
   ],
   "source": [
    "# Bot Tweets Vocabulary \n",
    "b_vocab = b_count_vectorizer.get_feature_names()\n",
    "np.array(b_vocab[:30])"
   ]
  },
  {
   "cell_type": "code",
   "execution_count": 79,
   "metadata": {},
   "outputs": [
    {
     "name": "stdout",
     "output_type": "stream",
     "text": [
      "(11141, 16958)\n",
      "<class 'scipy.sparse.csr.csr_matrix'>\n"
     ]
    }
   ],
   "source": [
    "# Initialize a CountVectorizer object for bot tweets\n",
    "g_count_vectorizer = CountVectorizer(stop_words='english')\n",
    "\n",
    "# Learn the vocabulary dictionary and return term-document matrix for genuine tweets\n",
    "g_clean = g_count_vectorizer.fit_transform(g_clean)\n",
    "\n",
    "# Summarize encoded vector\n",
    "print(g_clean.shape)\n",
    "print(type(g_clean))"
   ]
  },
  {
   "cell_type": "code",
   "execution_count": 80,
   "metadata": {},
   "outputs": [
    {
     "data": {
      "text/plain": [
       "array(['aa', 'aaa', 'aaaaah', 'aaaaavgsgsb', 'aaah', 'aaawtsu', 'aabhaav',\n",
       "       'aadhar', 'aadmi', 'aah', 'aaj', 'aaliing', 'aam', 'aan', 'aang',\n",
       "       'aangezien', 'aanyway', 'aap', 'aapkamanifesto', 'aapki', 'aaral',\n",
       "       'aarion', 'aaron', 'ab', 'aba', 'abandoning', 'abb', 'abbey',\n",
       "       'abbott', 'abc'], dtype='<U14')"
      ]
     },
     "execution_count": 80,
     "metadata": {},
     "output_type": "execute_result"
    }
   ],
   "source": [
    "# Genuine Tweets Vocabulary \n",
    "g_vocab = g_count_vectorizer.get_feature_names()\n",
    "np.array(g_vocab[:30])"
   ]
  },
  {
   "cell_type": "markdown",
   "metadata": {},
   "source": [
    "### Tfidf Transformer \n",
    "\"The goal of using tf-idf instead of the raw frequencies of occurrence of a token in a given document is to scale down the impact of tokens that occur very frequently in a given corpus and that are hence empirically less informative than features that occur in a small fraction of the training corpus\".[Source](https://scikit-learn.org/stable/modules/generated/sklearn.feature_extraction.text.TfidfTransformer.html)"
   ]
  },
  {
   "cell_type": "code",
   "execution_count": 81,
   "metadata": {},
   "outputs": [
    {
     "name": "stdout",
     "output_type": "stream",
     "text": [
      "(9972, 11274)\n",
      "<class 'scipy.sparse.csr.csr_matrix'>\n"
     ]
    }
   ],
   "source": [
    "# Learn the idf vector (global term weights) for bot tweets\n",
    "b_tf_transformer = TfidfTransformer(use_idf=False).fit(b_clean) # Don't enable inverse-document-frequency reweighting\n",
    "\n",
    "# Transform a count matrix to a tf-idf representation\n",
    "b_tfidf_train = b_tf_transformer.transform(b_clean)\n",
    "\n",
    "# Summarize encoded vector\n",
    "print(b_tfidf_train.shape)\n",
    "print(type(b_tfidf_train))"
   ]
  },
  {
   "cell_type": "code",
   "execution_count": 82,
   "metadata": {},
   "outputs": [
    {
     "name": "stdout",
     "output_type": "stream",
     "text": [
      "(11141, 16958)\n",
      "<class 'scipy.sparse.csr.csr_matrix'>\n"
     ]
    }
   ],
   "source": [
    "# Learn the idf vector (global term weights) for genuine tweets\n",
    "g_tf_transformer = TfidfTransformer(use_idf=False).fit(g_clean)\n",
    "\n",
    "# Transform a count matrix to a tf-idf representation\n",
    "g_tfidf_train = g_tf_transformer.transform(g_clean)\n",
    "\n",
    "# Summarize encoded vector\n",
    "print(g_tfidf_train.shape)\n",
    "print(type(g_tfidf_train))"
   ]
  },
  {
   "cell_type": "markdown",
   "metadata": {},
   "source": [
    "As shown above, there are over 20,000 tokens for both bots and genuine tweets. We'll need to reduce the number of features to prevent overfitting. \n",
    "\n",
    "### TruncatedSVD\n",
    "\"This transformer performs linear dimensionality reduction by means of truncated singular value decomposition (SVD). Contrary to PCA, this estimator does not center the data before computing the singular value decomposition. This means it can work with scipy.sparse matrices efficiently.\" [Source](https://scikit-learn.org/stable/modules/generated/sklearn.decomposition.TruncatedSVD.html)"
   ]
  },
  {
   "cell_type": "code",
   "execution_count": 83,
   "metadata": {
    "scrolled": true
   },
   "outputs": [
    {
     "name": "stdout",
     "output_type": "stream",
     "text": [
      "(9972, 100)\n",
      "[0.0249418  0.01623952 0.01121651 0.00982606 0.0060509  0.00700675\n",
      " 0.00583125 0.0059195  0.00573423 0.00523422 0.00495385 0.00484312\n",
      " 0.00479951 0.00469496 0.0045657  0.0042907  0.00412789 0.00404581\n",
      " 0.00393298 0.00386655 0.00381336 0.00378843 0.00371822 0.00369043\n",
      " 0.00360636 0.00357406 0.0035235  0.00327872 0.00318252 0.0031518\n",
      " 0.00310714 0.00303688 0.00290483 0.00289264 0.00283203 0.00275488\n",
      " 0.00270971 0.00265468 0.00265286 0.00259112 0.00251155 0.00246379\n",
      " 0.00244563 0.00239168 0.00238238 0.00233663 0.00223966 0.00226385\n",
      " 0.00220422 0.00218067 0.00215067 0.00212752 0.00208194 0.00205225\n",
      " 0.00204185 0.00203954 0.00202229 0.00200065 0.00197186 0.00194916\n",
      " 0.00193535 0.0019196  0.00188698 0.00188389 0.00186831 0.00185285\n",
      " 0.00183955 0.00182368 0.00181684 0.00177738 0.00176318 0.00173311\n",
      " 0.00172352 0.00170589 0.00169248 0.0016835  0.00165491 0.00163864\n",
      " 0.00163409 0.0016227  0.00161896 0.00161186 0.00160136 0.00157318\n",
      " 0.00155019 0.00153251 0.00153351 0.00152945 0.00152107 0.00148837\n",
      " 0.00146137 0.00145061 0.00143054 0.00140387 0.00139163 0.00137015\n",
      " 0.00134801 0.0013285  0.00131375 0.00130747]\n",
      "0.31729135256902335\n"
     ]
    }
   ],
   "source": [
    "# TruncatedSVD to reduce dimensions \n",
    "svd = TruncatedSVD(n_components=100, n_iter=7, random_state=42).fit(b_tfidf_train)\n",
    "b_svdTFit = svd.fit_transform(b_tfidf_train)\n",
    "\n",
    "# Summary of transformation \n",
    "print(b_svdTFit.shape)\n",
    "print(svd.explained_variance_)\n",
    "print(svd.explained_variance_ratio_.sum())"
   ]
  },
  {
   "cell_type": "code",
   "execution_count": 84,
   "metadata": {},
   "outputs": [
    {
     "name": "stdout",
     "output_type": "stream",
     "text": [
      "(11141, 100)\n",
      "[0.00612394 0.00703709 0.00617746 0.00558164 0.00552264 0.00523134\n",
      " 0.00468252 0.00403385 0.0040341  0.0039189  0.00382545 0.00354325\n",
      " 0.00351014 0.00347174 0.0034223  0.00329879 0.0032724  0.0030913\n",
      " 0.0029675  0.0029634  0.00287277 0.00285237 0.00283165 0.0028083\n",
      " 0.00273892 0.00266592 0.00256782 0.00253181 0.00249369 0.00242149\n",
      " 0.00241368 0.0023714  0.00235383 0.00230655 0.00228875 0.00224474\n",
      " 0.00223752 0.00219364 0.00216342 0.00215586 0.00214209 0.0021217\n",
      " 0.00209747 0.00209281 0.00204409 0.00200453 0.00197942 0.00193158\n",
      " 0.00184556 0.00181778 0.0017951  0.0017969  0.00176497 0.00175218\n",
      " 0.00172677 0.00170874 0.00167896 0.00166838 0.00161597 0.00159804\n",
      " 0.00159496 0.00157323 0.00154086 0.00152467 0.00150926 0.00150073\n",
      " 0.00147847 0.0014565  0.00143995 0.00142958 0.00142862 0.00140707\n",
      " 0.00138967 0.00138974 0.00138494 0.00136407 0.00131775 0.00131228\n",
      " 0.00129707 0.00128679 0.00127445 0.00125125 0.00124595 0.00123611\n",
      " 0.00122034 0.00122016 0.00120152 0.00119681 0.00117902 0.00116894\n",
      " 0.00115304 0.00113335 0.00113294 0.00112007 0.00111057 0.00110387\n",
      " 0.00108976 0.00108337 0.00106607 0.00106171]\n",
      "0.22637830360858574\n"
     ]
    }
   ],
   "source": [
    "# TruncatedSVD to reduce dimensions \n",
    "svd2 = TruncatedSVD(n_components=100, n_iter=7, random_state=42).fit(g_tfidf_train)\n",
    "g_svdTFit = svd2.fit_transform(g_tfidf_train)\n",
    "\n",
    "# Summary of transformation \n",
    "print(g_svdTFit.shape)\n",
    "print(svd2.explained_variance_)\n",
    "print(svd2.explained_variance_ratio_.sum())"
   ]
  },
  {
   "cell_type": "code",
   "execution_count": 85,
   "metadata": {},
   "outputs": [
    {
     "data": {
      "text/html": [
       "<div>\n",
       "<style scoped>\n",
       "    .dataframe tbody tr th:only-of-type {\n",
       "        vertical-align: middle;\n",
       "    }\n",
       "\n",
       "    .dataframe tbody tr th {\n",
       "        vertical-align: top;\n",
       "    }\n",
       "\n",
       "    .dataframe thead th {\n",
       "        text-align: right;\n",
       "    }\n",
       "</style>\n",
       "<table border=\"1\" class=\"dataframe\">\n",
       "  <thead>\n",
       "    <tr style=\"text-align: right;\">\n",
       "      <th></th>\n",
       "      <th>0</th>\n",
       "      <th>1</th>\n",
       "      <th>2</th>\n",
       "      <th>3</th>\n",
       "      <th>4</th>\n",
       "      <th>5</th>\n",
       "      <th>6</th>\n",
       "      <th>7</th>\n",
       "      <th>8</th>\n",
       "      <th>9</th>\n",
       "      <th>...</th>\n",
       "      <th>90</th>\n",
       "      <th>91</th>\n",
       "      <th>92</th>\n",
       "      <th>93</th>\n",
       "      <th>94</th>\n",
       "      <th>95</th>\n",
       "      <th>96</th>\n",
       "      <th>97</th>\n",
       "      <th>98</th>\n",
       "      <th>99</th>\n",
       "    </tr>\n",
       "  </thead>\n",
       "  <tbody>\n",
       "    <tr>\n",
       "      <th>0</th>\n",
       "      <td>0.000992</td>\n",
       "      <td>0.000707</td>\n",
       "      <td>0.001228</td>\n",
       "      <td>-0.000707</td>\n",
       "      <td>0.010376</td>\n",
       "      <td>-0.000422</td>\n",
       "      <td>0.005786</td>\n",
       "      <td>-0.000691</td>\n",
       "      <td>0.003975</td>\n",
       "      <td>-0.007989</td>\n",
       "      <td>...</td>\n",
       "      <td>-0.012411</td>\n",
       "      <td>-0.008973</td>\n",
       "      <td>-0.023516</td>\n",
       "      <td>0.029430</td>\n",
       "      <td>-0.019259</td>\n",
       "      <td>0.000415</td>\n",
       "      <td>-0.007032</td>\n",
       "      <td>0.056051</td>\n",
       "      <td>0.029408</td>\n",
       "      <td>-0.009628</td>\n",
       "    </tr>\n",
       "    <tr>\n",
       "      <th>1</th>\n",
       "      <td>0.403390</td>\n",
       "      <td>-0.040761</td>\n",
       "      <td>-0.073458</td>\n",
       "      <td>0.022357</td>\n",
       "      <td>0.100217</td>\n",
       "      <td>-0.203633</td>\n",
       "      <td>-0.209938</td>\n",
       "      <td>-0.010603</td>\n",
       "      <td>0.404476</td>\n",
       "      <td>-0.000367</td>\n",
       "      <td>...</td>\n",
       "      <td>-0.018810</td>\n",
       "      <td>-0.001274</td>\n",
       "      <td>-0.012523</td>\n",
       "      <td>0.013657</td>\n",
       "      <td>-0.016154</td>\n",
       "      <td>-0.030277</td>\n",
       "      <td>0.004878</td>\n",
       "      <td>-0.010191</td>\n",
       "      <td>-0.029762</td>\n",
       "      <td>0.014325</td>\n",
       "    </tr>\n",
       "    <tr>\n",
       "      <th>2</th>\n",
       "      <td>0.402466</td>\n",
       "      <td>-0.037389</td>\n",
       "      <td>-0.073516</td>\n",
       "      <td>0.022321</td>\n",
       "      <td>0.101458</td>\n",
       "      <td>-0.201813</td>\n",
       "      <td>-0.205088</td>\n",
       "      <td>-0.010856</td>\n",
       "      <td>0.400734</td>\n",
       "      <td>-0.002747</td>\n",
       "      <td>...</td>\n",
       "      <td>-0.012950</td>\n",
       "      <td>0.004829</td>\n",
       "      <td>-0.013223</td>\n",
       "      <td>0.020551</td>\n",
       "      <td>-0.015128</td>\n",
       "      <td>-0.033428</td>\n",
       "      <td>0.029562</td>\n",
       "      <td>-0.010037</td>\n",
       "      <td>-0.023398</td>\n",
       "      <td>0.014967</td>\n",
       "    </tr>\n",
       "    <tr>\n",
       "      <th>3</th>\n",
       "      <td>0.001356</td>\n",
       "      <td>0.001124</td>\n",
       "      <td>-0.000038</td>\n",
       "      <td>-0.000021</td>\n",
       "      <td>0.004451</td>\n",
       "      <td>-0.000939</td>\n",
       "      <td>0.002909</td>\n",
       "      <td>-0.000476</td>\n",
       "      <td>0.001824</td>\n",
       "      <td>0.000964</td>\n",
       "      <td>...</td>\n",
       "      <td>0.003115</td>\n",
       "      <td>-0.000021</td>\n",
       "      <td>-0.000012</td>\n",
       "      <td>0.003761</td>\n",
       "      <td>-0.002089</td>\n",
       "      <td>-0.001214</td>\n",
       "      <td>0.002254</td>\n",
       "      <td>0.009413</td>\n",
       "      <td>0.003055</td>\n",
       "      <td>-0.009064</td>\n",
       "    </tr>\n",
       "    <tr>\n",
       "      <th>4</th>\n",
       "      <td>0.000695</td>\n",
       "      <td>0.001825</td>\n",
       "      <td>0.005454</td>\n",
       "      <td>-0.002593</td>\n",
       "      <td>0.049966</td>\n",
       "      <td>-0.000299</td>\n",
       "      <td>0.070249</td>\n",
       "      <td>-0.009839</td>\n",
       "      <td>0.023056</td>\n",
       "      <td>-0.020315</td>\n",
       "      <td>...</td>\n",
       "      <td>0.009184</td>\n",
       "      <td>-0.019363</td>\n",
       "      <td>0.000666</td>\n",
       "      <td>0.001417</td>\n",
       "      <td>0.003266</td>\n",
       "      <td>-0.006359</td>\n",
       "      <td>0.002099</td>\n",
       "      <td>-0.006719</td>\n",
       "      <td>-0.016180</td>\n",
       "      <td>0.002187</td>\n",
       "    </tr>\n",
       "  </tbody>\n",
       "</table>\n",
       "<p>5 rows × 100 columns</p>\n",
       "</div>"
      ],
      "text/plain": [
       "         0         1         2         3         4         5         6   \\\n",
       "0  0.000992  0.000707  0.001228 -0.000707  0.010376 -0.000422  0.005786   \n",
       "1  0.403390 -0.040761 -0.073458  0.022357  0.100217 -0.203633 -0.209938   \n",
       "2  0.402466 -0.037389 -0.073516  0.022321  0.101458 -0.201813 -0.205088   \n",
       "3  0.001356  0.001124 -0.000038 -0.000021  0.004451 -0.000939  0.002909   \n",
       "4  0.000695  0.001825  0.005454 -0.002593  0.049966 -0.000299  0.070249   \n",
       "\n",
       "         7         8         9   ...        90        91        92        93  \\\n",
       "0 -0.000691  0.003975 -0.007989  ... -0.012411 -0.008973 -0.023516  0.029430   \n",
       "1 -0.010603  0.404476 -0.000367  ... -0.018810 -0.001274 -0.012523  0.013657   \n",
       "2 -0.010856  0.400734 -0.002747  ... -0.012950  0.004829 -0.013223  0.020551   \n",
       "3 -0.000476  0.001824  0.000964  ...  0.003115 -0.000021 -0.000012  0.003761   \n",
       "4 -0.009839  0.023056 -0.020315  ...  0.009184 -0.019363  0.000666  0.001417   \n",
       "\n",
       "         94        95        96        97        98        99  \n",
       "0 -0.019259  0.000415 -0.007032  0.056051  0.029408 -0.009628  \n",
       "1 -0.016154 -0.030277  0.004878 -0.010191 -0.029762  0.014325  \n",
       "2 -0.015128 -0.033428  0.029562 -0.010037 -0.023398  0.014967  \n",
       "3 -0.002089 -0.001214  0.002254  0.009413  0.003055 -0.009064  \n",
       "4  0.003266 -0.006359  0.002099 -0.006719 -0.016180  0.002187  \n",
       "\n",
       "[5 rows x 100 columns]"
      ]
     },
     "execution_count": 85,
     "metadata": {},
     "output_type": "execute_result"
    }
   ],
   "source": [
    "# Convert svdTFit array to df \n",
    "b_svdTFit = pd.DataFrame(b_svdTFit)\n",
    "b_svdTFit.head()"
   ]
  },
  {
   "cell_type": "code",
   "execution_count": 86,
   "metadata": {},
   "outputs": [
    {
     "name": "stdout",
     "output_type": "stream",
     "text": [
      "(9972, 100)\n"
     ]
    }
   ],
   "source": [
    "print(b_svdTFit.shape)"
   ]
  },
  {
   "cell_type": "code",
   "execution_count": 87,
   "metadata": {},
   "outputs": [
    {
     "data": {
      "text/plain": [
       "(9972, 33)"
      ]
     },
     "execution_count": 87,
     "metadata": {},
     "output_type": "execute_result"
    }
   ],
   "source": [
    "bots.shape"
   ]
  },
  {
   "cell_type": "code",
   "execution_count": 88,
   "metadata": {},
   "outputs": [
    {
     "data": {
      "text/html": [
       "<div>\n",
       "<style scoped>\n",
       "    .dataframe tbody tr th:only-of-type {\n",
       "        vertical-align: middle;\n",
       "    }\n",
       "\n",
       "    .dataframe tbody tr th {\n",
       "        vertical-align: top;\n",
       "    }\n",
       "\n",
       "    .dataframe thead th {\n",
       "        text-align: right;\n",
       "    }\n",
       "</style>\n",
       "<table border=\"1\" class=\"dataframe\">\n",
       "  <thead>\n",
       "    <tr style=\"text-align: right;\">\n",
       "      <th></th>\n",
       "      <th>0</th>\n",
       "      <th>1</th>\n",
       "      <th>2</th>\n",
       "      <th>3</th>\n",
       "      <th>4</th>\n",
       "      <th>5</th>\n",
       "      <th>6</th>\n",
       "      <th>7</th>\n",
       "      <th>8</th>\n",
       "      <th>9</th>\n",
       "      <th>...</th>\n",
       "      <th>90</th>\n",
       "      <th>91</th>\n",
       "      <th>92</th>\n",
       "      <th>93</th>\n",
       "      <th>94</th>\n",
       "      <th>95</th>\n",
       "      <th>96</th>\n",
       "      <th>97</th>\n",
       "      <th>98</th>\n",
       "      <th>99</th>\n",
       "    </tr>\n",
       "  </thead>\n",
       "  <tbody>\n",
       "    <tr>\n",
       "      <th>0</th>\n",
       "      <td>0.017153</td>\n",
       "      <td>0.004235</td>\n",
       "      <td>0.015483</td>\n",
       "      <td>0.008924</td>\n",
       "      <td>0.023329</td>\n",
       "      <td>0.004395</td>\n",
       "      <td>-0.005182</td>\n",
       "      <td>-0.012694</td>\n",
       "      <td>-0.006542</td>\n",
       "      <td>-0.005097</td>\n",
       "      <td>...</td>\n",
       "      <td>0.003448</td>\n",
       "      <td>0.007227</td>\n",
       "      <td>-0.000805</td>\n",
       "      <td>-0.000156</td>\n",
       "      <td>0.007639</td>\n",
       "      <td>0.003347</td>\n",
       "      <td>0.000200</td>\n",
       "      <td>0.001785</td>\n",
       "      <td>0.001581</td>\n",
       "      <td>-0.000005</td>\n",
       "    </tr>\n",
       "    <tr>\n",
       "      <th>1</th>\n",
       "      <td>0.000194</td>\n",
       "      <td>0.000037</td>\n",
       "      <td>0.000176</td>\n",
       "      <td>0.000157</td>\n",
       "      <td>0.000091</td>\n",
       "      <td>-0.000032</td>\n",
       "      <td>0.000249</td>\n",
       "      <td>-0.000498</td>\n",
       "      <td>-0.000277</td>\n",
       "      <td>0.000243</td>\n",
       "      <td>...</td>\n",
       "      <td>0.001483</td>\n",
       "      <td>0.011548</td>\n",
       "      <td>-0.002544</td>\n",
       "      <td>-0.001240</td>\n",
       "      <td>0.004727</td>\n",
       "      <td>0.004295</td>\n",
       "      <td>0.000556</td>\n",
       "      <td>0.003193</td>\n",
       "      <td>-0.001757</td>\n",
       "      <td>0.003157</td>\n",
       "    </tr>\n",
       "    <tr>\n",
       "      <th>2</th>\n",
       "      <td>0.005122</td>\n",
       "      <td>-0.000769</td>\n",
       "      <td>0.000645</td>\n",
       "      <td>0.002685</td>\n",
       "      <td>-0.001366</td>\n",
       "      <td>0.001174</td>\n",
       "      <td>0.000959</td>\n",
       "      <td>-0.000646</td>\n",
       "      <td>-0.002227</td>\n",
       "      <td>0.001258</td>\n",
       "      <td>...</td>\n",
       "      <td>0.001205</td>\n",
       "      <td>-0.001168</td>\n",
       "      <td>0.004100</td>\n",
       "      <td>0.005375</td>\n",
       "      <td>0.010392</td>\n",
       "      <td>0.005672</td>\n",
       "      <td>0.001631</td>\n",
       "      <td>-0.003048</td>\n",
       "      <td>0.012836</td>\n",
       "      <td>-0.006366</td>\n",
       "    </tr>\n",
       "    <tr>\n",
       "      <th>3</th>\n",
       "      <td>0.094487</td>\n",
       "      <td>0.013811</td>\n",
       "      <td>0.105587</td>\n",
       "      <td>0.061143</td>\n",
       "      <td>0.197666</td>\n",
       "      <td>-0.021667</td>\n",
       "      <td>-0.007354</td>\n",
       "      <td>-0.034358</td>\n",
       "      <td>-0.003661</td>\n",
       "      <td>0.029976</td>\n",
       "      <td>...</td>\n",
       "      <td>0.029694</td>\n",
       "      <td>0.103466</td>\n",
       "      <td>-0.015373</td>\n",
       "      <td>-0.004699</td>\n",
       "      <td>0.016111</td>\n",
       "      <td>0.042739</td>\n",
       "      <td>0.005440</td>\n",
       "      <td>0.005526</td>\n",
       "      <td>-0.005423</td>\n",
       "      <td>0.006617</td>\n",
       "    </tr>\n",
       "    <tr>\n",
       "      <th>4</th>\n",
       "      <td>0.005154</td>\n",
       "      <td>0.000315</td>\n",
       "      <td>0.000741</td>\n",
       "      <td>0.001908</td>\n",
       "      <td>0.002262</td>\n",
       "      <td>-0.001013</td>\n",
       "      <td>0.002316</td>\n",
       "      <td>-0.002429</td>\n",
       "      <td>-0.001376</td>\n",
       "      <td>-0.000272</td>\n",
       "      <td>...</td>\n",
       "      <td>-0.003594</td>\n",
       "      <td>0.001731</td>\n",
       "      <td>0.001203</td>\n",
       "      <td>0.004302</td>\n",
       "      <td>0.015036</td>\n",
       "      <td>0.003211</td>\n",
       "      <td>-0.008952</td>\n",
       "      <td>0.004111</td>\n",
       "      <td>-0.005115</td>\n",
       "      <td>0.009306</td>\n",
       "    </tr>\n",
       "  </tbody>\n",
       "</table>\n",
       "<p>5 rows × 100 columns</p>\n",
       "</div>"
      ],
      "text/plain": [
       "         0         1         2         3         4         5         6   \\\n",
       "0  0.017153  0.004235  0.015483  0.008924  0.023329  0.004395 -0.005182   \n",
       "1  0.000194  0.000037  0.000176  0.000157  0.000091 -0.000032  0.000249   \n",
       "2  0.005122 -0.000769  0.000645  0.002685 -0.001366  0.001174  0.000959   \n",
       "3  0.094487  0.013811  0.105587  0.061143  0.197666 -0.021667 -0.007354   \n",
       "4  0.005154  0.000315  0.000741  0.001908  0.002262 -0.001013  0.002316   \n",
       "\n",
       "         7         8         9   ...        90        91        92        93  \\\n",
       "0 -0.012694 -0.006542 -0.005097  ...  0.003448  0.007227 -0.000805 -0.000156   \n",
       "1 -0.000498 -0.000277  0.000243  ...  0.001483  0.011548 -0.002544 -0.001240   \n",
       "2 -0.000646 -0.002227  0.001258  ...  0.001205 -0.001168  0.004100  0.005375   \n",
       "3 -0.034358 -0.003661  0.029976  ...  0.029694  0.103466 -0.015373 -0.004699   \n",
       "4 -0.002429 -0.001376 -0.000272  ... -0.003594  0.001731  0.001203  0.004302   \n",
       "\n",
       "         94        95        96        97        98        99  \n",
       "0  0.007639  0.003347  0.000200  0.001785  0.001581 -0.000005  \n",
       "1  0.004727  0.004295  0.000556  0.003193 -0.001757  0.003157  \n",
       "2  0.010392  0.005672  0.001631 -0.003048  0.012836 -0.006366  \n",
       "3  0.016111  0.042739  0.005440  0.005526 -0.005423  0.006617  \n",
       "4  0.015036  0.003211 -0.008952  0.004111 -0.005115  0.009306  \n",
       "\n",
       "[5 rows x 100 columns]"
      ]
     },
     "execution_count": 88,
     "metadata": {},
     "output_type": "execute_result"
    }
   ],
   "source": [
    "# Convert svdTFit array to df \n",
    "g_svdTFit = pd.DataFrame(g_svdTFit)\n",
    "g_svdTFit.head()"
   ]
  },
  {
   "cell_type": "code",
   "execution_count": 89,
   "metadata": {},
   "outputs": [
    {
     "data": {
      "text/plain": [
       "(11141, 100)"
      ]
     },
     "execution_count": 89,
     "metadata": {},
     "output_type": "execute_result"
    }
   ],
   "source": [
    "g_svdTFit.shape"
   ]
  },
  {
   "cell_type": "code",
   "execution_count": 90,
   "metadata": {},
   "outputs": [
    {
     "data": {
      "text/plain": [
       "(11141, 33)"
      ]
     },
     "execution_count": 90,
     "metadata": {},
     "output_type": "execute_result"
    }
   ],
   "source": [
    "gen.shape"
   ]
  },
  {
   "cell_type": "code",
   "execution_count": 91,
   "metadata": {},
   "outputs": [
    {
     "data": {
      "text/html": [
       "<div>\n",
       "<style scoped>\n",
       "    .dataframe tbody tr th:only-of-type {\n",
       "        vertical-align: middle;\n",
       "    }\n",
       "\n",
       "    .dataframe tbody tr th {\n",
       "        vertical-align: top;\n",
       "    }\n",
       "\n",
       "    .dataframe thead th {\n",
       "        text-align: right;\n",
       "    }\n",
       "</style>\n",
       "<table border=\"1\" class=\"dataframe\">\n",
       "  <thead>\n",
       "    <tr style=\"text-align: right;\">\n",
       "      <th></th>\n",
       "      <th>index</th>\n",
       "      <th>user_id</th>\n",
       "      <th>name</th>\n",
       "      <th>screen_name</th>\n",
       "      <th>statuses_count</th>\n",
       "      <th>followers_count</th>\n",
       "      <th>friends_count</th>\n",
       "      <th>favourites_count</th>\n",
       "      <th>listed_count</th>\n",
       "      <th>lang</th>\n",
       "      <th>...</th>\n",
       "      <th>90</th>\n",
       "      <th>91</th>\n",
       "      <th>92</th>\n",
       "      <th>93</th>\n",
       "      <th>94</th>\n",
       "      <th>95</th>\n",
       "      <th>96</th>\n",
       "      <th>97</th>\n",
       "      <th>98</th>\n",
       "      <th>99</th>\n",
       "    </tr>\n",
       "  </thead>\n",
       "  <tbody>\n",
       "    <tr>\n",
       "      <th>0</th>\n",
       "      <td>11636</td>\n",
       "      <td>2372933666</td>\n",
       "      <td>Hayley Casher</td>\n",
       "      <td>HayleyCasher</td>\n",
       "      <td>53</td>\n",
       "      <td>2</td>\n",
       "      <td>37</td>\n",
       "      <td>0</td>\n",
       "      <td>0</td>\n",
       "      <td>en</td>\n",
       "      <td>...</td>\n",
       "      <td>-0.012411</td>\n",
       "      <td>-0.008973</td>\n",
       "      <td>-0.023516</td>\n",
       "      <td>0.029430</td>\n",
       "      <td>-0.019259</td>\n",
       "      <td>0.000415</td>\n",
       "      <td>-0.007032</td>\n",
       "      <td>0.056051</td>\n",
       "      <td>0.029408</td>\n",
       "      <td>-0.009628</td>\n",
       "    </tr>\n",
       "    <tr>\n",
       "      <th>1</th>\n",
       "      <td>11637</td>\n",
       "      <td>360747829</td>\n",
       "      <td>Bill Black’s Combo</td>\n",
       "      <td>BillBlacksComb1</td>\n",
       "      <td>13433</td>\n",
       "      <td>509</td>\n",
       "      <td>1286</td>\n",
       "      <td>1</td>\n",
       "      <td>8</td>\n",
       "      <td>en</td>\n",
       "      <td>...</td>\n",
       "      <td>-0.018810</td>\n",
       "      <td>-0.001274</td>\n",
       "      <td>-0.012523</td>\n",
       "      <td>0.013657</td>\n",
       "      <td>-0.016154</td>\n",
       "      <td>-0.030277</td>\n",
       "      <td>0.004878</td>\n",
       "      <td>-0.010191</td>\n",
       "      <td>-0.029762</td>\n",
       "      <td>0.014325</td>\n",
       "    </tr>\n",
       "    <tr>\n",
       "      <th>2</th>\n",
       "      <td>11638</td>\n",
       "      <td>934684128</td>\n",
       "      <td>Giggly Stuff</td>\n",
       "      <td>gigglystuff</td>\n",
       "      <td>9770</td>\n",
       "      <td>21460</td>\n",
       "      <td>2574</td>\n",
       "      <td>0</td>\n",
       "      <td>0</td>\n",
       "      <td>en</td>\n",
       "      <td>...</td>\n",
       "      <td>-0.012950</td>\n",
       "      <td>0.004829</td>\n",
       "      <td>-0.013223</td>\n",
       "      <td>0.020551</td>\n",
       "      <td>-0.015128</td>\n",
       "      <td>-0.033428</td>\n",
       "      <td>0.029562</td>\n",
       "      <td>-0.010037</td>\n",
       "      <td>-0.023398</td>\n",
       "      <td>0.014967</td>\n",
       "    </tr>\n",
       "    <tr>\n",
       "      <th>3</th>\n",
       "      <td>11639</td>\n",
       "      <td>26364491</td>\n",
       "      <td>Cameron</td>\n",
       "      <td>ThatManCam</td>\n",
       "      <td>67792</td>\n",
       "      <td>918</td>\n",
       "      <td>728</td>\n",
       "      <td>1989</td>\n",
       "      <td>5</td>\n",
       "      <td>en</td>\n",
       "      <td>...</td>\n",
       "      <td>0.003115</td>\n",
       "      <td>-0.000021</td>\n",
       "      <td>-0.000012</td>\n",
       "      <td>0.003761</td>\n",
       "      <td>-0.002089</td>\n",
       "      <td>-0.001214</td>\n",
       "      <td>0.002254</td>\n",
       "      <td>0.009413</td>\n",
       "      <td>0.003055</td>\n",
       "      <td>-0.009064</td>\n",
       "    </tr>\n",
       "    <tr>\n",
       "      <th>4</th>\n",
       "      <td>11640</td>\n",
       "      <td>938614555</td>\n",
       "      <td>Tweet 4 Real Money</td>\n",
       "      <td>Tweet4RealMoney</td>\n",
       "      <td>11748</td>\n",
       "      <td>684</td>\n",
       "      <td>492</td>\n",
       "      <td>1</td>\n",
       "      <td>3</td>\n",
       "      <td>en</td>\n",
       "      <td>...</td>\n",
       "      <td>0.009184</td>\n",
       "      <td>-0.019363</td>\n",
       "      <td>0.000666</td>\n",
       "      <td>0.001417</td>\n",
       "      <td>0.003266</td>\n",
       "      <td>-0.006359</td>\n",
       "      <td>0.002099</td>\n",
       "      <td>-0.006719</td>\n",
       "      <td>-0.016180</td>\n",
       "      <td>0.002187</td>\n",
       "    </tr>\n",
       "  </tbody>\n",
       "</table>\n",
       "<p>5 rows × 133 columns</p>\n",
       "</div>"
      ],
      "text/plain": [
       "   index     user_id                name      screen_name  statuses_count  \\\n",
       "0  11636  2372933666       Hayley Casher     HayleyCasher              53   \n",
       "1  11637   360747829  Bill Black’s Combo  BillBlacksComb1           13433   \n",
       "2  11638   934684128        Giggly Stuff      gigglystuff            9770   \n",
       "3  11639    26364491             Cameron       ThatManCam           67792   \n",
       "4  11640   938614555  Tweet 4 Real Money  Tweet4RealMoney           11748   \n",
       "\n",
       "   followers_count  friends_count  favourites_count  listed_count lang  ...  \\\n",
       "0                2             37                 0             0   en  ...   \n",
       "1              509           1286                 1             8   en  ...   \n",
       "2            21460           2574                 0             0   en  ...   \n",
       "3              918            728              1989             5   en  ...   \n",
       "4              684            492                 1             3   en  ...   \n",
       "\n",
       "         90        91        92        93        94        95        96  \\\n",
       "0 -0.012411 -0.008973 -0.023516  0.029430 -0.019259  0.000415 -0.007032   \n",
       "1 -0.018810 -0.001274 -0.012523  0.013657 -0.016154 -0.030277  0.004878   \n",
       "2 -0.012950  0.004829 -0.013223  0.020551 -0.015128 -0.033428  0.029562   \n",
       "3  0.003115 -0.000021 -0.000012  0.003761 -0.002089 -0.001214  0.002254   \n",
       "4  0.009184 -0.019363  0.000666  0.001417  0.003266 -0.006359  0.002099   \n",
       "\n",
       "         97        98        99  \n",
       "0  0.056051  0.029408 -0.009628  \n",
       "1 -0.010191 -0.029762  0.014325  \n",
       "2 -0.010037 -0.023398  0.014967  \n",
       "3  0.009413  0.003055 -0.009064  \n",
       "4 -0.006719 -0.016180  0.002187  \n",
       "\n",
       "[5 rows x 133 columns]"
      ]
     },
     "execution_count": 91,
     "metadata": {},
     "output_type": "execute_result"
    }
   ],
   "source": [
    "# Place the DataFrames side by side\n",
    "bots_tfid = pd.concat([bots, b_svdTFit], axis=1)\n",
    "bots_tfid.head()"
   ]
  },
  {
   "cell_type": "code",
   "execution_count": 92,
   "metadata": {},
   "outputs": [
    {
     "data": {
      "text/plain": [
       "(9972, 133)"
      ]
     },
     "execution_count": 92,
     "metadata": {},
     "output_type": "execute_result"
    }
   ],
   "source": [
    "bots_tfid.shape"
   ]
  },
  {
   "cell_type": "code",
   "execution_count": 93,
   "metadata": {},
   "outputs": [
    {
     "data": {
      "text/html": [
       "<div>\n",
       "<style scoped>\n",
       "    .dataframe tbody tr th:only-of-type {\n",
       "        vertical-align: middle;\n",
       "    }\n",
       "\n",
       "    .dataframe tbody tr th {\n",
       "        vertical-align: top;\n",
       "    }\n",
       "\n",
       "    .dataframe thead th {\n",
       "        text-align: right;\n",
       "    }\n",
       "</style>\n",
       "<table border=\"1\" class=\"dataframe\">\n",
       "  <thead>\n",
       "    <tr style=\"text-align: right;\">\n",
       "      <th></th>\n",
       "      <th>index</th>\n",
       "      <th>user_id</th>\n",
       "      <th>name</th>\n",
       "      <th>screen_name</th>\n",
       "      <th>statuses_count</th>\n",
       "      <th>followers_count</th>\n",
       "      <th>friends_count</th>\n",
       "      <th>favourites_count</th>\n",
       "      <th>listed_count</th>\n",
       "      <th>lang</th>\n",
       "      <th>...</th>\n",
       "      <th>90</th>\n",
       "      <th>91</th>\n",
       "      <th>92</th>\n",
       "      <th>93</th>\n",
       "      <th>94</th>\n",
       "      <th>95</th>\n",
       "      <th>96</th>\n",
       "      <th>97</th>\n",
       "      <th>98</th>\n",
       "      <th>99</th>\n",
       "    </tr>\n",
       "  </thead>\n",
       "  <tbody>\n",
       "    <tr>\n",
       "      <th>0</th>\n",
       "      <td>0</td>\n",
       "      <td>228978063</td>\n",
       "      <td>✨Corbin Thomas✨</td>\n",
       "      <td>Corbin_Thomas35</td>\n",
       "      <td>7727</td>\n",
       "      <td>1118</td>\n",
       "      <td>755</td>\n",
       "      <td>254</td>\n",
       "      <td>3</td>\n",
       "      <td>en</td>\n",
       "      <td>...</td>\n",
       "      <td>0.003448</td>\n",
       "      <td>0.007227</td>\n",
       "      <td>-0.000805</td>\n",
       "      <td>-0.000156</td>\n",
       "      <td>0.007639</td>\n",
       "      <td>0.003347</td>\n",
       "      <td>0.000200</td>\n",
       "      <td>0.001785</td>\n",
       "      <td>0.001581</td>\n",
       "      <td>-0.000005</td>\n",
       "    </tr>\n",
       "    <tr>\n",
       "      <th>1</th>\n",
       "      <td>1</td>\n",
       "      <td>15044720</td>\n",
       "      <td>Ange</td>\n",
       "      <td>blue_raven</td>\n",
       "      <td>59052</td>\n",
       "      <td>332</td>\n",
       "      <td>833</td>\n",
       "      <td>1862</td>\n",
       "      <td>45</td>\n",
       "      <td>en</td>\n",
       "      <td>...</td>\n",
       "      <td>0.001483</td>\n",
       "      <td>0.011548</td>\n",
       "      <td>-0.002544</td>\n",
       "      <td>-0.001240</td>\n",
       "      <td>0.004727</td>\n",
       "      <td>0.004295</td>\n",
       "      <td>0.000556</td>\n",
       "      <td>0.003193</td>\n",
       "      <td>-0.001757</td>\n",
       "      <td>0.003157</td>\n",
       "    </tr>\n",
       "    <tr>\n",
       "      <th>2</th>\n",
       "      <td>2</td>\n",
       "      <td>27582887</td>\n",
       "      <td>Paul</td>\n",
       "      <td>knoxynz</td>\n",
       "      <td>36913</td>\n",
       "      <td>807</td>\n",
       "      <td>907</td>\n",
       "      <td>3262</td>\n",
       "      <td>9</td>\n",
       "      <td>en</td>\n",
       "      <td>...</td>\n",
       "      <td>0.001205</td>\n",
       "      <td>-0.001168</td>\n",
       "      <td>0.004100</td>\n",
       "      <td>0.005375</td>\n",
       "      <td>0.010392</td>\n",
       "      <td>0.005672</td>\n",
       "      <td>0.001631</td>\n",
       "      <td>-0.003048</td>\n",
       "      <td>0.012836</td>\n",
       "      <td>-0.006366</td>\n",
       "    </tr>\n",
       "    <tr>\n",
       "      <th>3</th>\n",
       "      <td>3</td>\n",
       "      <td>2248762537</td>\n",
       "      <td>AJ</td>\n",
       "      <td>AlZahraaokay</td>\n",
       "      <td>7588</td>\n",
       "      <td>235</td>\n",
       "      <td>112</td>\n",
       "      <td>10979</td>\n",
       "      <td>0</td>\n",
       "      <td>en</td>\n",
       "      <td>...</td>\n",
       "      <td>0.029694</td>\n",
       "      <td>0.103466</td>\n",
       "      <td>-0.015373</td>\n",
       "      <td>-0.004699</td>\n",
       "      <td>0.016111</td>\n",
       "      <td>0.042739</td>\n",
       "      <td>0.005440</td>\n",
       "      <td>0.005526</td>\n",
       "      <td>-0.005423</td>\n",
       "      <td>0.006617</td>\n",
       "    </tr>\n",
       "    <tr>\n",
       "      <th>4</th>\n",
       "      <td>4</td>\n",
       "      <td>2177075531</td>\n",
       "      <td>OptimusProductionsTT</td>\n",
       "      <td>Optimusprott</td>\n",
       "      <td>2053</td>\n",
       "      <td>409</td>\n",
       "      <td>1116</td>\n",
       "      <td>381</td>\n",
       "      <td>4</td>\n",
       "      <td>en</td>\n",
       "      <td>...</td>\n",
       "      <td>-0.003594</td>\n",
       "      <td>0.001731</td>\n",
       "      <td>0.001203</td>\n",
       "      <td>0.004302</td>\n",
       "      <td>0.015036</td>\n",
       "      <td>0.003211</td>\n",
       "      <td>-0.008952</td>\n",
       "      <td>0.004111</td>\n",
       "      <td>-0.005115</td>\n",
       "      <td>0.009306</td>\n",
       "    </tr>\n",
       "  </tbody>\n",
       "</table>\n",
       "<p>5 rows × 133 columns</p>\n",
       "</div>"
      ],
      "text/plain": [
       "   index     user_id                  name      screen_name  statuses_count  \\\n",
       "0      0   228978063       ✨Corbin Thomas✨  Corbin_Thomas35            7727   \n",
       "1      1    15044720                  Ange       blue_raven           59052   \n",
       "2      2    27582887                  Paul          knoxynz           36913   \n",
       "3      3  2248762537                    AJ     AlZahraaokay            7588   \n",
       "4      4  2177075531  OptimusProductionsTT     Optimusprott            2053   \n",
       "\n",
       "   followers_count  friends_count  favourites_count  listed_count lang  ...  \\\n",
       "0             1118            755               254             3   en  ...   \n",
       "1              332            833              1862            45   en  ...   \n",
       "2              807            907              3262             9   en  ...   \n",
       "3              235            112             10979             0   en  ...   \n",
       "4              409           1116               381             4   en  ...   \n",
       "\n",
       "         90        91        92        93        94        95        96  \\\n",
       "0  0.003448  0.007227 -0.000805 -0.000156  0.007639  0.003347  0.000200   \n",
       "1  0.001483  0.011548 -0.002544 -0.001240  0.004727  0.004295  0.000556   \n",
       "2  0.001205 -0.001168  0.004100  0.005375  0.010392  0.005672  0.001631   \n",
       "3  0.029694  0.103466 -0.015373 -0.004699  0.016111  0.042739  0.005440   \n",
       "4 -0.003594  0.001731  0.001203  0.004302  0.015036  0.003211 -0.008952   \n",
       "\n",
       "         97        98        99  \n",
       "0  0.001785  0.001581 -0.000005  \n",
       "1  0.003193 -0.001757  0.003157  \n",
       "2 -0.003048  0.012836 -0.006366  \n",
       "3  0.005526 -0.005423  0.006617  \n",
       "4  0.004111 -0.005115  0.009306  \n",
       "\n",
       "[5 rows x 133 columns]"
      ]
     },
     "execution_count": 93,
     "metadata": {},
     "output_type": "execute_result"
    }
   ],
   "source": [
    "# Join Tfid with class df \n",
    "gen_tfid = pd.concat([gen, g_svdTFit], axis =1)\n",
    "gen_tfid.head()"
   ]
  },
  {
   "cell_type": "code",
   "execution_count": 94,
   "metadata": {},
   "outputs": [
    {
     "data": {
      "text/plain": [
       "(11141, 133)"
      ]
     },
     "execution_count": 94,
     "metadata": {},
     "output_type": "execute_result"
    }
   ],
   "source": [
    "gen_tfid.shape"
   ]
  },
  {
   "cell_type": "code",
   "execution_count": 95,
   "metadata": {},
   "outputs": [
    {
     "data": {
      "text/html": [
       "<div>\n",
       "<style scoped>\n",
       "    .dataframe tbody tr th:only-of-type {\n",
       "        vertical-align: middle;\n",
       "    }\n",
       "\n",
       "    .dataframe tbody tr th {\n",
       "        vertical-align: top;\n",
       "    }\n",
       "\n",
       "    .dataframe thead th {\n",
       "        text-align: right;\n",
       "    }\n",
       "</style>\n",
       "<table border=\"1\" class=\"dataframe\">\n",
       "  <thead>\n",
       "    <tr style=\"text-align: right;\">\n",
       "      <th></th>\n",
       "      <th>index</th>\n",
       "      <th>user_id</th>\n",
       "      <th>name</th>\n",
       "      <th>screen_name</th>\n",
       "      <th>statuses_count</th>\n",
       "      <th>followers_count</th>\n",
       "      <th>friends_count</th>\n",
       "      <th>favourites_count</th>\n",
       "      <th>listed_count</th>\n",
       "      <th>lang</th>\n",
       "      <th>...</th>\n",
       "      <th>90</th>\n",
       "      <th>91</th>\n",
       "      <th>92</th>\n",
       "      <th>93</th>\n",
       "      <th>94</th>\n",
       "      <th>95</th>\n",
       "      <th>96</th>\n",
       "      <th>97</th>\n",
       "      <th>98</th>\n",
       "      <th>99</th>\n",
       "    </tr>\n",
       "  </thead>\n",
       "  <tbody>\n",
       "    <tr>\n",
       "      <th>0</th>\n",
       "      <td>11636</td>\n",
       "      <td>2372933666</td>\n",
       "      <td>Hayley Casher</td>\n",
       "      <td>HayleyCasher</td>\n",
       "      <td>53</td>\n",
       "      <td>2</td>\n",
       "      <td>37</td>\n",
       "      <td>0</td>\n",
       "      <td>0</td>\n",
       "      <td>en</td>\n",
       "      <td>...</td>\n",
       "      <td>-0.012411</td>\n",
       "      <td>-0.008973</td>\n",
       "      <td>-0.023516</td>\n",
       "      <td>0.029430</td>\n",
       "      <td>-0.019259</td>\n",
       "      <td>0.000415</td>\n",
       "      <td>-0.007032</td>\n",
       "      <td>0.056051</td>\n",
       "      <td>0.029408</td>\n",
       "      <td>-0.009628</td>\n",
       "    </tr>\n",
       "    <tr>\n",
       "      <th>1</th>\n",
       "      <td>11637</td>\n",
       "      <td>360747829</td>\n",
       "      <td>Bill Black’s Combo</td>\n",
       "      <td>BillBlacksComb1</td>\n",
       "      <td>13433</td>\n",
       "      <td>509</td>\n",
       "      <td>1286</td>\n",
       "      <td>1</td>\n",
       "      <td>8</td>\n",
       "      <td>en</td>\n",
       "      <td>...</td>\n",
       "      <td>-0.018810</td>\n",
       "      <td>-0.001274</td>\n",
       "      <td>-0.012523</td>\n",
       "      <td>0.013657</td>\n",
       "      <td>-0.016154</td>\n",
       "      <td>-0.030277</td>\n",
       "      <td>0.004878</td>\n",
       "      <td>-0.010191</td>\n",
       "      <td>-0.029762</td>\n",
       "      <td>0.014325</td>\n",
       "    </tr>\n",
       "    <tr>\n",
       "      <th>2</th>\n",
       "      <td>11638</td>\n",
       "      <td>934684128</td>\n",
       "      <td>Giggly Stuff</td>\n",
       "      <td>gigglystuff</td>\n",
       "      <td>9770</td>\n",
       "      <td>21460</td>\n",
       "      <td>2574</td>\n",
       "      <td>0</td>\n",
       "      <td>0</td>\n",
       "      <td>en</td>\n",
       "      <td>...</td>\n",
       "      <td>-0.012950</td>\n",
       "      <td>0.004829</td>\n",
       "      <td>-0.013223</td>\n",
       "      <td>0.020551</td>\n",
       "      <td>-0.015128</td>\n",
       "      <td>-0.033428</td>\n",
       "      <td>0.029562</td>\n",
       "      <td>-0.010037</td>\n",
       "      <td>-0.023398</td>\n",
       "      <td>0.014967</td>\n",
       "    </tr>\n",
       "    <tr>\n",
       "      <th>3</th>\n",
       "      <td>11639</td>\n",
       "      <td>26364491</td>\n",
       "      <td>Cameron</td>\n",
       "      <td>ThatManCam</td>\n",
       "      <td>67792</td>\n",
       "      <td>918</td>\n",
       "      <td>728</td>\n",
       "      <td>1989</td>\n",
       "      <td>5</td>\n",
       "      <td>en</td>\n",
       "      <td>...</td>\n",
       "      <td>0.003115</td>\n",
       "      <td>-0.000021</td>\n",
       "      <td>-0.000012</td>\n",
       "      <td>0.003761</td>\n",
       "      <td>-0.002089</td>\n",
       "      <td>-0.001214</td>\n",
       "      <td>0.002254</td>\n",
       "      <td>0.009413</td>\n",
       "      <td>0.003055</td>\n",
       "      <td>-0.009064</td>\n",
       "    </tr>\n",
       "    <tr>\n",
       "      <th>4</th>\n",
       "      <td>11640</td>\n",
       "      <td>938614555</td>\n",
       "      <td>Tweet 4 Real Money</td>\n",
       "      <td>Tweet4RealMoney</td>\n",
       "      <td>11748</td>\n",
       "      <td>684</td>\n",
       "      <td>492</td>\n",
       "      <td>1</td>\n",
       "      <td>3</td>\n",
       "      <td>en</td>\n",
       "      <td>...</td>\n",
       "      <td>0.009184</td>\n",
       "      <td>-0.019363</td>\n",
       "      <td>0.000666</td>\n",
       "      <td>0.001417</td>\n",
       "      <td>0.003266</td>\n",
       "      <td>-0.006359</td>\n",
       "      <td>0.002099</td>\n",
       "      <td>-0.006719</td>\n",
       "      <td>-0.016180</td>\n",
       "      <td>0.002187</td>\n",
       "    </tr>\n",
       "  </tbody>\n",
       "</table>\n",
       "<p>5 rows × 133 columns</p>\n",
       "</div>"
      ],
      "text/plain": [
       "   index     user_id                name      screen_name  statuses_count  \\\n",
       "0  11636  2372933666       Hayley Casher     HayleyCasher              53   \n",
       "1  11637   360747829  Bill Black’s Combo  BillBlacksComb1           13433   \n",
       "2  11638   934684128        Giggly Stuff      gigglystuff            9770   \n",
       "3  11639    26364491             Cameron       ThatManCam           67792   \n",
       "4  11640   938614555  Tweet 4 Real Money  Tweet4RealMoney           11748   \n",
       "\n",
       "   followers_count  friends_count  favourites_count  listed_count lang  ...  \\\n",
       "0                2             37                 0             0   en  ...   \n",
       "1              509           1286                 1             8   en  ...   \n",
       "2            21460           2574                 0             0   en  ...   \n",
       "3              918            728              1989             5   en  ...   \n",
       "4              684            492                 1             3   en  ...   \n",
       "\n",
       "         90        91        92        93        94        95        96  \\\n",
       "0 -0.012411 -0.008973 -0.023516  0.029430 -0.019259  0.000415 -0.007032   \n",
       "1 -0.018810 -0.001274 -0.012523  0.013657 -0.016154 -0.030277  0.004878   \n",
       "2 -0.012950  0.004829 -0.013223  0.020551 -0.015128 -0.033428  0.029562   \n",
       "3  0.003115 -0.000021 -0.000012  0.003761 -0.002089 -0.001214  0.002254   \n",
       "4  0.009184 -0.019363  0.000666  0.001417  0.003266 -0.006359  0.002099   \n",
       "\n",
       "         97        98        99  \n",
       "0  0.056051  0.029408 -0.009628  \n",
       "1 -0.010191 -0.029762  0.014325  \n",
       "2 -0.010037 -0.023398  0.014967  \n",
       "3  0.009413  0.003055 -0.009064  \n",
       "4 -0.006719 -0.016180  0.002187  \n",
       "\n",
       "[5 rows x 133 columns]"
      ]
     },
     "execution_count": 95,
     "metadata": {},
     "output_type": "execute_result"
    }
   ],
   "source": [
    "# Concatenate bots_tfid and gen_tfid to create df for modeling \n",
    "df_clean = pd.concat([bots_tfid, gen_tfid], ignore_index=True)\n",
    "\n",
    "df_clean.head()"
   ]
  },
  {
   "cell_type": "code",
   "execution_count": 96,
   "metadata": {},
   "outputs": [
    {
     "name": "stdout",
     "output_type": "stream",
     "text": [
      "<class 'pandas.core.frame.DataFrame'>\n",
      "RangeIndex: 21113 entries, 0 to 21112\n",
      "Data columns (total 133 columns):\n",
      "index               int64\n",
      "user_id             int64\n",
      "name                object\n",
      "screen_name         object\n",
      "statuses_count      int64\n",
      "followers_count     int64\n",
      "friends_count       int64\n",
      "favourites_count    int64\n",
      "listed_count        int64\n",
      "lang                object\n",
      "u_created_at        datetime64[ns, UTC]\n",
      "u_timestamp         datetime64[ns]\n",
      "class               int64\n",
      "text                object\n",
      "retweet_count       int64\n",
      "reply_count         int64\n",
      "favorite_count      int64\n",
      "num_hashtags        int64\n",
      "num_urls            int64\n",
      "num_mentions        int64\n",
      "t_created_at        datetime64[ns, UTC]\n",
      "t_timestamp         datetime64[ns]\n",
      "account_age_yr      int64\n",
      "digit_in_name       int64\n",
      "user_name_len       int64\n",
      "tweet_hour          int64\n",
      "tweet_month         int64\n",
      "tweet_day           int64\n",
      "tweet_year          int64\n",
      "tweet_length        int64\n",
      "num_of_words        int64\n",
      "t_month_year        datetime64[ns]\n",
      "clean_tweets        object\n",
      "0                   float64\n",
      "1                   float64\n",
      "2                   float64\n",
      "3                   float64\n",
      "4                   float64\n",
      "5                   float64\n",
      "6                   float64\n",
      "7                   float64\n",
      "8                   float64\n",
      "9                   float64\n",
      "10                  float64\n",
      "11                  float64\n",
      "12                  float64\n",
      "13                  float64\n",
      "14                  float64\n",
      "15                  float64\n",
      "16                  float64\n",
      "17                  float64\n",
      "18                  float64\n",
      "19                  float64\n",
      "20                  float64\n",
      "21                  float64\n",
      "22                  float64\n",
      "23                  float64\n",
      "24                  float64\n",
      "25                  float64\n",
      "26                  float64\n",
      "27                  float64\n",
      "28                  float64\n",
      "29                  float64\n",
      "30                  float64\n",
      "31                  float64\n",
      "32                  float64\n",
      "33                  float64\n",
      "34                  float64\n",
      "35                  float64\n",
      "36                  float64\n",
      "37                  float64\n",
      "38                  float64\n",
      "39                  float64\n",
      "40                  float64\n",
      "41                  float64\n",
      "42                  float64\n",
      "43                  float64\n",
      "44                  float64\n",
      "45                  float64\n",
      "46                  float64\n",
      "47                  float64\n",
      "48                  float64\n",
      "49                  float64\n",
      "50                  float64\n",
      "51                  float64\n",
      "52                  float64\n",
      "53                  float64\n",
      "54                  float64\n",
      "55                  float64\n",
      "56                  float64\n",
      "57                  float64\n",
      "58                  float64\n",
      "59                  float64\n",
      "60                  float64\n",
      "61                  float64\n",
      "62                  float64\n",
      "63                  float64\n",
      "64                  float64\n",
      "65                  float64\n",
      "66                  float64\n",
      "67                  float64\n",
      "68                  float64\n",
      "69                  float64\n",
      "70                  float64\n",
      "71                  float64\n",
      "72                  float64\n",
      "73                  float64\n",
      "74                  float64\n",
      "75                  float64\n",
      "76                  float64\n",
      "77                  float64\n",
      "78                  float64\n",
      "79                  float64\n",
      "80                  float64\n",
      "81                  float64\n",
      "82                  float64\n",
      "83                  float64\n",
      "84                  float64\n",
      "85                  float64\n",
      "86                  float64\n",
      "87                  float64\n",
      "88                  float64\n",
      "89                  float64\n",
      "90                  float64\n",
      "91                  float64\n",
      "92                  float64\n",
      "93                  float64\n",
      "94                  float64\n",
      "95                  float64\n",
      "96                  float64\n",
      "97                  float64\n",
      "98                  float64\n",
      "99                  float64\n",
      "dtypes: datetime64[ns, UTC](2), datetime64[ns](3), float64(100), int64(23), object(5)\n",
      "memory usage: 21.4+ MB\n"
     ]
    }
   ],
   "source": [
    "df_clean.info(verbose=1)"
   ]
  },
  {
   "cell_type": "code",
   "execution_count": 97,
   "metadata": {},
   "outputs": [],
   "source": [
    "# Drop unwanted columns \n",
    "df_clean = df_clean.drop(columns=['index','user_id','name','screen_name','lang','text','t_created_at','t_timestamp','u_created_at', 'u_timestamp', 't_month_year', \n",
    "                                    'clean_tweets'])"
   ]
  },
  {
   "cell_type": "code",
   "execution_count": 98,
   "metadata": {},
   "outputs": [
    {
     "data": {
      "text/plain": [
       "(21113, 121)"
      ]
     },
     "execution_count": 98,
     "metadata": {},
     "output_type": "execute_result"
    }
   ],
   "source": [
    "df_clean.shape"
   ]
  },
  {
   "cell_type": "code",
   "execution_count": 99,
   "metadata": {},
   "outputs": [
    {
     "data": {
      "text/plain": [
       "0"
      ]
     },
     "execution_count": 99,
     "metadata": {},
     "output_type": "execute_result"
    }
   ],
   "source": [
    "# Check for null values \n",
    "df_clean.isnull().sum().sum()"
   ]
  },
  {
   "cell_type": "markdown",
   "metadata": {},
   "source": [
    "# Evaluating and Comparing Machine Learning Models\n",
    "In this section we will build, train, and evaluate several machine learning methods to classify tweets. We'll start with supervised learning algorithms, then move to unsupervised learning models for tweeter segmentation. \n",
    "\n",
    "\n",
    "## Supervised Learning: Building a Bot Classifer "
   ]
  },
  {
   "cell_type": "markdown",
   "metadata": {},
   "source": [
    "### Split Train and Test set¶\n",
    "Let's split dataset by using function train_test_split(). Here, the Dataset is broken into two parts in a ratio of 70:30. It means 70% data will be used for model training and 30% for model testing.\n",
    "\n",
    "To continue feature selection, we will start by using the original attributes in the raw training set."
   ]
  },
  {
   "cell_type": "code",
   "execution_count": 100,
   "metadata": {},
   "outputs": [],
   "source": [
    "# Set variables \n",
    "y = df_clean['class']\n",
    "X = df_clean.drop(columns=['class'])"
   ]
  },
  {
   "cell_type": "code",
   "execution_count": 101,
   "metadata": {},
   "outputs": [
    {
     "name": "stdout",
     "output_type": "stream",
     "text": [
      "False\n"
     ]
    }
   ],
   "source": [
    "print(np.any(np.isnan(X)))"
   ]
  },
  {
   "cell_type": "code",
   "execution_count": 102,
   "metadata": {},
   "outputs": [
    {
     "name": "stdout",
     "output_type": "stream",
     "text": [
      "True\n"
     ]
    }
   ],
   "source": [
    "print(np.all(np.isfinite(X)))"
   ]
  },
  {
   "cell_type": "code",
   "execution_count": 103,
   "metadata": {},
   "outputs": [],
   "source": [
    "X_train, X_test, y_train, y_test = train_test_split(X, y, test_size=0.3, random_state=42, stratify=y)"
   ]
  },
  {
   "cell_type": "markdown",
   "metadata": {},
   "source": [
    "### Metric \n",
    "We will evaluate our models based on their predicted probability __ROC AUC score__. ROC AUC \"summarize the trade-off between the true positive rate and false positive rate for a predictive model using different probability thresholds\"[Brownlee](https://machinelearningmastery.com/roc-curves-and-precision-recall-curves-for-classification-in-python/).\n",
    "\n",
    "We’ll also focus on the __false positive rate__(FPR) and __false negative rate__(FNR). False positive rate is identifying genuine tweets as robot tweets. This could lead to disregarding value customer behavior information which can provide misleading data for future marketing campaigns and lower customer satisfaction. False negative rate is failure to label true robot tweets as bots tweets, which results in obtaining false customer information. \n",
    "\n",
    "FPR and FNR are reflected in the following metrics: \n",
    "\n",
    " * __Accuracy__: ratio of properly labeled accounts \n",
    "\n",
    " * __Precision__: ratio of correctly predicted positive observations to the total predicted positive observations. The question that this metric answer is of all tweets that are labeled as bots, how many are actually bots? High precision relates to the low false positive rate. \n",
    "\n",
    " * __Recall (Sensitivity)__: ratio of correctly predicted positive observations to the all observations in actual class - yes. The question recall answers is: Of all the tweets that were genereated by bots, how many did we label? \n",
    "\n",
    " \n",
    "### Model  Selection\n",
    "\n",
    "We will compare three different machine learning models:\n",
    "\n",
    "__Logistic Regression__\n",
    " * Serve as a baseline model since our task is binary \n",
    " * Assumes features are independent and captures linear relationships \n",
    " * Not being able to capture non-linear relationships may result in poor performance\n",
    "\n",
    "__Random Forest Classifer__\n",
    " * Ensemble model which aggregates several decision trees to reduce effects of noise \n",
    " * Handles higher dimensionality well and provides importance of variables for feature selection \n",
    " * Will tune parameters by selecting number of trees/estimators \n",
    "\n",
    "__Multiple-Perceptron-Classifer__\n",
    " * Deep Learning model that trains using backpropagation \n",
    " * Able to capture non-linear models\n",
    " * Will tune parameters by selecting features like hidden layers\n",
    "\n",
    "We will fit these models the appropiate training set.\n",
    "\n",
    "### Logistic Regression \n",
    "First, we'll create the model and train the model and make predictions on the testing data."
   ]
  },
  {
   "cell_type": "code",
   "execution_count": null,
   "metadata": {},
   "outputs": [],
   "source": [
    "# Function to plot ROC curve \n",
    "def roc_curve(model, X_train, y_train, X_test, y_test):\n",
    "    y_pred_proba = model.predict_proba(X_train)[:, 1]\n",
    "    y_pred_proba2 = model.predict_proba(X_test)[:, 1]\n",
    "    fpr, tpr, thresholds = metrics.roc_curve(y_train, y_pred_proba)\n",
    "    fpr2, tpr2, thresholds = metrics.roc_curve(y_test, y_pred_proba2)\n",
    "\n",
    "    model_auc = metrics.roc_auc_score(y_train, y_pred_proba)\n",
    "    model_auc2 = metrics.roc_auc_score(y_test, y_pred_proba2)\n",
    "\n",
    "    fig, ax = plt.subplots()\n",
    "    ax.plot(fpr, tpr, label=\"Train, auc=\"+str(round(model_auc,4)))\n",
    "    ax.plot(fpr2, tpr2, label=\"Test, auc=\"+str(round(model_auc2,4)))\n",
    "\n",
    "    plt.title('ROC curve')\n",
    "    ax.legend(loc=4)\n",
    "    plt.xlabel('False Positive Rate')\n",
    "    plt.ylabel('True Positive Rate')\n",
    "\n",
    "    plt.show()"
   ]
  },
  {
   "cell_type": "code",
   "execution_count": null,
   "metadata": {},
   "outputs": [],
   "source": [
    "# Logistic Regression Model \n",
    "lr = LogisticRegression()\n",
    "\n",
    "# Fit and predict \n",
    "lr.fit(X_train, y_train)\n",
    "lr_y_pred = lr.predict(X_test)\n",
    "\n",
    "# CV to check if overfitting \n",
    "print(cross_val_score(lr, X_train, y_train, cv=10, scoring='roc_auc'))"
   ]
  },
  {
   "cell_type": "code",
   "execution_count": null,
   "metadata": {},
   "outputs": [],
   "source": [
    "# Calculate metrics\n",
    "lr_roc_auc = roc_auc_score(y_test, lr_y_pred)\n",
    "lr_accuracy = accuracy_score(y_test, lr_y_pred)\n",
    "lr_recall = recall_score(y_test, lr_y_pred)\n",
    "lr_precision = precision_score(y_test, lr_y_pred)\n",
    "\n",
    "# Print metrics\n",
    "print(\"ROC_AUC: %.2f%%\" % (lr_roc_auc * 100.0))\n",
    "print(\"Accuracy: %.2f%%\" % (lr_accuracy * 100.0))\n",
    "print('Recall: %.2f%%' % (lr_recall * 100.0))\n",
    "print('Precision: %.2f%%' % (lr_precision * 100.0))\n",
    "print(confusion_matrix(y_test, lr_y_pred))"
   ]
  },
  {
   "cell_type": "markdown",
   "metadata": {},
   "source": [
    "#### Optimized Logistic Regression Model \n",
    "Now, we will perform hyperparamter tuning and use GridSearch Cross Validation to find the best parameters for optimal performance.\n",
    "\n",
    "* __penalty__: penaltize large coefficents to avoid overfitting \n",
    " - 'l1' sum of the absolute values of the coefficients\n",
    " - 'l2' the sum of the squared of the coefficients\n",
    "* __C__: Inverse of regularization strength; values specify stronger regularization\n",
    "* __max_iter__: Maximum number of iterations taken for the solvers to converge"
   ]
  },
  {
   "cell_type": "code",
   "execution_count": null,
   "metadata": {},
   "outputs": [],
   "source": [
    "# Logistic Model\n",
    "start_time = time.time()\n",
    "\n",
    "parameters = {}\n",
    "parameters['penalty'] = ['l1','l2']\n",
    "parameters['C'] = [1.0,2.0]\n",
    "parameters['max_iter'] = [100,120,140]\n",
    "\n",
    "lr = LogisticRegression()\n",
    "gsc_lr = GridSearchCV(lr, parameters, cv=10, scoring='roc_auc')\n",
    "gsc_lr.fit(X_train, y_train)\n",
    "print(\"Best: %f using %s\" %(gsc_lr.best_score_,gsc_lr.best_params_))\n",
    "print(\"Execution time: \" + str((time.time() - start_time)) + ' seconds')"
   ]
  },
  {
   "cell_type": "code",
   "execution_count": null,
   "metadata": {},
   "outputs": [],
   "source": [
    "# Optimized Logistic Regression Model \n",
    "gsc_lr = LogisticRegression(penalty='l1', C=1.0, max_iter=120)\n",
    "gsc_lr.fit(X_train, y_train)\n",
    "gsc_lr_y_pred = gsc_lr.predict(X_test)\n",
    "\n",
    "# CV to check if overfitting \n",
    "print(cross_val_score(gsc_lr, X_train, y_train, cv=10, scoring='roc_auc'))"
   ]
  },
  {
   "cell_type": "code",
   "execution_count": null,
   "metadata": {},
   "outputs": [],
   "source": [
    "# Calculate metrics\n",
    "gsc_lr_roc_auc = roc_auc_score(y_test, gsc_lr_y_pred)\n",
    "gsc_lr_accuracy = accuracy_score(y_test, gsc_lr_y_pred)\n",
    "gsc_lr_recall = recall_score(y_test, gsc_lr_y_pred)\n",
    "gsc_lr_precision = precision_score(y_test, gsc_lr_y_pred)\n",
    "\n",
    "# Print metrics\n",
    "print(\"ROC_AUC: %.2f%%\" % (gsc_lr_roc_auc * 100.0))\n",
    "print(\"Accuracy: %.2f%%\" % (gsc_lr_accuracy * 100.0))\n",
    "print('Recall: %.2f%%' % (gsc_lr_recall * 100.0))\n",
    "print('Precision: %.2f%%' % (gsc_lr_precision * 100.0))\n",
    "print(confusion_matrix(y_test, gsc_lr_y_pred))"
   ]
  },
  {
   "cell_type": "code",
   "execution_count": null,
   "metadata": {},
   "outputs": [],
   "source": [
    "# Function to plot ROC curve \n",
    "roc_curve(gsc_lr, X_train, y_train, X_test, y_test)"
   ]
  },
  {
   "cell_type": "markdown",
   "metadata": {},
   "source": [
    "__Evaluation__: From cross validation, this model doesn't seem to be overfitting by much since the roc auc scores range between 0.97 to 0.98. It doesn't seem like hyperparameter tuning made much of an improvement since the roc auc and accuracy score on the test set remained as 95%. Even though there were more genuine tweets, this model was better at identifying tweets from bots based on a higher recall score(96%) than the precision score (94%)."
   ]
  },
  {
   "cell_type": "markdown",
   "metadata": {},
   "source": [
    "### Random Forest \n",
    "Let's try a more complex model to see if Random forest can capture the complexity within the dataset. "
   ]
  },
  {
   "cell_type": "code",
   "execution_count": null,
   "metadata": {},
   "outputs": [],
   "source": [
    "# Random Forest Model \n",
    "rf = RandomForestClassifier(n_estimators=100, random_state=42)\n",
    "\n",
    "# Fit and predict\n",
    "rf.fit(X_train, y_train) \n",
    "rf_y_pred = rf.predict(X_test)\n",
    "\n",
    "# Check if model is overfitting \n",
    "print(cross_val_score(rf, X_train, y_train, cv=10, scoring='roc_auc'))"
   ]
  },
  {
   "cell_type": "code",
   "execution_count": null,
   "metadata": {},
   "outputs": [],
   "source": [
    "# Calculate metrics\n",
    "rf_roc_auc = roc_auc_score(y_test, rf_y_pred)\n",
    "rf_accuracy = accuracy_score(y_test, rf_y_pred)\n",
    "rf_recall = recall_score(y_test, rf_y_pred)\n",
    "rf_precision = precision_score(y_test, rf_y_pred)\n",
    "\n",
    "# Print metrics\n",
    "print(\"ROC_AUC: %.2f%%\" % (rf_roc_auc * 100.0))\n",
    "print(\"Accuracy: %.2f%%\" % (rf_accuracy * 100.0))\n",
    "print('Recall: %.2f%%' % (rf_recall * 100.0))\n",
    "print('Precision: %.2f%%' % (rf_precision * 100.0))\n",
    "print(confusion_matrix(y_test, rf_y_pred))\n"
   ]
  },
  {
   "cell_type": "markdown",
   "metadata": {},
   "source": [
    "#### Optmized Random Forest\n",
    "Now, we'll find the optimal parameters by GridSearchCV.\n",
    "\n",
    "* __n_estimators__: number of trees you want to build before taking the maximum voting or averages of predictions\n",
    "* __criterion__: function to measure the quality of a split\n",
    "* __max_features__: number of features to consider when looking for the best split"
   ]
  },
  {
   "cell_type": "code",
   "execution_count": null,
   "metadata": {},
   "outputs": [],
   "source": [
    "#Optimizing Random Forest\n",
    "start_time = time.time()\n",
    "\n",
    "parameters = {}\n",
    "parameters['n_estimators'] = [100,300,400]\n",
    "parameters['criterion'] = ['entropy','gini']\n",
    "parameters['max_features'] = ['sqrt','log2']\n",
    "\n",
    "\n",
    "gsc_rf = GridSearchCV(rf, parameters, cv=10, verbose=1, scoring='roc_auc')\n",
    "gsc_rf.fit(X_train, y_train)\n",
    "print(\"Best: %f using %s\" %(gsc_rf.best_score_,gsc_rf.best_params_))\n",
    "print(\"Execution time: \" + str((time.time() - start_time)) + ' seconds')\n",
    "\n",
    "# Best: 0.999875 using {'criterion': 'gini', 'max_features': 'sqrt', 'n_estimators': 100}\n",
    "#Execution time: 2389.9600927829742 seconds"
   ]
  },
  {
   "cell_type": "code",
   "execution_count": null,
   "metadata": {},
   "outputs": [],
   "source": [
    "# Optimized Random Forest\n",
    "gsc_rf = RandomForestClassifier(n_estimators=100, criterion='gini', max_features='sqrt', random_state=42)\n",
    "gsc_rf.fit(X_train, y_train) \n",
    "gsc_rf_y_pred = gsc_rf.predict(X_test)\n",
    "\n",
    "# Check if model is overfitting \n",
    "print(cross_val_score(gsc_rf, X_train, y_train, cv=10, scoring='roc_auc'))"
   ]
  },
  {
   "cell_type": "code",
   "execution_count": null,
   "metadata": {},
   "outputs": [],
   "source": [
    "# Calculate metrics\n",
    "gsc_rf_roc_auc = roc_auc_score(y_test, gsc_rf_y_pred)\n",
    "gsc_rf_accuracy = accuracy_score(y_test, gsc_rf_y_pred)\n",
    "gsc_rf_recall = recall_score(y_test, gsc_rf_y_pred)\n",
    "gsc_rf_precision = precision_score(y_test, gsc_rf_y_pred)\n",
    "\n",
    "# Print metrics\n",
    "print(\"ROC_AUC: %.2f%%\" % (gsc_rf_roc_auc * 100.0))\n",
    "print(\"Accuracy: %.2f%%\" % (gsc_rf_accuracy * 100.0))\n",
    "print('Recall: %.2f%%' % (gsc_rf_recall * 100.0))\n",
    "print('Precision: %.2f%%' % (gsc_rf_precision * 100.0))\n",
    "print(confusion_matrix(y_test, gsc_rf_y_pred))"
   ]
  },
  {
   "cell_type": "code",
   "execution_count": null,
   "metadata": {},
   "outputs": [],
   "source": [
    "# Function to plot ROC curve \n",
    "roc_curve(gsc_rf, X_train, y_train, X_test, y_test)"
   ]
  },
  {
   "cell_type": "markdown",
   "metadata": {},
   "source": [
    "__Evaluation__: The random forest model out performs the logistic regression model across all metrics. This model was better at labeling genuine tweets than bot tweets. This could possible be due to the clean dataset containing  1,211 more genuine tweets than bot tweets. Based on the recall and precision scores, hyperparameter tuning did not improve the performance of the model. "
   ]
  },
  {
   "cell_type": "markdown",
   "metadata": {},
   "source": [
    "### Model Interpretation: Feature Importances\n",
    "For model interpretability, we will take a look at the feature importances of our optimized random forest. We may use these feature importances as a method of dimensionality reduction in future work."
   ]
  },
  {
   "cell_type": "code",
   "execution_count": null,
   "metadata": {},
   "outputs": [],
   "source": [
    "# Top N importances\n",
    "N = 10\n",
    "importances = gsc_rf.feature_importances_\n",
    "std = np.std([tree.feature_importances_ for tree in gsc_rf.estimators_],\n",
    "             axis=0)\n",
    "\n",
    "# Create a dataframe\n",
    "importances_df = pd.DataFrame({'Variable':X.columns, 'Importance': importances})\n",
    "\n",
    "top_N = importances_df.sort_values(by=['Importance'], ascending=False).head(10)\n",
    "\n",
    "top_N"
   ]
  },
  {
   "cell_type": "code",
   "execution_count": null,
   "metadata": {},
   "outputs": [],
   "source": [
    "# Creating a bar plot\n",
    "sns.barplot(y='Variable', x='Importance', data=top_N)\n",
    "# Add labels to your graph\n",
    "plt.xlabel('Feature Importance Score')\n",
    "plt.ylabel('Features')\n",
    "plt.title(\"Visualizing Random Forest Important Features\")\n",
    "plt.show()"
   ]
  },
  {
   "cell_type": "markdown",
   "metadata": {},
   "source": [
    "__Observation__: It seems like user profile features play an important role in classifying tweets based on the user's favorite, status, and friend count. There might be biased in the data since there is importance on the tweet year and tweet month. Twitter might have made updates to their bot detection and thus providing new classification results. "
   ]
  },
  {
   "cell_type": "markdown",
   "metadata": {},
   "source": [
    "### Multi-Layer Preceptron Classifier\n",
    "\n",
    "To capture non-linear relationships within the dataset, we'll test out MLP. \n",
    "\n",
    "Unlike the previous models, we will have to scale our data to help mlp converge better. "
   ]
  },
  {
   "cell_type": "code",
   "execution_count": null,
   "metadata": {},
   "outputs": [],
   "source": [
    "# Define the scaler \n",
    "scaler = StandardScaler().fit(X_train)\n",
    "\n",
    "# Scale the train set\n",
    "X_train = scaler.transform(X_train)\n",
    "\n",
    "# Scale the test set\n",
    "X_test = scaler.transform(X_test)"
   ]
  },
  {
   "cell_type": "code",
   "execution_count": null,
   "metadata": {},
   "outputs": [],
   "source": [
    "# Establish and fit the model\n",
    "mlp = MLPClassifier(max_iter=200) \n",
    "\n",
    "# Fit and predict\n",
    "mlp.fit(X_train, y_train)\n",
    "mlp_y_pred = mlp.predict(X_test)\n",
    "\n",
    "# Check for overfitting\n",
    "print(cross_val_score(mlp, X_train, y_train, cv=10, scoring='roc_auc'))"
   ]
  },
  {
   "cell_type": "code",
   "execution_count": null,
   "metadata": {},
   "outputs": [],
   "source": [
    "# Calculate metrics\n",
    "mlp_roc_auc = roc_auc_score(y_test, mlp_y_pred)\n",
    "mlp_accuracy = accuracy_score(y_test, mlp_y_pred)\n",
    "mlp_recall = recall_score(y_test, mlp_y_pred)\n",
    "mlp_precision = precision_score(y_test, mlp_y_pred)\n",
    "\n",
    "# Print metrics\n",
    "print(\"ROC_AUC: %.2f%%\" % (mlp_roc_auc * 100.0))\n",
    "print(\"Accuracy: %.2f%%\" % (mlp_accuracy * 100.0))\n",
    "print('Recall: %.2f%%' % (mlp_recall * 100.0))\n",
    "print('Precision: %.2f%%' % (mlp_precision * 100.0))\n",
    "print(confusion_matrix(y_test, mlp_y_pred))"
   ]
  },
  {
   "cell_type": "markdown",
   "metadata": {},
   "source": [
    "#### Optimized MLP\n",
    "Now, we'll use the best parameters to fit the model.\n",
    "\n",
    "* __hidden_layer_sizes__: The ith element represents the number of neurons in the ith hidden layer\n",
    "* __activation__: function for the hidden layer\n",
    "* __solver__: for weight optimization\n",
    "* __max_iter__: maximum number of iterations taken for the solvers to converge"
   ]
  },
  {
   "cell_type": "code",
   "execution_count": null,
   "metadata": {},
   "outputs": [],
   "source": [
    "#Optimizing MLP\n",
    "start_time = time.time()\n",
    "\n",
    "parameters = {\n",
    "    'hidden_layer_sizes': [(50,50,50), (50,100,50), (100,)],\n",
    "    'activation': ['tanh', 'relu'],\n",
    "    'solver': ['sgd', 'adam'],\n",
    "    'max_iter': [200, 350, 500]}\n",
    "\n",
    "gsc_mlp = GridSearchCV(mlp, parameters, cv=10, n_jobs=-1, scoring='roc_auc')\n",
    "gsc_mlp.fit(X_train, y_train)\n",
    "print(\"Best: %f using %s\" %(gsc_mlp.best_score_,gsc_mlp.best_params_))\n",
    "print(\"Execution time: \" + str((time.time() - start_time)) + ' seconds')\n"
   ]
  },
  {
   "cell_type": "code",
   "execution_count": null,
   "metadata": {},
   "outputs": [],
   "source": [
    "# Establish and fit the model\n",
    "gsc_mlp = MLPClassifier(max_iter=100, activation='tanh', alpha= 0.0001, hidden_layer_sizes=(100,), \n",
    "                        learning_rate='adaptive', solver='adam') \n",
    "gsc_mlp.fit(X_train, y_train)\n",
    "gsc_mlp_y_pred = gsc_mlp.predict(X_test)\n",
    "\n",
    "# Check for overfitting\n",
    "print(cross_val_score(gsc_mlp, X_train, y_train, cv=10, scoring='roc_auc'))"
   ]
  },
  {
   "cell_type": "code",
   "execution_count": null,
   "metadata": {},
   "outputs": [],
   "source": [
    "# Calculate metrics\n",
    "gsc_mlp_roc_auc = roc_auc_score(y_test, gsc_mlp_y_pred)\n",
    "gsc_mlp_accuracy = accuracy_score(y_test, gsc_mlp_y_pred)\n",
    "gsc_mlp_recall = recall_score(y_test, gsc_mlp_y_pred)\n",
    "gsc_mlp_precision = precision_score(y_test, gsc_mlp_y_pred)\n",
    "\n",
    "# Print metrics\n",
    "print(\"ROC_AUC: %.2f%%\" % (gsc_mlp_roc_auc * 100.0))\n",
    "print(\"Accuracy: %.2f%%\" % (gsc_mlp_accuracy * 100.0))\n",
    "print('Recall: %.2f%%' % (gsc_mlp_recall * 100.0))\n",
    "print('Precision: %.2f%%' % (gsc_mlp_precision * 100.0))\n",
    "print(confusion_matrix(y_test, gsc_mlp_y_pred))"
   ]
  },
  {
   "cell_type": "code",
   "execution_count": null,
   "metadata": {},
   "outputs": [],
   "source": [
    "# Function to plot ROC curve \n",
    "roc_curve(gsc_mlp, X_train, y_train, X_test, y_test)"
   ]
  },
  {
   "cell_type": "markdown",
   "metadata": {},
   "source": [
    "__Evaluation__: The optimized MLP is comparable to the random forest model. After tuning, recall score increased from 85% to 90%. Precision remained the same (90%). "
   ]
  },
  {
   "cell_type": "markdown",
   "metadata": {},
   "source": [
    "## Supervised Learning Results"
   ]
  },
  {
   "cell_type": "code",
   "execution_count": null,
   "metadata": {},
   "outputs": [],
   "source": [
    "# Dataframe to hold the results\n",
    "model_comparison = pd.DataFrame({'Model': ['Logistic Regression', 'Random Forest',\n",
    "                                           'Multi-Layer Preceptron Neural Network'],\n",
    "                                 'ROC_AUC': [gsc_lr_roc_auc, gsc_rf_roc_auc, gsc_mlp_roc_auc],\n",
    "                                'Accuracy': [gsc_lr_accuracy, gsc_rf_accuracy, gsc_mlp_accuracy],\n",
    "                                'Recall': [gsc_lr_recall, gsc_rf_recall, gsc_mlp_recall],\n",
    "                                'Precision': [gsc_lr_precision, gsc_rf_precision, gsc_mlp_precision]})\n",
    "\n",
    "# Horizontal bar chart of \n",
    "model_comparison.sort_values('ROC_AUC', ascending = False)"
   ]
  },
  {
   "cell_type": "markdown",
   "metadata": {},
   "source": [
    "#### Which model performed best?\n",
    "As we can see, random forest and mlp were the top models across all metrics. However, the average scores of the random forest model remained within 99% for all metrics while mlp scores ranged from 89% to 90%."
   ]
  },
  {
   "cell_type": "markdown",
   "metadata": {},
   "source": [
    "## Unsupervised Learning: Segmenting Tweets\n",
    "\n",
    "In the previous section, we built several models to classify tweets and identified feature importance with random forest. We will continue to examine tweeting patterns from genuine and bot users through clustering. \n",
    "\n",
    "First, let's try to get a better understanding of what a tweet from a genuine user might consist of. \n"
   ]
  },
  {
   "cell_type": "code",
   "execution_count": 104,
   "metadata": {},
   "outputs": [
    {
     "data": {
      "text/html": [
       "<div>\n",
       "<style scoped>\n",
       "    .dataframe tbody tr th:only-of-type {\n",
       "        vertical-align: middle;\n",
       "    }\n",
       "\n",
       "    .dataframe tbody tr th {\n",
       "        vertical-align: top;\n",
       "    }\n",
       "\n",
       "    .dataframe thead th {\n",
       "        text-align: right;\n",
       "    }\n",
       "</style>\n",
       "<table border=\"1\" class=\"dataframe\">\n",
       "  <thead>\n",
       "    <tr style=\"text-align: right;\">\n",
       "      <th></th>\n",
       "      <th>statuses_count</th>\n",
       "      <th>followers_count</th>\n",
       "      <th>friends_count</th>\n",
       "      <th>favourites_count</th>\n",
       "      <th>listed_count</th>\n",
       "      <th>class</th>\n",
       "      <th>retweet_count</th>\n",
       "      <th>reply_count</th>\n",
       "      <th>favorite_count</th>\n",
       "      <th>num_hashtags</th>\n",
       "      <th>...</th>\n",
       "      <th>num_mentions</th>\n",
       "      <th>account_age_yr</th>\n",
       "      <th>digit_in_name</th>\n",
       "      <th>user_name_len</th>\n",
       "      <th>tweet_hour</th>\n",
       "      <th>tweet_month</th>\n",
       "      <th>tweet_day</th>\n",
       "      <th>tweet_year</th>\n",
       "      <th>tweet_length</th>\n",
       "      <th>num_of_words</th>\n",
       "    </tr>\n",
       "  </thead>\n",
       "  <tbody>\n",
       "    <tr>\n",
       "      <th>0</th>\n",
       "      <td>53</td>\n",
       "      <td>2</td>\n",
       "      <td>37</td>\n",
       "      <td>0</td>\n",
       "      <td>0</td>\n",
       "      <td>1</td>\n",
       "      <td>0</td>\n",
       "      <td>0</td>\n",
       "      <td>1</td>\n",
       "      <td>0</td>\n",
       "      <td>...</td>\n",
       "      <td>1</td>\n",
       "      <td>5</td>\n",
       "      <td>0</td>\n",
       "      <td>12</td>\n",
       "      <td>12</td>\n",
       "      <td>7</td>\n",
       "      <td>3</td>\n",
       "      <td>2014</td>\n",
       "      <td>111</td>\n",
       "      <td>19</td>\n",
       "    </tr>\n",
       "    <tr>\n",
       "      <th>1</th>\n",
       "      <td>13433</td>\n",
       "      <td>509</td>\n",
       "      <td>1286</td>\n",
       "      <td>1</td>\n",
       "      <td>8</td>\n",
       "      <td>1</td>\n",
       "      <td>0</td>\n",
       "      <td>0</td>\n",
       "      <td>0</td>\n",
       "      <td>0</td>\n",
       "      <td>...</td>\n",
       "      <td>0</td>\n",
       "      <td>8</td>\n",
       "      <td>1</td>\n",
       "      <td>15</td>\n",
       "      <td>20</td>\n",
       "      <td>9</td>\n",
       "      <td>15</td>\n",
       "      <td>2014</td>\n",
       "      <td>61</td>\n",
       "      <td>7</td>\n",
       "    </tr>\n",
       "    <tr>\n",
       "      <th>2</th>\n",
       "      <td>9770</td>\n",
       "      <td>21460</td>\n",
       "      <td>2574</td>\n",
       "      <td>0</td>\n",
       "      <td>0</td>\n",
       "      <td>1</td>\n",
       "      <td>0</td>\n",
       "      <td>0</td>\n",
       "      <td>0</td>\n",
       "      <td>0</td>\n",
       "      <td>...</td>\n",
       "      <td>0</td>\n",
       "      <td>7</td>\n",
       "      <td>0</td>\n",
       "      <td>11</td>\n",
       "      <td>14</td>\n",
       "      <td>10</td>\n",
       "      <td>2</td>\n",
       "      <td>2014</td>\n",
       "      <td>56</td>\n",
       "      <td>7</td>\n",
       "    </tr>\n",
       "    <tr>\n",
       "      <th>3</th>\n",
       "      <td>67792</td>\n",
       "      <td>918</td>\n",
       "      <td>728</td>\n",
       "      <td>1989</td>\n",
       "      <td>5</td>\n",
       "      <td>1</td>\n",
       "      <td>257</td>\n",
       "      <td>0</td>\n",
       "      <td>0</td>\n",
       "      <td>0</td>\n",
       "      <td>...</td>\n",
       "      <td>1</td>\n",
       "      <td>10</td>\n",
       "      <td>0</td>\n",
       "      <td>10</td>\n",
       "      <td>18</td>\n",
       "      <td>10</td>\n",
       "      <td>28</td>\n",
       "      <td>2014</td>\n",
       "      <td>115</td>\n",
       "      <td>15</td>\n",
       "    </tr>\n",
       "    <tr>\n",
       "      <th>4</th>\n",
       "      <td>11748</td>\n",
       "      <td>684</td>\n",
       "      <td>492</td>\n",
       "      <td>1</td>\n",
       "      <td>3</td>\n",
       "      <td>1</td>\n",
       "      <td>0</td>\n",
       "      <td>0</td>\n",
       "      <td>0</td>\n",
       "      <td>0</td>\n",
       "      <td>...</td>\n",
       "      <td>0</td>\n",
       "      <td>7</td>\n",
       "      <td>1</td>\n",
       "      <td>15</td>\n",
       "      <td>4</td>\n",
       "      <td>9</td>\n",
       "      <td>21</td>\n",
       "      <td>2014</td>\n",
       "      <td>56</td>\n",
       "      <td>8</td>\n",
       "    </tr>\n",
       "  </tbody>\n",
       "</table>\n",
       "<p>5 rows × 21 columns</p>\n",
       "</div>"
      ],
      "text/plain": [
       "   statuses_count  followers_count  friends_count  favourites_count  \\\n",
       "0              53                2             37                 0   \n",
       "1           13433              509           1286                 1   \n",
       "2            9770            21460           2574                 0   \n",
       "3           67792              918            728              1989   \n",
       "4           11748              684            492                 1   \n",
       "\n",
       "   listed_count  class  retweet_count  reply_count  favorite_count  \\\n",
       "0             0      1              0            0               1   \n",
       "1             8      1              0            0               0   \n",
       "2             0      1              0            0               0   \n",
       "3             5      1            257            0               0   \n",
       "4             3      1              0            0               0   \n",
       "\n",
       "   num_hashtags  ...  num_mentions  account_age_yr  digit_in_name  \\\n",
       "0             0  ...             1               5              0   \n",
       "1             0  ...             0               8              1   \n",
       "2             0  ...             0               7              0   \n",
       "3             0  ...             1              10              0   \n",
       "4             0  ...             0               7              1   \n",
       "\n",
       "   user_name_len  tweet_hour  tweet_month  tweet_day  tweet_year  \\\n",
       "0             12          12            7          3        2014   \n",
       "1             15          20            9         15        2014   \n",
       "2             11          14           10          2        2014   \n",
       "3             10          18           10         28        2014   \n",
       "4             15           4            9         21        2014   \n",
       "\n",
       "   tweet_length  num_of_words  \n",
       "0           111            19  \n",
       "1            61             7  \n",
       "2            56             7  \n",
       "3           115            15  \n",
       "4            56             8  \n",
       "\n",
       "[5 rows x 21 columns]"
      ]
     },
     "execution_count": 104,
     "metadata": {},
     "output_type": "execute_result"
    }
   ],
   "source": [
    "# Drop text components \n",
    "df2 = df_clean.iloc[:,0:21]\n",
    "df2.head()"
   ]
  },
  {
   "cell_type": "markdown",
   "metadata": {},
   "source": [
    "### Distinction between class \n",
    "Let's check if there are any tweeting obvious patterns in the data. "
   ]
  },
  {
   "cell_type": "code",
   "execution_count": 105,
   "metadata": {},
   "outputs": [
    {
     "name": "stdout",
     "output_type": "stream",
     "text": [
      "       statuses_count  followers_count  friends_count  favourites_count  \\\n",
      "class                                                                     \n",
      "0        23382.339736      3521.995692     763.621668       5285.511085   \n",
      "1         9581.004713      2268.374749    1681.059968         55.304252   \n",
      "\n",
      "       listed_count  retweet_count  reply_count  favorite_count  num_hashtags  \\\n",
      "class                                                                           \n",
      "0         43.449511     687.827574          0.0        0.466834      0.241810   \n",
      "1         11.269555       3.994083          0.0        0.121540      0.058464   \n",
      "\n",
      "       num_urls  num_mentions  account_age_yr  digit_in_name  user_name_len  \\\n",
      "class                                                                         \n",
      "0      0.151153      0.775334        8.214613       0.376806      10.832870   \n",
      "1      0.335941      0.107702        7.068291       0.220217      11.906037   \n",
      "\n",
      "       tweet_hour  tweet_month  tweet_day   tweet_year  tweet_length  \\\n",
      "class                                                                  \n",
      "0       11.045508     5.404721  16.064357  2014.231487     73.722736   \n",
      "1       12.630766     8.626855  16.552647  2013.963197     79.648416   \n",
      "\n",
      "       num_of_words  \n",
      "class                \n",
      "0         11.626245  \n",
      "1         13.262134  \n"
     ]
    }
   ],
   "source": [
    "# Groupby categories and take the mean\n",
    "print(df2.groupby('class').mean())"
   ]
  },
  {
   "cell_type": "markdown",
   "metadata": {},
   "source": [
    "__Observation__: Based on the summary, the average retweet count for genuine tweets is substantially higher than tweets by bots. Genuine tweets tend to contain more hastags and mentions. Let's take a closer look at those features. "
   ]
  },
  {
   "cell_type": "code",
   "execution_count": 106,
   "metadata": {},
   "outputs": [
    {
     "name": "stdout",
     "output_type": "stream",
     "text": [
      "0        5104\n",
      "1        4069\n",
      "2         259\n",
      "3          96\n",
      "381        69\n",
      "         ... \n",
      "7338        1\n",
      "479         1\n",
      "10          1\n",
      "10192       1\n",
      "20          1\n",
      "Name: favourites_count, Length: 794, dtype: int64\n"
     ]
    }
   ],
   "source": [
    "# Group by favourites_count groups and get the mean\n",
    "df2.groupby('favourites_count').mean()\n",
    "\n",
    "# Count the values of the observations in each favourites_count group\n",
    "print(df2['favourites_count'].value_counts())"
   ]
  },
  {
   "cell_type": "code",
   "execution_count": 107,
   "metadata": {},
   "outputs": [
    {
     "data": {
      "image/png": "[encoded data removed]",
      "text/plain": [
       "<Figure size 1008x504 with 2 Axes>"
      ]
     },
     "metadata": {
      "needs_background": "light"
     },
     "output_type": "display_data"
    }
   ],
   "source": [
    "# Create two dataframes with fraud and non-fraud data \n",
    "bots = df2.loc[df2['class'] == 1] \n",
    "gen = df2.loc[df2['class'] == 0]\n",
    "\n",
    "plt.figure(figsize=(14,7))\n",
    "\n",
    "# Plot histograms of the retweet_count in bot and gen tweets\n",
    "plt.subplot(1, 2, 1)\n",
    "plt.hist(bots.favourites_count)\n",
    "plt.xlabel('# Favorite')\n",
    "plt.ylabel('# Counts')\n",
    "plt.title('Counts of Favorite for Bot Tweets')\n",
    "\n",
    "# Plot histograms of the num_mentions in bot and gen tweets\n",
    "plt.subplot(1, 2, 2)\n",
    "plt.hist(gen.favourites_count)\n",
    "plt.xlabel('# Favorite')\n",
    "plt.ylabel('# Counts')\n",
    "plt.title('Counts of Favorite for Genuine Tweets')\n",
    "plt.show()"
   ]
  },
  {
   "cell_type": "code",
   "execution_count": 108,
   "metadata": {},
   "outputs": [
    {
     "name": "stdout",
     "output_type": "stream",
     "text": [
      "0       16779\n",
      "1        1344\n",
      "2         378\n",
      "3         202\n",
      "4         111\n",
      "        ...  \n",
      "889         1\n",
      "841         1\n",
      "2872        1\n",
      "793         1\n",
      "2047        1\n",
      "Name: retweet_count, Length: 1061, dtype: int64\n"
     ]
    }
   ],
   "source": [
    "# Group by num_mentions groups and get the mean\n",
    "df2.groupby('retweet_count').mean()\n",
    "\n",
    "# Count the values of the observations in each num_mentions group\n",
    "print(df2['retweet_count'].value_counts())"
   ]
  },
  {
   "cell_type": "code",
   "execution_count": 109,
   "metadata": {},
   "outputs": [
    {
     "data": {
      "image/png": "[encoded data removed]",
      "text/plain": [
       "<Figure size 1008x504 with 2 Axes>"
      ]
     },
     "metadata": {
      "needs_background": "light"
     },
     "output_type": "display_data"
    }
   ],
   "source": [
    "# Create two dataframes with fraud and non-fraud data \n",
    "bots = df2.loc[df2['class'] == 1] \n",
    "gen = df2.loc[df2['class'] == 0]\n",
    "\n",
    "plt.figure(figsize=(14,7))\n",
    "\n",
    "# Plot histograms of the retweet_count in bot tweets\n",
    "plt.subplot(1, 2, 1)\n",
    "plt.hist(bots.retweet_count)\n",
    "plt.xlabel('# Retweets')\n",
    "plt.ylabel('# Counts')\n",
    "plt.title('Counts of Retweets for Bot Tweets')\n",
    "\n",
    "\n",
    "# Plot histograms of the retweet_count in gen tweets\n",
    "plt.subplot(1, 2, 2)\n",
    "plt.hist(gen.retweet_count)\n",
    "plt.xlabel('# Retweets')\n",
    "plt.ylabel('# Counts')\n",
    "plt.title('Counts of Retweets for Genuine Tweets')\n",
    "plt.show()"
   ]
  },
  {
   "cell_type": "markdown",
   "metadata": {},
   "source": [
    "__Observation__: We can observe several genuine tweets that have more than 100,000 retweets. This may have skewed the average retweet count for genuine tweets. Likewise with the number of mentions, there are a couple of tweets that consists of 6 mentions or more while the average mention is around 2 for genuine tweets."
   ]
  },
  {
   "cell_type": "markdown",
   "metadata": {},
   "source": [
    "## Clustering Pre-Processing \n",
    "Before we can begin clustering perpare the data by:\n",
    "\n",
    "1. Unskew the data - log transformation \n",
    "2. Standardize to the same average values\n",
    "3. Scale to the same standard deviation \n",
    "4. Store as a separate array to be used for clustering \n"
   ]
  },
  {
   "cell_type": "code",
   "execution_count": 110,
   "metadata": {},
   "outputs": [
    {
     "data": {
      "text/html": [
       "<div>\n",
       "<style scoped>\n",
       "    .dataframe tbody tr th:only-of-type {\n",
       "        vertical-align: middle;\n",
       "    }\n",
       "\n",
       "    .dataframe tbody tr th {\n",
       "        vertical-align: top;\n",
       "    }\n",
       "\n",
       "    .dataframe thead th {\n",
       "        text-align: right;\n",
       "    }\n",
       "</style>\n",
       "<table border=\"1\" class=\"dataframe\">\n",
       "  <thead>\n",
       "    <tr style=\"text-align: right;\">\n",
       "      <th></th>\n",
       "      <th>statuses_count</th>\n",
       "      <th>followers_count</th>\n",
       "      <th>friends_count</th>\n",
       "      <th>favourites_count</th>\n",
       "      <th>listed_count</th>\n",
       "      <th>class</th>\n",
       "      <th>retweet_count</th>\n",
       "      <th>reply_count</th>\n",
       "      <th>favorite_count</th>\n",
       "      <th>num_hashtags</th>\n",
       "      <th>...</th>\n",
       "      <th>num_mentions</th>\n",
       "      <th>account_age_yr</th>\n",
       "      <th>digit_in_name</th>\n",
       "      <th>user_name_len</th>\n",
       "      <th>tweet_hour</th>\n",
       "      <th>tweet_month</th>\n",
       "      <th>tweet_day</th>\n",
       "      <th>tweet_year</th>\n",
       "      <th>tweet_length</th>\n",
       "      <th>num_of_words</th>\n",
       "    </tr>\n",
       "  </thead>\n",
       "  <tbody>\n",
       "    <tr>\n",
       "      <th>count</th>\n",
       "      <td>21113.000000</td>\n",
       "      <td>21113.000000</td>\n",
       "      <td>21113.000000</td>\n",
       "      <td>21113.000000</td>\n",
       "      <td>21113.000000</td>\n",
       "      <td>21113.000000</td>\n",
       "      <td>21113.000000</td>\n",
       "      <td>21113.0</td>\n",
       "      <td>21113.000000</td>\n",
       "      <td>21113.000000</td>\n",
       "      <td>...</td>\n",
       "      <td>21113.000000</td>\n",
       "      <td>21113.000000</td>\n",
       "      <td>21113.000000</td>\n",
       "      <td>21113.000000</td>\n",
       "      <td>21113.00000</td>\n",
       "      <td>21113.000000</td>\n",
       "      <td>21113.000000</td>\n",
       "      <td>21113.000000</td>\n",
       "      <td>21113.000000</td>\n",
       "      <td>21113.000000</td>\n",
       "    </tr>\n",
       "    <tr>\n",
       "      <th>mean</th>\n",
       "      <td>16863.753422</td>\n",
       "      <td>2929.890920</td>\n",
       "      <td>1196.942121</td>\n",
       "      <td>2815.202624</td>\n",
       "      <td>28.250414</td>\n",
       "      <td>0.472316</td>\n",
       "      <td>364.842325</td>\n",
       "      <td>0.0</td>\n",
       "      <td>0.303747</td>\n",
       "      <td>0.155212</td>\n",
       "      <td>...</td>\n",
       "      <td>0.460001</td>\n",
       "      <td>7.673187</td>\n",
       "      <td>0.302847</td>\n",
       "      <td>11.339743</td>\n",
       "      <td>11.79425</td>\n",
       "      <td>6.926586</td>\n",
       "      <td>16.294984</td>\n",
       "      <td>2014.104770</td>\n",
       "      <td>76.521527</td>\n",
       "      <td>12.398901</td>\n",
       "    </tr>\n",
       "    <tr>\n",
       "      <th>std</th>\n",
       "      <td>27755.385315</td>\n",
       "      <td>35002.167174</td>\n",
       "      <td>3472.134543</td>\n",
       "      <td>7501.726624</td>\n",
       "      <td>199.413849</td>\n",
       "      <td>0.499245</td>\n",
       "      <td>6153.067749</td>\n",
       "      <td>0.0</td>\n",
       "      <td>1.957306</td>\n",
       "      <td>0.552834</td>\n",
       "      <td>...</td>\n",
       "      <td>0.759569</td>\n",
       "      <td>1.771675</td>\n",
       "      <td>0.847270</td>\n",
       "      <td>2.469308</td>\n",
       "      <td>7.48191</td>\n",
       "      <td>3.357957</td>\n",
       "      <td>9.072465</td>\n",
       "      <td>0.759749</td>\n",
       "      <td>35.904194</td>\n",
       "      <td>6.539560</td>\n",
       "    </tr>\n",
       "    <tr>\n",
       "      <th>min</th>\n",
       "      <td>27.000000</td>\n",
       "      <td>0.000000</td>\n",
       "      <td>0.000000</td>\n",
       "      <td>0.000000</td>\n",
       "      <td>0.000000</td>\n",
       "      <td>0.000000</td>\n",
       "      <td>0.000000</td>\n",
       "      <td>0.0</td>\n",
       "      <td>0.000000</td>\n",
       "      <td>0.000000</td>\n",
       "      <td>...</td>\n",
       "      <td>0.000000</td>\n",
       "      <td>5.000000</td>\n",
       "      <td>0.000000</td>\n",
       "      <td>3.000000</td>\n",
       "      <td>0.00000</td>\n",
       "      <td>1.000000</td>\n",
       "      <td>1.000000</td>\n",
       "      <td>2008.000000</td>\n",
       "      <td>1.000000</td>\n",
       "      <td>1.000000</td>\n",
       "    </tr>\n",
       "    <tr>\n",
       "      <th>25%</th>\n",
       "      <td>4032.000000</td>\n",
       "      <td>275.000000</td>\n",
       "      <td>271.000000</td>\n",
       "      <td>1.000000</td>\n",
       "      <td>1.000000</td>\n",
       "      <td>0.000000</td>\n",
       "      <td>0.000000</td>\n",
       "      <td>0.0</td>\n",
       "      <td>0.000000</td>\n",
       "      <td>0.000000</td>\n",
       "      <td>...</td>\n",
       "      <td>0.000000</td>\n",
       "      <td>6.000000</td>\n",
       "      <td>0.000000</td>\n",
       "      <td>10.000000</td>\n",
       "      <td>4.00000</td>\n",
       "      <td>4.000000</td>\n",
       "      <td>8.000000</td>\n",
       "      <td>2014.000000</td>\n",
       "      <td>50.000000</td>\n",
       "      <td>7.000000</td>\n",
       "    </tr>\n",
       "    <tr>\n",
       "      <th>50%</th>\n",
       "      <td>11078.000000</td>\n",
       "      <td>671.000000</td>\n",
       "      <td>737.000000</td>\n",
       "      <td>95.000000</td>\n",
       "      <td>4.000000</td>\n",
       "      <td>0.000000</td>\n",
       "      <td>0.000000</td>\n",
       "      <td>0.0</td>\n",
       "      <td>0.000000</td>\n",
       "      <td>0.000000</td>\n",
       "      <td>...</td>\n",
       "      <td>0.000000</td>\n",
       "      <td>7.000000</td>\n",
       "      <td>0.000000</td>\n",
       "      <td>11.000000</td>\n",
       "      <td>13.00000</td>\n",
       "      <td>8.000000</td>\n",
       "      <td>17.000000</td>\n",
       "      <td>2014.000000</td>\n",
       "      <td>73.000000</td>\n",
       "      <td>11.000000</td>\n",
       "    </tr>\n",
       "    <tr>\n",
       "      <th>75%</th>\n",
       "      <td>14140.000000</td>\n",
       "      <td>1119.000000</td>\n",
       "      <td>1605.000000</td>\n",
       "      <td>2447.000000</td>\n",
       "      <td>10.000000</td>\n",
       "      <td>1.000000</td>\n",
       "      <td>0.000000</td>\n",
       "      <td>0.0</td>\n",
       "      <td>0.000000</td>\n",
       "      <td>0.000000</td>\n",
       "      <td>...</td>\n",
       "      <td>1.000000</td>\n",
       "      <td>9.000000</td>\n",
       "      <td>0.000000</td>\n",
       "      <td>13.000000</td>\n",
       "      <td>18.00000</td>\n",
       "      <td>10.000000</td>\n",
       "      <td>24.000000</td>\n",
       "      <td>2015.000000</td>\n",
       "      <td>104.000000</td>\n",
       "      <td>17.000000</td>\n",
       "    </tr>\n",
       "    <tr>\n",
       "      <th>max</th>\n",
       "      <td>333504.000000</td>\n",
       "      <td>986837.000000</td>\n",
       "      <td>90861.000000</td>\n",
       "      <td>118225.000000</td>\n",
       "      <td>4840.000000</td>\n",
       "      <td>1.000000</td>\n",
       "      <td>376230.000000</td>\n",
       "      <td>0.0</td>\n",
       "      <td>165.000000</td>\n",
       "      <td>8.000000</td>\n",
       "      <td>...</td>\n",
       "      <td>11.000000</td>\n",
       "      <td>12.000000</td>\n",
       "      <td>9.000000</td>\n",
       "      <td>15.000000</td>\n",
       "      <td>23.00000</td>\n",
       "      <td>12.000000</td>\n",
       "      <td>31.000000</td>\n",
       "      <td>2015.000000</td>\n",
       "      <td>150.000000</td>\n",
       "      <td>32.000000</td>\n",
       "    </tr>\n",
       "  </tbody>\n",
       "</table>\n",
       "<p>8 rows × 21 columns</p>\n",
       "</div>"
      ],
      "text/plain": [
       "       statuses_count  followers_count  friends_count  favourites_count  \\\n",
       "count    21113.000000     21113.000000   21113.000000      21113.000000   \n",
       "mean     16863.753422      2929.890920    1196.942121       2815.202624   \n",
       "std      27755.385315     35002.167174    3472.134543       7501.726624   \n",
       "min         27.000000         0.000000       0.000000          0.000000   \n",
       "25%       4032.000000       275.000000     271.000000          1.000000   \n",
       "50%      11078.000000       671.000000     737.000000         95.000000   \n",
       "75%      14140.000000      1119.000000    1605.000000       2447.000000   \n",
       "max     333504.000000    986837.000000   90861.000000     118225.000000   \n",
       "\n",
       "       listed_count         class  retweet_count  reply_count  favorite_count  \\\n",
       "count  21113.000000  21113.000000   21113.000000      21113.0    21113.000000   \n",
       "mean      28.250414      0.472316     364.842325          0.0        0.303747   \n",
       "std      199.413849      0.499245    6153.067749          0.0        1.957306   \n",
       "min        0.000000      0.000000       0.000000          0.0        0.000000   \n",
       "25%        1.000000      0.000000       0.000000          0.0        0.000000   \n",
       "50%        4.000000      0.000000       0.000000          0.0        0.000000   \n",
       "75%       10.000000      1.000000       0.000000          0.0        0.000000   \n",
       "max     4840.000000      1.000000  376230.000000          0.0      165.000000   \n",
       "\n",
       "       num_hashtags  ...  num_mentions  account_age_yr  digit_in_name  \\\n",
       "count  21113.000000  ...  21113.000000    21113.000000   21113.000000   \n",
       "mean       0.155212  ...      0.460001        7.673187       0.302847   \n",
       "std        0.552834  ...      0.759569        1.771675       0.847270   \n",
       "min        0.000000  ...      0.000000        5.000000       0.000000   \n",
       "25%        0.000000  ...      0.000000        6.000000       0.000000   \n",
       "50%        0.000000  ...      0.000000        7.000000       0.000000   \n",
       "75%        0.000000  ...      1.000000        9.000000       0.000000   \n",
       "max        8.000000  ...     11.000000       12.000000       9.000000   \n",
       "\n",
       "       user_name_len   tweet_hour   tweet_month     tweet_day    tweet_year  \\\n",
       "count   21113.000000  21113.00000  21113.000000  21113.000000  21113.000000   \n",
       "mean       11.339743     11.79425      6.926586     16.294984   2014.104770   \n",
       "std         2.469308      7.48191      3.357957      9.072465      0.759749   \n",
       "min         3.000000      0.00000      1.000000      1.000000   2008.000000   \n",
       "25%        10.000000      4.00000      4.000000      8.000000   2014.000000   \n",
       "50%        11.000000     13.00000      8.000000     17.000000   2014.000000   \n",
       "75%        13.000000     18.00000     10.000000     24.000000   2015.000000   \n",
       "max        15.000000     23.00000     12.000000     31.000000   2015.000000   \n",
       "\n",
       "       tweet_length  num_of_words  \n",
       "count  21113.000000  21113.000000  \n",
       "mean      76.521527     12.398901  \n",
       "std       35.904194      6.539560  \n",
       "min        1.000000      1.000000  \n",
       "25%       50.000000      7.000000  \n",
       "50%       73.000000     11.000000  \n",
       "75%      104.000000     17.000000  \n",
       "max      150.000000     32.000000  \n",
       "\n",
       "[8 rows x 21 columns]"
      ]
     },
     "execution_count": 110,
     "metadata": {},
     "output_type": "execute_result"
    }
   ],
   "source": [
    "df2.describe()"
   ]
  },
  {
   "cell_type": "code",
   "execution_count": null,
   "metadata": {},
   "outputs": [],
   "source": [
    "# skewness along the index axis \n",
    "df2.skew(axis = 0, skipna = False)"
   ]
  },
  {
   "cell_type": "code",
   "execution_count": 111,
   "metadata": {},
   "outputs": [],
   "source": [
    "def skewness_table(df):\n",
    "        # Skewness scores \n",
    "        skew = df.skew(axis = 0)\n",
    "        \n",
    "        # kurtosis scores\n",
    "        kurtosis = df.kurt(axis = 0)\n",
    "        \n",
    "        # Make a table with the results\n",
    "        skew_table = pd.concat([skew, kurtosis], axis=1)\n",
    "        \n",
    "        # Rename the columns\n",
    "        skew_table_ren_columns = skew_table.rename(\n",
    "        columns = {0 : 'Skewness', 1 : 'Kurtosis'})\n",
    "        \n",
    "        # Sort the table by skewness descending\n",
    "        skew_table_ren_columns = skew_table_ren_columns[\n",
    "            skew_table_ren_columns.iloc[:,0] != 0].sort_values(\n",
    "        'Skewness', ascending=False).round(1)\n",
    "        \n",
    "        # Return the dataframe with skewness information\n",
    "        return skew_table_ren_columns"
   ]
  },
  {
   "cell_type": "code",
   "execution_count": 112,
   "metadata": {},
   "outputs": [
    {
     "data": {
      "text/html": [
       "<div>\n",
       "<style scoped>\n",
       "    .dataframe tbody tr th:only-of-type {\n",
       "        vertical-align: middle;\n",
       "    }\n",
       "\n",
       "    .dataframe tbody tr th {\n",
       "        vertical-align: top;\n",
       "    }\n",
       "\n",
       "    .dataframe thead th {\n",
       "        text-align: right;\n",
       "    }\n",
       "</style>\n",
       "<table border=\"1\" class=\"dataframe\">\n",
       "  <thead>\n",
       "    <tr style=\"text-align: right;\">\n",
       "      <th></th>\n",
       "      <th>Skewness</th>\n",
       "      <th>Kurtosis</th>\n",
       "    </tr>\n",
       "  </thead>\n",
       "  <tbody>\n",
       "    <tr>\n",
       "      <th>favorite_count</th>\n",
       "      <td>41.0</td>\n",
       "      <td>2749.1</td>\n",
       "    </tr>\n",
       "    <tr>\n",
       "      <th>retweet_count</th>\n",
       "      <td>34.3</td>\n",
       "      <td>1488.6</td>\n",
       "    </tr>\n",
       "    <tr>\n",
       "      <th>followers_count</th>\n",
       "      <td>25.2</td>\n",
       "      <td>673.7</td>\n",
       "    </tr>\n",
       "    <tr>\n",
       "      <th>friends_count</th>\n",
       "      <td>19.7</td>\n",
       "      <td>475.3</td>\n",
       "    </tr>\n",
       "    <tr>\n",
       "      <th>listed_count</th>\n",
       "      <td>18.3</td>\n",
       "      <td>391.5</td>\n",
       "    </tr>\n",
       "    <tr>\n",
       "      <th>favourites_count</th>\n",
       "      <td>6.7</td>\n",
       "      <td>69.1</td>\n",
       "    </tr>\n",
       "    <tr>\n",
       "      <th>num_hashtags</th>\n",
       "      <td>5.5</td>\n",
       "      <td>42.2</td>\n",
       "    </tr>\n",
       "    <tr>\n",
       "      <th>statuses_count</th>\n",
       "      <td>5.1</td>\n",
       "      <td>37.8</td>\n",
       "    </tr>\n",
       "    <tr>\n",
       "      <th>digit_in_name</th>\n",
       "      <td>4.0</td>\n",
       "      <td>22.5</td>\n",
       "    </tr>\n",
       "    <tr>\n",
       "      <th>num_mentions</th>\n",
       "      <td>2.9</td>\n",
       "      <td>16.6</td>\n",
       "    </tr>\n",
       "    <tr>\n",
       "      <th>num_urls</th>\n",
       "      <td>1.3</td>\n",
       "      <td>0.1</td>\n",
       "    </tr>\n",
       "    <tr>\n",
       "      <th>num_of_words</th>\n",
       "      <td>0.4</td>\n",
       "      <td>-0.6</td>\n",
       "    </tr>\n",
       "    <tr>\n",
       "      <th>account_age_yr</th>\n",
       "      <td>0.4</td>\n",
       "      <td>-0.6</td>\n",
       "    </tr>\n",
       "    <tr>\n",
       "      <th>tweet_length</th>\n",
       "      <td>0.2</td>\n",
       "      <td>-0.9</td>\n",
       "    </tr>\n",
       "    <tr>\n",
       "      <th>class</th>\n",
       "      <td>0.1</td>\n",
       "      <td>-2.0</td>\n",
       "    </tr>\n",
       "    <tr>\n",
       "      <th>tweet_day</th>\n",
       "      <td>-0.1</td>\n",
       "      <td>-1.2</td>\n",
       "    </tr>\n",
       "    <tr>\n",
       "      <th>tweet_hour</th>\n",
       "      <td>-0.1</td>\n",
       "      <td>-1.4</td>\n",
       "    </tr>\n",
       "    <tr>\n",
       "      <th>tweet_month</th>\n",
       "      <td>-0.2</td>\n",
       "      <td>-1.4</td>\n",
       "    </tr>\n",
       "    <tr>\n",
       "      <th>user_name_len</th>\n",
       "      <td>-0.3</td>\n",
       "      <td>-0.6</td>\n",
       "    </tr>\n",
       "    <tr>\n",
       "      <th>tweet_year</th>\n",
       "      <td>-2.2</td>\n",
       "      <td>10.3</td>\n",
       "    </tr>\n",
       "  </tbody>\n",
       "</table>\n",
       "</div>"
      ],
      "text/plain": [
       "                  Skewness  Kurtosis\n",
       "favorite_count        41.0    2749.1\n",
       "retweet_count         34.3    1488.6\n",
       "followers_count       25.2     673.7\n",
       "friends_count         19.7     475.3\n",
       "listed_count          18.3     391.5\n",
       "favourites_count       6.7      69.1\n",
       "num_hashtags           5.5      42.2\n",
       "statuses_count         5.1      37.8\n",
       "digit_in_name          4.0      22.5\n",
       "num_mentions           2.9      16.6\n",
       "num_urls               1.3       0.1\n",
       "num_of_words           0.4      -0.6\n",
       "account_age_yr         0.4      -0.6\n",
       "tweet_length           0.2      -0.9\n",
       "class                  0.1      -2.0\n",
       "tweet_day             -0.1      -1.2\n",
       "tweet_hour            -0.1      -1.4\n",
       "tweet_month           -0.2      -1.4\n",
       "user_name_len         -0.3      -0.6\n",
       "tweet_year            -2.2      10.3"
      ]
     },
     "execution_count": 112,
     "metadata": {},
     "output_type": "execute_result"
    }
   ],
   "source": [
    "skewness_table(df2)"
   ]
  },
  {
   "cell_type": "code",
   "execution_count": 113,
   "metadata": {},
   "outputs": [
    {
     "name": "stdout",
     "output_type": "stream",
     "text": [
      "We will transform 11 columns.\n"
     ]
    }
   ],
   "source": [
    "# Get columns with >= 0.5 skewness score\n",
    "skewnes_df = skewness_table(df2)\n",
    "skew_columns = list(skewnes_df[skewnes_df['Skewness'] >= 0.5].index)\n",
    "print('We will transform %d columns.' % len(skew_columns))"
   ]
  },
  {
   "cell_type": "code",
   "execution_count": 117,
   "metadata": {},
   "outputs": [
    {
     "name": "stderr",
     "output_type": "stream",
     "text": [
      "/Users/tsawaengsri/anaconda3/lib/python3.6/site-packages/pandas/core/series.py:853: RuntimeWarning: divide by zero encountered in log\n",
      "  result = getattr(ufunc, method)(*inputs, **kwargs)\n"
     ]
    },
    {
     "data": {
      "text/html": [
       "<div>\n",
       "<style scoped>\n",
       "    .dataframe tbody tr th:only-of-type {\n",
       "        vertical-align: middle;\n",
       "    }\n",
       "\n",
       "    .dataframe tbody tr th {\n",
       "        vertical-align: top;\n",
       "    }\n",
       "\n",
       "    .dataframe thead th {\n",
       "        text-align: right;\n",
       "    }\n",
       "</style>\n",
       "<table border=\"1\" class=\"dataframe\">\n",
       "  <thead>\n",
       "    <tr style=\"text-align: right;\">\n",
       "      <th></th>\n",
       "      <th>statuses_count</th>\n",
       "      <th>followers_count</th>\n",
       "      <th>friends_count</th>\n",
       "      <th>favourites_count</th>\n",
       "      <th>listed_count</th>\n",
       "      <th>class</th>\n",
       "      <th>retweet_count</th>\n",
       "      <th>reply_count</th>\n",
       "      <th>favorite_count</th>\n",
       "      <th>num_hashtags</th>\n",
       "      <th>...</th>\n",
       "      <th>num_mentions</th>\n",
       "      <th>account_age_yr</th>\n",
       "      <th>digit_in_name</th>\n",
       "      <th>user_name_len</th>\n",
       "      <th>tweet_hour</th>\n",
       "      <th>tweet_month</th>\n",
       "      <th>tweet_day</th>\n",
       "      <th>tweet_year</th>\n",
       "      <th>tweet_length</th>\n",
       "      <th>num_of_words</th>\n",
       "    </tr>\n",
       "  </thead>\n",
       "  <tbody>\n",
       "    <tr>\n",
       "      <th>0</th>\n",
       "      <td>3.970292</td>\n",
       "      <td>0.693147</td>\n",
       "      <td>3.610918</td>\n",
       "      <td>-inf</td>\n",
       "      <td>-inf</td>\n",
       "      <td>1</td>\n",
       "      <td>-inf</td>\n",
       "      <td>0</td>\n",
       "      <td>0.0</td>\n",
       "      <td>-inf</td>\n",
       "      <td>...</td>\n",
       "      <td>0.0</td>\n",
       "      <td>5</td>\n",
       "      <td>-inf</td>\n",
       "      <td>12</td>\n",
       "      <td>12</td>\n",
       "      <td>7</td>\n",
       "      <td>3</td>\n",
       "      <td>2014</td>\n",
       "      <td>111</td>\n",
       "      <td>19</td>\n",
       "    </tr>\n",
       "    <tr>\n",
       "      <th>1</th>\n",
       "      <td>9.505470</td>\n",
       "      <td>6.232448</td>\n",
       "      <td>7.159292</td>\n",
       "      <td>0.000000</td>\n",
       "      <td>2.079442</td>\n",
       "      <td>1</td>\n",
       "      <td>-inf</td>\n",
       "      <td>0</td>\n",
       "      <td>-inf</td>\n",
       "      <td>-inf</td>\n",
       "      <td>...</td>\n",
       "      <td>-inf</td>\n",
       "      <td>8</td>\n",
       "      <td>0.0</td>\n",
       "      <td>15</td>\n",
       "      <td>20</td>\n",
       "      <td>9</td>\n",
       "      <td>15</td>\n",
       "      <td>2014</td>\n",
       "      <td>61</td>\n",
       "      <td>7</td>\n",
       "    </tr>\n",
       "    <tr>\n",
       "      <th>2</th>\n",
       "      <td>9.187072</td>\n",
       "      <td>9.973946</td>\n",
       "      <td>7.853216</td>\n",
       "      <td>-inf</td>\n",
       "      <td>-inf</td>\n",
       "      <td>1</td>\n",
       "      <td>-inf</td>\n",
       "      <td>0</td>\n",
       "      <td>-inf</td>\n",
       "      <td>-inf</td>\n",
       "      <td>...</td>\n",
       "      <td>-inf</td>\n",
       "      <td>7</td>\n",
       "      <td>-inf</td>\n",
       "      <td>11</td>\n",
       "      <td>14</td>\n",
       "      <td>10</td>\n",
       "      <td>2</td>\n",
       "      <td>2014</td>\n",
       "      <td>56</td>\n",
       "      <td>7</td>\n",
       "    </tr>\n",
       "    <tr>\n",
       "      <th>3</th>\n",
       "      <td>11.124199</td>\n",
       "      <td>6.822197</td>\n",
       "      <td>6.590301</td>\n",
       "      <td>7.595387</td>\n",
       "      <td>1.609438</td>\n",
       "      <td>1</td>\n",
       "      <td>5.549076</td>\n",
       "      <td>0</td>\n",
       "      <td>-inf</td>\n",
       "      <td>-inf</td>\n",
       "      <td>...</td>\n",
       "      <td>0.0</td>\n",
       "      <td>10</td>\n",
       "      <td>-inf</td>\n",
       "      <td>10</td>\n",
       "      <td>18</td>\n",
       "      <td>10</td>\n",
       "      <td>28</td>\n",
       "      <td>2014</td>\n",
       "      <td>115</td>\n",
       "      <td>15</td>\n",
       "    </tr>\n",
       "    <tr>\n",
       "      <th>4</th>\n",
       "      <td>9.371438</td>\n",
       "      <td>6.527958</td>\n",
       "      <td>6.198479</td>\n",
       "      <td>0.000000</td>\n",
       "      <td>1.098612</td>\n",
       "      <td>1</td>\n",
       "      <td>-inf</td>\n",
       "      <td>0</td>\n",
       "      <td>-inf</td>\n",
       "      <td>-inf</td>\n",
       "      <td>...</td>\n",
       "      <td>-inf</td>\n",
       "      <td>7</td>\n",
       "      <td>0.0</td>\n",
       "      <td>15</td>\n",
       "      <td>4</td>\n",
       "      <td>9</td>\n",
       "      <td>21</td>\n",
       "      <td>2014</td>\n",
       "      <td>56</td>\n",
       "      <td>8</td>\n",
       "    </tr>\n",
       "  </tbody>\n",
       "</table>\n",
       "<p>5 rows × 21 columns</p>\n",
       "</div>"
      ],
      "text/plain": [
       "   statuses_count  followers_count  friends_count  favourites_count  \\\n",
       "0        3.970292         0.693147       3.610918              -inf   \n",
       "1        9.505470         6.232448       7.159292          0.000000   \n",
       "2        9.187072         9.973946       7.853216              -inf   \n",
       "3       11.124199         6.822197       6.590301          7.595387   \n",
       "4        9.371438         6.527958       6.198479          0.000000   \n",
       "\n",
       "   listed_count  class  retweet_count  reply_count  favorite_count  \\\n",
       "0          -inf      1           -inf            0             0.0   \n",
       "1      2.079442      1           -inf            0            -inf   \n",
       "2          -inf      1           -inf            0            -inf   \n",
       "3      1.609438      1       5.549076            0            -inf   \n",
       "4      1.098612      1           -inf            0            -inf   \n",
       "\n",
       "   num_hashtags  ...  num_mentions  account_age_yr  digit_in_name  \\\n",
       "0          -inf  ...           0.0               5           -inf   \n",
       "1          -inf  ...          -inf               8            0.0   \n",
       "2          -inf  ...          -inf               7           -inf   \n",
       "3          -inf  ...           0.0              10           -inf   \n",
       "4          -inf  ...          -inf               7            0.0   \n",
       "\n",
       "   user_name_len  tweet_hour  tweet_month  tweet_day  tweet_year  \\\n",
       "0             12          12            7          3        2014   \n",
       "1             15          20            9         15        2014   \n",
       "2             11          14           10          2        2014   \n",
       "3             10          18           10         28        2014   \n",
       "4             15           4            9         21        2014   \n",
       "\n",
       "   tweet_length  num_of_words  \n",
       "0           111            19  \n",
       "1            61             7  \n",
       "2            56             7  \n",
       "3           115            15  \n",
       "4            56             8  \n",
       "\n",
       "[5 rows x 21 columns]"
      ]
     },
     "execution_count": 117,
     "metadata": {},
     "output_type": "execute_result"
    }
   ],
   "source": [
    "# Apply log transformation\n",
    "df_log = df2.copy()\n",
    "df_log[skew_columns] = df2[skew_columns].apply(lambda x: np.log(x))\n",
    "\n",
    "df_log.head()"
   ]
  },
  {
   "cell_type": "code",
   "execution_count": 118,
   "metadata": {},
   "outputs": [
    {
     "ename": "ValueError",
     "evalue": "Input contains infinity or a value too large for dtype('float64').",
     "output_type": "error",
     "traceback": [
      "\u001b[0;31m---------------------------------------------------------------------------\u001b[0m",
      "\u001b[0;31mValueError\u001b[0m                                Traceback (most recent call last)",
      "\u001b[0;32m<ipython-input-118-ee0486c226b8>\u001b[0m in \u001b[0;36m<module>\u001b[0;34m\u001b[0m\n\u001b[1;32m      1\u001b[0m \u001b[0;31m# Initialize StandardScaler and fit it\u001b[0m\u001b[0;34m\u001b[0m\u001b[0;34m\u001b[0m\u001b[0;34m\u001b[0m\u001b[0m\n\u001b[0;32m----> 2\u001b[0;31m \u001b[0mscaler\u001b[0m \u001b[0;34m=\u001b[0m \u001b[0mStandardScaler\u001b[0m\u001b[0;34m(\u001b[0m\u001b[0;34m)\u001b[0m\u001b[0;34m;\u001b[0m \u001b[0mscaler\u001b[0m\u001b[0;34m.\u001b[0m\u001b[0mfit\u001b[0m\u001b[0;34m(\u001b[0m\u001b[0mdf_log\u001b[0m\u001b[0;34m)\u001b[0m\u001b[0;34m\u001b[0m\u001b[0;34m\u001b[0m\u001b[0m\n\u001b[0m\u001b[1;32m      3\u001b[0m \u001b[0;34m\u001b[0m\u001b[0m\n\u001b[1;32m      4\u001b[0m \u001b[0;31m# Transform and store the scaled data\u001b[0m\u001b[0;34m\u001b[0m\u001b[0;34m\u001b[0m\u001b[0;34m\u001b[0m\u001b[0m\n\u001b[1;32m      5\u001b[0m \u001b[0mdf_norm\u001b[0m \u001b[0;34m=\u001b[0m \u001b[0mscaler\u001b[0m\u001b[0;34m.\u001b[0m\u001b[0mtransform\u001b[0m\u001b[0;34m(\u001b[0m\u001b[0mdf_log\u001b[0m\u001b[0;34m)\u001b[0m\u001b[0;34m\u001b[0m\u001b[0;34m\u001b[0m\u001b[0m\n",
      "\u001b[0;32m~/anaconda3/lib/python3.6/site-packages/sklearn/preprocessing/data.py\u001b[0m in \u001b[0;36mfit\u001b[0;34m(self, X, y)\u001b[0m\n\u001b[1;32m    623\u001b[0m         \u001b[0;31m# Reset internal state before fitting\u001b[0m\u001b[0;34m\u001b[0m\u001b[0;34m\u001b[0m\u001b[0;34m\u001b[0m\u001b[0m\n\u001b[1;32m    624\u001b[0m         \u001b[0mself\u001b[0m\u001b[0;34m.\u001b[0m\u001b[0m_reset\u001b[0m\u001b[0;34m(\u001b[0m\u001b[0;34m)\u001b[0m\u001b[0;34m\u001b[0m\u001b[0;34m\u001b[0m\u001b[0m\n\u001b[0;32m--> 625\u001b[0;31m         \u001b[0;32mreturn\u001b[0m \u001b[0mself\u001b[0m\u001b[0;34m.\u001b[0m\u001b[0mpartial_fit\u001b[0m\u001b[0;34m(\u001b[0m\u001b[0mX\u001b[0m\u001b[0;34m,\u001b[0m \u001b[0my\u001b[0m\u001b[0;34m)\u001b[0m\u001b[0;34m\u001b[0m\u001b[0;34m\u001b[0m\u001b[0m\n\u001b[0m\u001b[1;32m    626\u001b[0m \u001b[0;34m\u001b[0m\u001b[0m\n\u001b[1;32m    627\u001b[0m     \u001b[0;32mdef\u001b[0m \u001b[0mpartial_fit\u001b[0m\u001b[0;34m(\u001b[0m\u001b[0mself\u001b[0m\u001b[0;34m,\u001b[0m \u001b[0mX\u001b[0m\u001b[0;34m,\u001b[0m \u001b[0my\u001b[0m\u001b[0;34m=\u001b[0m\u001b[0;32mNone\u001b[0m\u001b[0;34m)\u001b[0m\u001b[0;34m:\u001b[0m\u001b[0;34m\u001b[0m\u001b[0;34m\u001b[0m\u001b[0m\n",
      "\u001b[0;32m~/anaconda3/lib/python3.6/site-packages/sklearn/preprocessing/data.py\u001b[0m in \u001b[0;36mpartial_fit\u001b[0;34m(self, X, y)\u001b[0m\n\u001b[1;32m    647\u001b[0m         X = check_array(X, accept_sparse=('csr', 'csc'), copy=self.copy,\n\u001b[1;32m    648\u001b[0m                         \u001b[0mwarn_on_dtype\u001b[0m\u001b[0;34m=\u001b[0m\u001b[0;32mTrue\u001b[0m\u001b[0;34m,\u001b[0m \u001b[0mestimator\u001b[0m\u001b[0;34m=\u001b[0m\u001b[0mself\u001b[0m\u001b[0;34m,\u001b[0m \u001b[0mdtype\u001b[0m\u001b[0;34m=\u001b[0m\u001b[0mFLOAT_DTYPES\u001b[0m\u001b[0;34m,\u001b[0m\u001b[0;34m\u001b[0m\u001b[0;34m\u001b[0m\u001b[0m\n\u001b[0;32m--> 649\u001b[0;31m                         force_all_finite='allow-nan')\n\u001b[0m\u001b[1;32m    650\u001b[0m \u001b[0;34m\u001b[0m\u001b[0m\n\u001b[1;32m    651\u001b[0m         \u001b[0;31m# Even in the case of `with_mean=False`, we update the mean anyway\u001b[0m\u001b[0;34m\u001b[0m\u001b[0;34m\u001b[0m\u001b[0;34m\u001b[0m\u001b[0m\n",
      "\u001b[0;32m~/anaconda3/lib/python3.6/site-packages/sklearn/utils/validation.py\u001b[0m in \u001b[0;36mcheck_array\u001b[0;34m(array, accept_sparse, accept_large_sparse, dtype, order, copy, force_all_finite, ensure_2d, allow_nd, ensure_min_samples, ensure_min_features, warn_on_dtype, estimator)\u001b[0m\n\u001b[1;32m    571\u001b[0m         \u001b[0;32mif\u001b[0m \u001b[0mforce_all_finite\u001b[0m\u001b[0;34m:\u001b[0m\u001b[0;34m\u001b[0m\u001b[0;34m\u001b[0m\u001b[0m\n\u001b[1;32m    572\u001b[0m             _assert_all_finite(array,\n\u001b[0;32m--> 573\u001b[0;31m                                allow_nan=force_all_finite == 'allow-nan')\n\u001b[0m\u001b[1;32m    574\u001b[0m \u001b[0;34m\u001b[0m\u001b[0m\n\u001b[1;32m    575\u001b[0m     \u001b[0mshape_repr\u001b[0m \u001b[0;34m=\u001b[0m \u001b[0m_shape_repr\u001b[0m\u001b[0;34m(\u001b[0m\u001b[0marray\u001b[0m\u001b[0;34m.\u001b[0m\u001b[0mshape\u001b[0m\u001b[0;34m)\u001b[0m\u001b[0;34m\u001b[0m\u001b[0;34m\u001b[0m\u001b[0m\n",
      "\u001b[0;32m~/anaconda3/lib/python3.6/site-packages/sklearn/utils/validation.py\u001b[0m in \u001b[0;36m_assert_all_finite\u001b[0;34m(X, allow_nan)\u001b[0m\n\u001b[1;32m     54\u001b[0m                 not allow_nan and not np.isfinite(X).all()):\n\u001b[1;32m     55\u001b[0m             \u001b[0mtype_err\u001b[0m \u001b[0;34m=\u001b[0m \u001b[0;34m'infinity'\u001b[0m \u001b[0;32mif\u001b[0m \u001b[0mallow_nan\u001b[0m \u001b[0;32melse\u001b[0m \u001b[0;34m'NaN, infinity'\u001b[0m\u001b[0;34m\u001b[0m\u001b[0;34m\u001b[0m\u001b[0m\n\u001b[0;32m---> 56\u001b[0;31m             \u001b[0;32mraise\u001b[0m \u001b[0mValueError\u001b[0m\u001b[0;34m(\u001b[0m\u001b[0mmsg_err\u001b[0m\u001b[0;34m.\u001b[0m\u001b[0mformat\u001b[0m\u001b[0;34m(\u001b[0m\u001b[0mtype_err\u001b[0m\u001b[0;34m,\u001b[0m \u001b[0mX\u001b[0m\u001b[0;34m.\u001b[0m\u001b[0mdtype\u001b[0m\u001b[0;34m)\u001b[0m\u001b[0;34m)\u001b[0m\u001b[0;34m\u001b[0m\u001b[0;34m\u001b[0m\u001b[0m\n\u001b[0m\u001b[1;32m     57\u001b[0m \u001b[0;34m\u001b[0m\u001b[0m\n\u001b[1;32m     58\u001b[0m \u001b[0;34m\u001b[0m\u001b[0m\n",
      "\u001b[0;31mValueError\u001b[0m: Input contains infinity or a value too large for dtype('float64')."
     ]
    }
   ],
   "source": [
    "# Initialize StandardScaler and fit it \n",
    "scaler = StandardScaler(); scaler.fit(df_log)\n",
    "\n",
    "# Transform and store the scaled data \n",
    "df_norm = scaler.transform(df_log)"
   ]
  },
  {
   "cell_type": "markdown",
   "metadata": {},
   "source": [
    "## Reduce Dimensions: PCA vs TSNE"
   ]
  },
  {
   "cell_type": "code",
   "execution_count": null,
   "metadata": {},
   "outputs": [],
   "source": [
    "df_norm.shape"
   ]
  },
  {
   "cell_type": "code",
   "execution_count": null,
   "metadata": {},
   "outputs": [],
   "source": [
    "df_norm.columns"
   ]
  },
  {
   "cell_type": "code",
   "execution_count": 119,
   "metadata": {},
   "outputs": [],
   "source": [
    "# Define varaibles \n",
    "y = np.array(df2['class'])\n",
    "X = np.array(df2.drop(['class'], 1).astype(float))"
   ]
  },
  {
   "cell_type": "code",
   "execution_count": 120,
   "metadata": {},
   "outputs": [],
   "source": [
    "# Normalize the data.\n",
    "X_norm = normalize(X)"
   ]
  },
  {
   "cell_type": "code",
   "execution_count": 121,
   "metadata": {},
   "outputs": [],
   "source": [
    "# Utility function to visualize the outputs of t-SNE and PCA\n",
    "\n",
    "def fashion_scatter(x, colors):\n",
    "    # choose a color palette with seaborn.\n",
    "    num_classes = len(np.unique(colors))\n",
    "    palette = np.array(sns.color_palette(\"hls\", num_classes))\n",
    "\n",
    "    # create a scatter plot.\n",
    "    f = plt.figure(figsize=(8, 8))\n",
    "    ax = plt.subplot(aspect='equal')\n",
    "    sc = ax.scatter(x[:,0], x[:,1], lw=0, s=40, c=palette[colors.astype(np.int)])\n",
    "    plt.xlim(-25, 25)\n",
    "    plt.ylim(-25, 25)\n",
    "    ax.axis('off')\n",
    "    ax.axis('tight')\n",
    "\n",
    "    # add the labels for each digit corresponding to the label\n",
    "    txts = []\n",
    "\n",
    "    for i in range(num_classes):\n",
    "\n",
    "        # Position of each label at median of data points.\n",
    "\n",
    "        xtext, ytext = np.median(x[colors == i, :], axis=0)\n",
    "        txt = ax.text(xtext, ytext, str(i), fontsize=24)\n",
    "        txt.set_path_effects([\n",
    "            PathEffects.Stroke(linewidth=5, foreground=\"w\"),\n",
    "            PathEffects.Normal()])\n",
    "        txts.append(txt)\n",
    "\n",
    "    return f, ax, sc, txts"
   ]
  },
  {
   "cell_type": "markdown",
   "metadata": {},
   "source": [
    "### PCA"
   ]
  },
  {
   "cell_type": "code",
   "execution_count": 122,
   "metadata": {},
   "outputs": [
    {
     "name": "stdout",
     "output_type": "stream",
     "text": [
      "PCA done! Time elapsed: 0.15708303451538086 seconds\n"
     ]
    }
   ],
   "source": [
    "# PCA to reduce dimension to 2\n",
    "time_start = time.time()\n",
    "\n",
    "pca = PCA(n_components=2)\n",
    "pca_result = pca.fit_transform(X_norm)\n",
    "\n",
    "print('PCA done! Time elapsed: {} seconds'.format(time.time()-time_start))"
   ]
  },
  {
   "cell_type": "code",
   "execution_count": 123,
   "metadata": {},
   "outputs": [
    {
     "name": "stdout",
     "output_type": "stream",
     "text": [
      "Variance explained per principal component: [0.61240132 0.19894968]\n"
     ]
    }
   ],
   "source": [
    "pca_df = pd.DataFrame(columns = ['pca1','pca2'])\n",
    "\n",
    "pca_df['pca1'] = pca_result[:,0]\n",
    "pca_df['pca2'] = pca_result[:,1]\n",
    "\n",
    "print('Variance explained per principal component: {}'.format(pca.explained_variance_ratio_))"
   ]
  },
  {
   "cell_type": "code",
   "execution_count": 124,
   "metadata": {},
   "outputs": [
    {
     "data": {
      "text/plain": [
       "(<Figure size 576x576 with 1 Axes>,\n",
       " <matplotlib.axes._subplots.AxesSubplot at 0x1a84e3e198>,\n",
       " <matplotlib.collections.PathCollection at 0x1a83f4a860>,\n",
       " [Text(-0.18014365103211225, 0.040084092446309526, '0'),\n",
       "  Text(-0.2149260964313413, -0.14717506301854782, '1')])"
      ]
     },
     "execution_count": 124,
     "metadata": {},
     "output_type": "execute_result"
    },
    {
     "data": {
      "image/png": "[encoded data removed]",
      "text/plain": [
       "<Figure size 576x576 with 1 Axes>"
      ]
     },
     "metadata": {
      "needs_background": "light"
     },
     "output_type": "display_data"
    }
   ],
   "source": [
    "# Visualizing the PCA output\n",
    "fashion_scatter(pca_df.values,y)"
   ]
  },
  {
   "cell_type": "code",
   "execution_count": null,
   "metadata": {},
   "outputs": [],
   "source": []
  },
  {
   "cell_type": "markdown",
   "metadata": {},
   "source": [
    "### TSNE\n",
    "\n",
    "t-distributed Stochastic Neighbor Embedding converts similarities between data points to joint probabilities and tries to minimize the Kullback-Leibler divergence between the joint probabilities of the low-dimensional embedding and the high-dimensional data.  "
   ]
  },
  {
   "cell_type": "code",
   "execution_count": 125,
   "metadata": {},
   "outputs": [
    {
     "name": "stdout",
     "output_type": "stream",
     "text": [
      "[t-SNE] Computing 91 nearest neighbors...\n",
      "[t-SNE] Indexed 21113 samples in 0.600s...\n",
      "[t-SNE] Computed neighbors for 21113 samples in 3.465s...\n",
      "[t-SNE] Computed conditional probabilities for sample 1000 / 21113\n",
      "[t-SNE] Computed conditional probabilities for sample 2000 / 21113\n",
      "[t-SNE] Computed conditional probabilities for sample 3000 / 21113\n",
      "[t-SNE] Computed conditional probabilities for sample 4000 / 21113\n",
      "[t-SNE] Computed conditional probabilities for sample 5000 / 21113\n",
      "[t-SNE] Computed conditional probabilities for sample 6000 / 21113\n",
      "[t-SNE] Computed conditional probabilities for sample 7000 / 21113\n",
      "[t-SNE] Computed conditional probabilities for sample 8000 / 21113\n",
      "[t-SNE] Computed conditional probabilities for sample 9000 / 21113\n",
      "[t-SNE] Computed conditional probabilities for sample 10000 / 21113\n",
      "[t-SNE] Computed conditional probabilities for sample 11000 / 21113\n",
      "[t-SNE] Computed conditional probabilities for sample 12000 / 21113\n",
      "[t-SNE] Computed conditional probabilities for sample 13000 / 21113\n",
      "[t-SNE] Computed conditional probabilities for sample 14000 / 21113\n",
      "[t-SNE] Computed conditional probabilities for sample 15000 / 21113\n",
      "[t-SNE] Computed conditional probabilities for sample 16000 / 21113\n",
      "[t-SNE] Computed conditional probabilities for sample 17000 / 21113\n",
      "[t-SNE] Computed conditional probabilities for sample 18000 / 21113\n",
      "[t-SNE] Computed conditional probabilities for sample 19000 / 21113\n",
      "[t-SNE] Computed conditional probabilities for sample 20000 / 21113\n",
      "[t-SNE] Computed conditional probabilities for sample 21000 / 21113\n",
      "[t-SNE] Computed conditional probabilities for sample 21113 / 21113\n",
      "[t-SNE] Mean sigma: 0.005793\n",
      "[t-SNE] KL divergence after 250 iterations with early exaggeration: 71.015915\n",
      "[t-SNE] KL divergence after 1000 iterations: 0.596164\n",
      "t-SNE done! Time elapsed: 351.0202970504761 seconds\n",
      "(21113, 2)\n"
     ]
    }
   ],
   "source": [
    "# TSNE to reduce dimension to 2\n",
    "time_start = time.time()\n",
    "\n",
    "tsne = TSNE(n_components=2, verbose=1, random_state=42)\n",
    "tsne_result = tsne.fit_transform(X_norm)\n",
    "\n",
    "print('t-SNE done! Time elapsed: {} seconds'.format(time.time()-time_start))\n",
    "\n",
    "# Summary of transformation\n",
    "print(tsne_result.shape)"
   ]
  },
  {
   "cell_type": "code",
   "execution_count": 126,
   "metadata": {},
   "outputs": [
    {
     "data": {
      "text/plain": [
       "array([[ -5.3361735,  27.672611 ],\n",
       "       [ 73.94629  , -25.821362 ],\n",
       "       [-40.181335 ,  74.09823  ],\n",
       "       ...,\n",
       "       [-53.3902   , -64.061806 ],\n",
       "       [-30.326284 ,  57.479824 ],\n",
       "       [ 69.26046  , -11.019126 ]], dtype=float32)"
      ]
     },
     "execution_count": 126,
     "metadata": {},
     "output_type": "execute_result"
    }
   ],
   "source": [
    "tsne_result"
   ]
  },
  {
   "cell_type": "code",
   "execution_count": 127,
   "metadata": {},
   "outputs": [
    {
     "data": {
      "text/plain": [
       "(<Figure size 576x576 with 1 Axes>,\n",
       " <matplotlib.axes._subplots.AxesSubplot at 0x1a8143e048>,\n",
       " <matplotlib.collections.PathCollection at 0x1a831ea6a0>,\n",
       " [Text(1.343046, -24.339355, '0'), Text(-4.514024, 32.20531, '1')])"
      ]
     },
     "execution_count": 127,
     "metadata": {},
     "output_type": "execute_result"
    },
    {
     "data": {
      "image/png": "[encoded data removed]",
      "text/plain": [
       "<Figure size 576x576 with 1 Axes>"
      ]
     },
     "metadata": {
      "needs_background": "light"
     },
     "output_type": "display_data"
    }
   ],
   "source": [
    "# Visualizing the TSNE output\n",
    "fashion_scatter(tsne_result, y)"
   ]
  },
  {
   "cell_type": "markdown",
   "metadata": {},
   "source": [
    "__Observation__: There aren't major distinct clusters between tweets generated by humans and robots."
   ]
  },
  {
   "cell_type": "markdown",
   "metadata": {},
   "source": [
    "### KMeans Classifer\n",
    "Let's see KMeans is label tweets outside of it's centroid as tweets from robots."
   ]
  },
  {
   "cell_type": "code",
   "execution_count": 128,
   "metadata": {},
   "outputs": [
    {
     "data": {
      "text/plain": [
       "MiniBatchKMeans(batch_size=100, compute_labels=True, init='k-means++',\n",
       "        init_size=None, max_iter=100, max_no_improvement=10, n_clusters=2,\n",
       "        n_init=3, random_state=42, reassignment_ratio=0.01, tol=0.0,\n",
       "        verbose=0)"
      ]
     },
     "execution_count": 128,
     "metadata": {},
     "output_type": "execute_result"
    }
   ],
   "source": [
    "# Define the model \n",
    "kmeans = MiniBatchKMeans(n_clusters=2, random_state=42)\n",
    "\n",
    "# Fit the model to the scaled data\n",
    "kmeans.fit(tsne_result)"
   ]
  },
  {
   "cell_type": "code",
   "execution_count": 129,
   "metadata": {},
   "outputs": [
    {
     "ename": "NameError",
     "evalue": "name 'sse' is not defined",
     "output_type": "error",
     "traceback": [
      "\u001b[0;31m---------------------------------------------------------------------------\u001b[0m",
      "\u001b[0;31mNameError\u001b[0m                                 Traceback (most recent call last)",
      "\u001b[0;32m<ipython-input-129-3889f96d973d>\u001b[0m in \u001b[0;36m<module>\u001b[0;34m\u001b[0m\n\u001b[1;32m      6\u001b[0m \u001b[0;34m\u001b[0m\u001b[0m\n\u001b[1;32m      7\u001b[0m     \u001b[0;31m# Assign sum of squared distances to k element of the sse dictionary\u001b[0m\u001b[0;34m\u001b[0m\u001b[0;34m\u001b[0m\u001b[0;34m\u001b[0m\u001b[0m\n\u001b[0;32m----> 8\u001b[0;31m     \u001b[0msse\u001b[0m\u001b[0;34m[\u001b[0m\u001b[0mk\u001b[0m\u001b[0;34m]\u001b[0m \u001b[0;34m=\u001b[0m \u001b[0mkmeans\u001b[0m\u001b[0;34m.\u001b[0m\u001b[0minertia_\u001b[0m\u001b[0;34m\u001b[0m\u001b[0;34m\u001b[0m\u001b[0m\n\u001b[0m\u001b[1;32m      9\u001b[0m \u001b[0;34m\u001b[0m\u001b[0m\n\u001b[1;32m     10\u001b[0m \u001b[0;31m# Add the plot title, x and y axis labels\u001b[0m\u001b[0;34m\u001b[0m\u001b[0;34m\u001b[0m\u001b[0;34m\u001b[0m\u001b[0m\n",
      "\u001b[0;31mNameError\u001b[0m: name 'sse' is not defined"
     ]
    }
   ],
   "source": [
    "# Fit KMeans and calculate SSE for each k between 1 and 10\n",
    "for k in range(1, 11):\n",
    "  \n",
    "    # Initialize KMeans with k clusters and fit it \n",
    "    kmeans = MiniBatchKMeans(n_clusters=k, random_state=1).fit(tsne_result)\n",
    "    \n",
    "    # Assign sum of squared distances to k element of the sse dictionary\n",
    "    sse[k] = kmeans.inertia_   \n",
    "\n",
    "# Add the plot title, x and y axis labels\n",
    "plt.title('The Elbow Method'); plt.xlabel('k'); plt.ylabel('SSE')\n",
    "\n",
    "# Plot SSE values for each k stored as keys in the dictionary\n",
    "sns.pointplot(x=list(sse.keys()), y=list(sse.values()))\n",
    "plt.show()"
   ]
  },
  {
   "cell_type": "code",
   "execution_count": 130,
   "metadata": {},
   "outputs": [
    {
     "data": {
      "image/png": "[encoded data removed]",
      "text/plain": [
       "<Figure size 432x288 with 1 Axes>"
      ]
     },
     "metadata": {
      "needs_background": "light"
     },
     "output_type": "display_data"
    }
   ],
   "source": [
    "# Define the range of clusters to try\n",
    "clustno = range(1, 10)\n",
    "\n",
    "# Run MiniBatch Kmeans over the number of clusters\n",
    "kmeans = [MiniBatchKMeans(n_clusters=i) for i in clustno]\n",
    "\n",
    "# Obtain the score for each model\n",
    "score = [kmeans[i].fit(tsne_result).score(tsne_result) for i in range(len(kmeans))]\n",
    "\n",
    "# Plot the models and their respective score \n",
    "plt.plot(clustno, score)\n",
    "plt.xlabel('Number of Clusters')\n",
    "plt.ylabel('Score')\n",
    "plt.title('Elbow Curve')\n",
    "plt.show()"
   ]
  },
  {
   "cell_type": "markdown",
   "metadata": {},
   "source": [
    "__Observation__: Based on the Elbow Curve, 3 appears to the optimal number of clusters. "
   ]
  },
  {
   "cell_type": "code",
   "execution_count": 132,
   "metadata": {},
   "outputs": [],
   "source": [
    "# Split the data into training and test set\n",
    "X_train, X_test, y_train, y_test = train_test_split(tsne_result, y, test_size=0.3, random_state=42)\n",
    "\n",
    "# Define K-means model \n",
    "kmeans = MiniBatchKMeans(n_clusters=4, random_state=42).fit(X_train)\n",
    "\n",
    "# Obtain predictions and calculate distance from cluster centroid\n",
    "X_test_clusters = kmeans.predict(X_test)\n",
    "X_test_clusters_centers = kmeans.cluster_centers_\n",
    "dist = [np.linalg.norm(x-y) for x, y in zip(X_test, X_test_clusters_centers[X_test_clusters])]\n",
    "\n",
    "# Create bot tweets predictions based on outliers on clusters \n",
    "km_y_pred = np.array(dist)\n",
    "km_y_pred[dist >= np.percentile(dist, 95)] = 1\n",
    "km_y_pred[dist < np.percentile(dist, 95)] = 0"
   ]
  },
  {
   "cell_type": "code",
   "execution_count": 133,
   "metadata": {},
   "outputs": [
    {
     "name": "stdout",
     "output_type": "stream",
     "text": [
      "ROC_AUC: 51.90%\n",
      "Accuracy: 54.06%\n",
      "Recall: 7.03%\n",
      "Precision: 66.46%\n",
      "[[3212  107]\n",
      " [2803  212]]\n"
     ]
    }
   ],
   "source": [
    "# Calculate metrics\n",
    "km_roc_auc = roc_auc_score(y_test, km_y_pred)\n",
    "km_accuracy = accuracy_score(y_test, km_y_pred)\n",
    "km_recall = recall_score(y_test, km_y_pred)\n",
    "km_precision = precision_score(y_test, km_y_pred)\n",
    "\n",
    "# Print metrics\n",
    "print(\"ROC_AUC: %.2f%%\" % (km_roc_auc * 100.0))\n",
    "print(\"Accuracy: %.2f%%\" % (km_accuracy * 100.0))\n",
    "print('Recall: %.2f%%' % (km_recall * 100.0))\n",
    "print('Precision: %.2f%%' % (km_precision * 100.0))\n",
    "print(confusion_matrix(y_test, km_y_pred))"
   ]
  },
  {
   "cell_type": "markdown",
   "metadata": {},
   "source": [
    "__Evaluation__: Classifying tweets from robots based on cluser outliers is not a recommend techquie. The Kmean model was not able to distingish differences between robot and genuine tweets. "
   ]
  },
  {
   "cell_type": "markdown",
   "metadata": {},
   "source": [
    "## Tweets Segmentation \n",
    "In this section, we will perform clustering to examine tweet patterns within each cluster. \n",
    "\n",
    "### Metrics \n",
    "__Homogeneity__: measures how many members of a single class is within a cluster. Score ranges between 0.0 and 1.0. 1.0 stands for perfectly homogeneous labeling.\n",
    "\n",
    "__Silhouette Coefficient__: the mean distance between a sample and all other points in the same class (a), the mean distance between a sample and all other points in the next nearest cluster (b), divided by whichever of the two values is highest. A coefficients near +1 indicate that the sample is far away from the neighboring clusters. A value of 0 indicates that the sample is on or very close to the decision boundary between two neighboring clusters and negative values indicate that those samples might have been assigned to the wrong cluster.[Resource](https://scikit-learn.org/stable/auto_examples/cluster/plot_kmeans_silhouette_analysis.html#sphx-glr-auto-examples-cluster-plot-kmeans-silhouette-analysis-py)\n",
    "\n",
    "### KMeans\n",
    "This algorithm partitions the dataset into clusters to form homogeneous groups. Through an iterative process, it places random centroids and groups the closest datapoint to centroids. The group mean distance to the centroid is calculated and the process will repeat until optimized.\n",
    "\n",
    "__Assumptions__\n",
    " * Symmetric distribution of variables(not skewed)\n",
    " * Variables with same average values\n",
    " * Variables with same variance \n",
    " "
   ]
  },
  {
   "cell_type": "code",
   "execution_count": 134,
   "metadata": {},
   "outputs": [
    {
     "data": {
      "image/png": "[encoded data removed]",
      "text/plain": [
       "<Figure size 432x288 with 1 Axes>"
      ]
     },
     "metadata": {
      "needs_background": "light"
     },
     "output_type": "display_data"
    },
    {
     "name": "stdout",
     "output_type": "stream",
     "text": [
      "Comparing k-means clusters against the data:\n",
      "col_0     0     1\n",
      "row_0            \n",
      "0      2952  7762\n",
      "1      8189  2210\n"
     ]
    }
   ],
   "source": [
    "# Fit values\n",
    "km1 = KMeans(n_clusters=2, random_state=42).fit(tsne_result)\n",
    "\n",
    "# Obtain the predicted labels and calculate number of clusters\n",
    "km1_y_pred = km1.labels_\n",
    "\n",
    "# Plot the solution.\n",
    "plt.scatter(tsne_result[:, 0], tsne_result[:, 1], c=km1_y_pred)\n",
    "plt.show()\n",
    "\n",
    "# Check the solution against the data\n",
    "print('Comparing k-means clusters against the data:')\n",
    "print(pd.crosstab(km1_y_pred, y))"
   ]
  },
  {
   "cell_type": "code",
   "execution_count": 136,
   "metadata": {},
   "outputs": [
    {
     "name": "stdout",
     "output_type": "stream",
     "text": [
      "Homogeneity: 0.200\n",
      "Silhouette Coefficient: 0.335\n"
     ]
    }
   ],
   "source": [
    "# Calculate metrics\n",
    "km1_homo = homogeneity_score(y, km1_y_pred)\n",
    "km1_sil = silhouette_score(tsne_result, km1_y_pred)\n",
    "\n",
    "# Print metrics\n",
    "print(\"Homogeneity: %0.3f\" % km1_homo)\n",
    "print(\"Silhouette Coefficient: %0.3f\" % km1_sil)"
   ]
  },
  {
   "cell_type": "code",
   "execution_count": 137,
   "metadata": {},
   "outputs": [
    {
     "data": {
      "image/png": "[encoded data removed]",
      "text/plain": [
       "<Figure size 432x288 with 1 Axes>"
      ]
     },
     "metadata": {},
     "output_type": "display_data"
    }
   ],
   "source": [
    "# Use the elbow method to see what is the optimal amount of clusters.\n",
    "\n",
    "# k means determine k\n",
    "distortions = []\n",
    "K = range(1,20)\n",
    "for k in K:\n",
    "    kmeanModel = KMeans(n_clusters=k).fit(tsne_result)\n",
    "    kmeanModel.fit(tsne_result)\n",
    "    distortions.append(sum(np.min(cdist(tsne_result, kmeanModel.cluster_centers_, 'euclidean'), axis=1)) / tsne_result.shape[0])\n",
    "\n",
    "# Plot the elbow\n",
    "sns.set_style('darkgrid')\n",
    "plt.plot(K, distortions, 'bx-')\n",
    "plt.xlabel('k')\n",
    "plt.ylabel('Distortion')\n",
    "plt.title('The Elbow Method showing the optimal k')\n",
    "plt.show()"
   ]
  },
  {
   "cell_type": "markdown",
   "metadata": {},
   "source": [
    "__Observation__: The elbow method recommends 5 clusters"
   ]
  },
  {
   "cell_type": "code",
   "execution_count": 138,
   "metadata": {},
   "outputs": [
    {
     "data": {
      "image/png": "[encoded data removed]",
      "text/plain": [
       "<Figure size 432x288 with 1 Axes>"
      ]
     },
     "metadata": {},
     "output_type": "display_data"
    },
    {
     "name": "stdout",
     "output_type": "stream",
     "text": [
      "Comparing k-means clusters against the data:\n",
      "col_0     0     1\n",
      "row_0            \n",
      "0      2203  2203\n",
      "1      1001  2618\n",
      "2      3274   644\n",
      "3       951  3776\n",
      "4      3712   731\n"
     ]
    }
   ],
   "source": [
    "# Fit values\n",
    "km2 = KMeans(n_clusters=5, random_state=42).fit(tsne_result)\n",
    "\n",
    "# Obtain the predicted labels and calculate number of clusters\n",
    "km2_y_pred = km2.labels_\n",
    "\n",
    "# Plot the solution.\n",
    "plt.scatter(tsne_result[:, 0], tsne_result[:, 1], c=km2_y_pred)\n",
    "plt.show()\n",
    "\n",
    "# Check the solution against the data\n",
    "print('Comparing k-means clusters against the data:')\n",
    "print(pd.crosstab(km2_y_pred, y))"
   ]
  },
  {
   "cell_type": "code",
   "execution_count": 139,
   "metadata": {},
   "outputs": [
    {
     "name": "stdout",
     "output_type": "stream",
     "text": [
      "Homogeneity: 0.226\n",
      "Silhouette Coefficient: 0.332\n"
     ]
    }
   ],
   "source": [
    "# Calculate metrics\n",
    "km2_homo = homogeneity_score(y, km2_y_pred)\n",
    "km2_sil = silhouette_score(tsne_result, km2_y_pred)\n",
    "\n",
    "# Print metrics\n",
    "print(\"Homogeneity: %0.3f\" % km2_homo)\n",
    "print(\"Silhouette Coefficient: %0.3f\" % km2_sil)"
   ]
  },
  {
   "cell_type": "markdown",
   "metadata": {},
   "source": [
    "#### MiniBatch\n",
    "To reduce computationally time, we'll use Mini Batch only sample random observations."
   ]
  },
  {
   "cell_type": "code",
   "execution_count": 140,
   "metadata": {},
   "outputs": [
    {
     "data": {
      "image/png": "[encoded data removed]",
      "text/plain": [
       "<Figure size 432x288 with 1 Axes>"
      ]
     },
     "metadata": {},
     "output_type": "display_data"
    }
   ],
   "source": [
    "# Use the elbow method to see what is the optimal amount of clusters.\n",
    "\n",
    "# k means determine k\n",
    "distortions = []\n",
    "K = range(1,20)\n",
    "for k in K:\n",
    "    kmeanModel = MiniBatchKMeans(n_clusters=k).fit(tsne_result)\n",
    "    kmeanModel.fit(tsne_result)\n",
    "    distortions.append(sum(np.min(cdist(tsne_result, kmeanModel.cluster_centers_, 'euclidean'), axis=1)) / tsne_result.shape[0])\n",
    "\n",
    "# Plot the elbow\n",
    "sns.set_style('darkgrid')\n",
    "plt.plot(K, distortions, 'bx-')\n",
    "plt.xlabel('k')\n",
    "plt.ylabel('Distortion')\n",
    "plt.title('The Elbow Method showing the optimal k')\n",
    "plt.show()"
   ]
  },
  {
   "cell_type": "code",
   "execution_count": null,
   "metadata": {},
   "outputs": [],
   "source": [
    "# Fit values\n",
    "mb = MiniBatchKMeans(n_clusters=4, random_state=42).fit(X_scaled)\n",
    "\n",
    "# Obtain the predicted labels and calculate number of clusters\n",
    "mb_y_pred = mb.labels_\n",
    "\n",
    "# Plot the solution.\n",
    "plt.scatter(X_scaled[:, 0], X_scaled[:, 1], c=mb_y_pred)\n",
    "plt.show()\n",
    "\n",
    "# Check the solution against the data\n",
    "print('Comparing k-means clusters against the data:')\n",
    "print(pd.crosstab(mb_y_pred, y))"
   ]
  },
  {
   "cell_type": "code",
   "execution_count": null,
   "metadata": {},
   "outputs": [],
   "source": [
    "# Calculate metrics\n",
    "mb_homo = homogeneity_score(y, mb_y_pred)\n",
    "mb_sil = silhouette_score(X_scaled, mb_y_pred)\n",
    "\n",
    "# Print metrics\n",
    "print(\"Homogeneity: %0.3f\" % mb_homo)\n",
    "print(\"Silhouette Coefficient: %0.3f\" % mb_sil)"
   ]
  },
  {
   "cell_type": "markdown",
   "metadata": {},
   "source": [
    "### DBSCAN\n",
    "Density-based spatial clustering of applications with noise (DBSCAN) is a density based method that groups together points with many nearby neighbors. Although we do not have to pre-select the number of clusters, we must define the minimum number of datapoints to make up a group. "
   ]
  },
  {
   "cell_type": "code",
   "execution_count": null,
   "metadata": {},
   "outputs": [],
   "source": [
    "# Initialize and fit the DBscan model\n",
    "db = DBSCAN(eps=0.9, min_samples=10, n_jobs=-1).fit(X_scaled)\n",
    "\n",
    "# Obtain the predicted labels and calculate number of clusters\n",
    "db_y_pred = db.labels_\n",
    "n_clusters = len(set(db_y_pred)) - (1 if -1 in db_y_pred else 0)\n",
    "\n",
    "# Plot the solution.\n",
    "plt.scatter(X_scaled[:, 0], X_scaled[:, 1], c=db_y_pred)\n",
    "plt.show()\n",
    "\n",
    "# Check the solution against the data\n",
    "print('Comparing DBSCAN clusters against the data:')\n",
    "print(pd.crosstab(db_y_pred, y))"
   ]
  },
  {
   "cell_type": "code",
   "execution_count": null,
   "metadata": {},
   "outputs": [],
   "source": [
    "# Calculate metrics\n",
    "#db_homo = homogeneity_score(y, db_y_pred)\n",
    "#db_sil = silhouette_score(X_scaled, db_y_pred)\n",
    "\n",
    "# Print number of clusters\n",
    "#print('Estimated number of clusters: %d' % n_clusters)\n",
    "\n",
    "# Print metrics\n",
    "#print(\"Homogeneity: %0.3f\" % db_homo)\n",
    "#print(\"Silhouette Coefficient: %0.3f\" % db_sil)\n",
    "\n",
    "# Error: ValueError: Number of labels is 1. Valid values are 2 to n_samples - 1 (inclusive)"
   ]
  },
  {
   "cell_type": "markdown",
   "metadata": {},
   "source": [
    "__Evaluation__: DBSCAN clustered the data into 1 group so we are unable to calculate silhouette score. This model was not able to form different clusters for tweet analysis."
   ]
  },
  {
   "cell_type": "markdown",
   "metadata": {},
   "source": [
    "### Mean-shift \n",
    "Mean shift clustering is a sliding-window-based algorithm that attempts to find dense areas of data points. It is a centroid-based algorithm meaning that the goal is to locate the center points of each group/class, which works by updating candidates for center points to be the mean of the points within the sliding-window. "
   ]
  },
  {
   "cell_type": "code",
   "execution_count": null,
   "metadata": {},
   "outputs": [],
   "source": [
    "# Here we set the bandwidth. This function automatically derives a bandwidth\n",
    "# number based on an inspection of the distances among points in the data.\n",
    "bandwidth = estimate_bandwidth(X_scaled, quantile=0.2, n_samples=1000)\n",
    "\n",
    "# Declare and fit the model.\n",
    "ms = MeanShift(bandwidth=bandwidth, bin_seeding=True).fit(X_scaled)\n",
    "\n",
    "# Obtain the predicted labels and calculate number of clusters\n",
    "ms_y_pred = ms.labels_\n",
    "\n",
    "# Plot the solution.\n",
    "plt.scatter(X_scaled[:, 0], X_scaled[:, 1], c=ms_y_pred)\n",
    "plt.show()\n",
    "\n",
    "# Check the solution against the data\n",
    "print('Comparing k-means clusters against the data:')\n",
    "print(pd.crosstab(ms_y_pred, y))\n",
    "\n",
    "# Coordinates of the cluster centers.\n",
    "cluster_centers = ms.cluster_centers_\n",
    "\n",
    "# Count our clusters.\n",
    "ms_n_clusters = len(np.unique(ms_y_pred))\n",
    "\n",
    "print(\"Number of estimated clusters: {}\".format(ms_n_clusters))"
   ]
  },
  {
   "cell_type": "code",
   "execution_count": null,
   "metadata": {},
   "outputs": [],
   "source": [
    "# Calculate metrics\n",
    "#ms_homo = homogeneity_score(y, ms_y_pred)\n",
    "#ms_sil = silhouette_score(X_scaled, ms_y_pred)\n",
    "\n",
    "# Print metrics\n",
    "#print(\"Homogeneity: %0.3f\" % ms_homo)\n",
    "#print(\"Silhouette Coefficient: %0.3f\" % ms_sil)\n",
    "\n",
    "# Note: ValueError: Number of labels is 1. Valid values are 2 to n_samples - 1 (inclusive)"
   ]
  },
  {
   "cell_type": "markdown",
   "metadata": {},
   "source": [
    "__Evaluation__: Like the DBSCAN model, Mean Shift model formed 1 group."
   ]
  },
  {
   "cell_type": "markdown",
   "metadata": {},
   "source": [
    "## Unsupervised Learning Conclusion \n"
   ]
  },
  {
   "cell_type": "code",
   "execution_count": null,
   "metadata": {},
   "outputs": [],
   "source": [
    "# Dataframe to hold the results\n",
    "cluster_comparison = pd.DataFrame({'Model': ['KMeans (2 clusters)','KMeans (5 clusters)', 'MiniBatch (3 clusters)'],\n",
    "                                 'Homogeneity': [km1_homo, km2_homo, mb_homo],\n",
    "                                'Silhouette Coefficient': [km1_sil, km2_sil, mb_sil]})\n",
    "\n",
    "# Horizontal bar chart of \n",
    "cluster_comparison.sort_values('Homogeneity', ascending = False)"
   ]
  },
  {
   "cell_type": "markdown",
   "metadata": {},
   "source": [
    "__Which clustering method should we use?__ <br>\n",
    "Given that the data is spirical and dense, homogeneity score of each cluster should be weighted more than the silhouette coefficent. KMeans with 5 clusteres had the highest homogeneity score noting that datapoints in the clusters were similar to each other. "
   ]
  },
  {
   "cell_type": "markdown",
   "metadata": {},
   "source": [
    "## Cluster Analysis\n",
    "Now, we will explore the trends within each cluster."
   ]
  },
  {
   "cell_type": "code",
   "execution_count": null,
   "metadata": {},
   "outputs": [],
   "source": [
    "# Create a DataFrame by adding a new cluster label column\n",
    "df3 = df2.assign(cluster=km2_y_pred)\n",
    "\n",
    "# Group the data by cluster\n",
    "print(df3.groupby(['cluster']).mean())\n"
   ]
  },
  {
   "cell_type": "code",
   "execution_count": null,
   "metadata": {},
   "outputs": [],
   "source": [
    "df2['cluster_assignment'] = km2_y_pred\n",
    "print(df2.groupby('cluster_assignment').mean())"
   ]
  },
  {
   "cell_type": "code",
   "execution_count": null,
   "metadata": {},
   "outputs": [],
   "source": [
    "# Melt the normalized dataset and reset the index\n",
    "datamart_melt = pd.melt(\n",
    "  \t\t\t\t\tdatamart_normalized.reset_index(), \n",
    "                        \n",
    "# Assign CustomerID and Cluster as ID variables                  \n",
    "                    id_vars=['CustomerID', 'Cluster'],\n",
    "\n",
    "# Assign RFM values as value variables\n",
    "                    value_vars=['Recency', 'Frequency', 'MonetaryValue'], \n",
    "                        \n",
    "# Name the variable and value\n",
    "                    var_name='Metric', value_name='Value'\n",
    "\t\t\t\t\t)"
   ]
  },
  {
   "cell_type": "code",
   "execution_count": null,
   "metadata": {},
   "outputs": [],
   "source": [
    "# Add the plot title\n",
    "plt.title('Snake plot of normalized variables')\n",
    "\n",
    "# Add the x axis label\n",
    "plt.xlabel('Metric')\n",
    "\n",
    "# Add the y axis label\n",
    "plt.ylabel('Value')\n",
    "\n",
    "# Plot a line for each value of the cluster variable\n",
    "sns.lineplot(data=datamart_melt, x='Metric', y='Value', hue='Cluster')\n",
    "plt.show()"
   ]
  },
  {
   "cell_type": "markdown",
   "metadata": {},
   "source": [
    "__Cluster 0__: This cluster consists of an equal ratio of genuine and bot tweets. The average retweet count was 59 and average tweet length was around 80 characters. \n",
    "\n",
    "__Cluster 1__: Similar to Cluster 0, this group is made up of half bots and genuine tweets. However, the average retweet count is 1,953 indicating that the algorithm placed majority of high retweets in this group. \n",
    "\n",
    "__Cluster 2__: This Cluster contained the most genuine tweets with a ratio of 70:30 genuine to bot. Majority of tweets in this group was collected in May while the month of July was the most frequent for other groups. These genuine tweets don't include much words or urls in their tweets making the average tweet length the smallest compared to other groups. \n",
    "\n",
    "__Cluster 3__: These tweets were longer than other clusters with an average tweet length of 127 characters and used an average of 21 words. \n",
    "\n",
    "__Cluster 4__: Bot tweets make up most of this cluster. The average length of tweet is 91 which is much higher than cluster 2. Cluster 2 and 4 share many traits in terms of low retweet count, favorite count, and number of mentions.\n",
    "\n"
   ]
  },
  {
   "cell_type": "markdown",
   "metadata": {},
   "source": [
    "# Conclusion\n",
    "\n",
    "__Summary__\n",
    "* Text Processing with Count Vectorization and Tidf Transformer\n",
    "* Supervised Learning \n",
    "* Clustering \n",
    "\n",
    "__Future Work__\n",
    "* Incorporate User data\n",
    "* Look into the evolution of spambots and their behaviors\n"
   ]
  }
 ],
 "metadata": {
  "kernelspec": {
   "display_name": "Python 3",
   "language": "python",
   "name": "python3"
  },
  "language_info": {
   "codemirror_mode": {
    "name": "ipython",
    "version": 3
   },
   "file_extension": ".py",
   "mimetype": "text/x-python",
   "name": "python",
   "nbconvert_exporter": "python",
   "pygments_lexer": "ipython3",
   "version": "3.6.8"
  }
 },
 "nbformat": 4,
 "nbformat_minor": 2
}
