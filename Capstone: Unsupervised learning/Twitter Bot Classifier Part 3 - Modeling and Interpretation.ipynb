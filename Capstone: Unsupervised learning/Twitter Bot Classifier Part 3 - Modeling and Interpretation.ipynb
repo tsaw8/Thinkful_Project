{
 "cells": [
  {
   "cell_type": "markdown",
   "metadata": {},
   "source": [
    "# Twitter Bot Classifer Part 3\n",
    "\n",
    "In this series of notebooks, we are using the [Fake Project](https://botometer.iuni.iu.edu/bot-repository/datasets.html) dataset to examine users habits and build a Twitter bot classifer. \n",
    "\n",
    " ### Workflow \n",
    " 1. Understand the problem (we're almost there already)\n",
    " 2. Exploratory Data Analysis\n",
    " 3. Feature engineering for machine learning\n",
    " 4. Create a baseline machine learning model\n",
    " 5. Try more complex machine learning models\n",
    " 6. Optimize models\n",
    " 7. Investigate model predictions in context of problem\n",
    " 8. Exmaine users characteristics by clustering\n",
    " 9. Draw conclusions and lay out next steps\n",
    " \n",
    "The first notebook covered steps 1 by looking into the problem and assembling datasets. Now, we will complete steps 2-9."
   ]
  },
  {
   "cell_type": "code",
   "execution_count": 1,
   "metadata": {},
   "outputs": [],
   "source": [
    "# Numpy and pandas\n",
    "import pandas as pd\n",
    "import numpy as np\n",
    "\n",
    "#Visualization\n",
    "import matplotlib.pyplot as plt\n",
    "import seaborn as sns\n",
    "\n",
    "#NLP tools\n",
    "import string\n",
    "import re\n",
    "import nltk\n",
    "from nltk.corpus import stopwords\n",
    "from googletrans import Translator\n",
    "\n",
    "# NLP feature selection \n",
    "from sklearn.feature_extraction.text import CountVectorizer\n",
    "from sklearn.feature_extraction.text import TfidfTransformer\n",
    "from sklearn.decomposition import TruncatedSVD\n",
    "\n",
    "# Sklearn data clean\n",
    "from sklearn.preprocessing import LabelEncoder\n",
    "from sklearn.impute import SimpleImputer\n",
    "from sklearn.preprocessing import MinMaxScaler\n",
    "\n",
    "# Model selection\n",
    "from sklearn.pipeline import Pipeline\n",
    "from sklearn.model_selection import train_test_split\n",
    "from sklearn.feature_selection import SelectFromModel\n",
    "from sklearn.preprocessing import StandardScaler\n",
    "from sklearn.model_selection import cross_val_score\n",
    "from sklearn.model_selection import KFold\n",
    "\n",
    "# Logistic Regression\n",
    "from sklearn.linear_model import Lasso, LogisticRegression\n",
    "\n",
    "# Decision Trees\n",
    "from sklearn import tree\n",
    "from sklearn.tree import DecisionTreeRegressor\n",
    "from IPython.display import Image\n",
    "import pydotplus\n",
    "import graphviz\n",
    "\n",
    "# Random Forests \n",
    "from sklearn.ensemble import RandomForestClassifier\n",
    "\n",
    "# SVM\n",
    "from sklearn.svm import SVC\n",
    "\n",
    "# Gradient Boost\n",
    "from xgboost import XGBClassifier\n",
    "\n",
    "# Evaluate\n",
    "from sklearn import metrics\n",
    "from sklearn.metrics import log_loss,accuracy_score, f1_score,roc_auc_score, confusion_matrix, classification_report\n",
    "\n",
    "# Hyperparameter tuning\n",
    "from sklearn.model_selection import RandomizedSearchCV, GridSearchCV\n",
    "\n",
    "# Datetime\n",
    "from datetime import datetime\n",
    "\n",
    "# Import data\n",
    "import warnings\n",
    "\n",
    "# Clustering \n",
    "from sklearn.cluster import KMeans\n",
    "from sklearn.cluster import MeanShift, estimate_bandwidth\n",
    "from sklearn.preprocessing import normalize\n",
    "from sklearn.decomposition import TruncatedSVD\n",
    "\n",
    "from sklearn.pipeline import make_pipeline\n",
    "from sklearn.preprocessing import Normalizer\n"
   ]
  },
  {
   "cell_type": "code",
   "execution_count": 2,
   "metadata": {},
   "outputs": [],
   "source": [
    "tweets = pd.read_csv('/Users/tsawaengsri/Desktop/Data Science Courses/Datasets/cresci-2017.csv/datasets_full.csv/clean_tweets2')\n",
    "users = pd.read_csv('/Users/tsawaengsri/Desktop/Data Science Courses/Datasets/cresci-2017.csv/datasets_full.csv/clean_users2')"
   ]
  },
  {
   "cell_type": "code",
   "execution_count": 3,
   "metadata": {},
   "outputs": [
    {
     "name": "stdout",
     "output_type": "stream",
     "text": [
      "<class 'pandas.core.frame.DataFrame'>\n",
      "RangeIndex: 6283436 entries, 0 to 6283435\n",
      "Data columns (total 18 columns):\n",
      "id                       int64\n",
      "text                     object\n",
      "source                   object\n",
      "user_id                  int64\n",
      "in_reply_to_status_id    int64\n",
      "in_reply_to_user_id      int64\n",
      "retweeted_status_id      int64\n",
      "retweet_count            int64\n",
      "reply_count              int64\n",
      "favorite_count           int64\n",
      "num_hashtags             int64\n",
      "num_urls                 int64\n",
      "num_mentions             int64\n",
      "created_at               object\n",
      "timestamp                object\n",
      "crawled_at               object\n",
      "updated                  object\n",
      "class                    int64\n",
      "dtypes: int64(12), object(6)\n",
      "memory usage: 862.9+ MB\n"
     ]
    }
   ],
   "source": [
    "tweets.info()"
   ]
  },
  {
   "cell_type": "code",
   "execution_count": 4,
   "metadata": {},
   "outputs": [
    {
     "name": "stdout",
     "output_type": "stream",
     "text": [
      "<class 'pandas.core.frame.DataFrame'>\n",
      "RangeIndex: 7989 entries, 0 to 7988\n",
      "Data columns (total 24 columns):\n",
      "id                                    7989 non-null int64\n",
      "name                                  7989 non-null object\n",
      "screen_name                           7989 non-null object\n",
      "statuses_count                        7989 non-null int64\n",
      "followers_count                       7989 non-null int64\n",
      "friends_count                         7989 non-null int64\n",
      "favourites_count                      7989 non-null int64\n",
      "listed_count                          7989 non-null int64\n",
      "lang                                  7989 non-null object\n",
      "profile_image_url                     7989 non-null object\n",
      "profile_use_background_image          7989 non-null int64\n",
      "profile_background_image_url_https    7989 non-null object\n",
      "profile_text_color                    7989 non-null object\n",
      "profile_image_url_https               7989 non-null object\n",
      "profile_sidebar_border_color          7989 non-null object\n",
      "profile_sidebar_fill_color            7989 non-null object\n",
      "profile_background_image_url          7989 non-null object\n",
      "profile_background_color              7989 non-null object\n",
      "profile_link_color                    7989 non-null object\n",
      "created_at                            7989 non-null object\n",
      "timestamp                             7989 non-null object\n",
      "crawled_at                            7989 non-null object\n",
      "updated                               7989 non-null object\n",
      "class                                 7989 non-null int64\n",
      "dtypes: int64(8), object(16)\n",
      "memory usage: 1.5+ MB\n"
     ]
    }
   ],
   "source": [
    "users.info()"
   ]
  },
  {
   "cell_type": "markdown",
   "metadata": {},
   "source": [
    "### Convert time variables to datetime \n",
    "It doesn't appear that time variables such as timestamp or created_at were saved as datetime. We will convert them to their respective data type. "
   ]
  },
  {
   "cell_type": "code",
   "execution_count": 5,
   "metadata": {},
   "outputs": [],
   "source": [
    "# Convert the time columns to np.datetime object\n",
    "tweets['timestamp'] = pd.to_datetime(tweets['timestamp'])"
   ]
  },
  {
   "cell_type": "code",
   "execution_count": 6,
   "metadata": {},
   "outputs": [],
   "source": [
    "tweets['created_at'] = pd.to_datetime(tweets['created_at'])"
   ]
  },
  {
   "cell_type": "code",
   "execution_count": 7,
   "metadata": {},
   "outputs": [],
   "source": [
    "tweets['crawled_at'] = pd.to_datetime(tweets['crawled_at'])"
   ]
  },
  {
   "cell_type": "code",
   "execution_count": 8,
   "metadata": {},
   "outputs": [],
   "source": [
    "tweets['updated'] = pd.to_datetime(tweets['updated'])"
   ]
  },
  {
   "cell_type": "code",
   "execution_count": 9,
   "metadata": {},
   "outputs": [],
   "source": [
    "# Convert the created_at column to np.datetime object\n",
    "users['timestamp'] = pd.to_datetime(users['timestamp'])"
   ]
  },
  {
   "cell_type": "code",
   "execution_count": 10,
   "metadata": {},
   "outputs": [],
   "source": [
    "users['created_at'] = pd.to_datetime(users['created_at'])"
   ]
  },
  {
   "cell_type": "code",
   "execution_count": 11,
   "metadata": {},
   "outputs": [],
   "source": [
    "users['crawled_at'] = pd.to_datetime(users['crawled_at'])"
   ]
  },
  {
   "cell_type": "code",
   "execution_count": 12,
   "metadata": {},
   "outputs": [],
   "source": [
    "users['updated'] = pd.to_datetime(users['updated'])"
   ]
  },
  {
   "cell_type": "code",
   "execution_count": 13,
   "metadata": {},
   "outputs": [
    {
     "name": "stdout",
     "output_type": "stream",
     "text": [
      "<class 'pandas.core.frame.DataFrame'>\n",
      "RangeIndex: 6283436 entries, 0 to 6283435\n",
      "Data columns (total 18 columns):\n",
      "id                       int64\n",
      "text                     object\n",
      "source                   object\n",
      "user_id                  int64\n",
      "in_reply_to_status_id    int64\n",
      "in_reply_to_user_id      int64\n",
      "retweeted_status_id      int64\n",
      "retweet_count            int64\n",
      "reply_count              int64\n",
      "favorite_count           int64\n",
      "num_hashtags             int64\n",
      "num_urls                 int64\n",
      "num_mentions             int64\n",
      "created_at               datetime64[ns, UTC]\n",
      "timestamp                datetime64[ns]\n",
      "crawled_at               datetime64[ns]\n",
      "updated                  datetime64[ns]\n",
      "class                    int64\n",
      "dtypes: datetime64[ns, UTC](1), datetime64[ns](3), int64(12), object(2)\n",
      "memory usage: 862.9+ MB\n"
     ]
    }
   ],
   "source": [
    "tweets.info()"
   ]
  },
  {
   "cell_type": "code",
   "execution_count": 14,
   "metadata": {},
   "outputs": [
    {
     "name": "stdout",
     "output_type": "stream",
     "text": [
      "<class 'pandas.core.frame.DataFrame'>\n",
      "RangeIndex: 7989 entries, 0 to 7988\n",
      "Data columns (total 24 columns):\n",
      "id                                    7989 non-null int64\n",
      "name                                  7989 non-null object\n",
      "screen_name                           7989 non-null object\n",
      "statuses_count                        7989 non-null int64\n",
      "followers_count                       7989 non-null int64\n",
      "friends_count                         7989 non-null int64\n",
      "favourites_count                      7989 non-null int64\n",
      "listed_count                          7989 non-null int64\n",
      "lang                                  7989 non-null object\n",
      "profile_image_url                     7989 non-null object\n",
      "profile_use_background_image          7989 non-null int64\n",
      "profile_background_image_url_https    7989 non-null object\n",
      "profile_text_color                    7989 non-null object\n",
      "profile_image_url_https               7989 non-null object\n",
      "profile_sidebar_border_color          7989 non-null object\n",
      "profile_sidebar_fill_color            7989 non-null object\n",
      "profile_background_image_url          7989 non-null object\n",
      "profile_background_color              7989 non-null object\n",
      "profile_link_color                    7989 non-null object\n",
      "created_at                            7989 non-null datetime64[ns, UTC]\n",
      "timestamp                             7989 non-null datetime64[ns]\n",
      "crawled_at                            7989 non-null datetime64[ns]\n",
      "updated                               7989 non-null datetime64[ns]\n",
      "class                                 7989 non-null int64\n",
      "dtypes: datetime64[ns, UTC](1), datetime64[ns](3), int64(8), object(12)\n",
      "memory usage: 1.5+ MB\n"
     ]
    }
   ],
   "source": [
    "users.info()"
   ]
  },
  {
   "cell_type": "code",
   "execution_count": 15,
   "metadata": {},
   "outputs": [
    {
     "data": {
      "text/html": [
       "<div>\n",
       "<style scoped>\n",
       "    .dataframe tbody tr th:only-of-type {\n",
       "        vertical-align: middle;\n",
       "    }\n",
       "\n",
       "    .dataframe tbody tr th {\n",
       "        vertical-align: top;\n",
       "    }\n",
       "\n",
       "    .dataframe thead th {\n",
       "        text-align: right;\n",
       "    }\n",
       "</style>\n",
       "<table border=\"1\" class=\"dataframe\">\n",
       "  <thead>\n",
       "    <tr style=\"text-align: right;\">\n",
       "      <th></th>\n",
       "      <th>id</th>\n",
       "      <th>text</th>\n",
       "      <th>source</th>\n",
       "      <th>user_id</th>\n",
       "      <th>in_reply_to_status_id</th>\n",
       "      <th>in_reply_to_user_id</th>\n",
       "      <th>retweeted_status_id</th>\n",
       "      <th>retweet_count</th>\n",
       "      <th>reply_count</th>\n",
       "      <th>favorite_count</th>\n",
       "      <th>num_hashtags</th>\n",
       "      <th>num_urls</th>\n",
       "      <th>num_mentions</th>\n",
       "      <th>created_at</th>\n",
       "      <th>timestamp</th>\n",
       "      <th>crawled_at</th>\n",
       "      <th>updated</th>\n",
       "      <th>class</th>\n",
       "    </tr>\n",
       "  </thead>\n",
       "  <tbody>\n",
       "    <tr>\n",
       "      <th>0</th>\n",
       "      <td>515447020405137408</td>\n",
       "      <td>\"Il mare d'inverno è un concetto che il pensie...</td>\n",
       "      <td>&lt;a href=\"http://www.Matildadr89.com\" rel=\"nofo...</td>\n",
       "      <td>237359828</td>\n",
       "      <td>0</td>\n",
       "      <td>0</td>\n",
       "      <td>0</td>\n",
       "      <td>0</td>\n",
       "      <td>0</td>\n",
       "      <td>0</td>\n",
       "      <td>0</td>\n",
       "      <td>0</td>\n",
       "      <td>0</td>\n",
       "      <td>2014-09-26 10:25:20+00:00</td>\n",
       "      <td>2014-09-26 12:25:20</td>\n",
       "      <td>2014-11-13 01:35:24</td>\n",
       "      <td>2014-11-13 01:35:24</td>\n",
       "      <td>1</td>\n",
       "    </tr>\n",
       "    <tr>\n",
       "      <th>1</th>\n",
       "      <td>513551196226093057</td>\n",
       "      <td>Read the History of Corona Beer  http://t.co/Z...</td>\n",
       "      <td>&lt;a href=\"http://tweetadder.com\" rel=\"nofollow\"...</td>\n",
       "      <td>215693377</td>\n",
       "      <td>0</td>\n",
       "      <td>0</td>\n",
       "      <td>0</td>\n",
       "      <td>0</td>\n",
       "      <td>0</td>\n",
       "      <td>0</td>\n",
       "      <td>0</td>\n",
       "      <td>1</td>\n",
       "      <td>0</td>\n",
       "      <td>2014-09-21 04:52:01+00:00</td>\n",
       "      <td>2014-09-21 06:52:01</td>\n",
       "      <td>2014-11-12 23:35:05</td>\n",
       "      <td>2014-11-12 23:35:05</td>\n",
       "      <td>1</td>\n",
       "    </tr>\n",
       "    <tr>\n",
       "      <th>2</th>\n",
       "      <td>579534763872149504</td>\n",
       "      <td>After that it would of been up to the person i...</td>\n",
       "      <td>&lt;a href=\"http://twitter.com/download/iphone\" r...</td>\n",
       "      <td>164284493</td>\n",
       "      <td>0</td>\n",
       "      <td>0</td>\n",
       "      <td>0</td>\n",
       "      <td>0</td>\n",
       "      <td>0</td>\n",
       "      <td>0</td>\n",
       "      <td>0</td>\n",
       "      <td>0</td>\n",
       "      <td>0</td>\n",
       "      <td>2015-03-22 06:47:09+00:00</td>\n",
       "      <td>2015-03-22 07:47:09</td>\n",
       "      <td>2015-05-01 13:21:46</td>\n",
       "      <td>2015-05-01 13:21:46</td>\n",
       "      <td>0</td>\n",
       "    </tr>\n",
       "    <tr>\n",
       "      <th>3</th>\n",
       "      <td>449751137970028544</td>\n",
       "      <td>RT @kcivey: @marionbarryjr I'm for public fina...</td>\n",
       "      <td>&lt;a href=\"http://twitter.com/download/iphone\" r...</td>\n",
       "      <td>225683965</td>\n",
       "      <td>0</td>\n",
       "      <td>0</td>\n",
       "      <td>449735142085779456</td>\n",
       "      <td>1</td>\n",
       "      <td>0</td>\n",
       "      <td>0</td>\n",
       "      <td>0</td>\n",
       "      <td>0</td>\n",
       "      <td>2</td>\n",
       "      <td>2014-03-29 03:33:21+00:00</td>\n",
       "      <td>2014-03-29 04:33:21</td>\n",
       "      <td>2015-05-01 15:58:20</td>\n",
       "      <td>2015-05-01 15:58:20</td>\n",
       "      <td>0</td>\n",
       "    </tr>\n",
       "    <tr>\n",
       "      <th>4</th>\n",
       "      <td>589197488269045760</td>\n",
       "      <td>RT @specuIar: This hit me hard. http://t.co/rY...</td>\n",
       "      <td>&lt;a href=\"http://twitter.com\" rel=\"nofollow\"&gt;Tw...</td>\n",
       "      <td>505440359</td>\n",
       "      <td>0</td>\n",
       "      <td>0</td>\n",
       "      <td>589196377353097216</td>\n",
       "      <td>1300</td>\n",
       "      <td>0</td>\n",
       "      <td>0</td>\n",
       "      <td>0</td>\n",
       "      <td>0</td>\n",
       "      <td>1</td>\n",
       "      <td>2015-04-17 22:43:22+00:00</td>\n",
       "      <td>2015-04-18 00:43:22</td>\n",
       "      <td>2015-05-01 13:21:33</td>\n",
       "      <td>2015-05-01 13:21:33</td>\n",
       "      <td>0</td>\n",
       "    </tr>\n",
       "  </tbody>\n",
       "</table>\n",
       "</div>"
      ],
      "text/plain": [
       "                   id                                               text  \\\n",
       "0  515447020405137408  \"Il mare d'inverno è un concetto che il pensie...   \n",
       "1  513551196226093057  Read the History of Corona Beer  http://t.co/Z...   \n",
       "2  579534763872149504  After that it would of been up to the person i...   \n",
       "3  449751137970028544  RT @kcivey: @marionbarryjr I'm for public fina...   \n",
       "4  589197488269045760  RT @specuIar: This hit me hard. http://t.co/rY...   \n",
       "\n",
       "                                              source    user_id  \\\n",
       "0  <a href=\"http://www.Matildadr89.com\" rel=\"nofo...  237359828   \n",
       "1  <a href=\"http://tweetadder.com\" rel=\"nofollow\"...  215693377   \n",
       "2  <a href=\"http://twitter.com/download/iphone\" r...  164284493   \n",
       "3  <a href=\"http://twitter.com/download/iphone\" r...  225683965   \n",
       "4  <a href=\"http://twitter.com\" rel=\"nofollow\">Tw...  505440359   \n",
       "\n",
       "   in_reply_to_status_id  in_reply_to_user_id  retweeted_status_id  \\\n",
       "0                      0                    0                    0   \n",
       "1                      0                    0                    0   \n",
       "2                      0                    0                    0   \n",
       "3                      0                    0   449735142085779456   \n",
       "4                      0                    0   589196377353097216   \n",
       "\n",
       "   retweet_count  reply_count  favorite_count  num_hashtags  num_urls  \\\n",
       "0              0            0               0             0         0   \n",
       "1              0            0               0             0         1   \n",
       "2              0            0               0             0         0   \n",
       "3              1            0               0             0         0   \n",
       "4           1300            0               0             0         0   \n",
       "\n",
       "   num_mentions                created_at           timestamp  \\\n",
       "0             0 2014-09-26 10:25:20+00:00 2014-09-26 12:25:20   \n",
       "1             0 2014-09-21 04:52:01+00:00 2014-09-21 06:52:01   \n",
       "2             0 2015-03-22 06:47:09+00:00 2015-03-22 07:47:09   \n",
       "3             2 2014-03-29 03:33:21+00:00 2014-03-29 04:33:21   \n",
       "4             1 2015-04-17 22:43:22+00:00 2015-04-18 00:43:22   \n",
       "\n",
       "           crawled_at             updated  class  \n",
       "0 2014-11-13 01:35:24 2014-11-13 01:35:24      1  \n",
       "1 2014-11-12 23:35:05 2014-11-12 23:35:05      1  \n",
       "2 2015-05-01 13:21:46 2015-05-01 13:21:46      0  \n",
       "3 2015-05-01 15:58:20 2015-05-01 15:58:20      0  \n",
       "4 2015-05-01 13:21:33 2015-05-01 13:21:33      0  "
      ]
     },
     "execution_count": 15,
     "metadata": {},
     "output_type": "execute_result"
    }
   ],
   "source": [
    "tweets.head()"
   ]
  },
  {
   "cell_type": "code",
   "execution_count": 16,
   "metadata": {},
   "outputs": [
    {
     "data": {
      "text/html": [
       "<div>\n",
       "<style scoped>\n",
       "    .dataframe tbody tr th:only-of-type {\n",
       "        vertical-align: middle;\n",
       "    }\n",
       "\n",
       "    .dataframe tbody tr th {\n",
       "        vertical-align: top;\n",
       "    }\n",
       "\n",
       "    .dataframe thead th {\n",
       "        text-align: right;\n",
       "    }\n",
       "</style>\n",
       "<table border=\"1\" class=\"dataframe\">\n",
       "  <thead>\n",
       "    <tr style=\"text-align: right;\">\n",
       "      <th></th>\n",
       "      <th>id</th>\n",
       "      <th>name</th>\n",
       "      <th>screen_name</th>\n",
       "      <th>statuses_count</th>\n",
       "      <th>followers_count</th>\n",
       "      <th>friends_count</th>\n",
       "      <th>favourites_count</th>\n",
       "      <th>listed_count</th>\n",
       "      <th>lang</th>\n",
       "      <th>profile_image_url</th>\n",
       "      <th>...</th>\n",
       "      <th>profile_sidebar_border_color</th>\n",
       "      <th>profile_sidebar_fill_color</th>\n",
       "      <th>profile_background_image_url</th>\n",
       "      <th>profile_background_color</th>\n",
       "      <th>profile_link_color</th>\n",
       "      <th>created_at</th>\n",
       "      <th>timestamp</th>\n",
       "      <th>crawled_at</th>\n",
       "      <th>updated</th>\n",
       "      <th>class</th>\n",
       "    </tr>\n",
       "  </thead>\n",
       "  <tbody>\n",
       "    <tr>\n",
       "      <th>0</th>\n",
       "      <td>2349966440</td>\n",
       "      <td>Joie Ficher</td>\n",
       "      <td>JoieFicher</td>\n",
       "      <td>80</td>\n",
       "      <td>2</td>\n",
       "      <td>42</td>\n",
       "      <td>0</td>\n",
       "      <td>0</td>\n",
       "      <td>en</td>\n",
       "      <td>http://pbs.twimg.com/profile_images/4365494921...</td>\n",
       "      <td>...</td>\n",
       "      <td>FFFFFF</td>\n",
       "      <td>DDEEF6</td>\n",
       "      <td>http://pbs.twimg.com/profile_background_images...</td>\n",
       "      <td>0000FF</td>\n",
       "      <td>0000FF</td>\n",
       "      <td>2014-02-18 11:22:38+00:00</td>\n",
       "      <td>2014-02-18 12:22:38</td>\n",
       "      <td>2014-05-03 00:22:39</td>\n",
       "      <td>2016-03-15 15:20:24</td>\n",
       "      <td>1</td>\n",
       "    </tr>\n",
       "    <tr>\n",
       "      <th>1</th>\n",
       "      <td>343263643</td>\n",
       "      <td>RIP Teveon </td>\n",
       "      <td>youpettihoe_</td>\n",
       "      <td>36513</td>\n",
       "      <td>2166</td>\n",
       "      <td>1627</td>\n",
       "      <td>2977</td>\n",
       "      <td>0</td>\n",
       "      <td>en</td>\n",
       "      <td>http://pbs.twimg.com/profile_images/5594447898...</td>\n",
       "      <td>...</td>\n",
       "      <td>FFFFFF</td>\n",
       "      <td>FFFFFF</td>\n",
       "      <td>http://pbs.twimg.com/profile_background_images...</td>\n",
       "      <td>FFFAFF</td>\n",
       "      <td>0A7A00</td>\n",
       "      <td>2011-07-27 09:01:04+00:00</td>\n",
       "      <td>2011-07-27 11:01:04</td>\n",
       "      <td>2015-05-01 23:18:23</td>\n",
       "      <td>2016-03-15 16:11:13</td>\n",
       "      <td>0</td>\n",
       "    </tr>\n",
       "    <tr>\n",
       "      <th>2</th>\n",
       "      <td>531154412</td>\n",
       "      <td>Bulah Lynne</td>\n",
       "      <td>Lynnevibe</td>\n",
       "      <td>10657</td>\n",
       "      <td>1194</td>\n",
       "      <td>996</td>\n",
       "      <td>1</td>\n",
       "      <td>8</td>\n",
       "      <td>en</td>\n",
       "      <td>http://pbs.twimg.com/profile_images/1914097815...</td>\n",
       "      <td>...</td>\n",
       "      <td>C0DEED</td>\n",
       "      <td>DDEEF6</td>\n",
       "      <td>http://abs.twimg.com/images/themes/theme1/bg.png</td>\n",
       "      <td>C0DEED</td>\n",
       "      <td>0084B4</td>\n",
       "      <td>2012-03-20 11:48:05+00:00</td>\n",
       "      <td>2012-03-20 12:48:05</td>\n",
       "      <td>2014-05-05 23:24:32</td>\n",
       "      <td>2016-03-15 15:40:08</td>\n",
       "      <td>1</td>\n",
       "    </tr>\n",
       "    <tr>\n",
       "      <th>3</th>\n",
       "      <td>2377665366</td>\n",
       "      <td>Katherina Kistle</td>\n",
       "      <td>KatherinaKistle</td>\n",
       "      <td>37</td>\n",
       "      <td>0</td>\n",
       "      <td>38</td>\n",
       "      <td>0</td>\n",
       "      <td>0</td>\n",
       "      <td>en</td>\n",
       "      <td>http://pbs.twimg.com/profile_images/4430041788...</td>\n",
       "      <td>...</td>\n",
       "      <td>FFFFFF</td>\n",
       "      <td>DDEEF6</td>\n",
       "      <td>http://pbs.twimg.com/profile_background_images...</td>\n",
       "      <td>0000FF</td>\n",
       "      <td>0000FF</td>\n",
       "      <td>2014-03-07 21:23:35+00:00</td>\n",
       "      <td>2014-03-07 22:23:35</td>\n",
       "      <td>2014-05-05 00:21:50</td>\n",
       "      <td>2016-03-15 15:16:15</td>\n",
       "      <td>1</td>\n",
       "    </tr>\n",
       "    <tr>\n",
       "      <th>4</th>\n",
       "      <td>3015346510</td>\n",
       "      <td>Lindsay Blessing Fan</td>\n",
       "      <td>lindsayspainfan</td>\n",
       "      <td>96</td>\n",
       "      <td>43</td>\n",
       "      <td>113</td>\n",
       "      <td>425</td>\n",
       "      <td>0</td>\n",
       "      <td>es</td>\n",
       "      <td>http://pbs.twimg.com/profile_images/5631073115...</td>\n",
       "      <td>...</td>\n",
       "      <td>000000</td>\n",
       "      <td>000000</td>\n",
       "      <td>http://pbs.twimg.com/profile_background_images...</td>\n",
       "      <td>000000</td>\n",
       "      <td>9266CC</td>\n",
       "      <td>2015-02-03 20:49:38+00:00</td>\n",
       "      <td>2015-02-03 21:49:38</td>\n",
       "      <td>2015-05-02 01:09:46</td>\n",
       "      <td>2016-03-15 16:07:16</td>\n",
       "      <td>0</td>\n",
       "    </tr>\n",
       "  </tbody>\n",
       "</table>\n",
       "<p>5 rows × 24 columns</p>\n",
       "</div>"
      ],
      "text/plain": [
       "           id                  name      screen_name  statuses_count  \\\n",
       "0  2349966440           Joie Ficher       JoieFicher              80   \n",
       "1   343263643         RIP Teveon      youpettihoe_           36513   \n",
       "2   531154412           Bulah Lynne        Lynnevibe           10657   \n",
       "3  2377665366      Katherina Kistle  KatherinaKistle              37   \n",
       "4  3015346510  Lindsay Blessing Fan  lindsayspainfan              96   \n",
       "\n",
       "   followers_count  friends_count  favourites_count  listed_count lang  \\\n",
       "0                2             42                 0             0   en   \n",
       "1             2166           1627              2977             0   en   \n",
       "2             1194            996                 1             8   en   \n",
       "3                0             38                 0             0   en   \n",
       "4               43            113               425             0   es   \n",
       "\n",
       "                                   profile_image_url  ...  \\\n",
       "0  http://pbs.twimg.com/profile_images/4365494921...  ...   \n",
       "1  http://pbs.twimg.com/profile_images/5594447898...  ...   \n",
       "2  http://pbs.twimg.com/profile_images/1914097815...  ...   \n",
       "3  http://pbs.twimg.com/profile_images/4430041788...  ...   \n",
       "4  http://pbs.twimg.com/profile_images/5631073115...  ...   \n",
       "\n",
       "   profile_sidebar_border_color profile_sidebar_fill_color  \\\n",
       "0                        FFFFFF                     DDEEF6   \n",
       "1                        FFFFFF                     FFFFFF   \n",
       "2                        C0DEED                     DDEEF6   \n",
       "3                        FFFFFF                     DDEEF6   \n",
       "4                        000000                     000000   \n",
       "\n",
       "                        profile_background_image_url profile_background_color  \\\n",
       "0  http://pbs.twimg.com/profile_background_images...                   0000FF   \n",
       "1  http://pbs.twimg.com/profile_background_images...                   FFFAFF   \n",
       "2   http://abs.twimg.com/images/themes/theme1/bg.png                   C0DEED   \n",
       "3  http://pbs.twimg.com/profile_background_images...                   0000FF   \n",
       "4  http://pbs.twimg.com/profile_background_images...                   000000   \n",
       "\n",
       "  profile_link_color                created_at           timestamp  \\\n",
       "0             0000FF 2014-02-18 11:22:38+00:00 2014-02-18 12:22:38   \n",
       "1             0A7A00 2011-07-27 09:01:04+00:00 2011-07-27 11:01:04   \n",
       "2             0084B4 2012-03-20 11:48:05+00:00 2012-03-20 12:48:05   \n",
       "3             0000FF 2014-03-07 21:23:35+00:00 2014-03-07 22:23:35   \n",
       "4             9266CC 2015-02-03 20:49:38+00:00 2015-02-03 21:49:38   \n",
       "\n",
       "           crawled_at             updated class  \n",
       "0 2014-05-03 00:22:39 2016-03-15 15:20:24     1  \n",
       "1 2015-05-01 23:18:23 2016-03-15 16:11:13     0  \n",
       "2 2014-05-05 23:24:32 2016-03-15 15:40:08     1  \n",
       "3 2014-05-05 00:21:50 2016-03-15 15:16:15     1  \n",
       "4 2015-05-02 01:09:46 2016-03-15 16:07:16     0  \n",
       "\n",
       "[5 rows x 24 columns]"
      ]
     },
     "execution_count": 16,
     "metadata": {},
     "output_type": "execute_result"
    }
   ],
   "source": [
    "users.head()"
   ]
  },
  {
   "cell_type": "markdown",
   "metadata": {},
   "source": [
    "### Examine 'user_id' in Tweets table\n",
    "In an attempt to 'clean' the data, I tried to remove user accounts that did not have an associated tweet. If an _id_ in the Users table was not present in the _user_id_ column of the Tweets table, that account should be removed in the Users table. However, there doesn't appear to be common user ids between the two tables. This might have been done to protect the privacy of the account users. \n",
    "\n",
    "Before we continue, let's confirm whether user ids in the Tweets table are unique to each account. First, we'll partition the dataset by class and then merge on _user_id_ to see if there is overlap. \n"
   ]
  },
  {
   "cell_type": "code",
   "execution_count": 140,
   "metadata": {},
   "outputs": [],
   "source": [
    "# Create df for user class\n",
    "bots = tweets.loc[tweets['class']==1]\n",
    "gen = tweets.loc[tweets['class']==0]"
   ]
  },
  {
   "cell_type": "code",
   "execution_count": 141,
   "metadata": {},
   "outputs": [],
   "source": [
    "bots = pd.DataFrame(bots)\n",
    "gen = pd.DataFrame(gen)"
   ]
  },
  {
   "cell_type": "code",
   "execution_count": 143,
   "metadata": {},
   "outputs": [],
   "source": [
    "merge = bots.merge(gen, on='user_id')"
   ]
  },
  {
   "cell_type": "code",
   "execution_count": 144,
   "metadata": {},
   "outputs": [
    {
     "name": "stdout",
     "output_type": "stream",
     "text": [
      "Empty DataFrame\n",
      "Columns: [id_x, text_x, source_x, user_id, in_reply_to_status_id_x, in_reply_to_user_id_x, retweeted_status_id_x, retweet_count_x, reply_count_x, favorite_count_x, num_hashtags_x, num_urls_x, num_mentions_x, created_at_x, timestamp_x, crawled_at_x, updated_x, class_x, id_y, text_y, source_y, in_reply_to_status_id_y, in_reply_to_user_id_y, retweeted_status_id_y, retweet_count_y, reply_count_y, favorite_count_y, num_hashtags_y, num_urls_y, num_mentions_y, created_at_y, timestamp_y, crawled_at_y, updated_y, class_y]\n",
      "Index: []\n",
      "\n",
      "[0 rows x 35 columns]\n"
     ]
    }
   ],
   "source": [
    "print(merge)"
   ]
  },
  {
   "cell_type": "markdown",
   "metadata": {},
   "source": [
    "Looks like each _user_id_ is specific to each class. We'll also check if the unique amount of _user_id_ for each class adds up to the total _user_id_ of the dataset. "
   ]
  },
  {
   "cell_type": "code",
   "execution_count": 128,
   "metadata": {},
   "outputs": [
    {
     "data": {
      "text/plain": [
       "5995"
      ]
     },
     "execution_count": 128,
     "metadata": {},
     "output_type": "execute_result"
    }
   ],
   "source": [
    "# Total user_id count \n",
    "len(tweets['user_id'].unique().tolist())"
   ]
  },
  {
   "cell_type": "code",
   "execution_count": 133,
   "metadata": {},
   "outputs": [
    {
     "data": {
      "text/plain": [
       "4912"
      ]
     },
     "execution_count": 133,
     "metadata": {},
     "output_type": "execute_result"
    }
   ],
   "source": [
    "# Number of unique user accounts\n",
    "len(bots['user_id'].unique().tolist())"
   ]
  },
  {
   "cell_type": "code",
   "execution_count": 134,
   "metadata": {},
   "outputs": [
    {
     "data": {
      "text/plain": [
       "1083"
      ]
     },
     "execution_count": 134,
     "metadata": {},
     "output_type": "execute_result"
    }
   ],
   "source": [
    "# Number of unique user accounts\n",
    "len(gen['user_id'].unique().tolist())"
   ]
  },
  {
   "cell_type": "code",
   "execution_count": 136,
   "metadata": {},
   "outputs": [
    {
     "name": "stdout",
     "output_type": "stream",
     "text": [
      "5995\n"
     ]
    }
   ],
   "source": [
    "print((len(bots['user_id'].unique().tolist())+(len(gen['user_id'].unique().tolist()))))"
   ]
  },
  {
   "cell_type": "markdown",
   "metadata": {},
   "source": [
    "Here, we can see there are 4,912 bot users and 1083 human users that make make up 5,995 total unique accounts. "
   ]
  },
  {
   "cell_type": "code",
   "execution_count": 20,
   "metadata": {},
   "outputs": [
    {
     "data": {
      "text/plain": [
       "521370115     3258\n",
       "334826952     3250\n",
       "221141363     3250\n",
       "239910996     3250\n",
       "982414274     3250\n",
       "              ... \n",
       "2382422750      66\n",
       "2375328500      64\n",
       "2382743514      63\n",
       "2391867347      43\n",
       "2384976224      38\n",
       "Name: user_id, Length: 4912, dtype: int64"
      ]
     },
     "execution_count": 20,
     "metadata": {},
     "output_type": "execute_result"
    }
   ],
   "source": [
    "# Counts of unique user accounts \n",
    "bots['user_id'].value_counts()"
   ]
  },
  {
   "cell_type": "markdown",
   "metadata": {},
   "source": [
    "To confirm that these user ids are unique to the bots account, we will select a few user ids to verify that they only belong to the specific user in the Tweets table. \n",
    "\n",
    "Let's start by verifying _user_id_: 521370115"
   ]
  },
  {
   "cell_type": "code",
   "execution_count": 21,
   "metadata": {},
   "outputs": [
    {
     "data": {
      "text/html": [
       "<div>\n",
       "<style scoped>\n",
       "    .dataframe tbody tr th:only-of-type {\n",
       "        vertical-align: middle;\n",
       "    }\n",
       "\n",
       "    .dataframe tbody tr th {\n",
       "        vertical-align: top;\n",
       "    }\n",
       "\n",
       "    .dataframe thead th {\n",
       "        text-align: right;\n",
       "    }\n",
       "</style>\n",
       "<table border=\"1\" class=\"dataframe\">\n",
       "  <thead>\n",
       "    <tr style=\"text-align: right;\">\n",
       "      <th></th>\n",
       "      <th>id</th>\n",
       "      <th>text</th>\n",
       "      <th>source</th>\n",
       "      <th>user_id</th>\n",
       "      <th>in_reply_to_status_id</th>\n",
       "      <th>in_reply_to_user_id</th>\n",
       "      <th>retweeted_status_id</th>\n",
       "      <th>retweet_count</th>\n",
       "      <th>reply_count</th>\n",
       "      <th>favorite_count</th>\n",
       "      <th>num_hashtags</th>\n",
       "      <th>num_urls</th>\n",
       "      <th>num_mentions</th>\n",
       "      <th>created_at</th>\n",
       "      <th>timestamp</th>\n",
       "      <th>crawled_at</th>\n",
       "      <th>updated</th>\n",
       "      <th>class</th>\n",
       "    </tr>\n",
       "  </thead>\n",
       "  <tbody>\n",
       "    <tr>\n",
       "      <th>1351</th>\n",
       "      <td>514086444387008513</td>\n",
       "      <td>Read the History of Journey  http://t.co/DGLvo...</td>\n",
       "      <td>&lt;a href=\"http://tweetadder.com\" rel=\"nofollow\"...</td>\n",
       "      <td>521370115</td>\n",
       "      <td>0</td>\n",
       "      <td>0</td>\n",
       "      <td>0</td>\n",
       "      <td>0</td>\n",
       "      <td>0</td>\n",
       "      <td>0</td>\n",
       "      <td>0</td>\n",
       "      <td>1</td>\n",
       "      <td>0</td>\n",
       "      <td>2014-09-22 16:18:54+00:00</td>\n",
       "      <td>2014-09-22 18:18:54</td>\n",
       "      <td>2014-11-13 03:10:13</td>\n",
       "      <td>2014-11-13 03:10:13</td>\n",
       "      <td>1</td>\n",
       "    </tr>\n",
       "    <tr>\n",
       "      <th>5270</th>\n",
       "      <td>518798551498096640</td>\n",
       "      <td>If it weren't for baseball, many kids wouldn't...</td>\n",
       "      <td>&lt;a href=\"http://tweetadder.com\" rel=\"nofollow\"...</td>\n",
       "      <td>521370115</td>\n",
       "      <td>0</td>\n",
       "      <td>0</td>\n",
       "      <td>0</td>\n",
       "      <td>0</td>\n",
       "      <td>0</td>\n",
       "      <td>0</td>\n",
       "      <td>0</td>\n",
       "      <td>0</td>\n",
       "      <td>0</td>\n",
       "      <td>2014-10-05 16:23:08+00:00</td>\n",
       "      <td>2014-10-05 18:23:08</td>\n",
       "      <td>2014-11-13 03:10:11</td>\n",
       "      <td>2014-11-13 03:10:11</td>\n",
       "      <td>1</td>\n",
       "    </tr>\n",
       "    <tr>\n",
       "      <th>5817</th>\n",
       "      <td>521430185942724609</td>\n",
       "      <td>Before you create anymore great content figure...</td>\n",
       "      <td>&lt;a href=\"http://tweetadder.com\" rel=\"nofollow\"...</td>\n",
       "      <td>521370115</td>\n",
       "      <td>0</td>\n",
       "      <td>0</td>\n",
       "      <td>0</td>\n",
       "      <td>0</td>\n",
       "      <td>0</td>\n",
       "      <td>0</td>\n",
       "      <td>0</td>\n",
       "      <td>0</td>\n",
       "      <td>0</td>\n",
       "      <td>2014-10-12 22:40:18+00:00</td>\n",
       "      <td>2014-10-13 00:40:18</td>\n",
       "      <td>2014-11-13 03:10:08</td>\n",
       "      <td>2014-11-13 03:10:09</td>\n",
       "      <td>1</td>\n",
       "    </tr>\n",
       "    <tr>\n",
       "      <th>6142</th>\n",
       "      <td>513408584437096448</td>\n",
       "      <td>Running SUCKS! How to Run for Fast Weight Loss...</td>\n",
       "      <td>&lt;a href=\"http://tweetadder.com\" rel=\"nofollow\"...</td>\n",
       "      <td>521370115</td>\n",
       "      <td>0</td>\n",
       "      <td>0</td>\n",
       "      <td>0</td>\n",
       "      <td>0</td>\n",
       "      <td>0</td>\n",
       "      <td>0</td>\n",
       "      <td>0</td>\n",
       "      <td>1</td>\n",
       "      <td>0</td>\n",
       "      <td>2014-09-20 19:25:19+00:00</td>\n",
       "      <td>2014-09-20 21:25:19</td>\n",
       "      <td>2014-11-13 03:10:13</td>\n",
       "      <td>2014-11-13 03:10:13</td>\n",
       "      <td>1</td>\n",
       "    </tr>\n",
       "    <tr>\n",
       "      <th>8566</th>\n",
       "      <td>517016238703509505</td>\n",
       "      <td>Check Out these Cool Types of Garage Flooring ...</td>\n",
       "      <td>&lt;a href=\"http://tweetadder.com\" rel=\"nofollow\"...</td>\n",
       "      <td>521370115</td>\n",
       "      <td>0</td>\n",
       "      <td>0</td>\n",
       "      <td>0</td>\n",
       "      <td>0</td>\n",
       "      <td>0</td>\n",
       "      <td>0</td>\n",
       "      <td>0</td>\n",
       "      <td>1</td>\n",
       "      <td>0</td>\n",
       "      <td>2014-09-30 18:20:51+00:00</td>\n",
       "      <td>2014-09-30 20:20:51</td>\n",
       "      <td>2014-11-13 03:10:12</td>\n",
       "      <td>2014-11-13 03:10:12</td>\n",
       "      <td>1</td>\n",
       "    </tr>\n",
       "  </tbody>\n",
       "</table>\n",
       "</div>"
      ],
      "text/plain": [
       "                      id                                               text  \\\n",
       "1351  514086444387008513  Read the History of Journey  http://t.co/DGLvo...   \n",
       "5270  518798551498096640  If it weren't for baseball, many kids wouldn't...   \n",
       "5817  521430185942724609  Before you create anymore great content figure...   \n",
       "6142  513408584437096448  Running SUCKS! How to Run for Fast Weight Loss...   \n",
       "8566  517016238703509505  Check Out these Cool Types of Garage Flooring ...   \n",
       "\n",
       "                                                 source    user_id  \\\n",
       "1351  <a href=\"http://tweetadder.com\" rel=\"nofollow\"...  521370115   \n",
       "5270  <a href=\"http://tweetadder.com\" rel=\"nofollow\"...  521370115   \n",
       "5817  <a href=\"http://tweetadder.com\" rel=\"nofollow\"...  521370115   \n",
       "6142  <a href=\"http://tweetadder.com\" rel=\"nofollow\"...  521370115   \n",
       "8566  <a href=\"http://tweetadder.com\" rel=\"nofollow\"...  521370115   \n",
       "\n",
       "      in_reply_to_status_id  in_reply_to_user_id  retweeted_status_id  \\\n",
       "1351                      0                    0                    0   \n",
       "5270                      0                    0                    0   \n",
       "5817                      0                    0                    0   \n",
       "6142                      0                    0                    0   \n",
       "8566                      0                    0                    0   \n",
       "\n",
       "      retweet_count  reply_count  favorite_count  num_hashtags  num_urls  \\\n",
       "1351              0            0               0             0         1   \n",
       "5270              0            0               0             0         0   \n",
       "5817              0            0               0             0         0   \n",
       "6142              0            0               0             0         1   \n",
       "8566              0            0               0             0         1   \n",
       "\n",
       "      num_mentions                created_at           timestamp  \\\n",
       "1351             0 2014-09-22 16:18:54+00:00 2014-09-22 18:18:54   \n",
       "5270             0 2014-10-05 16:23:08+00:00 2014-10-05 18:23:08   \n",
       "5817             0 2014-10-12 22:40:18+00:00 2014-10-13 00:40:18   \n",
       "6142             0 2014-09-20 19:25:19+00:00 2014-09-20 21:25:19   \n",
       "8566             0 2014-09-30 18:20:51+00:00 2014-09-30 20:20:51   \n",
       "\n",
       "              crawled_at             updated  class  \n",
       "1351 2014-11-13 03:10:13 2014-11-13 03:10:13      1  \n",
       "5270 2014-11-13 03:10:11 2014-11-13 03:10:11      1  \n",
       "5817 2014-11-13 03:10:08 2014-11-13 03:10:09      1  \n",
       "6142 2014-11-13 03:10:13 2014-11-13 03:10:13      1  \n",
       "8566 2014-11-13 03:10:12 2014-11-13 03:10:12      1  "
      ]
     },
     "execution_count": 21,
     "metadata": {},
     "output_type": "execute_result"
    }
   ],
   "source": [
    "# Create df with selected user id \n",
    "user_id = tweets[tweets['user_id']==521370115]\n",
    "user_id.head()"
   ]
  },
  {
   "cell_type": "markdown",
   "metadata": {},
   "source": [
    "Now, let's check if this user id is associated with a human class (0)."
   ]
  },
  {
   "cell_type": "code",
   "execution_count": 22,
   "metadata": {},
   "outputs": [
    {
     "data": {
      "text/plain": [
       "1    3258\n",
       "Name: class, dtype: int64"
      ]
     },
     "execution_count": 22,
     "metadata": {},
     "output_type": "execute_result"
    }
   ],
   "source": [
    "# Count of class \n",
    "user_id['class'].value_counts()"
   ]
  },
  {
   "cell_type": "code",
   "execution_count": 23,
   "metadata": {},
   "outputs": [
    {
     "data": {
      "text/plain": [
       "1    38\n",
       "Name: class, dtype: int64"
      ]
     },
     "execution_count": 23,
     "metadata": {},
     "output_type": "execute_result"
    }
   ],
   "source": [
    "# Verify another user id \n",
    "user_id2 = tweets[tweets['user_id']==2384976224]\n",
    "\n",
    "# Count of class \n",
    "user_id2['class'].value_counts()"
   ]
  },
  {
   "cell_type": "markdown",
   "metadata": {},
   "source": [
    "It does look like that the user ids are unique to specific accounts. Let's verify some genuine accounts before we move on. "
   ]
  },
  {
   "cell_type": "code",
   "execution_count": 24,
   "metadata": {},
   "outputs": [
    {
     "data": {
      "text/plain": [
       "1083"
      ]
     },
     "execution_count": 24,
     "metadata": {},
     "output_type": "execute_result"
    }
   ],
   "source": [
    "# Number of unique user accounts\n",
    "len(gen['user_id'].unique().tolist())"
   ]
  },
  {
   "cell_type": "code",
   "execution_count": 25,
   "metadata": {},
   "outputs": [
    {
     "data": {
      "text/plain": [
       "15044720      3250\n",
       "497404180     3249\n",
       "182211050     3247\n",
       "195076965     3247\n",
       "14626600      3247\n",
       "              ... \n",
       "492728332       24\n",
       "2236789484      15\n",
       "2200425967      14\n",
       "24386710        13\n",
       "514061230        3\n",
       "Name: user_id, Length: 1083, dtype: int64"
      ]
     },
     "execution_count": 25,
     "metadata": {},
     "output_type": "execute_result"
    }
   ],
   "source": [
    "# Counts of unique user accounts \n",
    "gen['user_id'].value_counts()"
   ]
  },
  {
   "cell_type": "code",
   "execution_count": 26,
   "metadata": {},
   "outputs": [
    {
     "data": {
      "text/plain": [
       "0    3250\n",
       "Name: class, dtype: int64"
      ]
     },
     "execution_count": 26,
     "metadata": {},
     "output_type": "execute_result"
    }
   ],
   "source": [
    "# Create df with selected user id \n",
    "user_id3 = tweets[tweets['user_id']==15044720]\n",
    "\n",
    "# Count of class \n",
    "user_id3['class'].value_counts()"
   ]
  },
  {
   "cell_type": "code",
   "execution_count": 27,
   "metadata": {},
   "outputs": [
    {
     "data": {
      "text/plain": [
       "0    3\n",
       "Name: class, dtype: int64"
      ]
     },
     "execution_count": 27,
     "metadata": {},
     "output_type": "execute_result"
    }
   ],
   "source": [
    "# Verify another user id \n",
    "user_id4 = tweets[tweets['user_id']==514061230]\n",
    "\n",
    "# Count of class \n",
    "user_id4['class'].value_counts()"
   ]
  },
  {
   "cell_type": "markdown",
   "metadata": {},
   "source": [
    "## Examine Time variables"
   ]
  },
  {
   "cell_type": "code",
   "execution_count": null,
   "metadata": {},
   "outputs": [],
   "source": []
  },
  {
   "cell_type": "code",
   "execution_count": null,
   "metadata": {},
   "outputs": [],
   "source": []
  },
  {
   "cell_type": "markdown",
   "metadata": {},
   "source": [
    "## Exploratory Data Analysis\n",
    "We'll start by exploring the Tweets table by keeping a few questions in mind.<br> \n",
    "__How many tweets were made by humans and robots?__ <br>\n",
    "__Which accounts posted the most tweets?__ <br>"
   ]
  },
  {
   "cell_type": "code",
   "execution_count": 28,
   "metadata": {},
   "outputs": [
    {
     "name": "stdout",
     "output_type": "stream",
     "text": [
      "There are 2826718 tweets made by humans(44.987%) and 3456718 tweets made by bots (55.013%) in the tweets table.\n"
     ]
    }
   ],
   "source": [
    "# Bot vs human tweets \n",
    "counts = tweets['class'].value_counts()\n",
    "human = counts[0]\n",
    "bot = counts[1]\n",
    "human_per = (human/(human + bot))*100\n",
    "bot_per = (bot/(human + bot))*100\n",
    "print('There are {} tweets made by humans({:.3f}%) and {} tweets made by bots ({:.3f}%) in the tweets table.'.format(human, human_per, bot, bot_per))"
   ]
  },
  {
   "cell_type": "code",
   "execution_count": 29,
   "metadata": {},
   "outputs": [
    {
     "data": {
      "image/png": "[encoded data removed]",
      "text/plain": [
       "<Figure size 864x432 with 1 Axes>"
      ]
     },
     "metadata": {
      "needs_background": "light"
     },
     "output_type": "display_data"
    }
   ],
   "source": [
    "# Plot target variable\n",
    "plt.figure(figsize=(12,6))\n",
    "g = sns.countplot(x = 'class', data = tweets)\n",
    "g.set_title('Count of Tweets made by Humans vs Bots', fontsize = 17)\n",
    "g.set_xlabel('User Type', fontsize = 15)\n",
    "g.set_ylabel('# Tweets', fontsize = 15)\n",
    "\n",
    "for p in g.patches:\n",
    "    height = p.get_height()\n",
    "    g.text(p.get_x()+p.get_width()/2.,\n",
    "            height + 3,\n",
    "            '{:1.2f}%'.format(height/len(tweets) * 100),\n",
    "            ha=\"center\", fontsize=15) "
   ]
  },
  {
   "cell_type": "markdown",
   "metadata": {},
   "source": [
    "As shown in the bar graph, the data consists of 45% tweets by humans and 55% tweets by robots. The ratio between human to robot tweets are close so we do not have an imbalance problem. \n",
    "\n",
    "Let's look at which accounts tweeted the most. "
   ]
  },
  {
   "cell_type": "code",
   "execution_count": 30,
   "metadata": {},
   "outputs": [
    {
     "data": {
      "image/png": "[encoded data removed]",
      "text/plain": [
       "<Figure size 720x360 with 1 Axes>"
      ]
     },
     "metadata": {
      "needs_background": "light"
     },
     "output_type": "display_data"
    }
   ],
   "source": [
    "t_per_user = tweets['user_id'].value_counts()\n",
    "t_per_user = t_per_user[:20,]\n",
    "plt.figure(figsize=(10,5))\n",
    "sns.barplot(t_per_user.index, t_per_user.values, alpha=0.8)\n",
    "plt.title('Accounts with most Tweets')\n",
    "plt.ylabel('Number of Occurrences', fontsize=12)\n",
    "plt.xlabel('User Id', fontsize=12)\n",
    "plt.show()"
   ]
  },
  {
   "cell_type": "code",
   "execution_count": null,
   "metadata": {},
   "outputs": [],
   "source": []
  },
  {
   "cell_type": "code",
   "execution_count": null,
   "metadata": {},
   "outputs": [],
   "source": []
  },
  {
   "cell_type": "code",
   "execution_count": null,
   "metadata": {},
   "outputs": [],
   "source": []
  },
  {
   "cell_type": "code",
   "execution_count": null,
   "metadata": {},
   "outputs": [],
   "source": []
  },
  {
   "cell_type": "code",
   "execution_count": null,
   "metadata": {},
   "outputs": [],
   "source": []
  },
  {
   "cell_type": "code",
   "execution_count": null,
   "metadata": {},
   "outputs": [],
   "source": []
  },
  {
   "cell_type": "code",
   "execution_count": null,
   "metadata": {},
   "outputs": [],
   "source": []
  },
  {
   "cell_type": "code",
   "execution_count": 31,
   "metadata": {},
   "outputs": [
    {
     "name": "stdout",
     "output_type": "stream",
     "text": [
      "There are 3083 genuine accounts(38.591%) and 4906 spambot accounts (61.409%) in the users table.\n"
     ]
    }
   ],
   "source": [
    "# Bot vs human tweets \n",
    "counts = users['class'].value_counts()\n",
    "human = counts[0]\n",
    "bot = counts[1]\n",
    "human_per = (human/(human + bot))*100\n",
    "bot_per = (bot/(human + bot))*100\n",
    "print('There are {} genuine accounts({:.3f}%) and {} spambot accounts ({:.3f}%) in the users table.'.format(human, human_per, bot, bot_per))"
   ]
  },
  {
   "cell_type": "code",
   "execution_count": 32,
   "metadata": {},
   "outputs": [
    {
     "data": {
      "image/png": "[encoded data removed]",
      "text/plain": [
       "<Figure size 864x432 with 1 Axes>"
      ]
     },
     "metadata": {
      "needs_background": "light"
     },
     "output_type": "display_data"
    }
   ],
   "source": [
    "# Plot target variable\n",
    "plt.figure(figsize=(12,6))\n",
    "g = sns.countplot(x = 'class', data = users)\n",
    "g.set_title('Number of Accounts', fontsize = 17)\n",
    "g.set_xlabel('User Type', fontsize = 15)\n",
    "g.set_ylabel('# Users', fontsize = 15)\n",
    "\n",
    "for p in g.patches:\n",
    "    height = p.get_height()\n",
    "    g.text(p.get_x()+p.get_width()/2.,\n",
    "            height + 3,\n",
    "            '{:1.2f}%'.format(height/len(users) * 100),\n",
    "            ha=\"center\", fontsize=15) "
   ]
  },
  {
   "cell_type": "code",
   "execution_count": null,
   "metadata": {},
   "outputs": [],
   "source": []
  },
  {
   "cell_type": "code",
   "execution_count": 33,
   "metadata": {},
   "outputs": [],
   "source": [
    "# tweets per day"
   ]
  },
  {
   "cell_type": "code",
   "execution_count": 34,
   "metadata": {},
   "outputs": [],
   "source": [
    "# tweet over time "
   ]
  },
  {
   "cell_type": "code",
   "execution_count": 35,
   "metadata": {},
   "outputs": [],
   "source": [
    "# pauses between tweets"
   ]
  },
  {
   "cell_type": "code",
   "execution_count": 36,
   "metadata": {},
   "outputs": [],
   "source": [
    "# creation time"
   ]
  },
  {
   "cell_type": "code",
   "execution_count": 37,
   "metadata": {},
   "outputs": [],
   "source": [
    "#def hr_func(ts):\n",
    "    #return ts.hour"
   ]
  },
  {
   "cell_type": "code",
   "execution_count": 38,
   "metadata": {},
   "outputs": [],
   "source": [
    "#df['hour_tweet'] = users['timestamp'].apply(hr_func)"
   ]
  },
  {
   "cell_type": "code",
   "execution_count": 39,
   "metadata": {},
   "outputs": [],
   "source": [
    "# number of retweets / total posts"
   ]
  },
  {
   "cell_type": "code",
   "execution_count": 40,
   "metadata": {},
   "outputs": [],
   "source": [
    "# ratio of numbers in screen_name"
   ]
  },
  {
   "cell_type": "markdown",
   "metadata": {},
   "source": [
    "## Subsampling \n",
    "\n",
    "Due to hardware and memory limitations, we will reduce the size of the dataset and subsample 0.05% of tweets"
   ]
  },
  {
   "cell_type": "code",
   "execution_count": 41,
   "metadata": {},
   "outputs": [],
   "source": [
    "sub_tweets = tweets.groupby('class').apply(pd.DataFrame.sample, frac=0.005).reset_index(drop=True)"
   ]
  },
  {
   "cell_type": "code",
   "execution_count": 42,
   "metadata": {},
   "outputs": [
    {
     "data": {
      "text/plain": [
       "(31418, 18)"
      ]
     },
     "execution_count": 42,
     "metadata": {},
     "output_type": "execute_result"
    }
   ],
   "source": [
    "sub_tweets.shape"
   ]
  },
  {
   "cell_type": "markdown",
   "metadata": {},
   "source": [
    "## Clean Tweets\n",
    "We will clean the tweets with the following steps:\n",
    " * NOTE: Unable to Translate Italian tweets to English [Source](https://pypi.org/project/googletrans/)\n",
    " * Remove hyperlinks, mentions, and 'RT' from retweets\n",
    " * Word Counts with CountVectorizer: \n",
    "     - Tokenization: Converting a sentence into a list of words\n",
    "     - Remove stopwords\n",
    "     - Lammentization/stemming: Converting any form of a word ot its root word\n",
    "     - Returns vectors of the counts of each word* \n",
    " * Word Frequencies with TfidfVectorizer:\n",
    "     - Term Frequency: This summarizes how often a given word appears within a document.\n",
    "     - Inverse Document Frequency: This downscales words that appear a lot across documents. <br>\n",
    "\n",
    "Reference:\n",
    "[clean tweet](https://machinelearningmastery.com/prepare-text-data-machine-learning-scikit-learn/)\n",
    " \n",
    "First, we will paritation the clean_tweets into separate classes for building bag of words and cut down on processing time for CountVectorizer and TfidTransformer. \n",
    " \n",
    "Let's start by cleaning the bot tweets. \n",
    " "
   ]
  },
  {
   "cell_type": "code",
   "execution_count": 43,
   "metadata": {},
   "outputs": [],
   "source": [
    "sub_tweets['text'] = sub_tweets['text'].astype('str')"
   ]
  },
  {
   "cell_type": "code",
   "execution_count": 44,
   "metadata": {},
   "outputs": [],
   "source": [
    "# Create df for user class\n",
    "bots = sub_tweets.loc[sub_tweets['class']==1]\n",
    "gen = sub_tweets.loc[sub_tweets['class']==0]"
   ]
  },
  {
   "cell_type": "code",
   "execution_count": 45,
   "metadata": {},
   "outputs": [
    {
     "data": {
      "text/html": [
       "<div>\n",
       "<style scoped>\n",
       "    .dataframe tbody tr th:only-of-type {\n",
       "        vertical-align: middle;\n",
       "    }\n",
       "\n",
       "    .dataframe tbody tr th {\n",
       "        vertical-align: top;\n",
       "    }\n",
       "\n",
       "    .dataframe thead th {\n",
       "        text-align: right;\n",
       "    }\n",
       "</style>\n",
       "<table border=\"1\" class=\"dataframe\">\n",
       "  <thead>\n",
       "    <tr style=\"text-align: right;\">\n",
       "      <th></th>\n",
       "      <th>text</th>\n",
       "    </tr>\n",
       "  </thead>\n",
       "  <tbody>\n",
       "    <tr>\n",
       "      <th>14134</th>\n",
       "      <td>-Ma perché bevi il vino con la cannuccia?-. -P...</td>\n",
       "    </tr>\n",
       "    <tr>\n",
       "      <th>14135</th>\n",
       "      <td>Nessuno seduce nessuno. È solo chimica e affin...</td>\n",
       "    </tr>\n",
       "    <tr>\n",
       "      <th>14136</th>\n",
       "      <td>Check Out The Top 10 European Beers  http://t....</td>\n",
       "    </tr>\n",
       "    <tr>\n",
       "      <th>14137</th>\n",
       "      <td>A shoe without sex appeal is as barren as a tr...</td>\n",
       "    </tr>\n",
       "    <tr>\n",
       "      <th>14138</th>\n",
       "      <td>I grandi Dubbi!! Ma RIN TIN TIN... è un cane c...</td>\n",
       "    </tr>\n",
       "  </tbody>\n",
       "</table>\n",
       "</div>"
      ],
      "text/plain": [
       "                                                    text\n",
       "14134  -Ma perché bevi il vino con la cannuccia?-. -P...\n",
       "14135  Nessuno seduce nessuno. È solo chimica e affin...\n",
       "14136  Check Out The Top 10 European Beers  http://t....\n",
       "14137  A shoe without sex appeal is as barren as a tr...\n",
       "14138  I grandi Dubbi!! Ma RIN TIN TIN... è un cane c..."
      ]
     },
     "execution_count": 45,
     "metadata": {},
     "output_type": "execute_result"
    }
   ],
   "source": [
    "# Create new df \n",
    "b_tweets = pd.DataFrame(bots['text'])\n",
    "b_tweets.head()"
   ]
  },
  {
   "cell_type": "code",
   "execution_count": 46,
   "metadata": {},
   "outputs": [
    {
     "data": {
      "text/html": [
       "<div>\n",
       "<style scoped>\n",
       "    .dataframe tbody tr th:only-of-type {\n",
       "        vertical-align: middle;\n",
       "    }\n",
       "\n",
       "    .dataframe tbody tr th {\n",
       "        vertical-align: top;\n",
       "    }\n",
       "\n",
       "    .dataframe thead th {\n",
       "        text-align: right;\n",
       "    }\n",
       "</style>\n",
       "<table border=\"1\" class=\"dataframe\">\n",
       "  <thead>\n",
       "    <tr style=\"text-align: right;\">\n",
       "      <th></th>\n",
       "      <th>text</th>\n",
       "    </tr>\n",
       "  </thead>\n",
       "  <tbody>\n",
       "    <tr>\n",
       "      <th>0</th>\n",
       "      <td>#followmekarisma !!❤❤</td>\n",
       "    </tr>\n",
       "    <tr>\n",
       "      <th>1</th>\n",
       "      <td>Shiiitt</td>\n",
       "    </tr>\n",
       "    <tr>\n",
       "      <th>2</th>\n",
       "      <td>In AK: no electricity, no phone, no wine. 1 lu...</td>\n",
       "    </tr>\n",
       "    <tr>\n",
       "      <th>3</th>\n",
       "      <td>Wifi</td>\n",
       "    </tr>\n",
       "    <tr>\n",
       "      <th>4</th>\n",
       "      <td>Pizza favourited 1 of my tweets. Pizza is my f...</td>\n",
       "    </tr>\n",
       "  </tbody>\n",
       "</table>\n",
       "</div>"
      ],
      "text/plain": [
       "                                                text\n",
       "0                              #followmekarisma !!❤❤\n",
       "1                                            Shiiitt\n",
       "2  In AK: no electricity, no phone, no wine. 1 lu...\n",
       "3                                              Wifi \n",
       "4  Pizza favourited 1 of my tweets. Pizza is my f..."
      ]
     },
     "execution_count": 46,
     "metadata": {},
     "output_type": "execute_result"
    }
   ],
   "source": [
    "# Create new df  \n",
    "g_tweets = pd.DataFrame(gen['text'])\n",
    "g_tweets.head()"
   ]
  },
  {
   "cell_type": "markdown",
   "metadata": {},
   "source": [
    "Let's clean the tweets to remove links, @, and RT."
   ]
  },
  {
   "cell_type": "code",
   "execution_count": 47,
   "metadata": {},
   "outputs": [
    {
     "data": {
      "text/html": [
       "<div>\n",
       "<style scoped>\n",
       "    .dataframe tbody tr th:only-of-type {\n",
       "        vertical-align: middle;\n",
       "    }\n",
       "\n",
       "    .dataframe tbody tr th {\n",
       "        vertical-align: top;\n",
       "    }\n",
       "\n",
       "    .dataframe thead th {\n",
       "        text-align: right;\n",
       "    }\n",
       "</style>\n",
       "<table border=\"1\" class=\"dataframe\">\n",
       "  <thead>\n",
       "    <tr style=\"text-align: right;\">\n",
       "      <th></th>\n",
       "      <th>text</th>\n",
       "      <th>clean_tweets</th>\n",
       "    </tr>\n",
       "  </thead>\n",
       "  <tbody>\n",
       "    <tr>\n",
       "      <th>14134</th>\n",
       "      <td>-Ma perché bevi il vino con la cannuccia?-. -P...</td>\n",
       "      <td>-Ma perché bevi il vino con la cannuccia?-. -P...</td>\n",
       "    </tr>\n",
       "    <tr>\n",
       "      <th>14135</th>\n",
       "      <td>Nessuno seduce nessuno. È solo chimica e affin...</td>\n",
       "      <td>Nessuno seduce nessuno. È solo chimica e affin...</td>\n",
       "    </tr>\n",
       "    <tr>\n",
       "      <th>14136</th>\n",
       "      <td>Check Out The Top 10 European Beers  http://t....</td>\n",
       "      <td>Check Out The Top 10 European Beers</td>\n",
       "    </tr>\n",
       "    <tr>\n",
       "      <th>14137</th>\n",
       "      <td>A shoe without sex appeal is as barren as a tr...</td>\n",
       "      <td>A shoe without sex appeal is as barren as a tr...</td>\n",
       "    </tr>\n",
       "    <tr>\n",
       "      <th>14138</th>\n",
       "      <td>I grandi Dubbi!! Ma RIN TIN TIN... è un cane c...</td>\n",
       "      <td>I grandi Dubbi!! Ma RIN TIN TIN... è un cane c...</td>\n",
       "    </tr>\n",
       "  </tbody>\n",
       "</table>\n",
       "</div>"
      ],
      "text/plain": [
       "                                                    text  \\\n",
       "14134  -Ma perché bevi il vino con la cannuccia?-. -P...   \n",
       "14135  Nessuno seduce nessuno. È solo chimica e affin...   \n",
       "14136  Check Out The Top 10 European Beers  http://t....   \n",
       "14137  A shoe without sex appeal is as barren as a tr...   \n",
       "14138  I grandi Dubbi!! Ma RIN TIN TIN... è un cane c...   \n",
       "\n",
       "                                            clean_tweets  \n",
       "14134  -Ma perché bevi il vino con la cannuccia?-. -P...  \n",
       "14135  Nessuno seduce nessuno. È solo chimica e affin...  \n",
       "14136              Check Out The Top 10 European Beers    \n",
       "14137  A shoe without sex appeal is as barren as a tr...  \n",
       "14138  I grandi Dubbi!! Ma RIN TIN TIN... è un cane c...  "
      ]
     },
     "execution_count": 47,
     "metadata": {},
     "output_type": "execute_result"
    }
   ],
   "source": [
    "def text_cleaner(text):\n",
    "    text = re.sub(r'http.*','',text)\n",
    "    text = re.sub(\"@[A-Za-z0-9]+\",'',text)\n",
    "    text = re.sub(r'bit/ly.*', '', text)\n",
    "    text = re.sub(r'b\\'', '', text)\n",
    "    text = re.sub(r'b\"', '', text)\n",
    "    text = text.replace('RT', '')\n",
    "    return text\n",
    "\n",
    "b_tweets['clean_tweets'] = b_tweets['text'].apply(lambda x: text_cleaner(x))\n",
    "\n",
    "b_tweets.head()"
   ]
  },
  {
   "cell_type": "code",
   "execution_count": 48,
   "metadata": {},
   "outputs": [
    {
     "data": {
      "text/html": [
       "<div>\n",
       "<style scoped>\n",
       "    .dataframe tbody tr th:only-of-type {\n",
       "        vertical-align: middle;\n",
       "    }\n",
       "\n",
       "    .dataframe tbody tr th {\n",
       "        vertical-align: top;\n",
       "    }\n",
       "\n",
       "    .dataframe thead th {\n",
       "        text-align: right;\n",
       "    }\n",
       "</style>\n",
       "<table border=\"1\" class=\"dataframe\">\n",
       "  <thead>\n",
       "    <tr style=\"text-align: right;\">\n",
       "      <th></th>\n",
       "      <th>text</th>\n",
       "      <th>clean_tweets</th>\n",
       "    </tr>\n",
       "  </thead>\n",
       "  <tbody>\n",
       "    <tr>\n",
       "      <th>0</th>\n",
       "      <td>#followmekarisma !!❤❤</td>\n",
       "      <td>#followmekarisma !!❤❤</td>\n",
       "    </tr>\n",
       "    <tr>\n",
       "      <th>1</th>\n",
       "      <td>Shiiitt</td>\n",
       "      <td>Shiiitt</td>\n",
       "    </tr>\n",
       "    <tr>\n",
       "      <th>2</th>\n",
       "      <td>In AK: no electricity, no phone, no wine. 1 lu...</td>\n",
       "      <td>In AK: no electricity, no phone, no wine. 1 lu...</td>\n",
       "    </tr>\n",
       "    <tr>\n",
       "      <th>3</th>\n",
       "      <td>Wifi</td>\n",
       "      <td>Wifi</td>\n",
       "    </tr>\n",
       "    <tr>\n",
       "      <th>4</th>\n",
       "      <td>Pizza favourited 1 of my tweets. Pizza is my f...</td>\n",
       "      <td>Pizza favourited 1 of my tweets. Pizza is my f...</td>\n",
       "    </tr>\n",
       "  </tbody>\n",
       "</table>\n",
       "</div>"
      ],
      "text/plain": [
       "                                                text  \\\n",
       "0                              #followmekarisma !!❤❤   \n",
       "1                                            Shiiitt   \n",
       "2  In AK: no electricity, no phone, no wine. 1 lu...   \n",
       "3                                              Wifi    \n",
       "4  Pizza favourited 1 of my tweets. Pizza is my f...   \n",
       "\n",
       "                                        clean_tweets  \n",
       "0                              #followmekarisma !!❤❤  \n",
       "1                                            Shiiitt  \n",
       "2  In AK: no electricity, no phone, no wine. 1 lu...  \n",
       "3                                              Wifi   \n",
       "4  Pizza favourited 1 of my tweets. Pizza is my f...  "
      ]
     },
     "execution_count": 48,
     "metadata": {},
     "output_type": "execute_result"
    }
   ],
   "source": [
    "g_tweets['clean_tweets'] = g_tweets['text'].apply(lambda x: text_cleaner(x))\n",
    "\n",
    "g_tweets.head()"
   ]
  },
  {
   "cell_type": "code",
   "execution_count": 49,
   "metadata": {},
   "outputs": [
    {
     "name": "stderr",
     "output_type": "stream",
     "text": [
      "/Users/tsawaengsri/anaconda3/lib/python3.6/re.py:212: FutureWarning: split() requires a non-empty pattern match.\n",
      "  return _compile(pattern, flags).split(string, maxsplit)\n"
     ]
    },
    {
     "data": {
      "text/html": [
       "<div>\n",
       "<style scoped>\n",
       "    .dataframe tbody tr th:only-of-type {\n",
       "        vertical-align: middle;\n",
       "    }\n",
       "\n",
       "    .dataframe tbody tr th {\n",
       "        vertical-align: top;\n",
       "    }\n",
       "\n",
       "    .dataframe thead th {\n",
       "        text-align: right;\n",
       "    }\n",
       "</style>\n",
       "<table border=\"1\" class=\"dataframe\">\n",
       "  <thead>\n",
       "    <tr style=\"text-align: right;\">\n",
       "      <th></th>\n",
       "      <th>text</th>\n",
       "      <th>clean_tweets</th>\n",
       "    </tr>\n",
       "  </thead>\n",
       "  <tbody>\n",
       "    <tr>\n",
       "      <th>14134</th>\n",
       "      <td>-Ma perché bevi il vino con la cannuccia?-. -P...</td>\n",
       "      <td>ma perch bevi il vino con la cannuccia perch ...</td>\n",
       "    </tr>\n",
       "    <tr>\n",
       "      <th>14135</th>\n",
       "      <td>Nessuno seduce nessuno. È solo chimica e affin...</td>\n",
       "      <td>nessuno seduce nessuno solo chimica e affinit ...</td>\n",
       "    </tr>\n",
       "    <tr>\n",
       "      <th>14136</th>\n",
       "      <td>Check Out The Top 10 European Beers  http://t....</td>\n",
       "      <td>check out the top european beers</td>\n",
       "    </tr>\n",
       "    <tr>\n",
       "      <th>14137</th>\n",
       "      <td>A shoe without sex appeal is as barren as a tr...</td>\n",
       "      <td>a shoe without sex appeal is as barren as a tr...</td>\n",
       "    </tr>\n",
       "    <tr>\n",
       "      <th>14138</th>\n",
       "      <td>I grandi Dubbi!! Ma RIN TIN TIN... è un cane c...</td>\n",
       "      <td>i grandi dubbi ma rin tin tin un cane che rimb...</td>\n",
       "    </tr>\n",
       "  </tbody>\n",
       "</table>\n",
       "</div>"
      ],
      "text/plain": [
       "                                                    text  \\\n",
       "14134  -Ma perché bevi il vino con la cannuccia?-. -P...   \n",
       "14135  Nessuno seduce nessuno. È solo chimica e affin...   \n",
       "14136  Check Out The Top 10 European Beers  http://t....   \n",
       "14137  A shoe without sex appeal is as barren as a tr...   \n",
       "14138  I grandi Dubbi!! Ma RIN TIN TIN... è un cane c...   \n",
       "\n",
       "                                            clean_tweets  \n",
       "14134   ma perch bevi il vino con la cannuccia perch ...  \n",
       "14135  nessuno seduce nessuno solo chimica e affinit ...  \n",
       "14136                  check out the top european beers   \n",
       "14137  a shoe without sex appeal is as barren as a tr...  \n",
       "14138  i grandi dubbi ma rin tin tin un cane che rimb...  "
      ]
     },
     "execution_count": 49,
     "metadata": {},
     "output_type": "execute_result"
    }
   ],
   "source": [
    "# Return only characters \n",
    "def clean_alpha(text):\n",
    "    text = \" \".join(re.split(\"[^a-zA-Z]*\", text))\n",
    "    return text\n",
    "\n",
    "b_tweets['clean_tweets'] = b_tweets['clean_tweets'].apply(lambda x: clean_alpha(x.lower()))\n",
    "\n",
    "b_tweets.head()"
   ]
  },
  {
   "cell_type": "code",
   "execution_count": 50,
   "metadata": {},
   "outputs": [
    {
     "data": {
      "text/html": [
       "<div>\n",
       "<style scoped>\n",
       "    .dataframe tbody tr th:only-of-type {\n",
       "        vertical-align: middle;\n",
       "    }\n",
       "\n",
       "    .dataframe tbody tr th {\n",
       "        vertical-align: top;\n",
       "    }\n",
       "\n",
       "    .dataframe thead th {\n",
       "        text-align: right;\n",
       "    }\n",
       "</style>\n",
       "<table border=\"1\" class=\"dataframe\">\n",
       "  <thead>\n",
       "    <tr style=\"text-align: right;\">\n",
       "      <th></th>\n",
       "      <th>text</th>\n",
       "      <th>clean_tweets</th>\n",
       "    </tr>\n",
       "  </thead>\n",
       "  <tbody>\n",
       "    <tr>\n",
       "      <th>0</th>\n",
       "      <td>#followmekarisma !!❤❤</td>\n",
       "      <td>followmekarisma</td>\n",
       "    </tr>\n",
       "    <tr>\n",
       "      <th>1</th>\n",
       "      <td>Shiiitt</td>\n",
       "      <td>shiiitt</td>\n",
       "    </tr>\n",
       "    <tr>\n",
       "      <th>2</th>\n",
       "      <td>In AK: no electricity, no phone, no wine. 1 lu...</td>\n",
       "      <td>in ak no electricity no phone no wine lusty al...</td>\n",
       "    </tr>\n",
       "    <tr>\n",
       "      <th>3</th>\n",
       "      <td>Wifi</td>\n",
       "      <td>wifi</td>\n",
       "    </tr>\n",
       "    <tr>\n",
       "      <th>4</th>\n",
       "      <td>Pizza favourited 1 of my tweets. Pizza is my f...</td>\n",
       "      <td>pizza favourited of my tweets pizza is my favo...</td>\n",
       "    </tr>\n",
       "  </tbody>\n",
       "</table>\n",
       "</div>"
      ],
      "text/plain": [
       "                                                text  \\\n",
       "0                              #followmekarisma !!❤❤   \n",
       "1                                            Shiiitt   \n",
       "2  In AK: no electricity, no phone, no wine. 1 lu...   \n",
       "3                                              Wifi    \n",
       "4  Pizza favourited 1 of my tweets. Pizza is my f...   \n",
       "\n",
       "                                        clean_tweets  \n",
       "0                                   followmekarisma   \n",
       "1                                            shiiitt  \n",
       "2  in ak no electricity no phone no wine lusty al...  \n",
       "3                                              wifi   \n",
       "4  pizza favourited of my tweets pizza is my favo...  "
      ]
     },
     "execution_count": 50,
     "metadata": {},
     "output_type": "execute_result"
    }
   ],
   "source": [
    "g_tweets['clean_tweets'] = g_tweets['clean_tweets'].apply(lambda x: clean_alpha(x.lower()))\n",
    "\n",
    "g_tweets.head()"
   ]
  },
  {
   "cell_type": "markdown",
   "metadata": {},
   "source": [
    "Since we were unable to translate non English tweets, those cells are empty and will be dropped."
   ]
  },
  {
   "cell_type": "code",
   "execution_count": 51,
   "metadata": {},
   "outputs": [
    {
     "name": "stderr",
     "output_type": "stream",
     "text": [
      "/Users/tsawaengsri/anaconda3/lib/python3.6/site-packages/ipykernel_launcher.py:2: SettingWithCopyWarning: \n",
      "A value is trying to be set on a copy of a slice from a DataFrame.\n",
      "Try using .loc[row_indexer,col_indexer] = value instead\n",
      "\n",
      "See the caveats in the documentation: http://pandas.pydata.org/pandas-docs/stable/user_guide/indexing.html#returning-a-view-versus-a-copy\n",
      "  \n",
      "/Users/tsawaengsri/anaconda3/lib/python3.6/site-packages/ipykernel_launcher.py:3: SettingWithCopyWarning: \n",
      "A value is trying to be set on a copy of a slice from a DataFrame.\n",
      "Try using .loc[row_indexer,col_indexer] = value instead\n",
      "\n",
      "See the caveats in the documentation: http://pandas.pydata.org/pandas-docs/stable/user_guide/indexing.html#returning-a-view-versus-a-copy\n",
      "  This is separate from the ipykernel package so we can avoid doing imports until\n"
     ]
    }
   ],
   "source": [
    "# Add clean_tweets back to bots and gen df to drop empty tweets\n",
    "bots['clean_tweets'] = b_tweets['clean_tweets']\n",
    "gen['clean_tweets'] = g_tweets['clean_tweets']"
   ]
  },
  {
   "cell_type": "code",
   "execution_count": 52,
   "metadata": {},
   "outputs": [
    {
     "name": "stdout",
     "output_type": "stream",
     "text": [
      "(17284, 19)\n",
      "(14134, 19)\n"
     ]
    }
   ],
   "source": [
    "# Shape before dropping empty tweets\n",
    "print(bots.shape)\n",
    "print(gen.shape)"
   ]
  },
  {
   "cell_type": "code",
   "execution_count": 53,
   "metadata": {},
   "outputs": [],
   "source": [
    "# Replace field that's entirely space (or empty) with NaN\n",
    "bots = bots.replace(r'^\\s*$', np.nan, regex=True)\n",
    "gen = gen.replace(r'^\\s*$', np.nan, regex=True)"
   ]
  },
  {
   "cell_type": "code",
   "execution_count": 54,
   "metadata": {},
   "outputs": [],
   "source": [
    "# Drop nan\n",
    "bots = bots.dropna() \n",
    "gen = gen.dropna()"
   ]
  },
  {
   "cell_type": "code",
   "execution_count": 55,
   "metadata": {},
   "outputs": [
    {
     "name": "stdout",
     "output_type": "stream",
     "text": [
      "(16990, 19)\n",
      "(13592, 19)\n"
     ]
    }
   ],
   "source": [
    "# Shape after dropping empty tweets\n",
    "print(bots.shape)\n",
    "print(gen.shape)"
   ]
  },
  {
   "cell_type": "markdown",
   "metadata": {},
   "source": [
    "We lost a few hundreds of tweets for bots and genuine accounts. "
   ]
  },
  {
   "cell_type": "code",
   "execution_count": 56,
   "metadata": {},
   "outputs": [],
   "source": [
    "# Convert df to np arrary \n",
    "b_clean = bots['clean_tweets'].values\n",
    "g_clean = gen['clean_tweets'].values"
   ]
  },
  {
   "cell_type": "code",
   "execution_count": 57,
   "metadata": {},
   "outputs": [],
   "source": [
    "# Convert np arrary to one deminsional array \n",
    "b_clean = b_clean.ravel()"
   ]
  },
  {
   "cell_type": "code",
   "execution_count": 58,
   "metadata": {},
   "outputs": [
    {
     "data": {
      "text/plain": [
       "numpy.ndarray"
      ]
     },
     "execution_count": 58,
     "metadata": {},
     "output_type": "execute_result"
    }
   ],
   "source": [
    "type(b_clean)"
   ]
  },
  {
   "cell_type": "code",
   "execution_count": 59,
   "metadata": {},
   "outputs": [],
   "source": [
    "# Convert np arrary to one deminsional array \n",
    "g_clean = g_clean.ravel()"
   ]
  },
  {
   "cell_type": "code",
   "execution_count": 60,
   "metadata": {},
   "outputs": [
    {
     "data": {
      "text/plain": [
       "numpy.ndarray"
      ]
     },
     "execution_count": 60,
     "metadata": {},
     "output_type": "execute_result"
    }
   ],
   "source": [
    "type(g_clean)"
   ]
  },
  {
   "cell_type": "code",
   "execution_count": 61,
   "metadata": {},
   "outputs": [
    {
     "name": "stdout",
     "output_type": "stream",
     "text": [
      "(16990, 21754)\n",
      "<class 'scipy.sparse.csr.csr_matrix'>\n"
     ]
    }
   ],
   "source": [
    "# Text preprocessing, tokenizing and filtering of stopwords are all included \n",
    "# in CountVectorizer, which builds a dictionary of features and transforms \n",
    "# documents to feature vectors\n",
    "\n",
    "# Initialize a CountVectorizer object: count_vectorizer\n",
    "count_vectorizer = CountVectorizer()\n",
    "\n",
    "# Tokenize and build vocab for bot tweets\n",
    "b_clean = count_vectorizer.fit_transform(b_clean)\n",
    "\n",
    "# Summarize encoded vector\n",
    "print(b_clean.shape)\n",
    "print(type(b_clean))"
   ]
  },
  {
   "cell_type": "code",
   "execution_count": 62,
   "metadata": {},
   "outputs": [
    {
     "data": {
      "text/plain": [
       "(16990, 21754)"
      ]
     },
     "execution_count": 62,
     "metadata": {},
     "output_type": "execute_result"
    }
   ],
   "source": [
    "# Word Frequencies with TfidfVectorizer for bot tweets\n",
    "tf_transformer = TfidfTransformer(use_idf=False).fit(b_clean)\n",
    "b_tfidf_train = tf_transformer.transform(b_clean)\n",
    "b_tfidf_train.shape"
   ]
  },
  {
   "cell_type": "code",
   "execution_count": 63,
   "metadata": {},
   "outputs": [
    {
     "name": "stdout",
     "output_type": "stream",
     "text": [
      "(13592, 21622)\n",
      "<class 'scipy.sparse.csr.csr_matrix'>\n"
     ]
    }
   ],
   "source": [
    "# Tokenize and build vocab for genuine tweets\n",
    "g_clean = count_vectorizer.fit_transform(g_clean)\n",
    "\n",
    "# Summarize encoded vector\n",
    "print(g_clean.shape)\n",
    "print(type(g_clean))"
   ]
  },
  {
   "cell_type": "code",
   "execution_count": 64,
   "metadata": {},
   "outputs": [
    {
     "data": {
      "text/plain": [
       "(13592, 21622)"
      ]
     },
     "execution_count": 64,
     "metadata": {},
     "output_type": "execute_result"
    }
   ],
   "source": [
    "# Word Frequencies with TfidfVectorizer for genuine tweets\n",
    "tf_transformer = TfidfTransformer(use_idf=False).fit(g_clean)\n",
    "g_tfidf_train = tf_transformer.transform(g_clean)\n",
    "g_tfidf_train.shape"
   ]
  },
  {
   "cell_type": "markdown",
   "metadata": {},
   "source": []
  },
  {
   "cell_type": "code",
   "execution_count": 65,
   "metadata": {},
   "outputs": [
    {
     "data": {
      "text/plain": [
       "(16990, 100)"
      ]
     },
     "execution_count": 65,
     "metadata": {},
     "output_type": "execute_result"
    }
   ],
   "source": [
    "# TruncatedSVD to reduce dimensions \n",
    "svd = TruncatedSVD(n_components=100, n_iter=7, random_state=42)\n",
    "b_svdTFit = svd.fit_transform(b_tfidf_train)\n",
    "b_svdTFit.shape"
   ]
  },
  {
   "cell_type": "code",
   "execution_count": 66,
   "metadata": {},
   "outputs": [
    {
     "data": {
      "text/plain": [
       "(13592, 100)"
      ]
     },
     "execution_count": 66,
     "metadata": {},
     "output_type": "execute_result"
    }
   ],
   "source": [
    "svd = TruncatedSVD(n_components=100, n_iter=7, random_state=42)\n",
    "g_svdTFit = svd.fit_transform(g_tfidf_train)\n",
    "g_svdTFit.shape "
   ]
  },
  {
   "cell_type": "code",
   "execution_count": 67,
   "metadata": {},
   "outputs": [
    {
     "data": {
      "text/html": [
       "<div>\n",
       "<style scoped>\n",
       "    .dataframe tbody tr th:only-of-type {\n",
       "        vertical-align: middle;\n",
       "    }\n",
       "\n",
       "    .dataframe tbody tr th {\n",
       "        vertical-align: top;\n",
       "    }\n",
       "\n",
       "    .dataframe thead th {\n",
       "        text-align: right;\n",
       "    }\n",
       "</style>\n",
       "<table border=\"1\" class=\"dataframe\">\n",
       "  <thead>\n",
       "    <tr style=\"text-align: right;\">\n",
       "      <th></th>\n",
       "      <th>0</th>\n",
       "      <th>1</th>\n",
       "      <th>2</th>\n",
       "      <th>3</th>\n",
       "      <th>4</th>\n",
       "      <th>5</th>\n",
       "      <th>6</th>\n",
       "      <th>7</th>\n",
       "      <th>8</th>\n",
       "      <th>9</th>\n",
       "      <th>...</th>\n",
       "      <th>90</th>\n",
       "      <th>91</th>\n",
       "      <th>92</th>\n",
       "      <th>93</th>\n",
       "      <th>94</th>\n",
       "      <th>95</th>\n",
       "      <th>96</th>\n",
       "      <th>97</th>\n",
       "      <th>98</th>\n",
       "      <th>99</th>\n",
       "    </tr>\n",
       "  </thead>\n",
       "  <tbody>\n",
       "    <tr>\n",
       "      <th>0</th>\n",
       "      <td>0.017576</td>\n",
       "      <td>0.463016</td>\n",
       "      <td>-0.018550</td>\n",
       "      <td>0.018779</td>\n",
       "      <td>0.066471</td>\n",
       "      <td>0.033976</td>\n",
       "      <td>0.131288</td>\n",
       "      <td>-0.010515</td>\n",
       "      <td>-0.068979</td>\n",
       "      <td>0.448608</td>\n",
       "      <td>...</td>\n",
       "      <td>-0.049246</td>\n",
       "      <td>0.010268</td>\n",
       "      <td>-0.031131</td>\n",
       "      <td>-0.025750</td>\n",
       "      <td>0.013752</td>\n",
       "      <td>0.016295</td>\n",
       "      <td>0.011424</td>\n",
       "      <td>-0.039385</td>\n",
       "      <td>-0.000120</td>\n",
       "      <td>-0.005444</td>\n",
       "    </tr>\n",
       "    <tr>\n",
       "      <th>1</th>\n",
       "      <td>0.005475</td>\n",
       "      <td>0.135807</td>\n",
       "      <td>-0.005436</td>\n",
       "      <td>0.006520</td>\n",
       "      <td>-0.132132</td>\n",
       "      <td>0.013153</td>\n",
       "      <td>-0.058912</td>\n",
       "      <td>0.085846</td>\n",
       "      <td>0.206877</td>\n",
       "      <td>0.075391</td>\n",
       "      <td>...</td>\n",
       "      <td>-0.012502</td>\n",
       "      <td>-0.038892</td>\n",
       "      <td>0.007206</td>\n",
       "      <td>0.020930</td>\n",
       "      <td>0.034559</td>\n",
       "      <td>0.034873</td>\n",
       "      <td>0.019485</td>\n",
       "      <td>0.036693</td>\n",
       "      <td>-0.037214</td>\n",
       "      <td>0.018378</td>\n",
       "    </tr>\n",
       "    <tr>\n",
       "      <th>2</th>\n",
       "      <td>0.370627</td>\n",
       "      <td>-0.021166</td>\n",
       "      <td>-0.095102</td>\n",
       "      <td>0.003445</td>\n",
       "      <td>0.013142</td>\n",
       "      <td>-0.173859</td>\n",
       "      <td>-0.001727</td>\n",
       "      <td>-0.148608</td>\n",
       "      <td>0.091767</td>\n",
       "      <td>-0.055744</td>\n",
       "      <td>...</td>\n",
       "      <td>0.010994</td>\n",
       "      <td>-0.034613</td>\n",
       "      <td>0.002693</td>\n",
       "      <td>-0.001133</td>\n",
       "      <td>-0.020398</td>\n",
       "      <td>0.015313</td>\n",
       "      <td>0.004292</td>\n",
       "      <td>-0.023899</td>\n",
       "      <td>-0.013137</td>\n",
       "      <td>0.052948</td>\n",
       "    </tr>\n",
       "    <tr>\n",
       "      <th>3</th>\n",
       "      <td>0.054104</td>\n",
       "      <td>0.000713</td>\n",
       "      <td>0.059625</td>\n",
       "      <td>-0.062986</td>\n",
       "      <td>0.002559</td>\n",
       "      <td>-0.060231</td>\n",
       "      <td>-0.010318</td>\n",
       "      <td>0.143165</td>\n",
       "      <td>-0.058574</td>\n",
       "      <td>0.015631</td>\n",
       "      <td>...</td>\n",
       "      <td>0.040209</td>\n",
       "      <td>-0.045646</td>\n",
       "      <td>-0.034932</td>\n",
       "      <td>0.001195</td>\n",
       "      <td>0.041804</td>\n",
       "      <td>-0.009388</td>\n",
       "      <td>-0.010135</td>\n",
       "      <td>0.011558</td>\n",
       "      <td>0.031049</td>\n",
       "      <td>0.018301</td>\n",
       "    </tr>\n",
       "    <tr>\n",
       "      <th>4</th>\n",
       "      <td>0.009327</td>\n",
       "      <td>0.234400</td>\n",
       "      <td>-0.008826</td>\n",
       "      <td>0.007320</td>\n",
       "      <td>-0.082301</td>\n",
       "      <td>0.001504</td>\n",
       "      <td>-0.084714</td>\n",
       "      <td>-0.051819</td>\n",
       "      <td>-0.114123</td>\n",
       "      <td>-0.128096</td>\n",
       "      <td>...</td>\n",
       "      <td>-0.046760</td>\n",
       "      <td>-0.004779</td>\n",
       "      <td>-0.028410</td>\n",
       "      <td>-0.001640</td>\n",
       "      <td>0.006408</td>\n",
       "      <td>-0.014990</td>\n",
       "      <td>-0.006369</td>\n",
       "      <td>-0.062993</td>\n",
       "      <td>0.017049</td>\n",
       "      <td>0.030631</td>\n",
       "    </tr>\n",
       "  </tbody>\n",
       "</table>\n",
       "<p>5 rows × 100 columns</p>\n",
       "</div>"
      ],
      "text/plain": [
       "         0         1         2         3         4         5         6   \\\n",
       "0  0.017576  0.463016 -0.018550  0.018779  0.066471  0.033976  0.131288   \n",
       "1  0.005475  0.135807 -0.005436  0.006520 -0.132132  0.013153 -0.058912   \n",
       "2  0.370627 -0.021166 -0.095102  0.003445  0.013142 -0.173859 -0.001727   \n",
       "3  0.054104  0.000713  0.059625 -0.062986  0.002559 -0.060231 -0.010318   \n",
       "4  0.009327  0.234400 -0.008826  0.007320 -0.082301  0.001504 -0.084714   \n",
       "\n",
       "         7         8         9   ...        90        91        92        93  \\\n",
       "0 -0.010515 -0.068979  0.448608  ... -0.049246  0.010268 -0.031131 -0.025750   \n",
       "1  0.085846  0.206877  0.075391  ... -0.012502 -0.038892  0.007206  0.020930   \n",
       "2 -0.148608  0.091767 -0.055744  ...  0.010994 -0.034613  0.002693 -0.001133   \n",
       "3  0.143165 -0.058574  0.015631  ...  0.040209 -0.045646 -0.034932  0.001195   \n",
       "4 -0.051819 -0.114123 -0.128096  ... -0.046760 -0.004779 -0.028410 -0.001640   \n",
       "\n",
       "         94        95        96        97        98        99  \n",
       "0  0.013752  0.016295  0.011424 -0.039385 -0.000120 -0.005444  \n",
       "1  0.034559  0.034873  0.019485  0.036693 -0.037214  0.018378  \n",
       "2 -0.020398  0.015313  0.004292 -0.023899 -0.013137  0.052948  \n",
       "3  0.041804 -0.009388 -0.010135  0.011558  0.031049  0.018301  \n",
       "4  0.006408 -0.014990 -0.006369 -0.062993  0.017049  0.030631  \n",
       "\n",
       "[5 rows x 100 columns]"
      ]
     },
     "execution_count": 67,
     "metadata": {},
     "output_type": "execute_result"
    }
   ],
   "source": [
    "# Convert svdTFit array to df \n",
    "b_svdTFit = pd.DataFrame(b_svdTFit)\n",
    "b_svdTFit.head()"
   ]
  },
  {
   "cell_type": "code",
   "execution_count": 68,
   "metadata": {},
   "outputs": [
    {
     "name": "stdout",
     "output_type": "stream",
     "text": [
      "(16990, 100)\n"
     ]
    }
   ],
   "source": [
    "print(b_svdTFit.shape)"
   ]
  },
  {
   "cell_type": "code",
   "execution_count": 69,
   "metadata": {},
   "outputs": [
    {
     "data": {
      "text/plain": [
       "(16990, 19)"
      ]
     },
     "execution_count": 69,
     "metadata": {},
     "output_type": "execute_result"
    }
   ],
   "source": [
    "bots.shape"
   ]
  },
  {
   "cell_type": "code",
   "execution_count": 70,
   "metadata": {},
   "outputs": [
    {
     "data": {
      "text/html": [
       "<div>\n",
       "<style scoped>\n",
       "    .dataframe tbody tr th:only-of-type {\n",
       "        vertical-align: middle;\n",
       "    }\n",
       "\n",
       "    .dataframe tbody tr th {\n",
       "        vertical-align: top;\n",
       "    }\n",
       "\n",
       "    .dataframe thead th {\n",
       "        text-align: right;\n",
       "    }\n",
       "</style>\n",
       "<table border=\"1\" class=\"dataframe\">\n",
       "  <thead>\n",
       "    <tr style=\"text-align: right;\">\n",
       "      <th></th>\n",
       "      <th>0</th>\n",
       "      <th>1</th>\n",
       "      <th>2</th>\n",
       "      <th>3</th>\n",
       "      <th>4</th>\n",
       "      <th>5</th>\n",
       "      <th>6</th>\n",
       "      <th>7</th>\n",
       "      <th>8</th>\n",
       "      <th>9</th>\n",
       "      <th>...</th>\n",
       "      <th>90</th>\n",
       "      <th>91</th>\n",
       "      <th>92</th>\n",
       "      <th>93</th>\n",
       "      <th>94</th>\n",
       "      <th>95</th>\n",
       "      <th>96</th>\n",
       "      <th>97</th>\n",
       "      <th>98</th>\n",
       "      <th>99</th>\n",
       "    </tr>\n",
       "  </thead>\n",
       "  <tbody>\n",
       "    <tr>\n",
       "      <th>0</th>\n",
       "      <td>3.244099e-18</td>\n",
       "      <td>5.002098e-16</td>\n",
       "      <td>-4.457886e-16</td>\n",
       "      <td>6.658491e-17</td>\n",
       "      <td>-1.545853e-16</td>\n",
       "      <td>3.294222e-17</td>\n",
       "      <td>2.311085e-16</td>\n",
       "      <td>1.069575e-16</td>\n",
       "      <td>-2.824137e-16</td>\n",
       "      <td>2.018216e-16</td>\n",
       "      <td>...</td>\n",
       "      <td>7.687332e-11</td>\n",
       "      <td>-1.698017e-12</td>\n",
       "      <td>-8.870799e-11</td>\n",
       "      <td>1.831589e-10</td>\n",
       "      <td>1.885177e-10</td>\n",
       "      <td>-3.696589e-11</td>\n",
       "      <td>-4.775839e-11</td>\n",
       "      <td>2.437969e-10</td>\n",
       "      <td>-1.990203e-11</td>\n",
       "      <td>-2.651616e-10</td>\n",
       "    </tr>\n",
       "    <tr>\n",
       "      <th>1</th>\n",
       "      <td>-4.953028e-19</td>\n",
       "      <td>-2.192581e-17</td>\n",
       "      <td>5.621178e-16</td>\n",
       "      <td>2.816886e-16</td>\n",
       "      <td>1.691030e-16</td>\n",
       "      <td>-1.770308e-16</td>\n",
       "      <td>3.400616e-16</td>\n",
       "      <td>4.222423e-16</td>\n",
       "      <td>3.102516e-16</td>\n",
       "      <td>3.313944e-16</td>\n",
       "      <td>...</td>\n",
       "      <td>-2.361826e-11</td>\n",
       "      <td>-1.120816e-10</td>\n",
       "      <td>-2.147974e-10</td>\n",
       "      <td>-1.144547e-10</td>\n",
       "      <td>-2.478293e-11</td>\n",
       "      <td>-1.626086e-10</td>\n",
       "      <td>1.158395e-10</td>\n",
       "      <td>1.439912e-10</td>\n",
       "      <td>3.432714e-10</td>\n",
       "      <td>1.950622e-10</td>\n",
       "    </tr>\n",
       "    <tr>\n",
       "      <th>2</th>\n",
       "      <td>8.960771e-02</td>\n",
       "      <td>-1.405828e-02</td>\n",
       "      <td>2.475761e-03</td>\n",
       "      <td>4.580336e-02</td>\n",
       "      <td>4.447926e-02</td>\n",
       "      <td>-1.498380e-01</td>\n",
       "      <td>2.759345e-01</td>\n",
       "      <td>-1.384235e-01</td>\n",
       "      <td>3.593741e-02</td>\n",
       "      <td>1.037741e-02</td>\n",
       "      <td>...</td>\n",
       "      <td>2.915759e-02</td>\n",
       "      <td>-2.290468e-02</td>\n",
       "      <td>-1.658892e-02</td>\n",
       "      <td>5.172492e-02</td>\n",
       "      <td>-4.077426e-02</td>\n",
       "      <td>-1.855155e-02</td>\n",
       "      <td>-8.563693e-03</td>\n",
       "      <td>-2.599511e-03</td>\n",
       "      <td>4.133276e-02</td>\n",
       "      <td>-2.471164e-02</td>\n",
       "    </tr>\n",
       "    <tr>\n",
       "      <th>3</th>\n",
       "      <td>6.466191e-04</td>\n",
       "      <td>-5.622576e-05</td>\n",
       "      <td>5.660933e-04</td>\n",
       "      <td>3.878918e-04</td>\n",
       "      <td>-1.076436e-03</td>\n",
       "      <td>-1.133230e-04</td>\n",
       "      <td>-1.631200e-05</td>\n",
       "      <td>1.182318e-03</td>\n",
       "      <td>-1.117980e-03</td>\n",
       "      <td>-3.322453e-04</td>\n",
       "      <td>...</td>\n",
       "      <td>-3.425334e-04</td>\n",
       "      <td>-3.787899e-04</td>\n",
       "      <td>-9.432342e-04</td>\n",
       "      <td>5.339709e-04</td>\n",
       "      <td>7.648546e-04</td>\n",
       "      <td>-3.079173e-04</td>\n",
       "      <td>-8.236508e-04</td>\n",
       "      <td>-8.361623e-04</td>\n",
       "      <td>7.122088e-04</td>\n",
       "      <td>-1.501697e-03</td>\n",
       "    </tr>\n",
       "    <tr>\n",
       "      <th>4</th>\n",
       "      <td>3.215295e-01</td>\n",
       "      <td>-1.571704e-01</td>\n",
       "      <td>-2.479688e-02</td>\n",
       "      <td>2.355597e-01</td>\n",
       "      <td>-1.058334e-01</td>\n",
       "      <td>-1.443873e-01</td>\n",
       "      <td>1.637380e-02</td>\n",
       "      <td>3.105456e-01</td>\n",
       "      <td>-2.675769e-01</td>\n",
       "      <td>-7.459103e-04</td>\n",
       "      <td>...</td>\n",
       "      <td>4.105037e-03</td>\n",
       "      <td>-3.981447e-03</td>\n",
       "      <td>2.993723e-03</td>\n",
       "      <td>7.497678e-03</td>\n",
       "      <td>1.900116e-03</td>\n",
       "      <td>9.347979e-03</td>\n",
       "      <td>-4.097772e-03</td>\n",
       "      <td>-2.921421e-03</td>\n",
       "      <td>9.536248e-04</td>\n",
       "      <td>5.492315e-03</td>\n",
       "    </tr>\n",
       "  </tbody>\n",
       "</table>\n",
       "<p>5 rows × 100 columns</p>\n",
       "</div>"
      ],
      "text/plain": [
       "             0             1             2             3             4   \\\n",
       "0  3.244099e-18  5.002098e-16 -4.457886e-16  6.658491e-17 -1.545853e-16   \n",
       "1 -4.953028e-19 -2.192581e-17  5.621178e-16  2.816886e-16  1.691030e-16   \n",
       "2  8.960771e-02 -1.405828e-02  2.475761e-03  4.580336e-02  4.447926e-02   \n",
       "3  6.466191e-04 -5.622576e-05  5.660933e-04  3.878918e-04 -1.076436e-03   \n",
       "4  3.215295e-01 -1.571704e-01 -2.479688e-02  2.355597e-01 -1.058334e-01   \n",
       "\n",
       "             5             6             7             8             9   ...  \\\n",
       "0  3.294222e-17  2.311085e-16  1.069575e-16 -2.824137e-16  2.018216e-16  ...   \n",
       "1 -1.770308e-16  3.400616e-16  4.222423e-16  3.102516e-16  3.313944e-16  ...   \n",
       "2 -1.498380e-01  2.759345e-01 -1.384235e-01  3.593741e-02  1.037741e-02  ...   \n",
       "3 -1.133230e-04 -1.631200e-05  1.182318e-03 -1.117980e-03 -3.322453e-04  ...   \n",
       "4 -1.443873e-01  1.637380e-02  3.105456e-01 -2.675769e-01 -7.459103e-04  ...   \n",
       "\n",
       "             90            91            92            93            94  \\\n",
       "0  7.687332e-11 -1.698017e-12 -8.870799e-11  1.831589e-10  1.885177e-10   \n",
       "1 -2.361826e-11 -1.120816e-10 -2.147974e-10 -1.144547e-10 -2.478293e-11   \n",
       "2  2.915759e-02 -2.290468e-02 -1.658892e-02  5.172492e-02 -4.077426e-02   \n",
       "3 -3.425334e-04 -3.787899e-04 -9.432342e-04  5.339709e-04  7.648546e-04   \n",
       "4  4.105037e-03 -3.981447e-03  2.993723e-03  7.497678e-03  1.900116e-03   \n",
       "\n",
       "             95            96            97            98            99  \n",
       "0 -3.696589e-11 -4.775839e-11  2.437969e-10 -1.990203e-11 -2.651616e-10  \n",
       "1 -1.626086e-10  1.158395e-10  1.439912e-10  3.432714e-10  1.950622e-10  \n",
       "2 -1.855155e-02 -8.563693e-03 -2.599511e-03  4.133276e-02 -2.471164e-02  \n",
       "3 -3.079173e-04 -8.236508e-04 -8.361623e-04  7.122088e-04 -1.501697e-03  \n",
       "4  9.347979e-03 -4.097772e-03 -2.921421e-03  9.536248e-04  5.492315e-03  \n",
       "\n",
       "[5 rows x 100 columns]"
      ]
     },
     "execution_count": 70,
     "metadata": {},
     "output_type": "execute_result"
    }
   ],
   "source": [
    "# Convert svdTFit array to df \n",
    "g_svdTFit = pd.DataFrame(g_svdTFit)\n",
    "g_svdTFit.head()"
   ]
  },
  {
   "cell_type": "code",
   "execution_count": 71,
   "metadata": {},
   "outputs": [
    {
     "data": {
      "text/plain": [
       "(13592, 100)"
      ]
     },
     "execution_count": 71,
     "metadata": {},
     "output_type": "execute_result"
    }
   ],
   "source": [
    "g_svdTFit.shape"
   ]
  },
  {
   "cell_type": "code",
   "execution_count": 72,
   "metadata": {},
   "outputs": [
    {
     "data": {
      "text/plain": [
       "(13592, 19)"
      ]
     },
     "execution_count": 72,
     "metadata": {},
     "output_type": "execute_result"
    }
   ],
   "source": [
    "gen.shape"
   ]
  },
  {
   "cell_type": "code",
   "execution_count": 80,
   "metadata": {},
   "outputs": [
    {
     "data": {
      "text/html": [
       "<div>\n",
       "<style scoped>\n",
       "    .dataframe tbody tr th:only-of-type {\n",
       "        vertical-align: middle;\n",
       "    }\n",
       "\n",
       "    .dataframe tbody tr th {\n",
       "        vertical-align: top;\n",
       "    }\n",
       "\n",
       "    .dataframe thead th {\n",
       "        text-align: right;\n",
       "    }\n",
       "</style>\n",
       "<table border=\"1\" class=\"dataframe\">\n",
       "  <thead>\n",
       "    <tr style=\"text-align: right;\">\n",
       "      <th></th>\n",
       "      <th>index</th>\n",
       "      <th>id</th>\n",
       "      <th>text</th>\n",
       "      <th>source</th>\n",
       "      <th>user_id</th>\n",
       "      <th>in_reply_to_status_id</th>\n",
       "      <th>in_reply_to_user_id</th>\n",
       "      <th>retweeted_status_id</th>\n",
       "      <th>retweet_count</th>\n",
       "      <th>reply_count</th>\n",
       "      <th>favorite_count</th>\n",
       "      <th>num_hashtags</th>\n",
       "      <th>num_urls</th>\n",
       "      <th>num_mentions</th>\n",
       "      <th>created_at</th>\n",
       "      <th>timestamp</th>\n",
       "      <th>crawled_at</th>\n",
       "      <th>updated</th>\n",
       "      <th>class</th>\n",
       "      <th>clean_tweets</th>\n",
       "    </tr>\n",
       "  </thead>\n",
       "  <tbody>\n",
       "    <tr>\n",
       "      <th>0</th>\n",
       "      <td>14134</td>\n",
       "      <td>516518898259476480</td>\n",
       "      <td>-Ma perché bevi il vino con la cannuccia?-. -P...</td>\n",
       "      <td>&lt;a href=\"http://www.gattara.it\" rel=\"nofollow\"...</td>\n",
       "      <td>466220361</td>\n",
       "      <td>0</td>\n",
       "      <td>0</td>\n",
       "      <td>0</td>\n",
       "      <td>0</td>\n",
       "      <td>0</td>\n",
       "      <td>0</td>\n",
       "      <td>0</td>\n",
       "      <td>0</td>\n",
       "      <td>0</td>\n",
       "      <td>2014-09-29 09:24:36+00:00</td>\n",
       "      <td>2014-09-29 11:24:36</td>\n",
       "      <td>2014-11-13 06:49:08</td>\n",
       "      <td>2014-11-13 06:49:08</td>\n",
       "      <td>1</td>\n",
       "      <td>ma perch bevi il vino con la cannuccia perch ...</td>\n",
       "    </tr>\n",
       "    <tr>\n",
       "      <th>1</th>\n",
       "      <td>14135</td>\n",
       "      <td>527555312761720834</td>\n",
       "      <td>Nessuno seduce nessuno. È solo chimica e affin...</td>\n",
       "      <td>&lt;a href=\"http://www.giovannamezzett.it\" rel=\"n...</td>\n",
       "      <td>465373507</td>\n",
       "      <td>0</td>\n",
       "      <td>0</td>\n",
       "      <td>0</td>\n",
       "      <td>0</td>\n",
       "      <td>0</td>\n",
       "      <td>0</td>\n",
       "      <td>0</td>\n",
       "      <td>0</td>\n",
       "      <td>0</td>\n",
       "      <td>2014-10-29 20:19:22+00:00</td>\n",
       "      <td>2014-10-29 21:19:22</td>\n",
       "      <td>2014-11-13 05:59:48</td>\n",
       "      <td>2014-11-13 05:59:48</td>\n",
       "      <td>1</td>\n",
       "      <td>nessuno seduce nessuno solo chimica e affinit ...</td>\n",
       "    </tr>\n",
       "    <tr>\n",
       "      <th>2</th>\n",
       "      <td>14136</td>\n",
       "      <td>529082863246114816</td>\n",
       "      <td>Check Out The Top 10 European Beers  http://t....</td>\n",
       "      <td>&lt;a href=\"http://tweetadder.com\" rel=\"nofollow\"...</td>\n",
       "      <td>331799847</td>\n",
       "      <td>0</td>\n",
       "      <td>0</td>\n",
       "      <td>0</td>\n",
       "      <td>0</td>\n",
       "      <td>0</td>\n",
       "      <td>0</td>\n",
       "      <td>0</td>\n",
       "      <td>1</td>\n",
       "      <td>0</td>\n",
       "      <td>2014-11-03 01:29:19+00:00</td>\n",
       "      <td>2014-11-03 02:29:19</td>\n",
       "      <td>2014-11-13 01:19:22</td>\n",
       "      <td>2014-11-13 01:19:22</td>\n",
       "      <td>1</td>\n",
       "      <td>check out the top european beers</td>\n",
       "    </tr>\n",
       "    <tr>\n",
       "      <th>3</th>\n",
       "      <td>14137</td>\n",
       "      <td>528705166892355584</td>\n",
       "      <td>A shoe without sex appeal is as barren as a tr...</td>\n",
       "      <td>&lt;a href=\"http://tweetadder.com\" rel=\"nofollow\"...</td>\n",
       "      <td>335401278</td>\n",
       "      <td>0</td>\n",
       "      <td>0</td>\n",
       "      <td>0</td>\n",
       "      <td>0</td>\n",
       "      <td>0</td>\n",
       "      <td>0</td>\n",
       "      <td>0</td>\n",
       "      <td>0</td>\n",
       "      <td>0</td>\n",
       "      <td>2014-11-02 00:28:29+00:00</td>\n",
       "      <td>2014-11-02 01:28:29</td>\n",
       "      <td>2014-11-13 01:49:12</td>\n",
       "      <td>2014-11-13 01:49:12</td>\n",
       "      <td>1</td>\n",
       "      <td>a shoe without sex appeal is as barren as a tr...</td>\n",
       "    </tr>\n",
       "    <tr>\n",
       "      <th>4</th>\n",
       "      <td>14138</td>\n",
       "      <td>515415202188525568</td>\n",
       "      <td>I grandi Dubbi!! Ma RIN TIN TIN... è un cane c...</td>\n",
       "      <td>&lt;a href=\"http://www.Bidlmensionale.com\" rel=\"n...</td>\n",
       "      <td>466465820</td>\n",
       "      <td>0</td>\n",
       "      <td>0</td>\n",
       "      <td>0</td>\n",
       "      <td>0</td>\n",
       "      <td>0</td>\n",
       "      <td>0</td>\n",
       "      <td>0</td>\n",
       "      <td>0</td>\n",
       "      <td>0</td>\n",
       "      <td>2014-09-26 08:18:54+00:00</td>\n",
       "      <td>2014-09-26 10:18:54</td>\n",
       "      <td>2014-11-13 08:17:51</td>\n",
       "      <td>2014-11-13 08:17:51</td>\n",
       "      <td>1</td>\n",
       "      <td>i grandi dubbi ma rin tin tin un cane che rimb...</td>\n",
       "    </tr>\n",
       "  </tbody>\n",
       "</table>\n",
       "</div>"
      ],
      "text/plain": [
       "   index                  id  \\\n",
       "0  14134  516518898259476480   \n",
       "1  14135  527555312761720834   \n",
       "2  14136  529082863246114816   \n",
       "3  14137  528705166892355584   \n",
       "4  14138  515415202188525568   \n",
       "\n",
       "                                                text  \\\n",
       "0  -Ma perché bevi il vino con la cannuccia?-. -P...   \n",
       "1  Nessuno seduce nessuno. È solo chimica e affin...   \n",
       "2  Check Out The Top 10 European Beers  http://t....   \n",
       "3  A shoe without sex appeal is as barren as a tr...   \n",
       "4  I grandi Dubbi!! Ma RIN TIN TIN... è un cane c...   \n",
       "\n",
       "                                              source    user_id  \\\n",
       "0  <a href=\"http://www.gattara.it\" rel=\"nofollow\"...  466220361   \n",
       "1  <a href=\"http://www.giovannamezzett.it\" rel=\"n...  465373507   \n",
       "2  <a href=\"http://tweetadder.com\" rel=\"nofollow\"...  331799847   \n",
       "3  <a href=\"http://tweetadder.com\" rel=\"nofollow\"...  335401278   \n",
       "4  <a href=\"http://www.Bidlmensionale.com\" rel=\"n...  466465820   \n",
       "\n",
       "   in_reply_to_status_id  in_reply_to_user_id  retweeted_status_id  \\\n",
       "0                      0                    0                    0   \n",
       "1                      0                    0                    0   \n",
       "2                      0                    0                    0   \n",
       "3                      0                    0                    0   \n",
       "4                      0                    0                    0   \n",
       "\n",
       "   retweet_count  reply_count  favorite_count  num_hashtags  num_urls  \\\n",
       "0              0            0               0             0         0   \n",
       "1              0            0               0             0         0   \n",
       "2              0            0               0             0         1   \n",
       "3              0            0               0             0         0   \n",
       "4              0            0               0             0         0   \n",
       "\n",
       "   num_mentions                created_at           timestamp  \\\n",
       "0             0 2014-09-29 09:24:36+00:00 2014-09-29 11:24:36   \n",
       "1             0 2014-10-29 20:19:22+00:00 2014-10-29 21:19:22   \n",
       "2             0 2014-11-03 01:29:19+00:00 2014-11-03 02:29:19   \n",
       "3             0 2014-11-02 00:28:29+00:00 2014-11-02 01:28:29   \n",
       "4             0 2014-09-26 08:18:54+00:00 2014-09-26 10:18:54   \n",
       "\n",
       "           crawled_at             updated  class  \\\n",
       "0 2014-11-13 06:49:08 2014-11-13 06:49:08      1   \n",
       "1 2014-11-13 05:59:48 2014-11-13 05:59:48      1   \n",
       "2 2014-11-13 01:19:22 2014-11-13 01:19:22      1   \n",
       "3 2014-11-13 01:49:12 2014-11-13 01:49:12      1   \n",
       "4 2014-11-13 08:17:51 2014-11-13 08:17:51      1   \n",
       "\n",
       "                                        clean_tweets  \n",
       "0   ma perch bevi il vino con la cannuccia perch ...  \n",
       "1  nessuno seduce nessuno solo chimica e affinit ...  \n",
       "2                  check out the top european beers   \n",
       "3  a shoe without sex appeal is as barren as a tr...  \n",
       "4  i grandi dubbi ma rin tin tin un cane che rimb...  "
      ]
     },
     "execution_count": 80,
     "metadata": {},
     "output_type": "execute_result"
    }
   ],
   "source": [
    "bots.head()"
   ]
  },
  {
   "cell_type": "code",
   "execution_count": 81,
   "metadata": {},
   "outputs": [
    {
     "data": {
      "text/html": [
       "<div>\n",
       "<style scoped>\n",
       "    .dataframe tbody tr th:only-of-type {\n",
       "        vertical-align: middle;\n",
       "    }\n",
       "\n",
       "    .dataframe tbody tr th {\n",
       "        vertical-align: top;\n",
       "    }\n",
       "\n",
       "    .dataframe thead th {\n",
       "        text-align: right;\n",
       "    }\n",
       "</style>\n",
       "<table border=\"1\" class=\"dataframe\">\n",
       "  <thead>\n",
       "    <tr style=\"text-align: right;\">\n",
       "      <th></th>\n",
       "      <th>index</th>\n",
       "      <th>id</th>\n",
       "      <th>text</th>\n",
       "      <th>source</th>\n",
       "      <th>user_id</th>\n",
       "      <th>in_reply_to_status_id</th>\n",
       "      <th>in_reply_to_user_id</th>\n",
       "      <th>retweeted_status_id</th>\n",
       "      <th>retweet_count</th>\n",
       "      <th>reply_count</th>\n",
       "      <th>favorite_count</th>\n",
       "      <th>num_hashtags</th>\n",
       "      <th>num_urls</th>\n",
       "      <th>num_mentions</th>\n",
       "      <th>created_at</th>\n",
       "      <th>timestamp</th>\n",
       "      <th>crawled_at</th>\n",
       "      <th>updated</th>\n",
       "      <th>class</th>\n",
       "      <th>clean_tweets</th>\n",
       "    </tr>\n",
       "  </thead>\n",
       "  <tbody>\n",
       "    <tr>\n",
       "      <th>0</th>\n",
       "      <td>0</td>\n",
       "      <td>533690430203125760</td>\n",
       "      <td>#followmekarisma !!❤❤</td>\n",
       "      <td>&lt;a href=\"http://twitter.com/download/android\" ...</td>\n",
       "      <td>2294724187</td>\n",
       "      <td>0</td>\n",
       "      <td>0</td>\n",
       "      <td>0</td>\n",
       "      <td>0</td>\n",
       "      <td>0</td>\n",
       "      <td>0</td>\n",
       "      <td>1</td>\n",
       "      <td>0</td>\n",
       "      <td>0</td>\n",
       "      <td>2014-11-15 18:38:08+00:00</td>\n",
       "      <td>2014-11-15 19:38:08</td>\n",
       "      <td>2015-05-01 15:58:18</td>\n",
       "      <td>2015-05-01 15:58:18</td>\n",
       "      <td>0</td>\n",
       "      <td>followmekarisma</td>\n",
       "    </tr>\n",
       "    <tr>\n",
       "      <th>1</th>\n",
       "      <td>1</td>\n",
       "      <td>594118079258341377</td>\n",
       "      <td>Shiiitt</td>\n",
       "      <td>&lt;a href=\"http://twitter.com/download/iphone\" r...</td>\n",
       "      <td>2248762537</td>\n",
       "      <td>0</td>\n",
       "      <td>0</td>\n",
       "      <td>0</td>\n",
       "      <td>1</td>\n",
       "      <td>0</td>\n",
       "      <td>0</td>\n",
       "      <td>0</td>\n",
       "      <td>1</td>\n",
       "      <td>0</td>\n",
       "      <td>2015-05-01 12:36:02+00:00</td>\n",
       "      <td>2015-05-01 14:36:02</td>\n",
       "      <td>2015-05-01 14:41:13</td>\n",
       "      <td>2015-05-01 14:41:13</td>\n",
       "      <td>0</td>\n",
       "      <td>shiiitt</td>\n",
       "    </tr>\n",
       "    <tr>\n",
       "      <th>2</th>\n",
       "      <td>2</td>\n",
       "      <td>339517095786205185</td>\n",
       "      <td>In AK: no electricity, no phone, no wine. 1 lu...</td>\n",
       "      <td>&lt;a href=\"http://twitter.com\" rel=\"nofollow\"&gt;Tw...</td>\n",
       "      <td>16944013</td>\n",
       "      <td>0</td>\n",
       "      <td>0</td>\n",
       "      <td>0</td>\n",
       "      <td>0</td>\n",
       "      <td>0</td>\n",
       "      <td>0</td>\n",
       "      <td>1</td>\n",
       "      <td>0</td>\n",
       "      <td>0</td>\n",
       "      <td>2013-05-28 23:02:38+00:00</td>\n",
       "      <td>2013-05-29 01:02:38</td>\n",
       "      <td>2015-05-01 13:37:22</td>\n",
       "      <td>2015-05-01 13:37:22</td>\n",
       "      <td>0</td>\n",
       "      <td>in ak no electricity no phone no wine lusty al...</td>\n",
       "    </tr>\n",
       "    <tr>\n",
       "      <th>3</th>\n",
       "      <td>3</td>\n",
       "      <td>587177638231314432</td>\n",
       "      <td>Wifi</td>\n",
       "      <td>&lt;a href=\"http://twitter.com/download/iphone\" r...</td>\n",
       "      <td>593012958</td>\n",
       "      <td>0</td>\n",
       "      <td>0</td>\n",
       "      <td>0</td>\n",
       "      <td>0</td>\n",
       "      <td>0</td>\n",
       "      <td>0</td>\n",
       "      <td>0</td>\n",
       "      <td>0</td>\n",
       "      <td>0</td>\n",
       "      <td>2015-04-12 08:57:12+00:00</td>\n",
       "      <td>2015-04-12 10:57:12</td>\n",
       "      <td>2015-05-01 15:52:54</td>\n",
       "      <td>2015-05-01 15:52:54</td>\n",
       "      <td>0</td>\n",
       "      <td>wifi</td>\n",
       "    </tr>\n",
       "    <tr>\n",
       "      <th>4</th>\n",
       "      <td>4</td>\n",
       "      <td>540637966448984064</td>\n",
       "      <td>Pizza favourited 1 of my tweets. Pizza is my f...</td>\n",
       "      <td>&lt;a href=\"http://twitter.com/download/android\" ...</td>\n",
       "      <td>554242271</td>\n",
       "      <td>0</td>\n",
       "      <td>0</td>\n",
       "      <td>0</td>\n",
       "      <td>0</td>\n",
       "      <td>0</td>\n",
       "      <td>0</td>\n",
       "      <td>0</td>\n",
       "      <td>0</td>\n",
       "      <td>0</td>\n",
       "      <td>2014-12-04 22:45:10+00:00</td>\n",
       "      <td>2014-12-04 23:45:10</td>\n",
       "      <td>2015-05-01 13:58:40</td>\n",
       "      <td>2015-05-01 13:58:40</td>\n",
       "      <td>0</td>\n",
       "      <td>pizza favourited of my tweets pizza is my favo...</td>\n",
       "    </tr>\n",
       "  </tbody>\n",
       "</table>\n",
       "</div>"
      ],
      "text/plain": [
       "   index                  id  \\\n",
       "0      0  533690430203125760   \n",
       "1      1  594118079258341377   \n",
       "2      2  339517095786205185   \n",
       "3      3  587177638231314432   \n",
       "4      4  540637966448984064   \n",
       "\n",
       "                                                text  \\\n",
       "0                              #followmekarisma !!❤❤   \n",
       "1                                            Shiiitt   \n",
       "2  In AK: no electricity, no phone, no wine. 1 lu...   \n",
       "3                                              Wifi    \n",
       "4  Pizza favourited 1 of my tweets. Pizza is my f...   \n",
       "\n",
       "                                              source     user_id  \\\n",
       "0  <a href=\"http://twitter.com/download/android\" ...  2294724187   \n",
       "1  <a href=\"http://twitter.com/download/iphone\" r...  2248762537   \n",
       "2  <a href=\"http://twitter.com\" rel=\"nofollow\">Tw...    16944013   \n",
       "3  <a href=\"http://twitter.com/download/iphone\" r...   593012958   \n",
       "4  <a href=\"http://twitter.com/download/android\" ...   554242271   \n",
       "\n",
       "   in_reply_to_status_id  in_reply_to_user_id  retweeted_status_id  \\\n",
       "0                      0                    0                    0   \n",
       "1                      0                    0                    0   \n",
       "2                      0                    0                    0   \n",
       "3                      0                    0                    0   \n",
       "4                      0                    0                    0   \n",
       "\n",
       "   retweet_count  reply_count  favorite_count  num_hashtags  num_urls  \\\n",
       "0              0            0               0             1         0   \n",
       "1              1            0               0             0         1   \n",
       "2              0            0               0             1         0   \n",
       "3              0            0               0             0         0   \n",
       "4              0            0               0             0         0   \n",
       "\n",
       "   num_mentions                created_at           timestamp  \\\n",
       "0             0 2014-11-15 18:38:08+00:00 2014-11-15 19:38:08   \n",
       "1             0 2015-05-01 12:36:02+00:00 2015-05-01 14:36:02   \n",
       "2             0 2013-05-28 23:02:38+00:00 2013-05-29 01:02:38   \n",
       "3             0 2015-04-12 08:57:12+00:00 2015-04-12 10:57:12   \n",
       "4             0 2014-12-04 22:45:10+00:00 2014-12-04 23:45:10   \n",
       "\n",
       "           crawled_at             updated  class  \\\n",
       "0 2015-05-01 15:58:18 2015-05-01 15:58:18      0   \n",
       "1 2015-05-01 14:41:13 2015-05-01 14:41:13      0   \n",
       "2 2015-05-01 13:37:22 2015-05-01 13:37:22      0   \n",
       "3 2015-05-01 15:52:54 2015-05-01 15:52:54      0   \n",
       "4 2015-05-01 13:58:40 2015-05-01 13:58:40      0   \n",
       "\n",
       "                                        clean_tweets  \n",
       "0                                   followmekarisma   \n",
       "1                                            shiiitt  \n",
       "2  in ak no electricity no phone no wine lusty al...  \n",
       "3                                              wifi   \n",
       "4  pizza favourited of my tweets pizza is my favo...  "
      ]
     },
     "execution_count": 81,
     "metadata": {},
     "output_type": "execute_result"
    }
   ],
   "source": [
    "gen.head()"
   ]
  },
  {
   "cell_type": "code",
   "execution_count": 79,
   "metadata": {},
   "outputs": [],
   "source": [
    "# Reset index to start at 0\n",
    "bots = bots.reset_index()\n",
    "gen = gen.reset_index()"
   ]
  },
  {
   "cell_type": "code",
   "execution_count": 82,
   "metadata": {},
   "outputs": [
    {
     "data": {
      "text/html": [
       "<div>\n",
       "<style scoped>\n",
       "    .dataframe tbody tr th:only-of-type {\n",
       "        vertical-align: middle;\n",
       "    }\n",
       "\n",
       "    .dataframe tbody tr th {\n",
       "        vertical-align: top;\n",
       "    }\n",
       "\n",
       "    .dataframe thead th {\n",
       "        text-align: right;\n",
       "    }\n",
       "</style>\n",
       "<table border=\"1\" class=\"dataframe\">\n",
       "  <thead>\n",
       "    <tr style=\"text-align: right;\">\n",
       "      <th></th>\n",
       "      <th>index</th>\n",
       "      <th>id</th>\n",
       "      <th>text</th>\n",
       "      <th>source</th>\n",
       "      <th>user_id</th>\n",
       "      <th>in_reply_to_status_id</th>\n",
       "      <th>in_reply_to_user_id</th>\n",
       "      <th>retweeted_status_id</th>\n",
       "      <th>retweet_count</th>\n",
       "      <th>reply_count</th>\n",
       "      <th>...</th>\n",
       "      <th>90</th>\n",
       "      <th>91</th>\n",
       "      <th>92</th>\n",
       "      <th>93</th>\n",
       "      <th>94</th>\n",
       "      <th>95</th>\n",
       "      <th>96</th>\n",
       "      <th>97</th>\n",
       "      <th>98</th>\n",
       "      <th>99</th>\n",
       "    </tr>\n",
       "  </thead>\n",
       "  <tbody>\n",
       "    <tr>\n",
       "      <th>0</th>\n",
       "      <td>14134</td>\n",
       "      <td>516518898259476480</td>\n",
       "      <td>-Ma perché bevi il vino con la cannuccia?-. -P...</td>\n",
       "      <td>&lt;a href=\"http://www.gattara.it\" rel=\"nofollow\"...</td>\n",
       "      <td>466220361</td>\n",
       "      <td>0</td>\n",
       "      <td>0</td>\n",
       "      <td>0</td>\n",
       "      <td>0</td>\n",
       "      <td>0</td>\n",
       "      <td>...</td>\n",
       "      <td>-0.049246</td>\n",
       "      <td>0.010268</td>\n",
       "      <td>-0.031131</td>\n",
       "      <td>-0.025750</td>\n",
       "      <td>0.013752</td>\n",
       "      <td>0.016295</td>\n",
       "      <td>0.011424</td>\n",
       "      <td>-0.039385</td>\n",
       "      <td>-0.000120</td>\n",
       "      <td>-0.005444</td>\n",
       "    </tr>\n",
       "    <tr>\n",
       "      <th>1</th>\n",
       "      <td>14135</td>\n",
       "      <td>527555312761720834</td>\n",
       "      <td>Nessuno seduce nessuno. È solo chimica e affin...</td>\n",
       "      <td>&lt;a href=\"http://www.giovannamezzett.it\" rel=\"n...</td>\n",
       "      <td>465373507</td>\n",
       "      <td>0</td>\n",
       "      <td>0</td>\n",
       "      <td>0</td>\n",
       "      <td>0</td>\n",
       "      <td>0</td>\n",
       "      <td>...</td>\n",
       "      <td>-0.012502</td>\n",
       "      <td>-0.038892</td>\n",
       "      <td>0.007206</td>\n",
       "      <td>0.020930</td>\n",
       "      <td>0.034559</td>\n",
       "      <td>0.034873</td>\n",
       "      <td>0.019485</td>\n",
       "      <td>0.036693</td>\n",
       "      <td>-0.037214</td>\n",
       "      <td>0.018378</td>\n",
       "    </tr>\n",
       "    <tr>\n",
       "      <th>2</th>\n",
       "      <td>14136</td>\n",
       "      <td>529082863246114816</td>\n",
       "      <td>Check Out The Top 10 European Beers  http://t....</td>\n",
       "      <td>&lt;a href=\"http://tweetadder.com\" rel=\"nofollow\"...</td>\n",
       "      <td>331799847</td>\n",
       "      <td>0</td>\n",
       "      <td>0</td>\n",
       "      <td>0</td>\n",
       "      <td>0</td>\n",
       "      <td>0</td>\n",
       "      <td>...</td>\n",
       "      <td>0.010994</td>\n",
       "      <td>-0.034613</td>\n",
       "      <td>0.002693</td>\n",
       "      <td>-0.001133</td>\n",
       "      <td>-0.020398</td>\n",
       "      <td>0.015313</td>\n",
       "      <td>0.004292</td>\n",
       "      <td>-0.023899</td>\n",
       "      <td>-0.013137</td>\n",
       "      <td>0.052948</td>\n",
       "    </tr>\n",
       "    <tr>\n",
       "      <th>3</th>\n",
       "      <td>14137</td>\n",
       "      <td>528705166892355584</td>\n",
       "      <td>A shoe without sex appeal is as barren as a tr...</td>\n",
       "      <td>&lt;a href=\"http://tweetadder.com\" rel=\"nofollow\"...</td>\n",
       "      <td>335401278</td>\n",
       "      <td>0</td>\n",
       "      <td>0</td>\n",
       "      <td>0</td>\n",
       "      <td>0</td>\n",
       "      <td>0</td>\n",
       "      <td>...</td>\n",
       "      <td>0.040209</td>\n",
       "      <td>-0.045646</td>\n",
       "      <td>-0.034932</td>\n",
       "      <td>0.001195</td>\n",
       "      <td>0.041804</td>\n",
       "      <td>-0.009388</td>\n",
       "      <td>-0.010135</td>\n",
       "      <td>0.011558</td>\n",
       "      <td>0.031049</td>\n",
       "      <td>0.018301</td>\n",
       "    </tr>\n",
       "    <tr>\n",
       "      <th>4</th>\n",
       "      <td>14138</td>\n",
       "      <td>515415202188525568</td>\n",
       "      <td>I grandi Dubbi!! Ma RIN TIN TIN... è un cane c...</td>\n",
       "      <td>&lt;a href=\"http://www.Bidlmensionale.com\" rel=\"n...</td>\n",
       "      <td>466465820</td>\n",
       "      <td>0</td>\n",
       "      <td>0</td>\n",
       "      <td>0</td>\n",
       "      <td>0</td>\n",
       "      <td>0</td>\n",
       "      <td>...</td>\n",
       "      <td>-0.046760</td>\n",
       "      <td>-0.004779</td>\n",
       "      <td>-0.028410</td>\n",
       "      <td>-0.001640</td>\n",
       "      <td>0.006408</td>\n",
       "      <td>-0.014990</td>\n",
       "      <td>-0.006369</td>\n",
       "      <td>-0.062993</td>\n",
       "      <td>0.017049</td>\n",
       "      <td>0.030631</td>\n",
       "    </tr>\n",
       "  </tbody>\n",
       "</table>\n",
       "<p>5 rows × 120 columns</p>\n",
       "</div>"
      ],
      "text/plain": [
       "   index                  id  \\\n",
       "0  14134  516518898259476480   \n",
       "1  14135  527555312761720834   \n",
       "2  14136  529082863246114816   \n",
       "3  14137  528705166892355584   \n",
       "4  14138  515415202188525568   \n",
       "\n",
       "                                                text  \\\n",
       "0  -Ma perché bevi il vino con la cannuccia?-. -P...   \n",
       "1  Nessuno seduce nessuno. È solo chimica e affin...   \n",
       "2  Check Out The Top 10 European Beers  http://t....   \n",
       "3  A shoe without sex appeal is as barren as a tr...   \n",
       "4  I grandi Dubbi!! Ma RIN TIN TIN... è un cane c...   \n",
       "\n",
       "                                              source    user_id  \\\n",
       "0  <a href=\"http://www.gattara.it\" rel=\"nofollow\"...  466220361   \n",
       "1  <a href=\"http://www.giovannamezzett.it\" rel=\"n...  465373507   \n",
       "2  <a href=\"http://tweetadder.com\" rel=\"nofollow\"...  331799847   \n",
       "3  <a href=\"http://tweetadder.com\" rel=\"nofollow\"...  335401278   \n",
       "4  <a href=\"http://www.Bidlmensionale.com\" rel=\"n...  466465820   \n",
       "\n",
       "   in_reply_to_status_id  in_reply_to_user_id  retweeted_status_id  \\\n",
       "0                      0                    0                    0   \n",
       "1                      0                    0                    0   \n",
       "2                      0                    0                    0   \n",
       "3                      0                    0                    0   \n",
       "4                      0                    0                    0   \n",
       "\n",
       "   retweet_count  reply_count  ...        90        91        92        93  \\\n",
       "0              0            0  ... -0.049246  0.010268 -0.031131 -0.025750   \n",
       "1              0            0  ... -0.012502 -0.038892  0.007206  0.020930   \n",
       "2              0            0  ...  0.010994 -0.034613  0.002693 -0.001133   \n",
       "3              0            0  ...  0.040209 -0.045646 -0.034932  0.001195   \n",
       "4              0            0  ... -0.046760 -0.004779 -0.028410 -0.001640   \n",
       "\n",
       "         94        95        96        97        98        99  \n",
       "0  0.013752  0.016295  0.011424 -0.039385 -0.000120 -0.005444  \n",
       "1  0.034559  0.034873  0.019485  0.036693 -0.037214  0.018378  \n",
       "2 -0.020398  0.015313  0.004292 -0.023899 -0.013137  0.052948  \n",
       "3  0.041804 -0.009388 -0.010135  0.011558  0.031049  0.018301  \n",
       "4  0.006408 -0.014990 -0.006369 -0.062993  0.017049  0.030631  \n",
       "\n",
       "[5 rows x 120 columns]"
      ]
     },
     "execution_count": 82,
     "metadata": {},
     "output_type": "execute_result"
    }
   ],
   "source": [
    "# Place the DataFrames side by side\n",
    "bots_tfid = pd.concat([bots, b_svdTFit], axis=1)\n",
    "bots_tfid.head()"
   ]
  },
  {
   "cell_type": "code",
   "execution_count": 87,
   "metadata": {},
   "outputs": [
    {
     "data": {
      "text/plain": [
       "(16990, 120)"
      ]
     },
     "execution_count": 87,
     "metadata": {},
     "output_type": "execute_result"
    }
   ],
   "source": [
    "bots_tfid.shape"
   ]
  },
  {
   "cell_type": "code",
   "execution_count": 84,
   "metadata": {},
   "outputs": [
    {
     "data": {
      "text/html": [
       "<div>\n",
       "<style scoped>\n",
       "    .dataframe tbody tr th:only-of-type {\n",
       "        vertical-align: middle;\n",
       "    }\n",
       "\n",
       "    .dataframe tbody tr th {\n",
       "        vertical-align: top;\n",
       "    }\n",
       "\n",
       "    .dataframe thead th {\n",
       "        text-align: right;\n",
       "    }\n",
       "</style>\n",
       "<table border=\"1\" class=\"dataframe\">\n",
       "  <thead>\n",
       "    <tr style=\"text-align: right;\">\n",
       "      <th></th>\n",
       "      <th>index</th>\n",
       "      <th>id</th>\n",
       "      <th>text</th>\n",
       "      <th>source</th>\n",
       "      <th>user_id</th>\n",
       "      <th>in_reply_to_status_id</th>\n",
       "      <th>in_reply_to_user_id</th>\n",
       "      <th>retweeted_status_id</th>\n",
       "      <th>retweet_count</th>\n",
       "      <th>reply_count</th>\n",
       "      <th>...</th>\n",
       "      <th>90</th>\n",
       "      <th>91</th>\n",
       "      <th>92</th>\n",
       "      <th>93</th>\n",
       "      <th>94</th>\n",
       "      <th>95</th>\n",
       "      <th>96</th>\n",
       "      <th>97</th>\n",
       "      <th>98</th>\n",
       "      <th>99</th>\n",
       "    </tr>\n",
       "  </thead>\n",
       "  <tbody>\n",
       "    <tr>\n",
       "      <th>0</th>\n",
       "      <td>0</td>\n",
       "      <td>533690430203125760</td>\n",
       "      <td>#followmekarisma !!❤❤</td>\n",
       "      <td>&lt;a href=\"http://twitter.com/download/android\" ...</td>\n",
       "      <td>2294724187</td>\n",
       "      <td>0</td>\n",
       "      <td>0</td>\n",
       "      <td>0</td>\n",
       "      <td>0</td>\n",
       "      <td>0</td>\n",
       "      <td>...</td>\n",
       "      <td>7.687332e-11</td>\n",
       "      <td>-1.698017e-12</td>\n",
       "      <td>-8.870799e-11</td>\n",
       "      <td>1.831589e-10</td>\n",
       "      <td>1.885177e-10</td>\n",
       "      <td>-3.696589e-11</td>\n",
       "      <td>-4.775839e-11</td>\n",
       "      <td>2.437969e-10</td>\n",
       "      <td>-1.990203e-11</td>\n",
       "      <td>-2.651616e-10</td>\n",
       "    </tr>\n",
       "    <tr>\n",
       "      <th>1</th>\n",
       "      <td>1</td>\n",
       "      <td>594118079258341377</td>\n",
       "      <td>Shiiitt</td>\n",
       "      <td>&lt;a href=\"http://twitter.com/download/iphone\" r...</td>\n",
       "      <td>2248762537</td>\n",
       "      <td>0</td>\n",
       "      <td>0</td>\n",
       "      <td>0</td>\n",
       "      <td>1</td>\n",
       "      <td>0</td>\n",
       "      <td>...</td>\n",
       "      <td>-2.361826e-11</td>\n",
       "      <td>-1.120816e-10</td>\n",
       "      <td>-2.147974e-10</td>\n",
       "      <td>-1.144547e-10</td>\n",
       "      <td>-2.478293e-11</td>\n",
       "      <td>-1.626086e-10</td>\n",
       "      <td>1.158395e-10</td>\n",
       "      <td>1.439912e-10</td>\n",
       "      <td>3.432714e-10</td>\n",
       "      <td>1.950622e-10</td>\n",
       "    </tr>\n",
       "    <tr>\n",
       "      <th>2</th>\n",
       "      <td>2</td>\n",
       "      <td>339517095786205185</td>\n",
       "      <td>In AK: no electricity, no phone, no wine. 1 lu...</td>\n",
       "      <td>&lt;a href=\"http://twitter.com\" rel=\"nofollow\"&gt;Tw...</td>\n",
       "      <td>16944013</td>\n",
       "      <td>0</td>\n",
       "      <td>0</td>\n",
       "      <td>0</td>\n",
       "      <td>0</td>\n",
       "      <td>0</td>\n",
       "      <td>...</td>\n",
       "      <td>2.915759e-02</td>\n",
       "      <td>-2.290468e-02</td>\n",
       "      <td>-1.658892e-02</td>\n",
       "      <td>5.172492e-02</td>\n",
       "      <td>-4.077426e-02</td>\n",
       "      <td>-1.855155e-02</td>\n",
       "      <td>-8.563693e-03</td>\n",
       "      <td>-2.599511e-03</td>\n",
       "      <td>4.133276e-02</td>\n",
       "      <td>-2.471164e-02</td>\n",
       "    </tr>\n",
       "    <tr>\n",
       "      <th>3</th>\n",
       "      <td>3</td>\n",
       "      <td>587177638231314432</td>\n",
       "      <td>Wifi</td>\n",
       "      <td>&lt;a href=\"http://twitter.com/download/iphone\" r...</td>\n",
       "      <td>593012958</td>\n",
       "      <td>0</td>\n",
       "      <td>0</td>\n",
       "      <td>0</td>\n",
       "      <td>0</td>\n",
       "      <td>0</td>\n",
       "      <td>...</td>\n",
       "      <td>-3.425334e-04</td>\n",
       "      <td>-3.787899e-04</td>\n",
       "      <td>-9.432342e-04</td>\n",
       "      <td>5.339709e-04</td>\n",
       "      <td>7.648546e-04</td>\n",
       "      <td>-3.079173e-04</td>\n",
       "      <td>-8.236508e-04</td>\n",
       "      <td>-8.361623e-04</td>\n",
       "      <td>7.122088e-04</td>\n",
       "      <td>-1.501697e-03</td>\n",
       "    </tr>\n",
       "    <tr>\n",
       "      <th>4</th>\n",
       "      <td>4</td>\n",
       "      <td>540637966448984064</td>\n",
       "      <td>Pizza favourited 1 of my tweets. Pizza is my f...</td>\n",
       "      <td>&lt;a href=\"http://twitter.com/download/android\" ...</td>\n",
       "      <td>554242271</td>\n",
       "      <td>0</td>\n",
       "      <td>0</td>\n",
       "      <td>0</td>\n",
       "      <td>0</td>\n",
       "      <td>0</td>\n",
       "      <td>...</td>\n",
       "      <td>4.105037e-03</td>\n",
       "      <td>-3.981447e-03</td>\n",
       "      <td>2.993723e-03</td>\n",
       "      <td>7.497678e-03</td>\n",
       "      <td>1.900116e-03</td>\n",
       "      <td>9.347979e-03</td>\n",
       "      <td>-4.097772e-03</td>\n",
       "      <td>-2.921421e-03</td>\n",
       "      <td>9.536248e-04</td>\n",
       "      <td>5.492315e-03</td>\n",
       "    </tr>\n",
       "  </tbody>\n",
       "</table>\n",
       "<p>5 rows × 120 columns</p>\n",
       "</div>"
      ],
      "text/plain": [
       "   index                  id  \\\n",
       "0      0  533690430203125760   \n",
       "1      1  594118079258341377   \n",
       "2      2  339517095786205185   \n",
       "3      3  587177638231314432   \n",
       "4      4  540637966448984064   \n",
       "\n",
       "                                                text  \\\n",
       "0                              #followmekarisma !!❤❤   \n",
       "1                                            Shiiitt   \n",
       "2  In AK: no electricity, no phone, no wine. 1 lu...   \n",
       "3                                              Wifi    \n",
       "4  Pizza favourited 1 of my tweets. Pizza is my f...   \n",
       "\n",
       "                                              source     user_id  \\\n",
       "0  <a href=\"http://twitter.com/download/android\" ...  2294724187   \n",
       "1  <a href=\"http://twitter.com/download/iphone\" r...  2248762537   \n",
       "2  <a href=\"http://twitter.com\" rel=\"nofollow\">Tw...    16944013   \n",
       "3  <a href=\"http://twitter.com/download/iphone\" r...   593012958   \n",
       "4  <a href=\"http://twitter.com/download/android\" ...   554242271   \n",
       "\n",
       "   in_reply_to_status_id  in_reply_to_user_id  retweeted_status_id  \\\n",
       "0                      0                    0                    0   \n",
       "1                      0                    0                    0   \n",
       "2                      0                    0                    0   \n",
       "3                      0                    0                    0   \n",
       "4                      0                    0                    0   \n",
       "\n",
       "   retweet_count  reply_count  ...            90            91            92  \\\n",
       "0              0            0  ...  7.687332e-11 -1.698017e-12 -8.870799e-11   \n",
       "1              1            0  ... -2.361826e-11 -1.120816e-10 -2.147974e-10   \n",
       "2              0            0  ...  2.915759e-02 -2.290468e-02 -1.658892e-02   \n",
       "3              0            0  ... -3.425334e-04 -3.787899e-04 -9.432342e-04   \n",
       "4              0            0  ...  4.105037e-03 -3.981447e-03  2.993723e-03   \n",
       "\n",
       "             93            94            95            96            97  \\\n",
       "0  1.831589e-10  1.885177e-10 -3.696589e-11 -4.775839e-11  2.437969e-10   \n",
       "1 -1.144547e-10 -2.478293e-11 -1.626086e-10  1.158395e-10  1.439912e-10   \n",
       "2  5.172492e-02 -4.077426e-02 -1.855155e-02 -8.563693e-03 -2.599511e-03   \n",
       "3  5.339709e-04  7.648546e-04 -3.079173e-04 -8.236508e-04 -8.361623e-04   \n",
       "4  7.497678e-03  1.900116e-03  9.347979e-03 -4.097772e-03 -2.921421e-03   \n",
       "\n",
       "             98            99  \n",
       "0 -1.990203e-11 -2.651616e-10  \n",
       "1  3.432714e-10  1.950622e-10  \n",
       "2  4.133276e-02 -2.471164e-02  \n",
       "3  7.122088e-04 -1.501697e-03  \n",
       "4  9.536248e-04  5.492315e-03  \n",
       "\n",
       "[5 rows x 120 columns]"
      ]
     },
     "execution_count": 84,
     "metadata": {},
     "output_type": "execute_result"
    }
   ],
   "source": [
    "# Join Tfid with class df \n",
    "gen_tfid = pd.concat([gen, g_svdTFit], axis =1)\n",
    "gen_tfid.head()"
   ]
  },
  {
   "cell_type": "code",
   "execution_count": 85,
   "metadata": {},
   "outputs": [
    {
     "data": {
      "text/plain": [
       "(13592, 120)"
      ]
     },
     "execution_count": 85,
     "metadata": {},
     "output_type": "execute_result"
    }
   ],
   "source": [
    "gen_tfid.shape"
   ]
  },
  {
   "cell_type": "code",
   "execution_count": 88,
   "metadata": {},
   "outputs": [
    {
     "data": {
      "text/html": [
       "<div>\n",
       "<style scoped>\n",
       "    .dataframe tbody tr th:only-of-type {\n",
       "        vertical-align: middle;\n",
       "    }\n",
       "\n",
       "    .dataframe tbody tr th {\n",
       "        vertical-align: top;\n",
       "    }\n",
       "\n",
       "    .dataframe thead th {\n",
       "        text-align: right;\n",
       "    }\n",
       "</style>\n",
       "<table border=\"1\" class=\"dataframe\">\n",
       "  <thead>\n",
       "    <tr style=\"text-align: right;\">\n",
       "      <th></th>\n",
       "      <th>index</th>\n",
       "      <th>id</th>\n",
       "      <th>text</th>\n",
       "      <th>source</th>\n",
       "      <th>user_id</th>\n",
       "      <th>in_reply_to_status_id</th>\n",
       "      <th>in_reply_to_user_id</th>\n",
       "      <th>retweeted_status_id</th>\n",
       "      <th>retweet_count</th>\n",
       "      <th>reply_count</th>\n",
       "      <th>...</th>\n",
       "      <th>90</th>\n",
       "      <th>91</th>\n",
       "      <th>92</th>\n",
       "      <th>93</th>\n",
       "      <th>94</th>\n",
       "      <th>95</th>\n",
       "      <th>96</th>\n",
       "      <th>97</th>\n",
       "      <th>98</th>\n",
       "      <th>99</th>\n",
       "    </tr>\n",
       "  </thead>\n",
       "  <tbody>\n",
       "    <tr>\n",
       "      <th>0</th>\n",
       "      <td>14134</td>\n",
       "      <td>516518898259476480</td>\n",
       "      <td>-Ma perché bevi il vino con la cannuccia?-. -P...</td>\n",
       "      <td>&lt;a href=\"http://www.gattara.it\" rel=\"nofollow\"...</td>\n",
       "      <td>466220361</td>\n",
       "      <td>0</td>\n",
       "      <td>0</td>\n",
       "      <td>0</td>\n",
       "      <td>0</td>\n",
       "      <td>0</td>\n",
       "      <td>...</td>\n",
       "      <td>-0.049246</td>\n",
       "      <td>0.010268</td>\n",
       "      <td>-0.031131</td>\n",
       "      <td>-0.025750</td>\n",
       "      <td>0.013752</td>\n",
       "      <td>0.016295</td>\n",
       "      <td>0.011424</td>\n",
       "      <td>-0.039385</td>\n",
       "      <td>-0.000120</td>\n",
       "      <td>-0.005444</td>\n",
       "    </tr>\n",
       "    <tr>\n",
       "      <th>1</th>\n",
       "      <td>14135</td>\n",
       "      <td>527555312761720834</td>\n",
       "      <td>Nessuno seduce nessuno. È solo chimica e affin...</td>\n",
       "      <td>&lt;a href=\"http://www.giovannamezzett.it\" rel=\"n...</td>\n",
       "      <td>465373507</td>\n",
       "      <td>0</td>\n",
       "      <td>0</td>\n",
       "      <td>0</td>\n",
       "      <td>0</td>\n",
       "      <td>0</td>\n",
       "      <td>...</td>\n",
       "      <td>-0.012502</td>\n",
       "      <td>-0.038892</td>\n",
       "      <td>0.007206</td>\n",
       "      <td>0.020930</td>\n",
       "      <td>0.034559</td>\n",
       "      <td>0.034873</td>\n",
       "      <td>0.019485</td>\n",
       "      <td>0.036693</td>\n",
       "      <td>-0.037214</td>\n",
       "      <td>0.018378</td>\n",
       "    </tr>\n",
       "    <tr>\n",
       "      <th>2</th>\n",
       "      <td>14136</td>\n",
       "      <td>529082863246114816</td>\n",
       "      <td>Check Out The Top 10 European Beers  http://t....</td>\n",
       "      <td>&lt;a href=\"http://tweetadder.com\" rel=\"nofollow\"...</td>\n",
       "      <td>331799847</td>\n",
       "      <td>0</td>\n",
       "      <td>0</td>\n",
       "      <td>0</td>\n",
       "      <td>0</td>\n",
       "      <td>0</td>\n",
       "      <td>...</td>\n",
       "      <td>0.010994</td>\n",
       "      <td>-0.034613</td>\n",
       "      <td>0.002693</td>\n",
       "      <td>-0.001133</td>\n",
       "      <td>-0.020398</td>\n",
       "      <td>0.015313</td>\n",
       "      <td>0.004292</td>\n",
       "      <td>-0.023899</td>\n",
       "      <td>-0.013137</td>\n",
       "      <td>0.052948</td>\n",
       "    </tr>\n",
       "    <tr>\n",
       "      <th>3</th>\n",
       "      <td>14137</td>\n",
       "      <td>528705166892355584</td>\n",
       "      <td>A shoe without sex appeal is as barren as a tr...</td>\n",
       "      <td>&lt;a href=\"http://tweetadder.com\" rel=\"nofollow\"...</td>\n",
       "      <td>335401278</td>\n",
       "      <td>0</td>\n",
       "      <td>0</td>\n",
       "      <td>0</td>\n",
       "      <td>0</td>\n",
       "      <td>0</td>\n",
       "      <td>...</td>\n",
       "      <td>0.040209</td>\n",
       "      <td>-0.045646</td>\n",
       "      <td>-0.034932</td>\n",
       "      <td>0.001195</td>\n",
       "      <td>0.041804</td>\n",
       "      <td>-0.009388</td>\n",
       "      <td>-0.010135</td>\n",
       "      <td>0.011558</td>\n",
       "      <td>0.031049</td>\n",
       "      <td>0.018301</td>\n",
       "    </tr>\n",
       "    <tr>\n",
       "      <th>4</th>\n",
       "      <td>14138</td>\n",
       "      <td>515415202188525568</td>\n",
       "      <td>I grandi Dubbi!! Ma RIN TIN TIN... è un cane c...</td>\n",
       "      <td>&lt;a href=\"http://www.Bidlmensionale.com\" rel=\"n...</td>\n",
       "      <td>466465820</td>\n",
       "      <td>0</td>\n",
       "      <td>0</td>\n",
       "      <td>0</td>\n",
       "      <td>0</td>\n",
       "      <td>0</td>\n",
       "      <td>...</td>\n",
       "      <td>-0.046760</td>\n",
       "      <td>-0.004779</td>\n",
       "      <td>-0.028410</td>\n",
       "      <td>-0.001640</td>\n",
       "      <td>0.006408</td>\n",
       "      <td>-0.014990</td>\n",
       "      <td>-0.006369</td>\n",
       "      <td>-0.062993</td>\n",
       "      <td>0.017049</td>\n",
       "      <td>0.030631</td>\n",
       "    </tr>\n",
       "  </tbody>\n",
       "</table>\n",
       "<p>5 rows × 120 columns</p>\n",
       "</div>"
      ],
      "text/plain": [
       "   index                  id  \\\n",
       "0  14134  516518898259476480   \n",
       "1  14135  527555312761720834   \n",
       "2  14136  529082863246114816   \n",
       "3  14137  528705166892355584   \n",
       "4  14138  515415202188525568   \n",
       "\n",
       "                                                text  \\\n",
       "0  -Ma perché bevi il vino con la cannuccia?-. -P...   \n",
       "1  Nessuno seduce nessuno. È solo chimica e affin...   \n",
       "2  Check Out The Top 10 European Beers  http://t....   \n",
       "3  A shoe without sex appeal is as barren as a tr...   \n",
       "4  I grandi Dubbi!! Ma RIN TIN TIN... è un cane c...   \n",
       "\n",
       "                                              source    user_id  \\\n",
       "0  <a href=\"http://www.gattara.it\" rel=\"nofollow\"...  466220361   \n",
       "1  <a href=\"http://www.giovannamezzett.it\" rel=\"n...  465373507   \n",
       "2  <a href=\"http://tweetadder.com\" rel=\"nofollow\"...  331799847   \n",
       "3  <a href=\"http://tweetadder.com\" rel=\"nofollow\"...  335401278   \n",
       "4  <a href=\"http://www.Bidlmensionale.com\" rel=\"n...  466465820   \n",
       "\n",
       "   in_reply_to_status_id  in_reply_to_user_id  retweeted_status_id  \\\n",
       "0                      0                    0                    0   \n",
       "1                      0                    0                    0   \n",
       "2                      0                    0                    0   \n",
       "3                      0                    0                    0   \n",
       "4                      0                    0                    0   \n",
       "\n",
       "   retweet_count  reply_count  ...        90        91        92        93  \\\n",
       "0              0            0  ... -0.049246  0.010268 -0.031131 -0.025750   \n",
       "1              0            0  ... -0.012502 -0.038892  0.007206  0.020930   \n",
       "2              0            0  ...  0.010994 -0.034613  0.002693 -0.001133   \n",
       "3              0            0  ...  0.040209 -0.045646 -0.034932  0.001195   \n",
       "4              0            0  ... -0.046760 -0.004779 -0.028410 -0.001640   \n",
       "\n",
       "         94        95        96        97        98        99  \n",
       "0  0.013752  0.016295  0.011424 -0.039385 -0.000120 -0.005444  \n",
       "1  0.034559  0.034873  0.019485  0.036693 -0.037214  0.018378  \n",
       "2 -0.020398  0.015313  0.004292 -0.023899 -0.013137  0.052948  \n",
       "3  0.041804 -0.009388 -0.010135  0.011558  0.031049  0.018301  \n",
       "4  0.006408 -0.014990 -0.006369 -0.062993  0.017049  0.030631  \n",
       "\n",
       "[5 rows x 120 columns]"
      ]
     },
     "execution_count": 88,
     "metadata": {},
     "output_type": "execute_result"
    }
   ],
   "source": [
    "# Concatenate bots_tfid and gen_tfid to create df for modeling \n",
    "df_tweets = pd.concat([bots_tfid, gen_tfid], ignore_index=True)\n",
    "\n",
    "df_tweets.head()"
   ]
  },
  {
   "cell_type": "code",
   "execution_count": 91,
   "metadata": {},
   "outputs": [],
   "source": [
    "# Drop unwanted columns \n",
    "df_tweets = df_tweets.drop(columns=['index','id','text','source','user_id','created_at', 'timestamp', 'crawled_at', 'updated','clean_tweets'])"
   ]
  },
  {
   "cell_type": "code",
   "execution_count": 92,
   "metadata": {},
   "outputs": [
    {
     "data": {
      "text/plain": [
       "Index(['in_reply_to_status_id',   'in_reply_to_user_id',\n",
       "         'retweeted_status_id',         'retweet_count',\n",
       "                 'reply_count',        'favorite_count',\n",
       "                'num_hashtags',              'num_urls',\n",
       "                'num_mentions',                 'class',\n",
       "       ...\n",
       "                            90,                      91,\n",
       "                            92,                      93,\n",
       "                            94,                      95,\n",
       "                            96,                      97,\n",
       "                            98,                      99],\n",
       "      dtype='object', length=110)"
      ]
     },
     "execution_count": 92,
     "metadata": {},
     "output_type": "execute_result"
    }
   ],
   "source": [
    "df_tweets.columns"
   ]
  },
  {
   "cell_type": "code",
   "execution_count": 93,
   "metadata": {},
   "outputs": [
    {
     "data": {
      "text/plain": [
       "(30582, 110)"
      ]
     },
     "execution_count": 93,
     "metadata": {},
     "output_type": "execute_result"
    }
   ],
   "source": [
    "df_tweets.shape"
   ]
  },
  {
   "cell_type": "code",
   "execution_count": 96,
   "metadata": {},
   "outputs": [
    {
     "data": {
      "text/plain": [
       "0"
      ]
     },
     "execution_count": 96,
     "metadata": {},
     "output_type": "execute_result"
    }
   ],
   "source": [
    "# Check for null values \n",
    "df_tweets.isnull().sum().sum()"
   ]
  },
  {
   "cell_type": "markdown",
   "metadata": {},
   "source": [
    "## Spliting data into Train and Test set "
   ]
  },
  {
   "cell_type": "code",
   "execution_count": 97,
   "metadata": {},
   "outputs": [],
   "source": [
    "# Set variables \n",
    "y = df_tweets['class']\n",
    "X = df_tweets.drop(columns=['class'])"
   ]
  },
  {
   "cell_type": "code",
   "execution_count": 99,
   "metadata": {},
   "outputs": [],
   "source": [
    "X_train, X_test, y_train, y_test = train_test_split(X, y, test_size=0.3, random_state=42, stratify=y)"
   ]
  },
  {
   "cell_type": "markdown",
   "metadata": {},
   "source": [
    "# Modeling"
   ]
  },
  {
   "cell_type": "code",
   "execution_count": 112,
   "metadata": {},
   "outputs": [],
   "source": [
    "# Function to plot ROC curve \n",
    "def roc_curve(model, X_train, y_train, X_test, y_test):\n",
    "    y_pred_proba = model.predict_proba(X_train)[:, 1]\n",
    "    y_pred_proba2 = model.predict_proba(X_test)[:, 1]\n",
    "    fpr, tpr, thresholds = metrics.roc_curve(y_train, y_pred_proba)\n",
    "    fpr2, tpr2, thresholds = metrics.roc_curve(y_test, y_pred_proba2)\n",
    "\n",
    "    model_auc = metrics.roc_auc_score(y_train, y_pred_proba)\n",
    "    model_auc2 = metrics.roc_auc_score(y_test, y_pred_proba2)\n",
    "\n",
    "    fig, ax = plt.subplots()\n",
    "    ax.plot(fpr, tpr, label=\"Train, auc=\"+str(model_auc))\n",
    "    ax.plot(fpr2, tpr2, label=\"Test, auc=\"+str(model_auc2))\n",
    "\n",
    "    plt.title('ROC curve')\n",
    "    ax.legend(loc=4)\n",
    "    plt.xlabel('False Positive Rate')\n",
    "    plt.ylabel('True Positive Rate')\n",
    "\n",
    "    plt.show()"
   ]
  },
  {
   "cell_type": "code",
   "execution_count": 101,
   "metadata": {},
   "outputs": [
    {
     "name": "stderr",
     "output_type": "stream",
     "text": [
      "/Users/tsawaengsri/anaconda3/lib/python3.6/site-packages/sklearn/linear_model/logistic.py:433: FutureWarning: Default solver will be changed to 'lbfgs' in 0.22. Specify a solver to silence this warning.\n",
      "  FutureWarning)\n"
     ]
    }
   ],
   "source": [
    "# Logistic Model \n",
    "lr = LogisticRegression()\n",
    "lr.fit(X_train, y_train)\n",
    "print(cross_val_score(lr, X_train, y_train, cv=5))\n",
    "y_pred = lr.predict(X_test)"
   ]
  },
  {
   "cell_type": "code",
   "execution_count": 103,
   "metadata": {},
   "outputs": [
    {
     "name": "stdout",
     "output_type": "stream",
     "text": [
      "Accuracy: 71.26%\n",
      "Recall: 82.32293505983912 %\n",
      "Precision: 70.73499662845583 %\n"
     ]
    }
   ],
   "source": [
    "from sklearn.metrics import precision_score, recall_score, confusion_matrix, classification_report,accuracy_score, f1_score\n",
    "\n",
    "roc_auc = roc_auc_score(y_test, y_pred)\n",
    "accuracy = accuracy_score(y_test, y_pred)\n",
    "print(\"ROC_AUC: %.2f%%\" % (roc_auc * 100.0))\n",
    "print(\"Accuracy: %.2f%%\" % (accuracy * 100.0))\n",
    "print('Recall:', recall_score(y_test, y_pred)*100,\"%\")\n",
    "print('Precision:', precision_score(y_test, y_pred)*100,\"%\")\n",
    "print(confusion_matrix(y_test, y_pred))"
   ]
  },
  {
   "cell_type": "code",
   "execution_count": 100,
   "metadata": {},
   "outputs": [
    {
     "name": "stderr",
     "output_type": "stream",
     "text": [
      "/Users/tsawaengsri/anaconda3/lib/python3.6/site-packages/sklearn/linear_model/logistic.py:433: FutureWarning: Default solver will be changed to 'lbfgs' in 0.22. Specify a solver to silence this warning.\n",
      "  FutureWarning)\n",
      "/Users/tsawaengsri/anaconda3/lib/python3.6/site-packages/sklearn/linear_model/logistic.py:433: FutureWarning: Default solver will be changed to 'lbfgs' in 0.22. Specify a solver to silence this warning.\n",
      "  FutureWarning)\n",
      "/Users/tsawaengsri/anaconda3/lib/python3.6/site-packages/sklearn/linear_model/logistic.py:433: FutureWarning: Default solver will be changed to 'lbfgs' in 0.22. Specify a solver to silence this warning.\n",
      "  FutureWarning)\n",
      "/Users/tsawaengsri/anaconda3/lib/python3.6/site-packages/sklearn/linear_model/logistic.py:433: FutureWarning: Default solver will be changed to 'lbfgs' in 0.22. Specify a solver to silence this warning.\n",
      "  FutureWarning)\n",
      "/Users/tsawaengsri/anaconda3/lib/python3.6/site-packages/sklearn/linear_model/logistic.py:433: FutureWarning: Default solver will be changed to 'lbfgs' in 0.22. Specify a solver to silence this warning.\n",
      "  FutureWarning)\n",
      "/Users/tsawaengsri/anaconda3/lib/python3.6/site-packages/sklearn/linear_model/logistic.py:433: FutureWarning: Default solver will be changed to 'lbfgs' in 0.22. Specify a solver to silence this warning.\n",
      "  FutureWarning)\n",
      "/Users/tsawaengsri/anaconda3/lib/python3.6/site-packages/sklearn/linear_model/logistic.py:433: FutureWarning: Default solver will be changed to 'lbfgs' in 0.22. Specify a solver to silence this warning.\n",
      "  FutureWarning)\n",
      "/Users/tsawaengsri/anaconda3/lib/python3.6/site-packages/sklearn/linear_model/logistic.py:433: FutureWarning: Default solver will be changed to 'lbfgs' in 0.22. Specify a solver to silence this warning.\n",
      "  FutureWarning)\n",
      "/Users/tsawaengsri/anaconda3/lib/python3.6/site-packages/sklearn/linear_model/logistic.py:433: FutureWarning: Default solver will be changed to 'lbfgs' in 0.22. Specify a solver to silence this warning.\n",
      "  FutureWarning)\n",
      "/Users/tsawaengsri/anaconda3/lib/python3.6/site-packages/sklearn/linear_model/logistic.py:433: FutureWarning: Default solver will be changed to 'lbfgs' in 0.22. Specify a solver to silence this warning.\n",
      "  FutureWarning)\n",
      "/Users/tsawaengsri/anaconda3/lib/python3.6/site-packages/sklearn/linear_model/logistic.py:433: FutureWarning: Default solver will be changed to 'lbfgs' in 0.22. Specify a solver to silence this warning.\n",
      "  FutureWarning)\n",
      "/Users/tsawaengsri/anaconda3/lib/python3.6/site-packages/sklearn/linear_model/logistic.py:433: FutureWarning: Default solver will be changed to 'lbfgs' in 0.22. Specify a solver to silence this warning.\n",
      "  FutureWarning)\n",
      "/Users/tsawaengsri/anaconda3/lib/python3.6/site-packages/sklearn/linear_model/logistic.py:433: FutureWarning: Default solver will be changed to 'lbfgs' in 0.22. Specify a solver to silence this warning.\n",
      "  FutureWarning)\n",
      "/Users/tsawaengsri/anaconda3/lib/python3.6/site-packages/sklearn/linear_model/logistic.py:433: FutureWarning: Default solver will be changed to 'lbfgs' in 0.22. Specify a solver to silence this warning.\n",
      "  FutureWarning)\n",
      "/Users/tsawaengsri/anaconda3/lib/python3.6/site-packages/sklearn/linear_model/logistic.py:433: FutureWarning: Default solver will be changed to 'lbfgs' in 0.22. Specify a solver to silence this warning.\n",
      "  FutureWarning)\n",
      "/Users/tsawaengsri/anaconda3/lib/python3.6/site-packages/sklearn/linear_model/logistic.py:433: FutureWarning: Default solver will be changed to 'lbfgs' in 0.22. Specify a solver to silence this warning.\n",
      "  FutureWarning)\n",
      "/Users/tsawaengsri/anaconda3/lib/python3.6/site-packages/sklearn/linear_model/logistic.py:433: FutureWarning: Default solver will be changed to 'lbfgs' in 0.22. Specify a solver to silence this warning.\n",
      "  FutureWarning)\n",
      "/Users/tsawaengsri/anaconda3/lib/python3.6/site-packages/sklearn/linear_model/logistic.py:433: FutureWarning: Default solver will be changed to 'lbfgs' in 0.22. Specify a solver to silence this warning.\n",
      "  FutureWarning)\n",
      "/Users/tsawaengsri/anaconda3/lib/python3.6/site-packages/sklearn/linear_model/logistic.py:433: FutureWarning: Default solver will be changed to 'lbfgs' in 0.22. Specify a solver to silence this warning.\n",
      "  FutureWarning)\n",
      "/Users/tsawaengsri/anaconda3/lib/python3.6/site-packages/sklearn/linear_model/logistic.py:433: FutureWarning: Default solver will be changed to 'lbfgs' in 0.22. Specify a solver to silence this warning.\n",
      "  FutureWarning)\n",
      "/Users/tsawaengsri/anaconda3/lib/python3.6/site-packages/sklearn/linear_model/logistic.py:433: FutureWarning: Default solver will be changed to 'lbfgs' in 0.22. Specify a solver to silence this warning.\n",
      "  FutureWarning)\n",
      "/Users/tsawaengsri/anaconda3/lib/python3.6/site-packages/sklearn/linear_model/logistic.py:433: FutureWarning: Default solver will be changed to 'lbfgs' in 0.22. Specify a solver to silence this warning.\n",
      "  FutureWarning)\n",
      "/Users/tsawaengsri/anaconda3/lib/python3.6/site-packages/sklearn/linear_model/logistic.py:433: FutureWarning: Default solver will be changed to 'lbfgs' in 0.22. Specify a solver to silence this warning.\n",
      "  FutureWarning)\n",
      "/Users/tsawaengsri/anaconda3/lib/python3.6/site-packages/sklearn/linear_model/logistic.py:433: FutureWarning: Default solver will be changed to 'lbfgs' in 0.22. Specify a solver to silence this warning.\n",
      "  FutureWarning)\n",
      "/Users/tsawaengsri/anaconda3/lib/python3.6/site-packages/sklearn/linear_model/logistic.py:433: FutureWarning: Default solver will be changed to 'lbfgs' in 0.22. Specify a solver to silence this warning.\n",
      "  FutureWarning)\n",
      "/Users/tsawaengsri/anaconda3/lib/python3.6/site-packages/sklearn/linear_model/logistic.py:433: FutureWarning: Default solver will be changed to 'lbfgs' in 0.22. Specify a solver to silence this warning.\n",
      "  FutureWarning)\n",
      "/Users/tsawaengsri/anaconda3/lib/python3.6/site-packages/sklearn/linear_model/logistic.py:433: FutureWarning: Default solver will be changed to 'lbfgs' in 0.22. Specify a solver to silence this warning.\n",
      "  FutureWarning)\n",
      "/Users/tsawaengsri/anaconda3/lib/python3.6/site-packages/sklearn/linear_model/logistic.py:433: FutureWarning: Default solver will be changed to 'lbfgs' in 0.22. Specify a solver to silence this warning.\n",
      "  FutureWarning)\n",
      "/Users/tsawaengsri/anaconda3/lib/python3.6/site-packages/sklearn/linear_model/logistic.py:433: FutureWarning: Default solver will be changed to 'lbfgs' in 0.22. Specify a solver to silence this warning.\n",
      "  FutureWarning)\n",
      "/Users/tsawaengsri/anaconda3/lib/python3.6/site-packages/sklearn/linear_model/logistic.py:433: FutureWarning: Default solver will be changed to 'lbfgs' in 0.22. Specify a solver to silence this warning.\n",
      "  FutureWarning)\n",
      "/Users/tsawaengsri/anaconda3/lib/python3.6/site-packages/sklearn/linear_model/logistic.py:433: FutureWarning: Default solver will be changed to 'lbfgs' in 0.22. Specify a solver to silence this warning.\n",
      "  FutureWarning)\n",
      "/Users/tsawaengsri/anaconda3/lib/python3.6/site-packages/sklearn/linear_model/logistic.py:433: FutureWarning: Default solver will be changed to 'lbfgs' in 0.22. Specify a solver to silence this warning.\n",
      "  FutureWarning)\n",
      "/Users/tsawaengsri/anaconda3/lib/python3.6/site-packages/sklearn/linear_model/logistic.py:433: FutureWarning: Default solver will be changed to 'lbfgs' in 0.22. Specify a solver to silence this warning.\n",
      "  FutureWarning)\n",
      "/Users/tsawaengsri/anaconda3/lib/python3.6/site-packages/sklearn/linear_model/logistic.py:433: FutureWarning: Default solver will be changed to 'lbfgs' in 0.22. Specify a solver to silence this warning.\n",
      "  FutureWarning)\n",
      "/Users/tsawaengsri/anaconda3/lib/python3.6/site-packages/sklearn/linear_model/logistic.py:433: FutureWarning: Default solver will be changed to 'lbfgs' in 0.22. Specify a solver to silence this warning.\n",
      "  FutureWarning)\n",
      "/Users/tsawaengsri/anaconda3/lib/python3.6/site-packages/sklearn/linear_model/logistic.py:433: FutureWarning: Default solver will be changed to 'lbfgs' in 0.22. Specify a solver to silence this warning.\n",
      "  FutureWarning)\n",
      "/Users/tsawaengsri/anaconda3/lib/python3.6/site-packages/sklearn/linear_model/logistic.py:433: FutureWarning: Default solver will be changed to 'lbfgs' in 0.22. Specify a solver to silence this warning.\n",
      "  FutureWarning)\n",
      "/Users/tsawaengsri/anaconda3/lib/python3.6/site-packages/sklearn/linear_model/logistic.py:433: FutureWarning: Default solver will be changed to 'lbfgs' in 0.22. Specify a solver to silence this warning.\n",
      "  FutureWarning)\n"
     ]
    },
    {
     "name": "stderr",
     "output_type": "stream",
     "text": [
      "/Users/tsawaengsri/anaconda3/lib/python3.6/site-packages/sklearn/linear_model/logistic.py:433: FutureWarning: Default solver will be changed to 'lbfgs' in 0.22. Specify a solver to silence this warning.\n",
      "  FutureWarning)\n",
      "/Users/tsawaengsri/anaconda3/lib/python3.6/site-packages/sklearn/linear_model/logistic.py:433: FutureWarning: Default solver will be changed to 'lbfgs' in 0.22. Specify a solver to silence this warning.\n",
      "  FutureWarning)\n",
      "/Users/tsawaengsri/anaconda3/lib/python3.6/site-packages/sklearn/linear_model/logistic.py:433: FutureWarning: Default solver will be changed to 'lbfgs' in 0.22. Specify a solver to silence this warning.\n",
      "  FutureWarning)\n",
      "/Users/tsawaengsri/anaconda3/lib/python3.6/site-packages/sklearn/linear_model/logistic.py:433: FutureWarning: Default solver will be changed to 'lbfgs' in 0.22. Specify a solver to silence this warning.\n",
      "  FutureWarning)\n",
      "/Users/tsawaengsri/anaconda3/lib/python3.6/site-packages/sklearn/linear_model/logistic.py:433: FutureWarning: Default solver will be changed to 'lbfgs' in 0.22. Specify a solver to silence this warning.\n",
      "  FutureWarning)\n",
      "/Users/tsawaengsri/anaconda3/lib/python3.6/site-packages/sklearn/linear_model/logistic.py:433: FutureWarning: Default solver will be changed to 'lbfgs' in 0.22. Specify a solver to silence this warning.\n",
      "  FutureWarning)\n",
      "/Users/tsawaengsri/anaconda3/lib/python3.6/site-packages/sklearn/linear_model/logistic.py:433: FutureWarning: Default solver will be changed to 'lbfgs' in 0.22. Specify a solver to silence this warning.\n",
      "  FutureWarning)\n",
      "/Users/tsawaengsri/anaconda3/lib/python3.6/site-packages/sklearn/linear_model/logistic.py:433: FutureWarning: Default solver will be changed to 'lbfgs' in 0.22. Specify a solver to silence this warning.\n",
      "  FutureWarning)\n",
      "/Users/tsawaengsri/anaconda3/lib/python3.6/site-packages/sklearn/linear_model/logistic.py:433: FutureWarning: Default solver will be changed to 'lbfgs' in 0.22. Specify a solver to silence this warning.\n",
      "  FutureWarning)\n",
      "/Users/tsawaengsri/anaconda3/lib/python3.6/site-packages/sklearn/linear_model/logistic.py:433: FutureWarning: Default solver will be changed to 'lbfgs' in 0.22. Specify a solver to silence this warning.\n",
      "  FutureWarning)\n",
      "/Users/tsawaengsri/anaconda3/lib/python3.6/site-packages/sklearn/linear_model/logistic.py:433: FutureWarning: Default solver will be changed to 'lbfgs' in 0.22. Specify a solver to silence this warning.\n",
      "  FutureWarning)\n",
      "/Users/tsawaengsri/anaconda3/lib/python3.6/site-packages/sklearn/linear_model/logistic.py:433: FutureWarning: Default solver will be changed to 'lbfgs' in 0.22. Specify a solver to silence this warning.\n",
      "  FutureWarning)\n",
      "/Users/tsawaengsri/anaconda3/lib/python3.6/site-packages/sklearn/linear_model/logistic.py:433: FutureWarning: Default solver will be changed to 'lbfgs' in 0.22. Specify a solver to silence this warning.\n",
      "  FutureWarning)\n",
      "/Users/tsawaengsri/anaconda3/lib/python3.6/site-packages/sklearn/linear_model/logistic.py:433: FutureWarning: Default solver will be changed to 'lbfgs' in 0.22. Specify a solver to silence this warning.\n",
      "  FutureWarning)\n",
      "/Users/tsawaengsri/anaconda3/lib/python3.6/site-packages/sklearn/linear_model/logistic.py:433: FutureWarning: Default solver will be changed to 'lbfgs' in 0.22. Specify a solver to silence this warning.\n",
      "  FutureWarning)\n",
      "/Users/tsawaengsri/anaconda3/lib/python3.6/site-packages/sklearn/linear_model/logistic.py:433: FutureWarning: Default solver will be changed to 'lbfgs' in 0.22. Specify a solver to silence this warning.\n",
      "  FutureWarning)\n",
      "/Users/tsawaengsri/anaconda3/lib/python3.6/site-packages/sklearn/linear_model/logistic.py:433: FutureWarning: Default solver will be changed to 'lbfgs' in 0.22. Specify a solver to silence this warning.\n",
      "  FutureWarning)\n",
      "/Users/tsawaengsri/anaconda3/lib/python3.6/site-packages/sklearn/linear_model/logistic.py:433: FutureWarning: Default solver will be changed to 'lbfgs' in 0.22. Specify a solver to silence this warning.\n",
      "  FutureWarning)\n",
      "/Users/tsawaengsri/anaconda3/lib/python3.6/site-packages/sklearn/linear_model/logistic.py:433: FutureWarning: Default solver will be changed to 'lbfgs' in 0.22. Specify a solver to silence this warning.\n",
      "  FutureWarning)\n",
      "/Users/tsawaengsri/anaconda3/lib/python3.6/site-packages/sklearn/linear_model/logistic.py:433: FutureWarning: Default solver will be changed to 'lbfgs' in 0.22. Specify a solver to silence this warning.\n",
      "  FutureWarning)\n",
      "/Users/tsawaengsri/anaconda3/lib/python3.6/site-packages/sklearn/linear_model/logistic.py:433: FutureWarning: Default solver will be changed to 'lbfgs' in 0.22. Specify a solver to silence this warning.\n",
      "  FutureWarning)\n",
      "/Users/tsawaengsri/anaconda3/lib/python3.6/site-packages/sklearn/linear_model/logistic.py:433: FutureWarning: Default solver will be changed to 'lbfgs' in 0.22. Specify a solver to silence this warning.\n",
      "  FutureWarning)\n",
      "/Users/tsawaengsri/anaconda3/lib/python3.6/site-packages/sklearn/linear_model/logistic.py:433: FutureWarning: Default solver will be changed to 'lbfgs' in 0.22. Specify a solver to silence this warning.\n",
      "  FutureWarning)\n",
      "/Users/tsawaengsri/anaconda3/lib/python3.6/site-packages/sklearn/linear_model/logistic.py:433: FutureWarning: Default solver will be changed to 'lbfgs' in 0.22. Specify a solver to silence this warning.\n",
      "  FutureWarning)\n",
      "/Users/tsawaengsri/anaconda3/lib/python3.6/site-packages/sklearn/linear_model/logistic.py:433: FutureWarning: Default solver will be changed to 'lbfgs' in 0.22. Specify a solver to silence this warning.\n",
      "  FutureWarning)\n",
      "/Users/tsawaengsri/anaconda3/lib/python3.6/site-packages/sklearn/linear_model/logistic.py:433: FutureWarning: Default solver will be changed to 'lbfgs' in 0.22. Specify a solver to silence this warning.\n",
      "  FutureWarning)\n",
      "/Users/tsawaengsri/anaconda3/lib/python3.6/site-packages/sklearn/linear_model/logistic.py:433: FutureWarning: Default solver will be changed to 'lbfgs' in 0.22. Specify a solver to silence this warning.\n",
      "  FutureWarning)\n",
      "/Users/tsawaengsri/anaconda3/lib/python3.6/site-packages/sklearn/linear_model/logistic.py:433: FutureWarning: Default solver will be changed to 'lbfgs' in 0.22. Specify a solver to silence this warning.\n",
      "  FutureWarning)\n",
      "/Users/tsawaengsri/anaconda3/lib/python3.6/site-packages/sklearn/linear_model/logistic.py:433: FutureWarning: Default solver will be changed to 'lbfgs' in 0.22. Specify a solver to silence this warning.\n",
      "  FutureWarning)\n",
      "/Users/tsawaengsri/anaconda3/lib/python3.6/site-packages/sklearn/linear_model/logistic.py:433: FutureWarning: Default solver will be changed to 'lbfgs' in 0.22. Specify a solver to silence this warning.\n",
      "  FutureWarning)\n",
      "/Users/tsawaengsri/anaconda3/lib/python3.6/site-packages/sklearn/linear_model/logistic.py:433: FutureWarning: Default solver will be changed to 'lbfgs' in 0.22. Specify a solver to silence this warning.\n",
      "  FutureWarning)\n",
      "/Users/tsawaengsri/anaconda3/lib/python3.6/site-packages/sklearn/linear_model/logistic.py:433: FutureWarning: Default solver will be changed to 'lbfgs' in 0.22. Specify a solver to silence this warning.\n",
      "  FutureWarning)\n",
      "/Users/tsawaengsri/anaconda3/lib/python3.6/site-packages/sklearn/linear_model/logistic.py:433: FutureWarning: Default solver will be changed to 'lbfgs' in 0.22. Specify a solver to silence this warning.\n",
      "  FutureWarning)\n",
      "/Users/tsawaengsri/anaconda3/lib/python3.6/site-packages/sklearn/linear_model/logistic.py:433: FutureWarning: Default solver will be changed to 'lbfgs' in 0.22. Specify a solver to silence this warning.\n",
      "  FutureWarning)\n",
      "/Users/tsawaengsri/anaconda3/lib/python3.6/site-packages/sklearn/linear_model/logistic.py:433: FutureWarning: Default solver will be changed to 'lbfgs' in 0.22. Specify a solver to silence this warning.\n",
      "  FutureWarning)\n",
      "/Users/tsawaengsri/anaconda3/lib/python3.6/site-packages/sklearn/linear_model/logistic.py:433: FutureWarning: Default solver will be changed to 'lbfgs' in 0.22. Specify a solver to silence this warning.\n",
      "  FutureWarning)\n",
      "/Users/tsawaengsri/anaconda3/lib/python3.6/site-packages/sklearn/linear_model/logistic.py:433: FutureWarning: Default solver will be changed to 'lbfgs' in 0.22. Specify a solver to silence this warning.\n",
      "  FutureWarning)\n",
      "/Users/tsawaengsri/anaconda3/lib/python3.6/site-packages/sklearn/linear_model/logistic.py:433: FutureWarning: Default solver will be changed to 'lbfgs' in 0.22. Specify a solver to silence this warning.\n",
      "  FutureWarning)\n"
     ]
    },
    {
     "name": "stderr",
     "output_type": "stream",
     "text": [
      "/Users/tsawaengsri/anaconda3/lib/python3.6/site-packages/sklearn/linear_model/logistic.py:433: FutureWarning: Default solver will be changed to 'lbfgs' in 0.22. Specify a solver to silence this warning.\n",
      "  FutureWarning)\n",
      "/Users/tsawaengsri/anaconda3/lib/python3.6/site-packages/sklearn/linear_model/logistic.py:433: FutureWarning: Default solver will be changed to 'lbfgs' in 0.22. Specify a solver to silence this warning.\n",
      "  FutureWarning)\n",
      "/Users/tsawaengsri/anaconda3/lib/python3.6/site-packages/sklearn/linear_model/logistic.py:433: FutureWarning: Default solver will be changed to 'lbfgs' in 0.22. Specify a solver to silence this warning.\n",
      "  FutureWarning)\n",
      "/Users/tsawaengsri/anaconda3/lib/python3.6/site-packages/sklearn/linear_model/logistic.py:433: FutureWarning: Default solver will be changed to 'lbfgs' in 0.22. Specify a solver to silence this warning.\n",
      "  FutureWarning)\n",
      "/Users/tsawaengsri/anaconda3/lib/python3.6/site-packages/sklearn/linear_model/logistic.py:433: FutureWarning: Default solver will be changed to 'lbfgs' in 0.22. Specify a solver to silence this warning.\n",
      "  FutureWarning)\n",
      "/Users/tsawaengsri/anaconda3/lib/python3.6/site-packages/sklearn/linear_model/logistic.py:433: FutureWarning: Default solver will be changed to 'lbfgs' in 0.22. Specify a solver to silence this warning.\n",
      "  FutureWarning)\n",
      "/Users/tsawaengsri/anaconda3/lib/python3.6/site-packages/sklearn/linear_model/logistic.py:433: FutureWarning: Default solver will be changed to 'lbfgs' in 0.22. Specify a solver to silence this warning.\n",
      "  FutureWarning)\n",
      "/Users/tsawaengsri/anaconda3/lib/python3.6/site-packages/sklearn/linear_model/logistic.py:433: FutureWarning: Default solver will be changed to 'lbfgs' in 0.22. Specify a solver to silence this warning.\n",
      "  FutureWarning)\n",
      "/Users/tsawaengsri/anaconda3/lib/python3.6/site-packages/sklearn/linear_model/logistic.py:433: FutureWarning: Default solver will be changed to 'lbfgs' in 0.22. Specify a solver to silence this warning.\n",
      "  FutureWarning)\n",
      "/Users/tsawaengsri/anaconda3/lib/python3.6/site-packages/sklearn/linear_model/logistic.py:433: FutureWarning: Default solver will be changed to 'lbfgs' in 0.22. Specify a solver to silence this warning.\n",
      "  FutureWarning)\n",
      "/Users/tsawaengsri/anaconda3/lib/python3.6/site-packages/sklearn/linear_model/logistic.py:433: FutureWarning: Default solver will be changed to 'lbfgs' in 0.22. Specify a solver to silence this warning.\n",
      "  FutureWarning)\n",
      "/Users/tsawaengsri/anaconda3/lib/python3.6/site-packages/sklearn/linear_model/logistic.py:433: FutureWarning: Default solver will be changed to 'lbfgs' in 0.22. Specify a solver to silence this warning.\n",
      "  FutureWarning)\n",
      "/Users/tsawaengsri/anaconda3/lib/python3.6/site-packages/sklearn/linear_model/logistic.py:433: FutureWarning: Default solver will be changed to 'lbfgs' in 0.22. Specify a solver to silence this warning.\n",
      "  FutureWarning)\n",
      "/Users/tsawaengsri/anaconda3/lib/python3.6/site-packages/sklearn/linear_model/logistic.py:433: FutureWarning: Default solver will be changed to 'lbfgs' in 0.22. Specify a solver to silence this warning.\n",
      "  FutureWarning)\n",
      "/Users/tsawaengsri/anaconda3/lib/python3.6/site-packages/sklearn/linear_model/logistic.py:433: FutureWarning: Default solver will be changed to 'lbfgs' in 0.22. Specify a solver to silence this warning.\n",
      "  FutureWarning)\n",
      "/Users/tsawaengsri/anaconda3/lib/python3.6/site-packages/sklearn/linear_model/logistic.py:433: FutureWarning: Default solver will be changed to 'lbfgs' in 0.22. Specify a solver to silence this warning.\n",
      "  FutureWarning)\n",
      "/Users/tsawaengsri/anaconda3/lib/python3.6/site-packages/sklearn/linear_model/logistic.py:433: FutureWarning: Default solver will be changed to 'lbfgs' in 0.22. Specify a solver to silence this warning.\n",
      "  FutureWarning)\n",
      "/Users/tsawaengsri/anaconda3/lib/python3.6/site-packages/sklearn/linear_model/logistic.py:433: FutureWarning: Default solver will be changed to 'lbfgs' in 0.22. Specify a solver to silence this warning.\n",
      "  FutureWarning)\n",
      "/Users/tsawaengsri/anaconda3/lib/python3.6/site-packages/sklearn/linear_model/logistic.py:433: FutureWarning: Default solver will be changed to 'lbfgs' in 0.22. Specify a solver to silence this warning.\n",
      "  FutureWarning)\n",
      "/Users/tsawaengsri/anaconda3/lib/python3.6/site-packages/sklearn/linear_model/logistic.py:433: FutureWarning: Default solver will be changed to 'lbfgs' in 0.22. Specify a solver to silence this warning.\n",
      "  FutureWarning)\n",
      "/Users/tsawaengsri/anaconda3/lib/python3.6/site-packages/sklearn/linear_model/logistic.py:433: FutureWarning: Default solver will be changed to 'lbfgs' in 0.22. Specify a solver to silence this warning.\n",
      "  FutureWarning)\n",
      "/Users/tsawaengsri/anaconda3/lib/python3.6/site-packages/sklearn/linear_model/logistic.py:433: FutureWarning: Default solver will be changed to 'lbfgs' in 0.22. Specify a solver to silence this warning.\n",
      "  FutureWarning)\n",
      "/Users/tsawaengsri/anaconda3/lib/python3.6/site-packages/sklearn/linear_model/logistic.py:433: FutureWarning: Default solver will be changed to 'lbfgs' in 0.22. Specify a solver to silence this warning.\n",
      "  FutureWarning)\n",
      "/Users/tsawaengsri/anaconda3/lib/python3.6/site-packages/sklearn/linear_model/logistic.py:433: FutureWarning: Default solver will be changed to 'lbfgs' in 0.22. Specify a solver to silence this warning.\n",
      "  FutureWarning)\n",
      "/Users/tsawaengsri/anaconda3/lib/python3.6/site-packages/sklearn/linear_model/logistic.py:433: FutureWarning: Default solver will be changed to 'lbfgs' in 0.22. Specify a solver to silence this warning.\n",
      "  FutureWarning)\n",
      "/Users/tsawaengsri/anaconda3/lib/python3.6/site-packages/sklearn/linear_model/logistic.py:433: FutureWarning: Default solver will be changed to 'lbfgs' in 0.22. Specify a solver to silence this warning.\n",
      "  FutureWarning)\n",
      "/Users/tsawaengsri/anaconda3/lib/python3.6/site-packages/sklearn/linear_model/logistic.py:433: FutureWarning: Default solver will be changed to 'lbfgs' in 0.22. Specify a solver to silence this warning.\n",
      "  FutureWarning)\n",
      "/Users/tsawaengsri/anaconda3/lib/python3.6/site-packages/sklearn/linear_model/logistic.py:433: FutureWarning: Default solver will be changed to 'lbfgs' in 0.22. Specify a solver to silence this warning.\n",
      "  FutureWarning)\n",
      "/Users/tsawaengsri/anaconda3/lib/python3.6/site-packages/sklearn/linear_model/logistic.py:433: FutureWarning: Default solver will be changed to 'lbfgs' in 0.22. Specify a solver to silence this warning.\n",
      "  FutureWarning)\n",
      "/Users/tsawaengsri/anaconda3/lib/python3.6/site-packages/sklearn/linear_model/logistic.py:433: FutureWarning: Default solver will be changed to 'lbfgs' in 0.22. Specify a solver to silence this warning.\n",
      "  FutureWarning)\n",
      "/Users/tsawaengsri/anaconda3/lib/python3.6/site-packages/sklearn/linear_model/logistic.py:433: FutureWarning: Default solver will be changed to 'lbfgs' in 0.22. Specify a solver to silence this warning.\n",
      "  FutureWarning)\n",
      "/Users/tsawaengsri/anaconda3/lib/python3.6/site-packages/sklearn/linear_model/logistic.py:433: FutureWarning: Default solver will be changed to 'lbfgs' in 0.22. Specify a solver to silence this warning.\n",
      "  FutureWarning)\n",
      "/Users/tsawaengsri/anaconda3/lib/python3.6/site-packages/sklearn/linear_model/logistic.py:433: FutureWarning: Default solver will be changed to 'lbfgs' in 0.22. Specify a solver to silence this warning.\n",
      "  FutureWarning)\n",
      "/Users/tsawaengsri/anaconda3/lib/python3.6/site-packages/sklearn/linear_model/logistic.py:433: FutureWarning: Default solver will be changed to 'lbfgs' in 0.22. Specify a solver to silence this warning.\n",
      "  FutureWarning)\n",
      "/Users/tsawaengsri/anaconda3/lib/python3.6/site-packages/sklearn/linear_model/logistic.py:433: FutureWarning: Default solver will be changed to 'lbfgs' in 0.22. Specify a solver to silence this warning.\n",
      "  FutureWarning)\n",
      "/Users/tsawaengsri/anaconda3/lib/python3.6/site-packages/sklearn/linear_model/logistic.py:433: FutureWarning: Default solver will be changed to 'lbfgs' in 0.22. Specify a solver to silence this warning.\n",
      "  FutureWarning)\n",
      "/Users/tsawaengsri/anaconda3/lib/python3.6/site-packages/sklearn/linear_model/logistic.py:433: FutureWarning: Default solver will be changed to 'lbfgs' in 0.22. Specify a solver to silence this warning.\n",
      "  FutureWarning)\n",
      "/Users/tsawaengsri/anaconda3/lib/python3.6/site-packages/sklearn/linear_model/logistic.py:433: FutureWarning: Default solver will be changed to 'lbfgs' in 0.22. Specify a solver to silence this warning.\n",
      "  FutureWarning)\n"
     ]
    },
    {
     "name": "stderr",
     "output_type": "stream",
     "text": [
      "/Users/tsawaengsri/anaconda3/lib/python3.6/site-packages/sklearn/linear_model/logistic.py:433: FutureWarning: Default solver will be changed to 'lbfgs' in 0.22. Specify a solver to silence this warning.\n",
      "  FutureWarning)\n",
      "/Users/tsawaengsri/anaconda3/lib/python3.6/site-packages/sklearn/linear_model/logistic.py:433: FutureWarning: Default solver will be changed to 'lbfgs' in 0.22. Specify a solver to silence this warning.\n",
      "  FutureWarning)\n",
      "/Users/tsawaengsri/anaconda3/lib/python3.6/site-packages/sklearn/linear_model/logistic.py:433: FutureWarning: Default solver will be changed to 'lbfgs' in 0.22. Specify a solver to silence this warning.\n",
      "  FutureWarning)\n",
      "/Users/tsawaengsri/anaconda3/lib/python3.6/site-packages/sklearn/linear_model/logistic.py:433: FutureWarning: Default solver will be changed to 'lbfgs' in 0.22. Specify a solver to silence this warning.\n",
      "  FutureWarning)\n",
      "/Users/tsawaengsri/anaconda3/lib/python3.6/site-packages/sklearn/linear_model/logistic.py:433: FutureWarning: Default solver will be changed to 'lbfgs' in 0.22. Specify a solver to silence this warning.\n",
      "  FutureWarning)\n",
      "/Users/tsawaengsri/anaconda3/lib/python3.6/site-packages/sklearn/linear_model/logistic.py:433: FutureWarning: Default solver will be changed to 'lbfgs' in 0.22. Specify a solver to silence this warning.\n",
      "  FutureWarning)\n",
      "/Users/tsawaengsri/anaconda3/lib/python3.6/site-packages/sklearn/linear_model/logistic.py:433: FutureWarning: Default solver will be changed to 'lbfgs' in 0.22. Specify a solver to silence this warning.\n",
      "  FutureWarning)\n",
      "/Users/tsawaengsri/anaconda3/lib/python3.6/site-packages/sklearn/linear_model/logistic.py:433: FutureWarning: Default solver will be changed to 'lbfgs' in 0.22. Specify a solver to silence this warning.\n",
      "  FutureWarning)\n",
      "/Users/tsawaengsri/anaconda3/lib/python3.6/site-packages/sklearn/linear_model/logistic.py:433: FutureWarning: Default solver will be changed to 'lbfgs' in 0.22. Specify a solver to silence this warning.\n",
      "  FutureWarning)\n",
      "/Users/tsawaengsri/anaconda3/lib/python3.6/site-packages/sklearn/linear_model/logistic.py:433: FutureWarning: Default solver will be changed to 'lbfgs' in 0.22. Specify a solver to silence this warning.\n",
      "  FutureWarning)\n",
      "/Users/tsawaengsri/anaconda3/lib/python3.6/site-packages/sklearn/linear_model/logistic.py:433: FutureWarning: Default solver will be changed to 'lbfgs' in 0.22. Specify a solver to silence this warning.\n",
      "  FutureWarning)\n",
      "/Users/tsawaengsri/anaconda3/lib/python3.6/site-packages/sklearn/linear_model/logistic.py:433: FutureWarning: Default solver will be changed to 'lbfgs' in 0.22. Specify a solver to silence this warning.\n",
      "  FutureWarning)\n",
      "/Users/tsawaengsri/anaconda3/lib/python3.6/site-packages/sklearn/linear_model/logistic.py:433: FutureWarning: Default solver will be changed to 'lbfgs' in 0.22. Specify a solver to silence this warning.\n",
      "  FutureWarning)\n",
      "/Users/tsawaengsri/anaconda3/lib/python3.6/site-packages/sklearn/linear_model/logistic.py:433: FutureWarning: Default solver will be changed to 'lbfgs' in 0.22. Specify a solver to silence this warning.\n",
      "  FutureWarning)\n",
      "/Users/tsawaengsri/anaconda3/lib/python3.6/site-packages/sklearn/linear_model/logistic.py:433: FutureWarning: Default solver will be changed to 'lbfgs' in 0.22. Specify a solver to silence this warning.\n",
      "  FutureWarning)\n",
      "/Users/tsawaengsri/anaconda3/lib/python3.6/site-packages/sklearn/linear_model/logistic.py:433: FutureWarning: Default solver will be changed to 'lbfgs' in 0.22. Specify a solver to silence this warning.\n",
      "  FutureWarning)\n",
      "/Users/tsawaengsri/anaconda3/lib/python3.6/site-packages/sklearn/linear_model/logistic.py:433: FutureWarning: Default solver will be changed to 'lbfgs' in 0.22. Specify a solver to silence this warning.\n",
      "  FutureWarning)\n",
      "/Users/tsawaengsri/anaconda3/lib/python3.6/site-packages/sklearn/linear_model/logistic.py:433: FutureWarning: Default solver will be changed to 'lbfgs' in 0.22. Specify a solver to silence this warning.\n",
      "  FutureWarning)\n",
      "/Users/tsawaengsri/anaconda3/lib/python3.6/site-packages/sklearn/linear_model/logistic.py:433: FutureWarning: Default solver will be changed to 'lbfgs' in 0.22. Specify a solver to silence this warning.\n",
      "  FutureWarning)\n",
      "/Users/tsawaengsri/anaconda3/lib/python3.6/site-packages/sklearn/linear_model/logistic.py:433: FutureWarning: Default solver will be changed to 'lbfgs' in 0.22. Specify a solver to silence this warning.\n",
      "  FutureWarning)\n",
      "/Users/tsawaengsri/anaconda3/lib/python3.6/site-packages/sklearn/linear_model/logistic.py:433: FutureWarning: Default solver will be changed to 'lbfgs' in 0.22. Specify a solver to silence this warning.\n",
      "  FutureWarning)\n",
      "/Users/tsawaengsri/anaconda3/lib/python3.6/site-packages/sklearn/linear_model/logistic.py:433: FutureWarning: Default solver will be changed to 'lbfgs' in 0.22. Specify a solver to silence this warning.\n",
      "  FutureWarning)\n",
      "/Users/tsawaengsri/anaconda3/lib/python3.6/site-packages/sklearn/linear_model/logistic.py:433: FutureWarning: Default solver will be changed to 'lbfgs' in 0.22. Specify a solver to silence this warning.\n",
      "  FutureWarning)\n",
      "/Users/tsawaengsri/anaconda3/lib/python3.6/site-packages/sklearn/linear_model/logistic.py:433: FutureWarning: Default solver will be changed to 'lbfgs' in 0.22. Specify a solver to silence this warning.\n",
      "  FutureWarning)\n",
      "/Users/tsawaengsri/anaconda3/lib/python3.6/site-packages/sklearn/linear_model/logistic.py:433: FutureWarning: Default solver will be changed to 'lbfgs' in 0.22. Specify a solver to silence this warning.\n",
      "  FutureWarning)\n",
      "/Users/tsawaengsri/anaconda3/lib/python3.6/site-packages/sklearn/linear_model/logistic.py:433: FutureWarning: Default solver will be changed to 'lbfgs' in 0.22. Specify a solver to silence this warning.\n",
      "  FutureWarning)\n",
      "/Users/tsawaengsri/anaconda3/lib/python3.6/site-packages/sklearn/linear_model/logistic.py:433: FutureWarning: Default solver will be changed to 'lbfgs' in 0.22. Specify a solver to silence this warning.\n",
      "  FutureWarning)\n",
      "/Users/tsawaengsri/anaconda3/lib/python3.6/site-packages/sklearn/linear_model/logistic.py:433: FutureWarning: Default solver will be changed to 'lbfgs' in 0.22. Specify a solver to silence this warning.\n",
      "  FutureWarning)\n",
      "/Users/tsawaengsri/anaconda3/lib/python3.6/site-packages/sklearn/linear_model/logistic.py:433: FutureWarning: Default solver will be changed to 'lbfgs' in 0.22. Specify a solver to silence this warning.\n",
      "  FutureWarning)\n",
      "/Users/tsawaengsri/anaconda3/lib/python3.6/site-packages/sklearn/linear_model/logistic.py:433: FutureWarning: Default solver will be changed to 'lbfgs' in 0.22. Specify a solver to silence this warning.\n",
      "  FutureWarning)\n",
      "/Users/tsawaengsri/anaconda3/lib/python3.6/site-packages/sklearn/linear_model/logistic.py:433: FutureWarning: Default solver will be changed to 'lbfgs' in 0.22. Specify a solver to silence this warning.\n",
      "  FutureWarning)\n",
      "/Users/tsawaengsri/anaconda3/lib/python3.6/site-packages/sklearn/linear_model/logistic.py:433: FutureWarning: Default solver will be changed to 'lbfgs' in 0.22. Specify a solver to silence this warning.\n",
      "  FutureWarning)\n",
      "/Users/tsawaengsri/anaconda3/lib/python3.6/site-packages/sklearn/linear_model/logistic.py:433: FutureWarning: Default solver will be changed to 'lbfgs' in 0.22. Specify a solver to silence this warning.\n",
      "  FutureWarning)\n",
      "/Users/tsawaengsri/anaconda3/lib/python3.6/site-packages/sklearn/linear_model/logistic.py:433: FutureWarning: Default solver will be changed to 'lbfgs' in 0.22. Specify a solver to silence this warning.\n",
      "  FutureWarning)\n",
      "/Users/tsawaengsri/anaconda3/lib/python3.6/site-packages/sklearn/linear_model/logistic.py:433: FutureWarning: Default solver will be changed to 'lbfgs' in 0.22. Specify a solver to silence this warning.\n",
      "  FutureWarning)\n",
      "/Users/tsawaengsri/anaconda3/lib/python3.6/site-packages/sklearn/linear_model/logistic.py:433: FutureWarning: Default solver will be changed to 'lbfgs' in 0.22. Specify a solver to silence this warning.\n",
      "  FutureWarning)\n",
      "/Users/tsawaengsri/anaconda3/lib/python3.6/site-packages/sklearn/linear_model/logistic.py:433: FutureWarning: Default solver will be changed to 'lbfgs' in 0.22. Specify a solver to silence this warning.\n",
      "  FutureWarning)\n",
      "/Users/tsawaengsri/anaconda3/lib/python3.6/site-packages/sklearn/linear_model/logistic.py:433: FutureWarning: Default solver will be changed to 'lbfgs' in 0.22. Specify a solver to silence this warning.\n",
      "  FutureWarning)\n",
      "/Users/tsawaengsri/anaconda3/lib/python3.6/site-packages/sklearn/linear_model/logistic.py:433: FutureWarning: Default solver will be changed to 'lbfgs' in 0.22. Specify a solver to silence this warning.\n",
      "  FutureWarning)\n"
     ]
    },
    {
     "name": "stderr",
     "output_type": "stream",
     "text": [
      "/Users/tsawaengsri/anaconda3/lib/python3.6/site-packages/sklearn/linear_model/logistic.py:433: FutureWarning: Default solver will be changed to 'lbfgs' in 0.22. Specify a solver to silence this warning.\n",
      "  FutureWarning)\n",
      "/Users/tsawaengsri/anaconda3/lib/python3.6/site-packages/sklearn/linear_model/logistic.py:433: FutureWarning: Default solver will be changed to 'lbfgs' in 0.22. Specify a solver to silence this warning.\n",
      "  FutureWarning)\n",
      "/Users/tsawaengsri/anaconda3/lib/python3.6/site-packages/sklearn/linear_model/logistic.py:433: FutureWarning: Default solver will be changed to 'lbfgs' in 0.22. Specify a solver to silence this warning.\n",
      "  FutureWarning)\n",
      "/Users/tsawaengsri/anaconda3/lib/python3.6/site-packages/sklearn/linear_model/logistic.py:433: FutureWarning: Default solver will be changed to 'lbfgs' in 0.22. Specify a solver to silence this warning.\n",
      "  FutureWarning)\n",
      "/Users/tsawaengsri/anaconda3/lib/python3.6/site-packages/sklearn/linear_model/logistic.py:433: FutureWarning: Default solver will be changed to 'lbfgs' in 0.22. Specify a solver to silence this warning.\n",
      "  FutureWarning)\n",
      "/Users/tsawaengsri/anaconda3/lib/python3.6/site-packages/sklearn/linear_model/logistic.py:433: FutureWarning: Default solver will be changed to 'lbfgs' in 0.22. Specify a solver to silence this warning.\n",
      "  FutureWarning)\n",
      "/Users/tsawaengsri/anaconda3/lib/python3.6/site-packages/sklearn/linear_model/logistic.py:433: FutureWarning: Default solver will be changed to 'lbfgs' in 0.22. Specify a solver to silence this warning.\n",
      "  FutureWarning)\n",
      "/Users/tsawaengsri/anaconda3/lib/python3.6/site-packages/sklearn/linear_model/logistic.py:433: FutureWarning: Default solver will be changed to 'lbfgs' in 0.22. Specify a solver to silence this warning.\n",
      "  FutureWarning)\n",
      "/Users/tsawaengsri/anaconda3/lib/python3.6/site-packages/sklearn/linear_model/logistic.py:433: FutureWarning: Default solver will be changed to 'lbfgs' in 0.22. Specify a solver to silence this warning.\n",
      "  FutureWarning)\n",
      "/Users/tsawaengsri/anaconda3/lib/python3.6/site-packages/sklearn/linear_model/logistic.py:433: FutureWarning: Default solver will be changed to 'lbfgs' in 0.22. Specify a solver to silence this warning.\n",
      "  FutureWarning)\n",
      "/Users/tsawaengsri/anaconda3/lib/python3.6/site-packages/sklearn/linear_model/logistic.py:433: FutureWarning: Default solver will be changed to 'lbfgs' in 0.22. Specify a solver to silence this warning.\n",
      "  FutureWarning)\n",
      "/Users/tsawaengsri/anaconda3/lib/python3.6/site-packages/sklearn/linear_model/logistic.py:433: FutureWarning: Default solver will be changed to 'lbfgs' in 0.22. Specify a solver to silence this warning.\n",
      "  FutureWarning)\n",
      "/Users/tsawaengsri/anaconda3/lib/python3.6/site-packages/sklearn/linear_model/logistic.py:433: FutureWarning: Default solver will be changed to 'lbfgs' in 0.22. Specify a solver to silence this warning.\n",
      "  FutureWarning)\n",
      "/Users/tsawaengsri/anaconda3/lib/python3.6/site-packages/sklearn/linear_model/logistic.py:433: FutureWarning: Default solver will be changed to 'lbfgs' in 0.22. Specify a solver to silence this warning.\n",
      "  FutureWarning)\n",
      "/Users/tsawaengsri/anaconda3/lib/python3.6/site-packages/sklearn/linear_model/logistic.py:433: FutureWarning: Default solver will be changed to 'lbfgs' in 0.22. Specify a solver to silence this warning.\n",
      "  FutureWarning)\n",
      "/Users/tsawaengsri/anaconda3/lib/python3.6/site-packages/sklearn/linear_model/logistic.py:433: FutureWarning: Default solver will be changed to 'lbfgs' in 0.22. Specify a solver to silence this warning.\n",
      "  FutureWarning)\n",
      "/Users/tsawaengsri/anaconda3/lib/python3.6/site-packages/sklearn/linear_model/logistic.py:433: FutureWarning: Default solver will be changed to 'lbfgs' in 0.22. Specify a solver to silence this warning.\n",
      "  FutureWarning)\n",
      "/Users/tsawaengsri/anaconda3/lib/python3.6/site-packages/sklearn/linear_model/logistic.py:433: FutureWarning: Default solver will be changed to 'lbfgs' in 0.22. Specify a solver to silence this warning.\n",
      "  FutureWarning)\n",
      "/Users/tsawaengsri/anaconda3/lib/python3.6/site-packages/sklearn/linear_model/logistic.py:433: FutureWarning: Default solver will be changed to 'lbfgs' in 0.22. Specify a solver to silence this warning.\n",
      "  FutureWarning)\n",
      "/Users/tsawaengsri/anaconda3/lib/python3.6/site-packages/sklearn/linear_model/logistic.py:433: FutureWarning: Default solver will be changed to 'lbfgs' in 0.22. Specify a solver to silence this warning.\n",
      "  FutureWarning)\n",
      "/Users/tsawaengsri/anaconda3/lib/python3.6/site-packages/sklearn/linear_model/logistic.py:433: FutureWarning: Default solver will be changed to 'lbfgs' in 0.22. Specify a solver to silence this warning.\n",
      "  FutureWarning)\n",
      "/Users/tsawaengsri/anaconda3/lib/python3.6/site-packages/sklearn/linear_model/logistic.py:433: FutureWarning: Default solver will be changed to 'lbfgs' in 0.22. Specify a solver to silence this warning.\n",
      "  FutureWarning)\n",
      "/Users/tsawaengsri/anaconda3/lib/python3.6/site-packages/sklearn/linear_model/logistic.py:433: FutureWarning: Default solver will be changed to 'lbfgs' in 0.22. Specify a solver to silence this warning.\n",
      "  FutureWarning)\n",
      "/Users/tsawaengsri/anaconda3/lib/python3.6/site-packages/sklearn/linear_model/logistic.py:433: FutureWarning: Default solver will be changed to 'lbfgs' in 0.22. Specify a solver to silence this warning.\n",
      "  FutureWarning)\n",
      "/Users/tsawaengsri/anaconda3/lib/python3.6/site-packages/sklearn/linear_model/logistic.py:433: FutureWarning: Default solver will be changed to 'lbfgs' in 0.22. Specify a solver to silence this warning.\n",
      "  FutureWarning)\n",
      "/Users/tsawaengsri/anaconda3/lib/python3.6/site-packages/sklearn/linear_model/logistic.py:433: FutureWarning: Default solver will be changed to 'lbfgs' in 0.22. Specify a solver to silence this warning.\n",
      "  FutureWarning)\n",
      "/Users/tsawaengsri/anaconda3/lib/python3.6/site-packages/sklearn/linear_model/logistic.py:433: FutureWarning: Default solver will be changed to 'lbfgs' in 0.22. Specify a solver to silence this warning.\n",
      "  FutureWarning)\n",
      "/Users/tsawaengsri/anaconda3/lib/python3.6/site-packages/sklearn/linear_model/logistic.py:433: FutureWarning: Default solver will be changed to 'lbfgs' in 0.22. Specify a solver to silence this warning.\n",
      "  FutureWarning)\n",
      "/Users/tsawaengsri/anaconda3/lib/python3.6/site-packages/sklearn/linear_model/logistic.py:433: FutureWarning: Default solver will be changed to 'lbfgs' in 0.22. Specify a solver to silence this warning.\n",
      "  FutureWarning)\n",
      "/Users/tsawaengsri/anaconda3/lib/python3.6/site-packages/sklearn/linear_model/logistic.py:433: FutureWarning: Default solver will be changed to 'lbfgs' in 0.22. Specify a solver to silence this warning.\n",
      "  FutureWarning)\n",
      "/Users/tsawaengsri/anaconda3/lib/python3.6/site-packages/sklearn/linear_model/logistic.py:433: FutureWarning: Default solver will be changed to 'lbfgs' in 0.22. Specify a solver to silence this warning.\n",
      "  FutureWarning)\n",
      "/Users/tsawaengsri/anaconda3/lib/python3.6/site-packages/sklearn/linear_model/logistic.py:433: FutureWarning: Default solver will be changed to 'lbfgs' in 0.22. Specify a solver to silence this warning.\n",
      "  FutureWarning)\n",
      "/Users/tsawaengsri/anaconda3/lib/python3.6/site-packages/sklearn/linear_model/logistic.py:433: FutureWarning: Default solver will be changed to 'lbfgs' in 0.22. Specify a solver to silence this warning.\n",
      "  FutureWarning)\n",
      "/Users/tsawaengsri/anaconda3/lib/python3.6/site-packages/sklearn/linear_model/logistic.py:433: FutureWarning: Default solver will be changed to 'lbfgs' in 0.22. Specify a solver to silence this warning.\n",
      "  FutureWarning)\n",
      "/Users/tsawaengsri/anaconda3/lib/python3.6/site-packages/sklearn/linear_model/logistic.py:433: FutureWarning: Default solver will be changed to 'lbfgs' in 0.22. Specify a solver to silence this warning.\n",
      "  FutureWarning)\n",
      "/Users/tsawaengsri/anaconda3/lib/python3.6/site-packages/sklearn/linear_model/logistic.py:433: FutureWarning: Default solver will be changed to 'lbfgs' in 0.22. Specify a solver to silence this warning.\n",
      "  FutureWarning)\n",
      "/Users/tsawaengsri/anaconda3/lib/python3.6/site-packages/sklearn/linear_model/logistic.py:433: FutureWarning: Default solver will be changed to 'lbfgs' in 0.22. Specify a solver to silence this warning.\n",
      "  FutureWarning)\n",
      "/Users/tsawaengsri/anaconda3/lib/python3.6/site-packages/sklearn/linear_model/logistic.py:433: FutureWarning: Default solver will be changed to 'lbfgs' in 0.22. Specify a solver to silence this warning.\n",
      "  FutureWarning)\n"
     ]
    },
    {
     "name": "stderr",
     "output_type": "stream",
     "text": [
      "/Users/tsawaengsri/anaconda3/lib/python3.6/site-packages/sklearn/linear_model/logistic.py:433: FutureWarning: Default solver will be changed to 'lbfgs' in 0.22. Specify a solver to silence this warning.\n",
      "  FutureWarning)\n",
      "/Users/tsawaengsri/anaconda3/lib/python3.6/site-packages/sklearn/linear_model/logistic.py:433: FutureWarning: Default solver will be changed to 'lbfgs' in 0.22. Specify a solver to silence this warning.\n",
      "  FutureWarning)\n",
      "/Users/tsawaengsri/anaconda3/lib/python3.6/site-packages/sklearn/linear_model/logistic.py:433: FutureWarning: Default solver will be changed to 'lbfgs' in 0.22. Specify a solver to silence this warning.\n",
      "  FutureWarning)\n",
      "/Users/tsawaengsri/anaconda3/lib/python3.6/site-packages/sklearn/linear_model/logistic.py:433: FutureWarning: Default solver will be changed to 'lbfgs' in 0.22. Specify a solver to silence this warning.\n",
      "  FutureWarning)\n",
      "/Users/tsawaengsri/anaconda3/lib/python3.6/site-packages/sklearn/linear_model/logistic.py:433: FutureWarning: Default solver will be changed to 'lbfgs' in 0.22. Specify a solver to silence this warning.\n",
      "  FutureWarning)\n",
      "/Users/tsawaengsri/anaconda3/lib/python3.6/site-packages/sklearn/linear_model/logistic.py:433: FutureWarning: Default solver will be changed to 'lbfgs' in 0.22. Specify a solver to silence this warning.\n",
      "  FutureWarning)\n",
      "/Users/tsawaengsri/anaconda3/lib/python3.6/site-packages/sklearn/linear_model/logistic.py:433: FutureWarning: Default solver will be changed to 'lbfgs' in 0.22. Specify a solver to silence this warning.\n",
      "  FutureWarning)\n",
      "/Users/tsawaengsri/anaconda3/lib/python3.6/site-packages/sklearn/linear_model/logistic.py:433: FutureWarning: Default solver will be changed to 'lbfgs' in 0.22. Specify a solver to silence this warning.\n",
      "  FutureWarning)\n",
      "/Users/tsawaengsri/anaconda3/lib/python3.6/site-packages/sklearn/linear_model/logistic.py:433: FutureWarning: Default solver will be changed to 'lbfgs' in 0.22. Specify a solver to silence this warning.\n",
      "  FutureWarning)\n",
      "/Users/tsawaengsri/anaconda3/lib/python3.6/site-packages/sklearn/linear_model/logistic.py:433: FutureWarning: Default solver will be changed to 'lbfgs' in 0.22. Specify a solver to silence this warning.\n",
      "  FutureWarning)\n",
      "/Users/tsawaengsri/anaconda3/lib/python3.6/site-packages/sklearn/linear_model/logistic.py:433: FutureWarning: Default solver will be changed to 'lbfgs' in 0.22. Specify a solver to silence this warning.\n",
      "  FutureWarning)\n",
      "/Users/tsawaengsri/anaconda3/lib/python3.6/site-packages/sklearn/linear_model/logistic.py:433: FutureWarning: Default solver will be changed to 'lbfgs' in 0.22. Specify a solver to silence this warning.\n",
      "  FutureWarning)\n",
      "/Users/tsawaengsri/anaconda3/lib/python3.6/site-packages/sklearn/linear_model/logistic.py:433: FutureWarning: Default solver will be changed to 'lbfgs' in 0.22. Specify a solver to silence this warning.\n",
      "  FutureWarning)\n",
      "/Users/tsawaengsri/anaconda3/lib/python3.6/site-packages/sklearn/linear_model/logistic.py:433: FutureWarning: Default solver will be changed to 'lbfgs' in 0.22. Specify a solver to silence this warning.\n",
      "  FutureWarning)\n",
      "/Users/tsawaengsri/anaconda3/lib/python3.6/site-packages/sklearn/linear_model/logistic.py:433: FutureWarning: Default solver will be changed to 'lbfgs' in 0.22. Specify a solver to silence this warning.\n",
      "  FutureWarning)\n",
      "/Users/tsawaengsri/anaconda3/lib/python3.6/site-packages/sklearn/linear_model/logistic.py:433: FutureWarning: Default solver will be changed to 'lbfgs' in 0.22. Specify a solver to silence this warning.\n",
      "  FutureWarning)\n",
      "/Users/tsawaengsri/anaconda3/lib/python3.6/site-packages/sklearn/linear_model/logistic.py:433: FutureWarning: Default solver will be changed to 'lbfgs' in 0.22. Specify a solver to silence this warning.\n",
      "  FutureWarning)\n",
      "/Users/tsawaengsri/anaconda3/lib/python3.6/site-packages/sklearn/linear_model/logistic.py:433: FutureWarning: Default solver will be changed to 'lbfgs' in 0.22. Specify a solver to silence this warning.\n",
      "  FutureWarning)\n",
      "/Users/tsawaengsri/anaconda3/lib/python3.6/site-packages/sklearn/linear_model/logistic.py:433: FutureWarning: Default solver will be changed to 'lbfgs' in 0.22. Specify a solver to silence this warning.\n",
      "  FutureWarning)\n",
      "/Users/tsawaengsri/anaconda3/lib/python3.6/site-packages/sklearn/linear_model/logistic.py:433: FutureWarning: Default solver will be changed to 'lbfgs' in 0.22. Specify a solver to silence this warning.\n",
      "  FutureWarning)\n",
      "/Users/tsawaengsri/anaconda3/lib/python3.6/site-packages/sklearn/linear_model/logistic.py:433: FutureWarning: Default solver will be changed to 'lbfgs' in 0.22. Specify a solver to silence this warning.\n",
      "  FutureWarning)\n",
      "/Users/tsawaengsri/anaconda3/lib/python3.6/site-packages/sklearn/linear_model/logistic.py:433: FutureWarning: Default solver will be changed to 'lbfgs' in 0.22. Specify a solver to silence this warning.\n",
      "  FutureWarning)\n",
      "/Users/tsawaengsri/anaconda3/lib/python3.6/site-packages/sklearn/linear_model/logistic.py:433: FutureWarning: Default solver will be changed to 'lbfgs' in 0.22. Specify a solver to silence this warning.\n",
      "  FutureWarning)\n",
      "/Users/tsawaengsri/anaconda3/lib/python3.6/site-packages/sklearn/linear_model/logistic.py:433: FutureWarning: Default solver will be changed to 'lbfgs' in 0.22. Specify a solver to silence this warning.\n",
      "  FutureWarning)\n",
      "/Users/tsawaengsri/anaconda3/lib/python3.6/site-packages/sklearn/linear_model/logistic.py:433: FutureWarning: Default solver will be changed to 'lbfgs' in 0.22. Specify a solver to silence this warning.\n",
      "  FutureWarning)\n",
      "/Users/tsawaengsri/anaconda3/lib/python3.6/site-packages/sklearn/linear_model/logistic.py:433: FutureWarning: Default solver will be changed to 'lbfgs' in 0.22. Specify a solver to silence this warning.\n",
      "  FutureWarning)\n",
      "/Users/tsawaengsri/anaconda3/lib/python3.6/site-packages/sklearn/linear_model/logistic.py:433: FutureWarning: Default solver will be changed to 'lbfgs' in 0.22. Specify a solver to silence this warning.\n",
      "  FutureWarning)\n",
      "/Users/tsawaengsri/anaconda3/lib/python3.6/site-packages/sklearn/linear_model/logistic.py:433: FutureWarning: Default solver will be changed to 'lbfgs' in 0.22. Specify a solver to silence this warning.\n",
      "  FutureWarning)\n",
      "/Users/tsawaengsri/anaconda3/lib/python3.6/site-packages/sklearn/linear_model/logistic.py:433: FutureWarning: Default solver will be changed to 'lbfgs' in 0.22. Specify a solver to silence this warning.\n",
      "  FutureWarning)\n",
      "/Users/tsawaengsri/anaconda3/lib/python3.6/site-packages/sklearn/linear_model/logistic.py:433: FutureWarning: Default solver will be changed to 'lbfgs' in 0.22. Specify a solver to silence this warning.\n",
      "  FutureWarning)\n",
      "/Users/tsawaengsri/anaconda3/lib/python3.6/site-packages/sklearn/linear_model/logistic.py:433: FutureWarning: Default solver will be changed to 'lbfgs' in 0.22. Specify a solver to silence this warning.\n",
      "  FutureWarning)\n",
      "/Users/tsawaengsri/anaconda3/lib/python3.6/site-packages/sklearn/linear_model/logistic.py:433: FutureWarning: Default solver will be changed to 'lbfgs' in 0.22. Specify a solver to silence this warning.\n",
      "  FutureWarning)\n",
      "/Users/tsawaengsri/anaconda3/lib/python3.6/site-packages/sklearn/linear_model/logistic.py:433: FutureWarning: Default solver will be changed to 'lbfgs' in 0.22. Specify a solver to silence this warning.\n",
      "  FutureWarning)\n",
      "/Users/tsawaengsri/anaconda3/lib/python3.6/site-packages/sklearn/linear_model/logistic.py:433: FutureWarning: Default solver will be changed to 'lbfgs' in 0.22. Specify a solver to silence this warning.\n",
      "  FutureWarning)\n",
      "/Users/tsawaengsri/anaconda3/lib/python3.6/site-packages/sklearn/linear_model/logistic.py:433: FutureWarning: Default solver will be changed to 'lbfgs' in 0.22. Specify a solver to silence this warning.\n",
      "  FutureWarning)\n",
      "/Users/tsawaengsri/anaconda3/lib/python3.6/site-packages/sklearn/linear_model/logistic.py:433: FutureWarning: Default solver will be changed to 'lbfgs' in 0.22. Specify a solver to silence this warning.\n",
      "  FutureWarning)\n",
      "/Users/tsawaengsri/anaconda3/lib/python3.6/site-packages/sklearn/linear_model/logistic.py:433: FutureWarning: Default solver will be changed to 'lbfgs' in 0.22. Specify a solver to silence this warning.\n",
      "  FutureWarning)\n",
      "/Users/tsawaengsri/anaconda3/lib/python3.6/site-packages/sklearn/linear_model/logistic.py:433: FutureWarning: Default solver will be changed to 'lbfgs' in 0.22. Specify a solver to silence this warning.\n",
      "  FutureWarning)\n"
     ]
    },
    {
     "name": "stderr",
     "output_type": "stream",
     "text": [
      "/Users/tsawaengsri/anaconda3/lib/python3.6/site-packages/sklearn/linear_model/logistic.py:433: FutureWarning: Default solver will be changed to 'lbfgs' in 0.22. Specify a solver to silence this warning.\n",
      "  FutureWarning)\n",
      "/Users/tsawaengsri/anaconda3/lib/python3.6/site-packages/sklearn/linear_model/logistic.py:433: FutureWarning: Default solver will be changed to 'lbfgs' in 0.22. Specify a solver to silence this warning.\n",
      "  FutureWarning)\n",
      "/Users/tsawaengsri/anaconda3/lib/python3.6/site-packages/sklearn/linear_model/logistic.py:433: FutureWarning: Default solver will be changed to 'lbfgs' in 0.22. Specify a solver to silence this warning.\n",
      "  FutureWarning)\n",
      "/Users/tsawaengsri/anaconda3/lib/python3.6/site-packages/sklearn/linear_model/logistic.py:433: FutureWarning: Default solver will be changed to 'lbfgs' in 0.22. Specify a solver to silence this warning.\n",
      "  FutureWarning)\n",
      "/Users/tsawaengsri/anaconda3/lib/python3.6/site-packages/sklearn/linear_model/logistic.py:433: FutureWarning: Default solver will be changed to 'lbfgs' in 0.22. Specify a solver to silence this warning.\n",
      "  FutureWarning)\n",
      "/Users/tsawaengsri/anaconda3/lib/python3.6/site-packages/sklearn/linear_model/logistic.py:433: FutureWarning: Default solver will be changed to 'lbfgs' in 0.22. Specify a solver to silence this warning.\n",
      "  FutureWarning)\n",
      "/Users/tsawaengsri/anaconda3/lib/python3.6/site-packages/sklearn/linear_model/logistic.py:433: FutureWarning: Default solver will be changed to 'lbfgs' in 0.22. Specify a solver to silence this warning.\n",
      "  FutureWarning)\n",
      "/Users/tsawaengsri/anaconda3/lib/python3.6/site-packages/sklearn/linear_model/logistic.py:433: FutureWarning: Default solver will be changed to 'lbfgs' in 0.22. Specify a solver to silence this warning.\n",
      "  FutureWarning)\n",
      "/Users/tsawaengsri/anaconda3/lib/python3.6/site-packages/sklearn/linear_model/logistic.py:433: FutureWarning: Default solver will be changed to 'lbfgs' in 0.22. Specify a solver to silence this warning.\n",
      "  FutureWarning)\n",
      "/Users/tsawaengsri/anaconda3/lib/python3.6/site-packages/sklearn/linear_model/logistic.py:433: FutureWarning: Default solver will be changed to 'lbfgs' in 0.22. Specify a solver to silence this warning.\n",
      "  FutureWarning)\n",
      "/Users/tsawaengsri/anaconda3/lib/python3.6/site-packages/sklearn/linear_model/logistic.py:433: FutureWarning: Default solver will be changed to 'lbfgs' in 0.22. Specify a solver to silence this warning.\n",
      "  FutureWarning)\n",
      "/Users/tsawaengsri/anaconda3/lib/python3.6/site-packages/sklearn/linear_model/logistic.py:433: FutureWarning: Default solver will be changed to 'lbfgs' in 0.22. Specify a solver to silence this warning.\n",
      "  FutureWarning)\n",
      "/Users/tsawaengsri/anaconda3/lib/python3.6/site-packages/sklearn/linear_model/logistic.py:433: FutureWarning: Default solver will be changed to 'lbfgs' in 0.22. Specify a solver to silence this warning.\n",
      "  FutureWarning)\n",
      "/Users/tsawaengsri/anaconda3/lib/python3.6/site-packages/sklearn/linear_model/logistic.py:433: FutureWarning: Default solver will be changed to 'lbfgs' in 0.22. Specify a solver to silence this warning.\n",
      "  FutureWarning)\n",
      "/Users/tsawaengsri/anaconda3/lib/python3.6/site-packages/sklearn/linear_model/logistic.py:433: FutureWarning: Default solver will be changed to 'lbfgs' in 0.22. Specify a solver to silence this warning.\n",
      "  FutureWarning)\n",
      "/Users/tsawaengsri/anaconda3/lib/python3.6/site-packages/sklearn/linear_model/logistic.py:433: FutureWarning: Default solver will be changed to 'lbfgs' in 0.22. Specify a solver to silence this warning.\n",
      "  FutureWarning)\n",
      "/Users/tsawaengsri/anaconda3/lib/python3.6/site-packages/sklearn/linear_model/logistic.py:433: FutureWarning: Default solver will be changed to 'lbfgs' in 0.22. Specify a solver to silence this warning.\n",
      "  FutureWarning)\n",
      "/Users/tsawaengsri/anaconda3/lib/python3.6/site-packages/sklearn/linear_model/logistic.py:433: FutureWarning: Default solver will be changed to 'lbfgs' in 0.22. Specify a solver to silence this warning.\n",
      "  FutureWarning)\n",
      "/Users/tsawaengsri/anaconda3/lib/python3.6/site-packages/sklearn/linear_model/logistic.py:433: FutureWarning: Default solver will be changed to 'lbfgs' in 0.22. Specify a solver to silence this warning.\n",
      "  FutureWarning)\n",
      "/Users/tsawaengsri/anaconda3/lib/python3.6/site-packages/sklearn/linear_model/logistic.py:433: FutureWarning: Default solver will be changed to 'lbfgs' in 0.22. Specify a solver to silence this warning.\n",
      "  FutureWarning)\n",
      "/Users/tsawaengsri/anaconda3/lib/python3.6/site-packages/sklearn/linear_model/logistic.py:433: FutureWarning: Default solver will be changed to 'lbfgs' in 0.22. Specify a solver to silence this warning.\n",
      "  FutureWarning)\n",
      "/Users/tsawaengsri/anaconda3/lib/python3.6/site-packages/sklearn/linear_model/logistic.py:433: FutureWarning: Default solver will be changed to 'lbfgs' in 0.22. Specify a solver to silence this warning.\n",
      "  FutureWarning)\n"
     ]
    },
    {
     "name": "stdout",
     "output_type": "stream",
     "text": [
      "{'C': 1e-05} 0.771215887401393\n"
     ]
    }
   ],
   "source": [
    "# Logistic Model\n",
    "#parameters = {'C':np.logspace(-5,5)}\n",
    "#lr = LogisticRegression()\n",
    "#gsc_lr = GridSearchCV(lr, parameters, cv=5, scoring='roc_auc')\n",
    "#gsc_lr.fit(X_train, y_train)\n",
    "#print(gsc_lr.best_params_, gsc_lr.best_score_)\n",
    "\n",
    "# {'C': 1e-05} 0.771215887401393"
   ]
  },
  {
   "cell_type": "code",
   "execution_count": 105,
   "metadata": {},
   "outputs": [
    {
     "name": "stderr",
     "output_type": "stream",
     "text": [
      "/Users/tsawaengsri/anaconda3/lib/python3.6/site-packages/sklearn/linear_model/logistic.py:433: FutureWarning: Default solver will be changed to 'lbfgs' in 0.22. Specify a solver to silence this warning.\n",
      "  FutureWarning)\n",
      "/Users/tsawaengsri/anaconda3/lib/python3.6/site-packages/sklearn/svm/base.py:922: ConvergenceWarning: Liblinear failed to converge, increase the number of iterations.\n",
      "  \"the number of iterations.\", ConvergenceWarning)\n",
      "/Users/tsawaengsri/anaconda3/lib/python3.6/site-packages/sklearn/linear_model/logistic.py:433: FutureWarning: Default solver will be changed to 'lbfgs' in 0.22. Specify a solver to silence this warning.\n",
      "  FutureWarning)\n",
      "/Users/tsawaengsri/anaconda3/lib/python3.6/site-packages/sklearn/svm/base.py:922: ConvergenceWarning: Liblinear failed to converge, increase the number of iterations.\n",
      "  \"the number of iterations.\", ConvergenceWarning)\n",
      "/Users/tsawaengsri/anaconda3/lib/python3.6/site-packages/sklearn/linear_model/logistic.py:433: FutureWarning: Default solver will be changed to 'lbfgs' in 0.22. Specify a solver to silence this warning.\n",
      "  FutureWarning)\n",
      "/Users/tsawaengsri/anaconda3/lib/python3.6/site-packages/sklearn/svm/base.py:922: ConvergenceWarning: Liblinear failed to converge, increase the number of iterations.\n",
      "  \"the number of iterations.\", ConvergenceWarning)\n",
      "/Users/tsawaengsri/anaconda3/lib/python3.6/site-packages/sklearn/linear_model/logistic.py:433: FutureWarning: Default solver will be changed to 'lbfgs' in 0.22. Specify a solver to silence this warning.\n",
      "  FutureWarning)\n",
      "/Users/tsawaengsri/anaconda3/lib/python3.6/site-packages/sklearn/svm/base.py:922: ConvergenceWarning: Liblinear failed to converge, increase the number of iterations.\n",
      "  \"the number of iterations.\", ConvergenceWarning)\n",
      "/Users/tsawaengsri/anaconda3/lib/python3.6/site-packages/sklearn/linear_model/logistic.py:433: FutureWarning: Default solver will be changed to 'lbfgs' in 0.22. Specify a solver to silence this warning.\n",
      "  FutureWarning)\n"
     ]
    },
    {
     "ename": "KeyboardInterrupt",
     "evalue": "",
     "output_type": "error",
     "traceback": [
      "\u001b[0;31m---------------------------------------------------------------------------\u001b[0m",
      "\u001b[0;31mKeyboardInterrupt\u001b[0m                         Traceback (most recent call last)",
      "\u001b[0;32m<ipython-input-105-bd020684d288>\u001b[0m in \u001b[0;36m<module>\u001b[0;34m\u001b[0m\n\u001b[1;32m      4\u001b[0m \u001b[0mgsc_lr2\u001b[0m \u001b[0;34m=\u001b[0m \u001b[0mLogisticRegression\u001b[0m\u001b[0;34m(\u001b[0m\u001b[0mC\u001b[0m\u001b[0;34m=\u001b[0m\u001b[0;36m1e-05\u001b[0m\u001b[0;34m)\u001b[0m\u001b[0;34m\u001b[0m\u001b[0;34m\u001b[0m\u001b[0m\n\u001b[1;32m      5\u001b[0m \u001b[0mgsc_lr2\u001b[0m \u001b[0;34m=\u001b[0m \u001b[0mGridSearchCV\u001b[0m\u001b[0;34m(\u001b[0m\u001b[0mgsc_lr2\u001b[0m\u001b[0;34m,\u001b[0m \u001b[0mparameters\u001b[0m\u001b[0;34m,\u001b[0m \u001b[0mcv\u001b[0m\u001b[0;34m=\u001b[0m\u001b[0;36m5\u001b[0m\u001b[0;34m,\u001b[0m \u001b[0mscoring\u001b[0m\u001b[0;34m=\u001b[0m\u001b[0;34m'roc_auc'\u001b[0m\u001b[0;34m)\u001b[0m\u001b[0;34m\u001b[0m\u001b[0;34m\u001b[0m\u001b[0m\n\u001b[0;32m----> 6\u001b[0;31m \u001b[0mgsc_lr2\u001b[0m\u001b[0;34m.\u001b[0m\u001b[0mfit\u001b[0m\u001b[0;34m(\u001b[0m\u001b[0mX_train\u001b[0m\u001b[0;34m,\u001b[0m \u001b[0my_train\u001b[0m\u001b[0;34m)\u001b[0m\u001b[0;34m\u001b[0m\u001b[0;34m\u001b[0m\u001b[0m\n\u001b[0m\u001b[1;32m      7\u001b[0m \u001b[0mprint\u001b[0m\u001b[0;34m(\u001b[0m\u001b[0mgsc_lr2\u001b[0m\u001b[0;34m.\u001b[0m\u001b[0mbest_params_\u001b[0m\u001b[0;34m,\u001b[0m \u001b[0mgsc_lr2\u001b[0m\u001b[0;34m.\u001b[0m\u001b[0mbest_score_\u001b[0m\u001b[0;34m)\u001b[0m\u001b[0;34m\u001b[0m\u001b[0;34m\u001b[0m\u001b[0m\n",
      "\u001b[0;32m~/anaconda3/lib/python3.6/site-packages/sklearn/model_selection/_search.py\u001b[0m in \u001b[0;36mfit\u001b[0;34m(self, X, y, groups, **fit_params)\u001b[0m\n\u001b[1;32m    720\u001b[0m                 \u001b[0;32mreturn\u001b[0m \u001b[0mresults_container\u001b[0m\u001b[0;34m[\u001b[0m\u001b[0;36m0\u001b[0m\u001b[0;34m]\u001b[0m\u001b[0;34m\u001b[0m\u001b[0;34m\u001b[0m\u001b[0m\n\u001b[1;32m    721\u001b[0m \u001b[0;34m\u001b[0m\u001b[0m\n\u001b[0;32m--> 722\u001b[0;31m             \u001b[0mself\u001b[0m\u001b[0;34m.\u001b[0m\u001b[0m_run_search\u001b[0m\u001b[0;34m(\u001b[0m\u001b[0mevaluate_candidates\u001b[0m\u001b[0;34m)\u001b[0m\u001b[0;34m\u001b[0m\u001b[0;34m\u001b[0m\u001b[0m\n\u001b[0m\u001b[1;32m    723\u001b[0m \u001b[0;34m\u001b[0m\u001b[0m\n\u001b[1;32m    724\u001b[0m         \u001b[0mresults\u001b[0m \u001b[0;34m=\u001b[0m \u001b[0mresults_container\u001b[0m\u001b[0;34m[\u001b[0m\u001b[0;36m0\u001b[0m\u001b[0;34m]\u001b[0m\u001b[0;34m\u001b[0m\u001b[0;34m\u001b[0m\u001b[0m\n",
      "\u001b[0;32m~/anaconda3/lib/python3.6/site-packages/sklearn/model_selection/_search.py\u001b[0m in \u001b[0;36m_run_search\u001b[0;34m(self, evaluate_candidates)\u001b[0m\n\u001b[1;32m   1189\u001b[0m     \u001b[0;32mdef\u001b[0m \u001b[0m_run_search\u001b[0m\u001b[0;34m(\u001b[0m\u001b[0mself\u001b[0m\u001b[0;34m,\u001b[0m \u001b[0mevaluate_candidates\u001b[0m\u001b[0;34m)\u001b[0m\u001b[0;34m:\u001b[0m\u001b[0;34m\u001b[0m\u001b[0;34m\u001b[0m\u001b[0m\n\u001b[1;32m   1190\u001b[0m         \u001b[0;34m\"\"\"Search all candidates in param_grid\"\"\"\u001b[0m\u001b[0;34m\u001b[0m\u001b[0;34m\u001b[0m\u001b[0m\n\u001b[0;32m-> 1191\u001b[0;31m         \u001b[0mevaluate_candidates\u001b[0m\u001b[0;34m(\u001b[0m\u001b[0mParameterGrid\u001b[0m\u001b[0;34m(\u001b[0m\u001b[0mself\u001b[0m\u001b[0;34m.\u001b[0m\u001b[0mparam_grid\u001b[0m\u001b[0;34m)\u001b[0m\u001b[0;34m)\u001b[0m\u001b[0;34m\u001b[0m\u001b[0;34m\u001b[0m\u001b[0m\n\u001b[0m\u001b[1;32m   1192\u001b[0m \u001b[0;34m\u001b[0m\u001b[0m\n\u001b[1;32m   1193\u001b[0m \u001b[0;34m\u001b[0m\u001b[0m\n",
      "\u001b[0;32m~/anaconda3/lib/python3.6/site-packages/sklearn/model_selection/_search.py\u001b[0m in \u001b[0;36mevaluate_candidates\u001b[0;34m(candidate_params)\u001b[0m\n\u001b[1;32m    709\u001b[0m                                \u001b[0;32mfor\u001b[0m \u001b[0mparameters\u001b[0m\u001b[0;34m,\u001b[0m \u001b[0;34m(\u001b[0m\u001b[0mtrain\u001b[0m\u001b[0;34m,\u001b[0m \u001b[0mtest\u001b[0m\u001b[0;34m)\u001b[0m\u001b[0;34m\u001b[0m\u001b[0;34m\u001b[0m\u001b[0m\n\u001b[1;32m    710\u001b[0m                                in product(candidate_params,\n\u001b[0;32m--> 711\u001b[0;31m                                           cv.split(X, y, groups)))\n\u001b[0m\u001b[1;32m    712\u001b[0m \u001b[0;34m\u001b[0m\u001b[0m\n\u001b[1;32m    713\u001b[0m                 \u001b[0mall_candidate_params\u001b[0m\u001b[0;34m.\u001b[0m\u001b[0mextend\u001b[0m\u001b[0;34m(\u001b[0m\u001b[0mcandidate_params\u001b[0m\u001b[0;34m)\u001b[0m\u001b[0;34m\u001b[0m\u001b[0;34m\u001b[0m\u001b[0m\n",
      "\u001b[0;32m~/anaconda3/lib/python3.6/site-packages/sklearn/externals/joblib/parallel.py\u001b[0m in \u001b[0;36m__call__\u001b[0;34m(self, iterable)\u001b[0m\n\u001b[1;32m    918\u001b[0m                 \u001b[0mself\u001b[0m\u001b[0;34m.\u001b[0m\u001b[0m_iterating\u001b[0m \u001b[0;34m=\u001b[0m \u001b[0mself\u001b[0m\u001b[0;34m.\u001b[0m\u001b[0m_original_iterator\u001b[0m \u001b[0;32mis\u001b[0m \u001b[0;32mnot\u001b[0m \u001b[0;32mNone\u001b[0m\u001b[0;34m\u001b[0m\u001b[0;34m\u001b[0m\u001b[0m\n\u001b[1;32m    919\u001b[0m \u001b[0;34m\u001b[0m\u001b[0m\n\u001b[0;32m--> 920\u001b[0;31m             \u001b[0;32mwhile\u001b[0m \u001b[0mself\u001b[0m\u001b[0;34m.\u001b[0m\u001b[0mdispatch_one_batch\u001b[0m\u001b[0;34m(\u001b[0m\u001b[0miterator\u001b[0m\u001b[0;34m)\u001b[0m\u001b[0;34m:\u001b[0m\u001b[0;34m\u001b[0m\u001b[0;34m\u001b[0m\u001b[0m\n\u001b[0m\u001b[1;32m    921\u001b[0m                 \u001b[0;32mpass\u001b[0m\u001b[0;34m\u001b[0m\u001b[0;34m\u001b[0m\u001b[0m\n\u001b[1;32m    922\u001b[0m \u001b[0;34m\u001b[0m\u001b[0m\n",
      "\u001b[0;32m~/anaconda3/lib/python3.6/site-packages/sklearn/externals/joblib/parallel.py\u001b[0m in \u001b[0;36mdispatch_one_batch\u001b[0;34m(self, iterator)\u001b[0m\n\u001b[1;32m    757\u001b[0m                 \u001b[0;32mreturn\u001b[0m \u001b[0;32mFalse\u001b[0m\u001b[0;34m\u001b[0m\u001b[0;34m\u001b[0m\u001b[0m\n\u001b[1;32m    758\u001b[0m             \u001b[0;32melse\u001b[0m\u001b[0;34m:\u001b[0m\u001b[0;34m\u001b[0m\u001b[0;34m\u001b[0m\u001b[0m\n\u001b[0;32m--> 759\u001b[0;31m                 \u001b[0mself\u001b[0m\u001b[0;34m.\u001b[0m\u001b[0m_dispatch\u001b[0m\u001b[0;34m(\u001b[0m\u001b[0mtasks\u001b[0m\u001b[0;34m)\u001b[0m\u001b[0;34m\u001b[0m\u001b[0;34m\u001b[0m\u001b[0m\n\u001b[0m\u001b[1;32m    760\u001b[0m                 \u001b[0;32mreturn\u001b[0m \u001b[0;32mTrue\u001b[0m\u001b[0;34m\u001b[0m\u001b[0;34m\u001b[0m\u001b[0m\n\u001b[1;32m    761\u001b[0m \u001b[0;34m\u001b[0m\u001b[0m\n",
      "\u001b[0;32m~/anaconda3/lib/python3.6/site-packages/sklearn/externals/joblib/parallel.py\u001b[0m in \u001b[0;36m_dispatch\u001b[0;34m(self, batch)\u001b[0m\n\u001b[1;32m    714\u001b[0m         \u001b[0;32mwith\u001b[0m \u001b[0mself\u001b[0m\u001b[0;34m.\u001b[0m\u001b[0m_lock\u001b[0m\u001b[0;34m:\u001b[0m\u001b[0;34m\u001b[0m\u001b[0;34m\u001b[0m\u001b[0m\n\u001b[1;32m    715\u001b[0m             \u001b[0mjob_idx\u001b[0m \u001b[0;34m=\u001b[0m \u001b[0mlen\u001b[0m\u001b[0;34m(\u001b[0m\u001b[0mself\u001b[0m\u001b[0;34m.\u001b[0m\u001b[0m_jobs\u001b[0m\u001b[0;34m)\u001b[0m\u001b[0;34m\u001b[0m\u001b[0;34m\u001b[0m\u001b[0m\n\u001b[0;32m--> 716\u001b[0;31m             \u001b[0mjob\u001b[0m \u001b[0;34m=\u001b[0m \u001b[0mself\u001b[0m\u001b[0;34m.\u001b[0m\u001b[0m_backend\u001b[0m\u001b[0;34m.\u001b[0m\u001b[0mapply_async\u001b[0m\u001b[0;34m(\u001b[0m\u001b[0mbatch\u001b[0m\u001b[0;34m,\u001b[0m \u001b[0mcallback\u001b[0m\u001b[0;34m=\u001b[0m\u001b[0mcb\u001b[0m\u001b[0;34m)\u001b[0m\u001b[0;34m\u001b[0m\u001b[0;34m\u001b[0m\u001b[0m\n\u001b[0m\u001b[1;32m    717\u001b[0m             \u001b[0;31m# A job can complete so quickly than its callback is\u001b[0m\u001b[0;34m\u001b[0m\u001b[0;34m\u001b[0m\u001b[0;34m\u001b[0m\u001b[0m\n\u001b[1;32m    718\u001b[0m             \u001b[0;31m# called before we get here, causing self._jobs to\u001b[0m\u001b[0;34m\u001b[0m\u001b[0;34m\u001b[0m\u001b[0;34m\u001b[0m\u001b[0m\n",
      "\u001b[0;32m~/anaconda3/lib/python3.6/site-packages/sklearn/externals/joblib/_parallel_backends.py\u001b[0m in \u001b[0;36mapply_async\u001b[0;34m(self, func, callback)\u001b[0m\n\u001b[1;32m    180\u001b[0m     \u001b[0;32mdef\u001b[0m \u001b[0mapply_async\u001b[0m\u001b[0;34m(\u001b[0m\u001b[0mself\u001b[0m\u001b[0;34m,\u001b[0m \u001b[0mfunc\u001b[0m\u001b[0;34m,\u001b[0m \u001b[0mcallback\u001b[0m\u001b[0;34m=\u001b[0m\u001b[0;32mNone\u001b[0m\u001b[0;34m)\u001b[0m\u001b[0;34m:\u001b[0m\u001b[0;34m\u001b[0m\u001b[0;34m\u001b[0m\u001b[0m\n\u001b[1;32m    181\u001b[0m         \u001b[0;34m\"\"\"Schedule a func to be run\"\"\"\u001b[0m\u001b[0;34m\u001b[0m\u001b[0;34m\u001b[0m\u001b[0m\n\u001b[0;32m--> 182\u001b[0;31m         \u001b[0mresult\u001b[0m \u001b[0;34m=\u001b[0m \u001b[0mImmediateResult\u001b[0m\u001b[0;34m(\u001b[0m\u001b[0mfunc\u001b[0m\u001b[0;34m)\u001b[0m\u001b[0;34m\u001b[0m\u001b[0;34m\u001b[0m\u001b[0m\n\u001b[0m\u001b[1;32m    183\u001b[0m         \u001b[0;32mif\u001b[0m \u001b[0mcallback\u001b[0m\u001b[0;34m:\u001b[0m\u001b[0;34m\u001b[0m\u001b[0;34m\u001b[0m\u001b[0m\n\u001b[1;32m    184\u001b[0m             \u001b[0mcallback\u001b[0m\u001b[0;34m(\u001b[0m\u001b[0mresult\u001b[0m\u001b[0;34m)\u001b[0m\u001b[0;34m\u001b[0m\u001b[0;34m\u001b[0m\u001b[0m\n",
      "\u001b[0;32m~/anaconda3/lib/python3.6/site-packages/sklearn/externals/joblib/_parallel_backends.py\u001b[0m in \u001b[0;36m__init__\u001b[0;34m(self, batch)\u001b[0m\n\u001b[1;32m    547\u001b[0m         \u001b[0;31m# Don't delay the application, to avoid keeping the input\u001b[0m\u001b[0;34m\u001b[0m\u001b[0;34m\u001b[0m\u001b[0;34m\u001b[0m\u001b[0m\n\u001b[1;32m    548\u001b[0m         \u001b[0;31m# arguments in memory\u001b[0m\u001b[0;34m\u001b[0m\u001b[0;34m\u001b[0m\u001b[0;34m\u001b[0m\u001b[0m\n\u001b[0;32m--> 549\u001b[0;31m         \u001b[0mself\u001b[0m\u001b[0;34m.\u001b[0m\u001b[0mresults\u001b[0m \u001b[0;34m=\u001b[0m \u001b[0mbatch\u001b[0m\u001b[0;34m(\u001b[0m\u001b[0;34m)\u001b[0m\u001b[0;34m\u001b[0m\u001b[0;34m\u001b[0m\u001b[0m\n\u001b[0m\u001b[1;32m    550\u001b[0m \u001b[0;34m\u001b[0m\u001b[0m\n\u001b[1;32m    551\u001b[0m     \u001b[0;32mdef\u001b[0m \u001b[0mget\u001b[0m\u001b[0;34m(\u001b[0m\u001b[0mself\u001b[0m\u001b[0;34m)\u001b[0m\u001b[0;34m:\u001b[0m\u001b[0;34m\u001b[0m\u001b[0;34m\u001b[0m\u001b[0m\n",
      "\u001b[0;32m~/anaconda3/lib/python3.6/site-packages/sklearn/externals/joblib/parallel.py\u001b[0m in \u001b[0;36m__call__\u001b[0;34m(self)\u001b[0m\n\u001b[1;32m    223\u001b[0m         \u001b[0;32mwith\u001b[0m \u001b[0mparallel_backend\u001b[0m\u001b[0;34m(\u001b[0m\u001b[0mself\u001b[0m\u001b[0;34m.\u001b[0m\u001b[0m_backend\u001b[0m\u001b[0;34m,\u001b[0m \u001b[0mn_jobs\u001b[0m\u001b[0;34m=\u001b[0m\u001b[0mself\u001b[0m\u001b[0;34m.\u001b[0m\u001b[0m_n_jobs\u001b[0m\u001b[0;34m)\u001b[0m\u001b[0;34m:\u001b[0m\u001b[0;34m\u001b[0m\u001b[0;34m\u001b[0m\u001b[0m\n\u001b[1;32m    224\u001b[0m             return [func(*args, **kwargs)\n\u001b[0;32m--> 225\u001b[0;31m                     for func, args, kwargs in self.items]\n\u001b[0m\u001b[1;32m    226\u001b[0m \u001b[0;34m\u001b[0m\u001b[0m\n\u001b[1;32m    227\u001b[0m     \u001b[0;32mdef\u001b[0m \u001b[0m__len__\u001b[0m\u001b[0;34m(\u001b[0m\u001b[0mself\u001b[0m\u001b[0;34m)\u001b[0m\u001b[0;34m:\u001b[0m\u001b[0;34m\u001b[0m\u001b[0;34m\u001b[0m\u001b[0m\n",
      "\u001b[0;32m~/anaconda3/lib/python3.6/site-packages/sklearn/externals/joblib/parallel.py\u001b[0m in \u001b[0;36m<listcomp>\u001b[0;34m(.0)\u001b[0m\n\u001b[1;32m    223\u001b[0m         \u001b[0;32mwith\u001b[0m \u001b[0mparallel_backend\u001b[0m\u001b[0;34m(\u001b[0m\u001b[0mself\u001b[0m\u001b[0;34m.\u001b[0m\u001b[0m_backend\u001b[0m\u001b[0;34m,\u001b[0m \u001b[0mn_jobs\u001b[0m\u001b[0;34m=\u001b[0m\u001b[0mself\u001b[0m\u001b[0;34m.\u001b[0m\u001b[0m_n_jobs\u001b[0m\u001b[0;34m)\u001b[0m\u001b[0;34m:\u001b[0m\u001b[0;34m\u001b[0m\u001b[0;34m\u001b[0m\u001b[0m\n\u001b[1;32m    224\u001b[0m             return [func(*args, **kwargs)\n\u001b[0;32m--> 225\u001b[0;31m                     for func, args, kwargs in self.items]\n\u001b[0m\u001b[1;32m    226\u001b[0m \u001b[0;34m\u001b[0m\u001b[0m\n\u001b[1;32m    227\u001b[0m     \u001b[0;32mdef\u001b[0m \u001b[0m__len__\u001b[0m\u001b[0;34m(\u001b[0m\u001b[0mself\u001b[0m\u001b[0;34m)\u001b[0m\u001b[0;34m:\u001b[0m\u001b[0;34m\u001b[0m\u001b[0;34m\u001b[0m\u001b[0m\n",
      "\u001b[0;32m~/anaconda3/lib/python3.6/site-packages/sklearn/model_selection/_validation.py\u001b[0m in \u001b[0;36m_fit_and_score\u001b[0;34m(estimator, X, y, scorer, train, test, verbose, parameters, fit_params, return_train_score, return_parameters, return_n_test_samples, return_times, return_estimator, error_score)\u001b[0m\n\u001b[1;32m    526\u001b[0m             \u001b[0mestimator\u001b[0m\u001b[0;34m.\u001b[0m\u001b[0mfit\u001b[0m\u001b[0;34m(\u001b[0m\u001b[0mX_train\u001b[0m\u001b[0;34m,\u001b[0m \u001b[0;34m**\u001b[0m\u001b[0mfit_params\u001b[0m\u001b[0;34m)\u001b[0m\u001b[0;34m\u001b[0m\u001b[0;34m\u001b[0m\u001b[0m\n\u001b[1;32m    527\u001b[0m         \u001b[0;32melse\u001b[0m\u001b[0;34m:\u001b[0m\u001b[0;34m\u001b[0m\u001b[0;34m\u001b[0m\u001b[0m\n\u001b[0;32m--> 528\u001b[0;31m             \u001b[0mestimator\u001b[0m\u001b[0;34m.\u001b[0m\u001b[0mfit\u001b[0m\u001b[0;34m(\u001b[0m\u001b[0mX_train\u001b[0m\u001b[0;34m,\u001b[0m \u001b[0my_train\u001b[0m\u001b[0;34m,\u001b[0m \u001b[0;34m**\u001b[0m\u001b[0mfit_params\u001b[0m\u001b[0;34m)\u001b[0m\u001b[0;34m\u001b[0m\u001b[0;34m\u001b[0m\u001b[0m\n\u001b[0m\u001b[1;32m    529\u001b[0m \u001b[0;34m\u001b[0m\u001b[0m\n\u001b[1;32m    530\u001b[0m     \u001b[0;32mexcept\u001b[0m \u001b[0mException\u001b[0m \u001b[0;32mas\u001b[0m \u001b[0me\u001b[0m\u001b[0;34m:\u001b[0m\u001b[0;34m\u001b[0m\u001b[0;34m\u001b[0m\u001b[0m\n",
      "\u001b[0;32m~/anaconda3/lib/python3.6/site-packages/sklearn/linear_model/logistic.py\u001b[0m in \u001b[0;36mfit\u001b[0;34m(self, X, y, sample_weight)\u001b[0m\n\u001b[1;32m   1300\u001b[0m                 \u001b[0mself\u001b[0m\u001b[0;34m.\u001b[0m\u001b[0mclass_weight\u001b[0m\u001b[0;34m,\u001b[0m \u001b[0mself\u001b[0m\u001b[0;34m.\u001b[0m\u001b[0mpenalty\u001b[0m\u001b[0;34m,\u001b[0m \u001b[0mself\u001b[0m\u001b[0;34m.\u001b[0m\u001b[0mdual\u001b[0m\u001b[0;34m,\u001b[0m \u001b[0mself\u001b[0m\u001b[0;34m.\u001b[0m\u001b[0mverbose\u001b[0m\u001b[0;34m,\u001b[0m\u001b[0;34m\u001b[0m\u001b[0;34m\u001b[0m\u001b[0m\n\u001b[1;32m   1301\u001b[0m                 \u001b[0mself\u001b[0m\u001b[0;34m.\u001b[0m\u001b[0mmax_iter\u001b[0m\u001b[0;34m,\u001b[0m \u001b[0mself\u001b[0m\u001b[0;34m.\u001b[0m\u001b[0mtol\u001b[0m\u001b[0;34m,\u001b[0m \u001b[0mself\u001b[0m\u001b[0;34m.\u001b[0m\u001b[0mrandom_state\u001b[0m\u001b[0;34m,\u001b[0m\u001b[0;34m\u001b[0m\u001b[0;34m\u001b[0m\u001b[0m\n\u001b[0;32m-> 1302\u001b[0;31m                 sample_weight=sample_weight)\n\u001b[0m\u001b[1;32m   1303\u001b[0m             \u001b[0mself\u001b[0m\u001b[0;34m.\u001b[0m\u001b[0mn_iter_\u001b[0m \u001b[0;34m=\u001b[0m \u001b[0mnp\u001b[0m\u001b[0;34m.\u001b[0m\u001b[0marray\u001b[0m\u001b[0;34m(\u001b[0m\u001b[0;34m[\u001b[0m\u001b[0mn_iter_\u001b[0m\u001b[0;34m]\u001b[0m\u001b[0;34m)\u001b[0m\u001b[0;34m\u001b[0m\u001b[0;34m\u001b[0m\u001b[0m\n\u001b[1;32m   1304\u001b[0m             \u001b[0;32mreturn\u001b[0m \u001b[0mself\u001b[0m\u001b[0;34m\u001b[0m\u001b[0;34m\u001b[0m\u001b[0m\n",
      "\u001b[0;32m~/anaconda3/lib/python3.6/site-packages/sklearn/svm/base.py\u001b[0m in \u001b[0;36m_fit_liblinear\u001b[0;34m(X, y, C, fit_intercept, intercept_scaling, class_weight, penalty, dual, verbose, max_iter, tol, random_state, multi_class, loss, epsilon, sample_weight)\u001b[0m\n\u001b[1;32m    912\u001b[0m         \u001b[0mX\u001b[0m\u001b[0;34m,\u001b[0m \u001b[0my_ind\u001b[0m\u001b[0;34m,\u001b[0m \u001b[0msp\u001b[0m\u001b[0;34m.\u001b[0m\u001b[0misspmatrix\u001b[0m\u001b[0;34m(\u001b[0m\u001b[0mX\u001b[0m\u001b[0;34m)\u001b[0m\u001b[0;34m,\u001b[0m \u001b[0msolver_type\u001b[0m\u001b[0;34m,\u001b[0m \u001b[0mtol\u001b[0m\u001b[0;34m,\u001b[0m \u001b[0mbias\u001b[0m\u001b[0;34m,\u001b[0m \u001b[0mC\u001b[0m\u001b[0;34m,\u001b[0m\u001b[0;34m\u001b[0m\u001b[0;34m\u001b[0m\u001b[0m\n\u001b[1;32m    913\u001b[0m         \u001b[0mclass_weight_\u001b[0m\u001b[0;34m,\u001b[0m \u001b[0mmax_iter\u001b[0m\u001b[0;34m,\u001b[0m \u001b[0mrnd\u001b[0m\u001b[0;34m.\u001b[0m\u001b[0mrandint\u001b[0m\u001b[0;34m(\u001b[0m\u001b[0mnp\u001b[0m\u001b[0;34m.\u001b[0m\u001b[0miinfo\u001b[0m\u001b[0;34m(\u001b[0m\u001b[0;34m'i'\u001b[0m\u001b[0;34m)\u001b[0m\u001b[0;34m.\u001b[0m\u001b[0mmax\u001b[0m\u001b[0;34m)\u001b[0m\u001b[0;34m,\u001b[0m\u001b[0;34m\u001b[0m\u001b[0;34m\u001b[0m\u001b[0m\n\u001b[0;32m--> 914\u001b[0;31m         epsilon, sample_weight)\n\u001b[0m\u001b[1;32m    915\u001b[0m     \u001b[0;31m# Regarding rnd.randint(..) in the above signature:\u001b[0m\u001b[0;34m\u001b[0m\u001b[0;34m\u001b[0m\u001b[0;34m\u001b[0m\u001b[0m\n\u001b[1;32m    916\u001b[0m     \u001b[0;31m# seed for srand in range [0..INT_MAX); due to limitations in Numpy\u001b[0m\u001b[0;34m\u001b[0m\u001b[0;34m\u001b[0m\u001b[0;34m\u001b[0m\u001b[0m\n",
      "\u001b[0;31mKeyboardInterrupt\u001b[0m: "
     ]
    }
   ],
   "source": [
    "# Optmizied Logistic Model\n",
    "#parameters = {}\n",
    "#parameters['penalty'] = ['l1', 'l2']\n",
    "#gsc_lr2 = LogisticRegression(C=1e-05)\n",
    "#gsc_lr2 = GridSearchCV(gsc_lr2, parameters, cv=5, scoring='roc_auc')\n",
    "#gsc_lr2.fit(X_train, y_train)\n",
    "#print(gsc_lr2.best_params_, gsc_lr2.best_score_)\n",
    "\n",
    "# NOTE: Took too long to process "
   ]
  },
  {
   "cell_type": "markdown",
   "metadata": {},
   "source": [
    "## Optimized Model "
   ]
  },
  {
   "cell_type": "code",
   "execution_count": null,
   "metadata": {},
   "outputs": [],
   "source": [
    "gsc_lr2 = LogisticRegression(C=1e-05)\n",
    "gsc_lr2.fit(X_train, y_train)\n",
    "y_pred = gsc_lr2.predict(X_test)"
   ]
  },
  {
   "cell_type": "code",
   "execution_count": null,
   "metadata": {},
   "outputs": [],
   "source": [
    "roc_auc = roc_auc_score(y_test, y_pred)\n",
    "accuracy = accuracy_score(y_test, y_pred)\n",
    "print(\"ROC_AUC: %.2f%%\" % (roc_auc * 100.0))\n",
    "print(\"Accuracy: %.2f%%\" % (accuracy * 100.0))\n",
    "print('Recall:', recall_score(y_test, y_pred)*100,\"%\")\n",
    "print('Precision:', precision_score(y_test, y_pred)*100,\"%\")\n",
    "print(confusion_matrix(y_test, y_pred))"
   ]
  },
  {
   "cell_type": "code",
   "execution_count": null,
   "metadata": {},
   "outputs": [],
   "source": [
    "# Function to plot ROC curve \n",
    "roc_curve(gsc_lr2, X_train, y_train, X_test, y_test)"
   ]
  },
  {
   "cell_type": "markdown",
   "metadata": {},
   "source": [
    "### Random Forest "
   ]
  },
  {
   "cell_type": "code",
   "execution_count": 106,
   "metadata": {},
   "outputs": [
    {
     "name": "stdout",
     "output_type": "stream",
     "text": [
      "[0.98972443 0.98949089 0.9901915  0.9927587  0.99299065]\n"
     ]
    }
   ],
   "source": [
    "rf = RandomForestClassifier(n_estimators=100, random_state=42)\n",
    "rf.fit(X_train, y_train) \n",
    "print(cross_val_score(rf, X_train, y_train, cv=5))\n",
    "y_pred = rf.predict(X_test)\n",
    "\n",
    "# [0.98972443 0.98949089 0.9901915  0.9927587  0.99299065]"
   ]
  },
  {
   "cell_type": "code",
   "execution_count": 107,
   "metadata": {},
   "outputs": [
    {
     "name": "stdout",
     "output_type": "stream",
     "text": [
      "ROC_AUC: 99.20%\n",
      "Accuracy: 99.12%\n",
      "Recall: 98.43044928389249 %\n",
      "Precision: 99.98007174172977 %\n",
      "[[4077    1]\n",
      " [  80 5017]]\n"
     ]
    }
   ],
   "source": [
    "roc_auc = roc_auc_score(y_test, y_pred)\n",
    "accuracy = accuracy_score(y_test, y_pred)\n",
    "print(\"ROC_AUC: %.2f%%\" % (roc_auc * 100.0))\n",
    "print(\"Accuracy: %.2f%%\" % (accuracy * 100.0))\n",
    "print('Recall:', recall_score(y_test, y_pred)*100,\"%\")\n",
    "print('Precision:', precision_score(y_test, y_pred)*100,\"%\")\n",
    "print(confusion_matrix(y_test, y_pred))\n",
    "\n",
    "#ROC_AUC: 99.20%\n",
    "#Accuracy: 99.12%\n",
    "#Recall: 98.43044928389249 %\n",
    "#Precision: 99.98007174172977 %\n",
    "#[[4077    1]\n",
    " #[  80 5017]]\n"
   ]
  },
  {
   "cell_type": "code",
   "execution_count": 108,
   "metadata": {},
   "outputs": [
    {
     "name": "stdout",
     "output_type": "stream",
     "text": [
      "Fitting 5 folds for each of 6 candidates, totalling 30 fits\n"
     ]
    },
    {
     "name": "stderr",
     "output_type": "stream",
     "text": [
      "[Parallel(n_jobs=1)]: Using backend SequentialBackend with 1 concurrent workers.\n",
      "[Parallel(n_jobs=1)]: Done  30 out of  30 | elapsed: 16.5min finished\n"
     ]
    },
    {
     "name": "stdout",
     "output_type": "stream",
     "text": [
      "{'criterion': 'entropy', 'n_estimators': 300} 0.9993297513905806\n"
     ]
    }
   ],
   "source": [
    "#Optimizing Random Forest\n",
    "#parameters = {}\n",
    "#parameters['criterion'] = ['entropy','gini']\n",
    "#parameters['n_estimators'] = [100,200,300]\n",
    "\n",
    "#gsc_rf = GridSearchCV(rf, parameters, cv=5, verbose=1, scoring='roc_auc')\n",
    "#gsc_rf.fit(X_train, y_train)\n",
    "#print(gsc_rf.best_params_, gsc_rf.best_score_)\n",
    "\n",
    "# {'criterion': 'entropy', 'n_estimators': 300} 0.9993297513905806"
   ]
  },
  {
   "cell_type": "code",
   "execution_count": 109,
   "metadata": {},
   "outputs": [],
   "source": [
    "gsc_rf = RandomForestClassifier(n_estimators=300, criterion='entropy', random_state=42)\n",
    "gsc_rf.fit(X_train, y_train) \n",
    "y_pred = gsc_rf.predict(X_test)"
   ]
  },
  {
   "cell_type": "code",
   "execution_count": 110,
   "metadata": {},
   "outputs": [
    {
     "name": "stdout",
     "output_type": "stream",
     "text": [
      "ROC_AUC: 99.23%\n",
      "Accuracy: 99.15%\n",
      "Recall: 98.50892681969786 %\n",
      "Precision: 99.96018315747561 %\n",
      "[[4076    2]\n",
      " [  76 5021]]\n"
     ]
    }
   ],
   "source": [
    "roc_auc = roc_auc_score(y_test, y_pred)\n",
    "accuracy = accuracy_score(y_test, y_pred)\n",
    "print(\"ROC_AUC: %.2f%%\" % (roc_auc * 100.0))\n",
    "print(\"Accuracy: %.2f%%\" % (accuracy * 100.0))\n",
    "print('Recall:', recall_score(y_test, y_pred)*100,\"%\")\n",
    "print('Precision:', precision_score(y_test, y_pred)*100,\"%\")\n",
    "print(confusion_matrix(y_test, y_pred))\n",
    "\n",
    "#ROC_AUC: 99.23%\n",
    "#Accuracy: 99.15%\n",
    "#Recall: 98.50892681969786 %\n",
    "#Precision: 99.96018315747561 %\n",
    "#[[4076    2]\n",
    " #[  76 5021]]"
   ]
  },
  {
   "cell_type": "code",
   "execution_count": 113,
   "metadata": {},
   "outputs": [
    {
     "data": {
      "image/png": "[encoded data removed]",
      "text/plain": [
       "<Figure size 432x288 with 1 Axes>"
      ]
     },
     "metadata": {
      "needs_background": "light"
     },
     "output_type": "display_data"
    }
   ],
   "source": [
    "# Function to plot ROC curve \n",
    "roc_curve(gsc_rf, X_train, y_train, X_test, y_test)"
   ]
  },
  {
   "cell_type": "markdown",
   "metadata": {},
   "source": [
    "### Feature Importance "
   ]
  },
  {
   "cell_type": "code",
   "execution_count": 114,
   "metadata": {},
   "outputs": [
    {
     "data": {
      "text/html": [
       "<div>\n",
       "<style scoped>\n",
       "    .dataframe tbody tr th:only-of-type {\n",
       "        vertical-align: middle;\n",
       "    }\n",
       "\n",
       "    .dataframe tbody tr th {\n",
       "        vertical-align: top;\n",
       "    }\n",
       "\n",
       "    .dataframe thead th {\n",
       "        text-align: right;\n",
       "    }\n",
       "</style>\n",
       "<table border=\"1\" class=\"dataframe\">\n",
       "  <thead>\n",
       "    <tr style=\"text-align: right;\">\n",
       "      <th></th>\n",
       "      <th>Variable</th>\n",
       "      <th>Importance</th>\n",
       "    </tr>\n",
       "  </thead>\n",
       "  <tbody>\n",
       "    <tr>\n",
       "      <th>10</th>\n",
       "      <td>1</td>\n",
       "      <td>0.080471</td>\n",
       "    </tr>\n",
       "    <tr>\n",
       "      <th>8</th>\n",
       "      <td>num_mentions</td>\n",
       "      <td>0.076479</td>\n",
       "    </tr>\n",
       "    <tr>\n",
       "      <th>9</th>\n",
       "      <td>0</td>\n",
       "      <td>0.052814</td>\n",
       "    </tr>\n",
       "    <tr>\n",
       "      <th>26</th>\n",
       "      <td>17</td>\n",
       "      <td>0.047293</td>\n",
       "    </tr>\n",
       "    <tr>\n",
       "      <th>12</th>\n",
       "      <td>3</td>\n",
       "      <td>0.045078</td>\n",
       "    </tr>\n",
       "    <tr>\n",
       "      <th>32</th>\n",
       "      <td>23</td>\n",
       "      <td>0.040018</td>\n",
       "    </tr>\n",
       "    <tr>\n",
       "      <th>11</th>\n",
       "      <td>2</td>\n",
       "      <td>0.036415</td>\n",
       "    </tr>\n",
       "    <tr>\n",
       "      <th>2</th>\n",
       "      <td>retweeted_status_id</td>\n",
       "      <td>0.036131</td>\n",
       "    </tr>\n",
       "    <tr>\n",
       "      <th>0</th>\n",
       "      <td>in_reply_to_status_id</td>\n",
       "      <td>0.031779</td>\n",
       "    </tr>\n",
       "    <tr>\n",
       "      <th>13</th>\n",
       "      <td>4</td>\n",
       "      <td>0.030439</td>\n",
       "    </tr>\n",
       "  </tbody>\n",
       "</table>\n",
       "</div>"
      ],
      "text/plain": [
       "                 Variable  Importance\n",
       "10                      1    0.080471\n",
       "8            num_mentions    0.076479\n",
       "9                       0    0.052814\n",
       "26                     17    0.047293\n",
       "12                      3    0.045078\n",
       "32                     23    0.040018\n",
       "11                      2    0.036415\n",
       "2     retweeted_status_id    0.036131\n",
       "0   in_reply_to_status_id    0.031779\n",
       "13                      4    0.030439"
      ]
     },
     "execution_count": 114,
     "metadata": {},
     "output_type": "execute_result"
    }
   ],
   "source": [
    "N = 10\n",
    "importances = gsc_rf.feature_importances_\n",
    "std = np.std([tree.feature_importances_ for tree in gsc_rf.estimators_],\n",
    "             axis=0)\n",
    "\n",
    "# Create a dataframe\n",
    "importances_df = pd.DataFrame({'Variable':X.columns, 'Importance': importances})\n",
    "\n",
    "top_N = importances_df.sort_values(by=['Importance'], ascending=False).head(10)\n",
    "\n",
    "top_N"
   ]
  },
  {
   "cell_type": "code",
   "execution_count": 115,
   "metadata": {},
   "outputs": [
    {
     "data": {
      "image/png": "[encoded data removed]",
      "text/plain": [
       "<Figure size 432x288 with 1 Axes>"
      ]
     },
     "metadata": {
      "needs_background": "light"
     },
     "output_type": "display_data"
    }
   ],
   "source": [
    "# Creating a bar plot\n",
    "sns.barplot(y='Variable', x='Importance', data=top_N)\n",
    "# Add labels to your graph\n",
    "plt.xlabel('Feature Importance Score')\n",
    "plt.ylabel('Features')\n",
    "plt.title(\"Visualizing Random Forest Important Features\")\n",
    "plt.show()"
   ]
  },
  {
   "cell_type": "markdown",
   "metadata": {},
   "source": [
    "### Multi-Layer Preceptron Neural Network"
   ]
  },
  {
   "cell_type": "code",
   "execution_count": 119,
   "metadata": {},
   "outputs": [
    {
     "name": "stdout",
     "output_type": "stream",
     "text": [
      "[0.80429706 0.87739374 0.86898645 0.8869423  0.88457944]\n"
     ]
    },
    {
     "data": {
      "text/plain": [
       "0.8979305834540103"
      ]
     },
     "execution_count": 119,
     "metadata": {},
     "output_type": "execute_result"
    }
   ],
   "source": [
    "from sklearn.neural_network import MLPClassifier\n",
    "# Establish and fit the model\n",
    "mlp = MLPClassifier(max_iter=100) \n",
    "mlp.fit(X_train, y_train)\n",
    "print(cross_val_score(mlp, X_train, y_train, cv=5))\n",
    "\n",
    "y_pred = mlp.predict(X_test)\n",
    "mlp.score(X_train, y_train)\n",
    "# Default param(hidden_layer_sizes: 100, activation: ‘relu’, solver: adam’, alpha: 0.0001, learning_rate: ‘constant’)"
   ]
  },
  {
   "cell_type": "code",
   "execution_count": 120,
   "metadata": {},
   "outputs": [
    {
     "name": "stdout",
     "output_type": "stream",
     "text": [
      "ROC_AUC: 89.13%\n",
      "Accuracy: 89.34%\n",
      "Recall: 90.99470276633313 %\n",
      "Precision: 89.93600930773705 %\n",
      "[[3559  519]\n",
      " [ 459 4638]]\n"
     ]
    }
   ],
   "source": [
    "roc_auc = roc_auc_score(y_test, y_pred)\n",
    "accuracy = accuracy_score(y_test, y_pred)\n",
    "print(\"ROC_AUC: %.2f%%\" % (roc_auc * 100.0))\n",
    "print(\"Accuracy: %.2f%%\" % (accuracy * 100.0))\n",
    "print('Recall:', recall_score(y_test, y_pred)*100,\"%\")\n",
    "print('Precision:', precision_score(y_test, y_pred)*100,\"%\")\n",
    "print(confusion_matrix(y_test, y_pred))"
   ]
  },
  {
   "cell_type": "code",
   "execution_count": null,
   "metadata": {},
   "outputs": [],
   "source": [
    "parameters = {\n",
    "    'hidden_layer_sizes': [(50,50,50), (50,100,50), (100,)],\n",
    "    'activation': ['tanh', 'relu'],\n",
    "    'solver': ['sgd', 'adam'],\n",
    "    'alpha': [0.0001, 0.05],\n",
    "    'learning_rate': ['constant','adaptive'],\n",
    "}\n",
    "\n",
    "gsc_mlp = GridSearchCV(mlp, parameters, cv=5, n_jobs=-1, scoring='roc_auc')\n",
    "gsc_mlp.fit(X_train, y_train)\n",
    "print(gsc_mlp.best_params_, gsc_mpl.best_score_)"
   ]
  },
  {
   "cell_type": "code",
   "execution_count": null,
   "metadata": {},
   "outputs": [],
   "source": []
  },
  {
   "cell_type": "code",
   "execution_count": null,
   "metadata": {},
   "outputs": [],
   "source": []
  },
  {
   "cell_type": "code",
   "execution_count": null,
   "metadata": {},
   "outputs": [],
   "source": []
  },
  {
   "cell_type": "markdown",
   "metadata": {},
   "source": [
    "## Supervised Learning Conclusion "
   ]
  },
  {
   "cell_type": "markdown",
   "metadata": {},
   "source": [
    "## Unsupervised Learning "
   ]
  },
  {
   "cell_type": "markdown",
   "metadata": {},
   "source": [
    "### K-means clustering"
   ]
  },
  {
   "cell_type": "code",
   "execution_count": null,
   "metadata": {},
   "outputs": [],
   "source": [
    "# We are limiting our feature space to 2 components here. \n",
    "#  This makes it easier to graph and see the clusters.\n",
    "svd= TruncatedSVD(2)\n",
    "\n",
    "# Normalize the data.\n",
    "X_norm = normalize(X_tfidf)\n",
    "\n",
    "# Reduce it to two components.\n",
    "X_svd = svd.fit_transform(X_norm)\n",
    "\n",
    "# Calculate predicted values.\n",
    "y_pred = KMeans(n_clusters=2, random_state=42).fit_predict(X_svd)\n",
    "\n",
    "# Plot the solution.\n",
    "plt.scatter(X_svd[:, 0], X_svd[:, 1], c=y_pred)\n",
    "plt.show()\n",
    "\n",
    "# Check the solution against the data.\n",
    "print('Comparing k-means clusters against the data:')\n",
    "print(pd.crosstab(y_pred, Y))"
   ]
  },
  {
   "cell_type": "code",
   "execution_count": null,
   "metadata": {},
   "outputs": [],
   "source": []
  },
  {
   "cell_type": "code",
   "execution_count": null,
   "metadata": {},
   "outputs": [],
   "source": []
  },
  {
   "cell_type": "code",
   "execution_count": null,
   "metadata": {},
   "outputs": [],
   "source": []
  }
 ],
 "metadata": {
  "kernelspec": {
   "display_name": "Python 3",
   "language": "python",
   "name": "python3"
  },
  "language_info": {
   "codemirror_mode": {
    "name": "ipython",
    "version": 3
   },
   "file_extension": ".py",
   "mimetype": "text/x-python",
   "name": "python",
   "nbconvert_exporter": "python",
   "pygments_lexer": "ipython3",
   "version": "3.6.8"
  }
 },
 "nbformat": 4,
 "nbformat_minor": 2
}
