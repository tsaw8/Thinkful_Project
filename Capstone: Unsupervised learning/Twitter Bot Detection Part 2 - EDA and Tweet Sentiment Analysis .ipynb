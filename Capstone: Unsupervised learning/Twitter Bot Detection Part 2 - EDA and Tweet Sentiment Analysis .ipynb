{
 "cells": [
  {
   "cell_type": "code",
   "execution_count": 1,
   "metadata": {},
   "outputs": [],
   "source": [
    "# Numpy and pandas\n",
    "import pandas as pd\n",
    "import numpy as np\n",
    "\n",
    "#Visualization\n",
    "import matplotlib.pyplot as plt\n",
    "import seaborn as sns\n",
    "\n",
    "#NLP tools\n",
    "import string\n",
    "import re\n",
    "import nltk\n",
    "from nltk.corpus import stopwords\n",
    "from googletrans import Translator\n",
    "\n",
    "#Bag of words model\n",
    "from sklearn.feature_extraction.text import CountVectorizer\n",
    "from sklearn.feature_extraction.text import TfidfTransformer\n",
    "\n",
    "# Sklearn data clean\n",
    "from sklearn.preprocessing import LabelEncoder\n",
    "from sklearn.impute import SimpleImputer\n",
    "from sklearn.preprocessing import MinMaxScaler\n",
    "\n",
    "# Model selection\n",
    "from sklearn.pipeline import Pipeline\n",
    "from sklearn.model_selection import train_test_split\n",
    "from sklearn.feature_selection import SelectFromModel\n",
    "from sklearn.preprocessing import StandardScaler\n",
    "from sklearn.model_selection import cross_val_score\n",
    "from sklearn.model_selection import KFold\n",
    "\n",
    "# Logistic Regression\n",
    "from sklearn.linear_model import Lasso, LogisticRegression\n",
    "\n",
    "# Decision Trees\n",
    "from sklearn import tree\n",
    "from sklearn.tree import DecisionTreeRegressor\n",
    "from IPython.display import Image\n",
    "import pydotplus\n",
    "import graphviz\n",
    "\n",
    "# Random Forests \n",
    "from sklearn.ensemble import RandomForestClassifier\n",
    "\n",
    "# SVM\n",
    "from sklearn.svm import SVC\n",
    "\n",
    "# Gradient Boost\n",
    "from xgboost import XGBClassifier\n",
    "\n",
    "# Evaluate\n",
    "from sklearn import metrics\n",
    "from sklearn.metrics import log_loss,accuracy_score, f1_score,roc_auc_score, confusion_matrix, classification_report\n",
    "\n",
    "# Hyperparameter tuning\n",
    "from sklearn.model_selection import RandomizedSearchCV, GridSearchCV\n",
    "\n",
    "# Datetime\n",
    "from datetime import datetime\n",
    "\n",
    "# Import data\n",
    "import warnings\n",
    "\n",
    "# Clustering \n",
    "from sklearn.cluster import KMeans\n",
    "from sklearn.cluster import MeanShift, estimate_bandwidth\n",
    "from sklearn.preprocessing import normalize\n",
    "from sklearn.decomposition import TruncatedSVD\n",
    "\n",
    "from sklearn.pipeline import make_pipeline\n",
    "from sklearn.preprocessing import Normalizer\n"
   ]
  },
  {
   "cell_type": "code",
   "execution_count": 2,
   "metadata": {},
   "outputs": [],
   "source": [
    "tweets = pd.read_csv('/Users/tsawaengsri/Desktop/Data Science Courses/Datasets/cresci-2017.csv/datasets_full.csv/clean_tweets2')\n",
    "users = pd.read_csv('/Users/tsawaengsri/Desktop/Data Science Courses/Datasets/cresci-2017.csv/datasets_full.csv/clean_users2')"
   ]
  },
  {
   "cell_type": "code",
   "execution_count": 3,
   "metadata": {},
   "outputs": [
    {
     "name": "stdout",
     "output_type": "stream",
     "text": [
      "<class 'pandas.core.frame.DataFrame'>\n",
      "RangeIndex: 6283436 entries, 0 to 6283435\n",
      "Data columns (total 18 columns):\n",
      "id                       int64\n",
      "text                     object\n",
      "source                   object\n",
      "user_id                  int64\n",
      "in_reply_to_status_id    int64\n",
      "in_reply_to_user_id      int64\n",
      "retweeted_status_id      int64\n",
      "retweet_count            int64\n",
      "reply_count              int64\n",
      "favorite_count           int64\n",
      "num_hashtags             int64\n",
      "num_urls                 int64\n",
      "num_mentions             int64\n",
      "created_at               object\n",
      "timestamp                object\n",
      "crawled_at               object\n",
      "updated                  object\n",
      "class                    int64\n",
      "dtypes: int64(12), object(6)\n",
      "memory usage: 862.9+ MB\n"
     ]
    }
   ],
   "source": [
    "tweets.info()"
   ]
  },
  {
   "cell_type": "code",
   "execution_count": 4,
   "metadata": {},
   "outputs": [
    {
     "name": "stdout",
     "output_type": "stream",
     "text": [
      "<class 'pandas.core.frame.DataFrame'>\n",
      "RangeIndex: 7989 entries, 0 to 7988\n",
      "Data columns (total 24 columns):\n",
      "id                                    7989 non-null int64\n",
      "name                                  7989 non-null object\n",
      "screen_name                           7989 non-null object\n",
      "statuses_count                        7989 non-null int64\n",
      "followers_count                       7989 non-null int64\n",
      "friends_count                         7989 non-null int64\n",
      "favourites_count                      7989 non-null int64\n",
      "listed_count                          7989 non-null int64\n",
      "lang                                  7989 non-null object\n",
      "profile_image_url                     7989 non-null object\n",
      "profile_use_background_image          7989 non-null int64\n",
      "profile_background_image_url_https    7989 non-null object\n",
      "profile_text_color                    7989 non-null object\n",
      "profile_image_url_https               7989 non-null object\n",
      "profile_sidebar_border_color          7989 non-null object\n",
      "profile_sidebar_fill_color            7989 non-null object\n",
      "profile_background_image_url          7989 non-null object\n",
      "profile_background_color              7989 non-null object\n",
      "profile_link_color                    7989 non-null object\n",
      "created_at                            7989 non-null object\n",
      "timestamp                             7989 non-null object\n",
      "crawled_at                            7989 non-null object\n",
      "updated                               7989 non-null object\n",
      "class                                 7989 non-null int64\n",
      "dtypes: int64(8), object(16)\n",
      "memory usage: 1.5+ MB\n"
     ]
    }
   ],
   "source": [
    "users.info()"
   ]
  },
  {
   "cell_type": "markdown",
   "metadata": {},
   "source": [
    "### Convert time variables to datetime \n",
    "It doesn't appear that time variables such as timestamp or created_at were saved as datetime. We will convert them to their respective data type. "
   ]
  },
  {
   "cell_type": "code",
   "execution_count": 5,
   "metadata": {},
   "outputs": [],
   "source": [
    "# Convert the time columns to np.datetime object\n",
    "tweets['timestamp'] = pd.to_datetime(tweets['timestamp'])"
   ]
  },
  {
   "cell_type": "code",
   "execution_count": 6,
   "metadata": {},
   "outputs": [],
   "source": [
    "tweets['created_at'] = pd.to_datetime(tweets['created_at'])"
   ]
  },
  {
   "cell_type": "code",
   "execution_count": 7,
   "metadata": {},
   "outputs": [],
   "source": [
    "tweets['crawled_at'] = pd.to_datetime(tweets['crawled_at'])"
   ]
  },
  {
   "cell_type": "code",
   "execution_count": 8,
   "metadata": {},
   "outputs": [],
   "source": [
    "tweets['updated'] = pd.to_datetime(tweets['updated'])"
   ]
  },
  {
   "cell_type": "code",
   "execution_count": 9,
   "metadata": {},
   "outputs": [],
   "source": [
    "# Convert the created_at column to np.datetime object\n",
    "users['timestamp'] = pd.to_datetime(users['timestamp'])"
   ]
  },
  {
   "cell_type": "code",
   "execution_count": 10,
   "metadata": {},
   "outputs": [],
   "source": [
    "users['created_at'] = pd.to_datetime(users['created_at'])"
   ]
  },
  {
   "cell_type": "code",
   "execution_count": 11,
   "metadata": {},
   "outputs": [],
   "source": [
    "users['crawled_at'] = pd.to_datetime(users['crawled_at'])"
   ]
  },
  {
   "cell_type": "code",
   "execution_count": 12,
   "metadata": {},
   "outputs": [],
   "source": [
    "users['updated'] = pd.to_datetime(users['updated'])"
   ]
  },
  {
   "cell_type": "code",
   "execution_count": 13,
   "metadata": {},
   "outputs": [
    {
     "name": "stdout",
     "output_type": "stream",
     "text": [
      "<class 'pandas.core.frame.DataFrame'>\n",
      "RangeIndex: 6283436 entries, 0 to 6283435\n",
      "Data columns (total 18 columns):\n",
      "id                       int64\n",
      "text                     object\n",
      "source                   object\n",
      "user_id                  int64\n",
      "in_reply_to_status_id    int64\n",
      "in_reply_to_user_id      int64\n",
      "retweeted_status_id      int64\n",
      "retweet_count            int64\n",
      "reply_count              int64\n",
      "favorite_count           int64\n",
      "num_hashtags             int64\n",
      "num_urls                 int64\n",
      "num_mentions             int64\n",
      "created_at               datetime64[ns, UTC]\n",
      "timestamp                datetime64[ns]\n",
      "crawled_at               datetime64[ns]\n",
      "updated                  datetime64[ns]\n",
      "class                    int64\n",
      "dtypes: datetime64[ns, UTC](1), datetime64[ns](3), int64(12), object(2)\n",
      "memory usage: 862.9+ MB\n"
     ]
    }
   ],
   "source": [
    "tweets.info()"
   ]
  },
  {
   "cell_type": "code",
   "execution_count": 14,
   "metadata": {},
   "outputs": [
    {
     "name": "stdout",
     "output_type": "stream",
     "text": [
      "<class 'pandas.core.frame.DataFrame'>\n",
      "RangeIndex: 7989 entries, 0 to 7988\n",
      "Data columns (total 24 columns):\n",
      "id                                    7989 non-null int64\n",
      "name                                  7989 non-null object\n",
      "screen_name                           7989 non-null object\n",
      "statuses_count                        7989 non-null int64\n",
      "followers_count                       7989 non-null int64\n",
      "friends_count                         7989 non-null int64\n",
      "favourites_count                      7989 non-null int64\n",
      "listed_count                          7989 non-null int64\n",
      "lang                                  7989 non-null object\n",
      "profile_image_url                     7989 non-null object\n",
      "profile_use_background_image          7989 non-null int64\n",
      "profile_background_image_url_https    7989 non-null object\n",
      "profile_text_color                    7989 non-null object\n",
      "profile_image_url_https               7989 non-null object\n",
      "profile_sidebar_border_color          7989 non-null object\n",
      "profile_sidebar_fill_color            7989 non-null object\n",
      "profile_background_image_url          7989 non-null object\n",
      "profile_background_color              7989 non-null object\n",
      "profile_link_color                    7989 non-null object\n",
      "created_at                            7989 non-null datetime64[ns, UTC]\n",
      "timestamp                             7989 non-null datetime64[ns]\n",
      "crawled_at                            7989 non-null datetime64[ns]\n",
      "updated                               7989 non-null datetime64[ns]\n",
      "class                                 7989 non-null int64\n",
      "dtypes: datetime64[ns, UTC](1), datetime64[ns](3), int64(8), object(12)\n",
      "memory usage: 1.5+ MB\n"
     ]
    }
   ],
   "source": [
    "users.info()"
   ]
  },
  {
   "cell_type": "code",
   "execution_count": 15,
   "metadata": {},
   "outputs": [
    {
     "data": {
      "text/html": [
       "<div>\n",
       "<style scoped>\n",
       "    .dataframe tbody tr th:only-of-type {\n",
       "        vertical-align: middle;\n",
       "    }\n",
       "\n",
       "    .dataframe tbody tr th {\n",
       "        vertical-align: top;\n",
       "    }\n",
       "\n",
       "    .dataframe thead th {\n",
       "        text-align: right;\n",
       "    }\n",
       "</style>\n",
       "<table border=\"1\" class=\"dataframe\">\n",
       "  <thead>\n",
       "    <tr style=\"text-align: right;\">\n",
       "      <th></th>\n",
       "      <th>id</th>\n",
       "      <th>text</th>\n",
       "      <th>source</th>\n",
       "      <th>user_id</th>\n",
       "      <th>in_reply_to_status_id</th>\n",
       "      <th>in_reply_to_user_id</th>\n",
       "      <th>retweeted_status_id</th>\n",
       "      <th>retweet_count</th>\n",
       "      <th>reply_count</th>\n",
       "      <th>favorite_count</th>\n",
       "      <th>num_hashtags</th>\n",
       "      <th>num_urls</th>\n",
       "      <th>num_mentions</th>\n",
       "      <th>created_at</th>\n",
       "      <th>timestamp</th>\n",
       "      <th>crawled_at</th>\n",
       "      <th>updated</th>\n",
       "      <th>class</th>\n",
       "    </tr>\n",
       "  </thead>\n",
       "  <tbody>\n",
       "    <tr>\n",
       "      <th>0</th>\n",
       "      <td>515447020405137408</td>\n",
       "      <td>\"Il mare d'inverno è un concetto che il pensie...</td>\n",
       "      <td>&lt;a href=\"http://www.Matildadr89.com\" rel=\"nofo...</td>\n",
       "      <td>237359828</td>\n",
       "      <td>0</td>\n",
       "      <td>0</td>\n",
       "      <td>0</td>\n",
       "      <td>0</td>\n",
       "      <td>0</td>\n",
       "      <td>0</td>\n",
       "      <td>0</td>\n",
       "      <td>0</td>\n",
       "      <td>0</td>\n",
       "      <td>2014-09-26 10:25:20+00:00</td>\n",
       "      <td>2014-09-26 12:25:20</td>\n",
       "      <td>2014-11-13 01:35:24</td>\n",
       "      <td>2014-11-13 01:35:24</td>\n",
       "      <td>1</td>\n",
       "    </tr>\n",
       "    <tr>\n",
       "      <th>1</th>\n",
       "      <td>513551196226093057</td>\n",
       "      <td>Read the History of Corona Beer  http://t.co/Z...</td>\n",
       "      <td>&lt;a href=\"http://tweetadder.com\" rel=\"nofollow\"...</td>\n",
       "      <td>215693377</td>\n",
       "      <td>0</td>\n",
       "      <td>0</td>\n",
       "      <td>0</td>\n",
       "      <td>0</td>\n",
       "      <td>0</td>\n",
       "      <td>0</td>\n",
       "      <td>0</td>\n",
       "      <td>1</td>\n",
       "      <td>0</td>\n",
       "      <td>2014-09-21 04:52:01+00:00</td>\n",
       "      <td>2014-09-21 06:52:01</td>\n",
       "      <td>2014-11-12 23:35:05</td>\n",
       "      <td>2014-11-12 23:35:05</td>\n",
       "      <td>1</td>\n",
       "    </tr>\n",
       "    <tr>\n",
       "      <th>2</th>\n",
       "      <td>579534763872149504</td>\n",
       "      <td>After that it would of been up to the person i...</td>\n",
       "      <td>&lt;a href=\"http://twitter.com/download/iphone\" r...</td>\n",
       "      <td>164284493</td>\n",
       "      <td>0</td>\n",
       "      <td>0</td>\n",
       "      <td>0</td>\n",
       "      <td>0</td>\n",
       "      <td>0</td>\n",
       "      <td>0</td>\n",
       "      <td>0</td>\n",
       "      <td>0</td>\n",
       "      <td>0</td>\n",
       "      <td>2015-03-22 06:47:09+00:00</td>\n",
       "      <td>2015-03-22 07:47:09</td>\n",
       "      <td>2015-05-01 13:21:46</td>\n",
       "      <td>2015-05-01 13:21:46</td>\n",
       "      <td>0</td>\n",
       "    </tr>\n",
       "    <tr>\n",
       "      <th>3</th>\n",
       "      <td>449751137970028544</td>\n",
       "      <td>RT @kcivey: @marionbarryjr I'm for public fina...</td>\n",
       "      <td>&lt;a href=\"http://twitter.com/download/iphone\" r...</td>\n",
       "      <td>225683965</td>\n",
       "      <td>0</td>\n",
       "      <td>0</td>\n",
       "      <td>449735142085779456</td>\n",
       "      <td>1</td>\n",
       "      <td>0</td>\n",
       "      <td>0</td>\n",
       "      <td>0</td>\n",
       "      <td>0</td>\n",
       "      <td>2</td>\n",
       "      <td>2014-03-29 03:33:21+00:00</td>\n",
       "      <td>2014-03-29 04:33:21</td>\n",
       "      <td>2015-05-01 15:58:20</td>\n",
       "      <td>2015-05-01 15:58:20</td>\n",
       "      <td>0</td>\n",
       "    </tr>\n",
       "    <tr>\n",
       "      <th>4</th>\n",
       "      <td>589197488269045760</td>\n",
       "      <td>RT @specuIar: This hit me hard. http://t.co/rY...</td>\n",
       "      <td>&lt;a href=\"http://twitter.com\" rel=\"nofollow\"&gt;Tw...</td>\n",
       "      <td>505440359</td>\n",
       "      <td>0</td>\n",
       "      <td>0</td>\n",
       "      <td>589196377353097216</td>\n",
       "      <td>1300</td>\n",
       "      <td>0</td>\n",
       "      <td>0</td>\n",
       "      <td>0</td>\n",
       "      <td>0</td>\n",
       "      <td>1</td>\n",
       "      <td>2015-04-17 22:43:22+00:00</td>\n",
       "      <td>2015-04-18 00:43:22</td>\n",
       "      <td>2015-05-01 13:21:33</td>\n",
       "      <td>2015-05-01 13:21:33</td>\n",
       "      <td>0</td>\n",
       "    </tr>\n",
       "  </tbody>\n",
       "</table>\n",
       "</div>"
      ],
      "text/plain": [
       "                   id                                               text  \\\n",
       "0  515447020405137408  \"Il mare d'inverno è un concetto che il pensie...   \n",
       "1  513551196226093057  Read the History of Corona Beer  http://t.co/Z...   \n",
       "2  579534763872149504  After that it would of been up to the person i...   \n",
       "3  449751137970028544  RT @kcivey: @marionbarryjr I'm for public fina...   \n",
       "4  589197488269045760  RT @specuIar: This hit me hard. http://t.co/rY...   \n",
       "\n",
       "                                              source    user_id  \\\n",
       "0  <a href=\"http://www.Matildadr89.com\" rel=\"nofo...  237359828   \n",
       "1  <a href=\"http://tweetadder.com\" rel=\"nofollow\"...  215693377   \n",
       "2  <a href=\"http://twitter.com/download/iphone\" r...  164284493   \n",
       "3  <a href=\"http://twitter.com/download/iphone\" r...  225683965   \n",
       "4  <a href=\"http://twitter.com\" rel=\"nofollow\">Tw...  505440359   \n",
       "\n",
       "   in_reply_to_status_id  in_reply_to_user_id  retweeted_status_id  \\\n",
       "0                      0                    0                    0   \n",
       "1                      0                    0                    0   \n",
       "2                      0                    0                    0   \n",
       "3                      0                    0   449735142085779456   \n",
       "4                      0                    0   589196377353097216   \n",
       "\n",
       "   retweet_count  reply_count  favorite_count  num_hashtags  num_urls  \\\n",
       "0              0            0               0             0         0   \n",
       "1              0            0               0             0         1   \n",
       "2              0            0               0             0         0   \n",
       "3              1            0               0             0         0   \n",
       "4           1300            0               0             0         0   \n",
       "\n",
       "   num_mentions                created_at           timestamp  \\\n",
       "0             0 2014-09-26 10:25:20+00:00 2014-09-26 12:25:20   \n",
       "1             0 2014-09-21 04:52:01+00:00 2014-09-21 06:52:01   \n",
       "2             0 2015-03-22 06:47:09+00:00 2015-03-22 07:47:09   \n",
       "3             2 2014-03-29 03:33:21+00:00 2014-03-29 04:33:21   \n",
       "4             1 2015-04-17 22:43:22+00:00 2015-04-18 00:43:22   \n",
       "\n",
       "           crawled_at             updated  class  \n",
       "0 2014-11-13 01:35:24 2014-11-13 01:35:24      1  \n",
       "1 2014-11-12 23:35:05 2014-11-12 23:35:05      1  \n",
       "2 2015-05-01 13:21:46 2015-05-01 13:21:46      0  \n",
       "3 2015-05-01 15:58:20 2015-05-01 15:58:20      0  \n",
       "4 2015-05-01 13:21:33 2015-05-01 13:21:33      0  "
      ]
     },
     "execution_count": 15,
     "metadata": {},
     "output_type": "execute_result"
    }
   ],
   "source": [
    "tweets.head()"
   ]
  },
  {
   "cell_type": "code",
   "execution_count": 16,
   "metadata": {},
   "outputs": [
    {
     "data": {
      "text/html": [
       "<div>\n",
       "<style scoped>\n",
       "    .dataframe tbody tr th:only-of-type {\n",
       "        vertical-align: middle;\n",
       "    }\n",
       "\n",
       "    .dataframe tbody tr th {\n",
       "        vertical-align: top;\n",
       "    }\n",
       "\n",
       "    .dataframe thead th {\n",
       "        text-align: right;\n",
       "    }\n",
       "</style>\n",
       "<table border=\"1\" class=\"dataframe\">\n",
       "  <thead>\n",
       "    <tr style=\"text-align: right;\">\n",
       "      <th></th>\n",
       "      <th>id</th>\n",
       "      <th>name</th>\n",
       "      <th>screen_name</th>\n",
       "      <th>statuses_count</th>\n",
       "      <th>followers_count</th>\n",
       "      <th>friends_count</th>\n",
       "      <th>favourites_count</th>\n",
       "      <th>listed_count</th>\n",
       "      <th>lang</th>\n",
       "      <th>profile_image_url</th>\n",
       "      <th>...</th>\n",
       "      <th>profile_sidebar_border_color</th>\n",
       "      <th>profile_sidebar_fill_color</th>\n",
       "      <th>profile_background_image_url</th>\n",
       "      <th>profile_background_color</th>\n",
       "      <th>profile_link_color</th>\n",
       "      <th>created_at</th>\n",
       "      <th>timestamp</th>\n",
       "      <th>crawled_at</th>\n",
       "      <th>updated</th>\n",
       "      <th>class</th>\n",
       "    </tr>\n",
       "  </thead>\n",
       "  <tbody>\n",
       "    <tr>\n",
       "      <th>0</th>\n",
       "      <td>2349966440</td>\n",
       "      <td>Joie Ficher</td>\n",
       "      <td>JoieFicher</td>\n",
       "      <td>80</td>\n",
       "      <td>2</td>\n",
       "      <td>42</td>\n",
       "      <td>0</td>\n",
       "      <td>0</td>\n",
       "      <td>en</td>\n",
       "      <td>http://pbs.twimg.com/profile_images/4365494921...</td>\n",
       "      <td>...</td>\n",
       "      <td>FFFFFF</td>\n",
       "      <td>DDEEF6</td>\n",
       "      <td>http://pbs.twimg.com/profile_background_images...</td>\n",
       "      <td>0000FF</td>\n",
       "      <td>0000FF</td>\n",
       "      <td>2014-02-18 11:22:38+00:00</td>\n",
       "      <td>2014-02-18 12:22:38</td>\n",
       "      <td>2014-05-03 00:22:39</td>\n",
       "      <td>2016-03-15 15:20:24</td>\n",
       "      <td>1</td>\n",
       "    </tr>\n",
       "    <tr>\n",
       "      <th>1</th>\n",
       "      <td>343263643</td>\n",
       "      <td>RIP Teveon </td>\n",
       "      <td>youpettihoe_</td>\n",
       "      <td>36513</td>\n",
       "      <td>2166</td>\n",
       "      <td>1627</td>\n",
       "      <td>2977</td>\n",
       "      <td>0</td>\n",
       "      <td>en</td>\n",
       "      <td>http://pbs.twimg.com/profile_images/5594447898...</td>\n",
       "      <td>...</td>\n",
       "      <td>FFFFFF</td>\n",
       "      <td>FFFFFF</td>\n",
       "      <td>http://pbs.twimg.com/profile_background_images...</td>\n",
       "      <td>FFFAFF</td>\n",
       "      <td>0A7A00</td>\n",
       "      <td>2011-07-27 09:01:04+00:00</td>\n",
       "      <td>2011-07-27 11:01:04</td>\n",
       "      <td>2015-05-01 23:18:23</td>\n",
       "      <td>2016-03-15 16:11:13</td>\n",
       "      <td>0</td>\n",
       "    </tr>\n",
       "    <tr>\n",
       "      <th>2</th>\n",
       "      <td>531154412</td>\n",
       "      <td>Bulah Lynne</td>\n",
       "      <td>Lynnevibe</td>\n",
       "      <td>10657</td>\n",
       "      <td>1194</td>\n",
       "      <td>996</td>\n",
       "      <td>1</td>\n",
       "      <td>8</td>\n",
       "      <td>en</td>\n",
       "      <td>http://pbs.twimg.com/profile_images/1914097815...</td>\n",
       "      <td>...</td>\n",
       "      <td>C0DEED</td>\n",
       "      <td>DDEEF6</td>\n",
       "      <td>http://abs.twimg.com/images/themes/theme1/bg.png</td>\n",
       "      <td>C0DEED</td>\n",
       "      <td>0084B4</td>\n",
       "      <td>2012-03-20 11:48:05+00:00</td>\n",
       "      <td>2012-03-20 12:48:05</td>\n",
       "      <td>2014-05-05 23:24:32</td>\n",
       "      <td>2016-03-15 15:40:08</td>\n",
       "      <td>1</td>\n",
       "    </tr>\n",
       "    <tr>\n",
       "      <th>3</th>\n",
       "      <td>2377665366</td>\n",
       "      <td>Katherina Kistle</td>\n",
       "      <td>KatherinaKistle</td>\n",
       "      <td>37</td>\n",
       "      <td>0</td>\n",
       "      <td>38</td>\n",
       "      <td>0</td>\n",
       "      <td>0</td>\n",
       "      <td>en</td>\n",
       "      <td>http://pbs.twimg.com/profile_images/4430041788...</td>\n",
       "      <td>...</td>\n",
       "      <td>FFFFFF</td>\n",
       "      <td>DDEEF6</td>\n",
       "      <td>http://pbs.twimg.com/profile_background_images...</td>\n",
       "      <td>0000FF</td>\n",
       "      <td>0000FF</td>\n",
       "      <td>2014-03-07 21:23:35+00:00</td>\n",
       "      <td>2014-03-07 22:23:35</td>\n",
       "      <td>2014-05-05 00:21:50</td>\n",
       "      <td>2016-03-15 15:16:15</td>\n",
       "      <td>1</td>\n",
       "    </tr>\n",
       "    <tr>\n",
       "      <th>4</th>\n",
       "      <td>3015346510</td>\n",
       "      <td>Lindsay Blessing Fan</td>\n",
       "      <td>lindsayspainfan</td>\n",
       "      <td>96</td>\n",
       "      <td>43</td>\n",
       "      <td>113</td>\n",
       "      <td>425</td>\n",
       "      <td>0</td>\n",
       "      <td>es</td>\n",
       "      <td>http://pbs.twimg.com/profile_images/5631073115...</td>\n",
       "      <td>...</td>\n",
       "      <td>000000</td>\n",
       "      <td>000000</td>\n",
       "      <td>http://pbs.twimg.com/profile_background_images...</td>\n",
       "      <td>000000</td>\n",
       "      <td>9266CC</td>\n",
       "      <td>2015-02-03 20:49:38+00:00</td>\n",
       "      <td>2015-02-03 21:49:38</td>\n",
       "      <td>2015-05-02 01:09:46</td>\n",
       "      <td>2016-03-15 16:07:16</td>\n",
       "      <td>0</td>\n",
       "    </tr>\n",
       "  </tbody>\n",
       "</table>\n",
       "<p>5 rows × 24 columns</p>\n",
       "</div>"
      ],
      "text/plain": [
       "           id                  name      screen_name  statuses_count  \\\n",
       "0  2349966440           Joie Ficher       JoieFicher              80   \n",
       "1   343263643         RIP Teveon      youpettihoe_           36513   \n",
       "2   531154412           Bulah Lynne        Lynnevibe           10657   \n",
       "3  2377665366      Katherina Kistle  KatherinaKistle              37   \n",
       "4  3015346510  Lindsay Blessing Fan  lindsayspainfan              96   \n",
       "\n",
       "   followers_count  friends_count  favourites_count  listed_count lang  \\\n",
       "0                2             42                 0             0   en   \n",
       "1             2166           1627              2977             0   en   \n",
       "2             1194            996                 1             8   en   \n",
       "3                0             38                 0             0   en   \n",
       "4               43            113               425             0   es   \n",
       "\n",
       "                                   profile_image_url  ...  \\\n",
       "0  http://pbs.twimg.com/profile_images/4365494921...  ...   \n",
       "1  http://pbs.twimg.com/profile_images/5594447898...  ...   \n",
       "2  http://pbs.twimg.com/profile_images/1914097815...  ...   \n",
       "3  http://pbs.twimg.com/profile_images/4430041788...  ...   \n",
       "4  http://pbs.twimg.com/profile_images/5631073115...  ...   \n",
       "\n",
       "   profile_sidebar_border_color profile_sidebar_fill_color  \\\n",
       "0                        FFFFFF                     DDEEF6   \n",
       "1                        FFFFFF                     FFFFFF   \n",
       "2                        C0DEED                     DDEEF6   \n",
       "3                        FFFFFF                     DDEEF6   \n",
       "4                        000000                     000000   \n",
       "\n",
       "                        profile_background_image_url profile_background_color  \\\n",
       "0  http://pbs.twimg.com/profile_background_images...                   0000FF   \n",
       "1  http://pbs.twimg.com/profile_background_images...                   FFFAFF   \n",
       "2   http://abs.twimg.com/images/themes/theme1/bg.png                   C0DEED   \n",
       "3  http://pbs.twimg.com/profile_background_images...                   0000FF   \n",
       "4  http://pbs.twimg.com/profile_background_images...                   000000   \n",
       "\n",
       "  profile_link_color                created_at           timestamp  \\\n",
       "0             0000FF 2014-02-18 11:22:38+00:00 2014-02-18 12:22:38   \n",
       "1             0A7A00 2011-07-27 09:01:04+00:00 2011-07-27 11:01:04   \n",
       "2             0084B4 2012-03-20 11:48:05+00:00 2012-03-20 12:48:05   \n",
       "3             0000FF 2014-03-07 21:23:35+00:00 2014-03-07 22:23:35   \n",
       "4             9266CC 2015-02-03 20:49:38+00:00 2015-02-03 21:49:38   \n",
       "\n",
       "           crawled_at             updated class  \n",
       "0 2014-05-03 00:22:39 2016-03-15 15:20:24     1  \n",
       "1 2015-05-01 23:18:23 2016-03-15 16:11:13     0  \n",
       "2 2014-05-05 23:24:32 2016-03-15 15:40:08     1  \n",
       "3 2014-05-05 00:21:50 2016-03-15 15:16:15     1  \n",
       "4 2015-05-02 01:09:46 2016-03-15 16:07:16     0  \n",
       "\n",
       "[5 rows x 24 columns]"
      ]
     },
     "execution_count": 16,
     "metadata": {},
     "output_type": "execute_result"
    }
   ],
   "source": [
    "users.head()"
   ]
  },
  {
   "cell_type": "markdown",
   "metadata": {},
   "source": [
    "### Examine 'user_id' in Tweets table\n",
    "In an attempt to 'clean' the data, I tried to remove user accounts that did not have an associated tweet. If an _id_ in the Users table was not present in the _user_id_ column of the Tweets table, that account should be removed in the Users table. However, there doesn't appear to be common user ids between the two tables. This might have been done to protect the privacy of the account users. \n",
    "\n",
    "Before we continue, let's confirm whether user ids in the Tweets table are unique to each account. \n"
   ]
  },
  {
   "cell_type": "code",
   "execution_count": 17,
   "metadata": {},
   "outputs": [],
   "source": [
    "# Create df for user class\n",
    "bots = tweets.loc[tweets['class']==1]\n",
    "gen = tweets.loc[tweets['class']==0]"
   ]
  },
  {
   "cell_type": "code",
   "execution_count": 18,
   "metadata": {},
   "outputs": [
    {
     "data": {
      "text/html": [
       "<div>\n",
       "<style scoped>\n",
       "    .dataframe tbody tr th:only-of-type {\n",
       "        vertical-align: middle;\n",
       "    }\n",
       "\n",
       "    .dataframe tbody tr th {\n",
       "        vertical-align: top;\n",
       "    }\n",
       "\n",
       "    .dataframe thead th {\n",
       "        text-align: right;\n",
       "    }\n",
       "</style>\n",
       "<table border=\"1\" class=\"dataframe\">\n",
       "  <thead>\n",
       "    <tr style=\"text-align: right;\">\n",
       "      <th></th>\n",
       "      <th>id</th>\n",
       "      <th>text</th>\n",
       "      <th>source</th>\n",
       "      <th>user_id</th>\n",
       "      <th>in_reply_to_status_id</th>\n",
       "      <th>in_reply_to_user_id</th>\n",
       "      <th>retweeted_status_id</th>\n",
       "      <th>retweet_count</th>\n",
       "      <th>reply_count</th>\n",
       "      <th>favorite_count</th>\n",
       "      <th>num_hashtags</th>\n",
       "      <th>num_urls</th>\n",
       "      <th>num_mentions</th>\n",
       "      <th>created_at</th>\n",
       "      <th>timestamp</th>\n",
       "      <th>crawled_at</th>\n",
       "      <th>updated</th>\n",
       "      <th>class</th>\n",
       "    </tr>\n",
       "  </thead>\n",
       "  <tbody>\n",
       "    <tr>\n",
       "      <th>0</th>\n",
       "      <td>515447020405137408</td>\n",
       "      <td>\"Il mare d'inverno è un concetto che il pensie...</td>\n",
       "      <td>&lt;a href=\"http://www.Matildadr89.com\" rel=\"nofo...</td>\n",
       "      <td>237359828</td>\n",
       "      <td>0</td>\n",
       "      <td>0</td>\n",
       "      <td>0</td>\n",
       "      <td>0</td>\n",
       "      <td>0</td>\n",
       "      <td>0</td>\n",
       "      <td>0</td>\n",
       "      <td>0</td>\n",
       "      <td>0</td>\n",
       "      <td>2014-09-26 10:25:20+00:00</td>\n",
       "      <td>2014-09-26 12:25:20</td>\n",
       "      <td>2014-11-13 01:35:24</td>\n",
       "      <td>2014-11-13 01:35:24</td>\n",
       "      <td>1</td>\n",
       "    </tr>\n",
       "    <tr>\n",
       "      <th>1</th>\n",
       "      <td>513551196226093057</td>\n",
       "      <td>Read the History of Corona Beer  http://t.co/Z...</td>\n",
       "      <td>&lt;a href=\"http://tweetadder.com\" rel=\"nofollow\"...</td>\n",
       "      <td>215693377</td>\n",
       "      <td>0</td>\n",
       "      <td>0</td>\n",
       "      <td>0</td>\n",
       "      <td>0</td>\n",
       "      <td>0</td>\n",
       "      <td>0</td>\n",
       "      <td>0</td>\n",
       "      <td>1</td>\n",
       "      <td>0</td>\n",
       "      <td>2014-09-21 04:52:01+00:00</td>\n",
       "      <td>2014-09-21 06:52:01</td>\n",
       "      <td>2014-11-12 23:35:05</td>\n",
       "      <td>2014-11-12 23:35:05</td>\n",
       "      <td>1</td>\n",
       "    </tr>\n",
       "    <tr>\n",
       "      <th>5</th>\n",
       "      <td>529731955978670081</td>\n",
       "      <td>The years are adding up when it takes us longe...</td>\n",
       "      <td>&lt;a href=\"http://tweetadder.com\" rel=\"nofollow\"...</td>\n",
       "      <td>531157328</td>\n",
       "      <td>0</td>\n",
       "      <td>0</td>\n",
       "      <td>0</td>\n",
       "      <td>0</td>\n",
       "      <td>0</td>\n",
       "      <td>0</td>\n",
       "      <td>0</td>\n",
       "      <td>0</td>\n",
       "      <td>0</td>\n",
       "      <td>2014-11-04 20:28:34+00:00</td>\n",
       "      <td>2014-11-04 21:28:34</td>\n",
       "      <td>2014-11-13 04:37:25</td>\n",
       "      <td>2014-11-13 04:37:25</td>\n",
       "      <td>1</td>\n",
       "    </tr>\n",
       "    <tr>\n",
       "      <th>6</th>\n",
       "      <td>527966234101702657</td>\n",
       "      <td>The difference between gossip and news is whet...</td>\n",
       "      <td>&lt;a href=\"http://tweetadder.com\" rel=\"nofollow\"...</td>\n",
       "      <td>241300883</td>\n",
       "      <td>0</td>\n",
       "      <td>0</td>\n",
       "      <td>0</td>\n",
       "      <td>0</td>\n",
       "      <td>0</td>\n",
       "      <td>0</td>\n",
       "      <td>0</td>\n",
       "      <td>0</td>\n",
       "      <td>0</td>\n",
       "      <td>2014-10-30 23:32:14+00:00</td>\n",
       "      <td>2014-10-31 00:32:14</td>\n",
       "      <td>2014-11-13 00:06:24</td>\n",
       "      <td>2014-11-13 00:06:24</td>\n",
       "      <td>1</td>\n",
       "    </tr>\n",
       "    <tr>\n",
       "      <th>7</th>\n",
       "      <td>510797657212977152</td>\n",
       "      <td>You don't save a pitcher for tomorrow. Tomorro...</td>\n",
       "      <td>&lt;a href=\"http://tweetadder.com\" rel=\"nofollow\"...</td>\n",
       "      <td>195006541</td>\n",
       "      <td>0</td>\n",
       "      <td>0</td>\n",
       "      <td>0</td>\n",
       "      <td>0</td>\n",
       "      <td>0</td>\n",
       "      <td>0</td>\n",
       "      <td>0</td>\n",
       "      <td>0</td>\n",
       "      <td>0</td>\n",
       "      <td>2014-09-13 14:30:26+00:00</td>\n",
       "      <td>2014-09-13 16:30:26</td>\n",
       "      <td>2014-11-12 23:09:01</td>\n",
       "      <td>2014-11-12 23:09:01</td>\n",
       "      <td>1</td>\n",
       "    </tr>\n",
       "  </tbody>\n",
       "</table>\n",
       "</div>"
      ],
      "text/plain": [
       "                   id                                               text  \\\n",
       "0  515447020405137408  \"Il mare d'inverno è un concetto che il pensie...   \n",
       "1  513551196226093057  Read the History of Corona Beer  http://t.co/Z...   \n",
       "5  529731955978670081  The years are adding up when it takes us longe...   \n",
       "6  527966234101702657  The difference between gossip and news is whet...   \n",
       "7  510797657212977152  You don't save a pitcher for tomorrow. Tomorro...   \n",
       "\n",
       "                                              source    user_id  \\\n",
       "0  <a href=\"http://www.Matildadr89.com\" rel=\"nofo...  237359828   \n",
       "1  <a href=\"http://tweetadder.com\" rel=\"nofollow\"...  215693377   \n",
       "5  <a href=\"http://tweetadder.com\" rel=\"nofollow\"...  531157328   \n",
       "6  <a href=\"http://tweetadder.com\" rel=\"nofollow\"...  241300883   \n",
       "7  <a href=\"http://tweetadder.com\" rel=\"nofollow\"...  195006541   \n",
       "\n",
       "   in_reply_to_status_id  in_reply_to_user_id  retweeted_status_id  \\\n",
       "0                      0                    0                    0   \n",
       "1                      0                    0                    0   \n",
       "5                      0                    0                    0   \n",
       "6                      0                    0                    0   \n",
       "7                      0                    0                    0   \n",
       "\n",
       "   retweet_count  reply_count  favorite_count  num_hashtags  num_urls  \\\n",
       "0              0            0               0             0         0   \n",
       "1              0            0               0             0         1   \n",
       "5              0            0               0             0         0   \n",
       "6              0            0               0             0         0   \n",
       "7              0            0               0             0         0   \n",
       "\n",
       "   num_mentions                created_at           timestamp  \\\n",
       "0             0 2014-09-26 10:25:20+00:00 2014-09-26 12:25:20   \n",
       "1             0 2014-09-21 04:52:01+00:00 2014-09-21 06:52:01   \n",
       "5             0 2014-11-04 20:28:34+00:00 2014-11-04 21:28:34   \n",
       "6             0 2014-10-30 23:32:14+00:00 2014-10-31 00:32:14   \n",
       "7             0 2014-09-13 14:30:26+00:00 2014-09-13 16:30:26   \n",
       "\n",
       "           crawled_at             updated  class  \n",
       "0 2014-11-13 01:35:24 2014-11-13 01:35:24      1  \n",
       "1 2014-11-12 23:35:05 2014-11-12 23:35:05      1  \n",
       "5 2014-11-13 04:37:25 2014-11-13 04:37:25      1  \n",
       "6 2014-11-13 00:06:24 2014-11-13 00:06:24      1  \n",
       "7 2014-11-12 23:09:01 2014-11-12 23:09:01      1  "
      ]
     },
     "execution_count": 18,
     "metadata": {},
     "output_type": "execute_result"
    }
   ],
   "source": [
    "bots.head()"
   ]
  },
  {
   "cell_type": "code",
   "execution_count": 19,
   "metadata": {},
   "outputs": [
    {
     "data": {
      "text/plain": [
       "4912"
      ]
     },
     "execution_count": 19,
     "metadata": {},
     "output_type": "execute_result"
    }
   ],
   "source": [
    "# Number of unique user accounts\n",
    "len(bots['user_id'].unique().tolist())"
   ]
  },
  {
   "cell_type": "code",
   "execution_count": 20,
   "metadata": {},
   "outputs": [
    {
     "data": {
      "text/plain": [
       "521370115     3258\n",
       "334826952     3250\n",
       "221141363     3250\n",
       "239910996     3250\n",
       "982414274     3250\n",
       "              ... \n",
       "2382422750      66\n",
       "2375328500      64\n",
       "2382743514      63\n",
       "2391867347      43\n",
       "2384976224      38\n",
       "Name: user_id, Length: 4912, dtype: int64"
      ]
     },
     "execution_count": 20,
     "metadata": {},
     "output_type": "execute_result"
    }
   ],
   "source": [
    "# Counts of unique user accounts \n",
    "bots['user_id'].value_counts()"
   ]
  },
  {
   "cell_type": "markdown",
   "metadata": {},
   "source": [
    "To confirm that these user ids are unique to the bots account, we will select a few user ids to verify that they only belong to the specific user in the Tweets table. \n",
    "\n",
    "Let's start by verifying _user_id_: 521370115"
   ]
  },
  {
   "cell_type": "code",
   "execution_count": 21,
   "metadata": {},
   "outputs": [
    {
     "data": {
      "text/html": [
       "<div>\n",
       "<style scoped>\n",
       "    .dataframe tbody tr th:only-of-type {\n",
       "        vertical-align: middle;\n",
       "    }\n",
       "\n",
       "    .dataframe tbody tr th {\n",
       "        vertical-align: top;\n",
       "    }\n",
       "\n",
       "    .dataframe thead th {\n",
       "        text-align: right;\n",
       "    }\n",
       "</style>\n",
       "<table border=\"1\" class=\"dataframe\">\n",
       "  <thead>\n",
       "    <tr style=\"text-align: right;\">\n",
       "      <th></th>\n",
       "      <th>id</th>\n",
       "      <th>text</th>\n",
       "      <th>source</th>\n",
       "      <th>user_id</th>\n",
       "      <th>in_reply_to_status_id</th>\n",
       "      <th>in_reply_to_user_id</th>\n",
       "      <th>retweeted_status_id</th>\n",
       "      <th>retweet_count</th>\n",
       "      <th>reply_count</th>\n",
       "      <th>favorite_count</th>\n",
       "      <th>num_hashtags</th>\n",
       "      <th>num_urls</th>\n",
       "      <th>num_mentions</th>\n",
       "      <th>created_at</th>\n",
       "      <th>timestamp</th>\n",
       "      <th>crawled_at</th>\n",
       "      <th>updated</th>\n",
       "      <th>class</th>\n",
       "    </tr>\n",
       "  </thead>\n",
       "  <tbody>\n",
       "    <tr>\n",
       "      <th>1351</th>\n",
       "      <td>514086444387008513</td>\n",
       "      <td>Read the History of Journey  http://t.co/DGLvo...</td>\n",
       "      <td>&lt;a href=\"http://tweetadder.com\" rel=\"nofollow\"...</td>\n",
       "      <td>521370115</td>\n",
       "      <td>0</td>\n",
       "      <td>0</td>\n",
       "      <td>0</td>\n",
       "      <td>0</td>\n",
       "      <td>0</td>\n",
       "      <td>0</td>\n",
       "      <td>0</td>\n",
       "      <td>1</td>\n",
       "      <td>0</td>\n",
       "      <td>2014-09-22 16:18:54+00:00</td>\n",
       "      <td>2014-09-22 18:18:54</td>\n",
       "      <td>2014-11-13 03:10:13</td>\n",
       "      <td>2014-11-13 03:10:13</td>\n",
       "      <td>1</td>\n",
       "    </tr>\n",
       "    <tr>\n",
       "      <th>5270</th>\n",
       "      <td>518798551498096640</td>\n",
       "      <td>If it weren't for baseball, many kids wouldn't...</td>\n",
       "      <td>&lt;a href=\"http://tweetadder.com\" rel=\"nofollow\"...</td>\n",
       "      <td>521370115</td>\n",
       "      <td>0</td>\n",
       "      <td>0</td>\n",
       "      <td>0</td>\n",
       "      <td>0</td>\n",
       "      <td>0</td>\n",
       "      <td>0</td>\n",
       "      <td>0</td>\n",
       "      <td>0</td>\n",
       "      <td>0</td>\n",
       "      <td>2014-10-05 16:23:08+00:00</td>\n",
       "      <td>2014-10-05 18:23:08</td>\n",
       "      <td>2014-11-13 03:10:11</td>\n",
       "      <td>2014-11-13 03:10:11</td>\n",
       "      <td>1</td>\n",
       "    </tr>\n",
       "    <tr>\n",
       "      <th>5817</th>\n",
       "      <td>521430185942724609</td>\n",
       "      <td>Before you create anymore great content figure...</td>\n",
       "      <td>&lt;a href=\"http://tweetadder.com\" rel=\"nofollow\"...</td>\n",
       "      <td>521370115</td>\n",
       "      <td>0</td>\n",
       "      <td>0</td>\n",
       "      <td>0</td>\n",
       "      <td>0</td>\n",
       "      <td>0</td>\n",
       "      <td>0</td>\n",
       "      <td>0</td>\n",
       "      <td>0</td>\n",
       "      <td>0</td>\n",
       "      <td>2014-10-12 22:40:18+00:00</td>\n",
       "      <td>2014-10-13 00:40:18</td>\n",
       "      <td>2014-11-13 03:10:08</td>\n",
       "      <td>2014-11-13 03:10:09</td>\n",
       "      <td>1</td>\n",
       "    </tr>\n",
       "    <tr>\n",
       "      <th>6142</th>\n",
       "      <td>513408584437096448</td>\n",
       "      <td>Running SUCKS! How to Run for Fast Weight Loss...</td>\n",
       "      <td>&lt;a href=\"http://tweetadder.com\" rel=\"nofollow\"...</td>\n",
       "      <td>521370115</td>\n",
       "      <td>0</td>\n",
       "      <td>0</td>\n",
       "      <td>0</td>\n",
       "      <td>0</td>\n",
       "      <td>0</td>\n",
       "      <td>0</td>\n",
       "      <td>0</td>\n",
       "      <td>1</td>\n",
       "      <td>0</td>\n",
       "      <td>2014-09-20 19:25:19+00:00</td>\n",
       "      <td>2014-09-20 21:25:19</td>\n",
       "      <td>2014-11-13 03:10:13</td>\n",
       "      <td>2014-11-13 03:10:13</td>\n",
       "      <td>1</td>\n",
       "    </tr>\n",
       "    <tr>\n",
       "      <th>8566</th>\n",
       "      <td>517016238703509505</td>\n",
       "      <td>Check Out these Cool Types of Garage Flooring ...</td>\n",
       "      <td>&lt;a href=\"http://tweetadder.com\" rel=\"nofollow\"...</td>\n",
       "      <td>521370115</td>\n",
       "      <td>0</td>\n",
       "      <td>0</td>\n",
       "      <td>0</td>\n",
       "      <td>0</td>\n",
       "      <td>0</td>\n",
       "      <td>0</td>\n",
       "      <td>0</td>\n",
       "      <td>1</td>\n",
       "      <td>0</td>\n",
       "      <td>2014-09-30 18:20:51+00:00</td>\n",
       "      <td>2014-09-30 20:20:51</td>\n",
       "      <td>2014-11-13 03:10:12</td>\n",
       "      <td>2014-11-13 03:10:12</td>\n",
       "      <td>1</td>\n",
       "    </tr>\n",
       "  </tbody>\n",
       "</table>\n",
       "</div>"
      ],
      "text/plain": [
       "                      id                                               text  \\\n",
       "1351  514086444387008513  Read the History of Journey  http://t.co/DGLvo...   \n",
       "5270  518798551498096640  If it weren't for baseball, many kids wouldn't...   \n",
       "5817  521430185942724609  Before you create anymore great content figure...   \n",
       "6142  513408584437096448  Running SUCKS! How to Run for Fast Weight Loss...   \n",
       "8566  517016238703509505  Check Out these Cool Types of Garage Flooring ...   \n",
       "\n",
       "                                                 source    user_id  \\\n",
       "1351  <a href=\"http://tweetadder.com\" rel=\"nofollow\"...  521370115   \n",
       "5270  <a href=\"http://tweetadder.com\" rel=\"nofollow\"...  521370115   \n",
       "5817  <a href=\"http://tweetadder.com\" rel=\"nofollow\"...  521370115   \n",
       "6142  <a href=\"http://tweetadder.com\" rel=\"nofollow\"...  521370115   \n",
       "8566  <a href=\"http://tweetadder.com\" rel=\"nofollow\"...  521370115   \n",
       "\n",
       "      in_reply_to_status_id  in_reply_to_user_id  retweeted_status_id  \\\n",
       "1351                      0                    0                    0   \n",
       "5270                      0                    0                    0   \n",
       "5817                      0                    0                    0   \n",
       "6142                      0                    0                    0   \n",
       "8566                      0                    0                    0   \n",
       "\n",
       "      retweet_count  reply_count  favorite_count  num_hashtags  num_urls  \\\n",
       "1351              0            0               0             0         1   \n",
       "5270              0            0               0             0         0   \n",
       "5817              0            0               0             0         0   \n",
       "6142              0            0               0             0         1   \n",
       "8566              0            0               0             0         1   \n",
       "\n",
       "      num_mentions                created_at           timestamp  \\\n",
       "1351             0 2014-09-22 16:18:54+00:00 2014-09-22 18:18:54   \n",
       "5270             0 2014-10-05 16:23:08+00:00 2014-10-05 18:23:08   \n",
       "5817             0 2014-10-12 22:40:18+00:00 2014-10-13 00:40:18   \n",
       "6142             0 2014-09-20 19:25:19+00:00 2014-09-20 21:25:19   \n",
       "8566             0 2014-09-30 18:20:51+00:00 2014-09-30 20:20:51   \n",
       "\n",
       "              crawled_at             updated  class  \n",
       "1351 2014-11-13 03:10:13 2014-11-13 03:10:13      1  \n",
       "5270 2014-11-13 03:10:11 2014-11-13 03:10:11      1  \n",
       "5817 2014-11-13 03:10:08 2014-11-13 03:10:09      1  \n",
       "6142 2014-11-13 03:10:13 2014-11-13 03:10:13      1  \n",
       "8566 2014-11-13 03:10:12 2014-11-13 03:10:12      1  "
      ]
     },
     "execution_count": 21,
     "metadata": {},
     "output_type": "execute_result"
    }
   ],
   "source": [
    "# Create df with selected user id \n",
    "user_id = tweets[tweets['user_id']==521370115]\n",
    "user_id.head()"
   ]
  },
  {
   "cell_type": "markdown",
   "metadata": {},
   "source": [
    "Now, let's check if this user id is associated with a human class (0)."
   ]
  },
  {
   "cell_type": "code",
   "execution_count": 22,
   "metadata": {},
   "outputs": [
    {
     "data": {
      "text/plain": [
       "1    3258\n",
       "Name: class, dtype: int64"
      ]
     },
     "execution_count": 22,
     "metadata": {},
     "output_type": "execute_result"
    }
   ],
   "source": [
    "# Count of class \n",
    "user_id['class'].value_counts()"
   ]
  },
  {
   "cell_type": "code",
   "execution_count": 23,
   "metadata": {},
   "outputs": [
    {
     "data": {
      "text/plain": [
       "1    38\n",
       "Name: class, dtype: int64"
      ]
     },
     "execution_count": 23,
     "metadata": {},
     "output_type": "execute_result"
    }
   ],
   "source": [
    "# Verify another user id \n",
    "user_id2 = tweets[tweets['user_id']==2384976224]\n",
    "\n",
    "# Count of class \n",
    "user_id2['class'].value_counts()"
   ]
  },
  {
   "cell_type": "markdown",
   "metadata": {},
   "source": [
    "It does look like that the user ids are unique to specific accounts. Let's verify some genuine accounts before we move on. "
   ]
  },
  {
   "cell_type": "code",
   "execution_count": 24,
   "metadata": {},
   "outputs": [
    {
     "data": {
      "text/plain": [
       "1083"
      ]
     },
     "execution_count": 24,
     "metadata": {},
     "output_type": "execute_result"
    }
   ],
   "source": [
    "# Number of unique user accounts\n",
    "len(gen['user_id'].unique().tolist())"
   ]
  },
  {
   "cell_type": "code",
   "execution_count": 25,
   "metadata": {},
   "outputs": [
    {
     "data": {
      "text/plain": [
       "15044720      3250\n",
       "497404180     3249\n",
       "182211050     3247\n",
       "195076965     3247\n",
       "14626600      3247\n",
       "              ... \n",
       "492728332       24\n",
       "2236789484      15\n",
       "2200425967      14\n",
       "24386710        13\n",
       "514061230        3\n",
       "Name: user_id, Length: 1083, dtype: int64"
      ]
     },
     "execution_count": 25,
     "metadata": {},
     "output_type": "execute_result"
    }
   ],
   "source": [
    "# Counts of unique user accounts \n",
    "gen['user_id'].value_counts()"
   ]
  },
  {
   "cell_type": "code",
   "execution_count": 26,
   "metadata": {},
   "outputs": [
    {
     "data": {
      "text/plain": [
       "0    3250\n",
       "Name: class, dtype: int64"
      ]
     },
     "execution_count": 26,
     "metadata": {},
     "output_type": "execute_result"
    }
   ],
   "source": [
    "# Create df with selected user id \n",
    "user_id3 = tweets[tweets['user_id']==15044720]\n",
    "\n",
    "# Count of class \n",
    "user_id3['class'].value_counts()"
   ]
  },
  {
   "cell_type": "code",
   "execution_count": 27,
   "metadata": {},
   "outputs": [
    {
     "data": {
      "text/plain": [
       "0    3\n",
       "Name: class, dtype: int64"
      ]
     },
     "execution_count": 27,
     "metadata": {},
     "output_type": "execute_result"
    }
   ],
   "source": [
    "# Verify another user id \n",
    "user_id4 = tweets[tweets['user_id']==514061230]\n",
    "\n",
    "# Count of class \n",
    "user_id4['class'].value_counts()"
   ]
  },
  {
   "cell_type": "markdown",
   "metadata": {},
   "source": [
    "## Exploratory Data Analysis\n",
    "We'll start by exploring the Tweets table by keeping a few questions in mind.<br> \n",
    "__How many tweets were made by humans and robots?__ <br>\n",
    "__Which accounts posted the most tweets?__ <br>"
   ]
  },
  {
   "cell_type": "code",
   "execution_count": 28,
   "metadata": {},
   "outputs": [
    {
     "name": "stdout",
     "output_type": "stream",
     "text": [
      "There are 2826718 tweets made by humans(44.987%) and 3456718 tweets made by bots (55.013%) in the tweets table.\n"
     ]
    }
   ],
   "source": [
    "# Bot vs human tweets \n",
    "counts = tweets['class'].value_counts()\n",
    "human = counts[0]\n",
    "bot = counts[1]\n",
    "human_per = (human/(human + bot))*100\n",
    "bot_per = (bot/(human + bot))*100\n",
    "print('There are {} tweets made by humans({:.3f}%) and {} tweets made by bots ({:.3f}%) in the tweets table.'.format(human, human_per, bot, bot_per))"
   ]
  },
  {
   "cell_type": "code",
   "execution_count": 29,
   "metadata": {},
   "outputs": [
    {
     "data": {
      "image/png": "[encoded data removed]",
      "text/plain": [
       "<Figure size 864x432 with 1 Axes>"
      ]
     },
     "metadata": {
      "needs_background": "light"
     },
     "output_type": "display_data"
    }
   ],
   "source": [
    "# Plot target variable\n",
    "plt.figure(figsize=(12,6))\n",
    "g = sns.countplot(x = 'class', data = tweets)\n",
    "g.set_title('Count of Tweets made by Humans vs Bots', fontsize = 17)\n",
    "g.set_xlabel('User Type', fontsize = 15)\n",
    "g.set_ylabel('# Tweets', fontsize = 15)\n",
    "\n",
    "for p in g.patches:\n",
    "    height = p.get_height()\n",
    "    g.text(p.get_x()+p.get_width()/2.,\n",
    "            height + 3,\n",
    "            '{:1.2f}%'.format(height/len(tweets) * 100),\n",
    "            ha=\"center\", fontsize=15) "
   ]
  },
  {
   "cell_type": "markdown",
   "metadata": {},
   "source": [
    "As shown in the bar graph, the data consists of 45% tweets by humans and 55% tweets by robots. The ratio between human to robot tweets are close so we do not have an imbalance problem. \n",
    "\n",
    "Let's look at which accounts tweeted the most. "
   ]
  },
  {
   "cell_type": "code",
   "execution_count": 30,
   "metadata": {},
   "outputs": [
    {
     "data": {
      "image/png": "[encoded data removed]",
      "text/plain": [
       "<Figure size 720x360 with 1 Axes>"
      ]
     },
     "metadata": {
      "needs_background": "light"
     },
     "output_type": "display_data"
    }
   ],
   "source": [
    "t_per_user = tweets['user_id'].value_counts()\n",
    "t_per_user = t_per_user[:20,]\n",
    "plt.figure(figsize=(10,5))\n",
    "sns.barplot(t_per_user.index, t_per_user.values, alpha=0.8)\n",
    "plt.title('Accounts with most Tweets')\n",
    "plt.ylabel('Number of Occurrences', fontsize=12)\n",
    "plt.xlabel('User Id', fontsize=12)\n",
    "plt.show()"
   ]
  },
  {
   "cell_type": "code",
   "execution_count": null,
   "metadata": {},
   "outputs": [],
   "source": []
  },
  {
   "cell_type": "code",
   "execution_count": null,
   "metadata": {},
   "outputs": [],
   "source": []
  },
  {
   "cell_type": "code",
   "execution_count": null,
   "metadata": {},
   "outputs": [],
   "source": []
  },
  {
   "cell_type": "code",
   "execution_count": null,
   "metadata": {},
   "outputs": [],
   "source": []
  },
  {
   "cell_type": "code",
   "execution_count": null,
   "metadata": {},
   "outputs": [],
   "source": []
  },
  {
   "cell_type": "code",
   "execution_count": null,
   "metadata": {},
   "outputs": [],
   "source": []
  },
  {
   "cell_type": "code",
   "execution_count": null,
   "metadata": {},
   "outputs": [],
   "source": []
  },
  {
   "cell_type": "code",
   "execution_count": 31,
   "metadata": {},
   "outputs": [
    {
     "name": "stdout",
     "output_type": "stream",
     "text": [
      "There are 3083 genuine accounts(38.591%) and 4906 spambot accounts (61.409%) in the users table.\n"
     ]
    }
   ],
   "source": [
    "# Bot vs human tweets \n",
    "counts = users['class'].value_counts()\n",
    "human = counts[0]\n",
    "bot = counts[1]\n",
    "human_per = (human/(human + bot))*100\n",
    "bot_per = (bot/(human + bot))*100\n",
    "print('There are {} genuine accounts({:.3f}%) and {} spambot accounts ({:.3f}%) in the users table.'.format(human, human_per, bot, bot_per))"
   ]
  },
  {
   "cell_type": "code",
   "execution_count": 32,
   "metadata": {},
   "outputs": [
    {
     "data": {
      "image/png": "[encoded data removed]",
      "text/plain": [
       "<Figure size 864x432 with 1 Axes>"
      ]
     },
     "metadata": {
      "needs_background": "light"
     },
     "output_type": "display_data"
    }
   ],
   "source": [
    "# Plot target variable\n",
    "plt.figure(figsize=(12,6))\n",
    "g = sns.countplot(x = 'class', data = users)\n",
    "g.set_title('Number of Accounts', fontsize = 17)\n",
    "g.set_xlabel('User Type', fontsize = 15)\n",
    "g.set_ylabel('# Users', fontsize = 15)\n",
    "\n",
    "for p in g.patches:\n",
    "    height = p.get_height()\n",
    "    g.text(p.get_x()+p.get_width()/2.,\n",
    "            height + 3,\n",
    "            '{:1.2f}%'.format(height/len(users) * 100),\n",
    "            ha=\"center\", fontsize=15) "
   ]
  },
  {
   "cell_type": "code",
   "execution_count": null,
   "metadata": {},
   "outputs": [],
   "source": []
  },
  {
   "cell_type": "code",
   "execution_count": 33,
   "metadata": {},
   "outputs": [],
   "source": [
    "# tweets per day"
   ]
  },
  {
   "cell_type": "code",
   "execution_count": 34,
   "metadata": {},
   "outputs": [],
   "source": [
    "# tweet over time "
   ]
  },
  {
   "cell_type": "code",
   "execution_count": 35,
   "metadata": {},
   "outputs": [],
   "source": [
    "# pauses between tweets"
   ]
  },
  {
   "cell_type": "code",
   "execution_count": 36,
   "metadata": {},
   "outputs": [],
   "source": [
    "# creation time"
   ]
  },
  {
   "cell_type": "code",
   "execution_count": 37,
   "metadata": {},
   "outputs": [],
   "source": [
    "#def hr_func(ts):\n",
    "    #return ts.hour"
   ]
  },
  {
   "cell_type": "code",
   "execution_count": 38,
   "metadata": {},
   "outputs": [],
   "source": [
    "#df['hour_tweet'] = users['timestamp'].apply(hr_func)"
   ]
  },
  {
   "cell_type": "code",
   "execution_count": 39,
   "metadata": {},
   "outputs": [],
   "source": [
    "# number of retweets / total posts"
   ]
  },
  {
   "cell_type": "code",
   "execution_count": 40,
   "metadata": {},
   "outputs": [],
   "source": [
    "# ratio of numbers in screen_name"
   ]
  },
  {
   "cell_type": "markdown",
   "metadata": {},
   "source": [
    "## Clean Tweets\n",
    "We will clean the tweets with the following steps:\n",
    " * Translate Italian tweets to English [Source](https://pypi.org/project/googletrans/)\n",
    " * Remove hyperlinks, mentions, and 'RT' from retweets\n",
    " * CounterVectorization to create Bag of Words by: \n",
    "     - Tokenization: Converting a sentence into a list of words\n",
    "     - Remove stopwords\n",
    "     - Lammentization/stemming: Converting any form of a word ot its root word\n",
    "     - Returns vectors of the counts of each word\n",
    " \n",
    " Reference:\n",
    " [clean tweet](https://www.kaggle.com/ragnisah/text-data-cleaning-tweets-analysis)\n",
    " [Source](https://datascienceplus.com/twitter-analysis-with-python/)\n",
    " \n",
    "First, we will paritation the clean_tweets into separate classes for building bag of words and cut down on processing time for CountVectorizer and TfidTransformer. \n",
    " \n",
    "Let's start by cleaning the bot tweets. \n",
    " "
   ]
  },
  {
   "cell_type": "code",
   "execution_count": 85,
   "metadata": {},
   "outputs": [],
   "source": [
    "tweets['text'] = tweets['text'].astype('str')"
   ]
  },
  {
   "cell_type": "code",
   "execution_count": 86,
   "metadata": {},
   "outputs": [],
   "source": [
    "# Create df for user class\n",
    "bots = tweets.loc[tweets['class']==1]\n",
    "gen = tweets.loc[tweets['class']==0]"
   ]
  },
  {
   "cell_type": "code",
   "execution_count": 87,
   "metadata": {},
   "outputs": [
    {
     "data": {
      "text/html": [
       "<div>\n",
       "<style scoped>\n",
       "    .dataframe tbody tr th:only-of-type {\n",
       "        vertical-align: middle;\n",
       "    }\n",
       "\n",
       "    .dataframe tbody tr th {\n",
       "        vertical-align: top;\n",
       "    }\n",
       "\n",
       "    .dataframe thead th {\n",
       "        text-align: right;\n",
       "    }\n",
       "</style>\n",
       "<table border=\"1\" class=\"dataframe\">\n",
       "  <thead>\n",
       "    <tr style=\"text-align: right;\">\n",
       "      <th></th>\n",
       "      <th>text</th>\n",
       "    </tr>\n",
       "  </thead>\n",
       "  <tbody>\n",
       "    <tr>\n",
       "      <th>0</th>\n",
       "      <td>\"Il mare d'inverno è un concetto che il pensie...</td>\n",
       "    </tr>\n",
       "    <tr>\n",
       "      <th>1</th>\n",
       "      <td>Read the History of Corona Beer  http://t.co/Z...</td>\n",
       "    </tr>\n",
       "    <tr>\n",
       "      <th>5</th>\n",
       "      <td>The years are adding up when it takes us longe...</td>\n",
       "    </tr>\n",
       "    <tr>\n",
       "      <th>6</th>\n",
       "      <td>The difference between gossip and news is whet...</td>\n",
       "    </tr>\n",
       "    <tr>\n",
       "      <th>7</th>\n",
       "      <td>You don't save a pitcher for tomorrow. Tomorro...</td>\n",
       "    </tr>\n",
       "  </tbody>\n",
       "</table>\n",
       "</div>"
      ],
      "text/plain": [
       "                                                text\n",
       "0  \"Il mare d'inverno è un concetto che il pensie...\n",
       "1  Read the History of Corona Beer  http://t.co/Z...\n",
       "5  The years are adding up when it takes us longe...\n",
       "6  The difference between gossip and news is whet...\n",
       "7  You don't save a pitcher for tomorrow. Tomorro..."
      ]
     },
     "execution_count": 87,
     "metadata": {},
     "output_type": "execute_result"
    }
   ],
   "source": [
    "# Create new df \n",
    "b_tweets = pd.DataFrame(bots['text'])\n",
    "b_tweets.head()"
   ]
  },
  {
   "cell_type": "code",
   "execution_count": 88,
   "metadata": {},
   "outputs": [
    {
     "data": {
      "text/html": [
       "<div>\n",
       "<style scoped>\n",
       "    .dataframe tbody tr th:only-of-type {\n",
       "        vertical-align: middle;\n",
       "    }\n",
       "\n",
       "    .dataframe tbody tr th {\n",
       "        vertical-align: top;\n",
       "    }\n",
       "\n",
       "    .dataframe thead th {\n",
       "        text-align: right;\n",
       "    }\n",
       "</style>\n",
       "<table border=\"1\" class=\"dataframe\">\n",
       "  <thead>\n",
       "    <tr style=\"text-align: right;\">\n",
       "      <th></th>\n",
       "      <th>text</th>\n",
       "    </tr>\n",
       "  </thead>\n",
       "  <tbody>\n",
       "    <tr>\n",
       "      <th>2</th>\n",
       "      <td>After that it would of been up to the person i...</td>\n",
       "    </tr>\n",
       "    <tr>\n",
       "      <th>3</th>\n",
       "      <td>RT @kcivey: @marionbarryjr I'm for public fina...</td>\n",
       "    </tr>\n",
       "    <tr>\n",
       "      <th>4</th>\n",
       "      <td>RT @specuIar: This hit me hard. http://t.co/rY...</td>\n",
       "    </tr>\n",
       "    <tr>\n",
       "      <th>9</th>\n",
       "      <td>RT @AngStupidyante: Knock knock?Husder?DOTA 2C...</td>\n",
       "    </tr>\n",
       "    <tr>\n",
       "      <th>11</th>\n",
       "      <td>@65_wat I wouldn’t even have the laptop open</td>\n",
       "    </tr>\n",
       "  </tbody>\n",
       "</table>\n",
       "</div>"
      ],
      "text/plain": [
       "                                                 text\n",
       "2   After that it would of been up to the person i...\n",
       "3   RT @kcivey: @marionbarryjr I'm for public fina...\n",
       "4   RT @specuIar: This hit me hard. http://t.co/rY...\n",
       "9   RT @AngStupidyante: Knock knock?Husder?DOTA 2C...\n",
       "11       @65_wat I wouldn’t even have the laptop open"
      ]
     },
     "execution_count": 88,
     "metadata": {},
     "output_type": "execute_result"
    }
   ],
   "source": [
    "# Create new df  \n",
    "g_tweets = pd.DataFrame(gen['text'])\n",
    "g_tweets.head()"
   ]
  },
  {
   "cell_type": "markdown",
   "metadata": {},
   "source": [
    "Let's clean the tweets to remove links, @, and RT."
   ]
  },
  {
   "cell_type": "code",
   "execution_count": 89,
   "metadata": {},
   "outputs": [
    {
     "data": {
      "text/html": [
       "<div>\n",
       "<style scoped>\n",
       "    .dataframe tbody tr th:only-of-type {\n",
       "        vertical-align: middle;\n",
       "    }\n",
       "\n",
       "    .dataframe tbody tr th {\n",
       "        vertical-align: top;\n",
       "    }\n",
       "\n",
       "    .dataframe thead th {\n",
       "        text-align: right;\n",
       "    }\n",
       "</style>\n",
       "<table border=\"1\" class=\"dataframe\">\n",
       "  <thead>\n",
       "    <tr style=\"text-align: right;\">\n",
       "      <th></th>\n",
       "      <th>text</th>\n",
       "      <th>clean_tweets</th>\n",
       "    </tr>\n",
       "  </thead>\n",
       "  <tbody>\n",
       "    <tr>\n",
       "      <th>0</th>\n",
       "      <td>\"Il mare d'inverno è un concetto che il pensie...</td>\n",
       "      <td>\"Il mare d'inverno è un concetto che il pensie...</td>\n",
       "    </tr>\n",
       "    <tr>\n",
       "      <th>1</th>\n",
       "      <td>Read the History of Corona Beer  http://t.co/Z...</td>\n",
       "      <td>Read the History of Corona Beer</td>\n",
       "    </tr>\n",
       "    <tr>\n",
       "      <th>5</th>\n",
       "      <td>The years are adding up when it takes us longe...</td>\n",
       "      <td>The years are adding up when it takes us longe...</td>\n",
       "    </tr>\n",
       "    <tr>\n",
       "      <th>6</th>\n",
       "      <td>The difference between gossip and news is whet...</td>\n",
       "      <td>The difference between gossip and news is whet...</td>\n",
       "    </tr>\n",
       "    <tr>\n",
       "      <th>7</th>\n",
       "      <td>You don't save a pitcher for tomorrow. Tomorro...</td>\n",
       "      <td>You don't save a pitcher for tomorrow. Tomorro...</td>\n",
       "    </tr>\n",
       "  </tbody>\n",
       "</table>\n",
       "</div>"
      ],
      "text/plain": [
       "                                                text  \\\n",
       "0  \"Il mare d'inverno è un concetto che il pensie...   \n",
       "1  Read the History of Corona Beer  http://t.co/Z...   \n",
       "5  The years are adding up when it takes us longe...   \n",
       "6  The difference between gossip and news is whet...   \n",
       "7  You don't save a pitcher for tomorrow. Tomorro...   \n",
       "\n",
       "                                        clean_tweets  \n",
       "0  \"Il mare d'inverno è un concetto che il pensie...  \n",
       "1                  Read the History of Corona Beer    \n",
       "5  The years are adding up when it takes us longe...  \n",
       "6  The difference between gossip and news is whet...  \n",
       "7  You don't save a pitcher for tomorrow. Tomorro...  "
      ]
     },
     "execution_count": 89,
     "metadata": {},
     "output_type": "execute_result"
    }
   ],
   "source": [
    "def text_cleaner(text):\n",
    "    text = re.sub(r'http.*','',text)\n",
    "    text = re.sub(\"@[A-Za-z0-9]+\",'',text)\n",
    "    text = re.sub(r'bit/ly.*', '', text)\n",
    "    text = re.sub(r'b\\'', '', text)\n",
    "    text = re.sub(r'b\"', '', text)\n",
    "    text = text.replace('RT', '')\n",
    "    return text\n",
    "\n",
    "b_tweets['clean_tweets'] = b_tweets['text'].apply(lambda x: text_cleaner(x))\n",
    "\n",
    "b_tweets.head()"
   ]
  },
  {
   "cell_type": "code",
   "execution_count": 90,
   "metadata": {},
   "outputs": [
    {
     "data": {
      "text/html": [
       "<div>\n",
       "<style scoped>\n",
       "    .dataframe tbody tr th:only-of-type {\n",
       "        vertical-align: middle;\n",
       "    }\n",
       "\n",
       "    .dataframe tbody tr th {\n",
       "        vertical-align: top;\n",
       "    }\n",
       "\n",
       "    .dataframe thead th {\n",
       "        text-align: right;\n",
       "    }\n",
       "</style>\n",
       "<table border=\"1\" class=\"dataframe\">\n",
       "  <thead>\n",
       "    <tr style=\"text-align: right;\">\n",
       "      <th></th>\n",
       "      <th>text</th>\n",
       "      <th>clean_tweets</th>\n",
       "    </tr>\n",
       "  </thead>\n",
       "  <tbody>\n",
       "    <tr>\n",
       "      <th>2</th>\n",
       "      <td>After that it would of been up to the person i...</td>\n",
       "      <td>After that it would of been up to the person i...</td>\n",
       "    </tr>\n",
       "    <tr>\n",
       "      <th>3</th>\n",
       "      <td>RT @kcivey: @marionbarryjr I'm for public fina...</td>\n",
       "      <td>:  I'm for public finance, but for now why sh...</td>\n",
       "    </tr>\n",
       "    <tr>\n",
       "      <th>4</th>\n",
       "      <td>RT @specuIar: This hit me hard. http://t.co/rY...</td>\n",
       "      <td>: This hit me hard.</td>\n",
       "    </tr>\n",
       "    <tr>\n",
       "      <th>9</th>\n",
       "      <td>RT @AngStupidyante: Knock knock?Husder?DOTA 2C...</td>\n",
       "      <td>: Knock knock?Husder?DOTA 2Can I have your DO...</td>\n",
       "    </tr>\n",
       "    <tr>\n",
       "      <th>11</th>\n",
       "      <td>@65_wat I wouldn’t even have the laptop open</td>\n",
       "      <td>_wat I wouldn’t even have the laptop open</td>\n",
       "    </tr>\n",
       "  </tbody>\n",
       "</table>\n",
       "</div>"
      ],
      "text/plain": [
       "                                                 text  \\\n",
       "2   After that it would of been up to the person i...   \n",
       "3   RT @kcivey: @marionbarryjr I'm for public fina...   \n",
       "4   RT @specuIar: This hit me hard. http://t.co/rY...   \n",
       "9   RT @AngStupidyante: Knock knock?Husder?DOTA 2C...   \n",
       "11       @65_wat I wouldn’t even have the laptop open   \n",
       "\n",
       "                                         clean_tweets  \n",
       "2   After that it would of been up to the person i...  \n",
       "3    :  I'm for public finance, but for now why sh...  \n",
       "4                                : This hit me hard.   \n",
       "9    : Knock knock?Husder?DOTA 2Can I have your DO...  \n",
       "11          _wat I wouldn’t even have the laptop open  "
      ]
     },
     "execution_count": 90,
     "metadata": {},
     "output_type": "execute_result"
    }
   ],
   "source": [
    "g_tweets['clean_tweets'] = g_tweets['text'].apply(lambda x: text_cleaner(x))\n",
    "\n",
    "g_tweets.head()"
   ]
  },
  {
   "cell_type": "code",
   "execution_count": 91,
   "metadata": {},
   "outputs": [
    {
     "data": {
      "text/html": [
       "<div>\n",
       "<style scoped>\n",
       "    .dataframe tbody tr th:only-of-type {\n",
       "        vertical-align: middle;\n",
       "    }\n",
       "\n",
       "    .dataframe tbody tr th {\n",
       "        vertical-align: top;\n",
       "    }\n",
       "\n",
       "    .dataframe thead th {\n",
       "        text-align: right;\n",
       "    }\n",
       "</style>\n",
       "<table border=\"1\" class=\"dataframe\">\n",
       "  <thead>\n",
       "    <tr style=\"text-align: right;\">\n",
       "      <th></th>\n",
       "      <th>text</th>\n",
       "      <th>clean_tweets</th>\n",
       "    </tr>\n",
       "  </thead>\n",
       "  <tbody>\n",
       "    <tr>\n",
       "      <th>0</th>\n",
       "      <td>\"Il mare d'inverno è un concetto che il pensie...</td>\n",
       "      <td>il mare d inverno un concetto che il pensiero...</td>\n",
       "    </tr>\n",
       "    <tr>\n",
       "      <th>1</th>\n",
       "      <td>Read the History of Corona Beer  http://t.co/Z...</td>\n",
       "      <td>read the history of corona beer</td>\n",
       "    </tr>\n",
       "    <tr>\n",
       "      <th>5</th>\n",
       "      <td>The years are adding up when it takes us longe...</td>\n",
       "      <td>the years are adding up when it takes us longe...</td>\n",
       "    </tr>\n",
       "    <tr>\n",
       "      <th>6</th>\n",
       "      <td>The difference between gossip and news is whet...</td>\n",
       "      <td>the difference between gossip and news is whet...</td>\n",
       "    </tr>\n",
       "    <tr>\n",
       "      <th>7</th>\n",
       "      <td>You don't save a pitcher for tomorrow. Tomorro...</td>\n",
       "      <td>you don t save a pitcher for tomorrow tomorrow...</td>\n",
       "    </tr>\n",
       "  </tbody>\n",
       "</table>\n",
       "</div>"
      ],
      "text/plain": [
       "                                                text  \\\n",
       "0  \"Il mare d'inverno è un concetto che il pensie...   \n",
       "1  Read the History of Corona Beer  http://t.co/Z...   \n",
       "5  The years are adding up when it takes us longe...   \n",
       "6  The difference between gossip and news is whet...   \n",
       "7  You don't save a pitcher for tomorrow. Tomorro...   \n",
       "\n",
       "                                        clean_tweets  \n",
       "0   il mare d inverno un concetto che il pensiero...  \n",
       "1                   read the history of corona beer   \n",
       "5  the years are adding up when it takes us longe...  \n",
       "6  the difference between gossip and news is whet...  \n",
       "7  you don t save a pitcher for tomorrow tomorrow...  "
      ]
     },
     "execution_count": 91,
     "metadata": {},
     "output_type": "execute_result"
    }
   ],
   "source": [
    "# Return only characters \n",
    "def clean_alpha(text):\n",
    "    text = \" \".join(re.split(\"[^a-zA-Z]*\", text))\n",
    "    return text\n",
    "\n",
    "b_tweets['clean_tweets'] = b_tweets['clean_tweets'].apply(lambda x: clean_alpha(x.lower()))\n",
    "\n",
    "b_tweets.head()"
   ]
  },
  {
   "cell_type": "code",
   "execution_count": 92,
   "metadata": {},
   "outputs": [
    {
     "data": {
      "text/html": [
       "<div>\n",
       "<style scoped>\n",
       "    .dataframe tbody tr th:only-of-type {\n",
       "        vertical-align: middle;\n",
       "    }\n",
       "\n",
       "    .dataframe tbody tr th {\n",
       "        vertical-align: top;\n",
       "    }\n",
       "\n",
       "    .dataframe thead th {\n",
       "        text-align: right;\n",
       "    }\n",
       "</style>\n",
       "<table border=\"1\" class=\"dataframe\">\n",
       "  <thead>\n",
       "    <tr style=\"text-align: right;\">\n",
       "      <th></th>\n",
       "      <th>text</th>\n",
       "      <th>clean_tweets</th>\n",
       "    </tr>\n",
       "  </thead>\n",
       "  <tbody>\n",
       "    <tr>\n",
       "      <th>2</th>\n",
       "      <td>After that it would of been up to the person i...</td>\n",
       "      <td>after that it would of been up to the person i...</td>\n",
       "    </tr>\n",
       "    <tr>\n",
       "      <th>3</th>\n",
       "      <td>RT @kcivey: @marionbarryjr I'm for public fina...</td>\n",
       "      <td>i m for public finance but for now why should...</td>\n",
       "    </tr>\n",
       "    <tr>\n",
       "      <th>4</th>\n",
       "      <td>RT @specuIar: This hit me hard. http://t.co/rY...</td>\n",
       "      <td>this hit me hard</td>\n",
       "    </tr>\n",
       "    <tr>\n",
       "      <th>9</th>\n",
       "      <td>RT @AngStupidyante: Knock knock?Husder?DOTA 2C...</td>\n",
       "      <td>knock knock husder dota can i have your dota ...</td>\n",
       "    </tr>\n",
       "    <tr>\n",
       "      <th>11</th>\n",
       "      <td>@65_wat I wouldn’t even have the laptop open</td>\n",
       "      <td>wat i wouldn t even have the laptop open</td>\n",
       "    </tr>\n",
       "  </tbody>\n",
       "</table>\n",
       "</div>"
      ],
      "text/plain": [
       "                                                 text  \\\n",
       "2   After that it would of been up to the person i...   \n",
       "3   RT @kcivey: @marionbarryjr I'm for public fina...   \n",
       "4   RT @specuIar: This hit me hard. http://t.co/rY...   \n",
       "9   RT @AngStupidyante: Knock knock?Husder?DOTA 2C...   \n",
       "11       @65_wat I wouldn’t even have the laptop open   \n",
       "\n",
       "                                         clean_tweets  \n",
       "2   after that it would of been up to the person i...  \n",
       "3    i m for public finance but for now why should...  \n",
       "4                                   this hit me hard   \n",
       "9    knock knock husder dota can i have your dota ...  \n",
       "11           wat i wouldn t even have the laptop open  "
      ]
     },
     "execution_count": 92,
     "metadata": {},
     "output_type": "execute_result"
    }
   ],
   "source": [
    "g_tweets['clean_tweets'] = g_tweets['clean_tweets'].apply(lambda x: clean_alpha(x.lower()))\n",
    "\n",
    "g_tweets.head()"
   ]
  },
  {
   "cell_type": "code",
   "execution_count": 93,
   "metadata": {},
   "outputs": [
    {
     "data": {
      "text/html": [
       "<div>\n",
       "<style scoped>\n",
       "    .dataframe tbody tr th:only-of-type {\n",
       "        vertical-align: middle;\n",
       "    }\n",
       "\n",
       "    .dataframe tbody tr th {\n",
       "        vertical-align: top;\n",
       "    }\n",
       "\n",
       "    .dataframe thead th {\n",
       "        text-align: right;\n",
       "    }\n",
       "</style>\n",
       "<table border=\"1\" class=\"dataframe\">\n",
       "  <thead>\n",
       "    <tr style=\"text-align: right;\">\n",
       "      <th></th>\n",
       "      <th>text</th>\n",
       "      <th>clean_tweets</th>\n",
       "    </tr>\n",
       "  </thead>\n",
       "  <tbody>\n",
       "    <tr>\n",
       "      <th>0</th>\n",
       "      <td>\"Il mare d'inverno è un concetto che il pensie...</td>\n",
       "      <td>[, il, mare, d, inverno, un, concetto, che, il...</td>\n",
       "    </tr>\n",
       "    <tr>\n",
       "      <th>1</th>\n",
       "      <td>Read the History of Corona Beer  http://t.co/Z...</td>\n",
       "      <td>[read, the, history, of, corona, beer, ]</td>\n",
       "    </tr>\n",
       "    <tr>\n",
       "      <th>5</th>\n",
       "      <td>The years are adding up when it takes us longe...</td>\n",
       "      <td>[the, years, are, adding, up, when, it, takes,...</td>\n",
       "    </tr>\n",
       "    <tr>\n",
       "      <th>6</th>\n",
       "      <td>The difference between gossip and news is whet...</td>\n",
       "      <td>[the, difference, between, gossip, and, news, ...</td>\n",
       "    </tr>\n",
       "    <tr>\n",
       "      <th>7</th>\n",
       "      <td>You don't save a pitcher for tomorrow. Tomorro...</td>\n",
       "      <td>[you, don, t, save, a, pitcher, for, tomorrow,...</td>\n",
       "    </tr>\n",
       "  </tbody>\n",
       "</table>\n",
       "</div>"
      ],
      "text/plain": [
       "                                                text  \\\n",
       "0  \"Il mare d'inverno è un concetto che il pensie...   \n",
       "1  Read the History of Corona Beer  http://t.co/Z...   \n",
       "5  The years are adding up when it takes us longe...   \n",
       "6  The difference between gossip and news is whet...   \n",
       "7  You don't save a pitcher for tomorrow. Tomorro...   \n",
       "\n",
       "                                        clean_tweets  \n",
       "0  [, il, mare, d, inverno, un, concetto, che, il...  \n",
       "1           [read, the, history, of, corona, beer, ]  \n",
       "5  [the, years, are, adding, up, when, it, takes,...  \n",
       "6  [the, difference, between, gossip, and, news, ...  \n",
       "7  [you, don, t, save, a, pitcher, for, tomorrow,...  "
      ]
     },
     "execution_count": 93,
     "metadata": {},
     "output_type": "execute_result"
    }
   ],
   "source": [
    "# Tokenization \n",
    "def tokenization(text):\n",
    "   text = re.split('\\W', text)\n",
    "   return text\n",
    "\n",
    "b_tweets['clean_tweets'] = b_tweets['clean_tweets'].apply(lambda x: tokenization(x.lower()))\n",
    "\n",
    "b_tweets.head()"
   ]
  },
  {
   "cell_type": "code",
   "execution_count": 94,
   "metadata": {},
   "outputs": [
    {
     "data": {
      "text/html": [
       "<div>\n",
       "<style scoped>\n",
       "    .dataframe tbody tr th:only-of-type {\n",
       "        vertical-align: middle;\n",
       "    }\n",
       "\n",
       "    .dataframe tbody tr th {\n",
       "        vertical-align: top;\n",
       "    }\n",
       "\n",
       "    .dataframe thead th {\n",
       "        text-align: right;\n",
       "    }\n",
       "</style>\n",
       "<table border=\"1\" class=\"dataframe\">\n",
       "  <thead>\n",
       "    <tr style=\"text-align: right;\">\n",
       "      <th></th>\n",
       "      <th>text</th>\n",
       "      <th>clean_tweets</th>\n",
       "    </tr>\n",
       "  </thead>\n",
       "  <tbody>\n",
       "    <tr>\n",
       "      <th>2</th>\n",
       "      <td>After that it would of been up to the person i...</td>\n",
       "      <td>[after, that, it, would, of, been, up, to, the...</td>\n",
       "    </tr>\n",
       "    <tr>\n",
       "      <th>3</th>\n",
       "      <td>RT @kcivey: @marionbarryjr I'm for public fina...</td>\n",
       "      <td>[, i, m, for, public, finance, but, for, now, ...</td>\n",
       "    </tr>\n",
       "    <tr>\n",
       "      <th>4</th>\n",
       "      <td>RT @specuIar: This hit me hard. http://t.co/rY...</td>\n",
       "      <td>[, this, hit, me, hard, ]</td>\n",
       "    </tr>\n",
       "    <tr>\n",
       "      <th>9</th>\n",
       "      <td>RT @AngStupidyante: Knock knock?Husder?DOTA 2C...</td>\n",
       "      <td>[, knock, knock, husder, dota, can, i, have, y...</td>\n",
       "    </tr>\n",
       "    <tr>\n",
       "      <th>11</th>\n",
       "      <td>@65_wat I wouldn’t even have the laptop open</td>\n",
       "      <td>[, wat, i, wouldn, t, even, have, the, laptop,...</td>\n",
       "    </tr>\n",
       "  </tbody>\n",
       "</table>\n",
       "</div>"
      ],
      "text/plain": [
       "                                                 text  \\\n",
       "2   After that it would of been up to the person i...   \n",
       "3   RT @kcivey: @marionbarryjr I'm for public fina...   \n",
       "4   RT @specuIar: This hit me hard. http://t.co/rY...   \n",
       "9   RT @AngStupidyante: Knock knock?Husder?DOTA 2C...   \n",
       "11       @65_wat I wouldn’t even have the laptop open   \n",
       "\n",
       "                                         clean_tweets  \n",
       "2   [after, that, it, would, of, been, up, to, the...  \n",
       "3   [, i, m, for, public, finance, but, for, now, ...  \n",
       "4                           [, this, hit, me, hard, ]  \n",
       "9   [, knock, knock, husder, dota, can, i, have, y...  \n",
       "11  [, wat, i, wouldn, t, even, have, the, laptop,...  "
      ]
     },
     "execution_count": 94,
     "metadata": {},
     "output_type": "execute_result"
    }
   ],
   "source": [
    "g_tweets['clean_tweets'] = g_tweets['clean_tweets'].apply(lambda x: tokenization(x.lower()))\n",
    "\n",
    "g_tweets.head()"
   ]
  },
  {
   "cell_type": "code",
   "execution_count": 95,
   "metadata": {},
   "outputs": [],
   "source": [
    "b_clean = b_tweets['clean_tweets']\n",
    "g_clean = g_tweets['clean_tweets']"
   ]
  },
  {
   "cell_type": "code",
   "execution_count": null,
   "metadata": {},
   "outputs": [],
   "source": []
  },
  {
   "cell_type": "code",
   "execution_count": 65,
   "metadata": {},
   "outputs": [],
   "source": [
    "# Convert df to np arrary \n",
    "#b_tweets = b_tweets['clean_tweets'].values"
   ]
  },
  {
   "cell_type": "code",
   "execution_count": 66,
   "metadata": {},
   "outputs": [],
   "source": [
    "# Convert np arrary to one deminsional array \n",
    "#b_tweets = b_tweets.ravel()"
   ]
  },
  {
   "cell_type": "code",
   "execution_count": 70,
   "metadata": {},
   "outputs": [
    {
     "data": {
      "text/plain": [
       "numpy.ndarray"
      ]
     },
     "execution_count": 70,
     "metadata": {},
     "output_type": "execute_result"
    }
   ],
   "source": [
    "#type(b_tweets)"
   ]
  },
  {
   "cell_type": "code",
   "execution_count": 67,
   "metadata": {},
   "outputs": [],
   "source": [
    "# Convert df to np arrary \n",
    "#g_tweets = g_tweets['clean_tweets'].values"
   ]
  },
  {
   "cell_type": "code",
   "execution_count": 68,
   "metadata": {},
   "outputs": [],
   "source": [
    "# Convert np arrary to one deminsional array \n",
    "#g_tweets = g_tweets.ravel()"
   ]
  },
  {
   "cell_type": "code",
   "execution_count": 71,
   "metadata": {},
   "outputs": [
    {
     "data": {
      "text/plain": [
       "numpy.ndarray"
      ]
     },
     "execution_count": 71,
     "metadata": {},
     "output_type": "execute_result"
    }
   ],
   "source": [
    "#type(g_tweets)"
   ]
  },
  {
   "cell_type": "code",
   "execution_count": 96,
   "metadata": {},
   "outputs": [
    {
     "ename": "AttributeError",
     "evalue": "'list' object has no attribute 'lower'",
     "output_type": "error",
     "traceback": [
      "\u001b[0;31m---------------------------------------------------------------------------\u001b[0m",
      "\u001b[0;31mAttributeError\u001b[0m                            Traceback (most recent call last)",
      "\u001b[0;32m<ipython-input-96-53757f69f13a>\u001b[0m in \u001b[0;36m<module>\u001b[0;34m\u001b[0m\n\u001b[1;32m      6\u001b[0m \u001b[0mvectorizer\u001b[0m \u001b[0;34m=\u001b[0m \u001b[0mCountVectorizer\u001b[0m\u001b[0;34m(\u001b[0m\u001b[0;34m)\u001b[0m\u001b[0;34m\u001b[0m\u001b[0;34m\u001b[0m\u001b[0m\n\u001b[1;32m      7\u001b[0m \u001b[0;31m# tokenize and build vocab\u001b[0m\u001b[0;34m\u001b[0m\u001b[0;34m\u001b[0m\u001b[0;34m\u001b[0m\u001b[0m\n\u001b[0;32m----> 8\u001b[0;31m \u001b[0mvectorizer\u001b[0m\u001b[0;34m.\u001b[0m\u001b[0mfit\u001b[0m\u001b[0;34m(\u001b[0m\u001b[0mb_clean\u001b[0m\u001b[0;34m)\u001b[0m\u001b[0;34m\u001b[0m\u001b[0;34m\u001b[0m\u001b[0m\n\u001b[0m\u001b[1;32m      9\u001b[0m \u001b[0;34m\u001b[0m\u001b[0m\n\u001b[1;32m     10\u001b[0m \u001b[0;31m# encode document\u001b[0m\u001b[0;34m\u001b[0m\u001b[0;34m\u001b[0m\u001b[0;34m\u001b[0m\u001b[0m\n",
      "\u001b[0;32m~/anaconda3/lib/python3.6/site-packages/sklearn/feature_extraction/text.py\u001b[0m in \u001b[0;36mfit\u001b[0;34m(self, raw_documents, y)\u001b[0m\n\u001b[1;32m    996\u001b[0m         \u001b[0mself\u001b[0m\u001b[0;34m\u001b[0m\u001b[0;34m\u001b[0m\u001b[0m\n\u001b[1;32m    997\u001b[0m         \"\"\"\n\u001b[0;32m--> 998\u001b[0;31m         \u001b[0mself\u001b[0m\u001b[0;34m.\u001b[0m\u001b[0mfit_transform\u001b[0m\u001b[0;34m(\u001b[0m\u001b[0mraw_documents\u001b[0m\u001b[0;34m)\u001b[0m\u001b[0;34m\u001b[0m\u001b[0;34m\u001b[0m\u001b[0m\n\u001b[0m\u001b[1;32m    999\u001b[0m         \u001b[0;32mreturn\u001b[0m \u001b[0mself\u001b[0m\u001b[0;34m\u001b[0m\u001b[0;34m\u001b[0m\u001b[0m\n\u001b[1;32m   1000\u001b[0m \u001b[0;34m\u001b[0m\u001b[0m\n",
      "\u001b[0;32m~/anaconda3/lib/python3.6/site-packages/sklearn/feature_extraction/text.py\u001b[0m in \u001b[0;36mfit_transform\u001b[0;34m(self, raw_documents, y)\u001b[0m\n\u001b[1;32m   1030\u001b[0m \u001b[0;34m\u001b[0m\u001b[0m\n\u001b[1;32m   1031\u001b[0m         vocabulary, X = self._count_vocab(raw_documents,\n\u001b[0;32m-> 1032\u001b[0;31m                                           self.fixed_vocabulary_)\n\u001b[0m\u001b[1;32m   1033\u001b[0m \u001b[0;34m\u001b[0m\u001b[0m\n\u001b[1;32m   1034\u001b[0m         \u001b[0;32mif\u001b[0m \u001b[0mself\u001b[0m\u001b[0;34m.\u001b[0m\u001b[0mbinary\u001b[0m\u001b[0;34m:\u001b[0m\u001b[0;34m\u001b[0m\u001b[0;34m\u001b[0m\u001b[0m\n",
      "\u001b[0;32m~/anaconda3/lib/python3.6/site-packages/sklearn/feature_extraction/text.py\u001b[0m in \u001b[0;36m_count_vocab\u001b[0;34m(self, raw_documents, fixed_vocab)\u001b[0m\n\u001b[1;32m    940\u001b[0m         \u001b[0;32mfor\u001b[0m \u001b[0mdoc\u001b[0m \u001b[0;32min\u001b[0m \u001b[0mraw_documents\u001b[0m\u001b[0;34m:\u001b[0m\u001b[0;34m\u001b[0m\u001b[0;34m\u001b[0m\u001b[0m\n\u001b[1;32m    941\u001b[0m             \u001b[0mfeature_counter\u001b[0m \u001b[0;34m=\u001b[0m \u001b[0;34m{\u001b[0m\u001b[0;34m}\u001b[0m\u001b[0;34m\u001b[0m\u001b[0;34m\u001b[0m\u001b[0m\n\u001b[0;32m--> 942\u001b[0;31m             \u001b[0;32mfor\u001b[0m \u001b[0mfeature\u001b[0m \u001b[0;32min\u001b[0m \u001b[0manalyze\u001b[0m\u001b[0;34m(\u001b[0m\u001b[0mdoc\u001b[0m\u001b[0;34m)\u001b[0m\u001b[0;34m:\u001b[0m\u001b[0;34m\u001b[0m\u001b[0;34m\u001b[0m\u001b[0m\n\u001b[0m\u001b[1;32m    943\u001b[0m                 \u001b[0;32mtry\u001b[0m\u001b[0;34m:\u001b[0m\u001b[0;34m\u001b[0m\u001b[0;34m\u001b[0m\u001b[0m\n\u001b[1;32m    944\u001b[0m                     \u001b[0mfeature_idx\u001b[0m \u001b[0;34m=\u001b[0m \u001b[0mvocabulary\u001b[0m\u001b[0;34m[\u001b[0m\u001b[0mfeature\u001b[0m\u001b[0;34m]\u001b[0m\u001b[0;34m\u001b[0m\u001b[0;34m\u001b[0m\u001b[0m\n",
      "\u001b[0;32m~/anaconda3/lib/python3.6/site-packages/sklearn/feature_extraction/text.py\u001b[0m in \u001b[0;36m<lambda>\u001b[0;34m(doc)\u001b[0m\n\u001b[1;32m    326\u001b[0m                                                tokenize)\n\u001b[1;32m    327\u001b[0m             return lambda doc: self._word_ngrams(\n\u001b[0;32m--> 328\u001b[0;31m                 tokenize(preprocess(self.decode(doc))), stop_words)\n\u001b[0m\u001b[1;32m    329\u001b[0m \u001b[0;34m\u001b[0m\u001b[0m\n\u001b[1;32m    330\u001b[0m         \u001b[0;32melse\u001b[0m\u001b[0;34m:\u001b[0m\u001b[0;34m\u001b[0m\u001b[0;34m\u001b[0m\u001b[0m\n",
      "\u001b[0;32m~/anaconda3/lib/python3.6/site-packages/sklearn/feature_extraction/text.py\u001b[0m in \u001b[0;36m<lambda>\u001b[0;34m(x)\u001b[0m\n\u001b[1;32m    254\u001b[0m \u001b[0;34m\u001b[0m\u001b[0m\n\u001b[1;32m    255\u001b[0m         \u001b[0;32mif\u001b[0m \u001b[0mself\u001b[0m\u001b[0;34m.\u001b[0m\u001b[0mlowercase\u001b[0m\u001b[0;34m:\u001b[0m\u001b[0;34m\u001b[0m\u001b[0;34m\u001b[0m\u001b[0m\n\u001b[0;32m--> 256\u001b[0;31m             \u001b[0;32mreturn\u001b[0m \u001b[0;32mlambda\u001b[0m \u001b[0mx\u001b[0m\u001b[0;34m:\u001b[0m \u001b[0mstrip_accents\u001b[0m\u001b[0;34m(\u001b[0m\u001b[0mx\u001b[0m\u001b[0;34m.\u001b[0m\u001b[0mlower\u001b[0m\u001b[0;34m(\u001b[0m\u001b[0;34m)\u001b[0m\u001b[0;34m)\u001b[0m\u001b[0;34m\u001b[0m\u001b[0;34m\u001b[0m\u001b[0m\n\u001b[0m\u001b[1;32m    257\u001b[0m         \u001b[0;32melse\u001b[0m\u001b[0;34m:\u001b[0m\u001b[0;34m\u001b[0m\u001b[0;34m\u001b[0m\u001b[0m\n\u001b[1;32m    258\u001b[0m             \u001b[0;32mreturn\u001b[0m \u001b[0mstrip_accents\u001b[0m\u001b[0;34m\u001b[0m\u001b[0;34m\u001b[0m\u001b[0m\n",
      "\u001b[0;31mAttributeError\u001b[0m: 'list' object has no attribute 'lower'"
     ]
    }
   ],
   "source": [
    "# Text preprocessing, tokenizing and filtering of stopwords are all included \n",
    "# in CountVectorizer, which builds a dictionary of features and transforms \n",
    "# documents to feature vectors\n",
    "\n",
    "# create the transform\n",
    "vectorizer = CountVectorizer()\n",
    "# tokenize and build vocab\n",
    "vectorizer.fit(b_clean)\n",
    "\n",
    "# encode document\n",
    "b_clean = vectorizer.transform(b_clean)\n",
    "\n",
    "# summarize encoded vector\n",
    "print(b_clean.shape)\n",
    "print(type(b_clean))\n",
    "print(b_clean.toarray())\n",
    "\n",
    "#vectorizer = CountVectorizer()\n",
    "#b_tweets = vectorizer.fit_transform()"
   ]
  },
  {
   "cell_type": "code",
   "execution_count": null,
   "metadata": {},
   "outputs": [],
   "source": [
    "tf_transformer = TfidfTransformer(use_idf=False).fit(b_clean)\n",
    "b_tfidf_train = tf_transformer.transform(b_clean)\n",
    "b_tfidf_train.shape"
   ]
  },
  {
   "cell_type": "code",
   "execution_count": null,
   "metadata": {},
   "outputs": [],
   "source": [
    "# create the transform\n",
    "vectorizer = CountVectorizer()\n",
    "# tokenize and build vocab\n",
    "vectorizer.fit(g_clean)\n",
    "\n",
    "# encode document\n",
    "g_clean = vectorizer.transform(g_clean)\n",
    "\n",
    "# summarize encoded vector\n",
    "print(g_clean.shape)\n",
    "print(type(g_clean))\n",
    "print(g_clean.toarray())\n",
    "\n",
    "\n",
    "#vectorizer = CountVectorizer()\n",
    "#g_tweets = vectorizer.fit_transform(g_clean)"
   ]
  },
  {
   "cell_type": "code",
   "execution_count": null,
   "metadata": {},
   "outputs": [],
   "source": [
    "tf_transformer = TfidfTransformer(use_idf=False).fit(g_clean)\n",
    "g_tfidf_train = tf_transformer.transform(g_clean)\n",
    "g_tfidf_train.shape"
   ]
  },
  {
   "cell_type": "code",
   "execution_count": null,
   "metadata": {},
   "outputs": [],
   "source": [
    "# TruncatedSVD from Scikit-Learn\n",
    "from sklearn.decomposition import TruncatedSVD\n",
    "# StandardScaler from Scikit-Learn\n",
    "from sklearn.preprocessing import StandardScaler\n",
    "\n",
    "svd = TruncatedSVD(n_components=100, n_iter=7, random_state=42)\n",
    "b_svdTFit = svd.fit_transform(b_tfidf_train)\n",
    "b_svdTFit.shape"
   ]
  },
  {
   "cell_type": "code",
   "execution_count": null,
   "metadata": {},
   "outputs": [],
   "source": [
    "bots.shape"
   ]
  },
  {
   "cell_type": "code",
   "execution_count": null,
   "metadata": {},
   "outputs": [],
   "source": [
    "svd = TruncatedSVD(n_components=100, n_iter=7, random_state=42)\n",
    "g_svdTFit = svd.fit_transform(g_tfidf_train)\n",
    "g_svdTFit.shape "
   ]
  },
  {
   "cell_type": "code",
   "execution_count": null,
   "metadata": {},
   "outputs": [],
   "source": [
    "gen.shape"
   ]
  },
  {
   "cell_type": "code",
   "execution_count": null,
   "metadata": {},
   "outputs": [],
   "source": [
    "# Join Tfid with class df \n",
    "bots_tfid = pd.concat([bots, b_svdTFit], axis =1)\n",
    "bots_tfid.head()"
   ]
  },
  {
   "cell_type": "code",
   "execution_count": null,
   "metadata": {},
   "outputs": [],
   "source": [
    "# Join Tfid with class df \n",
    "gen_tfid = pd.concat([gen, g_svdTFit], axis =1)\n",
    "gen_tfid.head()"
   ]
  },
  {
   "cell_type": "code",
   "execution_count": null,
   "metadata": {},
   "outputs": [],
   "source": []
  },
  {
   "cell_type": "code",
   "execution_count": null,
   "metadata": {},
   "outputs": [],
   "source": []
  },
  {
   "cell_type": "code",
   "execution_count": null,
   "metadata": {},
   "outputs": [],
   "source": []
  },
  {
   "cell_type": "code",
   "execution_count": null,
   "metadata": {},
   "outputs": [],
   "source": []
  }
 ],
 "metadata": {
  "kernelspec": {
   "display_name": "Python 3",
   "language": "python",
   "name": "python3"
  },
  "language_info": {
   "codemirror_mode": {
    "name": "ipython",
    "version": 3
   },
   "file_extension": ".py",
   "mimetype": "text/x-python",
   "name": "python",
   "nbconvert_exporter": "python",
   "pygments_lexer": "ipython3",
   "version": "3.6.8"
  }
 },
 "nbformat": 4,
 "nbformat_minor": 2
}
