{
 "cells": [
  {
   "cell_type": "markdown",
   "metadata": {},
   "source": [
    "# Twitter Bot Classifier Part 2\n",
    "\n",
    "In this series of notebooks, we are using the [Fake Project](https://botometer.iuni.iu.edu/bot-repository/datasets.html) dataset to examine users habits and build a Twitter bot classifier. \n",
    " \n",
    "Previously, we looked into the potential threats that Twitter bot accounts pose. While some are harmless, others aim to manipulate and deceive viewers. We gathered several Twitter files from the Fake Project to assemble a Tweets and Users datasets. Null values have been dropped and tables have been formatted. Now, we will take a closer look into the features by conducting exploratory data analysis. \n",
    "\n",
    "## Tweets Table\n",
    "\n",
    "In this notebook, we will focus on exploring the tweets table. "
   ]
  },
  {
   "cell_type": "code",
   "execution_count": 163,
   "metadata": {},
   "outputs": [],
   "source": [
    "# Numpy and pandas\n",
    "import pandas as pd\n",
    "import numpy as np\n",
    "\n",
    "#Visualization\n",
    "import matplotlib.pyplot as plt\n",
    "import seaborn as sns\n",
    "import matplotlib.patheffects as PathEffects\n",
    "\n",
    "#NLP tools\n",
    "import string\n",
    "import re\n",
    "import nltk\n",
    "from nltk.corpus import stopwords\n",
    "from nltk.stem.wordnet import WordNetLemmatizer\n",
    "\n",
    "# NLP feature selection \n",
    "from sklearn.feature_extraction.text import CountVectorizer\n",
    "from sklearn.feature_extraction.text import TfidfTransformer\n",
    "from sklearn.decomposition import TruncatedSVD\n",
    "\n",
    "# Sklearn data clean\n",
    "from sklearn.preprocessing import MinMaxScaler\n",
    "\n",
    "# Model selection\n",
    "from sklearn.model_selection import train_test_split\n",
    "from sklearn.model_selection import cross_val_score\n",
    "\n",
    "# Logistic Regression\n",
    "from sklearn.linear_model import LogisticRegression\n",
    "\n",
    "# Random Forests \n",
    "from sklearn.ensemble import RandomForestClassifier\n",
    "\n",
    "# Neural Network\n",
    "from sklearn.neural_network import MLPClassifier\n",
    "\n",
    "# Evaluate\n",
    "from sklearn import metrics\n",
    "from sklearn.metrics import precision_score, recall_score, confusion_matrix, roc_auc_score,accuracy_score\n",
    "\n",
    "# Hyperparameter tuning\n",
    "from sklearn.model_selection import GridSearchCV\n",
    "\n",
    "# Reduce Dimension \n",
    "from sklearn.decomposition import TruncatedSVD\n",
    "from sklearn.manifold import TSNE\n",
    "\n",
    "# Clustering \n",
    "from sklearn.cluster import KMeans, MeanShift, estimate_bandwidth, MiniBatchKMeans, DBSCAN\n",
    "from sklearn.preprocessing import normalize\n",
    "from scipy.spatial.distance import cdist\n",
    "from sklearn.metrics import homogeneity_score\n",
    "from sklearn.metrics import silhouette_score\n",
    "\n",
    "# Math \n",
    "import math\n",
    "\n",
    "# Datetime\n",
    "from datetime import datetime\n",
    "from dateutil import parser\n",
    "\n",
    "# Import data\n",
    "import warnings"
   ]
  },
  {
   "cell_type": "code",
   "execution_count": 2,
   "metadata": {},
   "outputs": [],
   "source": [
    "tweets = pd.read_csv('/Users/tsawaengsri/Desktop/Data Science Courses/Datasets/cresci-2017.csv/datasets_full.csv/clean_tweets2')\n",
    "users = pd.read_csv('/Users/tsawaengsri/Desktop/Data Science Courses/Datasets/cresci-2017.csv/datasets_full.csv/clean_users2')"
   ]
  },
  {
   "cell_type": "code",
   "execution_count": 3,
   "metadata": {},
   "outputs": [
    {
     "name": "stdout",
     "output_type": "stream",
     "text": [
      "<class 'pandas.core.frame.DataFrame'>\n",
      "RangeIndex: 6283436 entries, 0 to 6283435\n",
      "Data columns (total 18 columns):\n",
      "id                       int64\n",
      "text                     object\n",
      "source                   object\n",
      "user_id                  int64\n",
      "in_reply_to_status_id    int64\n",
      "in_reply_to_user_id      int64\n",
      "retweeted_status_id      int64\n",
      "retweet_count            int64\n",
      "reply_count              int64\n",
      "favorite_count           int64\n",
      "num_hashtags             int64\n",
      "num_urls                 int64\n",
      "num_mentions             int64\n",
      "created_at               object\n",
      "timestamp                object\n",
      "crawled_at               object\n",
      "updated                  object\n",
      "class                    int64\n",
      "dtypes: int64(12), object(6)\n",
      "memory usage: 862.9+ MB\n"
     ]
    }
   ],
   "source": [
    "tweets.info()"
   ]
  },
  {
   "cell_type": "code",
   "execution_count": 4,
   "metadata": {},
   "outputs": [
    {
     "name": "stdout",
     "output_type": "stream",
     "text": [
      "<class 'pandas.core.frame.DataFrame'>\n",
      "RangeIndex: 7989 entries, 0 to 7988\n",
      "Data columns (total 24 columns):\n",
      "id                                    7989 non-null int64\n",
      "name                                  7989 non-null object\n",
      "screen_name                           7989 non-null object\n",
      "statuses_count                        7989 non-null int64\n",
      "followers_count                       7989 non-null int64\n",
      "friends_count                         7989 non-null int64\n",
      "favourites_count                      7989 non-null int64\n",
      "listed_count                          7989 non-null int64\n",
      "lang                                  7989 non-null object\n",
      "profile_image_url                     7989 non-null object\n",
      "profile_use_background_image          7989 non-null int64\n",
      "profile_background_image_url_https    7989 non-null object\n",
      "profile_text_color                    7989 non-null object\n",
      "profile_image_url_https               7989 non-null object\n",
      "profile_sidebar_border_color          7989 non-null object\n",
      "profile_sidebar_fill_color            7989 non-null object\n",
      "profile_background_image_url          7989 non-null object\n",
      "profile_background_color              7989 non-null object\n",
      "profile_link_color                    7989 non-null object\n",
      "created_at                            7989 non-null object\n",
      "timestamp                             7989 non-null object\n",
      "crawled_at                            7989 non-null object\n",
      "updated                               7989 non-null object\n",
      "class                                 7989 non-null int64\n",
      "dtypes: int64(8), object(16)\n",
      "memory usage: 1.5+ MB\n"
     ]
    }
   ],
   "source": [
    "users.info()"
   ]
  },
  {
   "cell_type": "markdown",
   "metadata": {},
   "source": [
    "### Convert time variables to datetime \n",
    "It doesn't appear that time variables such as timestamp or created_at were saved as datetime. We will convert them to their respective data type. "
   ]
  },
  {
   "cell_type": "code",
   "execution_count": 5,
   "metadata": {},
   "outputs": [],
   "source": [
    "# Convert the time columns to np.datetime object\n",
    "tweets['timestamp'] = pd.to_datetime(tweets['timestamp'])"
   ]
  },
  {
   "cell_type": "code",
   "execution_count": 6,
   "metadata": {},
   "outputs": [],
   "source": [
    "tweets['created_at'] = pd.to_datetime(tweets['created_at'])"
   ]
  },
  {
   "cell_type": "code",
   "execution_count": 7,
   "metadata": {},
   "outputs": [],
   "source": [
    "tweets['crawled_at'] = pd.to_datetime(tweets['crawled_at'])"
   ]
  },
  {
   "cell_type": "code",
   "execution_count": 8,
   "metadata": {},
   "outputs": [],
   "source": [
    "tweets['updated'] = pd.to_datetime(tweets['updated'])"
   ]
  },
  {
   "cell_type": "code",
   "execution_count": 9,
   "metadata": {},
   "outputs": [],
   "source": [
    "# Convert the created_at column to np.datetime object\n",
    "users['timestamp'] = pd.to_datetime(users['timestamp'])"
   ]
  },
  {
   "cell_type": "code",
   "execution_count": 10,
   "metadata": {},
   "outputs": [],
   "source": [
    "users['created_at'] = pd.to_datetime(users['created_at'])"
   ]
  },
  {
   "cell_type": "code",
   "execution_count": 11,
   "metadata": {},
   "outputs": [],
   "source": [
    "users['crawled_at'] = pd.to_datetime(users['crawled_at'])"
   ]
  },
  {
   "cell_type": "code",
   "execution_count": 12,
   "metadata": {},
   "outputs": [],
   "source": [
    "users['updated'] = pd.to_datetime(users['updated'])"
   ]
  },
  {
   "cell_type": "code",
   "execution_count": 13,
   "metadata": {},
   "outputs": [
    {
     "name": "stdout",
     "output_type": "stream",
     "text": [
      "<class 'pandas.core.frame.DataFrame'>\n",
      "RangeIndex: 6283436 entries, 0 to 6283435\n",
      "Data columns (total 18 columns):\n",
      "id                       int64\n",
      "text                     object\n",
      "source                   object\n",
      "user_id                  int64\n",
      "in_reply_to_status_id    int64\n",
      "in_reply_to_user_id      int64\n",
      "retweeted_status_id      int64\n",
      "retweet_count            int64\n",
      "reply_count              int64\n",
      "favorite_count           int64\n",
      "num_hashtags             int64\n",
      "num_urls                 int64\n",
      "num_mentions             int64\n",
      "created_at               datetime64[ns, UTC]\n",
      "timestamp                datetime64[ns]\n",
      "crawled_at               datetime64[ns]\n",
      "updated                  datetime64[ns]\n",
      "class                    int64\n",
      "dtypes: datetime64[ns, UTC](1), datetime64[ns](3), int64(12), object(2)\n",
      "memory usage: 862.9+ MB\n"
     ]
    }
   ],
   "source": [
    "tweets.info()"
   ]
  },
  {
   "cell_type": "code",
   "execution_count": 14,
   "metadata": {},
   "outputs": [
    {
     "name": "stdout",
     "output_type": "stream",
     "text": [
      "<class 'pandas.core.frame.DataFrame'>\n",
      "RangeIndex: 7989 entries, 0 to 7988\n",
      "Data columns (total 24 columns):\n",
      "id                                    7989 non-null int64\n",
      "name                                  7989 non-null object\n",
      "screen_name                           7989 non-null object\n",
      "statuses_count                        7989 non-null int64\n",
      "followers_count                       7989 non-null int64\n",
      "friends_count                         7989 non-null int64\n",
      "favourites_count                      7989 non-null int64\n",
      "listed_count                          7989 non-null int64\n",
      "lang                                  7989 non-null object\n",
      "profile_image_url                     7989 non-null object\n",
      "profile_use_background_image          7989 non-null int64\n",
      "profile_background_image_url_https    7989 non-null object\n",
      "profile_text_color                    7989 non-null object\n",
      "profile_image_url_https               7989 non-null object\n",
      "profile_sidebar_border_color          7989 non-null object\n",
      "profile_sidebar_fill_color            7989 non-null object\n",
      "profile_background_image_url          7989 non-null object\n",
      "profile_background_color              7989 non-null object\n",
      "profile_link_color                    7989 non-null object\n",
      "created_at                            7989 non-null datetime64[ns, UTC]\n",
      "timestamp                             7989 non-null datetime64[ns]\n",
      "crawled_at                            7989 non-null datetime64[ns]\n",
      "updated                               7989 non-null datetime64[ns]\n",
      "class                                 7989 non-null int64\n",
      "dtypes: datetime64[ns, UTC](1), datetime64[ns](3), int64(8), object(12)\n",
      "memory usage: 1.5+ MB\n"
     ]
    }
   ],
   "source": [
    "users.info()"
   ]
  },
  {
   "cell_type": "code",
   "execution_count": 15,
   "metadata": {},
   "outputs": [
    {
     "data": {
      "text/html": [
       "<div>\n",
       "<style scoped>\n",
       "    .dataframe tbody tr th:only-of-type {\n",
       "        vertical-align: middle;\n",
       "    }\n",
       "\n",
       "    .dataframe tbody tr th {\n",
       "        vertical-align: top;\n",
       "    }\n",
       "\n",
       "    .dataframe thead th {\n",
       "        text-align: right;\n",
       "    }\n",
       "</style>\n",
       "<table border=\"1\" class=\"dataframe\">\n",
       "  <thead>\n",
       "    <tr style=\"text-align: right;\">\n",
       "      <th></th>\n",
       "      <th>id</th>\n",
       "      <th>text</th>\n",
       "      <th>source</th>\n",
       "      <th>user_id</th>\n",
       "      <th>in_reply_to_status_id</th>\n",
       "      <th>in_reply_to_user_id</th>\n",
       "      <th>retweeted_status_id</th>\n",
       "      <th>retweet_count</th>\n",
       "      <th>reply_count</th>\n",
       "      <th>favorite_count</th>\n",
       "      <th>num_hashtags</th>\n",
       "      <th>num_urls</th>\n",
       "      <th>num_mentions</th>\n",
       "      <th>created_at</th>\n",
       "      <th>timestamp</th>\n",
       "      <th>crawled_at</th>\n",
       "      <th>updated</th>\n",
       "      <th>class</th>\n",
       "    </tr>\n",
       "  </thead>\n",
       "  <tbody>\n",
       "    <tr>\n",
       "      <th>0</th>\n",
       "      <td>515447020405137408</td>\n",
       "      <td>\"Il mare d'inverno è un concetto che il pensie...</td>\n",
       "      <td>&lt;a href=\"http://www.Matildadr89.com\" rel=\"nofo...</td>\n",
       "      <td>237359828</td>\n",
       "      <td>0</td>\n",
       "      <td>0</td>\n",
       "      <td>0</td>\n",
       "      <td>0</td>\n",
       "      <td>0</td>\n",
       "      <td>0</td>\n",
       "      <td>0</td>\n",
       "      <td>0</td>\n",
       "      <td>0</td>\n",
       "      <td>2014-09-26 10:25:20+00:00</td>\n",
       "      <td>2014-09-26 12:25:20</td>\n",
       "      <td>2014-11-13 01:35:24</td>\n",
       "      <td>2014-11-13 01:35:24</td>\n",
       "      <td>1</td>\n",
       "    </tr>\n",
       "    <tr>\n",
       "      <th>1</th>\n",
       "      <td>513551196226093057</td>\n",
       "      <td>Read the History of Corona Beer  http://t.co/Z...</td>\n",
       "      <td>&lt;a href=\"http://tweetadder.com\" rel=\"nofollow\"...</td>\n",
       "      <td>215693377</td>\n",
       "      <td>0</td>\n",
       "      <td>0</td>\n",
       "      <td>0</td>\n",
       "      <td>0</td>\n",
       "      <td>0</td>\n",
       "      <td>0</td>\n",
       "      <td>0</td>\n",
       "      <td>1</td>\n",
       "      <td>0</td>\n",
       "      <td>2014-09-21 04:52:01+00:00</td>\n",
       "      <td>2014-09-21 06:52:01</td>\n",
       "      <td>2014-11-12 23:35:05</td>\n",
       "      <td>2014-11-12 23:35:05</td>\n",
       "      <td>1</td>\n",
       "    </tr>\n",
       "    <tr>\n",
       "      <th>2</th>\n",
       "      <td>579534763872149504</td>\n",
       "      <td>After that it would of been up to the person i...</td>\n",
       "      <td>&lt;a href=\"http://twitter.com/download/iphone\" r...</td>\n",
       "      <td>164284493</td>\n",
       "      <td>0</td>\n",
       "      <td>0</td>\n",
       "      <td>0</td>\n",
       "      <td>0</td>\n",
       "      <td>0</td>\n",
       "      <td>0</td>\n",
       "      <td>0</td>\n",
       "      <td>0</td>\n",
       "      <td>0</td>\n",
       "      <td>2015-03-22 06:47:09+00:00</td>\n",
       "      <td>2015-03-22 07:47:09</td>\n",
       "      <td>2015-05-01 13:21:46</td>\n",
       "      <td>2015-05-01 13:21:46</td>\n",
       "      <td>0</td>\n",
       "    </tr>\n",
       "    <tr>\n",
       "      <th>3</th>\n",
       "      <td>449751137970028544</td>\n",
       "      <td>RT @kcivey: @marionbarryjr I'm for public fina...</td>\n",
       "      <td>&lt;a href=\"http://twitter.com/download/iphone\" r...</td>\n",
       "      <td>225683965</td>\n",
       "      <td>0</td>\n",
       "      <td>0</td>\n",
       "      <td>449735142085779456</td>\n",
       "      <td>1</td>\n",
       "      <td>0</td>\n",
       "      <td>0</td>\n",
       "      <td>0</td>\n",
       "      <td>0</td>\n",
       "      <td>2</td>\n",
       "      <td>2014-03-29 03:33:21+00:00</td>\n",
       "      <td>2014-03-29 04:33:21</td>\n",
       "      <td>2015-05-01 15:58:20</td>\n",
       "      <td>2015-05-01 15:58:20</td>\n",
       "      <td>0</td>\n",
       "    </tr>\n",
       "    <tr>\n",
       "      <th>4</th>\n",
       "      <td>589197488269045760</td>\n",
       "      <td>RT @specuIar: This hit me hard. http://t.co/rY...</td>\n",
       "      <td>&lt;a href=\"http://twitter.com\" rel=\"nofollow\"&gt;Tw...</td>\n",
       "      <td>505440359</td>\n",
       "      <td>0</td>\n",
       "      <td>0</td>\n",
       "      <td>589196377353097216</td>\n",
       "      <td>1300</td>\n",
       "      <td>0</td>\n",
       "      <td>0</td>\n",
       "      <td>0</td>\n",
       "      <td>0</td>\n",
       "      <td>1</td>\n",
       "      <td>2015-04-17 22:43:22+00:00</td>\n",
       "      <td>2015-04-18 00:43:22</td>\n",
       "      <td>2015-05-01 13:21:33</td>\n",
       "      <td>2015-05-01 13:21:33</td>\n",
       "      <td>0</td>\n",
       "    </tr>\n",
       "  </tbody>\n",
       "</table>\n",
       "</div>"
      ],
      "text/plain": [
       "                   id                                               text  \\\n",
       "0  515447020405137408  \"Il mare d'inverno è un concetto che il pensie...   \n",
       "1  513551196226093057  Read the History of Corona Beer  http://t.co/Z...   \n",
       "2  579534763872149504  After that it would of been up to the person i...   \n",
       "3  449751137970028544  RT @kcivey: @marionbarryjr I'm for public fina...   \n",
       "4  589197488269045760  RT @specuIar: This hit me hard. http://t.co/rY...   \n",
       "\n",
       "                                              source    user_id  \\\n",
       "0  <a href=\"http://www.Matildadr89.com\" rel=\"nofo...  237359828   \n",
       "1  <a href=\"http://tweetadder.com\" rel=\"nofollow\"...  215693377   \n",
       "2  <a href=\"http://twitter.com/download/iphone\" r...  164284493   \n",
       "3  <a href=\"http://twitter.com/download/iphone\" r...  225683965   \n",
       "4  <a href=\"http://twitter.com\" rel=\"nofollow\">Tw...  505440359   \n",
       "\n",
       "   in_reply_to_status_id  in_reply_to_user_id  retweeted_status_id  \\\n",
       "0                      0                    0                    0   \n",
       "1                      0                    0                    0   \n",
       "2                      0                    0                    0   \n",
       "3                      0                    0   449735142085779456   \n",
       "4                      0                    0   589196377353097216   \n",
       "\n",
       "   retweet_count  reply_count  favorite_count  num_hashtags  num_urls  \\\n",
       "0              0            0               0             0         0   \n",
       "1              0            0               0             0         1   \n",
       "2              0            0               0             0         0   \n",
       "3              1            0               0             0         0   \n",
       "4           1300            0               0             0         0   \n",
       "\n",
       "   num_mentions                created_at           timestamp  \\\n",
       "0             0 2014-09-26 10:25:20+00:00 2014-09-26 12:25:20   \n",
       "1             0 2014-09-21 04:52:01+00:00 2014-09-21 06:52:01   \n",
       "2             0 2015-03-22 06:47:09+00:00 2015-03-22 07:47:09   \n",
       "3             2 2014-03-29 03:33:21+00:00 2014-03-29 04:33:21   \n",
       "4             1 2015-04-17 22:43:22+00:00 2015-04-18 00:43:22   \n",
       "\n",
       "           crawled_at             updated  class  \n",
       "0 2014-11-13 01:35:24 2014-11-13 01:35:24      1  \n",
       "1 2014-11-12 23:35:05 2014-11-12 23:35:05      1  \n",
       "2 2015-05-01 13:21:46 2015-05-01 13:21:46      0  \n",
       "3 2015-05-01 15:58:20 2015-05-01 15:58:20      0  \n",
       "4 2015-05-01 13:21:33 2015-05-01 13:21:33      0  "
      ]
     },
     "execution_count": 15,
     "metadata": {},
     "output_type": "execute_result"
    }
   ],
   "source": [
    "tweets.head()"
   ]
  },
  {
   "cell_type": "code",
   "execution_count": 16,
   "metadata": {},
   "outputs": [
    {
     "data": {
      "text/html": [
       "<div>\n",
       "<style scoped>\n",
       "    .dataframe tbody tr th:only-of-type {\n",
       "        vertical-align: middle;\n",
       "    }\n",
       "\n",
       "    .dataframe tbody tr th {\n",
       "        vertical-align: top;\n",
       "    }\n",
       "\n",
       "    .dataframe thead th {\n",
       "        text-align: right;\n",
       "    }\n",
       "</style>\n",
       "<table border=\"1\" class=\"dataframe\">\n",
       "  <thead>\n",
       "    <tr style=\"text-align: right;\">\n",
       "      <th></th>\n",
       "      <th>id</th>\n",
       "      <th>name</th>\n",
       "      <th>screen_name</th>\n",
       "      <th>statuses_count</th>\n",
       "      <th>followers_count</th>\n",
       "      <th>friends_count</th>\n",
       "      <th>favourites_count</th>\n",
       "      <th>listed_count</th>\n",
       "      <th>lang</th>\n",
       "      <th>profile_image_url</th>\n",
       "      <th>...</th>\n",
       "      <th>profile_sidebar_border_color</th>\n",
       "      <th>profile_sidebar_fill_color</th>\n",
       "      <th>profile_background_image_url</th>\n",
       "      <th>profile_background_color</th>\n",
       "      <th>profile_link_color</th>\n",
       "      <th>created_at</th>\n",
       "      <th>timestamp</th>\n",
       "      <th>crawled_at</th>\n",
       "      <th>updated</th>\n",
       "      <th>class</th>\n",
       "    </tr>\n",
       "  </thead>\n",
       "  <tbody>\n",
       "    <tr>\n",
       "      <th>0</th>\n",
       "      <td>2349966440</td>\n",
       "      <td>Joie Ficher</td>\n",
       "      <td>JoieFicher</td>\n",
       "      <td>80</td>\n",
       "      <td>2</td>\n",
       "      <td>42</td>\n",
       "      <td>0</td>\n",
       "      <td>0</td>\n",
       "      <td>en</td>\n",
       "      <td>http://pbs.twimg.com/profile_images/4365494921...</td>\n",
       "      <td>...</td>\n",
       "      <td>FFFFFF</td>\n",
       "      <td>DDEEF6</td>\n",
       "      <td>http://pbs.twimg.com/profile_background_images...</td>\n",
       "      <td>0000FF</td>\n",
       "      <td>0000FF</td>\n",
       "      <td>2014-02-18 11:22:38+00:00</td>\n",
       "      <td>2014-02-18 12:22:38</td>\n",
       "      <td>2014-05-03 00:22:39</td>\n",
       "      <td>2016-03-15 15:20:24</td>\n",
       "      <td>1</td>\n",
       "    </tr>\n",
       "    <tr>\n",
       "      <th>1</th>\n",
       "      <td>343263643</td>\n",
       "      <td>RIP Teveon </td>\n",
       "      <td>youpettihoe_</td>\n",
       "      <td>36513</td>\n",
       "      <td>2166</td>\n",
       "      <td>1627</td>\n",
       "      <td>2977</td>\n",
       "      <td>0</td>\n",
       "      <td>en</td>\n",
       "      <td>http://pbs.twimg.com/profile_images/5594447898...</td>\n",
       "      <td>...</td>\n",
       "      <td>FFFFFF</td>\n",
       "      <td>FFFFFF</td>\n",
       "      <td>http://pbs.twimg.com/profile_background_images...</td>\n",
       "      <td>FFFAFF</td>\n",
       "      <td>0A7A00</td>\n",
       "      <td>2011-07-27 09:01:04+00:00</td>\n",
       "      <td>2011-07-27 11:01:04</td>\n",
       "      <td>2015-05-01 23:18:23</td>\n",
       "      <td>2016-03-15 16:11:13</td>\n",
       "      <td>0</td>\n",
       "    </tr>\n",
       "    <tr>\n",
       "      <th>2</th>\n",
       "      <td>531154412</td>\n",
       "      <td>Bulah Lynne</td>\n",
       "      <td>Lynnevibe</td>\n",
       "      <td>10657</td>\n",
       "      <td>1194</td>\n",
       "      <td>996</td>\n",
       "      <td>1</td>\n",
       "      <td>8</td>\n",
       "      <td>en</td>\n",
       "      <td>http://pbs.twimg.com/profile_images/1914097815...</td>\n",
       "      <td>...</td>\n",
       "      <td>C0DEED</td>\n",
       "      <td>DDEEF6</td>\n",
       "      <td>http://abs.twimg.com/images/themes/theme1/bg.png</td>\n",
       "      <td>C0DEED</td>\n",
       "      <td>0084B4</td>\n",
       "      <td>2012-03-20 11:48:05+00:00</td>\n",
       "      <td>2012-03-20 12:48:05</td>\n",
       "      <td>2014-05-05 23:24:32</td>\n",
       "      <td>2016-03-15 15:40:08</td>\n",
       "      <td>1</td>\n",
       "    </tr>\n",
       "    <tr>\n",
       "      <th>3</th>\n",
       "      <td>2377665366</td>\n",
       "      <td>Katherina Kistle</td>\n",
       "      <td>KatherinaKistle</td>\n",
       "      <td>37</td>\n",
       "      <td>0</td>\n",
       "      <td>38</td>\n",
       "      <td>0</td>\n",
       "      <td>0</td>\n",
       "      <td>en</td>\n",
       "      <td>http://pbs.twimg.com/profile_images/4430041788...</td>\n",
       "      <td>...</td>\n",
       "      <td>FFFFFF</td>\n",
       "      <td>DDEEF6</td>\n",
       "      <td>http://pbs.twimg.com/profile_background_images...</td>\n",
       "      <td>0000FF</td>\n",
       "      <td>0000FF</td>\n",
       "      <td>2014-03-07 21:23:35+00:00</td>\n",
       "      <td>2014-03-07 22:23:35</td>\n",
       "      <td>2014-05-05 00:21:50</td>\n",
       "      <td>2016-03-15 15:16:15</td>\n",
       "      <td>1</td>\n",
       "    </tr>\n",
       "    <tr>\n",
       "      <th>4</th>\n",
       "      <td>3015346510</td>\n",
       "      <td>Lindsay Blessing Fan</td>\n",
       "      <td>lindsayspainfan</td>\n",
       "      <td>96</td>\n",
       "      <td>43</td>\n",
       "      <td>113</td>\n",
       "      <td>425</td>\n",
       "      <td>0</td>\n",
       "      <td>es</td>\n",
       "      <td>http://pbs.twimg.com/profile_images/5631073115...</td>\n",
       "      <td>...</td>\n",
       "      <td>000000</td>\n",
       "      <td>000000</td>\n",
       "      <td>http://pbs.twimg.com/profile_background_images...</td>\n",
       "      <td>000000</td>\n",
       "      <td>9266CC</td>\n",
       "      <td>2015-02-03 20:49:38+00:00</td>\n",
       "      <td>2015-02-03 21:49:38</td>\n",
       "      <td>2015-05-02 01:09:46</td>\n",
       "      <td>2016-03-15 16:07:16</td>\n",
       "      <td>0</td>\n",
       "    </tr>\n",
       "  </tbody>\n",
       "</table>\n",
       "<p>5 rows × 24 columns</p>\n",
       "</div>"
      ],
      "text/plain": [
       "           id                  name      screen_name  statuses_count  \\\n",
       "0  2349966440           Joie Ficher       JoieFicher              80   \n",
       "1   343263643         RIP Teveon      youpettihoe_           36513   \n",
       "2   531154412           Bulah Lynne        Lynnevibe           10657   \n",
       "3  2377665366      Katherina Kistle  KatherinaKistle              37   \n",
       "4  3015346510  Lindsay Blessing Fan  lindsayspainfan              96   \n",
       "\n",
       "   followers_count  friends_count  favourites_count  listed_count lang  \\\n",
       "0                2             42                 0             0   en   \n",
       "1             2166           1627              2977             0   en   \n",
       "2             1194            996                 1             8   en   \n",
       "3                0             38                 0             0   en   \n",
       "4               43            113               425             0   es   \n",
       "\n",
       "                                   profile_image_url  ...  \\\n",
       "0  http://pbs.twimg.com/profile_images/4365494921...  ...   \n",
       "1  http://pbs.twimg.com/profile_images/5594447898...  ...   \n",
       "2  http://pbs.twimg.com/profile_images/1914097815...  ...   \n",
       "3  http://pbs.twimg.com/profile_images/4430041788...  ...   \n",
       "4  http://pbs.twimg.com/profile_images/5631073115...  ...   \n",
       "\n",
       "   profile_sidebar_border_color profile_sidebar_fill_color  \\\n",
       "0                        FFFFFF                     DDEEF6   \n",
       "1                        FFFFFF                     FFFFFF   \n",
       "2                        C0DEED                     DDEEF6   \n",
       "3                        FFFFFF                     DDEEF6   \n",
       "4                        000000                     000000   \n",
       "\n",
       "                        profile_background_image_url profile_background_color  \\\n",
       "0  http://pbs.twimg.com/profile_background_images...                   0000FF   \n",
       "1  http://pbs.twimg.com/profile_background_images...                   FFFAFF   \n",
       "2   http://abs.twimg.com/images/themes/theme1/bg.png                   C0DEED   \n",
       "3  http://pbs.twimg.com/profile_background_images...                   0000FF   \n",
       "4  http://pbs.twimg.com/profile_background_images...                   000000   \n",
       "\n",
       "  profile_link_color                created_at           timestamp  \\\n",
       "0             0000FF 2014-02-18 11:22:38+00:00 2014-02-18 12:22:38   \n",
       "1             0A7A00 2011-07-27 09:01:04+00:00 2011-07-27 11:01:04   \n",
       "2             0084B4 2012-03-20 11:48:05+00:00 2012-03-20 12:48:05   \n",
       "3             0000FF 2014-03-07 21:23:35+00:00 2014-03-07 22:23:35   \n",
       "4             9266CC 2015-02-03 20:49:38+00:00 2015-02-03 21:49:38   \n",
       "\n",
       "           crawled_at             updated class  \n",
       "0 2014-05-03 00:22:39 2016-03-15 15:20:24     1  \n",
       "1 2015-05-01 23:18:23 2016-03-15 16:11:13     0  \n",
       "2 2014-05-05 23:24:32 2016-03-15 15:40:08     1  \n",
       "3 2014-05-05 00:21:50 2016-03-15 15:16:15     1  \n",
       "4 2015-05-02 01:09:46 2016-03-15 16:07:16     0  \n",
       "\n",
       "[5 rows x 24 columns]"
      ]
     },
     "execution_count": 16,
     "metadata": {},
     "output_type": "execute_result"
    }
   ],
   "source": [
    "users.head()"
   ]
  },
  {
   "cell_type": "markdown",
   "metadata": {},
   "source": [
    "# Exploratory Data Analysis\n",
    "We'll start by exploring the Tweets table by keeping a few questions in mind.<br> \n",
    "__How many tweets were made by humans and robots?__ <br>\n",
    "__Which accounts posted the most tweets?__ <br>"
   ]
  },
  {
   "cell_type": "code",
   "execution_count": 17,
   "metadata": {},
   "outputs": [
    {
     "name": "stdout",
     "output_type": "stream",
     "text": [
      "There are 2826718 tweets made by humans(44.987%) and 3456718 tweets made by bots (55.013%) in the tweets table.\n"
     ]
    }
   ],
   "source": [
    "# Bot vs human tweets \n",
    "counts = tweets['class'].value_counts()\n",
    "human = counts[0]\n",
    "bot = counts[1]\n",
    "human_per = (human/(human + bot))*100\n",
    "bot_per = (bot/(human + bot))*100\n",
    "print('There are {} tweets made by humans({:.3f}%) and {} tweets made by bots ({:.3f}%) in the tweets table.'.format(human, human_per, bot, bot_per))"
   ]
  },
  {
   "cell_type": "code",
   "execution_count": 18,
   "metadata": {},
   "outputs": [
    {
     "data": {
      "image/png": "[encoded data removed]",
      "text/plain": [
       "<Figure size 864x432 with 1 Axes>"
      ]
     },
     "metadata": {
      "needs_background": "light"
     },
     "output_type": "display_data"
    }
   ],
   "source": [
    "# Plot target variable\n",
    "plt.figure(figsize=(12,6))\n",
    "g = sns.countplot(x = 'class', data = tweets)\n",
    "g.set_title('Count of Tweets made by Humans vs Bots', fontsize = 17)\n",
    "g.set_xlabel('User Type', fontsize = 15)\n",
    "g.set_ylabel('# Tweets', fontsize = 15)\n",
    "\n",
    "for p in g.patches:\n",
    "    height = p.get_height()\n",
    "    g.text(p.get_x()+p.get_width()/2.,\n",
    "            height + 3,\n",
    "            '{:1.2f}%'.format(height/len(tweets) * 100),\n",
    "            ha=\"center\", fontsize=15) "
   ]
  },
  {
   "cell_type": "markdown",
   "metadata": {},
   "source": [
    "As shown in the bar graph, the data consists of 45% tweets by humans and 55% tweets by robots. The ratio between human to robot tweets are close so we do not have an imbalance problem. \n",
    "\n",
    "#### Let's look at which accounts tweeted the most. "
   ]
  },
  {
   "cell_type": "code",
   "execution_count": 19,
   "metadata": {},
   "outputs": [
    {
     "data": {
      "text/plain": [
       "5995"
      ]
     },
     "execution_count": 19,
     "metadata": {},
     "output_type": "execute_result"
    }
   ],
   "source": [
    "# Number of unique user accounts\n",
    "len(tweets['user_id'].unique().tolist())"
   ]
  },
  {
   "cell_type": "markdown",
   "metadata": {},
   "source": [
    "There are 5,996 unique user accounts in the Tweets table. "
   ]
  },
  {
   "cell_type": "code",
   "execution_count": 20,
   "metadata": {},
   "outputs": [],
   "source": [
    "# Create df for user class\n",
    "bots = tweets.loc[tweets['class']==1]\n",
    "gen = tweets.loc[tweets['class']==0]"
   ]
  },
  {
   "cell_type": "code",
   "execution_count": 21,
   "metadata": {},
   "outputs": [
    {
     "data": {
      "text/plain": [
       "521370115     3258\n",
       "334826952     3250\n",
       "221141363     3250\n",
       "239910996     3250\n",
       "982414274     3250\n",
       "              ... \n",
       "2382422750      66\n",
       "2375328500      64\n",
       "2382743514      63\n",
       "2391867347      43\n",
       "2384976224      38\n",
       "Name: user_id, Length: 4912, dtype: int64"
      ]
     },
     "execution_count": 21,
     "metadata": {},
     "output_type": "execute_result"
    }
   ],
   "source": [
    "# Counts of unique user accounts \n",
    "bots['user_id'].value_counts()"
   ]
  },
  {
   "cell_type": "code",
   "execution_count": 22,
   "metadata": {},
   "outputs": [
    {
     "data": {
      "text/plain": [
       "15044720      3250\n",
       "497404180     3249\n",
       "182211050     3247\n",
       "195076965     3247\n",
       "14626600      3247\n",
       "              ... \n",
       "492728332       24\n",
       "2236789484      15\n",
       "2200425967      14\n",
       "24386710        13\n",
       "514061230        3\n",
       "Name: user_id, Length: 1083, dtype: int64"
      ]
     },
     "execution_count": 22,
     "metadata": {},
     "output_type": "execute_result"
    }
   ],
   "source": [
    "# Counts of unique user accounts \n",
    "gen['user_id'].value_counts()"
   ]
  },
  {
   "cell_type": "markdown",
   "metadata": {},
   "source": [
    "__Observation__: Based on the total count of tweets, the most frequent tweets from both genuine users and robot accounts share similar traits. The top five tweeters in each class has posted over three thousand tweets. "
   ]
  },
  {
   "cell_type": "markdown",
   "metadata": {},
   "source": [
    "## Correlation\n",
    "We'll start by exmaining the correlation between features and target varaible. "
   ]
  },
  {
   "cell_type": "code",
   "execution_count": 23,
   "metadata": {},
   "outputs": [
    {
     "name": "stdout",
     "output_type": "stream",
     "text": [
      "Most Positive Correlations:\n",
      " num_mentions            -0.473250\n",
      "retweeted_status_id     -0.365936\n",
      "in_reply_to_status_id   -0.309953\n",
      "in_reply_to_user_id     -0.185500\n",
      "num_hashtags            -0.143896\n",
      "id                      -0.058521\n",
      "retweet_count           -0.036961\n",
      "favorite_count           0.016651\n",
      "user_id                  0.061362\n",
      "num_urls                 0.088025\n",
      "class                    1.000000\n",
      "reply_count                   NaN\n",
      "Name: class, dtype: float64\n",
      "\n",
      "Most Negative Correlations:\n",
      " num_mentions            -0.473250\n",
      "retweeted_status_id     -0.365936\n",
      "in_reply_to_status_id   -0.309953\n",
      "in_reply_to_user_id     -0.185500\n",
      "num_hashtags            -0.143896\n",
      "id                      -0.058521\n",
      "retweet_count           -0.036961\n",
      "favorite_count           0.016651\n",
      "user_id                  0.061362\n",
      "num_urls                 0.088025\n",
      "class                    1.000000\n",
      "reply_count                   NaN\n",
      "Name: class, dtype: float64\n"
     ]
    }
   ],
   "source": [
    "# Find correlations with the target and sort\n",
    "corr = tweets.corr()['class'].sort_values()\n",
    "\n",
    "# Display correlations\n",
    "print('Most Positive Correlations:\\n', corr.tail(15))\n",
    "print('\\nMost Negative Correlations:\\n', corr.head(15))"
   ]
  },
  {
   "cell_type": "code",
   "execution_count": 24,
   "metadata": {},
   "outputs": [
    {
     "data": {
      "text/plain": [
       "class                    1.000000\n",
       "num_mentions             0.473250\n",
       "retweeted_status_id      0.365936\n",
       "in_reply_to_status_id    0.309953\n",
       "in_reply_to_user_id      0.185500\n",
       "num_hashtags             0.143896\n",
       "num_urls                 0.088025\n",
       "user_id                  0.061362\n",
       "id                       0.058521\n",
       "retweet_count            0.036961\n",
       "favorite_count           0.016651\n",
       "Name: class, dtype: float64"
      ]
     },
     "execution_count": 24,
     "metadata": {},
     "output_type": "execute_result"
    }
   ],
   "source": [
    "# Correlation \n",
    "top_feat = np.absolute(tweets.corr()['class']).sort_values(ascending=False)[:11]\n",
    "top_feat"
   ]
  },
  {
   "cell_type": "markdown",
   "metadata": {},
   "source": [
    "__Observation__: The correlation between our target variable and the top features are rather week. The strongest correlation to class is the num_mentions(-47%). This could possibly hint towards retweets and replying to other accounts to be a good indicator of whether a tweet was generated by a human or robot. "
   ]
  },
  {
   "cell_type": "code",
   "execution_count": 25,
   "metadata": {},
   "outputs": [
    {
     "name": "stdout",
     "output_type": "stream",
     "text": [
      "Index(['class', 'num_mentions', 'retweeted_status_id', 'in_reply_to_status_id',\n",
      "       'in_reply_to_user_id', 'num_hashtags', 'num_urls', 'user_id', 'id',\n",
      "       'retweet_count', 'favorite_count'],\n",
      "      dtype='object')\n"
     ]
    }
   ],
   "source": [
    "# Top 10 features\n",
    "print(top_feat.index)"
   ]
  },
  {
   "cell_type": "code",
   "execution_count": 26,
   "metadata": {},
   "outputs": [
    {
     "data": {
      "image/png": "[encoded data removed]",
      "text/plain": [
       "<Figure size 720x648 with 2 Axes>"
      ]
     },
     "metadata": {
      "needs_background": "light"
     },
     "output_type": "display_data"
    }
   ],
   "source": [
    "pp = tweets[top_feat.index]\n",
    "plt.figure(figsize=(10,9))\n",
    "corr = pp.corr()\n",
    "sns.heatmap(corr)\n",
    "plt.savefig('heatmat.png')"
   ]
  },
  {
   "cell_type": "markdown",
   "metadata": {},
   "source": [
    "__Observation__: There doesn't appear to be high collinearity among the features. The correlation between in_reply_to_user_id and in_reply_to_status_id seems to be higher than 0.5. We'll probably drop these features during feature selection since they are not the main focus of tweet info.  "
   ]
  },
  {
   "cell_type": "markdown",
   "metadata": {},
   "source": [
    "## Subsampling \n",
    "\n",
    "Due to hardware and memory limitations, we will reduce the size of the dataset and subsample 0.05% of tweets"
   ]
  },
  {
   "cell_type": "code",
   "execution_count": 27,
   "metadata": {},
   "outputs": [],
   "source": [
    "sub_tweets = tweets.groupby('class').apply(pd.DataFrame.sample, frac=0.005).reset_index(drop=True)"
   ]
  },
  {
   "cell_type": "code",
   "execution_count": 28,
   "metadata": {},
   "outputs": [
    {
     "data": {
      "text/plain": [
       "(31418, 18)"
      ]
     },
     "execution_count": 28,
     "metadata": {},
     "output_type": "execute_result"
    }
   ],
   "source": [
    "sub_tweets.shape"
   ]
  },
  {
   "cell_type": "markdown",
   "metadata": {},
   "source": [
    "# Feature Engineering and Selection\n",
    "\n",
    "Since we have identified trends and relationship within the dataset, we will use our findings to select a set of features for our model. \n",
    "\n",
    "For this assignment, we will take the following steps for feature selection:\n",
    " * creating new variables by aggregation\n",
    " * dropping unwanted varaibles\n",
    " * encode for tweets"
   ]
  },
  {
   "cell_type": "code",
   "execution_count": 29,
   "metadata": {},
   "outputs": [],
   "source": [
    "# Create new features \n",
    "sub_tweets['hour'] = sub_tweets['created_at'].apply(lambda x: x.hour)\n",
    "sub_tweets['month'] = sub_tweets['created_at'].apply(lambda x: x.month)\n",
    "sub_tweets['day'] = sub_tweets['created_at'].apply(lambda x: x.day)\n",
    "sub_tweets['year'] = sub_tweets['created_at'].apply(lambda x: x.year)\n",
    "sub_tweets['length'] = sub_tweets['text'].apply(len)\n",
    "sub_tweets['num_of_words'] = sub_tweets['text'].str.split().apply(len)"
   ]
  },
  {
   "cell_type": "code",
   "execution_count": 30,
   "metadata": {},
   "outputs": [
    {
     "data": {
      "text/html": [
       "<div>\n",
       "<style scoped>\n",
       "    .dataframe tbody tr th:only-of-type {\n",
       "        vertical-align: middle;\n",
       "    }\n",
       "\n",
       "    .dataframe tbody tr th {\n",
       "        vertical-align: top;\n",
       "    }\n",
       "\n",
       "    .dataframe thead th {\n",
       "        text-align: right;\n",
       "    }\n",
       "</style>\n",
       "<table border=\"1\" class=\"dataframe\">\n",
       "  <thead>\n",
       "    <tr style=\"text-align: right;\">\n",
       "      <th></th>\n",
       "      <th>id</th>\n",
       "      <th>text</th>\n",
       "      <th>source</th>\n",
       "      <th>user_id</th>\n",
       "      <th>in_reply_to_status_id</th>\n",
       "      <th>in_reply_to_user_id</th>\n",
       "      <th>retweeted_status_id</th>\n",
       "      <th>retweet_count</th>\n",
       "      <th>reply_count</th>\n",
       "      <th>favorite_count</th>\n",
       "      <th>...</th>\n",
       "      <th>timestamp</th>\n",
       "      <th>crawled_at</th>\n",
       "      <th>updated</th>\n",
       "      <th>class</th>\n",
       "      <th>hour</th>\n",
       "      <th>month</th>\n",
       "      <th>day</th>\n",
       "      <th>year</th>\n",
       "      <th>length</th>\n",
       "      <th>num_of_words</th>\n",
       "    </tr>\n",
       "  </thead>\n",
       "  <tbody>\n",
       "    <tr>\n",
       "      <th>0</th>\n",
       "      <td>464923544321683456</td>\n",
       "      <td>RT @leemausheng: 讓我來告訴你，在這個世間，到底什麼才算數。某企業家：限期給...</td>\n",
       "      <td>&lt;a href=\"http://twitter.com/download/iphone\" r...</td>\n",
       "      <td>15084319</td>\n",
       "      <td>0</td>\n",
       "      <td>0</td>\n",
       "      <td>464803463764144128</td>\n",
       "      <td>19</td>\n",
       "      <td>0</td>\n",
       "      <td>0</td>\n",
       "      <td>...</td>\n",
       "      <td>2014-05-10 02:23:05</td>\n",
       "      <td>2015-05-01 13:25:48</td>\n",
       "      <td>2015-05-01 13:25:48</td>\n",
       "      <td>0</td>\n",
       "      <td>0</td>\n",
       "      <td>5</td>\n",
       "      <td>10</td>\n",
       "      <td>2014</td>\n",
       "      <td>132</td>\n",
       "      <td>8</td>\n",
       "    </tr>\n",
       "    <tr>\n",
       "      <th>1</th>\n",
       "      <td>342401325390245892</td>\n",
       "      <td>La vuelta a la casa suegra. Nancy (@ Alto jahu...</td>\n",
       "      <td>&lt;a href=\"http://foursquare.com\" rel=\"nofollow\"...</td>\n",
       "      <td>15367428</td>\n",
       "      <td>0</td>\n",
       "      <td>0</td>\n",
       "      <td>0</td>\n",
       "      <td>0</td>\n",
       "      <td>0</td>\n",
       "      <td>0</td>\n",
       "      <td>...</td>\n",
       "      <td>2013-06-06 00:03:32</td>\n",
       "      <td>2015-05-01 13:28:55</td>\n",
       "      <td>2015-05-01 13:28:55</td>\n",
       "      <td>0</td>\n",
       "      <td>22</td>\n",
       "      <td>6</td>\n",
       "      <td>5</td>\n",
       "      <td>2013</td>\n",
       "      <td>72</td>\n",
       "      <td>11</td>\n",
       "    </tr>\n",
       "    <tr>\n",
       "      <th>2</th>\n",
       "      <td>420629059522277376</td>\n",
       "      <td>Que sueño que no se me quita este</td>\n",
       "      <td>&lt;a href=\"http://twitter.com/download/iphone\" r...</td>\n",
       "      <td>546533556</td>\n",
       "      <td>0</td>\n",
       "      <td>0</td>\n",
       "      <td>0</td>\n",
       "      <td>0</td>\n",
       "      <td>0</td>\n",
       "      <td>0</td>\n",
       "      <td>...</td>\n",
       "      <td>2014-01-07 19:52:37</td>\n",
       "      <td>2015-05-01 13:51:11</td>\n",
       "      <td>2015-05-01 13:51:11</td>\n",
       "      <td>0</td>\n",
       "      <td>18</td>\n",
       "      <td>1</td>\n",
       "      <td>7</td>\n",
       "      <td>2014</td>\n",
       "      <td>33</td>\n",
       "      <td>8</td>\n",
       "    </tr>\n",
       "    <tr>\n",
       "      <th>3</th>\n",
       "      <td>552927072403083264</td>\n",
       "      <td>RT @FreddyAmazin: when u cant tell if someone ...</td>\n",
       "      <td>&lt;a href=\"http://twitter.com/download/iphone\" r...</td>\n",
       "      <td>219379279</td>\n",
       "      <td>0</td>\n",
       "      <td>0</td>\n",
       "      <td>552922108293296128</td>\n",
       "      <td>2319</td>\n",
       "      <td>0</td>\n",
       "      <td>0</td>\n",
       "      <td>...</td>\n",
       "      <td>2015-01-07 21:37:41</td>\n",
       "      <td>2015-05-01 15:49:01</td>\n",
       "      <td>2015-05-01 15:49:01</td>\n",
       "      <td>0</td>\n",
       "      <td>20</td>\n",
       "      <td>1</td>\n",
       "      <td>7</td>\n",
       "      <td>2015</td>\n",
       "      <td>119</td>\n",
       "      <td>22</td>\n",
       "    </tr>\n",
       "    <tr>\n",
       "      <th>4</th>\n",
       "      <td>591900590122270720</td>\n",
       "      <td>Household chores or work-related tasks seem ov...</td>\n",
       "      <td>&lt;a href=\"http://www.twittascope.com\" rel=\"nofo...</td>\n",
       "      <td>25121744</td>\n",
       "      <td>0</td>\n",
       "      <td>0</td>\n",
       "      <td>0</td>\n",
       "      <td>0</td>\n",
       "      <td>0</td>\n",
       "      <td>0</td>\n",
       "      <td>...</td>\n",
       "      <td>2015-04-25 11:44:32</td>\n",
       "      <td>2015-05-01 16:01:37</td>\n",
       "      <td>2015-05-01 16:01:37</td>\n",
       "      <td>0</td>\n",
       "      <td>9</td>\n",
       "      <td>4</td>\n",
       "      <td>25</td>\n",
       "      <td>2015</td>\n",
       "      <td>104</td>\n",
       "      <td>13</td>\n",
       "    </tr>\n",
       "  </tbody>\n",
       "</table>\n",
       "<p>5 rows × 24 columns</p>\n",
       "</div>"
      ],
      "text/plain": [
       "                   id                                               text  \\\n",
       "0  464923544321683456  RT @leemausheng: 讓我來告訴你，在這個世間，到底什麼才算數。某企業家：限期給...   \n",
       "1  342401325390245892  La vuelta a la casa suegra. Nancy (@ Alto jahu...   \n",
       "2  420629059522277376                  Que sueño que no se me quita este   \n",
       "3  552927072403083264  RT @FreddyAmazin: when u cant tell if someone ...   \n",
       "4  591900590122270720  Household chores or work-related tasks seem ov...   \n",
       "\n",
       "                                              source    user_id  \\\n",
       "0  <a href=\"http://twitter.com/download/iphone\" r...   15084319   \n",
       "1  <a href=\"http://foursquare.com\" rel=\"nofollow\"...   15367428   \n",
       "2  <a href=\"http://twitter.com/download/iphone\" r...  546533556   \n",
       "3  <a href=\"http://twitter.com/download/iphone\" r...  219379279   \n",
       "4  <a href=\"http://www.twittascope.com\" rel=\"nofo...   25121744   \n",
       "\n",
       "   in_reply_to_status_id  in_reply_to_user_id  retweeted_status_id  \\\n",
       "0                      0                    0   464803463764144128   \n",
       "1                      0                    0                    0   \n",
       "2                      0                    0                    0   \n",
       "3                      0                    0   552922108293296128   \n",
       "4                      0                    0                    0   \n",
       "\n",
       "   retweet_count  reply_count  favorite_count  ...           timestamp  \\\n",
       "0             19            0               0  ... 2014-05-10 02:23:05   \n",
       "1              0            0               0  ... 2013-06-06 00:03:32   \n",
       "2              0            0               0  ... 2014-01-07 19:52:37   \n",
       "3           2319            0               0  ... 2015-01-07 21:37:41   \n",
       "4              0            0               0  ... 2015-04-25 11:44:32   \n",
       "\n",
       "           crawled_at             updated class hour month day  year  length  \\\n",
       "0 2015-05-01 13:25:48 2015-05-01 13:25:48     0    0     5  10  2014     132   \n",
       "1 2015-05-01 13:28:55 2015-05-01 13:28:55     0   22     6   5  2013      72   \n",
       "2 2015-05-01 13:51:11 2015-05-01 13:51:11     0   18     1   7  2014      33   \n",
       "3 2015-05-01 15:49:01 2015-05-01 15:49:01     0   20     1   7  2015     119   \n",
       "4 2015-05-01 16:01:37 2015-05-01 16:01:37     0    9     4  25  2015     104   \n",
       "\n",
       "   num_of_words  \n",
       "0             8  \n",
       "1            11  \n",
       "2             8  \n",
       "3            22  \n",
       "4            13  \n",
       "\n",
       "[5 rows x 24 columns]"
      ]
     },
     "execution_count": 30,
     "metadata": {},
     "output_type": "execute_result"
    }
   ],
   "source": [
    "sub_tweets.head()"
   ]
  },
  {
   "cell_type": "code",
   "execution_count": 31,
   "metadata": {},
   "outputs": [
    {
     "data": {
      "image/png": "[encoded data removed]",
      "text/plain": [
       "<Figure size 720x360 with 1 Axes>"
      ]
     },
     "metadata": {
      "needs_background": "light"
     },
     "output_type": "display_data"
    }
   ],
   "source": [
    "# Number of tweets by months - creating a plot\n",
    "\n",
    "sub_tweets['month_year'] = sub_tweets['created_at'].apply(lambda x: str(x.year)+'-'+str(x.month)+'-1')\n",
    "sub_tweets['month_year'].unique()[0]\n",
    "sub_tweets['month_year'] = pd.to_datetime(sub_tweets['month_year'])\n",
    "\n",
    "sub_tweets[['created_at', 'month_year']].head()\n",
    "\n",
    "yr_monthly_tweets2 = sub_tweets.groupby(['month','year']).size().unstack()\n",
    "\n",
    "\n",
    "plt.figure(figsize=(10,5))\n",
    "\n",
    "plt.title('Number of tweets by months', fontsize=12, fontweight='bold')\n",
    "plt.bar(yr_monthly_tweets2.index, yr_monthly_tweets2.values[:,0])\n",
    "plt.bar(yr_monthly_tweets2.index+12, yr_monthly_tweets2.values[:,1], color='g')\n",
    "plt.xticks(list(yr_monthly_tweets2.index)+list(yr_monthly_tweets2.index+12))\n",
    "plt.show() "
   ]
  },
  {
   "cell_type": "code",
   "execution_count": 32,
   "metadata": {},
   "outputs": [
    {
     "data": {
      "text/plain": [
       "count                   31418\n",
       "unique                     83\n",
       "top       2014-10-01 00:00:00\n",
       "freq                     6659\n",
       "first     2008-01-01 00:00:00\n",
       "last      2015-05-01 00:00:00\n",
       "Name: month_year, dtype: object"
      ]
     },
     "execution_count": 32,
     "metadata": {},
     "output_type": "execute_result"
    }
   ],
   "source": [
    "sub_tweets['month_year'].describe()"
   ]
  },
  {
   "cell_type": "code",
   "execution_count": 33,
   "metadata": {},
   "outputs": [
    {
     "data": {
      "text/plain": [
       "count    31418.000000\n",
       "mean      2014.093481\n",
       "std          0.701275\n",
       "min       2008.000000\n",
       "25%       2014.000000\n",
       "50%       2014.000000\n",
       "75%       2014.000000\n",
       "max       2015.000000\n",
       "Name: year, dtype: float64"
      ]
     },
     "execution_count": 33,
     "metadata": {},
     "output_type": "execute_result"
    }
   ],
   "source": [
    "sub_tweets['year'].describe()"
   ]
  },
  {
   "cell_type": "code",
   "execution_count": 34,
   "metadata": {},
   "outputs": [
    {
     "data": {
      "text/plain": [
       "(31418, 25)"
      ]
     },
     "execution_count": 34,
     "metadata": {},
     "output_type": "execute_result"
    }
   ],
   "source": [
    "sub_tweets.shape"
   ]
  },
  {
   "cell_type": "markdown",
   "metadata": {},
   "source": [
    "__Observation__: This dataset contains tweets posted from 2007 to 2015. Majority of the tweets were collected during 2014 and 2015. "
   ]
  },
  {
   "cell_type": "markdown",
   "metadata": {},
   "source": [
    "## Text Processing: Clean and Transform Tweets\n",
    "\n",
    "Before we can have a model process information from the tweets, we must convert text to numeric values that machines can understand. \n",
    "\n",
    "We will clean the tweets with the following steps:\n",
    "1. Remove hyperlinks, mentions, and 'RT' from retweets\n",
    "2. Word Counts with __CountVectorizer__: Convert a collection of text documents to a matrix of token counts\n",
    "     - Tokenization: Converting a sentence into a list of words\n",
    "     - Remove stopwords: Terms that will be ignored because they either\n",
    "         - occurred in too many documents (max_df)\n",
    "         - occurred in too few documents (min_df)\n",
    "         - were cut off by feature selection (max_features).\n",
    "     - Lemmatization/stemming: Converting any form of a word to its root word\n",
    "     - Returns vectors of the counts of each word\n",
    "     \n",
    "3. Word Frequencies with __TfidfTransform__: Transform a count matrix to a normalized tf representation\n",
    "     - Term Frequency: This summarizes how often a given word appears within a document\n",
    "     - Inverse Document Frequency: This downscales words that appear a lot across documents <br>\n",
    "      idf(d, t) = log [ (1 + n) / (1 + df(d, t)) ] + 1.\n",
    "\n",
    "Reference:\n",
    "[clean tweet](https://machinelearningmastery.com/prepare-text-data-machine-learning-scikit-learn/)\n",
    " \n",
    "First, we will paritation the  tweets into separate classes for building bag of words and cut down on processing time for CountVectorizer and TfidTransformer. \n",
    " \n",
    "Let's start by cleaning the bot tweets. \n",
    "\n",
    "NOTE: Unable to Translate Italian tweets to English [Source](https://pypi.org/project/googletrans/)\n"
   ]
  },
  {
   "cell_type": "code",
   "execution_count": 35,
   "metadata": {},
   "outputs": [],
   "source": [
    "sub_tweets['text'] = sub_tweets['text'].astype('str')"
   ]
  },
  {
   "cell_type": "code",
   "execution_count": 36,
   "metadata": {},
   "outputs": [],
   "source": [
    "# Create df for user class\n",
    "bots = sub_tweets.loc[sub_tweets['class']==1]\n",
    "gen = sub_tweets.loc[sub_tweets['class']==0]"
   ]
  },
  {
   "cell_type": "code",
   "execution_count": 37,
   "metadata": {},
   "outputs": [
    {
     "data": {
      "text/html": [
       "<div>\n",
       "<style scoped>\n",
       "    .dataframe tbody tr th:only-of-type {\n",
       "        vertical-align: middle;\n",
       "    }\n",
       "\n",
       "    .dataframe tbody tr th {\n",
       "        vertical-align: top;\n",
       "    }\n",
       "\n",
       "    .dataframe thead th {\n",
       "        text-align: right;\n",
       "    }\n",
       "</style>\n",
       "<table border=\"1\" class=\"dataframe\">\n",
       "  <thead>\n",
       "    <tr style=\"text-align: right;\">\n",
       "      <th></th>\n",
       "      <th>text</th>\n",
       "    </tr>\n",
       "  </thead>\n",
       "  <tbody>\n",
       "    <tr>\n",
       "      <th>14134</th>\n",
       "      <td>SE GLI UOMINI AVESSERO LE MESTRUAZIONI SI VANT...</td>\n",
       "    </tr>\n",
       "    <tr>\n",
       "      <th>14135</th>\n",
       "      <td>Io ho avuto la mia croce, voi avete i saldi.</td>\n",
       "    </tr>\n",
       "    <tr>\n",
       "      <th>14136</th>\n",
       "      <td>Quel momento in cui stai cercando di guardare ...</td>\n",
       "    </tr>\n",
       "    <tr>\n",
       "      <th>14137</th>\n",
       "      <td>I dont get it ?? Why all these kids think that...</td>\n",
       "    </tr>\n",
       "    <tr>\n",
       "      <th>14138</th>\n",
       "      <td>The client is not always right. - Enzo Ferrari</td>\n",
       "    </tr>\n",
       "  </tbody>\n",
       "</table>\n",
       "</div>"
      ],
      "text/plain": [
       "                                                    text\n",
       "14134  SE GLI UOMINI AVESSERO LE MESTRUAZIONI SI VANT...\n",
       "14135       Io ho avuto la mia croce, voi avete i saldi.\n",
       "14136  Quel momento in cui stai cercando di guardare ...\n",
       "14137  I dont get it ?? Why all these kids think that...\n",
       "14138     The client is not always right. - Enzo Ferrari"
      ]
     },
     "execution_count": 37,
     "metadata": {},
     "output_type": "execute_result"
    }
   ],
   "source": [
    "# Create new df \n",
    "b_tweets = pd.DataFrame(bots['text'])\n",
    "b_tweets.head()"
   ]
  },
  {
   "cell_type": "code",
   "execution_count": 38,
   "metadata": {},
   "outputs": [
    {
     "data": {
      "text/html": [
       "<div>\n",
       "<style scoped>\n",
       "    .dataframe tbody tr th:only-of-type {\n",
       "        vertical-align: middle;\n",
       "    }\n",
       "\n",
       "    .dataframe tbody tr th {\n",
       "        vertical-align: top;\n",
       "    }\n",
       "\n",
       "    .dataframe thead th {\n",
       "        text-align: right;\n",
       "    }\n",
       "</style>\n",
       "<table border=\"1\" class=\"dataframe\">\n",
       "  <thead>\n",
       "    <tr style=\"text-align: right;\">\n",
       "      <th></th>\n",
       "      <th>text</th>\n",
       "    </tr>\n",
       "  </thead>\n",
       "  <tbody>\n",
       "    <tr>\n",
       "      <th>0</th>\n",
       "      <td>RT @leemausheng: 讓我來告訴你，在這個世間，到底什麼才算數。某企業家：限期給...</td>\n",
       "    </tr>\n",
       "    <tr>\n",
       "      <th>1</th>\n",
       "      <td>La vuelta a la casa suegra. Nancy (@ Alto jahu...</td>\n",
       "    </tr>\n",
       "    <tr>\n",
       "      <th>2</th>\n",
       "      <td>Que sueño que no se me quita este</td>\n",
       "    </tr>\n",
       "    <tr>\n",
       "      <th>3</th>\n",
       "      <td>RT @FreddyAmazin: when u cant tell if someone ...</td>\n",
       "    </tr>\n",
       "    <tr>\n",
       "      <th>4</th>\n",
       "      <td>Household chores or work-related tasks seem ov...</td>\n",
       "    </tr>\n",
       "  </tbody>\n",
       "</table>\n",
       "</div>"
      ],
      "text/plain": [
       "                                                text\n",
       "0  RT @leemausheng: 讓我來告訴你，在這個世間，到底什麼才算數。某企業家：限期給...\n",
       "1  La vuelta a la casa suegra. Nancy (@ Alto jahu...\n",
       "2                  Que sueño que no se me quita este\n",
       "3  RT @FreddyAmazin: when u cant tell if someone ...\n",
       "4  Household chores or work-related tasks seem ov..."
      ]
     },
     "execution_count": 38,
     "metadata": {},
     "output_type": "execute_result"
    }
   ],
   "source": [
    "# Create new df  \n",
    "g_tweets = pd.DataFrame(gen['text'])\n",
    "g_tweets.head()"
   ]
  },
  {
   "cell_type": "markdown",
   "metadata": {},
   "source": [
    "Let's clean the tweets to remove links, @, and RT."
   ]
  },
  {
   "cell_type": "code",
   "execution_count": 39,
   "metadata": {},
   "outputs": [
    {
     "data": {
      "text/html": [
       "<div>\n",
       "<style scoped>\n",
       "    .dataframe tbody tr th:only-of-type {\n",
       "        vertical-align: middle;\n",
       "    }\n",
       "\n",
       "    .dataframe tbody tr th {\n",
       "        vertical-align: top;\n",
       "    }\n",
       "\n",
       "    .dataframe thead th {\n",
       "        text-align: right;\n",
       "    }\n",
       "</style>\n",
       "<table border=\"1\" class=\"dataframe\">\n",
       "  <thead>\n",
       "    <tr style=\"text-align: right;\">\n",
       "      <th></th>\n",
       "      <th>text</th>\n",
       "      <th>clean_tweets</th>\n",
       "    </tr>\n",
       "  </thead>\n",
       "  <tbody>\n",
       "    <tr>\n",
       "      <th>14134</th>\n",
       "      <td>SE GLI UOMINI AVESSERO LE MESTRUAZIONI SI VANT...</td>\n",
       "      <td>SE GLI UOMINI AVESSERO LE MESTRUAZIONI SI VANT...</td>\n",
       "    </tr>\n",
       "    <tr>\n",
       "      <th>14135</th>\n",
       "      <td>Io ho avuto la mia croce, voi avete i saldi.</td>\n",
       "      <td>Io ho avuto la mia croce, voi avete i saldi.</td>\n",
       "    </tr>\n",
       "    <tr>\n",
       "      <th>14136</th>\n",
       "      <td>Quel momento in cui stai cercando di guardare ...</td>\n",
       "      <td>Quel momento in cui stai cercando di guardare ...</td>\n",
       "    </tr>\n",
       "    <tr>\n",
       "      <th>14137</th>\n",
       "      <td>I dont get it ?? Why all these kids think that...</td>\n",
       "      <td>I dont get it ?? Why all these kids think that...</td>\n",
       "    </tr>\n",
       "    <tr>\n",
       "      <th>14138</th>\n",
       "      <td>The client is not always right. - Enzo Ferrari</td>\n",
       "      <td>The client is not always right. - Enzo Ferrari</td>\n",
       "    </tr>\n",
       "  </tbody>\n",
       "</table>\n",
       "</div>"
      ],
      "text/plain": [
       "                                                    text  \\\n",
       "14134  SE GLI UOMINI AVESSERO LE MESTRUAZIONI SI VANT...   \n",
       "14135       Io ho avuto la mia croce, voi avete i saldi.   \n",
       "14136  Quel momento in cui stai cercando di guardare ...   \n",
       "14137  I dont get it ?? Why all these kids think that...   \n",
       "14138     The client is not always right. - Enzo Ferrari   \n",
       "\n",
       "                                            clean_tweets  \n",
       "14134  SE GLI UOMINI AVESSERO LE MESTRUAZIONI SI VANT...  \n",
       "14135       Io ho avuto la mia croce, voi avete i saldi.  \n",
       "14136  Quel momento in cui stai cercando di guardare ...  \n",
       "14137  I dont get it ?? Why all these kids think that...  \n",
       "14138     The client is not always right. - Enzo Ferrari  "
      ]
     },
     "execution_count": 39,
     "metadata": {},
     "output_type": "execute_result"
    }
   ],
   "source": [
    "def link_cleaner(text):\n",
    "    text = re.sub(r'http.*','',text)\n",
    "    text = re.sub(\"@[A-Za-z0-9]+\",'',text)\n",
    "    text = re.sub(r'bit/ly.*', '', text)\n",
    "    text = re.sub(r'b\\'', '', text)\n",
    "    text = re.sub(r'b\"', '', text)\n",
    "    text = text.replace('RT', '')\n",
    "    return text\n",
    "\n",
    "b_tweets['clean_tweets'] = b_tweets['text'].apply(lambda x: link_cleaner(x))\n",
    "\n",
    "b_tweets.head()"
   ]
  },
  {
   "cell_type": "code",
   "execution_count": 40,
   "metadata": {},
   "outputs": [
    {
     "data": {
      "text/html": [
       "<div>\n",
       "<style scoped>\n",
       "    .dataframe tbody tr th:only-of-type {\n",
       "        vertical-align: middle;\n",
       "    }\n",
       "\n",
       "    .dataframe tbody tr th {\n",
       "        vertical-align: top;\n",
       "    }\n",
       "\n",
       "    .dataframe thead th {\n",
       "        text-align: right;\n",
       "    }\n",
       "</style>\n",
       "<table border=\"1\" class=\"dataframe\">\n",
       "  <thead>\n",
       "    <tr style=\"text-align: right;\">\n",
       "      <th></th>\n",
       "      <th>text</th>\n",
       "      <th>clean_tweets</th>\n",
       "    </tr>\n",
       "  </thead>\n",
       "  <tbody>\n",
       "    <tr>\n",
       "      <th>0</th>\n",
       "      <td>RT @leemausheng: 讓我來告訴你，在這個世間，到底什麼才算數。某企業家：限期給...</td>\n",
       "      <td>: 讓我來告訴你，在這個世間，到底什麼才算數。某企業家：限期給我答覆，否則不繳稅。  民眾...</td>\n",
       "    </tr>\n",
       "    <tr>\n",
       "      <th>1</th>\n",
       "      <td>La vuelta a la casa suegra. Nancy (@ Alto jahu...</td>\n",
       "      <td>La vuelta a la casa suegra. Nancy (@ Alto jahu...</td>\n",
       "    </tr>\n",
       "    <tr>\n",
       "      <th>2</th>\n",
       "      <td>Que sueño que no se me quita este</td>\n",
       "      <td>Que sueño que no se me quita este</td>\n",
       "    </tr>\n",
       "    <tr>\n",
       "      <th>3</th>\n",
       "      <td>RT @FreddyAmazin: when u cant tell if someone ...</td>\n",
       "      <td>: when u cant tell if someone is into u or no...</td>\n",
       "    </tr>\n",
       "    <tr>\n",
       "      <th>4</th>\n",
       "      <td>Household chores or work-related tasks seem ov...</td>\n",
       "      <td>Household chores or work-related tasks seem ov...</td>\n",
       "    </tr>\n",
       "  </tbody>\n",
       "</table>\n",
       "</div>"
      ],
      "text/plain": [
       "                                                text  \\\n",
       "0  RT @leemausheng: 讓我來告訴你，在這個世間，到底什麼才算數。某企業家：限期給...   \n",
       "1  La vuelta a la casa suegra. Nancy (@ Alto jahu...   \n",
       "2                  Que sueño que no se me quita este   \n",
       "3  RT @FreddyAmazin: when u cant tell if someone ...   \n",
       "4  Household chores or work-related tasks seem ov...   \n",
       "\n",
       "                                        clean_tweets  \n",
       "0   : 讓我來告訴你，在這個世間，到底什麼才算數。某企業家：限期給我答覆，否則不繳稅。  民眾...  \n",
       "1  La vuelta a la casa suegra. Nancy (@ Alto jahu...  \n",
       "2                  Que sueño que no se me quita este  \n",
       "3   : when u cant tell if someone is into u or no...  \n",
       "4  Household chores or work-related tasks seem ov...  "
      ]
     },
     "execution_count": 40,
     "metadata": {},
     "output_type": "execute_result"
    }
   ],
   "source": [
    "g_tweets['clean_tweets'] = g_tweets['text'].apply(lambda x: link_cleaner(x))\n",
    "\n",
    "g_tweets.head()"
   ]
  },
  {
   "cell_type": "code",
   "execution_count": 41,
   "metadata": {},
   "outputs": [
    {
     "name": "stderr",
     "output_type": "stream",
     "text": [
      "/Users/tsawaengsri/anaconda3/lib/python3.6/re.py:212: FutureWarning: split() requires a non-empty pattern match.\n",
      "  return _compile(pattern, flags).split(string, maxsplit)\n"
     ]
    },
    {
     "data": {
      "text/html": [
       "<div>\n",
       "<style scoped>\n",
       "    .dataframe tbody tr th:only-of-type {\n",
       "        vertical-align: middle;\n",
       "    }\n",
       "\n",
       "    .dataframe tbody tr th {\n",
       "        vertical-align: top;\n",
       "    }\n",
       "\n",
       "    .dataframe thead th {\n",
       "        text-align: right;\n",
       "    }\n",
       "</style>\n",
       "<table border=\"1\" class=\"dataframe\">\n",
       "  <thead>\n",
       "    <tr style=\"text-align: right;\">\n",
       "      <th></th>\n",
       "      <th>text</th>\n",
       "      <th>clean_tweets</th>\n",
       "    </tr>\n",
       "  </thead>\n",
       "  <tbody>\n",
       "    <tr>\n",
       "      <th>14134</th>\n",
       "      <td>SE GLI UOMINI AVESSERO LE MESTRUAZIONI SI VANT...</td>\n",
       "      <td>se gli uomini avessero le mestruazioni si vant...</td>\n",
       "    </tr>\n",
       "    <tr>\n",
       "      <th>14135</th>\n",
       "      <td>Io ho avuto la mia croce, voi avete i saldi.</td>\n",
       "      <td>io ho avuto la mia croce voi avete i saldi</td>\n",
       "    </tr>\n",
       "    <tr>\n",
       "      <th>14136</th>\n",
       "      <td>Quel momento in cui stai cercando di guardare ...</td>\n",
       "      <td>quel momento in cui stai cercando di guardare ...</td>\n",
       "    </tr>\n",
       "    <tr>\n",
       "      <th>14137</th>\n",
       "      <td>I dont get it ?? Why all these kids think that...</td>\n",
       "      <td>i dont get it why all these kids think that la...</td>\n",
       "    </tr>\n",
       "    <tr>\n",
       "      <th>14138</th>\n",
       "      <td>The client is not always right. - Enzo Ferrari</td>\n",
       "      <td>the client is not always right enzo ferrari</td>\n",
       "    </tr>\n",
       "  </tbody>\n",
       "</table>\n",
       "</div>"
      ],
      "text/plain": [
       "                                                    text  \\\n",
       "14134  SE GLI UOMINI AVESSERO LE MESTRUAZIONI SI VANT...   \n",
       "14135       Io ho avuto la mia croce, voi avete i saldi.   \n",
       "14136  Quel momento in cui stai cercando di guardare ...   \n",
       "14137  I dont get it ?? Why all these kids think that...   \n",
       "14138     The client is not always right. - Enzo Ferrari   \n",
       "\n",
       "                                            clean_tweets  \n",
       "14134  se gli uomini avessero le mestruazioni si vant...  \n",
       "14135        io ho avuto la mia croce voi avete i saldi   \n",
       "14136  quel momento in cui stai cercando di guardare ...  \n",
       "14137  i dont get it why all these kids think that la...  \n",
       "14138        the client is not always right enzo ferrari  "
      ]
     },
     "execution_count": 41,
     "metadata": {},
     "output_type": "execute_result"
    }
   ],
   "source": [
    "# Return only characters \n",
    "def clean_alpha(text):\n",
    "    text = \" \".join(re.split(\"[^a-zA-Z]*\", text))\n",
    "    return text\n",
    "\n",
    "b_tweets['clean_tweets'] = b_tweets['clean_tweets'].apply(lambda x: clean_alpha(x.lower()))\n",
    "\n",
    "b_tweets.head()"
   ]
  },
  {
   "cell_type": "code",
   "execution_count": 42,
   "metadata": {},
   "outputs": [
    {
     "data": {
      "text/html": [
       "<div>\n",
       "<style scoped>\n",
       "    .dataframe tbody tr th:only-of-type {\n",
       "        vertical-align: middle;\n",
       "    }\n",
       "\n",
       "    .dataframe tbody tr th {\n",
       "        vertical-align: top;\n",
       "    }\n",
       "\n",
       "    .dataframe thead th {\n",
       "        text-align: right;\n",
       "    }\n",
       "</style>\n",
       "<table border=\"1\" class=\"dataframe\">\n",
       "  <thead>\n",
       "    <tr style=\"text-align: right;\">\n",
       "      <th></th>\n",
       "      <th>text</th>\n",
       "      <th>clean_tweets</th>\n",
       "    </tr>\n",
       "  </thead>\n",
       "  <tbody>\n",
       "    <tr>\n",
       "      <th>0</th>\n",
       "      <td>RT @leemausheng: 讓我來告訴你，在這個世間，到底什麼才算數。某企業家：限期給...</td>\n",
       "      <td>guts</td>\n",
       "    </tr>\n",
       "    <tr>\n",
       "      <th>1</th>\n",
       "      <td>La vuelta a la casa suegra. Nancy (@ Alto jahu...</td>\n",
       "      <td>la vuelta a la casa suegra nancy alto jahuel</td>\n",
       "    </tr>\n",
       "    <tr>\n",
       "      <th>2</th>\n",
       "      <td>Que sueño que no se me quita este</td>\n",
       "      <td>que sue o que no se me quita este</td>\n",
       "    </tr>\n",
       "    <tr>\n",
       "      <th>3</th>\n",
       "      <td>RT @FreddyAmazin: when u cant tell if someone ...</td>\n",
       "      <td>when u cant tell if someone is into u or not ...</td>\n",
       "    </tr>\n",
       "    <tr>\n",
       "      <th>4</th>\n",
       "      <td>Household chores or work-related tasks seem ov...</td>\n",
       "      <td>household chores or work related tasks seem ov...</td>\n",
       "    </tr>\n",
       "  </tbody>\n",
       "</table>\n",
       "</div>"
      ],
      "text/plain": [
       "                                                text  \\\n",
       "0  RT @leemausheng: 讓我來告訴你，在這個世間，到底什麼才算數。某企業家：限期給...   \n",
       "1  La vuelta a la casa suegra. Nancy (@ Alto jahu...   \n",
       "2                  Que sueño que no se me quita este   \n",
       "3  RT @FreddyAmazin: when u cant tell if someone ...   \n",
       "4  Household chores or work-related tasks seem ov...   \n",
       "\n",
       "                                        clean_tweets  \n",
       "0                                              guts   \n",
       "1      la vuelta a la casa suegra nancy alto jahuel   \n",
       "2                  que sue o que no se me quita este  \n",
       "3   when u cant tell if someone is into u or not ...  \n",
       "4  household chores or work related tasks seem ov...  "
      ]
     },
     "execution_count": 42,
     "metadata": {},
     "output_type": "execute_result"
    }
   ],
   "source": [
    "g_tweets['clean_tweets'] = g_tweets['clean_tweets'].apply(lambda x: clean_alpha(x.lower()))\n",
    "\n",
    "g_tweets.head()"
   ]
  },
  {
   "cell_type": "code",
   "execution_count": 45,
   "metadata": {},
   "outputs": [
    {
     "name": "stderr",
     "output_type": "stream",
     "text": [
      "[nltk_data] Downloading package stopwords to\n",
      "[nltk_data]     /Users/tsawaengsri/nltk_data...\n",
      "[nltk_data]   Unzipping corpora/stopwords.zip.\n"
     ]
    }
   ],
   "source": [
    "# Define stopwords to exclude\n",
    "stop = set(stopwords.words('english'))\n",
    "\n",
    "# Define punctuations to exclude and lemmatizer\n",
    "exclude = set(string.punctuation)"
   ]
  },
  {
   "cell_type": "code",
   "execution_count": 48,
   "metadata": {},
   "outputs": [
    {
     "name": "stderr",
     "output_type": "stream",
     "text": [
      "[nltk_data] Downloading package wordnet to\n",
      "[nltk_data]     /Users/tsawaengsri/nltk_data...\n",
      "[nltk_data]   Unzipping corpora/wordnet.zip.\n"
     ]
    },
    {
     "data": {
      "text/plain": [
       "True"
      ]
     },
     "execution_count": 48,
     "metadata": {},
     "output_type": "execute_result"
    }
   ],
   "source": [
    "import nltk\n",
    "nltk.download('wordnet')"
   ]
  },
  {
   "cell_type": "code",
   "execution_count": 49,
   "metadata": {},
   "outputs": [
    {
     "data": {
      "text/html": [
       "<div>\n",
       "<style scoped>\n",
       "    .dataframe tbody tr th:only-of-type {\n",
       "        vertical-align: middle;\n",
       "    }\n",
       "\n",
       "    .dataframe tbody tr th {\n",
       "        vertical-align: top;\n",
       "    }\n",
       "\n",
       "    .dataframe thead th {\n",
       "        text-align: right;\n",
       "    }\n",
       "</style>\n",
       "<table border=\"1\" class=\"dataframe\">\n",
       "  <thead>\n",
       "    <tr style=\"text-align: right;\">\n",
       "      <th></th>\n",
       "      <th>text</th>\n",
       "      <th>clean_tweets</th>\n",
       "    </tr>\n",
       "  </thead>\n",
       "  <tbody>\n",
       "    <tr>\n",
       "      <th>14134</th>\n",
       "      <td>SE GLI UOMINI AVESSERO LE MESTRUAZIONI SI VANT...</td>\n",
       "      <td>se gli uomini avessero le mestruazioni si vant...</td>\n",
       "    </tr>\n",
       "    <tr>\n",
       "      <th>14135</th>\n",
       "      <td>Io ho avuto la mia croce, voi avete i saldi.</td>\n",
       "      <td>io ho avuto la mia croce voi avete saldi</td>\n",
       "    </tr>\n",
       "    <tr>\n",
       "      <th>14136</th>\n",
       "      <td>Quel momento in cui stai cercando di guardare ...</td>\n",
       "      <td>quel momento cui stai cercando di guardare la ...</td>\n",
       "    </tr>\n",
       "    <tr>\n",
       "      <th>14137</th>\n",
       "      <td>I dont get it ?? Why all these kids think that...</td>\n",
       "      <td>dont get kid think lauren hill doowop thing do...</td>\n",
       "    </tr>\n",
       "    <tr>\n",
       "      <th>14138</th>\n",
       "      <td>The client is not always right. - Enzo Ferrari</td>\n",
       "      <td>client always right enzo ferrari</td>\n",
       "    </tr>\n",
       "  </tbody>\n",
       "</table>\n",
       "</div>"
      ],
      "text/plain": [
       "                                                    text  \\\n",
       "14134  SE GLI UOMINI AVESSERO LE MESTRUAZIONI SI VANT...   \n",
       "14135       Io ho avuto la mia croce, voi avete i saldi.   \n",
       "14136  Quel momento in cui stai cercando di guardare ...   \n",
       "14137  I dont get it ?? Why all these kids think that...   \n",
       "14138     The client is not always right. - Enzo Ferrari   \n",
       "\n",
       "                                            clean_tweets  \n",
       "14134  se gli uomini avessero le mestruazioni si vant...  \n",
       "14135           io ho avuto la mia croce voi avete saldi  \n",
       "14136  quel momento cui stai cercando di guardare la ...  \n",
       "14137  dont get kid think lauren hill doowop thing do...  \n",
       "14138                   client always right enzo ferrari  "
      ]
     },
     "execution_count": 49,
     "metadata": {},
     "output_type": "execute_result"
    }
   ],
   "source": [
    "# Import the lemmatizer from nltk\n",
    "lemma = WordNetLemmatizer()\n",
    "\n",
    "# Define word cleaning function\n",
    "def final_clean(text, stop=stop):\n",
    "    text = text.rstrip()\n",
    "    stop_free = \" \".join([i for i in text.lower().split() if((i not in stop) and (not i.isdigit()))])\n",
    "    punc_free = ''.join(i for i in stop_free if i not in exclude)\n",
    "    normalized = \" \".join(lemma.lemmatize(i) for i in punc_free.split())      \n",
    "    return normalized\n",
    "\n",
    "b_tweets['clean_tweets'] = b_tweets['clean_tweets'].apply(lambda x: final_clean(x))\n",
    "\n",
    "b_tweets.head()"
   ]
  },
  {
   "cell_type": "code",
   "execution_count": 50,
   "metadata": {},
   "outputs": [
    {
     "data": {
      "text/html": [
       "<div>\n",
       "<style scoped>\n",
       "    .dataframe tbody tr th:only-of-type {\n",
       "        vertical-align: middle;\n",
       "    }\n",
       "\n",
       "    .dataframe tbody tr th {\n",
       "        vertical-align: top;\n",
       "    }\n",
       "\n",
       "    .dataframe thead th {\n",
       "        text-align: right;\n",
       "    }\n",
       "</style>\n",
       "<table border=\"1\" class=\"dataframe\">\n",
       "  <thead>\n",
       "    <tr style=\"text-align: right;\">\n",
       "      <th></th>\n",
       "      <th>text</th>\n",
       "      <th>clean_tweets</th>\n",
       "    </tr>\n",
       "  </thead>\n",
       "  <tbody>\n",
       "    <tr>\n",
       "      <th>0</th>\n",
       "      <td>RT @leemausheng: 讓我來告訴你，在這個世間，到底什麼才算數。某企業家：限期給...</td>\n",
       "      <td>gut</td>\n",
       "    </tr>\n",
       "    <tr>\n",
       "      <th>1</th>\n",
       "      <td>La vuelta a la casa suegra. Nancy (@ Alto jahu...</td>\n",
       "      <td>la vuelta la casa suegra nancy alto jahuel</td>\n",
       "    </tr>\n",
       "    <tr>\n",
       "      <th>2</th>\n",
       "      <td>Que sueño que no se me quita este</td>\n",
       "      <td>que sue que se quita este</td>\n",
       "    </tr>\n",
       "    <tr>\n",
       "      <th>3</th>\n",
       "      <td>RT @FreddyAmazin: when u cant tell if someone ...</td>\n",
       "      <td>u cant tell someone u ur really sure</td>\n",
       "    </tr>\n",
       "    <tr>\n",
       "      <th>4</th>\n",
       "      <td>Household chores or work-related tasks seem ov...</td>\n",
       "      <td>household chore work related task seem overly ...</td>\n",
       "    </tr>\n",
       "  </tbody>\n",
       "</table>\n",
       "</div>"
      ],
      "text/plain": [
       "                                                text  \\\n",
       "0  RT @leemausheng: 讓我來告訴你，在這個世間，到底什麼才算數。某企業家：限期給...   \n",
       "1  La vuelta a la casa suegra. Nancy (@ Alto jahu...   \n",
       "2                  Que sueño que no se me quita este   \n",
       "3  RT @FreddyAmazin: when u cant tell if someone ...   \n",
       "4  Household chores or work-related tasks seem ov...   \n",
       "\n",
       "                                        clean_tweets  \n",
       "0                                                gut  \n",
       "1         la vuelta la casa suegra nancy alto jahuel  \n",
       "2                          que sue que se quita este  \n",
       "3               u cant tell someone u ur really sure  \n",
       "4  household chore work related task seem overly ...  "
      ]
     },
     "execution_count": 50,
     "metadata": {},
     "output_type": "execute_result"
    }
   ],
   "source": [
    "g_tweets['clean_tweets'] = g_tweets['clean_tweets'].apply(lambda x: final_clean(x))\n",
    "\n",
    "g_tweets.head()"
   ]
  },
  {
   "cell_type": "markdown",
   "metadata": {},
   "source": [
    "Since we were unable to translate non English tweets, those cells are empty and will be dropped."
   ]
  },
  {
   "cell_type": "code",
   "execution_count": 51,
   "metadata": {},
   "outputs": [
    {
     "name": "stderr",
     "output_type": "stream",
     "text": [
      "/Users/tsawaengsri/anaconda3/lib/python3.6/site-packages/ipykernel_launcher.py:2: SettingWithCopyWarning: \n",
      "A value is trying to be set on a copy of a slice from a DataFrame.\n",
      "Try using .loc[row_indexer,col_indexer] = value instead\n",
      "\n",
      "See the caveats in the documentation: http://pandas.pydata.org/pandas-docs/stable/user_guide/indexing.html#returning-a-view-versus-a-copy\n",
      "  \n",
      "/Users/tsawaengsri/anaconda3/lib/python3.6/site-packages/ipykernel_launcher.py:3: SettingWithCopyWarning: \n",
      "A value is trying to be set on a copy of a slice from a DataFrame.\n",
      "Try using .loc[row_indexer,col_indexer] = value instead\n",
      "\n",
      "See the caveats in the documentation: http://pandas.pydata.org/pandas-docs/stable/user_guide/indexing.html#returning-a-view-versus-a-copy\n",
      "  This is separate from the ipykernel package so we can avoid doing imports until\n"
     ]
    }
   ],
   "source": [
    "# Add clean_tweets back to bots and gen df to drop empty tweets\n",
    "bots['clean_tweets'] = b_tweets['clean_tweets']\n",
    "gen['clean_tweets'] = g_tweets['clean_tweets']"
   ]
  },
  {
   "cell_type": "code",
   "execution_count": 52,
   "metadata": {},
   "outputs": [
    {
     "name": "stdout",
     "output_type": "stream",
     "text": [
      "(17284, 26)\n",
      "(14134, 26)\n"
     ]
    }
   ],
   "source": [
    "# Shape before dropping empty tweets\n",
    "print(bots.shape)\n",
    "print(gen.shape)"
   ]
  },
  {
   "cell_type": "code",
   "execution_count": 53,
   "metadata": {},
   "outputs": [],
   "source": [
    "# Replace field that's entirely space (or empty) with NaN\n",
    "bots = bots.replace(r'^\\s*$', np.nan, regex=True)\n",
    "gen = gen.replace(r'^\\s*$', np.nan, regex=True)"
   ]
  },
  {
   "cell_type": "code",
   "execution_count": 54,
   "metadata": {},
   "outputs": [],
   "source": [
    "# Drop nan\n",
    "bots = bots.dropna() \n",
    "gen = gen.dropna()"
   ]
  },
  {
   "cell_type": "code",
   "execution_count": 55,
   "metadata": {},
   "outputs": [],
   "source": [
    "# Reset index to start at 0\n",
    "bots = bots.reset_index()\n",
    "gen = gen.reset_index()"
   ]
  },
  {
   "cell_type": "code",
   "execution_count": 56,
   "metadata": {},
   "outputs": [
    {
     "name": "stdout",
     "output_type": "stream",
     "text": [
      "(16953, 27)\n",
      "(13559, 27)\n"
     ]
    }
   ],
   "source": [
    "# Shape after dropping empty tweets\n",
    "print(bots.shape)\n",
    "print(gen.shape)"
   ]
  },
  {
   "cell_type": "markdown",
   "metadata": {},
   "source": [
    "We lost a few hundreds of tweets for bots and genuine accounts. "
   ]
  },
  {
   "cell_type": "code",
   "execution_count": 57,
   "metadata": {},
   "outputs": [],
   "source": [
    "# Convert df to np arrary \n",
    "b_clean = bots['clean_tweets'].values\n",
    "g_clean = gen['clean_tweets'].values"
   ]
  },
  {
   "cell_type": "code",
   "execution_count": 58,
   "metadata": {},
   "outputs": [],
   "source": [
    "# Convert np arrary to one deminsional array \n",
    "b_clean = b_clean.ravel()"
   ]
  },
  {
   "cell_type": "code",
   "execution_count": 59,
   "metadata": {},
   "outputs": [
    {
     "data": {
      "text/plain": [
       "numpy.ndarray"
      ]
     },
     "execution_count": 59,
     "metadata": {},
     "output_type": "execute_result"
    }
   ],
   "source": [
    "type(b_clean)"
   ]
  },
  {
   "cell_type": "code",
   "execution_count": 60,
   "metadata": {},
   "outputs": [],
   "source": [
    "# Convert np arrary to one deminsional array \n",
    "g_clean = g_clean.ravel()"
   ]
  },
  {
   "cell_type": "code",
   "execution_count": 61,
   "metadata": {},
   "outputs": [
    {
     "data": {
      "text/plain": [
       "numpy.ndarray"
      ]
     },
     "execution_count": 61,
     "metadata": {},
     "output_type": "execute_result"
    }
   ],
   "source": [
    "type(g_clean)"
   ]
  },
  {
   "cell_type": "markdown",
   "metadata": {},
   "source": [
    "### Count Vectorizer\n",
    "Converting a collection of stemmed tweets to a matrix of token counts"
   ]
  },
  {
   "cell_type": "code",
   "execution_count": 62,
   "metadata": {},
   "outputs": [
    {
     "name": "stdout",
     "output_type": "stream",
     "text": [
      "(16953, 20857)\n",
      "<class 'scipy.sparse.csr.csr_matrix'>\n"
     ]
    }
   ],
   "source": [
    "# Initialize a CountVectorizer object for bot tweets\n",
    "b_count_vectorizer = CountVectorizer(stop_words='english')\n",
    "\n",
    "# Learn the vocabulary dictionary and return term-document matrix for bot tweets\n",
    "b_clean = b_count_vectorizer.fit_transform(b_clean) \n",
    "\n",
    "# Summarize encoded vector\n",
    "print(b_clean.shape)\n",
    "print(type(b_clean))"
   ]
  },
  {
   "cell_type": "code",
   "execution_count": 63,
   "metadata": {},
   "outputs": [
    {
     "data": {
      "text/plain": [
       "array(['aa', 'aaaaaaaaaaaaaaaaaaaaa', 'aaaaah', 'aaaah',\n",
       "       'aaaahhhhhindovina', 'aan', 'aanrader', 'aaron', 'ab', 'abaia',\n",
       "       'abasan', 'abate', 'abath', 'abba', 'abbaia', 'abbamo',\n",
       "       'abbandona', 'abbandonano', 'abbandonare', 'abbandonarlo',\n",
       "       'abbandonata', 'abbandonato', 'abbandoni', 'abbandono', 'abbassa',\n",
       "       'abbassare', 'abbassata', 'abbassate', 'abbassi', 'abbastanza'],\n",
       "      dtype='<U21')"
      ]
     },
     "execution_count": 63,
     "metadata": {},
     "output_type": "execute_result"
    }
   ],
   "source": [
    "# Bot Tweets Vocabulary \n",
    "b_vocab = b_count_vectorizer.get_feature_names()\n",
    "np.array(b_vocab[:30])"
   ]
  },
  {
   "cell_type": "code",
   "execution_count": 64,
   "metadata": {},
   "outputs": [
    {
     "name": "stdout",
     "output_type": "stream",
     "text": [
      "(13559, 20017)\n",
      "<class 'scipy.sparse.csr.csr_matrix'>\n"
     ]
    }
   ],
   "source": [
    "# Initialize a CountVectorizer object for bot tweets\n",
    "g_count_vectorizer = CountVectorizer(stop_words='english')\n",
    "\n",
    "# Learn the vocabulary dictionary and return term-document matrix for genuine tweets\n",
    "g_clean = g_count_vectorizer.fit_transform(g_clean)\n",
    "\n",
    "# Summarize encoded vector\n",
    "print(g_clean.shape)\n",
    "print(type(g_clean))"
   ]
  },
  {
   "cell_type": "code",
   "execution_count": 65,
   "metadata": {},
   "outputs": [
    {
     "data": {
      "text/plain": [
       "array(['aaaaa', 'aaaaaah', 'aaaaahaajdkkfkfwblqdkvjfjebjdnfjfif',\n",
       "       'aaaaannddd', 'aaaare', 'aaaay', 'aaahahahahahahahah', 'aaahhhh',\n",
       "       'aaand', 'aaatttaaay', 'aabang', 'aadh', 'aadmi', 'aae', 'aah',\n",
       "       'aalis', 'aaliyahmovie', 'aaliyahprincessofrnb', 'aan',\n",
       "       'aanleiding', 'aantukin', 'aap', 'aapkisanrally', 'aapl', 'aaral',\n",
       "       'aargh', 'aaron', 'aat', 'ab', 'aba'], dtype='<U35')"
      ]
     },
     "execution_count": 65,
     "metadata": {},
     "output_type": "execute_result"
    }
   ],
   "source": [
    "# Genuine Tweets Vocabulary \n",
    "g_vocab = g_count_vectorizer.get_feature_names()\n",
    "np.array(g_vocab[:30])"
   ]
  },
  {
   "cell_type": "markdown",
   "metadata": {},
   "source": [
    "### Tfidf Transformer \n",
    "\"The goal of using tf-idf instead of the raw frequencies of occurrence of a token in a given document is to scale down the impact of tokens that occur very frequently in a given corpus and that are hence empirically less informative than features that occur in a small fraction of the training corpus\".[Source](https://scikit-learn.org/stable/modules/generated/sklearn.feature_extraction.text.TfidfTransformer.html)"
   ]
  },
  {
   "cell_type": "code",
   "execution_count": 66,
   "metadata": {},
   "outputs": [
    {
     "name": "stdout",
     "output_type": "stream",
     "text": [
      "(16953, 20857)\n",
      "<class 'scipy.sparse.csr.csr_matrix'>\n"
     ]
    }
   ],
   "source": [
    "# Learn the idf vector (global term weights) for bot tweets\n",
    "b_tf_transformer = TfidfTransformer(use_idf=False).fit(b_clean) # Don't enable inverse-document-frequency reweighting\n",
    "\n",
    "# Transform a count matrix to a tf-idf representation\n",
    "b_tfidf_train = b_tf_transformer.transform(b_clean)\n",
    "\n",
    "# Summarize encoded vector\n",
    "print(b_tfidf_train.shape)\n",
    "print(type(b_tfidf_train))"
   ]
  },
  {
   "cell_type": "code",
   "execution_count": 67,
   "metadata": {},
   "outputs": [
    {
     "name": "stdout",
     "output_type": "stream",
     "text": [
      "(13559, 20017)\n",
      "<class 'scipy.sparse.csr.csr_matrix'>\n"
     ]
    }
   ],
   "source": [
    "# Learn the idf vector (global term weights) for genuine tweets\n",
    "g_tf_transformer = TfidfTransformer(use_idf=False).fit(g_clean)\n",
    "\n",
    "# Transform a count matrix to a tf-idf representation\n",
    "g_tfidf_train = g_tf_transformer.transform(g_clean)\n",
    "\n",
    "# Summarize encoded vector\n",
    "print(g_tfidf_train.shape)\n",
    "print(type(g_tfidf_train))"
   ]
  },
  {
   "cell_type": "markdown",
   "metadata": {},
   "source": [
    "As shown above, there are over 20,000 tokens for both bots and genuine tweets. We'll need to reduce the number of features to prevent overfitting. \n",
    "\n",
    "### TruncatedSVD\n",
    "\"This transformer performs linear dimensionality reduction by means of truncated singular value decomposition (SVD). Contrary to PCA, this estimator does not center the data before computing the singular value decomposition. This means it can work with scipy.sparse matrices efficiently.\" [Source](https://scikit-learn.org/stable/modules/generated/sklearn.decomposition.TruncatedSVD.html)"
   ]
  },
  {
   "cell_type": "code",
   "execution_count": 68,
   "metadata": {
    "scrolled": true
   },
   "outputs": [
    {
     "name": "stdout",
     "output_type": "stream",
     "text": [
      "(16953, 100)\n",
      "[0.02078646 0.01443804 0.01153323 0.01078373 0.01031865 0.01003025\n",
      " 0.00975949 0.00698148 0.00656566 0.0051164  0.00503082 0.00501392\n",
      " 0.00463633 0.00399065 0.00428352 0.00421153 0.00412742 0.00380883\n",
      " 0.00375265 0.00340134 0.00338833 0.00314915 0.00311912 0.00305158\n",
      " 0.00290456 0.00287625 0.00286123 0.00280238 0.00274249 0.00271022\n",
      " 0.00269347 0.00265165 0.00258199 0.00254697 0.00251261 0.00247265\n",
      " 0.00241303 0.00237843 0.00230027 0.00225098 0.00224204 0.0022036\n",
      " 0.00210684 0.0020839  0.00206844 0.00205873 0.00200295 0.00200373\n",
      " 0.00198158 0.00196927 0.00194972 0.00188381 0.00183862 0.00181897\n",
      " 0.00178878 0.00177395 0.00175423 0.00172414 0.00170265 0.00169382\n",
      " 0.00162005 0.00158564 0.00156197 0.00155354 0.00154057 0.00152089\n",
      " 0.00149195 0.00147169 0.00146865 0.00145892 0.00145537 0.00144542\n",
      " 0.00142492 0.00141732 0.00139558 0.00138184 0.00135699 0.00135074\n",
      " 0.00134171 0.00133443 0.00132468 0.00131888 0.00131543 0.00129804\n",
      " 0.00128543 0.00128317 0.0012729  0.00125856 0.00123438 0.00122499\n",
      " 0.00121133 0.00118678 0.00117505 0.00116796 0.00116131 0.00114338\n",
      " 0.0011314  0.00112458 0.00111465 0.00109601]\n",
      "0.2995996752437001\n"
     ]
    }
   ],
   "source": [
    "# TruncatedSVD to reduce dimensions \n",
    "svd = TruncatedSVD(n_components=100, n_iter=7, random_state=42).fit(b_tfidf_train)\n",
    "b_svdTFit = svd.fit_transform(b_tfidf_train)\n",
    "\n",
    "# Summary of transformation \n",
    "print(b_svdTFit.shape)\n",
    "print(svd.explained_variance_)\n",
    "print(svd.explained_variance_ratio_.sum())"
   ]
  },
  {
   "cell_type": "code",
   "execution_count": 69,
   "metadata": {},
   "outputs": [
    {
     "name": "stdout",
     "output_type": "stream",
     "text": [
      "(13559, 100)\n",
      "[0.00684461 0.00748309 0.00553228 0.00556224 0.00509815 0.0048644\n",
      " 0.00431255 0.0038208  0.00373157 0.00355509 0.00353415 0.00348544\n",
      " 0.00327016 0.00321881 0.00322593 0.00319161 0.0030842  0.00305179\n",
      " 0.00292975 0.00291164 0.00285578 0.00268655 0.0026051  0.00261977\n",
      " 0.0025495  0.00248986 0.00248929 0.00237194 0.00242634 0.00236564\n",
      " 0.00234484 0.00233663 0.0023309  0.00228745 0.00227413 0.00222791\n",
      " 0.00221861 0.00219349 0.00217544 0.0021465  0.00213736 0.00207959\n",
      " 0.00201921 0.00199069 0.00199525 0.0019593  0.00193705 0.0018828\n",
      " 0.00186568 0.0018208  0.00180593 0.00177194 0.00174322 0.00173511\n",
      " 0.00172668 0.0017074  0.00170746 0.00167578 0.00165254 0.00163954\n",
      " 0.00160387 0.00158228 0.00156584 0.00156108 0.00155421 0.00152003\n",
      " 0.0015068  0.00145227 0.00144321 0.00143654 0.00141454 0.00140771\n",
      " 0.00139765 0.00138914 0.00138414 0.00136597 0.001365   0.00135814\n",
      " 0.00133685 0.00133147 0.00131465 0.00130516 0.00129748 0.001292\n",
      " 0.00127641 0.00126467 0.0012502  0.00124239 0.00123817 0.00122244\n",
      " 0.00120657 0.0011917  0.00118259 0.00117794 0.00117041 0.00114509\n",
      " 0.0011325  0.00112657 0.00110719 0.00108162]\n",
      "0.22286725322930004\n"
     ]
    }
   ],
   "source": [
    "# TruncatedSVD to reduce dimensions \n",
    "svd2 = TruncatedSVD(n_components=100, n_iter=7, random_state=42).fit(g_tfidf_train)\n",
    "g_svdTFit = svd2.fit_transform(g_tfidf_train)\n",
    "\n",
    "# Summary of transformation \n",
    "print(g_svdTFit.shape)\n",
    "print(svd2.explained_variance_)\n",
    "print(svd2.explained_variance_ratio_.sum())"
   ]
  },
  {
   "cell_type": "code",
   "execution_count": 70,
   "metadata": {},
   "outputs": [
    {
     "data": {
      "text/html": [
       "<div>\n",
       "<style scoped>\n",
       "    .dataframe tbody tr th:only-of-type {\n",
       "        vertical-align: middle;\n",
       "    }\n",
       "\n",
       "    .dataframe tbody tr th {\n",
       "        vertical-align: top;\n",
       "    }\n",
       "\n",
       "    .dataframe thead th {\n",
       "        text-align: right;\n",
       "    }\n",
       "</style>\n",
       "<table border=\"1\" class=\"dataframe\">\n",
       "  <thead>\n",
       "    <tr style=\"text-align: right;\">\n",
       "      <th></th>\n",
       "      <th>0</th>\n",
       "      <th>1</th>\n",
       "      <th>2</th>\n",
       "      <th>3</th>\n",
       "      <th>4</th>\n",
       "      <th>5</th>\n",
       "      <th>6</th>\n",
       "      <th>7</th>\n",
       "      <th>8</th>\n",
       "      <th>9</th>\n",
       "      <th>...</th>\n",
       "      <th>90</th>\n",
       "      <th>91</th>\n",
       "      <th>92</th>\n",
       "      <th>93</th>\n",
       "      <th>94</th>\n",
       "      <th>95</th>\n",
       "      <th>96</th>\n",
       "      <th>97</th>\n",
       "      <th>98</th>\n",
       "      <th>99</th>\n",
       "    </tr>\n",
       "  </thead>\n",
       "  <tbody>\n",
       "    <tr>\n",
       "      <th>0</th>\n",
       "      <td>0.135203</td>\n",
       "      <td>-0.000390</td>\n",
       "      <td>-0.027680</td>\n",
       "      <td>-0.015762</td>\n",
       "      <td>0.001544</td>\n",
       "      <td>0.022830</td>\n",
       "      <td>0.003663</td>\n",
       "      <td>0.012065</td>\n",
       "      <td>0.285563</td>\n",
       "      <td>0.060394</td>\n",
       "      <td>...</td>\n",
       "      <td>0.034402</td>\n",
       "      <td>-0.002235</td>\n",
       "      <td>0.007672</td>\n",
       "      <td>0.000714</td>\n",
       "      <td>0.002599</td>\n",
       "      <td>0.012253</td>\n",
       "      <td>-0.029592</td>\n",
       "      <td>-0.012752</td>\n",
       "      <td>-0.060439</td>\n",
       "      <td>0.024529</td>\n",
       "    </tr>\n",
       "    <tr>\n",
       "      <th>1</th>\n",
       "      <td>0.174513</td>\n",
       "      <td>0.002344</td>\n",
       "      <td>0.044173</td>\n",
       "      <td>0.311856</td>\n",
       "      <td>-0.021691</td>\n",
       "      <td>-0.002445</td>\n",
       "      <td>-0.014490</td>\n",
       "      <td>0.001844</td>\n",
       "      <td>0.053613</td>\n",
       "      <td>0.081268</td>\n",
       "      <td>...</td>\n",
       "      <td>0.017546</td>\n",
       "      <td>0.009883</td>\n",
       "      <td>0.001294</td>\n",
       "      <td>-0.022846</td>\n",
       "      <td>-0.049522</td>\n",
       "      <td>-0.062109</td>\n",
       "      <td>0.027471</td>\n",
       "      <td>-0.084768</td>\n",
       "      <td>-0.051446</td>\n",
       "      <td>0.055042</td>\n",
       "    </tr>\n",
       "    <tr>\n",
       "      <th>2</th>\n",
       "      <td>0.321661</td>\n",
       "      <td>0.005128</td>\n",
       "      <td>0.241192</td>\n",
       "      <td>0.353007</td>\n",
       "      <td>-0.023630</td>\n",
       "      <td>0.005720</td>\n",
       "      <td>-0.086692</td>\n",
       "      <td>-0.000904</td>\n",
       "      <td>-0.014979</td>\n",
       "      <td>0.082776</td>\n",
       "      <td>...</td>\n",
       "      <td>0.044246</td>\n",
       "      <td>0.035569</td>\n",
       "      <td>-0.017326</td>\n",
       "      <td>-0.015053</td>\n",
       "      <td>0.009579</td>\n",
       "      <td>0.008469</td>\n",
       "      <td>-0.024719</td>\n",
       "      <td>0.013767</td>\n",
       "      <td>0.007306</td>\n",
       "      <td>0.002101</td>\n",
       "    </tr>\n",
       "    <tr>\n",
       "      <th>3</th>\n",
       "      <td>0.000125</td>\n",
       "      <td>0.004031</td>\n",
       "      <td>0.000026</td>\n",
       "      <td>0.000431</td>\n",
       "      <td>0.006861</td>\n",
       "      <td>0.000047</td>\n",
       "      <td>0.000149</td>\n",
       "      <td>0.016742</td>\n",
       "      <td>0.001604</td>\n",
       "      <td>0.002834</td>\n",
       "      <td>...</td>\n",
       "      <td>0.072505</td>\n",
       "      <td>-0.041395</td>\n",
       "      <td>-0.129447</td>\n",
       "      <td>0.136783</td>\n",
       "      <td>-0.030347</td>\n",
       "      <td>-0.006004</td>\n",
       "      <td>0.045349</td>\n",
       "      <td>-0.005475</td>\n",
       "      <td>-0.021612</td>\n",
       "      <td>0.073796</td>\n",
       "    </tr>\n",
       "    <tr>\n",
       "      <th>4</th>\n",
       "      <td>0.000110</td>\n",
       "      <td>0.000649</td>\n",
       "      <td>0.000062</td>\n",
       "      <td>0.000480</td>\n",
       "      <td>0.001201</td>\n",
       "      <td>0.000014</td>\n",
       "      <td>0.000039</td>\n",
       "      <td>0.008725</td>\n",
       "      <td>0.000735</td>\n",
       "      <td>0.001103</td>\n",
       "      <td>...</td>\n",
       "      <td>0.029147</td>\n",
       "      <td>0.029978</td>\n",
       "      <td>0.082916</td>\n",
       "      <td>0.086045</td>\n",
       "      <td>0.136596</td>\n",
       "      <td>-0.004219</td>\n",
       "      <td>-0.043616</td>\n",
       "      <td>-0.105764</td>\n",
       "      <td>0.093672</td>\n",
       "      <td>-0.133154</td>\n",
       "    </tr>\n",
       "  </tbody>\n",
       "</table>\n",
       "<p>5 rows × 100 columns</p>\n",
       "</div>"
      ],
      "text/plain": [
       "         0         1         2         3         4         5         6   \\\n",
       "0  0.135203 -0.000390 -0.027680 -0.015762  0.001544  0.022830  0.003663   \n",
       "1  0.174513  0.002344  0.044173  0.311856 -0.021691 -0.002445 -0.014490   \n",
       "2  0.321661  0.005128  0.241192  0.353007 -0.023630  0.005720 -0.086692   \n",
       "3  0.000125  0.004031  0.000026  0.000431  0.006861  0.000047  0.000149   \n",
       "4  0.000110  0.000649  0.000062  0.000480  0.001201  0.000014  0.000039   \n",
       "\n",
       "         7         8         9   ...        90        91        92        93  \\\n",
       "0  0.012065  0.285563  0.060394  ...  0.034402 -0.002235  0.007672  0.000714   \n",
       "1  0.001844  0.053613  0.081268  ...  0.017546  0.009883  0.001294 -0.022846   \n",
       "2 -0.000904 -0.014979  0.082776  ...  0.044246  0.035569 -0.017326 -0.015053   \n",
       "3  0.016742  0.001604  0.002834  ...  0.072505 -0.041395 -0.129447  0.136783   \n",
       "4  0.008725  0.000735  0.001103  ...  0.029147  0.029978  0.082916  0.086045   \n",
       "\n",
       "         94        95        96        97        98        99  \n",
       "0  0.002599  0.012253 -0.029592 -0.012752 -0.060439  0.024529  \n",
       "1 -0.049522 -0.062109  0.027471 -0.084768 -0.051446  0.055042  \n",
       "2  0.009579  0.008469 -0.024719  0.013767  0.007306  0.002101  \n",
       "3 -0.030347 -0.006004  0.045349 -0.005475 -0.021612  0.073796  \n",
       "4  0.136596 -0.004219 -0.043616 -0.105764  0.093672 -0.133154  \n",
       "\n",
       "[5 rows x 100 columns]"
      ]
     },
     "execution_count": 70,
     "metadata": {},
     "output_type": "execute_result"
    }
   ],
   "source": [
    "# Convert svdTFit array to df \n",
    "b_svdTFit = pd.DataFrame(b_svdTFit)\n",
    "b_svdTFit.head()"
   ]
  },
  {
   "cell_type": "code",
   "execution_count": 71,
   "metadata": {},
   "outputs": [
    {
     "name": "stdout",
     "output_type": "stream",
     "text": [
      "(16953, 100)\n"
     ]
    }
   ],
   "source": [
    "print(b_svdTFit.shape)"
   ]
  },
  {
   "cell_type": "code",
   "execution_count": 72,
   "metadata": {},
   "outputs": [
    {
     "data": {
      "text/plain": [
       "(16953, 27)"
      ]
     },
     "execution_count": 72,
     "metadata": {},
     "output_type": "execute_result"
    }
   ],
   "source": [
    "bots.shape"
   ]
  },
  {
   "cell_type": "code",
   "execution_count": 73,
   "metadata": {},
   "outputs": [
    {
     "data": {
      "text/html": [
       "<div>\n",
       "<style scoped>\n",
       "    .dataframe tbody tr th:only-of-type {\n",
       "        vertical-align: middle;\n",
       "    }\n",
       "\n",
       "    .dataframe tbody tr th {\n",
       "        vertical-align: top;\n",
       "    }\n",
       "\n",
       "    .dataframe thead th {\n",
       "        text-align: right;\n",
       "    }\n",
       "</style>\n",
       "<table border=\"1\" class=\"dataframe\">\n",
       "  <thead>\n",
       "    <tr style=\"text-align: right;\">\n",
       "      <th></th>\n",
       "      <th>0</th>\n",
       "      <th>1</th>\n",
       "      <th>2</th>\n",
       "      <th>3</th>\n",
       "      <th>4</th>\n",
       "      <th>5</th>\n",
       "      <th>6</th>\n",
       "      <th>7</th>\n",
       "      <th>8</th>\n",
       "      <th>9</th>\n",
       "      <th>...</th>\n",
       "      <th>90</th>\n",
       "      <th>91</th>\n",
       "      <th>92</th>\n",
       "      <th>93</th>\n",
       "      <th>94</th>\n",
       "      <th>95</th>\n",
       "      <th>96</th>\n",
       "      <th>97</th>\n",
       "      <th>98</th>\n",
       "      <th>99</th>\n",
       "    </tr>\n",
       "  </thead>\n",
       "  <tbody>\n",
       "    <tr>\n",
       "      <th>0</th>\n",
       "      <td>0.000142</td>\n",
       "      <td>0.000017</td>\n",
       "      <td>0.000152</td>\n",
       "      <td>0.000161</td>\n",
       "      <td>0.000053</td>\n",
       "      <td>-0.000029</td>\n",
       "      <td>0.000329</td>\n",
       "      <td>0.000309</td>\n",
       "      <td>-0.000479</td>\n",
       "      <td>-0.000600</td>\n",
       "      <td>...</td>\n",
       "      <td>-0.000549</td>\n",
       "      <td>-0.001015</td>\n",
       "      <td>0.000268</td>\n",
       "      <td>-0.001251</td>\n",
       "      <td>0.000262</td>\n",
       "      <td>-0.000013</td>\n",
       "      <td>0.000826</td>\n",
       "      <td>-0.001704</td>\n",
       "      <td>0.000835</td>\n",
       "      <td>0.001195</td>\n",
       "    </tr>\n",
       "    <tr>\n",
       "      <th>1</th>\n",
       "      <td>0.002403</td>\n",
       "      <td>-0.000017</td>\n",
       "      <td>0.003924</td>\n",
       "      <td>0.001443</td>\n",
       "      <td>0.001455</td>\n",
       "      <td>-0.001037</td>\n",
       "      <td>0.007823</td>\n",
       "      <td>0.002595</td>\n",
       "      <td>-0.003448</td>\n",
       "      <td>-0.000662</td>\n",
       "      <td>...</td>\n",
       "      <td>-0.009433</td>\n",
       "      <td>-0.009513</td>\n",
       "      <td>0.008955</td>\n",
       "      <td>-0.003861</td>\n",
       "      <td>-0.004125</td>\n",
       "      <td>-0.029189</td>\n",
       "      <td>-0.006144</td>\n",
       "      <td>0.005366</td>\n",
       "      <td>-0.005171</td>\n",
       "      <td>0.017325</td>\n",
       "    </tr>\n",
       "    <tr>\n",
       "      <th>2</th>\n",
       "      <td>0.000837</td>\n",
       "      <td>0.000163</td>\n",
       "      <td>0.001390</td>\n",
       "      <td>0.000905</td>\n",
       "      <td>0.001410</td>\n",
       "      <td>-0.000033</td>\n",
       "      <td>0.004395</td>\n",
       "      <td>0.004299</td>\n",
       "      <td>0.003159</td>\n",
       "      <td>-0.001919</td>\n",
       "      <td>...</td>\n",
       "      <td>0.039439</td>\n",
       "      <td>0.008336</td>\n",
       "      <td>-0.033747</td>\n",
       "      <td>-0.004838</td>\n",
       "      <td>-0.027074</td>\n",
       "      <td>0.041557</td>\n",
       "      <td>-0.008889</td>\n",
       "      <td>-0.027886</td>\n",
       "      <td>-0.035983</td>\n",
       "      <td>0.011201</td>\n",
       "    </tr>\n",
       "    <tr>\n",
       "      <th>3</th>\n",
       "      <td>0.049044</td>\n",
       "      <td>0.009054</td>\n",
       "      <td>0.040993</td>\n",
       "      <td>0.028835</td>\n",
       "      <td>0.032961</td>\n",
       "      <td>-0.006711</td>\n",
       "      <td>0.016282</td>\n",
       "      <td>0.041331</td>\n",
       "      <td>-0.018131</td>\n",
       "      <td>-0.010053</td>\n",
       "      <td>...</td>\n",
       "      <td>-0.024165</td>\n",
       "      <td>0.022408</td>\n",
       "      <td>-0.138919</td>\n",
       "      <td>0.041860</td>\n",
       "      <td>0.037810</td>\n",
       "      <td>0.040020</td>\n",
       "      <td>-0.030913</td>\n",
       "      <td>-0.097531</td>\n",
       "      <td>-0.030117</td>\n",
       "      <td>-0.037891</td>\n",
       "    </tr>\n",
       "    <tr>\n",
       "      <th>4</th>\n",
       "      <td>0.010710</td>\n",
       "      <td>-0.001539</td>\n",
       "      <td>0.008440</td>\n",
       "      <td>0.010130</td>\n",
       "      <td>-0.001211</td>\n",
       "      <td>0.001936</td>\n",
       "      <td>0.004392</td>\n",
       "      <td>0.006799</td>\n",
       "      <td>-0.003399</td>\n",
       "      <td>-0.004109</td>\n",
       "      <td>...</td>\n",
       "      <td>-0.004212</td>\n",
       "      <td>-0.016241</td>\n",
       "      <td>-0.003062</td>\n",
       "      <td>0.005526</td>\n",
       "      <td>0.001088</td>\n",
       "      <td>0.009129</td>\n",
       "      <td>0.009806</td>\n",
       "      <td>0.005376</td>\n",
       "      <td>-0.010705</td>\n",
       "      <td>-0.004621</td>\n",
       "    </tr>\n",
       "  </tbody>\n",
       "</table>\n",
       "<p>5 rows × 100 columns</p>\n",
       "</div>"
      ],
      "text/plain": [
       "         0         1         2         3         4         5         6   \\\n",
       "0  0.000142  0.000017  0.000152  0.000161  0.000053 -0.000029  0.000329   \n",
       "1  0.002403 -0.000017  0.003924  0.001443  0.001455 -0.001037  0.007823   \n",
       "2  0.000837  0.000163  0.001390  0.000905  0.001410 -0.000033  0.004395   \n",
       "3  0.049044  0.009054  0.040993  0.028835  0.032961 -0.006711  0.016282   \n",
       "4  0.010710 -0.001539  0.008440  0.010130 -0.001211  0.001936  0.004392   \n",
       "\n",
       "         7         8         9   ...        90        91        92        93  \\\n",
       "0  0.000309 -0.000479 -0.000600  ... -0.000549 -0.001015  0.000268 -0.001251   \n",
       "1  0.002595 -0.003448 -0.000662  ... -0.009433 -0.009513  0.008955 -0.003861   \n",
       "2  0.004299  0.003159 -0.001919  ...  0.039439  0.008336 -0.033747 -0.004838   \n",
       "3  0.041331 -0.018131 -0.010053  ... -0.024165  0.022408 -0.138919  0.041860   \n",
       "4  0.006799 -0.003399 -0.004109  ... -0.004212 -0.016241 -0.003062  0.005526   \n",
       "\n",
       "         94        95        96        97        98        99  \n",
       "0  0.000262 -0.000013  0.000826 -0.001704  0.000835  0.001195  \n",
       "1 -0.004125 -0.029189 -0.006144  0.005366 -0.005171  0.017325  \n",
       "2 -0.027074  0.041557 -0.008889 -0.027886 -0.035983  0.011201  \n",
       "3  0.037810  0.040020 -0.030913 -0.097531 -0.030117 -0.037891  \n",
       "4  0.001088  0.009129  0.009806  0.005376 -0.010705 -0.004621  \n",
       "\n",
       "[5 rows x 100 columns]"
      ]
     },
     "execution_count": 73,
     "metadata": {},
     "output_type": "execute_result"
    }
   ],
   "source": [
    "# Convert svdTFit array to df \n",
    "g_svdTFit = pd.DataFrame(g_svdTFit)\n",
    "g_svdTFit.head()"
   ]
  },
  {
   "cell_type": "code",
   "execution_count": 74,
   "metadata": {},
   "outputs": [
    {
     "data": {
      "text/plain": [
       "(13559, 100)"
      ]
     },
     "execution_count": 74,
     "metadata": {},
     "output_type": "execute_result"
    }
   ],
   "source": [
    "g_svdTFit.shape"
   ]
  },
  {
   "cell_type": "code",
   "execution_count": 75,
   "metadata": {},
   "outputs": [
    {
     "data": {
      "text/plain": [
       "(13559, 27)"
      ]
     },
     "execution_count": 75,
     "metadata": {},
     "output_type": "execute_result"
    }
   ],
   "source": [
    "gen.shape"
   ]
  },
  {
   "cell_type": "code",
   "execution_count": 76,
   "metadata": {},
   "outputs": [
    {
     "data": {
      "text/html": [
       "<div>\n",
       "<style scoped>\n",
       "    .dataframe tbody tr th:only-of-type {\n",
       "        vertical-align: middle;\n",
       "    }\n",
       "\n",
       "    .dataframe tbody tr th {\n",
       "        vertical-align: top;\n",
       "    }\n",
       "\n",
       "    .dataframe thead th {\n",
       "        text-align: right;\n",
       "    }\n",
       "</style>\n",
       "<table border=\"1\" class=\"dataframe\">\n",
       "  <thead>\n",
       "    <tr style=\"text-align: right;\">\n",
       "      <th></th>\n",
       "      <th>index</th>\n",
       "      <th>id</th>\n",
       "      <th>text</th>\n",
       "      <th>source</th>\n",
       "      <th>user_id</th>\n",
       "      <th>in_reply_to_status_id</th>\n",
       "      <th>in_reply_to_user_id</th>\n",
       "      <th>retweeted_status_id</th>\n",
       "      <th>retweet_count</th>\n",
       "      <th>reply_count</th>\n",
       "      <th>...</th>\n",
       "      <th>90</th>\n",
       "      <th>91</th>\n",
       "      <th>92</th>\n",
       "      <th>93</th>\n",
       "      <th>94</th>\n",
       "      <th>95</th>\n",
       "      <th>96</th>\n",
       "      <th>97</th>\n",
       "      <th>98</th>\n",
       "      <th>99</th>\n",
       "    </tr>\n",
       "  </thead>\n",
       "  <tbody>\n",
       "    <tr>\n",
       "      <th>0</th>\n",
       "      <td>14134</td>\n",
       "      <td>489788133534617600</td>\n",
       "      <td>SE GLI UOMINI AVESSERO LE MESTRUAZIONI SI VANT...</td>\n",
       "      <td>&lt;a href=\"http://www.giselecaldoro.it\" rel=\"nof...</td>\n",
       "      <td>466217028</td>\n",
       "      <td>0</td>\n",
       "      <td>0</td>\n",
       "      <td>0</td>\n",
       "      <td>0</td>\n",
       "      <td>0</td>\n",
       "      <td>...</td>\n",
       "      <td>0.034402</td>\n",
       "      <td>-0.002235</td>\n",
       "      <td>0.007672</td>\n",
       "      <td>0.000714</td>\n",
       "      <td>0.002599</td>\n",
       "      <td>0.012253</td>\n",
       "      <td>-0.029592</td>\n",
       "      <td>-0.012752</td>\n",
       "      <td>-0.060439</td>\n",
       "      <td>0.024529</td>\n",
       "    </tr>\n",
       "    <tr>\n",
       "      <th>1</th>\n",
       "      <td>14135</td>\n",
       "      <td>528134133336129537</td>\n",
       "      <td>Io ho avuto la mia croce, voi avete i saldi.</td>\n",
       "      <td>&lt;a href=\"http://twitter.isayadmin.com\" rel=\"no...</td>\n",
       "      <td>560482551</td>\n",
       "      <td>0</td>\n",
       "      <td>0</td>\n",
       "      <td>0</td>\n",
       "      <td>0</td>\n",
       "      <td>0</td>\n",
       "      <td>...</td>\n",
       "      <td>0.017546</td>\n",
       "      <td>0.009883</td>\n",
       "      <td>0.001294</td>\n",
       "      <td>-0.022846</td>\n",
       "      <td>-0.049522</td>\n",
       "      <td>-0.062109</td>\n",
       "      <td>0.027471</td>\n",
       "      <td>-0.084768</td>\n",
       "      <td>-0.051446</td>\n",
       "      <td>0.055042</td>\n",
       "    </tr>\n",
       "    <tr>\n",
       "      <th>2</th>\n",
       "      <td>14136</td>\n",
       "      <td>493096839814873088</td>\n",
       "      <td>Quel momento in cui stai cercando di guardare ...</td>\n",
       "      <td>&lt;a href=\"http://www.Gerlavine.com\" rel=\"nofoll...</td>\n",
       "      <td>466352701</td>\n",
       "      <td>0</td>\n",
       "      <td>0</td>\n",
       "      <td>0</td>\n",
       "      <td>0</td>\n",
       "      <td>0</td>\n",
       "      <td>...</td>\n",
       "      <td>0.044246</td>\n",
       "      <td>0.035569</td>\n",
       "      <td>-0.017326</td>\n",
       "      <td>-0.015053</td>\n",
       "      <td>0.009579</td>\n",
       "      <td>0.008469</td>\n",
       "      <td>-0.024719</td>\n",
       "      <td>0.013767</td>\n",
       "      <td>0.007306</td>\n",
       "      <td>0.002101</td>\n",
       "    </tr>\n",
       "    <tr>\n",
       "      <th>3</th>\n",
       "      <td>14137</td>\n",
       "      <td>481662501998706689</td>\n",
       "      <td>I dont get it ?? Why all these kids think that...</td>\n",
       "      <td>&lt;a href=\"http://twitter.com\" rel=\"nofollow\"&gt;Tw...</td>\n",
       "      <td>2351203236</td>\n",
       "      <td>0</td>\n",
       "      <td>0</td>\n",
       "      <td>0</td>\n",
       "      <td>0</td>\n",
       "      <td>0</td>\n",
       "      <td>...</td>\n",
       "      <td>0.072505</td>\n",
       "      <td>-0.041395</td>\n",
       "      <td>-0.129447</td>\n",
       "      <td>0.136783</td>\n",
       "      <td>-0.030347</td>\n",
       "      <td>-0.006004</td>\n",
       "      <td>0.045349</td>\n",
       "      <td>-0.005475</td>\n",
       "      <td>-0.021612</td>\n",
       "      <td>0.073796</td>\n",
       "    </tr>\n",
       "    <tr>\n",
       "      <th>4</th>\n",
       "      <td>14138</td>\n",
       "      <td>519226736819838976</td>\n",
       "      <td>The client is not always right. - Enzo Ferrari</td>\n",
       "      <td>&lt;a href=\"http://tweetadder.com\" rel=\"nofollow\"...</td>\n",
       "      <td>326302120</td>\n",
       "      <td>0</td>\n",
       "      <td>0</td>\n",
       "      <td>0</td>\n",
       "      <td>0</td>\n",
       "      <td>0</td>\n",
       "      <td>...</td>\n",
       "      <td>0.029147</td>\n",
       "      <td>0.029978</td>\n",
       "      <td>0.082916</td>\n",
       "      <td>0.086045</td>\n",
       "      <td>0.136596</td>\n",
       "      <td>-0.004219</td>\n",
       "      <td>-0.043616</td>\n",
       "      <td>-0.105764</td>\n",
       "      <td>0.093672</td>\n",
       "      <td>-0.133154</td>\n",
       "    </tr>\n",
       "  </tbody>\n",
       "</table>\n",
       "<p>5 rows × 127 columns</p>\n",
       "</div>"
      ],
      "text/plain": [
       "   index                  id  \\\n",
       "0  14134  489788133534617600   \n",
       "1  14135  528134133336129537   \n",
       "2  14136  493096839814873088   \n",
       "3  14137  481662501998706689   \n",
       "4  14138  519226736819838976   \n",
       "\n",
       "                                                text  \\\n",
       "0  SE GLI UOMINI AVESSERO LE MESTRUAZIONI SI VANT...   \n",
       "1       Io ho avuto la mia croce, voi avete i saldi.   \n",
       "2  Quel momento in cui stai cercando di guardare ...   \n",
       "3  I dont get it ?? Why all these kids think that...   \n",
       "4     The client is not always right. - Enzo Ferrari   \n",
       "\n",
       "                                              source     user_id  \\\n",
       "0  <a href=\"http://www.giselecaldoro.it\" rel=\"nof...   466217028   \n",
       "1  <a href=\"http://twitter.isayadmin.com\" rel=\"no...   560482551   \n",
       "2  <a href=\"http://www.Gerlavine.com\" rel=\"nofoll...   466352701   \n",
       "3  <a href=\"http://twitter.com\" rel=\"nofollow\">Tw...  2351203236   \n",
       "4  <a href=\"http://tweetadder.com\" rel=\"nofollow\"...   326302120   \n",
       "\n",
       "   in_reply_to_status_id  in_reply_to_user_id  retweeted_status_id  \\\n",
       "0                      0                    0                    0   \n",
       "1                      0                    0                    0   \n",
       "2                      0                    0                    0   \n",
       "3                      0                    0                    0   \n",
       "4                      0                    0                    0   \n",
       "\n",
       "   retweet_count  reply_count  ...        90        91        92        93  \\\n",
       "0              0            0  ...  0.034402 -0.002235  0.007672  0.000714   \n",
       "1              0            0  ...  0.017546  0.009883  0.001294 -0.022846   \n",
       "2              0            0  ...  0.044246  0.035569 -0.017326 -0.015053   \n",
       "3              0            0  ...  0.072505 -0.041395 -0.129447  0.136783   \n",
       "4              0            0  ...  0.029147  0.029978  0.082916  0.086045   \n",
       "\n",
       "         94        95        96        97        98        99  \n",
       "0  0.002599  0.012253 -0.029592 -0.012752 -0.060439  0.024529  \n",
       "1 -0.049522 -0.062109  0.027471 -0.084768 -0.051446  0.055042  \n",
       "2  0.009579  0.008469 -0.024719  0.013767  0.007306  0.002101  \n",
       "3 -0.030347 -0.006004  0.045349 -0.005475 -0.021612  0.073796  \n",
       "4  0.136596 -0.004219 -0.043616 -0.105764  0.093672 -0.133154  \n",
       "\n",
       "[5 rows x 127 columns]"
      ]
     },
     "execution_count": 76,
     "metadata": {},
     "output_type": "execute_result"
    }
   ],
   "source": [
    "# Place the DataFrames side by side\n",
    "bots_tfid = pd.concat([bots, b_svdTFit], axis=1)\n",
    "bots_tfid.head()"
   ]
  },
  {
   "cell_type": "code",
   "execution_count": 77,
   "metadata": {},
   "outputs": [
    {
     "data": {
      "text/plain": [
       "(16953, 127)"
      ]
     },
     "execution_count": 77,
     "metadata": {},
     "output_type": "execute_result"
    }
   ],
   "source": [
    "bots_tfid.shape"
   ]
  },
  {
   "cell_type": "code",
   "execution_count": 78,
   "metadata": {},
   "outputs": [
    {
     "data": {
      "text/html": [
       "<div>\n",
       "<style scoped>\n",
       "    .dataframe tbody tr th:only-of-type {\n",
       "        vertical-align: middle;\n",
       "    }\n",
       "\n",
       "    .dataframe tbody tr th {\n",
       "        vertical-align: top;\n",
       "    }\n",
       "\n",
       "    .dataframe thead th {\n",
       "        text-align: right;\n",
       "    }\n",
       "</style>\n",
       "<table border=\"1\" class=\"dataframe\">\n",
       "  <thead>\n",
       "    <tr style=\"text-align: right;\">\n",
       "      <th></th>\n",
       "      <th>index</th>\n",
       "      <th>id</th>\n",
       "      <th>text</th>\n",
       "      <th>source</th>\n",
       "      <th>user_id</th>\n",
       "      <th>in_reply_to_status_id</th>\n",
       "      <th>in_reply_to_user_id</th>\n",
       "      <th>retweeted_status_id</th>\n",
       "      <th>retweet_count</th>\n",
       "      <th>reply_count</th>\n",
       "      <th>...</th>\n",
       "      <th>90</th>\n",
       "      <th>91</th>\n",
       "      <th>92</th>\n",
       "      <th>93</th>\n",
       "      <th>94</th>\n",
       "      <th>95</th>\n",
       "      <th>96</th>\n",
       "      <th>97</th>\n",
       "      <th>98</th>\n",
       "      <th>99</th>\n",
       "    </tr>\n",
       "  </thead>\n",
       "  <tbody>\n",
       "    <tr>\n",
       "      <th>0</th>\n",
       "      <td>0</td>\n",
       "      <td>464923544321683456</td>\n",
       "      <td>RT @leemausheng: 讓我來告訴你，在這個世間，到底什麼才算數。某企業家：限期給...</td>\n",
       "      <td>&lt;a href=\"http://twitter.com/download/iphone\" r...</td>\n",
       "      <td>15084319</td>\n",
       "      <td>0</td>\n",
       "      <td>0</td>\n",
       "      <td>464803463764144128</td>\n",
       "      <td>19</td>\n",
       "      <td>0</td>\n",
       "      <td>...</td>\n",
       "      <td>-0.000549</td>\n",
       "      <td>-0.001015</td>\n",
       "      <td>0.000268</td>\n",
       "      <td>-0.001251</td>\n",
       "      <td>0.000262</td>\n",
       "      <td>-0.000013</td>\n",
       "      <td>0.000826</td>\n",
       "      <td>-0.001704</td>\n",
       "      <td>0.000835</td>\n",
       "      <td>0.001195</td>\n",
       "    </tr>\n",
       "    <tr>\n",
       "      <th>1</th>\n",
       "      <td>1</td>\n",
       "      <td>342401325390245892</td>\n",
       "      <td>La vuelta a la casa suegra. Nancy (@ Alto jahu...</td>\n",
       "      <td>&lt;a href=\"http://foursquare.com\" rel=\"nofollow\"...</td>\n",
       "      <td>15367428</td>\n",
       "      <td>0</td>\n",
       "      <td>0</td>\n",
       "      <td>0</td>\n",
       "      <td>0</td>\n",
       "      <td>0</td>\n",
       "      <td>...</td>\n",
       "      <td>-0.009433</td>\n",
       "      <td>-0.009513</td>\n",
       "      <td>0.008955</td>\n",
       "      <td>-0.003861</td>\n",
       "      <td>-0.004125</td>\n",
       "      <td>-0.029189</td>\n",
       "      <td>-0.006144</td>\n",
       "      <td>0.005366</td>\n",
       "      <td>-0.005171</td>\n",
       "      <td>0.017325</td>\n",
       "    </tr>\n",
       "    <tr>\n",
       "      <th>2</th>\n",
       "      <td>2</td>\n",
       "      <td>420629059522277376</td>\n",
       "      <td>Que sueño que no se me quita este</td>\n",
       "      <td>&lt;a href=\"http://twitter.com/download/iphone\" r...</td>\n",
       "      <td>546533556</td>\n",
       "      <td>0</td>\n",
       "      <td>0</td>\n",
       "      <td>0</td>\n",
       "      <td>0</td>\n",
       "      <td>0</td>\n",
       "      <td>...</td>\n",
       "      <td>0.039439</td>\n",
       "      <td>0.008336</td>\n",
       "      <td>-0.033747</td>\n",
       "      <td>-0.004838</td>\n",
       "      <td>-0.027074</td>\n",
       "      <td>0.041557</td>\n",
       "      <td>-0.008889</td>\n",
       "      <td>-0.027886</td>\n",
       "      <td>-0.035983</td>\n",
       "      <td>0.011201</td>\n",
       "    </tr>\n",
       "    <tr>\n",
       "      <th>3</th>\n",
       "      <td>3</td>\n",
       "      <td>552927072403083264</td>\n",
       "      <td>RT @FreddyAmazin: when u cant tell if someone ...</td>\n",
       "      <td>&lt;a href=\"http://twitter.com/download/iphone\" r...</td>\n",
       "      <td>219379279</td>\n",
       "      <td>0</td>\n",
       "      <td>0</td>\n",
       "      <td>552922108293296128</td>\n",
       "      <td>2319</td>\n",
       "      <td>0</td>\n",
       "      <td>...</td>\n",
       "      <td>-0.024165</td>\n",
       "      <td>0.022408</td>\n",
       "      <td>-0.138919</td>\n",
       "      <td>0.041860</td>\n",
       "      <td>0.037810</td>\n",
       "      <td>0.040020</td>\n",
       "      <td>-0.030913</td>\n",
       "      <td>-0.097531</td>\n",
       "      <td>-0.030117</td>\n",
       "      <td>-0.037891</td>\n",
       "    </tr>\n",
       "    <tr>\n",
       "      <th>4</th>\n",
       "      <td>4</td>\n",
       "      <td>591900590122270720</td>\n",
       "      <td>Household chores or work-related tasks seem ov...</td>\n",
       "      <td>&lt;a href=\"http://www.twittascope.com\" rel=\"nofo...</td>\n",
       "      <td>25121744</td>\n",
       "      <td>0</td>\n",
       "      <td>0</td>\n",
       "      <td>0</td>\n",
       "      <td>0</td>\n",
       "      <td>0</td>\n",
       "      <td>...</td>\n",
       "      <td>-0.004212</td>\n",
       "      <td>-0.016241</td>\n",
       "      <td>-0.003062</td>\n",
       "      <td>0.005526</td>\n",
       "      <td>0.001088</td>\n",
       "      <td>0.009129</td>\n",
       "      <td>0.009806</td>\n",
       "      <td>0.005376</td>\n",
       "      <td>-0.010705</td>\n",
       "      <td>-0.004621</td>\n",
       "    </tr>\n",
       "  </tbody>\n",
       "</table>\n",
       "<p>5 rows × 127 columns</p>\n",
       "</div>"
      ],
      "text/plain": [
       "   index                  id  \\\n",
       "0      0  464923544321683456   \n",
       "1      1  342401325390245892   \n",
       "2      2  420629059522277376   \n",
       "3      3  552927072403083264   \n",
       "4      4  591900590122270720   \n",
       "\n",
       "                                                text  \\\n",
       "0  RT @leemausheng: 讓我來告訴你，在這個世間，到底什麼才算數。某企業家：限期給...   \n",
       "1  La vuelta a la casa suegra. Nancy (@ Alto jahu...   \n",
       "2                  Que sueño que no se me quita este   \n",
       "3  RT @FreddyAmazin: when u cant tell if someone ...   \n",
       "4  Household chores or work-related tasks seem ov...   \n",
       "\n",
       "                                              source    user_id  \\\n",
       "0  <a href=\"http://twitter.com/download/iphone\" r...   15084319   \n",
       "1  <a href=\"http://foursquare.com\" rel=\"nofollow\"...   15367428   \n",
       "2  <a href=\"http://twitter.com/download/iphone\" r...  546533556   \n",
       "3  <a href=\"http://twitter.com/download/iphone\" r...  219379279   \n",
       "4  <a href=\"http://www.twittascope.com\" rel=\"nofo...   25121744   \n",
       "\n",
       "   in_reply_to_status_id  in_reply_to_user_id  retweeted_status_id  \\\n",
       "0                      0                    0   464803463764144128   \n",
       "1                      0                    0                    0   \n",
       "2                      0                    0                    0   \n",
       "3                      0                    0   552922108293296128   \n",
       "4                      0                    0                    0   \n",
       "\n",
       "   retweet_count  reply_count  ...        90        91        92        93  \\\n",
       "0             19            0  ... -0.000549 -0.001015  0.000268 -0.001251   \n",
       "1              0            0  ... -0.009433 -0.009513  0.008955 -0.003861   \n",
       "2              0            0  ...  0.039439  0.008336 -0.033747 -0.004838   \n",
       "3           2319            0  ... -0.024165  0.022408 -0.138919  0.041860   \n",
       "4              0            0  ... -0.004212 -0.016241 -0.003062  0.005526   \n",
       "\n",
       "         94        95        96        97        98        99  \n",
       "0  0.000262 -0.000013  0.000826 -0.001704  0.000835  0.001195  \n",
       "1 -0.004125 -0.029189 -0.006144  0.005366 -0.005171  0.017325  \n",
       "2 -0.027074  0.041557 -0.008889 -0.027886 -0.035983  0.011201  \n",
       "3  0.037810  0.040020 -0.030913 -0.097531 -0.030117 -0.037891  \n",
       "4  0.001088  0.009129  0.009806  0.005376 -0.010705 -0.004621  \n",
       "\n",
       "[5 rows x 127 columns]"
      ]
     },
     "execution_count": 78,
     "metadata": {},
     "output_type": "execute_result"
    }
   ],
   "source": [
    "# Join Tfid with class df \n",
    "gen_tfid = pd.concat([gen, g_svdTFit], axis =1)\n",
    "gen_tfid.head()"
   ]
  },
  {
   "cell_type": "code",
   "execution_count": 79,
   "metadata": {},
   "outputs": [
    {
     "data": {
      "text/plain": [
       "(13559, 127)"
      ]
     },
     "execution_count": 79,
     "metadata": {},
     "output_type": "execute_result"
    }
   ],
   "source": [
    "gen_tfid.shape"
   ]
  },
  {
   "cell_type": "code",
   "execution_count": 80,
   "metadata": {},
   "outputs": [
    {
     "data": {
      "text/html": [
       "<div>\n",
       "<style scoped>\n",
       "    .dataframe tbody tr th:only-of-type {\n",
       "        vertical-align: middle;\n",
       "    }\n",
       "\n",
       "    .dataframe tbody tr th {\n",
       "        vertical-align: top;\n",
       "    }\n",
       "\n",
       "    .dataframe thead th {\n",
       "        text-align: right;\n",
       "    }\n",
       "</style>\n",
       "<table border=\"1\" class=\"dataframe\">\n",
       "  <thead>\n",
       "    <tr style=\"text-align: right;\">\n",
       "      <th></th>\n",
       "      <th>index</th>\n",
       "      <th>id</th>\n",
       "      <th>text</th>\n",
       "      <th>source</th>\n",
       "      <th>user_id</th>\n",
       "      <th>in_reply_to_status_id</th>\n",
       "      <th>in_reply_to_user_id</th>\n",
       "      <th>retweeted_status_id</th>\n",
       "      <th>retweet_count</th>\n",
       "      <th>reply_count</th>\n",
       "      <th>...</th>\n",
       "      <th>90</th>\n",
       "      <th>91</th>\n",
       "      <th>92</th>\n",
       "      <th>93</th>\n",
       "      <th>94</th>\n",
       "      <th>95</th>\n",
       "      <th>96</th>\n",
       "      <th>97</th>\n",
       "      <th>98</th>\n",
       "      <th>99</th>\n",
       "    </tr>\n",
       "  </thead>\n",
       "  <tbody>\n",
       "    <tr>\n",
       "      <th>0</th>\n",
       "      <td>14134</td>\n",
       "      <td>489788133534617600</td>\n",
       "      <td>SE GLI UOMINI AVESSERO LE MESTRUAZIONI SI VANT...</td>\n",
       "      <td>&lt;a href=\"http://www.giselecaldoro.it\" rel=\"nof...</td>\n",
       "      <td>466217028</td>\n",
       "      <td>0</td>\n",
       "      <td>0</td>\n",
       "      <td>0</td>\n",
       "      <td>0</td>\n",
       "      <td>0</td>\n",
       "      <td>...</td>\n",
       "      <td>0.034402</td>\n",
       "      <td>-0.002235</td>\n",
       "      <td>0.007672</td>\n",
       "      <td>0.000714</td>\n",
       "      <td>0.002599</td>\n",
       "      <td>0.012253</td>\n",
       "      <td>-0.029592</td>\n",
       "      <td>-0.012752</td>\n",
       "      <td>-0.060439</td>\n",
       "      <td>0.024529</td>\n",
       "    </tr>\n",
       "    <tr>\n",
       "      <th>1</th>\n",
       "      <td>14135</td>\n",
       "      <td>528134133336129537</td>\n",
       "      <td>Io ho avuto la mia croce, voi avete i saldi.</td>\n",
       "      <td>&lt;a href=\"http://twitter.isayadmin.com\" rel=\"no...</td>\n",
       "      <td>560482551</td>\n",
       "      <td>0</td>\n",
       "      <td>0</td>\n",
       "      <td>0</td>\n",
       "      <td>0</td>\n",
       "      <td>0</td>\n",
       "      <td>...</td>\n",
       "      <td>0.017546</td>\n",
       "      <td>0.009883</td>\n",
       "      <td>0.001294</td>\n",
       "      <td>-0.022846</td>\n",
       "      <td>-0.049522</td>\n",
       "      <td>-0.062109</td>\n",
       "      <td>0.027471</td>\n",
       "      <td>-0.084768</td>\n",
       "      <td>-0.051446</td>\n",
       "      <td>0.055042</td>\n",
       "    </tr>\n",
       "    <tr>\n",
       "      <th>2</th>\n",
       "      <td>14136</td>\n",
       "      <td>493096839814873088</td>\n",
       "      <td>Quel momento in cui stai cercando di guardare ...</td>\n",
       "      <td>&lt;a href=\"http://www.Gerlavine.com\" rel=\"nofoll...</td>\n",
       "      <td>466352701</td>\n",
       "      <td>0</td>\n",
       "      <td>0</td>\n",
       "      <td>0</td>\n",
       "      <td>0</td>\n",
       "      <td>0</td>\n",
       "      <td>...</td>\n",
       "      <td>0.044246</td>\n",
       "      <td>0.035569</td>\n",
       "      <td>-0.017326</td>\n",
       "      <td>-0.015053</td>\n",
       "      <td>0.009579</td>\n",
       "      <td>0.008469</td>\n",
       "      <td>-0.024719</td>\n",
       "      <td>0.013767</td>\n",
       "      <td>0.007306</td>\n",
       "      <td>0.002101</td>\n",
       "    </tr>\n",
       "    <tr>\n",
       "      <th>3</th>\n",
       "      <td>14137</td>\n",
       "      <td>481662501998706689</td>\n",
       "      <td>I dont get it ?? Why all these kids think that...</td>\n",
       "      <td>&lt;a href=\"http://twitter.com\" rel=\"nofollow\"&gt;Tw...</td>\n",
       "      <td>2351203236</td>\n",
       "      <td>0</td>\n",
       "      <td>0</td>\n",
       "      <td>0</td>\n",
       "      <td>0</td>\n",
       "      <td>0</td>\n",
       "      <td>...</td>\n",
       "      <td>0.072505</td>\n",
       "      <td>-0.041395</td>\n",
       "      <td>-0.129447</td>\n",
       "      <td>0.136783</td>\n",
       "      <td>-0.030347</td>\n",
       "      <td>-0.006004</td>\n",
       "      <td>0.045349</td>\n",
       "      <td>-0.005475</td>\n",
       "      <td>-0.021612</td>\n",
       "      <td>0.073796</td>\n",
       "    </tr>\n",
       "    <tr>\n",
       "      <th>4</th>\n",
       "      <td>14138</td>\n",
       "      <td>519226736819838976</td>\n",
       "      <td>The client is not always right. - Enzo Ferrari</td>\n",
       "      <td>&lt;a href=\"http://tweetadder.com\" rel=\"nofollow\"...</td>\n",
       "      <td>326302120</td>\n",
       "      <td>0</td>\n",
       "      <td>0</td>\n",
       "      <td>0</td>\n",
       "      <td>0</td>\n",
       "      <td>0</td>\n",
       "      <td>...</td>\n",
       "      <td>0.029147</td>\n",
       "      <td>0.029978</td>\n",
       "      <td>0.082916</td>\n",
       "      <td>0.086045</td>\n",
       "      <td>0.136596</td>\n",
       "      <td>-0.004219</td>\n",
       "      <td>-0.043616</td>\n",
       "      <td>-0.105764</td>\n",
       "      <td>0.093672</td>\n",
       "      <td>-0.133154</td>\n",
       "    </tr>\n",
       "  </tbody>\n",
       "</table>\n",
       "<p>5 rows × 127 columns</p>\n",
       "</div>"
      ],
      "text/plain": [
       "   index                  id  \\\n",
       "0  14134  489788133534617600   \n",
       "1  14135  528134133336129537   \n",
       "2  14136  493096839814873088   \n",
       "3  14137  481662501998706689   \n",
       "4  14138  519226736819838976   \n",
       "\n",
       "                                                text  \\\n",
       "0  SE GLI UOMINI AVESSERO LE MESTRUAZIONI SI VANT...   \n",
       "1       Io ho avuto la mia croce, voi avete i saldi.   \n",
       "2  Quel momento in cui stai cercando di guardare ...   \n",
       "3  I dont get it ?? Why all these kids think that...   \n",
       "4     The client is not always right. - Enzo Ferrari   \n",
       "\n",
       "                                              source     user_id  \\\n",
       "0  <a href=\"http://www.giselecaldoro.it\" rel=\"nof...   466217028   \n",
       "1  <a href=\"http://twitter.isayadmin.com\" rel=\"no...   560482551   \n",
       "2  <a href=\"http://www.Gerlavine.com\" rel=\"nofoll...   466352701   \n",
       "3  <a href=\"http://twitter.com\" rel=\"nofollow\">Tw...  2351203236   \n",
       "4  <a href=\"http://tweetadder.com\" rel=\"nofollow\"...   326302120   \n",
       "\n",
       "   in_reply_to_status_id  in_reply_to_user_id  retweeted_status_id  \\\n",
       "0                      0                    0                    0   \n",
       "1                      0                    0                    0   \n",
       "2                      0                    0                    0   \n",
       "3                      0                    0                    0   \n",
       "4                      0                    0                    0   \n",
       "\n",
       "   retweet_count  reply_count  ...        90        91        92        93  \\\n",
       "0              0            0  ...  0.034402 -0.002235  0.007672  0.000714   \n",
       "1              0            0  ...  0.017546  0.009883  0.001294 -0.022846   \n",
       "2              0            0  ...  0.044246  0.035569 -0.017326 -0.015053   \n",
       "3              0            0  ...  0.072505 -0.041395 -0.129447  0.136783   \n",
       "4              0            0  ...  0.029147  0.029978  0.082916  0.086045   \n",
       "\n",
       "         94        95        96        97        98        99  \n",
       "0  0.002599  0.012253 -0.029592 -0.012752 -0.060439  0.024529  \n",
       "1 -0.049522 -0.062109  0.027471 -0.084768 -0.051446  0.055042  \n",
       "2  0.009579  0.008469 -0.024719  0.013767  0.007306  0.002101  \n",
       "3 -0.030347 -0.006004  0.045349 -0.005475 -0.021612  0.073796  \n",
       "4  0.136596 -0.004219 -0.043616 -0.105764  0.093672 -0.133154  \n",
       "\n",
       "[5 rows x 127 columns]"
      ]
     },
     "execution_count": 80,
     "metadata": {},
     "output_type": "execute_result"
    }
   ],
   "source": [
    "# Concatenate bots_tfid and gen_tfid to create df for modeling \n",
    "df_tweets = pd.concat([bots_tfid, gen_tfid], ignore_index=True)\n",
    "\n",
    "df_tweets.head()"
   ]
  },
  {
   "cell_type": "code",
   "execution_count": 81,
   "metadata": {},
   "outputs": [],
   "source": [
    "# Drop unwanted columns \n",
    "df_tweets = df_tweets.drop(columns=['index','id','text','source','user_id','created_at', 'timestamp', 'crawled_at', \n",
    "                                    'updated','clean_tweets', 'month_year','in_reply_to_status_id','in_reply_to_user_id',\n",
    "                                   'retweeted_status_id'])"
   ]
  },
  {
   "cell_type": "code",
   "execution_count": 82,
   "metadata": {},
   "outputs": [
    {
     "data": {
      "text/plain": [
       "Index([ 'retweet_count',    'reply_count', 'favorite_count',   'num_hashtags',\n",
       "             'num_urls',   'num_mentions',          'class',           'hour',\n",
       "                'month',            'day',\n",
       "       ...\n",
       "                     90,               91,               92,               93,\n",
       "                     94,               95,               96,               97,\n",
       "                     98,               99],\n",
       "      dtype='object', length=113)"
      ]
     },
     "execution_count": 82,
     "metadata": {},
     "output_type": "execute_result"
    }
   ],
   "source": [
    "df_tweets.columns"
   ]
  },
  {
   "cell_type": "code",
   "execution_count": 83,
   "metadata": {},
   "outputs": [
    {
     "data": {
      "text/plain": [
       "(30512, 113)"
      ]
     },
     "execution_count": 83,
     "metadata": {},
     "output_type": "execute_result"
    }
   ],
   "source": [
    "df_tweets.shape"
   ]
  },
  {
   "cell_type": "code",
   "execution_count": 84,
   "metadata": {},
   "outputs": [
    {
     "data": {
      "text/plain": [
       "0"
      ]
     },
     "execution_count": 84,
     "metadata": {},
     "output_type": "execute_result"
    }
   ],
   "source": [
    "# Check for null values \n",
    "df_tweets.isnull().sum().sum()"
   ]
  },
  {
   "cell_type": "markdown",
   "metadata": {},
   "source": [
    "# Evaluating and Comparing Machine Learning Models\n",
    "In this section we will build, train, and evaluate several machine learning methods to classify tweets. We'll start with supervised learning algorithms, then move to unsupervised learning models for tweeter segmentation. \n",
    "\n",
    "\n",
    "## Supervised Learning: Building a Bot Classifer "
   ]
  },
  {
   "cell_type": "markdown",
   "metadata": {},
   "source": [
    "### Split Train and Test set¶\n",
    "Let's split dataset by using function train_test_split(). Here, the Dataset is broken into two parts in a ratio of 70:30. It means 70% data will be used for model training and 30% for model testing.\n",
    "\n",
    "To continue feature selection, we will start by using the original attributes in the raw training set."
   ]
  },
  {
   "cell_type": "code",
   "execution_count": 85,
   "metadata": {},
   "outputs": [],
   "source": [
    "# Set variables \n",
    "y = df_tweets['class']\n",
    "X = df_tweets.drop(columns=['class'])"
   ]
  },
  {
   "cell_type": "code",
   "execution_count": 86,
   "metadata": {},
   "outputs": [],
   "source": [
    "X_train, X_test, y_train, y_test = train_test_split(X, y, test_size=0.3, random_state=42, stratify=y)"
   ]
  },
  {
   "cell_type": "markdown",
   "metadata": {},
   "source": [
    "### Metric \n",
    "We will evaluate our models based on their predicted probability __ROC AUC score__. ROC AUC \"summarize the trade-off between the true positive rate and false positive rate for a predictive model using different probability thresholds\"[Brownlee](https://machinelearningmastery.com/roc-curves-and-precision-recall-curves-for-classification-in-python/).\n",
    "\n",
    "We’ll also focus on the __false positive rate__(FPR) and __false negative rate__(FNR). False positive rate is identifying genuine tweets as robot tweets. This could lead to disregarding value customer behavior information which can provide misleading data for future marketing campaigns and lower customer satisfaction. False negative rate is failure to label true robot tweets as bots tweets, which results in obtaining false customer information. \n",
    "\n",
    "FPR and FNR are reflected in the following metrics: \n",
    "\n",
    " * __Accuracy__: ratio of properly labeled accounts \n",
    "\n",
    " * __Precision__: ratio of correctly predicted positive observations to the total predicted positive observations. The question that this metric answer is of all tweets that are labeled as bots, how many are actually bots? High precision relates to the low false positive rate. \n",
    "\n",
    " * __Recall (Sensitivity)__: ratio of correctly predicted positive observations to the all observations in actual class - yes. The question recall answers is: Of all the tweets that were genereated by bots, how many did we label? \n",
    "\n",
    " \n",
    "### Model  Selection\n",
    "\n",
    "We will compare three different machine learning models:\n",
    "\n",
    "__Logistic Regression__\n",
    " * Serve as a baseline model since our task is binary \n",
    " * Assumes features are independent and captures linear relationships \n",
    " * Not being able to capture non-linear relationships may result in poor performance\n",
    "\n",
    "__Random Forest Classifer__\n",
    " * Ensemble model which aggregates several decision trees to reduce effects of noise \n",
    " * Handles higher dimensionality well and provides importance of variables for feature selection \n",
    " * Will tune parameters by selecting number of trees/estimators \n",
    "\n",
    "__Multiple-Perceptron-Classifer__\n",
    " * Deep Learning model that trains using backpropagation \n",
    " * Able to capture non-linear models\n",
    " * Will tune parameters by selecting features like hidden layers\n",
    "\n",
    "We will fit these models the appropiate training set.\n",
    "\n",
    "### Logistic Regression \n",
    "First, we'll create the model and train the model and make predictions on the testing data."
   ]
  },
  {
   "cell_type": "code",
   "execution_count": 87,
   "metadata": {},
   "outputs": [],
   "source": [
    "# Function to plot ROC curve \n",
    "def roc_curve(model, X_train, y_train, X_test, y_test):\n",
    "    y_pred_proba = model.predict_proba(X_train)[:, 1]\n",
    "    y_pred_proba2 = model.predict_proba(X_test)[:, 1]\n",
    "    fpr, tpr, thresholds = metrics.roc_curve(y_train, y_pred_proba)\n",
    "    fpr2, tpr2, thresholds = metrics.roc_curve(y_test, y_pred_proba2)\n",
    "\n",
    "    model_auc = metrics.roc_auc_score(y_train, y_pred_proba)\n",
    "    model_auc2 = metrics.roc_auc_score(y_test, y_pred_proba2)\n",
    "\n",
    "    fig, ax = plt.subplots()\n",
    "    ax.plot(fpr, tpr, label=\"Train, auc=\"+str(round(model_auc,4)))\n",
    "    ax.plot(fpr2, tpr2, label=\"Test, auc=\"+str(round(model_auc2,4)))\n",
    "\n",
    "    plt.title('ROC curve')\n",
    "    ax.legend(loc=4)\n",
    "    plt.xlabel('False Positive Rate')\n",
    "    plt.ylabel('True Positive Rate')\n",
    "\n",
    "    plt.show()"
   ]
  },
  {
   "cell_type": "code",
   "execution_count": 88,
   "metadata": {},
   "outputs": [
    {
     "name": "stderr",
     "output_type": "stream",
     "text": [
      "/Users/tsawaengsri/anaconda3/lib/python3.6/site-packages/sklearn/linear_model/logistic.py:433: FutureWarning: Default solver will be changed to 'lbfgs' in 0.22. Specify a solver to silence this warning.\n",
      "  FutureWarning)\n",
      "/Users/tsawaengsri/anaconda3/lib/python3.6/site-packages/sklearn/linear_model/logistic.py:433: FutureWarning: Default solver will be changed to 'lbfgs' in 0.22. Specify a solver to silence this warning.\n",
      "  FutureWarning)\n",
      "/Users/tsawaengsri/anaconda3/lib/python3.6/site-packages/sklearn/linear_model/logistic.py:433: FutureWarning: Default solver will be changed to 'lbfgs' in 0.22. Specify a solver to silence this warning.\n",
      "  FutureWarning)\n",
      "/Users/tsawaengsri/anaconda3/lib/python3.6/site-packages/sklearn/linear_model/logistic.py:433: FutureWarning: Default solver will be changed to 'lbfgs' in 0.22. Specify a solver to silence this warning.\n",
      "  FutureWarning)\n",
      "/Users/tsawaengsri/anaconda3/lib/python3.6/site-packages/sklearn/linear_model/logistic.py:433: FutureWarning: Default solver will be changed to 'lbfgs' in 0.22. Specify a solver to silence this warning.\n",
      "  FutureWarning)\n",
      "/Users/tsawaengsri/anaconda3/lib/python3.6/site-packages/sklearn/linear_model/logistic.py:433: FutureWarning: Default solver will be changed to 'lbfgs' in 0.22. Specify a solver to silence this warning.\n",
      "  FutureWarning)\n"
     ]
    },
    {
     "name": "stdout",
     "output_type": "stream",
     "text": [
      "[0.92592164 0.91052857 0.91668099 0.93319426 0.92667509]\n"
     ]
    }
   ],
   "source": [
    "# Logistic Regression Model \n",
    "lr = LogisticRegression()\n",
    "\n",
    "# Fit and predict \n",
    "lr.fit(X_train, y_train)\n",
    "lr_y_pred = lr.predict(X_test)\n",
    "\n",
    "# CV to check if overfitting \n",
    "print(cross_val_score(lr, X_train, y_train, cv=5, scoring='roc_auc'))"
   ]
  },
  {
   "cell_type": "code",
   "execution_count": 89,
   "metadata": {},
   "outputs": [
    {
     "name": "stdout",
     "output_type": "stream",
     "text": [
      "ROC_AUC: 85.62%\n",
      "Accuracy: 86.07%\n",
      "Recall: 89.68%\n",
      "Precision: 85.88%\n",
      "[[3318  750]\n",
      " [ 525 4561]]\n"
     ]
    }
   ],
   "source": [
    "# Calculate metrics\n",
    "lr_roc_auc = roc_auc_score(y_test, lr_y_pred)\n",
    "lr_accuracy = accuracy_score(y_test, lr_y_pred)\n",
    "lr_recall = recall_score(y_test, lr_y_pred)\n",
    "lr_precision = precision_score(y_test, lr_y_pred)\n",
    "\n",
    "# Print metrics\n",
    "print(\"ROC_AUC: %.2f%%\" % (lr_roc_auc * 100.0))\n",
    "print(\"Accuracy: %.2f%%\" % (lr_accuracy * 100.0))\n",
    "print('Recall: %.2f%%' % (lr_recall * 100.0))\n",
    "print('Precision: %.2f%%' % (lr_precision * 100.0))\n",
    "print(confusion_matrix(y_test, lr_y_pred))"
   ]
  },
  {
   "cell_type": "code",
   "execution_count": null,
   "metadata": {},
   "outputs": [],
   "source": [
    "# Logistic Model\n",
    "#parameters = {'C':np.logspace(-5,5)}\n",
    "#lr = LogisticRegression()\n",
    "#gsc_lr = GridSearchCV(lr, parameters, cv=5, scoring='roc_auc')\n",
    "#gsc_lr.fit(X_train, y_train)\n",
    "#print(gsc_lr.best_params_, gsc_lr.best_score_)\n",
    "\n",
    "# {'C': 1e-05} 0.771215887401393"
   ]
  },
  {
   "cell_type": "code",
   "execution_count": null,
   "metadata": {},
   "outputs": [],
   "source": [
    "# Optmizied Logistic Model\n",
    "#parameters = {}\n",
    "#parameters['penalty'] = ['l1', 'l2']\n",
    "#gsc_lr2 = LogisticRegression(C=1e-05)\n",
    "#gsc_lr2 = GridSearchCV(gsc_lr2, parameters, cv=5, scoring='roc_auc')\n",
    "#gsc_lr2.fit(X_train, y_train)\n",
    "#print(gsc_lr2.best_params_, gsc_lr2.best_score_)\n",
    "\n",
    "# NOTE: Took too long to process "
   ]
  },
  {
   "cell_type": "markdown",
   "metadata": {},
   "source": [
    "#### Optimized Logistic Regression Model \n",
    "After performing hyperparamter tuning, we will use the best parameters for optimal performance."
   ]
  },
  {
   "cell_type": "code",
   "execution_count": 90,
   "metadata": {},
   "outputs": [
    {
     "name": "stderr",
     "output_type": "stream",
     "text": [
      "/Users/tsawaengsri/anaconda3/lib/python3.6/site-packages/sklearn/linear_model/logistic.py:433: FutureWarning: Default solver will be changed to 'lbfgs' in 0.22. Specify a solver to silence this warning.\n",
      "  FutureWarning)\n"
     ]
    }
   ],
   "source": [
    "# Optimized Logistic Regression Model \n",
    "gsc_lr = LogisticRegression(C=1e-05)\n",
    "gsc_lr.fit(X_train, y_train)\n",
    "gsc_lr_y_pred = gsc_lr.predict(X_test)"
   ]
  },
  {
   "cell_type": "code",
   "execution_count": 91,
   "metadata": {},
   "outputs": [
    {
     "name": "stdout",
     "output_type": "stream",
     "text": [
      "ROC_AUC: 73.18%\n",
      "Accuracy: 75.03%\n",
      "Recall: 89.82%\n",
      "Precision: 72.10%\n",
      "[[2300 1768]\n",
      " [ 518 4568]]\n"
     ]
    }
   ],
   "source": [
    "# Calculate metrics\n",
    "gsc_lr_roc_auc = roc_auc_score(y_test, gsc_lr_y_pred)\n",
    "gsc_lr_accuracy = accuracy_score(y_test, gsc_lr_y_pred)\n",
    "gsc_lr_recall = recall_score(y_test, gsc_lr_y_pred)\n",
    "gsc_lr_precision = precision_score(y_test, gsc_lr_y_pred)\n",
    "\n",
    "# Print metrics\n",
    "print(\"ROC_AUC: %.2f%%\" % (gsc_lr_roc_auc * 100.0))\n",
    "print(\"Accuracy: %.2f%%\" % (gsc_lr_accuracy * 100.0))\n",
    "print('Recall: %.2f%%' % (gsc_lr_recall * 100.0))\n",
    "print('Precision: %.2f%%' % (gsc_lr_precision * 100.0))\n",
    "print(confusion_matrix(y_test, gsc_lr_y_pred))"
   ]
  },
  {
   "cell_type": "code",
   "execution_count": 92,
   "metadata": {},
   "outputs": [
    {
     "data": {
      "image/png": "[encoded data removed]",
      "text/plain": [
       "<Figure size 432x288 with 1 Axes>"
      ]
     },
     "metadata": {
      "needs_background": "light"
     },
     "output_type": "display_data"
    }
   ],
   "source": [
    "# Function to plot ROC curve \n",
    "roc_curve(gsc_lr, X_train, y_train, X_test, y_test)"
   ]
  },
  {
   "cell_type": "markdown",
   "metadata": {},
   "source": [
    "__Evaluation__: From cross validation, this model doesn't seem to be overfitting by much since the accuracry scores range between 0.70 to 0.73. With a recall of 80.45% and precision of 71.36%, this model was better at classifying robot tweets than geninue ones from human users. "
   ]
  },
  {
   "cell_type": "markdown",
   "metadata": {},
   "source": [
    "### Random Forest \n",
    "Let's try a more complex model to see if Random forest can capture the complexity within the dataset. "
   ]
  },
  {
   "cell_type": "code",
   "execution_count": 93,
   "metadata": {},
   "outputs": [
    {
     "name": "stdout",
     "output_type": "stream",
     "text": [
      "[0.99979504 0.99986717 0.99975144 0.999875   0.99993839]\n"
     ]
    }
   ],
   "source": [
    "# Random Forest Model \n",
    "rf = RandomForestClassifier(n_estimators=100, random_state=42)\n",
    "\n",
    "# Fit and predict\n",
    "rf.fit(X_train, y_train) \n",
    "rf_y_pred = rf.predict(X_test)\n",
    "\n",
    "# Check if model is overfitting \n",
    "print(cross_val_score(rf, X_train, y_train, cv=5, scoring='roc_auc'))"
   ]
  },
  {
   "cell_type": "code",
   "execution_count": 94,
   "metadata": {},
   "outputs": [
    {
     "name": "stdout",
     "output_type": "stream",
     "text": [
      "ROC_AUC: 99.56%\n",
      "Accuracy: 99.54%\n",
      "Recall: 99.37%\n",
      "Precision: 99.80%\n",
      "[[4058   10]\n",
      " [  32 5054]]\n"
     ]
    }
   ],
   "source": [
    "# Calculate metrics\n",
    "rf_roc_auc = roc_auc_score(y_test, rf_y_pred)\n",
    "rf_accuracy = accuracy_score(y_test, rf_y_pred)\n",
    "rf_recall = recall_score(y_test, rf_y_pred)\n",
    "rf_precision = precision_score(y_test, rf_y_pred)\n",
    "\n",
    "# Print metrics\n",
    "print(\"ROC_AUC: %.2f%%\" % (rf_roc_auc * 100.0))\n",
    "print(\"Accuracy: %.2f%%\" % (rf_accuracy * 100.0))\n",
    "print('Recall: %.2f%%' % (rf_recall * 100.0))\n",
    "print('Precision: %.2f%%' % (rf_precision * 100.0))\n",
    "print(confusion_matrix(y_test, rf_y_pred))\n"
   ]
  },
  {
   "cell_type": "code",
   "execution_count": null,
   "metadata": {},
   "outputs": [],
   "source": [
    "#Optimizing Random Forest\n",
    "#parameters = {}\n",
    "#parameters['criterion'] = ['entropy','gini']\n",
    "#parameters['n_estimators'] = [100,200,300]\n",
    "\n",
    "#gsc_rf = GridSearchCV(rf, parameters, cv=5, verbose=1, scoring='roc_auc')\n",
    "#gsc_rf.fit(X_train, y_train)\n",
    "#print(gsc_rf.best_params_, gsc_rf.best_score_)\n",
    "\n",
    "# {'criterion': 'entropy', 'n_estimators': 300} 0.9993297513905806"
   ]
  },
  {
   "cell_type": "markdown",
   "metadata": {},
   "source": [
    "#### Optmized Random Forest\n",
    "Now, we'll fit the selected parameters by GridSearchCV."
   ]
  },
  {
   "cell_type": "code",
   "execution_count": 95,
   "metadata": {},
   "outputs": [],
   "source": [
    "# Optimized Random Forest\n",
    "gsc_rf = RandomForestClassifier(n_estimators=300, criterion='entropy', random_state=42)\n",
    "gsc_rf.fit(X_train, y_train) \n",
    "gsc_rf_y_pred = gsc_rf.predict(X_test)"
   ]
  },
  {
   "cell_type": "code",
   "execution_count": 96,
   "metadata": {},
   "outputs": [
    {
     "name": "stdout",
     "output_type": "stream",
     "text": [
      "ROC_AUC: 99.59%\n",
      "Accuracy: 99.56%\n",
      "Recall: 99.37%\n",
      "Precision: 99.84%\n",
      "[[4060    8]\n",
      " [  32 5054]]\n"
     ]
    }
   ],
   "source": [
    "# Calculate metrics\n",
    "gsc_rf_roc_auc = roc_auc_score(y_test, gsc_rf_y_pred)\n",
    "gsc_rf_accuracy = accuracy_score(y_test, gsc_rf_y_pred)\n",
    "gsc_rf_recall = recall_score(y_test, gsc_rf_y_pred)\n",
    "gsc_rf_precision = precision_score(y_test, gsc_rf_y_pred)\n",
    "\n",
    "# Print metrics\n",
    "print(\"ROC_AUC: %.2f%%\" % (gsc_rf_roc_auc * 100.0))\n",
    "print(\"Accuracy: %.2f%%\" % (gsc_rf_accuracy * 100.0))\n",
    "print('Recall: %.2f%%' % (gsc_rf_recall * 100.0))\n",
    "print('Precision: %.2f%%' % (gsc_rf_precision * 100.0))\n",
    "print(confusion_matrix(y_test, gsc_rf_y_pred))"
   ]
  },
  {
   "cell_type": "code",
   "execution_count": 97,
   "metadata": {},
   "outputs": [
    {
     "data": {
      "image/png": "[encoded data removed]",
      "text/plain": [
       "<Figure size 432x288 with 1 Axes>"
      ]
     },
     "metadata": {
      "needs_background": "light"
     },
     "output_type": "display_data"
    }
   ],
   "source": [
    "# Function to plot ROC curve \n",
    "roc_curve(gsc_rf, X_train, y_train, X_test, y_test)"
   ]
  },
  {
   "cell_type": "markdown",
   "metadata": {},
   "source": [
    "__Evaluation__: The optimized random forest model drastically outperforms the logistic regression model. Based on the training data's cross validation score, the model is relatively stable by yielding accuracy score of 99%. On the test data, this model yield 99% for both recall and precision.  "
   ]
  },
  {
   "cell_type": "markdown",
   "metadata": {},
   "source": [
    "### Model Interpretation: Feature Importances\n",
    "For model interpretability, we will take a look at the feature importances of our optimized random forest. We may use these feature importances as a method of dimensionality reduction in future work."
   ]
  },
  {
   "cell_type": "code",
   "execution_count": 98,
   "metadata": {},
   "outputs": [
    {
     "data": {
      "text/html": [
       "<div>\n",
       "<style scoped>\n",
       "    .dataframe tbody tr th:only-of-type {\n",
       "        vertical-align: middle;\n",
       "    }\n",
       "\n",
       "    .dataframe tbody tr th {\n",
       "        vertical-align: top;\n",
       "    }\n",
       "\n",
       "    .dataframe thead th {\n",
       "        text-align: right;\n",
       "    }\n",
       "</style>\n",
       "<table border=\"1\" class=\"dataframe\">\n",
       "  <thead>\n",
       "    <tr style=\"text-align: right;\">\n",
       "      <th></th>\n",
       "      <th>Variable</th>\n",
       "      <th>Importance</th>\n",
       "    </tr>\n",
       "  </thead>\n",
       "  <tbody>\n",
       "    <tr>\n",
       "      <th>9</th>\n",
       "      <td>year</td>\n",
       "      <td>0.106153</td>\n",
       "    </tr>\n",
       "    <tr>\n",
       "      <th>14</th>\n",
       "      <td>2</td>\n",
       "      <td>0.077661</td>\n",
       "    </tr>\n",
       "    <tr>\n",
       "      <th>12</th>\n",
       "      <td>0</td>\n",
       "      <td>0.068544</td>\n",
       "    </tr>\n",
       "    <tr>\n",
       "      <th>5</th>\n",
       "      <td>num_mentions</td>\n",
       "      <td>0.062328</td>\n",
       "    </tr>\n",
       "    <tr>\n",
       "      <th>18</th>\n",
       "      <td>6</td>\n",
       "      <td>0.059793</td>\n",
       "    </tr>\n",
       "    <tr>\n",
       "      <th>15</th>\n",
       "      <td>3</td>\n",
       "      <td>0.057625</td>\n",
       "    </tr>\n",
       "    <tr>\n",
       "      <th>7</th>\n",
       "      <td>month</td>\n",
       "      <td>0.043152</td>\n",
       "    </tr>\n",
       "    <tr>\n",
       "      <th>25</th>\n",
       "      <td>13</td>\n",
       "      <td>0.037669</td>\n",
       "    </tr>\n",
       "    <tr>\n",
       "      <th>19</th>\n",
       "      <td>7</td>\n",
       "      <td>0.035003</td>\n",
       "    </tr>\n",
       "    <tr>\n",
       "      <th>21</th>\n",
       "      <td>9</td>\n",
       "      <td>0.034539</td>\n",
       "    </tr>\n",
       "  </tbody>\n",
       "</table>\n",
       "</div>"
      ],
      "text/plain": [
       "        Variable  Importance\n",
       "9           year    0.106153\n",
       "14             2    0.077661\n",
       "12             0    0.068544\n",
       "5   num_mentions    0.062328\n",
       "18             6    0.059793\n",
       "15             3    0.057625\n",
       "7          month    0.043152\n",
       "25            13    0.037669\n",
       "19             7    0.035003\n",
       "21             9    0.034539"
      ]
     },
     "execution_count": 98,
     "metadata": {},
     "output_type": "execute_result"
    }
   ],
   "source": [
    "# Top N importances\n",
    "N = 10\n",
    "importances = gsc_rf.feature_importances_\n",
    "std = np.std([tree.feature_importances_ for tree in gsc_rf.estimators_],\n",
    "             axis=0)\n",
    "\n",
    "# Create a dataframe\n",
    "importances_df = pd.DataFrame({'Variable':X.columns, 'Importance': importances})\n",
    "\n",
    "top_N = importances_df.sort_values(by=['Importance'], ascending=False).head(10)\n",
    "\n",
    "top_N"
   ]
  },
  {
   "cell_type": "code",
   "execution_count": 99,
   "metadata": {},
   "outputs": [
    {
     "data": {
      "image/png": "[encoded data removed]",
      "text/plain": [
       "<Figure size 432x288 with 1 Axes>"
      ]
     },
     "metadata": {
      "needs_background": "light"
     },
     "output_type": "display_data"
    }
   ],
   "source": [
    "# Creating a bar plot\n",
    "sns.barplot(y='Variable', x='Importance', data=top_N)\n",
    "# Add labels to your graph\n",
    "plt.xlabel('Feature Importance Score')\n",
    "plt.ylabel('Features')\n",
    "plt.title(\"Visualizing Random Forest Important Features\")\n",
    "plt.show()"
   ]
  },
  {
   "cell_type": "markdown",
   "metadata": {},
   "source": [
    "__Observation__: Year and counts of mentions in tweets were the most important features in classififying tweets. "
   ]
  },
  {
   "cell_type": "markdown",
   "metadata": {},
   "source": [
    "### Multi-Layer Preceptron Classifier\n",
    "\n",
    "To capture non-linear relationships within the dataset, we'll test out MLP. "
   ]
  },
  {
   "cell_type": "code",
   "execution_count": 100,
   "metadata": {},
   "outputs": [
    {
     "name": "stdout",
     "output_type": "stream",
     "text": [
      "[0.92944852 0.93409681 0.92198477 0.92534937 0.93387632]\n"
     ]
    }
   ],
   "source": [
    "# Establish and fit the model\n",
    "mlp = MLPClassifier(max_iter=100) \n",
    "\n",
    "# Fit and predict\n",
    "mlp.fit(X_train, y_train)\n",
    "mlp_y_pred = mlp.predict(X_test)\n",
    "\n",
    "# Check for overfitting\n",
    "print(cross_val_score(mlp, X_train, y_train, cv=5, scoring='roc_auc'))\n",
    "# Default param(hidden_layer_sizes: 100, activation: ‘relu’, solver: adam’, alpha: 0.0001, learning_rate: ‘constant’)"
   ]
  },
  {
   "cell_type": "code",
   "execution_count": 101,
   "metadata": {},
   "outputs": [
    {
     "name": "stdout",
     "output_type": "stream",
     "text": [
      "ROC_AUC: 86.94%\n",
      "Accuracy: 86.78%\n",
      "Recall: 85.51%\n",
      "Precision: 90.19%\n",
      "[[3595  473]\n",
      " [ 737 4349]]\n"
     ]
    }
   ],
   "source": [
    "# Calculate metrics\n",
    "mlp_roc_auc = roc_auc_score(y_test, mlp_y_pred)\n",
    "mlp_accuracy = accuracy_score(y_test, mlp_y_pred)\n",
    "mlp_recall = recall_score(y_test, mlp_y_pred)\n",
    "mlp_precision = precision_score(y_test, mlp_y_pred)\n",
    "\n",
    "# Print metrics\n",
    "print(\"ROC_AUC: %.2f%%\" % (mlp_roc_auc * 100.0))\n",
    "print(\"Accuracy: %.2f%%\" % (mlp_accuracy * 100.0))\n",
    "print('Recall: %.2f%%' % (mlp_recall * 100.0))\n",
    "print('Precision: %.2f%%' % (mlp_precision * 100.0))\n",
    "print(confusion_matrix(y_test, mlp_y_pred))"
   ]
  },
  {
   "cell_type": "code",
   "execution_count": null,
   "metadata": {},
   "outputs": [],
   "source": [
    "#parameters = {\n",
    "    #'hidden_layer_sizes': [(50,50,50), (50,100,50), (100,)],\n",
    "    #'activation': ['tanh', 'relu'],\n",
    "    #'solver': ['sgd', 'adam'],\n",
    "   # 'alpha': [0.0001, 0.05],\n",
    "    #'learning_rate': ['constant','adaptive'],\n",
    "#}\n",
    "\n",
    "#gsc_mlp = GridSearchCV(mlp, parameters, cv=5, n_jobs=-1, scoring='roc_auc')\n",
    "#gsc_mlp.fit(X_train, y_train)\n",
    "#print(gsc_mlp.best_params_, gsc_mlp.best_score_)\n"
   ]
  },
  {
   "cell_type": "markdown",
   "metadata": {},
   "source": [
    "#### Optimized MLP\n",
    "Now, we'll use the best parameters to fit the model."
   ]
  },
  {
   "cell_type": "code",
   "execution_count": 102,
   "metadata": {},
   "outputs": [
    {
     "name": "stderr",
     "output_type": "stream",
     "text": [
      "/Users/tsawaengsri/anaconda3/lib/python3.6/site-packages/sklearn/neural_network/multilayer_perceptron.py:562: ConvergenceWarning: Stochastic Optimizer: Maximum iterations (100) reached and the optimization hasn't converged yet.\n",
      "  % self.max_iter, ConvergenceWarning)\n"
     ]
    }
   ],
   "source": [
    "# Establish and fit the model\n",
    "gsc_mlp = MLPClassifier(max_iter=100, activation='tanh', alpha= 0.0001, hidden_layer_sizes=(100,), \n",
    "                        learning_rate='adaptive', solver='adam') \n",
    "gsc_mlp.fit(X_train, y_train)\n",
    "gsc_mlp_y_pred = gsc_mlp.predict(X_test)"
   ]
  },
  {
   "cell_type": "code",
   "execution_count": 103,
   "metadata": {},
   "outputs": [
    {
     "name": "stdout",
     "output_type": "stream",
     "text": [
      "ROC_AUC: 89.11%\n",
      "Accuracy: 89.26%\n",
      "Recall: 90.44%\n",
      "Precision: 90.25%\n",
      "[[3571  497]\n",
      " [ 486 4600]]\n"
     ]
    }
   ],
   "source": [
    "# Calculate metrics\n",
    "gsc_mlp_roc_auc = roc_auc_score(y_test, gsc_mlp_y_pred)\n",
    "gsc_mlp_accuracy = accuracy_score(y_test, gsc_mlp_y_pred)\n",
    "gsc_mlp_recall = recall_score(y_test, gsc_mlp_y_pred)\n",
    "gsc_mlp_precision = precision_score(y_test, gsc_mlp_y_pred)\n",
    "\n",
    "# Print metrics\n",
    "print(\"ROC_AUC: %.2f%%\" % (gsc_mlp_roc_auc * 100.0))\n",
    "print(\"Accuracy: %.2f%%\" % (gsc_mlp_accuracy * 100.0))\n",
    "print('Recall: %.2f%%' % (gsc_mlp_recall * 100.0))\n",
    "print('Precision: %.2f%%' % (gsc_mlp_precision * 100.0))\n",
    "print(confusion_matrix(y_test, gsc_mlp_y_pred))"
   ]
  },
  {
   "cell_type": "code",
   "execution_count": 104,
   "metadata": {},
   "outputs": [
    {
     "data": {
      "image/png": "[encoded data removed]",
      "text/plain": [
       "<Figure size 432x288 with 1 Axes>"
      ]
     },
     "metadata": {
      "needs_background": "light"
     },
     "output_type": "display_data"
    }
   ],
   "source": [
    "# Function to plot ROC curve \n",
    "roc_curve(gsc_mlp, X_train, y_train, X_test, y_test)"
   ]
  },
  {
   "cell_type": "markdown",
   "metadata": {},
   "source": [
    "__Evaluation__: The optimized MLP is comparable to the random forest model. After tuning, recall score increased from 85% to 90%. Precision remained the same (90%). "
   ]
  },
  {
   "cell_type": "markdown",
   "metadata": {},
   "source": [
    "## Supervised Learning Results"
   ]
  },
  {
   "cell_type": "code",
   "execution_count": 105,
   "metadata": {},
   "outputs": [
    {
     "data": {
      "text/html": [
       "<div>\n",
       "<style scoped>\n",
       "    .dataframe tbody tr th:only-of-type {\n",
       "        vertical-align: middle;\n",
       "    }\n",
       "\n",
       "    .dataframe tbody tr th {\n",
       "        vertical-align: top;\n",
       "    }\n",
       "\n",
       "    .dataframe thead th {\n",
       "        text-align: right;\n",
       "    }\n",
       "</style>\n",
       "<table border=\"1\" class=\"dataframe\">\n",
       "  <thead>\n",
       "    <tr style=\"text-align: right;\">\n",
       "      <th></th>\n",
       "      <th>Model</th>\n",
       "      <th>ROC_AUC</th>\n",
       "      <th>Accuracy</th>\n",
       "      <th>Recall</th>\n",
       "      <th>Precision</th>\n",
       "    </tr>\n",
       "  </thead>\n",
       "  <tbody>\n",
       "    <tr>\n",
       "      <th>1</th>\n",
       "      <td>Random Forest</td>\n",
       "      <td>0.995871</td>\n",
       "      <td>0.995630</td>\n",
       "      <td>0.993708</td>\n",
       "      <td>0.998420</td>\n",
       "    </tr>\n",
       "    <tr>\n",
       "      <th>2</th>\n",
       "      <td>Multi-Layer Preceptron Neural Network</td>\n",
       "      <td>0.891135</td>\n",
       "      <td>0.892615</td>\n",
       "      <td>0.904444</td>\n",
       "      <td>0.902492</td>\n",
       "    </tr>\n",
       "    <tr>\n",
       "      <th>0</th>\n",
       "      <td>Logistic Regression</td>\n",
       "      <td>0.731770</td>\n",
       "      <td>0.750273</td>\n",
       "      <td>0.898152</td>\n",
       "      <td>0.720960</td>\n",
       "    </tr>\n",
       "  </tbody>\n",
       "</table>\n",
       "</div>"
      ],
      "text/plain": [
       "                                   Model   ROC_AUC  Accuracy    Recall  \\\n",
       "1                          Random Forest  0.995871  0.995630  0.993708   \n",
       "2  Multi-Layer Preceptron Neural Network  0.891135  0.892615  0.904444   \n",
       "0                    Logistic Regression  0.731770  0.750273  0.898152   \n",
       "\n",
       "   Precision  \n",
       "1   0.998420  \n",
       "2   0.902492  \n",
       "0   0.720960  "
      ]
     },
     "execution_count": 105,
     "metadata": {},
     "output_type": "execute_result"
    }
   ],
   "source": [
    "# Dataframe to hold the results\n",
    "model_comparison = pd.DataFrame({'Model': ['Logistic Regression', 'Random Forest',\n",
    "                                           'Multi-Layer Preceptron Neural Network'],\n",
    "                                 'ROC_AUC': [gsc_lr_roc_auc, gsc_rf_roc_auc, gsc_mlp_roc_auc],\n",
    "                                'Accuracy': [gsc_lr_accuracy, gsc_rf_accuracy, gsc_mlp_accuracy],\n",
    "                                'Recall': [gsc_lr_recall, gsc_rf_recall, gsc_mlp_recall],\n",
    "                                'Precision': [gsc_lr_precision, gsc_rf_precision, gsc_mlp_precision]})\n",
    "\n",
    "# Horizontal bar chart of \n",
    "model_comparison.sort_values('ROC_AUC', ascending = False)"
   ]
  },
  {
   "cell_type": "markdown",
   "metadata": {},
   "source": [
    "#### Which model performed best?\n",
    "As we can see, random forest and mlp were the top models across all metrics. However, the average scores of the random forest model remained within 99% for all metrics while mlp scores ranged from 89% to 90%."
   ]
  },
  {
   "cell_type": "markdown",
   "metadata": {},
   "source": [
    "## Unsupervised Learning: Segmenting Tweets\n",
    "\n",
    "In the previous section, we built several models to classify tweets and identified feature importance with random forest. We will continue to examine tweeting patterns from genuine and bot users through clustering. \n",
    "\n",
    "First, let's try to get a better understanding of what a tweet from a genuine user might consist of. \n"
   ]
  },
  {
   "cell_type": "markdown",
   "metadata": {},
   "source": [
    "### Distinction between class \n",
    "Let's check if there are any tweeting obvious patterns in the data. "
   ]
  },
  {
   "cell_type": "code",
   "execution_count": 106,
   "metadata": {},
   "outputs": [
    {
     "name": "stdout",
     "output_type": "stream",
     "text": [
      "       retweet_count  reply_count  favorite_count  num_hashtags  num_urls  \\\n",
      "class                                                                       \n",
      "0         856.005605          0.0        0.460211      0.247585  0.151044   \n",
      "1          25.649855          0.0        0.583849      0.076506  0.211762   \n",
      "\n",
      "       num_mentions       hour     month        day         year     length  \\\n",
      "class                                                                         \n",
      "0          0.782064  11.270448  5.308504  16.186961  2014.266686  73.462128   \n",
      "1          0.082699  13.163570  8.407185  16.858078  2013.948446  83.962013   \n",
      "\n",
      "       num_of_words  \n",
      "class                \n",
      "0         11.521499  \n",
      "1         14.111721  \n"
     ]
    }
   ],
   "source": [
    "# Groupby categories and take the mean\n",
    "df = df_tweets.loc[:,['retweet_count','reply_count','favorite_count','num_hashtags','num_urls','num_mentions','hour','month',\n",
    "                  'day','year','length','num_of_words', 'class']]\n",
    "print(df.groupby('class').mean())"
   ]
  },
  {
   "cell_type": "markdown",
   "metadata": {},
   "source": [
    "__Observation__: Based on the summary, the average retweet count for genuine tweets is substantially higher than tweets by bots. Genuine tweets tend to contain more hastags and mentions. Let's take a closer look at those features. "
   ]
  },
  {
   "cell_type": "code",
   "execution_count": 107,
   "metadata": {},
   "outputs": [
    {
     "name": "stdout",
     "output_type": "stream",
     "text": [
      "0        23523\n",
      "1         2544\n",
      "2          793\n",
      "3          401\n",
      "4          243\n",
      "         ...  \n",
      "3608         1\n",
      "15870        1\n",
      "7594         1\n",
      "1449         1\n",
      "7860         1\n",
      "Name: retweet_count, Length: 1236, dtype: int64\n"
     ]
    }
   ],
   "source": [
    "# Group by num_mentions groups and get the mean\n",
    "df.groupby('retweet_count').mean()\n",
    "\n",
    "# Count the values of the observations in each num_mentions group\n",
    "print(df['retweet_count'].value_counts())"
   ]
  },
  {
   "cell_type": "code",
   "execution_count": 144,
   "metadata": {},
   "outputs": [
    {
     "data": {
      "image/png": "[encoded data removed]",
      "text/plain": [
       "<Figure size 1008x504 with 2 Axes>"
      ]
     },
     "metadata": {
      "needs_background": "light"
     },
     "output_type": "display_data"
    }
   ],
   "source": [
    "# Create two dataframes with fraud and non-fraud data \n",
    "bots = df.loc[df['class'] == 1] \n",
    "gen = df.loc[df['class'] == 0]\n",
    "\n",
    "plt.figure(figsize=(14,7))\n",
    "\n",
    "# Plot histograms of the retweet_count in bot and gen tweets\n",
    "plt.subplot(1, 2, 1)\n",
    "plt.hist(bots.retweet_count, label='Bots')\n",
    "plt.hist(gen.retweet_count, label='Gen')\n",
    "plt.xlabel('# Retweets')\n",
    "plt.ylabel('# Counts')\n",
    "plt.title('Counts of Retweets')\n",
    "plt.legend()\n",
    "\n",
    "# Plot histograms of the num_mentions in bot and gen tweets\n",
    "plt.subplot(1, 2, 2)\n",
    "plt.hist(bots.num_mentions, label='Bots')\n",
    "plt.hist(gen.num_mentions, label='Gen')\n",
    "plt.xlabel('# Mentions')\n",
    "plt.ylabel('# Counts')\n",
    "plt.title('Counts of Mentions')\n",
    "plt.legend()\n",
    "plt.show()"
   ]
  },
  {
   "cell_type": "markdown",
   "metadata": {},
   "source": [
    "__Observation__: We can observe several genuine tweets that have more than 100,000 retweets. This may have skewed the average retweet count for genuine tweets. Likewise with the number of mentions, there are a couple of tweets that consists of 6 mentions or more while the average mention is around 2 for genuine tweets."
   ]
  },
  {
   "cell_type": "markdown",
   "metadata": {},
   "source": [
    "## Clustering\n",
    "Before we can begin clustering, we must reduce dimensions."
   ]
  },
  {
   "cell_type": "markdown",
   "metadata": {},
   "source": [
    "### TSNE\n",
    "\n",
    "t-distributed Stochastic Neighbor Embedding converts similarities between data points to joint probabilities and tries to minimize the Kullback-Leibler divergence between the joint probabilities of the low-dimensional embedding and the high-dimensional data.  "
   ]
  },
  {
   "cell_type": "code",
   "execution_count": 145,
   "metadata": {},
   "outputs": [],
   "source": [
    "# Define varaibles \n",
    "y = df['class']\n",
    "X = df.loc[:,['retweet_count','reply_count','favorite_count','num_hashtags','num_urls','num_mentions','hour','month',\n",
    "                  'day','year','length','num_of_words']]"
   ]
  },
  {
   "cell_type": "code",
   "execution_count": 146,
   "metadata": {},
   "outputs": [
    {
     "name": "stdout",
     "output_type": "stream",
     "text": [
      "[t-SNE] Computing 91 nearest neighbors...\n",
      "[t-SNE] Indexed 30512 samples in 0.954s...\n",
      "[t-SNE] Computed neighbors for 30512 samples in 4.163s...\n",
      "[t-SNE] Computed conditional probabilities for sample 1000 / 30512\n",
      "[t-SNE] Computed conditional probabilities for sample 2000 / 30512\n",
      "[t-SNE] Computed conditional probabilities for sample 3000 / 30512\n",
      "[t-SNE] Computed conditional probabilities for sample 4000 / 30512\n",
      "[t-SNE] Computed conditional probabilities for sample 5000 / 30512\n",
      "[t-SNE] Computed conditional probabilities for sample 6000 / 30512\n",
      "[t-SNE] Computed conditional probabilities for sample 7000 / 30512\n",
      "[t-SNE] Computed conditional probabilities for sample 8000 / 30512\n",
      "[t-SNE] Computed conditional probabilities for sample 9000 / 30512\n",
      "[t-SNE] Computed conditional probabilities for sample 10000 / 30512\n",
      "[t-SNE] Computed conditional probabilities for sample 11000 / 30512\n",
      "[t-SNE] Computed conditional probabilities for sample 12000 / 30512\n",
      "[t-SNE] Computed conditional probabilities for sample 13000 / 30512\n",
      "[t-SNE] Computed conditional probabilities for sample 14000 / 30512\n",
      "[t-SNE] Computed conditional probabilities for sample 15000 / 30512\n",
      "[t-SNE] Computed conditional probabilities for sample 16000 / 30512\n",
      "[t-SNE] Computed conditional probabilities for sample 17000 / 30512\n",
      "[t-SNE] Computed conditional probabilities for sample 18000 / 30512\n",
      "[t-SNE] Computed conditional probabilities for sample 19000 / 30512\n",
      "[t-SNE] Computed conditional probabilities for sample 20000 / 30512\n",
      "[t-SNE] Computed conditional probabilities for sample 21000 / 30512\n",
      "[t-SNE] Computed conditional probabilities for sample 22000 / 30512\n",
      "[t-SNE] Computed conditional probabilities for sample 23000 / 30512\n",
      "[t-SNE] Computed conditional probabilities for sample 24000 / 30512\n",
      "[t-SNE] Computed conditional probabilities for sample 25000 / 30512\n",
      "[t-SNE] Computed conditional probabilities for sample 26000 / 30512\n",
      "[t-SNE] Computed conditional probabilities for sample 27000 / 30512\n",
      "[t-SNE] Computed conditional probabilities for sample 28000 / 30512\n",
      "[t-SNE] Computed conditional probabilities for sample 29000 / 30512\n",
      "[t-SNE] Computed conditional probabilities for sample 30000 / 30512\n",
      "[t-SNE] Computed conditional probabilities for sample 30512 / 30512\n",
      "[t-SNE] Mean sigma: 2.513741\n",
      "[t-SNE] KL divergence after 250 iterations with early exaggeration: 87.737823\n",
      "[t-SNE] KL divergence after 1000 iterations: 2.059126\n",
      "(30512, 2)\n"
     ]
    }
   ],
   "source": [
    "# TSNE to reduce dimension from 12 to 2\n",
    "tsne = TSNE(n_components=2, verbose=1, random_state=42)\n",
    "tsne_tfidf = tsne.fit_transform(X)\n",
    "\n",
    "# Summary of transformation\n",
    "print(tsne_tfidf.shape)"
   ]
  },
  {
   "cell_type": "code",
   "execution_count": 147,
   "metadata": {},
   "outputs": [
    {
     "data": {
      "text/plain": [
       "array([[ 12.123332, -12.607758],\n",
       "       [-26.992933,  43.946346],\n",
       "       [ 50.774147, -17.281273],\n",
       "       ...,\n",
       "       [-24.757174,  29.582657],\n",
       "       [-29.525333,  45.80219 ],\n",
       "       [ 11.619129, -22.338581]], dtype=float32)"
      ]
     },
     "execution_count": 147,
     "metadata": {},
     "output_type": "execute_result"
    }
   ],
   "source": [
    "tsne_tfidf"
   ]
  },
  {
   "cell_type": "code",
   "execution_count": 148,
   "metadata": {},
   "outputs": [],
   "source": [
    "# Utility function to visualize the outputs of t-SNE\n",
    "\n",
    "def fashion_scatter(x, colors):\n",
    "    # choose a color palette with seaborn.\n",
    "    num_classes = len(np.unique(colors))\n",
    "    palette = np.array(sns.color_palette(\"hls\", num_classes))\n",
    "\n",
    "    # create a scatter plot.\n",
    "    f = plt.figure(figsize=(8, 8))\n",
    "    ax = plt.subplot(aspect='equal')\n",
    "    sc = ax.scatter(x[:,0], x[:,1], lw=0, s=40, c=palette[colors.astype(np.int)])\n",
    "    plt.xlim(-25, 25)\n",
    "    plt.ylim(-25, 25)\n",
    "    ax.axis('off')\n",
    "    ax.axis('tight')\n",
    "\n",
    "    # add the labels for each digit corresponding to the label\n",
    "    txts = []\n",
    "\n",
    "    for i in range(num_classes):\n",
    "\n",
    "        # Position of each label at median of data points.\n",
    "\n",
    "        xtext, ytext = np.median(x[colors == i, :], axis=0)\n",
    "        txt = ax.text(xtext, ytext, str(i), fontsize=24)\n",
    "        txt.set_path_effects([\n",
    "            PathEffects.Stroke(linewidth=5, foreground=\"w\"),\n",
    "            PathEffects.Normal()])\n",
    "        txts.append(txt)\n",
    "\n",
    "    return f, ax, sc, txts"
   ]
  },
  {
   "cell_type": "code",
   "execution_count": 149,
   "metadata": {},
   "outputs": [
    {
     "name": "stdout",
     "output_type": "stream",
     "text": [
      "[0 1]\n"
     ]
    }
   ],
   "source": [
    "# Subset first 20k data points to visualize\n",
    "x_subset = tsne_tfidf[0:20000]\n",
    "y_subset = y_train[0:20000]\n",
    "\n",
    "print(np.unique(y_subset))"
   ]
  },
  {
   "cell_type": "code",
   "execution_count": 150,
   "metadata": {},
   "outputs": [
    {
     "data": {
      "text/plain": [
       "(<Figure size 576x576 with 1 Axes>,\n",
       " <matplotlib.axes._subplots.AxesSubplot at 0x1a3b7ec160>,\n",
       " <matplotlib.collections.PathCollection at 0x1a387e9470>,\n",
       " [Text(5.508264, -0.9640268, '0'), Text(3.898435, -1.0320632, '1')])"
      ]
     },
     "execution_count": 150,
     "metadata": {},
     "output_type": "execute_result"
    },
    {
     "data": {
      "image/png": "[encoded data removed]",
      "text/plain": [
       "<Figure size 576x576 with 1 Axes>"
      ]
     },
     "metadata": {
      "needs_background": "light"
     },
     "output_type": "display_data"
    }
   ],
   "source": [
    "fashion_scatter(x_subset, y_subset)"
   ]
  },
  {
   "cell_type": "markdown",
   "metadata": {},
   "source": [
    "__Observation__: There aren't major distinct clusters between tweets generated by humans and robots."
   ]
  },
  {
   "cell_type": "markdown",
   "metadata": {},
   "source": [
    "### KMeans Classifer\n",
    "Let's see KMeans is label tweets outside of it's centroid as tweets from robots."
   ]
  },
  {
   "cell_type": "code",
   "execution_count": 152,
   "metadata": {},
   "outputs": [],
   "source": [
    "# Define the scaler and apply to the data\n",
    "scaler = MinMaxScaler()\n",
    "X_scaled = scaler.fit_transform(tsne_tfidf)"
   ]
  },
  {
   "cell_type": "code",
   "execution_count": 153,
   "metadata": {},
   "outputs": [
    {
     "data": {
      "text/plain": [
       "MiniBatchKMeans(batch_size=100, compute_labels=True, init='k-means++',\n",
       "        init_size=None, max_iter=100, max_no_improvement=10, n_clusters=8,\n",
       "        n_init=3, random_state=42, reassignment_ratio=0.01, tol=0.0,\n",
       "        verbose=0)"
      ]
     },
     "execution_count": 153,
     "metadata": {},
     "output_type": "execute_result"
    }
   ],
   "source": [
    "# Define the model \n",
    "kmeans = MiniBatchKMeans(n_clusters=8, random_state=42)\n",
    "\n",
    "# Fit the model to the scaled data\n",
    "kmeans.fit(X_scaled)"
   ]
  },
  {
   "cell_type": "code",
   "execution_count": 154,
   "metadata": {},
   "outputs": [
    {
     "data": {
      "image/png": "[encoded data removed]",
      "text/plain": [
       "<Figure size 432x288 with 1 Axes>"
      ]
     },
     "metadata": {
      "needs_background": "light"
     },
     "output_type": "display_data"
    }
   ],
   "source": [
    "# Define the range of clusters to try\n",
    "clustno = range(1, 10)\n",
    "\n",
    "# Run MiniBatch Kmeans over the number of clusters\n",
    "kmeans = [MiniBatchKMeans(n_clusters=i) for i in clustno]\n",
    "\n",
    "# Obtain the score for each model\n",
    "score = [kmeans[i].fit(X_scaled).score(X_scaled) for i in range(len(kmeans))]\n",
    "\n",
    "# Plot the models and their respective score \n",
    "plt.plot(clustno, score)\n",
    "plt.xlabel('Number of Clusters')\n",
    "plt.ylabel('Score')\n",
    "plt.title('Elbow Curve')\n",
    "plt.show()"
   ]
  },
  {
   "cell_type": "markdown",
   "metadata": {},
   "source": [
    "__Observation__: Based on the Elbow Curve, 3 appears to the optimal number of clusters. "
   ]
  },
  {
   "cell_type": "code",
   "execution_count": 155,
   "metadata": {},
   "outputs": [],
   "source": [
    "# Split the data into training and test set\n",
    "X_train, X_test, y_train, y_test = train_test_split(X_scaled, y, test_size=0.3, random_state=42)\n",
    "\n",
    "# Define K-means model \n",
    "kmeans = MiniBatchKMeans(n_clusters=3, random_state=42).fit(X_train)\n",
    "\n",
    "# Obtain predictions and calculate distance from cluster centroid\n",
    "X_test_clusters = kmeans.predict(X_test)\n",
    "X_test_clusters_centers = kmeans.cluster_centers_\n",
    "dist = [np.linalg.norm(x-y) for x, y in zip(X_test, X_test_clusters_centers[X_test_clusters])]\n",
    "\n",
    "# Create bot tweets predictions based on outliers on clusters \n",
    "km_y_pred = np.array(dist)\n",
    "km_y_pred[dist >= np.percentile(dist, 95)] = 1\n",
    "km_y_pred[dist < np.percentile(dist, 95)] = 0"
   ]
  },
  {
   "cell_type": "code",
   "execution_count": 159,
   "metadata": {},
   "outputs": [
    {
     "name": "stdout",
     "output_type": "stream",
     "text": [
      "ROC_AUC: 46.78%\n",
      "Accuracy: 41.47%\n",
      "Recall: 2.17%\n",
      "Precision: 24.24%\n",
      "[[3685  347]\n",
      " [5011  111]]\n"
     ]
    }
   ],
   "source": [
    "# Calculate metrics\n",
    "km_roc_auc = roc_auc_score(y_test, km_y_pred)\n",
    "km_accuracy = accuracy_score(y_test, km_y_pred)\n",
    "km_recall = recall_score(y_test, km_y_pred)\n",
    "km_precision = precision_score(y_test, km_y_pred)\n",
    "\n",
    "# Print metrics\n",
    "print(\"ROC_AUC: %.2f%%\" % (km_roc_auc * 100.0))\n",
    "print(\"Accuracy: %.2f%%\" % (km_accuracy * 100.0))\n",
    "print('Recall: %.2f%%' % (km_recall * 100.0))\n",
    "print('Precision: %.2f%%' % (km_precision * 100.0))\n",
    "print(confusion_matrix(y_test, km_y_pred))"
   ]
  },
  {
   "cell_type": "markdown",
   "metadata": {},
   "source": [
    "__Evaluation__: Classifying tweets from robots based on cluser outliers is not a recommend techquie. The Kmean model was not able to distingish differences between robot and genuine tweets. "
   ]
  },
  {
   "cell_type": "markdown",
   "metadata": {},
   "source": [
    "## Tweets Segmentation \n",
    "In this section, we will perform clustering to examine tweet patterns within each cluster. \n",
    "\n",
    "### Metrics \n",
    "__Homogeneity__: measures how many members of a single class is within a cluster. Score ranges between 0.0 and 1.0. 1.0 stands for perfectly homogeneous labeling.\n",
    "\n",
    "__Silhouette Coefficient__: the mean distance between a sample and all other points in the same class (a), the mean distance between a sample and all other points in the next nearest cluster (b), divided by whichever of the two values is highest. A coefficients near +1 indicate that the sample is far away from the neighboring clusters. A value of 0 indicates that the sample is on or very close to the decision boundary between two neighboring clusters and negative values indicate that those samples might have been assigned to the wrong cluster.[Resource](https://scikit-learn.org/stable/auto_examples/cluster/plot_kmeans_silhouette_analysis.html#sphx-glr-auto-examples-cluster-plot-kmeans-silhouette-analysis-py)\n",
    "\n",
    "### KMeans\n",
    "This algorithm partitions the dataset into clusters to form homogeneous groups. Through an iterative process, it places random centroids and groups the closest datapoint to centroids. The group mean distance to the centroid is calculated and the process will repeat until optimized."
   ]
  },
  {
   "cell_type": "code",
   "execution_count": 161,
   "metadata": {},
   "outputs": [
    {
     "data": {
      "image/png": "[encoded data removed]",
      "text/plain": [
       "<Figure size 432x288 with 1 Axes>"
      ]
     },
     "metadata": {
      "needs_background": "light"
     },
     "output_type": "display_data"
    },
    {
     "name": "stdout",
     "output_type": "stream",
     "text": [
      "Comparing k-means clusters against the data:\n",
      "class     0     1\n",
      "row_0            \n",
      "0      3669  6361\n",
      "1      3971  6433\n",
      "2      5919  4159\n"
     ]
    }
   ],
   "source": [
    "# Fit values\n",
    "km1 = KMeans(n_clusters=3, random_state=42).fit(X_scaled)\n",
    "\n",
    "# Obtain the predicted labels and calculate number of clusters\n",
    "km1_y_pred = km1.labels_\n",
    "\n",
    "# Plot the solution.\n",
    "plt.scatter(X_scaled[:, 0], X_scaled[:, 1], c=km1_y_pred)\n",
    "plt.show()\n",
    "\n",
    "# Check the solution against the data\n",
    "print('Comparing k-means clusters against the data:')\n",
    "print(pd.crosstab(km1_y_pred, y))"
   ]
  },
  {
   "cell_type": "code",
   "execution_count": 164,
   "metadata": {},
   "outputs": [
    {
     "name": "stdout",
     "output_type": "stream",
     "text": [
      "Homogeneity: 0.030\n",
      "Silhouette Coefficient: 0.397\n"
     ]
    }
   ],
   "source": [
    "# Calculate metrics\n",
    "km1_homo = homogeneity_score(y, km1_y_pred)\n",
    "km1_sil = silhouette_score(X_scaled, km1_y_pred)\n",
    "\n",
    "# Print metrics\n",
    "print(\"Homogeneity: %0.3f\" % km1_homo)\n",
    "print(\"Silhouette Coefficient: %0.3f\" % km1_sil)"
   ]
  },
  {
   "cell_type": "code",
   "execution_count": 165,
   "metadata": {},
   "outputs": [
    {
     "data": {
      "image/png": "[encoded data removed]",
      "text/plain": [
       "<Figure size 432x288 with 1 Axes>"
      ]
     },
     "metadata": {},
     "output_type": "display_data"
    }
   ],
   "source": [
    "# Use the elbow method to see what is the optimal amount of clusters.\n",
    "\n",
    "# k means determine k\n",
    "distortions = []\n",
    "K = range(1,20)\n",
    "for k in K:\n",
    "    kmeanModel = KMeans(n_clusters=k).fit(X_scaled)\n",
    "    kmeanModel.fit(X_scaled)\n",
    "    distortions.append(sum(np.min(cdist(X_scaled, kmeanModel.cluster_centers_, 'euclidean'), axis=1)) / X_scaled.shape[0])\n",
    "\n",
    "# Plot the elbow\n",
    "sns.set_style('darkgrid')\n",
    "plt.plot(K, distortions, 'bx-')\n",
    "plt.xlabel('k')\n",
    "plt.ylabel('Distortion')\n",
    "plt.title('The Elbow Method showing the optimal k')\n",
    "plt.show()"
   ]
  },
  {
   "cell_type": "markdown",
   "metadata": {},
   "source": [
    "__Observation__: The elbow method recommends 5 clusters"
   ]
  },
  {
   "cell_type": "code",
   "execution_count": 166,
   "metadata": {},
   "outputs": [
    {
     "data": {
      "image/png": "[encoded data removed]",
      "text/plain": [
       "<Figure size 432x288 with 1 Axes>"
      ]
     },
     "metadata": {},
     "output_type": "display_data"
    },
    {
     "name": "stdout",
     "output_type": "stream",
     "text": [
      "Comparing k-means clusters against the data:\n",
      "class     0     1\n",
      "row_0            \n",
      "0      2627  3400\n",
      "1      2620  3356\n",
      "2      4133  1812\n",
      "3      2334  4016\n",
      "4      1845  4369\n"
     ]
    }
   ],
   "source": [
    "# Fit values\n",
    "km2 = KMeans(n_clusters=5, random_state=42).fit(X_scaled)\n",
    "\n",
    "# Obtain the predicted labels and calculate number of clusters\n",
    "km2_y_pred = km2.labels_\n",
    "\n",
    "# Plot the solution.\n",
    "plt.scatter(X_scaled[:, 0], X_scaled[:, 1], c=km2_y_pred)\n",
    "plt.show()\n",
    "\n",
    "# Check the solution against the data\n",
    "print('Comparing k-means clusters against the data:')\n",
    "print(pd.crosstab(km2_y_pred, y))"
   ]
  },
  {
   "cell_type": "code",
   "execution_count": 167,
   "metadata": {},
   "outputs": [
    {
     "name": "stdout",
     "output_type": "stream",
     "text": [
      "Homogeneity: 0.054\n",
      "Silhouette Coefficient: 0.358\n"
     ]
    }
   ],
   "source": [
    "# Calculate metrics\n",
    "km2_homo = homogeneity_score(y, km2_y_pred)\n",
    "km2_sil = silhouette_score(X_scaled, km2_y_pred)\n",
    "\n",
    "# Print metrics\n",
    "print(\"Homogeneity: %0.3f\" % km2_homo)\n",
    "print(\"Silhouette Coefficient: %0.3f\" % km2_sil)"
   ]
  },
  {
   "cell_type": "markdown",
   "metadata": {},
   "source": [
    "#### MiniBatch\n",
    "To reduce computationally time, we'll use Mini Batch only sample random observations."
   ]
  },
  {
   "cell_type": "code",
   "execution_count": 174,
   "metadata": {},
   "outputs": [
    {
     "data": {
      "image/png": "[encoded data removed]",
      "text/plain": [
       "<Figure size 432x288 with 1 Axes>"
      ]
     },
     "metadata": {},
     "output_type": "display_data"
    }
   ],
   "source": [
    "# Use the elbow method to see what is the optimal amount of clusters.\n",
    "\n",
    "# k means determine k\n",
    "distortions = []\n",
    "K = range(1,20)\n",
    "for k in K:\n",
    "    kmeanModel = MiniBatchKMeans(n_clusters=k).fit(X_scaled)\n",
    "    kmeanModel.fit(X_scaled)\n",
    "    distortions.append(sum(np.min(cdist(X_scaled, kmeanModel.cluster_centers_, 'euclidean'), axis=1)) / X_scaled.shape[0])\n",
    "\n",
    "# Plot the elbow\n",
    "sns.set_style('darkgrid')\n",
    "plt.plot(K, distortions, 'bx-')\n",
    "plt.xlabel('k')\n",
    "plt.ylabel('Distortion')\n",
    "plt.title('The Elbow Method showing the optimal k')\n",
    "plt.show()"
   ]
  },
  {
   "cell_type": "code",
   "execution_count": 175,
   "metadata": {},
   "outputs": [
    {
     "data": {
      "image/png": "[encoded data removed]",
      "text/plain": [
       "<Figure size 432x288 with 1 Axes>"
      ]
     },
     "metadata": {},
     "output_type": "display_data"
    },
    {
     "name": "stdout",
     "output_type": "stream",
     "text": [
      "Comparing k-means clusters against the data:\n",
      "class     0     1\n",
      "row_0            \n",
      "0      4376  6256\n",
      "1      5950  4277\n",
      "2      3233  6420\n"
     ]
    }
   ],
   "source": [
    "# Fit values\n",
    "mb = MiniBatchKMeans(n_clusters=3, random_state=42).fit(X_scaled)\n",
    "\n",
    "# Obtain the predicted labels and calculate number of clusters\n",
    "mb_y_pred = mb.labels_\n",
    "\n",
    "# Plot the solution.\n",
    "plt.scatter(X_scaled[:, 0], X_scaled[:, 1], c=mb_y_pred)\n",
    "plt.show()\n",
    "\n",
    "# Check the solution against the data\n",
    "print('Comparing k-means clusters against the data:')\n",
    "print(pd.crosstab(mb_y_pred, y))"
   ]
  },
  {
   "cell_type": "code",
   "execution_count": 176,
   "metadata": {},
   "outputs": [
    {
     "name": "stdout",
     "output_type": "stream",
     "text": [
      "Homogeneity: 0.031\n",
      "Silhouette Coefficient: 0.387\n"
     ]
    }
   ],
   "source": [
    "# Calculate metrics\n",
    "mb_homo = homogeneity_score(y, mb_y_pred)\n",
    "mb_sil = silhouette_score(X_scaled, mb_y_pred)\n",
    "\n",
    "# Print metrics\n",
    "print(\"Homogeneity: %0.3f\" % mb_homo)\n",
    "print(\"Silhouette Coefficient: %0.3f\" % mb_sil)"
   ]
  },
  {
   "cell_type": "markdown",
   "metadata": {},
   "source": [
    "### DBSCAN\n",
    "Density-based spatial clustering of applications with noise (DBSCAN) is a density based method that groups together points with many nearby neighbors. Although we do not have to pre-select the number of clusters, we must define the minimum number of datapoints to make up a group. "
   ]
  },
  {
   "cell_type": "code",
   "execution_count": 170,
   "metadata": {},
   "outputs": [
    {
     "data": {
      "image/png": "[encoded data removed]",
      "text/plain": [
       "<Figure size 432x288 with 1 Axes>"
      ]
     },
     "metadata": {},
     "output_type": "display_data"
    },
    {
     "name": "stdout",
     "output_type": "stream",
     "text": [
      "Comparing DBSCAN clusters against the data:\n",
      "class      0      1\n",
      "row_0              \n",
      "0      13559  16953\n"
     ]
    }
   ],
   "source": [
    "# Initialize and fit the DBscan model\n",
    "db = DBSCAN(eps=0.9, min_samples=10, n_jobs=-1).fit(X_scaled)\n",
    "\n",
    "# Obtain the predicted labels and calculate number of clusters\n",
    "db_y_pred = db.labels_\n",
    "n_clusters = len(set(db_y_pred)) - (1 if -1 in db_y_pred else 0)\n",
    "\n",
    "# Plot the solution.\n",
    "plt.scatter(X_scaled[:, 0], X_scaled[:, 1], c=db_y_pred)\n",
    "plt.show()\n",
    "\n",
    "# Check the solution against the data\n",
    "print('Comparing DBSCAN clusters against the data:')\n",
    "print(pd.crosstab(db_y_pred, y))"
   ]
  },
  {
   "cell_type": "code",
   "execution_count": null,
   "metadata": {},
   "outputs": [],
   "source": [
    "# Calculate metrics\n",
    "#db_homo = homogeneity_score(y, db_y_pred)\n",
    "#db_sil = silhouette_score(X_scaled, db_y_pred)\n",
    "\n",
    "# Print number of clusters\n",
    "#print('Estimated number of clusters: %d' % n_clusters)\n",
    "\n",
    "# Print metrics\n",
    "#print(\"Homogeneity: %0.3f\" % db_homo)\n",
    "#print(\"Silhouette Coefficient: %0.3f\" % db_sil)\n",
    "\n",
    "# Error: ValueError: Number of labels is 1. Valid values are 2 to n_samples - 1 (inclusive)"
   ]
  },
  {
   "cell_type": "markdown",
   "metadata": {},
   "source": [
    "__Evaluation__: DBSCAN clustered the data into 1 group so we are unable to calculate silhouette score. This model was not able to form different clusters for tweet analysis."
   ]
  },
  {
   "cell_type": "markdown",
   "metadata": {},
   "source": [
    "### Mean-shift \n",
    "Mean shift clustering is a sliding-window-based algorithm that attempts to find dense areas of data points. It is a centroid-based algorithm meaning that the goal is to locate the center points of each group/class, which works by updating candidates for center points to be the mean of the points within the sliding-window. "
   ]
  },
  {
   "cell_type": "code",
   "execution_count": 172,
   "metadata": {},
   "outputs": [
    {
     "data": {
      "image/png": "[encoded data removed]",
      "text/plain": [
       "<Figure size 432x288 with 1 Axes>"
      ]
     },
     "metadata": {},
     "output_type": "display_data"
    },
    {
     "name": "stdout",
     "output_type": "stream",
     "text": [
      "Comparing k-means clusters against the data:\n",
      "class      0      1\n",
      "row_0              \n",
      "0      13559  16953\n",
      "Number of estimated clusters: 1\n"
     ]
    }
   ],
   "source": [
    "# Here we set the bandwidth. This function automatically derives a bandwidth\n",
    "# number based on an inspection of the distances among points in the data.\n",
    "bandwidth = estimate_bandwidth(X_scaled, quantile=0.2, n_samples=1000)\n",
    "\n",
    "# Declare and fit the model.\n",
    "ms = MeanShift(bandwidth=bandwidth, bin_seeding=True).fit(X_scaled)\n",
    "\n",
    "# Obtain the predicted labels and calculate number of clusters\n",
    "ms_y_pred = ms.labels_\n",
    "\n",
    "# Plot the solution.\n",
    "plt.scatter(X_scaled[:, 0], X_scaled[:, 1], c=ms_y_pred)\n",
    "plt.show()\n",
    "\n",
    "# Check the solution against the data\n",
    "print('Comparing k-means clusters against the data:')\n",
    "print(pd.crosstab(ms_y_pred, y))\n",
    "\n",
    "# Coordinates of the cluster centers.\n",
    "cluster_centers = ms.cluster_centers_\n",
    "\n",
    "# Count our clusters.\n",
    "ms_n_clusters = len(np.unique(ms_y_pred))\n",
    "\n",
    "print(\"Number of estimated clusters: {}\".format(ms_n_clusters))"
   ]
  },
  {
   "cell_type": "code",
   "execution_count": null,
   "metadata": {},
   "outputs": [],
   "source": [
    "# Calculate metrics\n",
    "#ms_homo = homogeneity_score(y, ms_y_pred)\n",
    "#ms_sil = silhouette_score(X_scaled, ms_y_pred)\n",
    "\n",
    "# Print metrics\n",
    "#print(\"Homogeneity: %0.3f\" % ms_homo)\n",
    "#print(\"Silhouette Coefficient: %0.3f\" % ms_sil)\n",
    "\n",
    "# Note: ValueError: Number of labels is 1. Valid values are 2 to n_samples - 1 (inclusive)"
   ]
  },
  {
   "cell_type": "markdown",
   "metadata": {},
   "source": [
    "__Evaluation__: Like the DBSCAN model, Mean Shift model formed 1 group."
   ]
  },
  {
   "cell_type": "markdown",
   "metadata": {},
   "source": [
    "## Unsupervised Learning Conclusion \n"
   ]
  },
  {
   "cell_type": "code",
   "execution_count": 177,
   "metadata": {},
   "outputs": [
    {
     "data": {
      "text/html": [
       "<div>\n",
       "<style scoped>\n",
       "    .dataframe tbody tr th:only-of-type {\n",
       "        vertical-align: middle;\n",
       "    }\n",
       "\n",
       "    .dataframe tbody tr th {\n",
       "        vertical-align: top;\n",
       "    }\n",
       "\n",
       "    .dataframe thead th {\n",
       "        text-align: right;\n",
       "    }\n",
       "</style>\n",
       "<table border=\"1\" class=\"dataframe\">\n",
       "  <thead>\n",
       "    <tr style=\"text-align: right;\">\n",
       "      <th></th>\n",
       "      <th>Model</th>\n",
       "      <th>Homogeneity</th>\n",
       "      <th>Silhouette Coefficient</th>\n",
       "    </tr>\n",
       "  </thead>\n",
       "  <tbody>\n",
       "    <tr>\n",
       "      <th>1</th>\n",
       "      <td>KMeans (5 clusters)</td>\n",
       "      <td>0.053649</td>\n",
       "      <td>0.357679</td>\n",
       "    </tr>\n",
       "    <tr>\n",
       "      <th>2</th>\n",
       "      <td>MiniBatch (3 clusters)</td>\n",
       "      <td>0.031083</td>\n",
       "      <td>0.386702</td>\n",
       "    </tr>\n",
       "    <tr>\n",
       "      <th>0</th>\n",
       "      <td>KMeans (3 clusters)</td>\n",
       "      <td>0.029825</td>\n",
       "      <td>0.397359</td>\n",
       "    </tr>\n",
       "  </tbody>\n",
       "</table>\n",
       "</div>"
      ],
      "text/plain": [
       "                    Model  Homogeneity  Silhouette Coefficient\n",
       "1     KMeans (5 clusters)     0.053649                0.357679\n",
       "2  MiniBatch (3 clusters)     0.031083                0.386702\n",
       "0     KMeans (3 clusters)     0.029825                0.397359"
      ]
     },
     "execution_count": 177,
     "metadata": {},
     "output_type": "execute_result"
    }
   ],
   "source": [
    "# Dataframe to hold the results\n",
    "cluster_comparison = pd.DataFrame({'Model': ['KMeans (3 clusters)','KMeans (5 clusters)', 'MiniBatch (3 clusters)'],\n",
    "                                 'Homogeneity': [km1_homo, km2_homo, mb_homo],\n",
    "                                'Silhouette Coefficient': [km1_sil, km2_sil, mb_sil]})\n",
    "\n",
    "# Horizontal bar chart of \n",
    "cluster_comparison.sort_values('Homogeneity', ascending = False)"
   ]
  },
  {
   "cell_type": "markdown",
   "metadata": {},
   "source": [
    "__Which clustering method should we use?__ <br>\n",
    "Given that the data is spirical and dense, homogeneity score of each cluster should be weighted more than the silhouette coefficent. KMeans with 5 clusteres had the highest homogeneity score noting that datapoints in the clusters were similar to each other. "
   ]
  },
  {
   "cell_type": "markdown",
   "metadata": {},
   "source": [
    "## Cluster Analysis\n",
    "Now, we will explore the trends within each cluster."
   ]
  },
  {
   "cell_type": "code",
   "execution_count": 179,
   "metadata": {},
   "outputs": [
    {
     "name": "stdout",
     "output_type": "stream",
     "text": [
      "                    retweet_count  reply_count  favorite_count  num_hashtags  \\\n",
      "cluster_assignment                                                             \n",
      "0                       59.411150          0.0        0.727559      0.195122   \n",
      "1                     1953.496821          0.0        0.344545      0.095214   \n",
      "2                        0.340118          0.0        0.443061      0.082086   \n",
      "3                        0.737795          0.0        0.644724      0.253228   \n",
      "4                        0.409881          0.0        0.477309      0.130834   \n",
      "\n",
      "                    num_urls  num_mentions       hour     month        day  \\\n",
      "cluster_assignment                                                           \n",
      "0                   0.221669      0.482993  12.751950  7.032852  23.838062   \n",
      "1                   0.283802      0.347222  12.432731  7.508534  10.208333   \n",
      "2                   0.054500      0.419680  11.267620  5.699411  18.598318   \n",
      "3                   0.176693      0.435276  12.080945  7.278268  17.895433   \n",
      "4                   0.186675      0.283392  13.055037  7.587222  12.293853   \n",
      "\n",
      "                           year      length  num_of_words     class  \n",
      "cluster_assignment                                                   \n",
      "0                   2014.108512   80.376804     12.802887  0.564128  \n",
      "1                   2014.095382   61.301707      9.492470  0.561580  \n",
      "2                   2014.222540   32.178974      5.212616  0.304794  \n",
      "3                   2014.022677  127.046772     21.247874  0.632441  \n",
      "4                   2014.008207   91.834567     15.393145  0.703090  \n"
     ]
    }
   ],
   "source": [
    "df['cluster_assignment'] = km2_y_pred\n",
    "print(df.groupby('cluster_assignment').mean())"
   ]
  },
  {
   "cell_type": "markdown",
   "metadata": {},
   "source": [
    "__Cluster 0__: This cluster consists of an equal ratio of genuine and bot tweets. The average retweet count was 59 and average tweet length was around 80 characters. \n",
    "\n",
    "__Cluster 1__: Similar to Cluster 0, this group is made up of half bots and genuine tweets. However, the average retweet count is 1,953 indicating that the algorithm placed majority of high retweets in this group. \n",
    "\n",
    "__Cluster 2__: This Cluster contained the most genuine tweets with a ratio of 70:30 genuine to bot. Majority of tweets in this group was collected in May while the month of July was the most frequent for other groups. These genuine tweets don't include much words or urls in their tweets making the average tweet length the smallest compared to other groups. \n",
    "\n",
    "__Cluster 3__: These tweets were longer than other clusters with an average tweet length of 127 characters and used an average of 21 words. \n",
    "\n",
    "__Cluster 4__: Bot tweets make up most of this cluster. The average length of tweet is 91 which is much higher than cluster 2. Cluster 2 and 4 share many traits in terms of low retweet count, favorite count, and number of mentions.\n",
    "\n"
   ]
  },
  {
   "cell_type": "markdown",
   "metadata": {},
   "source": [
    "# Conclusion\n",
    "\n",
    "__Summary__\n",
    "* Text Processing with Count Vectorization and Tidf Transformer\n",
    "* Supervised Learning \n",
    "* Clustering \n",
    "\n",
    "__Future Work__\n",
    "* Incorporate User data\n",
    "* Look into the evolution of spambots and their behaviors\n"
   ]
  }
 ],
 "metadata": {
  "kernelspec": {
   "display_name": "Python 3",
   "language": "python",
   "name": "python3"
  },
  "language_info": {
   "codemirror_mode": {
    "name": "ipython",
    "version": 3
   },
   "file_extension": ".py",
   "mimetype": "text/x-python",
   "name": "python",
   "nbconvert_exporter": "python",
   "pygments_lexer": "ipython3",
   "version": "3.6.8"
  }
 },
 "nbformat": 4,
 "nbformat_minor": 2
}
