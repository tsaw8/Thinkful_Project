{
 "cells": [
  {
   "cell_type": "markdown",
   "metadata": {},
   "source": [
    "# Twitter Bot Classifier Part 2\n",
    "\n",
    "In this series of notebooks, we are using the [Fake Project](https://botometer.iuni.iu.edu/bot-repository/datasets.html) dataset to examine users habits and build a Twitter bot classifier. \n",
    " \n",
    "Previously, we looked into the potential threats that Twitter bot accounts pose. While some are harmless, others aim to manipulate and deceive viewers. We gathered several Twitter files from the Fake Project to assemble a Tweets and Users datasets. Null values have been dropped and tables have been formatted. Now, we will take a closer look into the features by conducting exploratory data analysis. \n",
    "\n",
    "## Tweets Table\n",
    "\n",
    "In this notebook, we will focus on exploring the tweets table. "
   ]
  },
  {
   "cell_type": "code",
   "execution_count": 1,
   "metadata": {},
   "outputs": [],
   "source": [
    "# Numpy and pandas\n",
    "import pandas as pd\n",
    "import numpy as np\n",
    "\n",
    "#Visualization\n",
    "import matplotlib.pyplot as plt\n",
    "import seaborn as sns\n",
    "import matplotlib.patheffects as PathEffects\n",
    "\n",
    "#NLP tools\n",
    "import string\n",
    "import re\n",
    "import nltk\n",
    "from nltk.corpus import stopwords\n",
    "from googletrans import Translator\n",
    "\n",
    "# NLP feature selection \n",
    "from sklearn.feature_extraction.text import CountVectorizer\n",
    "from sklearn.feature_extraction.text import TfidfTransformer\n",
    "from sklearn.decomposition import TruncatedSVD\n",
    "\n",
    "# Sklearn data clean\n",
    "from sklearn.preprocessing import LabelEncoder\n",
    "from sklearn.impute import SimpleImputer\n",
    "from sklearn.preprocessing import MinMaxScaler\n",
    "\n",
    "# Model selection\n",
    "from sklearn.pipeline import Pipeline\n",
    "from sklearn.model_selection import train_test_split\n",
    "from sklearn.feature_selection import SelectFromModel\n",
    "from sklearn.preprocessing import StandardScaler\n",
    "from sklearn.model_selection import cross_val_score\n",
    "from sklearn.model_selection import KFold\n",
    "\n",
    "# Logistic Regression\n",
    "from sklearn.linear_model import Lasso, LogisticRegression\n",
    "\n",
    "# Random Forests \n",
    "from sklearn.ensemble import RandomForestClassifier\n",
    "\n",
    "# Neural Network\n",
    "from sklearn.neural_network import MLPClassifier\n",
    "\n",
    "# Evaluate\n",
    "from sklearn import metrics\n",
    "from sklearn.metrics import precision_score, recall_score, confusion_matrix, roc_auc_score,accuracy_score\n",
    "\n",
    "# Hyperparameter tuning\n",
    "from sklearn.model_selection import GridSearchCV\n",
    "\n",
    "# Reduce Dimension \n",
    "from sklearn.decomposition import TruncatedSVD\n",
    "from sklearn.manifold import TSNE\n",
    "\n",
    "# Clustering \n",
    "from sklearn.cluster import KMeans\n",
    "from sklearn.cluster import MeanShift, estimate_bandwidth\n",
    "from sklearn.preprocessing import normalize\n",
    "from scipy.spatial.distance import cdist\n",
    "from sklearn.metrics import adjusted_rand_score\n",
    "from sklearn.metrics import silhouette_score\n",
    "\n",
    "# Math \n",
    "import math\n",
    "\n",
    "# Datetime\n",
    "from datetime import datetime\n",
    "from dateutil import parser\n",
    "\n",
    "# Import data\n",
    "import warnings"
   ]
  },
  {
   "cell_type": "code",
   "execution_count": 2,
   "metadata": {},
   "outputs": [],
   "source": [
    "tweets = pd.read_csv('/Users/tsawaengsri/Desktop/Data Science Courses/Datasets/cresci-2017.csv/datasets_full.csv/clean_tweets2')\n",
    "users = pd.read_csv('/Users/tsawaengsri/Desktop/Data Science Courses/Datasets/cresci-2017.csv/datasets_full.csv/clean_users2')"
   ]
  },
  {
   "cell_type": "code",
   "execution_count": 3,
   "metadata": {},
   "outputs": [
    {
     "name": "stdout",
     "output_type": "stream",
     "text": [
      "<class 'pandas.core.frame.DataFrame'>\n",
      "RangeIndex: 6283436 entries, 0 to 6283435\n",
      "Data columns (total 18 columns):\n",
      "id                       int64\n",
      "text                     object\n",
      "source                   object\n",
      "user_id                  int64\n",
      "in_reply_to_status_id    int64\n",
      "in_reply_to_user_id      int64\n",
      "retweeted_status_id      int64\n",
      "retweet_count            int64\n",
      "reply_count              int64\n",
      "favorite_count           int64\n",
      "num_hashtags             int64\n",
      "num_urls                 int64\n",
      "num_mentions             int64\n",
      "created_at               object\n",
      "timestamp                object\n",
      "crawled_at               object\n",
      "updated                  object\n",
      "class                    int64\n",
      "dtypes: int64(12), object(6)\n",
      "memory usage: 862.9+ MB\n"
     ]
    }
   ],
   "source": [
    "tweets.info()"
   ]
  },
  {
   "cell_type": "code",
   "execution_count": 4,
   "metadata": {},
   "outputs": [
    {
     "name": "stdout",
     "output_type": "stream",
     "text": [
      "<class 'pandas.core.frame.DataFrame'>\n",
      "RangeIndex: 7989 entries, 0 to 7988\n",
      "Data columns (total 24 columns):\n",
      "id                                    7989 non-null int64\n",
      "name                                  7989 non-null object\n",
      "screen_name                           7989 non-null object\n",
      "statuses_count                        7989 non-null int64\n",
      "followers_count                       7989 non-null int64\n",
      "friends_count                         7989 non-null int64\n",
      "favourites_count                      7989 non-null int64\n",
      "listed_count                          7989 non-null int64\n",
      "lang                                  7989 non-null object\n",
      "profile_image_url                     7989 non-null object\n",
      "profile_use_background_image          7989 non-null int64\n",
      "profile_background_image_url_https    7989 non-null object\n",
      "profile_text_color                    7989 non-null object\n",
      "profile_image_url_https               7989 non-null object\n",
      "profile_sidebar_border_color          7989 non-null object\n",
      "profile_sidebar_fill_color            7989 non-null object\n",
      "profile_background_image_url          7989 non-null object\n",
      "profile_background_color              7989 non-null object\n",
      "profile_link_color                    7989 non-null object\n",
      "created_at                            7989 non-null object\n",
      "timestamp                             7989 non-null object\n",
      "crawled_at                            7989 non-null object\n",
      "updated                               7989 non-null object\n",
      "class                                 7989 non-null int64\n",
      "dtypes: int64(8), object(16)\n",
      "memory usage: 1.5+ MB\n"
     ]
    }
   ],
   "source": [
    "users.info()"
   ]
  },
  {
   "cell_type": "markdown",
   "metadata": {},
   "source": [
    "### Convert time variables to datetime \n",
    "It doesn't appear that time variables such as timestamp or created_at were saved as datetime. We will convert them to their respective data type. "
   ]
  },
  {
   "cell_type": "code",
   "execution_count": 5,
   "metadata": {},
   "outputs": [],
   "source": [
    "# Convert the time columns to np.datetime object\n",
    "tweets['timestamp'] = pd.to_datetime(tweets['timestamp'])"
   ]
  },
  {
   "cell_type": "code",
   "execution_count": 6,
   "metadata": {},
   "outputs": [],
   "source": [
    "tweets['created_at'] = pd.to_datetime(tweets['created_at'])"
   ]
  },
  {
   "cell_type": "code",
   "execution_count": 7,
   "metadata": {},
   "outputs": [],
   "source": [
    "tweets['crawled_at'] = pd.to_datetime(tweets['crawled_at'])"
   ]
  },
  {
   "cell_type": "code",
   "execution_count": 8,
   "metadata": {},
   "outputs": [],
   "source": [
    "tweets['updated'] = pd.to_datetime(tweets['updated'])"
   ]
  },
  {
   "cell_type": "code",
   "execution_count": 9,
   "metadata": {},
   "outputs": [],
   "source": [
    "# Convert the created_at column to np.datetime object\n",
    "users['timestamp'] = pd.to_datetime(users['timestamp'])"
   ]
  },
  {
   "cell_type": "code",
   "execution_count": 10,
   "metadata": {},
   "outputs": [],
   "source": [
    "users['created_at'] = pd.to_datetime(users['created_at'])"
   ]
  },
  {
   "cell_type": "code",
   "execution_count": 11,
   "metadata": {},
   "outputs": [],
   "source": [
    "users['crawled_at'] = pd.to_datetime(users['crawled_at'])"
   ]
  },
  {
   "cell_type": "code",
   "execution_count": 12,
   "metadata": {},
   "outputs": [],
   "source": [
    "users['updated'] = pd.to_datetime(users['updated'])"
   ]
  },
  {
   "cell_type": "code",
   "execution_count": 13,
   "metadata": {},
   "outputs": [
    {
     "name": "stdout",
     "output_type": "stream",
     "text": [
      "<class 'pandas.core.frame.DataFrame'>\n",
      "RangeIndex: 6283436 entries, 0 to 6283435\n",
      "Data columns (total 18 columns):\n",
      "id                       int64\n",
      "text                     object\n",
      "source                   object\n",
      "user_id                  int64\n",
      "in_reply_to_status_id    int64\n",
      "in_reply_to_user_id      int64\n",
      "retweeted_status_id      int64\n",
      "retweet_count            int64\n",
      "reply_count              int64\n",
      "favorite_count           int64\n",
      "num_hashtags             int64\n",
      "num_urls                 int64\n",
      "num_mentions             int64\n",
      "created_at               datetime64[ns, UTC]\n",
      "timestamp                datetime64[ns]\n",
      "crawled_at               datetime64[ns]\n",
      "updated                  datetime64[ns]\n",
      "class                    int64\n",
      "dtypes: datetime64[ns, UTC](1), datetime64[ns](3), int64(12), object(2)\n",
      "memory usage: 862.9+ MB\n"
     ]
    }
   ],
   "source": [
    "tweets.info()"
   ]
  },
  {
   "cell_type": "code",
   "execution_count": 14,
   "metadata": {},
   "outputs": [
    {
     "name": "stdout",
     "output_type": "stream",
     "text": [
      "<class 'pandas.core.frame.DataFrame'>\n",
      "RangeIndex: 7989 entries, 0 to 7988\n",
      "Data columns (total 24 columns):\n",
      "id                                    7989 non-null int64\n",
      "name                                  7989 non-null object\n",
      "screen_name                           7989 non-null object\n",
      "statuses_count                        7989 non-null int64\n",
      "followers_count                       7989 non-null int64\n",
      "friends_count                         7989 non-null int64\n",
      "favourites_count                      7989 non-null int64\n",
      "listed_count                          7989 non-null int64\n",
      "lang                                  7989 non-null object\n",
      "profile_image_url                     7989 non-null object\n",
      "profile_use_background_image          7989 non-null int64\n",
      "profile_background_image_url_https    7989 non-null object\n",
      "profile_text_color                    7989 non-null object\n",
      "profile_image_url_https               7989 non-null object\n",
      "profile_sidebar_border_color          7989 non-null object\n",
      "profile_sidebar_fill_color            7989 non-null object\n",
      "profile_background_image_url          7989 non-null object\n",
      "profile_background_color              7989 non-null object\n",
      "profile_link_color                    7989 non-null object\n",
      "created_at                            7989 non-null datetime64[ns, UTC]\n",
      "timestamp                             7989 non-null datetime64[ns]\n",
      "crawled_at                            7989 non-null datetime64[ns]\n",
      "updated                               7989 non-null datetime64[ns]\n",
      "class                                 7989 non-null int64\n",
      "dtypes: datetime64[ns, UTC](1), datetime64[ns](3), int64(8), object(12)\n",
      "memory usage: 1.5+ MB\n"
     ]
    }
   ],
   "source": [
    "users.info()"
   ]
  },
  {
   "cell_type": "code",
   "execution_count": 15,
   "metadata": {},
   "outputs": [
    {
     "data": {
      "text/html": [
       "<div>\n",
       "<style scoped>\n",
       "    .dataframe tbody tr th:only-of-type {\n",
       "        vertical-align: middle;\n",
       "    }\n",
       "\n",
       "    .dataframe tbody tr th {\n",
       "        vertical-align: top;\n",
       "    }\n",
       "\n",
       "    .dataframe thead th {\n",
       "        text-align: right;\n",
       "    }\n",
       "</style>\n",
       "<table border=\"1\" class=\"dataframe\">\n",
       "  <thead>\n",
       "    <tr style=\"text-align: right;\">\n",
       "      <th></th>\n",
       "      <th>id</th>\n",
       "      <th>text</th>\n",
       "      <th>source</th>\n",
       "      <th>user_id</th>\n",
       "      <th>in_reply_to_status_id</th>\n",
       "      <th>in_reply_to_user_id</th>\n",
       "      <th>retweeted_status_id</th>\n",
       "      <th>retweet_count</th>\n",
       "      <th>reply_count</th>\n",
       "      <th>favorite_count</th>\n",
       "      <th>num_hashtags</th>\n",
       "      <th>num_urls</th>\n",
       "      <th>num_mentions</th>\n",
       "      <th>created_at</th>\n",
       "      <th>timestamp</th>\n",
       "      <th>crawled_at</th>\n",
       "      <th>updated</th>\n",
       "      <th>class</th>\n",
       "    </tr>\n",
       "  </thead>\n",
       "  <tbody>\n",
       "    <tr>\n",
       "      <th>0</th>\n",
       "      <td>515447020405137408</td>\n",
       "      <td>\"Il mare d'inverno è un concetto che il pensie...</td>\n",
       "      <td>&lt;a href=\"http://www.Matildadr89.com\" rel=\"nofo...</td>\n",
       "      <td>237359828</td>\n",
       "      <td>0</td>\n",
       "      <td>0</td>\n",
       "      <td>0</td>\n",
       "      <td>0</td>\n",
       "      <td>0</td>\n",
       "      <td>0</td>\n",
       "      <td>0</td>\n",
       "      <td>0</td>\n",
       "      <td>0</td>\n",
       "      <td>2014-09-26 10:25:20+00:00</td>\n",
       "      <td>2014-09-26 12:25:20</td>\n",
       "      <td>2014-11-13 01:35:24</td>\n",
       "      <td>2014-11-13 01:35:24</td>\n",
       "      <td>1</td>\n",
       "    </tr>\n",
       "    <tr>\n",
       "      <th>1</th>\n",
       "      <td>513551196226093057</td>\n",
       "      <td>Read the History of Corona Beer  http://t.co/Z...</td>\n",
       "      <td>&lt;a href=\"http://tweetadder.com\" rel=\"nofollow\"...</td>\n",
       "      <td>215693377</td>\n",
       "      <td>0</td>\n",
       "      <td>0</td>\n",
       "      <td>0</td>\n",
       "      <td>0</td>\n",
       "      <td>0</td>\n",
       "      <td>0</td>\n",
       "      <td>0</td>\n",
       "      <td>1</td>\n",
       "      <td>0</td>\n",
       "      <td>2014-09-21 04:52:01+00:00</td>\n",
       "      <td>2014-09-21 06:52:01</td>\n",
       "      <td>2014-11-12 23:35:05</td>\n",
       "      <td>2014-11-12 23:35:05</td>\n",
       "      <td>1</td>\n",
       "    </tr>\n",
       "    <tr>\n",
       "      <th>2</th>\n",
       "      <td>579534763872149504</td>\n",
       "      <td>After that it would of been up to the person i...</td>\n",
       "      <td>&lt;a href=\"http://twitter.com/download/iphone\" r...</td>\n",
       "      <td>164284493</td>\n",
       "      <td>0</td>\n",
       "      <td>0</td>\n",
       "      <td>0</td>\n",
       "      <td>0</td>\n",
       "      <td>0</td>\n",
       "      <td>0</td>\n",
       "      <td>0</td>\n",
       "      <td>0</td>\n",
       "      <td>0</td>\n",
       "      <td>2015-03-22 06:47:09+00:00</td>\n",
       "      <td>2015-03-22 07:47:09</td>\n",
       "      <td>2015-05-01 13:21:46</td>\n",
       "      <td>2015-05-01 13:21:46</td>\n",
       "      <td>0</td>\n",
       "    </tr>\n",
       "    <tr>\n",
       "      <th>3</th>\n",
       "      <td>449751137970028544</td>\n",
       "      <td>RT @kcivey: @marionbarryjr I'm for public fina...</td>\n",
       "      <td>&lt;a href=\"http://twitter.com/download/iphone\" r...</td>\n",
       "      <td>225683965</td>\n",
       "      <td>0</td>\n",
       "      <td>0</td>\n",
       "      <td>449735142085779456</td>\n",
       "      <td>1</td>\n",
       "      <td>0</td>\n",
       "      <td>0</td>\n",
       "      <td>0</td>\n",
       "      <td>0</td>\n",
       "      <td>2</td>\n",
       "      <td>2014-03-29 03:33:21+00:00</td>\n",
       "      <td>2014-03-29 04:33:21</td>\n",
       "      <td>2015-05-01 15:58:20</td>\n",
       "      <td>2015-05-01 15:58:20</td>\n",
       "      <td>0</td>\n",
       "    </tr>\n",
       "    <tr>\n",
       "      <th>4</th>\n",
       "      <td>589197488269045760</td>\n",
       "      <td>RT @specuIar: This hit me hard. http://t.co/rY...</td>\n",
       "      <td>&lt;a href=\"http://twitter.com\" rel=\"nofollow\"&gt;Tw...</td>\n",
       "      <td>505440359</td>\n",
       "      <td>0</td>\n",
       "      <td>0</td>\n",
       "      <td>589196377353097216</td>\n",
       "      <td>1300</td>\n",
       "      <td>0</td>\n",
       "      <td>0</td>\n",
       "      <td>0</td>\n",
       "      <td>0</td>\n",
       "      <td>1</td>\n",
       "      <td>2015-04-17 22:43:22+00:00</td>\n",
       "      <td>2015-04-18 00:43:22</td>\n",
       "      <td>2015-05-01 13:21:33</td>\n",
       "      <td>2015-05-01 13:21:33</td>\n",
       "      <td>0</td>\n",
       "    </tr>\n",
       "  </tbody>\n",
       "</table>\n",
       "</div>"
      ],
      "text/plain": [
       "                   id                                               text  \\\n",
       "0  515447020405137408  \"Il mare d'inverno è un concetto che il pensie...   \n",
       "1  513551196226093057  Read the History of Corona Beer  http://t.co/Z...   \n",
       "2  579534763872149504  After that it would of been up to the person i...   \n",
       "3  449751137970028544  RT @kcivey: @marionbarryjr I'm for public fina...   \n",
       "4  589197488269045760  RT @specuIar: This hit me hard. http://t.co/rY...   \n",
       "\n",
       "                                              source    user_id  \\\n",
       "0  <a href=\"http://www.Matildadr89.com\" rel=\"nofo...  237359828   \n",
       "1  <a href=\"http://tweetadder.com\" rel=\"nofollow\"...  215693377   \n",
       "2  <a href=\"http://twitter.com/download/iphone\" r...  164284493   \n",
       "3  <a href=\"http://twitter.com/download/iphone\" r...  225683965   \n",
       "4  <a href=\"http://twitter.com\" rel=\"nofollow\">Tw...  505440359   \n",
       "\n",
       "   in_reply_to_status_id  in_reply_to_user_id  retweeted_status_id  \\\n",
       "0                      0                    0                    0   \n",
       "1                      0                    0                    0   \n",
       "2                      0                    0                    0   \n",
       "3                      0                    0   449735142085779456   \n",
       "4                      0                    0   589196377353097216   \n",
       "\n",
       "   retweet_count  reply_count  favorite_count  num_hashtags  num_urls  \\\n",
       "0              0            0               0             0         0   \n",
       "1              0            0               0             0         1   \n",
       "2              0            0               0             0         0   \n",
       "3              1            0               0             0         0   \n",
       "4           1300            0               0             0         0   \n",
       "\n",
       "   num_mentions                created_at           timestamp  \\\n",
       "0             0 2014-09-26 10:25:20+00:00 2014-09-26 12:25:20   \n",
       "1             0 2014-09-21 04:52:01+00:00 2014-09-21 06:52:01   \n",
       "2             0 2015-03-22 06:47:09+00:00 2015-03-22 07:47:09   \n",
       "3             2 2014-03-29 03:33:21+00:00 2014-03-29 04:33:21   \n",
       "4             1 2015-04-17 22:43:22+00:00 2015-04-18 00:43:22   \n",
       "\n",
       "           crawled_at             updated  class  \n",
       "0 2014-11-13 01:35:24 2014-11-13 01:35:24      1  \n",
       "1 2014-11-12 23:35:05 2014-11-12 23:35:05      1  \n",
       "2 2015-05-01 13:21:46 2015-05-01 13:21:46      0  \n",
       "3 2015-05-01 15:58:20 2015-05-01 15:58:20      0  \n",
       "4 2015-05-01 13:21:33 2015-05-01 13:21:33      0  "
      ]
     },
     "execution_count": 15,
     "metadata": {},
     "output_type": "execute_result"
    }
   ],
   "source": [
    "tweets.head()"
   ]
  },
  {
   "cell_type": "code",
   "execution_count": 16,
   "metadata": {},
   "outputs": [
    {
     "data": {
      "text/html": [
       "<div>\n",
       "<style scoped>\n",
       "    .dataframe tbody tr th:only-of-type {\n",
       "        vertical-align: middle;\n",
       "    }\n",
       "\n",
       "    .dataframe tbody tr th {\n",
       "        vertical-align: top;\n",
       "    }\n",
       "\n",
       "    .dataframe thead th {\n",
       "        text-align: right;\n",
       "    }\n",
       "</style>\n",
       "<table border=\"1\" class=\"dataframe\">\n",
       "  <thead>\n",
       "    <tr style=\"text-align: right;\">\n",
       "      <th></th>\n",
       "      <th>id</th>\n",
       "      <th>name</th>\n",
       "      <th>screen_name</th>\n",
       "      <th>statuses_count</th>\n",
       "      <th>followers_count</th>\n",
       "      <th>friends_count</th>\n",
       "      <th>favourites_count</th>\n",
       "      <th>listed_count</th>\n",
       "      <th>lang</th>\n",
       "      <th>profile_image_url</th>\n",
       "      <th>...</th>\n",
       "      <th>profile_sidebar_border_color</th>\n",
       "      <th>profile_sidebar_fill_color</th>\n",
       "      <th>profile_background_image_url</th>\n",
       "      <th>profile_background_color</th>\n",
       "      <th>profile_link_color</th>\n",
       "      <th>created_at</th>\n",
       "      <th>timestamp</th>\n",
       "      <th>crawled_at</th>\n",
       "      <th>updated</th>\n",
       "      <th>class</th>\n",
       "    </tr>\n",
       "  </thead>\n",
       "  <tbody>\n",
       "    <tr>\n",
       "      <th>0</th>\n",
       "      <td>2349966440</td>\n",
       "      <td>Joie Ficher</td>\n",
       "      <td>JoieFicher</td>\n",
       "      <td>80</td>\n",
       "      <td>2</td>\n",
       "      <td>42</td>\n",
       "      <td>0</td>\n",
       "      <td>0</td>\n",
       "      <td>en</td>\n",
       "      <td>http://pbs.twimg.com/profile_images/4365494921...</td>\n",
       "      <td>...</td>\n",
       "      <td>FFFFFF</td>\n",
       "      <td>DDEEF6</td>\n",
       "      <td>http://pbs.twimg.com/profile_background_images...</td>\n",
       "      <td>0000FF</td>\n",
       "      <td>0000FF</td>\n",
       "      <td>2014-02-18 11:22:38+00:00</td>\n",
       "      <td>2014-02-18 12:22:38</td>\n",
       "      <td>2014-05-03 00:22:39</td>\n",
       "      <td>2016-03-15 15:20:24</td>\n",
       "      <td>1</td>\n",
       "    </tr>\n",
       "    <tr>\n",
       "      <th>1</th>\n",
       "      <td>343263643</td>\n",
       "      <td>RIP Teveon </td>\n",
       "      <td>youpettihoe_</td>\n",
       "      <td>36513</td>\n",
       "      <td>2166</td>\n",
       "      <td>1627</td>\n",
       "      <td>2977</td>\n",
       "      <td>0</td>\n",
       "      <td>en</td>\n",
       "      <td>http://pbs.twimg.com/profile_images/5594447898...</td>\n",
       "      <td>...</td>\n",
       "      <td>FFFFFF</td>\n",
       "      <td>FFFFFF</td>\n",
       "      <td>http://pbs.twimg.com/profile_background_images...</td>\n",
       "      <td>FFFAFF</td>\n",
       "      <td>0A7A00</td>\n",
       "      <td>2011-07-27 09:01:04+00:00</td>\n",
       "      <td>2011-07-27 11:01:04</td>\n",
       "      <td>2015-05-01 23:18:23</td>\n",
       "      <td>2016-03-15 16:11:13</td>\n",
       "      <td>0</td>\n",
       "    </tr>\n",
       "    <tr>\n",
       "      <th>2</th>\n",
       "      <td>531154412</td>\n",
       "      <td>Bulah Lynne</td>\n",
       "      <td>Lynnevibe</td>\n",
       "      <td>10657</td>\n",
       "      <td>1194</td>\n",
       "      <td>996</td>\n",
       "      <td>1</td>\n",
       "      <td>8</td>\n",
       "      <td>en</td>\n",
       "      <td>http://pbs.twimg.com/profile_images/1914097815...</td>\n",
       "      <td>...</td>\n",
       "      <td>C0DEED</td>\n",
       "      <td>DDEEF6</td>\n",
       "      <td>http://abs.twimg.com/images/themes/theme1/bg.png</td>\n",
       "      <td>C0DEED</td>\n",
       "      <td>0084B4</td>\n",
       "      <td>2012-03-20 11:48:05+00:00</td>\n",
       "      <td>2012-03-20 12:48:05</td>\n",
       "      <td>2014-05-05 23:24:32</td>\n",
       "      <td>2016-03-15 15:40:08</td>\n",
       "      <td>1</td>\n",
       "    </tr>\n",
       "    <tr>\n",
       "      <th>3</th>\n",
       "      <td>2377665366</td>\n",
       "      <td>Katherina Kistle</td>\n",
       "      <td>KatherinaKistle</td>\n",
       "      <td>37</td>\n",
       "      <td>0</td>\n",
       "      <td>38</td>\n",
       "      <td>0</td>\n",
       "      <td>0</td>\n",
       "      <td>en</td>\n",
       "      <td>http://pbs.twimg.com/profile_images/4430041788...</td>\n",
       "      <td>...</td>\n",
       "      <td>FFFFFF</td>\n",
       "      <td>DDEEF6</td>\n",
       "      <td>http://pbs.twimg.com/profile_background_images...</td>\n",
       "      <td>0000FF</td>\n",
       "      <td>0000FF</td>\n",
       "      <td>2014-03-07 21:23:35+00:00</td>\n",
       "      <td>2014-03-07 22:23:35</td>\n",
       "      <td>2014-05-05 00:21:50</td>\n",
       "      <td>2016-03-15 15:16:15</td>\n",
       "      <td>1</td>\n",
       "    </tr>\n",
       "    <tr>\n",
       "      <th>4</th>\n",
       "      <td>3015346510</td>\n",
       "      <td>Lindsay Blessing Fan</td>\n",
       "      <td>lindsayspainfan</td>\n",
       "      <td>96</td>\n",
       "      <td>43</td>\n",
       "      <td>113</td>\n",
       "      <td>425</td>\n",
       "      <td>0</td>\n",
       "      <td>es</td>\n",
       "      <td>http://pbs.twimg.com/profile_images/5631073115...</td>\n",
       "      <td>...</td>\n",
       "      <td>000000</td>\n",
       "      <td>000000</td>\n",
       "      <td>http://pbs.twimg.com/profile_background_images...</td>\n",
       "      <td>000000</td>\n",
       "      <td>9266CC</td>\n",
       "      <td>2015-02-03 20:49:38+00:00</td>\n",
       "      <td>2015-02-03 21:49:38</td>\n",
       "      <td>2015-05-02 01:09:46</td>\n",
       "      <td>2016-03-15 16:07:16</td>\n",
       "      <td>0</td>\n",
       "    </tr>\n",
       "  </tbody>\n",
       "</table>\n",
       "<p>5 rows × 24 columns</p>\n",
       "</div>"
      ],
      "text/plain": [
       "           id                  name      screen_name  statuses_count  \\\n",
       "0  2349966440           Joie Ficher       JoieFicher              80   \n",
       "1   343263643         RIP Teveon      youpettihoe_           36513   \n",
       "2   531154412           Bulah Lynne        Lynnevibe           10657   \n",
       "3  2377665366      Katherina Kistle  KatherinaKistle              37   \n",
       "4  3015346510  Lindsay Blessing Fan  lindsayspainfan              96   \n",
       "\n",
       "   followers_count  friends_count  favourites_count  listed_count lang  \\\n",
       "0                2             42                 0             0   en   \n",
       "1             2166           1627              2977             0   en   \n",
       "2             1194            996                 1             8   en   \n",
       "3                0             38                 0             0   en   \n",
       "4               43            113               425             0   es   \n",
       "\n",
       "                                   profile_image_url  ...  \\\n",
       "0  http://pbs.twimg.com/profile_images/4365494921...  ...   \n",
       "1  http://pbs.twimg.com/profile_images/5594447898...  ...   \n",
       "2  http://pbs.twimg.com/profile_images/1914097815...  ...   \n",
       "3  http://pbs.twimg.com/profile_images/4430041788...  ...   \n",
       "4  http://pbs.twimg.com/profile_images/5631073115...  ...   \n",
       "\n",
       "   profile_sidebar_border_color profile_sidebar_fill_color  \\\n",
       "0                        FFFFFF                     DDEEF6   \n",
       "1                        FFFFFF                     FFFFFF   \n",
       "2                        C0DEED                     DDEEF6   \n",
       "3                        FFFFFF                     DDEEF6   \n",
       "4                        000000                     000000   \n",
       "\n",
       "                        profile_background_image_url profile_background_color  \\\n",
       "0  http://pbs.twimg.com/profile_background_images...                   0000FF   \n",
       "1  http://pbs.twimg.com/profile_background_images...                   FFFAFF   \n",
       "2   http://abs.twimg.com/images/themes/theme1/bg.png                   C0DEED   \n",
       "3  http://pbs.twimg.com/profile_background_images...                   0000FF   \n",
       "4  http://pbs.twimg.com/profile_background_images...                   000000   \n",
       "\n",
       "  profile_link_color                created_at           timestamp  \\\n",
       "0             0000FF 2014-02-18 11:22:38+00:00 2014-02-18 12:22:38   \n",
       "1             0A7A00 2011-07-27 09:01:04+00:00 2011-07-27 11:01:04   \n",
       "2             0084B4 2012-03-20 11:48:05+00:00 2012-03-20 12:48:05   \n",
       "3             0000FF 2014-03-07 21:23:35+00:00 2014-03-07 22:23:35   \n",
       "4             9266CC 2015-02-03 20:49:38+00:00 2015-02-03 21:49:38   \n",
       "\n",
       "           crawled_at             updated class  \n",
       "0 2014-05-03 00:22:39 2016-03-15 15:20:24     1  \n",
       "1 2015-05-01 23:18:23 2016-03-15 16:11:13     0  \n",
       "2 2014-05-05 23:24:32 2016-03-15 15:40:08     1  \n",
       "3 2014-05-05 00:21:50 2016-03-15 15:16:15     1  \n",
       "4 2015-05-02 01:09:46 2016-03-15 16:07:16     0  \n",
       "\n",
       "[5 rows x 24 columns]"
      ]
     },
     "execution_count": 16,
     "metadata": {},
     "output_type": "execute_result"
    }
   ],
   "source": [
    "users.head()"
   ]
  },
  {
   "cell_type": "markdown",
   "metadata": {},
   "source": [
    "# Exploratory Data Analysis\n",
    "We'll start by exploring the Tweets table by keeping a few questions in mind.<br> \n",
    "__How many tweets were made by humans and robots?__ <br>\n",
    "__Which accounts posted the most tweets?__ <br>"
   ]
  },
  {
   "cell_type": "code",
   "execution_count": 17,
   "metadata": {},
   "outputs": [
    {
     "name": "stdout",
     "output_type": "stream",
     "text": [
      "There are 2826718 tweets made by humans(44.987%) and 3456718 tweets made by bots (55.013%) in the tweets table.\n"
     ]
    }
   ],
   "source": [
    "# Bot vs human tweets \n",
    "counts = tweets['class'].value_counts()\n",
    "human = counts[0]\n",
    "bot = counts[1]\n",
    "human_per = (human/(human + bot))*100\n",
    "bot_per = (bot/(human + bot))*100\n",
    "print('There are {} tweets made by humans({:.3f}%) and {} tweets made by bots ({:.3f}%) in the tweets table.'.format(human, human_per, bot, bot_per))"
   ]
  },
  {
   "cell_type": "code",
   "execution_count": 18,
   "metadata": {},
   "outputs": [
    {
     "data": {
      "image/png": "[encoded data removed]",
      "text/plain": [
       "<Figure size 864x432 with 1 Axes>"
      ]
     },
     "metadata": {
      "needs_background": "light"
     },
     "output_type": "display_data"
    }
   ],
   "source": [
    "# Plot target variable\n",
    "plt.figure(figsize=(12,6))\n",
    "g = sns.countplot(x = 'class', data = tweets)\n",
    "g.set_title('Count of Tweets made by Humans vs Bots', fontsize = 17)\n",
    "g.set_xlabel('User Type', fontsize = 15)\n",
    "g.set_ylabel('# Tweets', fontsize = 15)\n",
    "\n",
    "for p in g.patches:\n",
    "    height = p.get_height()\n",
    "    g.text(p.get_x()+p.get_width()/2.,\n",
    "            height + 3,\n",
    "            '{:1.2f}%'.format(height/len(tweets) * 100),\n",
    "            ha=\"center\", fontsize=15) "
   ]
  },
  {
   "cell_type": "markdown",
   "metadata": {},
   "source": [
    "As shown in the bar graph, the data consists of 45% tweets by humans and 55% tweets by robots. The ratio between human to robot tweets are close so we do not have an imbalance problem. \n",
    "\n",
    "#### Let's look at which accounts tweeted the most. "
   ]
  },
  {
   "cell_type": "code",
   "execution_count": 19,
   "metadata": {},
   "outputs": [
    {
     "data": {
      "text/plain": [
       "5995"
      ]
     },
     "execution_count": 19,
     "metadata": {},
     "output_type": "execute_result"
    }
   ],
   "source": [
    "# Number of unique user accounts\n",
    "len(tweets['user_id'].unique().tolist())"
   ]
  },
  {
   "cell_type": "markdown",
   "metadata": {},
   "source": [
    "There are 5,996 unique user accounts in the Tweets table. "
   ]
  },
  {
   "cell_type": "code",
   "execution_count": 20,
   "metadata": {},
   "outputs": [],
   "source": [
    "# Create df for user class\n",
    "bots = tweets.loc[tweets['class']==1]\n",
    "gen = tweets.loc[tweets['class']==0]"
   ]
  },
  {
   "cell_type": "code",
   "execution_count": 21,
   "metadata": {},
   "outputs": [
    {
     "data": {
      "text/plain": [
       "521370115     3258\n",
       "334826952     3250\n",
       "221141363     3250\n",
       "239910996     3250\n",
       "982414274     3250\n",
       "              ... \n",
       "2382422750      66\n",
       "2375328500      64\n",
       "2382743514      63\n",
       "2391867347      43\n",
       "2384976224      38\n",
       "Name: user_id, Length: 4912, dtype: int64"
      ]
     },
     "execution_count": 21,
     "metadata": {},
     "output_type": "execute_result"
    }
   ],
   "source": [
    "# Counts of unique user accounts \n",
    "bots['user_id'].value_counts()"
   ]
  },
  {
   "cell_type": "code",
   "execution_count": 22,
   "metadata": {},
   "outputs": [
    {
     "data": {
      "text/plain": [
       "15044720      3250\n",
       "497404180     3249\n",
       "182211050     3247\n",
       "195076965     3247\n",
       "14626600      3247\n",
       "              ... \n",
       "492728332       24\n",
       "2236789484      15\n",
       "2200425967      14\n",
       "24386710        13\n",
       "514061230        3\n",
       "Name: user_id, Length: 1083, dtype: int64"
      ]
     },
     "execution_count": 22,
     "metadata": {},
     "output_type": "execute_result"
    }
   ],
   "source": [
    "# Counts of unique user accounts \n",
    "gen['user_id'].value_counts()"
   ]
  },
  {
   "cell_type": "markdown",
   "metadata": {},
   "source": [
    "__Observation__: Based on the total count of tweets, the most frequent tweets from both genuine users and robot accounts share similar traits. The top five tweeters in each class has posted over three thousand tweets. "
   ]
  },
  {
   "cell_type": "markdown",
   "metadata": {},
   "source": [
    "## Correlation\n",
    "We'll start by exmaining the correlation between features and target varaible. "
   ]
  },
  {
   "cell_type": "code",
   "execution_count": 23,
   "metadata": {},
   "outputs": [
    {
     "name": "stdout",
     "output_type": "stream",
     "text": [
      "Most Positive Correlations:\n",
      " num_mentions            -0.473250\n",
      "retweeted_status_id     -0.365936\n",
      "in_reply_to_status_id   -0.309953\n",
      "in_reply_to_user_id     -0.185500\n",
      "num_hashtags            -0.143896\n",
      "id                      -0.058521\n",
      "retweet_count           -0.036961\n",
      "favorite_count           0.016651\n",
      "user_id                  0.061362\n",
      "num_urls                 0.088025\n",
      "class                    1.000000\n",
      "reply_count                   NaN\n",
      "Name: class, dtype: float64\n",
      "\n",
      "Most Negative Correlations:\n",
      " num_mentions            -0.473250\n",
      "retweeted_status_id     -0.365936\n",
      "in_reply_to_status_id   -0.309953\n",
      "in_reply_to_user_id     -0.185500\n",
      "num_hashtags            -0.143896\n",
      "id                      -0.058521\n",
      "retweet_count           -0.036961\n",
      "favorite_count           0.016651\n",
      "user_id                  0.061362\n",
      "num_urls                 0.088025\n",
      "class                    1.000000\n",
      "reply_count                   NaN\n",
      "Name: class, dtype: float64\n"
     ]
    }
   ],
   "source": [
    "# Find correlations with the target and sort\n",
    "corr = tweets.corr()['class'].sort_values()\n",
    "\n",
    "# Display correlations\n",
    "print('Most Positive Correlations:\\n', corr.tail(15))\n",
    "print('\\nMost Negative Correlations:\\n', corr.head(15))"
   ]
  },
  {
   "cell_type": "code",
   "execution_count": 24,
   "metadata": {},
   "outputs": [
    {
     "data": {
      "text/plain": [
       "class                    1.000000\n",
       "num_mentions             0.473250\n",
       "retweeted_status_id      0.365936\n",
       "in_reply_to_status_id    0.309953\n",
       "in_reply_to_user_id      0.185500\n",
       "num_hashtags             0.143896\n",
       "num_urls                 0.088025\n",
       "user_id                  0.061362\n",
       "id                       0.058521\n",
       "retweet_count            0.036961\n",
       "favorite_count           0.016651\n",
       "Name: class, dtype: float64"
      ]
     },
     "execution_count": 24,
     "metadata": {},
     "output_type": "execute_result"
    }
   ],
   "source": [
    "# Correlation \n",
    "top_feat = np.absolute(tweets.corr()['class']).sort_values(ascending=False)[:11]\n",
    "top_feat"
   ]
  },
  {
   "cell_type": "markdown",
   "metadata": {},
   "source": [
    "__Observation__: The correlation between our target variable and the top features are rather week. The strongest correlation to class is the num_mentions(-47%). This could possibly hint towards retweets and replying to other accounts to be a good indicator of whether a tweet was generated by a human or robot. "
   ]
  },
  {
   "cell_type": "code",
   "execution_count": 25,
   "metadata": {},
   "outputs": [
    {
     "name": "stdout",
     "output_type": "stream",
     "text": [
      "Index(['class', 'num_mentions', 'retweeted_status_id', 'in_reply_to_status_id',\n",
      "       'in_reply_to_user_id', 'num_hashtags', 'num_urls', 'user_id', 'id',\n",
      "       'retweet_count', 'favorite_count'],\n",
      "      dtype='object')\n"
     ]
    }
   ],
   "source": [
    "# Top 10 features\n",
    "print(top_feat.index)"
   ]
  },
  {
   "cell_type": "code",
   "execution_count": 26,
   "metadata": {},
   "outputs": [
    {
     "data": {
      "image/png": "[encoded data removed]",
      "text/plain": [
       "<Figure size 720x648 with 2 Axes>"
      ]
     },
     "metadata": {
      "needs_background": "light"
     },
     "output_type": "display_data"
    }
   ],
   "source": [
    "pp = tweets[top_feat.index]\n",
    "plt.figure(figsize=(10,9))\n",
    "corr = pp.corr()\n",
    "sns.heatmap(corr)\n",
    "plt.savefig('heatmat.png')"
   ]
  },
  {
   "cell_type": "markdown",
   "metadata": {},
   "source": [
    "__Observation__: There doesn't appear to be high collinearity among the features. The correlation between in_reply_to_user_id and in_reply_to_status_id seems to be higher than 0.5. We'll probably drop these features during feature selection since they are not the main focus of tweet info.  "
   ]
  },
  {
   "cell_type": "markdown",
   "metadata": {},
   "source": [
    "## Subsampling \n",
    "\n",
    "Due to hardware and memory limitations, we will reduce the size of the dataset and subsample 0.05% of tweets"
   ]
  },
  {
   "cell_type": "code",
   "execution_count": 27,
   "metadata": {},
   "outputs": [],
   "source": [
    "sub_tweets = tweets.groupby('class').apply(pd.DataFrame.sample, frac=0.005).reset_index(drop=True)"
   ]
  },
  {
   "cell_type": "code",
   "execution_count": 28,
   "metadata": {},
   "outputs": [
    {
     "data": {
      "text/plain": [
       "(31418, 18)"
      ]
     },
     "execution_count": 28,
     "metadata": {},
     "output_type": "execute_result"
    }
   ],
   "source": [
    "sub_tweets.shape"
   ]
  },
  {
   "cell_type": "markdown",
   "metadata": {},
   "source": [
    "# Feature Engineering and Selection\n",
    "\n",
    "Since we have identified trends and relationship within the dataset, we will use our findings to select a set of features for our model. \n",
    "\n",
    "For this assignment, we will take the following steps for feature selection:\n",
    " * creating new variables by aggregation\n",
    " * dropping unwanted varaibles\n",
    " * encode for tweets"
   ]
  },
  {
   "cell_type": "code",
   "execution_count": 29,
   "metadata": {},
   "outputs": [],
   "source": [
    "# Create new features \n",
    "sub_tweets['hour'] = sub_tweets['created_at'].apply(lambda x: x.hour)\n",
    "sub_tweets['month'] = sub_tweets['created_at'].apply(lambda x: x.month)\n",
    "sub_tweets['day'] = sub_tweets['created_at'].apply(lambda x: x.day)\n",
    "sub_tweets['year'] = sub_tweets['created_at'].apply(lambda x: x.year)\n",
    "sub_tweets['length'] = sub_tweets['text'].apply(len)\n",
    "sub_tweets['num_of_words'] = sub_tweets['text'].str.split().apply(len)"
   ]
  },
  {
   "cell_type": "code",
   "execution_count": 30,
   "metadata": {},
   "outputs": [
    {
     "data": {
      "text/html": [
       "<div>\n",
       "<style scoped>\n",
       "    .dataframe tbody tr th:only-of-type {\n",
       "        vertical-align: middle;\n",
       "    }\n",
       "\n",
       "    .dataframe tbody tr th {\n",
       "        vertical-align: top;\n",
       "    }\n",
       "\n",
       "    .dataframe thead th {\n",
       "        text-align: right;\n",
       "    }\n",
       "</style>\n",
       "<table border=\"1\" class=\"dataframe\">\n",
       "  <thead>\n",
       "    <tr style=\"text-align: right;\">\n",
       "      <th></th>\n",
       "      <th>id</th>\n",
       "      <th>text</th>\n",
       "      <th>source</th>\n",
       "      <th>user_id</th>\n",
       "      <th>in_reply_to_status_id</th>\n",
       "      <th>in_reply_to_user_id</th>\n",
       "      <th>retweeted_status_id</th>\n",
       "      <th>retweet_count</th>\n",
       "      <th>reply_count</th>\n",
       "      <th>favorite_count</th>\n",
       "      <th>...</th>\n",
       "      <th>timestamp</th>\n",
       "      <th>crawled_at</th>\n",
       "      <th>updated</th>\n",
       "      <th>class</th>\n",
       "      <th>hour</th>\n",
       "      <th>month</th>\n",
       "      <th>day</th>\n",
       "      <th>year</th>\n",
       "      <th>length</th>\n",
       "      <th>num_of_words</th>\n",
       "    </tr>\n",
       "  </thead>\n",
       "  <tbody>\n",
       "    <tr>\n",
       "      <th>0</th>\n",
       "      <td>572118705003368448</td>\n",
       "      <td>RT @kayybabyy3: We graduate in 3 months</td>\n",
       "      <td>&lt;a href=\"http://twitter.com/download/iphone\" r...</td>\n",
       "      <td>2199062688</td>\n",
       "      <td>0</td>\n",
       "      <td>0</td>\n",
       "      <td>572111636233789440</td>\n",
       "      <td>15</td>\n",
       "      <td>0</td>\n",
       "      <td>0</td>\n",
       "      <td>...</td>\n",
       "      <td>2015-03-01 20:38:23</td>\n",
       "      <td>2015-05-01 14:00:11</td>\n",
       "      <td>2015-05-01 14:00:11</td>\n",
       "      <td>0</td>\n",
       "      <td>19</td>\n",
       "      <td>3</td>\n",
       "      <td>1</td>\n",
       "      <td>2015</td>\n",
       "      <td>40</td>\n",
       "      <td>7</td>\n",
       "    </tr>\n",
       "    <tr>\n",
       "      <th>1</th>\n",
       "      <td>502338119014699009</td>\n",
       "      <td>I want to get away from everything so much to ...</td>\n",
       "      <td>&lt;a href=\"http://twitter.com/download/iphone\" r...</td>\n",
       "      <td>2316260946</td>\n",
       "      <td>0</td>\n",
       "      <td>0</td>\n",
       "      <td>0</td>\n",
       "      <td>0</td>\n",
       "      <td>0</td>\n",
       "      <td>0</td>\n",
       "      <td>...</td>\n",
       "      <td>2014-08-21 08:15:15</td>\n",
       "      <td>2015-05-01 16:01:22</td>\n",
       "      <td>2015-05-01 16:01:22</td>\n",
       "      <td>0</td>\n",
       "      <td>6</td>\n",
       "      <td>8</td>\n",
       "      <td>21</td>\n",
       "      <td>2014</td>\n",
       "      <td>74</td>\n",
       "      <td>17</td>\n",
       "    </tr>\n",
       "    <tr>\n",
       "      <th>2</th>\n",
       "      <td>522927775691182080</td>\n",
       "      <td>RT @JOEtheMORTON: Boy screws two girls – high ...</td>\n",
       "      <td>&lt;a href=\"https://twitter.com/download/android\"...</td>\n",
       "      <td>17801629</td>\n",
       "      <td>0</td>\n",
       "      <td>0</td>\n",
       "      <td>522927236446687232</td>\n",
       "      <td>625</td>\n",
       "      <td>0</td>\n",
       "      <td>0</td>\n",
       "      <td>...</td>\n",
       "      <td>2014-10-17 03:51:11</td>\n",
       "      <td>2015-05-01 13:49:06</td>\n",
       "      <td>2015-05-01 13:49:06</td>\n",
       "      <td>0</td>\n",
       "      <td>1</td>\n",
       "      <td>10</td>\n",
       "      <td>17</td>\n",
       "      <td>2014</td>\n",
       "      <td>101</td>\n",
       "      <td>18</td>\n",
       "    </tr>\n",
       "    <tr>\n",
       "      <th>3</th>\n",
       "      <td>401999073579778048</td>\n",
       "      <td>Good night that's for sure!!!! http://t.co/raC...</td>\n",
       "      <td>&lt;a href=\"http://twitter.com/download/android\" ...</td>\n",
       "      <td>191348890</td>\n",
       "      <td>0</td>\n",
       "      <td>0</td>\n",
       "      <td>0</td>\n",
       "      <td>0</td>\n",
       "      <td>0</td>\n",
       "      <td>0</td>\n",
       "      <td>...</td>\n",
       "      <td>2013-11-17 10:03:42</td>\n",
       "      <td>2015-05-01 13:54:03</td>\n",
       "      <td>2015-05-01 13:54:03</td>\n",
       "      <td>0</td>\n",
       "      <td>9</td>\n",
       "      <td>11</td>\n",
       "      <td>17</td>\n",
       "      <td>2013</td>\n",
       "      <td>53</td>\n",
       "      <td>6</td>\n",
       "    </tr>\n",
       "    <tr>\n",
       "      <th>4</th>\n",
       "      <td>578049062684925952</td>\n",
       "      <td>RT @HeatherLLove: Miserable single, miserable ...</td>\n",
       "      <td>&lt;a href=\"http://twitter.com/download/iphone\" r...</td>\n",
       "      <td>194476539</td>\n",
       "      <td>0</td>\n",
       "      <td>0</td>\n",
       "      <td>409039510132232192</td>\n",
       "      <td>124</td>\n",
       "      <td>0</td>\n",
       "      <td>0</td>\n",
       "      <td>...</td>\n",
       "      <td>2015-03-18 05:23:30</td>\n",
       "      <td>2015-05-01 13:59:22</td>\n",
       "      <td>2015-05-01 13:59:22</td>\n",
       "      <td>0</td>\n",
       "      <td>4</td>\n",
       "      <td>3</td>\n",
       "      <td>18</td>\n",
       "      <td>2015</td>\n",
       "      <td>96</td>\n",
       "      <td>14</td>\n",
       "    </tr>\n",
       "  </tbody>\n",
       "</table>\n",
       "<p>5 rows × 24 columns</p>\n",
       "</div>"
      ],
      "text/plain": [
       "                   id                                               text  \\\n",
       "0  572118705003368448           RT @kayybabyy3: We graduate in 3 months    \n",
       "1  502338119014699009  I want to get away from everything so much to ...   \n",
       "2  522927775691182080  RT @JOEtheMORTON: Boy screws two girls – high ...   \n",
       "3  401999073579778048  Good night that's for sure!!!! http://t.co/raC...   \n",
       "4  578049062684925952  RT @HeatherLLove: Miserable single, miserable ...   \n",
       "\n",
       "                                              source     user_id  \\\n",
       "0  <a href=\"http://twitter.com/download/iphone\" r...  2199062688   \n",
       "1  <a href=\"http://twitter.com/download/iphone\" r...  2316260946   \n",
       "2  <a href=\"https://twitter.com/download/android\"...    17801629   \n",
       "3  <a href=\"http://twitter.com/download/android\" ...   191348890   \n",
       "4  <a href=\"http://twitter.com/download/iphone\" r...   194476539   \n",
       "\n",
       "   in_reply_to_status_id  in_reply_to_user_id  retweeted_status_id  \\\n",
       "0                      0                    0   572111636233789440   \n",
       "1                      0                    0                    0   \n",
       "2                      0                    0   522927236446687232   \n",
       "3                      0                    0                    0   \n",
       "4                      0                    0   409039510132232192   \n",
       "\n",
       "   retweet_count  reply_count  favorite_count  ...           timestamp  \\\n",
       "0             15            0               0  ... 2015-03-01 20:38:23   \n",
       "1              0            0               0  ... 2014-08-21 08:15:15   \n",
       "2            625            0               0  ... 2014-10-17 03:51:11   \n",
       "3              0            0               0  ... 2013-11-17 10:03:42   \n",
       "4            124            0               0  ... 2015-03-18 05:23:30   \n",
       "\n",
       "           crawled_at             updated class hour month day  year  length  \\\n",
       "0 2015-05-01 14:00:11 2015-05-01 14:00:11     0   19     3   1  2015      40   \n",
       "1 2015-05-01 16:01:22 2015-05-01 16:01:22     0    6     8  21  2014      74   \n",
       "2 2015-05-01 13:49:06 2015-05-01 13:49:06     0    1    10  17  2014     101   \n",
       "3 2015-05-01 13:54:03 2015-05-01 13:54:03     0    9    11  17  2013      53   \n",
       "4 2015-05-01 13:59:22 2015-05-01 13:59:22     0    4     3  18  2015      96   \n",
       "\n",
       "   num_of_words  \n",
       "0             7  \n",
       "1            17  \n",
       "2            18  \n",
       "3             6  \n",
       "4            14  \n",
       "\n",
       "[5 rows x 24 columns]"
      ]
     },
     "execution_count": 30,
     "metadata": {},
     "output_type": "execute_result"
    }
   ],
   "source": [
    "sub_tweets.head()"
   ]
  },
  {
   "cell_type": "code",
   "execution_count": 31,
   "metadata": {},
   "outputs": [
    {
     "data": {
      "image/png": "[encoded data removed]",
      "text/plain": [
       "<Figure size 720x360 with 1 Axes>"
      ]
     },
     "metadata": {
      "needs_background": "light"
     },
     "output_type": "display_data"
    }
   ],
   "source": [
    "# Number of tweets by months - creating a plot\n",
    "\n",
    "sub_tweets['month_year'] = sub_tweets['created_at'].apply(lambda x: str(x.year)+'-'+str(x.month)+'-1')\n",
    "sub_tweets['month_year'].unique()[0]\n",
    "sub_tweets['month_year'] = pd.to_datetime(sub_tweets['month_year'])\n",
    "\n",
    "sub_tweets[['created_at', 'month_year']].head()\n",
    "\n",
    "yr_monthly_tweets2 = sub_tweets.groupby(['month','year']).size().unstack()\n",
    "\n",
    "\n",
    "plt.figure(figsize=(10,5))\n",
    "\n",
    "plt.title('Number of tweets by months', fontsize=12, fontweight='bold')\n",
    "plt.bar(yr_monthly_tweets2.index, yr_monthly_tweets2.values[:,0])\n",
    "plt.bar(yr_monthly_tweets2.index+12, yr_monthly_tweets2.values[:,1], color='g')\n",
    "plt.xticks(list(yr_monthly_tweets2.index)+list(yr_monthly_tweets2.index+12))\n",
    "plt.show() "
   ]
  },
  {
   "cell_type": "code",
   "execution_count": 32,
   "metadata": {},
   "outputs": [
    {
     "data": {
      "text/plain": [
       "count                   31418\n",
       "unique                     78\n",
       "top       2014-10-01 00:00:00\n",
       "freq                     6679\n",
       "first     2008-04-01 00:00:00\n",
       "last      2015-05-01 00:00:00\n",
       "Name: month_year, dtype: object"
      ]
     },
     "execution_count": 32,
     "metadata": {},
     "output_type": "execute_result"
    }
   ],
   "source": [
    "sub_tweets['month_year'].describe()"
   ]
  },
  {
   "cell_type": "code",
   "execution_count": 33,
   "metadata": {},
   "outputs": [
    {
     "data": {
      "text/plain": [
       "count    31418.000000\n",
       "mean      2014.096919\n",
       "std          0.692400\n",
       "min       2008.000000\n",
       "25%       2014.000000\n",
       "50%       2014.000000\n",
       "75%       2014.000000\n",
       "max       2015.000000\n",
       "Name: year, dtype: float64"
      ]
     },
     "execution_count": 33,
     "metadata": {},
     "output_type": "execute_result"
    }
   ],
   "source": [
    "sub_tweets['year'].describe()"
   ]
  },
  {
   "cell_type": "code",
   "execution_count": 34,
   "metadata": {},
   "outputs": [
    {
     "data": {
      "text/plain": [
       "(31418, 25)"
      ]
     },
     "execution_count": 34,
     "metadata": {},
     "output_type": "execute_result"
    }
   ],
   "source": [
    "sub_tweets.shape"
   ]
  },
  {
   "cell_type": "markdown",
   "metadata": {},
   "source": [
    "__Observation__: This dataset contains tweets posted from 2007 to 2015. Majority of the tweets were collected during 2014 and 2015. "
   ]
  },
  {
   "cell_type": "markdown",
   "metadata": {},
   "source": [
    "## Clean and Transform Tweets\n",
    "\n",
    "Before we can have a model process information from the tweets, we must convert text to numeric values that machines can understand. \n",
    "\n",
    "We will clean the tweets with the following steps:\n",
    "1. Remove hyperlinks, mentions, and 'RT' from retweets\n",
    "2. Word Counts with __CountVectorizer__: Convert a collection of text documents to a matrix of token counts\n",
    "     - Tokenization: Converting a sentence into a list of words\n",
    "     - Remove stopwords: Terms that were ignored because they either\n",
    "         - occurred in too many documents (max_df)\n",
    "         - occurred in too few documents (min_df)\n",
    "         - were cut off by feature selection (max_features).\n",
    "     - Lammentization/stemming: Converting any form of a word to its root word\n",
    "     - Returns vectors of the counts of each word\n",
    "3. Word Frequencies with __TfidfTransform__: Transform a count matrix to a normalized tf representation\n",
    "     - Term Frequency: This summarizes how often a given word appears within a document\n",
    "     - Inverse Document Frequency: This downscales words that appear a lot across documents <br>\n",
    "      idf(d, t) = log [ (1 + n) / (1 + df(d, t)) ] + 1.\n",
    "\n",
    "Reference:\n",
    "[clean tweet](https://machinelearningmastery.com/prepare-text-data-machine-learning-scikit-learn/)\n",
    " \n",
    "First, we will paritation the clean_tweets into separate classes for building bag of words and cut down on processing time for CountVectorizer and TfidTransformer. \n",
    " \n",
    "Let's start by cleaning the bot tweets. \n",
    "\n",
    "NOTE: Unable to Translate Italian tweets to English [Source](https://pypi.org/project/googletrans/)"
   ]
  },
  {
   "cell_type": "code",
   "execution_count": 35,
   "metadata": {},
   "outputs": [],
   "source": [
    "sub_tweets['text'] = sub_tweets['text'].astype('str')"
   ]
  },
  {
   "cell_type": "code",
   "execution_count": 36,
   "metadata": {},
   "outputs": [],
   "source": [
    "# Create df for user class\n",
    "bots = sub_tweets.loc[sub_tweets['class']==1]\n",
    "gen = sub_tweets.loc[sub_tweets['class']==0]"
   ]
  },
  {
   "cell_type": "code",
   "execution_count": 37,
   "metadata": {},
   "outputs": [
    {
     "data": {
      "text/html": [
       "<div>\n",
       "<style scoped>\n",
       "    .dataframe tbody tr th:only-of-type {\n",
       "        vertical-align: middle;\n",
       "    }\n",
       "\n",
       "    .dataframe tbody tr th {\n",
       "        vertical-align: top;\n",
       "    }\n",
       "\n",
       "    .dataframe thead th {\n",
       "        text-align: right;\n",
       "    }\n",
       "</style>\n",
       "<table border=\"1\" class=\"dataframe\">\n",
       "  <thead>\n",
       "    <tr style=\"text-align: right;\">\n",
       "      <th></th>\n",
       "      <th>text</th>\n",
       "    </tr>\n",
       "  </thead>\n",
       "  <tbody>\n",
       "    <tr>\n",
       "      <th>14134</th>\n",
       "      <td>Cdm, sì alla riduzione dei tribunali e in Gold...</td>\n",
       "    </tr>\n",
       "    <tr>\n",
       "      <th>14135</th>\n",
       "      <td>Io amo mangiare la pasta integrale</td>\n",
       "    </tr>\n",
       "    <tr>\n",
       "      <th>14136</th>\n",
       "      <td>A Company Still Fighting a Battle That Should ...</td>\n",
       "    </tr>\n",
       "    <tr>\n",
       "      <th>14137</th>\n",
       "      <td>@zslvskl \"The artist is nothing without the gi...</td>\n",
       "    </tr>\n",
       "    <tr>\n",
       "      <th>14138</th>\n",
       "      <td>Io amo guardare i bambini piccoli quando giocano</td>\n",
       "    </tr>\n",
       "  </tbody>\n",
       "</table>\n",
       "</div>"
      ],
      "text/plain": [
       "                                                    text\n",
       "14134  Cdm, sì alla riduzione dei tribunali e in Gold...\n",
       "14135                 Io amo mangiare la pasta integrale\n",
       "14136  A Company Still Fighting a Battle That Should ...\n",
       "14137  @zslvskl \"The artist is nothing without the gi...\n",
       "14138   Io amo guardare i bambini piccoli quando giocano"
      ]
     },
     "execution_count": 37,
     "metadata": {},
     "output_type": "execute_result"
    }
   ],
   "source": [
    "# Create new df \n",
    "b_tweets = pd.DataFrame(bots['text'])\n",
    "b_tweets.head()"
   ]
  },
  {
   "cell_type": "code",
   "execution_count": 38,
   "metadata": {},
   "outputs": [
    {
     "data": {
      "text/html": [
       "<div>\n",
       "<style scoped>\n",
       "    .dataframe tbody tr th:only-of-type {\n",
       "        vertical-align: middle;\n",
       "    }\n",
       "\n",
       "    .dataframe tbody tr th {\n",
       "        vertical-align: top;\n",
       "    }\n",
       "\n",
       "    .dataframe thead th {\n",
       "        text-align: right;\n",
       "    }\n",
       "</style>\n",
       "<table border=\"1\" class=\"dataframe\">\n",
       "  <thead>\n",
       "    <tr style=\"text-align: right;\">\n",
       "      <th></th>\n",
       "      <th>text</th>\n",
       "    </tr>\n",
       "  </thead>\n",
       "  <tbody>\n",
       "    <tr>\n",
       "      <th>0</th>\n",
       "      <td>RT @kayybabyy3: We graduate in 3 months</td>\n",
       "    </tr>\n",
       "    <tr>\n",
       "      <th>1</th>\n",
       "      <td>I want to get away from everything so much to ...</td>\n",
       "    </tr>\n",
       "    <tr>\n",
       "      <th>2</th>\n",
       "      <td>RT @JOEtheMORTON: Boy screws two girls – high ...</td>\n",
       "    </tr>\n",
       "    <tr>\n",
       "      <th>3</th>\n",
       "      <td>Good night that's for sure!!!! http://t.co/raC...</td>\n",
       "    </tr>\n",
       "    <tr>\n",
       "      <th>4</th>\n",
       "      <td>RT @HeatherLLove: Miserable single, miserable ...</td>\n",
       "    </tr>\n",
       "  </tbody>\n",
       "</table>\n",
       "</div>"
      ],
      "text/plain": [
       "                                                text\n",
       "0           RT @kayybabyy3: We graduate in 3 months \n",
       "1  I want to get away from everything so much to ...\n",
       "2  RT @JOEtheMORTON: Boy screws two girls – high ...\n",
       "3  Good night that's for sure!!!! http://t.co/raC...\n",
       "4  RT @HeatherLLove: Miserable single, miserable ..."
      ]
     },
     "execution_count": 38,
     "metadata": {},
     "output_type": "execute_result"
    }
   ],
   "source": [
    "# Create new df  \n",
    "g_tweets = pd.DataFrame(gen['text'])\n",
    "g_tweets.head()"
   ]
  },
  {
   "cell_type": "markdown",
   "metadata": {},
   "source": [
    "Let's clean the tweets to remove links, @, and RT."
   ]
  },
  {
   "cell_type": "code",
   "execution_count": 39,
   "metadata": {},
   "outputs": [
    {
     "data": {
      "text/html": [
       "<div>\n",
       "<style scoped>\n",
       "    .dataframe tbody tr th:only-of-type {\n",
       "        vertical-align: middle;\n",
       "    }\n",
       "\n",
       "    .dataframe tbody tr th {\n",
       "        vertical-align: top;\n",
       "    }\n",
       "\n",
       "    .dataframe thead th {\n",
       "        text-align: right;\n",
       "    }\n",
       "</style>\n",
       "<table border=\"1\" class=\"dataframe\">\n",
       "  <thead>\n",
       "    <tr style=\"text-align: right;\">\n",
       "      <th></th>\n",
       "      <th>text</th>\n",
       "      <th>clean_tweets</th>\n",
       "    </tr>\n",
       "  </thead>\n",
       "  <tbody>\n",
       "    <tr>\n",
       "      <th>14134</th>\n",
       "      <td>Cdm, sì alla riduzione dei tribunali e in Gold...</td>\n",
       "      <td>Cdm, sì alla riduzione dei tribunali e in Gold...</td>\n",
       "    </tr>\n",
       "    <tr>\n",
       "      <th>14135</th>\n",
       "      <td>Io amo mangiare la pasta integrale</td>\n",
       "      <td>Io amo mangiare la pasta integrale</td>\n",
       "    </tr>\n",
       "    <tr>\n",
       "      <th>14136</th>\n",
       "      <td>A Company Still Fighting a Battle That Should ...</td>\n",
       "      <td>A Company Still Fighting a Battle That Should ...</td>\n",
       "    </tr>\n",
       "    <tr>\n",
       "      <th>14137</th>\n",
       "      <td>@zslvskl \"The artist is nothing without the gi...</td>\n",
       "      <td>\"The artist is nothing without the gift, but ...</td>\n",
       "    </tr>\n",
       "    <tr>\n",
       "      <th>14138</th>\n",
       "      <td>Io amo guardare i bambini piccoli quando giocano</td>\n",
       "      <td>Io amo guardare i bambini piccoli quando giocano</td>\n",
       "    </tr>\n",
       "  </tbody>\n",
       "</table>\n",
       "</div>"
      ],
      "text/plain": [
       "                                                    text  \\\n",
       "14134  Cdm, sì alla riduzione dei tribunali e in Gold...   \n",
       "14135                 Io amo mangiare la pasta integrale   \n",
       "14136  A Company Still Fighting a Battle That Should ...   \n",
       "14137  @zslvskl \"The artist is nothing without the gi...   \n",
       "14138   Io amo guardare i bambini piccoli quando giocano   \n",
       "\n",
       "                                            clean_tweets  \n",
       "14134  Cdm, sì alla riduzione dei tribunali e in Gold...  \n",
       "14135                 Io amo mangiare la pasta integrale  \n",
       "14136  A Company Still Fighting a Battle That Should ...  \n",
       "14137   \"The artist is nothing without the gift, but ...  \n",
       "14138   Io amo guardare i bambini piccoli quando giocano  "
      ]
     },
     "execution_count": 39,
     "metadata": {},
     "output_type": "execute_result"
    }
   ],
   "source": [
    "def text_cleaner(text):\n",
    "    text = re.sub(r'http.*','',text)\n",
    "    text = re.sub(\"@[A-Za-z0-9]+\",'',text)\n",
    "    text = re.sub(r'bit/ly.*', '', text)\n",
    "    text = re.sub(r'b\\'', '', text)\n",
    "    text = re.sub(r'b\"', '', text)\n",
    "    text = text.replace('RT', '')\n",
    "    return text\n",
    "\n",
    "b_tweets['clean_tweets'] = b_tweets['text'].apply(lambda x: text_cleaner(x))\n",
    "\n",
    "b_tweets.head()"
   ]
  },
  {
   "cell_type": "code",
   "execution_count": 40,
   "metadata": {},
   "outputs": [
    {
     "data": {
      "text/html": [
       "<div>\n",
       "<style scoped>\n",
       "    .dataframe tbody tr th:only-of-type {\n",
       "        vertical-align: middle;\n",
       "    }\n",
       "\n",
       "    .dataframe tbody tr th {\n",
       "        vertical-align: top;\n",
       "    }\n",
       "\n",
       "    .dataframe thead th {\n",
       "        text-align: right;\n",
       "    }\n",
       "</style>\n",
       "<table border=\"1\" class=\"dataframe\">\n",
       "  <thead>\n",
       "    <tr style=\"text-align: right;\">\n",
       "      <th></th>\n",
       "      <th>text</th>\n",
       "      <th>clean_tweets</th>\n",
       "    </tr>\n",
       "  </thead>\n",
       "  <tbody>\n",
       "    <tr>\n",
       "      <th>0</th>\n",
       "      <td>RT @kayybabyy3: We graduate in 3 months</td>\n",
       "      <td>: We graduate in 3 months</td>\n",
       "    </tr>\n",
       "    <tr>\n",
       "      <th>1</th>\n",
       "      <td>I want to get away from everything so much to ...</td>\n",
       "      <td>I want to get away from everything so much to ...</td>\n",
       "    </tr>\n",
       "    <tr>\n",
       "      <th>2</th>\n",
       "      <td>RT @JOEtheMORTON: Boy screws two girls – high ...</td>\n",
       "      <td>: Boy screws two girls – high fives. Girl scr...</td>\n",
       "    </tr>\n",
       "    <tr>\n",
       "      <th>3</th>\n",
       "      <td>Good night that's for sure!!!! http://t.co/raC...</td>\n",
       "      <td>Good night that's for sure!!!!</td>\n",
       "    </tr>\n",
       "    <tr>\n",
       "      <th>4</th>\n",
       "      <td>RT @HeatherLLove: Miserable single, miserable ...</td>\n",
       "      <td>: Miserable single, miserable married. Being ...</td>\n",
       "    </tr>\n",
       "  </tbody>\n",
       "</table>\n",
       "</div>"
      ],
      "text/plain": [
       "                                                text  \\\n",
       "0           RT @kayybabyy3: We graduate in 3 months    \n",
       "1  I want to get away from everything so much to ...   \n",
       "2  RT @JOEtheMORTON: Boy screws two girls – high ...   \n",
       "3  Good night that's for sure!!!! http://t.co/raC...   \n",
       "4  RT @HeatherLLove: Miserable single, miserable ...   \n",
       "\n",
       "                                        clean_tweets  \n",
       "0                         : We graduate in 3 months   \n",
       "1  I want to get away from everything so much to ...  \n",
       "2   : Boy screws two girls – high fives. Girl scr...  \n",
       "3                    Good night that's for sure!!!!   \n",
       "4   : Miserable single, miserable married. Being ...  "
      ]
     },
     "execution_count": 40,
     "metadata": {},
     "output_type": "execute_result"
    }
   ],
   "source": [
    "g_tweets['clean_tweets'] = g_tweets['text'].apply(lambda x: text_cleaner(x))\n",
    "\n",
    "g_tweets.head()"
   ]
  },
  {
   "cell_type": "code",
   "execution_count": 41,
   "metadata": {},
   "outputs": [
    {
     "name": "stderr",
     "output_type": "stream",
     "text": [
      "/Users/tsawaengsri/anaconda3/lib/python3.6/re.py:212: FutureWarning: split() requires a non-empty pattern match.\n",
      "  return _compile(pattern, flags).split(string, maxsplit)\n"
     ]
    },
    {
     "data": {
      "text/html": [
       "<div>\n",
       "<style scoped>\n",
       "    .dataframe tbody tr th:only-of-type {\n",
       "        vertical-align: middle;\n",
       "    }\n",
       "\n",
       "    .dataframe tbody tr th {\n",
       "        vertical-align: top;\n",
       "    }\n",
       "\n",
       "    .dataframe thead th {\n",
       "        text-align: right;\n",
       "    }\n",
       "</style>\n",
       "<table border=\"1\" class=\"dataframe\">\n",
       "  <thead>\n",
       "    <tr style=\"text-align: right;\">\n",
       "      <th></th>\n",
       "      <th>text</th>\n",
       "      <th>clean_tweets</th>\n",
       "    </tr>\n",
       "  </thead>\n",
       "  <tbody>\n",
       "    <tr>\n",
       "      <th>14134</th>\n",
       "      <td>Cdm, sì alla riduzione dei tribunali e in Gold...</td>\n",
       "      <td>cdm s alla riduzione dei tribunali e in golden...</td>\n",
       "    </tr>\n",
       "    <tr>\n",
       "      <th>14135</th>\n",
       "      <td>Io amo mangiare la pasta integrale</td>\n",
       "      <td>io amo mangiare la pasta integrale</td>\n",
       "    </tr>\n",
       "    <tr>\n",
       "      <th>14136</th>\n",
       "      <td>A Company Still Fighting a Battle That Should ...</td>\n",
       "      <td>a company still fighting a battle that should ...</td>\n",
       "    </tr>\n",
       "    <tr>\n",
       "      <th>14137</th>\n",
       "      <td>@zslvskl \"The artist is nothing without the gi...</td>\n",
       "      <td>the artist is nothing without the gift but th...</td>\n",
       "    </tr>\n",
       "    <tr>\n",
       "      <th>14138</th>\n",
       "      <td>Io amo guardare i bambini piccoli quando giocano</td>\n",
       "      <td>io amo guardare i bambini piccoli quando giocano</td>\n",
       "    </tr>\n",
       "  </tbody>\n",
       "</table>\n",
       "</div>"
      ],
      "text/plain": [
       "                                                    text  \\\n",
       "14134  Cdm, sì alla riduzione dei tribunali e in Gold...   \n",
       "14135                 Io amo mangiare la pasta integrale   \n",
       "14136  A Company Still Fighting a Battle That Should ...   \n",
       "14137  @zslvskl \"The artist is nothing without the gi...   \n",
       "14138   Io amo guardare i bambini piccoli quando giocano   \n",
       "\n",
       "                                            clean_tweets  \n",
       "14134  cdm s alla riduzione dei tribunali e in golden...  \n",
       "14135                 io amo mangiare la pasta integrale  \n",
       "14136  a company still fighting a battle that should ...  \n",
       "14137   the artist is nothing without the gift but th...  \n",
       "14138   io amo guardare i bambini piccoli quando giocano  "
      ]
     },
     "execution_count": 41,
     "metadata": {},
     "output_type": "execute_result"
    }
   ],
   "source": [
    "# Return only characters \n",
    "def clean_alpha(text):\n",
    "    text = \" \".join(re.split(\"[^a-zA-Z]*\", text))\n",
    "    return text\n",
    "\n",
    "b_tweets['clean_tweets'] = b_tweets['clean_tweets'].apply(lambda x: clean_alpha(x.lower()))\n",
    "\n",
    "b_tweets.head()"
   ]
  },
  {
   "cell_type": "code",
   "execution_count": 42,
   "metadata": {},
   "outputs": [
    {
     "data": {
      "text/html": [
       "<div>\n",
       "<style scoped>\n",
       "    .dataframe tbody tr th:only-of-type {\n",
       "        vertical-align: middle;\n",
       "    }\n",
       "\n",
       "    .dataframe tbody tr th {\n",
       "        vertical-align: top;\n",
       "    }\n",
       "\n",
       "    .dataframe thead th {\n",
       "        text-align: right;\n",
       "    }\n",
       "</style>\n",
       "<table border=\"1\" class=\"dataframe\">\n",
       "  <thead>\n",
       "    <tr style=\"text-align: right;\">\n",
       "      <th></th>\n",
       "      <th>text</th>\n",
       "      <th>clean_tweets</th>\n",
       "    </tr>\n",
       "  </thead>\n",
       "  <tbody>\n",
       "    <tr>\n",
       "      <th>0</th>\n",
       "      <td>RT @kayybabyy3: We graduate in 3 months</td>\n",
       "      <td>we graduate in months</td>\n",
       "    </tr>\n",
       "    <tr>\n",
       "      <th>1</th>\n",
       "      <td>I want to get away from everything so much to ...</td>\n",
       "      <td>i want to get away from everything so much to ...</td>\n",
       "    </tr>\n",
       "    <tr>\n",
       "      <th>2</th>\n",
       "      <td>RT @JOEtheMORTON: Boy screws two girls – high ...</td>\n",
       "      <td>boy screws two girls high fives girl screws t...</td>\n",
       "    </tr>\n",
       "    <tr>\n",
       "      <th>3</th>\n",
       "      <td>Good night that's for sure!!!! http://t.co/raC...</td>\n",
       "      <td>good night that s for sure</td>\n",
       "    </tr>\n",
       "    <tr>\n",
       "      <th>4</th>\n",
       "      <td>RT @HeatherLLove: Miserable single, miserable ...</td>\n",
       "      <td>miserable single miserable married being cont...</td>\n",
       "    </tr>\n",
       "  </tbody>\n",
       "</table>\n",
       "</div>"
      ],
      "text/plain": [
       "                                                text  \\\n",
       "0           RT @kayybabyy3: We graduate in 3 months    \n",
       "1  I want to get away from everything so much to ...   \n",
       "2  RT @JOEtheMORTON: Boy screws two girls – high ...   \n",
       "3  Good night that's for sure!!!! http://t.co/raC...   \n",
       "4  RT @HeatherLLove: Miserable single, miserable ...   \n",
       "\n",
       "                                        clean_tweets  \n",
       "0                             we graduate in months   \n",
       "1  i want to get away from everything so much to ...  \n",
       "2   boy screws two girls high fives girl screws t...  \n",
       "3                        good night that s for sure   \n",
       "4   miserable single miserable married being cont...  "
      ]
     },
     "execution_count": 42,
     "metadata": {},
     "output_type": "execute_result"
    }
   ],
   "source": [
    "g_tweets['clean_tweets'] = g_tweets['clean_tweets'].apply(lambda x: clean_alpha(x.lower()))\n",
    "\n",
    "g_tweets.head()"
   ]
  },
  {
   "cell_type": "markdown",
   "metadata": {},
   "source": [
    "Since we were unable to translate non English tweets, those cells are empty and will be dropped."
   ]
  },
  {
   "cell_type": "code",
   "execution_count": 43,
   "metadata": {},
   "outputs": [
    {
     "name": "stderr",
     "output_type": "stream",
     "text": [
      "/Users/tsawaengsri/anaconda3/lib/python3.6/site-packages/ipykernel_launcher.py:2: SettingWithCopyWarning: \n",
      "A value is trying to be set on a copy of a slice from a DataFrame.\n",
      "Try using .loc[row_indexer,col_indexer] = value instead\n",
      "\n",
      "See the caveats in the documentation: http://pandas.pydata.org/pandas-docs/stable/user_guide/indexing.html#returning-a-view-versus-a-copy\n",
      "  \n",
      "/Users/tsawaengsri/anaconda3/lib/python3.6/site-packages/ipykernel_launcher.py:3: SettingWithCopyWarning: \n",
      "A value is trying to be set on a copy of a slice from a DataFrame.\n",
      "Try using .loc[row_indexer,col_indexer] = value instead\n",
      "\n",
      "See the caveats in the documentation: http://pandas.pydata.org/pandas-docs/stable/user_guide/indexing.html#returning-a-view-versus-a-copy\n",
      "  This is separate from the ipykernel package so we can avoid doing imports until\n"
     ]
    }
   ],
   "source": [
    "# Add clean_tweets back to bots and gen df to drop empty tweets\n",
    "bots['clean_tweets'] = b_tweets['clean_tweets']\n",
    "gen['clean_tweets'] = g_tweets['clean_tweets']"
   ]
  },
  {
   "cell_type": "code",
   "execution_count": 44,
   "metadata": {},
   "outputs": [
    {
     "name": "stdout",
     "output_type": "stream",
     "text": [
      "(17284, 26)\n",
      "(14134, 26)\n"
     ]
    }
   ],
   "source": [
    "# Shape before dropping empty tweets\n",
    "print(bots.shape)\n",
    "print(gen.shape)"
   ]
  },
  {
   "cell_type": "code",
   "execution_count": 45,
   "metadata": {},
   "outputs": [],
   "source": [
    "# Replace field that's entirely space (or empty) with NaN\n",
    "bots = bots.replace(r'^\\s*$', np.nan, regex=True)\n",
    "gen = gen.replace(r'^\\s*$', np.nan, regex=True)"
   ]
  },
  {
   "cell_type": "code",
   "execution_count": 46,
   "metadata": {},
   "outputs": [],
   "source": [
    "# Drop nan\n",
    "bots = bots.dropna() \n",
    "gen = gen.dropna()"
   ]
  },
  {
   "cell_type": "code",
   "execution_count": 47,
   "metadata": {},
   "outputs": [],
   "source": [
    "# Reset index to start at 0\n",
    "bots = bots.reset_index()\n",
    "gen = gen.reset_index()"
   ]
  },
  {
   "cell_type": "code",
   "execution_count": 48,
   "metadata": {},
   "outputs": [
    {
     "name": "stdout",
     "output_type": "stream",
     "text": [
      "(16994, 27)\n",
      "(13591, 27)\n"
     ]
    }
   ],
   "source": [
    "# Shape after dropping empty tweets\n",
    "print(bots.shape)\n",
    "print(gen.shape)"
   ]
  },
  {
   "cell_type": "markdown",
   "metadata": {},
   "source": [
    "We lost a few hundreds of tweets for bots and genuine accounts. "
   ]
  },
  {
   "cell_type": "code",
   "execution_count": 49,
   "metadata": {},
   "outputs": [],
   "source": [
    "# Convert df to np arrary \n",
    "b_clean = bots['clean_tweets'].values\n",
    "g_clean = gen['clean_tweets'].values"
   ]
  },
  {
   "cell_type": "code",
   "execution_count": 50,
   "metadata": {},
   "outputs": [],
   "source": [
    "# Convert np arrary to one deminsional array \n",
    "b_clean = b_clean.ravel()"
   ]
  },
  {
   "cell_type": "code",
   "execution_count": 51,
   "metadata": {},
   "outputs": [
    {
     "data": {
      "text/plain": [
       "numpy.ndarray"
      ]
     },
     "execution_count": 51,
     "metadata": {},
     "output_type": "execute_result"
    }
   ],
   "source": [
    "type(b_clean)"
   ]
  },
  {
   "cell_type": "code",
   "execution_count": 52,
   "metadata": {},
   "outputs": [],
   "source": [
    "# Convert np arrary to one deminsional array \n",
    "g_clean = g_clean.ravel()"
   ]
  },
  {
   "cell_type": "code",
   "execution_count": 53,
   "metadata": {},
   "outputs": [
    {
     "data": {
      "text/plain": [
       "numpy.ndarray"
      ]
     },
     "execution_count": 53,
     "metadata": {},
     "output_type": "execute_result"
    }
   ],
   "source": [
    "type(g_clean)"
   ]
  },
  {
   "cell_type": "markdown",
   "metadata": {},
   "source": [
    "### Text Processing - Count Vectorizer\n",
    "Converting a collection of stemmed tweets to a matrix of token counts"
   ]
  },
  {
   "cell_type": "code",
   "execution_count": 54,
   "metadata": {},
   "outputs": [
    {
     "name": "stdout",
     "output_type": "stream",
     "text": [
      "(16994, 21263)\n",
      "<class 'scipy.sparse.csr.csr_matrix'>\n"
     ]
    }
   ],
   "source": [
    "# Initialize a CountVectorizer object for bot tweets\n",
    "b_count_vectorizer = CountVectorizer(stop_words='english')\n",
    "\n",
    "# Learn the vocabulary dictionary and return term-document matrix for bot tweets\n",
    "b_clean = b_count_vectorizer.fit_transform(b_clean) \n",
    "\n",
    "# Summarize encoded vector\n",
    "print(b_clean.shape)\n",
    "print(type(b_clean))"
   ]
  },
  {
   "cell_type": "code",
   "execution_count": 55,
   "metadata": {},
   "outputs": [
    {
     "data": {
      "text/plain": [
       "array(['aa', 'aaa', 'aaaaaaaa', 'aaaah', 'aan', 'aantal', 'aar', 'aaron',\n",
       "       'ab', 'aba', 'abaia', 'abate', 'abba', 'abbaia', 'abbaiano',\n",
       "       'abbaiate', 'abbamo', 'abbandona', 'abbandonano', 'abbandonare',\n",
       "       'abbandonato', 'abbassare', 'abbassarsi', 'abbassate', 'abbassava',\n",
       "       'abbasser', 'abbassi', 'abbastanza', 'abbatterti', 'abbestia'],\n",
       "      dtype='<U11')"
      ]
     },
     "execution_count": 55,
     "metadata": {},
     "output_type": "execute_result"
    }
   ],
   "source": [
    "# Bot Tweets Vocabulary \n",
    "b_vocab = b_count_vectorizer.get_feature_names()\n",
    "np.array(b_vocab[:30])"
   ]
  },
  {
   "cell_type": "code",
   "execution_count": 56,
   "metadata": {},
   "outputs": [
    {
     "name": "stdout",
     "output_type": "stream",
     "text": [
      "(13591, 21237)\n",
      "<class 'scipy.sparse.csr.csr_matrix'>\n"
     ]
    }
   ],
   "source": [
    "# Initialize a CountVectorizer object for bot tweets\n",
    "g_count_vectorizer = CountVectorizer(stop_words='english')\n",
    "\n",
    "# Learn the vocabulary dictionary and return term-document matrix for genuine tweets\n",
    "g_clean = g_count_vectorizer.fit_transform(g_clean)\n",
    "\n",
    "# Summarize encoded vector\n",
    "print(g_clean.shape)\n",
    "print(type(g_clean))"
   ]
  },
  {
   "cell_type": "code",
   "execution_count": 57,
   "metadata": {},
   "outputs": [
    {
     "data": {
      "text/plain": [
       "array(['aa', 'aaaaagggggh', 'aaaaand', 'aaaaannddd', 'aaaaaw', 'aaaaugh',\n",
       "       'aaannnddd', 'aaayleen', 'aab', 'aadmi', 'aah', 'aaliayaaah',\n",
       "       'aaliyah', 'aam', 'aan', 'aanraden', 'aanvaardbaar', 'aap',\n",
       "       'aapatwork', 'aapbre', 'aapkapaap', 'aapkasting', 'aapwar',\n",
       "       'aargh', 'aaron', 'aarons', 'aashish', 'aatend', 'aaya', 'ab'],\n",
       "      dtype='<U12')"
      ]
     },
     "execution_count": 57,
     "metadata": {},
     "output_type": "execute_result"
    }
   ],
   "source": [
    "# Genuine Tweets Vocabulary \n",
    "g_vocab = g_count_vectorizer.get_feature_names()\n",
    "np.array(g_vocab[:30])"
   ]
  },
  {
   "cell_type": "markdown",
   "metadata": {},
   "source": [
    "### Text Processing - Count Vectorizer\n",
    "Tf-idf stands for term frequencey-inverse document frequency. It's a numerical statistic intended to reflect\n",
    "\n",
    "How important a word is to a document or a corpus (i.e a collection of documents)\n",
    "\n",
    " * number of rows is the total number of documents (list of stemmed tweets)\n",
    " * number of columns is the total number of unique terms (tokens) across the documents"
   ]
  },
  {
   "cell_type": "code",
   "execution_count": 58,
   "metadata": {},
   "outputs": [
    {
     "name": "stdout",
     "output_type": "stream",
     "text": [
      "(16994, 21263)\n",
      "<class 'scipy.sparse.csr.csr_matrix'>\n"
     ]
    }
   ],
   "source": [
    "# Learn the idf vector (global term weights) for bot tweets\n",
    "b_tf_transformer = TfidfTransformer(use_idf=False).fit(b_clean) # Don't enable inverse-document-frequency reweighting\n",
    "\n",
    "# Transform a count matrix to a tf-idf representation\n",
    "b_tfidf_train = b_tf_transformer.transform(b_clean)\n",
    "\n",
    "# Summarize encoded vector\n",
    "print(b_tfidf_train.shape)\n",
    "print(type(b_tfidf_train))"
   ]
  },
  {
   "cell_type": "code",
   "execution_count": 59,
   "metadata": {},
   "outputs": [
    {
     "name": "stdout",
     "output_type": "stream",
     "text": [
      "(13591, 21237)\n",
      "<class 'scipy.sparse.csr.csr_matrix'>\n"
     ]
    }
   ],
   "source": [
    "# Learn the idf vector (global term weights) for genuine tweets\n",
    "g_tf_transformer = TfidfTransformer(use_idf=False).fit(g_clean)\n",
    "\n",
    "# Transform a count matrix to a tf-idf representation\n",
    "g_tfidf_train = g_tf_transformer.transform(g_clean)\n",
    "\n",
    "# Summarize encoded vector\n",
    "print(g_tfidf_train.shape)\n",
    "print(type(g_tfidf_train))"
   ]
  },
  {
   "cell_type": "markdown",
   "metadata": {},
   "source": [
    "As shown above, there are over 20,000 tokens for both bots and genuine tweets. We'll need to reduce the number of features to prevent overfitting. \n",
    "\n",
    "__TruncatedSVD__: performs linear dimensionality reduction by means of truncated singular value decomposition (SVD). Contrary to PCA, this estimator does not center the data before computing the singular value decomposition. This means it can work with scipy.sparse matrices efficiently."
   ]
  },
  {
   "cell_type": "code",
   "execution_count": 60,
   "metadata": {
    "scrolled": true
   },
   "outputs": [
    {
     "name": "stdout",
     "output_type": "stream",
     "text": [
      "(16994, 100)\n",
      "[0.02077052 0.01394319 0.01121958 0.01107974 0.0097594  0.00945787\n",
      " 0.00964541 0.00651413 0.00614224 0.00543176 0.00512367 0.0048434\n",
      " 0.00439824 0.00449882 0.0041641  0.00398382 0.00396022 0.00336322\n",
      " 0.00353511 0.00337948 0.00320369 0.00315312 0.0029831  0.00291237\n",
      " 0.00289592 0.00280489 0.0026552  0.00254794 0.002595   0.00249055\n",
      " 0.00247648 0.00242055 0.00236152 0.00229517 0.0022761  0.00226516\n",
      " 0.00221637 0.00218192 0.00218437 0.00213972 0.0021363  0.00209443\n",
      " 0.00205262 0.00203579 0.0020282  0.00195634 0.00196326 0.0019534\n",
      " 0.00192802 0.00188413 0.00187954 0.00183764 0.00180202 0.00177771\n",
      " 0.00177606 0.00174538 0.00173631 0.0016997  0.00168439 0.00164366\n",
      " 0.00162839 0.00161937 0.00160112 0.00158098 0.00157153 0.00156396\n",
      " 0.00156143 0.00153597 0.00150629 0.00149968 0.00146598 0.00146043\n",
      " 0.00145095 0.0014384  0.00141868 0.00139898 0.00136573 0.0013467\n",
      " 0.00133372 0.0013175  0.00131756 0.00130153 0.00129197 0.0012778\n",
      " 0.00125838 0.00125534 0.00124084 0.00121774 0.00121363 0.00119453\n",
      " 0.00118997 0.00117957 0.00116994 0.00115896 0.0011499  0.0011326\n",
      " 0.00112628 0.00111533 0.00109992 0.00109252]\n",
      "0.29200735189460536\n"
     ]
    }
   ],
   "source": [
    "# TruncatedSVD to reduce dimensions \n",
    "svd = TruncatedSVD(n_components=100, n_iter=7, random_state=42).fit(b_tfidf_train)\n",
    "b_svdTFit = svd.fit_transform(b_tfidf_train)\n",
    "\n",
    "# Summary of transformation \n",
    "print(b_svdTFit.shape)\n",
    "print(svd.explained_variance_)\n",
    "print(svd.explained_variance_ratio_.sum())"
   ]
  },
  {
   "cell_type": "code",
   "execution_count": 61,
   "metadata": {},
   "outputs": [
    {
     "name": "stdout",
     "output_type": "stream",
     "text": [
      "(13591, 100)\n",
      "[0.00691116 0.00697051 0.00648289 0.0050944  0.00474584 0.00459008\n",
      " 0.00402804 0.00396403 0.00390788 0.00379856 0.00363408 0.00357089\n",
      " 0.00349432 0.00323963 0.00296112 0.00303113 0.003001   0.00299088\n",
      " 0.00290096 0.0028246  0.00262278 0.00263557 0.00249111 0.00247254\n",
      " 0.00243828 0.00239033 0.00231237 0.00219312 0.00221713 0.00220393\n",
      " 0.00215115 0.00211972 0.00207918 0.00209483 0.00206544 0.00205594\n",
      " 0.00203988 0.00199199 0.00197535 0.00194217 0.00193707 0.00191901\n",
      " 0.00188655 0.00186699 0.00184973 0.00178951 0.00179224 0.00174117\n",
      " 0.00166062 0.00165307 0.00164044 0.00162531 0.00160766 0.00159434\n",
      " 0.0015885  0.00157276 0.00156305 0.00155989 0.00155755 0.0015449\n",
      " 0.00152511 0.00151557 0.00148002 0.00146713 0.0014415  0.0014285\n",
      " 0.00142129 0.00140652 0.00140407 0.001385   0.00137895 0.00135486\n",
      " 0.00134769 0.00134591 0.00132624 0.00132363 0.00131221 0.00130916\n",
      " 0.00128509 0.00127023 0.00126022 0.00124915 0.00124227 0.00122751\n",
      " 0.0012166  0.00120412 0.0012001  0.00118978 0.00118187 0.0011763\n",
      " 0.00116354 0.00115247 0.00113661 0.00112379 0.00109563 0.00108924\n",
      " 0.00107998 0.00106743 0.00105612 0.00104209]\n",
      "0.2144287448462543\n"
     ]
    }
   ],
   "source": [
    "# TruncatedSVD to reduce dimensions \n",
    "svd2 = TruncatedSVD(n_components=100, n_iter=7, random_state=42).fit(g_tfidf_train)\n",
    "g_svdTFit = svd2.fit_transform(g_tfidf_train)\n",
    "\n",
    "# Summary of transformation \n",
    "print(g_svdTFit.shape)\n",
    "print(svd2.explained_variance_)\n",
    "print(svd2.explained_variance_ratio_.sum())"
   ]
  },
  {
   "cell_type": "code",
   "execution_count": 62,
   "metadata": {},
   "outputs": [
    {
     "data": {
      "text/html": [
       "<div>\n",
       "<style scoped>\n",
       "    .dataframe tbody tr th:only-of-type {\n",
       "        vertical-align: middle;\n",
       "    }\n",
       "\n",
       "    .dataframe tbody tr th {\n",
       "        vertical-align: top;\n",
       "    }\n",
       "\n",
       "    .dataframe thead th {\n",
       "        text-align: right;\n",
       "    }\n",
       "</style>\n",
       "<table border=\"1\" class=\"dataframe\">\n",
       "  <thead>\n",
       "    <tr style=\"text-align: right;\">\n",
       "      <th></th>\n",
       "      <th>0</th>\n",
       "      <th>1</th>\n",
       "      <th>2</th>\n",
       "      <th>3</th>\n",
       "      <th>4</th>\n",
       "      <th>5</th>\n",
       "      <th>6</th>\n",
       "      <th>7</th>\n",
       "      <th>8</th>\n",
       "      <th>9</th>\n",
       "      <th>...</th>\n",
       "      <th>90</th>\n",
       "      <th>91</th>\n",
       "      <th>92</th>\n",
       "      <th>93</th>\n",
       "      <th>94</th>\n",
       "      <th>95</th>\n",
       "      <th>96</th>\n",
       "      <th>97</th>\n",
       "      <th>98</th>\n",
       "      <th>99</th>\n",
       "    </tr>\n",
       "  </thead>\n",
       "  <tbody>\n",
       "    <tr>\n",
       "      <th>0</th>\n",
       "      <td>0.120229</td>\n",
       "      <td>0.001038</td>\n",
       "      <td>0.184379</td>\n",
       "      <td>-0.060800</td>\n",
       "      <td>-0.054781</td>\n",
       "      <td>0.004814</td>\n",
       "      <td>-0.037022</td>\n",
       "      <td>0.000393</td>\n",
       "      <td>-0.013250</td>\n",
       "      <td>-0.000737</td>\n",
       "      <td>...</td>\n",
       "      <td>0.020762</td>\n",
       "      <td>0.020790</td>\n",
       "      <td>0.077379</td>\n",
       "      <td>0.003520</td>\n",
       "      <td>0.064321</td>\n",
       "      <td>-0.028721</td>\n",
       "      <td>-0.015316</td>\n",
       "      <td>-0.003315</td>\n",
       "      <td>0.056829</td>\n",
       "      <td>0.081742</td>\n",
       "    </tr>\n",
       "    <tr>\n",
       "      <th>1</th>\n",
       "      <td>0.182468</td>\n",
       "      <td>0.005315</td>\n",
       "      <td>0.001064</td>\n",
       "      <td>0.364664</td>\n",
       "      <td>-0.037197</td>\n",
       "      <td>0.001754</td>\n",
       "      <td>-0.081949</td>\n",
       "      <td>0.001325</td>\n",
       "      <td>0.137659</td>\n",
       "      <td>0.000523</td>\n",
       "      <td>...</td>\n",
       "      <td>0.003409</td>\n",
       "      <td>-0.012606</td>\n",
       "      <td>-0.012772</td>\n",
       "      <td>-0.002260</td>\n",
       "      <td>-0.000167</td>\n",
       "      <td>0.001419</td>\n",
       "      <td>0.009987</td>\n",
       "      <td>0.005297</td>\n",
       "      <td>0.014455</td>\n",
       "      <td>-0.024315</td>\n",
       "    </tr>\n",
       "    <tr>\n",
       "      <th>2</th>\n",
       "      <td>0.000054</td>\n",
       "      <td>0.003263</td>\n",
       "      <td>-0.000020</td>\n",
       "      <td>0.000137</td>\n",
       "      <td>0.000164</td>\n",
       "      <td>0.002430</td>\n",
       "      <td>0.000064</td>\n",
       "      <td>0.001885</td>\n",
       "      <td>0.000268</td>\n",
       "      <td>-0.001503</td>\n",
       "      <td>...</td>\n",
       "      <td>0.083170</td>\n",
       "      <td>-0.023319</td>\n",
       "      <td>-0.010574</td>\n",
       "      <td>0.079494</td>\n",
       "      <td>-0.077935</td>\n",
       "      <td>0.022995</td>\n",
       "      <td>0.075720</td>\n",
       "      <td>0.042426</td>\n",
       "      <td>-0.017386</td>\n",
       "      <td>-0.104387</td>\n",
       "    </tr>\n",
       "    <tr>\n",
       "      <th>3</th>\n",
       "      <td>0.000144</td>\n",
       "      <td>0.001162</td>\n",
       "      <td>0.000242</td>\n",
       "      <td>0.000214</td>\n",
       "      <td>0.000077</td>\n",
       "      <td>0.003245</td>\n",
       "      <td>-0.000011</td>\n",
       "      <td>0.002681</td>\n",
       "      <td>0.000656</td>\n",
       "      <td>-0.002660</td>\n",
       "      <td>...</td>\n",
       "      <td>-0.011361</td>\n",
       "      <td>0.000432</td>\n",
       "      <td>0.004692</td>\n",
       "      <td>-0.086444</td>\n",
       "      <td>-0.071623</td>\n",
       "      <td>0.043277</td>\n",
       "      <td>0.078305</td>\n",
       "      <td>-0.109445</td>\n",
       "      <td>-0.004362</td>\n",
       "      <td>-0.004487</td>\n",
       "    </tr>\n",
       "    <tr>\n",
       "      <th>4</th>\n",
       "      <td>0.062886</td>\n",
       "      <td>-0.000143</td>\n",
       "      <td>0.003531</td>\n",
       "      <td>0.007612</td>\n",
       "      <td>0.009534</td>\n",
       "      <td>-0.000645</td>\n",
       "      <td>-0.000613</td>\n",
       "      <td>0.001965</td>\n",
       "      <td>0.180537</td>\n",
       "      <td>0.000537</td>\n",
       "      <td>...</td>\n",
       "      <td>0.009312</td>\n",
       "      <td>-0.008761</td>\n",
       "      <td>-0.003635</td>\n",
       "      <td>-0.006905</td>\n",
       "      <td>0.007782</td>\n",
       "      <td>-0.004644</td>\n",
       "      <td>0.009791</td>\n",
       "      <td>0.005855</td>\n",
       "      <td>0.014024</td>\n",
       "      <td>-0.017744</td>\n",
       "    </tr>\n",
       "  </tbody>\n",
       "</table>\n",
       "<p>5 rows × 100 columns</p>\n",
       "</div>"
      ],
      "text/plain": [
       "         0         1         2         3         4         5         6   \\\n",
       "0  0.120229  0.001038  0.184379 -0.060800 -0.054781  0.004814 -0.037022   \n",
       "1  0.182468  0.005315  0.001064  0.364664 -0.037197  0.001754 -0.081949   \n",
       "2  0.000054  0.003263 -0.000020  0.000137  0.000164  0.002430  0.000064   \n",
       "3  0.000144  0.001162  0.000242  0.000214  0.000077  0.003245 -0.000011   \n",
       "4  0.062886 -0.000143  0.003531  0.007612  0.009534 -0.000645 -0.000613   \n",
       "\n",
       "         7         8         9   ...        90        91        92        93  \\\n",
       "0  0.000393 -0.013250 -0.000737  ...  0.020762  0.020790  0.077379  0.003520   \n",
       "1  0.001325  0.137659  0.000523  ...  0.003409 -0.012606 -0.012772 -0.002260   \n",
       "2  0.001885  0.000268 -0.001503  ...  0.083170 -0.023319 -0.010574  0.079494   \n",
       "3  0.002681  0.000656 -0.002660  ... -0.011361  0.000432  0.004692 -0.086444   \n",
       "4  0.001965  0.180537  0.000537  ...  0.009312 -0.008761 -0.003635 -0.006905   \n",
       "\n",
       "         94        95        96        97        98        99  \n",
       "0  0.064321 -0.028721 -0.015316 -0.003315  0.056829  0.081742  \n",
       "1 -0.000167  0.001419  0.009987  0.005297  0.014455 -0.024315  \n",
       "2 -0.077935  0.022995  0.075720  0.042426 -0.017386 -0.104387  \n",
       "3 -0.071623  0.043277  0.078305 -0.109445 -0.004362 -0.004487  \n",
       "4  0.007782 -0.004644  0.009791  0.005855  0.014024 -0.017744  \n",
       "\n",
       "[5 rows x 100 columns]"
      ]
     },
     "execution_count": 62,
     "metadata": {},
     "output_type": "execute_result"
    }
   ],
   "source": [
    "# Convert svdTFit array to df \n",
    "b_svdTFit = pd.DataFrame(b_svdTFit)\n",
    "b_svdTFit.head()"
   ]
  },
  {
   "cell_type": "code",
   "execution_count": 63,
   "metadata": {},
   "outputs": [
    {
     "name": "stdout",
     "output_type": "stream",
     "text": [
      "(16994, 100)\n"
     ]
    }
   ],
   "source": [
    "print(b_svdTFit.shape)"
   ]
  },
  {
   "cell_type": "code",
   "execution_count": 64,
   "metadata": {},
   "outputs": [
    {
     "data": {
      "text/plain": [
       "(16994, 27)"
      ]
     },
     "execution_count": 64,
     "metadata": {},
     "output_type": "execute_result"
    }
   ],
   "source": [
    "bots.shape"
   ]
  },
  {
   "cell_type": "code",
   "execution_count": 65,
   "metadata": {},
   "outputs": [
    {
     "data": {
      "text/html": [
       "<div>\n",
       "<style scoped>\n",
       "    .dataframe tbody tr th:only-of-type {\n",
       "        vertical-align: middle;\n",
       "    }\n",
       "\n",
       "    .dataframe tbody tr th {\n",
       "        vertical-align: top;\n",
       "    }\n",
       "\n",
       "    .dataframe thead th {\n",
       "        text-align: right;\n",
       "    }\n",
       "</style>\n",
       "<table border=\"1\" class=\"dataframe\">\n",
       "  <thead>\n",
       "    <tr style=\"text-align: right;\">\n",
       "      <th></th>\n",
       "      <th>0</th>\n",
       "      <th>1</th>\n",
       "      <th>2</th>\n",
       "      <th>3</th>\n",
       "      <th>4</th>\n",
       "      <th>5</th>\n",
       "      <th>6</th>\n",
       "      <th>7</th>\n",
       "      <th>8</th>\n",
       "      <th>9</th>\n",
       "      <th>...</th>\n",
       "      <th>90</th>\n",
       "      <th>91</th>\n",
       "      <th>92</th>\n",
       "      <th>93</th>\n",
       "      <th>94</th>\n",
       "      <th>95</th>\n",
       "      <th>96</th>\n",
       "      <th>97</th>\n",
       "      <th>98</th>\n",
       "      <th>99</th>\n",
       "    </tr>\n",
       "  </thead>\n",
       "  <tbody>\n",
       "    <tr>\n",
       "      <th>0</th>\n",
       "      <td>0.001697</td>\n",
       "      <td>-0.000927</td>\n",
       "      <td>0.000198</td>\n",
       "      <td>0.000963</td>\n",
       "      <td>0.000602</td>\n",
       "      <td>-0.000214</td>\n",
       "      <td>0.001882</td>\n",
       "      <td>-0.000901</td>\n",
       "      <td>0.001419</td>\n",
       "      <td>0.000681</td>\n",
       "      <td>...</td>\n",
       "      <td>-0.000963</td>\n",
       "      <td>-0.002017</td>\n",
       "      <td>0.001004</td>\n",
       "      <td>0.008393</td>\n",
       "      <td>0.001148</td>\n",
       "      <td>-0.002393</td>\n",
       "      <td>-0.000124</td>\n",
       "      <td>0.008133</td>\n",
       "      <td>0.004753</td>\n",
       "      <td>-0.000078</td>\n",
       "    </tr>\n",
       "    <tr>\n",
       "      <th>1</th>\n",
       "      <td>0.104117</td>\n",
       "      <td>-0.054747</td>\n",
       "      <td>0.011740</td>\n",
       "      <td>0.088173</td>\n",
       "      <td>-0.034344</td>\n",
       "      <td>-0.001548</td>\n",
       "      <td>0.058297</td>\n",
       "      <td>-0.086741</td>\n",
       "      <td>-0.237472</td>\n",
       "      <td>0.691191</td>\n",
       "      <td>...</td>\n",
       "      <td>0.001435</td>\n",
       "      <td>-0.010624</td>\n",
       "      <td>-0.004674</td>\n",
       "      <td>-0.003557</td>\n",
       "      <td>0.003381</td>\n",
       "      <td>0.009589</td>\n",
       "      <td>-0.002773</td>\n",
       "      <td>-0.004575</td>\n",
       "      <td>-0.003206</td>\n",
       "      <td>-0.000697</td>\n",
       "    </tr>\n",
       "    <tr>\n",
       "      <th>2</th>\n",
       "      <td>0.016765</td>\n",
       "      <td>0.005765</td>\n",
       "      <td>-0.001282</td>\n",
       "      <td>0.012347</td>\n",
       "      <td>0.006688</td>\n",
       "      <td>-0.001349</td>\n",
       "      <td>0.009540</td>\n",
       "      <td>-0.001798</td>\n",
       "      <td>0.000519</td>\n",
       "      <td>-0.001551</td>\n",
       "      <td>...</td>\n",
       "      <td>0.023590</td>\n",
       "      <td>-0.022065</td>\n",
       "      <td>-0.026001</td>\n",
       "      <td>-0.005852</td>\n",
       "      <td>0.034664</td>\n",
       "      <td>-0.061954</td>\n",
       "      <td>0.003165</td>\n",
       "      <td>0.022308</td>\n",
       "      <td>-0.028386</td>\n",
       "      <td>-0.049149</td>\n",
       "    </tr>\n",
       "    <tr>\n",
       "      <th>3</th>\n",
       "      <td>0.094635</td>\n",
       "      <td>0.034797</td>\n",
       "      <td>0.009326</td>\n",
       "      <td>0.111872</td>\n",
       "      <td>0.546741</td>\n",
       "      <td>-0.152794</td>\n",
       "      <td>-0.251321</td>\n",
       "      <td>0.061271</td>\n",
       "      <td>-0.036554</td>\n",
       "      <td>0.029401</td>\n",
       "      <td>...</td>\n",
       "      <td>-0.089185</td>\n",
       "      <td>-0.045694</td>\n",
       "      <td>0.046788</td>\n",
       "      <td>-0.021435</td>\n",
       "      <td>0.012151</td>\n",
       "      <td>0.013259</td>\n",
       "      <td>0.056039</td>\n",
       "      <td>0.015976</td>\n",
       "      <td>-0.028169</td>\n",
       "      <td>-0.016154</td>\n",
       "    </tr>\n",
       "    <tr>\n",
       "      <th>4</th>\n",
       "      <td>0.003614</td>\n",
       "      <td>0.000568</td>\n",
       "      <td>0.001017</td>\n",
       "      <td>0.004293</td>\n",
       "      <td>0.003490</td>\n",
       "      <td>-0.001322</td>\n",
       "      <td>0.004041</td>\n",
       "      <td>-0.001668</td>\n",
       "      <td>-0.000214</td>\n",
       "      <td>0.004128</td>\n",
       "      <td>...</td>\n",
       "      <td>0.001890</td>\n",
       "      <td>-0.004690</td>\n",
       "      <td>0.000993</td>\n",
       "      <td>0.000194</td>\n",
       "      <td>-0.002240</td>\n",
       "      <td>0.003363</td>\n",
       "      <td>-0.007151</td>\n",
       "      <td>0.002599</td>\n",
       "      <td>-0.001644</td>\n",
       "      <td>-0.002846</td>\n",
       "    </tr>\n",
       "  </tbody>\n",
       "</table>\n",
       "<p>5 rows × 100 columns</p>\n",
       "</div>"
      ],
      "text/plain": [
       "         0         1         2         3         4         5         6   \\\n",
       "0  0.001697 -0.000927  0.000198  0.000963  0.000602 -0.000214  0.001882   \n",
       "1  0.104117 -0.054747  0.011740  0.088173 -0.034344 -0.001548  0.058297   \n",
       "2  0.016765  0.005765 -0.001282  0.012347  0.006688 -0.001349  0.009540   \n",
       "3  0.094635  0.034797  0.009326  0.111872  0.546741 -0.152794 -0.251321   \n",
       "4  0.003614  0.000568  0.001017  0.004293  0.003490 -0.001322  0.004041   \n",
       "\n",
       "         7         8         9   ...        90        91        92        93  \\\n",
       "0 -0.000901  0.001419  0.000681  ... -0.000963 -0.002017  0.001004  0.008393   \n",
       "1 -0.086741 -0.237472  0.691191  ...  0.001435 -0.010624 -0.004674 -0.003557   \n",
       "2 -0.001798  0.000519 -0.001551  ...  0.023590 -0.022065 -0.026001 -0.005852   \n",
       "3  0.061271 -0.036554  0.029401  ... -0.089185 -0.045694  0.046788 -0.021435   \n",
       "4 -0.001668 -0.000214  0.004128  ...  0.001890 -0.004690  0.000993  0.000194   \n",
       "\n",
       "         94        95        96        97        98        99  \n",
       "0  0.001148 -0.002393 -0.000124  0.008133  0.004753 -0.000078  \n",
       "1  0.003381  0.009589 -0.002773 -0.004575 -0.003206 -0.000697  \n",
       "2  0.034664 -0.061954  0.003165  0.022308 -0.028386 -0.049149  \n",
       "3  0.012151  0.013259  0.056039  0.015976 -0.028169 -0.016154  \n",
       "4 -0.002240  0.003363 -0.007151  0.002599 -0.001644 -0.002846  \n",
       "\n",
       "[5 rows x 100 columns]"
      ]
     },
     "execution_count": 65,
     "metadata": {},
     "output_type": "execute_result"
    }
   ],
   "source": [
    "# Convert svdTFit array to df \n",
    "g_svdTFit = pd.DataFrame(g_svdTFit)\n",
    "g_svdTFit.head()"
   ]
  },
  {
   "cell_type": "code",
   "execution_count": 66,
   "metadata": {},
   "outputs": [
    {
     "data": {
      "text/plain": [
       "(13591, 100)"
      ]
     },
     "execution_count": 66,
     "metadata": {},
     "output_type": "execute_result"
    }
   ],
   "source": [
    "g_svdTFit.shape"
   ]
  },
  {
   "cell_type": "code",
   "execution_count": 67,
   "metadata": {},
   "outputs": [
    {
     "data": {
      "text/plain": [
       "(13591, 27)"
      ]
     },
     "execution_count": 67,
     "metadata": {},
     "output_type": "execute_result"
    }
   ],
   "source": [
    "gen.shape"
   ]
  },
  {
   "cell_type": "code",
   "execution_count": 68,
   "metadata": {},
   "outputs": [
    {
     "data": {
      "text/html": [
       "<div>\n",
       "<style scoped>\n",
       "    .dataframe tbody tr th:only-of-type {\n",
       "        vertical-align: middle;\n",
       "    }\n",
       "\n",
       "    .dataframe tbody tr th {\n",
       "        vertical-align: top;\n",
       "    }\n",
       "\n",
       "    .dataframe thead th {\n",
       "        text-align: right;\n",
       "    }\n",
       "</style>\n",
       "<table border=\"1\" class=\"dataframe\">\n",
       "  <thead>\n",
       "    <tr style=\"text-align: right;\">\n",
       "      <th></th>\n",
       "      <th>index</th>\n",
       "      <th>id</th>\n",
       "      <th>text</th>\n",
       "      <th>source</th>\n",
       "      <th>user_id</th>\n",
       "      <th>in_reply_to_status_id</th>\n",
       "      <th>in_reply_to_user_id</th>\n",
       "      <th>retweeted_status_id</th>\n",
       "      <th>retweet_count</th>\n",
       "      <th>reply_count</th>\n",
       "      <th>...</th>\n",
       "      <th>90</th>\n",
       "      <th>91</th>\n",
       "      <th>92</th>\n",
       "      <th>93</th>\n",
       "      <th>94</th>\n",
       "      <th>95</th>\n",
       "      <th>96</th>\n",
       "      <th>97</th>\n",
       "      <th>98</th>\n",
       "      <th>99</th>\n",
       "    </tr>\n",
       "  </thead>\n",
       "  <tbody>\n",
       "    <tr>\n",
       "      <th>0</th>\n",
       "      <td>14134</td>\n",
       "      <td>233927233033621504</td>\n",
       "      <td>Cdm, sì alla riduzione dei tribunali e in Gold...</td>\n",
       "      <td>&lt;a href=\"http://twitter.com\" rel=\"nofollow\"&gt;Tw...</td>\n",
       "      <td>570726762</td>\n",
       "      <td>0</td>\n",
       "      <td>0</td>\n",
       "      <td>0</td>\n",
       "      <td>0</td>\n",
       "      <td>0</td>\n",
       "      <td>...</td>\n",
       "      <td>0.020762</td>\n",
       "      <td>0.020790</td>\n",
       "      <td>0.077379</td>\n",
       "      <td>0.003520</td>\n",
       "      <td>0.064321</td>\n",
       "      <td>-0.028721</td>\n",
       "      <td>-0.015316</td>\n",
       "      <td>-0.003315</td>\n",
       "      <td>0.056829</td>\n",
       "      <td>0.081742</td>\n",
       "    </tr>\n",
       "    <tr>\n",
       "      <th>1</th>\n",
       "      <td>14135</td>\n",
       "      <td>527868314400591873</td>\n",
       "      <td>Io amo mangiare la pasta integrale</td>\n",
       "      <td>&lt;a href=\"http://www.elenasara1.com\" rel=\"nofol...</td>\n",
       "      <td>467201454</td>\n",
       "      <td>0</td>\n",
       "      <td>0</td>\n",
       "      <td>0</td>\n",
       "      <td>0</td>\n",
       "      <td>0</td>\n",
       "      <td>...</td>\n",
       "      <td>0.003409</td>\n",
       "      <td>-0.012606</td>\n",
       "      <td>-0.012772</td>\n",
       "      <td>-0.002260</td>\n",
       "      <td>-0.000167</td>\n",
       "      <td>0.001419</td>\n",
       "      <td>0.009987</td>\n",
       "      <td>0.005297</td>\n",
       "      <td>0.014455</td>\n",
       "      <td>-0.024315</td>\n",
       "    </tr>\n",
       "    <tr>\n",
       "      <th>2</th>\n",
       "      <td>14136</td>\n",
       "      <td>523552793404379137</td>\n",
       "      <td>A Company Still Fighting a Battle That Should ...</td>\n",
       "      <td>&lt;a href=\"http://simplify360.com\" rel=\"nofollow...</td>\n",
       "      <td>805936572</td>\n",
       "      <td>0</td>\n",
       "      <td>0</td>\n",
       "      <td>0</td>\n",
       "      <td>0</td>\n",
       "      <td>0</td>\n",
       "      <td>...</td>\n",
       "      <td>0.083170</td>\n",
       "      <td>-0.023319</td>\n",
       "      <td>-0.010574</td>\n",
       "      <td>0.079494</td>\n",
       "      <td>-0.077935</td>\n",
       "      <td>0.022995</td>\n",
       "      <td>0.075720</td>\n",
       "      <td>0.042426</td>\n",
       "      <td>-0.017386</td>\n",
       "      <td>-0.104387</td>\n",
       "    </tr>\n",
       "    <tr>\n",
       "      <th>3</th>\n",
       "      <td>14137</td>\n",
       "      <td>491909110078504961</td>\n",
       "      <td>@zslvskl \"The artist is nothing without the gi...</td>\n",
       "      <td>&lt;a href=\"http://twitter.com\" rel=\"nofollow\"&gt;Tw...</td>\n",
       "      <td>2351868384</td>\n",
       "      <td>491908035854761984</td>\n",
       "      <td>861179718</td>\n",
       "      <td>0</td>\n",
       "      <td>0</td>\n",
       "      <td>0</td>\n",
       "      <td>...</td>\n",
       "      <td>-0.011361</td>\n",
       "      <td>0.000432</td>\n",
       "      <td>0.004692</td>\n",
       "      <td>-0.086444</td>\n",
       "      <td>-0.071623</td>\n",
       "      <td>0.043277</td>\n",
       "      <td>0.078305</td>\n",
       "      <td>-0.109445</td>\n",
       "      <td>-0.004362</td>\n",
       "      <td>-0.004487</td>\n",
       "    </tr>\n",
       "    <tr>\n",
       "      <th>4</th>\n",
       "      <td>14138</td>\n",
       "      <td>527872446431760384</td>\n",
       "      <td>Io amo guardare i bambini piccoli quando giocano</td>\n",
       "      <td>&lt;a href=\"http://www.Albertone874.com\" rel=\"nof...</td>\n",
       "      <td>434795107</td>\n",
       "      <td>0</td>\n",
       "      <td>0</td>\n",
       "      <td>0</td>\n",
       "      <td>0</td>\n",
       "      <td>0</td>\n",
       "      <td>...</td>\n",
       "      <td>0.009312</td>\n",
       "      <td>-0.008761</td>\n",
       "      <td>-0.003635</td>\n",
       "      <td>-0.006905</td>\n",
       "      <td>0.007782</td>\n",
       "      <td>-0.004644</td>\n",
       "      <td>0.009791</td>\n",
       "      <td>0.005855</td>\n",
       "      <td>0.014024</td>\n",
       "      <td>-0.017744</td>\n",
       "    </tr>\n",
       "  </tbody>\n",
       "</table>\n",
       "<p>5 rows × 127 columns</p>\n",
       "</div>"
      ],
      "text/plain": [
       "   index                  id  \\\n",
       "0  14134  233927233033621504   \n",
       "1  14135  527868314400591873   \n",
       "2  14136  523552793404379137   \n",
       "3  14137  491909110078504961   \n",
       "4  14138  527872446431760384   \n",
       "\n",
       "                                                text  \\\n",
       "0  Cdm, sì alla riduzione dei tribunali e in Gold...   \n",
       "1                 Io amo mangiare la pasta integrale   \n",
       "2  A Company Still Fighting a Battle That Should ...   \n",
       "3  @zslvskl \"The artist is nothing without the gi...   \n",
       "4   Io amo guardare i bambini piccoli quando giocano   \n",
       "\n",
       "                                              source     user_id  \\\n",
       "0  <a href=\"http://twitter.com\" rel=\"nofollow\">Tw...   570726762   \n",
       "1  <a href=\"http://www.elenasara1.com\" rel=\"nofol...   467201454   \n",
       "2  <a href=\"http://simplify360.com\" rel=\"nofollow...   805936572   \n",
       "3  <a href=\"http://twitter.com\" rel=\"nofollow\">Tw...  2351868384   \n",
       "4  <a href=\"http://www.Albertone874.com\" rel=\"nof...   434795107   \n",
       "\n",
       "   in_reply_to_status_id  in_reply_to_user_id  retweeted_status_id  \\\n",
       "0                      0                    0                    0   \n",
       "1                      0                    0                    0   \n",
       "2                      0                    0                    0   \n",
       "3     491908035854761984            861179718                    0   \n",
       "4                      0                    0                    0   \n",
       "\n",
       "   retweet_count  reply_count  ...        90        91        92        93  \\\n",
       "0              0            0  ...  0.020762  0.020790  0.077379  0.003520   \n",
       "1              0            0  ...  0.003409 -0.012606 -0.012772 -0.002260   \n",
       "2              0            0  ...  0.083170 -0.023319 -0.010574  0.079494   \n",
       "3              0            0  ... -0.011361  0.000432  0.004692 -0.086444   \n",
       "4              0            0  ...  0.009312 -0.008761 -0.003635 -0.006905   \n",
       "\n",
       "         94        95        96        97        98        99  \n",
       "0  0.064321 -0.028721 -0.015316 -0.003315  0.056829  0.081742  \n",
       "1 -0.000167  0.001419  0.009987  0.005297  0.014455 -0.024315  \n",
       "2 -0.077935  0.022995  0.075720  0.042426 -0.017386 -0.104387  \n",
       "3 -0.071623  0.043277  0.078305 -0.109445 -0.004362 -0.004487  \n",
       "4  0.007782 -0.004644  0.009791  0.005855  0.014024 -0.017744  \n",
       "\n",
       "[5 rows x 127 columns]"
      ]
     },
     "execution_count": 68,
     "metadata": {},
     "output_type": "execute_result"
    }
   ],
   "source": [
    "# Place the DataFrames side by side\n",
    "bots_tfid = pd.concat([bots, b_svdTFit], axis=1)\n",
    "bots_tfid.head()"
   ]
  },
  {
   "cell_type": "code",
   "execution_count": 69,
   "metadata": {},
   "outputs": [
    {
     "data": {
      "text/plain": [
       "(16994, 127)"
      ]
     },
     "execution_count": 69,
     "metadata": {},
     "output_type": "execute_result"
    }
   ],
   "source": [
    "bots_tfid.shape"
   ]
  },
  {
   "cell_type": "code",
   "execution_count": 70,
   "metadata": {},
   "outputs": [
    {
     "data": {
      "text/html": [
       "<div>\n",
       "<style scoped>\n",
       "    .dataframe tbody tr th:only-of-type {\n",
       "        vertical-align: middle;\n",
       "    }\n",
       "\n",
       "    .dataframe tbody tr th {\n",
       "        vertical-align: top;\n",
       "    }\n",
       "\n",
       "    .dataframe thead th {\n",
       "        text-align: right;\n",
       "    }\n",
       "</style>\n",
       "<table border=\"1\" class=\"dataframe\">\n",
       "  <thead>\n",
       "    <tr style=\"text-align: right;\">\n",
       "      <th></th>\n",
       "      <th>index</th>\n",
       "      <th>id</th>\n",
       "      <th>text</th>\n",
       "      <th>source</th>\n",
       "      <th>user_id</th>\n",
       "      <th>in_reply_to_status_id</th>\n",
       "      <th>in_reply_to_user_id</th>\n",
       "      <th>retweeted_status_id</th>\n",
       "      <th>retweet_count</th>\n",
       "      <th>reply_count</th>\n",
       "      <th>...</th>\n",
       "      <th>90</th>\n",
       "      <th>91</th>\n",
       "      <th>92</th>\n",
       "      <th>93</th>\n",
       "      <th>94</th>\n",
       "      <th>95</th>\n",
       "      <th>96</th>\n",
       "      <th>97</th>\n",
       "      <th>98</th>\n",
       "      <th>99</th>\n",
       "    </tr>\n",
       "  </thead>\n",
       "  <tbody>\n",
       "    <tr>\n",
       "      <th>0</th>\n",
       "      <td>0</td>\n",
       "      <td>572118705003368448</td>\n",
       "      <td>RT @kayybabyy3: We graduate in 3 months</td>\n",
       "      <td>&lt;a href=\"http://twitter.com/download/iphone\" r...</td>\n",
       "      <td>2199062688</td>\n",
       "      <td>0</td>\n",
       "      <td>0</td>\n",
       "      <td>572111636233789440</td>\n",
       "      <td>15</td>\n",
       "      <td>0</td>\n",
       "      <td>...</td>\n",
       "      <td>-0.000963</td>\n",
       "      <td>-0.002017</td>\n",
       "      <td>0.001004</td>\n",
       "      <td>0.008393</td>\n",
       "      <td>0.001148</td>\n",
       "      <td>-0.002393</td>\n",
       "      <td>-0.000124</td>\n",
       "      <td>0.008133</td>\n",
       "      <td>0.004753</td>\n",
       "      <td>-0.000078</td>\n",
       "    </tr>\n",
       "    <tr>\n",
       "      <th>1</th>\n",
       "      <td>1</td>\n",
       "      <td>502338119014699009</td>\n",
       "      <td>I want to get away from everything so much to ...</td>\n",
       "      <td>&lt;a href=\"http://twitter.com/download/iphone\" r...</td>\n",
       "      <td>2316260946</td>\n",
       "      <td>0</td>\n",
       "      <td>0</td>\n",
       "      <td>0</td>\n",
       "      <td>0</td>\n",
       "      <td>0</td>\n",
       "      <td>...</td>\n",
       "      <td>0.001435</td>\n",
       "      <td>-0.010624</td>\n",
       "      <td>-0.004674</td>\n",
       "      <td>-0.003557</td>\n",
       "      <td>0.003381</td>\n",
       "      <td>0.009589</td>\n",
       "      <td>-0.002773</td>\n",
       "      <td>-0.004575</td>\n",
       "      <td>-0.003206</td>\n",
       "      <td>-0.000697</td>\n",
       "    </tr>\n",
       "    <tr>\n",
       "      <th>2</th>\n",
       "      <td>2</td>\n",
       "      <td>522927775691182080</td>\n",
       "      <td>RT @JOEtheMORTON: Boy screws two girls – high ...</td>\n",
       "      <td>&lt;a href=\"https://twitter.com/download/android\"...</td>\n",
       "      <td>17801629</td>\n",
       "      <td>0</td>\n",
       "      <td>0</td>\n",
       "      <td>522927236446687232</td>\n",
       "      <td>625</td>\n",
       "      <td>0</td>\n",
       "      <td>...</td>\n",
       "      <td>0.023590</td>\n",
       "      <td>-0.022065</td>\n",
       "      <td>-0.026001</td>\n",
       "      <td>-0.005852</td>\n",
       "      <td>0.034664</td>\n",
       "      <td>-0.061954</td>\n",
       "      <td>0.003165</td>\n",
       "      <td>0.022308</td>\n",
       "      <td>-0.028386</td>\n",
       "      <td>-0.049149</td>\n",
       "    </tr>\n",
       "    <tr>\n",
       "      <th>3</th>\n",
       "      <td>3</td>\n",
       "      <td>401999073579778048</td>\n",
       "      <td>Good night that's for sure!!!! http://t.co/raC...</td>\n",
       "      <td>&lt;a href=\"http://twitter.com/download/android\" ...</td>\n",
       "      <td>191348890</td>\n",
       "      <td>0</td>\n",
       "      <td>0</td>\n",
       "      <td>0</td>\n",
       "      <td>0</td>\n",
       "      <td>0</td>\n",
       "      <td>...</td>\n",
       "      <td>-0.089185</td>\n",
       "      <td>-0.045694</td>\n",
       "      <td>0.046788</td>\n",
       "      <td>-0.021435</td>\n",
       "      <td>0.012151</td>\n",
       "      <td>0.013259</td>\n",
       "      <td>0.056039</td>\n",
       "      <td>0.015976</td>\n",
       "      <td>-0.028169</td>\n",
       "      <td>-0.016154</td>\n",
       "    </tr>\n",
       "    <tr>\n",
       "      <th>4</th>\n",
       "      <td>4</td>\n",
       "      <td>578049062684925952</td>\n",
       "      <td>RT @HeatherLLove: Miserable single, miserable ...</td>\n",
       "      <td>&lt;a href=\"http://twitter.com/download/iphone\" r...</td>\n",
       "      <td>194476539</td>\n",
       "      <td>0</td>\n",
       "      <td>0</td>\n",
       "      <td>409039510132232192</td>\n",
       "      <td>124</td>\n",
       "      <td>0</td>\n",
       "      <td>...</td>\n",
       "      <td>0.001890</td>\n",
       "      <td>-0.004690</td>\n",
       "      <td>0.000993</td>\n",
       "      <td>0.000194</td>\n",
       "      <td>-0.002240</td>\n",
       "      <td>0.003363</td>\n",
       "      <td>-0.007151</td>\n",
       "      <td>0.002599</td>\n",
       "      <td>-0.001644</td>\n",
       "      <td>-0.002846</td>\n",
       "    </tr>\n",
       "  </tbody>\n",
       "</table>\n",
       "<p>5 rows × 127 columns</p>\n",
       "</div>"
      ],
      "text/plain": [
       "   index                  id  \\\n",
       "0      0  572118705003368448   \n",
       "1      1  502338119014699009   \n",
       "2      2  522927775691182080   \n",
       "3      3  401999073579778048   \n",
       "4      4  578049062684925952   \n",
       "\n",
       "                                                text  \\\n",
       "0           RT @kayybabyy3: We graduate in 3 months    \n",
       "1  I want to get away from everything so much to ...   \n",
       "2  RT @JOEtheMORTON: Boy screws two girls – high ...   \n",
       "3  Good night that's for sure!!!! http://t.co/raC...   \n",
       "4  RT @HeatherLLove: Miserable single, miserable ...   \n",
       "\n",
       "                                              source     user_id  \\\n",
       "0  <a href=\"http://twitter.com/download/iphone\" r...  2199062688   \n",
       "1  <a href=\"http://twitter.com/download/iphone\" r...  2316260946   \n",
       "2  <a href=\"https://twitter.com/download/android\"...    17801629   \n",
       "3  <a href=\"http://twitter.com/download/android\" ...   191348890   \n",
       "4  <a href=\"http://twitter.com/download/iphone\" r...   194476539   \n",
       "\n",
       "   in_reply_to_status_id  in_reply_to_user_id  retweeted_status_id  \\\n",
       "0                      0                    0   572111636233789440   \n",
       "1                      0                    0                    0   \n",
       "2                      0                    0   522927236446687232   \n",
       "3                      0                    0                    0   \n",
       "4                      0                    0   409039510132232192   \n",
       "\n",
       "   retweet_count  reply_count  ...        90        91        92        93  \\\n",
       "0             15            0  ... -0.000963 -0.002017  0.001004  0.008393   \n",
       "1              0            0  ...  0.001435 -0.010624 -0.004674 -0.003557   \n",
       "2            625            0  ...  0.023590 -0.022065 -0.026001 -0.005852   \n",
       "3              0            0  ... -0.089185 -0.045694  0.046788 -0.021435   \n",
       "4            124            0  ...  0.001890 -0.004690  0.000993  0.000194   \n",
       "\n",
       "         94        95        96        97        98        99  \n",
       "0  0.001148 -0.002393 -0.000124  0.008133  0.004753 -0.000078  \n",
       "1  0.003381  0.009589 -0.002773 -0.004575 -0.003206 -0.000697  \n",
       "2  0.034664 -0.061954  0.003165  0.022308 -0.028386 -0.049149  \n",
       "3  0.012151  0.013259  0.056039  0.015976 -0.028169 -0.016154  \n",
       "4 -0.002240  0.003363 -0.007151  0.002599 -0.001644 -0.002846  \n",
       "\n",
       "[5 rows x 127 columns]"
      ]
     },
     "execution_count": 70,
     "metadata": {},
     "output_type": "execute_result"
    }
   ],
   "source": [
    "# Join Tfid with class df \n",
    "gen_tfid = pd.concat([gen, g_svdTFit], axis =1)\n",
    "gen_tfid.head()"
   ]
  },
  {
   "cell_type": "code",
   "execution_count": 71,
   "metadata": {},
   "outputs": [
    {
     "data": {
      "text/plain": [
       "(13591, 127)"
      ]
     },
     "execution_count": 71,
     "metadata": {},
     "output_type": "execute_result"
    }
   ],
   "source": [
    "gen_tfid.shape"
   ]
  },
  {
   "cell_type": "code",
   "execution_count": 72,
   "metadata": {},
   "outputs": [
    {
     "data": {
      "text/html": [
       "<div>\n",
       "<style scoped>\n",
       "    .dataframe tbody tr th:only-of-type {\n",
       "        vertical-align: middle;\n",
       "    }\n",
       "\n",
       "    .dataframe tbody tr th {\n",
       "        vertical-align: top;\n",
       "    }\n",
       "\n",
       "    .dataframe thead th {\n",
       "        text-align: right;\n",
       "    }\n",
       "</style>\n",
       "<table border=\"1\" class=\"dataframe\">\n",
       "  <thead>\n",
       "    <tr style=\"text-align: right;\">\n",
       "      <th></th>\n",
       "      <th>index</th>\n",
       "      <th>id</th>\n",
       "      <th>text</th>\n",
       "      <th>source</th>\n",
       "      <th>user_id</th>\n",
       "      <th>in_reply_to_status_id</th>\n",
       "      <th>in_reply_to_user_id</th>\n",
       "      <th>retweeted_status_id</th>\n",
       "      <th>retweet_count</th>\n",
       "      <th>reply_count</th>\n",
       "      <th>...</th>\n",
       "      <th>90</th>\n",
       "      <th>91</th>\n",
       "      <th>92</th>\n",
       "      <th>93</th>\n",
       "      <th>94</th>\n",
       "      <th>95</th>\n",
       "      <th>96</th>\n",
       "      <th>97</th>\n",
       "      <th>98</th>\n",
       "      <th>99</th>\n",
       "    </tr>\n",
       "  </thead>\n",
       "  <tbody>\n",
       "    <tr>\n",
       "      <th>0</th>\n",
       "      <td>14134</td>\n",
       "      <td>233927233033621504</td>\n",
       "      <td>Cdm, sì alla riduzione dei tribunali e in Gold...</td>\n",
       "      <td>&lt;a href=\"http://twitter.com\" rel=\"nofollow\"&gt;Tw...</td>\n",
       "      <td>570726762</td>\n",
       "      <td>0</td>\n",
       "      <td>0</td>\n",
       "      <td>0</td>\n",
       "      <td>0</td>\n",
       "      <td>0</td>\n",
       "      <td>...</td>\n",
       "      <td>0.020762</td>\n",
       "      <td>0.020790</td>\n",
       "      <td>0.077379</td>\n",
       "      <td>0.003520</td>\n",
       "      <td>0.064321</td>\n",
       "      <td>-0.028721</td>\n",
       "      <td>-0.015316</td>\n",
       "      <td>-0.003315</td>\n",
       "      <td>0.056829</td>\n",
       "      <td>0.081742</td>\n",
       "    </tr>\n",
       "    <tr>\n",
       "      <th>1</th>\n",
       "      <td>14135</td>\n",
       "      <td>527868314400591873</td>\n",
       "      <td>Io amo mangiare la pasta integrale</td>\n",
       "      <td>&lt;a href=\"http://www.elenasara1.com\" rel=\"nofol...</td>\n",
       "      <td>467201454</td>\n",
       "      <td>0</td>\n",
       "      <td>0</td>\n",
       "      <td>0</td>\n",
       "      <td>0</td>\n",
       "      <td>0</td>\n",
       "      <td>...</td>\n",
       "      <td>0.003409</td>\n",
       "      <td>-0.012606</td>\n",
       "      <td>-0.012772</td>\n",
       "      <td>-0.002260</td>\n",
       "      <td>-0.000167</td>\n",
       "      <td>0.001419</td>\n",
       "      <td>0.009987</td>\n",
       "      <td>0.005297</td>\n",
       "      <td>0.014455</td>\n",
       "      <td>-0.024315</td>\n",
       "    </tr>\n",
       "    <tr>\n",
       "      <th>2</th>\n",
       "      <td>14136</td>\n",
       "      <td>523552793404379137</td>\n",
       "      <td>A Company Still Fighting a Battle That Should ...</td>\n",
       "      <td>&lt;a href=\"http://simplify360.com\" rel=\"nofollow...</td>\n",
       "      <td>805936572</td>\n",
       "      <td>0</td>\n",
       "      <td>0</td>\n",
       "      <td>0</td>\n",
       "      <td>0</td>\n",
       "      <td>0</td>\n",
       "      <td>...</td>\n",
       "      <td>0.083170</td>\n",
       "      <td>-0.023319</td>\n",
       "      <td>-0.010574</td>\n",
       "      <td>0.079494</td>\n",
       "      <td>-0.077935</td>\n",
       "      <td>0.022995</td>\n",
       "      <td>0.075720</td>\n",
       "      <td>0.042426</td>\n",
       "      <td>-0.017386</td>\n",
       "      <td>-0.104387</td>\n",
       "    </tr>\n",
       "    <tr>\n",
       "      <th>3</th>\n",
       "      <td>14137</td>\n",
       "      <td>491909110078504961</td>\n",
       "      <td>@zslvskl \"The artist is nothing without the gi...</td>\n",
       "      <td>&lt;a href=\"http://twitter.com\" rel=\"nofollow\"&gt;Tw...</td>\n",
       "      <td>2351868384</td>\n",
       "      <td>491908035854761984</td>\n",
       "      <td>861179718</td>\n",
       "      <td>0</td>\n",
       "      <td>0</td>\n",
       "      <td>0</td>\n",
       "      <td>...</td>\n",
       "      <td>-0.011361</td>\n",
       "      <td>0.000432</td>\n",
       "      <td>0.004692</td>\n",
       "      <td>-0.086444</td>\n",
       "      <td>-0.071623</td>\n",
       "      <td>0.043277</td>\n",
       "      <td>0.078305</td>\n",
       "      <td>-0.109445</td>\n",
       "      <td>-0.004362</td>\n",
       "      <td>-0.004487</td>\n",
       "    </tr>\n",
       "    <tr>\n",
       "      <th>4</th>\n",
       "      <td>14138</td>\n",
       "      <td>527872446431760384</td>\n",
       "      <td>Io amo guardare i bambini piccoli quando giocano</td>\n",
       "      <td>&lt;a href=\"http://www.Albertone874.com\" rel=\"nof...</td>\n",
       "      <td>434795107</td>\n",
       "      <td>0</td>\n",
       "      <td>0</td>\n",
       "      <td>0</td>\n",
       "      <td>0</td>\n",
       "      <td>0</td>\n",
       "      <td>...</td>\n",
       "      <td>0.009312</td>\n",
       "      <td>-0.008761</td>\n",
       "      <td>-0.003635</td>\n",
       "      <td>-0.006905</td>\n",
       "      <td>0.007782</td>\n",
       "      <td>-0.004644</td>\n",
       "      <td>0.009791</td>\n",
       "      <td>0.005855</td>\n",
       "      <td>0.014024</td>\n",
       "      <td>-0.017744</td>\n",
       "    </tr>\n",
       "  </tbody>\n",
       "</table>\n",
       "<p>5 rows × 127 columns</p>\n",
       "</div>"
      ],
      "text/plain": [
       "   index                  id  \\\n",
       "0  14134  233927233033621504   \n",
       "1  14135  527868314400591873   \n",
       "2  14136  523552793404379137   \n",
       "3  14137  491909110078504961   \n",
       "4  14138  527872446431760384   \n",
       "\n",
       "                                                text  \\\n",
       "0  Cdm, sì alla riduzione dei tribunali e in Gold...   \n",
       "1                 Io amo mangiare la pasta integrale   \n",
       "2  A Company Still Fighting a Battle That Should ...   \n",
       "3  @zslvskl \"The artist is nothing without the gi...   \n",
       "4   Io amo guardare i bambini piccoli quando giocano   \n",
       "\n",
       "                                              source     user_id  \\\n",
       "0  <a href=\"http://twitter.com\" rel=\"nofollow\">Tw...   570726762   \n",
       "1  <a href=\"http://www.elenasara1.com\" rel=\"nofol...   467201454   \n",
       "2  <a href=\"http://simplify360.com\" rel=\"nofollow...   805936572   \n",
       "3  <a href=\"http://twitter.com\" rel=\"nofollow\">Tw...  2351868384   \n",
       "4  <a href=\"http://www.Albertone874.com\" rel=\"nof...   434795107   \n",
       "\n",
       "   in_reply_to_status_id  in_reply_to_user_id  retweeted_status_id  \\\n",
       "0                      0                    0                    0   \n",
       "1                      0                    0                    0   \n",
       "2                      0                    0                    0   \n",
       "3     491908035854761984            861179718                    0   \n",
       "4                      0                    0                    0   \n",
       "\n",
       "   retweet_count  reply_count  ...        90        91        92        93  \\\n",
       "0              0            0  ...  0.020762  0.020790  0.077379  0.003520   \n",
       "1              0            0  ...  0.003409 -0.012606 -0.012772 -0.002260   \n",
       "2              0            0  ...  0.083170 -0.023319 -0.010574  0.079494   \n",
       "3              0            0  ... -0.011361  0.000432  0.004692 -0.086444   \n",
       "4              0            0  ...  0.009312 -0.008761 -0.003635 -0.006905   \n",
       "\n",
       "         94        95        96        97        98        99  \n",
       "0  0.064321 -0.028721 -0.015316 -0.003315  0.056829  0.081742  \n",
       "1 -0.000167  0.001419  0.009987  0.005297  0.014455 -0.024315  \n",
       "2 -0.077935  0.022995  0.075720  0.042426 -0.017386 -0.104387  \n",
       "3 -0.071623  0.043277  0.078305 -0.109445 -0.004362 -0.004487  \n",
       "4  0.007782 -0.004644  0.009791  0.005855  0.014024 -0.017744  \n",
       "\n",
       "[5 rows x 127 columns]"
      ]
     },
     "execution_count": 72,
     "metadata": {},
     "output_type": "execute_result"
    }
   ],
   "source": [
    "# Concatenate bots_tfid and gen_tfid to create df for modeling \n",
    "df_tweets = pd.concat([bots_tfid, gen_tfid], ignore_index=True)\n",
    "\n",
    "df_tweets.head()"
   ]
  },
  {
   "cell_type": "code",
   "execution_count": 73,
   "metadata": {},
   "outputs": [],
   "source": [
    "# Drop unwanted columns \n",
    "df_tweets = df_tweets.drop(columns=['index','id','text','source','user_id','created_at', 'timestamp', 'crawled_at', \n",
    "                                    'updated','clean_tweets', 'month_year','in_reply_to_status_id','in_reply_to_user_id',\n",
    "                                   'retweeted_status_id'])"
   ]
  },
  {
   "cell_type": "code",
   "execution_count": 74,
   "metadata": {},
   "outputs": [
    {
     "data": {
      "text/plain": [
       "Index([ 'retweet_count',    'reply_count', 'favorite_count',   'num_hashtags',\n",
       "             'num_urls',   'num_mentions',          'class',           'hour',\n",
       "                'month',            'day',\n",
       "       ...\n",
       "                     90,               91,               92,               93,\n",
       "                     94,               95,               96,               97,\n",
       "                     98,               99],\n",
       "      dtype='object', length=113)"
      ]
     },
     "execution_count": 74,
     "metadata": {},
     "output_type": "execute_result"
    }
   ],
   "source": [
    "df_tweets.columns"
   ]
  },
  {
   "cell_type": "code",
   "execution_count": 75,
   "metadata": {},
   "outputs": [
    {
     "data": {
      "text/plain": [
       "(30585, 113)"
      ]
     },
     "execution_count": 75,
     "metadata": {},
     "output_type": "execute_result"
    }
   ],
   "source": [
    "df_tweets.shape"
   ]
  },
  {
   "cell_type": "code",
   "execution_count": 76,
   "metadata": {},
   "outputs": [
    {
     "data": {
      "text/plain": [
       "0"
      ]
     },
     "execution_count": 76,
     "metadata": {},
     "output_type": "execute_result"
    }
   ],
   "source": [
    "# Check for null values \n",
    "df_tweets.isnull().sum().sum()"
   ]
  },
  {
   "cell_type": "markdown",
   "metadata": {},
   "source": [
    "# Evaluating and Comparing Machine Learning Models\n",
    "In this section we will build, train, and evalute several machine learning methods for our supervised regression task."
   ]
  },
  {
   "cell_type": "markdown",
   "metadata": {},
   "source": [
    "## Split Train and Test set¶\n",
    "Let's split dataset by using function train_test_split(). Here, the Dataset is broken into two parts in a ratio of 70:30. It means 70% data will be used for model training and 30% for model testing.\n",
    "\n",
    "To continue feature selection, we will start by using the original attributes in the raw training set."
   ]
  },
  {
   "cell_type": "code",
   "execution_count": 77,
   "metadata": {},
   "outputs": [],
   "source": [
    "# Set variables \n",
    "y = df_tweets['class']\n",
    "X = df_tweets.drop(columns=['class'])"
   ]
  },
  {
   "cell_type": "code",
   "execution_count": 78,
   "metadata": {},
   "outputs": [],
   "source": [
    "X_train, X_test, y_train, y_test = train_test_split(X, y, test_size=0.3, random_state=42, stratify=y)"
   ]
  },
  {
   "cell_type": "markdown",
   "metadata": {},
   "source": [
    "# Metric \n",
    "We will evaluate our models based on their predicted probability __ROC AUC score__. ROC AUC \"summarize the trade-off between the true positive rate and false positive rate for a predictive model using different probability thresholds\"[Brownlee](https://machinelearningmastery.com/roc-curves-and-precision-recall-curves-for-classification-in-python/).\n",
    "\n",
    "We’ll also focus on the __false positive rate__(FPR) and __false negative rate__(FNR). False positive rate is identifying genuine tweets as robot tweets. This could lead to disregarding value customer behavior information which can provide misleading data for future marketing campaigns and lower customer satisfaction. False negative rate is failure to label true robot tweets as bots tweets, which results in obtaining false customer information. \n",
    "\n",
    "FPR and FNR are reflected in the following metrics: \n",
    "\n",
    " * __Accuracy__: ratio of properly labeled accounts \n",
    "\n",
    " * __Precision__: ratio of correctly predicted positive observations to the total predicted positive observations. The question that this metric answer is of all tweets that are labeled as bots, how many are actually bots? High precision relates to the low false positive rate. \n",
    "\n",
    " * __Recall (Sensitivity)__: ratio of correctly predicted positive observations to the all observations in actual class - yes. The question recall answers is: Of all the tweets that were genereated by bots, how many did we label? \n",
    "\n",
    " \n",
    "# Model  Selection\n",
    "\n",
    "We will compare three different machine learning models:\n",
    "\n",
    "1. Logistic Regression\n",
    "2. Random Forest Classifer\n",
    "3. Neural Network Classifer \n",
    "\n",
    "We will fit these models the appropiate training set.\n",
    "\n",
    "## Baseline \n",
    "For a naive baseline, we will use logistic regression to predict the probability of an user account being a robot. Unlike linear regression which gives continuous output, logistic regression provides a constant output in predicting binary classes. If the probability 'p' is greater than 0.5, the data is labeled '1'. Probability less than 0.5 is labeled as '0'.\n",
    "\n",
    "## Logistic Regression \n",
    "First, we'll create the model and train the model and make predictions on the testing data."
   ]
  },
  {
   "cell_type": "markdown",
   "metadata": {},
   "source": [
    "# Modeling"
   ]
  },
  {
   "cell_type": "code",
   "execution_count": 80,
   "metadata": {},
   "outputs": [],
   "source": [
    "# Function to plot ROC curve \n",
    "def roc_curve(model, X_train, y_train, X_test, y_test):\n",
    "    y_pred_proba = model.predict_proba(X_train)[:, 1]\n",
    "    y_pred_proba2 = model.predict_proba(X_test)[:, 1]\n",
    "    fpr, tpr, thresholds = metrics.roc_curve(y_train, y_pred_proba)\n",
    "    fpr2, tpr2, thresholds = metrics.roc_curve(y_test, y_pred_proba2)\n",
    "\n",
    "    model_auc = metrics.roc_auc_score(y_train, y_pred_proba)\n",
    "    model_auc2 = metrics.roc_auc_score(y_test, y_pred_proba2)\n",
    "\n",
    "    fig, ax = plt.subplots()\n",
    "    ax.plot(fpr, tpr, label=\"Train, auc=\"+str(round(model_auc,4)))\n",
    "    ax.plot(fpr2, tpr2, label=\"Test, auc=\"+str(round(model_auc2,4)))\n",
    "\n",
    "    plt.title('ROC curve')\n",
    "    ax.legend(loc=4)\n",
    "    plt.xlabel('False Positive Rate')\n",
    "    plt.ylabel('True Positive Rate')\n",
    "\n",
    "    plt.show()"
   ]
  },
  {
   "cell_type": "code",
   "execution_count": 81,
   "metadata": {},
   "outputs": [
    {
     "name": "stderr",
     "output_type": "stream",
     "text": [
      "/Users/tsawaengsri/anaconda3/lib/python3.6/site-packages/sklearn/linear_model/logistic.py:433: FutureWarning: Default solver will be changed to 'lbfgs' in 0.22. Specify a solver to silence this warning.\n",
      "  FutureWarning)\n",
      "/Users/tsawaengsri/anaconda3/lib/python3.6/site-packages/sklearn/linear_model/logistic.py:433: FutureWarning: Default solver will be changed to 'lbfgs' in 0.22. Specify a solver to silence this warning.\n",
      "  FutureWarning)\n",
      "/Users/tsawaengsri/anaconda3/lib/python3.6/site-packages/sklearn/linear_model/logistic.py:433: FutureWarning: Default solver will be changed to 'lbfgs' in 0.22. Specify a solver to silence this warning.\n",
      "  FutureWarning)\n",
      "/Users/tsawaengsri/anaconda3/lib/python3.6/site-packages/sklearn/linear_model/logistic.py:433: FutureWarning: Default solver will be changed to 'lbfgs' in 0.22. Specify a solver to silence this warning.\n",
      "  FutureWarning)\n",
      "/Users/tsawaengsri/anaconda3/lib/python3.6/site-packages/sklearn/linear_model/logistic.py:433: FutureWarning: Default solver will be changed to 'lbfgs' in 0.22. Specify a solver to silence this warning.\n",
      "  FutureWarning)\n",
      "/Users/tsawaengsri/anaconda3/lib/python3.6/site-packages/sklearn/linear_model/logistic.py:433: FutureWarning: Default solver will be changed to 'lbfgs' in 0.22. Specify a solver to silence this warning.\n",
      "  FutureWarning)\n"
     ]
    },
    {
     "name": "stdout",
     "output_type": "stream",
     "text": [
      "[0.9175201  0.90354735 0.92531339 0.92355915 0.91105577]\n"
     ]
    }
   ],
   "source": [
    "# Logistic Regression Model \n",
    "lr = LogisticRegression()\n",
    "\n",
    "# Fit and predict \n",
    "lr.fit(X_train, y_train)\n",
    "lr_y_pred = lr.predict(X_test)\n",
    "\n",
    "# CV to check if overfitting \n",
    "print(cross_val_score(lr, X_train, y_train, cv=5, scoring='roc_auc'))"
   ]
  },
  {
   "cell_type": "code",
   "execution_count": 82,
   "metadata": {},
   "outputs": [
    {
     "name": "stdout",
     "output_type": "stream",
     "text": [
      "ROC_AUC: 85.56%\n",
      "Accuracy: 86.01%\n",
      "Recall: 89.60%\n",
      "Precision: 85.83%\n",
      "[[3324  754]\n",
      " [ 530 4568]]\n"
     ]
    }
   ],
   "source": [
    "# Calculate metrics\n",
    "lr_roc_auc = roc_auc_score(y_test, lr_y_pred)\n",
    "lr_accuracy = accuracy_score(y_test, lr_y_pred)\n",
    "lr_recall = recall_score(y_test, lr_y_pred)\n",
    "lr_precision = precision_score(y_test, lr_y_pred)\n",
    "\n",
    "# Print metrics\n",
    "print(\"ROC_AUC: %.2f%%\" % (lr_roc_auc * 100.0))\n",
    "print(\"Accuracy: %.2f%%\" % (lr_accuracy * 100.0))\n",
    "print('Recall: %.2f%%' % (lr_recall * 100.0))\n",
    "print('Precision: %.2f%%' % (lr_precision * 100.0))\n",
    "print(confusion_matrix(y_test, lr_y_pred))"
   ]
  },
  {
   "cell_type": "code",
   "execution_count": null,
   "metadata": {},
   "outputs": [],
   "source": [
    "# Logistic Model\n",
    "#parameters = {'C':np.logspace(-5,5)}\n",
    "#lr = LogisticRegression()\n",
    "#gsc_lr = GridSearchCV(lr, parameters, cv=5, scoring='roc_auc')\n",
    "#gsc_lr.fit(X_train, y_train)\n",
    "#print(gsc_lr.best_params_, gsc_lr.best_score_)\n",
    "\n",
    "# {'C': 1e-05} 0.771215887401393"
   ]
  },
  {
   "cell_type": "code",
   "execution_count": null,
   "metadata": {},
   "outputs": [],
   "source": [
    "# Optmizied Logistic Model\n",
    "#parameters = {}\n",
    "#parameters['penalty'] = ['l1', 'l2']\n",
    "#gsc_lr2 = LogisticRegression(C=1e-05)\n",
    "#gsc_lr2 = GridSearchCV(gsc_lr2, parameters, cv=5, scoring='roc_auc')\n",
    "#gsc_lr2.fit(X_train, y_train)\n",
    "#print(gsc_lr2.best_params_, gsc_lr2.best_score_)\n",
    "\n",
    "# NOTE: Took too long to process "
   ]
  },
  {
   "cell_type": "markdown",
   "metadata": {},
   "source": [
    "### Optimized Logistic Regression Model "
   ]
  },
  {
   "cell_type": "code",
   "execution_count": 83,
   "metadata": {},
   "outputs": [
    {
     "name": "stderr",
     "output_type": "stream",
     "text": [
      "/Users/tsawaengsri/anaconda3/lib/python3.6/site-packages/sklearn/linear_model/logistic.py:433: FutureWarning: Default solver will be changed to 'lbfgs' in 0.22. Specify a solver to silence this warning.\n",
      "  FutureWarning)\n"
     ]
    }
   ],
   "source": [
    "# Optimized Logistic Regression Model \n",
    "gsc_lr = LogisticRegression(C=1e-05)\n",
    "gsc_lr.fit(X_train, y_train)\n",
    "gsc_lr_y_pred = gsc_lr.predict(X_test)"
   ]
  },
  {
   "cell_type": "code",
   "execution_count": 84,
   "metadata": {},
   "outputs": [
    {
     "name": "stdout",
     "output_type": "stream",
     "text": [
      "ROC_AUC: 72.48%\n",
      "Accuracy: 74.46%\n",
      "Recall: 90.21%\n",
      "Precision: 71.37%\n",
      "[[2233 1845]\n",
      " [ 499 4599]]\n"
     ]
    }
   ],
   "source": [
    "# Calculate metrics\n",
    "gsc_lr_roc_auc = roc_auc_score(y_test, gsc_lr_y_pred)\n",
    "gsc_lr_accuracy = accuracy_score(y_test, gsc_lr_y_pred)\n",
    "gsc_lr_recall = recall_score(y_test, gsc_lr_y_pred)\n",
    "gsc_lr_precision = precision_score(y_test, gsc_lr_y_pred)\n",
    "\n",
    "# Print metrics\n",
    "print(\"ROC_AUC: %.2f%%\" % (gsc_lr_roc_auc * 100.0))\n",
    "print(\"Accuracy: %.2f%%\" % (gsc_lr_accuracy * 100.0))\n",
    "print('Recall: %.2f%%' % (gsc_lr_recall * 100.0))\n",
    "print('Precision: %.2f%%' % (gsc_lr_precision * 100.0))\n",
    "print(confusion_matrix(y_test, gsc_lr_y_pred))"
   ]
  },
  {
   "cell_type": "code",
   "execution_count": 85,
   "metadata": {},
   "outputs": [
    {
     "data": {
      "image/png": "[encoded data removed]",
      "text/plain": [
       "<Figure size 432x288 with 1 Axes>"
      ]
     },
     "metadata": {
      "needs_background": "light"
     },
     "output_type": "display_data"
    }
   ],
   "source": [
    "# Function to plot ROC curve \n",
    "roc_curve(gsc_lr, X_train, y_train, X_test, y_test)"
   ]
  },
  {
   "cell_type": "markdown",
   "metadata": {},
   "source": [
    "__Evaluation__: From cross validation, this model doesn't seem to be overfitting by much since the accuracry scores range between 0.70 to 0.73. With a recall of 80.45% and precision of 71.36%, this model was better at classifying robot tweets than geninue ones from human users. "
   ]
  },
  {
   "cell_type": "markdown",
   "metadata": {},
   "source": [
    "### Random Forest "
   ]
  },
  {
   "cell_type": "code",
   "execution_count": 86,
   "metadata": {},
   "outputs": [
    {
     "name": "stdout",
     "output_type": "stream",
     "text": [
      "[0.99982844 0.99985863 0.99924667 0.99956949 0.99985966]\n"
     ]
    }
   ],
   "source": [
    "# Random Forest Model \n",
    "rf = RandomForestClassifier(n_estimators=100, random_state=42)\n",
    "\n",
    "# Fit and predict\n",
    "rf.fit(X_train, y_train) \n",
    "rf_y_pred = rf.predict(X_test)\n",
    "\n",
    "# Check if model is overfitting \n",
    "print(cross_val_score(rf, X_train, y_train, cv=5, scoring='roc_auc'))"
   ]
  },
  {
   "cell_type": "code",
   "execution_count": 87,
   "metadata": {},
   "outputs": [
    {
     "name": "stdout",
     "output_type": "stream",
     "text": [
      "ROC_AUC: 99.44%\n",
      "Accuracy: 99.39%\n",
      "Recall: 99.02%\n",
      "Precision: 99.88%\n",
      "[[4072    6]\n",
      " [  50 5048]]\n"
     ]
    }
   ],
   "source": [
    "# Calculate metrics\n",
    "rf_roc_auc = roc_auc_score(y_test, rf_y_pred)\n",
    "rf_accuracy = accuracy_score(y_test, rf_y_pred)\n",
    "rf_recall = recall_score(y_test, rf_y_pred)\n",
    "rf_precision = precision_score(y_test, rf_y_pred)\n",
    "\n",
    "# Print metrics\n",
    "print(\"ROC_AUC: %.2f%%\" % (rf_roc_auc * 100.0))\n",
    "print(\"Accuracy: %.2f%%\" % (rf_accuracy * 100.0))\n",
    "print('Recall: %.2f%%' % (rf_recall * 100.0))\n",
    "print('Precision: %.2f%%' % (rf_precision * 100.0))\n",
    "print(confusion_matrix(y_test, rf_y_pred))\n"
   ]
  },
  {
   "cell_type": "code",
   "execution_count": null,
   "metadata": {},
   "outputs": [],
   "source": [
    "#Optimizing Random Forest\n",
    "#parameters = {}\n",
    "#parameters['criterion'] = ['entropy','gini']\n",
    "#parameters['n_estimators'] = [100,200,300]\n",
    "\n",
    "#gsc_rf = GridSearchCV(rf, parameters, cv=5, verbose=1, scoring='roc_auc')\n",
    "#gsc_rf.fit(X_train, y_train)\n",
    "#print(gsc_rf.best_params_, gsc_rf.best_score_)\n",
    "\n",
    "# {'criterion': 'entropy', 'n_estimators': 300} 0.9993297513905806"
   ]
  },
  {
   "cell_type": "markdown",
   "metadata": {},
   "source": [
    "### Optmized Random Forest"
   ]
  },
  {
   "cell_type": "code",
   "execution_count": 88,
   "metadata": {},
   "outputs": [],
   "source": [
    "# Optimized Random Forest\n",
    "gsc_rf = RandomForestClassifier(n_estimators=300, criterion='entropy', random_state=42)\n",
    "gsc_rf.fit(X_train, y_train) \n",
    "gsc_rf_y_pred = gsc_rf.predict(X_test)"
   ]
  },
  {
   "cell_type": "code",
   "execution_count": 89,
   "metadata": {},
   "outputs": [
    {
     "name": "stdout",
     "output_type": "stream",
     "text": [
      "ROC_AUC: 99.50%\n",
      "Accuracy: 99.47%\n",
      "Recall: 99.16%\n",
      "Precision: 99.88%\n",
      "[[4072    6]\n",
      " [  43 5055]]\n"
     ]
    }
   ],
   "source": [
    "# Calculate metrics\n",
    "gsc_rf_roc_auc = roc_auc_score(y_test, gsc_rf_y_pred)\n",
    "gsc_rf_accuracy = accuracy_score(y_test, gsc_rf_y_pred)\n",
    "gsc_rf_recall = recall_score(y_test, gsc_rf_y_pred)\n",
    "gsc_rf_precision = precision_score(y_test, gsc_rf_y_pred)\n",
    "\n",
    "# Print metrics\n",
    "print(\"ROC_AUC: %.2f%%\" % (gsc_rf_roc_auc * 100.0))\n",
    "print(\"Accuracy: %.2f%%\" % (gsc_rf_accuracy * 100.0))\n",
    "print('Recall: %.2f%%' % (gsc_rf_recall * 100.0))\n",
    "print('Precision: %.2f%%' % (gsc_rf_precision * 100.0))\n",
    "print(confusion_matrix(y_test, gsc_rf_y_pred))"
   ]
  },
  {
   "cell_type": "code",
   "execution_count": 90,
   "metadata": {},
   "outputs": [
    {
     "data": {
      "image/png": "[encoded data removed]",
      "text/plain": [
       "<Figure size 432x288 with 1 Axes>"
      ]
     },
     "metadata": {
      "needs_background": "light"
     },
     "output_type": "display_data"
    }
   ],
   "source": [
    "# Function to plot ROC curve \n",
    "roc_curve(gsc_rf, X_train, y_train, X_test, y_test)"
   ]
  },
  {
   "cell_type": "markdown",
   "metadata": {},
   "source": [
    "__Evaluation__: The optimized random forest model drastically outperforms the logistic regression model. Based on the training data's cross validation score, the model is relatively stable by yielding accuracy score of 99%. On the test data, this model yield 99% for both recall and precision.  "
   ]
  },
  {
   "cell_type": "markdown",
   "metadata": {},
   "source": [
    "### Model Interpretation: Feature Importances\n",
    "For model interpretability, we will take a look at the feature importances of our optimized random forest. We may use these feature importances as a method of dimensionality reduction in future work."
   ]
  },
  {
   "cell_type": "code",
   "execution_count": 91,
   "metadata": {},
   "outputs": [
    {
     "data": {
      "text/html": [
       "<div>\n",
       "<style scoped>\n",
       "    .dataframe tbody tr th:only-of-type {\n",
       "        vertical-align: middle;\n",
       "    }\n",
       "\n",
       "    .dataframe tbody tr th {\n",
       "        vertical-align: top;\n",
       "    }\n",
       "\n",
       "    .dataframe thead th {\n",
       "        text-align: right;\n",
       "    }\n",
       "</style>\n",
       "<table border=\"1\" class=\"dataframe\">\n",
       "  <thead>\n",
       "    <tr style=\"text-align: right;\">\n",
       "      <th></th>\n",
       "      <th>Variable</th>\n",
       "      <th>Importance</th>\n",
       "    </tr>\n",
       "  </thead>\n",
       "  <tbody>\n",
       "    <tr>\n",
       "      <th>9</th>\n",
       "      <td>year</td>\n",
       "      <td>0.107181</td>\n",
       "    </tr>\n",
       "    <tr>\n",
       "      <th>5</th>\n",
       "      <td>num_mentions</td>\n",
       "      <td>0.076008</td>\n",
       "    </tr>\n",
       "    <tr>\n",
       "      <th>12</th>\n",
       "      <td>0</td>\n",
       "      <td>0.064025</td>\n",
       "    </tr>\n",
       "    <tr>\n",
       "      <th>15</th>\n",
       "      <td>3</td>\n",
       "      <td>0.057700</td>\n",
       "    </tr>\n",
       "    <tr>\n",
       "      <th>7</th>\n",
       "      <td>month</td>\n",
       "      <td>0.055318</td>\n",
       "    </tr>\n",
       "    <tr>\n",
       "      <th>19</th>\n",
       "      <td>7</td>\n",
       "      <td>0.044675</td>\n",
       "    </tr>\n",
       "    <tr>\n",
       "      <th>18</th>\n",
       "      <td>6</td>\n",
       "      <td>0.035660</td>\n",
       "    </tr>\n",
       "    <tr>\n",
       "      <th>17</th>\n",
       "      <td>5</td>\n",
       "      <td>0.030300</td>\n",
       "    </tr>\n",
       "    <tr>\n",
       "      <th>14</th>\n",
       "      <td>2</td>\n",
       "      <td>0.028312</td>\n",
       "    </tr>\n",
       "    <tr>\n",
       "      <th>29</th>\n",
       "      <td>17</td>\n",
       "      <td>0.027985</td>\n",
       "    </tr>\n",
       "  </tbody>\n",
       "</table>\n",
       "</div>"
      ],
      "text/plain": [
       "        Variable  Importance\n",
       "9           year    0.107181\n",
       "5   num_mentions    0.076008\n",
       "12             0    0.064025\n",
       "15             3    0.057700\n",
       "7          month    0.055318\n",
       "19             7    0.044675\n",
       "18             6    0.035660\n",
       "17             5    0.030300\n",
       "14             2    0.028312\n",
       "29            17    0.027985"
      ]
     },
     "execution_count": 91,
     "metadata": {},
     "output_type": "execute_result"
    }
   ],
   "source": [
    "# Top N importances\n",
    "N = 10\n",
    "importances = gsc_rf.feature_importances_\n",
    "std = np.std([tree.feature_importances_ for tree in gsc_rf.estimators_],\n",
    "             axis=0)\n",
    "\n",
    "# Create a dataframe\n",
    "importances_df = pd.DataFrame({'Variable':X.columns, 'Importance': importances})\n",
    "\n",
    "top_N = importances_df.sort_values(by=['Importance'], ascending=False).head(10)\n",
    "\n",
    "top_N"
   ]
  },
  {
   "cell_type": "code",
   "execution_count": 92,
   "metadata": {},
   "outputs": [
    {
     "data": {
      "image/png": "[encoded data removed]",
      "text/plain": [
       "<Figure size 432x288 with 1 Axes>"
      ]
     },
     "metadata": {
      "needs_background": "light"
     },
     "output_type": "display_data"
    }
   ],
   "source": [
    "# Creating a bar plot\n",
    "sns.barplot(y='Variable', x='Importance', data=top_N)\n",
    "# Add labels to your graph\n",
    "plt.xlabel('Feature Importance Score')\n",
    "plt.ylabel('Features')\n",
    "plt.title(\"Visualizing Random Forest Important Features\")\n",
    "plt.show()"
   ]
  },
  {
   "cell_type": "markdown",
   "metadata": {},
   "source": [
    "__Observation__: The components devrived from tweets and num_mentions were the most important features in classififying tweets. "
   ]
  },
  {
   "cell_type": "markdown",
   "metadata": {},
   "source": [
    "### Multi-Layer Preceptron Neural Network"
   ]
  },
  {
   "cell_type": "code",
   "execution_count": 93,
   "metadata": {},
   "outputs": [
    {
     "name": "stdout",
     "output_type": "stream",
     "text": [
      "[0.92188672 0.92176663 0.9301828  0.92846052 0.92949945]\n"
     ]
    }
   ],
   "source": [
    "# Establish and fit the model\n",
    "mlp = MLPClassifier(max_iter=100) \n",
    "\n",
    "# Fit and predict\n",
    "mlp.fit(X_train, y_train)\n",
    "mlp_y_pred = mlp.predict(X_test)\n",
    "\n",
    "# Check for overfitting\n",
    "print(cross_val_score(mlp, X_train, y_train, cv=5, scoring='roc_auc'))\n",
    "# Default param(hidden_layer_sizes: 100, activation: ‘relu’, solver: adam’, alpha: 0.0001, learning_rate: ‘constant’)"
   ]
  },
  {
   "cell_type": "code",
   "execution_count": 94,
   "metadata": {},
   "outputs": [
    {
     "name": "stdout",
     "output_type": "stream",
     "text": [
      "ROC_AUC: 85.62%\n",
      "Accuracy: 85.91%\n",
      "Recall: 88.25%\n",
      "Precision: 86.64%\n",
      "[[3384  694]\n",
      " [ 599 4499]]\n"
     ]
    }
   ],
   "source": [
    "# Calculate metrics\n",
    "mlp_roc_auc = roc_auc_score(y_test, mlp_y_pred)\n",
    "mlp_accuracy = accuracy_score(y_test, mlp_y_pred)\n",
    "mlp_recall = recall_score(y_test, mlp_y_pred)\n",
    "mlp_precision = precision_score(y_test, mlp_y_pred)\n",
    "\n",
    "# Print metrics\n",
    "print(\"ROC_AUC: %.2f%%\" % (mlp_roc_auc * 100.0))\n",
    "print(\"Accuracy: %.2f%%\" % (mlp_accuracy * 100.0))\n",
    "print('Recall: %.2f%%' % (mlp_recall * 100.0))\n",
    "print('Precision: %.2f%%' % (mlp_precision * 100.0))\n",
    "print(confusion_matrix(y_test, mlp_y_pred))"
   ]
  },
  {
   "cell_type": "code",
   "execution_count": 95,
   "metadata": {},
   "outputs": [
    {
     "name": "stdout",
     "output_type": "stream",
     "text": [
      "{'activation': 'tanh', 'alpha': 0.0001, 'hidden_layer_sizes': (100,), 'learning_rate': 'adaptive', 'solver': 'adam'} 0.9489199737299105\n"
     ]
    },
    {
     "name": "stderr",
     "output_type": "stream",
     "text": [
      "/Users/tsawaengsri/anaconda3/lib/python3.6/site-packages/sklearn/neural_network/multilayer_perceptron.py:562: ConvergenceWarning: Stochastic Optimizer: Maximum iterations (100) reached and the optimization hasn't converged yet.\n",
      "  % self.max_iter, ConvergenceWarning)\n"
     ]
    }
   ],
   "source": [
    "parameters = {\n",
    "    'hidden_layer_sizes': [(50,50,50), (50,100,50), (100,)],\n",
    "    'activation': ['tanh', 'relu'],\n",
    "    'solver': ['sgd', 'adam'],\n",
    "    'alpha': [0.0001, 0.05],\n",
    "    'learning_rate': ['constant','adaptive'],\n",
    "}\n",
    "\n",
    "gsc_mlp = GridSearchCV(mlp, parameters, cv=5, n_jobs=-1, scoring='roc_auc')\n",
    "gsc_mlp.fit(X_train, y_train)\n",
    "print(gsc_mlp.best_params_, gsc_mlp.best_score_)\n",
    "\n",
    "# {'activation': 'tanh', 'hidden_layer_sizes': (50, 50, 50)} 0.9759338021335352"
   ]
  },
  {
   "cell_type": "markdown",
   "metadata": {},
   "source": [
    "### Optimized MLP"
   ]
  },
  {
   "cell_type": "code",
   "execution_count": 96,
   "metadata": {},
   "outputs": [],
   "source": [
    "# Establish and fit the model\n",
    "gsc_mlp = MLPClassifier(max_iter=100, activation='tanh', alpha= 0.0001, hidden_layer_sizes=(100,), \n",
    "                        learning_rate='adaptive', solver='adam') \n",
    "gsc_mlp.fit(X_train, y_train)\n",
    "gsc_mlp_y_pred = gsc_mlp.predict(X_test)"
   ]
  },
  {
   "cell_type": "code",
   "execution_count": 97,
   "metadata": {},
   "outputs": [
    {
     "name": "stdout",
     "output_type": "stream",
     "text": [
      "ROC_AUC: 87.28%\n",
      "Accuracy: 86.68%\n",
      "Recall: 81.88%\n",
      "Precision: 93.34%\n",
      "[[3780  298]\n",
      " [ 924 4174]]\n"
     ]
    }
   ],
   "source": [
    "# Calculate metrics\n",
    "gsc_mlp_roc_auc = roc_auc_score(y_test, gsc_mlp_y_pred)\n",
    "gsc_mlp_accuracy = accuracy_score(y_test, gsc_mlp_y_pred)\n",
    "gsc_mlp_recall = recall_score(y_test, gsc_mlp_y_pred)\n",
    "gsc_mlp_precision = precision_score(y_test, gsc_mlp_y_pred)\n",
    "\n",
    "# Print metrics\n",
    "print(\"ROC_AUC: %.2f%%\" % (gsc_mlp_roc_auc * 100.0))\n",
    "print(\"Accuracy: %.2f%%\" % (gsc_mlp_accuracy * 100.0))\n",
    "print('Recall: %.2f%%' % (gsc_mlp_recall * 100.0))\n",
    "print('Precision: %.2f%%' % (gsc_mlp_precision * 100.0))\n",
    "print(confusion_matrix(y_test, gsc_mlp_y_pred))"
   ]
  },
  {
   "cell_type": "code",
   "execution_count": 98,
   "metadata": {},
   "outputs": [
    {
     "data": {
      "image/png": "[encoded data removed]",
      "text/plain": [
       "<Figure size 432x288 with 1 Axes>"
      ]
     },
     "metadata": {
      "needs_background": "light"
     },
     "output_type": "display_data"
    }
   ],
   "source": [
    "# Function to plot ROC curve \n",
    "roc_curve(gsc_mlp, X_train, y_train, X_test, y_test)"
   ]
  },
  {
   "cell_type": "markdown",
   "metadata": {},
   "source": [
    "__Evaluation__: The optimized MLP is comparable to the random forest model. This model was better at identifying genuine tweets than bot tweets with a precision score of 98.10% and recall of 92.38%. With further hyperparamater tuning, the MLP might be able to reach accuracy of 99%. "
   ]
  },
  {
   "cell_type": "markdown",
   "metadata": {},
   "source": [
    "## Supervised Learning Conclusion "
   ]
  },
  {
   "cell_type": "code",
   "execution_count": 99,
   "metadata": {},
   "outputs": [
    {
     "data": {
      "text/html": [
       "<div>\n",
       "<style scoped>\n",
       "    .dataframe tbody tr th:only-of-type {\n",
       "        vertical-align: middle;\n",
       "    }\n",
       "\n",
       "    .dataframe tbody tr th {\n",
       "        vertical-align: top;\n",
       "    }\n",
       "\n",
       "    .dataframe thead th {\n",
       "        text-align: right;\n",
       "    }\n",
       "</style>\n",
       "<table border=\"1\" class=\"dataframe\">\n",
       "  <thead>\n",
       "    <tr style=\"text-align: right;\">\n",
       "      <th></th>\n",
       "      <th>Model</th>\n",
       "      <th>ROC_AUC</th>\n",
       "      <th>Accuracy</th>\n",
       "      <th>Recall</th>\n",
       "      <th>Precision</th>\n",
       "    </tr>\n",
       "  </thead>\n",
       "  <tbody>\n",
       "    <tr>\n",
       "      <th>1</th>\n",
       "      <td>Random Forest</td>\n",
       "      <td>0.995047</td>\n",
       "      <td>0.994660</td>\n",
       "      <td>0.991565</td>\n",
       "      <td>0.998814</td>\n",
       "    </tr>\n",
       "    <tr>\n",
       "      <th>2</th>\n",
       "      <td>Multi-Layer Preceptron Neural Network</td>\n",
       "      <td>0.872839</td>\n",
       "      <td>0.866827</td>\n",
       "      <td>0.818752</td>\n",
       "      <td>0.933363</td>\n",
       "    </tr>\n",
       "    <tr>\n",
       "      <th>0</th>\n",
       "      <td>Logistic Regression</td>\n",
       "      <td>0.724845</td>\n",
       "      <td>0.744551</td>\n",
       "      <td>0.902118</td>\n",
       "      <td>0.713687</td>\n",
       "    </tr>\n",
       "  </tbody>\n",
       "</table>\n",
       "</div>"
      ],
      "text/plain": [
       "                                   Model   ROC_AUC  Accuracy    Recall  \\\n",
       "1                          Random Forest  0.995047  0.994660  0.991565   \n",
       "2  Multi-Layer Preceptron Neural Network  0.872839  0.866827  0.818752   \n",
       "0                    Logistic Regression  0.724845  0.744551  0.902118   \n",
       "\n",
       "   Precision  \n",
       "1   0.998814  \n",
       "2   0.933363  \n",
       "0   0.713687  "
      ]
     },
     "execution_count": 99,
     "metadata": {},
     "output_type": "execute_result"
    }
   ],
   "source": [
    "# Dataframe to hold the results\n",
    "model_comparison = pd.DataFrame({'Model': ['Logistic Regression', 'Random Forest',\n",
    "                                           'Multi-Layer Preceptron Neural Network'],\n",
    "                                 'ROC_AUC': [gsc_lr_roc_auc, gsc_rf_roc_auc, gsc_mlp_roc_auc],\n",
    "                                'Accuracy': [gsc_lr_accuracy, gsc_rf_accuracy, gsc_mlp_accuracy],\n",
    "                                'Recall': [gsc_lr_recall, gsc_rf_recall, gsc_mlp_recall],\n",
    "                                'Precision': [gsc_lr_precision, gsc_rf_precision, gsc_mlp_precision]})\n",
    "\n",
    "# Horizontal bar chart of \n",
    "model_comparison.sort_values('ROC_AUC', ascending = False)"
   ]
  },
  {
   "cell_type": "markdown",
   "metadata": {},
   "source": [
    "#### Which model performed best?\n",
    "As we can see, random forest and mlp were the top models across all metrics. However, the average scores of the random forest model remained within 99% for all metrics while mlp scores ranged from 92% to 98%."
   ]
  },
  {
   "cell_type": "markdown",
   "metadata": {},
   "source": [
    "# Unsupervised Learning "
   ]
  },
  {
   "cell_type": "code",
   "execution_count": 100,
   "metadata": {},
   "outputs": [],
   "source": [
    "# Define varaibles \n",
    "y = df_tweets['class']\n",
    "X = df_tweets.loc[:,['retweet_count','reply_count','favorite_count','num_hashtags','num_urls','num_mentions','hour','month',\n",
    "                  'day','year','length','num_of_words']]"
   ]
  },
  {
   "cell_type": "markdown",
   "metadata": {},
   "source": [
    "## Reduce dimensions for clustering\n",
    "\n",
    "### TSNE\n",
    "t-distributed Stochastic Neighbor Embedding.\n",
    "\n",
    "t-SNE [1] is a tool to visualize high-dimensional data. It converts similarities between data points to joint probabilities and tries to minimize the Kullback-Leibler divergence between the joint probabilities of the low-dimensional embedding and the high-dimensional data. t-SNE has a cost function that is not convex, i.e. with different initializations we can get different results.\n",
    "\n",
    "It is highly recommended to use another dimensionality reduction method (e.g. PCA for dense data or TruncatedSVD for sparse data) to reduce the number of dimensions to a reasonable amount (e.g. 50) if the number of features is very high. This will suppress some noise and speed up the computation of pairwise distances between samples. \n"
   ]
  },
  {
   "cell_type": "code",
   "execution_count": 101,
   "metadata": {},
   "outputs": [
    {
     "name": "stdout",
     "output_type": "stream",
     "text": [
      "[t-SNE] Computing 91 nearest neighbors...\n",
      "[t-SNE] Indexed 30585 samples in 0.985s...\n",
      "[t-SNE] Computed neighbors for 30585 samples in 4.905s...\n",
      "[t-SNE] Computed conditional probabilities for sample 1000 / 30585\n",
      "[t-SNE] Computed conditional probabilities for sample 2000 / 30585\n",
      "[t-SNE] Computed conditional probabilities for sample 3000 / 30585\n",
      "[t-SNE] Computed conditional probabilities for sample 4000 / 30585\n",
      "[t-SNE] Computed conditional probabilities for sample 5000 / 30585\n",
      "[t-SNE] Computed conditional probabilities for sample 6000 / 30585\n",
      "[t-SNE] Computed conditional probabilities for sample 7000 / 30585\n",
      "[t-SNE] Computed conditional probabilities for sample 8000 / 30585\n",
      "[t-SNE] Computed conditional probabilities for sample 9000 / 30585\n",
      "[t-SNE] Computed conditional probabilities for sample 10000 / 30585\n",
      "[t-SNE] Computed conditional probabilities for sample 11000 / 30585\n",
      "[t-SNE] Computed conditional probabilities for sample 12000 / 30585\n",
      "[t-SNE] Computed conditional probabilities for sample 13000 / 30585\n",
      "[t-SNE] Computed conditional probabilities for sample 14000 / 30585\n",
      "[t-SNE] Computed conditional probabilities for sample 15000 / 30585\n",
      "[t-SNE] Computed conditional probabilities for sample 16000 / 30585\n",
      "[t-SNE] Computed conditional probabilities for sample 17000 / 30585\n",
      "[t-SNE] Computed conditional probabilities for sample 18000 / 30585\n",
      "[t-SNE] Computed conditional probabilities for sample 19000 / 30585\n",
      "[t-SNE] Computed conditional probabilities for sample 20000 / 30585\n",
      "[t-SNE] Computed conditional probabilities for sample 21000 / 30585\n",
      "[t-SNE] Computed conditional probabilities for sample 22000 / 30585\n",
      "[t-SNE] Computed conditional probabilities for sample 23000 / 30585\n",
      "[t-SNE] Computed conditional probabilities for sample 24000 / 30585\n",
      "[t-SNE] Computed conditional probabilities for sample 25000 / 30585\n",
      "[t-SNE] Computed conditional probabilities for sample 26000 / 30585\n",
      "[t-SNE] Computed conditional probabilities for sample 27000 / 30585\n",
      "[t-SNE] Computed conditional probabilities for sample 28000 / 30585\n",
      "[t-SNE] Computed conditional probabilities for sample 29000 / 30585\n",
      "[t-SNE] Computed conditional probabilities for sample 30000 / 30585\n",
      "[t-SNE] Computed conditional probabilities for sample 30585 / 30585\n",
      "[t-SNE] Mean sigma: 2.508948\n",
      "[t-SNE] KL divergence after 250 iterations with early exaggeration: 88.165100\n",
      "[t-SNE] KL divergence after 1000 iterations: 2.042385\n",
      "(30585, 2)\n"
     ]
    }
   ],
   "source": [
    "# TSNE to reduce dimension from 100 to 2\n",
    "tsne = TSNE(n_components=2, verbose=1, random_state=42)\n",
    "tsne_tfidf = tsne.fit_transform(X)\n",
    "\n",
    "# Summary of transformation\n",
    "print(tsne_tfidf.shape)"
   ]
  },
  {
   "cell_type": "code",
   "execution_count": 102,
   "metadata": {},
   "outputs": [
    {
     "data": {
      "text/plain": [
       "array([[ -5.13724  , -62.22852  ],\n",
       "       [-42.704346 ,   5.6912875],\n",
       "       [ 24.62843  , -14.587435 ],\n",
       "       ...,\n",
       "       [-15.722292 ,  50.564465 ],\n",
       "       [-37.332714 ,  52.265766 ],\n",
       "       [-24.650826 ,  12.683392 ]], dtype=float32)"
      ]
     },
     "execution_count": 102,
     "metadata": {},
     "output_type": "execute_result"
    }
   ],
   "source": [
    "tsne_tfidf"
   ]
  },
  {
   "cell_type": "code",
   "execution_count": 103,
   "metadata": {},
   "outputs": [],
   "source": [
    "# Utility function to visualize the outputs of t-SNE\n",
    "\n",
    "def fashion_scatter(x, colors):\n",
    "    # choose a color palette with seaborn.\n",
    "    num_classes = len(np.unique(colors))\n",
    "    palette = np.array(sns.color_palette(\"hls\", num_classes))\n",
    "\n",
    "    # create a scatter plot.\n",
    "    f = plt.figure(figsize=(8, 8))\n",
    "    ax = plt.subplot(aspect='equal')\n",
    "    sc = ax.scatter(x[:,0], x[:,1], lw=0, s=40, c=palette[colors.astype(np.int)])\n",
    "    plt.xlim(-25, 25)\n",
    "    plt.ylim(-25, 25)\n",
    "    ax.axis('off')\n",
    "    ax.axis('tight')\n",
    "\n",
    "    # add the labels for each digit corresponding to the label\n",
    "    txts = []\n",
    "\n",
    "    for i in range(num_classes):\n",
    "\n",
    "        # Position of each label at median of data points.\n",
    "\n",
    "        xtext, ytext = np.median(x[colors == i, :], axis=0)\n",
    "        txt = ax.text(xtext, ytext, str(i), fontsize=24)\n",
    "        txt.set_path_effects([\n",
    "            PathEffects.Stroke(linewidth=5, foreground=\"w\"),\n",
    "            PathEffects.Normal()])\n",
    "        txts.append(txt)\n",
    "\n",
    "    return f, ax, sc, txts"
   ]
  },
  {
   "cell_type": "code",
   "execution_count": 104,
   "metadata": {},
   "outputs": [
    {
     "name": "stdout",
     "output_type": "stream",
     "text": [
      "[0 1]\n"
     ]
    }
   ],
   "source": [
    "# Subset first 20k data points to visualize\n",
    "x_subset = tsne_tfidf[0:20000]\n",
    "y_subset = y_train[0:20000]\n",
    "\n",
    "print(np.unique(y_subset))"
   ]
  },
  {
   "cell_type": "code",
   "execution_count": 105,
   "metadata": {},
   "outputs": [
    {
     "data": {
      "text/plain": [
       "(<Figure size 576x576 with 1 Axes>,\n",
       " <matplotlib.axes._subplots.AxesSubplot at 0x1a41ae46d8>,\n",
       " <matplotlib.collections.PathCollection at 0x1ac8523c18>,\n",
       " [Text(7.849688, 2.31217, '0'), Text(8.367548, 1.8205392, '1')])"
      ]
     },
     "execution_count": 105,
     "metadata": {},
     "output_type": "execute_result"
    },
    {
     "data": {
      "image/png": "[encoded data removed]",
      "text/plain": [
       "<Figure size 576x576 with 1 Axes>"
      ]
     },
     "metadata": {
      "needs_background": "light"
     },
     "output_type": "display_data"
    }
   ],
   "source": [
    "fashion_scatter(x_subset, y_subset)"
   ]
  },
  {
   "cell_type": "markdown",
   "metadata": {},
   "source": [
    "__Observation__: There aren't major distinct clusters between tweets generated by humans and robots."
   ]
  },
  {
   "cell_type": "markdown",
   "metadata": {},
   "source": [
    "### K-means clustering"
   ]
  },
  {
   "cell_type": "code",
   "execution_count": 106,
   "metadata": {},
   "outputs": [
    {
     "data": {
      "image/png": "[encoded data removed]",
      "text/plain": [
       "<Figure size 432x288 with 1 Axes>"
      ]
     },
     "metadata": {
      "needs_background": "light"
     },
     "output_type": "display_data"
    },
    {
     "name": "stdout",
     "output_type": "stream",
     "text": [
      "Comparing k-means clusters against the data:\n",
      "class     0     1\n",
      "row_0            \n",
      "0      6260  8568\n",
      "1      7331  8426\n"
     ]
    }
   ],
   "source": [
    "# We are limiting our feature space to 2 components here. \n",
    "#  This makes it easier to graph and see the clusters.\n",
    "\n",
    "# Normalize the data.\n",
    "X_norm = normalize(tsne_tfidf)\n",
    "\n",
    "# Calculate predicted values.\n",
    "y_pred = KMeans(n_clusters=2, random_state=42).fit_predict(X_norm)\n",
    "\n",
    "# Plot the solution.\n",
    "plt.scatter(X_norm[:, 0], X_norm[:, 1], c=y_pred)\n",
    "plt.show()\n",
    "\n",
    "# Check the solution against the data.\n",
    "print('Comparing k-means clusters against the data:')\n",
    "print(pd.crosstab(y_pred, y))"
   ]
  },
  {
   "cell_type": "code",
   "execution_count": 107,
   "metadata": {},
   "outputs": [
    {
     "name": "stdout",
     "output_type": "stream",
     "text": [
      "Adjusted Rand Score: 0.001529296\n",
      "Silhouette Score: 0.3615491\n"
     ]
    }
   ],
   "source": [
    "# Evaluate the performance of the clusters\n",
    "\n",
    "print('Adjusted Rand Score: {:0.7}'.format(adjusted_rand_score(y, y_pred)))\n",
    "print('Silhouette Score: {:0.7}'.format(silhouette_score(tsne_tfidf, y_pred, metric='euclidean')))"
   ]
  },
  {
   "cell_type": "markdown",
   "metadata": {},
   "source": [
    "Adjusted Rand Index is a function that measures the similarity of two assignments, ignoring permutations and with chance normalization. The score was negative which means that the similarity might as well be random. ARI has an accurate ground truth in the y-pred so it signals that the similarity isn't there.\n",
    "\n",
    "Silhouette Coefficient is the mean distance between a sample and all other points in the same class (a), the mean distance between a sample and all other points in the next nearest cluster (b), divided by whichever of the two values is highest. Scores around 0 indicate overlapping clusters. Score is higher when clusters are dense and well separated."
   ]
  },
  {
   "cell_type": "code",
   "execution_count": 108,
   "metadata": {},
   "outputs": [
    {
     "data": {
      "image/png": "[encoded data removed]",
      "text/plain": [
       "<Figure size 432x288 with 1 Axes>"
      ]
     },
     "metadata": {},
     "output_type": "display_data"
    }
   ],
   "source": [
    "# Use the elbow method to see what is the optimal amount of clusters.\n",
    "\n",
    "# k means determine k\n",
    "distortions = []\n",
    "K = range(1,20)\n",
    "for k in K:\n",
    "    kmeanModel = KMeans(n_clusters=k).fit(tsne_tfidf)\n",
    "    kmeanModel.fit(tsne_tfidf)\n",
    "    distortions.append(sum(np.min(cdist(tsne_tfidf, kmeanModel.cluster_centers_, 'euclidean'), axis=1)) / tsne_tfidf.shape[0])\n",
    "\n",
    "# Plot the elbow\n",
    "sns.set_style('darkgrid')\n",
    "plt.plot(K, distortions, 'bx-')\n",
    "plt.xlabel('k')\n",
    "plt.ylabel('Distortion')\n",
    "plt.title('The Elbow Method showing the optimal k')\n",
    "plt.show()"
   ]
  },
  {
   "cell_type": "markdown",
   "metadata": {},
   "source": [
    "The elbow recommends 5 clusters"
   ]
  },
  {
   "cell_type": "markdown",
   "metadata": {},
   "source": [
    "## Cluster Analysis"
   ]
  },
  {
   "cell_type": "code",
   "execution_count": 109,
   "metadata": {},
   "outputs": [
    {
     "name": "stdout",
     "output_type": "stream",
     "text": [
      "0\n",
      "\n",
      "\n",
      "       retweet_count  reply_count  favorite_count  num_hashtags     num_urls  \\\n",
      "count     6220.00000       6220.0     6220.000000   6220.000000  6220.000000   \n",
      "mean         0.28328          0.0        0.415756      0.076849     0.265113   \n",
      "std          0.98590          0.0        1.327220      0.331947     0.442520   \n",
      "min          0.00000          0.0        0.000000      0.000000     0.000000   \n",
      "25%          0.00000          0.0        0.000000      0.000000     0.000000   \n",
      "50%          0.00000          0.0        0.000000      0.000000     0.000000   \n",
      "75%          0.00000          0.0        0.000000      0.000000     1.000000   \n",
      "max         14.00000          0.0       21.000000      5.000000     2.000000   \n",
      "\n",
      "       num_mentions         hour        month          day         year  \\\n",
      "count   6220.000000  6220.000000  6220.000000  6220.000000  6220.000000   \n",
      "mean       0.255145    14.004180     7.718006    13.508521  2014.041961   \n",
      "std        0.570216     6.613098     3.088796     8.823769     0.641098   \n",
      "min        0.000000     0.000000     1.000000     1.000000  2008.000000   \n",
      "25%        0.000000    10.000000     5.000000     6.000000  2014.000000   \n",
      "50%        0.000000    15.000000     9.000000    13.000000  2014.000000   \n",
      "75%        0.000000    19.000000    10.000000    21.000000  2014.000000   \n",
      "max        8.000000    23.000000    12.000000    31.000000  2015.000000   \n",
      "\n",
      "            length  num_of_words  cluster_assignment  \n",
      "count  6220.000000   6220.000000              6220.0  \n",
      "mean     56.749357      9.013826                 0.0  \n",
      "std       9.052137      2.530115                 0.0  \n",
      "min      36.000000      1.000000                 0.0  \n",
      "25%      50.000000      7.000000                 0.0  \n",
      "50%      57.000000      9.000000                 0.0  \n",
      "75%      63.000000     11.000000                 0.0  \n",
      "max      85.000000     19.000000                 0.0  \n",
      "1\n",
      "\n",
      "\n",
      "       retweet_count  reply_count  favorite_count  num_hashtags     num_urls  \\\n",
      "count    6288.000000       6288.0     6288.000000   6288.000000  6288.000000   \n",
      "mean        9.913486          0.0        0.611164      0.207538     0.169370   \n",
      "std       120.709893          0.0        1.940432      0.739075     0.391703   \n",
      "min         0.000000          0.0        0.000000      0.000000     0.000000   \n",
      "25%         0.000000          0.0        0.000000      0.000000     0.000000   \n",
      "50%         0.000000          0.0        0.000000      0.000000     0.000000   \n",
      "75%         0.000000          0.0        0.000000      0.000000     0.000000   \n",
      "max      1661.000000          0.0       34.000000     15.000000     3.000000   \n",
      "\n",
      "       num_mentions         hour        month          day         year  \\\n",
      "count   6288.000000  6288.000000  6288.000000  6288.000000  6288.000000   \n",
      "mean       0.374682    12.923187     7.235687    21.334447  2014.035623   \n",
      "std        0.868410     6.609587     3.012796     6.516056     0.639859   \n",
      "min        0.000000     0.000000     1.000000     1.000000  2009.000000   \n",
      "25%        0.000000     8.000000     4.000000    16.000000  2014.000000   \n",
      "50%        0.000000    14.000000     8.000000    22.000000  2014.000000   \n",
      "75%        0.000000    18.000000    10.000000    27.000000  2014.000000   \n",
      "max       10.000000    23.000000    12.000000    31.000000  2015.000000   \n",
      "\n",
      "            length  num_of_words  cluster_assignment  \n",
      "count  6288.000000   6288.000000              6288.0  \n",
      "mean    116.205630     19.443702                 1.0  \n",
      "std      16.420546      4.199231                 0.0  \n",
      "min      21.000000      1.000000                 1.0  \n",
      "25%     102.000000     17.000000                 1.0  \n",
      "50%     116.000000     19.000000                 1.0  \n",
      "75%     131.000000     22.000000                 1.0  \n",
      "max     151.000000     53.000000                 1.0  \n",
      "2\n",
      "\n",
      "\n",
      "       retweet_count  reply_count  favorite_count  num_hashtags     num_urls  \\\n",
      "count    5932.000000       5932.0     5932.000000   5932.000000  5932.000000   \n",
      "mean        0.397842          0.0        0.494437      0.100641     0.204821   \n",
      "std         1.467290          0.0        1.647222      0.440895     0.406104   \n",
      "min         0.000000          0.0        0.000000      0.000000     0.000000   \n",
      "25%         0.000000          0.0        0.000000      0.000000     0.000000   \n",
      "50%         0.000000          0.0        0.000000      0.000000     0.000000   \n",
      "75%         0.000000          0.0        0.000000      0.000000     0.000000   \n",
      "max        19.000000          0.0       43.000000      7.000000     2.000000   \n",
      "\n",
      "       num_mentions         hour        month          day         year  \\\n",
      "count   5932.000000  5932.000000  5932.000000  5932.000000  5932.000000   \n",
      "mean       0.245786    13.088503     7.443527    22.285064  2014.030175   \n",
      "std        0.582387     6.901461     2.980804     6.631355     0.601465   \n",
      "min        0.000000     0.000000     1.000000     1.000000  2009.000000   \n",
      "25%        0.000000     7.000000     5.000000    17.000000  2014.000000   \n",
      "50%        0.000000    14.000000     9.000000    23.000000  2014.000000   \n",
      "75%        0.000000    19.000000    10.000000    28.000000  2014.000000   \n",
      "max        6.000000    23.000000    12.000000    31.000000  2015.000000   \n",
      "\n",
      "            length  num_of_words  cluster_assignment  \n",
      "count  5932.000000   5932.000000              5932.0  \n",
      "mean     76.808496     12.765341                 2.0  \n",
      "std       9.647282      2.960350                 0.0  \n",
      "min      53.000000      1.000000                 2.0  \n",
      "25%      70.000000     11.000000                 2.0  \n",
      "50%      76.000000     13.000000                 2.0  \n",
      "75%      84.000000     15.000000                 2.0  \n",
      "max     102.000000     28.000000                 2.0  \n",
      "3\n",
      "\n",
      "\n",
      "       retweet_count  reply_count  favorite_count  num_hashtags     num_urls  \\\n",
      "count    6202.000000       6202.0     6202.000000   6202.000000  6202.000000   \n",
      "mean        0.296840          0.0        0.373105      0.076911     0.076427   \n",
      "std         1.426731          0.0        1.152788      0.357903     0.267516   \n",
      "min         0.000000          0.0        0.000000      0.000000     0.000000   \n",
      "25%         0.000000          0.0        0.000000      0.000000     0.000000   \n",
      "50%         0.000000          0.0        0.000000      0.000000     0.000000   \n",
      "75%         0.000000          0.0        0.000000      0.000000     0.000000   \n",
      "max        21.000000          0.0       21.000000      7.000000     3.000000   \n",
      "\n",
      "       num_mentions         hour        month          day         year  \\\n",
      "count   6202.000000  6202.000000  6202.000000  6202.000000  6202.000000   \n",
      "mean       0.405353     9.803128     6.175266    15.535311  2014.207675   \n",
      "std        0.598464     7.253253     3.446986     9.842353     0.771668   \n",
      "min        0.000000     0.000000     1.000000     1.000000  2008.000000   \n",
      "25%        0.000000     3.000000     3.000000     6.000000  2014.000000   \n",
      "50%        0.000000     8.000000     5.000000    15.500000  2014.000000   \n",
      "75%        1.000000    16.000000    10.000000    25.000000  2015.000000   \n",
      "max        8.000000    23.000000    12.000000    31.000000  2015.000000   \n",
      "\n",
      "            length  num_of_words  cluster_assignment  \n",
      "count  6202.000000   6202.000000              6202.0  \n",
      "mean     34.725089      5.656724                 3.0  \n",
      "std      18.281023      3.347627                 0.0  \n",
      "min       1.000000      1.000000                 3.0  \n",
      "25%      22.000000      3.000000                 3.0  \n",
      "50%      32.000000      5.000000                 3.0  \n",
      "75%      41.000000      7.000000                 3.0  \n",
      "max      93.000000     20.000000                 3.0  \n",
      "4\n",
      "\n",
      "\n",
      "       retweet_count  reply_count  favorite_count  num_hashtags     num_urls  \\\n",
      "count    5943.000000       5943.0     5943.000000   5943.000000  5943.000000   \n",
      "mean     1919.814740          0.0        0.727747      0.274441     0.188962   \n",
      "std     15654.091685          0.0        5.396614      0.762353     0.397484   \n",
      "min         0.000000          0.0        0.000000      0.000000     0.000000   \n",
      "25%         0.000000          0.0        0.000000      0.000000     0.000000   \n",
      "50%         1.000000          0.0        0.000000      0.000000     0.000000   \n",
      "75%       110.000000          0.0        0.000000      0.000000     0.000000   \n",
      "max    430072.000000          0.0      163.000000     12.000000     3.000000   \n",
      "\n",
      "       num_mentions         hour        month          day         year  \\\n",
      "count   5943.000000  5943.000000  5943.000000  5943.000000  5943.000000   \n",
      "mean       0.702675    11.627124     6.785462     9.939761  2014.148915   \n",
      "std        0.889903     7.115905     3.453335     8.016354     0.752334   \n",
      "min        0.000000     0.000000     1.000000     1.000000  2009.000000   \n",
      "25%        0.000000     5.000000     4.000000     4.000000  2014.000000   \n",
      "50%        1.000000    12.000000     7.000000     8.000000  2014.000000   \n",
      "75%        1.000000    18.000000    10.000000    14.000000  2015.000000   \n",
      "max       12.000000    23.000000    12.000000    31.000000  2015.000000   \n",
      "\n",
      "            length  num_of_words  cluster_assignment  \n",
      "count  5943.000000   5943.000000              5943.0  \n",
      "mean    110.178361     17.716473                 4.0  \n",
      "std      28.081806      5.764585                 0.0  \n",
      "min      11.000000      2.000000                 4.0  \n",
      "25%      93.000000     14.000000                 4.0  \n",
      "50%     115.000000     18.000000                 4.0  \n",
      "75%     136.000000     22.000000                 4.0  \n",
      "max     156.000000     37.000000                 4.0  \n",
      "5\n",
      "\n",
      "\n",
      "       retweet_count  reply_count  favorite_count  num_hashtags  num_urls  \\\n",
      "count            0.0          0.0             0.0           0.0       0.0   \n",
      "mean             NaN          NaN             NaN           NaN       NaN   \n",
      "std              NaN          NaN             NaN           NaN       NaN   \n",
      "min              NaN          NaN             NaN           NaN       NaN   \n",
      "25%              NaN          NaN             NaN           NaN       NaN   \n",
      "50%              NaN          NaN             NaN           NaN       NaN   \n",
      "75%              NaN          NaN             NaN           NaN       NaN   \n",
      "max              NaN          NaN             NaN           NaN       NaN   \n",
      "\n",
      "       num_mentions  hour  month  day  year  length  num_of_words  \\\n",
      "count           0.0   0.0    0.0  0.0   0.0     0.0           0.0   \n",
      "mean            NaN   NaN    NaN  NaN   NaN     NaN           NaN   \n",
      "std             NaN   NaN    NaN  NaN   NaN     NaN           NaN   \n",
      "min             NaN   NaN    NaN  NaN   NaN     NaN           NaN   \n",
      "25%             NaN   NaN    NaN  NaN   NaN     NaN           NaN   \n",
      "50%             NaN   NaN    NaN  NaN   NaN     NaN           NaN   \n",
      "75%             NaN   NaN    NaN  NaN   NaN     NaN           NaN   \n",
      "max             NaN   NaN    NaN  NaN   NaN     NaN           NaN   \n",
      "\n",
      "       cluster_assignment  \n",
      "count                 0.0  \n",
      "mean                  NaN  \n",
      "std                   NaN  \n",
      "min                   NaN  \n",
      "25%                   NaN  \n",
      "50%                   NaN  \n",
      "75%                   NaN  \n",
      "max                   NaN  \n",
      "6\n",
      "\n",
      "\n",
      "       retweet_count  reply_count  favorite_count  num_hashtags  num_urls  \\\n",
      "count            0.0          0.0             0.0           0.0       0.0   \n",
      "mean             NaN          NaN             NaN           NaN       NaN   \n",
      "std              NaN          NaN             NaN           NaN       NaN   \n",
      "min              NaN          NaN             NaN           NaN       NaN   \n",
      "25%              NaN          NaN             NaN           NaN       NaN   \n",
      "50%              NaN          NaN             NaN           NaN       NaN   \n",
      "75%              NaN          NaN             NaN           NaN       NaN   \n",
      "max              NaN          NaN             NaN           NaN       NaN   \n",
      "\n",
      "       num_mentions  hour  month  day  year  length  num_of_words  \\\n",
      "count           0.0   0.0    0.0  0.0   0.0     0.0           0.0   \n",
      "mean            NaN   NaN    NaN  NaN   NaN     NaN           NaN   \n",
      "std             NaN   NaN    NaN  NaN   NaN     NaN           NaN   \n",
      "min             NaN   NaN    NaN  NaN   NaN     NaN           NaN   \n",
      "25%             NaN   NaN    NaN  NaN   NaN     NaN           NaN   \n",
      "50%             NaN   NaN    NaN  NaN   NaN     NaN           NaN   \n",
      "75%             NaN   NaN    NaN  NaN   NaN     NaN           NaN   \n",
      "max             NaN   NaN    NaN  NaN   NaN     NaN           NaN   \n",
      "\n",
      "       cluster_assignment  \n",
      "count                 0.0  \n",
      "mean                  NaN  \n",
      "std                   NaN  \n",
      "min                   NaN  \n",
      "25%                   NaN  \n",
      "50%                   NaN  \n",
      "75%                   NaN  \n",
      "max                   NaN  \n",
      "7\n",
      "\n",
      "\n",
      "       retweet_count  reply_count  favorite_count  num_hashtags  num_urls  \\\n",
      "count            0.0          0.0             0.0           0.0       0.0   \n",
      "mean             NaN          NaN             NaN           NaN       NaN   \n",
      "std              NaN          NaN             NaN           NaN       NaN   \n",
      "min              NaN          NaN             NaN           NaN       NaN   \n",
      "25%              NaN          NaN             NaN           NaN       NaN   \n",
      "50%              NaN          NaN             NaN           NaN       NaN   \n",
      "75%              NaN          NaN             NaN           NaN       NaN   \n",
      "max              NaN          NaN             NaN           NaN       NaN   \n",
      "\n",
      "       num_mentions  hour  month  day  year  length  num_of_words  \\\n",
      "count           0.0   0.0    0.0  0.0   0.0     0.0           0.0   \n",
      "mean            NaN   NaN    NaN  NaN   NaN     NaN           NaN   \n",
      "std             NaN   NaN    NaN  NaN   NaN     NaN           NaN   \n",
      "min             NaN   NaN    NaN  NaN   NaN     NaN           NaN   \n",
      "25%             NaN   NaN    NaN  NaN   NaN     NaN           NaN   \n",
      "50%             NaN   NaN    NaN  NaN   NaN     NaN           NaN   \n",
      "75%             NaN   NaN    NaN  NaN   NaN     NaN           NaN   \n",
      "max             NaN   NaN    NaN  NaN   NaN     NaN           NaN   \n",
      "\n",
      "       cluster_assignment  \n",
      "count                 0.0  \n",
      "mean                  NaN  \n",
      "std                   NaN  \n",
      "min                   NaN  \n",
      "25%                   NaN  \n",
      "50%                   NaN  \n",
      "75%                   NaN  \n",
      "max                   NaN  \n",
      "8\n",
      "\n",
      "\n",
      "       retweet_count  reply_count  favorite_count  num_hashtags  num_urls  \\\n",
      "count            0.0          0.0             0.0           0.0       0.0   \n",
      "mean             NaN          NaN             NaN           NaN       NaN   \n",
      "std              NaN          NaN             NaN           NaN       NaN   \n",
      "min              NaN          NaN             NaN           NaN       NaN   \n",
      "25%              NaN          NaN             NaN           NaN       NaN   \n",
      "50%              NaN          NaN             NaN           NaN       NaN   \n",
      "75%              NaN          NaN             NaN           NaN       NaN   \n",
      "max              NaN          NaN             NaN           NaN       NaN   \n",
      "\n",
      "       num_mentions  hour  month  day  year  length  num_of_words  \\\n",
      "count           0.0   0.0    0.0  0.0   0.0     0.0           0.0   \n",
      "mean            NaN   NaN    NaN  NaN   NaN     NaN           NaN   \n",
      "std             NaN   NaN    NaN  NaN   NaN     NaN           NaN   \n",
      "min             NaN   NaN    NaN  NaN   NaN     NaN           NaN   \n",
      "25%             NaN   NaN    NaN  NaN   NaN     NaN           NaN   \n",
      "50%             NaN   NaN    NaN  NaN   NaN     NaN           NaN   \n",
      "75%             NaN   NaN    NaN  NaN   NaN     NaN           NaN   \n",
      "max             NaN   NaN    NaN  NaN   NaN     NaN           NaN   \n",
      "\n",
      "       cluster_assignment  \n",
      "count                 0.0  \n",
      "mean                  NaN  \n",
      "std                   NaN  \n",
      "min                   NaN  \n",
      "25%                   NaN  \n",
      "50%                   NaN  \n",
      "75%                   NaN  \n",
      "max                   NaN  \n",
      "9\n",
      "\n",
      "\n",
      "       retweet_count  reply_count  favorite_count  num_hashtags  num_urls  \\\n",
      "count            0.0          0.0             0.0           0.0       0.0   \n",
      "mean             NaN          NaN             NaN           NaN       NaN   \n",
      "std              NaN          NaN             NaN           NaN       NaN   \n",
      "min              NaN          NaN             NaN           NaN       NaN   \n",
      "25%              NaN          NaN             NaN           NaN       NaN   \n",
      "50%              NaN          NaN             NaN           NaN       NaN   \n",
      "75%              NaN          NaN             NaN           NaN       NaN   \n",
      "max              NaN          NaN             NaN           NaN       NaN   \n",
      "\n",
      "       num_mentions  hour  month  day  year  length  num_of_words  \\\n",
      "count           0.0   0.0    0.0  0.0   0.0     0.0           0.0   \n",
      "mean            NaN   NaN    NaN  NaN   NaN     NaN           NaN   \n",
      "std             NaN   NaN    NaN  NaN   NaN     NaN           NaN   \n",
      "min             NaN   NaN    NaN  NaN   NaN     NaN           NaN   \n",
      "25%             NaN   NaN    NaN  NaN   NaN     NaN           NaN   \n",
      "50%             NaN   NaN    NaN  NaN   NaN     NaN           NaN   \n",
      "75%             NaN   NaN    NaN  NaN   NaN     NaN           NaN   \n",
      "max             NaN   NaN    NaN  NaN   NaN     NaN           NaN   \n",
      "\n",
      "       cluster_assignment  \n",
      "count                 0.0  \n",
      "mean                  NaN  \n",
      "std                   NaN  \n",
      "min                   NaN  \n",
      "25%                   NaN  \n",
      "50%                   NaN  \n",
      "75%                   NaN  \n",
      "max                   NaN  \n"
     ]
    }
   ],
   "source": [
    "cluster_pred = KMeans(n_clusters=5, random_state=42).fit_predict(X_norm)\n",
    "\n",
    "X_pred = X.copy()\n",
    "X_pred['cluster_assignment'] = cluster_pred\n",
    "\n",
    "\n",
    "cluster_dataframes = {}\n",
    "for n_clust in range(10):\n",
    "    cluster_dataframes[n_clust] = X_pred.loc[X_pred['cluster_assignment'] == n_clust]\n",
    "\n",
    "for name, frame in cluster_dataframes.items():\n",
    "    print(name)\n",
    "    print('\\n')\n",
    "    print(frame.describe())"
   ]
  },
  {
   "cell_type": "markdown",
   "metadata": {},
   "source": [
    "## Mean-shift Clustering"
   ]
  },
  {
   "cell_type": "code",
   "execution_count": 110,
   "metadata": {},
   "outputs": [
    {
     "name": "stdout",
     "output_type": "stream",
     "text": [
      "Number of estimated clusters: 3\n"
     ]
    }
   ],
   "source": [
    "# Here we set the bandwidth. This function automatically derives a bandwidth\n",
    "# number based on an inspection of the distances among points in the data.\n",
    "bandwidth = estimate_bandwidth(X_norm, quantile=0.2, n_samples=1000)\n",
    "\n",
    "# Declare and fit the model.\n",
    "ms = MeanShift(bandwidth=bandwidth, bin_seeding=True)\n",
    "ms.fit(X_norm)\n",
    "\n",
    "# Extract cluster assignments for each data point.\n",
    "labels = ms.labels_\n",
    "\n",
    "# Coordinates of the cluster centers.\n",
    "cluster_centers = ms.cluster_centers_\n",
    "\n",
    "# Count our clusters.\n",
    "n_clusters_ = len(np.unique(labels))\n",
    "\n",
    "print(\"Number of estimated clusters: {}\".format(n_clusters_))"
   ]
  },
  {
   "cell_type": "code",
   "execution_count": 111,
   "metadata": {},
   "outputs": [
    {
     "data": {
      "image/png": "[encoded data removed]",
      "text/plain": [
       "<Figure size 432x288 with 1 Axes>"
      ]
     },
     "metadata": {},
     "output_type": "display_data"
    },
    {
     "name": "stdout",
     "output_type": "stream",
     "text": [
      "Comparing the assigned categories to the ones in the data:\n",
      "col_0     0     1     2\n",
      "class                  \n",
      "0      5313  5145  3133\n",
      "1      7804  2601  6589\n"
     ]
    }
   ],
   "source": [
    "plt.scatter(X_norm[:, 0], X_norm[:, 1], c=labels)\n",
    "plt.show()\n",
    "\n",
    "print('Comparing the assigned categories to the ones in the data:')\n",
    "print(pd.crosstab(y,labels))"
   ]
  },
  {
   "cell_type": "code",
   "execution_count": 112,
   "metadata": {},
   "outputs": [],
   "source": [
    "ms_y_pred = ms.fit_predict(X_norm)"
   ]
  },
  {
   "cell_type": "code",
   "execution_count": 113,
   "metadata": {},
   "outputs": [
    {
     "name": "stdout",
     "output_type": "stream",
     "text": [
      "Adjusted Rand Score: 0.04379272\n",
      "Silhouette Score: 0.3703004\n"
     ]
    }
   ],
   "source": [
    "# Evaluate the performance of the clusters\n",
    "print('Adjusted Rand Score: {:0.7}'.format(adjusted_rand_score(y, ms_y_pred)))\n",
    "print('Silhouette Score: {:0.7}'.format(silhouette_score(tsne_tfidf, ms_y_pred, metric='euclidean')))"
   ]
  },
  {
   "cell_type": "markdown",
   "metadata": {},
   "source": [
    "### Affinity Propagation"
   ]
  },
  {
   "cell_type": "code",
   "execution_count": 115,
   "metadata": {},
   "outputs": [],
   "source": [
    "from sklearn.cluster import KMeans, MeanShift, estimate_bandwidth,SpectralClustering,AffinityPropagation"
   ]
  },
  {
   "cell_type": "code",
   "execution_count": null,
   "metadata": {},
   "outputs": [],
   "source": [
    "af = AffinityPropagation().fit(X_norm)\n",
    "print('Done')\n",
    "\n",
    "# Pull the number of clusters and cluster assignments for each data point.\n",
    "cluster_centers_indices = af.cluster_centers_indices_\n",
    "n_clusters_ = len(cluster_centers_indices)\n",
    "af_y_pred = af.labels_"
   ]
  },
  {
   "cell_type": "code",
   "execution_count": null,
   "metadata": {},
   "outputs": [],
   "source": [
    "# Evaluate the performance of the clusters\n",
    "print('Adjusted Rand Score: {:0.7}'.format(adjusted_rand_score(y, af_y_pred)))\n",
    "print('Silhouette Score: {:0.7}'.format(silhouette_score(tsne_tfidf, af_y_pred, metric='euclidean')))"
   ]
  },
  {
   "cell_type": "markdown",
   "metadata": {},
   "source": [
    "### Spectral Clustering"
   ]
  },
  {
   "cell_type": "code",
   "execution_count": null,
   "metadata": {},
   "outputs": [],
   "source": [
    "# Declare and fit the model\n",
    "sc = SpectralClustering(n_clusters=5)\n",
    "sc.fit(X_norm)\n",
    "\n",
    "#Predicted clusters\n",
    "sc_y_pred = sc.fit_predict(X_norm)\n",
    "\n",
    "#Graph results.\n",
    "plt.scatter(X_norm.iloc[:, 0], X_norm.iloc[:, 1], c=sc_y_pred)\n",
    "plt.show()"
   ]
  },
  {
   "cell_type": "code",
   "execution_count": null,
   "metadata": {},
   "outputs": [],
   "source": [
    "# Evaluate the performance of the clusters\n",
    "print('Adjusted Rand Score: {:0.7}'.format(adjusted_rand_score(y, sc_y_pred)))\n",
    "print('Silhouette Score: {:0.7}'.format(silhouette_score(tsne_tfidf, sc_y_pred, metric='euclidean')))"
   ]
  }
 ],
 "metadata": {
  "kernelspec": {
   "display_name": "Python 3",
   "language": "python",
   "name": "python3"
  },
  "language_info": {
   "codemirror_mode": {
    "name": "ipython",
    "version": 3
   },
   "file_extension": ".py",
   "mimetype": "text/x-python",
   "name": "python",
   "nbconvert_exporter": "python",
   "pygments_lexer": "ipython3",
   "version": "3.6.8"
  }
 },
 "nbformat": 4,
 "nbformat_minor": 2
}
