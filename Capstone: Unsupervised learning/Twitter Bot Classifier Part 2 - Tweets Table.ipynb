{
 "cells": [
  {
   "cell_type": "markdown",
   "metadata": {},
   "source": [
    "# Twitter Bot Classifier Part 2\n",
    "\n",
    "In this series of notebooks, we are using the [Fake Project](https://botometer.iuni.iu.edu/bot-repository/datasets.html) dataset to examine users habits and build a Twitter bot classifier. \n",
    " \n",
    "Previously, we looked into the potential threats that Twitter bot accounts pose. While some are harmless, others aim to manipulate and deceive viewers. We gathered several Twitter files from the Fake Project to assemble a Tweets and Users datasets. Null values have been dropped and tables have been formatted. Now, we will take a closer look into the features by conducting exploratory data analysis. \n",
    "\n",
    "## Tweets Table\n",
    "\n",
    "In this notebook, we will focus on exploring the tweets table. "
   ]
  },
  {
   "cell_type": "code",
   "execution_count": 108,
   "metadata": {},
   "outputs": [],
   "source": [
    "# Numpy and pandas\n",
    "import pandas as pd\n",
    "import numpy as np\n",
    "\n",
    "#Visualization\n",
    "import matplotlib.pyplot as plt\n",
    "import seaborn as sns\n",
    "import matplotlib.patheffects as PathEffects\n",
    "\n",
    "#NLP tools\n",
    "import string\n",
    "import re\n",
    "import nltk\n",
    "from nltk.corpus import stopwords\n",
    "from nltk.stem.wordnet import WordNetLemmatizer\n",
    "\n",
    "# NLP feature selection \n",
    "from sklearn.feature_extraction.text import CountVectorizer\n",
    "from sklearn.feature_extraction.text import TfidfTransformer\n",
    "from sklearn.decomposition import TruncatedSVD\n",
    "\n",
    "# Sklearn data clean\n",
    "from sklearn.preprocessing import MinMaxScaler\n",
    "\n",
    "# Model selection\n",
    "from sklearn.model_selection import train_test_split\n",
    "from sklearn.model_selection import cross_val_score\n",
    "\n",
    "# Logistic Regression\n",
    "from sklearn.linear_model import LogisticRegression\n",
    "\n",
    "# Random Forests \n",
    "from sklearn.ensemble import RandomForestClassifier\n",
    "\n",
    "# Neural Network\n",
    "from sklearn.neural_network import MLPClassifier\n",
    "\n",
    "# Evaluate\n",
    "from sklearn import metrics\n",
    "from sklearn.metrics import precision_score, recall_score, confusion_matrix, roc_auc_score,accuracy_score\n",
    "\n",
    "# Hyperparameter tuning\n",
    "from sklearn.model_selection import GridSearchCV\n",
    "\n",
    "# Reduce Dimension \n",
    "from sklearn.decomposition import TruncatedSVD\n",
    "from sklearn.manifold import TSNE\n",
    "\n",
    "# Clustering \n",
    "from sklearn.cluster import KMeans, MeanShift, estimate_bandwidth, MiniBatchKMeans, DBSCAN\n",
    "from sklearn.preprocessing import normalize\n",
    "from scipy.spatial.distance import cdist\n",
    "from sklearn.metrics import homogeneity_score\n",
    "from sklearn.metrics import silhouette_score\n",
    "\n",
    "# Math \n",
    "import math\n",
    "\n",
    "# Datetime\n",
    "from datetime import datetime\n",
    "from dateutil import parser\n",
    "import time\n",
    "\n",
    "# Import data\n",
    "import warnings"
   ]
  },
  {
   "cell_type": "code",
   "execution_count": 2,
   "metadata": {},
   "outputs": [],
   "source": [
    "tweets = pd.read_csv('/Users/tsawaengsri/Desktop/Data Science Courses/Datasets/cresci-2017.csv/datasets_full.csv/clean_tweets2')\n",
    "users = pd.read_csv('/Users/tsawaengsri/Desktop/Data Science Courses/Datasets/cresci-2017.csv/datasets_full.csv/clean_users2')"
   ]
  },
  {
   "cell_type": "code",
   "execution_count": 3,
   "metadata": {},
   "outputs": [
    {
     "name": "stdout",
     "output_type": "stream",
     "text": [
      "<class 'pandas.core.frame.DataFrame'>\n",
      "RangeIndex: 6283436 entries, 0 to 6283435\n",
      "Data columns (total 18 columns):\n",
      "id                       int64\n",
      "text                     object\n",
      "source                   object\n",
      "user_id                  int64\n",
      "in_reply_to_status_id    int64\n",
      "in_reply_to_user_id      int64\n",
      "retweeted_status_id      int64\n",
      "retweet_count            int64\n",
      "reply_count              int64\n",
      "favorite_count           int64\n",
      "num_hashtags             int64\n",
      "num_urls                 int64\n",
      "num_mentions             int64\n",
      "created_at               object\n",
      "timestamp                object\n",
      "crawled_at               object\n",
      "updated                  object\n",
      "class                    int64\n",
      "dtypes: int64(12), object(6)\n",
      "memory usage: 862.9+ MB\n"
     ]
    }
   ],
   "source": [
    "tweets.info()"
   ]
  },
  {
   "cell_type": "code",
   "execution_count": 4,
   "metadata": {},
   "outputs": [
    {
     "name": "stdout",
     "output_type": "stream",
     "text": [
      "<class 'pandas.core.frame.DataFrame'>\n",
      "RangeIndex: 7989 entries, 0 to 7988\n",
      "Data columns (total 24 columns):\n",
      "id                                    7989 non-null int64\n",
      "name                                  7989 non-null object\n",
      "screen_name                           7989 non-null object\n",
      "statuses_count                        7989 non-null int64\n",
      "followers_count                       7989 non-null int64\n",
      "friends_count                         7989 non-null int64\n",
      "favourites_count                      7989 non-null int64\n",
      "listed_count                          7989 non-null int64\n",
      "lang                                  7989 non-null object\n",
      "profile_image_url                     7989 non-null object\n",
      "profile_use_background_image          7989 non-null int64\n",
      "profile_background_image_url_https    7989 non-null object\n",
      "profile_text_color                    7989 non-null object\n",
      "profile_image_url_https               7989 non-null object\n",
      "profile_sidebar_border_color          7989 non-null object\n",
      "profile_sidebar_fill_color            7989 non-null object\n",
      "profile_background_image_url          7989 non-null object\n",
      "profile_background_color              7989 non-null object\n",
      "profile_link_color                    7989 non-null object\n",
      "created_at                            7989 non-null object\n",
      "timestamp                             7989 non-null object\n",
      "crawled_at                            7989 non-null object\n",
      "updated                               7989 non-null object\n",
      "class                                 7989 non-null int64\n",
      "dtypes: int64(8), object(16)\n",
      "memory usage: 1.5+ MB\n"
     ]
    }
   ],
   "source": [
    "users.info()"
   ]
  },
  {
   "cell_type": "markdown",
   "metadata": {},
   "source": [
    "### Convert time variables to datetime \n",
    "It doesn't appear that time variables such as timestamp or created_at were saved as datetime. We will convert them to their respective data type. "
   ]
  },
  {
   "cell_type": "code",
   "execution_count": 5,
   "metadata": {},
   "outputs": [],
   "source": [
    "# Convert the time columns to np.datetime object\n",
    "tweets['timestamp'] = pd.to_datetime(tweets['timestamp'])"
   ]
  },
  {
   "cell_type": "code",
   "execution_count": 6,
   "metadata": {},
   "outputs": [],
   "source": [
    "tweets['created_at'] = pd.to_datetime(tweets['created_at'])"
   ]
  },
  {
   "cell_type": "code",
   "execution_count": 7,
   "metadata": {},
   "outputs": [],
   "source": [
    "tweets['crawled_at'] = pd.to_datetime(tweets['crawled_at'])"
   ]
  },
  {
   "cell_type": "code",
   "execution_count": 8,
   "metadata": {},
   "outputs": [],
   "source": [
    "tweets['updated'] = pd.to_datetime(tweets['updated'])"
   ]
  },
  {
   "cell_type": "code",
   "execution_count": 9,
   "metadata": {},
   "outputs": [],
   "source": [
    "# Convert the created_at column to np.datetime object\n",
    "users['timestamp'] = pd.to_datetime(users['timestamp'])"
   ]
  },
  {
   "cell_type": "code",
   "execution_count": 10,
   "metadata": {},
   "outputs": [],
   "source": [
    "users['created_at'] = pd.to_datetime(users['created_at'])"
   ]
  },
  {
   "cell_type": "code",
   "execution_count": 11,
   "metadata": {},
   "outputs": [],
   "source": [
    "users['crawled_at'] = pd.to_datetime(users['crawled_at'])"
   ]
  },
  {
   "cell_type": "code",
   "execution_count": 12,
   "metadata": {},
   "outputs": [],
   "source": [
    "users['updated'] = pd.to_datetime(users['updated'])"
   ]
  },
  {
   "cell_type": "code",
   "execution_count": 13,
   "metadata": {},
   "outputs": [
    {
     "name": "stdout",
     "output_type": "stream",
     "text": [
      "<class 'pandas.core.frame.DataFrame'>\n",
      "RangeIndex: 6283436 entries, 0 to 6283435\n",
      "Data columns (total 18 columns):\n",
      "id                       int64\n",
      "text                     object\n",
      "source                   object\n",
      "user_id                  int64\n",
      "in_reply_to_status_id    int64\n",
      "in_reply_to_user_id      int64\n",
      "retweeted_status_id      int64\n",
      "retweet_count            int64\n",
      "reply_count              int64\n",
      "favorite_count           int64\n",
      "num_hashtags             int64\n",
      "num_urls                 int64\n",
      "num_mentions             int64\n",
      "created_at               datetime64[ns, UTC]\n",
      "timestamp                datetime64[ns]\n",
      "crawled_at               datetime64[ns]\n",
      "updated                  datetime64[ns]\n",
      "class                    int64\n",
      "dtypes: datetime64[ns, UTC](1), datetime64[ns](3), int64(12), object(2)\n",
      "memory usage: 862.9+ MB\n"
     ]
    }
   ],
   "source": [
    "tweets.info()"
   ]
  },
  {
   "cell_type": "code",
   "execution_count": 14,
   "metadata": {},
   "outputs": [
    {
     "name": "stdout",
     "output_type": "stream",
     "text": [
      "<class 'pandas.core.frame.DataFrame'>\n",
      "RangeIndex: 7989 entries, 0 to 7988\n",
      "Data columns (total 24 columns):\n",
      "id                                    7989 non-null int64\n",
      "name                                  7989 non-null object\n",
      "screen_name                           7989 non-null object\n",
      "statuses_count                        7989 non-null int64\n",
      "followers_count                       7989 non-null int64\n",
      "friends_count                         7989 non-null int64\n",
      "favourites_count                      7989 non-null int64\n",
      "listed_count                          7989 non-null int64\n",
      "lang                                  7989 non-null object\n",
      "profile_image_url                     7989 non-null object\n",
      "profile_use_background_image          7989 non-null int64\n",
      "profile_background_image_url_https    7989 non-null object\n",
      "profile_text_color                    7989 non-null object\n",
      "profile_image_url_https               7989 non-null object\n",
      "profile_sidebar_border_color          7989 non-null object\n",
      "profile_sidebar_fill_color            7989 non-null object\n",
      "profile_background_image_url          7989 non-null object\n",
      "profile_background_color              7989 non-null object\n",
      "profile_link_color                    7989 non-null object\n",
      "created_at                            7989 non-null datetime64[ns, UTC]\n",
      "timestamp                             7989 non-null datetime64[ns]\n",
      "crawled_at                            7989 non-null datetime64[ns]\n",
      "updated                               7989 non-null datetime64[ns]\n",
      "class                                 7989 non-null int64\n",
      "dtypes: datetime64[ns, UTC](1), datetime64[ns](3), int64(8), object(12)\n",
      "memory usage: 1.5+ MB\n"
     ]
    }
   ],
   "source": [
    "users.info()"
   ]
  },
  {
   "cell_type": "code",
   "execution_count": 15,
   "metadata": {},
   "outputs": [
    {
     "data": {
      "text/html": [
       "<div>\n",
       "<style scoped>\n",
       "    .dataframe tbody tr th:only-of-type {\n",
       "        vertical-align: middle;\n",
       "    }\n",
       "\n",
       "    .dataframe tbody tr th {\n",
       "        vertical-align: top;\n",
       "    }\n",
       "\n",
       "    .dataframe thead th {\n",
       "        text-align: right;\n",
       "    }\n",
       "</style>\n",
       "<table border=\"1\" class=\"dataframe\">\n",
       "  <thead>\n",
       "    <tr style=\"text-align: right;\">\n",
       "      <th></th>\n",
       "      <th>id</th>\n",
       "      <th>text</th>\n",
       "      <th>source</th>\n",
       "      <th>user_id</th>\n",
       "      <th>in_reply_to_status_id</th>\n",
       "      <th>in_reply_to_user_id</th>\n",
       "      <th>retweeted_status_id</th>\n",
       "      <th>retweet_count</th>\n",
       "      <th>reply_count</th>\n",
       "      <th>favorite_count</th>\n",
       "      <th>num_hashtags</th>\n",
       "      <th>num_urls</th>\n",
       "      <th>num_mentions</th>\n",
       "      <th>created_at</th>\n",
       "      <th>timestamp</th>\n",
       "      <th>crawled_at</th>\n",
       "      <th>updated</th>\n",
       "      <th>class</th>\n",
       "    </tr>\n",
       "  </thead>\n",
       "  <tbody>\n",
       "    <tr>\n",
       "      <th>0</th>\n",
       "      <td>515447020405137408</td>\n",
       "      <td>\"Il mare d'inverno è un concetto che il pensie...</td>\n",
       "      <td>&lt;a href=\"http://www.Matildadr89.com\" rel=\"nofo...</td>\n",
       "      <td>237359828</td>\n",
       "      <td>0</td>\n",
       "      <td>0</td>\n",
       "      <td>0</td>\n",
       "      <td>0</td>\n",
       "      <td>0</td>\n",
       "      <td>0</td>\n",
       "      <td>0</td>\n",
       "      <td>0</td>\n",
       "      <td>0</td>\n",
       "      <td>2014-09-26 10:25:20+00:00</td>\n",
       "      <td>2014-09-26 12:25:20</td>\n",
       "      <td>2014-11-13 01:35:24</td>\n",
       "      <td>2014-11-13 01:35:24</td>\n",
       "      <td>1</td>\n",
       "    </tr>\n",
       "    <tr>\n",
       "      <th>1</th>\n",
       "      <td>513551196226093057</td>\n",
       "      <td>Read the History of Corona Beer  http://t.co/Z...</td>\n",
       "      <td>&lt;a href=\"http://tweetadder.com\" rel=\"nofollow\"...</td>\n",
       "      <td>215693377</td>\n",
       "      <td>0</td>\n",
       "      <td>0</td>\n",
       "      <td>0</td>\n",
       "      <td>0</td>\n",
       "      <td>0</td>\n",
       "      <td>0</td>\n",
       "      <td>0</td>\n",
       "      <td>1</td>\n",
       "      <td>0</td>\n",
       "      <td>2014-09-21 04:52:01+00:00</td>\n",
       "      <td>2014-09-21 06:52:01</td>\n",
       "      <td>2014-11-12 23:35:05</td>\n",
       "      <td>2014-11-12 23:35:05</td>\n",
       "      <td>1</td>\n",
       "    </tr>\n",
       "    <tr>\n",
       "      <th>2</th>\n",
       "      <td>579534763872149504</td>\n",
       "      <td>After that it would of been up to the person i...</td>\n",
       "      <td>&lt;a href=\"http://twitter.com/download/iphone\" r...</td>\n",
       "      <td>164284493</td>\n",
       "      <td>0</td>\n",
       "      <td>0</td>\n",
       "      <td>0</td>\n",
       "      <td>0</td>\n",
       "      <td>0</td>\n",
       "      <td>0</td>\n",
       "      <td>0</td>\n",
       "      <td>0</td>\n",
       "      <td>0</td>\n",
       "      <td>2015-03-22 06:47:09+00:00</td>\n",
       "      <td>2015-03-22 07:47:09</td>\n",
       "      <td>2015-05-01 13:21:46</td>\n",
       "      <td>2015-05-01 13:21:46</td>\n",
       "      <td>0</td>\n",
       "    </tr>\n",
       "    <tr>\n",
       "      <th>3</th>\n",
       "      <td>449751137970028544</td>\n",
       "      <td>RT @kcivey: @marionbarryjr I'm for public fina...</td>\n",
       "      <td>&lt;a href=\"http://twitter.com/download/iphone\" r...</td>\n",
       "      <td>225683965</td>\n",
       "      <td>0</td>\n",
       "      <td>0</td>\n",
       "      <td>449735142085779456</td>\n",
       "      <td>1</td>\n",
       "      <td>0</td>\n",
       "      <td>0</td>\n",
       "      <td>0</td>\n",
       "      <td>0</td>\n",
       "      <td>2</td>\n",
       "      <td>2014-03-29 03:33:21+00:00</td>\n",
       "      <td>2014-03-29 04:33:21</td>\n",
       "      <td>2015-05-01 15:58:20</td>\n",
       "      <td>2015-05-01 15:58:20</td>\n",
       "      <td>0</td>\n",
       "    </tr>\n",
       "    <tr>\n",
       "      <th>4</th>\n",
       "      <td>589197488269045760</td>\n",
       "      <td>RT @specuIar: This hit me hard. http://t.co/rY...</td>\n",
       "      <td>&lt;a href=\"http://twitter.com\" rel=\"nofollow\"&gt;Tw...</td>\n",
       "      <td>505440359</td>\n",
       "      <td>0</td>\n",
       "      <td>0</td>\n",
       "      <td>589196377353097216</td>\n",
       "      <td>1300</td>\n",
       "      <td>0</td>\n",
       "      <td>0</td>\n",
       "      <td>0</td>\n",
       "      <td>0</td>\n",
       "      <td>1</td>\n",
       "      <td>2015-04-17 22:43:22+00:00</td>\n",
       "      <td>2015-04-18 00:43:22</td>\n",
       "      <td>2015-05-01 13:21:33</td>\n",
       "      <td>2015-05-01 13:21:33</td>\n",
       "      <td>0</td>\n",
       "    </tr>\n",
       "  </tbody>\n",
       "</table>\n",
       "</div>"
      ],
      "text/plain": [
       "                   id                                               text  \\\n",
       "0  515447020405137408  \"Il mare d'inverno è un concetto che il pensie...   \n",
       "1  513551196226093057  Read the History of Corona Beer  http://t.co/Z...   \n",
       "2  579534763872149504  After that it would of been up to the person i...   \n",
       "3  449751137970028544  RT @kcivey: @marionbarryjr I'm for public fina...   \n",
       "4  589197488269045760  RT @specuIar: This hit me hard. http://t.co/rY...   \n",
       "\n",
       "                                              source    user_id  \\\n",
       "0  <a href=\"http://www.Matildadr89.com\" rel=\"nofo...  237359828   \n",
       "1  <a href=\"http://tweetadder.com\" rel=\"nofollow\"...  215693377   \n",
       "2  <a href=\"http://twitter.com/download/iphone\" r...  164284493   \n",
       "3  <a href=\"http://twitter.com/download/iphone\" r...  225683965   \n",
       "4  <a href=\"http://twitter.com\" rel=\"nofollow\">Tw...  505440359   \n",
       "\n",
       "   in_reply_to_status_id  in_reply_to_user_id  retweeted_status_id  \\\n",
       "0                      0                    0                    0   \n",
       "1                      0                    0                    0   \n",
       "2                      0                    0                    0   \n",
       "3                      0                    0   449735142085779456   \n",
       "4                      0                    0   589196377353097216   \n",
       "\n",
       "   retweet_count  reply_count  favorite_count  num_hashtags  num_urls  \\\n",
       "0              0            0               0             0         0   \n",
       "1              0            0               0             0         1   \n",
       "2              0            0               0             0         0   \n",
       "3              1            0               0             0         0   \n",
       "4           1300            0               0             0         0   \n",
       "\n",
       "   num_mentions                created_at           timestamp  \\\n",
       "0             0 2014-09-26 10:25:20+00:00 2014-09-26 12:25:20   \n",
       "1             0 2014-09-21 04:52:01+00:00 2014-09-21 06:52:01   \n",
       "2             0 2015-03-22 06:47:09+00:00 2015-03-22 07:47:09   \n",
       "3             2 2014-03-29 03:33:21+00:00 2014-03-29 04:33:21   \n",
       "4             1 2015-04-17 22:43:22+00:00 2015-04-18 00:43:22   \n",
       "\n",
       "           crawled_at             updated  class  \n",
       "0 2014-11-13 01:35:24 2014-11-13 01:35:24      1  \n",
       "1 2014-11-12 23:35:05 2014-11-12 23:35:05      1  \n",
       "2 2015-05-01 13:21:46 2015-05-01 13:21:46      0  \n",
       "3 2015-05-01 15:58:20 2015-05-01 15:58:20      0  \n",
       "4 2015-05-01 13:21:33 2015-05-01 13:21:33      0  "
      ]
     },
     "execution_count": 15,
     "metadata": {},
     "output_type": "execute_result"
    }
   ],
   "source": [
    "tweets.head()"
   ]
  },
  {
   "cell_type": "code",
   "execution_count": 16,
   "metadata": {},
   "outputs": [
    {
     "data": {
      "text/html": [
       "<div>\n",
       "<style scoped>\n",
       "    .dataframe tbody tr th:only-of-type {\n",
       "        vertical-align: middle;\n",
       "    }\n",
       "\n",
       "    .dataframe tbody tr th {\n",
       "        vertical-align: top;\n",
       "    }\n",
       "\n",
       "    .dataframe thead th {\n",
       "        text-align: right;\n",
       "    }\n",
       "</style>\n",
       "<table border=\"1\" class=\"dataframe\">\n",
       "  <thead>\n",
       "    <tr style=\"text-align: right;\">\n",
       "      <th></th>\n",
       "      <th>id</th>\n",
       "      <th>name</th>\n",
       "      <th>screen_name</th>\n",
       "      <th>statuses_count</th>\n",
       "      <th>followers_count</th>\n",
       "      <th>friends_count</th>\n",
       "      <th>favourites_count</th>\n",
       "      <th>listed_count</th>\n",
       "      <th>lang</th>\n",
       "      <th>profile_image_url</th>\n",
       "      <th>...</th>\n",
       "      <th>profile_sidebar_border_color</th>\n",
       "      <th>profile_sidebar_fill_color</th>\n",
       "      <th>profile_background_image_url</th>\n",
       "      <th>profile_background_color</th>\n",
       "      <th>profile_link_color</th>\n",
       "      <th>created_at</th>\n",
       "      <th>timestamp</th>\n",
       "      <th>crawled_at</th>\n",
       "      <th>updated</th>\n",
       "      <th>class</th>\n",
       "    </tr>\n",
       "  </thead>\n",
       "  <tbody>\n",
       "    <tr>\n",
       "      <th>0</th>\n",
       "      <td>2349966440</td>\n",
       "      <td>Joie Ficher</td>\n",
       "      <td>JoieFicher</td>\n",
       "      <td>80</td>\n",
       "      <td>2</td>\n",
       "      <td>42</td>\n",
       "      <td>0</td>\n",
       "      <td>0</td>\n",
       "      <td>en</td>\n",
       "      <td>http://pbs.twimg.com/profile_images/4365494921...</td>\n",
       "      <td>...</td>\n",
       "      <td>FFFFFF</td>\n",
       "      <td>DDEEF6</td>\n",
       "      <td>http://pbs.twimg.com/profile_background_images...</td>\n",
       "      <td>0000FF</td>\n",
       "      <td>0000FF</td>\n",
       "      <td>2014-02-18 11:22:38+00:00</td>\n",
       "      <td>2014-02-18 12:22:38</td>\n",
       "      <td>2014-05-03 00:22:39</td>\n",
       "      <td>2016-03-15 15:20:24</td>\n",
       "      <td>1</td>\n",
       "    </tr>\n",
       "    <tr>\n",
       "      <th>1</th>\n",
       "      <td>343263643</td>\n",
       "      <td>RIP Teveon </td>\n",
       "      <td>youpettihoe_</td>\n",
       "      <td>36513</td>\n",
       "      <td>2166</td>\n",
       "      <td>1627</td>\n",
       "      <td>2977</td>\n",
       "      <td>0</td>\n",
       "      <td>en</td>\n",
       "      <td>http://pbs.twimg.com/profile_images/5594447898...</td>\n",
       "      <td>...</td>\n",
       "      <td>FFFFFF</td>\n",
       "      <td>FFFFFF</td>\n",
       "      <td>http://pbs.twimg.com/profile_background_images...</td>\n",
       "      <td>FFFAFF</td>\n",
       "      <td>0A7A00</td>\n",
       "      <td>2011-07-27 09:01:04+00:00</td>\n",
       "      <td>2011-07-27 11:01:04</td>\n",
       "      <td>2015-05-01 23:18:23</td>\n",
       "      <td>2016-03-15 16:11:13</td>\n",
       "      <td>0</td>\n",
       "    </tr>\n",
       "    <tr>\n",
       "      <th>2</th>\n",
       "      <td>531154412</td>\n",
       "      <td>Bulah Lynne</td>\n",
       "      <td>Lynnevibe</td>\n",
       "      <td>10657</td>\n",
       "      <td>1194</td>\n",
       "      <td>996</td>\n",
       "      <td>1</td>\n",
       "      <td>8</td>\n",
       "      <td>en</td>\n",
       "      <td>http://pbs.twimg.com/profile_images/1914097815...</td>\n",
       "      <td>...</td>\n",
       "      <td>C0DEED</td>\n",
       "      <td>DDEEF6</td>\n",
       "      <td>http://abs.twimg.com/images/themes/theme1/bg.png</td>\n",
       "      <td>C0DEED</td>\n",
       "      <td>0084B4</td>\n",
       "      <td>2012-03-20 11:48:05+00:00</td>\n",
       "      <td>2012-03-20 12:48:05</td>\n",
       "      <td>2014-05-05 23:24:32</td>\n",
       "      <td>2016-03-15 15:40:08</td>\n",
       "      <td>1</td>\n",
       "    </tr>\n",
       "    <tr>\n",
       "      <th>3</th>\n",
       "      <td>2377665366</td>\n",
       "      <td>Katherina Kistle</td>\n",
       "      <td>KatherinaKistle</td>\n",
       "      <td>37</td>\n",
       "      <td>0</td>\n",
       "      <td>38</td>\n",
       "      <td>0</td>\n",
       "      <td>0</td>\n",
       "      <td>en</td>\n",
       "      <td>http://pbs.twimg.com/profile_images/4430041788...</td>\n",
       "      <td>...</td>\n",
       "      <td>FFFFFF</td>\n",
       "      <td>DDEEF6</td>\n",
       "      <td>http://pbs.twimg.com/profile_background_images...</td>\n",
       "      <td>0000FF</td>\n",
       "      <td>0000FF</td>\n",
       "      <td>2014-03-07 21:23:35+00:00</td>\n",
       "      <td>2014-03-07 22:23:35</td>\n",
       "      <td>2014-05-05 00:21:50</td>\n",
       "      <td>2016-03-15 15:16:15</td>\n",
       "      <td>1</td>\n",
       "    </tr>\n",
       "    <tr>\n",
       "      <th>4</th>\n",
       "      <td>3015346510</td>\n",
       "      <td>Lindsay Blessing Fan</td>\n",
       "      <td>lindsayspainfan</td>\n",
       "      <td>96</td>\n",
       "      <td>43</td>\n",
       "      <td>113</td>\n",
       "      <td>425</td>\n",
       "      <td>0</td>\n",
       "      <td>es</td>\n",
       "      <td>http://pbs.twimg.com/profile_images/5631073115...</td>\n",
       "      <td>...</td>\n",
       "      <td>000000</td>\n",
       "      <td>000000</td>\n",
       "      <td>http://pbs.twimg.com/profile_background_images...</td>\n",
       "      <td>000000</td>\n",
       "      <td>9266CC</td>\n",
       "      <td>2015-02-03 20:49:38+00:00</td>\n",
       "      <td>2015-02-03 21:49:38</td>\n",
       "      <td>2015-05-02 01:09:46</td>\n",
       "      <td>2016-03-15 16:07:16</td>\n",
       "      <td>0</td>\n",
       "    </tr>\n",
       "  </tbody>\n",
       "</table>\n",
       "<p>5 rows × 24 columns</p>\n",
       "</div>"
      ],
      "text/plain": [
       "           id                  name      screen_name  statuses_count  \\\n",
       "0  2349966440           Joie Ficher       JoieFicher              80   \n",
       "1   343263643         RIP Teveon      youpettihoe_           36513   \n",
       "2   531154412           Bulah Lynne        Lynnevibe           10657   \n",
       "3  2377665366      Katherina Kistle  KatherinaKistle              37   \n",
       "4  3015346510  Lindsay Blessing Fan  lindsayspainfan              96   \n",
       "\n",
       "   followers_count  friends_count  favourites_count  listed_count lang  \\\n",
       "0                2             42                 0             0   en   \n",
       "1             2166           1627              2977             0   en   \n",
       "2             1194            996                 1             8   en   \n",
       "3                0             38                 0             0   en   \n",
       "4               43            113               425             0   es   \n",
       "\n",
       "                                   profile_image_url  ...  \\\n",
       "0  http://pbs.twimg.com/profile_images/4365494921...  ...   \n",
       "1  http://pbs.twimg.com/profile_images/5594447898...  ...   \n",
       "2  http://pbs.twimg.com/profile_images/1914097815...  ...   \n",
       "3  http://pbs.twimg.com/profile_images/4430041788...  ...   \n",
       "4  http://pbs.twimg.com/profile_images/5631073115...  ...   \n",
       "\n",
       "   profile_sidebar_border_color profile_sidebar_fill_color  \\\n",
       "0                        FFFFFF                     DDEEF6   \n",
       "1                        FFFFFF                     FFFFFF   \n",
       "2                        C0DEED                     DDEEF6   \n",
       "3                        FFFFFF                     DDEEF6   \n",
       "4                        000000                     000000   \n",
       "\n",
       "                        profile_background_image_url profile_background_color  \\\n",
       "0  http://pbs.twimg.com/profile_background_images...                   0000FF   \n",
       "1  http://pbs.twimg.com/profile_background_images...                   FFFAFF   \n",
       "2   http://abs.twimg.com/images/themes/theme1/bg.png                   C0DEED   \n",
       "3  http://pbs.twimg.com/profile_background_images...                   0000FF   \n",
       "4  http://pbs.twimg.com/profile_background_images...                   000000   \n",
       "\n",
       "  profile_link_color                created_at           timestamp  \\\n",
       "0             0000FF 2014-02-18 11:22:38+00:00 2014-02-18 12:22:38   \n",
       "1             0A7A00 2011-07-27 09:01:04+00:00 2011-07-27 11:01:04   \n",
       "2             0084B4 2012-03-20 11:48:05+00:00 2012-03-20 12:48:05   \n",
       "3             0000FF 2014-03-07 21:23:35+00:00 2014-03-07 22:23:35   \n",
       "4             9266CC 2015-02-03 20:49:38+00:00 2015-02-03 21:49:38   \n",
       "\n",
       "           crawled_at             updated class  \n",
       "0 2014-05-03 00:22:39 2016-03-15 15:20:24     1  \n",
       "1 2015-05-01 23:18:23 2016-03-15 16:11:13     0  \n",
       "2 2014-05-05 23:24:32 2016-03-15 15:40:08     1  \n",
       "3 2014-05-05 00:21:50 2016-03-15 15:16:15     1  \n",
       "4 2015-05-02 01:09:46 2016-03-15 16:07:16     0  \n",
       "\n",
       "[5 rows x 24 columns]"
      ]
     },
     "execution_count": 16,
     "metadata": {},
     "output_type": "execute_result"
    }
   ],
   "source": [
    "users.head()"
   ]
  },
  {
   "cell_type": "markdown",
   "metadata": {},
   "source": [
    "# Exploratory Data Analysis\n",
    "We'll start by exploring the Tweets table by keeping a few questions in mind.<br> \n",
    "__How many tweets were made by humans and robots?__ <br>\n",
    "__Which accounts posted the most tweets?__ <br>"
   ]
  },
  {
   "cell_type": "code",
   "execution_count": 17,
   "metadata": {},
   "outputs": [
    {
     "name": "stdout",
     "output_type": "stream",
     "text": [
      "There are 2826718 tweets made by humans(44.987%) and 3456718 tweets made by bots (55.013%) in the tweets table.\n"
     ]
    }
   ],
   "source": [
    "# Bot vs human tweets \n",
    "counts = tweets['class'].value_counts()\n",
    "human = counts[0]\n",
    "bot = counts[1]\n",
    "human_per = (human/(human + bot))*100\n",
    "bot_per = (bot/(human + bot))*100\n",
    "print('There are {} tweets made by humans({:.3f}%) and {} tweets made by bots ({:.3f}%) in the tweets table.'.format(human, human_per, bot, bot_per))"
   ]
  },
  {
   "cell_type": "code",
   "execution_count": 18,
   "metadata": {},
   "outputs": [
    {
     "data": {
      "image/png": "[encoded data removed]",
      "text/plain": [
       "<Figure size 864x432 with 1 Axes>"
      ]
     },
     "metadata": {
      "needs_background": "light"
     },
     "output_type": "display_data"
    }
   ],
   "source": [
    "# Plot target variable\n",
    "plt.figure(figsize=(12,6))\n",
    "g = sns.countplot(x = 'class', data = tweets)\n",
    "g.set_title('Count of Tweets made by Humans vs Bots', fontsize = 17)\n",
    "g.set_xlabel('User Type', fontsize = 15)\n",
    "g.set_ylabel('# Tweets', fontsize = 15)\n",
    "\n",
    "for p in g.patches:\n",
    "    height = p.get_height()\n",
    "    g.text(p.get_x()+p.get_width()/2.,\n",
    "            height + 3,\n",
    "            '{:1.2f}%'.format(height/len(tweets) * 100),\n",
    "            ha=\"center\", fontsize=15) "
   ]
  },
  {
   "cell_type": "markdown",
   "metadata": {},
   "source": [
    "As shown in the bar graph, the data consists of 45% tweets by humans and 55% tweets by robots. The ratio between human to robot tweets are close so we do not have an imbalance problem. \n",
    "\n",
    "#### Let's look at which accounts tweeted the most. "
   ]
  },
  {
   "cell_type": "code",
   "execution_count": 19,
   "metadata": {},
   "outputs": [
    {
     "data": {
      "text/plain": [
       "5995"
      ]
     },
     "execution_count": 19,
     "metadata": {},
     "output_type": "execute_result"
    }
   ],
   "source": [
    "# Number of unique user accounts\n",
    "len(tweets['user_id'].unique().tolist())"
   ]
  },
  {
   "cell_type": "markdown",
   "metadata": {},
   "source": [
    "There are 5,996 unique user accounts in the Tweets table. "
   ]
  },
  {
   "cell_type": "code",
   "execution_count": 20,
   "metadata": {},
   "outputs": [],
   "source": [
    "# Create df for user class\n",
    "bots = tweets.loc[tweets['class']==1]\n",
    "gen = tweets.loc[tweets['class']==0]"
   ]
  },
  {
   "cell_type": "code",
   "execution_count": 21,
   "metadata": {},
   "outputs": [
    {
     "data": {
      "text/plain": [
       "521370115     3258\n",
       "334826952     3250\n",
       "221141363     3250\n",
       "239910996     3250\n",
       "982414274     3250\n",
       "              ... \n",
       "2382422750      66\n",
       "2375328500      64\n",
       "2382743514      63\n",
       "2391867347      43\n",
       "2384976224      38\n",
       "Name: user_id, Length: 4912, dtype: int64"
      ]
     },
     "execution_count": 21,
     "metadata": {},
     "output_type": "execute_result"
    }
   ],
   "source": [
    "# Counts of unique user accounts \n",
    "bots['user_id'].value_counts()"
   ]
  },
  {
   "cell_type": "code",
   "execution_count": 22,
   "metadata": {},
   "outputs": [
    {
     "data": {
      "text/plain": [
       "15044720      3250\n",
       "497404180     3249\n",
       "182211050     3247\n",
       "195076965     3247\n",
       "14626600      3247\n",
       "              ... \n",
       "492728332       24\n",
       "2236789484      15\n",
       "2200425967      14\n",
       "24386710        13\n",
       "514061230        3\n",
       "Name: user_id, Length: 1083, dtype: int64"
      ]
     },
     "execution_count": 22,
     "metadata": {},
     "output_type": "execute_result"
    }
   ],
   "source": [
    "# Counts of unique user accounts \n",
    "gen['user_id'].value_counts()"
   ]
  },
  {
   "cell_type": "markdown",
   "metadata": {},
   "source": [
    "__Observation__: Based on the total count of tweets, the most frequent tweets from both genuine users and robot accounts share similar traits. The top five tweeters in each class has posted over three thousand tweets. "
   ]
  },
  {
   "cell_type": "code",
   "execution_count": 23,
   "metadata": {},
   "outputs": [
    {
     "name": "stdout",
     "output_type": "stream",
     "text": [
      "There are 3083 genuine accounts(38.591%) and 4906 spambot accounts (61.409%) in the users table.\n"
     ]
    }
   ],
   "source": [
    "# Bot vs human tweets \n",
    "counts = users['class'].value_counts()\n",
    "human = counts[0]\n",
    "bot = counts[1]\n",
    "human_per = (human/(human + bot))*100\n",
    "bot_per = (bot/(human + bot))*100\n",
    "print('There are {} genuine accounts({:.3f}%) and {} spambot accounts ({:.3f}%) in the users table.'.format(human, human_per, bot, bot_per))"
   ]
  },
  {
   "cell_type": "code",
   "execution_count": 24,
   "metadata": {},
   "outputs": [
    {
     "data": {
      "image/png": "[encoded data removed]",
      "text/plain": [
       "<Figure size 864x432 with 1 Axes>"
      ]
     },
     "metadata": {
      "needs_background": "light"
     },
     "output_type": "display_data"
    }
   ],
   "source": [
    "# Plot target variable\n",
    "plt.figure(figsize=(12,6))\n",
    "g = sns.countplot(x = 'class', data = users)\n",
    "g.set_title('Number of Accounts', fontsize = 17)\n",
    "g.set_xlabel('User Type', fontsize = 15)\n",
    "g.set_ylabel('# Users', fontsize = 15)\n",
    "\n",
    "for p in g.patches:\n",
    "    height = p.get_height()\n",
    "    g.text(p.get_x()+p.get_width()/2.,\n",
    "            height + 3,\n",
    "            '{:1.2f}%'.format(height/len(users) * 100),\n",
    "            ha=\"center\", fontsize=15) "
   ]
  },
  {
   "cell_type": "code",
   "execution_count": 25,
   "metadata": {},
   "outputs": [
    {
     "data": {
      "text/plain": [
       "7989"
      ]
     },
     "execution_count": 25,
     "metadata": {},
     "output_type": "execute_result"
    }
   ],
   "source": [
    "# Unique User\n",
    "len(users['id'].value_counts())"
   ]
  },
  {
   "cell_type": "code",
   "execution_count": 26,
   "metadata": {},
   "outputs": [
    {
     "data": {
      "text/plain": [
       "5995"
      ]
     },
     "execution_count": 26,
     "metadata": {},
     "output_type": "execute_result"
    }
   ],
   "source": [
    "# Unique User\n",
    "len(tweets['user_id'].value_counts())"
   ]
  },
  {
   "cell_type": "markdown",
   "metadata": {},
   "source": [
    "## Merging Users and Tweets Table"
   ]
  },
  {
   "cell_type": "code",
   "execution_count": 27,
   "metadata": {},
   "outputs": [],
   "source": [
    "users.rename(columns ={'id': 'user_id'}, inplace =True)\n",
    "df_full = pd.merge(users, tweets,  how='inner', on=['user_id'] )"
   ]
  },
  {
   "cell_type": "code",
   "execution_count": 28,
   "metadata": {},
   "outputs": [
    {
     "data": {
      "text/html": [
       "<div>\n",
       "<style scoped>\n",
       "    .dataframe tbody tr th:only-of-type {\n",
       "        vertical-align: middle;\n",
       "    }\n",
       "\n",
       "    .dataframe tbody tr th {\n",
       "        vertical-align: top;\n",
       "    }\n",
       "\n",
       "    .dataframe thead th {\n",
       "        text-align: right;\n",
       "    }\n",
       "</style>\n",
       "<table border=\"1\" class=\"dataframe\">\n",
       "  <thead>\n",
       "    <tr style=\"text-align: right;\">\n",
       "      <th></th>\n",
       "      <th>user_id</th>\n",
       "      <th>name</th>\n",
       "      <th>screen_name</th>\n",
       "      <th>statuses_count</th>\n",
       "      <th>followers_count</th>\n",
       "      <th>friends_count</th>\n",
       "      <th>favourites_count</th>\n",
       "      <th>listed_count</th>\n",
       "      <th>lang</th>\n",
       "      <th>profile_image_url</th>\n",
       "      <th>...</th>\n",
       "      <th>reply_count</th>\n",
       "      <th>favorite_count</th>\n",
       "      <th>num_hashtags</th>\n",
       "      <th>num_urls</th>\n",
       "      <th>num_mentions</th>\n",
       "      <th>created_at_y</th>\n",
       "      <th>timestamp_y</th>\n",
       "      <th>crawled_at_y</th>\n",
       "      <th>updated_y</th>\n",
       "      <th>class_y</th>\n",
       "    </tr>\n",
       "  </thead>\n",
       "  <tbody>\n",
       "    <tr>\n",
       "      <th>0</th>\n",
       "      <td>2349966440</td>\n",
       "      <td>Joie Ficher</td>\n",
       "      <td>JoieFicher</td>\n",
       "      <td>80</td>\n",
       "      <td>2</td>\n",
       "      <td>42</td>\n",
       "      <td>0</td>\n",
       "      <td>0</td>\n",
       "      <td>en</td>\n",
       "      <td>http://pbs.twimg.com/profile_images/4365494921...</td>\n",
       "      <td>...</td>\n",
       "      <td>0</td>\n",
       "      <td>0</td>\n",
       "      <td>0</td>\n",
       "      <td>0</td>\n",
       "      <td>0</td>\n",
       "      <td>2014-04-26 18:56:00+00:00</td>\n",
       "      <td>2014-04-26 20:56:00</td>\n",
       "      <td>2014-11-13 01:44:20</td>\n",
       "      <td>2014-11-13 01:44:20</td>\n",
       "      <td>1</td>\n",
       "    </tr>\n",
       "    <tr>\n",
       "      <th>1</th>\n",
       "      <td>2349966440</td>\n",
       "      <td>Joie Ficher</td>\n",
       "      <td>JoieFicher</td>\n",
       "      <td>80</td>\n",
       "      <td>2</td>\n",
       "      <td>42</td>\n",
       "      <td>0</td>\n",
       "      <td>0</td>\n",
       "      <td>en</td>\n",
       "      <td>http://pbs.twimg.com/profile_images/4365494921...</td>\n",
       "      <td>...</td>\n",
       "      <td>0</td>\n",
       "      <td>0</td>\n",
       "      <td>0</td>\n",
       "      <td>0</td>\n",
       "      <td>0</td>\n",
       "      <td>2014-04-29 02:19:20+00:00</td>\n",
       "      <td>2014-04-29 04:19:20</td>\n",
       "      <td>2014-11-13 01:44:20</td>\n",
       "      <td>2014-11-13 01:44:20</td>\n",
       "      <td>1</td>\n",
       "    </tr>\n",
       "    <tr>\n",
       "      <th>2</th>\n",
       "      <td>2349966440</td>\n",
       "      <td>Joie Ficher</td>\n",
       "      <td>JoieFicher</td>\n",
       "      <td>80</td>\n",
       "      <td>2</td>\n",
       "      <td>42</td>\n",
       "      <td>0</td>\n",
       "      <td>0</td>\n",
       "      <td>en</td>\n",
       "      <td>http://pbs.twimg.com/profile_images/4365494921...</td>\n",
       "      <td>...</td>\n",
       "      <td>0</td>\n",
       "      <td>0</td>\n",
       "      <td>0</td>\n",
       "      <td>0</td>\n",
       "      <td>1</td>\n",
       "      <td>2014-06-20 21:48:08+00:00</td>\n",
       "      <td>2014-06-20 23:48:08</td>\n",
       "      <td>2014-11-13 01:44:20</td>\n",
       "      <td>2014-11-13 01:44:20</td>\n",
       "      <td>1</td>\n",
       "    </tr>\n",
       "    <tr>\n",
       "      <th>3</th>\n",
       "      <td>2349966440</td>\n",
       "      <td>Joie Ficher</td>\n",
       "      <td>JoieFicher</td>\n",
       "      <td>80</td>\n",
       "      <td>2</td>\n",
       "      <td>42</td>\n",
       "      <td>0</td>\n",
       "      <td>0</td>\n",
       "      <td>en</td>\n",
       "      <td>http://pbs.twimg.com/profile_images/4365494921...</td>\n",
       "      <td>...</td>\n",
       "      <td>0</td>\n",
       "      <td>0</td>\n",
       "      <td>0</td>\n",
       "      <td>0</td>\n",
       "      <td>0</td>\n",
       "      <td>2014-04-29 02:18:48+00:00</td>\n",
       "      <td>2014-04-29 04:18:48</td>\n",
       "      <td>2014-11-13 01:44:20</td>\n",
       "      <td>2014-11-13 01:44:20</td>\n",
       "      <td>1</td>\n",
       "    </tr>\n",
       "    <tr>\n",
       "      <th>4</th>\n",
       "      <td>2349966440</td>\n",
       "      <td>Joie Ficher</td>\n",
       "      <td>JoieFicher</td>\n",
       "      <td>80</td>\n",
       "      <td>2</td>\n",
       "      <td>42</td>\n",
       "      <td>0</td>\n",
       "      <td>0</td>\n",
       "      <td>en</td>\n",
       "      <td>http://pbs.twimg.com/profile_images/4365494921...</td>\n",
       "      <td>...</td>\n",
       "      <td>0</td>\n",
       "      <td>0</td>\n",
       "      <td>0</td>\n",
       "      <td>0</td>\n",
       "      <td>0</td>\n",
       "      <td>2014-04-28 18:37:26+00:00</td>\n",
       "      <td>2014-04-28 20:37:26</td>\n",
       "      <td>2014-11-13 01:44:20</td>\n",
       "      <td>2014-11-13 01:44:20</td>\n",
       "      <td>1</td>\n",
       "    </tr>\n",
       "  </tbody>\n",
       "</table>\n",
       "<p>5 rows × 41 columns</p>\n",
       "</div>"
      ],
      "text/plain": [
       "      user_id         name screen_name  statuses_count  followers_count  \\\n",
       "0  2349966440  Joie Ficher  JoieFicher              80                2   \n",
       "1  2349966440  Joie Ficher  JoieFicher              80                2   \n",
       "2  2349966440  Joie Ficher  JoieFicher              80                2   \n",
       "3  2349966440  Joie Ficher  JoieFicher              80                2   \n",
       "4  2349966440  Joie Ficher  JoieFicher              80                2   \n",
       "\n",
       "   friends_count  favourites_count  listed_count lang  \\\n",
       "0             42                 0             0   en   \n",
       "1             42                 0             0   en   \n",
       "2             42                 0             0   en   \n",
       "3             42                 0             0   en   \n",
       "4             42                 0             0   en   \n",
       "\n",
       "                                   profile_image_url  ...  reply_count  \\\n",
       "0  http://pbs.twimg.com/profile_images/4365494921...  ...            0   \n",
       "1  http://pbs.twimg.com/profile_images/4365494921...  ...            0   \n",
       "2  http://pbs.twimg.com/profile_images/4365494921...  ...            0   \n",
       "3  http://pbs.twimg.com/profile_images/4365494921...  ...            0   \n",
       "4  http://pbs.twimg.com/profile_images/4365494921...  ...            0   \n",
       "\n",
       "  favorite_count num_hashtags num_urls num_mentions              created_at_y  \\\n",
       "0              0            0        0            0 2014-04-26 18:56:00+00:00   \n",
       "1              0            0        0            0 2014-04-29 02:19:20+00:00   \n",
       "2              0            0        0            1 2014-06-20 21:48:08+00:00   \n",
       "3              0            0        0            0 2014-04-29 02:18:48+00:00   \n",
       "4              0            0        0            0 2014-04-28 18:37:26+00:00   \n",
       "\n",
       "          timestamp_y        crawled_at_y           updated_y class_y  \n",
       "0 2014-04-26 20:56:00 2014-11-13 01:44:20 2014-11-13 01:44:20       1  \n",
       "1 2014-04-29 04:19:20 2014-11-13 01:44:20 2014-11-13 01:44:20       1  \n",
       "2 2014-06-20 23:48:08 2014-11-13 01:44:20 2014-11-13 01:44:20       1  \n",
       "3 2014-04-29 04:18:48 2014-11-13 01:44:20 2014-11-13 01:44:20       1  \n",
       "4 2014-04-28 20:37:26 2014-11-13 01:44:20 2014-11-13 01:44:20       1  \n",
       "\n",
       "[5 rows x 41 columns]"
      ]
     },
     "execution_count": 28,
     "metadata": {},
     "output_type": "execute_result"
    }
   ],
   "source": [
    "df_full.head()"
   ]
  },
  {
   "cell_type": "code",
   "execution_count": 29,
   "metadata": {},
   "outputs": [
    {
     "name": "stdout",
     "output_type": "stream",
     "text": [
      "<class 'pandas.core.frame.DataFrame'>\n",
      "Int64Index: 5968328 entries, 0 to 5968327\n",
      "Data columns (total 41 columns):\n",
      "user_id                               int64\n",
      "name                                  object\n",
      "screen_name                           object\n",
      "statuses_count                        int64\n",
      "followers_count                       int64\n",
      "friends_count                         int64\n",
      "favourites_count                      int64\n",
      "listed_count                          int64\n",
      "lang                                  object\n",
      "profile_image_url                     object\n",
      "profile_use_background_image          int64\n",
      "profile_background_image_url_https    object\n",
      "profile_text_color                    object\n",
      "profile_image_url_https               object\n",
      "profile_sidebar_border_color          object\n",
      "profile_sidebar_fill_color            object\n",
      "profile_background_image_url          object\n",
      "profile_background_color              object\n",
      "profile_link_color                    object\n",
      "created_at_x                          datetime64[ns, UTC]\n",
      "timestamp_x                           datetime64[ns]\n",
      "crawled_at_x                          datetime64[ns]\n",
      "updated_x                             datetime64[ns]\n",
      "class_x                               int64\n",
      "id                                    int64\n",
      "text                                  object\n",
      "source                                object\n",
      "in_reply_to_status_id                 int64\n",
      "in_reply_to_user_id                   int64\n",
      "retweeted_status_id                   int64\n",
      "retweet_count                         int64\n",
      "reply_count                           int64\n",
      "favorite_count                        int64\n",
      "num_hashtags                          int64\n",
      "num_urls                              int64\n",
      "num_mentions                          int64\n",
      "created_at_y                          datetime64[ns, UTC]\n",
      "timestamp_y                           datetime64[ns]\n",
      "crawled_at_y                          datetime64[ns]\n",
      "updated_y                             datetime64[ns]\n",
      "class_y                               int64\n",
      "dtypes: datetime64[ns, UTC](2), datetime64[ns](6), int64(19), object(14)\n",
      "memory usage: 1.9+ GB\n"
     ]
    }
   ],
   "source": [
    "df_full.info()"
   ]
  },
  {
   "cell_type": "code",
   "execution_count": 30,
   "metadata": {},
   "outputs": [],
   "source": [
    "# Drop unwanted columns \n",
    "df_full = df_full.drop(columns=['id','crawled_at_y','updated_x', 'updated_y','class_y', 'crawled_at_x','profile_image_url',\n",
    "                     'profile_use_background_image','profile_background_image_url_https','profile_text_color',\n",
    "                     'profile_image_url_https','profile_sidebar_border_color','profile_sidebar_fill_color','profile_background_image_url',\n",
    "                      'profile_background_color','profile_link_color','source','in_reply_to_status_id',\n",
    "                     'in_reply_to_user_id','retweeted_status_id'])"
   ]
  },
  {
   "cell_type": "code",
   "execution_count": 31,
   "metadata": {},
   "outputs": [],
   "source": [
    "df_full.rename(columns ={'created_at_x': 'u_created_at','created_at_y':'t_created_at','timestamp_x':'u_timestamp',\n",
    "                    'timestamp_y':'t_timestamp','class_x':'class'}, inplace =True)"
   ]
  },
  {
   "cell_type": "code",
   "execution_count": 32,
   "metadata": {},
   "outputs": [
    {
     "data": {
      "text/plain": [
       "False"
      ]
     },
     "execution_count": 32,
     "metadata": {},
     "output_type": "execute_result"
    }
   ],
   "source": [
    "df_full.isnull().values.any()"
   ]
  },
  {
   "cell_type": "code",
   "execution_count": 33,
   "metadata": {},
   "outputs": [
    {
     "data": {
      "text/plain": [
       "5874"
      ]
     },
     "execution_count": 33,
     "metadata": {},
     "output_type": "execute_result"
    }
   ],
   "source": [
    "len(df_full['user_id'].value_counts())"
   ]
  },
  {
   "cell_type": "code",
   "execution_count": 34,
   "metadata": {},
   "outputs": [
    {
     "data": {
      "text/plain": [
       "(5968328, 21)"
      ]
     },
     "execution_count": 34,
     "metadata": {},
     "output_type": "execute_result"
    }
   ],
   "source": [
    "df_full.shape"
   ]
  },
  {
   "cell_type": "code",
   "execution_count": 36,
   "metadata": {},
   "outputs": [],
   "source": [
    "# Collect only English tweets\n",
    "df = df_full.loc[df_full['lang'] == 'en']"
   ]
  },
  {
   "cell_type": "code",
   "execution_count": 37,
   "metadata": {},
   "outputs": [
    {
     "data": {
      "text/plain": [
       "(4338180, 21)"
      ]
     },
     "execution_count": 37,
     "metadata": {},
     "output_type": "execute_result"
    }
   ],
   "source": [
    "df.shape"
   ]
  },
  {
   "cell_type": "markdown",
   "metadata": {},
   "source": [
    "## Correlation\n",
    "We'll start by exmaining the correlation between features and target varaible. "
   ]
  },
  {
   "cell_type": "code",
   "execution_count": 38,
   "metadata": {},
   "outputs": [
    {
     "name": "stdout",
     "output_type": "stream",
     "text": [
      "Most Positive Correlations:\n",
      " num_mentions       -0.431691\n",
      "favourites_count   -0.352259\n",
      "statuses_count     -0.249179\n",
      "num_hashtags       -0.154140\n",
      "listed_count       -0.083900\n",
      "favorite_count     -0.044820\n",
      "retweet_count      -0.034587\n",
      "followers_count    -0.013433\n",
      "user_id             0.123135\n",
      "friends_count       0.139362\n",
      "num_urls            0.213329\n",
      "class               1.000000\n",
      "reply_count              NaN\n",
      "Name: class, dtype: float64\n",
      "\n",
      "Most Negative Correlations:\n",
      " num_mentions       -0.431691\n",
      "favourites_count   -0.352259\n",
      "statuses_count     -0.249179\n",
      "num_hashtags       -0.154140\n",
      "listed_count       -0.083900\n",
      "favorite_count     -0.044820\n",
      "retweet_count      -0.034587\n",
      "followers_count    -0.013433\n",
      "user_id             0.123135\n",
      "friends_count       0.139362\n",
      "num_urls            0.213329\n",
      "class               1.000000\n",
      "reply_count              NaN\n",
      "Name: class, dtype: float64\n"
     ]
    }
   ],
   "source": [
    "# Find correlations with the target and sort\n",
    "corr = df.corr()['class'].sort_values()\n",
    "\n",
    "# Display correlations\n",
    "print('Most Positive Correlations:\\n', corr.tail(15))\n",
    "print('\\nMost Negative Correlations:\\n', corr.head(15))"
   ]
  },
  {
   "cell_type": "code",
   "execution_count": 39,
   "metadata": {},
   "outputs": [
    {
     "data": {
      "text/plain": [
       "class               1.000000\n",
       "num_mentions        0.431691\n",
       "favourites_count    0.352259\n",
       "statuses_count      0.249179\n",
       "num_urls            0.213329\n",
       "num_hashtags        0.154140\n",
       "friends_count       0.139362\n",
       "user_id             0.123135\n",
       "listed_count        0.083900\n",
       "favorite_count      0.044820\n",
       "retweet_count       0.034587\n",
       "Name: class, dtype: float64"
      ]
     },
     "execution_count": 39,
     "metadata": {},
     "output_type": "execute_result"
    }
   ],
   "source": [
    "# Correlation \n",
    "top_feat = np.absolute(df.corr()['class']).sort_values(ascending=False)[:11]\n",
    "top_feat"
   ]
  },
  {
   "cell_type": "markdown",
   "metadata": {},
   "source": [
    "__Observation__: The correlation between our target variable and the top features are rather week. The strongest correlation to class is the num_mentions(-47%). This could possibly hint towards retweets and replying to other accounts to be a good indicator of whether a tweet was generated by a human or robot. "
   ]
  },
  {
   "cell_type": "code",
   "execution_count": 40,
   "metadata": {},
   "outputs": [
    {
     "name": "stdout",
     "output_type": "stream",
     "text": [
      "Index(['class', 'num_mentions', 'favourites_count', 'statuses_count',\n",
      "       'num_urls', 'num_hashtags', 'friends_count', 'user_id', 'listed_count',\n",
      "       'favorite_count', 'retweet_count'],\n",
      "      dtype='object')\n"
     ]
    }
   ],
   "source": [
    "# Top 10 features\n",
    "print(top_feat.index)"
   ]
  },
  {
   "cell_type": "code",
   "execution_count": 42,
   "metadata": {},
   "outputs": [
    {
     "data": {
      "image/png": "[encoded data removed]",
      "text/plain": [
       "<Figure size 720x648 with 2 Axes>"
      ]
     },
     "metadata": {
      "needs_background": "light"
     },
     "output_type": "display_data"
    }
   ],
   "source": [
    "pp = df[top_feat.index]\n",
    "plt.figure(figsize=(10,9))\n",
    "corr = pp.corr()\n",
    "sns.heatmap(corr)\n",
    "plt.savefig('heatmat.png')"
   ]
  },
  {
   "cell_type": "markdown",
   "metadata": {},
   "source": [
    "__Observation__: There doesn't appear to be high collinearity among the features. The correlation between in_reply_to_user_id and in_reply_to_status_id seems to be higher than 0.5. We'll probably drop these features during feature selection since they are not the main focus of tweet info.  "
   ]
  },
  {
   "cell_type": "markdown",
   "metadata": {},
   "source": [
    "## Subsampling \n",
    "\n",
    "Due to hardware and memory limitations, we will reduce the size of the dataset and subsample 0.05% of tweets"
   ]
  },
  {
   "cell_type": "code",
   "execution_count": 43,
   "metadata": {},
   "outputs": [],
   "source": [
    "sub_tweets = df.groupby('class').apply(pd.DataFrame.sample, frac=0.005).reset_index(drop=True)"
   ]
  },
  {
   "cell_type": "code",
   "execution_count": 44,
   "metadata": {},
   "outputs": [
    {
     "data": {
      "text/plain": [
       "(21691, 21)"
      ]
     },
     "execution_count": 44,
     "metadata": {},
     "output_type": "execute_result"
    }
   ],
   "source": [
    "sub_tweets.shape"
   ]
  },
  {
   "cell_type": "code",
   "execution_count": 157,
   "metadata": {},
   "outputs": [
    {
     "data": {
      "image/png": "[encoded data removed]",
      "text/plain": [
       "<Figure size 864x432 with 1 Axes>"
      ]
     },
     "metadata": {
      "needs_background": "light"
     },
     "output_type": "display_data"
    }
   ],
   "source": [
    "# Plot target variable\n",
    "plt.figure(figsize=(12,6))\n",
    "g = sns.countplot(x = 'class', data = sub_tweets)\n",
    "g.set_title('Number of Tweets', fontsize = 17)\n",
    "g.set_xlabel('User Type', fontsize = 15)\n",
    "g.set_ylabel('# Tweets', fontsize = 15)\n",
    "\n",
    "for p in g.patches:\n",
    "    height = p.get_height()\n",
    "    g.text(p.get_x()+p.get_width()/2.,\n",
    "            height + 3,\n",
    "            '{:1.2f}%'.format(height/len(sub_tweets) * 100),\n",
    "            ha=\"center\", fontsize=15) "
   ]
  },
  {
   "cell_type": "markdown",
   "metadata": {},
   "source": [
    "__Observation__: "
   ]
  },
  {
   "cell_type": "markdown",
   "metadata": {},
   "source": [
    "# Feature Engineering and Selection\n",
    "\n",
    "Since we have identified trends and relationship within the dataset, we will use our findings to select a set of features for our model. \n",
    "\n",
    "For this assignment, we will take the following steps for feature selection:\n",
    " * creating new variables by aggregation\n",
    " * dropping unwanted varaibles\n",
    " * encode for tweets\n",
    " \n",
    "### Users based features"
   ]
  },
  {
   "cell_type": "code",
   "execution_count": 45,
   "metadata": {},
   "outputs": [],
   "source": [
    "# Function to calculate the age of the account given creation time\n",
    "def calculate_age(created_at):\n",
    "    today = datetime.now()\n",
    "    return today.year - created_at.year "
   ]
  },
  {
   "cell_type": "code",
   "execution_count": 46,
   "metadata": {},
   "outputs": [],
   "source": [
    "# Create new features \n",
    "sub_tweets['account_age_yr'] = sub_tweets['u_created_at'].apply(lambda x: calculate_age(x))\n",
    "sub_tweets['digit_in_name'] = sub_tweets['screen_name'].apply(lambda x: sum(c.isdigit() for c in x))\n",
    "sub_tweets['user_name_len'] = sub_tweets['screen_name'].apply(len)\n"
   ]
  },
  {
   "cell_type": "code",
   "execution_count": 48,
   "metadata": {},
   "outputs": [
    {
     "data": {
      "text/plain": [
       "<matplotlib.legend.Legend at 0x1aad323860>"
      ]
     },
     "execution_count": 48,
     "metadata": {},
     "output_type": "execute_result"
    },
    {
     "data": {
      "image/png": "[encoded data removed]",
      "text/plain": [
       "<Figure size 432x288 with 1 Axes>"
      ]
     },
     "metadata": {
      "needs_background": "light"
     },
     "output_type": "display_data"
    }
   ],
   "source": [
    "# Plot age of accounts \n",
    "g = sns.countplot(x='account_age_yr', hue= 'class',data=sub_tweets)\n",
    "g.set_title('Count of Account Age', fontsize = 17)\n",
    "g.set_xlabel('Account Age (YR)', fontsize = 15)\n",
    "g.set_ylabel('Count of Users', fontsize = 15)\n",
    "plt.legend(loc='upper right')"
   ]
  },
  {
   "cell_type": "markdown",
   "metadata": {},
   "source": [
    "__Observations__: "
   ]
  },
  {
   "cell_type": "markdown",
   "metadata": {},
   "source": [
    "### Tweets based features "
   ]
  },
  {
   "cell_type": "code",
   "execution_count": 49,
   "metadata": {},
   "outputs": [],
   "source": [
    "# Create new features \n",
    "sub_tweets['tweet_hour'] = sub_tweets['t_created_at'].apply(lambda x: x.hour)\n",
    "sub_tweets['tweet_month'] = sub_tweets['t_created_at'].apply(lambda x: x.month)\n",
    "sub_tweets['tweet_day'] = sub_tweets['t_created_at'].apply(lambda x: x.day)\n",
    "sub_tweets['tweet_year'] = sub_tweets['t_created_at'].apply(lambda x: x.year)\n",
    "sub_tweets['tweet_length'] = sub_tweets['text'].apply(len)\n",
    "sub_tweets['num_of_words'] = sub_tweets['text'].str.split().apply(len)"
   ]
  },
  {
   "cell_type": "code",
   "execution_count": 50,
   "metadata": {},
   "outputs": [
    {
     "data": {
      "text/html": [
       "<div>\n",
       "<style scoped>\n",
       "    .dataframe tbody tr th:only-of-type {\n",
       "        vertical-align: middle;\n",
       "    }\n",
       "\n",
       "    .dataframe tbody tr th {\n",
       "        vertical-align: top;\n",
       "    }\n",
       "\n",
       "    .dataframe thead th {\n",
       "        text-align: right;\n",
       "    }\n",
       "</style>\n",
       "<table border=\"1\" class=\"dataframe\">\n",
       "  <thead>\n",
       "    <tr style=\"text-align: right;\">\n",
       "      <th></th>\n",
       "      <th>user_id</th>\n",
       "      <th>name</th>\n",
       "      <th>screen_name</th>\n",
       "      <th>statuses_count</th>\n",
       "      <th>followers_count</th>\n",
       "      <th>friends_count</th>\n",
       "      <th>favourites_count</th>\n",
       "      <th>listed_count</th>\n",
       "      <th>lang</th>\n",
       "      <th>u_created_at</th>\n",
       "      <th>...</th>\n",
       "      <th>t_timestamp</th>\n",
       "      <th>account_age_yr</th>\n",
       "      <th>digit_in_name</th>\n",
       "      <th>user_name_len</th>\n",
       "      <th>tweet_hour</th>\n",
       "      <th>tweet_month</th>\n",
       "      <th>tweet_day</th>\n",
       "      <th>tweet_year</th>\n",
       "      <th>tweet_length</th>\n",
       "      <th>num_of_words</th>\n",
       "    </tr>\n",
       "  </thead>\n",
       "  <tbody>\n",
       "    <tr>\n",
       "      <th>0</th>\n",
       "      <td>183760147</td>\n",
       "      <td>Jason Wilson</td>\n",
       "      <td>jasonwilsonok</td>\n",
       "      <td>1251</td>\n",
       "      <td>248</td>\n",
       "      <td>274</td>\n",
       "      <td>17</td>\n",
       "      <td>17</td>\n",
       "      <td>en</td>\n",
       "      <td>2010-08-27 20:49:22+00:00</td>\n",
       "      <td>...</td>\n",
       "      <td>2015-04-08 16:04:41</td>\n",
       "      <td>9</td>\n",
       "      <td>0</td>\n",
       "      <td>13</td>\n",
       "      <td>14</td>\n",
       "      <td>4</td>\n",
       "      <td>8</td>\n",
       "      <td>2015</td>\n",
       "      <td>135</td>\n",
       "      <td>19</td>\n",
       "    </tr>\n",
       "    <tr>\n",
       "      <th>1</th>\n",
       "      <td>14626600</td>\n",
       "      <td>Amy Delamaide</td>\n",
       "      <td>adelamaide</td>\n",
       "      <td>11816</td>\n",
       "      <td>1234</td>\n",
       "      <td>532</td>\n",
       "      <td>3576</td>\n",
       "      <td>95</td>\n",
       "      <td>en</td>\n",
       "      <td>2008-05-02 14:58:08+00:00</td>\n",
       "      <td>...</td>\n",
       "      <td>2013-02-22 14:08:50</td>\n",
       "      <td>11</td>\n",
       "      <td>0</td>\n",
       "      <td>10</td>\n",
       "      <td>13</td>\n",
       "      <td>2</td>\n",
       "      <td>22</td>\n",
       "      <td>2013</td>\n",
       "      <td>44</td>\n",
       "      <td>5</td>\n",
       "    </tr>\n",
       "    <tr>\n",
       "      <th>2</th>\n",
       "      <td>544758247</td>\n",
       "      <td>Andre</td>\n",
       "      <td>dre_29</td>\n",
       "      <td>11656</td>\n",
       "      <td>95</td>\n",
       "      <td>92</td>\n",
       "      <td>3079</td>\n",
       "      <td>0</td>\n",
       "      <td>en</td>\n",
       "      <td>2012-04-04 02:02:27+00:00</td>\n",
       "      <td>...</td>\n",
       "      <td>2014-10-10 03:22:37</td>\n",
       "      <td>7</td>\n",
       "      <td>2</td>\n",
       "      <td>6</td>\n",
       "      <td>1</td>\n",
       "      <td>10</td>\n",
       "      <td>10</td>\n",
       "      <td>2014</td>\n",
       "      <td>65</td>\n",
       "      <td>11</td>\n",
       "    </tr>\n",
       "    <tr>\n",
       "      <th>3</th>\n",
       "      <td>14247395</td>\n",
       "      <td>Carlos Adama</td>\n",
       "      <td>Carlos_Adama</td>\n",
       "      <td>63440</td>\n",
       "      <td>986</td>\n",
       "      <td>658</td>\n",
       "      <td>161</td>\n",
       "      <td>40</td>\n",
       "      <td>en</td>\n",
       "      <td>2008-03-28 22:04:29+00:00</td>\n",
       "      <td>...</td>\n",
       "      <td>2015-04-06 00:48:52</td>\n",
       "      <td>11</td>\n",
       "      <td>0</td>\n",
       "      <td>12</td>\n",
       "      <td>22</td>\n",
       "      <td>4</td>\n",
       "      <td>5</td>\n",
       "      <td>2015</td>\n",
       "      <td>140</td>\n",
       "      <td>22</td>\n",
       "    </tr>\n",
       "    <tr>\n",
       "      <th>4</th>\n",
       "      <td>2260257427</td>\n",
       "      <td>cutie raifay♡♡</td>\n",
       "      <td>raifamabilangan</td>\n",
       "      <td>9545</td>\n",
       "      <td>1030</td>\n",
       "      <td>1258</td>\n",
       "      <td>4497</td>\n",
       "      <td>0</td>\n",
       "      <td>en</td>\n",
       "      <td>2013-12-24 13:14:55+00:00</td>\n",
       "      <td>...</td>\n",
       "      <td>2015-02-12 13:46:02</td>\n",
       "      <td>6</td>\n",
       "      <td>0</td>\n",
       "      <td>15</td>\n",
       "      <td>12</td>\n",
       "      <td>2</td>\n",
       "      <td>12</td>\n",
       "      <td>2015</td>\n",
       "      <td>28</td>\n",
       "      <td>6</td>\n",
       "    </tr>\n",
       "  </tbody>\n",
       "</table>\n",
       "<p>5 rows × 30 columns</p>\n",
       "</div>"
      ],
      "text/plain": [
       "      user_id            name      screen_name  statuses_count  \\\n",
       "0   183760147    Jason Wilson    jasonwilsonok            1251   \n",
       "1    14626600   Amy Delamaide       adelamaide           11816   \n",
       "2   544758247           Andre           dre_29           11656   \n",
       "3    14247395    Carlos Adama     Carlos_Adama           63440   \n",
       "4  2260257427  cutie raifay♡♡  raifamabilangan            9545   \n",
       "\n",
       "   followers_count  friends_count  favourites_count  listed_count lang  \\\n",
       "0              248            274                17            17   en   \n",
       "1             1234            532              3576            95   en   \n",
       "2               95             92              3079             0   en   \n",
       "3              986            658               161            40   en   \n",
       "4             1030           1258              4497             0   en   \n",
       "\n",
       "               u_created_at  ...         t_timestamp  account_age_yr  \\\n",
       "0 2010-08-27 20:49:22+00:00  ... 2015-04-08 16:04:41               9   \n",
       "1 2008-05-02 14:58:08+00:00  ... 2013-02-22 14:08:50              11   \n",
       "2 2012-04-04 02:02:27+00:00  ... 2014-10-10 03:22:37               7   \n",
       "3 2008-03-28 22:04:29+00:00  ... 2015-04-06 00:48:52              11   \n",
       "4 2013-12-24 13:14:55+00:00  ... 2015-02-12 13:46:02               6   \n",
       "\n",
       "  digit_in_name  user_name_len  tweet_hour  tweet_month  tweet_day  \\\n",
       "0             0             13          14            4          8   \n",
       "1             0             10          13            2         22   \n",
       "2             2              6           1           10         10   \n",
       "3             0             12          22            4          5   \n",
       "4             0             15          12            2         12   \n",
       "\n",
       "   tweet_year  tweet_length num_of_words  \n",
       "0        2015           135           19  \n",
       "1        2013            44            5  \n",
       "2        2014            65           11  \n",
       "3        2015           140           22  \n",
       "4        2015            28            6  \n",
       "\n",
       "[5 rows x 30 columns]"
      ]
     },
     "execution_count": 50,
     "metadata": {},
     "output_type": "execute_result"
    }
   ],
   "source": [
    "sub_tweets.head()"
   ]
  },
  {
   "cell_type": "code",
   "execution_count": 51,
   "metadata": {},
   "outputs": [
    {
     "data": {
      "image/png": "[encoded data removed]",
      "text/plain": [
       "<Figure size 720x360 with 1 Axes>"
      ]
     },
     "metadata": {
      "needs_background": "light"
     },
     "output_type": "display_data"
    }
   ],
   "source": [
    "# Number of tweets by months\n",
    "\n",
    "sub_tweets['t_month_year'] = sub_tweets['t_created_at'].apply(lambda x: str(x.year)+'-'+str(x.month)+'-1')\n",
    "sub_tweets['t_month_year'].unique()[0]\n",
    "sub_tweets['t_month_year'] = pd.to_datetime(sub_tweets['t_month_year'])\n",
    "\n",
    "sub_tweets[['t_created_at', 't_month_year']].head()\n",
    "\n",
    "yr_monthly_tweets2 = sub_tweets.groupby(['tweet_month','tweet_year']).size().unstack()\n",
    "\n",
    "\n",
    "plt.figure(figsize=(10,5))\n",
    "\n",
    "plt.title('Number of tweets by months', fontsize=12, fontweight='bold')\n",
    "plt.bar(yr_monthly_tweets2.index, yr_monthly_tweets2.values[:,0])\n",
    "plt.bar(yr_monthly_tweets2.index+12, yr_monthly_tweets2.values[:,1], color='g')\n",
    "plt.xticks(list(yr_monthly_tweets2.index)+list(yr_monthly_tweets2.index+12))\n",
    "plt.xlabel('Month')\n",
    "plt.ylabel('# Tweets')\n",
    "plt.show() "
   ]
  },
  {
   "cell_type": "code",
   "execution_count": 52,
   "metadata": {},
   "outputs": [
    {
     "data": {
      "text/plain": [
       "count                   21691\n",
       "unique                     79\n",
       "top       2014-10-01 00:00:00\n",
       "freq                     4540\n",
       "first     2007-03-01 00:00:00\n",
       "last      2015-05-01 00:00:00\n",
       "Name: t_month_year, dtype: object"
      ]
     },
     "execution_count": 52,
     "metadata": {},
     "output_type": "execute_result"
    }
   ],
   "source": [
    "sub_tweets['t_month_year'].describe()"
   ]
  },
  {
   "cell_type": "code",
   "execution_count": 53,
   "metadata": {},
   "outputs": [
    {
     "data": {
      "text/plain": [
       "count    21691.000000\n",
       "mean      2014.113780\n",
       "std          0.760335\n",
       "min       2007.000000\n",
       "25%       2014.000000\n",
       "50%       2014.000000\n",
       "75%       2015.000000\n",
       "max       2015.000000\n",
       "Name: tweet_year, dtype: float64"
      ]
     },
     "execution_count": 53,
     "metadata": {},
     "output_type": "execute_result"
    }
   ],
   "source": [
    "sub_tweets['tweet_year'].describe()"
   ]
  },
  {
   "cell_type": "code",
   "execution_count": 54,
   "metadata": {},
   "outputs": [
    {
     "data": {
      "text/plain": [
       "(21691, 31)"
      ]
     },
     "execution_count": 54,
     "metadata": {},
     "output_type": "execute_result"
    }
   ],
   "source": [
    "sub_tweets.shape"
   ]
  },
  {
   "cell_type": "markdown",
   "metadata": {},
   "source": [
    "__Observation__: This dataset contains tweets posted from 2007 to 2015. Majority of the tweets were collected during 2014 and 2015. "
   ]
  },
  {
   "cell_type": "code",
   "execution_count": 55,
   "metadata": {},
   "outputs": [
    {
     "data": {
      "text/plain": [
       "Index(['user_id', 'name', 'screen_name', 'statuses_count', 'followers_count',\n",
       "       'friends_count', 'favourites_count', 'listed_count', 'lang',\n",
       "       'u_created_at', 'u_timestamp', 'class', 'text', 'retweet_count',\n",
       "       'reply_count', 'favorite_count', 'num_hashtags', 'num_urls',\n",
       "       'num_mentions', 't_created_at', 't_timestamp', 'account_age_yr',\n",
       "       'digit_in_name', 'user_name_len', 'tweet_hour', 'tweet_month',\n",
       "       'tweet_day', 'tweet_year', 'tweet_length', 'num_of_words',\n",
       "       't_month_year'],\n",
       "      dtype='object')"
      ]
     },
     "execution_count": 55,
     "metadata": {},
     "output_type": "execute_result"
    }
   ],
   "source": [
    "sub_tweets.columns"
   ]
  },
  {
   "cell_type": "markdown",
   "metadata": {},
   "source": [
    "## Text Processing: Clean and Transform Tweets\n",
    "\n",
    "Before we can have a model process information from the tweets, we must convert text to numeric values that machines can understand. \n",
    "\n",
    "We will clean the tweets with the following steps:\n",
    "1. Remove hyperlinks, mentions, and 'RT' from retweets\n",
    "2. Word Counts with __CountVectorizer__: Convert a collection of text documents to a matrix of token counts\n",
    "     - Tokenization: Converting a sentence into a list of words\n",
    "     - Remove stopwords: Terms that will be ignored because they either\n",
    "         - occurred in too many documents (max_df)\n",
    "         - occurred in too few documents (min_df)\n",
    "         - were cut off by feature selection (max_features).\n",
    "     - Lemmatization/stemming: Converting any form of a word to its root word\n",
    "     - Returns vectors of the counts of each word\n",
    "     \n",
    "3. Word Frequencies with __TfidfTransform__: Transform a count matrix to a normalized tf representation\n",
    "     - Term Frequency: This summarizes how often a given word appears within a document\n",
    "     - Inverse Document Frequency: This downscales words that appear a lot across documents <br>\n",
    "      idf(d, t) = log [ (1 + n) / (1 + df(d, t)) ] + 1.\n",
    "\n",
    "Reference:\n",
    "[clean tweet](https://machinelearningmastery.com/prepare-text-data-machine-learning-scikit-learn/)\n",
    " \n",
    "First, we will paritation the  tweets into separate classes for building bag of words and cut down on processing time for CountVectorizer and TfidTransformer. \n",
    " \n",
    "Let's start by cleaning the bot tweets. \n",
    "\n",
    "NOTE: Unable to Translate Italian tweets to English [Source](https://pypi.org/project/googletrans/)\n"
   ]
  },
  {
   "cell_type": "code",
   "execution_count": 56,
   "metadata": {},
   "outputs": [],
   "source": [
    "sub_tweets['text'] = sub_tweets['text'].astype('str')"
   ]
  },
  {
   "cell_type": "code",
   "execution_count": 57,
   "metadata": {},
   "outputs": [],
   "source": [
    "# Create df for user class\n",
    "bots = sub_tweets.loc[sub_tweets['class']==1]\n",
    "gen = sub_tweets.loc[sub_tweets['class']==0]"
   ]
  },
  {
   "cell_type": "code",
   "execution_count": 58,
   "metadata": {},
   "outputs": [
    {
     "data": {
      "text/html": [
       "<div>\n",
       "<style scoped>\n",
       "    .dataframe tbody tr th:only-of-type {\n",
       "        vertical-align: middle;\n",
       "    }\n",
       "\n",
       "    .dataframe tbody tr th {\n",
       "        vertical-align: top;\n",
       "    }\n",
       "\n",
       "    .dataframe thead th {\n",
       "        text-align: right;\n",
       "    }\n",
       "</style>\n",
       "<table border=\"1\" class=\"dataframe\">\n",
       "  <thead>\n",
       "    <tr style=\"text-align: right;\">\n",
       "      <th></th>\n",
       "      <th>text</th>\n",
       "    </tr>\n",
       "  </thead>\n",
       "  <tbody>\n",
       "    <tr>\n",
       "      <th>11636</th>\n",
       "      <td>How To Find Best Supplies For Gardening  http:...</td>\n",
       "    </tr>\n",
       "    <tr>\n",
       "      <th>11637</th>\n",
       "      <td>Sometimes people try to expose what�s wrong wi...</td>\n",
       "    </tr>\n",
       "    <tr>\n",
       "      <th>11638</th>\n",
       "      <td>aia ku i?/aia ku n bofB NW'</td>\n",
       "    </tr>\n",
       "    <tr>\n",
       "      <th>11639</th>\n",
       "      <td>Being fucked over so many times you won't even...</td>\n",
       "    </tr>\n",
       "    <tr>\n",
       "      <th>11640</th>\n",
       "      <td>I don't see pitches down the middle anymore - ...</td>\n",
       "    </tr>\n",
       "  </tbody>\n",
       "</table>\n",
       "</div>"
      ],
      "text/plain": [
       "                                                    text\n",
       "11636  How To Find Best Supplies For Gardening  http:...\n",
       "11637  Sometimes people try to expose what�s wrong wi...\n",
       "11638                        aia ku i?/aia ku n bofB NW'\n",
       "11639  Being fucked over so many times you won't even...\n",
       "11640  I don't see pitches down the middle anymore - ..."
      ]
     },
     "execution_count": 58,
     "metadata": {},
     "output_type": "execute_result"
    }
   ],
   "source": [
    "# Create new df \n",
    "b_tweets = pd.DataFrame(bots['text'])\n",
    "b_tweets.head()"
   ]
  },
  {
   "cell_type": "code",
   "execution_count": 59,
   "metadata": {},
   "outputs": [
    {
     "data": {
      "text/html": [
       "<div>\n",
       "<style scoped>\n",
       "    .dataframe tbody tr th:only-of-type {\n",
       "        vertical-align: middle;\n",
       "    }\n",
       "\n",
       "    .dataframe tbody tr th {\n",
       "        vertical-align: top;\n",
       "    }\n",
       "\n",
       "    .dataframe thead th {\n",
       "        text-align: right;\n",
       "    }\n",
       "</style>\n",
       "<table border=\"1\" class=\"dataframe\">\n",
       "  <thead>\n",
       "    <tr style=\"text-align: right;\">\n",
       "      <th></th>\n",
       "      <th>text</th>\n",
       "    </tr>\n",
       "  </thead>\n",
       "  <tbody>\n",
       "    <tr>\n",
       "      <th>0</th>\n",
       "      <td>RT @JimCantore: Today's and tonight's TORNADO ...</td>\n",
       "    </tr>\n",
       "    <tr>\n",
       "      <th>1</th>\n",
       "      <td>Snow day II, sunrise. http://t.co/uuT3nDEYGP</td>\n",
       "    </tr>\n",
       "    <tr>\n",
       "      <th>2</th>\n",
       "      <td>All these Ebola jokes...somebody tell me a bre...</td>\n",
       "    </tr>\n",
       "    <tr>\n",
       "      <th>3</th>\n",
       "      <td>RT @KatInChains: Also getting on my anti-UKIP ...</td>\n",
       "    </tr>\n",
       "    <tr>\n",
       "      <th>4</th>\n",
       "      <td>pagod na pero lumalaban pa ✔</td>\n",
       "    </tr>\n",
       "  </tbody>\n",
       "</table>\n",
       "</div>"
      ],
      "text/plain": [
       "                                                text\n",
       "0  RT @JimCantore: Today's and tonight's TORNADO ...\n",
       "1       Snow day II, sunrise. http://t.co/uuT3nDEYGP\n",
       "2  All these Ebola jokes...somebody tell me a bre...\n",
       "3  RT @KatInChains: Also getting on my anti-UKIP ...\n",
       "4                       pagod na pero lumalaban pa ✔"
      ]
     },
     "execution_count": 59,
     "metadata": {},
     "output_type": "execute_result"
    }
   ],
   "source": [
    "# Create new df  \n",
    "g_tweets = pd.DataFrame(gen['text'])\n",
    "g_tweets.head()"
   ]
  },
  {
   "cell_type": "markdown",
   "metadata": {},
   "source": [
    "Let's clean the tweets to remove links, @, and RT."
   ]
  },
  {
   "cell_type": "code",
   "execution_count": 60,
   "metadata": {},
   "outputs": [
    {
     "data": {
      "text/html": [
       "<div>\n",
       "<style scoped>\n",
       "    .dataframe tbody tr th:only-of-type {\n",
       "        vertical-align: middle;\n",
       "    }\n",
       "\n",
       "    .dataframe tbody tr th {\n",
       "        vertical-align: top;\n",
       "    }\n",
       "\n",
       "    .dataframe thead th {\n",
       "        text-align: right;\n",
       "    }\n",
       "</style>\n",
       "<table border=\"1\" class=\"dataframe\">\n",
       "  <thead>\n",
       "    <tr style=\"text-align: right;\">\n",
       "      <th></th>\n",
       "      <th>text</th>\n",
       "      <th>clean_tweets</th>\n",
       "    </tr>\n",
       "  </thead>\n",
       "  <tbody>\n",
       "    <tr>\n",
       "      <th>11636</th>\n",
       "      <td>How To Find Best Supplies For Gardening  http:...</td>\n",
       "      <td>How To Find Best Supplies For Gardening</td>\n",
       "    </tr>\n",
       "    <tr>\n",
       "      <th>11637</th>\n",
       "      <td>Sometimes people try to expose what�s wrong wi...</td>\n",
       "      <td>Sometimes people try to expose what�s wrong wi...</td>\n",
       "    </tr>\n",
       "    <tr>\n",
       "      <th>11638</th>\n",
       "      <td>aia ku i?/aia ku n bofB NW'</td>\n",
       "      <td>aia ku i?/aia ku n bofB NW'</td>\n",
       "    </tr>\n",
       "    <tr>\n",
       "      <th>11639</th>\n",
       "      <td>Being fucked over so many times you won't even...</td>\n",
       "      <td>Being fucked over so many times you won't even...</td>\n",
       "    </tr>\n",
       "    <tr>\n",
       "      <th>11640</th>\n",
       "      <td>I don't see pitches down the middle anymore - ...</td>\n",
       "      <td>I don't see pitches down the middle anymore - ...</td>\n",
       "    </tr>\n",
       "  </tbody>\n",
       "</table>\n",
       "</div>"
      ],
      "text/plain": [
       "                                                    text  \\\n",
       "11636  How To Find Best Supplies For Gardening  http:...   \n",
       "11637  Sometimes people try to expose what�s wrong wi...   \n",
       "11638                        aia ku i?/aia ku n bofB NW'   \n",
       "11639  Being fucked over so many times you won't even...   \n",
       "11640  I don't see pitches down the middle anymore - ...   \n",
       "\n",
       "                                            clean_tweets  \n",
       "11636          How To Find Best Supplies For Gardening    \n",
       "11637  Sometimes people try to expose what�s wrong wi...  \n",
       "11638                        aia ku i?/aia ku n bofB NW'  \n",
       "11639  Being fucked over so many times you won't even...  \n",
       "11640  I don't see pitches down the middle anymore - ...  "
      ]
     },
     "execution_count": 60,
     "metadata": {},
     "output_type": "execute_result"
    }
   ],
   "source": [
    "def link_cleaner(text):\n",
    "    text = re.sub(r'http.*','',text)\n",
    "    text = re.sub(\"@[A-Za-z0-9]+\",'',text)\n",
    "    text = re.sub(r'bit/ly.*', '', text)\n",
    "    text = re.sub(r'b\\'', '', text)\n",
    "    text = re.sub(r'b\"', '', text)\n",
    "    text = text.replace('RT', '')\n",
    "    return text\n",
    "\n",
    "b_tweets['clean_tweets'] = b_tweets['text'].apply(lambda x: link_cleaner(x))\n",
    "\n",
    "b_tweets.head()"
   ]
  },
  {
   "cell_type": "code",
   "execution_count": 61,
   "metadata": {},
   "outputs": [
    {
     "data": {
      "text/html": [
       "<div>\n",
       "<style scoped>\n",
       "    .dataframe tbody tr th:only-of-type {\n",
       "        vertical-align: middle;\n",
       "    }\n",
       "\n",
       "    .dataframe tbody tr th {\n",
       "        vertical-align: top;\n",
       "    }\n",
       "\n",
       "    .dataframe thead th {\n",
       "        text-align: right;\n",
       "    }\n",
       "</style>\n",
       "<table border=\"1\" class=\"dataframe\">\n",
       "  <thead>\n",
       "    <tr style=\"text-align: right;\">\n",
       "      <th></th>\n",
       "      <th>text</th>\n",
       "      <th>clean_tweets</th>\n",
       "    </tr>\n",
       "  </thead>\n",
       "  <tbody>\n",
       "    <tr>\n",
       "      <th>0</th>\n",
       "      <td>RT @JimCantore: Today's and tonight's TORNADO ...</td>\n",
       "      <td>: Today's and tonight's TORNADO risk areas in...</td>\n",
       "    </tr>\n",
       "    <tr>\n",
       "      <th>1</th>\n",
       "      <td>Snow day II, sunrise. http://t.co/uuT3nDEYGP</td>\n",
       "      <td>Snow day II, sunrise.</td>\n",
       "    </tr>\n",
       "    <tr>\n",
       "      <th>2</th>\n",
       "      <td>All these Ebola jokes...somebody tell me a bre...</td>\n",
       "      <td>All these Ebola jokes...somebody tell me a bre...</td>\n",
       "    </tr>\n",
       "    <tr>\n",
       "      <th>3</th>\n",
       "      <td>RT @KatInChains: Also getting on my anti-UKIP ...</td>\n",
       "      <td>: Also getting on my anti-UKIP soapbox. I gen...</td>\n",
       "    </tr>\n",
       "    <tr>\n",
       "      <th>4</th>\n",
       "      <td>pagod na pero lumalaban pa ✔</td>\n",
       "      <td>pagod na pero lumalaban pa ✔</td>\n",
       "    </tr>\n",
       "  </tbody>\n",
       "</table>\n",
       "</div>"
      ],
      "text/plain": [
       "                                                text  \\\n",
       "0  RT @JimCantore: Today's and tonight's TORNADO ...   \n",
       "1       Snow day II, sunrise. http://t.co/uuT3nDEYGP   \n",
       "2  All these Ebola jokes...somebody tell me a bre...   \n",
       "3  RT @KatInChains: Also getting on my anti-UKIP ...   \n",
       "4                       pagod na pero lumalaban pa ✔   \n",
       "\n",
       "                                        clean_tweets  \n",
       "0   : Today's and tonight's TORNADO risk areas in...  \n",
       "1                             Snow day II, sunrise.   \n",
       "2  All these Ebola jokes...somebody tell me a bre...  \n",
       "3   : Also getting on my anti-UKIP soapbox. I gen...  \n",
       "4                       pagod na pero lumalaban pa ✔  "
      ]
     },
     "execution_count": 61,
     "metadata": {},
     "output_type": "execute_result"
    }
   ],
   "source": [
    "g_tweets['clean_tweets'] = g_tweets['text'].apply(lambda x: link_cleaner(x))\n",
    "\n",
    "g_tweets.head()"
   ]
  },
  {
   "cell_type": "code",
   "execution_count": 62,
   "metadata": {},
   "outputs": [
    {
     "name": "stderr",
     "output_type": "stream",
     "text": [
      "/Users/tsawaengsri/anaconda3/lib/python3.6/re.py:212: FutureWarning: split() requires a non-empty pattern match.\n",
      "  return _compile(pattern, flags).split(string, maxsplit)\n"
     ]
    },
    {
     "data": {
      "text/html": [
       "<div>\n",
       "<style scoped>\n",
       "    .dataframe tbody tr th:only-of-type {\n",
       "        vertical-align: middle;\n",
       "    }\n",
       "\n",
       "    .dataframe tbody tr th {\n",
       "        vertical-align: top;\n",
       "    }\n",
       "\n",
       "    .dataframe thead th {\n",
       "        text-align: right;\n",
       "    }\n",
       "</style>\n",
       "<table border=\"1\" class=\"dataframe\">\n",
       "  <thead>\n",
       "    <tr style=\"text-align: right;\">\n",
       "      <th></th>\n",
       "      <th>text</th>\n",
       "      <th>clean_tweets</th>\n",
       "    </tr>\n",
       "  </thead>\n",
       "  <tbody>\n",
       "    <tr>\n",
       "      <th>11636</th>\n",
       "      <td>How To Find Best Supplies For Gardening  http:...</td>\n",
       "      <td>how to find best supplies for gardening</td>\n",
       "    </tr>\n",
       "    <tr>\n",
       "      <th>11637</th>\n",
       "      <td>Sometimes people try to expose what�s wrong wi...</td>\n",
       "      <td>sometimes people try to expose what s wrong wi...</td>\n",
       "    </tr>\n",
       "    <tr>\n",
       "      <th>11638</th>\n",
       "      <td>aia ku i?/aia ku n bofB NW'</td>\n",
       "      <td>aia ku i aia ku n bofb nw</td>\n",
       "    </tr>\n",
       "    <tr>\n",
       "      <th>11639</th>\n",
       "      <td>Being fucked over so many times you won't even...</td>\n",
       "      <td>being fucked over so many times you won t even...</td>\n",
       "    </tr>\n",
       "    <tr>\n",
       "      <th>11640</th>\n",
       "      <td>I don't see pitches down the middle anymore - ...</td>\n",
       "      <td>i don t see pitches down the middle anymore no...</td>\n",
       "    </tr>\n",
       "  </tbody>\n",
       "</table>\n",
       "</div>"
      ],
      "text/plain": [
       "                                                    text  \\\n",
       "11636  How To Find Best Supplies For Gardening  http:...   \n",
       "11637  Sometimes people try to expose what�s wrong wi...   \n",
       "11638                        aia ku i?/aia ku n bofB NW'   \n",
       "11639  Being fucked over so many times you won't even...   \n",
       "11640  I don't see pitches down the middle anymore - ...   \n",
       "\n",
       "                                            clean_tweets  \n",
       "11636           how to find best supplies for gardening   \n",
       "11637  sometimes people try to expose what s wrong wi...  \n",
       "11638                         aia ku i aia ku n bofb nw   \n",
       "11639  being fucked over so many times you won t even...  \n",
       "11640  i don t see pitches down the middle anymore no...  "
      ]
     },
     "execution_count": 62,
     "metadata": {},
     "output_type": "execute_result"
    }
   ],
   "source": [
    "# Return only characters \n",
    "def clean_alpha(text):\n",
    "    text = \" \".join(re.split(\"[^a-zA-Z]*\", text))\n",
    "    return text\n",
    "\n",
    "b_tweets['clean_tweets'] = b_tweets['clean_tweets'].apply(lambda x: clean_alpha(x.lower()))\n",
    "\n",
    "b_tweets.head()"
   ]
  },
  {
   "cell_type": "code",
   "execution_count": 63,
   "metadata": {},
   "outputs": [
    {
     "data": {
      "text/html": [
       "<div>\n",
       "<style scoped>\n",
       "    .dataframe tbody tr th:only-of-type {\n",
       "        vertical-align: middle;\n",
       "    }\n",
       "\n",
       "    .dataframe tbody tr th {\n",
       "        vertical-align: top;\n",
       "    }\n",
       "\n",
       "    .dataframe thead th {\n",
       "        text-align: right;\n",
       "    }\n",
       "</style>\n",
       "<table border=\"1\" class=\"dataframe\">\n",
       "  <thead>\n",
       "    <tr style=\"text-align: right;\">\n",
       "      <th></th>\n",
       "      <th>text</th>\n",
       "      <th>clean_tweets</th>\n",
       "    </tr>\n",
       "  </thead>\n",
       "  <tbody>\n",
       "    <tr>\n",
       "      <th>0</th>\n",
       "      <td>RT @JimCantore: Today's and tonight's TORNADO ...</td>\n",
       "      <td>today s and tonight s tornado risk areas incl...</td>\n",
       "    </tr>\n",
       "    <tr>\n",
       "      <th>1</th>\n",
       "      <td>Snow day II, sunrise. http://t.co/uuT3nDEYGP</td>\n",
       "      <td>snow day ii sunrise</td>\n",
       "    </tr>\n",
       "    <tr>\n",
       "      <th>2</th>\n",
       "      <td>All these Ebola jokes...somebody tell me a bre...</td>\n",
       "      <td>all these ebola jokes somebody tell me a breas...</td>\n",
       "    </tr>\n",
       "    <tr>\n",
       "      <th>3</th>\n",
       "      <td>RT @KatInChains: Also getting on my anti-UKIP ...</td>\n",
       "      <td>also getting on my anti ukip soapbox i genuin...</td>\n",
       "    </tr>\n",
       "    <tr>\n",
       "      <th>4</th>\n",
       "      <td>pagod na pero lumalaban pa ✔</td>\n",
       "      <td>pagod na pero lumalaban pa</td>\n",
       "    </tr>\n",
       "  </tbody>\n",
       "</table>\n",
       "</div>"
      ],
      "text/plain": [
       "                                                text  \\\n",
       "0  RT @JimCantore: Today's and tonight's TORNADO ...   \n",
       "1       Snow day II, sunrise. http://t.co/uuT3nDEYGP   \n",
       "2  All these Ebola jokes...somebody tell me a bre...   \n",
       "3  RT @KatInChains: Also getting on my anti-UKIP ...   \n",
       "4                       pagod na pero lumalaban pa ✔   \n",
       "\n",
       "                                        clean_tweets  \n",
       "0   today s and tonight s tornado risk areas incl...  \n",
       "1                               snow day ii sunrise   \n",
       "2  all these ebola jokes somebody tell me a breas...  \n",
       "3   also getting on my anti ukip soapbox i genuin...  \n",
       "4                        pagod na pero lumalaban pa   "
      ]
     },
     "execution_count": 63,
     "metadata": {},
     "output_type": "execute_result"
    }
   ],
   "source": [
    "g_tweets['clean_tweets'] = g_tweets['clean_tweets'].apply(lambda x: clean_alpha(x.lower()))\n",
    "\n",
    "g_tweets.head()"
   ]
  },
  {
   "cell_type": "code",
   "execution_count": 64,
   "metadata": {},
   "outputs": [],
   "source": [
    "# Define stopwords to exclude\n",
    "stop = set(stopwords.words('english'))\n",
    "\n",
    "# Define punctuations to exclude and lemmatizer\n",
    "exclude = set(string.punctuation)"
   ]
  },
  {
   "cell_type": "code",
   "execution_count": 65,
   "metadata": {},
   "outputs": [
    {
     "name": "stderr",
     "output_type": "stream",
     "text": [
      "[nltk_data] Downloading package wordnet to\n",
      "[nltk_data]     /Users/tsawaengsri/nltk_data...\n",
      "[nltk_data]   Package wordnet is already up-to-date!\n"
     ]
    },
    {
     "data": {
      "text/plain": [
       "True"
      ]
     },
     "execution_count": 65,
     "metadata": {},
     "output_type": "execute_result"
    }
   ],
   "source": [
    "import nltk\n",
    "nltk.download('wordnet')"
   ]
  },
  {
   "cell_type": "code",
   "execution_count": 66,
   "metadata": {},
   "outputs": [
    {
     "data": {
      "text/html": [
       "<div>\n",
       "<style scoped>\n",
       "    .dataframe tbody tr th:only-of-type {\n",
       "        vertical-align: middle;\n",
       "    }\n",
       "\n",
       "    .dataframe tbody tr th {\n",
       "        vertical-align: top;\n",
       "    }\n",
       "\n",
       "    .dataframe thead th {\n",
       "        text-align: right;\n",
       "    }\n",
       "</style>\n",
       "<table border=\"1\" class=\"dataframe\">\n",
       "  <thead>\n",
       "    <tr style=\"text-align: right;\">\n",
       "      <th></th>\n",
       "      <th>text</th>\n",
       "      <th>clean_tweets</th>\n",
       "    </tr>\n",
       "  </thead>\n",
       "  <tbody>\n",
       "    <tr>\n",
       "      <th>11636</th>\n",
       "      <td>How To Find Best Supplies For Gardening  http:...</td>\n",
       "      <td>find best supply gardening</td>\n",
       "    </tr>\n",
       "    <tr>\n",
       "      <th>11637</th>\n",
       "      <td>Sometimes people try to expose what�s wrong wi...</td>\n",
       "      <td>sometimes people try expose wrong handle every...</td>\n",
       "    </tr>\n",
       "    <tr>\n",
       "      <th>11638</th>\n",
       "      <td>aia ku i?/aia ku n bofB NW'</td>\n",
       "      <td>aia ku aia ku n bofb nw</td>\n",
       "    </tr>\n",
       "    <tr>\n",
       "      <th>11639</th>\n",
       "      <td>Being fucked over so many times you won't even...</td>\n",
       "      <td>fucked many time even believe may good thing</td>\n",
       "    </tr>\n",
       "    <tr>\n",
       "      <th>11640</th>\n",
       "      <td>I don't see pitches down the middle anymore - ...</td>\n",
       "      <td>see pitch middle anymore even batting practice...</td>\n",
       "    </tr>\n",
       "  </tbody>\n",
       "</table>\n",
       "</div>"
      ],
      "text/plain": [
       "                                                    text  \\\n",
       "11636  How To Find Best Supplies For Gardening  http:...   \n",
       "11637  Sometimes people try to expose what�s wrong wi...   \n",
       "11638                        aia ku i?/aia ku n bofB NW'   \n",
       "11639  Being fucked over so many times you won't even...   \n",
       "11640  I don't see pitches down the middle anymore - ...   \n",
       "\n",
       "                                            clean_tweets  \n",
       "11636                         find best supply gardening  \n",
       "11637  sometimes people try expose wrong handle every...  \n",
       "11638                            aia ku aia ku n bofb nw  \n",
       "11639       fucked many time even believe may good thing  \n",
       "11640  see pitch middle anymore even batting practice...  "
      ]
     },
     "execution_count": 66,
     "metadata": {},
     "output_type": "execute_result"
    }
   ],
   "source": [
    "# Import the lemmatizer from nltk\n",
    "lemma = WordNetLemmatizer()\n",
    "\n",
    "# Define word cleaning function\n",
    "def final_clean(text, stop=stop):\n",
    "    text = text.rstrip()\n",
    "    stop_free = \" \".join([i for i in text.lower().split() if((i not in stop) and (not i.isdigit()))])\n",
    "    punc_free = ''.join(i for i in stop_free if i not in exclude)\n",
    "    normalized = \" \".join(lemma.lemmatize(i) for i in punc_free.split())      \n",
    "    return normalized\n",
    "\n",
    "b_tweets['clean_tweets'] = b_tweets['clean_tweets'].apply(lambda x: final_clean(x))\n",
    "\n",
    "b_tweets.head()"
   ]
  },
  {
   "cell_type": "code",
   "execution_count": 67,
   "metadata": {},
   "outputs": [
    {
     "data": {
      "text/html": [
       "<div>\n",
       "<style scoped>\n",
       "    .dataframe tbody tr th:only-of-type {\n",
       "        vertical-align: middle;\n",
       "    }\n",
       "\n",
       "    .dataframe tbody tr th {\n",
       "        vertical-align: top;\n",
       "    }\n",
       "\n",
       "    .dataframe thead th {\n",
       "        text-align: right;\n",
       "    }\n",
       "</style>\n",
       "<table border=\"1\" class=\"dataframe\">\n",
       "  <thead>\n",
       "    <tr style=\"text-align: right;\">\n",
       "      <th></th>\n",
       "      <th>text</th>\n",
       "      <th>clean_tweets</th>\n",
       "    </tr>\n",
       "  </thead>\n",
       "  <tbody>\n",
       "    <tr>\n",
       "      <th>0</th>\n",
       "      <td>RT @JimCantore: Today's and tonight's TORNADO ...</td>\n",
       "      <td>today tonight tornado risk area including many...</td>\n",
       "    </tr>\n",
       "    <tr>\n",
       "      <th>1</th>\n",
       "      <td>Snow day II, sunrise. http://t.co/uuT3nDEYGP</td>\n",
       "      <td>snow day ii sunrise</td>\n",
       "    </tr>\n",
       "    <tr>\n",
       "      <th>2</th>\n",
       "      <td>All these Ebola jokes...somebody tell me a bre...</td>\n",
       "      <td>ebola joke somebody tell breast cancer joke nah</td>\n",
       "    </tr>\n",
       "    <tr>\n",
       "      <th>3</th>\n",
       "      <td>RT @KatInChains: Also getting on my anti-UKIP ...</td>\n",
       "      <td>also getting anti ukip soapbox genuinely belie...</td>\n",
       "    </tr>\n",
       "    <tr>\n",
       "      <th>4</th>\n",
       "      <td>pagod na pero lumalaban pa ✔</td>\n",
       "      <td>pagod na pero lumalaban pa</td>\n",
       "    </tr>\n",
       "  </tbody>\n",
       "</table>\n",
       "</div>"
      ],
      "text/plain": [
       "                                                text  \\\n",
       "0  RT @JimCantore: Today's and tonight's TORNADO ...   \n",
       "1       Snow day II, sunrise. http://t.co/uuT3nDEYGP   \n",
       "2  All these Ebola jokes...somebody tell me a bre...   \n",
       "3  RT @KatInChains: Also getting on my anti-UKIP ...   \n",
       "4                       pagod na pero lumalaban pa ✔   \n",
       "\n",
       "                                        clean_tweets  \n",
       "0  today tonight tornado risk area including many...  \n",
       "1                                snow day ii sunrise  \n",
       "2    ebola joke somebody tell breast cancer joke nah  \n",
       "3  also getting anti ukip soapbox genuinely belie...  \n",
       "4                         pagod na pero lumalaban pa  "
      ]
     },
     "execution_count": 67,
     "metadata": {},
     "output_type": "execute_result"
    }
   ],
   "source": [
    "g_tweets['clean_tweets'] = g_tweets['clean_tweets'].apply(lambda x: final_clean(x))\n",
    "\n",
    "g_tweets.head()"
   ]
  },
  {
   "cell_type": "markdown",
   "metadata": {},
   "source": [
    "Since we were unable to translate non English tweets, those cells are empty and will be dropped."
   ]
  },
  {
   "cell_type": "code",
   "execution_count": 68,
   "metadata": {},
   "outputs": [
    {
     "name": "stderr",
     "output_type": "stream",
     "text": [
      "/Users/tsawaengsri/anaconda3/lib/python3.6/site-packages/ipykernel_launcher.py:2: SettingWithCopyWarning: \n",
      "A value is trying to be set on a copy of a slice from a DataFrame.\n",
      "Try using .loc[row_indexer,col_indexer] = value instead\n",
      "\n",
      "See the caveats in the documentation: http://pandas.pydata.org/pandas-docs/stable/user_guide/indexing.html#returning-a-view-versus-a-copy\n",
      "  \n",
      "/Users/tsawaengsri/anaconda3/lib/python3.6/site-packages/ipykernel_launcher.py:3: SettingWithCopyWarning: \n",
      "A value is trying to be set on a copy of a slice from a DataFrame.\n",
      "Try using .loc[row_indexer,col_indexer] = value instead\n",
      "\n",
      "See the caveats in the documentation: http://pandas.pydata.org/pandas-docs/stable/user_guide/indexing.html#returning-a-view-versus-a-copy\n",
      "  This is separate from the ipykernel package so we can avoid doing imports until\n"
     ]
    }
   ],
   "source": [
    "# Add clean_tweets back to bots and gen df to drop empty tweets\n",
    "bots['clean_tweets'] = b_tweets['clean_tweets']\n",
    "gen['clean_tweets'] = g_tweets['clean_tweets']"
   ]
  },
  {
   "cell_type": "code",
   "execution_count": 69,
   "metadata": {},
   "outputs": [
    {
     "name": "stdout",
     "output_type": "stream",
     "text": [
      "(10055, 32)\n",
      "(11636, 32)\n"
     ]
    }
   ],
   "source": [
    "# Shape before dropping empty tweets\n",
    "print(bots.shape)\n",
    "print(gen.shape)"
   ]
  },
  {
   "cell_type": "code",
   "execution_count": 70,
   "metadata": {},
   "outputs": [],
   "source": [
    "# Replace field that's entirely space (or empty) with NaN\n",
    "bots = bots.replace(r'^\\s*$', np.nan, regex=True)\n",
    "gen = gen.replace(r'^\\s*$', np.nan, regex=True)"
   ]
  },
  {
   "cell_type": "code",
   "execution_count": 71,
   "metadata": {},
   "outputs": [],
   "source": [
    "# Drop nan\n",
    "bots = bots.dropna() \n",
    "gen = gen.dropna()"
   ]
  },
  {
   "cell_type": "code",
   "execution_count": 72,
   "metadata": {},
   "outputs": [],
   "source": [
    "# Reset index to start at 0\n",
    "bots = bots.reset_index()\n",
    "gen = gen.reset_index() "
   ]
  },
  {
   "cell_type": "code",
   "execution_count": 73,
   "metadata": {},
   "outputs": [
    {
     "name": "stdout",
     "output_type": "stream",
     "text": [
      "(9958, 33)\n",
      "(11169, 33)\n"
     ]
    }
   ],
   "source": [
    "# Shape after dropping empty tweets\n",
    "print(bots.shape)\n",
    "print(gen.shape)"
   ]
  },
  {
   "cell_type": "markdown",
   "metadata": {},
   "source": [
    "We lost a few hundreds of tweets for bots and genuine accounts. "
   ]
  },
  {
   "cell_type": "code",
   "execution_count": 74,
   "metadata": {},
   "outputs": [],
   "source": [
    "# Convert df to np arrary \n",
    "b_clean = bots['clean_tweets'].values\n",
    "g_clean = gen['clean_tweets'].values"
   ]
  },
  {
   "cell_type": "code",
   "execution_count": 75,
   "metadata": {},
   "outputs": [],
   "source": [
    "# Convert np arrary to one deminsional array \n",
    "b_clean = b_clean.ravel()"
   ]
  },
  {
   "cell_type": "code",
   "execution_count": 76,
   "metadata": {},
   "outputs": [
    {
     "data": {
      "text/plain": [
       "numpy.ndarray"
      ]
     },
     "execution_count": 76,
     "metadata": {},
     "output_type": "execute_result"
    }
   ],
   "source": [
    "type(b_clean)"
   ]
  },
  {
   "cell_type": "code",
   "execution_count": 77,
   "metadata": {},
   "outputs": [],
   "source": [
    "# Convert np arrary to one deminsional array \n",
    "g_clean = g_clean.ravel()"
   ]
  },
  {
   "cell_type": "code",
   "execution_count": 78,
   "metadata": {},
   "outputs": [
    {
     "data": {
      "text/plain": [
       "numpy.ndarray"
      ]
     },
     "execution_count": 78,
     "metadata": {},
     "output_type": "execute_result"
    }
   ],
   "source": [
    "type(g_clean)"
   ]
  },
  {
   "cell_type": "markdown",
   "metadata": {},
   "source": [
    "### Count Vectorizer\n",
    "Converting a collection of stemmed tweets to a matrix of token counts"
   ]
  },
  {
   "cell_type": "code",
   "execution_count": 79,
   "metadata": {},
   "outputs": [
    {
     "name": "stdout",
     "output_type": "stream",
     "text": [
      "(9958, 11361)\n",
      "<class 'scipy.sparse.csr.csr_matrix'>\n"
     ]
    }
   ],
   "source": [
    "# Initialize a CountVectorizer object for bot tweets\n",
    "b_count_vectorizer = CountVectorizer(stop_words='english')\n",
    "\n",
    "# Learn the vocabulary dictionary and return term-document matrix for bot tweets\n",
    "b_clean = b_count_vectorizer.fit_transform(b_clean) \n",
    "\n",
    "# Summarize encoded vector\n",
    "print(b_clean.shape)\n",
    "print(type(b_clean))"
   ]
  },
  {
   "cell_type": "code",
   "execution_count": 80,
   "metadata": {},
   "outputs": [
    {
     "data": {
      "text/plain": [
       "array(['aa', 'aaaaaa', 'aaron', 'ab', 'abandoned', 'abba', 'abbamo',\n",
       "       'abbandonare', 'abbandoni', 'abbastanza', 'abbbk', 'abbi', 'abbia',\n",
       "       'abbiamo', 'abbiate', 'abbonda', 'abbondanza', 'abbracci',\n",
       "       'abbraccio', 'abby', 'abc', 'abdul', 'abeba', 'abel', 'abides',\n",
       "       'abigail', 'ability', 'abitato', 'abitualmente', 'abitudine'],\n",
       "      dtype='<U12')"
      ]
     },
     "execution_count": 80,
     "metadata": {},
     "output_type": "execute_result"
    }
   ],
   "source": [
    "# Bot Tweets Vocabulary \n",
    "b_vocab = b_count_vectorizer.get_feature_names()\n",
    "np.array(b_vocab[:30])"
   ]
  },
  {
   "cell_type": "code",
   "execution_count": 81,
   "metadata": {},
   "outputs": [
    {
     "name": "stdout",
     "output_type": "stream",
     "text": [
      "(11169, 16850)\n",
      "<class 'scipy.sparse.csr.csr_matrix'>\n"
     ]
    }
   ],
   "source": [
    "# Initialize a CountVectorizer object for bot tweets\n",
    "g_count_vectorizer = CountVectorizer(stop_words='english')\n",
    "\n",
    "# Learn the vocabulary dictionary and return term-document matrix for genuine tweets\n",
    "g_clean = g_count_vectorizer.fit_transform(g_clean)\n",
    "\n",
    "# Summarize encoded vector\n",
    "print(g_clean.shape)\n",
    "print(type(g_clean))"
   ]
  },
  {
   "cell_type": "code",
   "execution_count": 82,
   "metadata": {},
   "outputs": [
    {
     "data": {
      "text/plain": [
       "array(['aa', 'aaaaaaggghhhh', 'aaaah', 'aaaand', 'aab', 'aabsent',\n",
       "       'aadhya', 'aaf', 'aage', 'aaj', 'aalala', 'aam', 'aaminin', 'aan',\n",
       "       'aangemeld', 'aanhin', 'aap', 'aapfundingscam', 'aaphelpline',\n",
       "       'aapke', 'aapl', 'aaron', 'aaronanderson', 'aasbe', 'aashish',\n",
       "       'aata', 'aatien', 'aattend', 'aayi', 'ab'], dtype='<U14')"
      ]
     },
     "execution_count": 82,
     "metadata": {},
     "output_type": "execute_result"
    }
   ],
   "source": [
    "# Genuine Tweets Vocabulary \n",
    "g_vocab = g_count_vectorizer.get_feature_names()\n",
    "np.array(g_vocab[:30])"
   ]
  },
  {
   "cell_type": "markdown",
   "metadata": {},
   "source": [
    "### Tfidf Transformer \n",
    "\"The goal of using tf-idf instead of the raw frequencies of occurrence of a token in a given document is to scale down the impact of tokens that occur very frequently in a given corpus and that are hence empirically less informative than features that occur in a small fraction of the training corpus\".[Source](https://scikit-learn.org/stable/modules/generated/sklearn.feature_extraction.text.TfidfTransformer.html)"
   ]
  },
  {
   "cell_type": "code",
   "execution_count": 83,
   "metadata": {},
   "outputs": [
    {
     "name": "stdout",
     "output_type": "stream",
     "text": [
      "(9958, 11361)\n",
      "<class 'scipy.sparse.csr.csr_matrix'>\n"
     ]
    }
   ],
   "source": [
    "# Learn the idf vector (global term weights) for bot tweets\n",
    "b_tf_transformer = TfidfTransformer(use_idf=False).fit(b_clean) # Don't enable inverse-document-frequency reweighting\n",
    "\n",
    "# Transform a count matrix to a tf-idf representation\n",
    "b_tfidf_train = b_tf_transformer.transform(b_clean)\n",
    "\n",
    "# Summarize encoded vector\n",
    "print(b_tfidf_train.shape)\n",
    "print(type(b_tfidf_train))"
   ]
  },
  {
   "cell_type": "code",
   "execution_count": 84,
   "metadata": {},
   "outputs": [
    {
     "name": "stdout",
     "output_type": "stream",
     "text": [
      "(11169, 16850)\n",
      "<class 'scipy.sparse.csr.csr_matrix'>\n"
     ]
    }
   ],
   "source": [
    "# Learn the idf vector (global term weights) for genuine tweets\n",
    "g_tf_transformer = TfidfTransformer(use_idf=False).fit(g_clean)\n",
    "\n",
    "# Transform a count matrix to a tf-idf representation\n",
    "g_tfidf_train = g_tf_transformer.transform(g_clean)\n",
    "\n",
    "# Summarize encoded vector\n",
    "print(g_tfidf_train.shape)\n",
    "print(type(g_tfidf_train))"
   ]
  },
  {
   "cell_type": "markdown",
   "metadata": {},
   "source": [
    "As shown above, there are over 20,000 tokens for both bots and genuine tweets. We'll need to reduce the number of features to prevent overfitting. \n",
    "\n",
    "### TruncatedSVD\n",
    "\"This transformer performs linear dimensionality reduction by means of truncated singular value decomposition (SVD). Contrary to PCA, this estimator does not center the data before computing the singular value decomposition. This means it can work with scipy.sparse matrices efficiently.\" [Source](https://scikit-learn.org/stable/modules/generated/sklearn.decomposition.TruncatedSVD.html)"
   ]
  },
  {
   "cell_type": "code",
   "execution_count": 85,
   "metadata": {
    "scrolled": true
   },
   "outputs": [
    {
     "name": "stdout",
     "output_type": "stream",
     "text": [
      "(9958, 100)\n",
      "[0.02416633 0.01836718 0.0106684  0.00911157 0.0068709  0.00658554\n",
      " 0.0056935  0.00636748 0.00566773 0.00539817 0.00514554 0.00489952\n",
      " 0.00448986 0.00446077 0.0043352  0.00425829 0.00416273 0.0041576\n",
      " 0.00401329 0.00385485 0.00380682 0.00381794 0.00379107 0.00364853\n",
      " 0.00360767 0.003554   0.00337316 0.00328358 0.00318675 0.00313304\n",
      " 0.00301119 0.00285562 0.00283977 0.00279935 0.00272233 0.00265253\n",
      " 0.00264018 0.00247398 0.00247451 0.00242104 0.00239629 0.0023314\n",
      " 0.00233495 0.00230486 0.00227824 0.00225836 0.00218098 0.00215212\n",
      " 0.00214271 0.00211401 0.00209847 0.00208762 0.00207618 0.00206312\n",
      " 0.00204032 0.0020106  0.00199311 0.00196167 0.00196591 0.00193328\n",
      " 0.00193367 0.00191911 0.00190775 0.00188834 0.00188606 0.00185194\n",
      " 0.00185337 0.00184517 0.00181801 0.00179884 0.00179509 0.00176533\n",
      " 0.00173986 0.00173119 0.00170986 0.00168464 0.00166683 0.00165278\n",
      " 0.00163686 0.00162743 0.00160971 0.0015865  0.0015732  0.00152563\n",
      " 0.00151405 0.00150249 0.00147322 0.00146904 0.00145504 0.00145048\n",
      " 0.00143541 0.00143667 0.00142237 0.00140764 0.00138509 0.00138026\n",
      " 0.00136561 0.00134831 0.00132224 0.00131341]\n",
      "0.31490076321906674\n"
     ]
    }
   ],
   "source": [
    "# TruncatedSVD to reduce dimensions \n",
    "svd = TruncatedSVD(n_components=100, n_iter=7, random_state=42).fit(b_tfidf_train)\n",
    "b_svdTFit = svd.fit_transform(b_tfidf_train)\n",
    "\n",
    "# Summary of transformation \n",
    "print(b_svdTFit.shape)\n",
    "print(svd.explained_variance_)\n",
    "print(svd.explained_variance_ratio_.sum())"
   ]
  },
  {
   "cell_type": "code",
   "execution_count": 86,
   "metadata": {},
   "outputs": [
    {
     "name": "stdout",
     "output_type": "stream",
     "text": [
      "(11169, 100)\n",
      "[0.00743453 0.00763733 0.00534668 0.00538163 0.00528846 0.00486429\n",
      " 0.00465456 0.00455696 0.0042705  0.0039562  0.00390009 0.00385254\n",
      " 0.00374926 0.00355158 0.00348985 0.00338532 0.00334832 0.0033084\n",
      " 0.00323724 0.00319518 0.00315046 0.00298989 0.00290842 0.0027707\n",
      " 0.00273263 0.00268074 0.00266472 0.00262148 0.00259283 0.00256993\n",
      " 0.00248273 0.00245863 0.00237345 0.00232462 0.00230973 0.00230091\n",
      " 0.0022394  0.00222686 0.00219367 0.00215048 0.00214199 0.00204962\n",
      " 0.00200452 0.00196989 0.00195231 0.00190256 0.00186611 0.00185223\n",
      " 0.00183999 0.00179423 0.0017759  0.00173634 0.00171125 0.00170336\n",
      " 0.00167184 0.0016564  0.00164712 0.00162062 0.00158805 0.00156563\n",
      " 0.00151922 0.00148927 0.00147234 0.0014473  0.00140503 0.00139558\n",
      " 0.00138375 0.00137832 0.00137399 0.00135405 0.00134104 0.00133551\n",
      " 0.00132731 0.00131694 0.0012959  0.00129105 0.00127019 0.00126619\n",
      " 0.0012534  0.00124586 0.00124291 0.00122149 0.00121538 0.0012101\n",
      " 0.00120206 0.00119723 0.00118407 0.00117972 0.00118049 0.00117696\n",
      " 0.00116211 0.00114771 0.00113483 0.00112927 0.00112549 0.00110901\n",
      " 0.00109384 0.00108855 0.00108786 0.00107598]\n",
      "0.22745057422750628\n"
     ]
    }
   ],
   "source": [
    "# TruncatedSVD to reduce dimensions \n",
    "svd2 = TruncatedSVD(n_components=100, n_iter=7, random_state=42).fit(g_tfidf_train)\n",
    "g_svdTFit = svd2.fit_transform(g_tfidf_train)\n",
    "\n",
    "# Summary of transformation \n",
    "print(g_svdTFit.shape)\n",
    "print(svd2.explained_variance_)\n",
    "print(svd2.explained_variance_ratio_.sum())"
   ]
  },
  {
   "cell_type": "code",
   "execution_count": 87,
   "metadata": {},
   "outputs": [
    {
     "data": {
      "text/html": [
       "<div>\n",
       "<style scoped>\n",
       "    .dataframe tbody tr th:only-of-type {\n",
       "        vertical-align: middle;\n",
       "    }\n",
       "\n",
       "    .dataframe tbody tr th {\n",
       "        vertical-align: top;\n",
       "    }\n",
       "\n",
       "    .dataframe thead th {\n",
       "        text-align: right;\n",
       "    }\n",
       "</style>\n",
       "<table border=\"1\" class=\"dataframe\">\n",
       "  <thead>\n",
       "    <tr style=\"text-align: right;\">\n",
       "      <th></th>\n",
       "      <th>0</th>\n",
       "      <th>1</th>\n",
       "      <th>2</th>\n",
       "      <th>3</th>\n",
       "      <th>4</th>\n",
       "      <th>5</th>\n",
       "      <th>6</th>\n",
       "      <th>7</th>\n",
       "      <th>8</th>\n",
       "      <th>9</th>\n",
       "      <th>...</th>\n",
       "      <th>90</th>\n",
       "      <th>91</th>\n",
       "      <th>92</th>\n",
       "      <th>93</th>\n",
       "      <th>94</th>\n",
       "      <th>95</th>\n",
       "      <th>96</th>\n",
       "      <th>97</th>\n",
       "      <th>98</th>\n",
       "      <th>99</th>\n",
       "    </tr>\n",
       "  </thead>\n",
       "  <tbody>\n",
       "    <tr>\n",
       "      <th>0</th>\n",
       "      <td>3.726086e-03</td>\n",
       "      <td>1.038109e-02</td>\n",
       "      <td>2.813843e-02</td>\n",
       "      <td>-1.932506e-02</td>\n",
       "      <td>1.066313e-01</td>\n",
       "      <td>3.573703e-02</td>\n",
       "      <td>1.435261e-02</td>\n",
       "      <td>3.366829e-02</td>\n",
       "      <td>-1.644168e-02</td>\n",
       "      <td>3.637635e-03</td>\n",
       "      <td>...</td>\n",
       "      <td>1.588245e-03</td>\n",
       "      <td>1.631393e-02</td>\n",
       "      <td>-2.680517e-02</td>\n",
       "      <td>3.523064e-03</td>\n",
       "      <td>-3.233562e-03</td>\n",
       "      <td>2.462476e-02</td>\n",
       "      <td>2.925666e-02</td>\n",
       "      <td>-2.405309e-02</td>\n",
       "      <td>-1.805375e-02</td>\n",
       "      <td>5.784717e-03</td>\n",
       "    </tr>\n",
       "    <tr>\n",
       "      <th>1</th>\n",
       "      <td>1.642726e-03</td>\n",
       "      <td>3.714864e-03</td>\n",
       "      <td>1.697011e-02</td>\n",
       "      <td>-3.270695e-03</td>\n",
       "      <td>5.863389e-02</td>\n",
       "      <td>8.731146e-02</td>\n",
       "      <td>5.474333e-02</td>\n",
       "      <td>1.004877e-01</td>\n",
       "      <td>-2.713563e-02</td>\n",
       "      <td>3.012019e-03</td>\n",
       "      <td>...</td>\n",
       "      <td>-2.547765e-02</td>\n",
       "      <td>-4.651033e-02</td>\n",
       "      <td>-7.965155e-02</td>\n",
       "      <td>-7.093684e-02</td>\n",
       "      <td>-3.739783e-02</td>\n",
       "      <td>-6.339194e-03</td>\n",
       "      <td>-8.846440e-02</td>\n",
       "      <td>-4.422037e-02</td>\n",
       "      <td>2.301079e-02</td>\n",
       "      <td>8.124448e-02</td>\n",
       "    </tr>\n",
       "    <tr>\n",
       "      <th>2</th>\n",
       "      <td>-8.681789e-19</td>\n",
       "      <td>-5.417416e-18</td>\n",
       "      <td>2.084538e-17</td>\n",
       "      <td>3.964085e-16</td>\n",
       "      <td>4.273708e-16</td>\n",
       "      <td>-1.073919e-14</td>\n",
       "      <td>-4.694692e-15</td>\n",
       "      <td>-5.824812e-16</td>\n",
       "      <td>-2.040000e-14</td>\n",
       "      <td>1.087534e-14</td>\n",
       "      <td>...</td>\n",
       "      <td>4.411198e-10</td>\n",
       "      <td>-8.693819e-10</td>\n",
       "      <td>2.763363e-10</td>\n",
       "      <td>1.825027e-10</td>\n",
       "      <td>5.576104e-10</td>\n",
       "      <td>-4.048670e-10</td>\n",
       "      <td>4.880429e-10</td>\n",
       "      <td>-8.292928e-10</td>\n",
       "      <td>4.254012e-10</td>\n",
       "      <td>-1.474276e-09</td>\n",
       "    </tr>\n",
       "    <tr>\n",
       "      <th>3</th>\n",
       "      <td>3.283886e-03</td>\n",
       "      <td>1.008872e-02</td>\n",
       "      <td>3.137200e-02</td>\n",
       "      <td>-1.083433e-02</td>\n",
       "      <td>1.143732e-01</td>\n",
       "      <td>1.358867e-01</td>\n",
       "      <td>8.877263e-02</td>\n",
       "      <td>1.670790e-01</td>\n",
       "      <td>-6.972255e-02</td>\n",
       "      <td>1.006969e-02</td>\n",
       "      <td>...</td>\n",
       "      <td>5.628960e-03</td>\n",
       "      <td>-3.069243e-02</td>\n",
       "      <td>2.185736e-02</td>\n",
       "      <td>-4.890275e-03</td>\n",
       "      <td>-2.253710e-02</td>\n",
       "      <td>-9.110017e-03</td>\n",
       "      <td>2.791048e-02</td>\n",
       "      <td>1.114096e-02</td>\n",
       "      <td>-2.447222e-02</td>\n",
       "      <td>5.156154e-03</td>\n",
       "    </tr>\n",
       "    <tr>\n",
       "      <th>4</th>\n",
       "      <td>7.164226e-05</td>\n",
       "      <td>1.997332e-04</td>\n",
       "      <td>9.076734e-04</td>\n",
       "      <td>4.219466e-04</td>\n",
       "      <td>2.377682e-03</td>\n",
       "      <td>3.693403e-03</td>\n",
       "      <td>2.741392e-03</td>\n",
       "      <td>4.769198e-03</td>\n",
       "      <td>-2.158164e-03</td>\n",
       "      <td>-1.594828e-03</td>\n",
       "      <td>...</td>\n",
       "      <td>5.706984e-03</td>\n",
       "      <td>5.706830e-03</td>\n",
       "      <td>7.267053e-03</td>\n",
       "      <td>-1.263454e-02</td>\n",
       "      <td>1.152909e-02</td>\n",
       "      <td>1.475721e-02</td>\n",
       "      <td>-1.816519e-02</td>\n",
       "      <td>1.065247e-02</td>\n",
       "      <td>3.228039e-02</td>\n",
       "      <td>-4.596549e-03</td>\n",
       "    </tr>\n",
       "  </tbody>\n",
       "</table>\n",
       "<p>5 rows × 100 columns</p>\n",
       "</div>"
      ],
      "text/plain": [
       "             0             1             2             3             4   \\\n",
       "0  3.726086e-03  1.038109e-02  2.813843e-02 -1.932506e-02  1.066313e-01   \n",
       "1  1.642726e-03  3.714864e-03  1.697011e-02 -3.270695e-03  5.863389e-02   \n",
       "2 -8.681789e-19 -5.417416e-18  2.084538e-17  3.964085e-16  4.273708e-16   \n",
       "3  3.283886e-03  1.008872e-02  3.137200e-02 -1.083433e-02  1.143732e-01   \n",
       "4  7.164226e-05  1.997332e-04  9.076734e-04  4.219466e-04  2.377682e-03   \n",
       "\n",
       "             5             6             7             8             9   ...  \\\n",
       "0  3.573703e-02  1.435261e-02  3.366829e-02 -1.644168e-02  3.637635e-03  ...   \n",
       "1  8.731146e-02  5.474333e-02  1.004877e-01 -2.713563e-02  3.012019e-03  ...   \n",
       "2 -1.073919e-14 -4.694692e-15 -5.824812e-16 -2.040000e-14  1.087534e-14  ...   \n",
       "3  1.358867e-01  8.877263e-02  1.670790e-01 -6.972255e-02  1.006969e-02  ...   \n",
       "4  3.693403e-03  2.741392e-03  4.769198e-03 -2.158164e-03 -1.594828e-03  ...   \n",
       "\n",
       "             90            91            92            93            94  \\\n",
       "0  1.588245e-03  1.631393e-02 -2.680517e-02  3.523064e-03 -3.233562e-03   \n",
       "1 -2.547765e-02 -4.651033e-02 -7.965155e-02 -7.093684e-02 -3.739783e-02   \n",
       "2  4.411198e-10 -8.693819e-10  2.763363e-10  1.825027e-10  5.576104e-10   \n",
       "3  5.628960e-03 -3.069243e-02  2.185736e-02 -4.890275e-03 -2.253710e-02   \n",
       "4  5.706984e-03  5.706830e-03  7.267053e-03 -1.263454e-02  1.152909e-02   \n",
       "\n",
       "             95            96            97            98            99  \n",
       "0  2.462476e-02  2.925666e-02 -2.405309e-02 -1.805375e-02  5.784717e-03  \n",
       "1 -6.339194e-03 -8.846440e-02 -4.422037e-02  2.301079e-02  8.124448e-02  \n",
       "2 -4.048670e-10  4.880429e-10 -8.292928e-10  4.254012e-10 -1.474276e-09  \n",
       "3 -9.110017e-03  2.791048e-02  1.114096e-02 -2.447222e-02  5.156154e-03  \n",
       "4  1.475721e-02 -1.816519e-02  1.065247e-02  3.228039e-02 -4.596549e-03  \n",
       "\n",
       "[5 rows x 100 columns]"
      ]
     },
     "execution_count": 87,
     "metadata": {},
     "output_type": "execute_result"
    }
   ],
   "source": [
    "# Convert svdTFit array to df \n",
    "b_svdTFit = pd.DataFrame(b_svdTFit)\n",
    "b_svdTFit.head()"
   ]
  },
  {
   "cell_type": "code",
   "execution_count": 88,
   "metadata": {},
   "outputs": [
    {
     "name": "stdout",
     "output_type": "stream",
     "text": [
      "(9958, 100)\n"
     ]
    }
   ],
   "source": [
    "print(b_svdTFit.shape)"
   ]
  },
  {
   "cell_type": "code",
   "execution_count": 89,
   "metadata": {},
   "outputs": [
    {
     "data": {
      "text/plain": [
       "(9958, 33)"
      ]
     },
     "execution_count": 89,
     "metadata": {},
     "output_type": "execute_result"
    }
   ],
   "source": [
    "bots.shape"
   ]
  },
  {
   "cell_type": "code",
   "execution_count": 90,
   "metadata": {},
   "outputs": [
    {
     "data": {
      "text/html": [
       "<div>\n",
       "<style scoped>\n",
       "    .dataframe tbody tr th:only-of-type {\n",
       "        vertical-align: middle;\n",
       "    }\n",
       "\n",
       "    .dataframe tbody tr th {\n",
       "        vertical-align: top;\n",
       "    }\n",
       "\n",
       "    .dataframe thead th {\n",
       "        text-align: right;\n",
       "    }\n",
       "</style>\n",
       "<table border=\"1\" class=\"dataframe\">\n",
       "  <thead>\n",
       "    <tr style=\"text-align: right;\">\n",
       "      <th></th>\n",
       "      <th>0</th>\n",
       "      <th>1</th>\n",
       "      <th>2</th>\n",
       "      <th>3</th>\n",
       "      <th>4</th>\n",
       "      <th>5</th>\n",
       "      <th>6</th>\n",
       "      <th>7</th>\n",
       "      <th>8</th>\n",
       "      <th>9</th>\n",
       "      <th>...</th>\n",
       "      <th>90</th>\n",
       "      <th>91</th>\n",
       "      <th>92</th>\n",
       "      <th>93</th>\n",
       "      <th>94</th>\n",
       "      <th>95</th>\n",
       "      <th>96</th>\n",
       "      <th>97</th>\n",
       "      <th>98</th>\n",
       "      <th>99</th>\n",
       "    </tr>\n",
       "  </thead>\n",
       "  <tbody>\n",
       "    <tr>\n",
       "      <th>0</th>\n",
       "      <td>0.019402</td>\n",
       "      <td>0.009318</td>\n",
       "      <td>0.042714</td>\n",
       "      <td>0.027469</td>\n",
       "      <td>-0.006696</td>\n",
       "      <td>0.002419</td>\n",
       "      <td>0.049084</td>\n",
       "      <td>-0.016707</td>\n",
       "      <td>0.109402</td>\n",
       "      <td>0.176863</td>\n",
       "      <td>...</td>\n",
       "      <td>-0.008681</td>\n",
       "      <td>-0.000207</td>\n",
       "      <td>0.021157</td>\n",
       "      <td>0.012205</td>\n",
       "      <td>-0.007492</td>\n",
       "      <td>0.005819</td>\n",
       "      <td>-0.003898</td>\n",
       "      <td>-0.020796</td>\n",
       "      <td>-0.022655</td>\n",
       "      <td>-0.005060</td>\n",
       "    </tr>\n",
       "    <tr>\n",
       "      <th>1</th>\n",
       "      <td>0.064749</td>\n",
       "      <td>0.032958</td>\n",
       "      <td>0.220352</td>\n",
       "      <td>0.352304</td>\n",
       "      <td>-0.003107</td>\n",
       "      <td>-0.075516</td>\n",
       "      <td>-0.251444</td>\n",
       "      <td>-0.000273</td>\n",
       "      <td>-0.015620</td>\n",
       "      <td>-0.055853</td>\n",
       "      <td>...</td>\n",
       "      <td>-0.000315</td>\n",
       "      <td>-0.001249</td>\n",
       "      <td>0.001952</td>\n",
       "      <td>-0.002929</td>\n",
       "      <td>-0.003353</td>\n",
       "      <td>0.003666</td>\n",
       "      <td>-0.002991</td>\n",
       "      <td>-0.001855</td>\n",
       "      <td>0.000173</td>\n",
       "      <td>0.000248</td>\n",
       "    </tr>\n",
       "    <tr>\n",
       "      <th>2</th>\n",
       "      <td>0.008682</td>\n",
       "      <td>0.005477</td>\n",
       "      <td>0.012117</td>\n",
       "      <td>-0.003692</td>\n",
       "      <td>0.000731</td>\n",
       "      <td>-0.000047</td>\n",
       "      <td>0.007275</td>\n",
       "      <td>-0.002799</td>\n",
       "      <td>0.006003</td>\n",
       "      <td>0.006321</td>\n",
       "      <td>...</td>\n",
       "      <td>0.043334</td>\n",
       "      <td>-0.017116</td>\n",
       "      <td>-0.017299</td>\n",
       "      <td>-0.028493</td>\n",
       "      <td>-0.066934</td>\n",
       "      <td>0.085905</td>\n",
       "      <td>0.034165</td>\n",
       "      <td>-0.005057</td>\n",
       "      <td>-0.004446</td>\n",
       "      <td>-0.066670</td>\n",
       "    </tr>\n",
       "    <tr>\n",
       "      <th>3</th>\n",
       "      <td>0.044623</td>\n",
       "      <td>0.015965</td>\n",
       "      <td>0.059870</td>\n",
       "      <td>-0.025131</td>\n",
       "      <td>-0.036576</td>\n",
       "      <td>0.043438</td>\n",
       "      <td>0.036840</td>\n",
       "      <td>0.017324</td>\n",
       "      <td>0.234306</td>\n",
       "      <td>-0.186609</td>\n",
       "      <td>...</td>\n",
       "      <td>-0.000018</td>\n",
       "      <td>-0.032450</td>\n",
       "      <td>-0.074156</td>\n",
       "      <td>0.045907</td>\n",
       "      <td>0.038341</td>\n",
       "      <td>-0.006409</td>\n",
       "      <td>0.015295</td>\n",
       "      <td>-0.030294</td>\n",
       "      <td>0.036971</td>\n",
       "      <td>-0.033239</td>\n",
       "    </tr>\n",
       "    <tr>\n",
       "      <th>4</th>\n",
       "      <td>0.003610</td>\n",
       "      <td>0.004362</td>\n",
       "      <td>0.005623</td>\n",
       "      <td>-0.001545</td>\n",
       "      <td>0.002505</td>\n",
       "      <td>-0.001272</td>\n",
       "      <td>0.007182</td>\n",
       "      <td>-0.000399</td>\n",
       "      <td>-0.000614</td>\n",
       "      <td>0.002454</td>\n",
       "      <td>...</td>\n",
       "      <td>-0.145099</td>\n",
       "      <td>-0.023704</td>\n",
       "      <td>-0.025046</td>\n",
       "      <td>0.024063</td>\n",
       "      <td>0.014599</td>\n",
       "      <td>0.005986</td>\n",
       "      <td>-0.047592</td>\n",
       "      <td>0.034803</td>\n",
       "      <td>0.004755</td>\n",
       "      <td>-0.015941</td>\n",
       "    </tr>\n",
       "  </tbody>\n",
       "</table>\n",
       "<p>5 rows × 100 columns</p>\n",
       "</div>"
      ],
      "text/plain": [
       "         0         1         2         3         4         5         6   \\\n",
       "0  0.019402  0.009318  0.042714  0.027469 -0.006696  0.002419  0.049084   \n",
       "1  0.064749  0.032958  0.220352  0.352304 -0.003107 -0.075516 -0.251444   \n",
       "2  0.008682  0.005477  0.012117 -0.003692  0.000731 -0.000047  0.007275   \n",
       "3  0.044623  0.015965  0.059870 -0.025131 -0.036576  0.043438  0.036840   \n",
       "4  0.003610  0.004362  0.005623 -0.001545  0.002505 -0.001272  0.007182   \n",
       "\n",
       "         7         8         9   ...        90        91        92        93  \\\n",
       "0 -0.016707  0.109402  0.176863  ... -0.008681 -0.000207  0.021157  0.012205   \n",
       "1 -0.000273 -0.015620 -0.055853  ... -0.000315 -0.001249  0.001952 -0.002929   \n",
       "2 -0.002799  0.006003  0.006321  ...  0.043334 -0.017116 -0.017299 -0.028493   \n",
       "3  0.017324  0.234306 -0.186609  ... -0.000018 -0.032450 -0.074156  0.045907   \n",
       "4 -0.000399 -0.000614  0.002454  ... -0.145099 -0.023704 -0.025046  0.024063   \n",
       "\n",
       "         94        95        96        97        98        99  \n",
       "0 -0.007492  0.005819 -0.003898 -0.020796 -0.022655 -0.005060  \n",
       "1 -0.003353  0.003666 -0.002991 -0.001855  0.000173  0.000248  \n",
       "2 -0.066934  0.085905  0.034165 -0.005057 -0.004446 -0.066670  \n",
       "3  0.038341 -0.006409  0.015295 -0.030294  0.036971 -0.033239  \n",
       "4  0.014599  0.005986 -0.047592  0.034803  0.004755 -0.015941  \n",
       "\n",
       "[5 rows x 100 columns]"
      ]
     },
     "execution_count": 90,
     "metadata": {},
     "output_type": "execute_result"
    }
   ],
   "source": [
    "# Convert svdTFit array to df \n",
    "g_svdTFit = pd.DataFrame(g_svdTFit)\n",
    "g_svdTFit.head()"
   ]
  },
  {
   "cell_type": "code",
   "execution_count": 91,
   "metadata": {},
   "outputs": [
    {
     "data": {
      "text/plain": [
       "(11169, 100)"
      ]
     },
     "execution_count": 91,
     "metadata": {},
     "output_type": "execute_result"
    }
   ],
   "source": [
    "g_svdTFit.shape"
   ]
  },
  {
   "cell_type": "code",
   "execution_count": 92,
   "metadata": {},
   "outputs": [
    {
     "data": {
      "text/plain": [
       "(11169, 33)"
      ]
     },
     "execution_count": 92,
     "metadata": {},
     "output_type": "execute_result"
    }
   ],
   "source": [
    "gen.shape"
   ]
  },
  {
   "cell_type": "code",
   "execution_count": 93,
   "metadata": {},
   "outputs": [
    {
     "data": {
      "text/html": [
       "<div>\n",
       "<style scoped>\n",
       "    .dataframe tbody tr th:only-of-type {\n",
       "        vertical-align: middle;\n",
       "    }\n",
       "\n",
       "    .dataframe tbody tr th {\n",
       "        vertical-align: top;\n",
       "    }\n",
       "\n",
       "    .dataframe thead th {\n",
       "        text-align: right;\n",
       "    }\n",
       "</style>\n",
       "<table border=\"1\" class=\"dataframe\">\n",
       "  <thead>\n",
       "    <tr style=\"text-align: right;\">\n",
       "      <th></th>\n",
       "      <th>index</th>\n",
       "      <th>user_id</th>\n",
       "      <th>name</th>\n",
       "      <th>screen_name</th>\n",
       "      <th>statuses_count</th>\n",
       "      <th>followers_count</th>\n",
       "      <th>friends_count</th>\n",
       "      <th>favourites_count</th>\n",
       "      <th>listed_count</th>\n",
       "      <th>lang</th>\n",
       "      <th>...</th>\n",
       "      <th>90</th>\n",
       "      <th>91</th>\n",
       "      <th>92</th>\n",
       "      <th>93</th>\n",
       "      <th>94</th>\n",
       "      <th>95</th>\n",
       "      <th>96</th>\n",
       "      <th>97</th>\n",
       "      <th>98</th>\n",
       "      <th>99</th>\n",
       "    </tr>\n",
       "  </thead>\n",
       "  <tbody>\n",
       "    <tr>\n",
       "      <th>0</th>\n",
       "      <td>11636</td>\n",
       "      <td>334172394</td>\n",
       "      <td>Boston</td>\n",
       "      <td>boston103</td>\n",
       "      <td>11747</td>\n",
       "      <td>774</td>\n",
       "      <td>1991</td>\n",
       "      <td>1</td>\n",
       "      <td>2</td>\n",
       "      <td>en</td>\n",
       "      <td>...</td>\n",
       "      <td>1.588245e-03</td>\n",
       "      <td>1.631393e-02</td>\n",
       "      <td>-2.680517e-02</td>\n",
       "      <td>3.523064e-03</td>\n",
       "      <td>-3.233562e-03</td>\n",
       "      <td>2.462476e-02</td>\n",
       "      <td>2.925666e-02</td>\n",
       "      <td>-2.405309e-02</td>\n",
       "      <td>-1.805375e-02</td>\n",
       "      <td>5.784717e-03</td>\n",
       "    </tr>\n",
       "    <tr>\n",
       "      <th>1</th>\n",
       "      <td>11637</td>\n",
       "      <td>2353740900</td>\n",
       "      <td>Ronald Favalora</td>\n",
       "      <td>RonaldFavalora</td>\n",
       "      <td>79</td>\n",
       "      <td>3</td>\n",
       "      <td>36</td>\n",
       "      <td>0</td>\n",
       "      <td>0</td>\n",
       "      <td>en</td>\n",
       "      <td>...</td>\n",
       "      <td>-2.547765e-02</td>\n",
       "      <td>-4.651033e-02</td>\n",
       "      <td>-7.965155e-02</td>\n",
       "      <td>-7.093684e-02</td>\n",
       "      <td>-3.739783e-02</td>\n",
       "      <td>-6.339194e-03</td>\n",
       "      <td>-8.846440e-02</td>\n",
       "      <td>-4.422037e-02</td>\n",
       "      <td>2.301079e-02</td>\n",
       "      <td>8.124448e-02</td>\n",
       "    </tr>\n",
       "    <tr>\n",
       "      <th>2</th>\n",
       "      <td>11638</td>\n",
       "      <td>2352808358</td>\n",
       "      <td>Adriane Widger</td>\n",
       "      <td>AdrianeWidger</td>\n",
       "      <td>63</td>\n",
       "      <td>4</td>\n",
       "      <td>37</td>\n",
       "      <td>0</td>\n",
       "      <td>0</td>\n",
       "      <td>en</td>\n",
       "      <td>...</td>\n",
       "      <td>4.411198e-10</td>\n",
       "      <td>-8.693819e-10</td>\n",
       "      <td>2.763363e-10</td>\n",
       "      <td>1.825027e-10</td>\n",
       "      <td>5.576104e-10</td>\n",
       "      <td>-4.048670e-10</td>\n",
       "      <td>4.880429e-10</td>\n",
       "      <td>-8.292928e-10</td>\n",
       "      <td>4.254012e-10</td>\n",
       "      <td>-1.474276e-09</td>\n",
       "    </tr>\n",
       "    <tr>\n",
       "      <th>3</th>\n",
       "      <td>11639</td>\n",
       "      <td>2357369990</td>\n",
       "      <td>Deb Moisant</td>\n",
       "      <td>DebMoisant</td>\n",
       "      <td>53</td>\n",
       "      <td>7</td>\n",
       "      <td>41</td>\n",
       "      <td>0</td>\n",
       "      <td>0</td>\n",
       "      <td>en</td>\n",
       "      <td>...</td>\n",
       "      <td>5.628960e-03</td>\n",
       "      <td>-3.069243e-02</td>\n",
       "      <td>2.185736e-02</td>\n",
       "      <td>-4.890275e-03</td>\n",
       "      <td>-2.253710e-02</td>\n",
       "      <td>-9.110017e-03</td>\n",
       "      <td>2.791048e-02</td>\n",
       "      <td>1.114096e-02</td>\n",
       "      <td>-2.447222e-02</td>\n",
       "      <td>5.156154e-03</td>\n",
       "    </tr>\n",
       "    <tr>\n",
       "      <th>4</th>\n",
       "      <td>11640</td>\n",
       "      <td>195019019</td>\n",
       "      <td>Football iGuide</td>\n",
       "      <td>footballiguide</td>\n",
       "      <td>12704</td>\n",
       "      <td>634</td>\n",
       "      <td>1284</td>\n",
       "      <td>1</td>\n",
       "      <td>2</td>\n",
       "      <td>en</td>\n",
       "      <td>...</td>\n",
       "      <td>5.706984e-03</td>\n",
       "      <td>5.706830e-03</td>\n",
       "      <td>7.267053e-03</td>\n",
       "      <td>-1.263454e-02</td>\n",
       "      <td>1.152909e-02</td>\n",
       "      <td>1.475721e-02</td>\n",
       "      <td>-1.816519e-02</td>\n",
       "      <td>1.065247e-02</td>\n",
       "      <td>3.228039e-02</td>\n",
       "      <td>-4.596549e-03</td>\n",
       "    </tr>\n",
       "  </tbody>\n",
       "</table>\n",
       "<p>5 rows × 133 columns</p>\n",
       "</div>"
      ],
      "text/plain": [
       "   index     user_id             name     screen_name  statuses_count  \\\n",
       "0  11636   334172394          Boston        boston103           11747   \n",
       "1  11637  2353740900  Ronald Favalora  RonaldFavalora              79   \n",
       "2  11638  2352808358   Adriane Widger   AdrianeWidger              63   \n",
       "3  11639  2357369990      Deb Moisant      DebMoisant              53   \n",
       "4  11640   195019019  Football iGuide  footballiguide           12704   \n",
       "\n",
       "   followers_count  friends_count  favourites_count  listed_count lang  ...  \\\n",
       "0              774           1991                 1             2   en  ...   \n",
       "1                3             36                 0             0   en  ...   \n",
       "2                4             37                 0             0   en  ...   \n",
       "3                7             41                 0             0   en  ...   \n",
       "4              634           1284                 1             2   en  ...   \n",
       "\n",
       "             90            91            92            93            94  \\\n",
       "0  1.588245e-03  1.631393e-02 -2.680517e-02  3.523064e-03 -3.233562e-03   \n",
       "1 -2.547765e-02 -4.651033e-02 -7.965155e-02 -7.093684e-02 -3.739783e-02   \n",
       "2  4.411198e-10 -8.693819e-10  2.763363e-10  1.825027e-10  5.576104e-10   \n",
       "3  5.628960e-03 -3.069243e-02  2.185736e-02 -4.890275e-03 -2.253710e-02   \n",
       "4  5.706984e-03  5.706830e-03  7.267053e-03 -1.263454e-02  1.152909e-02   \n",
       "\n",
       "             95            96            97            98            99  \n",
       "0  2.462476e-02  2.925666e-02 -2.405309e-02 -1.805375e-02  5.784717e-03  \n",
       "1 -6.339194e-03 -8.846440e-02 -4.422037e-02  2.301079e-02  8.124448e-02  \n",
       "2 -4.048670e-10  4.880429e-10 -8.292928e-10  4.254012e-10 -1.474276e-09  \n",
       "3 -9.110017e-03  2.791048e-02  1.114096e-02 -2.447222e-02  5.156154e-03  \n",
       "4  1.475721e-02 -1.816519e-02  1.065247e-02  3.228039e-02 -4.596549e-03  \n",
       "\n",
       "[5 rows x 133 columns]"
      ]
     },
     "execution_count": 93,
     "metadata": {},
     "output_type": "execute_result"
    }
   ],
   "source": [
    "# Place the DataFrames side by side\n",
    "bots_tfid = pd.concat([bots, b_svdTFit], axis=1)\n",
    "bots_tfid.head()"
   ]
  },
  {
   "cell_type": "code",
   "execution_count": 94,
   "metadata": {},
   "outputs": [
    {
     "data": {
      "text/plain": [
       "(9958, 133)"
      ]
     },
     "execution_count": 94,
     "metadata": {},
     "output_type": "execute_result"
    }
   ],
   "source": [
    "bots_tfid.shape"
   ]
  },
  {
   "cell_type": "code",
   "execution_count": 95,
   "metadata": {},
   "outputs": [
    {
     "data": {
      "text/html": [
       "<div>\n",
       "<style scoped>\n",
       "    .dataframe tbody tr th:only-of-type {\n",
       "        vertical-align: middle;\n",
       "    }\n",
       "\n",
       "    .dataframe tbody tr th {\n",
       "        vertical-align: top;\n",
       "    }\n",
       "\n",
       "    .dataframe thead th {\n",
       "        text-align: right;\n",
       "    }\n",
       "</style>\n",
       "<table border=\"1\" class=\"dataframe\">\n",
       "  <thead>\n",
       "    <tr style=\"text-align: right;\">\n",
       "      <th></th>\n",
       "      <th>index</th>\n",
       "      <th>user_id</th>\n",
       "      <th>name</th>\n",
       "      <th>screen_name</th>\n",
       "      <th>statuses_count</th>\n",
       "      <th>followers_count</th>\n",
       "      <th>friends_count</th>\n",
       "      <th>favourites_count</th>\n",
       "      <th>listed_count</th>\n",
       "      <th>lang</th>\n",
       "      <th>...</th>\n",
       "      <th>90</th>\n",
       "      <th>91</th>\n",
       "      <th>92</th>\n",
       "      <th>93</th>\n",
       "      <th>94</th>\n",
       "      <th>95</th>\n",
       "      <th>96</th>\n",
       "      <th>97</th>\n",
       "      <th>98</th>\n",
       "      <th>99</th>\n",
       "    </tr>\n",
       "  </thead>\n",
       "  <tbody>\n",
       "    <tr>\n",
       "      <th>0</th>\n",
       "      <td>0</td>\n",
       "      <td>183760147</td>\n",
       "      <td>Jason Wilson</td>\n",
       "      <td>jasonwilsonok</td>\n",
       "      <td>1251</td>\n",
       "      <td>248</td>\n",
       "      <td>274</td>\n",
       "      <td>17</td>\n",
       "      <td>17</td>\n",
       "      <td>en</td>\n",
       "      <td>...</td>\n",
       "      <td>-0.008681</td>\n",
       "      <td>-0.000207</td>\n",
       "      <td>0.021157</td>\n",
       "      <td>0.012205</td>\n",
       "      <td>-0.007492</td>\n",
       "      <td>0.005819</td>\n",
       "      <td>-0.003898</td>\n",
       "      <td>-0.020796</td>\n",
       "      <td>-0.022655</td>\n",
       "      <td>-0.005060</td>\n",
       "    </tr>\n",
       "    <tr>\n",
       "      <th>1</th>\n",
       "      <td>1</td>\n",
       "      <td>14626600</td>\n",
       "      <td>Amy Delamaide</td>\n",
       "      <td>adelamaide</td>\n",
       "      <td>11816</td>\n",
       "      <td>1234</td>\n",
       "      <td>532</td>\n",
       "      <td>3576</td>\n",
       "      <td>95</td>\n",
       "      <td>en</td>\n",
       "      <td>...</td>\n",
       "      <td>-0.000315</td>\n",
       "      <td>-0.001249</td>\n",
       "      <td>0.001952</td>\n",
       "      <td>-0.002929</td>\n",
       "      <td>-0.003353</td>\n",
       "      <td>0.003666</td>\n",
       "      <td>-0.002991</td>\n",
       "      <td>-0.001855</td>\n",
       "      <td>0.000173</td>\n",
       "      <td>0.000248</td>\n",
       "    </tr>\n",
       "    <tr>\n",
       "      <th>2</th>\n",
       "      <td>2</td>\n",
       "      <td>544758247</td>\n",
       "      <td>Andre</td>\n",
       "      <td>dre_29</td>\n",
       "      <td>11656</td>\n",
       "      <td>95</td>\n",
       "      <td>92</td>\n",
       "      <td>3079</td>\n",
       "      <td>0</td>\n",
       "      <td>en</td>\n",
       "      <td>...</td>\n",
       "      <td>0.043334</td>\n",
       "      <td>-0.017116</td>\n",
       "      <td>-0.017299</td>\n",
       "      <td>-0.028493</td>\n",
       "      <td>-0.066934</td>\n",
       "      <td>0.085905</td>\n",
       "      <td>0.034165</td>\n",
       "      <td>-0.005057</td>\n",
       "      <td>-0.004446</td>\n",
       "      <td>-0.066670</td>\n",
       "    </tr>\n",
       "    <tr>\n",
       "      <th>3</th>\n",
       "      <td>3</td>\n",
       "      <td>14247395</td>\n",
       "      <td>Carlos Adama</td>\n",
       "      <td>Carlos_Adama</td>\n",
       "      <td>63440</td>\n",
       "      <td>986</td>\n",
       "      <td>658</td>\n",
       "      <td>161</td>\n",
       "      <td>40</td>\n",
       "      <td>en</td>\n",
       "      <td>...</td>\n",
       "      <td>-0.000018</td>\n",
       "      <td>-0.032450</td>\n",
       "      <td>-0.074156</td>\n",
       "      <td>0.045907</td>\n",
       "      <td>0.038341</td>\n",
       "      <td>-0.006409</td>\n",
       "      <td>0.015295</td>\n",
       "      <td>-0.030294</td>\n",
       "      <td>0.036971</td>\n",
       "      <td>-0.033239</td>\n",
       "    </tr>\n",
       "    <tr>\n",
       "      <th>4</th>\n",
       "      <td>4</td>\n",
       "      <td>2260257427</td>\n",
       "      <td>cutie raifay♡♡</td>\n",
       "      <td>raifamabilangan</td>\n",
       "      <td>9545</td>\n",
       "      <td>1030</td>\n",
       "      <td>1258</td>\n",
       "      <td>4497</td>\n",
       "      <td>0</td>\n",
       "      <td>en</td>\n",
       "      <td>...</td>\n",
       "      <td>-0.145099</td>\n",
       "      <td>-0.023704</td>\n",
       "      <td>-0.025046</td>\n",
       "      <td>0.024063</td>\n",
       "      <td>0.014599</td>\n",
       "      <td>0.005986</td>\n",
       "      <td>-0.047592</td>\n",
       "      <td>0.034803</td>\n",
       "      <td>0.004755</td>\n",
       "      <td>-0.015941</td>\n",
       "    </tr>\n",
       "  </tbody>\n",
       "</table>\n",
       "<p>5 rows × 133 columns</p>\n",
       "</div>"
      ],
      "text/plain": [
       "   index     user_id            name      screen_name  statuses_count  \\\n",
       "0      0   183760147    Jason Wilson    jasonwilsonok            1251   \n",
       "1      1    14626600   Amy Delamaide       adelamaide           11816   \n",
       "2      2   544758247           Andre           dre_29           11656   \n",
       "3      3    14247395    Carlos Adama     Carlos_Adama           63440   \n",
       "4      4  2260257427  cutie raifay♡♡  raifamabilangan            9545   \n",
       "\n",
       "   followers_count  friends_count  favourites_count  listed_count lang  ...  \\\n",
       "0              248            274                17            17   en  ...   \n",
       "1             1234            532              3576            95   en  ...   \n",
       "2               95             92              3079             0   en  ...   \n",
       "3              986            658               161            40   en  ...   \n",
       "4             1030           1258              4497             0   en  ...   \n",
       "\n",
       "         90        91        92        93        94        95        96  \\\n",
       "0 -0.008681 -0.000207  0.021157  0.012205 -0.007492  0.005819 -0.003898   \n",
       "1 -0.000315 -0.001249  0.001952 -0.002929 -0.003353  0.003666 -0.002991   \n",
       "2  0.043334 -0.017116 -0.017299 -0.028493 -0.066934  0.085905  0.034165   \n",
       "3 -0.000018 -0.032450 -0.074156  0.045907  0.038341 -0.006409  0.015295   \n",
       "4 -0.145099 -0.023704 -0.025046  0.024063  0.014599  0.005986 -0.047592   \n",
       "\n",
       "         97        98        99  \n",
       "0 -0.020796 -0.022655 -0.005060  \n",
       "1 -0.001855  0.000173  0.000248  \n",
       "2 -0.005057 -0.004446 -0.066670  \n",
       "3 -0.030294  0.036971 -0.033239  \n",
       "4  0.034803  0.004755 -0.015941  \n",
       "\n",
       "[5 rows x 133 columns]"
      ]
     },
     "execution_count": 95,
     "metadata": {},
     "output_type": "execute_result"
    }
   ],
   "source": [
    "# Join Tfid with class df \n",
    "gen_tfid = pd.concat([gen, g_svdTFit], axis =1)\n",
    "gen_tfid.head()"
   ]
  },
  {
   "cell_type": "code",
   "execution_count": 96,
   "metadata": {},
   "outputs": [
    {
     "data": {
      "text/plain": [
       "(11169, 133)"
      ]
     },
     "execution_count": 96,
     "metadata": {},
     "output_type": "execute_result"
    }
   ],
   "source": [
    "gen_tfid.shape"
   ]
  },
  {
   "cell_type": "code",
   "execution_count": 97,
   "metadata": {},
   "outputs": [
    {
     "data": {
      "text/html": [
       "<div>\n",
       "<style scoped>\n",
       "    .dataframe tbody tr th:only-of-type {\n",
       "        vertical-align: middle;\n",
       "    }\n",
       "\n",
       "    .dataframe tbody tr th {\n",
       "        vertical-align: top;\n",
       "    }\n",
       "\n",
       "    .dataframe thead th {\n",
       "        text-align: right;\n",
       "    }\n",
       "</style>\n",
       "<table border=\"1\" class=\"dataframe\">\n",
       "  <thead>\n",
       "    <tr style=\"text-align: right;\">\n",
       "      <th></th>\n",
       "      <th>index</th>\n",
       "      <th>user_id</th>\n",
       "      <th>name</th>\n",
       "      <th>screen_name</th>\n",
       "      <th>statuses_count</th>\n",
       "      <th>followers_count</th>\n",
       "      <th>friends_count</th>\n",
       "      <th>favourites_count</th>\n",
       "      <th>listed_count</th>\n",
       "      <th>lang</th>\n",
       "      <th>...</th>\n",
       "      <th>90</th>\n",
       "      <th>91</th>\n",
       "      <th>92</th>\n",
       "      <th>93</th>\n",
       "      <th>94</th>\n",
       "      <th>95</th>\n",
       "      <th>96</th>\n",
       "      <th>97</th>\n",
       "      <th>98</th>\n",
       "      <th>99</th>\n",
       "    </tr>\n",
       "  </thead>\n",
       "  <tbody>\n",
       "    <tr>\n",
       "      <th>0</th>\n",
       "      <td>11636</td>\n",
       "      <td>334172394</td>\n",
       "      <td>Boston</td>\n",
       "      <td>boston103</td>\n",
       "      <td>11747</td>\n",
       "      <td>774</td>\n",
       "      <td>1991</td>\n",
       "      <td>1</td>\n",
       "      <td>2</td>\n",
       "      <td>en</td>\n",
       "      <td>...</td>\n",
       "      <td>1.588245e-03</td>\n",
       "      <td>1.631393e-02</td>\n",
       "      <td>-2.680517e-02</td>\n",
       "      <td>3.523064e-03</td>\n",
       "      <td>-3.233562e-03</td>\n",
       "      <td>2.462476e-02</td>\n",
       "      <td>2.925666e-02</td>\n",
       "      <td>-2.405309e-02</td>\n",
       "      <td>-1.805375e-02</td>\n",
       "      <td>5.784717e-03</td>\n",
       "    </tr>\n",
       "    <tr>\n",
       "      <th>1</th>\n",
       "      <td>11637</td>\n",
       "      <td>2353740900</td>\n",
       "      <td>Ronald Favalora</td>\n",
       "      <td>RonaldFavalora</td>\n",
       "      <td>79</td>\n",
       "      <td>3</td>\n",
       "      <td>36</td>\n",
       "      <td>0</td>\n",
       "      <td>0</td>\n",
       "      <td>en</td>\n",
       "      <td>...</td>\n",
       "      <td>-2.547765e-02</td>\n",
       "      <td>-4.651033e-02</td>\n",
       "      <td>-7.965155e-02</td>\n",
       "      <td>-7.093684e-02</td>\n",
       "      <td>-3.739783e-02</td>\n",
       "      <td>-6.339194e-03</td>\n",
       "      <td>-8.846440e-02</td>\n",
       "      <td>-4.422037e-02</td>\n",
       "      <td>2.301079e-02</td>\n",
       "      <td>8.124448e-02</td>\n",
       "    </tr>\n",
       "    <tr>\n",
       "      <th>2</th>\n",
       "      <td>11638</td>\n",
       "      <td>2352808358</td>\n",
       "      <td>Adriane Widger</td>\n",
       "      <td>AdrianeWidger</td>\n",
       "      <td>63</td>\n",
       "      <td>4</td>\n",
       "      <td>37</td>\n",
       "      <td>0</td>\n",
       "      <td>0</td>\n",
       "      <td>en</td>\n",
       "      <td>...</td>\n",
       "      <td>4.411198e-10</td>\n",
       "      <td>-8.693819e-10</td>\n",
       "      <td>2.763363e-10</td>\n",
       "      <td>1.825027e-10</td>\n",
       "      <td>5.576104e-10</td>\n",
       "      <td>-4.048670e-10</td>\n",
       "      <td>4.880429e-10</td>\n",
       "      <td>-8.292928e-10</td>\n",
       "      <td>4.254012e-10</td>\n",
       "      <td>-1.474276e-09</td>\n",
       "    </tr>\n",
       "    <tr>\n",
       "      <th>3</th>\n",
       "      <td>11639</td>\n",
       "      <td>2357369990</td>\n",
       "      <td>Deb Moisant</td>\n",
       "      <td>DebMoisant</td>\n",
       "      <td>53</td>\n",
       "      <td>7</td>\n",
       "      <td>41</td>\n",
       "      <td>0</td>\n",
       "      <td>0</td>\n",
       "      <td>en</td>\n",
       "      <td>...</td>\n",
       "      <td>5.628960e-03</td>\n",
       "      <td>-3.069243e-02</td>\n",
       "      <td>2.185736e-02</td>\n",
       "      <td>-4.890275e-03</td>\n",
       "      <td>-2.253710e-02</td>\n",
       "      <td>-9.110017e-03</td>\n",
       "      <td>2.791048e-02</td>\n",
       "      <td>1.114096e-02</td>\n",
       "      <td>-2.447222e-02</td>\n",
       "      <td>5.156154e-03</td>\n",
       "    </tr>\n",
       "    <tr>\n",
       "      <th>4</th>\n",
       "      <td>11640</td>\n",
       "      <td>195019019</td>\n",
       "      <td>Football iGuide</td>\n",
       "      <td>footballiguide</td>\n",
       "      <td>12704</td>\n",
       "      <td>634</td>\n",
       "      <td>1284</td>\n",
       "      <td>1</td>\n",
       "      <td>2</td>\n",
       "      <td>en</td>\n",
       "      <td>...</td>\n",
       "      <td>5.706984e-03</td>\n",
       "      <td>5.706830e-03</td>\n",
       "      <td>7.267053e-03</td>\n",
       "      <td>-1.263454e-02</td>\n",
       "      <td>1.152909e-02</td>\n",
       "      <td>1.475721e-02</td>\n",
       "      <td>-1.816519e-02</td>\n",
       "      <td>1.065247e-02</td>\n",
       "      <td>3.228039e-02</td>\n",
       "      <td>-4.596549e-03</td>\n",
       "    </tr>\n",
       "  </tbody>\n",
       "</table>\n",
       "<p>5 rows × 133 columns</p>\n",
       "</div>"
      ],
      "text/plain": [
       "   index     user_id             name     screen_name  statuses_count  \\\n",
       "0  11636   334172394          Boston        boston103           11747   \n",
       "1  11637  2353740900  Ronald Favalora  RonaldFavalora              79   \n",
       "2  11638  2352808358   Adriane Widger   AdrianeWidger              63   \n",
       "3  11639  2357369990      Deb Moisant      DebMoisant              53   \n",
       "4  11640   195019019  Football iGuide  footballiguide           12704   \n",
       "\n",
       "   followers_count  friends_count  favourites_count  listed_count lang  ...  \\\n",
       "0              774           1991                 1             2   en  ...   \n",
       "1                3             36                 0             0   en  ...   \n",
       "2                4             37                 0             0   en  ...   \n",
       "3                7             41                 0             0   en  ...   \n",
       "4              634           1284                 1             2   en  ...   \n",
       "\n",
       "             90            91            92            93            94  \\\n",
       "0  1.588245e-03  1.631393e-02 -2.680517e-02  3.523064e-03 -3.233562e-03   \n",
       "1 -2.547765e-02 -4.651033e-02 -7.965155e-02 -7.093684e-02 -3.739783e-02   \n",
       "2  4.411198e-10 -8.693819e-10  2.763363e-10  1.825027e-10  5.576104e-10   \n",
       "3  5.628960e-03 -3.069243e-02  2.185736e-02 -4.890275e-03 -2.253710e-02   \n",
       "4  5.706984e-03  5.706830e-03  7.267053e-03 -1.263454e-02  1.152909e-02   \n",
       "\n",
       "             95            96            97            98            99  \n",
       "0  2.462476e-02  2.925666e-02 -2.405309e-02 -1.805375e-02  5.784717e-03  \n",
       "1 -6.339194e-03 -8.846440e-02 -4.422037e-02  2.301079e-02  8.124448e-02  \n",
       "2 -4.048670e-10  4.880429e-10 -8.292928e-10  4.254012e-10 -1.474276e-09  \n",
       "3 -9.110017e-03  2.791048e-02  1.114096e-02 -2.447222e-02  5.156154e-03  \n",
       "4  1.475721e-02 -1.816519e-02  1.065247e-02  3.228039e-02 -4.596549e-03  \n",
       "\n",
       "[5 rows x 133 columns]"
      ]
     },
     "execution_count": 97,
     "metadata": {},
     "output_type": "execute_result"
    }
   ],
   "source": [
    "# Concatenate bots_tfid and gen_tfid to create df for modeling \n",
    "df_clean = pd.concat([bots_tfid, gen_tfid], ignore_index=True)\n",
    "\n",
    "df_clean.head()"
   ]
  },
  {
   "cell_type": "code",
   "execution_count": 98,
   "metadata": {},
   "outputs": [
    {
     "name": "stdout",
     "output_type": "stream",
     "text": [
      "<class 'pandas.core.frame.DataFrame'>\n",
      "RangeIndex: 21127 entries, 0 to 21126\n",
      "Data columns (total 133 columns):\n",
      "index               int64\n",
      "user_id             int64\n",
      "name                object\n",
      "screen_name         object\n",
      "statuses_count      int64\n",
      "followers_count     int64\n",
      "friends_count       int64\n",
      "favourites_count    int64\n",
      "listed_count        int64\n",
      "lang                object\n",
      "u_created_at        datetime64[ns, UTC]\n",
      "u_timestamp         datetime64[ns]\n",
      "class               int64\n",
      "text                object\n",
      "retweet_count       int64\n",
      "reply_count         int64\n",
      "favorite_count      int64\n",
      "num_hashtags        int64\n",
      "num_urls            int64\n",
      "num_mentions        int64\n",
      "t_created_at        datetime64[ns, UTC]\n",
      "t_timestamp         datetime64[ns]\n",
      "account_age_yr      int64\n",
      "digit_in_name       int64\n",
      "user_name_len       int64\n",
      "tweet_hour          int64\n",
      "tweet_month         int64\n",
      "tweet_day           int64\n",
      "tweet_year          int64\n",
      "tweet_length        int64\n",
      "num_of_words        int64\n",
      "t_month_year        datetime64[ns]\n",
      "clean_tweets        object\n",
      "0                   float64\n",
      "1                   float64\n",
      "2                   float64\n",
      "3                   float64\n",
      "4                   float64\n",
      "5                   float64\n",
      "6                   float64\n",
      "7                   float64\n",
      "8                   float64\n",
      "9                   float64\n",
      "10                  float64\n",
      "11                  float64\n",
      "12                  float64\n",
      "13                  float64\n",
      "14                  float64\n",
      "15                  float64\n",
      "16                  float64\n",
      "17                  float64\n",
      "18                  float64\n",
      "19                  float64\n",
      "20                  float64\n",
      "21                  float64\n",
      "22                  float64\n",
      "23                  float64\n",
      "24                  float64\n",
      "25                  float64\n",
      "26                  float64\n",
      "27                  float64\n",
      "28                  float64\n",
      "29                  float64\n",
      "30                  float64\n",
      "31                  float64\n",
      "32                  float64\n",
      "33                  float64\n",
      "34                  float64\n",
      "35                  float64\n",
      "36                  float64\n",
      "37                  float64\n",
      "38                  float64\n",
      "39                  float64\n",
      "40                  float64\n",
      "41                  float64\n",
      "42                  float64\n",
      "43                  float64\n",
      "44                  float64\n",
      "45                  float64\n",
      "46                  float64\n",
      "47                  float64\n",
      "48                  float64\n",
      "49                  float64\n",
      "50                  float64\n",
      "51                  float64\n",
      "52                  float64\n",
      "53                  float64\n",
      "54                  float64\n",
      "55                  float64\n",
      "56                  float64\n",
      "57                  float64\n",
      "58                  float64\n",
      "59                  float64\n",
      "60                  float64\n",
      "61                  float64\n",
      "62                  float64\n",
      "63                  float64\n",
      "64                  float64\n",
      "65                  float64\n",
      "66                  float64\n",
      "67                  float64\n",
      "68                  float64\n",
      "69                  float64\n",
      "70                  float64\n",
      "71                  float64\n",
      "72                  float64\n",
      "73                  float64\n",
      "74                  float64\n",
      "75                  float64\n",
      "76                  float64\n",
      "77                  float64\n",
      "78                  float64\n",
      "79                  float64\n",
      "80                  float64\n",
      "81                  float64\n",
      "82                  float64\n",
      "83                  float64\n",
      "84                  float64\n",
      "85                  float64\n",
      "86                  float64\n",
      "87                  float64\n",
      "88                  float64\n",
      "89                  float64\n",
      "90                  float64\n",
      "91                  float64\n",
      "92                  float64\n",
      "93                  float64\n",
      "94                  float64\n",
      "95                  float64\n",
      "96                  float64\n",
      "97                  float64\n",
      "98                  float64\n",
      "99                  float64\n",
      "dtypes: datetime64[ns, UTC](2), datetime64[ns](3), float64(100), int64(23), object(5)\n",
      "memory usage: 21.4+ MB\n"
     ]
    }
   ],
   "source": [
    "df_clean.info(verbose=1)"
   ]
  },
  {
   "cell_type": "code",
   "execution_count": 99,
   "metadata": {},
   "outputs": [],
   "source": [
    "# Drop unwanted columns \n",
    "df_clean = df_clean.drop(columns=['index','user_id','name','screen_name','lang','text','t_created_at','t_timestamp','u_created_at', 'u_timestamp', 't_month_year', \n",
    "                                    'clean_tweets'])"
   ]
  },
  {
   "cell_type": "code",
   "execution_count": 100,
   "metadata": {},
   "outputs": [
    {
     "data": {
      "text/plain": [
       "(21127, 121)"
      ]
     },
     "execution_count": 100,
     "metadata": {},
     "output_type": "execute_result"
    }
   ],
   "source": [
    "df_clean.shape"
   ]
  },
  {
   "cell_type": "code",
   "execution_count": 101,
   "metadata": {},
   "outputs": [
    {
     "data": {
      "text/plain": [
       "0"
      ]
     },
     "execution_count": 101,
     "metadata": {},
     "output_type": "execute_result"
    }
   ],
   "source": [
    "# Check for null values \n",
    "df_clean.isnull().sum().sum()"
   ]
  },
  {
   "cell_type": "markdown",
   "metadata": {},
   "source": [
    "# Evaluating and Comparing Machine Learning Models\n",
    "In this section we will build, train, and evaluate several machine learning methods to classify tweets. We'll start with supervised learning algorithms, then move to unsupervised learning models for tweeter segmentation. \n",
    "\n",
    "\n",
    "## Supervised Learning: Building a Bot Classifer "
   ]
  },
  {
   "cell_type": "markdown",
   "metadata": {},
   "source": [
    "### Split Train and Test set¶\n",
    "Let's split dataset by using function train_test_split(). Here, the Dataset is broken into two parts in a ratio of 70:30. It means 70% data will be used for model training and 30% for model testing.\n",
    "\n",
    "To continue feature selection, we will start by using the original attributes in the raw training set."
   ]
  },
  {
   "cell_type": "code",
   "execution_count": 102,
   "metadata": {},
   "outputs": [],
   "source": [
    "# Set variables \n",
    "y = df_clean['class']\n",
    "X = df_clean.drop(columns=['class'])"
   ]
  },
  {
   "cell_type": "code",
   "execution_count": 132,
   "metadata": {},
   "outputs": [
    {
     "name": "stdout",
     "output_type": "stream",
     "text": [
      "False\n"
     ]
    }
   ],
   "source": [
    "print(np.any(np.isnan(X)))"
   ]
  },
  {
   "cell_type": "code",
   "execution_count": 133,
   "metadata": {},
   "outputs": [
    {
     "name": "stdout",
     "output_type": "stream",
     "text": [
      "True\n"
     ]
    }
   ],
   "source": [
    "print(np.all(np.isfinite(X)))"
   ]
  },
  {
   "cell_type": "code",
   "execution_count": 130,
   "metadata": {},
   "outputs": [],
   "source": [
    "X_train, X_test, y_train, y_test = train_test_split(X, y, test_size=0.3, random_state=42, stratify=y)"
   ]
  },
  {
   "cell_type": "markdown",
   "metadata": {},
   "source": [
    "### Metric \n",
    "We will evaluate our models based on their predicted probability __ROC AUC score__. ROC AUC \"summarize the trade-off between the true positive rate and false positive rate for a predictive model using different probability thresholds\"[Brownlee](https://machinelearningmastery.com/roc-curves-and-precision-recall-curves-for-classification-in-python/).\n",
    "\n",
    "We’ll also focus on the __false positive rate__(FPR) and __false negative rate__(FNR). False positive rate is identifying genuine tweets as robot tweets. This could lead to disregarding value customer behavior information which can provide misleading data for future marketing campaigns and lower customer satisfaction. False negative rate is failure to label true robot tweets as bots tweets, which results in obtaining false customer information. \n",
    "\n",
    "FPR and FNR are reflected in the following metrics: \n",
    "\n",
    " * __Accuracy__: ratio of properly labeled accounts \n",
    "\n",
    " * __Precision__: ratio of correctly predicted positive observations to the total predicted positive observations. The question that this metric answer is of all tweets that are labeled as bots, how many are actually bots? High precision relates to the low false positive rate. \n",
    "\n",
    " * __Recall (Sensitivity)__: ratio of correctly predicted positive observations to the all observations in actual class - yes. The question recall answers is: Of all the tweets that were genereated by bots, how many did we label? \n",
    "\n",
    " \n",
    "### Model  Selection\n",
    "\n",
    "We will compare three different machine learning models:\n",
    "\n",
    "__Logistic Regression__\n",
    " * Serve as a baseline model since our task is binary \n",
    " * Assumes features are independent and captures linear relationships \n",
    " * Not being able to capture non-linear relationships may result in poor performance\n",
    "\n",
    "__Random Forest Classifer__\n",
    " * Ensemble model which aggregates several decision trees to reduce effects of noise \n",
    " * Handles higher dimensionality well and provides importance of variables for feature selection \n",
    " * Will tune parameters by selecting number of trees/estimators \n",
    "\n",
    "__Multiple-Perceptron-Classifer__\n",
    " * Deep Learning model that trains using backpropagation \n",
    " * Able to capture non-linear models\n",
    " * Will tune parameters by selecting features like hidden layers\n",
    "\n",
    "We will fit these models the appropiate training set.\n",
    "\n",
    "### Logistic Regression \n",
    "First, we'll create the model and train the model and make predictions on the testing data."
   ]
  },
  {
   "cell_type": "code",
   "execution_count": 104,
   "metadata": {},
   "outputs": [],
   "source": [
    "# Function to plot ROC curve \n",
    "def roc_curve(model, X_train, y_train, X_test, y_test):\n",
    "    y_pred_proba = model.predict_proba(X_train)[:, 1]\n",
    "    y_pred_proba2 = model.predict_proba(X_test)[:, 1]\n",
    "    fpr, tpr, thresholds = metrics.roc_curve(y_train, y_pred_proba)\n",
    "    fpr2, tpr2, thresholds = metrics.roc_curve(y_test, y_pred_proba2)\n",
    "\n",
    "    model_auc = metrics.roc_auc_score(y_train, y_pred_proba)\n",
    "    model_auc2 = metrics.roc_auc_score(y_test, y_pred_proba2)\n",
    "\n",
    "    fig, ax = plt.subplots()\n",
    "    ax.plot(fpr, tpr, label=\"Train, auc=\"+str(round(model_auc,4)))\n",
    "    ax.plot(fpr2, tpr2, label=\"Test, auc=\"+str(round(model_auc2,4)))\n",
    "\n",
    "    plt.title('ROC curve')\n",
    "    ax.legend(loc=4)\n",
    "    plt.xlabel('False Positive Rate')\n",
    "    plt.ylabel('True Positive Rate')\n",
    "\n",
    "    plt.show()"
   ]
  },
  {
   "cell_type": "code",
   "execution_count": 105,
   "metadata": {},
   "outputs": [
    {
     "name": "stderr",
     "output_type": "stream",
     "text": [
      "/Users/tsawaengsri/anaconda3/lib/python3.6/site-packages/sklearn/linear_model/logistic.py:433: FutureWarning: Default solver will be changed to 'lbfgs' in 0.22. Specify a solver to silence this warning.\n",
      "  FutureWarning)\n",
      "/Users/tsawaengsri/anaconda3/lib/python3.6/site-packages/sklearn/linear_model/logistic.py:433: FutureWarning: Default solver will be changed to 'lbfgs' in 0.22. Specify a solver to silence this warning.\n",
      "  FutureWarning)\n",
      "/Users/tsawaengsri/anaconda3/lib/python3.6/site-packages/sklearn/linear_model/logistic.py:433: FutureWarning: Default solver will be changed to 'lbfgs' in 0.22. Specify a solver to silence this warning.\n",
      "  FutureWarning)\n",
      "/Users/tsawaengsri/anaconda3/lib/python3.6/site-packages/sklearn/linear_model/logistic.py:433: FutureWarning: Default solver will be changed to 'lbfgs' in 0.22. Specify a solver to silence this warning.\n",
      "  FutureWarning)\n",
      "/Users/tsawaengsri/anaconda3/lib/python3.6/site-packages/sklearn/linear_model/logistic.py:433: FutureWarning: Default solver will be changed to 'lbfgs' in 0.22. Specify a solver to silence this warning.\n",
      "  FutureWarning)\n",
      "/Users/tsawaengsri/anaconda3/lib/python3.6/site-packages/sklearn/linear_model/logistic.py:433: FutureWarning: Default solver will be changed to 'lbfgs' in 0.22. Specify a solver to silence this warning.\n",
      "  FutureWarning)\n",
      "/Users/tsawaengsri/anaconda3/lib/python3.6/site-packages/sklearn/linear_model/logistic.py:433: FutureWarning: Default solver will be changed to 'lbfgs' in 0.22. Specify a solver to silence this warning.\n",
      "  FutureWarning)\n",
      "/Users/tsawaengsri/anaconda3/lib/python3.6/site-packages/sklearn/linear_model/logistic.py:433: FutureWarning: Default solver will be changed to 'lbfgs' in 0.22. Specify a solver to silence this warning.\n",
      "  FutureWarning)\n",
      "/Users/tsawaengsri/anaconda3/lib/python3.6/site-packages/sklearn/linear_model/logistic.py:433: FutureWarning: Default solver will be changed to 'lbfgs' in 0.22. Specify a solver to silence this warning.\n",
      "  FutureWarning)\n",
      "/Users/tsawaengsri/anaconda3/lib/python3.6/site-packages/sklearn/linear_model/logistic.py:433: FutureWarning: Default solver will be changed to 'lbfgs' in 0.22. Specify a solver to silence this warning.\n",
      "  FutureWarning)\n",
      "/Users/tsawaengsri/anaconda3/lib/python3.6/site-packages/sklearn/linear_model/logistic.py:433: FutureWarning: Default solver will be changed to 'lbfgs' in 0.22. Specify a solver to silence this warning.\n",
      "  FutureWarning)\n"
     ]
    },
    {
     "name": "stdout",
     "output_type": "stream",
     "text": [
      "[0.97987172 0.98756087 0.98169723 0.98172108 0.98584544 0.98554639\n",
      " 0.98790945 0.98381445 0.98460569 0.98623881]\n"
     ]
    }
   ],
   "source": [
    "# Logistic Regression Model \n",
    "lr = LogisticRegression()\n",
    "\n",
    "# Fit and predict \n",
    "lr.fit(X_train, y_train)\n",
    "lr_y_pred = lr.predict(X_test)\n",
    "\n",
    "# CV to check if overfitting \n",
    "print(cross_val_score(lr, X_train, y_train, cv=10, scoring='roc_auc'))"
   ]
  },
  {
   "cell_type": "code",
   "execution_count": 106,
   "metadata": {},
   "outputs": [
    {
     "name": "stdout",
     "output_type": "stream",
     "text": [
      "ROC_AUC: 95.29%\n",
      "Accuracy: 95.19%\n",
      "Recall: 97.02%\n",
      "Precision: 93.07%\n",
      "[[3135  216]\n",
      " [  89 2899]]\n"
     ]
    }
   ],
   "source": [
    "# Calculate metrics\n",
    "lr_roc_auc = roc_auc_score(y_test, lr_y_pred)\n",
    "lr_accuracy = accuracy_score(y_test, lr_y_pred)\n",
    "lr_recall = recall_score(y_test, lr_y_pred)\n",
    "lr_precision = precision_score(y_test, lr_y_pred)\n",
    "\n",
    "# Print metrics\n",
    "print(\"ROC_AUC: %.2f%%\" % (lr_roc_auc * 100.0))\n",
    "print(\"Accuracy: %.2f%%\" % (lr_accuracy * 100.0))\n",
    "print('Recall: %.2f%%' % (lr_recall * 100.0))\n",
    "print('Precision: %.2f%%' % (lr_precision * 100.0))\n",
    "print(confusion_matrix(y_test, lr_y_pred))"
   ]
  },
  {
   "cell_type": "markdown",
   "metadata": {},
   "source": [
    "#### Optimized Logistic Regression Model \n",
    "Now, we will perform hyperparamter tuning and use GridSearch Cross Validation to find the best parameters for optimal performance.\n",
    "\n",
    "* __penalty__: penaltize large coefficents to avoid overfitting \n",
    " - 'l1' sum of the absolute values of the coefficients\n",
    " - 'l2' the sum of the squared of the coefficients\n",
    "* __C__: Inverse of regularization strength; values specify stronger regularization\n",
    "* __max_iter__: Maximum number of iterations taken for the solvers to converge"
   ]
  },
  {
   "cell_type": "code",
   "execution_count": 112,
   "metadata": {},
   "outputs": [
    {
     "name": "stderr",
     "output_type": "stream",
     "text": [
      "/Users/tsawaengsri/anaconda3/lib/python3.6/site-packages/sklearn/linear_model/logistic.py:433: FutureWarning: Default solver will be changed to 'lbfgs' in 0.22. Specify a solver to silence this warning.\n",
      "  FutureWarning)\n",
      "/Users/tsawaengsri/anaconda3/lib/python3.6/site-packages/sklearn/linear_model/logistic.py:433: FutureWarning: Default solver will be changed to 'lbfgs' in 0.22. Specify a solver to silence this warning.\n",
      "  FutureWarning)\n",
      "/Users/tsawaengsri/anaconda3/lib/python3.6/site-packages/sklearn/linear_model/logistic.py:433: FutureWarning: Default solver will be changed to 'lbfgs' in 0.22. Specify a solver to silence this warning.\n",
      "  FutureWarning)\n",
      "/Users/tsawaengsri/anaconda3/lib/python3.6/site-packages/sklearn/linear_model/logistic.py:433: FutureWarning: Default solver will be changed to 'lbfgs' in 0.22. Specify a solver to silence this warning.\n",
      "  FutureWarning)\n",
      "/Users/tsawaengsri/anaconda3/lib/python3.6/site-packages/sklearn/linear_model/logistic.py:433: FutureWarning: Default solver will be changed to 'lbfgs' in 0.22. Specify a solver to silence this warning.\n",
      "  FutureWarning)\n",
      "/Users/tsawaengsri/anaconda3/lib/python3.6/site-packages/sklearn/linear_model/logistic.py:433: FutureWarning: Default solver will be changed to 'lbfgs' in 0.22. Specify a solver to silence this warning.\n",
      "  FutureWarning)\n",
      "/Users/tsawaengsri/anaconda3/lib/python3.6/site-packages/sklearn/linear_model/logistic.py:433: FutureWarning: Default solver will be changed to 'lbfgs' in 0.22. Specify a solver to silence this warning.\n",
      "  FutureWarning)\n",
      "/Users/tsawaengsri/anaconda3/lib/python3.6/site-packages/sklearn/linear_model/logistic.py:433: FutureWarning: Default solver will be changed to 'lbfgs' in 0.22. Specify a solver to silence this warning.\n",
      "  FutureWarning)\n",
      "/Users/tsawaengsri/anaconda3/lib/python3.6/site-packages/sklearn/linear_model/logistic.py:433: FutureWarning: Default solver will be changed to 'lbfgs' in 0.22. Specify a solver to silence this warning.\n",
      "  FutureWarning)\n",
      "/Users/tsawaengsri/anaconda3/lib/python3.6/site-packages/sklearn/linear_model/logistic.py:433: FutureWarning: Default solver will be changed to 'lbfgs' in 0.22. Specify a solver to silence this warning.\n",
      "  FutureWarning)\n",
      "/Users/tsawaengsri/anaconda3/lib/python3.6/site-packages/sklearn/linear_model/logistic.py:433: FutureWarning: Default solver will be changed to 'lbfgs' in 0.22. Specify a solver to silence this warning.\n",
      "  FutureWarning)\n",
      "/Users/tsawaengsri/anaconda3/lib/python3.6/site-packages/sklearn/linear_model/logistic.py:433: FutureWarning: Default solver will be changed to 'lbfgs' in 0.22. Specify a solver to silence this warning.\n",
      "  FutureWarning)\n",
      "/Users/tsawaengsri/anaconda3/lib/python3.6/site-packages/sklearn/linear_model/logistic.py:433: FutureWarning: Default solver will be changed to 'lbfgs' in 0.22. Specify a solver to silence this warning.\n",
      "  FutureWarning)\n",
      "/Users/tsawaengsri/anaconda3/lib/python3.6/site-packages/sklearn/linear_model/logistic.py:433: FutureWarning: Default solver will be changed to 'lbfgs' in 0.22. Specify a solver to silence this warning.\n",
      "  FutureWarning)\n",
      "/Users/tsawaengsri/anaconda3/lib/python3.6/site-packages/sklearn/linear_model/logistic.py:433: FutureWarning: Default solver will be changed to 'lbfgs' in 0.22. Specify a solver to silence this warning.\n",
      "  FutureWarning)\n",
      "/Users/tsawaengsri/anaconda3/lib/python3.6/site-packages/sklearn/linear_model/logistic.py:433: FutureWarning: Default solver will be changed to 'lbfgs' in 0.22. Specify a solver to silence this warning.\n",
      "  FutureWarning)\n",
      "/Users/tsawaengsri/anaconda3/lib/python3.6/site-packages/sklearn/linear_model/logistic.py:433: FutureWarning: Default solver will be changed to 'lbfgs' in 0.22. Specify a solver to silence this warning.\n",
      "  FutureWarning)\n",
      "/Users/tsawaengsri/anaconda3/lib/python3.6/site-packages/sklearn/linear_model/logistic.py:433: FutureWarning: Default solver will be changed to 'lbfgs' in 0.22. Specify a solver to silence this warning.\n",
      "  FutureWarning)\n",
      "/Users/tsawaengsri/anaconda3/lib/python3.6/site-packages/sklearn/linear_model/logistic.py:433: FutureWarning: Default solver will be changed to 'lbfgs' in 0.22. Specify a solver to silence this warning.\n",
      "  FutureWarning)\n",
      "/Users/tsawaengsri/anaconda3/lib/python3.6/site-packages/sklearn/linear_model/logistic.py:433: FutureWarning: Default solver will be changed to 'lbfgs' in 0.22. Specify a solver to silence this warning.\n",
      "  FutureWarning)\n",
      "/Users/tsawaengsri/anaconda3/lib/python3.6/site-packages/sklearn/linear_model/logistic.py:433: FutureWarning: Default solver will be changed to 'lbfgs' in 0.22. Specify a solver to silence this warning.\n",
      "  FutureWarning)\n",
      "/Users/tsawaengsri/anaconda3/lib/python3.6/site-packages/sklearn/linear_model/logistic.py:433: FutureWarning: Default solver will be changed to 'lbfgs' in 0.22. Specify a solver to silence this warning.\n",
      "  FutureWarning)\n",
      "/Users/tsawaengsri/anaconda3/lib/python3.6/site-packages/sklearn/linear_model/logistic.py:433: FutureWarning: Default solver will be changed to 'lbfgs' in 0.22. Specify a solver to silence this warning.\n",
      "  FutureWarning)\n",
      "/Users/tsawaengsri/anaconda3/lib/python3.6/site-packages/sklearn/linear_model/logistic.py:433: FutureWarning: Default solver will be changed to 'lbfgs' in 0.22. Specify a solver to silence this warning.\n",
      "  FutureWarning)\n",
      "/Users/tsawaengsri/anaconda3/lib/python3.6/site-packages/sklearn/linear_model/logistic.py:433: FutureWarning: Default solver will be changed to 'lbfgs' in 0.22. Specify a solver to silence this warning.\n",
      "  FutureWarning)\n",
      "/Users/tsawaengsri/anaconda3/lib/python3.6/site-packages/sklearn/linear_model/logistic.py:433: FutureWarning: Default solver will be changed to 'lbfgs' in 0.22. Specify a solver to silence this warning.\n",
      "  FutureWarning)\n",
      "/Users/tsawaengsri/anaconda3/lib/python3.6/site-packages/sklearn/linear_model/logistic.py:433: FutureWarning: Default solver will be changed to 'lbfgs' in 0.22. Specify a solver to silence this warning.\n",
      "  FutureWarning)\n",
      "/Users/tsawaengsri/anaconda3/lib/python3.6/site-packages/sklearn/linear_model/logistic.py:433: FutureWarning: Default solver will be changed to 'lbfgs' in 0.22. Specify a solver to silence this warning.\n",
      "  FutureWarning)\n",
      "/Users/tsawaengsri/anaconda3/lib/python3.6/site-packages/sklearn/linear_model/logistic.py:433: FutureWarning: Default solver will be changed to 'lbfgs' in 0.22. Specify a solver to silence this warning.\n",
      "  FutureWarning)\n",
      "/Users/tsawaengsri/anaconda3/lib/python3.6/site-packages/sklearn/linear_model/logistic.py:433: FutureWarning: Default solver will be changed to 'lbfgs' in 0.22. Specify a solver to silence this warning.\n",
      "  FutureWarning)\n",
      "/Users/tsawaengsri/anaconda3/lib/python3.6/site-packages/sklearn/linear_model/logistic.py:433: FutureWarning: Default solver will be changed to 'lbfgs' in 0.22. Specify a solver to silence this warning.\n",
      "  FutureWarning)\n",
      "/Users/tsawaengsri/anaconda3/lib/python3.6/site-packages/sklearn/linear_model/logistic.py:433: FutureWarning: Default solver will be changed to 'lbfgs' in 0.22. Specify a solver to silence this warning.\n",
      "  FutureWarning)\n",
      "/Users/tsawaengsri/anaconda3/lib/python3.6/site-packages/sklearn/linear_model/logistic.py:433: FutureWarning: Default solver will be changed to 'lbfgs' in 0.22. Specify a solver to silence this warning.\n",
      "  FutureWarning)\n",
      "/Users/tsawaengsri/anaconda3/lib/python3.6/site-packages/sklearn/linear_model/logistic.py:433: FutureWarning: Default solver will be changed to 'lbfgs' in 0.22. Specify a solver to silence this warning.\n",
      "  FutureWarning)\n",
      "/Users/tsawaengsri/anaconda3/lib/python3.6/site-packages/sklearn/linear_model/logistic.py:433: FutureWarning: Default solver will be changed to 'lbfgs' in 0.22. Specify a solver to silence this warning.\n",
      "  FutureWarning)\n",
      "/Users/tsawaengsri/anaconda3/lib/python3.6/site-packages/sklearn/linear_model/logistic.py:433: FutureWarning: Default solver will be changed to 'lbfgs' in 0.22. Specify a solver to silence this warning.\n",
      "  FutureWarning)\n",
      "/Users/tsawaengsri/anaconda3/lib/python3.6/site-packages/sklearn/linear_model/logistic.py:433: FutureWarning: Default solver will be changed to 'lbfgs' in 0.22. Specify a solver to silence this warning.\n",
      "  FutureWarning)\n",
      "/Users/tsawaengsri/anaconda3/lib/python3.6/site-packages/sklearn/linear_model/logistic.py:433: FutureWarning: Default solver will be changed to 'lbfgs' in 0.22. Specify a solver to silence this warning.\n",
      "  FutureWarning)\n"
     ]
    },
    {
     "name": "stderr",
     "output_type": "stream",
     "text": [
      "/Users/tsawaengsri/anaconda3/lib/python3.6/site-packages/sklearn/linear_model/logistic.py:433: FutureWarning: Default solver will be changed to 'lbfgs' in 0.22. Specify a solver to silence this warning.\n",
      "  FutureWarning)\n",
      "/Users/tsawaengsri/anaconda3/lib/python3.6/site-packages/sklearn/linear_model/logistic.py:433: FutureWarning: Default solver will be changed to 'lbfgs' in 0.22. Specify a solver to silence this warning.\n",
      "  FutureWarning)\n",
      "/Users/tsawaengsri/anaconda3/lib/python3.6/site-packages/sklearn/linear_model/logistic.py:433: FutureWarning: Default solver will be changed to 'lbfgs' in 0.22. Specify a solver to silence this warning.\n",
      "  FutureWarning)\n",
      "/Users/tsawaengsri/anaconda3/lib/python3.6/site-packages/sklearn/linear_model/logistic.py:433: FutureWarning: Default solver will be changed to 'lbfgs' in 0.22. Specify a solver to silence this warning.\n",
      "  FutureWarning)\n",
      "/Users/tsawaengsri/anaconda3/lib/python3.6/site-packages/sklearn/linear_model/logistic.py:433: FutureWarning: Default solver will be changed to 'lbfgs' in 0.22. Specify a solver to silence this warning.\n",
      "  FutureWarning)\n",
      "/Users/tsawaengsri/anaconda3/lib/python3.6/site-packages/sklearn/linear_model/logistic.py:433: FutureWarning: Default solver will be changed to 'lbfgs' in 0.22. Specify a solver to silence this warning.\n",
      "  FutureWarning)\n",
      "/Users/tsawaengsri/anaconda3/lib/python3.6/site-packages/sklearn/linear_model/logistic.py:433: FutureWarning: Default solver will be changed to 'lbfgs' in 0.22. Specify a solver to silence this warning.\n",
      "  FutureWarning)\n",
      "/Users/tsawaengsri/anaconda3/lib/python3.6/site-packages/sklearn/linear_model/logistic.py:433: FutureWarning: Default solver will be changed to 'lbfgs' in 0.22. Specify a solver to silence this warning.\n",
      "  FutureWarning)\n",
      "/Users/tsawaengsri/anaconda3/lib/python3.6/site-packages/sklearn/linear_model/logistic.py:433: FutureWarning: Default solver will be changed to 'lbfgs' in 0.22. Specify a solver to silence this warning.\n",
      "  FutureWarning)\n",
      "/Users/tsawaengsri/anaconda3/lib/python3.6/site-packages/sklearn/linear_model/logistic.py:433: FutureWarning: Default solver will be changed to 'lbfgs' in 0.22. Specify a solver to silence this warning.\n",
      "  FutureWarning)\n",
      "/Users/tsawaengsri/anaconda3/lib/python3.6/site-packages/sklearn/linear_model/logistic.py:433: FutureWarning: Default solver will be changed to 'lbfgs' in 0.22. Specify a solver to silence this warning.\n",
      "  FutureWarning)\n",
      "/Users/tsawaengsri/anaconda3/lib/python3.6/site-packages/sklearn/linear_model/logistic.py:433: FutureWarning: Default solver will be changed to 'lbfgs' in 0.22. Specify a solver to silence this warning.\n",
      "  FutureWarning)\n",
      "/Users/tsawaengsri/anaconda3/lib/python3.6/site-packages/sklearn/linear_model/logistic.py:433: FutureWarning: Default solver will be changed to 'lbfgs' in 0.22. Specify a solver to silence this warning.\n",
      "  FutureWarning)\n",
      "/Users/tsawaengsri/anaconda3/lib/python3.6/site-packages/sklearn/linear_model/logistic.py:433: FutureWarning: Default solver will be changed to 'lbfgs' in 0.22. Specify a solver to silence this warning.\n",
      "  FutureWarning)\n",
      "/Users/tsawaengsri/anaconda3/lib/python3.6/site-packages/sklearn/linear_model/logistic.py:433: FutureWarning: Default solver will be changed to 'lbfgs' in 0.22. Specify a solver to silence this warning.\n",
      "  FutureWarning)\n",
      "/Users/tsawaengsri/anaconda3/lib/python3.6/site-packages/sklearn/linear_model/logistic.py:433: FutureWarning: Default solver will be changed to 'lbfgs' in 0.22. Specify a solver to silence this warning.\n",
      "  FutureWarning)\n",
      "/Users/tsawaengsri/anaconda3/lib/python3.6/site-packages/sklearn/linear_model/logistic.py:433: FutureWarning: Default solver will be changed to 'lbfgs' in 0.22. Specify a solver to silence this warning.\n",
      "  FutureWarning)\n",
      "/Users/tsawaengsri/anaconda3/lib/python3.6/site-packages/sklearn/linear_model/logistic.py:433: FutureWarning: Default solver will be changed to 'lbfgs' in 0.22. Specify a solver to silence this warning.\n",
      "  FutureWarning)\n",
      "/Users/tsawaengsri/anaconda3/lib/python3.6/site-packages/sklearn/linear_model/logistic.py:433: FutureWarning: Default solver will be changed to 'lbfgs' in 0.22. Specify a solver to silence this warning.\n",
      "  FutureWarning)\n",
      "/Users/tsawaengsri/anaconda3/lib/python3.6/site-packages/sklearn/linear_model/logistic.py:433: FutureWarning: Default solver will be changed to 'lbfgs' in 0.22. Specify a solver to silence this warning.\n",
      "  FutureWarning)\n",
      "/Users/tsawaengsri/anaconda3/lib/python3.6/site-packages/sklearn/linear_model/logistic.py:433: FutureWarning: Default solver will be changed to 'lbfgs' in 0.22. Specify a solver to silence this warning.\n",
      "  FutureWarning)\n",
      "/Users/tsawaengsri/anaconda3/lib/python3.6/site-packages/sklearn/linear_model/logistic.py:433: FutureWarning: Default solver will be changed to 'lbfgs' in 0.22. Specify a solver to silence this warning.\n",
      "  FutureWarning)\n",
      "/Users/tsawaengsri/anaconda3/lib/python3.6/site-packages/sklearn/linear_model/logistic.py:433: FutureWarning: Default solver will be changed to 'lbfgs' in 0.22. Specify a solver to silence this warning.\n",
      "  FutureWarning)\n",
      "/Users/tsawaengsri/anaconda3/lib/python3.6/site-packages/sklearn/linear_model/logistic.py:433: FutureWarning: Default solver will be changed to 'lbfgs' in 0.22. Specify a solver to silence this warning.\n",
      "  FutureWarning)\n",
      "/Users/tsawaengsri/anaconda3/lib/python3.6/site-packages/sklearn/linear_model/logistic.py:433: FutureWarning: Default solver will be changed to 'lbfgs' in 0.22. Specify a solver to silence this warning.\n",
      "  FutureWarning)\n",
      "/Users/tsawaengsri/anaconda3/lib/python3.6/site-packages/sklearn/linear_model/logistic.py:433: FutureWarning: Default solver will be changed to 'lbfgs' in 0.22. Specify a solver to silence this warning.\n",
      "  FutureWarning)\n",
      "/Users/tsawaengsri/anaconda3/lib/python3.6/site-packages/sklearn/linear_model/logistic.py:433: FutureWarning: Default solver will be changed to 'lbfgs' in 0.22. Specify a solver to silence this warning.\n",
      "  FutureWarning)\n",
      "/Users/tsawaengsri/anaconda3/lib/python3.6/site-packages/sklearn/linear_model/logistic.py:433: FutureWarning: Default solver will be changed to 'lbfgs' in 0.22. Specify a solver to silence this warning.\n",
      "  FutureWarning)\n",
      "/Users/tsawaengsri/anaconda3/lib/python3.6/site-packages/sklearn/linear_model/logistic.py:433: FutureWarning: Default solver will be changed to 'lbfgs' in 0.22. Specify a solver to silence this warning.\n",
      "  FutureWarning)\n",
      "/Users/tsawaengsri/anaconda3/lib/python3.6/site-packages/sklearn/linear_model/logistic.py:433: FutureWarning: Default solver will be changed to 'lbfgs' in 0.22. Specify a solver to silence this warning.\n",
      "  FutureWarning)\n",
      "/Users/tsawaengsri/anaconda3/lib/python3.6/site-packages/sklearn/linear_model/logistic.py:433: FutureWarning: Default solver will be changed to 'lbfgs' in 0.22. Specify a solver to silence this warning.\n",
      "  FutureWarning)\n",
      "/Users/tsawaengsri/anaconda3/lib/python3.6/site-packages/sklearn/linear_model/logistic.py:433: FutureWarning: Default solver will be changed to 'lbfgs' in 0.22. Specify a solver to silence this warning.\n",
      "  FutureWarning)\n",
      "/Users/tsawaengsri/anaconda3/lib/python3.6/site-packages/sklearn/linear_model/logistic.py:433: FutureWarning: Default solver will be changed to 'lbfgs' in 0.22. Specify a solver to silence this warning.\n",
      "  FutureWarning)\n",
      "/Users/tsawaengsri/anaconda3/lib/python3.6/site-packages/sklearn/linear_model/logistic.py:433: FutureWarning: Default solver will be changed to 'lbfgs' in 0.22. Specify a solver to silence this warning.\n",
      "  FutureWarning)\n",
      "/Users/tsawaengsri/anaconda3/lib/python3.6/site-packages/sklearn/linear_model/logistic.py:433: FutureWarning: Default solver will be changed to 'lbfgs' in 0.22. Specify a solver to silence this warning.\n",
      "  FutureWarning)\n",
      "/Users/tsawaengsri/anaconda3/lib/python3.6/site-packages/sklearn/linear_model/logistic.py:433: FutureWarning: Default solver will be changed to 'lbfgs' in 0.22. Specify a solver to silence this warning.\n",
      "  FutureWarning)\n",
      "/Users/tsawaengsri/anaconda3/lib/python3.6/site-packages/sklearn/linear_model/logistic.py:433: FutureWarning: Default solver will be changed to 'lbfgs' in 0.22. Specify a solver to silence this warning.\n",
      "  FutureWarning)\n",
      "/Users/tsawaengsri/anaconda3/lib/python3.6/site-packages/sklearn/linear_model/logistic.py:433: FutureWarning: Default solver will be changed to 'lbfgs' in 0.22. Specify a solver to silence this warning.\n",
      "  FutureWarning)\n"
     ]
    },
    {
     "name": "stderr",
     "output_type": "stream",
     "text": [
      "/Users/tsawaengsri/anaconda3/lib/python3.6/site-packages/sklearn/linear_model/logistic.py:433: FutureWarning: Default solver will be changed to 'lbfgs' in 0.22. Specify a solver to silence this warning.\n",
      "  FutureWarning)\n",
      "/Users/tsawaengsri/anaconda3/lib/python3.6/site-packages/sklearn/linear_model/logistic.py:433: FutureWarning: Default solver will be changed to 'lbfgs' in 0.22. Specify a solver to silence this warning.\n",
      "  FutureWarning)\n",
      "/Users/tsawaengsri/anaconda3/lib/python3.6/site-packages/sklearn/linear_model/logistic.py:433: FutureWarning: Default solver will be changed to 'lbfgs' in 0.22. Specify a solver to silence this warning.\n",
      "  FutureWarning)\n",
      "/Users/tsawaengsri/anaconda3/lib/python3.6/site-packages/sklearn/linear_model/logistic.py:433: FutureWarning: Default solver will be changed to 'lbfgs' in 0.22. Specify a solver to silence this warning.\n",
      "  FutureWarning)\n",
      "/Users/tsawaengsri/anaconda3/lib/python3.6/site-packages/sklearn/linear_model/logistic.py:433: FutureWarning: Default solver will be changed to 'lbfgs' in 0.22. Specify a solver to silence this warning.\n",
      "  FutureWarning)\n",
      "/Users/tsawaengsri/anaconda3/lib/python3.6/site-packages/sklearn/linear_model/logistic.py:433: FutureWarning: Default solver will be changed to 'lbfgs' in 0.22. Specify a solver to silence this warning.\n",
      "  FutureWarning)\n",
      "/Users/tsawaengsri/anaconda3/lib/python3.6/site-packages/sklearn/linear_model/logistic.py:433: FutureWarning: Default solver will be changed to 'lbfgs' in 0.22. Specify a solver to silence this warning.\n",
      "  FutureWarning)\n",
      "/Users/tsawaengsri/anaconda3/lib/python3.6/site-packages/sklearn/linear_model/logistic.py:433: FutureWarning: Default solver will be changed to 'lbfgs' in 0.22. Specify a solver to silence this warning.\n",
      "  FutureWarning)\n",
      "/Users/tsawaengsri/anaconda3/lib/python3.6/site-packages/sklearn/linear_model/logistic.py:433: FutureWarning: Default solver will be changed to 'lbfgs' in 0.22. Specify a solver to silence this warning.\n",
      "  FutureWarning)\n",
      "/Users/tsawaengsri/anaconda3/lib/python3.6/site-packages/sklearn/linear_model/logistic.py:433: FutureWarning: Default solver will be changed to 'lbfgs' in 0.22. Specify a solver to silence this warning.\n",
      "  FutureWarning)\n",
      "/Users/tsawaengsri/anaconda3/lib/python3.6/site-packages/sklearn/linear_model/logistic.py:433: FutureWarning: Default solver will be changed to 'lbfgs' in 0.22. Specify a solver to silence this warning.\n",
      "  FutureWarning)\n",
      "/Users/tsawaengsri/anaconda3/lib/python3.6/site-packages/sklearn/linear_model/logistic.py:433: FutureWarning: Default solver will be changed to 'lbfgs' in 0.22. Specify a solver to silence this warning.\n",
      "  FutureWarning)\n",
      "/Users/tsawaengsri/anaconda3/lib/python3.6/site-packages/sklearn/linear_model/logistic.py:433: FutureWarning: Default solver will be changed to 'lbfgs' in 0.22. Specify a solver to silence this warning.\n",
      "  FutureWarning)\n",
      "/Users/tsawaengsri/anaconda3/lib/python3.6/site-packages/sklearn/linear_model/logistic.py:433: FutureWarning: Default solver will be changed to 'lbfgs' in 0.22. Specify a solver to silence this warning.\n",
      "  FutureWarning)\n",
      "/Users/tsawaengsri/anaconda3/lib/python3.6/site-packages/sklearn/linear_model/logistic.py:433: FutureWarning: Default solver will be changed to 'lbfgs' in 0.22. Specify a solver to silence this warning.\n",
      "  FutureWarning)\n",
      "/Users/tsawaengsri/anaconda3/lib/python3.6/site-packages/sklearn/linear_model/logistic.py:433: FutureWarning: Default solver will be changed to 'lbfgs' in 0.22. Specify a solver to silence this warning.\n",
      "  FutureWarning)\n",
      "/Users/tsawaengsri/anaconda3/lib/python3.6/site-packages/sklearn/linear_model/logistic.py:433: FutureWarning: Default solver will be changed to 'lbfgs' in 0.22. Specify a solver to silence this warning.\n",
      "  FutureWarning)\n",
      "/Users/tsawaengsri/anaconda3/lib/python3.6/site-packages/sklearn/linear_model/logistic.py:433: FutureWarning: Default solver will be changed to 'lbfgs' in 0.22. Specify a solver to silence this warning.\n",
      "  FutureWarning)\n",
      "/Users/tsawaengsri/anaconda3/lib/python3.6/site-packages/sklearn/linear_model/logistic.py:433: FutureWarning: Default solver will be changed to 'lbfgs' in 0.22. Specify a solver to silence this warning.\n",
      "  FutureWarning)\n",
      "/Users/tsawaengsri/anaconda3/lib/python3.6/site-packages/sklearn/linear_model/logistic.py:433: FutureWarning: Default solver will be changed to 'lbfgs' in 0.22. Specify a solver to silence this warning.\n",
      "  FutureWarning)\n",
      "/Users/tsawaengsri/anaconda3/lib/python3.6/site-packages/sklearn/linear_model/logistic.py:433: FutureWarning: Default solver will be changed to 'lbfgs' in 0.22. Specify a solver to silence this warning.\n",
      "  FutureWarning)\n",
      "/Users/tsawaengsri/anaconda3/lib/python3.6/site-packages/sklearn/linear_model/logistic.py:433: FutureWarning: Default solver will be changed to 'lbfgs' in 0.22. Specify a solver to silence this warning.\n",
      "  FutureWarning)\n",
      "/Users/tsawaengsri/anaconda3/lib/python3.6/site-packages/sklearn/linear_model/logistic.py:433: FutureWarning: Default solver will be changed to 'lbfgs' in 0.22. Specify a solver to silence this warning.\n",
      "  FutureWarning)\n",
      "/Users/tsawaengsri/anaconda3/lib/python3.6/site-packages/sklearn/linear_model/logistic.py:433: FutureWarning: Default solver will be changed to 'lbfgs' in 0.22. Specify a solver to silence this warning.\n",
      "  FutureWarning)\n",
      "/Users/tsawaengsri/anaconda3/lib/python3.6/site-packages/sklearn/linear_model/logistic.py:433: FutureWarning: Default solver will be changed to 'lbfgs' in 0.22. Specify a solver to silence this warning.\n",
      "  FutureWarning)\n",
      "/Users/tsawaengsri/anaconda3/lib/python3.6/site-packages/sklearn/linear_model/logistic.py:433: FutureWarning: Default solver will be changed to 'lbfgs' in 0.22. Specify a solver to silence this warning.\n",
      "  FutureWarning)\n",
      "/Users/tsawaengsri/anaconda3/lib/python3.6/site-packages/sklearn/linear_model/logistic.py:433: FutureWarning: Default solver will be changed to 'lbfgs' in 0.22. Specify a solver to silence this warning.\n",
      "  FutureWarning)\n",
      "/Users/tsawaengsri/anaconda3/lib/python3.6/site-packages/sklearn/linear_model/logistic.py:433: FutureWarning: Default solver will be changed to 'lbfgs' in 0.22. Specify a solver to silence this warning.\n",
      "  FutureWarning)\n",
      "/Users/tsawaengsri/anaconda3/lib/python3.6/site-packages/sklearn/linear_model/logistic.py:433: FutureWarning: Default solver will be changed to 'lbfgs' in 0.22. Specify a solver to silence this warning.\n",
      "  FutureWarning)\n",
      "/Users/tsawaengsri/anaconda3/lib/python3.6/site-packages/sklearn/linear_model/logistic.py:433: FutureWarning: Default solver will be changed to 'lbfgs' in 0.22. Specify a solver to silence this warning.\n",
      "  FutureWarning)\n",
      "/Users/tsawaengsri/anaconda3/lib/python3.6/site-packages/sklearn/linear_model/logistic.py:433: FutureWarning: Default solver will be changed to 'lbfgs' in 0.22. Specify a solver to silence this warning.\n",
      "  FutureWarning)\n",
      "/Users/tsawaengsri/anaconda3/lib/python3.6/site-packages/sklearn/linear_model/logistic.py:433: FutureWarning: Default solver will be changed to 'lbfgs' in 0.22. Specify a solver to silence this warning.\n",
      "  FutureWarning)\n",
      "/Users/tsawaengsri/anaconda3/lib/python3.6/site-packages/sklearn/linear_model/logistic.py:433: FutureWarning: Default solver will be changed to 'lbfgs' in 0.22. Specify a solver to silence this warning.\n",
      "  FutureWarning)\n",
      "/Users/tsawaengsri/anaconda3/lib/python3.6/site-packages/sklearn/linear_model/logistic.py:433: FutureWarning: Default solver will be changed to 'lbfgs' in 0.22. Specify a solver to silence this warning.\n",
      "  FutureWarning)\n",
      "/Users/tsawaengsri/anaconda3/lib/python3.6/site-packages/sklearn/linear_model/logistic.py:433: FutureWarning: Default solver will be changed to 'lbfgs' in 0.22. Specify a solver to silence this warning.\n",
      "  FutureWarning)\n",
      "/Users/tsawaengsri/anaconda3/lib/python3.6/site-packages/sklearn/linear_model/logistic.py:433: FutureWarning: Default solver will be changed to 'lbfgs' in 0.22. Specify a solver to silence this warning.\n",
      "  FutureWarning)\n",
      "/Users/tsawaengsri/anaconda3/lib/python3.6/site-packages/sklearn/linear_model/logistic.py:433: FutureWarning: Default solver will be changed to 'lbfgs' in 0.22. Specify a solver to silence this warning.\n",
      "  FutureWarning)\n",
      "/Users/tsawaengsri/anaconda3/lib/python3.6/site-packages/sklearn/linear_model/logistic.py:433: FutureWarning: Default solver will be changed to 'lbfgs' in 0.22. Specify a solver to silence this warning.\n",
      "  FutureWarning)\n"
     ]
    },
    {
     "name": "stderr",
     "output_type": "stream",
     "text": [
      "/Users/tsawaengsri/anaconda3/lib/python3.6/site-packages/sklearn/linear_model/logistic.py:433: FutureWarning: Default solver will be changed to 'lbfgs' in 0.22. Specify a solver to silence this warning.\n",
      "  FutureWarning)\n",
      "/Users/tsawaengsri/anaconda3/lib/python3.6/site-packages/sklearn/linear_model/logistic.py:433: FutureWarning: Default solver will be changed to 'lbfgs' in 0.22. Specify a solver to silence this warning.\n",
      "  FutureWarning)\n",
      "/Users/tsawaengsri/anaconda3/lib/python3.6/site-packages/sklearn/linear_model/logistic.py:433: FutureWarning: Default solver will be changed to 'lbfgs' in 0.22. Specify a solver to silence this warning.\n",
      "  FutureWarning)\n",
      "/Users/tsawaengsri/anaconda3/lib/python3.6/site-packages/sklearn/linear_model/logistic.py:433: FutureWarning: Default solver will be changed to 'lbfgs' in 0.22. Specify a solver to silence this warning.\n",
      "  FutureWarning)\n",
      "/Users/tsawaengsri/anaconda3/lib/python3.6/site-packages/sklearn/linear_model/logistic.py:433: FutureWarning: Default solver will be changed to 'lbfgs' in 0.22. Specify a solver to silence this warning.\n",
      "  FutureWarning)\n",
      "/Users/tsawaengsri/anaconda3/lib/python3.6/site-packages/sklearn/linear_model/logistic.py:433: FutureWarning: Default solver will be changed to 'lbfgs' in 0.22. Specify a solver to silence this warning.\n",
      "  FutureWarning)\n",
      "/Users/tsawaengsri/anaconda3/lib/python3.6/site-packages/sklearn/linear_model/logistic.py:433: FutureWarning: Default solver will be changed to 'lbfgs' in 0.22. Specify a solver to silence this warning.\n",
      "  FutureWarning)\n"
     ]
    },
    {
     "name": "stdout",
     "output_type": "stream",
     "text": [
      "Best: 0.986792 using {'C': 2.0, 'max_iter': 140, 'penalty': 'l1'}\n",
      "Execution time: 254.6139771938324 seconds\n"
     ]
    }
   ],
   "source": [
    "# Logistic Model\n",
    "start_time = time.time()\n",
    "\n",
    "parameters = {}\n",
    "parameters['penalty'] = ['l1','l2']\n",
    "parameters['C'] = [1.0,2.0]\n",
    "parameters['max_iter'] = [100,120,140]\n",
    "\n",
    "lr = LogisticRegression()\n",
    "gsc_lr = GridSearchCV(lr, parameters, cv=10, scoring='roc_auc')\n",
    "gsc_lr.fit(X_train, y_train)\n",
    "print(\"Best: %f using %s\" %(gsc_lr.best_score_,gsc_lr.best_params_))\n",
    "print(\"Execution time: \" + str((time.time() - start_time)) + ' seconds')\n",
    "\n",
    "#Best: 0.986792 using {'C': 2.0, 'max_iter': 140, 'penalty': 'l1'}\n",
    "#Execution time: 254.6139771938324 seconds"
   ]
  },
  {
   "cell_type": "code",
   "execution_count": 113,
   "metadata": {},
   "outputs": [
    {
     "name": "stderr",
     "output_type": "stream",
     "text": [
      "/Users/tsawaengsri/anaconda3/lib/python3.6/site-packages/sklearn/linear_model/logistic.py:433: FutureWarning: Default solver will be changed to 'lbfgs' in 0.22. Specify a solver to silence this warning.\n",
      "  FutureWarning)\n",
      "/Users/tsawaengsri/anaconda3/lib/python3.6/site-packages/sklearn/linear_model/logistic.py:433: FutureWarning: Default solver will be changed to 'lbfgs' in 0.22. Specify a solver to silence this warning.\n",
      "  FutureWarning)\n",
      "/Users/tsawaengsri/anaconda3/lib/python3.6/site-packages/sklearn/linear_model/logistic.py:433: FutureWarning: Default solver will be changed to 'lbfgs' in 0.22. Specify a solver to silence this warning.\n",
      "  FutureWarning)\n",
      "/Users/tsawaengsri/anaconda3/lib/python3.6/site-packages/sklearn/linear_model/logistic.py:433: FutureWarning: Default solver will be changed to 'lbfgs' in 0.22. Specify a solver to silence this warning.\n",
      "  FutureWarning)\n",
      "/Users/tsawaengsri/anaconda3/lib/python3.6/site-packages/sklearn/linear_model/logistic.py:433: FutureWarning: Default solver will be changed to 'lbfgs' in 0.22. Specify a solver to silence this warning.\n",
      "  FutureWarning)\n",
      "/Users/tsawaengsri/anaconda3/lib/python3.6/site-packages/sklearn/linear_model/logistic.py:433: FutureWarning: Default solver will be changed to 'lbfgs' in 0.22. Specify a solver to silence this warning.\n",
      "  FutureWarning)\n",
      "/Users/tsawaengsri/anaconda3/lib/python3.6/site-packages/sklearn/linear_model/logistic.py:433: FutureWarning: Default solver will be changed to 'lbfgs' in 0.22. Specify a solver to silence this warning.\n",
      "  FutureWarning)\n",
      "/Users/tsawaengsri/anaconda3/lib/python3.6/site-packages/sklearn/linear_model/logistic.py:433: FutureWarning: Default solver will be changed to 'lbfgs' in 0.22. Specify a solver to silence this warning.\n",
      "  FutureWarning)\n",
      "/Users/tsawaengsri/anaconda3/lib/python3.6/site-packages/sklearn/linear_model/logistic.py:433: FutureWarning: Default solver will be changed to 'lbfgs' in 0.22. Specify a solver to silence this warning.\n",
      "  FutureWarning)\n",
      "/Users/tsawaengsri/anaconda3/lib/python3.6/site-packages/sklearn/linear_model/logistic.py:433: FutureWarning: Default solver will be changed to 'lbfgs' in 0.22. Specify a solver to silence this warning.\n",
      "  FutureWarning)\n",
      "/Users/tsawaengsri/anaconda3/lib/python3.6/site-packages/sklearn/linear_model/logistic.py:433: FutureWarning: Default solver will be changed to 'lbfgs' in 0.22. Specify a solver to silence this warning.\n",
      "  FutureWarning)\n"
     ]
    },
    {
     "name": "stdout",
     "output_type": "stream",
     "text": [
      "[0.98359979 0.99017345 0.98477215 0.98386582 0.98647473 0.98901026\n",
      " 0.98840482 0.98588213 0.98819708 0.98700485]\n"
     ]
    }
   ],
   "source": [
    "# Optimized Logistic Regression Model \n",
    "gsc_lr = LogisticRegression(penalty='l1', C=2.0, max_iter=140)\n",
    "gsc_lr.fit(X_train, y_train)\n",
    "gsc_lr_y_pred = gsc_lr.predict(X_test)\n",
    "\n",
    "# CV to check if overfitting \n",
    "print(cross_val_score(gsc_lr, X_train, y_train, cv=10, scoring='roc_auc'))"
   ]
  },
  {
   "cell_type": "code",
   "execution_count": 114,
   "metadata": {},
   "outputs": [
    {
     "name": "stdout",
     "output_type": "stream",
     "text": [
      "ROC_AUC: 95.93%\n",
      "Accuracy: 95.88%\n",
      "Recall: 96.82%\n",
      "Precision: 94.57%\n",
      "[[3185  166]\n",
      " [  95 2893]]\n"
     ]
    }
   ],
   "source": [
    "# Calculate metrics\n",
    "gsc_lr_roc_auc = roc_auc_score(y_test, gsc_lr_y_pred)\n",
    "gsc_lr_accuracy = accuracy_score(y_test, gsc_lr_y_pred)\n",
    "gsc_lr_recall = recall_score(y_test, gsc_lr_y_pred)\n",
    "gsc_lr_precision = precision_score(y_test, gsc_lr_y_pred)\n",
    "\n",
    "# Print metrics\n",
    "print(\"ROC_AUC: %.2f%%\" % (gsc_lr_roc_auc * 100.0))\n",
    "print(\"Accuracy: %.2f%%\" % (gsc_lr_accuracy * 100.0))\n",
    "print('Recall: %.2f%%' % (gsc_lr_recall * 100.0))\n",
    "print('Precision: %.2f%%' % (gsc_lr_precision * 100.0))\n",
    "print(confusion_matrix(y_test, gsc_lr_y_pred))"
   ]
  },
  {
   "cell_type": "code",
   "execution_count": 115,
   "metadata": {},
   "outputs": [
    {
     "data": {
      "image/png": "[encoded data removed]",
      "text/plain": [
       "<Figure size 432x288 with 1 Axes>"
      ]
     },
     "metadata": {
      "needs_background": "light"
     },
     "output_type": "display_data"
    }
   ],
   "source": [
    "# Function to plot ROC curve \n",
    "roc_curve(gsc_lr, X_train, y_train, X_test, y_test)"
   ]
  },
  {
   "cell_type": "markdown",
   "metadata": {},
   "source": [
    "__Evaluation__: From cross validation, this model doesn't seem to be overfitting by much since the roc auc scores range between 0.97 to 0.98. It doesn't seem like hyperparameter tuning made much of an improvement since the roc auc and accuracy score on the test set remained as 95%. Even though there were more genuine tweets, this model was better at identifying tweets from bots based on a higher recall score(96%) than the precision score (94%)."
   ]
  },
  {
   "cell_type": "markdown",
   "metadata": {},
   "source": [
    "### Random Forest \n",
    "Let's try a more complex model to see if Random forest can capture the complexity within the dataset. "
   ]
  },
  {
   "cell_type": "code",
   "execution_count": 116,
   "metadata": {},
   "outputs": [
    {
     "name": "stdout",
     "output_type": "stream",
     "text": [
      "[0.99996147 0.99991469 0.99980002 0.99997156 0.99997798 0.9998679\n",
      " 0.99978076 0.99986148 0.99963627 0.99997979]\n"
     ]
    }
   ],
   "source": [
    "# Random Forest Model \n",
    "rf = RandomForestClassifier(n_estimators=100, random_state=42)\n",
    "\n",
    "# Fit and predict\n",
    "rf.fit(X_train, y_train) \n",
    "rf_y_pred = rf.predict(X_test)\n",
    "\n",
    "# Check if model is overfitting \n",
    "print(cross_val_score(rf, X_train, y_train, cv=10, scoring='roc_auc'))"
   ]
  },
  {
   "cell_type": "code",
   "execution_count": 117,
   "metadata": {},
   "outputs": [
    {
     "name": "stdout",
     "output_type": "stream",
     "text": [
      "ROC_AUC: 99.77%\n",
      "Accuracy: 99.78%\n",
      "Recall: 99.56%\n",
      "Precision: 99.97%\n",
      "[[3350    1]\n",
      " [  13 2975]]\n"
     ]
    }
   ],
   "source": [
    "# Calculate metrics\n",
    "rf_roc_auc = roc_auc_score(y_test, rf_y_pred)\n",
    "rf_accuracy = accuracy_score(y_test, rf_y_pred)\n",
    "rf_recall = recall_score(y_test, rf_y_pred)\n",
    "rf_precision = precision_score(y_test, rf_y_pred)\n",
    "\n",
    "# Print metrics\n",
    "print(\"ROC_AUC: %.2f%%\" % (rf_roc_auc * 100.0))\n",
    "print(\"Accuracy: %.2f%%\" % (rf_accuracy * 100.0))\n",
    "print('Recall: %.2f%%' % (rf_recall * 100.0))\n",
    "print('Precision: %.2f%%' % (rf_precision * 100.0))\n",
    "print(confusion_matrix(y_test, rf_y_pred))\n"
   ]
  },
  {
   "cell_type": "markdown",
   "metadata": {},
   "source": [
    "#### Optmized Random Forest\n",
    "Now, we'll find the optimal parameters by GridSearchCV.\n",
    "\n",
    "* __n_estimators__: number of trees you want to build before taking the maximum voting or averages of predictions\n",
    "* __criterion__: function to measure the quality of a split\n",
    "* __max_features__: number of features to consider when looking for the best split"
   ]
  },
  {
   "cell_type": "code",
   "execution_count": 119,
   "metadata": {},
   "outputs": [
    {
     "name": "stdout",
     "output_type": "stream",
     "text": [
      "Fitting 10 folds for each of 12 candidates, totalling 120 fits\n"
     ]
    },
    {
     "name": "stderr",
     "output_type": "stream",
     "text": [
      "[Parallel(n_jobs=1)]: Using backend SequentialBackend with 1 concurrent workers.\n",
      "[Parallel(n_jobs=1)]: Done 120 out of 120 | elapsed: 39.7min finished\n"
     ]
    },
    {
     "name": "stdout",
     "output_type": "stream",
     "text": [
      "Best: 0.999875 using {'criterion': 'gini', 'max_features': 'sqrt', 'n_estimators': 100}\n",
      "Execution time: 2389.9600927829742 seconds\n"
     ]
    }
   ],
   "source": [
    "#Optimizing Random Forest\n",
    "start_time = time.time()\n",
    "\n",
    "parameters = {}\n",
    "parameters['n_estimators'] = [100,300,400]\n",
    "parameters['criterion'] = ['entropy','gini']\n",
    "parameters['max_features'] = ['sqrt','log2']\n",
    "\n",
    "\n",
    "gsc_rf = GridSearchCV(rf, parameters, cv=10, verbose=1, scoring='roc_auc')\n",
    "gsc_rf.fit(X_train, y_train)\n",
    "print(\"Best: %f using %s\" %(gsc_rf.best_score_,gsc_rf.best_params_))\n",
    "print(\"Execution time: \" + str((time.time() - start_time)) + ' seconds')\n",
    "\n",
    "# Best: 0.999875 using {'criterion': 'gini', 'max_features': 'sqrt', 'n_estimators': 100}\n",
    "#Execution time: 2389.9600927829742 seconds"
   ]
  },
  {
   "cell_type": "code",
   "execution_count": 120,
   "metadata": {},
   "outputs": [
    {
     "name": "stdout",
     "output_type": "stream",
     "text": [
      "[0.99996147 0.99991469 0.99980002 0.99997156 0.99997798 0.9998679\n",
      " 0.99978076 0.99986148 0.99963627 0.99997979]\n"
     ]
    }
   ],
   "source": [
    "# Optimized Random Forest\n",
    "gsc_rf = RandomForestClassifier(n_estimators=100, criterion='gini', max_features='sqrt', random_state=42)\n",
    "gsc_rf.fit(X_train, y_train) \n",
    "gsc_rf_y_pred = gsc_rf.predict(X_test)\n",
    "\n",
    "# Check if model is overfitting \n",
    "print(cross_val_score(gsc_rf, X_train, y_train, cv=10, scoring='roc_auc'))"
   ]
  },
  {
   "cell_type": "code",
   "execution_count": 121,
   "metadata": {},
   "outputs": [
    {
     "name": "stdout",
     "output_type": "stream",
     "text": [
      "ROC_AUC: 99.77%\n",
      "Accuracy: 99.78%\n",
      "Recall: 99.56%\n",
      "Precision: 99.97%\n",
      "[[3350    1]\n",
      " [  13 2975]]\n"
     ]
    }
   ],
   "source": [
    "# Calculate metrics\n",
    "gsc_rf_roc_auc = roc_auc_score(y_test, gsc_rf_y_pred)\n",
    "gsc_rf_accuracy = accuracy_score(y_test, gsc_rf_y_pred)\n",
    "gsc_rf_recall = recall_score(y_test, gsc_rf_y_pred)\n",
    "gsc_rf_precision = precision_score(y_test, gsc_rf_y_pred)\n",
    "\n",
    "# Print metrics\n",
    "print(\"ROC_AUC: %.2f%%\" % (gsc_rf_roc_auc * 100.0))\n",
    "print(\"Accuracy: %.2f%%\" % (gsc_rf_accuracy * 100.0))\n",
    "print('Recall: %.2f%%' % (gsc_rf_recall * 100.0))\n",
    "print('Precision: %.2f%%' % (gsc_rf_precision * 100.0))\n",
    "print(confusion_matrix(y_test, gsc_rf_y_pred))"
   ]
  },
  {
   "cell_type": "code",
   "execution_count": 122,
   "metadata": {},
   "outputs": [
    {
     "data": {
      "image/png": "[encoded data removed]",
      "text/plain": [
       "<Figure size 432x288 with 1 Axes>"
      ]
     },
     "metadata": {
      "needs_background": "light"
     },
     "output_type": "display_data"
    }
   ],
   "source": [
    "# Function to plot ROC curve \n",
    "roc_curve(gsc_rf, X_train, y_train, X_test, y_test)"
   ]
  },
  {
   "cell_type": "markdown",
   "metadata": {},
   "source": [
    "__Evaluation__: The random forest model out performs the logistic regression model across all metrics. This model was better at labeling genuine tweets than bot tweets. This could possible be due to the clean dataset containing  1,211 more genuine tweets than bot tweets. Based on the recall and precision scores, hyperparameter tuning did not improve the performance of the model. "
   ]
  },
  {
   "cell_type": "markdown",
   "metadata": {},
   "source": [
    "### Model Interpretation: Feature Importances\n",
    "For model interpretability, we will take a look at the feature importances of our optimized random forest. We may use these feature importances as a method of dimensionality reduction in future work."
   ]
  },
  {
   "cell_type": "code",
   "execution_count": 123,
   "metadata": {},
   "outputs": [
    {
     "data": {
      "text/html": [
       "<div>\n",
       "<style scoped>\n",
       "    .dataframe tbody tr th:only-of-type {\n",
       "        vertical-align: middle;\n",
       "    }\n",
       "\n",
       "    .dataframe tbody tr th {\n",
       "        vertical-align: top;\n",
       "    }\n",
       "\n",
       "    .dataframe thead th {\n",
       "        text-align: right;\n",
       "    }\n",
       "</style>\n",
       "<table border=\"1\" class=\"dataframe\">\n",
       "  <thead>\n",
       "    <tr style=\"text-align: right;\">\n",
       "      <th></th>\n",
       "      <th>Variable</th>\n",
       "      <th>Importance</th>\n",
       "    </tr>\n",
       "  </thead>\n",
       "  <tbody>\n",
       "    <tr>\n",
       "      <th>3</th>\n",
       "      <td>favourites_count</td>\n",
       "      <td>0.294236</td>\n",
       "    </tr>\n",
       "    <tr>\n",
       "      <th>24</th>\n",
       "      <td>4</td>\n",
       "      <td>0.068808</td>\n",
       "    </tr>\n",
       "    <tr>\n",
       "      <th>17</th>\n",
       "      <td>tweet_year</td>\n",
       "      <td>0.066097</td>\n",
       "    </tr>\n",
       "    <tr>\n",
       "      <th>25</th>\n",
       "      <td>5</td>\n",
       "      <td>0.047869</td>\n",
       "    </tr>\n",
       "    <tr>\n",
       "      <th>15</th>\n",
       "      <td>tweet_month</td>\n",
       "      <td>0.040929</td>\n",
       "    </tr>\n",
       "    <tr>\n",
       "      <th>0</th>\n",
       "      <td>statuses_count</td>\n",
       "      <td>0.037849</td>\n",
       "    </tr>\n",
       "    <tr>\n",
       "      <th>2</th>\n",
       "      <td>friends_count</td>\n",
       "      <td>0.035556</td>\n",
       "    </tr>\n",
       "    <tr>\n",
       "      <th>20</th>\n",
       "      <td>0</td>\n",
       "      <td>0.032713</td>\n",
       "    </tr>\n",
       "    <tr>\n",
       "      <th>11</th>\n",
       "      <td>account_age_yr</td>\n",
       "      <td>0.028844</td>\n",
       "    </tr>\n",
       "    <tr>\n",
       "      <th>10</th>\n",
       "      <td>num_mentions</td>\n",
       "      <td>0.028420</td>\n",
       "    </tr>\n",
       "  </tbody>\n",
       "</table>\n",
       "</div>"
      ],
      "text/plain": [
       "            Variable  Importance\n",
       "3   favourites_count    0.294236\n",
       "24                 4    0.068808\n",
       "17        tweet_year    0.066097\n",
       "25                 5    0.047869\n",
       "15       tweet_month    0.040929\n",
       "0     statuses_count    0.037849\n",
       "2      friends_count    0.035556\n",
       "20                 0    0.032713\n",
       "11    account_age_yr    0.028844\n",
       "10      num_mentions    0.028420"
      ]
     },
     "execution_count": 123,
     "metadata": {},
     "output_type": "execute_result"
    }
   ],
   "source": [
    "# Top N importances\n",
    "N = 10\n",
    "importances = gsc_rf.feature_importances_\n",
    "std = np.std([tree.feature_importances_ for tree in gsc_rf.estimators_],\n",
    "             axis=0)\n",
    "\n",
    "# Create a dataframe\n",
    "importances_df = pd.DataFrame({'Variable':X.columns, 'Importance': importances})\n",
    "\n",
    "top_N = importances_df.sort_values(by=['Importance'], ascending=False).head(10)\n",
    "\n",
    "top_N"
   ]
  },
  {
   "cell_type": "code",
   "execution_count": 124,
   "metadata": {},
   "outputs": [
    {
     "data": {
      "image/png": "[encoded data removed]",
      "text/plain": [
       "<Figure size 432x288 with 1 Axes>"
      ]
     },
     "metadata": {
      "needs_background": "light"
     },
     "output_type": "display_data"
    }
   ],
   "source": [
    "# Creating a bar plot\n",
    "sns.barplot(y='Variable', x='Importance', data=top_N)\n",
    "# Add labels to your graph\n",
    "plt.xlabel('Feature Importance Score')\n",
    "plt.ylabel('Features')\n",
    "plt.title(\"Visualizing Random Forest Important Features\")\n",
    "plt.show()"
   ]
  },
  {
   "cell_type": "markdown",
   "metadata": {},
   "source": [
    "__Observation__: It seems like user profile features play an important role in classifying tweets based on the user's favorite, status, and friend count. There might be biased in the data since there is importance on the tweet year and tweet month. Twitter might have made updates to their bot detection and thus providing new classification results. "
   ]
  },
  {
   "cell_type": "markdown",
   "metadata": {},
   "source": [
    "### Multi-Layer Preceptron Classifier\n",
    "\n",
    "To capture non-linear relationships within the dataset, we'll test out MLP. "
   ]
  },
  {
   "cell_type": "code",
   "execution_count": 125,
   "metadata": {},
   "outputs": [
    {
     "name": "stdout",
     "output_type": "stream",
     "text": [
      "[0.99309426 0.98991201 0.99377309 0.99152744 0.96278075 0.97443923\n",
      " 0.96701795 0.99163936 0.99288978 0.99611101]\n"
     ]
    }
   ],
   "source": [
    "# Establish and fit the model\n",
    "mlp = MLPClassifier(max_iter=200) \n",
    "\n",
    "# Fit and predict\n",
    "mlp.fit(X_train, y_train)\n",
    "mlp_y_pred = mlp.predict(X_test)\n",
    "\n",
    "# Check for overfitting\n",
    "print(cross_val_score(mlp, X_train, y_train, cv=10, scoring='roc_auc'))"
   ]
  },
  {
   "cell_type": "code",
   "execution_count": 126,
   "metadata": {},
   "outputs": [
    {
     "name": "stdout",
     "output_type": "stream",
     "text": [
      "ROC_AUC: 97.11%\n",
      "Accuracy: 97.10%\n",
      "Recall: 97.39%\n",
      "Precision: 96.49%\n",
      "[[3245  106]\n",
      " [  78 2910]]\n"
     ]
    }
   ],
   "source": [
    "# Calculate metrics\n",
    "mlp_roc_auc = roc_auc_score(y_test, mlp_y_pred)\n",
    "mlp_accuracy = accuracy_score(y_test, mlp_y_pred)\n",
    "mlp_recall = recall_score(y_test, mlp_y_pred)\n",
    "mlp_precision = precision_score(y_test, mlp_y_pred)\n",
    "\n",
    "# Print metrics\n",
    "print(\"ROC_AUC: %.2f%%\" % (mlp_roc_auc * 100.0))\n",
    "print(\"Accuracy: %.2f%%\" % (mlp_accuracy * 100.0))\n",
    "print('Recall: %.2f%%' % (mlp_recall * 100.0))\n",
    "print('Precision: %.2f%%' % (mlp_precision * 100.0))\n",
    "print(confusion_matrix(y_test, mlp_y_pred))"
   ]
  },
  {
   "cell_type": "markdown",
   "metadata": {},
   "source": [
    "#### Optimized MLP\n",
    "Now, we'll use the best parameters to fit the model.\n",
    "\n",
    "* __hidden_layer_sizes__: The ith element represents the number of neurons in the ith hidden layer\n",
    "* __activation__: function for the hidden layer\n",
    "* __solver__: for weight optimization\n",
    "* __max_iter__: maximum number of iterations taken for the solvers to converge"
   ]
  },
  {
   "cell_type": "code",
   "execution_count": 134,
   "metadata": {},
   "outputs": [
    {
     "ename": "ValueError",
     "evalue": "Input contains NaN, infinity or a value too large for dtype('float64').",
     "output_type": "error",
     "traceback": [
      "\u001b[0;31m---------------------------------------------------------------------------\u001b[0m",
      "\u001b[0;31m_RemoteTraceback\u001b[0m                          Traceback (most recent call last)",
      "\u001b[0;31m_RemoteTraceback\u001b[0m: \n\"\"\"\nTraceback (most recent call last):\n  File \"/Users/tsawaengsri/anaconda3/lib/python3.6/site-packages/sklearn/externals/joblib/externals/loky/process_executor.py\", line 418, in _process_worker\n    r = call_item()\n  File \"/Users/tsawaengsri/anaconda3/lib/python3.6/site-packages/sklearn/externals/joblib/externals/loky/process_executor.py\", line 272, in __call__\n    return self.fn(*self.args, **self.kwargs)\n  File \"/Users/tsawaengsri/anaconda3/lib/python3.6/site-packages/sklearn/externals/joblib/_parallel_backends.py\", line 567, in __call__\n    return self.func(*args, **kwargs)\n  File \"/Users/tsawaengsri/anaconda3/lib/python3.6/site-packages/sklearn/externals/joblib/parallel.py\", line 225, in __call__\n    for func, args, kwargs in self.items]\n  File \"/Users/tsawaengsri/anaconda3/lib/python3.6/site-packages/sklearn/externals/joblib/parallel.py\", line 225, in <listcomp>\n    for func, args, kwargs in self.items]\n  File \"/Users/tsawaengsri/anaconda3/lib/python3.6/site-packages/sklearn/model_selection/_validation.py\", line 568, in _fit_and_score\n    test_scores = _score(estimator, X_test, y_test, scorer, is_multimetric)\n  File \"/Users/tsawaengsri/anaconda3/lib/python3.6/site-packages/sklearn/model_selection/_validation.py\", line 605, in _score\n    return _multimetric_score(estimator, X_test, y_test, scorer)\n  File \"/Users/tsawaengsri/anaconda3/lib/python3.6/site-packages/sklearn/model_selection/_validation.py\", line 635, in _multimetric_score\n    score = scorer(estimator, X_test, y_test)\n  File \"/Users/tsawaengsri/anaconda3/lib/python3.6/site-packages/sklearn/metrics/scorer.py\", line 208, in __call__\n    return self._sign * self._score_func(y, y_pred, **self._kwargs)\n  File \"/Users/tsawaengsri/anaconda3/lib/python3.6/site-packages/sklearn/metrics/ranking.py\", line 356, in roc_auc_score\n    sample_weight=sample_weight)\n  File \"/Users/tsawaengsri/anaconda3/lib/python3.6/site-packages/sklearn/metrics/base.py\", line 77, in _average_binary_score\n    return binary_metric(y_true, y_score, sample_weight=sample_weight)\n  File \"/Users/tsawaengsri/anaconda3/lib/python3.6/site-packages/sklearn/metrics/ranking.py\", line 328, in _binary_roc_auc_score\n    sample_weight=sample_weight)\n  File \"/Users/tsawaengsri/anaconda3/lib/python3.6/site-packages/sklearn/metrics/ranking.py\", line 618, in roc_curve\n    y_true, y_score, pos_label=pos_label, sample_weight=sample_weight)\n  File \"/Users/tsawaengsri/anaconda3/lib/python3.6/site-packages/sklearn/metrics/ranking.py\", line 403, in _binary_clf_curve\n    assert_all_finite(y_score)\n  File \"/Users/tsawaengsri/anaconda3/lib/python3.6/site-packages/sklearn/utils/validation.py\", line 68, in assert_all_finite\n    _assert_all_finite(X.data if sp.issparse(X) else X, allow_nan)\n  File \"/Users/tsawaengsri/anaconda3/lib/python3.6/site-packages/sklearn/utils/validation.py\", line 56, in _assert_all_finite\n    raise ValueError(msg_err.format(type_err, X.dtype))\nValueError: Input contains NaN, infinity or a value too large for dtype('float64').\n\"\"\"",
      "\nThe above exception was the direct cause of the following exception:\n",
      "\u001b[0;31mValueError\u001b[0m                                Traceback (most recent call last)",
      "\u001b[0;32m<ipython-input-134-df362a99f6ad>\u001b[0m in \u001b[0;36m<module>\u001b[0;34m\u001b[0m\n\u001b[1;32m      9\u001b[0m \u001b[0;34m\u001b[0m\u001b[0m\n\u001b[1;32m     10\u001b[0m \u001b[0mgsc_mlp\u001b[0m \u001b[0;34m=\u001b[0m \u001b[0mGridSearchCV\u001b[0m\u001b[0;34m(\u001b[0m\u001b[0mmlp\u001b[0m\u001b[0;34m,\u001b[0m \u001b[0mparameters\u001b[0m\u001b[0;34m,\u001b[0m \u001b[0mcv\u001b[0m\u001b[0;34m=\u001b[0m\u001b[0;36m10\u001b[0m\u001b[0;34m,\u001b[0m \u001b[0mn_jobs\u001b[0m\u001b[0;34m=\u001b[0m\u001b[0;34m-\u001b[0m\u001b[0;36m1\u001b[0m\u001b[0;34m,\u001b[0m \u001b[0mscoring\u001b[0m\u001b[0;34m=\u001b[0m\u001b[0;34m'roc_auc'\u001b[0m\u001b[0;34m)\u001b[0m\u001b[0;34m\u001b[0m\u001b[0;34m\u001b[0m\u001b[0m\n\u001b[0;32m---> 11\u001b[0;31m \u001b[0mgsc_mlp\u001b[0m\u001b[0;34m.\u001b[0m\u001b[0mfit\u001b[0m\u001b[0;34m(\u001b[0m\u001b[0mX_train\u001b[0m\u001b[0;34m,\u001b[0m \u001b[0my_train\u001b[0m\u001b[0;34m)\u001b[0m\u001b[0;34m\u001b[0m\u001b[0;34m\u001b[0m\u001b[0m\n\u001b[0m\u001b[1;32m     12\u001b[0m \u001b[0mprint\u001b[0m\u001b[0;34m(\u001b[0m\u001b[0;34m\"Best: %f using %s\"\u001b[0m \u001b[0;34m%\u001b[0m\u001b[0;34m(\u001b[0m\u001b[0mgsc_mlp\u001b[0m\u001b[0;34m.\u001b[0m\u001b[0mbest_score_\u001b[0m\u001b[0;34m,\u001b[0m\u001b[0mgsc_mlp\u001b[0m\u001b[0;34m.\u001b[0m\u001b[0mbest_params_\u001b[0m\u001b[0;34m)\u001b[0m\u001b[0;34m)\u001b[0m\u001b[0;34m\u001b[0m\u001b[0;34m\u001b[0m\u001b[0m\n\u001b[1;32m     13\u001b[0m \u001b[0mprint\u001b[0m\u001b[0;34m(\u001b[0m\u001b[0;34m\"Execution time: \"\u001b[0m \u001b[0;34m+\u001b[0m \u001b[0mstr\u001b[0m\u001b[0;34m(\u001b[0m\u001b[0;34m(\u001b[0m\u001b[0mtime\u001b[0m\u001b[0;34m.\u001b[0m\u001b[0mtime\u001b[0m\u001b[0;34m(\u001b[0m\u001b[0;34m)\u001b[0m \u001b[0;34m-\u001b[0m \u001b[0mstart_time\u001b[0m\u001b[0;34m)\u001b[0m\u001b[0;34m)\u001b[0m \u001b[0;34m+\u001b[0m \u001b[0;34m' seconds'\u001b[0m\u001b[0;34m)\u001b[0m\u001b[0;34m\u001b[0m\u001b[0;34m\u001b[0m\u001b[0m\n",
      "\u001b[0;32m~/anaconda3/lib/python3.6/site-packages/sklearn/model_selection/_search.py\u001b[0m in \u001b[0;36mfit\u001b[0;34m(self, X, y, groups, **fit_params)\u001b[0m\n\u001b[1;32m    720\u001b[0m                 \u001b[0;32mreturn\u001b[0m \u001b[0mresults_container\u001b[0m\u001b[0;34m[\u001b[0m\u001b[0;36m0\u001b[0m\u001b[0;34m]\u001b[0m\u001b[0;34m\u001b[0m\u001b[0;34m\u001b[0m\u001b[0m\n\u001b[1;32m    721\u001b[0m \u001b[0;34m\u001b[0m\u001b[0m\n\u001b[0;32m--> 722\u001b[0;31m             \u001b[0mself\u001b[0m\u001b[0;34m.\u001b[0m\u001b[0m_run_search\u001b[0m\u001b[0;34m(\u001b[0m\u001b[0mevaluate_candidates\u001b[0m\u001b[0;34m)\u001b[0m\u001b[0;34m\u001b[0m\u001b[0;34m\u001b[0m\u001b[0m\n\u001b[0m\u001b[1;32m    723\u001b[0m \u001b[0;34m\u001b[0m\u001b[0m\n\u001b[1;32m    724\u001b[0m         \u001b[0mresults\u001b[0m \u001b[0;34m=\u001b[0m \u001b[0mresults_container\u001b[0m\u001b[0;34m[\u001b[0m\u001b[0;36m0\u001b[0m\u001b[0;34m]\u001b[0m\u001b[0;34m\u001b[0m\u001b[0;34m\u001b[0m\u001b[0m\n",
      "\u001b[0;32m~/anaconda3/lib/python3.6/site-packages/sklearn/model_selection/_search.py\u001b[0m in \u001b[0;36m_run_search\u001b[0;34m(self, evaluate_candidates)\u001b[0m\n\u001b[1;32m   1189\u001b[0m     \u001b[0;32mdef\u001b[0m \u001b[0m_run_search\u001b[0m\u001b[0;34m(\u001b[0m\u001b[0mself\u001b[0m\u001b[0;34m,\u001b[0m \u001b[0mevaluate_candidates\u001b[0m\u001b[0;34m)\u001b[0m\u001b[0;34m:\u001b[0m\u001b[0;34m\u001b[0m\u001b[0;34m\u001b[0m\u001b[0m\n\u001b[1;32m   1190\u001b[0m         \u001b[0;34m\"\"\"Search all candidates in param_grid\"\"\"\u001b[0m\u001b[0;34m\u001b[0m\u001b[0;34m\u001b[0m\u001b[0m\n\u001b[0;32m-> 1191\u001b[0;31m         \u001b[0mevaluate_candidates\u001b[0m\u001b[0;34m(\u001b[0m\u001b[0mParameterGrid\u001b[0m\u001b[0;34m(\u001b[0m\u001b[0mself\u001b[0m\u001b[0;34m.\u001b[0m\u001b[0mparam_grid\u001b[0m\u001b[0;34m)\u001b[0m\u001b[0;34m)\u001b[0m\u001b[0;34m\u001b[0m\u001b[0;34m\u001b[0m\u001b[0m\n\u001b[0m\u001b[1;32m   1192\u001b[0m \u001b[0;34m\u001b[0m\u001b[0m\n\u001b[1;32m   1193\u001b[0m \u001b[0;34m\u001b[0m\u001b[0m\n",
      "\u001b[0;32m~/anaconda3/lib/python3.6/site-packages/sklearn/model_selection/_search.py\u001b[0m in \u001b[0;36mevaluate_candidates\u001b[0;34m(candidate_params)\u001b[0m\n\u001b[1;32m    709\u001b[0m                                \u001b[0;32mfor\u001b[0m \u001b[0mparameters\u001b[0m\u001b[0;34m,\u001b[0m \u001b[0;34m(\u001b[0m\u001b[0mtrain\u001b[0m\u001b[0;34m,\u001b[0m \u001b[0mtest\u001b[0m\u001b[0;34m)\u001b[0m\u001b[0;34m\u001b[0m\u001b[0;34m\u001b[0m\u001b[0m\n\u001b[1;32m    710\u001b[0m                                in product(candidate_params,\n\u001b[0;32m--> 711\u001b[0;31m                                           cv.split(X, y, groups)))\n\u001b[0m\u001b[1;32m    712\u001b[0m \u001b[0;34m\u001b[0m\u001b[0m\n\u001b[1;32m    713\u001b[0m                 \u001b[0mall_candidate_params\u001b[0m\u001b[0;34m.\u001b[0m\u001b[0mextend\u001b[0m\u001b[0;34m(\u001b[0m\u001b[0mcandidate_params\u001b[0m\u001b[0;34m)\u001b[0m\u001b[0;34m\u001b[0m\u001b[0;34m\u001b[0m\u001b[0m\n",
      "\u001b[0;32m~/anaconda3/lib/python3.6/site-packages/sklearn/externals/joblib/parallel.py\u001b[0m in \u001b[0;36m__call__\u001b[0;34m(self, iterable)\u001b[0m\n\u001b[1;32m    928\u001b[0m \u001b[0;34m\u001b[0m\u001b[0m\n\u001b[1;32m    929\u001b[0m             \u001b[0;32mwith\u001b[0m \u001b[0mself\u001b[0m\u001b[0;34m.\u001b[0m\u001b[0m_backend\u001b[0m\u001b[0;34m.\u001b[0m\u001b[0mretrieval_context\u001b[0m\u001b[0;34m(\u001b[0m\u001b[0;34m)\u001b[0m\u001b[0;34m:\u001b[0m\u001b[0;34m\u001b[0m\u001b[0;34m\u001b[0m\u001b[0m\n\u001b[0;32m--> 930\u001b[0;31m                 \u001b[0mself\u001b[0m\u001b[0;34m.\u001b[0m\u001b[0mretrieve\u001b[0m\u001b[0;34m(\u001b[0m\u001b[0;34m)\u001b[0m\u001b[0;34m\u001b[0m\u001b[0;34m\u001b[0m\u001b[0m\n\u001b[0m\u001b[1;32m    931\u001b[0m             \u001b[0;31m# Make sure that we get a last message telling us we are done\u001b[0m\u001b[0;34m\u001b[0m\u001b[0;34m\u001b[0m\u001b[0;34m\u001b[0m\u001b[0m\n\u001b[1;32m    932\u001b[0m             \u001b[0melapsed_time\u001b[0m \u001b[0;34m=\u001b[0m \u001b[0mtime\u001b[0m\u001b[0;34m.\u001b[0m\u001b[0mtime\u001b[0m\u001b[0;34m(\u001b[0m\u001b[0;34m)\u001b[0m \u001b[0;34m-\u001b[0m \u001b[0mself\u001b[0m\u001b[0;34m.\u001b[0m\u001b[0m_start_time\u001b[0m\u001b[0;34m\u001b[0m\u001b[0;34m\u001b[0m\u001b[0m\n",
      "\u001b[0;32m~/anaconda3/lib/python3.6/site-packages/sklearn/externals/joblib/parallel.py\u001b[0m in \u001b[0;36mretrieve\u001b[0;34m(self)\u001b[0m\n\u001b[1;32m    831\u001b[0m             \u001b[0;32mtry\u001b[0m\u001b[0;34m:\u001b[0m\u001b[0;34m\u001b[0m\u001b[0;34m\u001b[0m\u001b[0m\n\u001b[1;32m    832\u001b[0m                 \u001b[0;32mif\u001b[0m \u001b[0mgetattr\u001b[0m\u001b[0;34m(\u001b[0m\u001b[0mself\u001b[0m\u001b[0;34m.\u001b[0m\u001b[0m_backend\u001b[0m\u001b[0;34m,\u001b[0m \u001b[0;34m'supports_timeout'\u001b[0m\u001b[0;34m,\u001b[0m \u001b[0;32mFalse\u001b[0m\u001b[0;34m)\u001b[0m\u001b[0;34m:\u001b[0m\u001b[0;34m\u001b[0m\u001b[0;34m\u001b[0m\u001b[0m\n\u001b[0;32m--> 833\u001b[0;31m                     \u001b[0mself\u001b[0m\u001b[0;34m.\u001b[0m\u001b[0m_output\u001b[0m\u001b[0;34m.\u001b[0m\u001b[0mextend\u001b[0m\u001b[0;34m(\u001b[0m\u001b[0mjob\u001b[0m\u001b[0;34m.\u001b[0m\u001b[0mget\u001b[0m\u001b[0;34m(\u001b[0m\u001b[0mtimeout\u001b[0m\u001b[0;34m=\u001b[0m\u001b[0mself\u001b[0m\u001b[0;34m.\u001b[0m\u001b[0mtimeout\u001b[0m\u001b[0;34m)\u001b[0m\u001b[0;34m)\u001b[0m\u001b[0;34m\u001b[0m\u001b[0;34m\u001b[0m\u001b[0m\n\u001b[0m\u001b[1;32m    834\u001b[0m                 \u001b[0;32melse\u001b[0m\u001b[0;34m:\u001b[0m\u001b[0;34m\u001b[0m\u001b[0;34m\u001b[0m\u001b[0m\n\u001b[1;32m    835\u001b[0m                     \u001b[0mself\u001b[0m\u001b[0;34m.\u001b[0m\u001b[0m_output\u001b[0m\u001b[0;34m.\u001b[0m\u001b[0mextend\u001b[0m\u001b[0;34m(\u001b[0m\u001b[0mjob\u001b[0m\u001b[0;34m.\u001b[0m\u001b[0mget\u001b[0m\u001b[0;34m(\u001b[0m\u001b[0;34m)\u001b[0m\u001b[0;34m)\u001b[0m\u001b[0;34m\u001b[0m\u001b[0;34m\u001b[0m\u001b[0m\n",
      "\u001b[0;32m~/anaconda3/lib/python3.6/site-packages/sklearn/externals/joblib/_parallel_backends.py\u001b[0m in \u001b[0;36mwrap_future_result\u001b[0;34m(future, timeout)\u001b[0m\n\u001b[1;32m    519\u001b[0m         AsyncResults.get from multiprocessing.\"\"\"\n\u001b[1;32m    520\u001b[0m         \u001b[0;32mtry\u001b[0m\u001b[0;34m:\u001b[0m\u001b[0;34m\u001b[0m\u001b[0;34m\u001b[0m\u001b[0m\n\u001b[0;32m--> 521\u001b[0;31m             \u001b[0;32mreturn\u001b[0m \u001b[0mfuture\u001b[0m\u001b[0;34m.\u001b[0m\u001b[0mresult\u001b[0m\u001b[0;34m(\u001b[0m\u001b[0mtimeout\u001b[0m\u001b[0;34m=\u001b[0m\u001b[0mtimeout\u001b[0m\u001b[0;34m)\u001b[0m\u001b[0;34m\u001b[0m\u001b[0;34m\u001b[0m\u001b[0m\n\u001b[0m\u001b[1;32m    522\u001b[0m         \u001b[0;32mexcept\u001b[0m \u001b[0mLokyTimeoutError\u001b[0m\u001b[0;34m:\u001b[0m\u001b[0;34m\u001b[0m\u001b[0;34m\u001b[0m\u001b[0m\n\u001b[1;32m    523\u001b[0m             \u001b[0;32mraise\u001b[0m \u001b[0mTimeoutError\u001b[0m\u001b[0;34m(\u001b[0m\u001b[0;34m)\u001b[0m\u001b[0;34m\u001b[0m\u001b[0;34m\u001b[0m\u001b[0m\n",
      "\u001b[0;32m~/anaconda3/lib/python3.6/concurrent/futures/_base.py\u001b[0m in \u001b[0;36mresult\u001b[0;34m(self, timeout)\u001b[0m\n\u001b[1;32m    430\u001b[0m                 \u001b[0;32mraise\u001b[0m \u001b[0mCancelledError\u001b[0m\u001b[0;34m(\u001b[0m\u001b[0;34m)\u001b[0m\u001b[0;34m\u001b[0m\u001b[0;34m\u001b[0m\u001b[0m\n\u001b[1;32m    431\u001b[0m             \u001b[0;32melif\u001b[0m \u001b[0mself\u001b[0m\u001b[0;34m.\u001b[0m\u001b[0m_state\u001b[0m \u001b[0;34m==\u001b[0m \u001b[0mFINISHED\u001b[0m\u001b[0;34m:\u001b[0m\u001b[0;34m\u001b[0m\u001b[0;34m\u001b[0m\u001b[0m\n\u001b[0;32m--> 432\u001b[0;31m                 \u001b[0;32mreturn\u001b[0m \u001b[0mself\u001b[0m\u001b[0;34m.\u001b[0m\u001b[0m__get_result\u001b[0m\u001b[0;34m(\u001b[0m\u001b[0;34m)\u001b[0m\u001b[0;34m\u001b[0m\u001b[0;34m\u001b[0m\u001b[0m\n\u001b[0m\u001b[1;32m    433\u001b[0m             \u001b[0;32melse\u001b[0m\u001b[0;34m:\u001b[0m\u001b[0;34m\u001b[0m\u001b[0;34m\u001b[0m\u001b[0m\n\u001b[1;32m    434\u001b[0m                 \u001b[0;32mraise\u001b[0m \u001b[0mTimeoutError\u001b[0m\u001b[0;34m(\u001b[0m\u001b[0;34m)\u001b[0m\u001b[0;34m\u001b[0m\u001b[0;34m\u001b[0m\u001b[0m\n",
      "\u001b[0;32m~/anaconda3/lib/python3.6/concurrent/futures/_base.py\u001b[0m in \u001b[0;36m__get_result\u001b[0;34m(self)\u001b[0m\n\u001b[1;32m    382\u001b[0m     \u001b[0;32mdef\u001b[0m \u001b[0m__get_result\u001b[0m\u001b[0;34m(\u001b[0m\u001b[0mself\u001b[0m\u001b[0;34m)\u001b[0m\u001b[0;34m:\u001b[0m\u001b[0;34m\u001b[0m\u001b[0;34m\u001b[0m\u001b[0m\n\u001b[1;32m    383\u001b[0m         \u001b[0;32mif\u001b[0m \u001b[0mself\u001b[0m\u001b[0;34m.\u001b[0m\u001b[0m_exception\u001b[0m\u001b[0;34m:\u001b[0m\u001b[0;34m\u001b[0m\u001b[0;34m\u001b[0m\u001b[0m\n\u001b[0;32m--> 384\u001b[0;31m             \u001b[0;32mraise\u001b[0m \u001b[0mself\u001b[0m\u001b[0;34m.\u001b[0m\u001b[0m_exception\u001b[0m\u001b[0;34m\u001b[0m\u001b[0;34m\u001b[0m\u001b[0m\n\u001b[0m\u001b[1;32m    385\u001b[0m         \u001b[0;32melse\u001b[0m\u001b[0;34m:\u001b[0m\u001b[0;34m\u001b[0m\u001b[0;34m\u001b[0m\u001b[0m\n\u001b[1;32m    386\u001b[0m             \u001b[0;32mreturn\u001b[0m \u001b[0mself\u001b[0m\u001b[0;34m.\u001b[0m\u001b[0m_result\u001b[0m\u001b[0;34m\u001b[0m\u001b[0;34m\u001b[0m\u001b[0m\n",
      "\u001b[0;31mValueError\u001b[0m: Input contains NaN, infinity or a value too large for dtype('float64')."
     ]
    }
   ],
   "source": [
    "#Optimizing MLP\n",
    "start_time = time.time()\n",
    "\n",
    "parameters = {\n",
    "    'hidden_layer_sizes': [(50,50,50), (50,100,50), (100,)],\n",
    "    'activation': ['tanh', 'relu'],\n",
    "    'solver': ['sgd', 'adam'],\n",
    "    'max_iter': [200, 350, 500]}\n",
    "\n",
    "gsc_mlp = GridSearchCV(mlp, parameters, cv=10, n_jobs=-1, scoring='roc_auc')\n",
    "gsc_mlp.fit(X_train, y_train)\n",
    "print(\"Best: %f using %s\" %(gsc_mlp.best_score_,gsc_mlp.best_params_))\n",
    "print(\"Execution time: \" + str((time.time() - start_time)) + ' seconds')\n"
   ]
  },
  {
   "cell_type": "code",
   "execution_count": 135,
   "metadata": {},
   "outputs": [
    {
     "name": "stdout",
     "output_type": "stream",
     "text": [
      "[0.98927079 0.99091007 0.98980376 0.99348597 0.99144764 0.99263009\n",
      " 0.99345019 0.99024042 0.9922413  0.99419866]\n"
     ]
    }
   ],
   "source": [
    "# Establish and fit the model\n",
    "gsc_mlp = MLPClassifier(max_iter=100, activation='tanh', alpha= 0.0001, hidden_layer_sizes=(100,), \n",
    "                        learning_rate='adaptive', solver='adam') \n",
    "gsc_mlp.fit(X_train, y_train)\n",
    "gsc_mlp_y_pred = gsc_mlp.predict(X_test)\n",
    "\n",
    "# Check for overfitting\n",
    "print(cross_val_score(gsc_mlp, X_train, y_train, cv=10, scoring='roc_auc'))"
   ]
  },
  {
   "cell_type": "code",
   "execution_count": 136,
   "metadata": {},
   "outputs": [
    {
     "name": "stdout",
     "output_type": "stream",
     "text": [
      "ROC_AUC: 96.27%\n",
      "Accuracy: 96.31%\n",
      "Recall: 95.55%\n",
      "Precision: 96.58%\n",
      "[[3250  101]\n",
      " [ 133 2855]]\n"
     ]
    }
   ],
   "source": [
    "# Calculate metrics\n",
    "gsc_mlp_roc_auc = roc_auc_score(y_test, gsc_mlp_y_pred)\n",
    "gsc_mlp_accuracy = accuracy_score(y_test, gsc_mlp_y_pred)\n",
    "gsc_mlp_recall = recall_score(y_test, gsc_mlp_y_pred)\n",
    "gsc_mlp_precision = precision_score(y_test, gsc_mlp_y_pred)\n",
    "\n",
    "# Print metrics\n",
    "print(\"ROC_AUC: %.2f%%\" % (gsc_mlp_roc_auc * 100.0))\n",
    "print(\"Accuracy: %.2f%%\" % (gsc_mlp_accuracy * 100.0))\n",
    "print('Recall: %.2f%%' % (gsc_mlp_recall * 100.0))\n",
    "print('Precision: %.2f%%' % (gsc_mlp_precision * 100.0))\n",
    "print(confusion_matrix(y_test, gsc_mlp_y_pred))"
   ]
  },
  {
   "cell_type": "code",
   "execution_count": 137,
   "metadata": {},
   "outputs": [
    {
     "data": {
      "image/png": "[encoded data removed]",
      "text/plain": [
       "<Figure size 432x288 with 1 Axes>"
      ]
     },
     "metadata": {
      "needs_background": "light"
     },
     "output_type": "display_data"
    }
   ],
   "source": [
    "# Function to plot ROC curve \n",
    "roc_curve(gsc_mlp, X_train, y_train, X_test, y_test)"
   ]
  },
  {
   "cell_type": "markdown",
   "metadata": {},
   "source": [
    "__Evaluation__: The optimized MLP is comparable to the random forest model. After tuning, recall score increased from 85% to 90%. Precision remained the same (90%). "
   ]
  },
  {
   "cell_type": "markdown",
   "metadata": {},
   "source": [
    "## Supervised Learning Results"
   ]
  },
  {
   "cell_type": "code",
   "execution_count": 138,
   "metadata": {},
   "outputs": [
    {
     "data": {
      "text/html": [
       "<div>\n",
       "<style scoped>\n",
       "    .dataframe tbody tr th:only-of-type {\n",
       "        vertical-align: middle;\n",
       "    }\n",
       "\n",
       "    .dataframe tbody tr th {\n",
       "        vertical-align: top;\n",
       "    }\n",
       "\n",
       "    .dataframe thead th {\n",
       "        text-align: right;\n",
       "    }\n",
       "</style>\n",
       "<table border=\"1\" class=\"dataframe\">\n",
       "  <thead>\n",
       "    <tr style=\"text-align: right;\">\n",
       "      <th></th>\n",
       "      <th>Model</th>\n",
       "      <th>ROC_AUC</th>\n",
       "      <th>Accuracy</th>\n",
       "      <th>Recall</th>\n",
       "      <th>Precision</th>\n",
       "    </tr>\n",
       "  </thead>\n",
       "  <tbody>\n",
       "    <tr>\n",
       "      <th>1</th>\n",
       "      <td>Random Forest</td>\n",
       "      <td>0.997675</td>\n",
       "      <td>0.997791</td>\n",
       "      <td>0.995649</td>\n",
       "      <td>0.999664</td>\n",
       "    </tr>\n",
       "    <tr>\n",
       "      <th>2</th>\n",
       "      <td>Multi-Layer Preceptron Neural Network</td>\n",
       "      <td>0.962674</td>\n",
       "      <td>0.963086</td>\n",
       "      <td>0.955489</td>\n",
       "      <td>0.965832</td>\n",
       "    </tr>\n",
       "    <tr>\n",
       "      <th>0</th>\n",
       "      <td>Logistic Regression</td>\n",
       "      <td>0.959334</td>\n",
       "      <td>0.958826</td>\n",
       "      <td>0.968206</td>\n",
       "      <td>0.945734</td>\n",
       "    </tr>\n",
       "  </tbody>\n",
       "</table>\n",
       "</div>"
      ],
      "text/plain": [
       "                                   Model   ROC_AUC  Accuracy    Recall  \\\n",
       "1                          Random Forest  0.997675  0.997791  0.995649   \n",
       "2  Multi-Layer Preceptron Neural Network  0.962674  0.963086  0.955489   \n",
       "0                    Logistic Regression  0.959334  0.958826  0.968206   \n",
       "\n",
       "   Precision  \n",
       "1   0.999664  \n",
       "2   0.965832  \n",
       "0   0.945734  "
      ]
     },
     "execution_count": 138,
     "metadata": {},
     "output_type": "execute_result"
    }
   ],
   "source": [
    "# Dataframe to hold the results\n",
    "model_comparison = pd.DataFrame({'Model': ['Logistic Regression', 'Random Forest',\n",
    "                                           'Multi-Layer Preceptron Neural Network'],\n",
    "                                 'ROC_AUC': [gsc_lr_roc_auc, gsc_rf_roc_auc, gsc_mlp_roc_auc],\n",
    "                                'Accuracy': [gsc_lr_accuracy, gsc_rf_accuracy, gsc_mlp_accuracy],\n",
    "                                'Recall': [gsc_lr_recall, gsc_rf_recall, gsc_mlp_recall],\n",
    "                                'Precision': [gsc_lr_precision, gsc_rf_precision, gsc_mlp_precision]})\n",
    "\n",
    "# Horizontal bar chart of \n",
    "model_comparison.sort_values('ROC_AUC', ascending = False)"
   ]
  },
  {
   "cell_type": "markdown",
   "metadata": {},
   "source": [
    "#### Which model performed best?\n",
    "As we can see, random forest and mlp were the top models across all metrics. However, the average scores of the random forest model remained within 99% for all metrics while mlp scores ranged from 89% to 90%."
   ]
  },
  {
   "cell_type": "markdown",
   "metadata": {},
   "source": [
    "## Unsupervised Learning: Segmenting Tweets\n",
    "\n",
    "In the previous section, we built several models to classify tweets and identified feature importance with random forest. We will continue to examine tweeting patterns from genuine and bot users through clustering. \n",
    "\n",
    "First, let's try to get a better understanding of what a tweet from a genuine user might consist of. \n"
   ]
  },
  {
   "cell_type": "code",
   "execution_count": 165,
   "metadata": {},
   "outputs": [
    {
     "data": {
      "text/html": [
       "<div>\n",
       "<style scoped>\n",
       "    .dataframe tbody tr th:only-of-type {\n",
       "        vertical-align: middle;\n",
       "    }\n",
       "\n",
       "    .dataframe tbody tr th {\n",
       "        vertical-align: top;\n",
       "    }\n",
       "\n",
       "    .dataframe thead th {\n",
       "        text-align: right;\n",
       "    }\n",
       "</style>\n",
       "<table border=\"1\" class=\"dataframe\">\n",
       "  <thead>\n",
       "    <tr style=\"text-align: right;\">\n",
       "      <th></th>\n",
       "      <th>statuses_count</th>\n",
       "      <th>followers_count</th>\n",
       "      <th>friends_count</th>\n",
       "      <th>favourites_count</th>\n",
       "      <th>listed_count</th>\n",
       "      <th>class</th>\n",
       "      <th>retweet_count</th>\n",
       "      <th>reply_count</th>\n",
       "      <th>favorite_count</th>\n",
       "      <th>num_hashtags</th>\n",
       "      <th>...</th>\n",
       "      <th>num_mentions</th>\n",
       "      <th>account_age_yr</th>\n",
       "      <th>digit_in_name</th>\n",
       "      <th>user_name_len</th>\n",
       "      <th>tweet_hour</th>\n",
       "      <th>tweet_month</th>\n",
       "      <th>tweet_day</th>\n",
       "      <th>tweet_year</th>\n",
       "      <th>tweet_length</th>\n",
       "      <th>num_of_words</th>\n",
       "    </tr>\n",
       "  </thead>\n",
       "  <tbody>\n",
       "    <tr>\n",
       "      <th>0</th>\n",
       "      <td>11747</td>\n",
       "      <td>774</td>\n",
       "      <td>1991</td>\n",
       "      <td>1</td>\n",
       "      <td>2</td>\n",
       "      <td>1</td>\n",
       "      <td>0</td>\n",
       "      <td>0</td>\n",
       "      <td>0</td>\n",
       "      <td>0</td>\n",
       "      <td>...</td>\n",
       "      <td>0</td>\n",
       "      <td>8</td>\n",
       "      <td>3</td>\n",
       "      <td>9</td>\n",
       "      <td>4</td>\n",
       "      <td>9</td>\n",
       "      <td>16</td>\n",
       "      <td>2014</td>\n",
       "      <td>63</td>\n",
       "      <td>8</td>\n",
       "    </tr>\n",
       "    <tr>\n",
       "      <th>1</th>\n",
       "      <td>79</td>\n",
       "      <td>3</td>\n",
       "      <td>36</td>\n",
       "      <td>0</td>\n",
       "      <td>0</td>\n",
       "      <td>1</td>\n",
       "      <td>0</td>\n",
       "      <td>0</td>\n",
       "      <td>0</td>\n",
       "      <td>0</td>\n",
       "      <td>...</td>\n",
       "      <td>0</td>\n",
       "      <td>5</td>\n",
       "      <td>0</td>\n",
       "      <td>14</td>\n",
       "      <td>1</td>\n",
       "      <td>4</td>\n",
       "      <td>26</td>\n",
       "      <td>2014</td>\n",
       "      <td>113</td>\n",
       "      <td>18</td>\n",
       "    </tr>\n",
       "    <tr>\n",
       "      <th>2</th>\n",
       "      <td>63</td>\n",
       "      <td>4</td>\n",
       "      <td>37</td>\n",
       "      <td>0</td>\n",
       "      <td>0</td>\n",
       "      <td>1</td>\n",
       "      <td>0</td>\n",
       "      <td>0</td>\n",
       "      <td>0</td>\n",
       "      <td>0</td>\n",
       "      <td>...</td>\n",
       "      <td>0</td>\n",
       "      <td>5</td>\n",
       "      <td>0</td>\n",
       "      <td>13</td>\n",
       "      <td>10</td>\n",
       "      <td>4</td>\n",
       "      <td>3</td>\n",
       "      <td>2014</td>\n",
       "      <td>27</td>\n",
       "      <td>7</td>\n",
       "    </tr>\n",
       "    <tr>\n",
       "      <th>3</th>\n",
       "      <td>53</td>\n",
       "      <td>7</td>\n",
       "      <td>41</td>\n",
       "      <td>0</td>\n",
       "      <td>0</td>\n",
       "      <td>1</td>\n",
       "      <td>0</td>\n",
       "      <td>0</td>\n",
       "      <td>0</td>\n",
       "      <td>0</td>\n",
       "      <td>...</td>\n",
       "      <td>0</td>\n",
       "      <td>5</td>\n",
       "      <td>0</td>\n",
       "      <td>10</td>\n",
       "      <td>16</td>\n",
       "      <td>6</td>\n",
       "      <td>22</td>\n",
       "      <td>2014</td>\n",
       "      <td>89</td>\n",
       "      <td>18</td>\n",
       "    </tr>\n",
       "    <tr>\n",
       "      <th>4</th>\n",
       "      <td>12704</td>\n",
       "      <td>634</td>\n",
       "      <td>1284</td>\n",
       "      <td>1</td>\n",
       "      <td>2</td>\n",
       "      <td>1</td>\n",
       "      <td>0</td>\n",
       "      <td>0</td>\n",
       "      <td>0</td>\n",
       "      <td>0</td>\n",
       "      <td>...</td>\n",
       "      <td>0</td>\n",
       "      <td>9</td>\n",
       "      <td>0</td>\n",
       "      <td>14</td>\n",
       "      <td>1</td>\n",
       "      <td>10</td>\n",
       "      <td>10</td>\n",
       "      <td>2014</td>\n",
       "      <td>89</td>\n",
       "      <td>17</td>\n",
       "    </tr>\n",
       "  </tbody>\n",
       "</table>\n",
       "<p>5 rows × 21 columns</p>\n",
       "</div>"
      ],
      "text/plain": [
       "   statuses_count  followers_count  friends_count  favourites_count  \\\n",
       "0           11747              774           1991                 1   \n",
       "1              79                3             36                 0   \n",
       "2              63                4             37                 0   \n",
       "3              53                7             41                 0   \n",
       "4           12704              634           1284                 1   \n",
       "\n",
       "   listed_count  class  retweet_count  reply_count  favorite_count  \\\n",
       "0             2      1              0            0               0   \n",
       "1             0      1              0            0               0   \n",
       "2             0      1              0            0               0   \n",
       "3             0      1              0            0               0   \n",
       "4             2      1              0            0               0   \n",
       "\n",
       "   num_hashtags  ...  num_mentions  account_age_yr  digit_in_name  \\\n",
       "0             0  ...             0               8              3   \n",
       "1             0  ...             0               5              0   \n",
       "2             0  ...             0               5              0   \n",
       "3             0  ...             0               5              0   \n",
       "4             0  ...             0               9              0   \n",
       "\n",
       "   user_name_len  tweet_hour  tweet_month  tweet_day  tweet_year  \\\n",
       "0              9           4            9         16        2014   \n",
       "1             14           1            4         26        2014   \n",
       "2             13          10            4          3        2014   \n",
       "3             10          16            6         22        2014   \n",
       "4             14           1           10         10        2014   \n",
       "\n",
       "   tweet_length  num_of_words  \n",
       "0            63             8  \n",
       "1           113            18  \n",
       "2            27             7  \n",
       "3            89            18  \n",
       "4            89            17  \n",
       "\n",
       "[5 rows x 21 columns]"
      ]
     },
     "execution_count": 165,
     "metadata": {},
     "output_type": "execute_result"
    }
   ],
   "source": [
    "# Drop text components \n",
    "df2 = df_clean.iloc[:,0:21]\n",
    "df2.head()"
   ]
  },
  {
   "cell_type": "markdown",
   "metadata": {},
   "source": [
    "### Distinction between class \n",
    "Let's check if there are any tweeting obvious patterns in the data. "
   ]
  },
  {
   "cell_type": "code",
   "execution_count": 144,
   "metadata": {},
   "outputs": [
    {
     "name": "stdout",
     "output_type": "stream",
     "text": [
      "       statuses_count  followers_count  friends_count  favourites_count  \\\n",
      "class                                                                     \n",
      "0        23900.369057      3291.728713     765.380249       5322.272182   \n",
      "1         9508.118397      2002.584153    1601.198132         55.640590   \n",
      "\n",
      "       listed_count  retweet_count  reply_count  favorite_count  num_hashtags  \\\n",
      "class                                                                           \n",
      "0         41.539350     951.441579          0.0        0.445877      0.242457   \n",
      "1          9.504519       2.432717          0.0        0.113477      0.050311   \n",
      "\n",
      "       num_urls  num_mentions  account_age_yr  digit_in_name  user_name_len  \\\n",
      "class                                                                         \n",
      "0      0.145850      0.774107        8.211926       0.365207      10.849584   \n",
      "1      0.330086      0.107150        7.060956       0.214601      11.902189   \n",
      "\n",
      "       tweet_hour  tweet_month  tweet_day   tweet_year  tweet_length  \\\n",
      "class                                                                  \n",
      "0       11.192945     5.401737  16.019071  2014.235473     73.307816   \n",
      "1       12.712191     8.605543  16.549006  2013.963145     79.829584   \n",
      "\n",
      "       num_of_words  \n",
      "class                \n",
      "0         11.538544  \n",
      "1         13.337618  \n"
     ]
    }
   ],
   "source": [
    "# Groupby categories and take the mean\n",
    "print(df2.groupby('class').mean())"
   ]
  },
  {
   "cell_type": "markdown",
   "metadata": {},
   "source": [
    "__Observation__: Based on the summary, the average retweet count for genuine tweets is substantially higher than tweets by bots. Genuine tweets tend to contain more hastags and mentions. Let's take a closer look at those features. "
   ]
  },
  {
   "cell_type": "code",
   "execution_count": 146,
   "metadata": {},
   "outputs": [
    {
     "name": "stdout",
     "output_type": "stream",
     "text": [
      "0        5103\n",
      "1        4079\n",
      "2         263\n",
      "3          91\n",
      "11         53\n",
      "         ... \n",
      "610         1\n",
      "12004       1\n",
      "1050        1\n",
      "10          1\n",
      "3786        1\n",
      "Name: favourites_count, Length: 794, dtype: int64\n"
     ]
    }
   ],
   "source": [
    "# Group by favourites_count groups and get the mean\n",
    "df2.groupby('favourites_count').mean()\n",
    "\n",
    "# Count the values of the observations in each favourites_count group\n",
    "print(df2['favourites_count'].value_counts())"
   ]
  },
  {
   "cell_type": "code",
   "execution_count": 150,
   "metadata": {},
   "outputs": [
    {
     "data": {
      "image/png": "[encoded data removed]",
      "text/plain": [
       "<Figure size 1008x504 with 2 Axes>"
      ]
     },
     "metadata": {
      "needs_background": "light"
     },
     "output_type": "display_data"
    }
   ],
   "source": [
    "# Create two dataframes with fraud and non-fraud data \n",
    "bots = df2.loc[df2['class'] == 1] \n",
    "gen = df2.loc[df2['class'] == 0]\n",
    "\n",
    "plt.figure(figsize=(14,7))\n",
    "\n",
    "# Plot histograms of the retweet_count in bot and gen tweets\n",
    "plt.subplot(1, 2, 1)\n",
    "plt.hist(bots.favourites_count)\n",
    "plt.xlabel('# Favorite')\n",
    "plt.ylabel('# Counts')\n",
    "plt.title('Counts of Favorite for Bot Tweets')\n",
    "\n",
    "# Plot histograms of the num_mentions in bot and gen tweets\n",
    "plt.subplot(1, 2, 2)\n",
    "plt.hist(gen.favourites_count)\n",
    "plt.xlabel('# Favorite')\n",
    "plt.ylabel('# Counts')\n",
    "plt.title('Counts of Favorite for Genuine Tweets')\n",
    "plt.show()"
   ]
  },
  {
   "cell_type": "code",
   "execution_count": 151,
   "metadata": {},
   "outputs": [
    {
     "name": "stdout",
     "output_type": "stream",
     "text": [
      "0        16805\n",
      "1         1336\n",
      "2          354\n",
      "3          220\n",
      "4          125\n",
      "         ...  \n",
      "10189        1\n",
      "1961         1\n",
      "16206        1\n",
      "1817         1\n",
      "91979        1\n",
      "Name: retweet_count, Length: 1095, dtype: int64\n"
     ]
    }
   ],
   "source": [
    "# Group by num_mentions groups and get the mean\n",
    "df2.groupby('retweet_count').mean()\n",
    "\n",
    "# Count the values of the observations in each num_mentions group\n",
    "print(df2['retweet_count'].value_counts())"
   ]
  },
  {
   "cell_type": "code",
   "execution_count": 152,
   "metadata": {},
   "outputs": [
    {
     "data": {
      "image/png": "[encoded data removed]",
      "text/plain": [
       "<Figure size 1008x504 with 2 Axes>"
      ]
     },
     "metadata": {
      "needs_background": "light"
     },
     "output_type": "display_data"
    }
   ],
   "source": [
    "# Create two dataframes with fraud and non-fraud data \n",
    "bots = df2.loc[df2['class'] == 1] \n",
    "gen = df2.loc[df2['class'] == 0]\n",
    "\n",
    "plt.figure(figsize=(14,7))\n",
    "\n",
    "# Plot histograms of the retweet_count in bot tweets\n",
    "plt.subplot(1, 2, 1)\n",
    "plt.hist(bots.retweet_count)\n",
    "plt.xlabel('# Retweets')\n",
    "plt.ylabel('# Counts')\n",
    "plt.title('Counts of Retweets for Bot Tweets')\n",
    "\n",
    "\n",
    "# Plot histograms of the retweet_count in gen tweets\n",
    "plt.subplot(1, 2, 2)\n",
    "plt.hist(gen.retweet_count)\n",
    "plt.xlabel('# Retweets')\n",
    "plt.ylabel('# Counts')\n",
    "plt.title('Counts of Retweets for Genuine Tweets')\n",
    "plt.show()"
   ]
  },
  {
   "cell_type": "markdown",
   "metadata": {},
   "source": [
    "__Observation__: We can observe several genuine tweets that have more than 100,000 retweets. This may have skewed the average retweet count for genuine tweets. Likewise with the number of mentions, there are a couple of tweets that consists of 6 mentions or more while the average mention is around 2 for genuine tweets."
   ]
  },
  {
   "cell_type": "markdown",
   "metadata": {},
   "source": [
    "## Clustering Pre-Processing \n",
    "Before we can begin clustering perpare the data by:\n",
    "\n",
    "1. Unskew the data - log transformation \n",
    "2. Standardize to the same average values\n",
    "3. Scale to the same standard deviation \n",
    "4. Store as a separate array to be used for clustering \n"
   ]
  },
  {
   "cell_type": "code",
   "execution_count": 200,
   "metadata": {},
   "outputs": [
    {
     "data": {
      "text/html": [
       "<div>\n",
       "<style scoped>\n",
       "    .dataframe tbody tr th:only-of-type {\n",
       "        vertical-align: middle;\n",
       "    }\n",
       "\n",
       "    .dataframe tbody tr th {\n",
       "        vertical-align: top;\n",
       "    }\n",
       "\n",
       "    .dataframe thead th {\n",
       "        text-align: right;\n",
       "    }\n",
       "</style>\n",
       "<table border=\"1\" class=\"dataframe\">\n",
       "  <thead>\n",
       "    <tr style=\"text-align: right;\">\n",
       "      <th></th>\n",
       "      <th>statuses_count</th>\n",
       "      <th>followers_count</th>\n",
       "      <th>friends_count</th>\n",
       "      <th>favourites_count</th>\n",
       "      <th>listed_count</th>\n",
       "      <th>class</th>\n",
       "      <th>retweet_count</th>\n",
       "      <th>reply_count</th>\n",
       "      <th>favorite_count</th>\n",
       "      <th>num_hashtags</th>\n",
       "      <th>...</th>\n",
       "      <th>account_age_yr</th>\n",
       "      <th>digit_in_name</th>\n",
       "      <th>user_name_len</th>\n",
       "      <th>tweet_hour</th>\n",
       "      <th>tweet_month</th>\n",
       "      <th>tweet_day</th>\n",
       "      <th>tweet_year</th>\n",
       "      <th>tweet_length</th>\n",
       "      <th>num_of_words</th>\n",
       "      <th>cluster_assignment</th>\n",
       "    </tr>\n",
       "  </thead>\n",
       "  <tbody>\n",
       "    <tr>\n",
       "      <th>count</th>\n",
       "      <td>21127.000000</td>\n",
       "      <td>21127.000000</td>\n",
       "      <td>21127.000000</td>\n",
       "      <td>21127.000000</td>\n",
       "      <td>21127.000000</td>\n",
       "      <td>21127.00000</td>\n",
       "      <td>21127.000000</td>\n",
       "      <td>21127.0</td>\n",
       "      <td>21127.000000</td>\n",
       "      <td>21127.000000</td>\n",
       "      <td>...</td>\n",
       "      <td>21127.000000</td>\n",
       "      <td>21127.000000</td>\n",
       "      <td>21127.000000</td>\n",
       "      <td>21127.000000</td>\n",
       "      <td>21127.000000</td>\n",
       "      <td>21127.000000</td>\n",
       "      <td>21127.000000</td>\n",
       "      <td>21127.000000</td>\n",
       "      <td>21127.000000</td>\n",
       "      <td>21127.000000</td>\n",
       "    </tr>\n",
       "    <tr>\n",
       "      <th>mean</th>\n",
       "      <td>17116.725754</td>\n",
       "      <td>2684.103327</td>\n",
       "      <td>1159.334643</td>\n",
       "      <td>2839.898092</td>\n",
       "      <td>26.440053</td>\n",
       "      <td>0.47134</td>\n",
       "      <td>504.135750</td>\n",
       "      <td>0.0</td>\n",
       "      <td>0.289203</td>\n",
       "      <td>0.151891</td>\n",
       "      <td>...</td>\n",
       "      <td>7.669428</td>\n",
       "      <td>0.294221</td>\n",
       "      <td>11.345719</td>\n",
       "      <td>11.909026</td>\n",
       "      <td>6.911819</td>\n",
       "      <td>16.268850</td>\n",
       "      <td>2014.107114</td>\n",
       "      <td>76.381786</td>\n",
       "      <td>12.386520</td>\n",
       "      <td>2.127704</td>\n",
       "    </tr>\n",
       "    <tr>\n",
       "      <th>std</th>\n",
       "      <td>28905.378066</td>\n",
       "      <td>32985.697282</td>\n",
       "      <td>2900.330165</td>\n",
       "      <td>7595.622611</td>\n",
       "      <td>188.496811</td>\n",
       "      <td>0.49919</td>\n",
       "      <td>9128.700167</td>\n",
       "      <td>0.0</td>\n",
       "      <td>1.672304</td>\n",
       "      <td>0.554840</td>\n",
       "      <td>...</td>\n",
       "      <td>1.769621</td>\n",
       "      <td>0.810419</td>\n",
       "      <td>2.458930</td>\n",
       "      <td>7.532388</td>\n",
       "      <td>3.373137</td>\n",
       "      <td>9.001438</td>\n",
       "      <td>0.758261</td>\n",
       "      <td>35.681271</td>\n",
       "      <td>6.513372</td>\n",
       "      <td>1.425738</td>\n",
       "    </tr>\n",
       "    <tr>\n",
       "      <th>min</th>\n",
       "      <td>27.000000</td>\n",
       "      <td>0.000000</td>\n",
       "      <td>0.000000</td>\n",
       "      <td>0.000000</td>\n",
       "      <td>0.000000</td>\n",
       "      <td>0.00000</td>\n",
       "      <td>0.000000</td>\n",
       "      <td>0.0</td>\n",
       "      <td>0.000000</td>\n",
       "      <td>0.000000</td>\n",
       "      <td>...</td>\n",
       "      <td>5.000000</td>\n",
       "      <td>0.000000</td>\n",
       "      <td>3.000000</td>\n",
       "      <td>0.000000</td>\n",
       "      <td>1.000000</td>\n",
       "      <td>1.000000</td>\n",
       "      <td>2007.000000</td>\n",
       "      <td>2.000000</td>\n",
       "      <td>1.000000</td>\n",
       "      <td>0.000000</td>\n",
       "    </tr>\n",
       "    <tr>\n",
       "      <th>25%</th>\n",
       "      <td>3910.000000</td>\n",
       "      <td>274.000000</td>\n",
       "      <td>270.000000</td>\n",
       "      <td>1.000000</td>\n",
       "      <td>1.000000</td>\n",
       "      <td>0.00000</td>\n",
       "      <td>0.000000</td>\n",
       "      <td>0.0</td>\n",
       "      <td>0.000000</td>\n",
       "      <td>0.000000</td>\n",
       "      <td>...</td>\n",
       "      <td>6.000000</td>\n",
       "      <td>0.000000</td>\n",
       "      <td>10.000000</td>\n",
       "      <td>4.000000</td>\n",
       "      <td>4.000000</td>\n",
       "      <td>8.000000</td>\n",
       "      <td>2014.000000</td>\n",
       "      <td>50.000000</td>\n",
       "      <td>7.000000</td>\n",
       "      <td>1.000000</td>\n",
       "    </tr>\n",
       "    <tr>\n",
       "      <th>50%</th>\n",
       "      <td>10977.000000</td>\n",
       "      <td>670.000000</td>\n",
       "      <td>731.000000</td>\n",
       "      <td>89.000000</td>\n",
       "      <td>4.000000</td>\n",
       "      <td>0.00000</td>\n",
       "      <td>0.000000</td>\n",
       "      <td>0.0</td>\n",
       "      <td>0.000000</td>\n",
       "      <td>0.000000</td>\n",
       "      <td>...</td>\n",
       "      <td>7.000000</td>\n",
       "      <td>0.000000</td>\n",
       "      <td>11.000000</td>\n",
       "      <td>13.000000</td>\n",
       "      <td>8.000000</td>\n",
       "      <td>17.000000</td>\n",
       "      <td>2014.000000</td>\n",
       "      <td>72.000000</td>\n",
       "      <td>12.000000</td>\n",
       "      <td>2.000000</td>\n",
       "    </tr>\n",
       "    <tr>\n",
       "      <th>75%</th>\n",
       "      <td>14159.000000</td>\n",
       "      <td>1117.000000</td>\n",
       "      <td>1601.000000</td>\n",
       "      <td>2476.000000</td>\n",
       "      <td>10.000000</td>\n",
       "      <td>1.00000</td>\n",
       "      <td>0.000000</td>\n",
       "      <td>0.0</td>\n",
       "      <td>0.000000</td>\n",
       "      <td>0.000000</td>\n",
       "      <td>...</td>\n",
       "      <td>9.000000</td>\n",
       "      <td>0.000000</td>\n",
       "      <td>13.000000</td>\n",
       "      <td>19.000000</td>\n",
       "      <td>10.000000</td>\n",
       "      <td>24.000000</td>\n",
       "      <td>2015.000000</td>\n",
       "      <td>103.000000</td>\n",
       "      <td>17.000000</td>\n",
       "      <td>3.000000</td>\n",
       "    </tr>\n",
       "    <tr>\n",
       "      <th>max</th>\n",
       "      <td>333504.000000</td>\n",
       "      <td>986837.000000</td>\n",
       "      <td>90861.000000</td>\n",
       "      <td>118225.000000</td>\n",
       "      <td>4840.000000</td>\n",
       "      <td>1.00000</td>\n",
       "      <td>657425.000000</td>\n",
       "      <td>0.0</td>\n",
       "      <td>114.000000</td>\n",
       "      <td>16.000000</td>\n",
       "      <td>...</td>\n",
       "      <td>12.000000</td>\n",
       "      <td>9.000000</td>\n",
       "      <td>15.000000</td>\n",
       "      <td>23.000000</td>\n",
       "      <td>12.000000</td>\n",
       "      <td>31.000000</td>\n",
       "      <td>2015.000000</td>\n",
       "      <td>156.000000</td>\n",
       "      <td>53.000000</td>\n",
       "      <td>4.000000</td>\n",
       "    </tr>\n",
       "  </tbody>\n",
       "</table>\n",
       "<p>8 rows × 22 columns</p>\n",
       "</div>"
      ],
      "text/plain": [
       "       statuses_count  followers_count  friends_count  favourites_count  \\\n",
       "count    21127.000000     21127.000000   21127.000000      21127.000000   \n",
       "mean     17116.725754      2684.103327    1159.334643       2839.898092   \n",
       "std      28905.378066     32985.697282    2900.330165       7595.622611   \n",
       "min         27.000000         0.000000       0.000000          0.000000   \n",
       "25%       3910.000000       274.000000     270.000000          1.000000   \n",
       "50%      10977.000000       670.000000     731.000000         89.000000   \n",
       "75%      14159.000000      1117.000000    1601.000000       2476.000000   \n",
       "max     333504.000000    986837.000000   90861.000000     118225.000000   \n",
       "\n",
       "       listed_count        class  retweet_count  reply_count  favorite_count  \\\n",
       "count  21127.000000  21127.00000   21127.000000      21127.0    21127.000000   \n",
       "mean      26.440053      0.47134     504.135750          0.0        0.289203   \n",
       "std      188.496811      0.49919    9128.700167          0.0        1.672304   \n",
       "min        0.000000      0.00000       0.000000          0.0        0.000000   \n",
       "25%        1.000000      0.00000       0.000000          0.0        0.000000   \n",
       "50%        4.000000      0.00000       0.000000          0.0        0.000000   \n",
       "75%       10.000000      1.00000       0.000000          0.0        0.000000   \n",
       "max     4840.000000      1.00000  657425.000000          0.0      114.000000   \n",
       "\n",
       "       num_hashtags  ...  account_age_yr  digit_in_name  user_name_len  \\\n",
       "count  21127.000000  ...    21127.000000   21127.000000   21127.000000   \n",
       "mean       0.151891  ...        7.669428       0.294221      11.345719   \n",
       "std        0.554840  ...        1.769621       0.810419       2.458930   \n",
       "min        0.000000  ...        5.000000       0.000000       3.000000   \n",
       "25%        0.000000  ...        6.000000       0.000000      10.000000   \n",
       "50%        0.000000  ...        7.000000       0.000000      11.000000   \n",
       "75%        0.000000  ...        9.000000       0.000000      13.000000   \n",
       "max       16.000000  ...       12.000000       9.000000      15.000000   \n",
       "\n",
       "         tweet_hour   tweet_month     tweet_day    tweet_year  tweet_length  \\\n",
       "count  21127.000000  21127.000000  21127.000000  21127.000000  21127.000000   \n",
       "mean      11.909026      6.911819     16.268850   2014.107114     76.381786   \n",
       "std        7.532388      3.373137      9.001438      0.758261     35.681271   \n",
       "min        0.000000      1.000000      1.000000   2007.000000      2.000000   \n",
       "25%        4.000000      4.000000      8.000000   2014.000000     50.000000   \n",
       "50%       13.000000      8.000000     17.000000   2014.000000     72.000000   \n",
       "75%       19.000000     10.000000     24.000000   2015.000000    103.000000   \n",
       "max       23.000000     12.000000     31.000000   2015.000000    156.000000   \n",
       "\n",
       "       num_of_words  cluster_assignment  \n",
       "count  21127.000000        21127.000000  \n",
       "mean      12.386520            2.127704  \n",
       "std        6.513372            1.425738  \n",
       "min        1.000000            0.000000  \n",
       "25%        7.000000            1.000000  \n",
       "50%       12.000000            2.000000  \n",
       "75%       17.000000            3.000000  \n",
       "max       53.000000            4.000000  \n",
       "\n",
       "[8 rows x 22 columns]"
      ]
     },
     "execution_count": 200,
     "metadata": {},
     "output_type": "execute_result"
    }
   ],
   "source": [
    "df2.describe()"
   ]
  },
  {
   "cell_type": "markdown",
   "metadata": {},
   "source": [
    "### TSNE\n",
    "\n",
    "t-distributed Stochastic Neighbor Embedding converts similarities between data points to joint probabilities and tries to minimize the Kullback-Leibler divergence between the joint probabilities of the low-dimensional embedding and the high-dimensional data.  "
   ]
  },
  {
   "cell_type": "code",
   "execution_count": 166,
   "metadata": {},
   "outputs": [
    {
     "data": {
      "text/plain": [
       "(21127, 21)"
      ]
     },
     "execution_count": 166,
     "metadata": {},
     "output_type": "execute_result"
    }
   ],
   "source": [
    "df2.shape"
   ]
  },
  {
   "cell_type": "code",
   "execution_count": 170,
   "metadata": {},
   "outputs": [
    {
     "data": {
      "text/plain": [
       "Index(['statuses_count', 'followers_count', 'friends_count',\n",
       "       'favourites_count', 'listed_count', 'class', 'retweet_count',\n",
       "       'reply_count', 'favorite_count', 'num_hashtags', 'num_urls',\n",
       "       'num_mentions', 'account_age_yr', 'digit_in_name', 'user_name_len',\n",
       "       'tweet_hour', 'tweet_month', 'tweet_day', 'tweet_year', 'tweet_length',\n",
       "       'num_of_words'],\n",
       "      dtype='object')"
      ]
     },
     "execution_count": 170,
     "metadata": {},
     "output_type": "execute_result"
    }
   ],
   "source": [
    "df2.columns"
   ]
  },
  {
   "cell_type": "code",
   "execution_count": 173,
   "metadata": {},
   "outputs": [],
   "source": [
    "# Define varaibles \n",
    "y = np.array(df2['class'])\n",
    "X = np.array(df2.drop(['class'], 1).astype(float))"
   ]
  },
  {
   "cell_type": "code",
   "execution_count": 175,
   "metadata": {},
   "outputs": [
    {
     "name": "stdout",
     "output_type": "stream",
     "text": [
      "[t-SNE] Computing 91 nearest neighbors...\n",
      "[t-SNE] Indexed 21127 samples in 0.197s...\n",
      "[t-SNE] Computed neighbors for 21127 samples in 2.952s...\n",
      "[t-SNE] Computed conditional probabilities for sample 1000 / 21127\n",
      "[t-SNE] Computed conditional probabilities for sample 2000 / 21127\n",
      "[t-SNE] Computed conditional probabilities for sample 3000 / 21127\n",
      "[t-SNE] Computed conditional probabilities for sample 4000 / 21127\n",
      "[t-SNE] Computed conditional probabilities for sample 5000 / 21127\n",
      "[t-SNE] Computed conditional probabilities for sample 6000 / 21127\n",
      "[t-SNE] Computed conditional probabilities for sample 7000 / 21127\n",
      "[t-SNE] Computed conditional probabilities for sample 8000 / 21127\n",
      "[t-SNE] Computed conditional probabilities for sample 9000 / 21127\n",
      "[t-SNE] Computed conditional probabilities for sample 10000 / 21127\n",
      "[t-SNE] Computed conditional probabilities for sample 11000 / 21127\n",
      "[t-SNE] Computed conditional probabilities for sample 12000 / 21127\n",
      "[t-SNE] Computed conditional probabilities for sample 13000 / 21127\n",
      "[t-SNE] Computed conditional probabilities for sample 14000 / 21127\n",
      "[t-SNE] Computed conditional probabilities for sample 15000 / 21127\n",
      "[t-SNE] Computed conditional probabilities for sample 16000 / 21127\n",
      "[t-SNE] Computed conditional probabilities for sample 17000 / 21127\n",
      "[t-SNE] Computed conditional probabilities for sample 18000 / 21127\n",
      "[t-SNE] Computed conditional probabilities for sample 19000 / 21127\n",
      "[t-SNE] Computed conditional probabilities for sample 20000 / 21127\n",
      "[t-SNE] Computed conditional probabilities for sample 21000 / 21127\n",
      "[t-SNE] Computed conditional probabilities for sample 21127 / 21127\n",
      "[t-SNE] Mean sigma: 11.445462\n",
      "[t-SNE] KL divergence after 250 iterations with early exaggeration: 70.689728\n",
      "[t-SNE] KL divergence after 1000 iterations: 0.584908\n",
      "t-SNE done! Time elapsed: 257.6658217906952 seconds\n",
      "(21127, 2)\n"
     ]
    }
   ],
   "source": [
    "# TSNE to reduce dimension to 2\n",
    "time_start = time.time()\n",
    "\n",
    "tsne = TSNE(n_components=2, verbose=1, random_state=42)\n",
    "tsne_tfidf = tsne.fit_transform(X)\n",
    "\n",
    "print('t-SNE done! Time elapsed: {} seconds'.format(time.time()-time_start))\n",
    "\n",
    "# Summary of transformation\n",
    "print(tsne_tfidf.shape)"
   ]
  },
  {
   "cell_type": "code",
   "execution_count": 176,
   "metadata": {},
   "outputs": [
    {
     "data": {
      "text/plain": [
       "array([[ 72.104675,  17.373997],\n",
       "       [-45.045868,  28.545494],\n",
       "       [-22.14401 ,  18.423786],\n",
       "       ...,\n",
       "       [ 31.758272, -56.49355 ],\n",
       "       [ 20.320505, -12.447118],\n",
       "       [-23.254557, -46.938896]], dtype=float32)"
      ]
     },
     "execution_count": 176,
     "metadata": {},
     "output_type": "execute_result"
    }
   ],
   "source": [
    "tsne_tfidf"
   ]
  },
  {
   "cell_type": "code",
   "execution_count": 177,
   "metadata": {},
   "outputs": [],
   "source": [
    "# Utility function to visualize the outputs of t-SNE\n",
    "\n",
    "def fashion_scatter(x, colors):\n",
    "    # choose a color palette with seaborn.\n",
    "    num_classes = len(np.unique(colors))\n",
    "    palette = np.array(sns.color_palette(\"hls\", num_classes))\n",
    "\n",
    "    # create a scatter plot.\n",
    "    f = plt.figure(figsize=(8, 8))\n",
    "    ax = plt.subplot(aspect='equal')\n",
    "    sc = ax.scatter(x[:,0], x[:,1], lw=0, s=40, c=palette[colors.astype(np.int)])\n",
    "    plt.xlim(-25, 25)\n",
    "    plt.ylim(-25, 25)\n",
    "    ax.axis('off')\n",
    "    ax.axis('tight')\n",
    "\n",
    "    # add the labels for each digit corresponding to the label\n",
    "    txts = []\n",
    "\n",
    "    for i in range(num_classes):\n",
    "\n",
    "        # Position of each label at median of data points.\n",
    "\n",
    "        xtext, ytext = np.median(x[colors == i, :], axis=0)\n",
    "        txt = ax.text(xtext, ytext, str(i), fontsize=24)\n",
    "        txt.set_path_effects([\n",
    "            PathEffects.Stroke(linewidth=5, foreground=\"w\"),\n",
    "            PathEffects.Normal()])\n",
    "        txts.append(txt)\n",
    "\n",
    "    return f, ax, sc, txts"
   ]
  },
  {
   "cell_type": "code",
   "execution_count": 180,
   "metadata": {},
   "outputs": [
    {
     "name": "stdout",
     "output_type": "stream",
     "text": [
      "[0 1]\n"
     ]
    }
   ],
   "source": [
    "# Subset first 20k data points to visualize\n",
    "x_subset = tsne_tfidf[0:20000]\n",
    "y_subset = y[0:20000]\n",
    "\n",
    "print(np.unique(y_subset))"
   ]
  },
  {
   "cell_type": "code",
   "execution_count": 181,
   "metadata": {},
   "outputs": [
    {
     "data": {
      "text/plain": [
       "(<Figure size 576x576 with 1 Axes>,\n",
       " <matplotlib.axes._subplots.AxesSubplot at 0x1a898e4710>,\n",
       " <matplotlib.collections.PathCollection at 0x1a8990df98>,\n",
       " [Text(4.420485, -15.106403, '0'), Text(-11.858612, 18.434929, '1')])"
      ]
     },
     "execution_count": 181,
     "metadata": {},
     "output_type": "execute_result"
    },
    {
     "data": {
      "image/png": "[encoded data removed]",
      "text/plain": [
       "<Figure size 576x576 with 1 Axes>"
      ]
     },
     "metadata": {
      "needs_background": "light"
     },
     "output_type": "display_data"
    }
   ],
   "source": [
    "fashion_scatter(x_subset, y_subset)"
   ]
  },
  {
   "cell_type": "markdown",
   "metadata": {},
   "source": [
    "__Observation__: There aren't major distinct clusters between tweets generated by humans and robots."
   ]
  },
  {
   "cell_type": "markdown",
   "metadata": {},
   "source": []
  },
  {
   "cell_type": "code",
   "execution_count": null,
   "metadata": {},
   "outputs": [],
   "source": []
  },
  {
   "cell_type": "code",
   "execution_count": null,
   "metadata": {},
   "outputs": [],
   "source": []
  },
  {
   "cell_type": "code",
   "execution_count": null,
   "metadata": {},
   "outputs": [],
   "source": []
  },
  {
   "cell_type": "markdown",
   "metadata": {},
   "source": [
    "### KMeans Classifer\n",
    "Let's see KMeans is label tweets outside of it's centroid as tweets from robots."
   ]
  },
  {
   "cell_type": "code",
   "execution_count": 182,
   "metadata": {},
   "outputs": [],
   "source": [
    "# Define the scaler and apply to the data\n",
    "scaler = MinMaxScaler()\n",
    "X_scaled = scaler.fit_transform(tsne_tfidf)"
   ]
  },
  {
   "cell_type": "code",
   "execution_count": 183,
   "metadata": {},
   "outputs": [
    {
     "data": {
      "text/plain": [
       "MiniBatchKMeans(batch_size=100, compute_labels=True, init='k-means++',\n",
       "        init_size=None, max_iter=100, max_no_improvement=10, n_clusters=2,\n",
       "        n_init=3, random_state=42, reassignment_ratio=0.01, tol=0.0,\n",
       "        verbose=0)"
      ]
     },
     "execution_count": 183,
     "metadata": {},
     "output_type": "execute_result"
    }
   ],
   "source": [
    "# Define the model \n",
    "kmeans = MiniBatchKMeans(n_clusters=2, random_state=42)\n",
    "\n",
    "# Fit the model to the scaled data\n",
    "kmeans.fit(X_scaled)"
   ]
  },
  {
   "cell_type": "code",
   "execution_count": 184,
   "metadata": {},
   "outputs": [
    {
     "data": {
      "image/png": "[encoded data removed]",
      "text/plain": [
       "<Figure size 432x288 with 1 Axes>"
      ]
     },
     "metadata": {
      "needs_background": "light"
     },
     "output_type": "display_data"
    }
   ],
   "source": [
    "# Define the range of clusters to try\n",
    "clustno = range(1, 10)\n",
    "\n",
    "# Run MiniBatch Kmeans over the number of clusters\n",
    "kmeans = [MiniBatchKMeans(n_clusters=i) for i in clustno]\n",
    "\n",
    "# Obtain the score for each model\n",
    "score = [kmeans[i].fit(X_scaled).score(X_scaled) for i in range(len(kmeans))]\n",
    "\n",
    "# Plot the models and their respective score \n",
    "plt.plot(clustno, score)\n",
    "plt.xlabel('Number of Clusters')\n",
    "plt.ylabel('Score')\n",
    "plt.title('Elbow Curve')\n",
    "plt.show()"
   ]
  },
  {
   "cell_type": "markdown",
   "metadata": {},
   "source": [
    "__Observation__: Based on the Elbow Curve, 3 appears to the optimal number of clusters. "
   ]
  },
  {
   "cell_type": "code",
   "execution_count": 185,
   "metadata": {},
   "outputs": [],
   "source": [
    "# Split the data into training and test set\n",
    "X_train, X_test, y_train, y_test = train_test_split(X_scaled, y, test_size=0.3, random_state=42)\n",
    "\n",
    "# Define K-means model \n",
    "kmeans = MiniBatchKMeans(n_clusters=3, random_state=42).fit(X_train)\n",
    "\n",
    "# Obtain predictions and calculate distance from cluster centroid\n",
    "X_test_clusters = kmeans.predict(X_test)\n",
    "X_test_clusters_centers = kmeans.cluster_centers_\n",
    "dist = [np.linalg.norm(x-y) for x, y in zip(X_test, X_test_clusters_centers[X_test_clusters])]\n",
    "\n",
    "# Create bot tweets predictions based on outliers on clusters \n",
    "km_y_pred = np.array(dist)\n",
    "km_y_pred[dist >= np.percentile(dist, 95)] = 1\n",
    "km_y_pred[dist < np.percentile(dist, 95)] = 0"
   ]
  },
  {
   "cell_type": "code",
   "execution_count": 186,
   "metadata": {},
   "outputs": [
    {
     "name": "stdout",
     "output_type": "stream",
     "text": [
      "ROC_AUC: 50.55%\n",
      "Accuracy: 52.80%\n",
      "Recall: 5.58%\n",
      "Precision: 53.00%\n",
      "[[3179  149]\n",
      " [2843  168]]\n"
     ]
    }
   ],
   "source": [
    "# Calculate metrics\n",
    "km_roc_auc = roc_auc_score(y_test, km_y_pred)\n",
    "km_accuracy = accuracy_score(y_test, km_y_pred)\n",
    "km_recall = recall_score(y_test, km_y_pred)\n",
    "km_precision = precision_score(y_test, km_y_pred)\n",
    "\n",
    "# Print metrics\n",
    "print(\"ROC_AUC: %.2f%%\" % (km_roc_auc * 100.0))\n",
    "print(\"Accuracy: %.2f%%\" % (km_accuracy * 100.0))\n",
    "print('Recall: %.2f%%' % (km_recall * 100.0))\n",
    "print('Precision: %.2f%%' % (km_precision * 100.0))\n",
    "print(confusion_matrix(y_test, km_y_pred))"
   ]
  },
  {
   "cell_type": "markdown",
   "metadata": {},
   "source": [
    "__Evaluation__: Classifying tweets from robots based on cluser outliers is not a recommend techquie. The Kmean model was not able to distingish differences between robot and genuine tweets. "
   ]
  },
  {
   "cell_type": "markdown",
   "metadata": {},
   "source": [
    "## Tweets Segmentation \n",
    "In this section, we will perform clustering to examine tweet patterns within each cluster. \n",
    "\n",
    "### Metrics \n",
    "__Homogeneity__: measures how many members of a single class is within a cluster. Score ranges between 0.0 and 1.0. 1.0 stands for perfectly homogeneous labeling.\n",
    "\n",
    "__Silhouette Coefficient__: the mean distance between a sample and all other points in the same class (a), the mean distance between a sample and all other points in the next nearest cluster (b), divided by whichever of the two values is highest. A coefficients near +1 indicate that the sample is far away from the neighboring clusters. A value of 0 indicates that the sample is on or very close to the decision boundary between two neighboring clusters and negative values indicate that those samples might have been assigned to the wrong cluster.[Resource](https://scikit-learn.org/stable/auto_examples/cluster/plot_kmeans_silhouette_analysis.html#sphx-glr-auto-examples-cluster-plot-kmeans-silhouette-analysis-py)\n",
    "\n",
    "### KMeans\n",
    "This algorithm partitions the dataset into clusters to form homogeneous groups. Through an iterative process, it places random centroids and groups the closest datapoint to centroids. The group mean distance to the centroid is calculated and the process will repeat until optimized.\n",
    "\n",
    "__Assumptions__\n",
    " * Symmetric distribution of variables(not skewed)\n",
    " * Variables with same average values\n",
    " * Variables with same variance \n",
    " "
   ]
  },
  {
   "cell_type": "code",
   "execution_count": 187,
   "metadata": {},
   "outputs": [
    {
     "data": {
      "image/png": "[encoded data removed]",
      "text/plain": [
       "<Figure size 432x288 with 1 Axes>"
      ]
     },
     "metadata": {
      "needs_background": "light"
     },
     "output_type": "display_data"
    },
    {
     "name": "stdout",
     "output_type": "stream",
     "text": [
      "Comparing k-means clusters against the data:\n",
      "col_0     0     1\n",
      "row_0            \n",
      "0      4382  6488\n",
      "1      6787  3470\n"
     ]
    }
   ],
   "source": [
    "# Fit values\n",
    "km1 = KMeans(n_clusters=2, random_state=42).fit(X_scaled)\n",
    "\n",
    "# Obtain the predicted labels and calculate number of clusters\n",
    "km1_y_pred = km1.labels_\n",
    "\n",
    "# Plot the solution.\n",
    "plt.scatter(X_scaled[:, 0], X_scaled[:, 1], c=km1_y_pred)\n",
    "plt.show()\n",
    "\n",
    "# Check the solution against the data\n",
    "print('Comparing k-means clusters against the data:')\n",
    "print(pd.crosstab(km1_y_pred, y))"
   ]
  },
  {
   "cell_type": "code",
   "execution_count": 188,
   "metadata": {},
   "outputs": [
    {
     "name": "stdout",
     "output_type": "stream",
     "text": [
      "Homogeneity: 0.049\n",
      "Silhouette Coefficient: 0.336\n"
     ]
    }
   ],
   "source": [
    "# Calculate metrics\n",
    "km1_homo = homogeneity_score(y, km1_y_pred)\n",
    "km1_sil = silhouette_score(X_scaled, km1_y_pred)\n",
    "\n",
    "# Print metrics\n",
    "print(\"Homogeneity: %0.3f\" % km1_homo)\n",
    "print(\"Silhouette Coefficient: %0.3f\" % km1_sil)"
   ]
  },
  {
   "cell_type": "code",
   "execution_count": 189,
   "metadata": {},
   "outputs": [
    {
     "data": {
      "image/png": "[encoded data removed]",
      "text/plain": [
       "<Figure size 432x288 with 1 Axes>"
      ]
     },
     "metadata": {},
     "output_type": "display_data"
    }
   ],
   "source": [
    "# Use the elbow method to see what is the optimal amount of clusters.\n",
    "\n",
    "# k means determine k\n",
    "distortions = []\n",
    "K = range(1,20)\n",
    "for k in K:\n",
    "    kmeanModel = KMeans(n_clusters=k).fit(X_scaled)\n",
    "    kmeanModel.fit(X_scaled)\n",
    "    distortions.append(sum(np.min(cdist(X_scaled, kmeanModel.cluster_centers_, 'euclidean'), axis=1)) / X_scaled.shape[0])\n",
    "\n",
    "# Plot the elbow\n",
    "sns.set_style('darkgrid')\n",
    "plt.plot(K, distortions, 'bx-')\n",
    "plt.xlabel('k')\n",
    "plt.ylabel('Distortion')\n",
    "plt.title('The Elbow Method showing the optimal k')\n",
    "plt.show()"
   ]
  },
  {
   "cell_type": "markdown",
   "metadata": {},
   "source": [
    "__Observation__: The elbow method recommends 5 clusters"
   ]
  },
  {
   "cell_type": "code",
   "execution_count": 190,
   "metadata": {},
   "outputs": [
    {
     "data": {
      "image/png": "[encoded data removed]",
      "text/plain": [
       "<Figure size 432x288 with 1 Axes>"
      ]
     },
     "metadata": {},
     "output_type": "display_data"
    },
    {
     "name": "stdout",
     "output_type": "stream",
     "text": [
      "Comparing k-means clusters against the data:\n",
      "col_0     0     1\n",
      "row_0            \n",
      "0      1427  2261\n",
      "1      2468  1776\n",
      "2      3115   749\n",
      "3      2668  1676\n",
      "4      1491  3496\n"
     ]
    }
   ],
   "source": [
    "# Fit values\n",
    "km2 = KMeans(n_clusters=5, random_state=42).fit(X_scaled)\n",
    "\n",
    "# Obtain the predicted labels and calculate number of clusters\n",
    "km2_y_pred = km2.labels_\n",
    "\n",
    "# Plot the solution.\n",
    "plt.scatter(X_scaled[:, 0], X_scaled[:, 1], c=km2_y_pred)\n",
    "plt.show()\n",
    "\n",
    "# Check the solution against the data\n",
    "print('Comparing k-means clusters against the data:')\n",
    "print(pd.crosstab(km2_y_pred, y))"
   ]
  },
  {
   "cell_type": "code",
   "execution_count": 191,
   "metadata": {},
   "outputs": [
    {
     "name": "stdout",
     "output_type": "stream",
     "text": [
      "Homogeneity: 0.097\n",
      "Silhouette Coefficient: 0.334\n"
     ]
    }
   ],
   "source": [
    "# Calculate metrics\n",
    "km2_homo = homogeneity_score(y, km2_y_pred)\n",
    "km2_sil = silhouette_score(X_scaled, km2_y_pred)\n",
    "\n",
    "# Print metrics\n",
    "print(\"Homogeneity: %0.3f\" % km2_homo)\n",
    "print(\"Silhouette Coefficient: %0.3f\" % km2_sil)"
   ]
  },
  {
   "cell_type": "markdown",
   "metadata": {},
   "source": [
    "#### MiniBatch\n",
    "To reduce computationally time, we'll use Mini Batch only sample random observations."
   ]
  },
  {
   "cell_type": "code",
   "execution_count": 192,
   "metadata": {},
   "outputs": [
    {
     "data": {
      "image/png": "[encoded data removed]",
      "text/plain": [
       "<Figure size 432x288 with 1 Axes>"
      ]
     },
     "metadata": {},
     "output_type": "display_data"
    }
   ],
   "source": [
    "# Use the elbow method to see what is the optimal amount of clusters.\n",
    "\n",
    "# k means determine k\n",
    "distortions = []\n",
    "K = range(1,20)\n",
    "for k in K:\n",
    "    kmeanModel = MiniBatchKMeans(n_clusters=k).fit(X_scaled)\n",
    "    kmeanModel.fit(X_scaled)\n",
    "    distortions.append(sum(np.min(cdist(X_scaled, kmeanModel.cluster_centers_, 'euclidean'), axis=1)) / X_scaled.shape[0])\n",
    "\n",
    "# Plot the elbow\n",
    "sns.set_style('darkgrid')\n",
    "plt.plot(K, distortions, 'bx-')\n",
    "plt.xlabel('k')\n",
    "plt.ylabel('Distortion')\n",
    "plt.title('The Elbow Method showing the optimal k')\n",
    "plt.show()"
   ]
  },
  {
   "cell_type": "code",
   "execution_count": 193,
   "metadata": {},
   "outputs": [
    {
     "data": {
      "image/png": "[encoded data removed]",
      "text/plain": [
       "<Figure size 432x288 with 1 Axes>"
      ]
     },
     "metadata": {},
     "output_type": "display_data"
    },
    {
     "name": "stdout",
     "output_type": "stream",
     "text": [
      "Comparing k-means clusters against the data:\n",
      "col_0     0     1\n",
      "row_0            \n",
      "0      3710  2923\n",
      "1      2243  4810\n",
      "2      5216  2225\n"
     ]
    }
   ],
   "source": [
    "# Fit values\n",
    "mb = MiniBatchKMeans(n_clusters=3, random_state=42).fit(X_scaled)\n",
    "\n",
    "# Obtain the predicted labels and calculate number of clusters\n",
    "mb_y_pred = mb.labels_\n",
    "\n",
    "# Plot the solution.\n",
    "plt.scatter(X_scaled[:, 0], X_scaled[:, 1], c=mb_y_pred)\n",
    "plt.show()\n",
    "\n",
    "# Check the solution against the data\n",
    "print('Comparing k-means clusters against the data:')\n",
    "print(pd.crosstab(mb_y_pred, y))"
   ]
  },
  {
   "cell_type": "code",
   "execution_count": 194,
   "metadata": {},
   "outputs": [
    {
     "name": "stdout",
     "output_type": "stream",
     "text": [
      "Homogeneity: 0.076\n",
      "Silhouette Coefficient: 0.362\n"
     ]
    }
   ],
   "source": [
    "# Calculate metrics\n",
    "mb_homo = homogeneity_score(y, mb_y_pred)\n",
    "mb_sil = silhouette_score(X_scaled, mb_y_pred)\n",
    "\n",
    "# Print metrics\n",
    "print(\"Homogeneity: %0.3f\" % mb_homo)\n",
    "print(\"Silhouette Coefficient: %0.3f\" % mb_sil)"
   ]
  },
  {
   "cell_type": "markdown",
   "metadata": {},
   "source": [
    "### DBSCAN\n",
    "Density-based spatial clustering of applications with noise (DBSCAN) is a density based method that groups together points with many nearby neighbors. Although we do not have to pre-select the number of clusters, we must define the minimum number of datapoints to make up a group. "
   ]
  },
  {
   "cell_type": "code",
   "execution_count": 195,
   "metadata": {},
   "outputs": [
    {
     "data": {
      "image/png": "[encoded data removed]",
      "text/plain": [
       "<Figure size 432x288 with 1 Axes>"
      ]
     },
     "metadata": {},
     "output_type": "display_data"
    },
    {
     "name": "stdout",
     "output_type": "stream",
     "text": [
      "Comparing DBSCAN clusters against the data:\n",
      "col_0      0     1\n",
      "row_0             \n",
      "0      11169  9958\n"
     ]
    }
   ],
   "source": [
    "# Initialize and fit the DBscan model\n",
    "db = DBSCAN(eps=0.9, min_samples=10, n_jobs=-1).fit(X_scaled)\n",
    "\n",
    "# Obtain the predicted labels and calculate number of clusters\n",
    "db_y_pred = db.labels_\n",
    "n_clusters = len(set(db_y_pred)) - (1 if -1 in db_y_pred else 0)\n",
    "\n",
    "# Plot the solution.\n",
    "plt.scatter(X_scaled[:, 0], X_scaled[:, 1], c=db_y_pred)\n",
    "plt.show()\n",
    "\n",
    "# Check the solution against the data\n",
    "print('Comparing DBSCAN clusters against the data:')\n",
    "print(pd.crosstab(db_y_pred, y))"
   ]
  },
  {
   "cell_type": "code",
   "execution_count": null,
   "metadata": {},
   "outputs": [],
   "source": [
    "# Calculate metrics\n",
    "#db_homo = homogeneity_score(y, db_y_pred)\n",
    "#db_sil = silhouette_score(X_scaled, db_y_pred)\n",
    "\n",
    "# Print number of clusters\n",
    "#print('Estimated number of clusters: %d' % n_clusters)\n",
    "\n",
    "# Print metrics\n",
    "#print(\"Homogeneity: %0.3f\" % db_homo)\n",
    "#print(\"Silhouette Coefficient: %0.3f\" % db_sil)\n",
    "\n",
    "# Error: ValueError: Number of labels is 1. Valid values are 2 to n_samples - 1 (inclusive)"
   ]
  },
  {
   "cell_type": "markdown",
   "metadata": {},
   "source": [
    "__Evaluation__: DBSCAN clustered the data into 1 group so we are unable to calculate silhouette score. This model was not able to form different clusters for tweet analysis."
   ]
  },
  {
   "cell_type": "markdown",
   "metadata": {},
   "source": [
    "### Mean-shift \n",
    "Mean shift clustering is a sliding-window-based algorithm that attempts to find dense areas of data points. It is a centroid-based algorithm meaning that the goal is to locate the center points of each group/class, which works by updating candidates for center points to be the mean of the points within the sliding-window. "
   ]
  },
  {
   "cell_type": "code",
   "execution_count": 196,
   "metadata": {},
   "outputs": [
    {
     "data": {
      "image/png": "[encoded data removed]",
      "text/plain": [
       "<Figure size 432x288 with 1 Axes>"
      ]
     },
     "metadata": {},
     "output_type": "display_data"
    },
    {
     "name": "stdout",
     "output_type": "stream",
     "text": [
      "Comparing k-means clusters against the data:\n",
      "col_0      0     1\n",
      "row_0             \n",
      "0      11169  9958\n",
      "Number of estimated clusters: 1\n"
     ]
    }
   ],
   "source": [
    "# Here we set the bandwidth. This function automatically derives a bandwidth\n",
    "# number based on an inspection of the distances among points in the data.\n",
    "bandwidth = estimate_bandwidth(X_scaled, quantile=0.2, n_samples=1000)\n",
    "\n",
    "# Declare and fit the model.\n",
    "ms = MeanShift(bandwidth=bandwidth, bin_seeding=True).fit(X_scaled)\n",
    "\n",
    "# Obtain the predicted labels and calculate number of clusters\n",
    "ms_y_pred = ms.labels_\n",
    "\n",
    "# Plot the solution.\n",
    "plt.scatter(X_scaled[:, 0], X_scaled[:, 1], c=ms_y_pred)\n",
    "plt.show()\n",
    "\n",
    "# Check the solution against the data\n",
    "print('Comparing k-means clusters against the data:')\n",
    "print(pd.crosstab(ms_y_pred, y))\n",
    "\n",
    "# Coordinates of the cluster centers.\n",
    "cluster_centers = ms.cluster_centers_\n",
    "\n",
    "# Count our clusters.\n",
    "ms_n_clusters = len(np.unique(ms_y_pred))\n",
    "\n",
    "print(\"Number of estimated clusters: {}\".format(ms_n_clusters))"
   ]
  },
  {
   "cell_type": "code",
   "execution_count": null,
   "metadata": {},
   "outputs": [],
   "source": [
    "# Calculate metrics\n",
    "#ms_homo = homogeneity_score(y, ms_y_pred)\n",
    "#ms_sil = silhouette_score(X_scaled, ms_y_pred)\n",
    "\n",
    "# Print metrics\n",
    "#print(\"Homogeneity: %0.3f\" % ms_homo)\n",
    "#print(\"Silhouette Coefficient: %0.3f\" % ms_sil)\n",
    "\n",
    "# Note: ValueError: Number of labels is 1. Valid values are 2 to n_samples - 1 (inclusive)"
   ]
  },
  {
   "cell_type": "markdown",
   "metadata": {},
   "source": [
    "__Evaluation__: Like the DBSCAN model, Mean Shift model formed 1 group."
   ]
  },
  {
   "cell_type": "markdown",
   "metadata": {},
   "source": [
    "## Unsupervised Learning Conclusion \n"
   ]
  },
  {
   "cell_type": "code",
   "execution_count": 197,
   "metadata": {},
   "outputs": [
    {
     "data": {
      "text/html": [
       "<div>\n",
       "<style scoped>\n",
       "    .dataframe tbody tr th:only-of-type {\n",
       "        vertical-align: middle;\n",
       "    }\n",
       "\n",
       "    .dataframe tbody tr th {\n",
       "        vertical-align: top;\n",
       "    }\n",
       "\n",
       "    .dataframe thead th {\n",
       "        text-align: right;\n",
       "    }\n",
       "</style>\n",
       "<table border=\"1\" class=\"dataframe\">\n",
       "  <thead>\n",
       "    <tr style=\"text-align: right;\">\n",
       "      <th></th>\n",
       "      <th>Model</th>\n",
       "      <th>Homogeneity</th>\n",
       "      <th>Silhouette Coefficient</th>\n",
       "    </tr>\n",
       "  </thead>\n",
       "  <tbody>\n",
       "    <tr>\n",
       "      <th>1</th>\n",
       "      <td>KMeans (5 clusters)</td>\n",
       "      <td>0.097488</td>\n",
       "      <td>0.334248</td>\n",
       "    </tr>\n",
       "    <tr>\n",
       "      <th>2</th>\n",
       "      <td>MiniBatch (3 clusters)</td>\n",
       "      <td>0.075882</td>\n",
       "      <td>0.361917</td>\n",
       "    </tr>\n",
       "    <tr>\n",
       "      <th>0</th>\n",
       "      <td>KMeans (2 clusters)</td>\n",
       "      <td>0.049056</td>\n",
       "      <td>0.336044</td>\n",
       "    </tr>\n",
       "  </tbody>\n",
       "</table>\n",
       "</div>"
      ],
      "text/plain": [
       "                    Model  Homogeneity  Silhouette Coefficient\n",
       "1     KMeans (5 clusters)     0.097488                0.334248\n",
       "2  MiniBatch (3 clusters)     0.075882                0.361917\n",
       "0     KMeans (2 clusters)     0.049056                0.336044"
      ]
     },
     "execution_count": 197,
     "metadata": {},
     "output_type": "execute_result"
    }
   ],
   "source": [
    "# Dataframe to hold the results\n",
    "cluster_comparison = pd.DataFrame({'Model': ['KMeans (2 clusters)','KMeans (5 clusters)', 'MiniBatch (3 clusters)'],\n",
    "                                 'Homogeneity': [km1_homo, km2_homo, mb_homo],\n",
    "                                'Silhouette Coefficient': [km1_sil, km2_sil, mb_sil]})\n",
    "\n",
    "# Horizontal bar chart of \n",
    "cluster_comparison.sort_values('Homogeneity', ascending = False)"
   ]
  },
  {
   "cell_type": "markdown",
   "metadata": {},
   "source": [
    "__Which clustering method should we use?__ <br>\n",
    "Given that the data is spirical and dense, homogeneity score of each cluster should be weighted more than the silhouette coefficent. KMeans with 5 clusteres had the highest homogeneity score noting that datapoints in the clusters were similar to each other. "
   ]
  },
  {
   "cell_type": "markdown",
   "metadata": {},
   "source": [
    "## Cluster Analysis\n",
    "Now, we will explore the trends within each cluster."
   ]
  },
  {
   "cell_type": "code",
   "execution_count": null,
   "metadata": {},
   "outputs": [],
   "source": [
    "# Create a DataFrame by adding a new cluster label column\n",
    "df3 = df2.assign(cluster=km2_y_pred)\n",
    "\n",
    "# Group the data by cluster\n",
    "print(df3.groupby(['cluster']).mean())\n",
    "\n",
    "# Calculate average RFM values and segment sizes per cluster value\n",
    "grouped.agg({\n",
    "    'Recency': 'mean',\n",
    "    'Frequency': 'mean',\n",
    "    'MonetaryValue': ['mean', 'count']\n",
    "  }).round(1)"
   ]
  },
  {
   "cell_type": "code",
   "execution_count": 199,
   "metadata": {},
   "outputs": [
    {
     "name": "stdout",
     "output_type": "stream",
     "text": [
      "                    statuses_count  followers_count  friends_count  \\\n",
      "cluster_assignment                                                   \n",
      "0                      6080.592733       655.941161    1045.358189   \n",
      "1                     14834.537229       973.896089    1013.641140   \n",
      "2                     44616.964027      9741.027174    1363.807453   \n",
      "3                     12375.034530       729.729742     947.540285   \n",
      "4                     10043.104873      1873.962302    1393.667937   \n",
      "\n",
      "                    favourites_count  listed_count     class  retweet_count  \\\n",
      "cluster_assignment                                                            \n",
      "0                         212.164588      4.829718  0.613069      29.009490   \n",
      "1                        1909.295240     13.272149  0.418473    1952.722432   \n",
      "2                       11030.299689     83.179348  0.193841     429.790890   \n",
      "3                        1153.018416     11.186464  0.385820      90.972145   \n",
      "4                         698.460999     22.951875  0.701023      40.232605   \n",
      "\n",
      "                    reply_count  favorite_count  num_hashtags  ...  \\\n",
      "cluster_assignment                                             ...   \n",
      "0                           0.0        0.138286      0.158623  ...   \n",
      "1                           0.0        0.280631      0.136192  ...   \n",
      "2                           0.0        0.578157      0.194617  ...   \n",
      "3                           0.0        0.259208      0.146409  ...   \n",
      "4                           0.0        0.210347      0.131943  ...   \n",
      "\n",
      "                    num_mentions  account_age_yr  digit_in_name  \\\n",
      "cluster_assignment                                                \n",
      "0                       0.285792        7.583243       0.329989   \n",
      "1                       0.459472        7.849670       0.313384   \n",
      "2                       0.711439        8.173913       0.314441   \n",
      "3                       0.480663        7.790746       0.345304   \n",
      "4                       0.375376        7.083216       0.191297   \n",
      "\n",
      "                    user_name_len  tweet_hour  tweet_month  tweet_day  \\\n",
      "cluster_assignment                                                      \n",
      "0                       11.697668   12.502983     7.901030  15.529284   \n",
      "1                       11.178605   11.895382     7.220782  15.852262   \n",
      "2                       11.077381   11.453157     5.482919  16.343427   \n",
      "3                       11.378453   11.618324     7.286832  15.683011   \n",
      "4                       11.407058   12.087828     6.697814  17.622819   \n",
      "\n",
      "                     tweet_year  tweet_length  num_of_words  \n",
      "cluster_assignment                                           \n",
      "0                   2013.693601     80.921909     13.159978  \n",
      "1                   2014.207352     76.211357     12.263902  \n",
      "2                   2014.588251     74.133799     11.696170  \n",
      "3                   2014.077808     74.743324     12.073204  \n",
      "4                   2013.980349     76.338280     12.726689  \n",
      "\n",
      "[5 rows x 21 columns]\n"
     ]
    }
   ],
   "source": [
    "df2['cluster_assignment'] = km2_y_pred\n",
    "print(df2.groupby('cluster_assignment').mean())"
   ]
  },
  {
   "cell_type": "code",
   "execution_count": null,
   "metadata": {},
   "outputs": [],
   "source": []
  },
  {
   "cell_type": "markdown",
   "metadata": {},
   "source": [
    "__Cluster 0__: This cluster consists of an equal ratio of genuine and bot tweets. The average retweet count was 59 and average tweet length was around 80 characters. \n",
    "\n",
    "__Cluster 1__: Similar to Cluster 0, this group is made up of half bots and genuine tweets. However, the average retweet count is 1,953 indicating that the algorithm placed majority of high retweets in this group. \n",
    "\n",
    "__Cluster 2__: This Cluster contained the most genuine tweets with a ratio of 70:30 genuine to bot. Majority of tweets in this group was collected in May while the month of July was the most frequent for other groups. These genuine tweets don't include much words or urls in their tweets making the average tweet length the smallest compared to other groups. \n",
    "\n",
    "__Cluster 3__: These tweets were longer than other clusters with an average tweet length of 127 characters and used an average of 21 words. \n",
    "\n",
    "__Cluster 4__: Bot tweets make up most of this cluster. The average length of tweet is 91 which is much higher than cluster 2. Cluster 2 and 4 share many traits in terms of low retweet count, favorite count, and number of mentions.\n",
    "\n"
   ]
  },
  {
   "cell_type": "markdown",
   "metadata": {},
   "source": [
    "# Conclusion\n",
    "\n",
    "__Summary__\n",
    "* Text Processing with Count Vectorization and Tidf Transformer\n",
    "* Supervised Learning \n",
    "* Clustering \n",
    "\n",
    "__Future Work__\n",
    "* Incorporate User data\n",
    "* Look into the evolution of spambots and their behaviors\n"
   ]
  }
 ],
 "metadata": {
  "kernelspec": {
   "display_name": "Python 3",
   "language": "python",
   "name": "python3"
  },
  "language_info": {
   "codemirror_mode": {
    "name": "ipython",
    "version": 3
   },
   "file_extension": ".py",
   "mimetype": "text/x-python",
   "name": "python",
   "nbconvert_exporter": "python",
   "pygments_lexer": "ipython3",
   "version": "3.6.8"
  }
 },
 "nbformat": 4,
 "nbformat_minor": 2
}
