{
 "cells": [
  {
   "cell_type": "markdown",
   "metadata": {},
   "source": [
    "# Tweeter Bot Detection\n",
    "\n",
    "## Integrating machine learning to detect bots\n",
    "\n",
    "Over the past ten plus years, Twitter has explosively evolved into a major communication hub. \"Its primary purpose is to connect people and allow people to share their thoughts with a big audience. Twitter can also be a very helpful platform for growing a following and providing your audience with valuable content before they even become customers\" [Hubspot](https://blog.hubspot.com/marketing/what-is-twitter). However, not all accounts are geninue users. According to a Twitter SEC filling in 2017, Twitter estimated 8.5% of all users to be bots. To validate the credibility of communication exchanged on the platform, efforts in idnetifying spam bots will help improve user's experience on twitter. \n",
    "\n",
    "In this project, we will be using [Cresci-2017](https://botometer.iuni.iu.edu/bot-repository/datasets.html) bot repository datasets to detect bot accounts. We'll begin with exploring traits between geniuine and bot accounts. Then, we will imploy supervised learning models (Logistic Regression, Random Forest, Stoachtic Gradient Boosting) to create a Twitter classifer. Finally, we'll use clustering to identify traits among geniue and spam bot accounts. \n",
    "\n",
    " \n",
    "### Overview of Data\n",
    "There are a total of 5 files: \n",
    " * 1 example submission files \n",
    " * 2 transaction files (test and train)\n",
    " * 2 identity files (test and train) \n",
    " \n",
    " We will be merging train transaction and train identity to gain more information regarding detecting fraud. To keep things simple, we will only be using the training sets. Below is a [description](https://www.kaggle.com/c/ieee-fraud-detection/discussion/101203) of the attributes in each table. \n",
    " \n",
    "__Transaction Table__\n",
    "\n",
    "- TransactionDT: timedelta from a given reference datetime (not an actual timestamp)\n",
    "- TransactionAMT: transaction payment amount in USD\n",
    "- ProductCD: product code, the product for each transaction\n",
    "- card1 - card6: payment card information, such as card type, card category, issue bank, country, etc.\n",
    "- addr: address\n",
    "- dist: distance\n",
    "- P_ and (R__) emaildomain: purchaser and recipient email domain\n",
    "- C1-C14: counting, such as how many addresses are found to be associated with the payment card, etc. The actual meaning is masked.\n",
    "- D1-D15: timedelta, such as days between previous transaction, etc.\n",
    "- M1-M9: match, such as names on card and address, etc.\n",
    "- Vxxx: Vesta engineered rich features, including ranking, counting, and other entity relations.\n",
    "- Categorical Features:\n",
    "- ProductCD\n",
    "- card1 - card6\n",
    "- addr1, addr2\n",
    "- Pemaildomain Remaildomain\n",
    "- M1 - M9\n",
    "\n",
    "__Identity Table__\n",
    "\n",
    "Variables in this table are identity information – network connection information (IP, ISP, Proxy, etc) and digital signature (UA/browser/os/version, etc) associated with transactions.\n",
    "They're collected by Vesta’s fraud protection system and digital security partners.\n",
    "(The field names are masked and pairwise dictionary will not be provided for privacy protection and contract agreement)\n",
    "\n",
    "Categorical Features:\n",
    "- DeviceType\n",
    "- DeviceInfo\n",
    "- id12 - id38\n"
   ]
  },
  {
   "cell_type": "code",
   "execution_count": 48,
   "metadata": {},
   "outputs": [],
   "source": [
    "# Numpy and pandas\n",
    "import pandas as pd\n",
    "import numpy as np\n",
    "\n",
    "#Visualization\n",
    "import matplotlib.pyplot as plt\n",
    "import seaborn as sns\n",
    "import missingno as msno\n",
    "\n",
    "# Statistics tools\n",
    "import scipy.stats as stats\n",
    "\n",
    "# Sklearn data clean\n",
    "from sklearn.preprocessing import LabelEncoder\n",
    "from sklearn.impute import SimpleImputer\n",
    "from sklearn.preprocessing import MinMaxScaler\n",
    "\n",
    "# Model selection\n",
    "from sklearn.model_selection import train_test_split\n",
    "from sklearn.feature_selection import SelectFromModel\n",
    "from sklearn.preprocessing import StandardScaler\n",
    "from sklearn.model_selection import cross_val_score\n",
    "from sklearn.model_selection import KFold\n",
    "\n",
    "# Logistic Regression\n",
    "from sklearn.linear_model import Lasso, LogisticRegression\n",
    "\n",
    "# KNN Classifer \n",
    "from sklearn.neighbors import KNeighborsClassifier\n",
    "\n",
    "# Decision Trees\n",
    "from sklearn import tree\n",
    "from sklearn.tree import DecisionTreeRegressor\n",
    "from IPython.display import Image\n",
    "import pydotplus\n",
    "import graphviz\n",
    "\n",
    "# Random Forests \n",
    "from sklearn.ensemble import RandomForestClassifier\n",
    "\n",
    "# SVM\n",
    "from sklearn.svm import SVC\n",
    "\n",
    "# Gradient Boost\n",
    "from xgboost import XGBClassifier\n",
    "\n",
    "# Evaluate\n",
    "from sklearn import metrics\n",
    "from sklearn.metrics import log_loss,accuracy_score, f1_score,roc_auc_score, confusion_matrix, classification_report\n",
    "\n",
    "# Hyperparameter tuning\n",
    "from sklearn.model_selection import RandomizedSearchCV, GridSearchCV\n",
    "\n",
    "# Datetime\n",
    "from datetime import datetime\n",
    "\n",
    "# Import data\n",
    "import warnings"
   ]
  },
  {
   "cell_type": "markdown",
   "metadata": {},
   "source": [
    "Let's start by importing tweets and users datasets. "
   ]
  },
  {
   "cell_type": "code",
   "execution_count": 2,
   "metadata": {},
   "outputs": [
    {
     "name": "stderr",
     "output_type": "stream",
     "text": [
      "/Users/tsawaengsri/anaconda3/lib/python3.6/site-packages/IPython/core/interactiveshell.py:3057: DtypeWarning: Columns (0) have mixed types. Specify dtype option on import or set low_memory=False.\n",
      "  interactivity=interactivity, compiler=compiler, result=result)\n",
      "/Users/tsawaengsri/anaconda3/lib/python3.6/site-packages/IPython/core/interactiveshell.py:3057: DtypeWarning: Columns (10) have mixed types. Specify dtype option on import or set low_memory=False.\n",
      "  interactivity=interactivity, compiler=compiler, result=result)\n",
      "/Users/tsawaengsri/anaconda3/lib/python3.6/site-packages/IPython/core/interactiveshell.py:3057: DtypeWarning: Columns (7,10) have mixed types. Specify dtype option on import or set low_memory=False.\n",
      "  interactivity=interactivity, compiler=compiler, result=result)\n"
     ]
    }
   ],
   "source": [
    "# Import genuine accounts \n",
    "g_tweets = pd.read_csv('/Users/tsawaengsri/Desktop/Data Science Courses/Datasets/cresci-2017.csv/datasets_full.csv/genuine_accounts.csv/tweets.csv')\n",
    "\n",
    "# Import spam bot accounts\n",
    "soc_bot1_tweets = pd.read_csv('/Users/tsawaengsri/Desktop/Data Science Courses/Datasets/cresci-2017.csv/datasets_full.csv/social_spambots_1.csv/tweets.csv')\n",
    "soc_bot2_tweets = pd.read_csv('/Users/tsawaengsri/Desktop/Data Science Courses/Datasets/cresci-2017.csv/datasets_full.csv/social_spambots_2.csv/tweets.csv')\n",
    "soc_bot3_tweets = pd.read_csv('/Users/tsawaengsri/Desktop/Data Science Courses/Datasets/cresci-2017.csv/datasets_full.csv/social_spambots_3.csv/tweets.csv')\n"
   ]
  },
  {
   "cell_type": "code",
   "execution_count": 3,
   "metadata": {},
   "outputs": [
    {
     "name": "stdout",
     "output_type": "stream",
     "text": [
      "Genuine tweets\n",
      "(2839362, 25)\n",
      "---------------\n",
      "Spam bot tweets\n",
      "(1610034, 25)\n",
      "(428542, 25)\n",
      "(1418557, 25)\n"
     ]
    }
   ],
   "source": [
    "print('Genuine tweets')\n",
    "print(g_tweets.shape)\n",
    "\n",
    "print('---------------')\n",
    "\n",
    "print('Spam bot tweets')\n",
    "print(soc_bot1_tweets.shape)\n",
    "print(soc_bot2_tweets.shape)\n",
    "print(soc_bot3_tweets.shape)"
   ]
  },
  {
   "cell_type": "code",
   "execution_count": 4,
   "metadata": {},
   "outputs": [],
   "source": [
    "# Import genuine accounts \n",
    "g_users = pd.read_csv('/Users/tsawaengsri/Desktop/Data Science Courses/Datasets/cresci-2017.csv/datasets_full.csv/genuine_accounts.csv/users.csv')\n",
    "\n",
    "# Import spam bot accounts\n",
    "soc_bot1_users = pd.read_csv('/Users/tsawaengsri/Desktop/Data Science Courses/Datasets/cresci-2017.csv/datasets_full.csv/social_spambots_1.csv/users.csv')\n",
    "soc_bot2_users = pd.read_csv('/Users/tsawaengsri/Desktop/Data Science Courses/Datasets/cresci-2017.csv/datasets_full.csv/social_spambots_2.csv/users.csv')\n",
    "soc_bot3_users = pd.read_csv('/Users/tsawaengsri/Desktop/Data Science Courses/Datasets/cresci-2017.csv/datasets_full.csv/social_spambots_3.csv/users.csv')\n"
   ]
  },
  {
   "cell_type": "code",
   "execution_count": 5,
   "metadata": {},
   "outputs": [
    {
     "name": "stdout",
     "output_type": "stream",
     "text": [
      "Genuine users\n",
      "(3474, 42)\n",
      "---------------\n",
      "Spam bot users\n",
      "(991, 41)\n",
      "(3457, 40)\n",
      "(464, 41)\n"
     ]
    }
   ],
   "source": [
    "print('Genuine users')\n",
    "print(g_users.shape)\n",
    "\n",
    "print('---------------')\n",
    "\n",
    "print('Spam bot users')\n",
    "print(soc_bot1_users.shape)\n",
    "print(soc_bot2_users.shape)\n",
    "print(soc_bot3_users.shape)"
   ]
  },
  {
   "cell_type": "markdown",
   "metadata": {},
   "source": [
    "## Merging datasets\n",
    "The transaction training file lacks identity information on each transaction, so we will merge the training identity and transaction files on TransactionID. Since each observation has a unique transaction ID, we will do a 1 to 1 join. We will be performing a left join since our focus remains on the transaction table.\n",
    "\n",
    "Below, we can see that the row length for train transaction and identity are not equal. It was noted that Vesta was unable to obtain all identity information so we will continue with the merge table for now."
   ]
  },
  {
   "cell_type": "code",
   "execution_count": 6,
   "metadata": {},
   "outputs": [],
   "source": [
    "b_tweets = pd.concat([soc_bot1_tweets,soc_bot2_tweets,soc_bot3_tweets], ignore_index=True, sort=False)"
   ]
  },
  {
   "cell_type": "code",
   "execution_count": 7,
   "metadata": {},
   "outputs": [],
   "source": [
    "# Create tweet class, 1 for bot and 0 for genuine tweets\n",
    "b_tweets['class'] = 1\n",
    "g_tweets['class'] = 0"
   ]
  },
  {
   "cell_type": "code",
   "execution_count": 8,
   "metadata": {},
   "outputs": [],
   "source": [
    "# Concatenate df\n",
    "tweets = pd.concat([b_tweets,g_tweets], ignore_index=True, sort=False)\n",
    "\n",
    "# Randomly shuffle df \n",
    "tweets = tweets.reindex(np.random.permutation(tweets.index))"
   ]
  },
  {
   "cell_type": "code",
   "execution_count": 9,
   "metadata": {},
   "outputs": [
    {
     "data": {
      "text/plain": [
       "(6296495, 26)"
      ]
     },
     "execution_count": 9,
     "metadata": {},
     "output_type": "execute_result"
    }
   ],
   "source": [
    "tweets.shape"
   ]
  },
  {
   "cell_type": "code",
   "execution_count": 10,
   "metadata": {},
   "outputs": [
    {
     "data": {
      "text/html": [
       "<div>\n",
       "<style scoped>\n",
       "    .dataframe tbody tr th:only-of-type {\n",
       "        vertical-align: middle;\n",
       "    }\n",
       "\n",
       "    .dataframe tbody tr th {\n",
       "        vertical-align: top;\n",
       "    }\n",
       "\n",
       "    .dataframe thead th {\n",
       "        text-align: right;\n",
       "    }\n",
       "</style>\n",
       "<table border=\"1\" class=\"dataframe\">\n",
       "  <thead>\n",
       "    <tr style=\"text-align: right;\">\n",
       "      <th></th>\n",
       "      <th>id</th>\n",
       "      <th>text</th>\n",
       "      <th>source</th>\n",
       "      <th>user_id</th>\n",
       "      <th>truncated</th>\n",
       "      <th>in_reply_to_status_id</th>\n",
       "      <th>in_reply_to_user_id</th>\n",
       "      <th>in_reply_to_screen_name</th>\n",
       "      <th>retweeted_status_id</th>\n",
       "      <th>geo</th>\n",
       "      <th>...</th>\n",
       "      <th>retweeted</th>\n",
       "      <th>possibly_sensitive</th>\n",
       "      <th>num_hashtags</th>\n",
       "      <th>num_urls</th>\n",
       "      <th>num_mentions</th>\n",
       "      <th>created_at</th>\n",
       "      <th>timestamp</th>\n",
       "      <th>crawled_at</th>\n",
       "      <th>updated</th>\n",
       "      <th>class</th>\n",
       "    </tr>\n",
       "  </thead>\n",
       "  <tbody>\n",
       "    <tr>\n",
       "      <th>5100500</th>\n",
       "      <td>589144017444700161</td>\n",
       "      <td>Everything Emily http://t.co/6dhsg6P8sD</td>\n",
       "      <td>&lt;a href=\"http://twitter.com\" rel=\"nofollow\"&gt;Tw...</td>\n",
       "      <td>2.210092e+09</td>\n",
       "      <td>NaN</td>\n",
       "      <td>0.000000e+00</td>\n",
       "      <td>0.0</td>\n",
       "      <td>NaN</td>\n",
       "      <td>0.0</td>\n",
       "      <td>NaN</td>\n",
       "      <td>...</td>\n",
       "      <td>NaN</td>\n",
       "      <td>NaN</td>\n",
       "      <td>0.0</td>\n",
       "      <td>0.0</td>\n",
       "      <td>0.0</td>\n",
       "      <td>Fri Apr 17 19:10:54 +0000 2015</td>\n",
       "      <td>2015-04-17 21:10:54</td>\n",
       "      <td>2015-05-01 14:05:39</td>\n",
       "      <td>2015-05-01 14:05:39</td>\n",
       "      <td>0</td>\n",
       "    </tr>\n",
       "    <tr>\n",
       "      <th>4003296</th>\n",
       "      <td>509830721054466048</td>\n",
       "      <td>@AhmadKKotb if you mean it in a friendly way..</td>\n",
       "      <td>&lt;a href=\"http://twitter.com/download/iphone\" r...</td>\n",
       "      <td>4.997373e+08</td>\n",
       "      <td>NaN</td>\n",
       "      <td>5.098305e+17</td>\n",
       "      <td>173659825.0</td>\n",
       "      <td>AhmadKKotb</td>\n",
       "      <td>0.0</td>\n",
       "      <td>NaN</td>\n",
       "      <td>...</td>\n",
       "      <td>NaN</td>\n",
       "      <td>NaN</td>\n",
       "      <td>0.0</td>\n",
       "      <td>0.0</td>\n",
       "      <td>1.0</td>\n",
       "      <td>Wed Sep 10 22:28:10 +0000 2014</td>\n",
       "      <td>2014-09-11 00:28:10</td>\n",
       "      <td>2015-05-01 13:19:53</td>\n",
       "      <td>2015-05-01 13:19:53</td>\n",
       "      <td>0</td>\n",
       "    </tr>\n",
       "    <tr>\n",
       "      <th>3347346</th>\n",
       "      <td>526702310979022848</td>\n",
       "      <td>Great Introduction to Uriah Heep  http://t.co/...</td>\n",
       "      <td>&lt;a href=\"http://tweetadder.com\" rel=\"nofollow\"...</td>\n",
       "      <td>9.386146e+08</td>\n",
       "      <td>NaN</td>\n",
       "      <td>0.000000e+00</td>\n",
       "      <td>0.0</td>\n",
       "      <td>NaN</td>\n",
       "      <td>0.0</td>\n",
       "      <td>NaN</td>\n",
       "      <td>...</td>\n",
       "      <td>NaN</td>\n",
       "      <td>NaN</td>\n",
       "      <td>0.0</td>\n",
       "      <td>1.0</td>\n",
       "      <td>0.0</td>\n",
       "      <td>Mon Oct 27 11:49:51 +0000 2014</td>\n",
       "      <td>2014-10-27 12:49:51</td>\n",
       "      <td>2014-11-13 06:16:45</td>\n",
       "      <td>2014-11-13 06:16:45</td>\n",
       "      <td>1</td>\n",
       "    </tr>\n",
       "    <tr>\n",
       "      <th>1441968</th>\n",
       "      <td>403063192764821504</td>\n",
       "      <td>\"Se non amo, non sono niente\". Jean Racine</td>\n",
       "      <td>&lt;a href=\"http://www.benedettalacci.it\" rel=\"no...</td>\n",
       "      <td>1.273206e+09</td>\n",
       "      <td>NaN</td>\n",
       "      <td>0.000000e+00</td>\n",
       "      <td>0.0</td>\n",
       "      <td>NaN</td>\n",
       "      <td>0.0</td>\n",
       "      <td>NaN</td>\n",
       "      <td>...</td>\n",
       "      <td>NaN</td>\n",
       "      <td>NaN</td>\n",
       "      <td>0.0</td>\n",
       "      <td>0.0</td>\n",
       "      <td>0.0</td>\n",
       "      <td>Wed Nov 20 07:32:08 +0000 2013</td>\n",
       "      <td>2013-11-20 08:32:08</td>\n",
       "      <td>2014-11-13 19:06:15</td>\n",
       "      <td>2014-11-13 19:06:15</td>\n",
       "      <td>1</td>\n",
       "    </tr>\n",
       "    <tr>\n",
       "      <th>2814629</th>\n",
       "      <td>509041558327681024</td>\n",
       "      <td>It wasnt a mission to be a rock star. It wasnt...</td>\n",
       "      <td>&lt;a href=\"http://tweetadder.com\" rel=\"nofollow\"...</td>\n",
       "      <td>5.224195e+08</td>\n",
       "      <td>NaN</td>\n",
       "      <td>0.000000e+00</td>\n",
       "      <td>0.0</td>\n",
       "      <td>NaN</td>\n",
       "      <td>0.0</td>\n",
       "      <td>NaN</td>\n",
       "      <td>...</td>\n",
       "      <td>NaN</td>\n",
       "      <td>NaN</td>\n",
       "      <td>0.0</td>\n",
       "      <td>0.0</td>\n",
       "      <td>0.0</td>\n",
       "      <td>Mon Sep 08 18:12:19 +0000 2014</td>\n",
       "      <td>2014-09-08 20:12:19</td>\n",
       "      <td>2014-11-13 03:20:37</td>\n",
       "      <td>2014-11-13 03:20:37</td>\n",
       "      <td>1</td>\n",
       "    </tr>\n",
       "  </tbody>\n",
       "</table>\n",
       "<p>5 rows × 26 columns</p>\n",
       "</div>"
      ],
      "text/plain": [
       "                         id  \\\n",
       "5100500  589144017444700161   \n",
       "4003296  509830721054466048   \n",
       "3347346  526702310979022848   \n",
       "1441968  403063192764821504   \n",
       "2814629  509041558327681024   \n",
       "\n",
       "                                                      text  \\\n",
       "5100500            Everything Emily http://t.co/6dhsg6P8sD   \n",
       "4003296     @AhmadKKotb if you mean it in a friendly way..   \n",
       "3347346  Great Introduction to Uriah Heep  http://t.co/...   \n",
       "1441968         \"Se non amo, non sono niente\". Jean Racine   \n",
       "2814629  It wasnt a mission to be a rock star. It wasnt...   \n",
       "\n",
       "                                                    source       user_id  \\\n",
       "5100500  <a href=\"http://twitter.com\" rel=\"nofollow\">Tw...  2.210092e+09   \n",
       "4003296  <a href=\"http://twitter.com/download/iphone\" r...  4.997373e+08   \n",
       "3347346  <a href=\"http://tweetadder.com\" rel=\"nofollow\"...  9.386146e+08   \n",
       "1441968  <a href=\"http://www.benedettalacci.it\" rel=\"no...  1.273206e+09   \n",
       "2814629  <a href=\"http://tweetadder.com\" rel=\"nofollow\"...  5.224195e+08   \n",
       "\n",
       "         truncated  in_reply_to_status_id  in_reply_to_user_id  \\\n",
       "5100500        NaN           0.000000e+00                  0.0   \n",
       "4003296        NaN           5.098305e+17          173659825.0   \n",
       "3347346        NaN           0.000000e+00                  0.0   \n",
       "1441968        NaN           0.000000e+00                  0.0   \n",
       "2814629        NaN           0.000000e+00                  0.0   \n",
       "\n",
       "        in_reply_to_screen_name  retweeted_status_id  geo  ... retweeted  \\\n",
       "5100500                     NaN                  0.0  NaN  ...       NaN   \n",
       "4003296              AhmadKKotb                  0.0  NaN  ...       NaN   \n",
       "3347346                     NaN                  0.0  NaN  ...       NaN   \n",
       "1441968                     NaN                  0.0  NaN  ...       NaN   \n",
       "2814629                     NaN                  0.0  NaN  ...       NaN   \n",
       "\n",
       "         possibly_sensitive  num_hashtags  num_urls  num_mentions  \\\n",
       "5100500                 NaN           0.0       0.0           0.0   \n",
       "4003296                 NaN           0.0       0.0           1.0   \n",
       "3347346                 NaN           0.0       1.0           0.0   \n",
       "1441968                 NaN           0.0       0.0           0.0   \n",
       "2814629                 NaN           0.0       0.0           0.0   \n",
       "\n",
       "                             created_at            timestamp  \\\n",
       "5100500  Fri Apr 17 19:10:54 +0000 2015  2015-04-17 21:10:54   \n",
       "4003296  Wed Sep 10 22:28:10 +0000 2014  2014-09-11 00:28:10   \n",
       "3347346  Mon Oct 27 11:49:51 +0000 2014  2014-10-27 12:49:51   \n",
       "1441968  Wed Nov 20 07:32:08 +0000 2013  2013-11-20 08:32:08   \n",
       "2814629  Mon Sep 08 18:12:19 +0000 2014  2014-09-08 20:12:19   \n",
       "\n",
       "                  crawled_at              updated  class  \n",
       "5100500  2015-05-01 14:05:39  2015-05-01 14:05:39      0  \n",
       "4003296  2015-05-01 13:19:53  2015-05-01 13:19:53      0  \n",
       "3347346  2014-11-13 06:16:45  2014-11-13 06:16:45      1  \n",
       "1441968  2014-11-13 19:06:15  2014-11-13 19:06:15      1  \n",
       "2814629  2014-11-13 03:20:37  2014-11-13 03:20:37      1  \n",
       "\n",
       "[5 rows x 26 columns]"
      ]
     },
     "execution_count": 10,
     "metadata": {},
     "output_type": "execute_result"
    }
   ],
   "source": [
    "tweets.head()"
   ]
  },
  {
   "cell_type": "code",
   "execution_count": 11,
   "metadata": {},
   "outputs": [
    {
     "name": "stdout",
     "output_type": "stream",
     "text": [
      "<class 'pandas.core.frame.DataFrame'>\n",
      "Int64Index: 6296495 entries, 5100500 to 1967553\n",
      "Data columns (total 26 columns):\n",
      "id                         object\n",
      "text                       object\n",
      "source                     object\n",
      "user_id                    float64\n",
      "truncated                  float64\n",
      "in_reply_to_status_id      float64\n",
      "in_reply_to_user_id        float64\n",
      "in_reply_to_screen_name    object\n",
      "retweeted_status_id        float64\n",
      "geo                        float64\n",
      "place                      object\n",
      "contributors               float64\n",
      "retweet_count              float64\n",
      "reply_count                float64\n",
      "favorite_count             float64\n",
      "favorited                  float64\n",
      "retweeted                  float64\n",
      "possibly_sensitive         float64\n",
      "num_hashtags               float64\n",
      "num_urls                   float64\n",
      "num_mentions               float64\n",
      "created_at                 object\n",
      "timestamp                  object\n",
      "crawled_at                 object\n",
      "updated                    object\n",
      "class                      int64\n",
      "dtypes: float64(16), int64(1), object(9)\n",
      "memory usage: 1.3+ GB\n"
     ]
    }
   ],
   "source": [
    "tweets.info()"
   ]
  },
  {
   "cell_type": "markdown",
   "metadata": {},
   "source": [
    "Now, let's do the same for the users datasets. First, we will drop test columns in g_users, soc_bot1_users and soc_bot3_users so that we can have even numbers of columns. "
   ]
  },
  {
   "cell_type": "code",
   "execution_count": 12,
   "metadata": {},
   "outputs": [
    {
     "name": "stdout",
     "output_type": "stream",
     "text": [
      "<class 'pandas.core.frame.DataFrame'>\n",
      "RangeIndex: 3474 entries, 0 to 3473\n",
      "Data columns (total 42 columns):\n",
      "id                                    3474 non-null int64\n",
      "name                                  3473 non-null object\n",
      "screen_name                           3474 non-null object\n",
      "statuses_count                        3474 non-null int64\n",
      "followers_count                       3474 non-null int64\n",
      "friends_count                         3474 non-null int64\n",
      "favourites_count                      3474 non-null int64\n",
      "listed_count                          3474 non-null int64\n",
      "url                                   1266 non-null object\n",
      "lang                                  3474 non-null object\n",
      "time_zone                             2475 non-null object\n",
      "location                              2365 non-null object\n",
      "default_profile                       1032 non-null float64\n",
      "default_profile_image                 13 non-null float64\n",
      "geo_enabled                           2155 non-null float64\n",
      "profile_image_url                     3474 non-null object\n",
      "profile_banner_url                    3165 non-null object\n",
      "profile_use_background_image          3084 non-null float64\n",
      "profile_background_image_url_https    3474 non-null object\n",
      "profile_text_color                    3474 non-null object\n",
      "profile_image_url_https               3474 non-null object\n",
      "profile_sidebar_border_color          3474 non-null object\n",
      "profile_background_tile               1307 non-null float64\n",
      "profile_sidebar_fill_color            3474 non-null object\n",
      "profile_background_image_url          3474 non-null object\n",
      "profile_background_color              3474 non-null object\n",
      "profile_link_color                    3474 non-null object\n",
      "utc_offset                            2475 non-null float64\n",
      "is_translator                         1 non-null float64\n",
      "follow_request_sent                   0 non-null float64\n",
      "protected                             78 non-null float64\n",
      "verified                              11 non-null float64\n",
      "notifications                         0 non-null float64\n",
      "description                           3095 non-null object\n",
      "contributors_enabled                  0 non-null float64\n",
      "following                             0 non-null float64\n",
      "created_at                            3474 non-null object\n",
      "timestamp                             3474 non-null object\n",
      "crawled_at                            3474 non-null object\n",
      "updated                               3474 non-null object\n",
      "test_set_1                            3474 non-null int64\n",
      "test_set_2                            3474 non-null int64\n",
      "dtypes: float64(13), int64(8), object(21)\n",
      "memory usage: 1.1+ MB\n"
     ]
    }
   ],
   "source": [
    "g_users.info()"
   ]
  },
  {
   "cell_type": "code",
   "execution_count": 13,
   "metadata": {},
   "outputs": [
    {
     "name": "stdout",
     "output_type": "stream",
     "text": [
      "<class 'pandas.core.frame.DataFrame'>\n",
      "RangeIndex: 991 entries, 0 to 990\n",
      "Data columns (total 41 columns):\n",
      "id                                    991 non-null int64\n",
      "name                                  991 non-null object\n",
      "screen_name                           991 non-null object\n",
      "statuses_count                        991 non-null int64\n",
      "followers_count                       991 non-null int64\n",
      "friends_count                         991 non-null int64\n",
      "favourites_count                      991 non-null int64\n",
      "listed_count                          991 non-null int64\n",
      "url                                   22 non-null object\n",
      "lang                                  991 non-null object\n",
      "time_zone                             903 non-null object\n",
      "location                              745 non-null object\n",
      "default_profile                       145 non-null float64\n",
      "default_profile_image                 1 non-null float64\n",
      "geo_enabled                           18 non-null float64\n",
      "profile_image_url                     991 non-null object\n",
      "profile_banner_url                    77 non-null object\n",
      "profile_use_background_image          988 non-null float64\n",
      "profile_background_image_url_https    991 non-null object\n",
      "profile_text_color                    991 non-null object\n",
      "profile_image_url_https               991 non-null object\n",
      "profile_sidebar_border_color          991 non-null object\n",
      "profile_background_tile               266 non-null float64\n",
      "profile_sidebar_fill_color            991 non-null object\n",
      "profile_background_image_url          991 non-null object\n",
      "profile_background_color              991 non-null object\n",
      "profile_link_color                    991 non-null object\n",
      "utc_offset                            903 non-null float64\n",
      "is_translator                         0 non-null float64\n",
      "follow_request_sent                   0 non-null float64\n",
      "protected                             0 non-null float64\n",
      "verified                              0 non-null float64\n",
      "notifications                         0 non-null float64\n",
      "description                           943 non-null object\n",
      "contributors_enabled                  0 non-null float64\n",
      "following                             0 non-null float64\n",
      "created_at                            991 non-null object\n",
      "timestamp                             991 non-null object\n",
      "crawled_at                            991 non-null object\n",
      "updated                               991 non-null object\n",
      "test_set_1                            991 non-null int64\n",
      "dtypes: float64(13), int64(7), object(21)\n",
      "memory usage: 317.6+ KB\n"
     ]
    }
   ],
   "source": [
    "soc_bot1_users.info()"
   ]
  },
  {
   "cell_type": "code",
   "execution_count": 14,
   "metadata": {},
   "outputs": [
    {
     "name": "stdout",
     "output_type": "stream",
     "text": [
      "<class 'pandas.core.frame.DataFrame'>\n",
      "RangeIndex: 3457 entries, 0 to 3456\n",
      "Data columns (total 40 columns):\n",
      "id                                    3457 non-null int64\n",
      "name                                  3457 non-null object\n",
      "screen_name                           3457 non-null object\n",
      "statuses_count                        3457 non-null int64\n",
      "followers_count                       3457 non-null int64\n",
      "friends_count                         3457 non-null int64\n",
      "favourites_count                      3457 non-null int64\n",
      "listed_count                          3457 non-null int64\n",
      "url                                   10 non-null object\n",
      "lang                                  3457 non-null object\n",
      "time_zone                             14 non-null object\n",
      "location                              13 non-null object\n",
      "default_profile                       15 non-null float64\n",
      "default_profile_image                 46 non-null float64\n",
      "geo_enabled                           5 non-null float64\n",
      "profile_image_url                     3457 non-null object\n",
      "profile_banner_url                    15 non-null object\n",
      "profile_use_background_image          3457 non-null int64\n",
      "profile_background_image_url_https    3457 non-null object\n",
      "profile_text_color                    3457 non-null object\n",
      "profile_image_url_https               3457 non-null object\n",
      "profile_sidebar_border_color          3457 non-null object\n",
      "profile_background_tile               3437 non-null float64\n",
      "profile_sidebar_fill_color            3457 non-null object\n",
      "profile_background_image_url          3457 non-null object\n",
      "profile_background_color              3457 non-null object\n",
      "profile_link_color                    3457 non-null object\n",
      "utc_offset                            14 non-null float64\n",
      "is_translator                         0 non-null float64\n",
      "follow_request_sent                   0 non-null float64\n",
      "protected                             0 non-null float64\n",
      "verified                              0 non-null float64\n",
      "notifications                         0 non-null float64\n",
      "description                           14 non-null object\n",
      "contributors_enabled                  0 non-null float64\n",
      "following                             0 non-null float64\n",
      "created_at                            3457 non-null object\n",
      "timestamp                             3457 non-null object\n",
      "crawled_at                            3457 non-null object\n",
      "updated                               3457 non-null object\n",
      "dtypes: float64(12), int64(7), object(21)\n",
      "memory usage: 1.1+ MB\n"
     ]
    }
   ],
   "source": [
    "soc_bot2_users.info()"
   ]
  },
  {
   "cell_type": "code",
   "execution_count": 15,
   "metadata": {},
   "outputs": [
    {
     "name": "stdout",
     "output_type": "stream",
     "text": [
      "<class 'pandas.core.frame.DataFrame'>\n",
      "RangeIndex: 464 entries, 0 to 463\n",
      "Data columns (total 41 columns):\n",
      "id                                    464 non-null int64\n",
      "name                                  464 non-null object\n",
      "screen_name                           464 non-null object\n",
      "statuses_count                        464 non-null int64\n",
      "followers_count                       464 non-null int64\n",
      "friends_count                         464 non-null int64\n",
      "favourites_count                      464 non-null int64\n",
      "listed_count                          464 non-null int64\n",
      "url                                   253 non-null object\n",
      "lang                                  464 non-null object\n",
      "time_zone                             303 non-null object\n",
      "location                              54 non-null object\n",
      "default_profile                       178 non-null float64\n",
      "default_profile_image                 0 non-null float64\n",
      "geo_enabled                           10 non-null float64\n",
      "profile_image_url                     464 non-null object\n",
      "profile_banner_url                    42 non-null object\n",
      "profile_use_background_image          461 non-null float64\n",
      "profile_background_image_url_https    464 non-null object\n",
      "profile_text_color                    464 non-null object\n",
      "profile_image_url_https               464 non-null object\n",
      "profile_sidebar_border_color          464 non-null object\n",
      "profile_background_tile               241 non-null float64\n",
      "profile_sidebar_fill_color            464 non-null object\n",
      "profile_background_image_url          464 non-null object\n",
      "profile_background_color              464 non-null object\n",
      "profile_link_color                    464 non-null object\n",
      "utc_offset                            303 non-null float64\n",
      "is_translator                         0 non-null float64\n",
      "follow_request_sent                   0 non-null float64\n",
      "protected                             0 non-null float64\n",
      "verified                              0 non-null float64\n",
      "notifications                         0 non-null float64\n",
      "description                           460 non-null object\n",
      "contributors_enabled                  0 non-null float64\n",
      "following                             0 non-null float64\n",
      "created_at                            464 non-null object\n",
      "timestamp                             464 non-null object\n",
      "crawled_at                            464 non-null object\n",
      "updated                               464 non-null object\n",
      "test_set_2                            464 non-null int64\n",
      "dtypes: float64(13), int64(7), object(21)\n",
      "memory usage: 148.8+ KB\n"
     ]
    }
   ],
   "source": [
    "soc_bot3_users.info()"
   ]
  },
  {
   "cell_type": "code",
   "execution_count": 16,
   "metadata": {},
   "outputs": [],
   "source": [
    "# Select common columns \n",
    "g_users.drop(['test_set_1','test_set_2'], axis=1, inplace=True)\n",
    "\n",
    "soc_bot1_users.drop('test_set_1', axis=1, inplace=True)\n",
    "soc_bot3_users.drop('test_set_2', axis=1, inplace=True)"
   ]
  },
  {
   "cell_type": "code",
   "execution_count": 17,
   "metadata": {},
   "outputs": [],
   "source": [
    "b_users = pd.concat([soc_bot1_users,soc_bot2_users,soc_bot3_users], ignore_index=True, sort=False)"
   ]
  },
  {
   "cell_type": "code",
   "execution_count": 18,
   "metadata": {},
   "outputs": [],
   "source": [
    "# Create tweet class, 1 for bot and 0 for genuine tweets\n",
    "b_users['class'] = 1\n",
    "g_users['class'] = 0"
   ]
  },
  {
   "cell_type": "code",
   "execution_count": 19,
   "metadata": {},
   "outputs": [],
   "source": [
    "# Concatenate df\n",
    "users = pd.concat([b_users,g_users], ignore_index=True, sort=False)\n",
    "\n",
    "# Randomly shuffle df \n",
    "users = users.reindex(np.random.permutation(users.index))"
   ]
  },
  {
   "cell_type": "code",
   "execution_count": 20,
   "metadata": {},
   "outputs": [
    {
     "data": {
      "text/plain": [
       "(8386, 41)"
      ]
     },
     "execution_count": 20,
     "metadata": {},
     "output_type": "execute_result"
    }
   ],
   "source": [
    "users.shape"
   ]
  },
  {
   "cell_type": "code",
   "execution_count": 21,
   "metadata": {},
   "outputs": [
    {
     "data": {
      "text/html": [
       "<div>\n",
       "<style scoped>\n",
       "    .dataframe tbody tr th:only-of-type {\n",
       "        vertical-align: middle;\n",
       "    }\n",
       "\n",
       "    .dataframe tbody tr th {\n",
       "        vertical-align: top;\n",
       "    }\n",
       "\n",
       "    .dataframe thead th {\n",
       "        text-align: right;\n",
       "    }\n",
       "</style>\n",
       "<table border=\"1\" class=\"dataframe\">\n",
       "  <thead>\n",
       "    <tr style=\"text-align: right;\">\n",
       "      <th></th>\n",
       "      <th>id</th>\n",
       "      <th>name</th>\n",
       "      <th>screen_name</th>\n",
       "      <th>statuses_count</th>\n",
       "      <th>followers_count</th>\n",
       "      <th>friends_count</th>\n",
       "      <th>favourites_count</th>\n",
       "      <th>listed_count</th>\n",
       "      <th>url</th>\n",
       "      <th>lang</th>\n",
       "      <th>...</th>\n",
       "      <th>verified</th>\n",
       "      <th>notifications</th>\n",
       "      <th>description</th>\n",
       "      <th>contributors_enabled</th>\n",
       "      <th>following</th>\n",
       "      <th>created_at</th>\n",
       "      <th>timestamp</th>\n",
       "      <th>crawled_at</th>\n",
       "      <th>updated</th>\n",
       "      <th>class</th>\n",
       "    </tr>\n",
       "  </thead>\n",
       "  <tbody>\n",
       "    <tr>\n",
       "      <th>4676</th>\n",
       "      <td>521086027</td>\n",
       "      <td>Haymitch Evergre</td>\n",
       "      <td>HaymitchEvergr7</td>\n",
       "      <td>10893</td>\n",
       "      <td>920</td>\n",
       "      <td>1764</td>\n",
       "      <td>1</td>\n",
       "      <td>2</td>\n",
       "      <td>NaN</td>\n",
       "      <td>en</td>\n",
       "      <td>...</td>\n",
       "      <td>NaN</td>\n",
       "      <td>NaN</td>\n",
       "      <td>I love running, business, and the web!</td>\n",
       "      <td>NaN</td>\n",
       "      <td>NaN</td>\n",
       "      <td>Sun Mar 11 06:59:04 +0000 2012</td>\n",
       "      <td>2012-03-11 07:59:04</td>\n",
       "      <td>2014-05-05 23:24:32</td>\n",
       "      <td>2016-03-15 15:40:18</td>\n",
       "      <td>1</td>\n",
       "    </tr>\n",
       "    <tr>\n",
       "      <th>4945</th>\n",
       "      <td>222290847</td>\n",
       "      <td>HUGO ARRIAGA</td>\n",
       "      <td>ARHG66</td>\n",
       "      <td>54</td>\n",
       "      <td>10</td>\n",
       "      <td>91</td>\n",
       "      <td>14</td>\n",
       "      <td>0</td>\n",
       "      <td>NaN</td>\n",
       "      <td>en</td>\n",
       "      <td>...</td>\n",
       "      <td>NaN</td>\n",
       "      <td>NaN</td>\n",
       "      <td>NaN</td>\n",
       "      <td>NaN</td>\n",
       "      <td>NaN</td>\n",
       "      <td>Fri Dec 03 00:18:40 +0000 2010</td>\n",
       "      <td>2010-12-03 01:18:40</td>\n",
       "      <td>2015-05-01 15:53:46</td>\n",
       "      <td>2016-03-15 15:53:57</td>\n",
       "      <td>0</td>\n",
       "    </tr>\n",
       "    <tr>\n",
       "      <th>2951</th>\n",
       "      <td>2381421956</td>\n",
       "      <td>Nancey Odegard</td>\n",
       "      <td>NanceyOdegard</td>\n",
       "      <td>45</td>\n",
       "      <td>4</td>\n",
       "      <td>34</td>\n",
       "      <td>0</td>\n",
       "      <td>0</td>\n",
       "      <td>NaN</td>\n",
       "      <td>en</td>\n",
       "      <td>...</td>\n",
       "      <td>NaN</td>\n",
       "      <td>NaN</td>\n",
       "      <td>NaN</td>\n",
       "      <td>NaN</td>\n",
       "      <td>NaN</td>\n",
       "      <td>Mon Mar 10 03:06:50 +0000 2014</td>\n",
       "      <td>2014-03-10 04:06:50</td>\n",
       "      <td>2014-05-05 00:21:24</td>\n",
       "      <td>2016-03-15 15:12:40</td>\n",
       "      <td>1</td>\n",
       "    </tr>\n",
       "    <tr>\n",
       "      <th>6910</th>\n",
       "      <td>3070794500</td>\n",
       "      <td>cvee</td>\n",
       "      <td>cristieeevee</td>\n",
       "      <td>936</td>\n",
       "      <td>162</td>\n",
       "      <td>153</td>\n",
       "      <td>225</td>\n",
       "      <td>0</td>\n",
       "      <td>NaN</td>\n",
       "      <td>en</td>\n",
       "      <td>...</td>\n",
       "      <td>NaN</td>\n",
       "      <td>NaN</td>\n",
       "      <td>maria is my life</td>\n",
       "      <td>NaN</td>\n",
       "      <td>NaN</td>\n",
       "      <td>Tue Mar 10 05:32:56 +0000 2015</td>\n",
       "      <td>2015-03-10 06:32:56</td>\n",
       "      <td>2015-05-02 01:36:29</td>\n",
       "      <td>2016-03-15 16:03:53</td>\n",
       "      <td>0</td>\n",
       "    </tr>\n",
       "    <tr>\n",
       "      <th>7118</th>\n",
       "      <td>1413053256</td>\n",
       "      <td>Gaurang Makwana</td>\n",
       "      <td>gaurang9007</td>\n",
       "      <td>2308</td>\n",
       "      <td>479</td>\n",
       "      <td>652</td>\n",
       "      <td>390</td>\n",
       "      <td>21</td>\n",
       "      <td>http://t.co/1iKjknlN9D</td>\n",
       "      <td>en</td>\n",
       "      <td>...</td>\n",
       "      <td>NaN</td>\n",
       "      <td>NaN</td>\n",
       "      <td>IT Professional, Entrepreneur, Tech Geek, Musi...</td>\n",
       "      <td>NaN</td>\n",
       "      <td>NaN</td>\n",
       "      <td>Wed May 08 15:02:48 +0000 2013</td>\n",
       "      <td>2013-05-08 17:02:48</td>\n",
       "      <td>2015-05-02 05:01:08</td>\n",
       "      <td>2016-03-15 16:04:55</td>\n",
       "      <td>0</td>\n",
       "    </tr>\n",
       "  </tbody>\n",
       "</table>\n",
       "<p>5 rows × 41 columns</p>\n",
       "</div>"
      ],
      "text/plain": [
       "              id              name      screen_name  statuses_count  \\\n",
       "4676   521086027  Haymitch Evergre  HaymitchEvergr7           10893   \n",
       "4945   222290847      HUGO ARRIAGA           ARHG66              54   \n",
       "2951  2381421956    Nancey Odegard    NanceyOdegard              45   \n",
       "6910  3070794500              cvee     cristieeevee             936   \n",
       "7118  1413053256   Gaurang Makwana      gaurang9007            2308   \n",
       "\n",
       "      followers_count  friends_count  favourites_count  listed_count  \\\n",
       "4676              920           1764                 1             2   \n",
       "4945               10             91                14             0   \n",
       "2951                4             34                 0             0   \n",
       "6910              162            153               225             0   \n",
       "7118              479            652               390            21   \n",
       "\n",
       "                         url lang  ... verified notifications  \\\n",
       "4676                     NaN   en  ...      NaN           NaN   \n",
       "4945                     NaN   en  ...      NaN           NaN   \n",
       "2951                     NaN   en  ...      NaN           NaN   \n",
       "6910                     NaN   en  ...      NaN           NaN   \n",
       "7118  http://t.co/1iKjknlN9D   en  ...      NaN           NaN   \n",
       "\n",
       "                                            description  contributors_enabled  \\\n",
       "4676             I love running, business, and the web!                   NaN   \n",
       "4945                                                NaN                   NaN   \n",
       "2951                                                NaN                   NaN   \n",
       "6910                                   maria is my life                   NaN   \n",
       "7118  IT Professional, Entrepreneur, Tech Geek, Musi...                   NaN   \n",
       "\n",
       "      following                      created_at            timestamp  \\\n",
       "4676        NaN  Sun Mar 11 06:59:04 +0000 2012  2012-03-11 07:59:04   \n",
       "4945        NaN  Fri Dec 03 00:18:40 +0000 2010  2010-12-03 01:18:40   \n",
       "2951        NaN  Mon Mar 10 03:06:50 +0000 2014  2014-03-10 04:06:50   \n",
       "6910        NaN  Tue Mar 10 05:32:56 +0000 2015  2015-03-10 06:32:56   \n",
       "7118        NaN  Wed May 08 15:02:48 +0000 2013  2013-05-08 17:02:48   \n",
       "\n",
       "               crawled_at              updated class  \n",
       "4676  2014-05-05 23:24:32  2016-03-15 15:40:18     1  \n",
       "4945  2015-05-01 15:53:46  2016-03-15 15:53:57     0  \n",
       "2951  2014-05-05 00:21:24  2016-03-15 15:12:40     1  \n",
       "6910  2015-05-02 01:36:29  2016-03-15 16:03:53     0  \n",
       "7118  2015-05-02 05:01:08  2016-03-15 16:04:55     0  \n",
       "\n",
       "[5 rows x 41 columns]"
      ]
     },
     "execution_count": 21,
     "metadata": {},
     "output_type": "execute_result"
    }
   ],
   "source": [
    "users.head()"
   ]
  },
  {
   "cell_type": "code",
   "execution_count": 22,
   "metadata": {},
   "outputs": [
    {
     "name": "stdout",
     "output_type": "stream",
     "text": [
      "<class 'pandas.core.frame.DataFrame'>\n",
      "Int64Index: 8386 entries, 4676 to 4611\n",
      "Data columns (total 41 columns):\n",
      "id                                    8386 non-null int64\n",
      "name                                  8385 non-null object\n",
      "screen_name                           8386 non-null object\n",
      "statuses_count                        8386 non-null int64\n",
      "followers_count                       8386 non-null int64\n",
      "friends_count                         8386 non-null int64\n",
      "favourites_count                      8386 non-null int64\n",
      "listed_count                          8386 non-null int64\n",
      "url                                   1551 non-null object\n",
      "lang                                  8386 non-null object\n",
      "time_zone                             3695 non-null object\n",
      "location                              3177 non-null object\n",
      "default_profile                       1370 non-null float64\n",
      "default_profile_image                 60 non-null float64\n",
      "geo_enabled                           2188 non-null float64\n",
      "profile_image_url                     8386 non-null object\n",
      "profile_banner_url                    3299 non-null object\n",
      "profile_use_background_image          7990 non-null float64\n",
      "profile_background_image_url_https    8386 non-null object\n",
      "profile_text_color                    8386 non-null object\n",
      "profile_image_url_https               8386 non-null object\n",
      "profile_sidebar_border_color          8386 non-null object\n",
      "profile_background_tile               5251 non-null float64\n",
      "profile_sidebar_fill_color            8386 non-null object\n",
      "profile_background_image_url          8386 non-null object\n",
      "profile_background_color              8386 non-null object\n",
      "profile_link_color                    8386 non-null object\n",
      "utc_offset                            3695 non-null float64\n",
      "is_translator                         1 non-null float64\n",
      "follow_request_sent                   0 non-null float64\n",
      "protected                             78 non-null float64\n",
      "verified                              11 non-null float64\n",
      "notifications                         0 non-null float64\n",
      "description                           4512 non-null object\n",
      "contributors_enabled                  0 non-null float64\n",
      "following                             0 non-null float64\n",
      "created_at                            8386 non-null object\n",
      "timestamp                             8386 non-null object\n",
      "crawled_at                            8386 non-null object\n",
      "updated                               8386 non-null object\n",
      "class                                 8386 non-null int64\n",
      "dtypes: float64(13), int64(7), object(21)\n",
      "memory usage: 2.7+ MB\n"
     ]
    }
   ],
   "source": [
    "users.info()"
   ]
  },
  {
   "cell_type": "markdown",
   "metadata": {},
   "source": [
    "## Missing Values\n",
    "Now, we will take a look at missing values in each column."
   ]
  },
  {
   "cell_type": "code",
   "execution_count": 23,
   "metadata": {},
   "outputs": [],
   "source": [
    "# Function to calculate missing values by column\n",
    "def missing_values_table(df):\n",
    "        # Total missing values\n",
    "        mis_val = df.isnull().sum()\n",
    "        \n",
    "        # Percentage of missing values\n",
    "        mis_val_percent = 100 * df.isnull().sum() / len(df)\n",
    "        \n",
    "        # Make a table with the results\n",
    "        mis_val_table = pd.concat([mis_val, mis_val_percent], axis=1)\n",
    "        \n",
    "        # Rename the columns\n",
    "        mis_val_table_ren_columns = mis_val_table.rename(\n",
    "        columns = {0 : 'Missing Values', 1 : '% of Total Values'})\n",
    "        \n",
    "        # Sort the table by percentage of missing descending\n",
    "        mis_val_table_ren_columns = mis_val_table_ren_columns[\n",
    "            mis_val_table_ren_columns.iloc[:,1] != 0].sort_values(\n",
    "        '% of Total Values', ascending=False).round(1)\n",
    "        \n",
    "        # Print some summary information\n",
    "        print (\"Your selected dataframe has \" + str(df.shape[1]) + \" columns.\\n\"      \n",
    "            \"There are \" + str(mis_val_table_ren_columns.shape[0]) +\n",
    "              \" columns that have missing values.\")\n",
    "        \n",
    "        # Return the dataframe with missing information\n",
    "        return mis_val_table_ren_columns"
   ]
  },
  {
   "cell_type": "code",
   "execution_count": 24,
   "metadata": {},
   "outputs": [
    {
     "name": "stdout",
     "output_type": "stream",
     "text": [
      "Your selected dataframe has 26 columns.\n",
      "There are 24 columns that have missing values.\n"
     ]
    },
    {
     "data": {
      "text/html": [
       "<div>\n",
       "<style scoped>\n",
       "    .dataframe tbody tr th:only-of-type {\n",
       "        vertical-align: middle;\n",
       "    }\n",
       "\n",
       "    .dataframe tbody tr th {\n",
       "        vertical-align: top;\n",
       "    }\n",
       "\n",
       "    .dataframe thead th {\n",
       "        text-align: right;\n",
       "    }\n",
       "</style>\n",
       "<table border=\"1\" class=\"dataframe\">\n",
       "  <thead>\n",
       "    <tr style=\"text-align: right;\">\n",
       "      <th></th>\n",
       "      <th>Missing Values</th>\n",
       "      <th>% of Total Values</th>\n",
       "    </tr>\n",
       "  </thead>\n",
       "  <tbody>\n",
       "    <tr>\n",
       "      <th>truncated</th>\n",
       "      <td>6296495</td>\n",
       "      <td>100.0</td>\n",
       "    </tr>\n",
       "    <tr>\n",
       "      <th>geo</th>\n",
       "      <td>6296495</td>\n",
       "      <td>100.0</td>\n",
       "    </tr>\n",
       "    <tr>\n",
       "      <th>contributors</th>\n",
       "      <td>6296495</td>\n",
       "      <td>100.0</td>\n",
       "    </tr>\n",
       "    <tr>\n",
       "      <th>favorited</th>\n",
       "      <td>6296495</td>\n",
       "      <td>100.0</td>\n",
       "    </tr>\n",
       "    <tr>\n",
       "      <th>retweeted</th>\n",
       "      <td>6296495</td>\n",
       "      <td>100.0</td>\n",
       "    </tr>\n",
       "    <tr>\n",
       "      <th>possibly_sensitive</th>\n",
       "      <td>6270292</td>\n",
       "      <td>99.6</td>\n",
       "    </tr>\n",
       "    <tr>\n",
       "      <th>place</th>\n",
       "      <td>6169527</td>\n",
       "      <td>98.0</td>\n",
       "    </tr>\n",
       "    <tr>\n",
       "      <th>in_reply_to_screen_name</th>\n",
       "      <td>5295806</td>\n",
       "      <td>84.1</td>\n",
       "    </tr>\n",
       "    <tr>\n",
       "      <th>text</th>\n",
       "      <td>12987</td>\n",
       "      <td>0.2</td>\n",
       "    </tr>\n",
       "    <tr>\n",
       "      <th>source</th>\n",
       "      <td>73</td>\n",
       "      <td>0.0</td>\n",
       "    </tr>\n",
       "    <tr>\n",
       "      <th>crawled_at</th>\n",
       "      <td>1</td>\n",
       "      <td>0.0</td>\n",
       "    </tr>\n",
       "    <tr>\n",
       "      <th>timestamp</th>\n",
       "      <td>1</td>\n",
       "      <td>0.0</td>\n",
       "    </tr>\n",
       "    <tr>\n",
       "      <th>created_at</th>\n",
       "      <td>1</td>\n",
       "      <td>0.0</td>\n",
       "    </tr>\n",
       "    <tr>\n",
       "      <th>num_mentions</th>\n",
       "      <td>1</td>\n",
       "      <td>0.0</td>\n",
       "    </tr>\n",
       "    <tr>\n",
       "      <th>num_urls</th>\n",
       "      <td>1</td>\n",
       "      <td>0.0</td>\n",
       "    </tr>\n",
       "    <tr>\n",
       "      <th>num_hashtags</th>\n",
       "      <td>1</td>\n",
       "      <td>0.0</td>\n",
       "    </tr>\n",
       "    <tr>\n",
       "      <th>reply_count</th>\n",
       "      <td>1</td>\n",
       "      <td>0.0</td>\n",
       "    </tr>\n",
       "    <tr>\n",
       "      <th>favorite_count</th>\n",
       "      <td>1</td>\n",
       "      <td>0.0</td>\n",
       "    </tr>\n",
       "    <tr>\n",
       "      <th>retweet_count</th>\n",
       "      <td>1</td>\n",
       "      <td>0.0</td>\n",
       "    </tr>\n",
       "    <tr>\n",
       "      <th>retweeted_status_id</th>\n",
       "      <td>1</td>\n",
       "      <td>0.0</td>\n",
       "    </tr>\n",
       "    <tr>\n",
       "      <th>in_reply_to_user_id</th>\n",
       "      <td>1</td>\n",
       "      <td>0.0</td>\n",
       "    </tr>\n",
       "    <tr>\n",
       "      <th>in_reply_to_status_id</th>\n",
       "      <td>1</td>\n",
       "      <td>0.0</td>\n",
       "    </tr>\n",
       "    <tr>\n",
       "      <th>user_id</th>\n",
       "      <td>1</td>\n",
       "      <td>0.0</td>\n",
       "    </tr>\n",
       "    <tr>\n",
       "      <th>updated</th>\n",
       "      <td>1</td>\n",
       "      <td>0.0</td>\n",
       "    </tr>\n",
       "  </tbody>\n",
       "</table>\n",
       "</div>"
      ],
      "text/plain": [
       "                         Missing Values  % of Total Values\n",
       "truncated                       6296495              100.0\n",
       "geo                             6296495              100.0\n",
       "contributors                    6296495              100.0\n",
       "favorited                       6296495              100.0\n",
       "retweeted                       6296495              100.0\n",
       "possibly_sensitive              6270292               99.6\n",
       "place                           6169527               98.0\n",
       "in_reply_to_screen_name         5295806               84.1\n",
       "text                              12987                0.2\n",
       "source                               73                0.0\n",
       "crawled_at                            1                0.0\n",
       "timestamp                             1                0.0\n",
       "created_at                            1                0.0\n",
       "num_mentions                          1                0.0\n",
       "num_urls                              1                0.0\n",
       "num_hashtags                          1                0.0\n",
       "reply_count                           1                0.0\n",
       "favorite_count                        1                0.0\n",
       "retweet_count                         1                0.0\n",
       "retweeted_status_id                   1                0.0\n",
       "in_reply_to_user_id                   1                0.0\n",
       "in_reply_to_status_id                 1                0.0\n",
       "user_id                               1                0.0\n",
       "updated                               1                0.0"
      ]
     },
     "execution_count": 24,
     "metadata": {},
     "output_type": "execute_result"
    }
   ],
   "source": [
    "missing_values_table(tweets)"
   ]
  },
  {
   "cell_type": "code",
   "execution_count": 25,
   "metadata": {},
   "outputs": [
    {
     "data": {
      "text/plain": [
       "<matplotlib.axes._subplots.AxesSubplot at 0x1a8834ba20>"
      ]
     },
     "execution_count": 25,
     "metadata": {},
     "output_type": "execute_result"
    },
    {
     "data": {
      "image/png": "[encoded data removed]",
      "text/plain": [
       "<Figure size 1800x720 with 2 Axes>"
      ]
     },
     "metadata": {
      "needs_background": "light"
     },
     "output_type": "display_data"
    }
   ],
   "source": [
    "msno.matrix(tweets)"
   ]
  },
  {
   "cell_type": "markdown",
   "metadata": {},
   "source": [
    "As shown in the matrix, many columns such as truncated, geo, contributors, etc. appear to be missing all datapoints. The data doesn't appear to be missing at random since there is a repetitive pattern between those columns. \n",
    "\n",
    "We will drop columns missing more than 90% of data points and in_reply_to_screen_name since that isn't our focus. Then, we will drop the remaining rows with missing values since that is only a small percentage of the dataset."
   ]
  },
  {
   "cell_type": "code",
   "execution_count": 26,
   "metadata": {},
   "outputs": [
    {
     "name": "stdout",
     "output_type": "stream",
     "text": [
      "Your selected dataframe has 26 columns.\n",
      "There are 24 columns that have missing values.\n",
      "We will drop 8 columns.\n",
      "Drop columns:  ['truncated', 'geo', 'contributors', 'favorited', 'retweeted', 'possibly_sensitive', 'place', 'in_reply_to_screen_name']\n"
     ]
    }
   ],
   "source": [
    "# Get columns with >= 80% missing\n",
    "missing_df = missing_values_table(tweets)\n",
    "missing_columns = list(missing_df[missing_df['% of Total Values'] >= 80].index)\n",
    "print('We will drop %d columns.' % len(missing_columns))\n",
    "print('Drop columns: ', missing_columns)"
   ]
  },
  {
   "cell_type": "code",
   "execution_count": 27,
   "metadata": {},
   "outputs": [],
   "source": [
    "tweets.drop(labels=['truncated', 'geo', 'contributors', 'favorited', 'retweeted', 'possibly_sensitive', 'place','in_reply_to_screen_name'], axis=1, inplace=True)"
   ]
  },
  {
   "cell_type": "code",
   "execution_count": 28,
   "metadata": {},
   "outputs": [],
   "source": [
    "# Drop all rows that have any NaN values\n",
    "tweets = tweets.dropna()\n",
    "tweets = tweets.reset_index(drop=True)"
   ]
  },
  {
   "cell_type": "code",
   "execution_count": 29,
   "metadata": {},
   "outputs": [
    {
     "name": "stdout",
     "output_type": "stream",
     "text": [
      "Your selected dataframe has 18 columns.\n",
      "There are 0 columns that have missing values.\n"
     ]
    },
    {
     "data": {
      "text/html": [
       "<div>\n",
       "<style scoped>\n",
       "    .dataframe tbody tr th:only-of-type {\n",
       "        vertical-align: middle;\n",
       "    }\n",
       "\n",
       "    .dataframe tbody tr th {\n",
       "        vertical-align: top;\n",
       "    }\n",
       "\n",
       "    .dataframe thead th {\n",
       "        text-align: right;\n",
       "    }\n",
       "</style>\n",
       "<table border=\"1\" class=\"dataframe\">\n",
       "  <thead>\n",
       "    <tr style=\"text-align: right;\">\n",
       "      <th></th>\n",
       "      <th>Missing Values</th>\n",
       "      <th>% of Total Values</th>\n",
       "    </tr>\n",
       "  </thead>\n",
       "  <tbody>\n",
       "  </tbody>\n",
       "</table>\n",
       "</div>"
      ],
      "text/plain": [
       "Empty DataFrame\n",
       "Columns: [Missing Values, % of Total Values]\n",
       "Index: []"
      ]
     },
     "execution_count": 29,
     "metadata": {},
     "output_type": "execute_result"
    }
   ],
   "source": [
    "missing_values_table(tweets)"
   ]
  },
  {
   "cell_type": "markdown",
   "metadata": {},
   "source": [
    "Next, we'll take a look at the users table. "
   ]
  },
  {
   "cell_type": "code",
   "execution_count": 30,
   "metadata": {},
   "outputs": [
    {
     "name": "stdout",
     "output_type": "stream",
     "text": [
      "Your selected dataframe has 41 columns.\n",
      "There are 19 columns that have missing values.\n"
     ]
    },
    {
     "data": {
      "text/html": [
       "<div>\n",
       "<style scoped>\n",
       "    .dataframe tbody tr th:only-of-type {\n",
       "        vertical-align: middle;\n",
       "    }\n",
       "\n",
       "    .dataframe tbody tr th {\n",
       "        vertical-align: top;\n",
       "    }\n",
       "\n",
       "    .dataframe thead th {\n",
       "        text-align: right;\n",
       "    }\n",
       "</style>\n",
       "<table border=\"1\" class=\"dataframe\">\n",
       "  <thead>\n",
       "    <tr style=\"text-align: right;\">\n",
       "      <th></th>\n",
       "      <th>Missing Values</th>\n",
       "      <th>% of Total Values</th>\n",
       "    </tr>\n",
       "  </thead>\n",
       "  <tbody>\n",
       "    <tr>\n",
       "      <th>following</th>\n",
       "      <td>8386</td>\n",
       "      <td>100.0</td>\n",
       "    </tr>\n",
       "    <tr>\n",
       "      <th>contributors_enabled</th>\n",
       "      <td>8386</td>\n",
       "      <td>100.0</td>\n",
       "    </tr>\n",
       "    <tr>\n",
       "      <th>follow_request_sent</th>\n",
       "      <td>8386</td>\n",
       "      <td>100.0</td>\n",
       "    </tr>\n",
       "    <tr>\n",
       "      <th>notifications</th>\n",
       "      <td>8386</td>\n",
       "      <td>100.0</td>\n",
       "    </tr>\n",
       "    <tr>\n",
       "      <th>is_translator</th>\n",
       "      <td>8385</td>\n",
       "      <td>100.0</td>\n",
       "    </tr>\n",
       "    <tr>\n",
       "      <th>verified</th>\n",
       "      <td>8375</td>\n",
       "      <td>99.9</td>\n",
       "    </tr>\n",
       "    <tr>\n",
       "      <th>default_profile_image</th>\n",
       "      <td>8326</td>\n",
       "      <td>99.3</td>\n",
       "    </tr>\n",
       "    <tr>\n",
       "      <th>protected</th>\n",
       "      <td>8308</td>\n",
       "      <td>99.1</td>\n",
       "    </tr>\n",
       "    <tr>\n",
       "      <th>default_profile</th>\n",
       "      <td>7016</td>\n",
       "      <td>83.7</td>\n",
       "    </tr>\n",
       "    <tr>\n",
       "      <th>url</th>\n",
       "      <td>6835</td>\n",
       "      <td>81.5</td>\n",
       "    </tr>\n",
       "    <tr>\n",
       "      <th>geo_enabled</th>\n",
       "      <td>6198</td>\n",
       "      <td>73.9</td>\n",
       "    </tr>\n",
       "    <tr>\n",
       "      <th>location</th>\n",
       "      <td>5209</td>\n",
       "      <td>62.1</td>\n",
       "    </tr>\n",
       "    <tr>\n",
       "      <th>profile_banner_url</th>\n",
       "      <td>5087</td>\n",
       "      <td>60.7</td>\n",
       "    </tr>\n",
       "    <tr>\n",
       "      <th>time_zone</th>\n",
       "      <td>4691</td>\n",
       "      <td>55.9</td>\n",
       "    </tr>\n",
       "    <tr>\n",
       "      <th>utc_offset</th>\n",
       "      <td>4691</td>\n",
       "      <td>55.9</td>\n",
       "    </tr>\n",
       "    <tr>\n",
       "      <th>description</th>\n",
       "      <td>3874</td>\n",
       "      <td>46.2</td>\n",
       "    </tr>\n",
       "    <tr>\n",
       "      <th>profile_background_tile</th>\n",
       "      <td>3135</td>\n",
       "      <td>37.4</td>\n",
       "    </tr>\n",
       "    <tr>\n",
       "      <th>profile_use_background_image</th>\n",
       "      <td>396</td>\n",
       "      <td>4.7</td>\n",
       "    </tr>\n",
       "    <tr>\n",
       "      <th>name</th>\n",
       "      <td>1</td>\n",
       "      <td>0.0</td>\n",
       "    </tr>\n",
       "  </tbody>\n",
       "</table>\n",
       "</div>"
      ],
      "text/plain": [
       "                              Missing Values  % of Total Values\n",
       "following                               8386              100.0\n",
       "contributors_enabled                    8386              100.0\n",
       "follow_request_sent                     8386              100.0\n",
       "notifications                           8386              100.0\n",
       "is_translator                           8385              100.0\n",
       "verified                                8375               99.9\n",
       "default_profile_image                   8326               99.3\n",
       "protected                               8308               99.1\n",
       "default_profile                         7016               83.7\n",
       "url                                     6835               81.5\n",
       "geo_enabled                             6198               73.9\n",
       "location                                5209               62.1\n",
       "profile_banner_url                      5087               60.7\n",
       "time_zone                               4691               55.9\n",
       "utc_offset                              4691               55.9\n",
       "description                             3874               46.2\n",
       "profile_background_tile                 3135               37.4\n",
       "profile_use_background_image             396                4.7\n",
       "name                                       1                0.0"
      ]
     },
     "execution_count": 30,
     "metadata": {},
     "output_type": "execute_result"
    }
   ],
   "source": [
    "missing_values_table(users)"
   ]
  },
  {
   "cell_type": "code",
   "execution_count": 31,
   "metadata": {},
   "outputs": [
    {
     "data": {
      "text/plain": [
       "<matplotlib.axes._subplots.AxesSubplot at 0x1adf653b70>"
      ]
     },
     "execution_count": 31,
     "metadata": {},
     "output_type": "execute_result"
    },
    {
     "data": {
      "image/png": "[encoded data removed]",
      "text/plain": [
       "<Figure size 1800x720 with 2 Axes>"
      ]
     },
     "metadata": {
      "needs_background": "light"
     },
     "output_type": "display_data"
    }
   ],
   "source": [
    "msno.matrix(users)"
   ]
  },
  {
   "cell_type": "code",
   "execution_count": 32,
   "metadata": {},
   "outputs": [
    {
     "name": "stdout",
     "output_type": "stream",
     "text": [
      "Your selected dataframe has 41 columns.\n",
      "There are 19 columns that have missing values.\n",
      "We will drop 17 columns.\n",
      "Drop columns:  ['following', 'contributors_enabled', 'follow_request_sent', 'notifications', 'is_translator', 'verified', 'default_profile_image', 'protected', 'default_profile', 'url', 'geo_enabled', 'location', 'profile_banner_url', 'time_zone', 'utc_offset', 'description', 'profile_background_tile']\n"
     ]
    }
   ],
   "source": [
    "# Get columns with >= 30% missing\n",
    "missing_df = missing_values_table(users)\n",
    "missing_columns = list(missing_df[missing_df['% of Total Values'] >= 30].index)\n",
    "print('We will drop %d columns.' % len(missing_columns))\n",
    "print('Drop columns: ', missing_columns)"
   ]
  },
  {
   "cell_type": "code",
   "execution_count": 33,
   "metadata": {},
   "outputs": [],
   "source": [
    "users.drop(labels=['following', 'contributors_enabled', 'follow_request_sent', 'notifications', 'is_translator', 'verified', 'default_profile_image', 'protected', 'default_profile', 'url', 'geo_enabled', 'location', 'profile_banner_url', 'time_zone', 'utc_offset', 'description', 'profile_background_tile'], axis=1, inplace=True)"
   ]
  },
  {
   "cell_type": "code",
   "execution_count": 34,
   "metadata": {},
   "outputs": [],
   "source": [
    "# Drop all rows that have any NaN values\n",
    "users = users.dropna()\n",
    "users = users.reset_index(drop=True)"
   ]
  },
  {
   "cell_type": "code",
   "execution_count": 35,
   "metadata": {},
   "outputs": [
    {
     "name": "stdout",
     "output_type": "stream",
     "text": [
      "Your selected dataframe has 24 columns.\n",
      "There are 0 columns that have missing values.\n"
     ]
    },
    {
     "data": {
      "text/html": [
       "<div>\n",
       "<style scoped>\n",
       "    .dataframe tbody tr th:only-of-type {\n",
       "        vertical-align: middle;\n",
       "    }\n",
       "\n",
       "    .dataframe tbody tr th {\n",
       "        vertical-align: top;\n",
       "    }\n",
       "\n",
       "    .dataframe thead th {\n",
       "        text-align: right;\n",
       "    }\n",
       "</style>\n",
       "<table border=\"1\" class=\"dataframe\">\n",
       "  <thead>\n",
       "    <tr style=\"text-align: right;\">\n",
       "      <th></th>\n",
       "      <th>Missing Values</th>\n",
       "      <th>% of Total Values</th>\n",
       "    </tr>\n",
       "  </thead>\n",
       "  <tbody>\n",
       "  </tbody>\n",
       "</table>\n",
       "</div>"
      ],
      "text/plain": [
       "Empty DataFrame\n",
       "Columns: [Missing Values, % of Total Values]\n",
       "Index: []"
      ]
     },
     "execution_count": 35,
     "metadata": {},
     "output_type": "execute_result"
    }
   ],
   "source": [
    "missing_values_table(users)"
   ]
  },
  {
   "cell_type": "markdown",
   "metadata": {},
   "source": [
    "## Creating Time Series \n",
    "\n",
    "Time series data is used when we want to analyze or explore variation over time. This is useful when exploring Twitter text data if we want to track the prevalence of a word or set of words.\n",
    "\n",
    "Let's convert timestamp into time datatype. "
   ]
  },
  {
   "cell_type": "code",
   "execution_count": 51,
   "metadata": {},
   "outputs": [
    {
     "name": "stdout",
     "output_type": "stream",
     "text": [
      "0    Fri Apr 17 19:10:54 +0000 2015\n",
      "1    Wed Sep 10 22:28:10 +0000 2014\n",
      "2    Mon Oct 27 11:49:51 +0000 2014\n",
      "3    Wed Nov 20 07:32:08 +0000 2013\n",
      "4    Mon Sep 08 18:12:19 +0000 2014\n",
      "Name: created_at, dtype: object\n"
     ]
    }
   ],
   "source": [
    "# Print created_at to see the original format of datetime in Twitter data\n",
    "print(tweets['created_at'].head())"
   ]
  },
  {
   "cell_type": "code",
   "execution_count": 52,
   "metadata": {},
   "outputs": [],
   "source": [
    "# Convert the created_at column to np.datetime object\n",
    "tweets['timestamp'] = pd.to_datetime(tweets['timestamp'])\n",
    "tweets['created_at'] = pd.to_datetime(tweets['created_at'])"
   ]
  },
  {
   "cell_type": "code",
   "execution_count": 53,
   "metadata": {},
   "outputs": [
    {
     "name": "stdout",
     "output_type": "stream",
     "text": [
      "0   2015-04-17 19:10:54+00:00\n",
      "1   2014-09-10 22:28:10+00:00\n",
      "2   2014-10-27 11:49:51+00:00\n",
      "3   2013-11-20 07:32:08+00:00\n",
      "4   2014-09-08 18:12:19+00:00\n",
      "Name: created_at, dtype: datetime64[ns, UTC]\n"
     ]
    }
   ],
   "source": [
    "# Print created_at to see new format\n",
    "print(tweets['created_at'].head())"
   ]
  },
  {
   "cell_type": "code",
   "execution_count": 54,
   "metadata": {},
   "outputs": [],
   "source": [
    "# Set the index of df to created_at\n",
    "tweets = tweets.set_index('created_at')"
   ]
  },
  {
   "cell_type": "markdown",
   "metadata": {},
   "source": [
    "Now, let's do the same for the users table."
   ]
  },
  {
   "cell_type": "code",
   "execution_count": 55,
   "metadata": {},
   "outputs": [],
   "source": [
    "# Convert the created_at column to np.datetime object\n",
    "users['timestamp'] = pd.to_datetime(users['timestamp'])\n",
    "users['created_at'] = pd.to_datetime(users['created_at'])"
   ]
  },
  {
   "cell_type": "code",
   "execution_count": 56,
   "metadata": {},
   "outputs": [
    {
     "name": "stdout",
     "output_type": "stream",
     "text": [
      "0   2012-03-11 06:59:04+00:00\n",
      "1   2010-12-03 00:18:40+00:00\n",
      "2   2014-03-10 03:06:50+00:00\n",
      "3   2015-03-10 05:32:56+00:00\n",
      "4   2013-05-08 15:02:48+00:00\n",
      "Name: created_at, dtype: datetime64[ns, UTC]\n"
     ]
    }
   ],
   "source": [
    "# Print created_at to see new format\n",
    "print(users['created_at'].head())"
   ]
  },
  {
   "cell_type": "code",
   "execution_count": 57,
   "metadata": {},
   "outputs": [],
   "source": [
    "# Set the index of df to created_at\n",
    "users = users.set_index('created_at')"
   ]
  },
  {
   "cell_type": "code",
   "execution_count": 58,
   "metadata": {},
   "outputs": [],
   "source": [
    "# Save clean data into CSV\n",
    "tweets.to_csv('/Users/tsawaengsri/Desktop/Data Science Courses/Datasets/cresci-2017.csv/datasets_full.csv/clean_tweets', header=True, index=False)\n",
    "users.to_csv('/Users/tsawaengsri/Desktop/Data Science Courses/Datasets/cresci-2017.csv/datasets_full.csv/clean_users', header=True, index=False)"
   ]
  }
 ],
 "metadata": {
  "kernelspec": {
   "display_name": "Python 3",
   "language": "python",
   "name": "python3"
  },
  "language_info": {
   "codemirror_mode": {
    "name": "ipython",
    "version": 3
   },
   "file_extension": ".py",
   "mimetype": "text/x-python",
   "name": "python",
   "nbconvert_exporter": "python",
   "pygments_lexer": "ipython3",
   "version": "3.6.8"
  }
 },
 "nbformat": 4,
 "nbformat_minor": 2
}
