{
 "cells": [
  {
   "cell_type": "markdown",
   "metadata": {},
   "source": [
    "# Tweeter Bot Detection\n",
    "\n",
    "## Integrating machine learning to detect bots\n",
    "\n",
    "Over the past ten plus years, Twitter has explosively evolved into a major communication hub. \"Its primary purpose is to connect people and allow people to share their thoughts with a big audience. Twitter can also be a very helpful platform for growing a following and providing your audience with valuable content before they even become customers\" [Hubspot](https://blog.hubspot.com/marketing/what-is-twitter). However, not all accounts are geninue users. According to a Twitter SEC filling in 2017, Twitter estimated 8.5% of all users to be bots. To validate the credibility of communication exchanged on the platform, efforts in idnetifying spam bots will help improve user's experience on twitter. \n",
    "\n",
    "In this project, we will be using [Cresci-2017](https://botometer.iuni.iu.edu/bot-repository/datasets.html) bot repository datasets to detect bot accounts. We'll begin with exploring traits between geniuine and bot accounts. Then, we will imploy supervised learning models (Logistic Regression, Random Forest, Stoachtic Gradient Boosting) to create a Twitter classifer. Finally, we'll use clustering to identify traits among geniue and spam bot accounts. \n",
    "\n",
    " \n",
    "### Overview of Data\n",
    "There are a total of 5 files: \n",
    " * 1 example submission files \n",
    " * 2 transaction files (test and train)\n",
    " * 2 identity files (test and train) \n",
    " \n",
    " We will be merging train transaction and train identity to gain more information regarding detecting fraud. To keep things simple, we will only be using the training sets. Below is a [description](https://www.kaggle.com/c/ieee-fraud-detection/discussion/101203) of the attributes in each table. \n",
    " \n",
    "__Transaction Table__\n",
    "\n",
    "- TransactionDT: timedelta from a given reference datetime (not an actual timestamp)\n",
    "- TransactionAMT: transaction payment amount in USD\n",
    "- ProductCD: product code, the product for each transaction\n",
    "- card1 - card6: payment card information, such as card type, card category, issue bank, country, etc.\n",
    "- addr: address\n",
    "- dist: distance\n",
    "- P_ and (R__) emaildomain: purchaser and recipient email domain\n",
    "- C1-C14: counting, such as how many addresses are found to be associated with the payment card, etc. The actual meaning is masked.\n",
    "- D1-D15: timedelta, such as days between previous transaction, etc.\n",
    "- M1-M9: match, such as names on card and address, etc.\n",
    "- Vxxx: Vesta engineered rich features, including ranking, counting, and other entity relations.\n",
    "- Categorical Features:\n",
    "- ProductCD\n",
    "- card1 - card6\n",
    "- addr1, addr2\n",
    "- Pemaildomain Remaildomain\n",
    "- M1 - M9\n",
    "\n",
    "__Identity Table__\n",
    "\n",
    "Variables in this table are identity information – network connection information (IP, ISP, Proxy, etc) and digital signature (UA/browser/os/version, etc) associated with transactions.\n",
    "They're collected by Vesta’s fraud protection system and digital security partners.\n",
    "(The field names are masked and pairwise dictionary will not be provided for privacy protection and contract agreement)\n",
    "\n",
    "Categorical Features:\n",
    "- DeviceType\n",
    "- DeviceInfo\n",
    "- id12 - id38\n"
   ]
  },
  {
   "cell_type": "code",
   "execution_count": 1,
   "metadata": {},
   "outputs": [],
   "source": [
    "# Numpy and pandas\n",
    "import pandas as pd\n",
    "import numpy as np\n",
    "\n",
    "#Visualization\n",
    "import matplotlib.pyplot as plt\n",
    "import seaborn as sns\n",
    "import missingno as msno\n",
    "\n",
    "# Statistics tools\n",
    "import scipy.stats as stats\n",
    "\n",
    "# Sklearn data clean\n",
    "from sklearn.preprocessing import LabelEncoder\n",
    "from sklearn.impute import SimpleImputer\n",
    "from sklearn.preprocessing import MinMaxScaler\n",
    "\n",
    "# Model selection\n",
    "from sklearn.model_selection import train_test_split\n",
    "from sklearn.feature_selection import SelectFromModel\n",
    "from sklearn.preprocessing import StandardScaler\n",
    "from sklearn.model_selection import cross_val_score\n",
    "from sklearn.model_selection import KFold\n",
    "\n",
    "# Logistic Regression\n",
    "from sklearn.linear_model import Lasso, LogisticRegression\n",
    "\n",
    "# KNN Classifer \n",
    "from sklearn.neighbors import KNeighborsClassifier\n",
    "\n",
    "# Decision Trees\n",
    "from sklearn import tree\n",
    "from sklearn.tree import DecisionTreeRegressor\n",
    "from IPython.display import Image\n",
    "import pydotplus\n",
    "import graphviz\n",
    "\n",
    "# Random Forests \n",
    "from sklearn.ensemble import RandomForestClassifier\n",
    "\n",
    "# SVM\n",
    "from sklearn.svm import SVC\n",
    "\n",
    "# Gradient Boost\n",
    "from xgboost import XGBClassifier\n",
    "\n",
    "# Evaluate\n",
    "from sklearn import metrics\n",
    "from sklearn.metrics import log_loss,accuracy_score, f1_score,roc_auc_score, confusion_matrix, classification_report\n",
    "\n",
    "# Hyperparameter tuning\n",
    "from sklearn.model_selection import RandomizedSearchCV, GridSearchCV\n",
    "\n",
    "# Datetime\n",
    "from datetime import datetime\n",
    "\n",
    "# Import data\n",
    "import warnings"
   ]
  },
  {
   "cell_type": "code",
   "execution_count": 2,
   "metadata": {},
   "outputs": [],
   "source": [
    "# Import genuine accounts \n",
    "g_users = pd.read_csv('/Users/tsawaengsri/Desktop/Data Science Courses/Datasets/cresci-2017.csv/datasets_full.csv/genuine_accounts.csv/users.csv')\n",
    "\n",
    "# Import spam bot accounts\n",
    "soc_bot1_users = pd.read_csv('/Users/tsawaengsri/Desktop/Data Science Courses/Datasets/cresci-2017.csv/datasets_full.csv/social_spambots_1.csv/users.csv')\n",
    "soc_bot2_users = pd.read_csv('/Users/tsawaengsri/Desktop/Data Science Courses/Datasets/cresci-2017.csv/datasets_full.csv/social_spambots_2.csv/users.csv')\n",
    "soc_bot3_users = pd.read_csv('/Users/tsawaengsri/Desktop/Data Science Courses/Datasets/cresci-2017.csv/datasets_full.csv/social_spambots_3.csv/users.csv')\n"
   ]
  },
  {
   "cell_type": "code",
   "execution_count": 3,
   "metadata": {},
   "outputs": [
    {
     "name": "stdout",
     "output_type": "stream",
     "text": [
      "Genuine tweets\n",
      "(3474, 42)\n",
      "---------------\n",
      "Spam bot tweets\n",
      "(991, 41)\n",
      "(3457, 40)\n",
      "(464, 41)\n"
     ]
    }
   ],
   "source": [
    "print('Genuine tweets')\n",
    "print(g_users.shape)\n",
    "\n",
    "print('---------------')\n",
    "\n",
    "print('Spam bot tweets')\n",
    "print(soc_bot1_users.shape)\n",
    "print(soc_bot2_users.shape)\n",
    "print(soc_bot3_users.shape)"
   ]
  },
  {
   "cell_type": "code",
   "execution_count": 8,
   "metadata": {},
   "outputs": [
    {
     "name": "stdout",
     "output_type": "stream",
     "text": [
      "<class 'pandas.core.frame.DataFrame'>\n",
      "RangeIndex: 3474 entries, 0 to 3473\n",
      "Data columns (total 42 columns):\n",
      "id                                    3474 non-null int64\n",
      "name                                  3473 non-null object\n",
      "screen_name                           3474 non-null object\n",
      "statuses_count                        3474 non-null int64\n",
      "followers_count                       3474 non-null int64\n",
      "friends_count                         3474 non-null int64\n",
      "favourites_count                      3474 non-null int64\n",
      "listed_count                          3474 non-null int64\n",
      "url                                   1266 non-null object\n",
      "lang                                  3474 non-null object\n",
      "time_zone                             2475 non-null object\n",
      "location                              2365 non-null object\n",
      "default_profile                       1032 non-null float64\n",
      "default_profile_image                 13 non-null float64\n",
      "geo_enabled                           2155 non-null float64\n",
      "profile_image_url                     3474 non-null object\n",
      "profile_banner_url                    3165 non-null object\n",
      "profile_use_background_image          3084 non-null float64\n",
      "profile_background_image_url_https    3474 non-null object\n",
      "profile_text_color                    3474 non-null object\n",
      "profile_image_url_https               3474 non-null object\n",
      "profile_sidebar_border_color          3474 non-null object\n",
      "profile_background_tile               1307 non-null float64\n",
      "profile_sidebar_fill_color            3474 non-null object\n",
      "profile_background_image_url          3474 non-null object\n",
      "profile_background_color              3474 non-null object\n",
      "profile_link_color                    3474 non-null object\n",
      "utc_offset                            2475 non-null float64\n",
      "is_translator                         1 non-null float64\n",
      "follow_request_sent                   0 non-null float64\n",
      "protected                             78 non-null float64\n",
      "verified                              11 non-null float64\n",
      "notifications                         0 non-null float64\n",
      "description                           3095 non-null object\n",
      "contributors_enabled                  0 non-null float64\n",
      "following                             0 non-null float64\n",
      "created_at                            3474 non-null object\n",
      "timestamp                             3474 non-null object\n",
      "crawled_at                            3474 non-null object\n",
      "updated                               3474 non-null object\n",
      "test_set_1                            3474 non-null int64\n",
      "test_set_2                            3474 non-null int64\n",
      "dtypes: float64(13), int64(8), object(21)\n",
      "memory usage: 1.1+ MB\n"
     ]
    }
   ],
   "source": [
    "g_users.info()"
   ]
  },
  {
   "cell_type": "code",
   "execution_count": 6,
   "metadata": {},
   "outputs": [
    {
     "name": "stdout",
     "output_type": "stream",
     "text": [
      "<class 'pandas.core.frame.DataFrame'>\n",
      "RangeIndex: 991 entries, 0 to 990\n",
      "Data columns (total 41 columns):\n",
      "id                                    991 non-null int64\n",
      "name                                  991 non-null object\n",
      "screen_name                           991 non-null object\n",
      "statuses_count                        991 non-null int64\n",
      "followers_count                       991 non-null int64\n",
      "friends_count                         991 non-null int64\n",
      "favourites_count                      991 non-null int64\n",
      "listed_count                          991 non-null int64\n",
      "url                                   22 non-null object\n",
      "lang                                  991 non-null object\n",
      "time_zone                             903 non-null object\n",
      "location                              745 non-null object\n",
      "default_profile                       145 non-null float64\n",
      "default_profile_image                 1 non-null float64\n",
      "geo_enabled                           18 non-null float64\n",
      "profile_image_url                     991 non-null object\n",
      "profile_banner_url                    77 non-null object\n",
      "profile_use_background_image          988 non-null float64\n",
      "profile_background_image_url_https    991 non-null object\n",
      "profile_text_color                    991 non-null object\n",
      "profile_image_url_https               991 non-null object\n",
      "profile_sidebar_border_color          991 non-null object\n",
      "profile_background_tile               266 non-null float64\n",
      "profile_sidebar_fill_color            991 non-null object\n",
      "profile_background_image_url          991 non-null object\n",
      "profile_background_color              991 non-null object\n",
      "profile_link_color                    991 non-null object\n",
      "utc_offset                            903 non-null float64\n",
      "is_translator                         0 non-null float64\n",
      "follow_request_sent                   0 non-null float64\n",
      "protected                             0 non-null float64\n",
      "verified                              0 non-null float64\n",
      "notifications                         0 non-null float64\n",
      "description                           943 non-null object\n",
      "contributors_enabled                  0 non-null float64\n",
      "following                             0 non-null float64\n",
      "created_at                            991 non-null object\n",
      "timestamp                             991 non-null object\n",
      "crawled_at                            991 non-null object\n",
      "updated                               991 non-null object\n",
      "test_set_1                            991 non-null int64\n",
      "dtypes: float64(13), int64(7), object(21)\n",
      "memory usage: 317.6+ KB\n"
     ]
    }
   ],
   "source": [
    "soc_bot1_users.info()"
   ]
  },
  {
   "cell_type": "code",
   "execution_count": 4,
   "metadata": {},
   "outputs": [
    {
     "name": "stdout",
     "output_type": "stream",
     "text": [
      "<class 'pandas.core.frame.DataFrame'>\n",
      "RangeIndex: 3457 entries, 0 to 3456\n",
      "Data columns (total 40 columns):\n",
      "id                                    3457 non-null int64\n",
      "name                                  3457 non-null object\n",
      "screen_name                           3457 non-null object\n",
      "statuses_count                        3457 non-null int64\n",
      "followers_count                       3457 non-null int64\n",
      "friends_count                         3457 non-null int64\n",
      "favourites_count                      3457 non-null int64\n",
      "listed_count                          3457 non-null int64\n",
      "url                                   10 non-null object\n",
      "lang                                  3457 non-null object\n",
      "time_zone                             14 non-null object\n",
      "location                              13 non-null object\n",
      "default_profile                       15 non-null float64\n",
      "default_profile_image                 46 non-null float64\n",
      "geo_enabled                           5 non-null float64\n",
      "profile_image_url                     3457 non-null object\n",
      "profile_banner_url                    15 non-null object\n",
      "profile_use_background_image          3457 non-null int64\n",
      "profile_background_image_url_https    3457 non-null object\n",
      "profile_text_color                    3457 non-null object\n",
      "profile_image_url_https               3457 non-null object\n",
      "profile_sidebar_border_color          3457 non-null object\n",
      "profile_background_tile               3437 non-null float64\n",
      "profile_sidebar_fill_color            3457 non-null object\n",
      "profile_background_image_url          3457 non-null object\n",
      "profile_background_color              3457 non-null object\n",
      "profile_link_color                    3457 non-null object\n",
      "utc_offset                            14 non-null float64\n",
      "is_translator                         0 non-null float64\n",
      "follow_request_sent                   0 non-null float64\n",
      "protected                             0 non-null float64\n",
      "verified                              0 non-null float64\n",
      "notifications                         0 non-null float64\n",
      "description                           14 non-null object\n",
      "contributors_enabled                  0 non-null float64\n",
      "following                             0 non-null float64\n",
      "created_at                            3457 non-null object\n",
      "timestamp                             3457 non-null object\n",
      "crawled_at                            3457 non-null object\n",
      "updated                               3457 non-null object\n",
      "dtypes: float64(12), int64(7), object(21)\n",
      "memory usage: 1.1+ MB\n"
     ]
    }
   ],
   "source": [
    "soc_bot2_users.info()"
   ]
  },
  {
   "cell_type": "code",
   "execution_count": 7,
   "metadata": {},
   "outputs": [
    {
     "name": "stdout",
     "output_type": "stream",
     "text": [
      "<class 'pandas.core.frame.DataFrame'>\n",
      "RangeIndex: 464 entries, 0 to 463\n",
      "Data columns (total 41 columns):\n",
      "id                                    464 non-null int64\n",
      "name                                  464 non-null object\n",
      "screen_name                           464 non-null object\n",
      "statuses_count                        464 non-null int64\n",
      "followers_count                       464 non-null int64\n",
      "friends_count                         464 non-null int64\n",
      "favourites_count                      464 non-null int64\n",
      "listed_count                          464 non-null int64\n",
      "url                                   253 non-null object\n",
      "lang                                  464 non-null object\n",
      "time_zone                             303 non-null object\n",
      "location                              54 non-null object\n",
      "default_profile                       178 non-null float64\n",
      "default_profile_image                 0 non-null float64\n",
      "geo_enabled                           10 non-null float64\n",
      "profile_image_url                     464 non-null object\n",
      "profile_banner_url                    42 non-null object\n",
      "profile_use_background_image          461 non-null float64\n",
      "profile_background_image_url_https    464 non-null object\n",
      "profile_text_color                    464 non-null object\n",
      "profile_image_url_https               464 non-null object\n",
      "profile_sidebar_border_color          464 non-null object\n",
      "profile_background_tile               241 non-null float64\n",
      "profile_sidebar_fill_color            464 non-null object\n",
      "profile_background_image_url          464 non-null object\n",
      "profile_background_color              464 non-null object\n",
      "profile_link_color                    464 non-null object\n",
      "utc_offset                            303 non-null float64\n",
      "is_translator                         0 non-null float64\n",
      "follow_request_sent                   0 non-null float64\n",
      "protected                             0 non-null float64\n",
      "verified                              0 non-null float64\n",
      "notifications                         0 non-null float64\n",
      "description                           460 non-null object\n",
      "contributors_enabled                  0 non-null float64\n",
      "following                             0 non-null float64\n",
      "created_at                            464 non-null object\n",
      "timestamp                             464 non-null object\n",
      "crawled_at                            464 non-null object\n",
      "updated                               464 non-null object\n",
      "test_set_2                            464 non-null int64\n",
      "dtypes: float64(13), int64(7), object(21)\n",
      "memory usage: 148.8+ KB\n"
     ]
    }
   ],
   "source": [
    "soc_bot3_users.info()"
   ]
  },
  {
   "cell_type": "code",
   "execution_count": 5,
   "metadata": {},
   "outputs": [
    {
     "data": {
      "text/html": [
       "<div>\n",
       "<style scoped>\n",
       "    .dataframe tbody tr th:only-of-type {\n",
       "        vertical-align: middle;\n",
       "    }\n",
       "\n",
       "    .dataframe tbody tr th {\n",
       "        vertical-align: top;\n",
       "    }\n",
       "\n",
       "    .dataframe thead th {\n",
       "        text-align: right;\n",
       "    }\n",
       "</style>\n",
       "<table border=\"1\" class=\"dataframe\">\n",
       "  <thead>\n",
       "    <tr style=\"text-align: right;\">\n",
       "      <th></th>\n",
       "      <th>id</th>\n",
       "      <th>name</th>\n",
       "      <th>screen_name</th>\n",
       "      <th>statuses_count</th>\n",
       "      <th>followers_count</th>\n",
       "      <th>friends_count</th>\n",
       "      <th>favourites_count</th>\n",
       "      <th>listed_count</th>\n",
       "      <th>url</th>\n",
       "      <th>lang</th>\n",
       "      <th>...</th>\n",
       "      <th>protected</th>\n",
       "      <th>verified</th>\n",
       "      <th>notifications</th>\n",
       "      <th>description</th>\n",
       "      <th>contributors_enabled</th>\n",
       "      <th>following</th>\n",
       "      <th>created_at</th>\n",
       "      <th>timestamp</th>\n",
       "      <th>crawled_at</th>\n",
       "      <th>updated</th>\n",
       "    </tr>\n",
       "  </thead>\n",
       "  <tbody>\n",
       "    <tr>\n",
       "      <th>0</th>\n",
       "      <td>2372241176</td>\n",
       "      <td>Denna Mcsparren</td>\n",
       "      <td>DennaMcsparren</td>\n",
       "      <td>53</td>\n",
       "      <td>10</td>\n",
       "      <td>46</td>\n",
       "      <td>0</td>\n",
       "      <td>0</td>\n",
       "      <td>NaN</td>\n",
       "      <td>en</td>\n",
       "      <td>...</td>\n",
       "      <td>NaN</td>\n",
       "      <td>NaN</td>\n",
       "      <td>NaN</td>\n",
       "      <td>NaN</td>\n",
       "      <td>NaN</td>\n",
       "      <td>NaN</td>\n",
       "      <td>Tue Mar 04 18:11:08 +0000 2014</td>\n",
       "      <td>2014-03-04 19:11:08</td>\n",
       "      <td>2014-05-05 00:20:03</td>\n",
       "      <td>2016-03-15 15:02:07</td>\n",
       "    </tr>\n",
       "    <tr>\n",
       "      <th>1</th>\n",
       "      <td>2368684734</td>\n",
       "      <td>Yukiko Tretter</td>\n",
       "      <td>YukikoTretter</td>\n",
       "      <td>68</td>\n",
       "      <td>4</td>\n",
       "      <td>40</td>\n",
       "      <td>0</td>\n",
       "      <td>0</td>\n",
       "      <td>NaN</td>\n",
       "      <td>en</td>\n",
       "      <td>...</td>\n",
       "      <td>NaN</td>\n",
       "      <td>NaN</td>\n",
       "      <td>NaN</td>\n",
       "      <td>NaN</td>\n",
       "      <td>NaN</td>\n",
       "      <td>NaN</td>\n",
       "      <td>Sun Mar 02 10:38:13 +0000 2014</td>\n",
       "      <td>2014-03-02 11:38:13</td>\n",
       "      <td>2014-05-05 00:20:47</td>\n",
       "      <td>2016-03-15 15:02:07</td>\n",
       "    </tr>\n",
       "    <tr>\n",
       "      <th>2</th>\n",
       "      <td>2353855646</td>\n",
       "      <td>Rochel Amaro</td>\n",
       "      <td>RochelAmaro</td>\n",
       "      <td>79</td>\n",
       "      <td>9</td>\n",
       "      <td>39</td>\n",
       "      <td>0</td>\n",
       "      <td>0</td>\n",
       "      <td>NaN</td>\n",
       "      <td>en</td>\n",
       "      <td>...</td>\n",
       "      <td>NaN</td>\n",
       "      <td>NaN</td>\n",
       "      <td>NaN</td>\n",
       "      <td>NaN</td>\n",
       "      <td>NaN</td>\n",
       "      <td>NaN</td>\n",
       "      <td>Thu Feb 20 22:28:03 +0000 2014</td>\n",
       "      <td>2014-02-20 23:28:03</td>\n",
       "      <td>2014-05-05 00:20:03</td>\n",
       "      <td>2016-03-15 15:02:08</td>\n",
       "    </tr>\n",
       "    <tr>\n",
       "      <th>3</th>\n",
       "      <td>2372322542</td>\n",
       "      <td>Brandi Babin</td>\n",
       "      <td>BrandiBabin</td>\n",
       "      <td>59</td>\n",
       "      <td>1</td>\n",
       "      <td>39</td>\n",
       "      <td>0</td>\n",
       "      <td>0</td>\n",
       "      <td>NaN</td>\n",
       "      <td>en</td>\n",
       "      <td>...</td>\n",
       "      <td>NaN</td>\n",
       "      <td>NaN</td>\n",
       "      <td>NaN</td>\n",
       "      <td>NaN</td>\n",
       "      <td>NaN</td>\n",
       "      <td>NaN</td>\n",
       "      <td>Tue Mar 04 19:52:10 +0000 2014</td>\n",
       "      <td>2014-03-04 20:52:10</td>\n",
       "      <td>2014-05-05 00:20:03</td>\n",
       "      <td>2016-03-15 15:02:08</td>\n",
       "    </tr>\n",
       "    <tr>\n",
       "      <th>4</th>\n",
       "      <td>2352506778</td>\n",
       "      <td>Chung Posadas</td>\n",
       "      <td>ChungPosadas</td>\n",
       "      <td>73</td>\n",
       "      <td>7</td>\n",
       "      <td>36</td>\n",
       "      <td>0</td>\n",
       "      <td>0</td>\n",
       "      <td>NaN</td>\n",
       "      <td>en</td>\n",
       "      <td>...</td>\n",
       "      <td>NaN</td>\n",
       "      <td>NaN</td>\n",
       "      <td>NaN</td>\n",
       "      <td>NaN</td>\n",
       "      <td>NaN</td>\n",
       "      <td>NaN</td>\n",
       "      <td>Thu Feb 20 01:34:19 +0000 2014</td>\n",
       "      <td>2014-02-20 02:34:19</td>\n",
       "      <td>2014-05-05 00:20:03</td>\n",
       "      <td>2016-03-15 15:02:09</td>\n",
       "    </tr>\n",
       "  </tbody>\n",
       "</table>\n",
       "<p>5 rows × 40 columns</p>\n",
       "</div>"
      ],
      "text/plain": [
       "           id             name     screen_name  statuses_count  \\\n",
       "0  2372241176  Denna Mcsparren  DennaMcsparren              53   \n",
       "1  2368684734   Yukiko Tretter   YukikoTretter              68   \n",
       "2  2353855646     Rochel Amaro     RochelAmaro              79   \n",
       "3  2372322542     Brandi Babin     BrandiBabin              59   \n",
       "4  2352506778    Chung Posadas    ChungPosadas              73   \n",
       "\n",
       "   followers_count  friends_count  favourites_count  listed_count  url lang  \\\n",
       "0               10             46                 0             0  NaN   en   \n",
       "1                4             40                 0             0  NaN   en   \n",
       "2                9             39                 0             0  NaN   en   \n",
       "3                1             39                 0             0  NaN   en   \n",
       "4                7             36                 0             0  NaN   en   \n",
       "\n",
       "   ... protected verified  notifications  description  contributors_enabled  \\\n",
       "0  ...       NaN      NaN            NaN          NaN                   NaN   \n",
       "1  ...       NaN      NaN            NaN          NaN                   NaN   \n",
       "2  ...       NaN      NaN            NaN          NaN                   NaN   \n",
       "3  ...       NaN      NaN            NaN          NaN                   NaN   \n",
       "4  ...       NaN      NaN            NaN          NaN                   NaN   \n",
       "\n",
       "  following                      created_at            timestamp  \\\n",
       "0       NaN  Tue Mar 04 18:11:08 +0000 2014  2014-03-04 19:11:08   \n",
       "1       NaN  Sun Mar 02 10:38:13 +0000 2014  2014-03-02 11:38:13   \n",
       "2       NaN  Thu Feb 20 22:28:03 +0000 2014  2014-02-20 23:28:03   \n",
       "3       NaN  Tue Mar 04 19:52:10 +0000 2014  2014-03-04 20:52:10   \n",
       "4       NaN  Thu Feb 20 01:34:19 +0000 2014  2014-02-20 02:34:19   \n",
       "\n",
       "            crawled_at              updated  \n",
       "0  2014-05-05 00:20:03  2016-03-15 15:02:07  \n",
       "1  2014-05-05 00:20:47  2016-03-15 15:02:07  \n",
       "2  2014-05-05 00:20:03  2016-03-15 15:02:08  \n",
       "3  2014-05-05 00:20:03  2016-03-15 15:02:08  \n",
       "4  2014-05-05 00:20:03  2016-03-15 15:02:09  \n",
       "\n",
       "[5 rows x 40 columns]"
      ]
     },
     "execution_count": 5,
     "metadata": {},
     "output_type": "execute_result"
    }
   ],
   "source": [
    "soc_bot2_users.head()"
   ]
  },
  {
   "cell_type": "code",
   "execution_count": null,
   "metadata": {},
   "outputs": [],
   "source": [
    "# Select common columns \n",
    "g_users = g_users.loc[:,[\"id\", \"name\", \"screen_name\", \"statuses_count\", \"followers_count\", \"friends_count\", \"lang\", \"default_profile\", \"protected\", \"verified\", \"description\", \"contributors_enabled\"]]\n",
    "soc_bot1_users = soc_bot1_users.loc[:,[\"id\", \"name\", \"screen_name\", \"statuses_count\", \"followers_count\", \"friends_count\", \"lang\", \"default_profile\", \"protected\", \"verified\", \"description\", \"contributors_enabled\"]]\n",
    "soc_bot2_users = soc_bot2_users.loc[:,[\"id\", \"name\", \"screen_name\", \"statuses_count\", \"followers_count\", \"friends_count\", \"lang\", \"default_profile\", \"protected\", \"verified\", \"description\", \"contributors_enabled\"]]\n",
    "soc_bot3_users = soc_bot3_users.loc[:,[\"id\", \"name\", \"screen_name\", \"statuses_count\", \"followers_count\", \"friends_count\", \"lang\", \"default_profile\", \"protected\", \"verified\", \"description\", \"contributors_enabled\"]]\n"
   ]
  },
  {
   "cell_type": "markdown",
   "metadata": {},
   "source": [
    "## Merging datasets\n",
    "The transaction training file lacks identity information on each transaction, so we will merge the training identity and transaction files on TransactionID. Since each observation has a unique transaction ID, we will do a 1 to 1 join. We will be performing a left join since our focus remains on the transaction table.\n",
    "\n",
    "Below, we can see that the row length for train transaction and identity are not equal. It was noted that Vesta was unable to obtain all identity information so we will continue with the merge table for now."
   ]
  },
  {
   "cell_type": "code",
   "execution_count": null,
   "metadata": {},
   "outputs": [],
   "source": [
    "b_users = pd.concat([soc_bot1_users,soc_bot2_users,soc_bot3_users], ignore_index=True, sort=False)"
   ]
  },
  {
   "cell_type": "code",
   "execution_count": null,
   "metadata": {},
   "outputs": [],
   "source": [
    "# Create tweet class, 1 for bot and 0 for genuine tweets\n",
    "b_users['class'] = 1\n",
    "g_users['class'] = 0"
   ]
  },
  {
   "cell_type": "code",
   "execution_count": null,
   "metadata": {},
   "outputs": [],
   "source": [
    "# Concatenate df\n",
    "df = pd.concat([b_users,g_users], ignore_index=True, sort=False)\n",
    "\n",
    "# Randomly shuffle df \n",
    "df = df.reindex(np.random.permutation(df.index))"
   ]
  },
  {
   "cell_type": "code",
   "execution_count": null,
   "metadata": {},
   "outputs": [],
   "source": [
    "df.head()"
   ]
  },
  {
   "cell_type": "code",
   "execution_count": null,
   "metadata": {},
   "outputs": [],
   "source": [
    "df.shape"
   ]
  },
  {
   "cell_type": "code",
   "execution_count": null,
   "metadata": {},
   "outputs": [],
   "source": [
    "df.info()"
   ]
  },
  {
   "cell_type": "markdown",
   "metadata": {},
   "source": [
    "## Missing Values\n",
    "Now, we will take a look at missing values in each column."
   ]
  },
  {
   "cell_type": "code",
   "execution_count": null,
   "metadata": {},
   "outputs": [],
   "source": [
    "# Function to calculate missing values by column\n",
    "def missing_values_table(df):\n",
    "        # Total missing values\n",
    "        mis_val = df.isnull().sum()\n",
    "        \n",
    "        # Percentage of missing values\n",
    "        mis_val_percent = 100 * df.isnull().sum() / len(df)\n",
    "        \n",
    "        # Make a table with the results\n",
    "        mis_val_table = pd.concat([mis_val, mis_val_percent], axis=1)\n",
    "        \n",
    "        # Rename the columns\n",
    "        mis_val_table_ren_columns = mis_val_table.rename(\n",
    "        columns = {0 : 'Missing Values', 1 : '% of Total Values'})\n",
    "        \n",
    "        # Sort the table by percentage of missing descending\n",
    "        mis_val_table_ren_columns = mis_val_table_ren_columns[\n",
    "            mis_val_table_ren_columns.iloc[:,1] != 0].sort_values(\n",
    "        '% of Total Values', ascending=False).round(1)\n",
    "        \n",
    "        # Print some summary information\n",
    "        print (\"Your selected dataframe has \" + str(df.shape[1]) + \" columns.\\n\"      \n",
    "            \"There are \" + str(mis_val_table_ren_columns.shape[0]) +\n",
    "              \" columns that have missing values.\")\n",
    "        \n",
    "        # Return the dataframe with missing information\n",
    "        return mis_val_table_ren_columns"
   ]
  },
  {
   "cell_type": "code",
   "execution_count": null,
   "metadata": {},
   "outputs": [],
   "source": [
    "missing_values_table(df)"
   ]
  },
  {
   "cell_type": "code",
   "execution_count": null,
   "metadata": {},
   "outputs": [],
   "source": [
    "msno.matrix(df)"
   ]
  },
  {
   "cell_type": "markdown",
   "metadata": {},
   "source": [
    "As shown in the matrix, many columns such as truncated, geo, contributors, etc. appear to be missing all datapoints. The data doesn't appear to be missing at random since there is a repetitive pattern between those columns. \n",
    "\n",
    "We will drop columns missing more than 90% of data points and in_reply_to_screen_name since that isn't our focus. Then, we will drop the remaining rows with missing values since that is only a small percentage of the dataset."
   ]
  },
  {
   "cell_type": "code",
   "execution_count": null,
   "metadata": {},
   "outputs": [],
   "source": [
    "# Get columns with >= 80% missing\n",
    "missing_df = missing_values_table(df)\n",
    "missing_columns = list(missing_df[missing_df['% of Total Values'] >= 90].index)\n",
    "print('We will drop %d columns.' % len(missing_columns))\n",
    "print('Drop columns: ', missing_columns)"
   ]
  },
  {
   "cell_type": "code",
   "execution_count": null,
   "metadata": {},
   "outputs": [],
   "source": [
    "df.drop(labels=['truncated', 'geo', 'contributors', 'favorited', 'retweeted', 'possibly_sensitive', 'place','in_reply_to_screen_name'], axis=1, inplace=True)"
   ]
  },
  {
   "cell_type": "code",
   "execution_count": null,
   "metadata": {},
   "outputs": [],
   "source": [
    "# Drop all rows that have any NaN values\n",
    "df.dropna()"
   ]
  },
  {
   "cell_type": "code",
   "execution_count": null,
   "metadata": {},
   "outputs": [],
   "source": [
    "missing_values_table(df)"
   ]
  },
  {
   "cell_type": "markdown",
   "metadata": {},
   "source": [
    "## Creating Time Series \n",
    "\n",
    "Time series data is used when we want to analyze or explore variation over time. This is useful when exploring Twitter text data if we want to track the prevalence of a word or set of words.\n",
    "\n",
    "Let's convert timestamp into time datatype. "
   ]
  },
  {
   "cell_type": "code",
   "execution_count": null,
   "metadata": {},
   "outputs": [],
   "source": [
    "# Print created_at to see the original format of datetime in Twitter data\n",
    "print(df['created_at'].head())"
   ]
  },
  {
   "cell_type": "code",
   "execution_count": null,
   "metadata": {},
   "outputs": [],
   "source": [
    "# Convert the created_at column to np.datetime object\n",
    "df['created_at'] = pd.to_datetime(df['created_at'])"
   ]
  },
  {
   "cell_type": "code",
   "execution_count": null,
   "metadata": {},
   "outputs": [],
   "source": [
    "# Print created_at to see new format\n",
    "print(df['created_at'].head())"
   ]
  },
  {
   "cell_type": "code",
   "execution_count": null,
   "metadata": {},
   "outputs": [],
   "source": [
    "# Set the index of df to created_at\n",
    "df = df.set_index('created_at')"
   ]
  },
  {
   "cell_type": "code",
   "execution_count": null,
   "metadata": {},
   "outputs": [],
   "source": [
    "df.describe()"
   ]
  },
  {
   "cell_type": "markdown",
   "metadata": {},
   "source": [
    "## Exploratory Data Analysis\n",
    "Exploratory Data Analysis (EDA) is an iterative process to explore the data and summarize characteristics by calculating statistics or visualize methods. The purpose of EDA is gain an understanding of the data by identifying trends, anomalies, or relationships that might be helpful when making decisions in the modeling process."
   ]
  },
  {
   "cell_type": "code",
   "execution_count": null,
   "metadata": {},
   "outputs": [],
   "source": [
    "# Bot vs human tweets \n",
    "counts = df['class'].value_counts()\n",
    "human = counts[0]\n",
    "bot = counts[1]\n",
    "human_per = (human/(human + bot))*100\n",
    "bot_per = (bot/(human + bot))*100\n",
    "print('There are {} tweets made by humans({:.3f}%) and {} tweets made by bots ({:.3f}%) in this dataset.'.format(human, human_per, bot, bot_per))"
   ]
  },
  {
   "cell_type": "code",
   "execution_count": null,
   "metadata": {},
   "outputs": [],
   "source": [
    "# Plot target variable\n",
    "plt.figure(figsize=(12,6))\n",
    "g = sns.countplot(x = 'class', data = df)\n",
    "g.set_title('Count of Tweets made by Humans vs Bots', fontsize = 17)\n",
    "g.set_xlabel('User Type', fontsize = 15)\n",
    "g.set_ylabel('Tweets', fontsize = 15)\n",
    "\n",
    "for p in g.patches:\n",
    "    height = p.get_height()\n",
    "    g.text(p.get_x()+p.get_width()/2.,\n",
    "            height + 3,\n",
    "            '{:1.2f}%'.format(height/len(df) * 100),\n",
    "            ha=\"center\", fontsize=15) "
   ]
  },
  {
   "cell_type": "code",
   "execution_count": null,
   "metadata": {},
   "outputs": [],
   "source": [
    "account = df.groupby(by='user_id', as_index=False).agg({'class':pd.Series.nunique})\n",
    "account.describe()\n",
    "\n"
   ]
  },
  {
   "cell_type": "code",
   "execution_count": null,
   "metadata": {},
   "outputs": [],
   "source": [
    "# Total user accounts \n",
    "account = df.groupby(by='user_id', as_index=False).agg({'class':pd.Series.nunique})\n",
    "human = account[0]\n",
    "bot = account[1]\n",
    "human_per = (human/(human + bot))*100\n",
    "bot_per = (bot/(human + bot))*100\n",
    "print('There are {} total accounts: {} are human({:.3f}%) and {} are bots({:.3f}%).'.format(len(account),human, human_per,bot,bot_per))"
   ]
  },
  {
   "cell_type": "code",
   "execution_count": null,
   "metadata": {},
   "outputs": [],
   "source": []
  },
  {
   "cell_type": "code",
   "execution_count": null,
   "metadata": {},
   "outputs": [],
   "source": [
    "# Create a python column\n",
    "ds_tweets['python'] = check_word_in_tweet('#python', ds_tweets)\n",
    "\n",
    "# Create an rstats column\n",
    "ds_tweets['rstats'] = check_word_in_tweet('#rstats', ds_tweets)"
   ]
  },
  {
   "cell_type": "code",
   "execution_count": null,
   "metadata": {},
   "outputs": [],
   "source": [
    "# Average of bot tweet per day\n",
    "bt_per_day = df['class'].resample('1 d').mean()\n",
    "\n",
    "# Average of genuine tweet per day\n",
    "#gt_per_day = df['class'==0].resample('1 d').mean()\n",
    "\n",
    "# Plot average tweet per day\n",
    "plt.plot( bt_per_day.index.day,bt_per_day, color = 'green')\n",
    "#plt.plot( gt_per_day.index.day,gt_per_day, color = 'blue')\n",
    "\n",
    "# Add labels and show\n",
    "plt.xlabel('Day'); plt.ylabel('Frequency')\n",
    "plt.title('Number of Tweets')\n",
    "#plt.legend(('Bot', 'Human'))\n",
    "plt.show()"
   ]
  },
  {
   "cell_type": "code",
   "execution_count": null,
   "metadata": {},
   "outputs": [],
   "source": []
  },
  {
   "cell_type": "code",
   "execution_count": null,
   "metadata": {},
   "outputs": [],
   "source": [
    "# tweets per day"
   ]
  },
  {
   "cell_type": "code",
   "execution_count": null,
   "metadata": {},
   "outputs": [],
   "source": [
    "# tweet over time "
   ]
  },
  {
   "cell_type": "code",
   "execution_count": null,
   "metadata": {},
   "outputs": [],
   "source": [
    "# pauses between tweets"
   ]
  },
  {
   "cell_type": "markdown",
   "metadata": {},
   "source": []
  }
 ],
 "metadata": {
  "kernelspec": {
   "display_name": "Python 3",
   "language": "python",
   "name": "python3"
  },
  "language_info": {
   "codemirror_mode": {
    "name": "ipython",
    "version": 3
   },
   "file_extension": ".py",
   "mimetype": "text/x-python",
   "name": "python",
   "nbconvert_exporter": "python",
   "pygments_lexer": "ipython3",
   "version": "3.6.8"
  }
 },
 "nbformat": 4,
 "nbformat_minor": 2
}
