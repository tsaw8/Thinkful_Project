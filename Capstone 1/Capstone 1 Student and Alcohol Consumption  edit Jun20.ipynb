{
 "cells": [
  {
   "cell_type": "markdown",
   "metadata": {},
   "source": [
    "# Students and Alcohol Consumption\n",
    "\n",
    "### Context\n",
    "[Kaggle’s Student Alcohol Consumption survey](https://www.kaggle.com/uciml/student-alcohol-consumption#student-por.csv) was conducted among students at Gabriel Pereira and Mousinho da Silveira secondary school in Porto, Portugal. Students in math and Portuguese language courses were selected to participate in the data collection. The survery contains various social, gender, and study information about students in regards to predicting their final grade.\n",
    "\n",
    "Since this dataset consists of two parts, math and Portuguese language courses, we will merge together the files and examine it as one set. There are 382 students that belong to both datasets so we will join the files without overlapping data points. We will also assume that this dataset is a representative sample of the entire student population among the schools. Although each student's response can be viewed independently from another response, several datapoints maybe dependent on each other. For example, travel time to school will be dependent of the student's address. \n"
   ]
  },
  {
   "cell_type": "code",
   "execution_count": 1,
   "metadata": {},
   "outputs": [],
   "source": [
    "# Libraries\n",
    "\n",
    "import matplotlib.pyplot as plt\n",
    "import numpy as np \n",
    "import pandas as pd\n",
    "from statsmodels.graphics.gofplots import qqplot\n",
    "from matplotlib import pyplot\n",
    "import seaborn as sns\n",
    "%matplotlib inline\n"
   ]
  },
  {
   "cell_type": "code",
   "execution_count": 2,
   "metadata": {},
   "outputs": [],
   "source": [
    "# Load and merge math and Portuguese language course files \n",
    "\n",
    "d1 = pd.read_csv('student-mat.csv')\n",
    "d2 = pd.read_csv(\"student-por.csv\")\n",
    "\n",
    "data = pd.merge(d1, d2, how='outer', on=[\"school\",\"sex\",\"age\",\"address\",\"famsize\",\n",
    "                                         \"Pstatus\",\"Medu\",\"Fedu\",\"Mjob\",\"Fjob\",\n",
    "                                         \"reason\",\"nursery\",\"internet\",\"guardian\",\n",
    "                                         \"traveltime\",\"studytime\",\"famsup\",\"activities\",\n",
    "                                         \"higher\",\"romantic\",\"famrel\",\"freetime\",\n",
    "                                         \"goout\",\"Dalc\",\"Walc\",\"health\",\"schoolsup\"])\n"
   ]
  },
  {
   "cell_type": "code",
   "execution_count": 3,
   "metadata": {},
   "outputs": [
    {
     "data": {
      "text/plain": [
       "school         object\n",
       "sex            object\n",
       "age             int64\n",
       "address        object\n",
       "famsize        object\n",
       "Pstatus        object\n",
       "Medu            int64\n",
       "Fedu            int64\n",
       "Mjob           object\n",
       "Fjob           object\n",
       "reason         object\n",
       "guardian       object\n",
       "traveltime      int64\n",
       "studytime       int64\n",
       "failures_x    float64\n",
       "schoolsup      object\n",
       "famsup         object\n",
       "paid_x         object\n",
       "activities     object\n",
       "nursery        object\n",
       "higher         object\n",
       "internet       object\n",
       "romantic       object\n",
       "famrel          int64\n",
       "freetime        int64\n",
       "goout           int64\n",
       "Dalc            int64\n",
       "Walc            int64\n",
       "health          int64\n",
       "absences_x    float64\n",
       "G1_x          float64\n",
       "G2_x          float64\n",
       "G3_x          float64\n",
       "failures_y    float64\n",
       "paid_y         object\n",
       "absences_y    float64\n",
       "G1_y          float64\n",
       "G2_y          float64\n",
       "G3_y          float64\n",
       "dtype: object"
      ]
     },
     "execution_count": 3,
     "metadata": {},
     "output_type": "execute_result"
    }
   ],
   "source": [
    "# Check data types\n",
    "\n",
    "data.dtypes"
   ]
  },
  {
   "cell_type": "code",
   "execution_count": 4,
   "metadata": {},
   "outputs": [
    {
     "data": {
      "text/html": [
       "<div>\n",
       "<style scoped>\n",
       "    .dataframe tbody tr th:only-of-type {\n",
       "        vertical-align: middle;\n",
       "    }\n",
       "\n",
       "    .dataframe tbody tr th {\n",
       "        vertical-align: top;\n",
       "    }\n",
       "\n",
       "    .dataframe thead th {\n",
       "        text-align: right;\n",
       "    }\n",
       "</style>\n",
       "<table border=\"1\" class=\"dataframe\">\n",
       "  <thead>\n",
       "    <tr style=\"text-align: right;\">\n",
       "      <th></th>\n",
       "      <th>age</th>\n",
       "      <th>Medu</th>\n",
       "      <th>Fedu</th>\n",
       "      <th>traveltime</th>\n",
       "      <th>studytime</th>\n",
       "      <th>famrel</th>\n",
       "      <th>freetime</th>\n",
       "      <th>goout</th>\n",
       "      <th>Dalc</th>\n",
       "      <th>Walc</th>\n",
       "      <th>health</th>\n",
       "    </tr>\n",
       "  </thead>\n",
       "  <tbody>\n",
       "    <tr>\n",
       "      <th>0</th>\n",
       "      <td>18</td>\n",
       "      <td>4</td>\n",
       "      <td>4</td>\n",
       "      <td>2</td>\n",
       "      <td>2</td>\n",
       "      <td>4</td>\n",
       "      <td>3</td>\n",
       "      <td>4</td>\n",
       "      <td>1</td>\n",
       "      <td>1</td>\n",
       "      <td>3</td>\n",
       "    </tr>\n",
       "    <tr>\n",
       "      <th>1</th>\n",
       "      <td>17</td>\n",
       "      <td>1</td>\n",
       "      <td>1</td>\n",
       "      <td>1</td>\n",
       "      <td>2</td>\n",
       "      <td>5</td>\n",
       "      <td>3</td>\n",
       "      <td>3</td>\n",
       "      <td>1</td>\n",
       "      <td>1</td>\n",
       "      <td>3</td>\n",
       "    </tr>\n",
       "    <tr>\n",
       "      <th>2</th>\n",
       "      <td>15</td>\n",
       "      <td>1</td>\n",
       "      <td>1</td>\n",
       "      <td>1</td>\n",
       "      <td>2</td>\n",
       "      <td>4</td>\n",
       "      <td>3</td>\n",
       "      <td>2</td>\n",
       "      <td>2</td>\n",
       "      <td>3</td>\n",
       "      <td>3</td>\n",
       "    </tr>\n",
       "    <tr>\n",
       "      <th>3</th>\n",
       "      <td>15</td>\n",
       "      <td>4</td>\n",
       "      <td>2</td>\n",
       "      <td>1</td>\n",
       "      <td>3</td>\n",
       "      <td>3</td>\n",
       "      <td>2</td>\n",
       "      <td>2</td>\n",
       "      <td>1</td>\n",
       "      <td>1</td>\n",
       "      <td>5</td>\n",
       "    </tr>\n",
       "    <tr>\n",
       "      <th>4</th>\n",
       "      <td>16</td>\n",
       "      <td>3</td>\n",
       "      <td>3</td>\n",
       "      <td>1</td>\n",
       "      <td>2</td>\n",
       "      <td>4</td>\n",
       "      <td>3</td>\n",
       "      <td>2</td>\n",
       "      <td>1</td>\n",
       "      <td>2</td>\n",
       "      <td>5</td>\n",
       "    </tr>\n",
       "  </tbody>\n",
       "</table>\n",
       "</div>"
      ],
      "text/plain": [
       "   age  Medu  Fedu  traveltime  studytime  famrel  freetime  goout  Dalc  \\\n",
       "0   18     4     4           2          2       4         3      4     1   \n",
       "1   17     1     1           1          2       5         3      3     1   \n",
       "2   15     1     1           1          2       4         3      2     2   \n",
       "3   15     4     2           1          3       3         2      2     1   \n",
       "4   16     3     3           1          2       4         3      2     1   \n",
       "\n",
       "   Walc  health  \n",
       "0     1       3  \n",
       "1     1       3  \n",
       "2     3       3  \n",
       "3     1       5  \n",
       "4     2       5  "
      ]
     },
     "execution_count": 4,
     "metadata": {},
     "output_type": "execute_result"
    }
   ],
   "source": [
    "# Build a dataframe of integer columns to convert to categorical variables\n",
    "\n",
    "int_data = data.select_dtypes(include=['int']).copy()\n",
    "int_data.head()"
   ]
  },
  {
   "cell_type": "code",
   "execution_count": 5,
   "metadata": {},
   "outputs": [
    {
     "data": {
      "text/html": [
       "<div>\n",
       "<style scoped>\n",
       "    .dataframe tbody tr th:only-of-type {\n",
       "        vertical-align: middle;\n",
       "    }\n",
       "\n",
       "    .dataframe tbody tr th {\n",
       "        vertical-align: top;\n",
       "    }\n",
       "\n",
       "    .dataframe thead th {\n",
       "        text-align: right;\n",
       "    }\n",
       "</style>\n",
       "<table border=\"1\" class=\"dataframe\">\n",
       "  <thead>\n",
       "    <tr style=\"text-align: right;\">\n",
       "      <th></th>\n",
       "      <th>age</th>\n",
       "      <th>Medu</th>\n",
       "      <th>Fedu</th>\n",
       "      <th>traveltime</th>\n",
       "      <th>studytime</th>\n",
       "      <th>famrel</th>\n",
       "      <th>freetime</th>\n",
       "      <th>goout</th>\n",
       "      <th>Dalc</th>\n",
       "      <th>Walc</th>\n",
       "      <th>health</th>\n",
       "    </tr>\n",
       "  </thead>\n",
       "  <tbody>\n",
       "  </tbody>\n",
       "</table>\n",
       "</div>"
      ],
      "text/plain": [
       "Empty DataFrame\n",
       "Columns: [age, Medu, Fedu, traveltime, studytime, famrel, freetime, goout, Dalc, Walc, health]\n",
       "Index: []"
      ]
     },
     "execution_count": 5,
     "metadata": {},
     "output_type": "execute_result"
    }
   ],
   "source": [
    "# Let's check for null values first \n",
    "\n",
    "int_data[int_data.isnull().any(axis=1)]"
   ]
  },
  {
   "cell_type": "markdown",
   "metadata": {},
   "source": [
    "There doesn't appear to be any missing values so we will continue to the next step of data cleaning. "
   ]
  },
  {
   "cell_type": "code",
   "execution_count": 10,
   "metadata": {},
   "outputs": [],
   "source": [
    "# Convert selected features from to categorical type\n",
    "\n",
    "data.columns = ['school','sex','age','address','famsize','Pstatus',\n",
    "                'Medu','Fedu','Mjob','Fjob','reason','guardian',\n",
    "                'traveltime','studytime','failures_x','schoolsup',\n",
    "                'famsup','paid_x','activities','nursery','higher',\n",
    "                'internet','romantic','famrel','freetime','goout',\n",
    "                'Dalc','Walc','health','absences_x','G1_x','G2_x',\n",
    "                'G3_x','failures_y','paid_y','absences_y',\n",
    "               'G1_y','G2_y','G3_y']\n",
    "\n",
    "columns_category = ['school','sex','traveltime','studytime','Dalc',\n",
    "                'Walc','health']\n",
    "data[columns_category] = data[columns_category].astype('str')\n",
    "data[columns_category] = data[columns_category].astype('category')"
   ]
  },
  {
   "cell_type": "code",
   "execution_count": 11,
   "metadata": {},
   "outputs": [],
   "source": [
    "# Convert column values to text\n",
    "\n",
    "cleanup_int = {'traveltime': {'1':'<15 min.','2':'15 to 30 min.',\n",
    "                             '3':'30 min. to 1 hour','4':'>1 hour'},\n",
    "              'studytime': {'1':'<2 hours','2':'2 to 5 hours',\n",
    "                          '3':'5 to 10 hours','4':'>10 hours'},\n",
    "              'Dalc': {'1':'very low','2':'low','3':'moderate',\n",
    "                      '4':'high','5':'very high'},\n",
    "              'Walc': {'1':'very low','2':'low','3':'moderate',\n",
    "                      '4':'high','5':'very high'},\n",
    "              'health': {'1':'very bad','2':'bad','3':'fair',\n",
    "                      '4':'good','5':'very good'}}\n",
    "\n",
    "data.replace(cleanup_int,inplace=True)\n"
   ]
  },
  {
   "cell_type": "markdown",
   "metadata": {},
   "source": [
    "### Sample of Dataset"
   ]
  },
  {
   "cell_type": "code",
   "execution_count": 12,
   "metadata": {
    "scrolled": true
   },
   "outputs": [
    {
     "data": {
      "text/html": [
       "<div>\n",
       "<style scoped>\n",
       "    .dataframe tbody tr th:only-of-type {\n",
       "        vertical-align: middle;\n",
       "    }\n",
       "\n",
       "    .dataframe tbody tr th {\n",
       "        vertical-align: top;\n",
       "    }\n",
       "\n",
       "    .dataframe thead th {\n",
       "        text-align: right;\n",
       "    }\n",
       "</style>\n",
       "<table border=\"1\" class=\"dataframe\">\n",
       "  <thead>\n",
       "    <tr style=\"text-align: right;\">\n",
       "      <th></th>\n",
       "      <th>school</th>\n",
       "      <th>sex</th>\n",
       "      <th>age</th>\n",
       "      <th>address</th>\n",
       "      <th>famsize</th>\n",
       "      <th>Pstatus</th>\n",
       "      <th>Medu</th>\n",
       "      <th>Fedu</th>\n",
       "      <th>Mjob</th>\n",
       "      <th>Fjob</th>\n",
       "      <th>...</th>\n",
       "      <th>absences_x</th>\n",
       "      <th>G1_x</th>\n",
       "      <th>G2_x</th>\n",
       "      <th>G3_x</th>\n",
       "      <th>failures_y</th>\n",
       "      <th>paid_y</th>\n",
       "      <th>absences_y</th>\n",
       "      <th>G1_y</th>\n",
       "      <th>G2_y</th>\n",
       "      <th>G3_y</th>\n",
       "    </tr>\n",
       "  </thead>\n",
       "  <tbody>\n",
       "    <tr>\n",
       "      <th>0</th>\n",
       "      <td>GP</td>\n",
       "      <td>F</td>\n",
       "      <td>18</td>\n",
       "      <td>U</td>\n",
       "      <td>GT3</td>\n",
       "      <td>A</td>\n",
       "      <td>4</td>\n",
       "      <td>4</td>\n",
       "      <td>at_home</td>\n",
       "      <td>teacher</td>\n",
       "      <td>...</td>\n",
       "      <td>6.0</td>\n",
       "      <td>5.0</td>\n",
       "      <td>6.0</td>\n",
       "      <td>6.0</td>\n",
       "      <td>0.0</td>\n",
       "      <td>no</td>\n",
       "      <td>4.0</td>\n",
       "      <td>0.0</td>\n",
       "      <td>11.0</td>\n",
       "      <td>11.0</td>\n",
       "    </tr>\n",
       "    <tr>\n",
       "      <th>1</th>\n",
       "      <td>GP</td>\n",
       "      <td>F</td>\n",
       "      <td>17</td>\n",
       "      <td>U</td>\n",
       "      <td>GT3</td>\n",
       "      <td>T</td>\n",
       "      <td>1</td>\n",
       "      <td>1</td>\n",
       "      <td>at_home</td>\n",
       "      <td>other</td>\n",
       "      <td>...</td>\n",
       "      <td>4.0</td>\n",
       "      <td>5.0</td>\n",
       "      <td>5.0</td>\n",
       "      <td>6.0</td>\n",
       "      <td>0.0</td>\n",
       "      <td>no</td>\n",
       "      <td>2.0</td>\n",
       "      <td>9.0</td>\n",
       "      <td>11.0</td>\n",
       "      <td>11.0</td>\n",
       "    </tr>\n",
       "    <tr>\n",
       "      <th>2</th>\n",
       "      <td>GP</td>\n",
       "      <td>F</td>\n",
       "      <td>15</td>\n",
       "      <td>U</td>\n",
       "      <td>LE3</td>\n",
       "      <td>T</td>\n",
       "      <td>1</td>\n",
       "      <td>1</td>\n",
       "      <td>at_home</td>\n",
       "      <td>other</td>\n",
       "      <td>...</td>\n",
       "      <td>10.0</td>\n",
       "      <td>7.0</td>\n",
       "      <td>8.0</td>\n",
       "      <td>10.0</td>\n",
       "      <td>0.0</td>\n",
       "      <td>no</td>\n",
       "      <td>6.0</td>\n",
       "      <td>12.0</td>\n",
       "      <td>13.0</td>\n",
       "      <td>12.0</td>\n",
       "    </tr>\n",
       "    <tr>\n",
       "      <th>3</th>\n",
       "      <td>GP</td>\n",
       "      <td>F</td>\n",
       "      <td>15</td>\n",
       "      <td>U</td>\n",
       "      <td>GT3</td>\n",
       "      <td>T</td>\n",
       "      <td>4</td>\n",
       "      <td>2</td>\n",
       "      <td>health</td>\n",
       "      <td>services</td>\n",
       "      <td>...</td>\n",
       "      <td>2.0</td>\n",
       "      <td>15.0</td>\n",
       "      <td>14.0</td>\n",
       "      <td>15.0</td>\n",
       "      <td>0.0</td>\n",
       "      <td>no</td>\n",
       "      <td>0.0</td>\n",
       "      <td>14.0</td>\n",
       "      <td>14.0</td>\n",
       "      <td>14.0</td>\n",
       "    </tr>\n",
       "    <tr>\n",
       "      <th>4</th>\n",
       "      <td>GP</td>\n",
       "      <td>F</td>\n",
       "      <td>16</td>\n",
       "      <td>U</td>\n",
       "      <td>GT3</td>\n",
       "      <td>T</td>\n",
       "      <td>3</td>\n",
       "      <td>3</td>\n",
       "      <td>other</td>\n",
       "      <td>other</td>\n",
       "      <td>...</td>\n",
       "      <td>4.0</td>\n",
       "      <td>6.0</td>\n",
       "      <td>10.0</td>\n",
       "      <td>10.0</td>\n",
       "      <td>0.0</td>\n",
       "      <td>no</td>\n",
       "      <td>0.0</td>\n",
       "      <td>11.0</td>\n",
       "      <td>13.0</td>\n",
       "      <td>13.0</td>\n",
       "    </tr>\n",
       "  </tbody>\n",
       "</table>\n",
       "<p>5 rows × 39 columns</p>\n",
       "</div>"
      ],
      "text/plain": [
       "  school sex  age address famsize Pstatus  Medu  Fedu     Mjob      Fjob  \\\n",
       "0     GP   F   18       U     GT3       A     4     4  at_home   teacher   \n",
       "1     GP   F   17       U     GT3       T     1     1  at_home     other   \n",
       "2     GP   F   15       U     LE3       T     1     1  at_home     other   \n",
       "3     GP   F   15       U     GT3       T     4     2   health  services   \n",
       "4     GP   F   16       U     GT3       T     3     3    other     other   \n",
       "\n",
       "   ...  absences_x  G1_x  G2_x  G3_x  failures_y paid_y absences_y  G1_y  \\\n",
       "0  ...         6.0   5.0   6.0   6.0         0.0     no        4.0   0.0   \n",
       "1  ...         4.0   5.0   5.0   6.0         0.0     no        2.0   9.0   \n",
       "2  ...        10.0   7.0   8.0  10.0         0.0     no        6.0  12.0   \n",
       "3  ...         2.0  15.0  14.0  15.0         0.0     no        0.0  14.0   \n",
       "4  ...         4.0   6.0  10.0  10.0         0.0     no        0.0  11.0   \n",
       "\n",
       "   G2_y  G3_y  \n",
       "0  11.0  11.0  \n",
       "1  11.0  11.0  \n",
       "2  13.0  12.0  \n",
       "3  14.0  14.0  \n",
       "4  13.0  13.0  \n",
       "\n",
       "[5 rows x 39 columns]"
      ]
     },
     "metadata": {},
     "output_type": "display_data"
    }
   ],
   "source": [
    "display(data.head())"
   ]
  },
  {
   "cell_type": "markdown",
   "metadata": {},
   "source": [
    "This dataset consists of 33 attributes: <br>\n",
    "\n",
    "1.__school__: student's school (binary: 'GP' - Gabriel Pereira or 'MS' - Mousinho da Silveira)<br>\n",
    "2.__sex__ : Student's sex (binary: 'F' - female or 'M' - male)<br>\n",
    "3.__age__ : Student's age (numeric: from 15 to 22)<br>\n",
    "4.__address__ : Student's home address type (binary: 'U' - urban or 'R' - rural)<br>\n",
    "5.__famsize__: family size (binary: ''LE3' - less or equal to 3 or 'GT3' - greater than 3)<br>\n",
    "6.__Pstatus__: parent's cohabitation status (binary: 'T' - living together or 'A' - apart)<br>\n",
    "7.__Medu__: mother's education (category: 0 - none, 1 - primary education (4th grade), <br>\n",
    "2 – 5th to 9th grade, 3 – secondary education or 4 – higher education)<br>\n",
    "8.__Fedu__: father's education (category: 0 - none, 1 - primary education (4th grade), <br>2 – 5th to 9th grade, 3 – secondary education or 4 – higher education)<br>\n",
    "9.__Mjob__: mother's job (nominal: 'teacher', 'health' care related, civil 'services' <br>\n",
    "(e.g. administrative or police), 'at_home' or 'other')<br>\n",
    "10.__Fjob__: father's job (nominal: 'teacher', 'health' care related, civil 'services' <br>(e.g. administrative or police), 'at_home' or 'other')<br>\n",
    "11.__reason__: reason to choose this school (nominal: close to 'home', <br>school 'reputation', 'course' preference or 'other')<br>\n",
    "12.__guardian__: student's guardian (nominal: 'mother', 'father' or 'other')<br>\n",
    "13.__traveltime__: home to school travel time (category: 1 - <15 min., 2 - 15 to 30 min., <br>3 - 30 min. to 1 hour, or 4 - >1 hour)<br>\n",
    "14.__studytime__: weekly study time (category: 1 - <2 hours, 2 - 2 to 5 hours, <br>3 - 5 to 10 hours, or 4 - >10 hours)<br>\n",
    "15.__failures__: number of past class failures (numeric: n if 1<=n<3, else 4)<br>\n",
    "16.__schoolsup__: extra educational support (binary: yes or no)<br>\n",
    "17.__famsup__: family educational support (binary: yes or no)<br>\n",
    "18.__paid__: extra paid classes within the course subject <br>(Math or Portuguese) (binary: yes or no)<br>\n",
    "19.__activities__: extra-curricular activities (binary: yes or no)<br>\n",
    "20.__nursery__: attended nursery school (binary: yes or no)<br>\n",
    "21.__higher__: wants to take higher education (binary: yes or no)<br>\n",
    "22.__internet__: Internet access at home (binary: yes or no)<br>\n",
    "23.__romantic__: with a romantic relationship (binary: yes or no)<br>\n",
    "24.__famrel__: quality of family relationships (category: from 1 - very bad to 5 - excellent)<br>\n",
    "25.__freetime__: free time after school (category: from 1 - very low to 5 - very high)<br>\n",
    "26.__goout__: going out with friends (category: from 1 - very low to 5 - very high)<br>\n",
    "27.__Dalc__: Weekday alcohol consumption (category: from 1 - very low to 5 - very high)<br>\n",
    "28.__Walc__: Weekend alcohol consumption (category: from 1 - very low to 5 - very high)<br>\n",
    "29.__health__: current health status (category: from 1 - very bad to 5 - very good)<br>\n",
    "30.__absences__: number of school absences (numeric: from 0 to 93)\n",
    "\n",
    "_These grades are related with the course subject, Math or Portuguese:_\n",
    "\n",
    "31.__G1__: first period grade (numeric: from 0 to 20)<br>\n",
    "32.__G2__: second period grade (numeric: from 0 to 20)<br>\n",
    "33.__G3__: final grade (numeric: from 0 to 20, output target)<br>\n"
   ]
  },
  {
   "cell_type": "markdown",
   "metadata": {},
   "source": [
    "## _We will continue to explore  student alcohol consumption in accordance with the following variables:_\n",
    "> 1. __School__\n",
    "2. __Age__ \n",
    "3. __Gender__\n",
    "4. __Address__"
   ]
  },
  {
   "cell_type": "markdown",
   "metadata": {},
   "source": [
    "## Exploring the schools "
   ]
  },
  {
   "cell_type": "code",
   "execution_count": 13,
   "metadata": {},
   "outputs": [
    {
     "data": {
      "text/html": [
       "<div>\n",
       "<style scoped>\n",
       "    .dataframe tbody tr th:only-of-type {\n",
       "        vertical-align: middle;\n",
       "    }\n",
       "\n",
       "    .dataframe tbody tr th {\n",
       "        vertical-align: top;\n",
       "    }\n",
       "\n",
       "    .dataframe thead tr th {\n",
       "        text-align: left;\n",
       "    }\n",
       "</style>\n",
       "<table border=\"1\" class=\"dataframe\">\n",
       "  <thead>\n",
       "    <tr>\n",
       "      <th></th>\n",
       "      <th colspan=\"7\" halign=\"left\">GP Statistics</th>\n",
       "      <th colspan=\"7\" halign=\"left\">MS Statistics</th>\n",
       "    </tr>\n",
       "    <tr>\n",
       "      <th></th>\n",
       "      <th>school</th>\n",
       "      <th>sex</th>\n",
       "      <th>traveltime</th>\n",
       "      <th>studytime</th>\n",
       "      <th>Dalc</th>\n",
       "      <th>Walc</th>\n",
       "      <th>health</th>\n",
       "      <th>school</th>\n",
       "      <th>sex</th>\n",
       "      <th>traveltime</th>\n",
       "      <th>studytime</th>\n",
       "      <th>Dalc</th>\n",
       "      <th>Walc</th>\n",
       "      <th>health</th>\n",
       "    </tr>\n",
       "  </thead>\n",
       "  <tbody>\n",
       "    <tr>\n",
       "      <th>count</th>\n",
       "      <td>441</td>\n",
       "      <td>441</td>\n",
       "      <td>441</td>\n",
       "      <td>441</td>\n",
       "      <td>441</td>\n",
       "      <td>441</td>\n",
       "      <td>441</td>\n",
       "      <td>233</td>\n",
       "      <td>233</td>\n",
       "      <td>233</td>\n",
       "      <td>233</td>\n",
       "      <td>233</td>\n",
       "      <td>233</td>\n",
       "      <td>233</td>\n",
       "    </tr>\n",
       "    <tr>\n",
       "      <th>unique</th>\n",
       "      <td>1</td>\n",
       "      <td>2</td>\n",
       "      <td>4</td>\n",
       "      <td>4</td>\n",
       "      <td>5</td>\n",
       "      <td>5</td>\n",
       "      <td>5</td>\n",
       "      <td>1</td>\n",
       "      <td>2</td>\n",
       "      <td>4</td>\n",
       "      <td>4</td>\n",
       "      <td>5</td>\n",
       "      <td>5</td>\n",
       "      <td>5</td>\n",
       "    </tr>\n",
       "    <tr>\n",
       "      <th>top</th>\n",
       "      <td>GP</td>\n",
       "      <td>F</td>\n",
       "      <td>&lt;15 min.</td>\n",
       "      <td>2 to 5 hours</td>\n",
       "      <td>very low</td>\n",
       "      <td>very low</td>\n",
       "      <td>very good</td>\n",
       "      <td>MS</td>\n",
       "      <td>F</td>\n",
       "      <td>15 to 30 min.</td>\n",
       "      <td>2 to 5 hours</td>\n",
       "      <td>very low</td>\n",
       "      <td>very low</td>\n",
       "      <td>very good</td>\n",
       "    </tr>\n",
       "    <tr>\n",
       "      <th>freq</th>\n",
       "      <td>441</td>\n",
       "      <td>247</td>\n",
       "      <td>295</td>\n",
       "      <td>215</td>\n",
       "      <td>315</td>\n",
       "      <td>176</td>\n",
       "      <td>170</td>\n",
       "      <td>233</td>\n",
       "      <td>149</td>\n",
       "      <td>107</td>\n",
       "      <td>103</td>\n",
       "      <td>154</td>\n",
       "      <td>81</td>\n",
       "      <td>85</td>\n",
       "    </tr>\n",
       "  </tbody>\n",
       "</table>\n",
       "</div>"
      ],
      "text/plain": [
       "       GP Statistics                                                    \\\n",
       "              school  sex traveltime     studytime      Dalc      Walc   \n",
       "count            441  441        441           441       441       441   \n",
       "unique             1    2          4             4         5         5   \n",
       "top               GP    F   <15 min.  2 to 5 hours  very low  very low   \n",
       "freq             441  247        295           215       315       176   \n",
       "\n",
       "                  MS Statistics                                              \\\n",
       "           health        school  sex     traveltime     studytime      Dalc   \n",
       "count         441           233  233            233           233       233   \n",
       "unique          5             1    2              4             4         5   \n",
       "top     very good            MS    F  15 to 30 min.  2 to 5 hours  very low   \n",
       "freq          170           233  149            107           103       154   \n",
       "\n",
       "                             \n",
       "            Walc     health  \n",
       "count        233        233  \n",
       "unique         5          5  \n",
       "top     very low  very good  \n",
       "freq          81         85  "
      ]
     },
     "execution_count": 13,
     "metadata": {},
     "output_type": "execute_result"
    }
   ],
   "source": [
    "# Gabriel Pereira Secondary School Statistics\n",
    "\n",
    "GP_stud = data[(data.school == 'GP')]\n",
    "GP_trim = GP_stud.loc[:,[\"school\",\"sex\",\"age\", \"address\",\"traveltime\", \n",
    "                         \"studytime\",\"Dalc\",\"Walc\",\"health\"]]\n",
    "\n",
    "GP_des = GP_stud.describe(include='category')\n",
    "\n",
    "# Mousinho da Silveira Secondary School Statistics\n",
    "\n",
    "MS_stud = data[(data.school == 'MS')]\n",
    "MS_trim = MS_stud.loc[:,[\"school\",\"sex\",\"age\", \"address\",\"traveltime\", \n",
    "                         \"studytime\",\"Dalc\",\"Walc\",\"health\"]]\n",
    "\n",
    "MS_des = MS_stud.describe(include='category')\n",
    "\n",
    "pd.concat([GP_des,MS_des], axis=1,\n",
    "         keys=['GP Statistics',\n",
    "               'MS Statistics'])"
   ]
  },
  {
   "cell_type": "markdown",
   "metadata": {},
   "source": [
    "This survey consists of 674 students, 65% of students from Gabriel Pereira Secondary School and 35% of students from Mousinho da Silveira Secondary School. Both the schools have a higher amount of female than male students, 56% females at Gabriel Pereira and 64% females at Mousinho da Silveira. Students attending Mousinho da Silveira Secondary School appear to have a longer commute to school, averaging around 15 minutes while students at Gabriel Pereira travel less than 15 minutes. Students at both schools average in about 2 to 5 hours per week of study time. Students from both schools identified as being very healthy."
   ]
  },
  {
   "cell_type": "markdown",
   "metadata": {},
   "source": [
    "### Students at which school consume more alcohol on a weekly basis?"
   ]
  },
  {
   "cell_type": "markdown",
   "metadata": {},
   "source": [
    "In accordance to the Alcohol Consumption Level, we will group consumption level as the following:<br>\n",
    "__Light__: very low and low<br>\n",
    "__Increased__: moderate, high, and high"
   ]
  },
  {
   "cell_type": "code",
   "execution_count": 14,
   "metadata": {},
   "outputs": [
    {
     "data": {
      "text/plain": [
       "Text(0.5,1,'Students Alcohol Consumption on Weekends')"
      ]
     },
     "execution_count": 14,
     "metadata": {},
     "output_type": "execute_result"
    },
    {
     "data": {
      "image/png": "[encoded data removed]",
      "text/plain": [
       "<Figure size 720x576 with 2 Axes>"
      ]
     },
     "metadata": {
      "needs_background": "light"
     },
     "output_type": "display_data"
    }
   ],
   "source": [
    "plt.figure(figsize=(10,8))\n",
    "\n",
    "plt.subplot(1, 2, 1)\n",
    "order = ('very low','low','moderate','high','very high')\n",
    "ax1 = sns.countplot(data=data,x='Dalc',hue='school',order=order)\n",
    "ax1.set_xlabel('Alcohol Consumption Levels')\n",
    "ax1.set_yticks\n",
    "plt.title('Student Alcohol Consumption on Weekdays')\n",
    "\n",
    "plt.subplot(1, 2, 2, sharey=ax1)\n",
    "order = ('very low','low','moderate','high','very high')\n",
    "ax2 = sns.countplot(data=data,x='Walc',hue='school',order=order)\n",
    "ax2.set_xlabel('Alcohol Consumption Levels')\n",
    "plt.title('Students Alcohol Consumption on Weekends')"
   ]
  },
  {
   "cell_type": "markdown",
   "metadata": {},
   "source": [
    "At a glance, students both schools consume relatively very low levels of alcohol on weekdays. There is a drastic increase of alcohol consumption over weekends at both schools. Since the sample size of each school is not balanced, we will evaluate the consumption level by each sample size ratio in alcohol consumption."
   ]
  },
  {
   "cell_type": "code",
   "execution_count": 15,
   "metadata": {},
   "outputs": [
    {
     "data": {
      "image/png": "[encoded data removed]",
      "text/plain": [
       "<Figure size 432x288 with 1 Axes>"
      ]
     },
     "metadata": {
      "needs_background": "light"
     },
     "output_type": "display_data"
    },
    {
     "data": {
      "image/png": "[encoded data removed]",
      "text/plain": [
       "<Figure size 432x288 with 1 Axes>"
      ]
     },
     "metadata": {
      "needs_background": "light"
     },
     "output_type": "display_data"
    }
   ],
   "source": [
    "# Plot Student Alcohol Weekly Consumption Ratio by Schools\n",
    "sch_Dalc = pd.crosstab(index=data['Dalc'],\n",
    "                      columns=data['school'])\n",
    "new_index = ['very low','low','moderate','high','very high']\n",
    "sch_Dalc = sch_Dalc.reindex(new_index)\n",
    "sch_Dalc = sch_Dalc/sch_Dalc.sum()\n",
    "\n",
    "sch_Walc = pd.crosstab(index=data['Walc'],\n",
    "                      columns=data['school'])\n",
    "sch_Walc = sch_Walc.reindex(new_index)\n",
    "sch_Walc = sch_Walc/sch_Walc.sum()\n",
    "\n",
    "\n",
    "sch_Dalc.plot(kind='bar',\n",
    "              title='Student Alcohol Weekdays Consumption Ratio')\n",
    "plt.show()\n",
    "\n",
    "sch_Walc.plot(kind='bar',\n",
    "             title='Student Alcohol Weekends Consumption Ratio')\n",
    "plt.show()"
   ]
  },
  {
   "cell_type": "markdown",
   "metadata": {},
   "source": [
    "When we compare alcohol consumption levels moderate, high, and very high, MS students appear to consume slightly more than GP students on weekdays. The trend remains true for on weekends as well. "
   ]
  },
  {
   "cell_type": "code",
   "execution_count": 16,
   "metadata": {},
   "outputs": [
    {
     "data": {
      "text/html": [
       "<div>\n",
       "<style scoped>\n",
       "    .dataframe tbody tr th:only-of-type {\n",
       "        vertical-align: middle;\n",
       "    }\n",
       "\n",
       "    .dataframe tbody tr th {\n",
       "        vertical-align: top;\n",
       "    }\n",
       "\n",
       "    .dataframe thead tr th {\n",
       "        text-align: left;\n",
       "    }\n",
       "</style>\n",
       "<table border=\"1\" class=\"dataframe\">\n",
       "  <thead>\n",
       "    <tr>\n",
       "      <th></th>\n",
       "      <th colspan=\"2\" halign=\"left\">Weekdays Alcohol Consumption Ratio</th>\n",
       "      <th colspan=\"2\" halign=\"left\">Weekends Alcohol Consumption Ratio</th>\n",
       "    </tr>\n",
       "    <tr>\n",
       "      <th>school</th>\n",
       "      <th>GP</th>\n",
       "      <th>MS</th>\n",
       "      <th>GP</th>\n",
       "      <th>MS</th>\n",
       "    </tr>\n",
       "  </thead>\n",
       "  <tbody>\n",
       "    <tr>\n",
       "      <th>very low</th>\n",
       "      <td>0.714286</td>\n",
       "      <td>0.660944</td>\n",
       "      <td>0.399093</td>\n",
       "      <td>0.347639</td>\n",
       "    </tr>\n",
       "    <tr>\n",
       "      <th>low</th>\n",
       "      <td>0.185941</td>\n",
       "      <td>0.184549</td>\n",
       "      <td>0.217687</td>\n",
       "      <td>0.253219</td>\n",
       "    </tr>\n",
       "    <tr>\n",
       "      <th>moderate</th>\n",
       "      <td>0.049887</td>\n",
       "      <td>0.098712</td>\n",
       "      <td>0.179138</td>\n",
       "      <td>0.197425</td>\n",
       "    </tr>\n",
       "    <tr>\n",
       "      <th>high</th>\n",
       "      <td>0.027211</td>\n",
       "      <td>0.025751</td>\n",
       "      <td>0.136054</td>\n",
       "      <td>0.133047</td>\n",
       "    </tr>\n",
       "    <tr>\n",
       "      <th>very high</th>\n",
       "      <td>0.022676</td>\n",
       "      <td>0.030043</td>\n",
       "      <td>0.068027</td>\n",
       "      <td>0.068670</td>\n",
       "    </tr>\n",
       "  </tbody>\n",
       "</table>\n",
       "</div>"
      ],
      "text/plain": [
       "          Weekdays Alcohol Consumption Ratio            \\\n",
       "school                                    GP        MS   \n",
       "very low                            0.714286  0.660944   \n",
       "low                                 0.185941  0.184549   \n",
       "moderate                            0.049887  0.098712   \n",
       "high                                0.027211  0.025751   \n",
       "very high                           0.022676  0.030043   \n",
       "\n",
       "          Weekends Alcohol Consumption Ratio            \n",
       "school                                    GP        MS  \n",
       "very low                            0.399093  0.347639  \n",
       "low                                 0.217687  0.253219  \n",
       "moderate                            0.179138  0.197425  \n",
       "high                                0.136054  0.133047  \n",
       "very high                           0.068027  0.068670  "
      ]
     },
     "execution_count": 16,
     "metadata": {},
     "output_type": "execute_result"
    }
   ],
   "source": [
    "\n",
    "pd.concat([sch_Dalc,sch_Walc], axis=1,\n",
    "         keys=['Weekdays Alcohol Consumption Ratio',\n",
    "               'Weekends Alcohol Consumption Ratio'])"
   ]
  },
  {
   "cell_type": "markdown",
   "metadata": {},
   "source": [
    "If we examine rows of increased alcohol consumption (moderate, high, and very high), 9.8% of GP students and 15.3% of MS students consume this amount on weekedays. The precentage of increased consumption level both raise during weekends with 38.3% of GP students and 39.8% of MS students. Overall, we can conclude that MS students consume more alcohol than GP students on a weekly basis. "
   ]
  },
  {
   "cell_type": "markdown",
   "metadata": {},
   "source": [
    "## Exploring ages "
   ]
  },
  {
   "cell_type": "code",
   "execution_count": 17,
   "metadata": {},
   "outputs": [
    {
     "data": {
      "image/png": "[encoded data removed]",
      "text/plain": [
       "<Figure size 576x576 with 1 Axes>"
      ]
     },
     "metadata": {},
     "output_type": "display_data"
    }
   ],
   "source": [
    "# Plot students age\n",
    "\n",
    "ages = data['age'].value_counts()\n",
    "ages.index = ['15','16','17','18','19','20','21','22']\n",
    "labels = (np.array(ages.index))\n",
    "sizes = (np.array((ages/ages.sum())*100))\n",
    "colors = ['bisque','khaki','lightgreen','powderblue',\n",
    "         'lightsteelblue','mediumslateblue','plum',\n",
    "         'orchid']\n",
    "\n",
    "plt.figure(figsize=(8,8))\n",
    "\n",
    "plt.pie(sizes,labels=labels, colors=colors,autopct='%1.1f%%', \n",
    "        startangle=90)\n",
    "plt.title(\"Age of Students\")\n",
    "plt.legend(labels)\n",
    "\n",
    "# Equal aspect ratio ensures that pie is drawn as a circle\n",
    "ax1.axis('equal')  \n",
    "plt.tight_layout()\n",
    "plt.show()"
   ]
  },
  {
   "cell_type": "markdown",
   "metadata": {},
   "source": [
    "##### Age of Students\n",
    "__Age 15__: 26.7%<br>\n",
    "__Age 16__: 26.6%<br>\n",
    "__Age 17__: 21.5%<br>\n",
    "__Age 18__: 16.8%<br>\n",
    "__Age 19__: 6.7%<br>\n",
    "__Age 20__: 1.1%<br>\n",
    "__Age 21__: 0.4%<br>\n",
    "__Age 22__: 0.1%<br>\n"
   ]
  },
  {
   "cell_type": "markdown",
   "metadata": {},
   "source": [
    "Majority of students are within tradtional high school age range, between 15 to 18 years old. Ages 19 and up make up less than 10% of the student population. Let's see if there are any outliers."
   ]
  },
  {
   "cell_type": "code",
   "execution_count": 18,
   "metadata": {},
   "outputs": [
    {
     "data": {
      "image/png": "[encoded data removed]",
      "text/plain": [
       "<Figure size 432x288 with 1 Axes>"
      ]
     },
     "metadata": {
      "needs_background": "light"
     },
     "output_type": "display_data"
    }
   ],
   "source": [
    "# Plot age distribution \n",
    "\n",
    "all= data.age\n",
    "GP= GP_stud.age\n",
    "MS=MS_stud.age\n",
    "\n",
    "box_plot_data=[all,GP,MS]\n",
    "plt.title('Age Distribution Box Plot')\n",
    "plt.ylabel('Age Range')\n",
    "plt.boxplot(box_plot_data,notch='True',patch_artist=True,\n",
    "            labels=['All Students','GP Students','MS Students'])\n",
    "plt.show()"
   ]
  },
  {
   "cell_type": "markdown",
   "metadata": {},
   "source": [
    "According to the box plot, the population age ranges from 15 to 22 years old. The median age for both schools are approximately 17 years old. There does appear to be one outlier, a 22 years old student at GP. This would skew the distribution towards the older age range. "
   ]
  },
  {
   "cell_type": "markdown",
   "metadata": {},
   "source": [
    "### Which age group has the highest alcohol consumption during weekdays or weekends? <br>\n",
    "\n",
    "As shown in the tables below, the sample size of ages 19 and older are rather sparse. We will group ages together in an attempt to better balance the sample size of each test group.\n"
   ]
  },
  {
   "cell_type": "code",
   "execution_count": 19,
   "metadata": {},
   "outputs": [],
   "source": [
    "# Create age groups\n",
    "age15=data[(data.age==15)]\n",
    "age16=data[(data.age==16)]\n",
    "age17=data[(data.age==17)]\n",
    "age18=data[(data.age==18)]\n",
    "age19=data[(data.age==19)]\n",
    "age20=data[(data.age==20)]\n",
    "age21=data[(data.age==21)]\n",
    "age22=data[(data.age==22)]"
   ]
  },
  {
   "cell_type": "code",
   "execution_count": 20,
   "metadata": {},
   "outputs": [],
   "source": [
    "# Age Group Weekday \n",
    "\n",
    "all=data.Dalc.value_counts()\n",
    "a15=age15.Dalc.value_counts()\n",
    "a16=age16.Dalc.value_counts()\n",
    "a17=age17.Dalc.value_counts()\n",
    "a18=age18.Dalc.value_counts()\n",
    "a19=age19.Dalc.value_counts()\n",
    "a20=age20.Dalc.value_counts()\n",
    "a21=age21.Dalc.value_counts()\n",
    "a22=age22.Dalc.value_counts()\n",
    "\n",
    "age_Dalc = pd.concat([a15,a16,a17,a18,a19,a20,a21,a22,all], \n",
    "                     axis=1,sort=True,\n",
    "         keys=[\"Age 15\",\"Age 16\",\"Age 17\",\n",
    "                \"Age 18\", \"Age 19\", \"Age 20\", \n",
    "               \"Age 21\",\"Age 22\",\"All Students\"])\n",
    "new_index = ['very low','low','moderate','high','very high']\n",
    "age_Dalc = age_Dalc.reindex(new_index)\n",
    "\n"
   ]
  },
  {
   "cell_type": "code",
   "execution_count": 21,
   "metadata": {},
   "outputs": [],
   "source": [
    "# Age Group Weekend \n",
    "all=data.Walc.value_counts()\n",
    "a15=age15.Walc.value_counts()\n",
    "a16=age16.Walc.value_counts()\n",
    "a17=age17.Walc.value_counts()\n",
    "a18=age18.Walc.value_counts()\n",
    "a19=age19.Walc.value_counts()\n",
    "a20=age20.Walc.value_counts()\n",
    "a21=age21.Walc.value_counts()\n",
    "a22=age22.Walc.value_counts()\n",
    "\n",
    "age_Walc = pd.concat([a15,a16,a17,a18,a19,a20,a21,a22,all], axis=1,sort=True, \n",
    "         keys=[\"Age 15\",\"Age 16\",\"Age 17\",\n",
    "                \"Age 18\", \"Age 19\", \"Age 20\", \n",
    "               \"Age 21\",\"Age 22\",\"All Students\"])\n",
    "new_index = ['very low','low','moderate','high','very high']\n",
    "age_Walc = age_Walc.reindex(new_index)"
   ]
  },
  {
   "cell_type": "code",
   "execution_count": 22,
   "metadata": {},
   "outputs": [
    {
     "data": {
      "text/html": [
       "<div>\n",
       "<style scoped>\n",
       "    .dataframe tbody tr th:only-of-type {\n",
       "        vertical-align: middle;\n",
       "    }\n",
       "\n",
       "    .dataframe tbody tr th {\n",
       "        vertical-align: top;\n",
       "    }\n",
       "\n",
       "    .dataframe thead tr th {\n",
       "        text-align: left;\n",
       "    }\n",
       "</style>\n",
       "<table border=\"1\" class=\"dataframe\">\n",
       "  <thead>\n",
       "    <tr>\n",
       "      <th></th>\n",
       "      <th colspan=\"9\" halign=\"left\">Weekdays Alcohol Consumption by Age</th>\n",
       "      <th colspan=\"9\" halign=\"left\">Weekends Alcohol Consumption by Age</th>\n",
       "    </tr>\n",
       "    <tr>\n",
       "      <th></th>\n",
       "      <th>Age 15</th>\n",
       "      <th>Age 16</th>\n",
       "      <th>Age 17</th>\n",
       "      <th>Age 18</th>\n",
       "      <th>Age 19</th>\n",
       "      <th>Age 20</th>\n",
       "      <th>Age 21</th>\n",
       "      <th>Age 22</th>\n",
       "      <th>All Students</th>\n",
       "      <th>Age 15</th>\n",
       "      <th>Age 16</th>\n",
       "      <th>Age 17</th>\n",
       "      <th>Age 18</th>\n",
       "      <th>Age 19</th>\n",
       "      <th>Age 20</th>\n",
       "      <th>Age 21</th>\n",
       "      <th>Age 22</th>\n",
       "      <th>All Students</th>\n",
       "    </tr>\n",
       "  </thead>\n",
       "  <tbody>\n",
       "    <tr>\n",
       "      <th>very low</th>\n",
       "      <td>82</td>\n",
       "      <td>131</td>\n",
       "      <td>120</td>\n",
       "      <td>100</td>\n",
       "      <td>30</td>\n",
       "      <td>5</td>\n",
       "      <td>1</td>\n",
       "      <td>0</td>\n",
       "      <td>469</td>\n",
       "      <td>56</td>\n",
       "      <td>72</td>\n",
       "      <td>54</td>\n",
       "      <td>51</td>\n",
       "      <td>20</td>\n",
       "      <td>3</td>\n",
       "      <td>1</td>\n",
       "      <td>0</td>\n",
       "      <td>257</td>\n",
       "    </tr>\n",
       "    <tr>\n",
       "      <th>low</th>\n",
       "      <td>22</td>\n",
       "      <td>34</td>\n",
       "      <td>36</td>\n",
       "      <td>26</td>\n",
       "      <td>5</td>\n",
       "      <td>2</td>\n",
       "      <td>0</td>\n",
       "      <td>0</td>\n",
       "      <td>125</td>\n",
       "      <td>20</td>\n",
       "      <td>43</td>\n",
       "      <td>48</td>\n",
       "      <td>34</td>\n",
       "      <td>8</td>\n",
       "      <td>1</td>\n",
       "      <td>1</td>\n",
       "      <td>0</td>\n",
       "      <td>155</td>\n",
       "    </tr>\n",
       "    <tr>\n",
       "      <th>moderate</th>\n",
       "      <td>7</td>\n",
       "      <td>8</td>\n",
       "      <td>15</td>\n",
       "      <td>8</td>\n",
       "      <td>6</td>\n",
       "      <td>0</td>\n",
       "      <td>1</td>\n",
       "      <td>0</td>\n",
       "      <td>45</td>\n",
       "      <td>20</td>\n",
       "      <td>26</td>\n",
       "      <td>40</td>\n",
       "      <td>25</td>\n",
       "      <td>12</td>\n",
       "      <td>1</td>\n",
       "      <td>1</td>\n",
       "      <td>0</td>\n",
       "      <td>125</td>\n",
       "    </tr>\n",
       "    <tr>\n",
       "      <th>high</th>\n",
       "      <td>1</td>\n",
       "      <td>3</td>\n",
       "      <td>3</td>\n",
       "      <td>6</td>\n",
       "      <td>4</td>\n",
       "      <td>1</td>\n",
       "      <td>0</td>\n",
       "      <td>0</td>\n",
       "      <td>18</td>\n",
       "      <td>12</td>\n",
       "      <td>26</td>\n",
       "      <td>22</td>\n",
       "      <td>24</td>\n",
       "      <td>5</td>\n",
       "      <td>2</td>\n",
       "      <td>0</td>\n",
       "      <td>0</td>\n",
       "      <td>91</td>\n",
       "    </tr>\n",
       "    <tr>\n",
       "      <th>very high</th>\n",
       "      <td>1</td>\n",
       "      <td>3</td>\n",
       "      <td>6</td>\n",
       "      <td>5</td>\n",
       "      <td>0</td>\n",
       "      <td>0</td>\n",
       "      <td>1</td>\n",
       "      <td>1</td>\n",
       "      <td>17</td>\n",
       "      <td>5</td>\n",
       "      <td>12</td>\n",
       "      <td>16</td>\n",
       "      <td>11</td>\n",
       "      <td>0</td>\n",
       "      <td>1</td>\n",
       "      <td>0</td>\n",
       "      <td>1</td>\n",
       "      <td>46</td>\n",
       "    </tr>\n",
       "  </tbody>\n",
       "</table>\n",
       "</div>"
      ],
      "text/plain": [
       "          Weekdays Alcohol Consumption by Age                              \\\n",
       "                                       Age 15 Age 16 Age 17 Age 18 Age 19   \n",
       "very low                                   82    131    120    100     30   \n",
       "low                                        22     34     36     26      5   \n",
       "moderate                                    7      8     15      8      6   \n",
       "high                                        1      3      3      6      4   \n",
       "very high                                   1      3      6      5      0   \n",
       "\n",
       "                                             \\\n",
       "          Age 20 Age 21 Age 22 All Students   \n",
       "very low       5      1      0          469   \n",
       "low            2      0      0          125   \n",
       "moderate       0      1      0           45   \n",
       "high           1      0      0           18   \n",
       "very high      0      1      1           17   \n",
       "\n",
       "          Weekends Alcohol Consumption by Age                              \\\n",
       "                                       Age 15 Age 16 Age 17 Age 18 Age 19   \n",
       "very low                                   56     72     54     51     20   \n",
       "low                                        20     43     48     34      8   \n",
       "moderate                                   20     26     40     25     12   \n",
       "high                                       12     26     22     24      5   \n",
       "very high                                   5     12     16     11      0   \n",
       "\n",
       "                                             \n",
       "          Age 20 Age 21 Age 22 All Students  \n",
       "very low       3      1      0          257  \n",
       "low            1      1      0          155  \n",
       "moderate       1      1      0          125  \n",
       "high           2      0      0           91  \n",
       "very high      1      0      1           46  "
      ]
     },
     "execution_count": 22,
     "metadata": {},
     "output_type": "execute_result"
    }
   ],
   "source": [
    "age_tacl = pd.concat([age_Dalc,age_Walc], axis=1,\n",
    "         keys=['Weekdays Alcohol Consumption by Age',\n",
    "               'Weekends Alcohol Consumption by Age'])\n",
    "age_tacl"
   ]
  },
  {
   "cell_type": "markdown",
   "metadata": {},
   "source": [
    "#### We will combine age groups to create 3 new groups and compare the consumption level \n",
    "New groups consists of the following:<br>\n",
    "__mid teens__: ages 15 and 16<br>\n",
    "__late teens__: ages 17 and 18<br>\n",
    "__adult__: ages 19 to 22 "
   ]
  },
  {
   "cell_type": "code",
   "execution_count": 23,
   "metadata": {},
   "outputs": [],
   "source": [
    "# Create new age groups\n",
    "\n",
    "mid_teens = data[((data.age > 14) & (data.age < 17))]\n",
    "late_teens = data[((data.age > 16) & (data.age < 19))]\n",
    "adult = data[((data.age > 18) & (data.age < 23))]"
   ]
  },
  {
   "cell_type": "code",
   "execution_count": 24,
   "metadata": {},
   "outputs": [],
   "source": [
    "# New age groups alcohol consumption on weekdays ratio\n",
    "\n",
    "mt_Dalc = pd.crosstab(index=mid_teens['Dalc'],\n",
    "                      columns='count')\n",
    "mt_Dalc = mt_Dalc.reindex(new_index)\n",
    "mt_Dalc = mt_Dalc/mt_Dalc.sum()\n",
    "\n",
    "lt_Dalc = pd.crosstab(index=late_teens['Dalc'],\n",
    "                      columns='count')\n",
    "lt_Dalc = lt_Dalc.reindex(new_index)\n",
    "lt_Dalc = lt_Dalc/lt_Dalc.sum()\n",
    "ad_Dalc = pd.crosstab(index=adult['Dalc'],\n",
    "                      columns='count')\n",
    "ad_Dalc = ad_Dalc.reindex(new_index)\n",
    "ad_Dalc = ad_Dalc/ad_Dalc.sum()\n"
   ]
  },
  {
   "cell_type": "code",
   "execution_count": 25,
   "metadata": {},
   "outputs": [],
   "source": [
    "# New age groups alcohol consumption on weekends ratio\n",
    "\n",
    "mt_Walc = pd.crosstab(index=mid_teens['Walc'],\n",
    "                      columns='count')\n",
    "mt_Walc = mt_Walc.reindex(new_index)\n",
    "mt_Walc = mt_Walc/mt_Walc.sum()\n",
    "\n",
    "lt_Walc = pd.crosstab(index=late_teens['Walc'],\n",
    "                      columns='count')\n",
    "lt_Walc = lt_Walc.reindex(new_index)\n",
    "lt_Walc = lt_Walc/lt_Walc.sum()\n",
    "ad_Walc = pd.crosstab(index=adult['Walc'],\n",
    "                      columns='count')\n",
    "ad_Walc = ad_Walc.reindex(new_index)\n",
    "ad_Walc = ad_Walc/ad_Walc.sum()\n",
    "\n"
   ]
  },
  {
   "cell_type": "code",
   "execution_count": 26,
   "metadata": {},
   "outputs": [
    {
     "data": {
      "image/png": "[encoded data removed]",
      "text/plain": [
       "<Figure size 720x360 with 1 Axes>"
      ]
     },
     "metadata": {
      "needs_background": "light"
     },
     "output_type": "display_data"
    },
    {
     "data": {
      "image/png": "[encoded data removed]",
      "text/plain": [
       "<Figure size 720x360 with 1 Axes>"
      ]
     },
     "metadata": {
      "needs_background": "light"
     },
     "output_type": "display_data"
    }
   ],
   "source": [
    "\n",
    "plt.style.use(\"bmh\")\n",
    "plt.figure(figsize=(10,5))\n",
    "plt.plot(mt_Dalc,color=\"skyblue\",linestyle=\"--\",marker=\"X\", \n",
    "         markersize=10,label=\"Mid Teens\")\n",
    "plt.plot(lt_Dalc,color=\"orange\",linestyle=\"--\",marker=\"X\", \n",
    "         markersize=10,label=\"Late Teens\")\n",
    "plt.plot(ad_Dalc,color=\"green\",linestyle=\"--\",marker=\"X\", \n",
    "         markersize=10,label=\"Adult\")\n",
    "plt.title(\"Age Groups Alcohol Consumption on a Weekdays\")\n",
    "plt.xlabel(\"Alcohol Consumption\")\n",
    "plt.ylabel(\"Ratio of Students\")\n",
    "plt.legend()\n",
    "plt.show()\n",
    "\n",
    "plt.style.use(\"bmh\")\n",
    "plt.figure(figsize=(10,5))\n",
    "plt.plot(mt_Walc,color=\"skyblue\",linestyle=\"--\",marker=\"X\", \n",
    "         markersize=10,label=\"Mid Teens\")\n",
    "plt.plot(lt_Walc,color=\"orange\",linestyle=\"--\",marker=\"X\", \n",
    "         markersize=10,label=\"Late Teens\")\n",
    "plt.plot(ad_Walc,color=\"green\",linestyle=\"--\",marker=\"X\", \n",
    "         markersize=10,label=\"Adult\")\n",
    "plt.title(\"Age Groups Alcohol Consumption on a Weekends\")\n",
    "plt.xlabel(\"Alcohol Consumption\")\n",
    "plt.ylabel(\"Ratio of Students\")\n",
    "plt.legend()\n",
    "plt.show()"
   ]
  },
  {
   "cell_type": "markdown",
   "metadata": {},
   "source": [
    "On weekdays, mid and late teens drinking patterns are almost parallel to each other. Most of students in their mid and late teens are relatively light drinkers. The adult age group also has similar trends until we reach the moderate to very high alcohol consumption level. Whereas mid and late teens continue to experience a dip from moderate to very high levels, the adult group is more stagnant since students in this group consume higher amounts of alcohol than other groups.<br>\n",
    "\n",
    "In contrast, there is a change in drinking trends from weekdays to weekends. The mid teens and adult group experience fluctuation from very low to very high alcohol consumption. Meanwhile the late teens group is a linear decline. According to the weekend graph, it’s a bit difficult to determine whether late teens or adult age group consume more alcohol. Next, we will consult an alcohol consumption crosstab table. "
   ]
  },
  {
   "cell_type": "code",
   "execution_count": 27,
   "metadata": {},
   "outputs": [
    {
     "data": {
      "text/html": [
       "<div>\n",
       "<style scoped>\n",
       "    .dataframe tbody tr th:only-of-type {\n",
       "        vertical-align: middle;\n",
       "    }\n",
       "\n",
       "    .dataframe tbody tr th {\n",
       "        vertical-align: top;\n",
       "    }\n",
       "\n",
       "    .dataframe thead tr th {\n",
       "        text-align: left;\n",
       "    }\n",
       "\n",
       "    .dataframe thead tr:last-of-type th {\n",
       "        text-align: right;\n",
       "    }\n",
       "</style>\n",
       "<table border=\"1\" class=\"dataframe\">\n",
       "  <thead>\n",
       "    <tr>\n",
       "      <th></th>\n",
       "      <th>Mid Teens Alcohol Consumption Weekdays</th>\n",
       "      <th>Late Teens Alcohol Consumption Weekdays</th>\n",
       "      <th>Adult Alcohol Consumption Weekdays</th>\n",
       "    </tr>\n",
       "    <tr>\n",
       "      <th>col_0</th>\n",
       "      <th>count</th>\n",
       "      <th>count</th>\n",
       "      <th>count</th>\n",
       "    </tr>\n",
       "    <tr>\n",
       "      <th>Dalc</th>\n",
       "      <th></th>\n",
       "      <th></th>\n",
       "      <th></th>\n",
       "    </tr>\n",
       "  </thead>\n",
       "  <tbody>\n",
       "    <tr>\n",
       "      <th>very low</th>\n",
       "      <td>0.729452</td>\n",
       "      <td>0.676923</td>\n",
       "      <td>0.631579</td>\n",
       "    </tr>\n",
       "    <tr>\n",
       "      <th>low</th>\n",
       "      <td>0.191781</td>\n",
       "      <td>0.190769</td>\n",
       "      <td>0.122807</td>\n",
       "    </tr>\n",
       "    <tr>\n",
       "      <th>moderate</th>\n",
       "      <td>0.051370</td>\n",
       "      <td>0.070769</td>\n",
       "      <td>0.122807</td>\n",
       "    </tr>\n",
       "    <tr>\n",
       "      <th>high</th>\n",
       "      <td>0.013699</td>\n",
       "      <td>0.027692</td>\n",
       "      <td>0.087719</td>\n",
       "    </tr>\n",
       "    <tr>\n",
       "      <th>very high</th>\n",
       "      <td>0.013699</td>\n",
       "      <td>0.033846</td>\n",
       "      <td>0.035088</td>\n",
       "    </tr>\n",
       "  </tbody>\n",
       "</table>\n",
       "</div>"
      ],
      "text/plain": [
       "          Mid Teens Alcohol Consumption Weekdays  \\\n",
       "col_0                                      count   \n",
       "Dalc                                               \n",
       "very low                                0.729452   \n",
       "low                                     0.191781   \n",
       "moderate                                0.051370   \n",
       "high                                    0.013699   \n",
       "very high                               0.013699   \n",
       "\n",
       "          Late Teens Alcohol Consumption Weekdays  \\\n",
       "col_0                                       count   \n",
       "Dalc                                                \n",
       "very low                                 0.676923   \n",
       "low                                      0.190769   \n",
       "moderate                                 0.070769   \n",
       "high                                     0.027692   \n",
       "very high                                0.033846   \n",
       "\n",
       "          Adult Alcohol Consumption Weekdays  \n",
       "col_0                                  count  \n",
       "Dalc                                          \n",
       "very low                            0.631579  \n",
       "low                                 0.122807  \n",
       "moderate                            0.122807  \n",
       "high                                0.087719  \n",
       "very high                           0.035088  "
      ]
     },
     "execution_count": 27,
     "metadata": {},
     "output_type": "execute_result"
    }
   ],
   "source": [
    "# New age groups alcohol consumption on weekdays ratio\n",
    "\n",
    "pd.concat([mt_Dalc,lt_Dalc,ad_Dalc], axis=1,\n",
    "         keys=['Mid Teens Alcohol Consumption Weekdays',\n",
    "               'Late Teens Alcohol Consumption Weekdays',\n",
    "              'Adult Alcohol Consumption Weekdays'])"
   ]
  },
  {
   "cell_type": "code",
   "execution_count": 28,
   "metadata": {},
   "outputs": [
    {
     "data": {
      "text/html": [
       "<div>\n",
       "<style scoped>\n",
       "    .dataframe tbody tr th:only-of-type {\n",
       "        vertical-align: middle;\n",
       "    }\n",
       "\n",
       "    .dataframe tbody tr th {\n",
       "        vertical-align: top;\n",
       "    }\n",
       "\n",
       "    .dataframe thead tr th {\n",
       "        text-align: left;\n",
       "    }\n",
       "\n",
       "    .dataframe thead tr:last-of-type th {\n",
       "        text-align: right;\n",
       "    }\n",
       "</style>\n",
       "<table border=\"1\" class=\"dataframe\">\n",
       "  <thead>\n",
       "    <tr>\n",
       "      <th></th>\n",
       "      <th>Mid Teens Alcohol Consumption Weekends</th>\n",
       "      <th>Late Teens Alcohol Consumption Weekends</th>\n",
       "      <th>Adult Alcohol Consumption Weekends</th>\n",
       "    </tr>\n",
       "    <tr>\n",
       "      <th>col_0</th>\n",
       "      <th>count</th>\n",
       "      <th>count</th>\n",
       "      <th>count</th>\n",
       "    </tr>\n",
       "    <tr>\n",
       "      <th>Walc</th>\n",
       "      <th></th>\n",
       "      <th></th>\n",
       "      <th></th>\n",
       "    </tr>\n",
       "  </thead>\n",
       "  <tbody>\n",
       "    <tr>\n",
       "      <th>very low</th>\n",
       "      <td>0.438356</td>\n",
       "      <td>0.323077</td>\n",
       "      <td>0.421053</td>\n",
       "    </tr>\n",
       "    <tr>\n",
       "      <th>low</th>\n",
       "      <td>0.215753</td>\n",
       "      <td>0.252308</td>\n",
       "      <td>0.175439</td>\n",
       "    </tr>\n",
       "    <tr>\n",
       "      <th>moderate</th>\n",
       "      <td>0.157534</td>\n",
       "      <td>0.200000</td>\n",
       "      <td>0.245614</td>\n",
       "    </tr>\n",
       "    <tr>\n",
       "      <th>high</th>\n",
       "      <td>0.130137</td>\n",
       "      <td>0.141538</td>\n",
       "      <td>0.122807</td>\n",
       "    </tr>\n",
       "    <tr>\n",
       "      <th>very high</th>\n",
       "      <td>0.058219</td>\n",
       "      <td>0.083077</td>\n",
       "      <td>0.035088</td>\n",
       "    </tr>\n",
       "  </tbody>\n",
       "</table>\n",
       "</div>"
      ],
      "text/plain": [
       "          Mid Teens Alcohol Consumption Weekends  \\\n",
       "col_0                                      count   \n",
       "Walc                                               \n",
       "very low                                0.438356   \n",
       "low                                     0.215753   \n",
       "moderate                                0.157534   \n",
       "high                                    0.130137   \n",
       "very high                               0.058219   \n",
       "\n",
       "          Late Teens Alcohol Consumption Weekends  \\\n",
       "col_0                                       count   \n",
       "Walc                                                \n",
       "very low                                 0.323077   \n",
       "low                                      0.252308   \n",
       "moderate                                 0.200000   \n",
       "high                                     0.141538   \n",
       "very high                                0.083077   \n",
       "\n",
       "          Adult Alcohol Consumption Weekends  \n",
       "col_0                                  count  \n",
       "Walc                                          \n",
       "very low                            0.421053  \n",
       "low                                 0.175439  \n",
       "moderate                            0.245614  \n",
       "high                                0.122807  \n",
       "very high                           0.035088  "
      ]
     },
     "execution_count": 28,
     "metadata": {},
     "output_type": "execute_result"
    }
   ],
   "source": [
    "# New age groups alcohol consumption on weekdays ratio\n",
    "\n",
    "pd.concat([mt_Walc,lt_Walc,ad_Walc], axis=1,\n",
    "         keys=['Mid Teens Alcohol Consumption Weekends',\n",
    "               'Late Teens Alcohol Consumption Weekends',\n",
    "              'Adult Alcohol Consumption Weekends'])"
   ]
  },
  {
   "cell_type": "markdown",
   "metadata": {},
   "source": [
    "If we reference the weekend ratio table, 42.4% of late teens experience increase alcohol consumption while only 40.2% of students in the adult group increase their consumption level on weekends. We can conclude that the adult age group consumes the most alcohol during weekdays while late teens drink slightly more than adults on weekends. "
   ]
  },
  {
   "cell_type": "markdown",
   "metadata": {},
   "source": [
    "## Exploring gender"
   ]
  },
  {
   "cell_type": "code",
   "execution_count": 29,
   "metadata": {},
   "outputs": [
    {
     "data": {
      "image/png": "[encoded data removed]",
      "text/plain": [
       "<Figure size 576x576 with 1 Axes>"
      ]
     },
     "metadata": {},
     "output_type": "display_data"
    }
   ],
   "source": [
    "# Plot students gender\n",
    "\n",
    "sex = data['sex'].value_counts()\n",
    "sex.index = ['F','M']\n",
    "labels = (np.array(sex.index))\n",
    "sizes = (np.array((sex/sex.sum())*100))\n",
    "colors = ['lemonchiffon','powderblue']\n",
    "\n",
    "plt.figure(figsize=(8,8))\n",
    "\n",
    "plt.pie(sizes,labels=labels, colors=colors,autopct='%1.1f%%', \n",
    "        startangle=90)\n",
    "plt.title(\"Gender\")\n",
    "plt.legend(labels)\n",
    "\n",
    "ax1.axis('equal')  \n",
    "plt.tight_layout()\n",
    "plt.show()"
   ]
  },
  {
   "cell_type": "markdown",
   "metadata": {},
   "source": [
    "The dataset consists of 58.8% female students and 41.2% male students."
   ]
  },
  {
   "cell_type": "markdown",
   "metadata": {},
   "source": [
    "### Which gender consumes more alcohol weekly?"
   ]
  },
  {
   "cell_type": "code",
   "execution_count": 30,
   "metadata": {},
   "outputs": [],
   "source": [
    "# Create geneders\n",
    "\n",
    "female = data[data.sex==\"F\"]\n",
    "male = data[data.sex==\"M\"]\n"
   ]
  },
  {
   "cell_type": "code",
   "execution_count": 31,
   "metadata": {},
   "outputs": [],
   "source": [
    "# Gender alcohol consumption on weekdays ratio\n",
    "\n",
    "f_Dalc = pd.crosstab(index=female['Dalc'],\n",
    "                      columns='count')\n",
    "f_Dalc = f_Dalc.reindex(new_index)\n",
    "f_Dalc = f_Dalc/f_Dalc.sum()\n",
    "\n",
    "m_Dalc = pd.crosstab(index=male['Dalc'],\n",
    "                      columns='count')\n",
    "m_Dalc = m_Dalc.reindex(new_index)\n",
    "m_Dalc = m_Dalc/m_Dalc.sum()\n"
   ]
  },
  {
   "cell_type": "code",
   "execution_count": 32,
   "metadata": {},
   "outputs": [
    {
     "data": {
      "image/png": "[encoded data removed]",
      "text/plain": [
       "<Figure size 432x288 with 1 Axes>"
      ]
     },
     "metadata": {},
     "output_type": "display_data"
    },
    {
     "data": {
      "image/png": "[encoded data removed]",
      "text/plain": [
       "<Figure size 432x288 with 1 Axes>"
      ]
     },
     "metadata": {},
     "output_type": "display_data"
    }
   ],
   "source": [
    "# Female Consumption during Weekdays\n",
    "female= f_Dalc\n",
    "\n",
    "colors='yellowgreen', 'gold', 'lightskyblue', 'lightcoral', 'orchid'\n",
    "labels=['very low','low','moderate','high','very high']\n",
    "\n",
    "fig1, ax1 = plt.subplots()\n",
    "\n",
    "#explsion\n",
    "explode = (0.05,0.05,0.05,0.05,0.05)\n",
    "\n",
    "ax1.pie(female, colors = colors, labels=labels,autopct='%1.1f%%', \n",
    "        startangle=90, pctdistance=0.85, explode=explode)\n",
    "plt.title(\"Female Students Alcohol Consumption on a Weekdays\")\n",
    "\n",
    "# Draw a circle\n",
    "centre_circle = plt.Circle((0,0),0.70,fc='white')\n",
    "fig = plt.gcf()\n",
    "fig.gca().add_artist(centre_circle)\n",
    "\n",
    "# Equal aspect ratio ensures that pie is drawn as a circle\n",
    "plt.axis('equal') \n",
    "plt.tight_layout()\n",
    "plt.show()\n",
    "\n",
    "# Male Consumption during Weekdays\n",
    "male= m_Dalc\n",
    "\n",
    "colors='yellowgreen', 'gold', 'lightskyblue', 'lightcoral', 'orchid'\n",
    "\n",
    "fig1, ax1 = plt.subplots()\n",
    "\n",
    "#explsion\n",
    "explode = (0.05,0.05,0.05,0.05,0.05)\n",
    "\n",
    "ax1.pie(male, colors = colors, labels=labels, autopct='%1.1f%%', \n",
    "        startangle=90, pctdistance=0.85, explode=explode)\n",
    "plt.title(\"Male Students Alcohol Consumption on a Weekdays\")\n",
    "\n",
    "# Draw a circle\n",
    "centre_circle = plt.Circle((0,0),0.70,fc='white')\n",
    "fig = plt.gcf()\n",
    "fig.gca().add_artist(centre_circle)\n",
    "\n",
    "# Equal aspect ratio ensures that pie is drawn as a circle\n",
    "plt.axis('equal') \n",
    "plt.tight_layout()\n",
    "plt.show()"
   ]
  },
  {
   "cell_type": "markdown",
   "metadata": {},
   "source": [
    "Base on the pie charts above, female students generally consume lower amounts of alcohol than male students during weekdays. While 90% of females identified themselves as light drinkers, approximately 65% of male students have a low intake of alcohol. Let's see if this changes over the weekend."
   ]
  },
  {
   "cell_type": "code",
   "execution_count": 33,
   "metadata": {},
   "outputs": [],
   "source": [
    "# Gender alcohol consumption on weekends ratio\n",
    "\n",
    "female = data[data.sex==\"F\"]\n",
    "male = data[data.sex==\"M\"]\n",
    "\n",
    "f_Walc = pd.crosstab(index=female['Walc'],\n",
    "                      columns='count')\n",
    "f_Walc = f_Walc.reindex(new_index)\n",
    "f_Walc = f_Walc/f_Walc.sum()\n",
    "\n",
    "m_Walc = pd.crosstab(index=male['Walc'],\n",
    "                      columns='count')\n",
    "m_Walc = m_Walc.reindex(new_index)\n",
    "m_Walc = m_Walc/m_Walc.sum()\n"
   ]
  },
  {
   "cell_type": "code",
   "execution_count": 34,
   "metadata": {},
   "outputs": [
    {
     "data": {
      "image/png": "[encoded data removed]",
      "text/plain": [
       "<Figure size 432x288 with 1 Axes>"
      ]
     },
     "metadata": {},
     "output_type": "display_data"
    },
    {
     "data": {
      "image/png": "[encoded data removed]",
      "text/plain": [
       "<Figure size 432x288 with 1 Axes>"
      ]
     },
     "metadata": {},
     "output_type": "display_data"
    }
   ],
   "source": [
    "# Female Consumption during Weekends\n",
    "female= f_Walc\n",
    "\n",
    "colors='yellowgreen', 'gold', 'lightskyblue', 'lightcoral', 'orchid'\n",
    "labels=['very low','low','moderate','high','very high']\n",
    "\n",
    "fig1, ax1 = plt.subplots()\n",
    "\n",
    "#explsion\n",
    "explode = (0.05,0.05,0.05,0.05,0.05)\n",
    "\n",
    "ax1.pie(female, colors = colors, labels=labels,autopct='%1.1f%%', \n",
    "        startangle=90, pctdistance=0.85, explode=explode)\n",
    "plt.title(\"Female Students Alcohol Consumption on a Weekends\")\n",
    "\n",
    "# Draw a circle\n",
    "centre_circle = plt.Circle((0,0),0.70,fc='white')\n",
    "fig = plt.gcf()\n",
    "fig.gca().add_artist(centre_circle)\n",
    "\n",
    "# Equal aspect ratio ensures that pie is drawn as a circle\n",
    "plt.axis('equal') \n",
    "plt.tight_layout()\n",
    "plt.show()\n",
    "\n",
    "# Male Consumption during Weekends\n",
    "male= m_Walc\n",
    "\n",
    "colors='yellowgreen', 'gold', 'lightskyblue', 'lightcoral', 'orchid'\n",
    "\n",
    "fig1, ax1 = plt.subplots()\n",
    "\n",
    "#explsion\n",
    "explode = (0.05,0.05,0.05,0.05,0.05)\n",
    "\n",
    "ax1.pie(male, colors = colors, labels=labels, autopct='%1.1f%%', \n",
    "        startangle=90, pctdistance=0.85, explode=explode)\n",
    "plt.title(\"Male Students Alcohol Consumption on a Weekends\")\n",
    "\n",
    "# Draw a circle\n",
    "centre_circle = plt.Circle((0,0),0.70,fc='white')\n",
    "fig = plt.gcf()\n",
    "fig.gca().add_artist(centre_circle)\n",
    "\n",
    "# Equal aspect ratio ensures that pie is drawn as a circle\n",
    "plt.axis('equal') \n",
    "plt.tight_layout()\n",
    "plt.show()"
   ]
  },
  {
   "cell_type": "markdown",
   "metadata": {},
   "source": [
    "There is a distinctive difference between female and male students alcohol consumption during weekends. Only 28% of female students consume moderate to very high levels of alcohol. In contrast, more than half of male students claim to consume moderate to very heavy levels of alcohol. "
   ]
  },
  {
   "cell_type": "markdown",
   "metadata": {},
   "source": [
    "## Exploring address"
   ]
  },
  {
   "cell_type": "code",
   "execution_count": 35,
   "metadata": {},
   "outputs": [
    {
     "data": {
      "text/plain": [
       "Text(0.5,1,'Student Address')"
      ]
     },
     "execution_count": 35,
     "metadata": {},
     "output_type": "execute_result"
    },
    {
     "data": {
      "image/png": "[encoded data removed]",
      "text/plain": [
       "<Figure size 360x360 with 1 Axes>"
      ]
     },
     "metadata": {
      "needs_background": "light"
     },
     "output_type": "display_data"
    }
   ],
   "source": [
    "sns.catplot(x=\"address\", kind='count', data=data)\n",
    "plt.title(\"Student Address\")"
   ]
  },
  {
   "cell_type": "markdown",
   "metadata": {},
   "source": [
    "Majority of students reside in urban areas while only a third of the population are in rural settings."
   ]
  },
  {
   "cell_type": "markdown",
   "metadata": {},
   "source": [
    "### Do students in ubran areas consume more alcohol than those who live in rural areas?"
   ]
  },
  {
   "cell_type": "code",
   "execution_count": 36,
   "metadata": {},
   "outputs": [
    {
     "data": {
      "image/png": "[encoded data removed]",
      "text/plain": [
       "<Figure size 432x288 with 1 Axes>"
      ]
     },
     "metadata": {
      "needs_background": "light"
     },
     "output_type": "display_data"
    },
    {
     "data": {
      "image/png": "[encoded data removed]",
      "text/plain": [
       "<Figure size 432x288 with 1 Axes>"
      ]
     },
     "metadata": {
      "needs_background": "light"
     },
     "output_type": "display_data"
    }
   ],
   "source": [
    "# Plot Student Alcohol Weekly Consumption Ratio by Schools\n",
    "\n",
    "add_Dalc = pd.crosstab(index=data['Dalc'],\n",
    "                      columns=data['address'])\n",
    "new_index = ['very low','low','moderate','high','very high']\n",
    "add_Dalc = add_Dalc.reindex(new_index)\n",
    "add_Dalc = add_Dalc/add_Dalc.sum()\n",
    "\n",
    "add_Walc = pd.crosstab(index=data['Walc'],\n",
    "                      columns=data['address'])\n",
    "add_Walc = add_Walc.reindex(new_index)\n",
    "add_Walc = add_Walc/add_Walc.sum()\n",
    "\n",
    "\n",
    "add_Dalc.plot(kind='bar',\n",
    "              title='Student Alcohol Weekdays Consumption by Address')\n",
    "plt.show()\n",
    "\n",
    "add_Walc.plot(kind='bar',\n",
    "             title='Student Alcohol Weekends Consumption by Address')\n",
    "plt.show()"
   ]
  },
  {
   "cell_type": "markdown",
   "metadata": {},
   "source": [
    "In the bar graphs above, students in both settings generally consume low levels of alcohol consumption throughout the entire week. During weekedays, we can assume that students in rural areas drink more than students in urbans settings. However, it is not clear which group consumes more alcohol during weekends so we will follow with a crosstab table. "
   ]
  },
  {
   "cell_type": "code",
   "execution_count": 37,
   "metadata": {},
   "outputs": [
    {
     "data": {
      "text/html": [
       "<div>\n",
       "<style scoped>\n",
       "    .dataframe tbody tr th:only-of-type {\n",
       "        vertical-align: middle;\n",
       "    }\n",
       "\n",
       "    .dataframe tbody tr th {\n",
       "        vertical-align: top;\n",
       "    }\n",
       "\n",
       "    .dataframe thead tr th {\n",
       "        text-align: left;\n",
       "    }\n",
       "</style>\n",
       "<table border=\"1\" class=\"dataframe\">\n",
       "  <thead>\n",
       "    <tr>\n",
       "      <th></th>\n",
       "      <th colspan=\"2\" halign=\"left\">Students Alcohol Consumption on Weekdays</th>\n",
       "      <th colspan=\"2\" halign=\"left\">Students Alcohol Consumption on Weekends</th>\n",
       "    </tr>\n",
       "    <tr>\n",
       "      <th>address</th>\n",
       "      <th>R</th>\n",
       "      <th>U</th>\n",
       "      <th>R</th>\n",
       "      <th>U</th>\n",
       "    </tr>\n",
       "  </thead>\n",
       "  <tbody>\n",
       "    <tr>\n",
       "      <th>very low</th>\n",
       "      <td>0.656863</td>\n",
       "      <td>0.712766</td>\n",
       "      <td>0.357843</td>\n",
       "      <td>0.391489</td>\n",
       "    </tr>\n",
       "    <tr>\n",
       "      <th>low</th>\n",
       "      <td>0.196078</td>\n",
       "      <td>0.180851</td>\n",
       "      <td>0.245098</td>\n",
       "      <td>0.223404</td>\n",
       "    </tr>\n",
       "    <tr>\n",
       "      <th>moderate</th>\n",
       "      <td>0.098039</td>\n",
       "      <td>0.053191</td>\n",
       "      <td>0.196078</td>\n",
       "      <td>0.180851</td>\n",
       "    </tr>\n",
       "    <tr>\n",
       "      <th>high</th>\n",
       "      <td>0.024510</td>\n",
       "      <td>0.027660</td>\n",
       "      <td>0.122549</td>\n",
       "      <td>0.140426</td>\n",
       "    </tr>\n",
       "    <tr>\n",
       "      <th>very high</th>\n",
       "      <td>0.024510</td>\n",
       "      <td>0.025532</td>\n",
       "      <td>0.078431</td>\n",
       "      <td>0.063830</td>\n",
       "    </tr>\n",
       "  </tbody>\n",
       "</table>\n",
       "</div>"
      ],
      "text/plain": [
       "          Students Alcohol Consumption on Weekdays            \\\n",
       "address                                          R         U   \n",
       "very low                                  0.656863  0.712766   \n",
       "low                                       0.196078  0.180851   \n",
       "moderate                                  0.098039  0.053191   \n",
       "high                                      0.024510  0.027660   \n",
       "very high                                 0.024510  0.025532   \n",
       "\n",
       "          Students Alcohol Consumption on Weekends            \n",
       "address                                          R         U  \n",
       "very low                                  0.357843  0.391489  \n",
       "low                                       0.245098  0.223404  \n",
       "moderate                                  0.196078  0.180851  \n",
       "high                                      0.122549  0.140426  \n",
       "very high                                 0.078431  0.063830  "
      ]
     },
     "execution_count": 37,
     "metadata": {},
     "output_type": "execute_result"
    }
   ],
   "source": [
    "# Alcohol consumption on a weekly basis ratio by address\n",
    "\n",
    "pd.concat([add_Dalc,add_Walc], axis=1,\n",
    "         keys=['Students Alcohol Consumption on Weekdays',\n",
    "               'Students Alcohol Consumption on Weekends'])"
   ]
  },
  {
   "cell_type": "markdown",
   "metadata": {},
   "source": [
    "During weekdays, 14.6% of students in rural areas and 10.5% from urban areas consume moderate to very high levels of alcohol. This consumption trend remains the same on weekends with a minor difference. The number of student in rural areas that consume moderate to very high levels of alcohol doubles to 39.6% on weekends. Students in urban settings are only slightly behind with 38.3% of students claiming to increase their alcohol intake. \n"
   ]
  },
  {
   "cell_type": "markdown",
   "metadata": {},
   "source": [
    "## Conclusion \n",
    "\n",
    "__Base on the analysis, we can conclude the following__:\n",
    "\n",
    "Generally, students tend to consume higher levels of alcohol during weekends. There also appears to be a positive correlation between increased alcohol consumption and age groups. Students in older age groups consume more alcohol than younger students. Male students also consume more and higher levels of alcohol than female students throughout the week. The data also shows that on average, students residing in urban settings consume less alcohol than students in rural areas. \n",
    "\n",
    "__Limitations__\n",
    "\n",
    "In terms of analyzing the data, most of the variables I selected, particularly weekday and weekend alcohol consumption, were categorical/nominal. This presented a challenge when visualizing the data since I was limited to mainly tables, bar charts, and pie charts. Combining weekday and weekend consumption to reduce the repetition of graphs was not possible since the data was not numeric. \n",
    "\n",
    "Another limitation occurred during the creation of sample data groups.  For example, in determining which age group consumed the most alcohol on a weekly basis, some of the sample groups were significantly small. Age group 15 to 18 had at least 100 students in each group, while ages 20 and up had less than 10 data points. I attempted to increase the sample sizes to more accurately represent the student population by reducing the age groups from 7 to 3. \n",
    "\n",
    "__Recommendations for further analysis__\n",
    "\n",
    "With the current information given, I would like to explore how different attributes interact with each other to better understand the affects of alcohol consumption on students and their performance in school. For example, I would like to see if increased alcohol consumption correlates to low performance in school. If this is true, do variables, such as free time or romantic relationships, influence students to drink?  This information would be meaningful for parents and educators in creating and promoting an environment for student success. "
   ]
  }
 ],
 "metadata": {
  "kernelspec": {
   "display_name": "Python 3",
   "language": "python",
   "name": "python3"
  },
  "language_info": {
   "codemirror_mode": {
    "name": "ipython",
    "version": 3
   },
   "file_extension": ".py",
   "mimetype": "text/x-python",
   "name": "python",
   "nbconvert_exporter": "python",
   "pygments_lexer": "ipython3",
   "version": "3.7.0"
  }
 },
 "nbformat": 4,
 "nbformat_minor": 2
}
