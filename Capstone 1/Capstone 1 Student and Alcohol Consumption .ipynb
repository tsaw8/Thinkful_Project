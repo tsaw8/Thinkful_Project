{
 "cells": [
  {
   "cell_type": "markdown",
   "metadata": {},
   "source": [
    "# Students and Alcohol Consumption\n",
    "\n",
    "### Context\n",
    "[Kaggle’s Student Alcohol Consumption survey](https://www.kaggle.com/uciml/student-alcohol-consumption#student-por.csv) was conducted among students at Gabriel Pereira and Mousinho da Silveira secondary school in Porto, Portugal. Students in math and Portuguese language courses were selected to participate in the data collection. The survery contains various social, gender, and study information about students in regards to predicting their final grade.\n",
    "\n",
    "Since this dataset consists of two parts, math and Portuguese language courses, we will merge together the files and examine it as one set. There are 382 students that belong to both datasets so we will join the files without overlapping data points. We will also assume that this dataset is a representative sample of the entire student population among the schools and each variable is independent of each other. \n"
   ]
  },
  {
   "cell_type": "code",
   "execution_count": 1,
   "metadata": {},
   "outputs": [],
   "source": [
    "# Libraries\n",
    "\n",
    "import matplotlib.pyplot as plt\n",
    "import numpy as np \n",
    "import pandas as pd\n",
    "from statsmodels.graphics.gofplots import qqplot\n",
    "from matplotlib import pyplot\n",
    "import seaborn as sns\n",
    "%matplotlib inline"
   ]
  },
  {
   "cell_type": "code",
   "execution_count": 2,
   "metadata": {},
   "outputs": [],
   "source": [
    "# Load and merge math and Portuguese language course files \n",
    "\n",
    "d1 = pd.read_csv('student-mat.csv')\n",
    "d2 = pd.read_csv(\"student-por.csv\")\n",
    "\n",
    "data = pd.merge(d1, d2, how='outer', on=[\"school\",\"sex\",\"age\",\"address\",\"famsize\",\n",
    "                                         \"Pstatus\",\"Medu\",\"Fedu\",\"Mjob\",\"Fjob\",\n",
    "                                         \"reason\",\"nursery\",\"internet\",\"guardian\",\n",
    "                                         \"traveltime\",\"studytime\",\"famsup\",\"activities\",\n",
    "                                         \"higher\",\"romantic\",\"famrel\",\"freetime\",\n",
    "                                         \"goout\",\"Dalc\",\"Walc\",\"health\",\"schoolsup\"])\n"
   ]
  },
  {
   "cell_type": "code",
   "execution_count": 3,
   "metadata": {},
   "outputs": [],
   "source": [
    "# Convert selected features from numeric to category type\n",
    "\n",
    "data['school'] = data.school.astype('str')\n",
    "data['sex'] = data.sex.astype('str')\n",
    "data['traveltime'] = data.traveltime.astype('str')\n",
    "data['studytime'] = data.studytime.astype('str')\n",
    "data['health'] = data.health.astype('str')\n",
    "\n",
    "data['school'] = data.school.astype('category')\n",
    "data['sex'] = data.sex.astype('category')\n",
    "data['traveltime'] = data.traveltime.astype('category')\n",
    "data['studytime'] = data.studytime.astype('category')\n",
    "data['health'] = data.health.astype('category')"
   ]
  },
  {
   "cell_type": "markdown",
   "metadata": {},
   "source": [
    "### Sample of Dataset"
   ]
  },
  {
   "cell_type": "code",
   "execution_count": 4,
   "metadata": {},
   "outputs": [
    {
     "data": {
      "text/html": [
       "<div>\n",
       "<style scoped>\n",
       "    .dataframe tbody tr th:only-of-type {\n",
       "        vertical-align: middle;\n",
       "    }\n",
       "\n",
       "    .dataframe tbody tr th {\n",
       "        vertical-align: top;\n",
       "    }\n",
       "\n",
       "    .dataframe thead th {\n",
       "        text-align: right;\n",
       "    }\n",
       "</style>\n",
       "<table border=\"1\" class=\"dataframe\">\n",
       "  <thead>\n",
       "    <tr style=\"text-align: right;\">\n",
       "      <th></th>\n",
       "      <th>school</th>\n",
       "      <th>sex</th>\n",
       "      <th>age</th>\n",
       "      <th>address</th>\n",
       "      <th>famsize</th>\n",
       "      <th>Pstatus</th>\n",
       "      <th>Medu</th>\n",
       "      <th>Fedu</th>\n",
       "      <th>Mjob</th>\n",
       "      <th>Fjob</th>\n",
       "      <th>...</th>\n",
       "      <th>absences_x</th>\n",
       "      <th>G1_x</th>\n",
       "      <th>G2_x</th>\n",
       "      <th>G3_x</th>\n",
       "      <th>failures_y</th>\n",
       "      <th>paid_y</th>\n",
       "      <th>absences_y</th>\n",
       "      <th>G1_y</th>\n",
       "      <th>G2_y</th>\n",
       "      <th>G3_y</th>\n",
       "    </tr>\n",
       "  </thead>\n",
       "  <tbody>\n",
       "    <tr>\n",
       "      <th>0</th>\n",
       "      <td>GP</td>\n",
       "      <td>F</td>\n",
       "      <td>18</td>\n",
       "      <td>U</td>\n",
       "      <td>GT3</td>\n",
       "      <td>A</td>\n",
       "      <td>4</td>\n",
       "      <td>4</td>\n",
       "      <td>at_home</td>\n",
       "      <td>teacher</td>\n",
       "      <td>...</td>\n",
       "      <td>6.0</td>\n",
       "      <td>5.0</td>\n",
       "      <td>6.0</td>\n",
       "      <td>6.0</td>\n",
       "      <td>0.0</td>\n",
       "      <td>no</td>\n",
       "      <td>4.0</td>\n",
       "      <td>0.0</td>\n",
       "      <td>11.0</td>\n",
       "      <td>11.0</td>\n",
       "    </tr>\n",
       "    <tr>\n",
       "      <th>1</th>\n",
       "      <td>GP</td>\n",
       "      <td>F</td>\n",
       "      <td>17</td>\n",
       "      <td>U</td>\n",
       "      <td>GT3</td>\n",
       "      <td>T</td>\n",
       "      <td>1</td>\n",
       "      <td>1</td>\n",
       "      <td>at_home</td>\n",
       "      <td>other</td>\n",
       "      <td>...</td>\n",
       "      <td>4.0</td>\n",
       "      <td>5.0</td>\n",
       "      <td>5.0</td>\n",
       "      <td>6.0</td>\n",
       "      <td>0.0</td>\n",
       "      <td>no</td>\n",
       "      <td>2.0</td>\n",
       "      <td>9.0</td>\n",
       "      <td>11.0</td>\n",
       "      <td>11.0</td>\n",
       "    </tr>\n",
       "    <tr>\n",
       "      <th>2</th>\n",
       "      <td>GP</td>\n",
       "      <td>F</td>\n",
       "      <td>15</td>\n",
       "      <td>U</td>\n",
       "      <td>LE3</td>\n",
       "      <td>T</td>\n",
       "      <td>1</td>\n",
       "      <td>1</td>\n",
       "      <td>at_home</td>\n",
       "      <td>other</td>\n",
       "      <td>...</td>\n",
       "      <td>10.0</td>\n",
       "      <td>7.0</td>\n",
       "      <td>8.0</td>\n",
       "      <td>10.0</td>\n",
       "      <td>0.0</td>\n",
       "      <td>no</td>\n",
       "      <td>6.0</td>\n",
       "      <td>12.0</td>\n",
       "      <td>13.0</td>\n",
       "      <td>12.0</td>\n",
       "    </tr>\n",
       "    <tr>\n",
       "      <th>3</th>\n",
       "      <td>GP</td>\n",
       "      <td>F</td>\n",
       "      <td>15</td>\n",
       "      <td>U</td>\n",
       "      <td>GT3</td>\n",
       "      <td>T</td>\n",
       "      <td>4</td>\n",
       "      <td>2</td>\n",
       "      <td>health</td>\n",
       "      <td>services</td>\n",
       "      <td>...</td>\n",
       "      <td>2.0</td>\n",
       "      <td>15.0</td>\n",
       "      <td>14.0</td>\n",
       "      <td>15.0</td>\n",
       "      <td>0.0</td>\n",
       "      <td>no</td>\n",
       "      <td>0.0</td>\n",
       "      <td>14.0</td>\n",
       "      <td>14.0</td>\n",
       "      <td>14.0</td>\n",
       "    </tr>\n",
       "    <tr>\n",
       "      <th>4</th>\n",
       "      <td>GP</td>\n",
       "      <td>F</td>\n",
       "      <td>16</td>\n",
       "      <td>U</td>\n",
       "      <td>GT3</td>\n",
       "      <td>T</td>\n",
       "      <td>3</td>\n",
       "      <td>3</td>\n",
       "      <td>other</td>\n",
       "      <td>other</td>\n",
       "      <td>...</td>\n",
       "      <td>4.0</td>\n",
       "      <td>6.0</td>\n",
       "      <td>10.0</td>\n",
       "      <td>10.0</td>\n",
       "      <td>0.0</td>\n",
       "      <td>no</td>\n",
       "      <td>0.0</td>\n",
       "      <td>11.0</td>\n",
       "      <td>13.0</td>\n",
       "      <td>13.0</td>\n",
       "    </tr>\n",
       "  </tbody>\n",
       "</table>\n",
       "<p>5 rows × 39 columns</p>\n",
       "</div>"
      ],
      "text/plain": [
       "  school sex  age address famsize Pstatus  Medu  Fedu     Mjob      Fjob  \\\n",
       "0     GP   F   18       U     GT3       A     4     4  at_home   teacher   \n",
       "1     GP   F   17       U     GT3       T     1     1  at_home     other   \n",
       "2     GP   F   15       U     LE3       T     1     1  at_home     other   \n",
       "3     GP   F   15       U     GT3       T     4     2   health  services   \n",
       "4     GP   F   16       U     GT3       T     3     3    other     other   \n",
       "\n",
       "   ...  absences_x  G1_x  G2_x  G3_x  failures_y paid_y absences_y  G1_y  \\\n",
       "0  ...         6.0   5.0   6.0   6.0         0.0     no        4.0   0.0   \n",
       "1  ...         4.0   5.0   5.0   6.0         0.0     no        2.0   9.0   \n",
       "2  ...        10.0   7.0   8.0  10.0         0.0     no        6.0  12.0   \n",
       "3  ...         2.0  15.0  14.0  15.0         0.0     no        0.0  14.0   \n",
       "4  ...         4.0   6.0  10.0  10.0         0.0     no        0.0  11.0   \n",
       "\n",
       "   G2_y  G3_y  \n",
       "0  11.0  11.0  \n",
       "1  11.0  11.0  \n",
       "2  13.0  12.0  \n",
       "3  14.0  14.0  \n",
       "4  13.0  13.0  \n",
       "\n",
       "[5 rows x 39 columns]"
      ]
     },
     "metadata": {},
     "output_type": "display_data"
    }
   ],
   "source": [
    "display(data.head())"
   ]
  },
  {
   "cell_type": "markdown",
   "metadata": {},
   "source": [
    "There are 33 attributes to the dataset. A few features that will be explore later include: <br>\n",
    "\n",
    "__school__: student's school (binary: 'GP' - Gabriel Pereira or 'MS' - Mousinho da Silveira)<br>\n",
    "__sex__ : Student's sex (binary: 'F' - female or 'M' - male)<br>\n",
    "__age__ : Student's age (numeric: from 15 to 22)<br>\n",
    "__address__ : Student's home address type (binary: 'U' - urban or 'R' - rural)<br>\n",
    "__traveltime__ : home to school travel time (category: 1 - <15 min., 2 - 15 to 30 min., 3 - 30 min. to 1 hour, or 4 - >1 hour)<br>\n",
    "__studytime__ : weekly study time (category: 1 - <2 hours, 2 - 2 to 5 hours, 3 - 5 to 10 hours, or 4 - >10 hours)<br>\n",
    "__Dalc__ : Weekday alcohol consumption (numeric: from 1 - very low to 5 - very high)<br>\n",
    "__Walc__ : Weekend alcohol consumption (numeric: from 1 - very low to 5 - very high)<br>\n",
    "__health__ : current health status (category: from 1 - very bad to 5 - very good)<br>"
   ]
  },
  {
   "cell_type": "markdown",
   "metadata": {},
   "source": [
    "### Exploring the schools "
   ]
  },
  {
   "cell_type": "code",
   "execution_count": 5,
   "metadata": {},
   "outputs": [
    {
     "data": {
      "text/html": [
       "<div>\n",
       "<style scoped>\n",
       "    .dataframe tbody tr th:only-of-type {\n",
       "        vertical-align: middle;\n",
       "    }\n",
       "\n",
       "    .dataframe tbody tr th {\n",
       "        vertical-align: top;\n",
       "    }\n",
       "\n",
       "    .dataframe thead th {\n",
       "        text-align: right;\n",
       "    }\n",
       "</style>\n",
       "<table border=\"1\" class=\"dataframe\">\n",
       "  <thead>\n",
       "    <tr style=\"text-align: right;\">\n",
       "      <th></th>\n",
       "      <th>school</th>\n",
       "      <th>sex</th>\n",
       "      <th>traveltime</th>\n",
       "      <th>studytime</th>\n",
       "      <th>health</th>\n",
       "    </tr>\n",
       "  </thead>\n",
       "  <tbody>\n",
       "    <tr>\n",
       "      <th>count</th>\n",
       "      <td>441</td>\n",
       "      <td>441</td>\n",
       "      <td>441</td>\n",
       "      <td>441</td>\n",
       "      <td>441</td>\n",
       "    </tr>\n",
       "    <tr>\n",
       "      <th>unique</th>\n",
       "      <td>1</td>\n",
       "      <td>2</td>\n",
       "      <td>4</td>\n",
       "      <td>4</td>\n",
       "      <td>5</td>\n",
       "    </tr>\n",
       "    <tr>\n",
       "      <th>top</th>\n",
       "      <td>GP</td>\n",
       "      <td>F</td>\n",
       "      <td>1</td>\n",
       "      <td>2</td>\n",
       "      <td>5</td>\n",
       "    </tr>\n",
       "    <tr>\n",
       "      <th>freq</th>\n",
       "      <td>441</td>\n",
       "      <td>247</td>\n",
       "      <td>295</td>\n",
       "      <td>215</td>\n",
       "      <td>170</td>\n",
       "    </tr>\n",
       "  </tbody>\n",
       "</table>\n",
       "</div>"
      ],
      "text/plain": [
       "       school  sex traveltime studytime health\n",
       "count     441  441        441       441    441\n",
       "unique      1    2          4         4      5\n",
       "top        GP    F          1         2      5\n",
       "freq      441  247        295       215    170"
      ]
     },
     "execution_count": 5,
     "metadata": {},
     "output_type": "execute_result"
    }
   ],
   "source": [
    "# Gabriel Pereira Secondary School Statistics\n",
    "\n",
    "GP_stud = data[(data.school == 'GP')]\n",
    "GP_trim = GP_stud.loc[:,[\"school\",\"sex\",\"age\", \"address\",\"traveltime\", \n",
    "                         \"studytime\",\"Dalc\",\"Walc\",\"health\"]]\n",
    "\n",
    "GP_trim.describe(include='category')\n"
   ]
  },
  {
   "cell_type": "code",
   "execution_count": 6,
   "metadata": {},
   "outputs": [
    {
     "data": {
      "text/html": [
       "<div>\n",
       "<style scoped>\n",
       "    .dataframe tbody tr th:only-of-type {\n",
       "        vertical-align: middle;\n",
       "    }\n",
       "\n",
       "    .dataframe tbody tr th {\n",
       "        vertical-align: top;\n",
       "    }\n",
       "\n",
       "    .dataframe thead th {\n",
       "        text-align: right;\n",
       "    }\n",
       "</style>\n",
       "<table border=\"1\" class=\"dataframe\">\n",
       "  <thead>\n",
       "    <tr style=\"text-align: right;\">\n",
       "      <th></th>\n",
       "      <th>school</th>\n",
       "      <th>sex</th>\n",
       "      <th>traveltime</th>\n",
       "      <th>studytime</th>\n",
       "      <th>health</th>\n",
       "    </tr>\n",
       "  </thead>\n",
       "  <tbody>\n",
       "    <tr>\n",
       "      <th>count</th>\n",
       "      <td>233</td>\n",
       "      <td>233</td>\n",
       "      <td>233</td>\n",
       "      <td>233</td>\n",
       "      <td>233</td>\n",
       "    </tr>\n",
       "    <tr>\n",
       "      <th>unique</th>\n",
       "      <td>1</td>\n",
       "      <td>2</td>\n",
       "      <td>4</td>\n",
       "      <td>4</td>\n",
       "      <td>5</td>\n",
       "    </tr>\n",
       "    <tr>\n",
       "      <th>top</th>\n",
       "      <td>MS</td>\n",
       "      <td>F</td>\n",
       "      <td>2</td>\n",
       "      <td>2</td>\n",
       "      <td>5</td>\n",
       "    </tr>\n",
       "    <tr>\n",
       "      <th>freq</th>\n",
       "      <td>233</td>\n",
       "      <td>149</td>\n",
       "      <td>107</td>\n",
       "      <td>103</td>\n",
       "      <td>85</td>\n",
       "    </tr>\n",
       "  </tbody>\n",
       "</table>\n",
       "</div>"
      ],
      "text/plain": [
       "       school  sex traveltime studytime health\n",
       "count     233  233        233       233    233\n",
       "unique      1    2          4         4      5\n",
       "top        MS    F          2         2      5\n",
       "freq      233  149        107       103     85"
      ]
     },
     "execution_count": 6,
     "metadata": {},
     "output_type": "execute_result"
    }
   ],
   "source": [
    "# Mousinho da Silveira Secondary School Statistics\n",
    "\n",
    "MS_stud = data[(data.school == 'MS')]\n",
    "MS_trim = MS_stud.loc[:,[\"school\",\"sex\",\"age\", \"address\",\"traveltime\", \n",
    "                         \"studytime\",\"Dalc\",\"Walc\",\"health\"]]\n",
    "\n",
    "MS_trim.describe(include='category')"
   ]
  },
  {
   "cell_type": "markdown",
   "metadata": {},
   "source": [
    "This survey consists of 674 students, 65% of students from Gabriel Pereira Secondary School and 35% of students from Mousinho da Silveira Secondary School. Both the schools have a higher amount of female than male students, 56% females at Gabriel Pereira and 64% females at Mousinho da Silveira. Students attending Mousinho da Silveira Secondary School appear to have a longer commute to school, averaging around 15 minutes while students at Gabriel Pereira travel less than 15 minutes. Students at both schools average in about 2 to 5 hours per week of study time. Students from both schools identified as being very healthy."
   ]
  },
  {
   "cell_type": "code",
   "execution_count": 7,
   "metadata": {},
   "outputs": [
    {
     "data": {
      "image/png": "[encoded data removed]",
      "text/plain": [
       "<Figure size 432x288 with 1 Axes>"
      ]
     },
     "metadata": {
      "needs_background": "light"
     },
     "output_type": "display_data"
    }
   ],
   "source": [
    "# Plot age distribution \n",
    "\n",
    "all= data.age\n",
    "GP= GP_stud.age\n",
    "MS=MS_stud.age\n",
    "\n",
    "box_plot_data=[all,GP,MS]\n",
    "plt.title('Age Distribution Box Plot')\n",
    "plt.ylabel('Age Range')\n",
    "plt.boxplot(box_plot_data,notch='True',patch_artist=True,\n",
    "            labels=['All Students','GP Students','MS Students'])\n",
    "plt.show()"
   ]
  },
  {
   "cell_type": "markdown",
   "metadata": {},
   "source": [
    "According to the box plot, the population age ranges from 15 to 22 years old. The median age for both schools is approximately 17 years old. There does appear to be one outlier, a 22 years old student at GP. This would skew the distribution towards the older age range. "
   ]
  },
  {
   "cell_type": "markdown",
   "metadata": {},
   "source": [
    "### Let's take a look at characteristics of alcohol consumption during weekdays and weekends\n",
    "\n"
   ]
  },
  {
   "cell_type": "markdown",
   "metadata": {},
   "source": [
    "Weekday (Dalc) and weekend alcohol consumption (Walc) are measured on a numeric scale from 1 (very low) to 5 (very high). In order to better conceptualize the value of each number, we will convert the numeric scale to categorical groups. "
   ]
  },
  {
   "cell_type": "code",
   "execution_count": 8,
   "metadata": {},
   "outputs": [],
   "source": [
    "# Convert Alcohol consumption level \n",
    "l = [2,4,6,8,10]\n",
    "labels=\"Very Low\",\"Low\",\"Moderate\",\"High\",\"Very High\""
   ]
  },
  {
   "cell_type": "code",
   "execution_count": 9,
   "metadata": {},
   "outputs": [
    {
     "data": {
      "image/png": "[encoded data removed]",
      "text/plain": [
       "<Figure size 432x288 with 1 Axes>"
      ]
     },
     "metadata": {
      "needs_background": "light"
     },
     "output_type": "display_data"
    }
   ],
   "source": [
    "# Comparing Student Alcohol Consumption on Weekdays and Weekends\n",
    "x = data.Dalc\n",
    "y = data.Walc\n",
    "\n",
    "\n",
    "plt.hist(x, color='orange',bins=np.arange(1, 6), alpha=.5) \n",
    "plt.hist(y, color='purple',bins=np.arange(1, 6), alpha=.5)\n",
    "plt.title('Student Alcohol Consumption on Weekdays and Weekends')\n",
    "plt.xlabel('Alcohol Consumption')\n",
    "plt.ylabel('Number of Students')\n",
    "plt.legend(['Weekday','Weekend'])\n",
    "\n",
    "plt.show()\n"
   ]
  },
  {
   "cell_type": "markdown",
   "metadata": {},
   "source": [
    "As shown above, most students consume very low levels of alcohol throughout the week. There does appear to be an increase of alcohol consumption during weekends.  For example, the number of students who consume moderate to very high level of alcohol double from weekdays to weekends."
   ]
  },
  {
   "cell_type": "markdown",
   "metadata": {},
   "source": [
    "### Which age group has the highest alcohol consumption during weekdays or weekends?\n"
   ]
  },
  {
   "cell_type": "code",
   "execution_count": 10,
   "metadata": {},
   "outputs": [],
   "source": [
    "# Create age groups\n",
    "age15=data[(data.age==15)]\n",
    "age16=data[(data.age==16)]\n",
    "age17=data[(data.age==17)]\n",
    "age18=data[(data.age==18)]\n",
    "age19=data[(data.age==19)]\n",
    "age20=data[(data.age==20)]\n",
    "age21=data[(data.age==21)]\n",
    "age22=data[(data.age==22)]"
   ]
  },
  {
   "cell_type": "code",
   "execution_count": 11,
   "metadata": {},
   "outputs": [],
   "source": [
    "d= {\"Feature\": [\"All Students\",\"Age 15\",\"Age 16\",\"Age 17\",\n",
    "                \"Age 18\", \"Age 19\", \"Age 20\", \"Age 21\",\"Age 22\"],\n",
    "    \"Count\": [data.shape[0],age15.shape[0],age16.shape[0],age17.shape[0],\n",
    "              age18.shape[0],age19.shape[0],age20.shape[0],age21.shape[0],\n",
    "              age22.shape[0]],\n",
    "    \"Average Working Day Alcohol Consumption\": [data.Dalc.mean(),age15.Dalc.mean(),\n",
    "                                                age16.Dalc.mean(),age17.Dalc.mean(),\n",
    "                                                age18.Dalc.mean(),age19.Dalc.mean(),\n",
    "                                                age20.Dalc.mean(),age21.Dalc.mean(),\n",
    "                                                age22.Dalc.mean()],\n",
    "    \"Average Weekend Alcohol Consumption\": [data.Walc.mean(),age15.Walc.mean(),\n",
    "                                            age16.Walc.mean(),age17.Walc.mean(),\n",
    "                                            age18.Walc.mean(),age19.Walc.mean(),\n",
    "                                            age20.Walc.mean(),age21.Walc.mean(),\n",
    "                                            age22.Walc.mean()]}\n",
    "\n",
    "df=pd.DataFrame(d)"
   ]
  },
  {
   "cell_type": "code",
   "execution_count": 12,
   "metadata": {},
   "outputs": [
    {
     "data": {
      "text/html": [
       "<div>\n",
       "<style scoped>\n",
       "    .dataframe tbody tr th:only-of-type {\n",
       "        vertical-align: middle;\n",
       "    }\n",
       "\n",
       "    .dataframe tbody tr th {\n",
       "        vertical-align: top;\n",
       "    }\n",
       "\n",
       "    .dataframe thead th {\n",
       "        text-align: right;\n",
       "    }\n",
       "</style>\n",
       "<table border=\"1\" class=\"dataframe\">\n",
       "  <thead>\n",
       "    <tr style=\"text-align: right;\">\n",
       "      <th></th>\n",
       "      <th>Feature</th>\n",
       "      <th>Count</th>\n",
       "      <th>Average Working Day Alcohol Consumption</th>\n",
       "      <th>Average Weekend Alcohol Consumption</th>\n",
       "    </tr>\n",
       "  </thead>\n",
       "  <tbody>\n",
       "    <tr>\n",
       "      <th>0</th>\n",
       "      <td>All Students</td>\n",
       "      <td>674</td>\n",
       "      <td>1.500000</td>\n",
       "      <td>2.278932</td>\n",
       "    </tr>\n",
       "    <tr>\n",
       "      <th>1</th>\n",
       "      <td>Age 15</td>\n",
       "      <td>113</td>\n",
       "      <td>1.380531</td>\n",
       "      <td>2.026549</td>\n",
       "    </tr>\n",
       "    <tr>\n",
       "      <th>2</th>\n",
       "      <td>Age 16</td>\n",
       "      <td>179</td>\n",
       "      <td>1.396648</td>\n",
       "      <td>2.234637</td>\n",
       "    </tr>\n",
       "    <tr>\n",
       "      <th>3</th>\n",
       "      <td>Age 17</td>\n",
       "      <td>180</td>\n",
       "      <td>1.550000</td>\n",
       "      <td>2.433333</td>\n",
       "    </tr>\n",
       "    <tr>\n",
       "      <th>4</th>\n",
       "      <td>Age 18</td>\n",
       "      <td>145</td>\n",
       "      <td>1.551724</td>\n",
       "      <td>2.379310</td>\n",
       "    </tr>\n",
       "    <tr>\n",
       "      <th>5</th>\n",
       "      <td>Age 19</td>\n",
       "      <td>45</td>\n",
       "      <td>1.644444</td>\n",
       "      <td>2.044444</td>\n",
       "    </tr>\n",
       "    <tr>\n",
       "      <th>6</th>\n",
       "      <td>Age 20</td>\n",
       "      <td>8</td>\n",
       "      <td>1.625000</td>\n",
       "      <td>2.625000</td>\n",
       "    </tr>\n",
       "    <tr>\n",
       "      <th>7</th>\n",
       "      <td>Age 21</td>\n",
       "      <td>3</td>\n",
       "      <td>3.000000</td>\n",
       "      <td>2.000000</td>\n",
       "    </tr>\n",
       "    <tr>\n",
       "      <th>8</th>\n",
       "      <td>Age 22</td>\n",
       "      <td>1</td>\n",
       "      <td>5.000000</td>\n",
       "      <td>5.000000</td>\n",
       "    </tr>\n",
       "  </tbody>\n",
       "</table>\n",
       "</div>"
      ],
      "text/plain": [
       "        Feature  Count  Average Working Day Alcohol Consumption  \\\n",
       "0  All Students    674                                 1.500000   \n",
       "1        Age 15    113                                 1.380531   \n",
       "2        Age 16    179                                 1.396648   \n",
       "3        Age 17    180                                 1.550000   \n",
       "4        Age 18    145                                 1.551724   \n",
       "5        Age 19     45                                 1.644444   \n",
       "6        Age 20      8                                 1.625000   \n",
       "7        Age 21      3                                 3.000000   \n",
       "8        Age 22      1                                 5.000000   \n",
       "\n",
       "   Average Weekend Alcohol Consumption  \n",
       "0                             2.278932  \n",
       "1                             2.026549  \n",
       "2                             2.234637  \n",
       "3                             2.433333  \n",
       "4                             2.379310  \n",
       "5                             2.044444  \n",
       "6                             2.625000  \n",
       "7                             2.000000  \n",
       "8                             5.000000  "
      ]
     },
     "execution_count": 12,
     "metadata": {},
     "output_type": "execute_result"
    }
   ],
   "source": [
    "df"
   ]
  },
  {
   "cell_type": "markdown",
   "metadata": {},
   "source": [
    "Based on the average of alcohol consumption during weekdays, age 22 has the highest consumption level with 5.0. However, the mean might not be the most accurate way to answering the question since there is only one student who is 22 years old.\n",
    "\n",
    "If we disregard age group 22 as an outlier, age group 21 consumes the highest level of alcohol on weekdays with a mean level of 3.0. Meanwhile, students in age group 17 consume the most alcohol during weekends with an average consumption level of 2.4.\n"
   ]
  },
  {
   "cell_type": "markdown",
   "metadata": {},
   "source": [
    "#### Next, we will combine weekdays and weekends alcohol consumption to explore weekly drinking habits"
   ]
  },
  {
   "cell_type": "code",
   "execution_count": 13,
   "metadata": {},
   "outputs": [],
   "source": [
    "# Create total alcohol consumption\n",
    "data['Talc'] = data.Dalc + data.Walc"
   ]
  },
  {
   "cell_type": "markdown",
   "metadata": {},
   "source": [
    "#### We will combine age groups to create 3 new groups and compare the consumption level \n",
    "New groups consists of the following:<br>\n",
    "__mid teens__: ages 15 and 16<br>\n",
    "__late teens__: ages 17 and 18<br>\n",
    "__adult__: ages 19 to 22 "
   ]
  },
  {
   "cell_type": "code",
   "execution_count": 14,
   "metadata": {},
   "outputs": [],
   "source": [
    "# Create new age groups\n",
    "\n",
    "mid_teens = data[((data.age > 14) & (data.age < 17))]\n",
    "late_teens = data[((data.age > 16) & (data.age < 19))]\n",
    "adult = data[((data.age > 18) & (data.age < 23))]"
   ]
  },
  {
   "cell_type": "code",
   "execution_count": 15,
   "metadata": {},
   "outputs": [
    {
     "data": {
      "image/png": "[encoded data removed]",
      "text/plain": [
       "<Figure size 720x360 with 1 Axes>"
      ]
     },
     "metadata": {
      "needs_background": "light"
     },
     "output_type": "display_data"
    }
   ],
   "source": [
    "\n",
    "mid_teens = list(map(lambda l: list(mid_teens.Talc).count(l),l))\n",
    "late_teens = list(map(lambda l: list(late_teens.Talc).count(l),l))\n",
    "adult = list(map(lambda l: list(adult.Talc).count(l),l))\n",
    "\n",
    "plt.style.use(\"bmh\")\n",
    "plt.figure(figsize=(10,5))\n",
    "plt.plot(labels,mid_teens,color=\"skyblue\",linestyle=\"--\",marker=\"X\", \n",
    "         markersize=10,label=\"Mid Teens\")\n",
    "plt.plot(labels,late_teens,color=\"orange\",linestyle=\"--\",marker=\"X\", \n",
    "         markersize=10,label=\"Late Teens\")\n",
    "plt.plot(labels,adult,color=\"green\",linestyle=\"--\",marker=\"X\", \n",
    "         markersize=10,label=\"Adult\")\n",
    "plt.title(\"Age Groups Alcohol Consumption on a Weekly Basis\")\n",
    "plt.xlabel(\"Alcohol Consumption\")\n",
    "plt.ylabel(\"Number of Students\")\n",
    "plt.legend()\n",
    "\n",
    "\n",
    "plt.show()"
   ]
  },
  {
   "cell_type": "markdown",
   "metadata": {},
   "source": [
    "Mid and late teens drinking patterns appears to undergo the most drastic change from very low to high alcohol consumption. Most of students in their mid and late teens are relatively light drinkers with a few exceptions. In contrast, the adult age group alcohol consumption level is more stagnant than other age groups. Majority of the adult group identified as light drinkers while the other half consumes a moderate to high amount of alcohol on a weekly basis.<br>\n",
    "\n",
    "Base on the quantity of heavy drinkers, students in the late teens age group out number other groups. However, if we were to compare high and low levels of consumption within the age groups, the adult age group have proportionally higher amounts of heavy drinkers than the rest.\n"
   ]
  },
  {
   "cell_type": "markdown",
   "metadata": {},
   "source": [
    "### Which gender consumes more alcohol weekly?"
   ]
  },
  {
   "cell_type": "code",
   "execution_count": 16,
   "metadata": {},
   "outputs": [],
   "source": [
    "# Create geneders\n",
    "\n",
    "female=data[data.sex==\"F\"]\n",
    "male= data[data.sex==\"M\"]"
   ]
  },
  {
   "cell_type": "code",
   "execution_count": 17,
   "metadata": {},
   "outputs": [
    {
     "data": {
      "image/png": "[encoded data removed]",
      "text/plain": [
       "<Figure size 432x288 with 1 Axes>"
      ]
     },
     "metadata": {},
     "output_type": "display_data"
    }
   ],
   "source": [
    "female= list(map(lambda l: list(female.Talc).count(l),l))\n",
    "\n",
    "colors='yellowgreen', 'gold', 'lightskyblue', 'lightcoral', 'orchid'\n",
    "\n",
    "fig1, ax1 = plt.subplots()\n",
    "\n",
    "#explsion\n",
    "explode = (0.05,0.05,0.05,0.05,0.1)\n",
    "\n",
    "ax1.pie(female, colors = colors, labels=labels, autopct='%1.1f%%', startangle=90, pctdistance=0.85, explode=explode)\n",
    "plt.title(\"Female Students Alcohol Consumption on a Weekly Basis\")\n",
    "\n",
    "# Draw a circle\n",
    "centre_circle = plt.Circle((0,0),0.70,fc='white')\n",
    "fig = plt.gcf()\n",
    "fig.gca().add_artist(centre_circle)\n",
    "\n",
    "# Equal aspect ratio ensures that pie is drawn as a circle\n",
    "plt.axis('equal') \n",
    "plt.tight_layout()\n",
    "plt.show()\n"
   ]
  },
  {
   "cell_type": "markdown",
   "metadata": {},
   "source": [
    "##### Female Students Alcohol Consumption on a Weekly Basis\n",
    "__Very Low__: 69.6%<br>\n",
    "__Low__: 21.8%<br>\n",
    "__Moderate__: 6.6%<br>\n",
    "__High__: 1.6%<br>\n",
    "__Very High__: 0.4%<br>\n",
    "\n"
   ]
  },
  {
   "cell_type": "code",
   "execution_count": 18,
   "metadata": {},
   "outputs": [
    {
     "data": {
      "image/png": "[encoded data removed]",
      "text/plain": [
       "<Figure size 432x288 with 1 Axes>"
      ]
     },
     "metadata": {},
     "output_type": "display_data"
    }
   ],
   "source": [
    "male= list(map(lambda l: list(male.Talc).count(l),l))\n",
    "\n",
    "colors='yellowgreen', 'gold', 'lightskyblue', 'lightcoral', 'orchid'\n",
    "\n",
    "fig1, ax1 = plt.subplots()\n",
    "\n",
    "#explsion\n",
    "explode = (0.05,0.05,0.05,0.05,0.05)\n",
    "\n",
    "ax1.pie(male, colors = colors, labels=labels, autopct='%1.1f%%', startangle=90, pctdistance=0.85, explode=explode)\n",
    "plt.title(\"Male Students Alcohol Consumption on a Weekly Basis\")\n",
    "\n",
    "# Draw a circle\n",
    "centre_circle = plt.Circle((0,0),0.70,fc='white')\n",
    "fig = plt.gcf()\n",
    "fig.gca().add_artist(centre_circle)\n",
    "\n",
    "# Equal aspect ratio ensures that pie is drawn as a circle\n",
    "plt.axis('equal') \n",
    "plt.tight_layout()\n",
    "plt.show()"
   ]
  },
  {
   "cell_type": "markdown",
   "metadata": {},
   "source": [
    "##### Male Students Alcohol Consumption on a Weekly Basis\n",
    "__Very Low__: 39.6%<br>\n",
    "__Low__: 25.8%<br>\n",
    "__Moderate__: 19.8%<br>\n",
    "__High__: 7.1%<br>\n",
    "__Very High__: 7.7%<br>"
   ]
  },
  {
   "cell_type": "markdown",
   "metadata": {},
   "source": [
    "Base on the graphs above, female students generally consume lower amounts of alcohol than male students throughout the week. While 90% of females identified themselves as light drinkers, approximately 65% of male students have a low intake of alcohol on a weekly basis. "
   ]
  },
  {
   "cell_type": "markdown",
   "metadata": {},
   "source": [
    "### Do students in ubran areas consume more alcohol than those who live in rural areas?"
   ]
  },
  {
   "cell_type": "code",
   "execution_count": 19,
   "metadata": {},
   "outputs": [],
   "source": [
    "urban=data[data.address==\"U\"]\n",
    "rural= data[data.address==\"R\"]"
   ]
  },
  {
   "cell_type": "code",
   "execution_count": 20,
   "metadata": {},
   "outputs": [
    {
     "data": {
      "image/png": "[encoded data removed]",
      "text/plain": [
       "<Figure size 720x360 with 1 Axes>"
      ]
     },
     "metadata": {
      "needs_background": "light"
     },
     "output_type": "display_data"
    }
   ],
   "source": [
    "urban_weekday=list(map(lambda l: list(urban.Talc).count(l),l))\n",
    "rural_weekday=list(map(lambda l: list(rural.Talc).count(l),l))\n",
    "\n",
    "\n",
    "n = 5\n",
    "fig, ax = plt.subplots(figsize=(10,5))\n",
    "i = np.arange(n)   \n",
    "w = 0.4   \n",
    "\n",
    "plot1= plt.bar(i, urban_weekday, w, color=\"blue\", alpha=.5)\n",
    "plot2= plt.bar(i+w, rural_weekday, w, color=\"green\", alpha=.5 )\n",
    "\n",
    "plt.xlabel('Alcohol Consumption')\n",
    "plt.ylabel('Number of Student')\n",
    "plt.title('Urban and Rural Alcohol Consumption on a Weekly Basis')\n",
    "plt.xticks(i+w/2, labels)\n",
    "plt.legend((plot1[0],plot2[0]),(\"Urban\",\"Rural\"))\n",
    "plt.tight_layout()\n",
    "plt.grid()\n",
    "plt.show()"
   ]
  },
  {
   "cell_type": "code",
   "execution_count": 21,
   "metadata": {},
   "outputs": [],
   "source": [
    "d2= {\"Feature\": [\"All Students\",\"Urban Students\",\"Rural Students\"],\n",
    "    \"Count\": [data.shape[0],urban.shape[0],rural.shape[0]],\n",
    "    \"Average Weekday Alcohol Consumption\": [data.Dalc.mean(),urban.Dalc.mean(),\n",
    "                                            rural.Dalc.mean()],\n",
    "    \"Average Weekend Alcohol Consumption\": [data.Walc.mean(),urban.Walc.mean(),\n",
    "                                            rural.Walc.mean()],\n",
    "    \"Average Weekly Alcohol Consumption\": [data.Talc.mean(),urban.Talc.mean(),\n",
    "                                           rural.Talc.mean()]}\n",
    "\n",
    "df2=pd.DataFrame(d2)"
   ]
  },
  {
   "cell_type": "code",
   "execution_count": 22,
   "metadata": {},
   "outputs": [
    {
     "data": {
      "text/html": [
       "<div>\n",
       "<style scoped>\n",
       "    .dataframe tbody tr th:only-of-type {\n",
       "        vertical-align: middle;\n",
       "    }\n",
       "\n",
       "    .dataframe tbody tr th {\n",
       "        vertical-align: top;\n",
       "    }\n",
       "\n",
       "    .dataframe thead th {\n",
       "        text-align: right;\n",
       "    }\n",
       "</style>\n",
       "<table border=\"1\" class=\"dataframe\">\n",
       "  <thead>\n",
       "    <tr style=\"text-align: right;\">\n",
       "      <th></th>\n",
       "      <th>Feature</th>\n",
       "      <th>Count</th>\n",
       "      <th>Average Weekday Alcohol Consumption</th>\n",
       "      <th>Average Weekend Alcohol Consumption</th>\n",
       "      <th>Average Weekly Alcohol Consumption</th>\n",
       "    </tr>\n",
       "  </thead>\n",
       "  <tbody>\n",
       "    <tr>\n",
       "      <th>0</th>\n",
       "      <td>All Students</td>\n",
       "      <td>674</td>\n",
       "      <td>1.500000</td>\n",
       "      <td>2.278932</td>\n",
       "      <td>3.778932</td>\n",
       "    </tr>\n",
       "    <tr>\n",
       "      <th>1</th>\n",
       "      <td>Urban Students</td>\n",
       "      <td>470</td>\n",
       "      <td>1.472340</td>\n",
       "      <td>2.261702</td>\n",
       "      <td>3.734043</td>\n",
       "    </tr>\n",
       "    <tr>\n",
       "      <th>2</th>\n",
       "      <td>Rural Students</td>\n",
       "      <td>204</td>\n",
       "      <td>1.563725</td>\n",
       "      <td>2.318627</td>\n",
       "      <td>3.882353</td>\n",
       "    </tr>\n",
       "  </tbody>\n",
       "</table>\n",
       "</div>"
      ],
      "text/plain": [
       "          Feature  Count  Average Weekday Alcohol Consumption  \\\n",
       "0    All Students    674                             1.500000   \n",
       "1  Urban Students    470                             1.472340   \n",
       "2  Rural Students    204                             1.563725   \n",
       "\n",
       "   Average Weekend Alcohol Consumption  Average Weekly Alcohol Consumption  \n",
       "0                             2.278932                            3.778932  \n",
       "1                             2.261702                            3.734043  \n",
       "2                             2.318627                            3.882353  "
      ]
     },
     "execution_count": 22,
     "metadata": {},
     "output_type": "execute_result"
    }
   ],
   "source": [
    "df2"
   ]
  },
  {
   "cell_type": "markdown",
   "metadata": {},
   "source": [
    "At a glance, a significant proportion of students in urban settings would associate themselves as light drinkers. A similar trend is true with students in rural areas as well. Based on the quantity of data points, there are more heavy drinkers in the urban than rural areas. If we were to reference the mean, both students in urban and rural areas consume moderate levels of alcohol on a weekly basis. However, it is apparent that students in rural settings consume a higher amount of alcohol on average than the total student population during weekdays and weekends. "
   ]
  },
  {
   "cell_type": "markdown",
   "metadata": {},
   "source": [
    "## Conclusion \n",
    "\n",
    "__Base on the analysis, we can conclude the following__:\n",
    "\n",
    "Generally, students tend to consume higher levels of alcohol during weekends. There also appears to be a positive correlation between increased alcohol consumption and age groups. Students in older age groups consume more alcohol on average than younger students. Male students also consume more and higher levels of alcohol than female students throughout the week. The data also shows that on average, students residing in urban settings consume less alcohol than students in rural areas. \n",
    "\n",
    "__Limitations__\n",
    "\n",
    "In terms of analyzing the data, I found that certain variable types were not appropriately assigned. For instance, weekday and weekend alcohol consumption variables were labeled as numeric values. This presented a challenge since the measurements were subjected to a numeric rating system instead of a concrete number of alcohol intake. Establishing a consumption scale based on a more solid measurement, such as the approximate volume of the alcohol container, would have reduced some ambiguity between the subtle differences of what constitutes as a light and moderate drinker. \n",
    "\n",
    "Another limitation occurred during the creation of sample data groups.  For example, in determining which age group consumed the most alcohol on a weekly basis, some of the sample groups were significantly small.  Age group 15 to 18 had at least 100 students in each group, while ages 20 and up had less than 10 data points.  I attempted to increase the sample sizes to more accurately represent the student population by reducing the age groups from 7 to 3. \n",
    "\n",
    "__Recommendations for further analysis__\n",
    "\n",
    "With the current information given, I would like to explore how different attributes interact with each other and predict students final grade with certain characteristics. \n",
    "\n",
    " "
   ]
  }
 ],
 "metadata": {
  "kernelspec": {
   "display_name": "Python 3",
   "language": "python",
   "name": "python3"
  },
  "language_info": {
   "codemirror_mode": {
    "name": "ipython",
    "version": 3
   },
   "file_extension": ".py",
   "mimetype": "text/x-python",
   "name": "python",
   "nbconvert_exporter": "python",
   "pygments_lexer": "ipython3",
   "version": "3.7.0"
  }
 },
 "nbformat": 4,
 "nbformat_minor": 2
}
