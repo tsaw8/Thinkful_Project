{
 "cells": [
  {
   "cell_type": "markdown",
   "metadata": {},
   "source": [
    "# Assignment \n",
    "\n",
    "In this assignment, we will creating a __Nearest Neighbors__ algorithm which find the closest (or nearest) known observation in our training data and use that value to make our prediction. Similar to a classifier, the interest outcome is category. \n",
    "\n",
    "We can implement a KNN model by following the below steps:\n",
    "\n",
    "* Load the data\n",
    "* Initialise the value of k\n",
    "* For getting the predicted class, iterate from 1 to total number of training data points\n",
    "    * Calculate the distance between test data and each row of training data. Here we will use Euclidean distance as our distance metric since it’s the most popular method. The other metrics that can be used are Chebyshev, cosine, etc.\n",
    "    * Sort the calculated distances in ascending order based on distance values\n",
    "    * Get top k rows from the sorted array\n",
    "    * Get the most frequent class of these rows\n",
    "    * Return the predicted class"
   ]
  },
  {
   "cell_type": "code",
   "execution_count": 1,
   "metadata": {},
   "outputs": [],
   "source": [
    "# Libraries \n",
    "import numpy as np\n",
    "import pandas as pd\n",
    "import matplotlib.pyplot as plt\n",
    "import scipy\n",
    "%matplotlib inline"
   ]
  },
  {
   "cell_type": "code",
   "execution_count": 2,
   "metadata": {},
   "outputs": [
    {
     "data": {
      "image/png": "[encoded data removed]",
      "text/plain": [
       "<Figure size 432x288 with 1 Axes>"
      ]
     },
     "metadata": {
      "needs_background": "light"
     },
     "output_type": "display_data"
    }
   ],
   "source": [
    "music = pd.DataFrame()\n",
    "\n",
    "# Some data to play with.\n",
    "music['duration'] = [184, 134, 243, 186, 122, 197, 294, 382, 102, 264, \n",
    "                     205, 110, 307, 110, 397, 153, 190, 192, 210, 403,\n",
    "                     164, 198, 204, 253, 234, 190, 182, 401, 376, 102]\n",
    "music['loudness'] = [18, 34, 43, 36, 22, 9, 29, 22, 10, 24, \n",
    "                     20, 10, 17, 51, 7, 13, 19, 12, 21, 22,\n",
    "                     16, 18, 4, 23, 34, 19, 14, 11, 37, 42]\n",
    "\n",
    "# We know whether the songs in our training data are jazz or not.\n",
    "music['jazz'] = [ 1, 0, 0, 0, 1, 1, 0, 1, 1, 0,\n",
    "                  0, 1, 1, 0, 1, 1, 0, 1, 1, 1,\n",
    "                  1, 1, 1, 1, 0, 0, 1, 1, 0, 0]\n",
    "\n",
    "\n",
    "# Look at our data.\n",
    "plt.scatter(\n",
    "    music[music['jazz'] == 1].duration,\n",
    "    music[music['jazz'] == 1].loudness,\n",
    "    color='red'\n",
    ")\n",
    "plt.scatter(\n",
    "    music[music['jazz'] == 0].duration,\n",
    "    music[music['jazz'] == 0].loudness,\n",
    "    color='blue'\n",
    ")\n",
    "plt.legend(['Jazz', 'Rock'])\n",
    "plt.title('Jazz and Rock Characteristics')\n",
    "plt.xlabel('Duration')\n",
    "plt.ylabel('Loudness')\n",
    "plt.show()"
   ]
  },
  {
   "cell_type": "code",
   "execution_count": 3,
   "metadata": {},
   "outputs": [
    {
     "data": {
      "text/plain": [
       "array([0])"
      ]
     },
     "execution_count": 3,
     "metadata": {},
     "output_type": "execute_result"
    }
   ],
   "source": [
    "from sklearn.neighbors import KNeighborsClassifier\n",
    "neighbors = KNeighborsClassifier(n_neighbors=1)\n",
    "X = music[['loudness', 'duration']]\n",
    "Y = music.jazz\n",
    "neighbors.fit(X,Y)\n",
    "\n",
    "## Predict for a song with 24 loudness that's 190 seconds long.\n",
    "neighbors.predict([[24, 190]])"
   ]
  },
  {
   "cell_type": "code",
   "execution_count": 4,
   "metadata": {},
   "outputs": [
    {
     "name": "stdout",
     "output_type": "stream",
     "text": [
      "[1]\n",
      "[[0.4 0.6]]\n"
     ]
    }
   ],
   "source": [
    "neighbors = KNeighborsClassifier(n_neighbors=5)\n",
    "X = music[['loudness', 'duration']]\n",
    "Y = music.jazz\n",
    "neighbors.fit(X,Y)\n",
    "\n",
    "## Predict for a 24 loudness, 190 seconds long song.\n",
    "print(neighbors.predict([[24, 190]]))\n",
    "print(neighbors.predict_proba([[24, 190]]))"
   ]
  },
  {
   "cell_type": "markdown",
   "metadata": {},
   "source": [
    "## Challenge: Implement the Nearest Neighbor algorithm \n",
    "\n",
    "The Nearest Neighbor algorithm is extremely simple. So simple, in fact, that you should be able to build it yourself from scratch using the Python you already know. Code a Nearest Neighbors algorithm that works for two dimensional data. You can use either arrays or dataframes to do this. Test it against the SKLearn package on the music dataset from above to ensure that it's correct. The goal here is to confirm your understanding of the model and continue to practice your Python skills. We're just expecting a brute force method here. After doing this, look up \"ball tree\" methods to see a more performant algorithm design.\n",
    "\n",
    "First, we will calculate the distance between test data and each row of training data by using the Eclidean distance formula. "
   ]
  },
  {
   "cell_type": "code",
   "execution_count": 5,
   "metadata": {},
   "outputs": [],
   "source": [
    "#Euclidean Distance function.\n",
    "\n",
    "def euclidean_dist(test, train):\n",
    "    #test and train are n x m arrays\n",
    "    distances = []\n",
    "    for i in range(len(test)):\n",
    "        distance = np.sqrt(np.sum(np.square(test[i] - train), axis=1))\n",
    "        distances.append(distance)\n",
    "    return distances"
   ]
  },
  {
   "cell_type": "code",
   "execution_count": 6,
   "metadata": {},
   "outputs": [
    {
     "data": {
      "text/plain": [
       "[0     196.468827\n",
       " 1     148.499158\n",
       " 2     234.047004\n",
       " 3     187.488666\n",
       " 4     149.626201\n",
       " 5     212.249853\n",
       " 6     286.386103\n",
       " 7     371.251936\n",
       " 8     148.606864\n",
       " 9     261.174271\n",
       " 10    212.190952\n",
       " 11    152.643375\n",
       " 12    303.080847\n",
       " 13    119.670381\n",
       " 14    390.356248\n",
       " 15    176.799321\n",
       " 16    200.601595\n",
       " 17    206.465493\n",
       " 18    215.779981\n",
       " 19    391.219887\n",
       " 20    182.570534\n",
       " 21    207.624661\n",
       " 22    220.843836\n",
       " 23    251.829307\n",
       " 24    229.895628\n",
       " 25    200.601595\n",
       " 26    197.433533\n",
       " 27    392.787474\n",
       " 28    361.005540\n",
       " 29    121.605921\n",
       " dtype: float64, 0     154.012986\n",
       " 1     104.938077\n",
       " 2     214.238185\n",
       " 3     156.818366\n",
       " 4      92.021737\n",
       " 5     167.361883\n",
       " 6     264.153365\n",
       " 7     352.005682\n",
       " 8      72.691127\n",
       " 9     234.034186\n",
       " 10    175.000000\n",
       " 11     80.622577\n",
       " 12    277.016245\n",
       " 13     85.796270\n",
       " 14    367.230173\n",
       " 15    123.199026\n",
       " 16    160.003125\n",
       " 17    162.197411\n",
       " 18    180.002778\n",
       " 19    373.005362\n",
       " 20    134.059688\n",
       " 21    168.011904\n",
       " 22    174.734084\n",
       " 23    223.020178\n",
       " 24    204.479828\n",
       " 25    160.003125\n",
       " 26    152.118375\n",
       " 27    371.109148\n",
       " 28    346.417378\n",
       " 29     75.286121\n",
       " dtype: float64]"
      ]
     },
     "execution_count": 6,
     "metadata": {},
     "output_type": "execute_result"
    }
   ],
   "source": [
    "train = X\n",
    "#X is 30 x 2\n",
    "test = [[140, 30], [20,30]]\n",
    "Y_test = [1, 1]\n",
    "#test is 2 x 2\n",
    "\n",
    "euclidean_dist(test, train)"
   ]
  },
  {
   "cell_type": "markdown",
   "metadata": {},
   "source": [
    "Next, we will get top k rows from the sorted array."
   ]
  },
  {
   "cell_type": "code",
   "execution_count": 7,
   "metadata": {},
   "outputs": [],
   "source": [
    "# Get neighbors\n",
    "\n",
    "def get_neighbors(X_train, X_test, Y_train, k):\n",
    "    neighbors_arrays = np.argsort(euclidean_dist(X_test, X_train))\n",
    "    votes = []\n",
    "    for item in neighbors_arrays:\n",
    "        targs = []\n",
    "        for i in range(k):\n",
    "            index = item[i]\n",
    "            targs.append(Y_train[index])\n",
    "        votes.append(np.median(targs))\n",
    "    return(votes)"
   ]
  },
  {
   "cell_type": "code",
   "execution_count": 8,
   "metadata": {},
   "outputs": [
    {
     "name": "stdout",
     "output_type": "stream",
     "text": [
      "[0.0, 1.0]\n"
     ]
    }
   ],
   "source": [
    "print(get_neighbors(train, test, Y, 3))"
   ]
  },
  {
   "cell_type": "markdown",
   "metadata": {},
   "source": [
    "Finally, we will get the most frequent class of these rows and return predicted class."
   ]
  },
  {
   "cell_type": "code",
   "execution_count": 9,
   "metadata": {},
   "outputs": [],
   "source": [
    "# KNN class \n",
    "\n",
    "def knn_class(X_train, X_test, Y_train, Y_test, k):\n",
    "    predictions = pd.DataFrame(get_neighbors(X_train, X_test, Y_train, k), index=X_test, columns=['prediction'])\n",
    "    predictions['target'] = Y_test\n",
    "    return(predictions)"
   ]
  },
  {
   "cell_type": "code",
   "execution_count": 10,
   "metadata": {},
   "outputs": [
    {
     "data": {
      "text/html": [
       "<div>\n",
       "<style scoped>\n",
       "    .dataframe tbody tr th:only-of-type {\n",
       "        vertical-align: middle;\n",
       "    }\n",
       "\n",
       "    .dataframe tbody tr th {\n",
       "        vertical-align: top;\n",
       "    }\n",
       "\n",
       "    .dataframe thead th {\n",
       "        text-align: right;\n",
       "    }\n",
       "</style>\n",
       "<table border=\"1\" class=\"dataframe\">\n",
       "  <thead>\n",
       "    <tr style=\"text-align: right;\">\n",
       "      <th></th>\n",
       "      <th></th>\n",
       "      <th>prediction</th>\n",
       "      <th>target</th>\n",
       "    </tr>\n",
       "  </thead>\n",
       "  <tbody>\n",
       "    <tr>\n",
       "      <th>140</th>\n",
       "      <th>20</th>\n",
       "      <td>0.0</td>\n",
       "      <td>1</td>\n",
       "    </tr>\n",
       "    <tr>\n",
       "      <th>30</th>\n",
       "      <th>30</th>\n",
       "      <td>1.0</td>\n",
       "      <td>1</td>\n",
       "    </tr>\n",
       "  </tbody>\n",
       "</table>\n",
       "</div>"
      ],
      "text/plain": [
       "        prediction  target\n",
       "140 20         0.0       1\n",
       "30  30         1.0       1"
      ]
     },
     "execution_count": 10,
     "metadata": {},
     "output_type": "execute_result"
    }
   ],
   "source": [
    "knn_class(train, test, Y, Y_test, 3)"
   ]
  }
 ],
 "metadata": {
  "kernelspec": {
   "display_name": "Python 3",
   "language": "python",
   "name": "python3"
  },
  "language_info": {
   "codemirror_mode": {
    "name": "ipython",
    "version": 3
   },
   "file_extension": ".py",
   "mimetype": "text/x-python",
   "name": "python",
   "nbconvert_exporter": "python",
   "pygments_lexer": "ipython3",
   "version": "3.6.8"
  }
 },
 "nbformat": 4,
 "nbformat_minor": 2
}
