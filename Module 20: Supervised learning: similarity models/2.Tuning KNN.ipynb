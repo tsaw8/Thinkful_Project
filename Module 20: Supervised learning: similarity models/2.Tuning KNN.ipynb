{
 "cells": [
  {
   "cell_type": "markdown",
   "metadata": {},
   "source": [
    "## DRILL:\n",
    "Let's say we work at a credit card company and we're trying to figure out if people are going to pay their bills on time. We have everyone's purchases, split into four main categories: groceries, dining out, utilities, and entertainment. What are some ways you might use KNN to create this model? What aspects of KNN would be useful?\n",
    "\n",
    "To reduce the dimensionality of the model, we can start by combining some features. For example, we could group groceries and utilities as necessities, and dining out and entertainment as leisure. The class would be to predict if bills will be paid on time or not. We could also tune KNN model by normalizing the features. __Normalization__ is a way of taking  measures and making them comparable. One way we can achieve this is to __rescale__ all variables so its range is generally between -1 and 1. If the data has a linear relationship, then a scale from 0 to 1 would be more suitable.  "
   ]
  }
 ],
 "metadata": {
  "kernelspec": {
   "display_name": "Python 3",
   "language": "python",
   "name": "python3"
  },
  "language_info": {
   "codemirror_mode": {
    "name": "ipython",
    "version": 3
   },
   "file_extension": ".py",
   "mimetype": "text/x-python",
   "name": "python",
   "nbconvert_exporter": "python",
   "pygments_lexer": "ipython3",
   "version": "3.6.8"
  }
 },
 "nbformat": 4,
 "nbformat_minor": 2
}
