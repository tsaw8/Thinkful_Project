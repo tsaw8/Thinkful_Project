{
 "cells": [
  {
   "cell_type": "markdown",
   "metadata": {},
   "source": [
    "# Challenge: What to use\n",
    "Using selected questions from the 2012 and 2014 editions of the [European Social Survey](http://www.europeansocialsurvey.org/data/round-index.html), address the following questions. \n",
    "\n",
    "Here is the data [file](https://raw.githubusercontent.com/Thinkful-Ed/data-201-resources/master/ESS_practice_data/ESSdata_Thinkful.csv). And here is the [codebook](https://thinkful-ed.github.io/data-201-resources/ESS_practice_data/ESS_codebook.html), with information about the variable coding and content.\n",
    "\n",
    "In this dataset, participants answered the same questions in 2012 and 2014.\n",
    "\n",
    "## Nonparametric and Parametric Test\n",
    "In the literal meaning of the terms, a __parametric__ statistical test is one that makes assumptions about the parameters (defining properties) of the population distribution(s) from which one's data are drawn, while a __non-parametric__ test is one that makes no such assumptions.\n",
    "\n",
    "### Hypothesis Tests of the Mean and Median \n",
    "__Parametric tests (means)__\n",
    " * 1-sample t test\n",
    " * 2-sample t test\n",
    " * One-Way ANOVA\n",
    " * Factorial DOE with one factor and one blocking variable\n",
    " * Shapiro-Wilk: sensitive to sample size\n",
    " * Tukey's Honest Significant Differences (HSD) Test\n",
    " \n",
    "__Nonparametric test (medians)__\n",
    " * 1-sample Sign, 1-sample Wilcoxon (dependent samples)\n",
    " * Mann-Whitney test (indendepent samples)\n",
    " * Kruskal-Wallis, Mood's median test \n",
    " * Friedman test \n",
    " \n",
    "### Reasons to use Parametric Tests \n",
    " 1. Parametric tests can perform well with skewed and nonnormal distributions if sample size is big enough <br>\n",
    "  - __1-sample t test__: sample size greater than 20 \n",
    "  - __2-sample t test__: each group should be greater than 15 \n",
    "  - __One-Way ANOVA__: each group should be greater than 15 for 2-9 groups; each group should be greater than 20 if you have 10-12 groups<br>\n",
    "\n",
    " 2. Parametric tests can perform well when the spread of each group is different\n",
    " 3. Parametric tests usually have more statistical power than nonparametric tests; more likely to detect a significant effect when one truly exists\n",
    " \n",
    "### Reasons to use Nonparametric Tests \n",
    " 1. Your area of study is better represented by the median (i.e. income right skewed due to a few billionaires)\n",
    " 2. You have a very small sample size\n",
    " 3. You have ordinal data, ranked data, or outliers that you can’t remove"
   ]
  },
  {
   "cell_type": "code",
   "execution_count": 42,
   "metadata": {},
   "outputs": [],
   "source": [
    "# Imports \n",
    "import pandas as pd\n",
    "import numpy as np\n",
    "import matplotlib.pyplot as plt\n",
    "import seaborn as sns\n",
    "\n",
    "# Parametric statistics\n",
    "from scipy.stats import stats, ttest_ind, f_oneway, ttest_rel, shapiro\n",
    "\n",
    "# Nonparametric statistics\n",
    "from scipy.stats import kruskal, wilcoxon, mannwhitneyu\n",
    "\n",
    "# Test for normality\n",
    "from statsmodels.stats.multicomp import pairwise_tukeyhsd"
   ]
  },
  {
   "cell_type": "code",
   "execution_count": 2,
   "metadata": {},
   "outputs": [
    {
     "data": {
      "text/html": [
       "<div>\n",
       "<style scoped>\n",
       "    .dataframe tbody tr th:only-of-type {\n",
       "        vertical-align: middle;\n",
       "    }\n",
       "\n",
       "    .dataframe tbody tr th {\n",
       "        vertical-align: top;\n",
       "    }\n",
       "\n",
       "    .dataframe thead th {\n",
       "        text-align: right;\n",
       "    }\n",
       "</style>\n",
       "<table border=\"1\" class=\"dataframe\">\n",
       "  <thead>\n",
       "    <tr style=\"text-align: right;\">\n",
       "      <th></th>\n",
       "      <th>cntry</th>\n",
       "      <th>idno</th>\n",
       "      <th>year</th>\n",
       "      <th>tvtot</th>\n",
       "      <th>ppltrst</th>\n",
       "      <th>pplfair</th>\n",
       "      <th>pplhlp</th>\n",
       "      <th>happy</th>\n",
       "      <th>sclmeet</th>\n",
       "      <th>sclact</th>\n",
       "      <th>gndr</th>\n",
       "      <th>agea</th>\n",
       "      <th>partner</th>\n",
       "    </tr>\n",
       "  </thead>\n",
       "  <tbody>\n",
       "    <tr>\n",
       "      <th>0</th>\n",
       "      <td>CH</td>\n",
       "      <td>5.0</td>\n",
       "      <td>6</td>\n",
       "      <td>3.0</td>\n",
       "      <td>3.0</td>\n",
       "      <td>10.0</td>\n",
       "      <td>5.0</td>\n",
       "      <td>8.0</td>\n",
       "      <td>5.0</td>\n",
       "      <td>4.0</td>\n",
       "      <td>2.0</td>\n",
       "      <td>60.0</td>\n",
       "      <td>1.0</td>\n",
       "    </tr>\n",
       "    <tr>\n",
       "      <th>1</th>\n",
       "      <td>CH</td>\n",
       "      <td>25.0</td>\n",
       "      <td>6</td>\n",
       "      <td>6.0</td>\n",
       "      <td>5.0</td>\n",
       "      <td>7.0</td>\n",
       "      <td>5.0</td>\n",
       "      <td>9.0</td>\n",
       "      <td>3.0</td>\n",
       "      <td>2.0</td>\n",
       "      <td>2.0</td>\n",
       "      <td>59.0</td>\n",
       "      <td>1.0</td>\n",
       "    </tr>\n",
       "    <tr>\n",
       "      <th>2</th>\n",
       "      <td>CH</td>\n",
       "      <td>26.0</td>\n",
       "      <td>6</td>\n",
       "      <td>1.0</td>\n",
       "      <td>8.0</td>\n",
       "      <td>8.0</td>\n",
       "      <td>8.0</td>\n",
       "      <td>7.0</td>\n",
       "      <td>6.0</td>\n",
       "      <td>3.0</td>\n",
       "      <td>1.0</td>\n",
       "      <td>24.0</td>\n",
       "      <td>2.0</td>\n",
       "    </tr>\n",
       "    <tr>\n",
       "      <th>3</th>\n",
       "      <td>CH</td>\n",
       "      <td>28.0</td>\n",
       "      <td>6</td>\n",
       "      <td>4.0</td>\n",
       "      <td>6.0</td>\n",
       "      <td>6.0</td>\n",
       "      <td>7.0</td>\n",
       "      <td>10.0</td>\n",
       "      <td>6.0</td>\n",
       "      <td>2.0</td>\n",
       "      <td>2.0</td>\n",
       "      <td>64.0</td>\n",
       "      <td>1.0</td>\n",
       "    </tr>\n",
       "    <tr>\n",
       "      <th>4</th>\n",
       "      <td>CH</td>\n",
       "      <td>29.0</td>\n",
       "      <td>6</td>\n",
       "      <td>5.0</td>\n",
       "      <td>6.0</td>\n",
       "      <td>7.0</td>\n",
       "      <td>5.0</td>\n",
       "      <td>8.0</td>\n",
       "      <td>7.0</td>\n",
       "      <td>2.0</td>\n",
       "      <td>2.0</td>\n",
       "      <td>55.0</td>\n",
       "      <td>1.0</td>\n",
       "    </tr>\n",
       "  </tbody>\n",
       "</table>\n",
       "</div>"
      ],
      "text/plain": [
       "  cntry  idno  year  tvtot  ppltrst  pplfair  pplhlp  happy  sclmeet  sclact  \\\n",
       "0    CH   5.0     6    3.0      3.0     10.0     5.0    8.0      5.0     4.0   \n",
       "1    CH  25.0     6    6.0      5.0      7.0     5.0    9.0      3.0     2.0   \n",
       "2    CH  26.0     6    1.0      8.0      8.0     8.0    7.0      6.0     3.0   \n",
       "3    CH  28.0     6    4.0      6.0      6.0     7.0   10.0      6.0     2.0   \n",
       "4    CH  29.0     6    5.0      6.0      7.0     5.0    8.0      7.0     2.0   \n",
       "\n",
       "   gndr  agea  partner  \n",
       "0   2.0  60.0      1.0  \n",
       "1   2.0  59.0      1.0  \n",
       "2   1.0  24.0      2.0  \n",
       "3   2.0  64.0      1.0  \n",
       "4   2.0  55.0      1.0  "
      ]
     },
     "execution_count": 2,
     "metadata": {},
     "output_type": "execute_result"
    }
   ],
   "source": [
    "# Load in data\n",
    "df_raw = pd.read_csv('https://raw.githubusercontent.com/Thinkful-Ed/data-201-resources/master/ESS_practice_data/ESSdata_Thinkful.csv')\n",
    "df_raw.head()"
   ]
  },
  {
   "cell_type": "markdown",
   "metadata": {},
   "source": [
    "### Variable Description \n",
    "\n",
    "* __cntry__: Country \n",
    "* __year__: ESS round (6: 2012, 7: 2014)\n",
    "* __idno__: Respondent's identification number \n",
    "* __tvtot__: TV watching, total time on average weekday \n",
    "    - 0: no time to 7: more than 3 hr\n",
    "* __ppltrst__: Most people can be trusted or you can't be too careful \n",
    "    - 0: you can't be too careful to 10: most people can be trusted\n",
    "* __pplfair__: Most people try to take advantage of you, or try to be fair \n",
    "    - 0: most people try to take advantage of me to 10: most people try to be fair\n",
    "* __pplhlp__: Most of the time people helpful or mostly looking out for themselves \n",
    "    - 0: people mostly look out for themselves to 10: people mostly try to be helpful\n",
    "* __happy__: How happy are you \n",
    "    - 0: extremely unhappy to 10: extremely happy\n",
    "* __sclmeet__: How often socially meet with friends, relatives or colleagues \n",
    "    - 1: never to 7: everyday\n",
    "* __sclact__: Take part in social activities compared to others of same age \n",
    "    - 1: much less than most to 5: much more than most\n",
    "* __gndr__: Gender (1: male or 2: female)\n",
    "* __agea__: Age of respondent, calculated \n",
    "* __partner__: Lives with partner at household grid \n",
    "    - 1: lives with or 2: does not"
   ]
  },
  {
   "cell_type": "code",
   "execution_count": 3,
   "metadata": {},
   "outputs": [
    {
     "data": {
      "text/plain": [
       "(8594, 13)"
      ]
     },
     "execution_count": 3,
     "metadata": {},
     "output_type": "execute_result"
    }
   ],
   "source": [
    "df_raw.shape"
   ]
  },
  {
   "cell_type": "code",
   "execution_count": 4,
   "metadata": {},
   "outputs": [
    {
     "name": "stdout",
     "output_type": "stream",
     "text": [
      "<class 'pandas.core.frame.DataFrame'>\n",
      "RangeIndex: 8594 entries, 0 to 8593\n",
      "Data columns (total 13 columns):\n",
      "cntry      8594 non-null object\n",
      "idno       8594 non-null float64\n",
      "year       8594 non-null int64\n",
      "tvtot      8586 non-null float64\n",
      "ppltrst    8580 non-null float64\n",
      "pplfair    8555 non-null float64\n",
      "pplhlp     8569 non-null float64\n",
      "happy      8563 non-null float64\n",
      "sclmeet    8579 non-null float64\n",
      "sclact     8500 non-null float64\n",
      "gndr       8584 non-null float64\n",
      "agea       8355 non-null float64\n",
      "partner    8577 non-null float64\n",
      "dtypes: float64(11), int64(1), object(1)\n",
      "memory usage: 873.0+ KB\n"
     ]
    }
   ],
   "source": [
    "df_raw.info()"
   ]
  },
  {
   "cell_type": "code",
   "execution_count": 5,
   "metadata": {},
   "outputs": [],
   "source": [
    "df = df_raw.dropna()"
   ]
  },
  {
   "cell_type": "code",
   "execution_count": 6,
   "metadata": {},
   "outputs": [
    {
     "data": {
      "text/plain": [
       "(8147, 13)"
      ]
     },
     "execution_count": 6,
     "metadata": {},
     "output_type": "execute_result"
    }
   ],
   "source": [
    "df.shape"
   ]
  },
  {
   "cell_type": "markdown",
   "metadata": {},
   "source": [
    "Looks like we lost about 400 rows after dropping missing values. "
   ]
  },
  {
   "cell_type": "markdown",
   "metadata": {},
   "source": [
    "### 1. Did people become less trusting from 2012 to 2014? Compute results for each country in the sample.\n",
    "\n",
    "Before we select which distribution comparision test to use, we will take a look at the distribution of the countries by plotting histograms of trust for each country. "
   ]
  },
  {
   "cell_type": "code",
   "execution_count": 7,
   "metadata": {},
   "outputs": [
    {
     "data": {
      "text/plain": [
       "ES    2292\n",
       "SE    1726\n",
       "CH    1475\n",
       "NO    1420\n",
       "CZ    1207\n",
       "DE      27\n",
       "Name: cntry, dtype: int64"
      ]
     },
     "execution_count": 7,
     "metadata": {},
     "output_type": "execute_result"
    }
   ],
   "source": [
    "# Sample size for each country \n",
    "df['cntry'].value_counts()"
   ]
  },
  {
   "cell_type": "code",
   "execution_count": 8,
   "metadata": {},
   "outputs": [
    {
     "name": "stdout",
     "output_type": "stream",
     "text": [
      "Distribution of Trust of European Countries in 2012 and 2014\n"
     ]
    },
    {
     "data": {
      "image/png": "[encoded data removed]",
      "text/plain": [
       "<Figure size 1296x432 with 12 Axes>"
      ]
     },
     "metadata": {
      "needs_background": "light"
     },
     "output_type": "display_data"
    }
   ],
   "source": [
    "# Plot histogram for trust of each country per year \n",
    "g = sns.FacetGrid(df, row='year', col='cntry')\n",
    "g = g.map(plt.hist, 'ppltrst', alpha=0.8)\n",
    "print('Distribution of Trust of European Countries in 2012 and 2014')\n",
    "plt.show()"
   ]
  },
  {
   "cell_type": "markdown",
   "metadata": {},
   "source": [
    "Most of the histograms do not look normally distributed. So we'll use a non-parametric test, such as Wilcoxon sign-rank to determine if there are diffrences between responses from 2012 to 2014"
   ]
  },
  {
   "cell_type": "code",
   "execution_count": 9,
   "metadata": {},
   "outputs": [
    {
     "name": "stdout",
     "output_type": "stream",
     "text": [
      "Wilcoxon Signed-Rank Test\n",
      "CH WilcoxonResult(statistic=106278.5, pvalue=0.4411286510952477)\n",
      "CZ WilcoxonResult(statistic=82837.0, pvalue=0.2931891426327379)\n",
      "DE WilcoxonResult(statistic=44.0, pvalue=0.9157134600899863)\n",
      "ES WilcoxonResult(statistic=243475.5, pvalue=0.005570829650439684)\n",
      "NO WilcoxonResult(statistic=85392.0, pvalue=0.6139175669970661)\n",
      "SE WilcoxonResult(statistic=130719.5, pvalue=0.028545290985536906)\n"
     ]
    },
    {
     "name": "stderr",
     "output_type": "stream",
     "text": [
      "/Users/tsawaengsri/anaconda3/lib/python3.6/site-packages/scipy/stats/morestats.py:2391: RuntimeWarning: invalid value encountered in greater\n",
      "  r_plus = np.sum((d > 0) * r, axis=0)\n",
      "/Users/tsawaengsri/anaconda3/lib/python3.6/site-packages/scipy/stats/morestats.py:2392: RuntimeWarning: invalid value encountered in less\n",
      "  r_minus = np.sum((d < 0) * r, axis=0)\n"
     ]
    }
   ],
   "source": [
    "# Wilcoxon Signed Rank Test for each country\n",
    "cntrys = ['CH', 'CZ', 'DE', 'ES', 'NO', 'SE']\n",
    "\n",
    "# Had to use raw df because sample sizes were not equal\n",
    "print('Wilcoxon Signed-Rank Test')\n",
    "for cnt in cntrys:\n",
    "    # Isolating data from each country\n",
    "    country = df_raw[df_raw.cntry ==cnt]\n",
    "    # Printing Wilcoxon test results\n",
    "    print(cnt, wilcoxon(country[country.year == 6].ppltrst, \n",
    "                        y=country[country.year == 7].ppltrst))"
   ]
  },
  {
   "cell_type": "markdown",
   "metadata": {},
   "source": [
    "From the Wilcoxon sign-rank test, Estonia and Sweden returned signficant p-values. Estonians has become more trusting since 2012 while Swedes have become less trusting. "
   ]
  },
  {
   "cell_type": "markdown",
   "metadata": {},
   "source": [
    "### 2. Did people become happier from 2012 to 2014? Compute results for each country in the sample."
   ]
  },
  {
   "cell_type": "code",
   "execution_count": 11,
   "metadata": {},
   "outputs": [
    {
     "name": "stdout",
     "output_type": "stream",
     "text": [
      "Distribution of Happiness of European Countries in 2012 and 2014\n"
     ]
    },
    {
     "data": {
      "image/png": "[encoded data removed]",
      "text/plain": [
       "<Figure size 1296x432 with 12 Axes>"
      ]
     },
     "metadata": {
      "needs_background": "light"
     },
     "output_type": "display_data"
    }
   ],
   "source": [
    "# Plot histogram for trust of each country per year \n",
    "g = sns.FacetGrid(df_raw, row='year', col='cntry')\n",
    "g = g.map(plt.hist, 'happy', alpha=0.8)\n",
    "print('Distribution of Happiness of European Countries in 2012 and 2014')\n",
    "plt.show()"
   ]
  },
  {
   "cell_type": "markdown",
   "metadata": {},
   "source": [
    "At a glance, the distributions are left skewed. We'll continue with the Wilcoxon sign-rank test to see if there has been a change in happiness from 2012 to 2014."
   ]
  },
  {
   "cell_type": "code",
   "execution_count": 12,
   "metadata": {},
   "outputs": [
    {
     "name": "stdout",
     "output_type": "stream",
     "text": [
      "Wilcoxon Signed-Rank Test\n",
      "CH WilcoxonResult(statistic=92816.5, pvalue=0.8208688161425343)\n",
      "CZ WilcoxonResult(statistic=73213.0, pvalue=0.01064243454053068)\n",
      "DE WilcoxonResult(statistic=23.5, pvalue=0.393351316918508)\n",
      "ES WilcoxonResult(statistic=231958.5, pvalue=0.04923868084306013)\n",
      "NO WilcoxonResult(statistic=67571.5, pvalue=2.7264367804254175e-06)\n",
      "SE WilcoxonResult(statistic=125481.0, pvalue=0.5136403441005022)\n"
     ]
    }
   ],
   "source": [
    "# Wilcoxon Signed Rank Test for each country\n",
    "cntrys = ['CH', 'CZ', 'DE', 'ES', 'NO', 'SE']\n",
    "\n",
    "# Had to use raw df because sample sizes were not equal\n",
    "print('Wilcoxon Signed-Rank Test')\n",
    "for cnt in cntrys:\n",
    "    # Isolating data from each country\n",
    "    country = df_raw[df_raw.cntry ==cnt]\n",
    "    # Printing Wilcoxon test results\n",
    "    print(cnt, wilcoxon(country[country.year == 6].happy, \n",
    "                        y=country[country.year == 7].happy))"
   ]
  },
  {
   "cell_type": "code",
   "execution_count": 34,
   "metadata": {},
   "outputs": [],
   "source": [
    "# df ES\n",
    "df_ES = df_raw[df_raw['cntry']=='ES']"
   ]
  },
  {
   "cell_type": "code",
   "execution_count": 35,
   "metadata": {},
   "outputs": [],
   "source": [
    "# df ES\n",
    "df_NO = df_raw[df_raw['cntry']=='NO']"
   ]
  },
  {
   "cell_type": "code",
   "execution_count": 36,
   "metadata": {},
   "outputs": [
    {
     "name": "stdout",
     "output_type": "stream",
     "text": [
      "Median Happiness for ES in 2012: 8.0\n",
      "Median Happiness for ES in 2014: 8.0\n"
     ]
    }
   ],
   "source": [
    "print('Median Happiness for ES in 2012:', df_ES[df_ES.year == 6].happy.median())\n",
    "print('Median Happiness for ES in 2014:', df_ES[df_ES.year == 7].happy.median())"
   ]
  },
  {
   "cell_type": "code",
   "execution_count": 38,
   "metadata": {},
   "outputs": [
    {
     "name": "stdout",
     "output_type": "stream",
     "text": [
      "Median Happiness for NO in 2012: 8.0\n",
      "Median Happiness for NO in 2014: 8.0\n"
     ]
    }
   ],
   "source": [
    "print('Median Happiness for NO in 2012:', df_NO[df_NO.year == 6].happy.median())\n",
    "print('Median Happiness for NO in 2014:', df_NO[df_NO.year == 7].happy.median())"
   ]
  },
  {
   "cell_type": "markdown",
   "metadata": {},
   "source": [
    "Based on the test, Czech Republic and Norway returned signficant values. However, when comparing the median happiness between 2012 and 2014, happiness ratings did not change. "
   ]
  },
  {
   "cell_type": "markdown",
   "metadata": {},
   "source": [
    "### 3. Who reported watching more TV in 2012, men or women?"
   ]
  },
  {
   "cell_type": "code",
   "execution_count": 20,
   "metadata": {},
   "outputs": [],
   "source": [
    "# df for 2012 \n",
    "df_12 = df_raw[df_raw['year']==6]"
   ]
  },
  {
   "cell_type": "code",
   "execution_count": 21,
   "metadata": {},
   "outputs": [
    {
     "data": {
      "text/html": [
       "<div>\n",
       "<style scoped>\n",
       "    .dataframe tbody tr th:only-of-type {\n",
       "        vertical-align: middle;\n",
       "    }\n",
       "\n",
       "    .dataframe tbody tr th {\n",
       "        vertical-align: top;\n",
       "    }\n",
       "\n",
       "    .dataframe thead th {\n",
       "        text-align: right;\n",
       "    }\n",
       "</style>\n",
       "<table border=\"1\" class=\"dataframe\">\n",
       "  <thead>\n",
       "    <tr style=\"text-align: right;\">\n",
       "      <th></th>\n",
       "      <th>cntry</th>\n",
       "      <th>idno</th>\n",
       "      <th>year</th>\n",
       "      <th>tvtot</th>\n",
       "      <th>ppltrst</th>\n",
       "      <th>pplfair</th>\n",
       "      <th>pplhlp</th>\n",
       "      <th>happy</th>\n",
       "      <th>sclmeet</th>\n",
       "      <th>sclact</th>\n",
       "      <th>gndr</th>\n",
       "      <th>agea</th>\n",
       "      <th>partner</th>\n",
       "    </tr>\n",
       "  </thead>\n",
       "  <tbody>\n",
       "    <tr>\n",
       "      <th>0</th>\n",
       "      <td>CH</td>\n",
       "      <td>5.0</td>\n",
       "      <td>6</td>\n",
       "      <td>3.0</td>\n",
       "      <td>3.0</td>\n",
       "      <td>10.0</td>\n",
       "      <td>5.0</td>\n",
       "      <td>8.0</td>\n",
       "      <td>5.0</td>\n",
       "      <td>4.0</td>\n",
       "      <td>2.0</td>\n",
       "      <td>60.0</td>\n",
       "      <td>1.0</td>\n",
       "    </tr>\n",
       "    <tr>\n",
       "      <th>1</th>\n",
       "      <td>CH</td>\n",
       "      <td>25.0</td>\n",
       "      <td>6</td>\n",
       "      <td>6.0</td>\n",
       "      <td>5.0</td>\n",
       "      <td>7.0</td>\n",
       "      <td>5.0</td>\n",
       "      <td>9.0</td>\n",
       "      <td>3.0</td>\n",
       "      <td>2.0</td>\n",
       "      <td>2.0</td>\n",
       "      <td>59.0</td>\n",
       "      <td>1.0</td>\n",
       "    </tr>\n",
       "    <tr>\n",
       "      <th>2</th>\n",
       "      <td>CH</td>\n",
       "      <td>26.0</td>\n",
       "      <td>6</td>\n",
       "      <td>1.0</td>\n",
       "      <td>8.0</td>\n",
       "      <td>8.0</td>\n",
       "      <td>8.0</td>\n",
       "      <td>7.0</td>\n",
       "      <td>6.0</td>\n",
       "      <td>3.0</td>\n",
       "      <td>1.0</td>\n",
       "      <td>24.0</td>\n",
       "      <td>2.0</td>\n",
       "    </tr>\n",
       "    <tr>\n",
       "      <th>3</th>\n",
       "      <td>CH</td>\n",
       "      <td>28.0</td>\n",
       "      <td>6</td>\n",
       "      <td>4.0</td>\n",
       "      <td>6.0</td>\n",
       "      <td>6.0</td>\n",
       "      <td>7.0</td>\n",
       "      <td>10.0</td>\n",
       "      <td>6.0</td>\n",
       "      <td>2.0</td>\n",
       "      <td>2.0</td>\n",
       "      <td>64.0</td>\n",
       "      <td>1.0</td>\n",
       "    </tr>\n",
       "    <tr>\n",
       "      <th>4</th>\n",
       "      <td>CH</td>\n",
       "      <td>29.0</td>\n",
       "      <td>6</td>\n",
       "      <td>5.0</td>\n",
       "      <td>6.0</td>\n",
       "      <td>7.0</td>\n",
       "      <td>5.0</td>\n",
       "      <td>8.0</td>\n",
       "      <td>7.0</td>\n",
       "      <td>2.0</td>\n",
       "      <td>2.0</td>\n",
       "      <td>55.0</td>\n",
       "      <td>1.0</td>\n",
       "    </tr>\n",
       "  </tbody>\n",
       "</table>\n",
       "</div>"
      ],
      "text/plain": [
       "  cntry  idno  year  tvtot  ppltrst  pplfair  pplhlp  happy  sclmeet  sclact  \\\n",
       "0    CH   5.0     6    3.0      3.0     10.0     5.0    8.0      5.0     4.0   \n",
       "1    CH  25.0     6    6.0      5.0      7.0     5.0    9.0      3.0     2.0   \n",
       "2    CH  26.0     6    1.0      8.0      8.0     8.0    7.0      6.0     3.0   \n",
       "3    CH  28.0     6    4.0      6.0      6.0     7.0   10.0      6.0     2.0   \n",
       "4    CH  29.0     6    5.0      6.0      7.0     5.0    8.0      7.0     2.0   \n",
       "\n",
       "   gndr  agea  partner  \n",
       "0   2.0  60.0      1.0  \n",
       "1   2.0  59.0      1.0  \n",
       "2   1.0  24.0      2.0  \n",
       "3   2.0  64.0      1.0  \n",
       "4   2.0  55.0      1.0  "
      ]
     },
     "execution_count": 21,
     "metadata": {},
     "output_type": "execute_result"
    }
   ],
   "source": [
    "df_12.head()"
   ]
  },
  {
   "cell_type": "code",
   "execution_count": 22,
   "metadata": {},
   "outputs": [
    {
     "data": {
      "text/plain": [
       "1.0    2154\n",
       "2.0    2143\n",
       "Name: gndr, dtype: int64"
      ]
     },
     "execution_count": 22,
     "metadata": {},
     "output_type": "execute_result"
    }
   ],
   "source": [
    "# Check sample size of each gender\n",
    "df_12.gndr.value_counts()"
   ]
  },
  {
   "cell_type": "code",
   "execution_count": 23,
   "metadata": {},
   "outputs": [
    {
     "name": "stdout",
     "output_type": "stream",
     "text": [
      "Distribution of Total TV Watching in 2012 by Gender\n"
     ]
    },
    {
     "data": {
      "image/png": "[encoded data removed]",
      "text/plain": [
       "<Figure size 432x216 with 2 Axes>"
      ]
     },
     "metadata": {
      "needs_background": "light"
     },
     "output_type": "display_data"
    }
   ],
   "source": [
    "# Plot histogram for gender of each country in 2012 \n",
    "g = sns.FacetGrid(df_12,col='gndr')\n",
    "g = g.map(plt.hist, 'tvtot', alpha=0.8)\n",
    "print('Distribution of Total TV Watching in 2012 by Gender')\n",
    "plt.show()"
   ]
  },
  {
   "cell_type": "markdown",
   "metadata": {},
   "source": [
    "This looks like a non-normal distribution. "
   ]
  },
  {
   "cell_type": "code",
   "execution_count": 25,
   "metadata": {},
   "outputs": [
    {
     "name": "stdout",
     "output_type": "stream",
     "text": [
      "Wilcoxon Test: WilcoxonResult(statistic=782530.0, pvalue=0.5033507782372963)\n"
     ]
    }
   ],
   "source": [
    "# Wilcoxon Signed Rank Test\n",
    "print('Wilcoxon Test:', wilcoxon(df_12[df_12.gndr == 1].tvtot.dropna()[:2140], \n",
    "                                 y=df_12[df_12.gndr == 2].tvtot.dropna()))"
   ]
  },
  {
   "cell_type": "markdown",
   "metadata": {},
   "source": [
    "There is not a statistical significance between viewership of gender."
   ]
  },
  {
   "cell_type": "markdown",
   "metadata": {},
   "source": [
    "### 4. Who was more likely to believe people were fair in 2012, people living with a partner or people living alone?"
   ]
  },
  {
   "cell_type": "code",
   "execution_count": 26,
   "metadata": {},
   "outputs": [
    {
     "name": "stdout",
     "output_type": "stream",
     "text": [
      "Distribution of Fairness in 2012 for People who Live with and without a Partner\n"
     ]
    },
    {
     "data": {
      "image/png": "[encoded data removed]",
      "text/plain": [
       "<Figure size 432x216 with 2 Axes>"
      ]
     },
     "metadata": {
      "needs_background": "light"
     },
     "output_type": "display_data"
    }
   ],
   "source": [
    "# Plot histogram for partner of each country in 2012 \n",
    "g = sns.FacetGrid(df_12,col='partner')\n",
    "g = g.map(plt.hist, 'pplfair', alpha=0.8)\n",
    "print('Distribution of Fairness in 2012 for People who Live with and without a Partner')\n",
    "plt.show()"
   ]
  },
  {
   "cell_type": "code",
   "execution_count": 27,
   "metadata": {},
   "outputs": [
    {
     "data": {
      "text/plain": [
       "1.0    2674\n",
       "2.0    1616\n",
       "Name: partner, dtype: int64"
      ]
     },
     "execution_count": 27,
     "metadata": {},
     "output_type": "execute_result"
    }
   ],
   "source": [
    "# Check sample size of partner\n",
    "df_12.partner.value_counts()"
   ]
  },
  {
   "cell_type": "markdown",
   "metadata": {},
   "source": [
    "The histograms look slightly left skewed. "
   ]
  },
  {
   "cell_type": "code",
   "execution_count": 29,
   "metadata": {},
   "outputs": [
    {
     "name": "stdout",
     "output_type": "stream",
     "text": [
      "Wilcoxon Test: WilcoxonResult(statistic=426739.0, pvalue=0.004340158276254172)\n"
     ]
    }
   ],
   "source": [
    "# Wilcoxon Signed Rank Test\n",
    "print('Wilcoxon Test:', wilcoxon(df_12[df_12.partner == 1].pplfair.dropna()[:1608], \n",
    "                                 y=df_12[df_12.partner == 2].pplfair.dropna()))"
   ]
  },
  {
   "cell_type": "code",
   "execution_count": 30,
   "metadata": {},
   "outputs": [
    {
     "name": "stdout",
     "output_type": "stream",
     "text": [
      "Median Fairness for People living with Partners: 7.0\n",
      "Median Fairness for People living Alone: 6.0\n"
     ]
    }
   ],
   "source": [
    "print('Median Fairness for People living with Partners:', df_12[df_12.partner == 1].pplfair.median())\n",
    "print('Median Fairness for People living Alone:', df_12[df_12.partner == 2].pplfair.median())"
   ]
  },
  {
   "cell_type": "markdown",
   "metadata": {},
   "source": [
    "There was statistical significance between single people and couples in their perception of fairness. Couples were more likely to believe people were fair than single people."
   ]
  },
  {
   "cell_type": "markdown",
   "metadata": {},
   "source": [
    "### 5. Pick three or four of the countries in the sample and compare how often people met socially in 2014. Are there differences, and if so, which countries stand out?"
   ]
  },
  {
   "cell_type": "code",
   "execution_count": 39,
   "metadata": {},
   "outputs": [],
   "source": [
    "# Select countries in 2014\n",
    "cntry_list = ['CH', 'CZ', 'DE', 'ES']\n",
    "df_cntry = df_raw[(df_raw.cntry.isin(cntry_list)) & (df_raw.year == 7)]"
   ]
  },
  {
   "cell_type": "code",
   "execution_count": 40,
   "metadata": {},
   "outputs": [
    {
     "name": "stdout",
     "output_type": "stream",
     "text": [
      "Distribution of Social Meetings in 2014 for Four European Countries\n"
     ]
    },
    {
     "data": {
      "image/png": "[encoded data removed]",
      "text/plain": [
       "<Figure size 864x216 with 4 Axes>"
      ]
     },
     "metadata": {
      "needs_background": "light"
     },
     "output_type": "display_data"
    }
   ],
   "source": [
    "# Plot histogram for social meetings of each country per year \n",
    "g = sns.FacetGrid(df_cntry, col='cntry')\n",
    "g = g.map(plt.hist, 'sclmeet', alpha=0.8)\n",
    "print('Distribution of Social Meetings in 2014 for Four European Countries')\n",
    "plt.show()"
   ]
  },
  {
   "cell_type": "markdown",
   "metadata": {},
   "source": [
    "The distributions look slightly skewed. We'll use the Kruskal-Wallis test since there are multiple independent groups."
   ]
  },
  {
   "cell_type": "code",
   "execution_count": 41,
   "metadata": {},
   "outputs": [
    {
     "name": "stdout",
     "output_type": "stream",
     "text": [
      "KruskalResult(statistic=155.8701404987426, pvalue=1.426627190041968e-33)\n"
     ]
    }
   ],
   "source": [
    "# Printing Kruskal test statistic\n",
    "print(kruskal(df_cntry[df_cntry.cntry == 'CH'].sclmeet.dropna(),\n",
    "             df_cntry[df_cntry.cntry == 'CZ'].sclmeet.dropna(),\n",
    "             df_cntry[df_cntry.cntry == 'DE'].sclmeet.dropna(),\n",
    "             df_cntry[df_cntry.cntry == 'ES'].sclmeet.dropna()))"
   ]
  },
  {
   "cell_type": "markdown",
   "metadata": {},
   "source": [
    "There does appear to be statistical significance in social meetings between the four countries. "
   ]
  },
  {
   "cell_type": "code",
   "execution_count": 43,
   "metadata": {},
   "outputs": [
    {
     "name": "stdout",
     "output_type": "stream",
     "text": [
      "CH vs CZ: MannwhitneyuResult(statistic=181893.5, pvalue=3.373385591211263e-21)\n",
      "CH vs DE: MannwhitneyuResult(statistic=3287.5, pvalue=0.004537539213790559)\n",
      "CH vs ES: MannwhitneyuResult(statistic=733260.5, pvalue=0.49998808761169455)\n",
      "CZ vs DE: MannwhitneyuResult(statistic=4480.0, pvalue=0.440641245267596)\n",
      "CZ vs ES: MannwhitneyuResult(statistic=268492.5, pvalue=2.497922348575065e-32)\n",
      "DE vs ES: MannwhitneyuResult(statistic=4744.5, pvalue=0.0017891971125532805)\n"
     ]
    }
   ],
   "source": [
    "# Printing all combinations of tests\n",
    "print('CH vs CZ:', mannwhitneyu(df_cntry[df_cntry.cntry == 'CH'].sclmeet.dropna(),\n",
    "             df_cntry[df_cntry.cntry == 'CZ'].sclmeet.dropna()))\n",
    "print('CH vs DE:', mannwhitneyu(df_cntry[df_cntry.cntry == 'CH'].sclmeet.dropna(),\n",
    "             df_cntry[df_cntry.cntry == 'DE'].sclmeet.dropna()))\n",
    "print('CH vs ES:', mannwhitneyu(df_cntry[df_cntry.cntry == 'ES'].sclmeet.dropna(),\n",
    "             df_cntry[df_cntry.cntry == 'ES'].sclmeet.dropna()))\n",
    "print('CZ vs DE:', mannwhitneyu(df_cntry[df_cntry.cntry == 'CZ'].sclmeet.dropna(),\n",
    "             df_cntry[df_cntry.cntry == 'DE'].sclmeet.dropna()))\n",
    "print('CZ vs ES:', mannwhitneyu(df_cntry[df_cntry.cntry == 'CZ'].sclmeet.dropna(),\n",
    "             df_cntry[df_cntry.cntry == 'ES'].sclmeet.dropna()))\n",
    "print('DE vs ES:', mannwhitneyu(df_cntry[df_cntry.cntry == 'DE'].sclmeet.dropna(),\n",
    "             df_cntry[df_cntry.cntry == 'ES'].sclmeet.dropna()))"
   ]
  },
  {
   "cell_type": "markdown",
   "metadata": {},
   "source": [
    "There was statistical significance in soical meetings between the following countries: \n",
    "* Switzerland vs Denmark\n",
    "* Czech Republic vs Estonia\n",
    "* Denmark vs Estonia\n",
    "\n",
    "The Czech Republic and Estonia stands out the most with having the most signficance difference. "
   ]
  },
  {
   "cell_type": "markdown",
   "metadata": {},
   "source": [
    "### 6. Pick three or four of the countries in the sample and compare how often people took part in social activities, relative to others their age, in 2014. Are there differences, and if so, which countries stand out?"
   ]
  },
  {
   "cell_type": "code",
   "execution_count": 44,
   "metadata": {},
   "outputs": [
    {
     "name": "stdout",
     "output_type": "stream",
     "text": [
      "Distribution of Social Activities in 2014 for Four European Countries\n"
     ]
    },
    {
     "data": {
      "image/png": "[encoded data removed]",
      "text/plain": [
       "<Figure size 864x216 with 4 Axes>"
      ]
     },
     "metadata": {
      "needs_background": "light"
     },
     "output_type": "display_data"
    }
   ],
   "source": [
    "# Plot histogram for social meetings of each country per year \n",
    "g = sns.FacetGrid(df_cntry, col='cntry')\n",
    "g = g.map(plt.hist, 'sclact', alpha=0.8)\n",
    "print('Distribution of Social Activities in 2014 for Four European Countries')\n",
    "plt.show()"
   ]
  },
  {
   "cell_type": "markdown",
   "metadata": {},
   "source": [
    "These distributions are slight non-normal so I will continue with Mann-whitney test."
   ]
  },
  {
   "cell_type": "code",
   "execution_count": 45,
   "metadata": {},
   "outputs": [
    {
     "name": "stdout",
     "output_type": "stream",
     "text": [
      "CH vs CZ: MannwhitneyuResult(statistic=240920.5, pvalue=0.13888167266065093)\n",
      "CH vs DE: MannwhitneyuResult(statistic=5241.5, pvalue=0.44256932185886466)\n",
      "CH vs ES: MannwhitneyuResult(statistic=702112.5, pvalue=0.4999873206108174)\n",
      "CZ vs DE: MannwhitneyuResult(statistic=4508.5, pvalue=0.4746220491255344)\n",
      "CZ vs ES: MannwhitneyuResult(statistic=361555.0, pvalue=0.010061799842787184)\n",
      "DE vs ES: MannwhitneyuResult(statistic=7669.0, pvalue=0.30344836893147775)\n"
     ]
    }
   ],
   "source": [
    "# Printing all combinations of tests\n",
    "print('CH vs CZ:', mannwhitneyu(df_cntry[df_cntry.cntry == 'CH'].sclact.dropna(),\n",
    "             df_cntry[df_cntry.cntry == 'CZ'].sclact.dropna()))\n",
    "print('CH vs DE:', mannwhitneyu(df_cntry[df_cntry.cntry == 'CH'].sclact.dropna(),\n",
    "             df_cntry[df_cntry.cntry == 'DE'].sclact.dropna()))\n",
    "print('CH vs ES:', mannwhitneyu(df_cntry[df_cntry.cntry == 'ES'].sclact.dropna(),\n",
    "             df_cntry[df_cntry.cntry == 'ES'].sclact.dropna()))\n",
    "print('CZ vs DE:', mannwhitneyu(df_cntry[df_cntry.cntry == 'CZ'].sclact.dropna(),\n",
    "             df_cntry[df_cntry.cntry == 'DE'].sclact.dropna()))\n",
    "print('CZ vs ES:', mannwhitneyu(df_cntry[df_cntry.cntry == 'CZ'].sclact.dropna(),\n",
    "             df_cntry[df_cntry.cntry == 'ES'].sclact.dropna()))\n",
    "print('DE vs ES:', mannwhitneyu(df_cntry[df_cntry.cntry == 'DE'].sclact.dropna(),\n",
    "             df_cntry[df_cntry.cntry == 'ES'].sclact.dropna()))"
   ]
  },
  {
   "cell_type": "markdown",
   "metadata": {},
   "source": [
    "There was only statistical significance in soical activties between Czech Republic and Estonia."
   ]
  }
 ],
 "metadata": {
  "kernelspec": {
   "display_name": "Python 3",
   "language": "python",
   "name": "python3"
  },
  "language_info": {
   "codemirror_mode": {
    "name": "ipython",
    "version": 3
   },
   "file_extension": ".py",
   "mimetype": "text/x-python",
   "name": "python",
   "nbconvert_exporter": "python",
   "pygments_lexer": "ipython3",
   "version": "3.6.8"
  }
 },
 "nbformat": 4,
 "nbformat_minor": 2
}
