{
 "cells": [
  {
   "cell_type": "markdown",
   "metadata": {},
   "source": [
    "# Assignment\n",
    "\n",
    "For each of the following situations, decide if you would model using a regression or classification model. "
   ]
  },
  {
   "cell_type": "markdown",
   "metadata": {},
   "source": [
    "#### 1. The amount a person will spend on a given site in the next 24 months.\n",
    "Since the outcome variable is continous, a regression model would be able to output an unbounded number line for the varing length of time a person would spend on a given site. \n"
   ]
  },
  {
   "cell_type": "markdown",
   "metadata": {},
   "source": [
    "#### 2. What color car someone is going to buy.\n",
    "\n",
    "A classification model would be suitable for predicting which color car would be selected since color can be categorized. "
   ]
  },
  {
   "cell_type": "markdown",
   "metadata": {},
   "source": [
    "#### 3. How many children a family will have.\n",
    "Both regression or classification models could be used to estimate how many children a family will have. Having children can be considered a continous variable which would make a regression model suitable. In a classification model, the amount of children could be split into groups such as 0, 1, 2, 3 or more children. "
   ]
  },
  {
   "cell_type": "markdown",
   "metadata": {},
   "source": [
    "#### 4. If someone will sign up for a service.\n",
    "A classification model could output sign up or not sign up. "
   ]
  },
  {
   "cell_type": "markdown",
   "metadata": {},
   "source": [
    "#### 5. The number of times someone will get sick in a year.\n",
    "If the numbers of time someone got sick was split into groups such as once, twice, or more per year, then a classification model would be suitable. A regression model could also be used by not limiting the amount of times a person can get sick in a year. "
   ]
  },
  {
   "cell_type": "markdown",
   "metadata": {},
   "source": [
    "#### 6. The probability someone will get sick in the next month.\n",
    "A regression model is able to give the average outcome of a variable. "
   ]
  },
  {
   "cell_type": "markdown",
   "metadata": {},
   "source": [
    "#### 7. Which medicine will work best for a given patient.\n",
    "A classification model would be able to categorize the outcome of each medicine as a group. "
   ]
  }
 ],
 "metadata": {
  "kernelspec": {
   "display_name": "Python 3",
   "language": "python",
   "name": "python3"
  },
  "language_info": {
   "codemirror_mode": {
    "name": "ipython",
    "version": 3
   },
   "file_extension": ".py",
   "mimetype": "text/x-python",
   "name": "python",
   "nbconvert_exporter": "python",
   "pygments_lexer": "ipython3",
   "version": "3.6.8"
  }
 },
 "nbformat": 4,
 "nbformat_minor": 2
}
